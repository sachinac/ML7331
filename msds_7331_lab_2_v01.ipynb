{
 "cells": [
  {
   "cell_type": "markdown",
   "metadata": {},
   "source": [
    "<font size=6> <b> SMU Lab Two - MSDS7331 - Machine Learning-1 </b> </font>\n",
    "\n",
    "<font size=5> <b> Summer 2020 Group - Sachin, Ikenna, Edgar, Dustin </b></font> \n",
    "\n",
    "\n",
    "\n",
    "\n",
    "<img src=\"https://github.com/sachinac/ML7331/blob/master/data/data_mining.jpg?raw=true\"> \n",
    "\n",
    "<p align=\"center\"><font size=5> <b> Health Care Fraud Detection  </b></font> </p>"
   ]
  },
  {
   "cell_type": "markdown",
   "metadata": {
    "toc": true
   },
   "source": [
    "<h1>Table of Contents<span class=\"tocSkip\"></span></h1>\n",
    "<div class=\"toc\"><ul class=\"toc-item\"><li><span><a href=\"#Import-Libraries\" data-toc-modified-id=\"Import-Libraries-1\">Import Libraries</a></span></li><li><span><a href=\"#Data-Preparation-Part-1\" data-toc-modified-id=\"Data-Preparation-Part-1-2\">Data Preparation Part 1</a></span><ul class=\"toc-item\"><li><span><a href=\"#Load-Data\" data-toc-modified-id=\"Load-Data-2.1\">Load Data</a></span></li><li><span><a href=\"#Categorical-Variables\" data-toc-modified-id=\"Categorical-Variables-2.2\">Categorical Variables</a></span></li><li><span><a href=\"#Float-Variables\" data-toc-modified-id=\"Float-Variables-2.3\">Float Variables</a></span></li><li><span><a href=\"#Integer-Variables\" data-toc-modified-id=\"Integer-Variables-2.4\">Integer Variables</a></span></li><li><span><a href=\"#Dates-Variables\" data-toc-modified-id=\"Dates-Variables-2.5\">Dates Variables</a></span></li><li><span><a href=\"#Recoding\" data-toc-modified-id=\"Recoding-2.6\">Recoding</a></span></li><li><span><a href=\"#Dataframe\" data-toc-modified-id=\"Dataframe-2.7\">Dataframe</a></span></li><li><span><a href=\"#All-Features\" data-toc-modified-id=\"All-Features-2.8\">All Features</a></span></li><li><span><a href=\"#Target-Variable\" data-toc-modified-id=\"Target-Variable-2.9\">Target Variable</a></span></li><li><span><a href=\"#One-Hot-Encoding-using-Pandas\" data-toc-modified-id=\"One-Hot-Encoding-using-Pandas-2.10\">One Hot Encoding using Pandas</a></span></li><li><span><a href=\"#Remove-None-columns\" data-toc-modified-id=\"Remove-None-columns-2.11\">Remove None columns</a></span></li><li><span><a href=\"#MinMaxScaler\" data-toc-modified-id=\"MinMaxScaler-2.12\">MinMaxScaler</a></span></li></ul></li><li><span><a href=\"#Data-Preparation-Part-2\" data-toc-modified-id=\"Data-Preparation-Part-2-3\">Data Preparation Part 2</a></span><ul class=\"toc-item\"><li><span><a href=\"#Final-DataSet\" data-toc-modified-id=\"Final-DataSet-3.1\">Final DataSet</a></span></li><li><span><a href=\"#Sparse-Matrix\" data-toc-modified-id=\"Sparse-Matrix-3.2\">Sparse Matrix</a></span></li><li><span><a href=\"#Train-and-Test-split\" data-toc-modified-id=\"Train-and-Test-split-3.3\">Train and Test split</a></span></li></ul></li><li><span><a href=\"#Modeling-and-Evaluations-1\" data-toc-modified-id=\"Modeling-and-Evaluations-1-4\">Modeling and Evaluations 1</a></span></li><li><span><a href=\"#Modeling-and-Evaluations-2\" data-toc-modified-id=\"Modeling-and-Evaluations-2-5\">Modeling and Evaluations 2</a></span></li><li><span><a href=\"#Modeling-and-Evaluations-3\" data-toc-modified-id=\"Modeling-and-Evaluations-3-6\">Modeling and Evaluations 3</a></span><ul class=\"toc-item\"><li><span><a href=\"#Create-Models\" data-toc-modified-id=\"Create-Models-6.1\">Create Models</a></span></li></ul></li><li><span><a href=\"#Modeling-and-Evaluations-4\" data-toc-modified-id=\"Modeling-and-Evaluations-4-7\">Modeling and Evaluations 4</a></span></li><li><span><a href=\"#Modeling-and-Evaluations-5\" data-toc-modified-id=\"Modeling-and-Evaluations-5-8\">Modeling and Evaluations 5</a></span></li><li><span><a href=\"#Modeling-and-Evaluations-6\" data-toc-modified-id=\"Modeling-and-Evaluations-6-9\">Modeling and Evaluations 6</a></span></li><li><span><a href=\"#Deployment\" data-toc-modified-id=\"Deployment-10\">Deployment</a></span></li><li><span><a href=\"#Exceptional-Work\" data-toc-modified-id=\"Exceptional-Work-11\">Exceptional Work</a></span></li><li><span><a href=\"#References\" data-toc-modified-id=\"References-12\">References</a></span></li></ul></div>"
   ]
  },
  {
   "cell_type": "markdown",
   "metadata": {},
   "source": [
    "# Import Libraries"
   ]
  },
  {
   "cell_type": "code",
   "execution_count": 82,
   "metadata": {
    "ExecuteTime": {
     "end_time": "2020-07-01T06:20:22.306706Z",
     "start_time": "2020-07-01T06:20:21.565885Z"
    }
   },
   "outputs": [],
   "source": [
    "import pandas as pd\n",
    "import numpy as np\n",
    "import seaborn as sns\n",
    "import matplotlib.pyplot as plt\n",
    "import datetime as dt\n",
    "import timeit\n",
    "\n",
    "from sklearn import metrics\n",
    "from sklearn.model_selection import cross_val_score, ShuffleSplit, train_test_split, GridSearchCV\n",
    "from sklearn.preprocessing import MinMaxScaler, MultiLabelBinarizer\n",
    "from sklearn.pipeline import make_pipeline\n",
    "from sklearn.linear_model import LogisticRegression\n",
    "from sklearn.ensemble import RandomForestClassifier\n",
    "from scipy.sparse import csc_matrix\n",
    "\n"
   ]
  },
  {
   "cell_type": "markdown",
   "metadata": {},
   "source": [
    "# Data Preparation Part 1"
   ]
  },
  {
   "cell_type": "markdown",
   "metadata": {},
   "source": [
    "## Load Data"
   ]
  },
  {
   "cell_type": "markdown",
   "metadata": {},
   "source": [
    "Load data into memory. EDA was already performed on this data. We had originally received Beneficiary, Encounters and target variable datasets in three different spreadsheets and EDA combined that into single spreadsheet using keys of the tables. We still need to perform some additional operations before we actually start with modeling. So in first we prepare our data for modeling as follows :\n",
    "* Prepare variables. Setup data type correctly.\n",
    "* Remove unnecessary variables\n",
    "* Transform categorical features into dummy variables \n",
    "* Feature selection.\n",
    "\n",
    "Lets first print the information of this dataframe. As we can see from below dataframe info this data has total of 79 features. We definately dont need all features. This step will process some of the features before we actually use this data for modeling."
   ]
  },
  {
   "cell_type": "code",
   "execution_count": 2,
   "metadata": {
    "ExecuteTime": {
     "end_time": "2020-07-01T06:20:22.862306Z",
     "start_time": "2020-07-01T06:20:22.308794Z"
    },
    "tags": []
   },
   "outputs": [],
   "source": [
    "lab2_df = pd.read_csv('data/final_fraud_dataset.csv',index_col=0)"
   ]
  },
  {
   "cell_type": "markdown",
   "metadata": {},
   "source": [
    "## Set Categorical Variables"
   ]
  },
  {
   "cell_type": "markdown",
   "metadata": {
    "ExecuteTime": {
     "end_time": "2020-06-30T08:51:44.322459Z",
     "start_time": "2020-06-30T08:51:44.318865Z"
    }
   },
   "source": [
    "Following are nominal categorical attributes. Pandas requires these to be datatype of 'object' or 'category'. We are setting nominal categorical variables as 'object'. Here is the list of categorical variables :\n",
    "\n",
    "* Race\n",
    "* Gender\n",
    "* RenalDiseaseIndicator\n",
    "* State\n",
    "* County\n",
    "* AttendingPhysicianPresent\n",
    "* OtherPhysicianPresent\n",
    "* OperatingPhysicianPresent\n",
    "* 11 Chronic Conditions\n",
    "\n"
   ]
  },
  {
   "cell_type": "code",
   "execution_count": 3,
   "metadata": {
    "ExecuteTime": {
     "end_time": "2020-07-01T06:20:22.941163Z",
     "start_time": "2020-07-01T06:20:22.864346Z"
    },
    "tags": []
   },
   "outputs": [],
   "source": [
    "cat_preds = ['Gender','Race','RenalDiseaseIndicator','State','County',\n",
    "                     'NoOfMonths_PartACov','NoOfMonths_PartBCov',\n",
    "                     'ChronicCond_Alzheimer','ChronicCond_Heartfailure',\n",
    "                     'ChronicCond_KidneyDisease','ChronicCond_Cancer','ChronicCond_ObstrPulmonary',\n",
    "                     'ChronicCond_Depression','ChronicCond_Diabetes','ChronicCond_IschemicHeart',\n",
    "                     'ChronicCond_Osteoporasis','ChronicCond_rheumatoidarthritis','ChronicCond_stroke',\n",
    "                     'Alive','ClmAdmitDiagnosisCode','DiagnosisGroupCode',\n",
    "                     'ClmDiagnosisCode_1','ClmDiagnosisCode_2','ClmDiagnosisCode_3',\n",
    "                     'ClmDiagnosisCode_4','ClmDiagnosisCode_5','ClmDiagnosisCode_6',\n",
    "                     'ClmDiagnosisCode_7','ClmDiagnosisCode_8','ClmDiagnosisCode_9',\n",
    "                     'ClmDiagnosisCode_10','ClmProcedureCode_1','ClmProcedureCode_2',\n",
    "                     'ClmProcedureCode_3','ClmProcedureCode_4','ClmProcedureCode_5',\n",
    "                     'AttendingPhysicianPresent','OtherPhysicianPresent','OperatingPhysicianPresent']\n",
    "\n",
    "lab2_df[cat_preds]   = lab2_df[cat_preds].astype('object')\n"
   ]
  },
  {
   "cell_type": "markdown",
   "metadata": {},
   "source": [
    "## Set Float Variables"
   ]
  },
  {
   "cell_type": "markdown",
   "metadata": {},
   "source": [
    "Following varibles are required to be datatype of floating point. These are amounts and hence it makes sense to changt it's type to float\n",
    "\n",
    "* InscClaimAmtReimbursed\n",
    "* IPAnnualReimbursementAmt\n",
    "* IPAnnualDeductibleAmt\n"
   ]
  },
  {
   "cell_type": "code",
   "execution_count": 4,
   "metadata": {
    "ExecuteTime": {
     "end_time": "2020-07-01T06:20:23.228305Z",
     "start_time": "2020-07-01T06:20:23.213497Z"
    },
    "tags": []
   },
   "outputs": [],
   "source": [
    "float_preds = ['InscClaimAmtReimbursed','IPAnnualReimbursementAmt', 'IPAnnualDeductibleAmt']\n",
    "\n",
    "lab2_df[float_preds]   = lab2_df[float_preds].astype('float')"
   ]
  },
  {
   "cell_type": "markdown",
   "metadata": {},
   "source": [
    "## Set Integer Variables"
   ]
  },
  {
   "cell_type": "markdown",
   "metadata": {},
   "source": [
    "These variables contains all numbers but they are actually nominal categorical attributes. They are all binary in nature. So we can keep them as integer as we will be converting this dataset into sparse matrix for model building exercise. \n",
    "\n",
    "Following variables will be set as integer data type :\n",
    "* NoOfMonths_PartACov - Number of months of Medicare part A coverage\n",
    "* NoOfMonths_PartBCov - Number of months of Medicare part B coverage\n"
   ]
  },
  {
   "cell_type": "code",
   "execution_count": 5,
   "metadata": {
    "ExecuteTime": {
     "end_time": "2020-07-01T06:20:23.670649Z",
     "start_time": "2020-07-01T06:20:23.653465Z"
    },
    "tags": []
   },
   "outputs": [],
   "source": [
    "int_preds = ['NoOfMonths_PartACov', \n",
    "             'NoOfMonths_PartBCov']\n",
    "\n",
    "lab2_df[int_preds] = lab2_df[int_preds].astype(int)"
   ]
  },
  {
   "cell_type": "markdown",
   "metadata": {},
   "source": [
    "## Set Date Variables"
   ]
  },
  {
   "cell_type": "markdown",
   "metadata": {},
   "source": [
    "Following are new attributes are derived from existing attritbutes of type dates. All date attributes are converted to the proleptic Gregorian ordinal of a date.In simple terms datetime.toordinal() returns the day count from the date 01/01/01\n",
    "\n",
    "\n",
    "* ORD_DOD - Set ORD_DOD to open end date where date is not available to indicate that Beneficiary is alive\n",
    "* ORD_DOB \n",
    "* ORD_ClaimStartDt\n",
    "* ORD_ClaimEndDt\n",
    "* ORD_AdmissionDt\n",
    "* ORD_DischargeDt\n"
   ]
  },
  {
   "cell_type": "code",
   "execution_count": 6,
   "metadata": {
    "ExecuteTime": {
     "end_time": "2020-07-01T06:20:24.921116Z",
     "start_time": "2020-07-01T06:20:24.103048Z"
    },
    "tags": []
   },
   "outputs": [],
   "source": [
    "dte_preds = ['ClaimStartDt', 'ClaimEndDt','AdmissionDt', 'DischargeDt', 'DOB','DOD']\n",
    "\n",
    "# Regex to normalize integer DOB/DOD as ISO dates\n",
    "lab2_df['DOB'] = lab2_df['DOB'].astype(str).str.replace('(\\d{4})(\\d\\d)(\\d\\d)', '\\\\1-\\\\2-\\\\3', regex=True) \n",
    "lab2_df['DOD'] = lab2_df['DOD'].astype(str).str.replace('(\\d{4})(\\d\\d)(\\d\\d)', '\\\\1-\\\\2-\\\\3', regex=True) \n",
    "\n",
    "lab2_df['ORD_DOD'] = lab2_df['DOD']\n",
    "lab2_df['ORD_DOD'] = lab2_df['ORD_DOD'].replace('0','2199-12-31')\n",
    "\n",
    "lab2_df['ORD_DOD'] = pd.to_datetime(lab2_df['ORD_DOD'],format='%Y-%m-%d').apply(dt.datetime.toordinal)\n",
    "lab2_df['ORD_DOB'] = pd.to_datetime(lab2_df['DOB'],format='%Y-%m-%d').apply(dt.datetime.toordinal)\n",
    "lab2_df['ORD_ClaimStartDt'] = pd.to_datetime(lab2_df['ClaimStartDt'],format='%Y-%m-%d').apply(dt.datetime.toordinal)\n",
    "lab2_df['ORD_ClaimEndDt']   = pd.to_datetime(lab2_df['ClaimEndDt'],format='%Y-%m-%d').apply(dt.datetime.toordinal)\n",
    "lab2_df['ORD_AdmissionDt']  = pd.to_datetime(lab2_df['AdmissionDt'],format='%Y-%m-%d').apply(dt.datetime.toordinal)\n",
    "lab2_df['ORD_DischargeDt']  = pd.to_datetime(lab2_df['DischargeDt'],format='%Y-%m-%d').apply(dt.datetime.toordinal)\n",
    "\n",
    "ord_dte_preds = ['ORD_DOD', 'ORD_DOB','ORD_ClaimStartDt', 'ORD_ClaimEndDt', 'ORD_AdmissionDt','ORD_DischargeDt']\n"
   ]
  },
  {
   "cell_type": "markdown",
   "metadata": {},
   "source": [
    "## Recoding Binary and Categorical Features"
   ]
  },
  {
   "cell_type": "markdown",
   "metadata": {},
   "source": [
    "All chronic conditions, Gender, RenalDiseaseIndicator are binary variables i.e. they all have just two values but values are not 0 and 1. e.g. Gender has values 1 or 2, RenalDiseaseIndicator has Y or 1 and all Chronic Conditions has values 1 or 2. \n",
    "\n",
    "We will recode these values to 0 or 1 instead of 1 and 2 for modeling purpose. Leaving two columns for a binary feature can introduce bias, giving one feature artificially more weight in prediction if the model treats the single feature as two.\n"
   ]
  },
  {
   "cell_type": "code",
   "execution_count": 7,
   "metadata": {
    "ExecuteTime": {
     "end_time": "2020-07-01T06:20:25.019661Z",
     "start_time": "2020-07-01T06:20:24.923231Z"
    }
   },
   "outputs": [],
   "source": [
    "# Recode below categorical variables \n",
    "\n",
    "lab2_df['Gender']  = lab2_df['Gender'].replace([1,2],[0,1])\n",
    "lab2_df['RenalDiseaseIndicator']  = lab2_df['RenalDiseaseIndicator'].replace('Y',1)\n",
    "\n",
    "\n",
    "lab2_df = lab2_df.replace({'ChronicCond_Alzheimer': 2,      'ChronicCond_Heartfailure': 2, \n",
    "                           'ChronicCond_KidneyDisease': 2,  'ChronicCond_Cancer': 2, \n",
    "                           'ChronicCond_ObstrPulmonary': 2, 'ChronicCond_Depression': 2, \n",
    "                           'ChronicCond_Diabetes': 2,       'ChronicCond_IschemicHeart': 2, \n",
    "                           'ChronicCond_Osteoporasis': 2,   'ChronicCond_rheumatoidarthritis': 2, \n",
    "                           'ChronicCond_stroke': 2 }, '0')\n",
    "\n",
    "lab2_df['Gender'] = lab2_df['Gender'].astype('object')\n",
    "lab2_df['Race'] = lab2_df['Race'].astype('object')\n",
    "lab2_df['State'] = lab2_df['State'].astype('object')\n",
    "lab2_df['County'] = lab2_df['County'].astype('object')"
   ]
  },
  {
   "cell_type": "markdown",
   "metadata": {},
   "source": [
    "## Final Dataframe - All Features\n",
    "All features are GROUPED as follows:\n",
    "* Numeric Predictors\n",
    "* Categorical Predictors\n",
    "* Non-Predictors (Will not be used for modeling)\n",
    "\n",
    "We chose to remove all ID columns from the data, as they aren't useful in prediction (unique IDs = N observations).  We replaced the original date features with their ordinal conversions.  We removed all providerIDs from the dataset, because these are correlated 1:1 with the response.  Unfortunately, our data lists only the provider ID as the response variable (potentially fraudulent), so the prediction algorithm gets 'the answer' if the provider ID shows up in attending, operating, or other physician columns.  Removing these from the dataset limits the prediction ability of our algorithms, but more closely represents reality, where a provider's fraudulent behavior is unknown at the time of claim review.\n"
   ]
  },
  {
   "cell_type": "code",
   "execution_count": 8,
   "metadata": {
    "ExecuteTime": {
     "end_time": "2020-07-01T06:20:25.274701Z",
     "start_time": "2020-07-01T06:20:25.213964Z"
    },
    "tags": []
   },
   "outputs": [],
   "source": [
    "numeric_preds     = ['Age','NoPhysician','NoOfDiag','NoOfProc',\n",
    "                     'ORD_DOD','ORD_DOB','ORD_ClaimStartDt','ORD_ClaimEndDt',\n",
    "                     'ORD_AdmissionDt','ORD_DischargeDt','DaysAdmitted',\n",
    "                     'IPAnnualReimbursementAmt','IPAnnualDeductibleAmt',   \n",
    "                     'InscClaimAmtReimbursed'  \n",
    "                    ]\n",
    "\n",
    "cat_preds_nominal = ['Gender','Race','RenalDiseaseIndicator','State','County',\n",
    "                     'NoOfMonths_PartACov','NoOfMonths_PartBCov',\n",
    "                     'ChronicCond_Alzheimer','ChronicCond_Heartfailure',\n",
    "                     'ChronicCond_KidneyDisease','ChronicCond_Cancer','ChronicCond_ObstrPulmonary',\n",
    "                     'ChronicCond_Depression','ChronicCond_Diabetes','ChronicCond_IschemicHeart',\n",
    "                     'ChronicCond_Osteoporasis','ChronicCond_rheumatoidarthritis','ChronicCond_stroke',\n",
    "                     'Alive','ClmAdmitDiagnosisCode','DiagnosisGroupCode',\n",
    "                     'ClmDiagnosisCode_1','ClmDiagnosisCode_2','ClmDiagnosisCode_3',\n",
    "                     'ClmDiagnosisCode_4','ClmDiagnosisCode_5','ClmDiagnosisCode_6',\n",
    "                     'ClmDiagnosisCode_7','ClmDiagnosisCode_8','ClmDiagnosisCode_9',\n",
    "                     'ClmDiagnosisCode_10','ClmProcedureCode_1','ClmProcedureCode_2',\n",
    "                     'ClmProcedureCode_3','ClmProcedureCode_4','ClmProcedureCode_5',\n",
    "                     'AttendingPhysicianPresent','OtherPhysicianPresent','OperatingPhysicianPresent'\n",
    "                     ]\n",
    "\n",
    "non_preds = ['BeneID','DOB','DOD','state_usps','ClaimID',\n",
    "             'ClaimStartDt','ClaimEndDt','Provider',\n",
    "             'AttendingPhysician','OperatingPhysician','OtherPhysician',\n",
    "             'AdmissionDt','DischargeDt','DRGDesc',\n",
    "             'ProcedureShortDesc_1','ProcedureShortDesc_2','ProcedureShortDesc_3',\n",
    "             'ProcedureShortDesc_4','ProcedureShortDesc_5','DiagnosticDesc_1',\n",
    "             'DiagnosticDesc_2','DiagnosticDesc_3','DiagnosticDesc_4',\n",
    "             'DiagnosticDesc_5','DiagnosticDesc_6','DiagnosticDesc_7',\n",
    "             'DiagnosticDesc_8','DiagnosticDesc_9','DiagnosticDesc_10',\n",
    "             'NoOfChronicCondition'\n",
    "             ]\n",
    "\n",
    "preds_in_model = numeric_preds + cat_preds_nominal\n",
    "\n",
    "Xlab2_df = lab2_df[preds_in_model]\n"
   ]
  },
  {
   "cell_type": "markdown",
   "metadata": {},
   "source": [
    "## Set Target Variable"
   ]
  },
  {
   "cell_type": "code",
   "execution_count": 9,
   "metadata": {
    "ExecuteTime": {
     "end_time": "2020-07-01T06:20:25.452959Z",
     "start_time": "2020-07-01T06:20:25.438950Z"
    }
   },
   "outputs": [],
   "source": [
    "target_df = lab2_df['PotentialFraud'].replace(['Yes','No'],[1,0]).values"
   ]
  },
  {
   "cell_type": "markdown",
   "metadata": {},
   "source": [
    "## One Hot Encoding using SciKit Learn Multi Label Binarizer\n",
    "\n",
    "Because the claim data can have up to 10 different diagnosis codes and 5 different procedure codes, we created a new array column that combines all used diagnosis codes and another like type column with procedures.  This will reduce our feature counts from >40,000 to around 9,000 and will help maximize feature importance because each code will no longer be split across up to 10 different columns (i.e. diagnosis code columns 1 - 10).  This way if code A gets used in column_1, and in column_2, the usage of code A will be consolidated to the DiagnosisCode_A column.\n",
    "\n",
    "Pandas get_dummies function will not parse lists, we'll need to utilize the multiLabelBinarizer from scikit learn to one-hot encode the list values before calling get_dummies."
   ]
  },
  {
   "cell_type": "code",
   "execution_count": 10,
   "metadata": {
    "tags": []
   },
   "outputs": [
    {
     "name": "stderr",
     "output_type": "stream",
     "text": [
      "/home/dustin/anaconda3/envs/DS7331/lib/python3.7/site-packages/ipykernel_launcher.py:1: SettingWithCopyWarning: \n",
      "A value is trying to be set on a copy of a slice from a DataFrame.\n",
      "Try using .loc[row_indexer,col_indexer] = value instead\n",
      "\n",
      "See the caveats in the documentation: https://pandas.pydata.org/pandas-docs/stable/user_guide/indexing.html#returning-a-view-versus-a-copy\n",
      "  \"\"\"Entry point for launching an IPython kernel.\n",
      "/home/dustin/anaconda3/envs/DS7331/lib/python3.7/site-packages/ipykernel_launcher.py:3: SettingWithCopyWarning: \n",
      "A value is trying to be set on a copy of a slice from a DataFrame.\n",
      "Try using .loc[row_indexer,col_indexer] = value instead\n",
      "\n",
      "See the caveats in the documentation: https://pandas.pydata.org/pandas-docs/stable/user_guide/indexing.html#returning-a-view-versus-a-copy\n",
      "  This is separate from the ipykernel package so we can avoid doing imports until\n"
     ]
    }
   ],
   "source": [
    "\n",
    "\n",
    "Xlab2_df['DiagnosisCode'] = Xlab2_df[['ClmDiagnosisCode_1', 'ClmDiagnosisCode_2', 'ClmDiagnosisCode_3', 'ClmDiagnosisCode_4', 'ClmDiagnosisCode_5', 'ClmDiagnosisCode_6', 'ClmDiagnosisCode_7', 'ClmDiagnosisCode_8', 'ClmDiagnosisCode_9', 'ClmDiagnosisCode_10']].values.tolist()\n",
    "\n",
    "Xlab2_df['ProcedureCode'] = Xlab2_df[['ClmProcedureCode_1', 'ClmProcedureCode_2', 'ClmProcedureCode_3', 'ClmProcedureCode_4', 'ClmProcedureCode_5']].values.tolist()\n",
    "\n",
    "ipdata = Xlab2_df.copy()\n",
    "\n",
    "mlb = MultiLabelBinarizer()\n",
    "ipdata = ipdata.join(pd.DataFrame(mlb.fit_transform(ipdata['ProcedureCode']),columns='ProcedureCode_'+mlb.classes_))\n",
    "ipdata = ipdata.join(pd.DataFrame(mlb.fit_transform(ipdata['DiagnosisCode']),columns='DiagnosisCode_'+mlb.classes_))\n",
    "\n",
    "ipdata = ipdata.drop(columns=['ClmProcedureCode_1', 'ClmProcedureCode_2', 'ClmProcedureCode_3', 'ClmProcedureCode_4', 'ClmProcedureCode_5','ClmDiagnosisCode_1', 'ClmDiagnosisCode_2', 'ClmDiagnosisCode_3', 'ClmDiagnosisCode_4', 'ClmDiagnosisCode_5', 'ClmDiagnosisCode_6', 'ClmDiagnosisCode_7', 'ClmDiagnosisCode_8', 'ClmDiagnosisCode_9', 'ClmDiagnosisCode_10','ProcedureCode','DiagnosisCode'])\n"
   ]
  },
  {
   "cell_type": "markdown",
   "metadata": {},
   "source": [
    "## One Hot Encoding using Pandas\n",
    "\n",
    "Now that we've dropped our multi-columns and lists, we can onehot encode the rest of the features and transform into a sparse matrix using Pandas Get Dummies function."
   ]
  },
  {
   "cell_type": "code",
   "execution_count": 11,
   "metadata": {
    "ExecuteTime": {
     "end_time": "2020-07-01T06:20:32.550699Z",
     "start_time": "2020-07-01T06:20:25.870249Z"
    }
   },
   "outputs": [],
   "source": [
    "ipdata = pd.get_dummies(ipdata, sparse=True)"
   ]
  },
  {
   "cell_type": "code",
   "execution_count": 12,
   "metadata": {
    "ExecuteTime": {
     "end_time": "2020-07-01T06:20:33.917009Z",
     "start_time": "2020-07-01T06:20:32.552787Z"
    },
    "tags": []
   },
   "outputs": [
    {
     "name": "stdout",
     "output_type": "stream",
     "text": [
      "<class 'pandas.core.frame.DataFrame'>\n",
      "Int64Index: 40474 entries, 0 to 40473\n",
      "Columns: 9092 entries, Age to DiagnosisGroupCode_OTH\n",
      "dtypes: Sparse[uint8, 0](3034), float64(3), int64(6055)\n",
      "memory usage: 1.8 GB\n"
     ]
    }
   ],
   "source": [
    "ipdata.info()"
   ]
  },
  {
   "cell_type": "markdown",
   "metadata": {},
   "source": [
    "## Post-processing Encoded Features\n",
    "\n",
    "Because we are using objects, Pandas converts all classes into new columns.  However, for binary features, we want to remove one of the values, in order to prevent the model from introducing bias by weighting each binary feature twice (via separate true/false columns).\n",
    "\n",
    "To correct this, we must search for and remove duplicate columns (indicated by the _0 suffix).\n"
   ]
  },
  {
   "cell_type": "code",
   "execution_count": 13,
   "metadata": {
    "tags": []
   },
   "outputs": [
    {
     "name": "stdout",
     "output_type": "stream",
     "text": [
      "Removed Following Columns:\n",
      "Gender_0\n",
      "RenalDiseaseIndicator_0\n",
      "ChronicCond_Alzheimer_0\n",
      "ChronicCond_Heartfailure_0\n",
      "ChronicCond_KidneyDisease_0\n",
      "ChronicCond_Cancer_0\n",
      "ChronicCond_ObstrPulmonary_0\n",
      "ChronicCond_Depression_0\n",
      "ChronicCond_Diabetes_0\n",
      "ChronicCond_IschemicHeart_0\n",
      "ChronicCond_Osteoporasis_0\n",
      "ChronicCond_rheumatoidarthritis_0\n",
      "ChronicCond_stroke_0\n"
     ]
    }
   ],
   "source": [
    "StopWords = ['Diagnosis','Procedure','County','State']\n",
    "bins = []\n",
    "print('Removed Following Columns:')\n",
    "for col in ipdata.columns:\n",
    "    if not any(word in col for word in StopWords) and '_0' in col:    \n",
    "        print(col)\n",
    "        bins.append(col)\n",
    "ipdata = ipdata.drop(bins, axis=1)"
   ]
  },
  {
   "cell_type": "markdown",
   "metadata": {},
   "source": [
    "## Remove 'None' columns"
   ]
  },
  {
   "cell_type": "markdown",
   "metadata": {},
   "source": [
    "Our encoded dataset contains None for Diagnosis and Procedure codes features wherever information is not available on the claim. All claims allows max 5 procedure codes and 10 diagnosis codes and at least one procedure code or diagnosis code is applied on the claim. When claim has only one procedure and one diagnosis all other procedure codes contains NAs or None and one hot encoding treats these as another category which is not correct. therefore we need to remove column Nones created by one hot encoding by pandas.\n",
    "\n",
    "Essentially by creating a 'none' column it creates a column (new feature) for missing data, which would erroneously assign more weight to a value that doesn't exist.  Because it would get a '1' for missing a value, but would also have 0's for the other values.  Also it may mess up our counts because 'None' would count as a valid procedure code if we're summing unique values for each column."
   ]
  },
  {
   "cell_type": "code",
   "execution_count": 14,
   "metadata": {
    "ExecuteTime": {
     "end_time": "2020-07-01T06:20:36.456807Z",
     "start_time": "2020-07-01T06:20:33.919257Z"
    },
    "tags": []
   },
   "outputs": [
    {
     "name": "stdout",
     "output_type": "stream",
     "text": [
      "Removed Following Columns:\n",
      "ProcedureCode_None\n",
      "DiagnosisCode_None\n"
     ]
    }
   ],
   "source": [
    "nones = []\n",
    "print('Removed Following Columns:')\n",
    "for col in ipdata.columns:\n",
    "    if 'None' in col:    \n",
    "        nones.append(col)\n",
    "        print(col)\n",
    "ipdata = ipdata.drop(nones, axis=1)"
   ]
  },
  {
   "cell_type": "code",
   "execution_count": 15,
   "metadata": {
    "ExecuteTime": {
     "end_time": "2020-07-01T06:20:37.867818Z",
     "start_time": "2020-07-01T06:20:36.458927Z"
    },
    "tags": []
   },
   "outputs": [
    {
     "name": "stdout",
     "output_type": "stream",
     "text": [
      "<class 'pandas.core.frame.DataFrame'>\n",
      "Int64Index: 40474 entries, 0 to 40473\n",
      "Columns: 9077 entries, Age to DiagnosisGroupCode_OTH\n",
      "dtypes: Sparse[uint8, 0](3021), float64(3), int64(6053)\n",
      "memory usage: 1.8 GB\n"
     ]
    }
   ],
   "source": [
    "ipdata.info()"
   ]
  },
  {
   "cell_type": "markdown",
   "metadata": {},
   "source": [
    "## MinMaxScaler"
   ]
  },
  {
   "cell_type": "markdown",
   "metadata": {},
   "source": [
    "We decided to use the MinMaxScaler here instead of the standard scaler because we're using a sparse matrix of mostly binary features.  Because we do have some true numeric features, such as: deductible amount, age, the converted ordinal dates, claim dollar amounts etc, these may end up having values outside the bounds of 0 and 1.  A zero mean scaler doesn't make sense with this data because it would cause the numeric features to have inflated importance if observations end up being several standard deviations away from 0, while the binary features are capped at 1.  The minMax scaler allows us to force all values in the dataset to live within the bounds of 0 and 1, allowing our logistic regression algorithms to weight features appropriately using similar measures."
   ]
  },
  {
   "cell_type": "code",
   "execution_count": 16,
   "metadata": {
    "ExecuteTime": {
     "end_time": "2020-07-01T06:22:57.635492Z",
     "start_time": "2020-07-01T06:20:37.870137Z"
    }
   },
   "outputs": [],
   "source": [
    "scaler = MinMaxScaler()\n",
    "scaler.fit(ipdata)\n",
    "X1 = scaler.transform(ipdata)"
   ]
  },
  {
   "cell_type": "markdown",
   "metadata": {},
   "source": [
    "# Data Preparation Part 2\n",
    "\n",
    "We ended up with two variants of our final dataset: the sparse matrix (ipdata) containing all one-hot encoded features, and the original dataframe (Xlab2_df) so that if we need to retrieve any of the original data, we can share indices to highlight our findings."
   ]
  },
  {
   "cell_type": "markdown",
   "metadata": {},
   "source": [
    "## Final DataSet"
   ]
  },
  {
   "cell_type": "code",
   "execution_count": 17,
   "metadata": {
    "ExecuteTime": {
     "end_time": "2020-07-01T06:22:57.784631Z",
     "start_time": "2020-07-01T06:22:57.649511Z"
    },
    "tags": []
   },
   "outputs": [
    {
     "name": "stdout",
     "output_type": "stream",
     "text": [
      "<class 'pandas.core.frame.DataFrame'>\n",
      "Int64Index: 40474 entries, 0 to 40473\n",
      "Data columns (total 55 columns):\n",
      " #   Column                           Non-Null Count  Dtype  \n",
      "---  ------                           --------------  -----  \n",
      " 0   Age                              40474 non-null  int64  \n",
      " 1   NoPhysician                      40474 non-null  int64  \n",
      " 2   NoOfDiag                         40474 non-null  int64  \n",
      " 3   NoOfProc                         40474 non-null  int64  \n",
      " 4   ORD_DOD                          40474 non-null  int64  \n",
      " 5   ORD_DOB                          40474 non-null  int64  \n",
      " 6   ORD_ClaimStartDt                 40474 non-null  int64  \n",
      " 7   ORD_ClaimEndDt                   40474 non-null  int64  \n",
      " 8   ORD_AdmissionDt                  40474 non-null  int64  \n",
      " 9   ORD_DischargeDt                  40474 non-null  int64  \n",
      " 10  DaysAdmitted                     40474 non-null  int64  \n",
      " 11  IPAnnualReimbursementAmt         40474 non-null  float64\n",
      " 12  IPAnnualDeductibleAmt            40474 non-null  float64\n",
      " 13  InscClaimAmtReimbursed           40474 non-null  float64\n",
      " 14  Gender                           40474 non-null  object \n",
      " 15  Race                             40474 non-null  object \n",
      " 16  RenalDiseaseIndicator            40474 non-null  object \n",
      " 17  State                            40474 non-null  object \n",
      " 18  County                           40474 non-null  object \n",
      " 19  NoOfMonths_PartACov              40474 non-null  int64  \n",
      " 20  NoOfMonths_PartBCov              40474 non-null  int64  \n",
      " 21  ChronicCond_Alzheimer            40474 non-null  object \n",
      " 22  ChronicCond_Heartfailure         40474 non-null  object \n",
      " 23  ChronicCond_KidneyDisease        40474 non-null  object \n",
      " 24  ChronicCond_Cancer               40474 non-null  object \n",
      " 25  ChronicCond_ObstrPulmonary       40474 non-null  object \n",
      " 26  ChronicCond_Depression           40474 non-null  object \n",
      " 27  ChronicCond_Diabetes             40474 non-null  object \n",
      " 28  ChronicCond_IschemicHeart        40474 non-null  object \n",
      " 29  ChronicCond_Osteoporasis         40474 non-null  object \n",
      " 30  ChronicCond_rheumatoidarthritis  40474 non-null  object \n",
      " 31  ChronicCond_stroke               40474 non-null  object \n",
      " 32  Alive                            40474 non-null  object \n",
      " 33  ClmAdmitDiagnosisCode            40474 non-null  object \n",
      " 34  DiagnosisGroupCode               40474 non-null  object \n",
      " 35  ClmDiagnosisCode_1               40474 non-null  object \n",
      " 36  ClmDiagnosisCode_2               40474 non-null  object \n",
      " 37  ClmDiagnosisCode_3               40474 non-null  object \n",
      " 38  ClmDiagnosisCode_4               40474 non-null  object \n",
      " 39  ClmDiagnosisCode_5               40474 non-null  object \n",
      " 40  ClmDiagnosisCode_6               40474 non-null  object \n",
      " 41  ClmDiagnosisCode_7               40474 non-null  object \n",
      " 42  ClmDiagnosisCode_8               40474 non-null  object \n",
      " 43  ClmDiagnosisCode_9               40474 non-null  object \n",
      " 44  ClmDiagnosisCode_10              40474 non-null  object \n",
      " 45  ClmProcedureCode_1               40474 non-null  object \n",
      " 46  ClmProcedureCode_2               40474 non-null  object \n",
      " 47  ClmProcedureCode_3               40474 non-null  object \n",
      " 48  ClmProcedureCode_4               40474 non-null  object \n",
      " 49  ClmProcedureCode_5               40474 non-null  object \n",
      " 50  AttendingPhysicianPresent        40474 non-null  int64  \n",
      " 51  OtherPhysicianPresent            40474 non-null  int64  \n",
      " 52  OperatingPhysicianPresent        40474 non-null  int64  \n",
      " 53  DiagnosisCode                    40474 non-null  object \n",
      " 54  ProcedureCode                    40474 non-null  object \n",
      "dtypes: float64(3), int64(16), object(36)\n",
      "memory usage: 17.3+ MB\n"
     ]
    }
   ],
   "source": [
    "Xlab2_df.info()"
   ]
  },
  {
   "cell_type": "code",
   "execution_count": 18,
   "metadata": {
    "ExecuteTime": {
     "end_time": "2020-07-01T06:22:57.872722Z",
     "start_time": "2020-07-01T06:22:57.786692Z"
    }
   },
   "outputs": [
    {
     "data": {
      "text/html": [
       "<div>\n",
       "<style scoped>\n",
       "    .dataframe tbody tr th:only-of-type {\n",
       "        vertical-align: middle;\n",
       "    }\n",
       "\n",
       "    .dataframe tbody tr th {\n",
       "        vertical-align: top;\n",
       "    }\n",
       "\n",
       "    .dataframe thead th {\n",
       "        text-align: right;\n",
       "    }\n",
       "</style>\n",
       "<table border=\"1\" class=\"dataframe\">\n",
       "  <thead>\n",
       "    <tr style=\"text-align: right;\">\n",
       "      <th></th>\n",
       "      <th>Age</th>\n",
       "      <th>NoPhysician</th>\n",
       "      <th>NoOfDiag</th>\n",
       "      <th>NoOfProc</th>\n",
       "      <th>ORD_DOD</th>\n",
       "      <th>ORD_DOB</th>\n",
       "      <th>ORD_ClaimStartDt</th>\n",
       "      <th>ORD_ClaimEndDt</th>\n",
       "      <th>ORD_AdmissionDt</th>\n",
       "      <th>ORD_DischargeDt</th>\n",
       "      <th>...</th>\n",
       "      <th>ClmProcedureCode_1</th>\n",
       "      <th>ClmProcedureCode_2</th>\n",
       "      <th>ClmProcedureCode_3</th>\n",
       "      <th>ClmProcedureCode_4</th>\n",
       "      <th>ClmProcedureCode_5</th>\n",
       "      <th>AttendingPhysicianPresent</th>\n",
       "      <th>OtherPhysicianPresent</th>\n",
       "      <th>OperatingPhysicianPresent</th>\n",
       "      <th>DiagnosisCode</th>\n",
       "      <th>ProcedureCode</th>\n",
       "    </tr>\n",
       "  </thead>\n",
       "  <tbody>\n",
       "    <tr>\n",
       "      <th>0</th>\n",
       "      <td>66</td>\n",
       "      <td>1</td>\n",
       "      <td>9</td>\n",
       "      <td>0</td>\n",
       "      <td>803168</td>\n",
       "      <td>709301</td>\n",
       "      <td>733509</td>\n",
       "      <td>733515</td>\n",
       "      <td>733509</td>\n",
       "      <td>733515</td>\n",
       "      <td>...</td>\n",
       "      <td>None</td>\n",
       "      <td>None</td>\n",
       "      <td>None</td>\n",
       "      <td>None</td>\n",
       "      <td>None</td>\n",
       "      <td>1</td>\n",
       "      <td>0</td>\n",
       "      <td>0</td>\n",
       "      <td>[1970, 4019, 5853, 7843, 2768, 71590, 2724, 19...</td>\n",
       "      <td>[None, None, None, None, None]</td>\n",
       "    </tr>\n",
       "    <tr>\n",
       "      <th>1</th>\n",
       "      <td>95</td>\n",
       "      <td>3</td>\n",
       "      <td>9</td>\n",
       "      <td>2</td>\n",
       "      <td>803168</td>\n",
       "      <td>698678</td>\n",
       "      <td>733427</td>\n",
       "      <td>733439</td>\n",
       "      <td>733427</td>\n",
       "      <td>733439</td>\n",
       "      <td>...</td>\n",
       "      <td>7769.0</td>\n",
       "      <td>5849.0</td>\n",
       "      <td>None</td>\n",
       "      <td>None</td>\n",
       "      <td>None</td>\n",
       "      <td>1</td>\n",
       "      <td>1</td>\n",
       "      <td>1</td>\n",
       "      <td>[4240, 2639, 2948, 40390, 45821, 28489, 5854, ...</td>\n",
       "      <td>[7769.0, 5849.0, None, None, None]</td>\n",
       "    </tr>\n",
       "    <tr>\n",
       "      <th>2</th>\n",
       "      <td>87</td>\n",
       "      <td>2</td>\n",
       "      <td>9</td>\n",
       "      <td>1</td>\n",
       "      <td>803168</td>\n",
       "      <td>701904</td>\n",
       "      <td>733697</td>\n",
       "      <td>733715</td>\n",
       "      <td>733697</td>\n",
       "      <td>733715</td>\n",
       "      <td>...</td>\n",
       "      <td>9338.0</td>\n",
       "      <td>None</td>\n",
       "      <td>None</td>\n",
       "      <td>None</td>\n",
       "      <td>None</td>\n",
       "      <td>1</td>\n",
       "      <td>0</td>\n",
       "      <td>1</td>\n",
       "      <td>[V5789, 4168, 73313, 7812, 7993, 78830, 72273,...</td>\n",
       "      <td>[9338.0, None, None, None, None]</td>\n",
       "    </tr>\n",
       "    <tr>\n",
       "      <th>3</th>\n",
       "      <td>79</td>\n",
       "      <td>3</td>\n",
       "      <td>7</td>\n",
       "      <td>1</td>\n",
       "      <td>803168</td>\n",
       "      <td>704734</td>\n",
       "      <td>733705</td>\n",
       "      <td>733709</td>\n",
       "      <td>733705</td>\n",
       "      <td>733709</td>\n",
       "      <td>...</td>\n",
       "      <td>8154.0</td>\n",
       "      <td>None</td>\n",
       "      <td>None</td>\n",
       "      <td>None</td>\n",
       "      <td>None</td>\n",
       "      <td>1</td>\n",
       "      <td>1</td>\n",
       "      <td>1</td>\n",
       "      <td>[71535, 71960, 4019, V1202, 4240, 2449, 2768, ...</td>\n",
       "      <td>[8154.0, None, None, None, None]</td>\n",
       "    </tr>\n",
       "    <tr>\n",
       "      <th>4</th>\n",
       "      <td>83</td>\n",
       "      <td>2</td>\n",
       "      <td>1</td>\n",
       "      <td>1</td>\n",
       "      <td>803168</td>\n",
       "      <td>702970</td>\n",
       "      <td>733415</td>\n",
       "      <td>733419</td>\n",
       "      <td>733415</td>\n",
       "      <td>733419</td>\n",
       "      <td>...</td>\n",
       "      <td>8543.0</td>\n",
       "      <td>None</td>\n",
       "      <td>None</td>\n",
       "      <td>None</td>\n",
       "      <td>None</td>\n",
       "      <td>1</td>\n",
       "      <td>0</td>\n",
       "      <td>1</td>\n",
       "      <td>[2330, None, None, None, None, None, None, Non...</td>\n",
       "      <td>[8543.0, None, None, None, None]</td>\n",
       "    </tr>\n",
       "    <tr>\n",
       "      <th>...</th>\n",
       "      <td>...</td>\n",
       "      <td>...</td>\n",
       "      <td>...</td>\n",
       "      <td>...</td>\n",
       "      <td>...</td>\n",
       "      <td>...</td>\n",
       "      <td>...</td>\n",
       "      <td>...</td>\n",
       "      <td>...</td>\n",
       "      <td>...</td>\n",
       "      <td>...</td>\n",
       "      <td>...</td>\n",
       "      <td>...</td>\n",
       "      <td>...</td>\n",
       "      <td>...</td>\n",
       "      <td>...</td>\n",
       "      <td>...</td>\n",
       "      <td>...</td>\n",
       "      <td>...</td>\n",
       "      <td>...</td>\n",
       "      <td>...</td>\n",
       "    </tr>\n",
       "    <tr>\n",
       "      <th>40469</th>\n",
       "      <td>57</td>\n",
       "      <td>3</td>\n",
       "      <td>9</td>\n",
       "      <td>1</td>\n",
       "      <td>803168</td>\n",
       "      <td>712648</td>\n",
       "      <td>733582</td>\n",
       "      <td>733589</td>\n",
       "      <td>733582</td>\n",
       "      <td>733589</td>\n",
       "      <td>...</td>\n",
       "      <td>9955.0</td>\n",
       "      <td>None</td>\n",
       "      <td>None</td>\n",
       "      <td>None</td>\n",
       "      <td>None</td>\n",
       "      <td>1</td>\n",
       "      <td>1</td>\n",
       "      <td>1</td>\n",
       "      <td>[78079, 45341, V1251, 41401, 2449, 2930, 78830...</td>\n",
       "      <td>[9955.0, None, None, None, None]</td>\n",
       "    </tr>\n",
       "    <tr>\n",
       "      <th>40470</th>\n",
       "      <td>66</td>\n",
       "      <td>3</td>\n",
       "      <td>9</td>\n",
       "      <td>1</td>\n",
       "      <td>803168</td>\n",
       "      <td>709360</td>\n",
       "      <td>733656</td>\n",
       "      <td>733663</td>\n",
       "      <td>733656</td>\n",
       "      <td>733663</td>\n",
       "      <td>...</td>\n",
       "      <td>3326.0</td>\n",
       "      <td>None</td>\n",
       "      <td>None</td>\n",
       "      <td>None</td>\n",
       "      <td>None</td>\n",
       "      <td>1</td>\n",
       "      <td>1</td>\n",
       "      <td>1</td>\n",
       "      <td>[486, 7905, V5867, 5990, 2859, 7904, 49121, 41...</td>\n",
       "      <td>[3326.0, None, None, None, None]</td>\n",
       "    </tr>\n",
       "    <tr>\n",
       "      <th>40471</th>\n",
       "      <td>70</td>\n",
       "      <td>1</td>\n",
       "      <td>9</td>\n",
       "      <td>0</td>\n",
       "      <td>803168</td>\n",
       "      <td>708174</td>\n",
       "      <td>733726</td>\n",
       "      <td>733734</td>\n",
       "      <td>733726</td>\n",
       "      <td>733734</td>\n",
       "      <td>...</td>\n",
       "      <td>None</td>\n",
       "      <td>None</td>\n",
       "      <td>None</td>\n",
       "      <td>None</td>\n",
       "      <td>None</td>\n",
       "      <td>1</td>\n",
       "      <td>0</td>\n",
       "      <td>0</td>\n",
       "      <td>[42821, E9342, 42731, 5856, 4280, 5859, 51881,...</td>\n",
       "      <td>[None, None, None, None, None]</td>\n",
       "    </tr>\n",
       "    <tr>\n",
       "      <th>40472</th>\n",
       "      <td>51</td>\n",
       "      <td>2</td>\n",
       "      <td>8</td>\n",
       "      <td>1</td>\n",
       "      <td>803168</td>\n",
       "      <td>714719</td>\n",
       "      <td>733430</td>\n",
       "      <td>733430</td>\n",
       "      <td>733430</td>\n",
       "      <td>733430</td>\n",
       "      <td>...</td>\n",
       "      <td>9390.0</td>\n",
       "      <td>None</td>\n",
       "      <td>None</td>\n",
       "      <td>None</td>\n",
       "      <td>None</td>\n",
       "      <td>1</td>\n",
       "      <td>0</td>\n",
       "      <td>1</td>\n",
       "      <td>[41071, 78552, 5856, V4581, 5789, 39891, 40390...</td>\n",
       "      <td>[9390.0, None, None, None, None]</td>\n",
       "    </tr>\n",
       "    <tr>\n",
       "      <th>40473</th>\n",
       "      <td>57</td>\n",
       "      <td>2</td>\n",
       "      <td>10</td>\n",
       "      <td>1</td>\n",
       "      <td>803168</td>\n",
       "      <td>712404</td>\n",
       "      <td>733456</td>\n",
       "      <td>733463</td>\n",
       "      <td>733456</td>\n",
       "      <td>733463</td>\n",
       "      <td>...</td>\n",
       "      <td>3324.0</td>\n",
       "      <td>None</td>\n",
       "      <td>None</td>\n",
       "      <td>None</td>\n",
       "      <td>None</td>\n",
       "      <td>1</td>\n",
       "      <td>0</td>\n",
       "      <td>1</td>\n",
       "      <td>[1629, 1985, 2841, 7907, 1983, 53081, V4582, 2...</td>\n",
       "      <td>[3324.0, None, None, None, None]</td>\n",
       "    </tr>\n",
       "  </tbody>\n",
       "</table>\n",
       "<p>40474 rows × 55 columns</p>\n",
       "</div>"
      ],
      "text/plain": [
       "       Age  NoPhysician  NoOfDiag  NoOfProc  ORD_DOD  ORD_DOB  \\\n",
       "0       66            1         9         0   803168   709301   \n",
       "1       95            3         9         2   803168   698678   \n",
       "2       87            2         9         1   803168   701904   \n",
       "3       79            3         7         1   803168   704734   \n",
       "4       83            2         1         1   803168   702970   \n",
       "...    ...          ...       ...       ...      ...      ...   \n",
       "40469   57            3         9         1   803168   712648   \n",
       "40470   66            3         9         1   803168   709360   \n",
       "40471   70            1         9         0   803168   708174   \n",
       "40472   51            2         8         1   803168   714719   \n",
       "40473   57            2        10         1   803168   712404   \n",
       "\n",
       "       ORD_ClaimStartDt  ORD_ClaimEndDt  ORD_AdmissionDt  ORD_DischargeDt  \\\n",
       "0                733509          733515           733509           733515   \n",
       "1                733427          733439           733427           733439   \n",
       "2                733697          733715           733697           733715   \n",
       "3                733705          733709           733705           733709   \n",
       "4                733415          733419           733415           733419   \n",
       "...                 ...             ...              ...              ...   \n",
       "40469            733582          733589           733582           733589   \n",
       "40470            733656          733663           733656           733663   \n",
       "40471            733726          733734           733726           733734   \n",
       "40472            733430          733430           733430           733430   \n",
       "40473            733456          733463           733456           733463   \n",
       "\n",
       "       ...  ClmProcedureCode_1  ClmProcedureCode_2  ClmProcedureCode_3  \\\n",
       "0      ...                None                None                None   \n",
       "1      ...              7769.0              5849.0                None   \n",
       "2      ...              9338.0                None                None   \n",
       "3      ...              8154.0                None                None   \n",
       "4      ...              8543.0                None                None   \n",
       "...    ...                 ...                 ...                 ...   \n",
       "40469  ...              9955.0                None                None   \n",
       "40470  ...              3326.0                None                None   \n",
       "40471  ...                None                None                None   \n",
       "40472  ...              9390.0                None                None   \n",
       "40473  ...              3324.0                None                None   \n",
       "\n",
       "       ClmProcedureCode_4 ClmProcedureCode_5 AttendingPhysicianPresent  \\\n",
       "0                    None               None                         1   \n",
       "1                    None               None                         1   \n",
       "2                    None               None                         1   \n",
       "3                    None               None                         1   \n",
       "4                    None               None                         1   \n",
       "...                   ...                ...                       ...   \n",
       "40469                None               None                         1   \n",
       "40470                None               None                         1   \n",
       "40471                None               None                         1   \n",
       "40472                None               None                         1   \n",
       "40473                None               None                         1   \n",
       "\n",
       "      OtherPhysicianPresent OperatingPhysicianPresent  \\\n",
       "0                         0                         0   \n",
       "1                         1                         1   \n",
       "2                         0                         1   \n",
       "3                         1                         1   \n",
       "4                         0                         1   \n",
       "...                     ...                       ...   \n",
       "40469                     1                         1   \n",
       "40470                     1                         1   \n",
       "40471                     0                         0   \n",
       "40472                     0                         1   \n",
       "40473                     0                         1   \n",
       "\n",
       "                                           DiagnosisCode  \\\n",
       "0      [1970, 4019, 5853, 7843, 2768, 71590, 2724, 19...   \n",
       "1      [4240, 2639, 2948, 40390, 45821, 28489, 5854, ...   \n",
       "2      [V5789, 4168, 73313, 7812, 7993, 78830, 72273,...   \n",
       "3      [71535, 71960, 4019, V1202, 4240, 2449, 2768, ...   \n",
       "4      [2330, None, None, None, None, None, None, Non...   \n",
       "...                                                  ...   \n",
       "40469  [78079, 45341, V1251, 41401, 2449, 2930, 78830...   \n",
       "40470  [486, 7905, V5867, 5990, 2859, 7904, 49121, 41...   \n",
       "40471  [42821, E9342, 42731, 5856, 4280, 5859, 51881,...   \n",
       "40472  [41071, 78552, 5856, V4581, 5789, 39891, 40390...   \n",
       "40473  [1629, 1985, 2841, 7907, 1983, 53081, V4582, 2...   \n",
       "\n",
       "                            ProcedureCode  \n",
       "0          [None, None, None, None, None]  \n",
       "1      [7769.0, 5849.0, None, None, None]  \n",
       "2        [9338.0, None, None, None, None]  \n",
       "3        [8154.0, None, None, None, None]  \n",
       "4        [8543.0, None, None, None, None]  \n",
       "...                                   ...  \n",
       "40469    [9955.0, None, None, None, None]  \n",
       "40470    [3326.0, None, None, None, None]  \n",
       "40471      [None, None, None, None, None]  \n",
       "40472    [9390.0, None, None, None, None]  \n",
       "40473    [3324.0, None, None, None, None]  \n",
       "\n",
       "[40474 rows x 55 columns]"
      ]
     },
     "execution_count": 18,
     "metadata": {},
     "output_type": "execute_result"
    }
   ],
   "source": [
    "Xlab2_df"
   ]
  },
  {
   "cell_type": "code",
   "execution_count": 19,
   "metadata": {
    "ExecuteTime": {
     "end_time": "2020-07-01T06:22:58.026733Z",
     "start_time": "2020-07-01T06:22:57.879730Z"
    }
   },
   "outputs": [
    {
     "data": {
      "text/html": [
       "<div>\n",
       "<style scoped>\n",
       "    .dataframe tbody tr th:only-of-type {\n",
       "        vertical-align: middle;\n",
       "    }\n",
       "\n",
       "    .dataframe tbody tr th {\n",
       "        vertical-align: top;\n",
       "    }\n",
       "\n",
       "    .dataframe thead th {\n",
       "        text-align: right;\n",
       "    }\n",
       "</style>\n",
       "<table border=\"1\" class=\"dataframe\">\n",
       "  <thead>\n",
       "    <tr style=\"text-align: right;\">\n",
       "      <th></th>\n",
       "      <th>Age</th>\n",
       "      <th>NoPhysician</th>\n",
       "      <th>NoOfDiag</th>\n",
       "      <th>NoOfProc</th>\n",
       "      <th>ORD_DOD</th>\n",
       "      <th>ORD_DOB</th>\n",
       "      <th>ORD_ClaimStartDt</th>\n",
       "      <th>ORD_ClaimEndDt</th>\n",
       "      <th>ORD_AdmissionDt</th>\n",
       "      <th>ORD_DischargeDt</th>\n",
       "      <th>DaysAdmitted</th>\n",
       "      <th>IPAnnualReimbursementAmt</th>\n",
       "      <th>IPAnnualDeductibleAmt</th>\n",
       "      <th>InscClaimAmtReimbursed</th>\n",
       "      <th>NoOfMonths_PartACov</th>\n",
       "      <th>NoOfMonths_PartBCov</th>\n",
       "      <th>AttendingPhysicianPresent</th>\n",
       "      <th>OtherPhysicianPresent</th>\n",
       "      <th>OperatingPhysicianPresent</th>\n",
       "    </tr>\n",
       "  </thead>\n",
       "  <tbody>\n",
       "    <tr>\n",
       "      <th>count</th>\n",
       "      <td>40474.000000</td>\n",
       "      <td>40474.000000</td>\n",
       "      <td>40474.000000</td>\n",
       "      <td>40474.000000</td>\n",
       "      <td>40474.000000</td>\n",
       "      <td>40474.000000</td>\n",
       "      <td>40474.000000</td>\n",
       "      <td>40474.000000</td>\n",
       "      <td>40474.000000</td>\n",
       "      <td>40474.000000</td>\n",
       "      <td>40474.000000</td>\n",
       "      <td>40474.000000</td>\n",
       "      <td>40474.000000</td>\n",
       "      <td>40474.000000</td>\n",
       "      <td>40474.000000</td>\n",
       "      <td>40474.000000</td>\n",
       "      <td>40474.000000</td>\n",
       "      <td>40474.000000</td>\n",
       "      <td>40474.000000</td>\n",
       "    </tr>\n",
       "    <tr>\n",
       "      <th>mean</th>\n",
       "      <td>73.181598</td>\n",
       "      <td>1.701883</td>\n",
       "      <td>8.087365</td>\n",
       "      <td>0.733607</td>\n",
       "      <td>802621.757573</td>\n",
       "      <td>706684.599867</td>\n",
       "      <td>733577.740698</td>\n",
       "      <td>733583.400949</td>\n",
       "      <td>733577.734867</td>\n",
       "      <td>733583.400035</td>\n",
       "      <td>6.665168</td>\n",
       "      <td>17528.645056</td>\n",
       "      <td>1887.461234</td>\n",
       "      <td>10087.884074</td>\n",
       "      <td>11.915402</td>\n",
       "      <td>11.922642</td>\n",
       "      <td>0.997233</td>\n",
       "      <td>0.115877</td>\n",
       "      <td>0.588773</td>\n",
       "    </tr>\n",
       "    <tr>\n",
       "      <th>std</th>\n",
       "      <td>13.187784</td>\n",
       "      <td>0.618905</td>\n",
       "      <td>1.851830</td>\n",
       "      <td>0.761113</td>\n",
       "      <td>6138.365984</td>\n",
       "      <td>4812.387520</td>\n",
       "      <td>104.884925</td>\n",
       "      <td>104.658338</td>\n",
       "      <td>104.888036</td>\n",
       "      <td>104.659525</td>\n",
       "      <td>5.638538</td>\n",
       "      <td>17562.156402</td>\n",
       "      <td>1686.848629</td>\n",
       "      <td>10303.099402</td>\n",
       "      <td>0.987961</td>\n",
       "      <td>0.879923</td>\n",
       "      <td>0.052532</td>\n",
       "      <td>0.320081</td>\n",
       "      <td>0.492062</td>\n",
       "    </tr>\n",
       "    <tr>\n",
       "      <th>min</th>\n",
       "      <td>25.000000</td>\n",
       "      <td>0.000000</td>\n",
       "      <td>1.000000</td>\n",
       "      <td>0.000000</td>\n",
       "      <td>733439.000000</td>\n",
       "      <td>696883.000000</td>\n",
       "      <td>733373.000000</td>\n",
       "      <td>733408.000000</td>\n",
       "      <td>733373.000000</td>\n",
       "      <td>733408.000000</td>\n",
       "      <td>1.000000</td>\n",
       "      <td>0.000000</td>\n",
       "      <td>0.000000</td>\n",
       "      <td>0.000000</td>\n",
       "      <td>0.000000</td>\n",
       "      <td>0.000000</td>\n",
       "      <td>0.000000</td>\n",
       "      <td>0.000000</td>\n",
       "      <td>0.000000</td>\n",
       "    </tr>\n",
       "    <tr>\n",
       "      <th>25%</th>\n",
       "      <td>67.000000</td>\n",
       "      <td>1.000000</td>\n",
       "      <td>8.000000</td>\n",
       "      <td>0.000000</td>\n",
       "      <td>803168.000000</td>\n",
       "      <td>703426.000000</td>\n",
       "      <td>733486.000000</td>\n",
       "      <td>733492.000000</td>\n",
       "      <td>733486.000000</td>\n",
       "      <td>733492.000000</td>\n",
       "      <td>3.000000</td>\n",
       "      <td>6000.000000</td>\n",
       "      <td>1068.000000</td>\n",
       "      <td>4000.000000</td>\n",
       "      <td>12.000000</td>\n",
       "      <td>12.000000</td>\n",
       "      <td>1.000000</td>\n",
       "      <td>0.000000</td>\n",
       "      <td>0.000000</td>\n",
       "    </tr>\n",
       "    <tr>\n",
       "      <th>50%</th>\n",
       "      <td>74.000000</td>\n",
       "      <td>2.000000</td>\n",
       "      <td>9.000000</td>\n",
       "      <td>1.000000</td>\n",
       "      <td>803168.000000</td>\n",
       "      <td>706287.000000</td>\n",
       "      <td>733574.000000</td>\n",
       "      <td>733580.000000</td>\n",
       "      <td>733574.000000</td>\n",
       "      <td>733580.000000</td>\n",
       "      <td>5.000000</td>\n",
       "      <td>12000.000000</td>\n",
       "      <td>1068.000000</td>\n",
       "      <td>7000.000000</td>\n",
       "      <td>12.000000</td>\n",
       "      <td>12.000000</td>\n",
       "      <td>1.000000</td>\n",
       "      <td>0.000000</td>\n",
       "      <td>1.000000</td>\n",
       "    </tr>\n",
       "    <tr>\n",
       "      <th>75%</th>\n",
       "      <td>82.000000</td>\n",
       "      <td>2.000000</td>\n",
       "      <td>9.000000</td>\n",
       "      <td>1.000000</td>\n",
       "      <td>803168.000000</td>\n",
       "      <td>708905.000000</td>\n",
       "      <td>733667.000000</td>\n",
       "      <td>733673.000000</td>\n",
       "      <td>733667.000000</td>\n",
       "      <td>733673.000000</td>\n",
       "      <td>8.000000</td>\n",
       "      <td>22000.000000</td>\n",
       "      <td>2136.000000</td>\n",
       "      <td>12000.000000</td>\n",
       "      <td>12.000000</td>\n",
       "      <td>12.000000</td>\n",
       "      <td>1.000000</td>\n",
       "      <td>0.000000</td>\n",
       "      <td>1.000000</td>\n",
       "    </tr>\n",
       "    <tr>\n",
       "      <th>max</th>\n",
       "      <td>101.000000</td>\n",
       "      <td>3.000000</td>\n",
       "      <td>10.000000</td>\n",
       "      <td>5.000000</td>\n",
       "      <td>803168.000000</td>\n",
       "      <td>724245.000000</td>\n",
       "      <td>733772.000000</td>\n",
       "      <td>733772.000000</td>\n",
       "      <td>733772.000000</td>\n",
       "      <td>733772.000000</td>\n",
       "      <td>36.000000</td>\n",
       "      <td>161470.000000</td>\n",
       "      <td>38272.000000</td>\n",
       "      <td>125000.000000</td>\n",
       "      <td>12.000000</td>\n",
       "      <td>12.000000</td>\n",
       "      <td>1.000000</td>\n",
       "      <td>1.000000</td>\n",
       "      <td>1.000000</td>\n",
       "    </tr>\n",
       "  </tbody>\n",
       "</table>\n",
       "</div>"
      ],
      "text/plain": [
       "                Age   NoPhysician      NoOfDiag      NoOfProc        ORD_DOD  \\\n",
       "count  40474.000000  40474.000000  40474.000000  40474.000000   40474.000000   \n",
       "mean      73.181598      1.701883      8.087365      0.733607  802621.757573   \n",
       "std       13.187784      0.618905      1.851830      0.761113    6138.365984   \n",
       "min       25.000000      0.000000      1.000000      0.000000  733439.000000   \n",
       "25%       67.000000      1.000000      8.000000      0.000000  803168.000000   \n",
       "50%       74.000000      2.000000      9.000000      1.000000  803168.000000   \n",
       "75%       82.000000      2.000000      9.000000      1.000000  803168.000000   \n",
       "max      101.000000      3.000000     10.000000      5.000000  803168.000000   \n",
       "\n",
       "             ORD_DOB  ORD_ClaimStartDt  ORD_ClaimEndDt  ORD_AdmissionDt  \\\n",
       "count   40474.000000      40474.000000    40474.000000     40474.000000   \n",
       "mean   706684.599867     733577.740698   733583.400949    733577.734867   \n",
       "std      4812.387520        104.884925      104.658338       104.888036   \n",
       "min    696883.000000     733373.000000   733408.000000    733373.000000   \n",
       "25%    703426.000000     733486.000000   733492.000000    733486.000000   \n",
       "50%    706287.000000     733574.000000   733580.000000    733574.000000   \n",
       "75%    708905.000000     733667.000000   733673.000000    733667.000000   \n",
       "max    724245.000000     733772.000000   733772.000000    733772.000000   \n",
       "\n",
       "       ORD_DischargeDt  DaysAdmitted  IPAnnualReimbursementAmt  \\\n",
       "count     40474.000000  40474.000000              40474.000000   \n",
       "mean     733583.400035      6.665168              17528.645056   \n",
       "std         104.659525      5.638538              17562.156402   \n",
       "min      733408.000000      1.000000                  0.000000   \n",
       "25%      733492.000000      3.000000               6000.000000   \n",
       "50%      733580.000000      5.000000              12000.000000   \n",
       "75%      733673.000000      8.000000              22000.000000   \n",
       "max      733772.000000     36.000000             161470.000000   \n",
       "\n",
       "       IPAnnualDeductibleAmt  InscClaimAmtReimbursed  NoOfMonths_PartACov  \\\n",
       "count           40474.000000            40474.000000         40474.000000   \n",
       "mean             1887.461234            10087.884074            11.915402   \n",
       "std              1686.848629            10303.099402             0.987961   \n",
       "min                 0.000000                0.000000             0.000000   \n",
       "25%              1068.000000             4000.000000            12.000000   \n",
       "50%              1068.000000             7000.000000            12.000000   \n",
       "75%              2136.000000            12000.000000            12.000000   \n",
       "max             38272.000000           125000.000000            12.000000   \n",
       "\n",
       "       NoOfMonths_PartBCov  AttendingPhysicianPresent  OtherPhysicianPresent  \\\n",
       "count         40474.000000               40474.000000           40474.000000   \n",
       "mean             11.922642                   0.997233               0.115877   \n",
       "std               0.879923                   0.052532               0.320081   \n",
       "min               0.000000                   0.000000               0.000000   \n",
       "25%              12.000000                   1.000000               0.000000   \n",
       "50%              12.000000                   1.000000               0.000000   \n",
       "75%              12.000000                   1.000000               0.000000   \n",
       "max              12.000000                   1.000000               1.000000   \n",
       "\n",
       "       OperatingPhysicianPresent  \n",
       "count               40474.000000  \n",
       "mean                    0.588773  \n",
       "std                     0.492062  \n",
       "min                     0.000000  \n",
       "25%                     0.000000  \n",
       "50%                     1.000000  \n",
       "75%                     1.000000  \n",
       "max                     1.000000  "
      ]
     },
     "execution_count": 19,
     "metadata": {},
     "output_type": "execute_result"
    }
   ],
   "source": [
    "Xlab2_df.describe()"
   ]
  },
  {
   "cell_type": "markdown",
   "metadata": {},
   "source": [
    "# Modeling and Evaluation 1"
   ]
  },
  {
   "cell_type": "markdown",
   "metadata": {},
   "source": [
    "## Task 1: Classification - Provider Fraud\n",
    "We will predict possible fraudulent claims and measure effectiveness using 10-fold cross validation and focus on attaining high metrics in F-1, recall and precision, in that order. Precision measures the percentage of fraudulent predictions which are truly fraudulent, and recall measures the total percentage of fraudulent claims correctly identified. These two metrics have been identified as most appropriate, due to our objective of correctly identifying fraudulent claims.  We want a high recall score, but not at the expense of precision (we can get 100% recall by classifying everyone as fraudulent).  F-1 should give us a good balance between the two, as they have an inverse relationship, where increasing one often decreases the other. \n",
    "\n",
    "## Task 2: Regression \n",
    "__TODO:__"
   ]
  },
  {
   "cell_type": "markdown",
   "metadata": {},
   "source": [
    "# Modeling and Evaluation 2"
   ]
  },
  {
   "cell_type": "markdown",
   "metadata": {},
   "source": [
    "## Sparse Matrix Conversion and Test/Train Split\n",
    "The minMax Scaler returns a dense numpy array.  Because we have so many features, we need to transform the data back into a sparse matrix for efficient . **CSC(Compressed Sparse Column)** is more efficient at accessing column-vectors or column operations, generally, as it is stored as arrays of columns and their value at each row.\n",
    "\n",
    "We chose to scale, convert to sparse and do test/train splits all before our pipeline in order to save processing time in the pipeline and grid search model execution steps.  The scaler takes a few minutes, and we don't want to introduce this lag to the repetitive pipeline.  This also gives us the advantage of using the exact same test/train splits for all models for a fair evaluation.  \n",
    "\n",
    "## Cross Validation Method\n",
    "\n",
    "We're using 10 fold cross validation because it will utilize it's own splits of the training data and help to ensures we don't overfit to the training data, in addition to witholding test data entirely from the models so we can more effectively evaluate generalization ability on a dataset that hasn't been seen by our models.  It has another benefit of using 10 different test/train splits of the training data, so if we happen by chance to get the best possible prediction outcome the first time we run it, we have 9 more chances to even out our prediction metrics using an average of the 10 runs.  This greatly increases our confidence that we are correctly reporting model performance metrics. "
   ]
  },
  {
   "cell_type": "code",
   "execution_count": 20,
   "metadata": {
    "ExecuteTime": {
     "end_time": "2020-07-01T06:23:23.583989Z",
     "start_time": "2020-07-01T06:23:23.537526Z"
    }
   },
   "outputs": [],
   "source": [
    "X = csc_matrix(X1)\n",
    "X_train,X_test,y_train,y_test = train_test_split(X,target_df,test_size=0.2,random_state=86)"
   ]
  },
  {
   "cell_type": "markdown",
   "metadata": {},
   "source": [
    "# Modeling and Evaluations 3"
   ]
  },
  {
   "cell_type": "markdown",
   "metadata": {},
   "source": [
    "## Create Models"
   ]
  },
  {
   "cell_type": "markdown",
   "metadata": {
    "ExecuteTime": {
     "end_time": "2020-07-01T06:48:18.365325Z",
     "start_time": "2020-07-01T06:48:18.361523Z"
    }
   },
   "source": [
    "### Classification Models \n",
    "#### Logistic regression\n",
    "* For logistic regression \n",
    "#### Random Forest\n",
    "\n",
    "#### Naive Bayes\n",
    "\n",
    "### Regression Models\n",
    "#### Multiple Linear Regression\n",
    "#### Random Forest\n",
    "#### kNN"
   ]
  },
  {
   "cell_type": "code",
   "execution_count": 77,
   "metadata": {},
   "outputs": [],
   "source": [
    "def testPerformance(clf):\n",
    "    start_time = timeit.default_timer()\n",
    "\n",
    "    # fit the model\n",
    "    clf.fit(X_train,y_train)\n",
    "\n",
    "    fit_time = timeit.default_timer() - start_time\n",
    "\n",
    "    # do 10-fold cross validation:\n",
    "    cv = ShuffleSplit(n_splits=10, test_size=.2, random_state=86)\n",
    "    f1scores = cross_val_score(clf, X_train, y_train, cv=cv, scoring='f1', n_jobs=-1)\n",
    "    PreScores = cross_val_score(clf, X_train, y_train, cv=cv, scoring='precision', n_jobs=-1)\n",
    "    RecScores = cross_val_score(clf, X_train, y_train, cv=cv, scoring='recall', n_jobs=-1)\n",
    "    print('10-fold Cross Validation results:')\n",
    "    print('---------------------------------')\n",
    "    print('F1 scores:', f1scores)\n",
    "    print('\\nPrecision scores', PreScores)\n",
    "    print('\\nRecall scores', RecScores)\n",
    "\n",
    "    print('\\nAverage F1: ',np.average(f1scores))\n",
    "    print('Min F1: ',np.min(f1scores))\n",
    "    print('Max F1: ',np.max(f1scores))\n",
    "    print('\\nAverage Precision: ',np.average(PreScores))\n",
    "    print('Min Precision: ',np.min(PreScores))\n",
    "    print('Max Precision: ',np.max(PreScores))\n",
    "    print('\\nAverage Recall: ',np.average(RecScores))\n",
    "    print('Min Recall: ',np.min(RecScores))\n",
    "    print('Max Recall: ',np.max(RecScores))\n",
    "\n",
    "    cv_time = timeit.default_timer() - start_time - fit_time\n",
    "\n",
    "    # Build Confusion Matrix:\n",
    "    y_pred=clf.predict(X_test)\n",
    "    cnf_matrix = metrics.confusion_matrix(y_test, y_pred)\n",
    "\n",
    "    class_names=[0,1] # name  of classes\n",
    "    fig, ax = plt.subplots()\n",
    "    tick_marks = np.arange(len(class_names))\n",
    "    plt.xticks(tick_marks, class_names)\n",
    "    plt.yticks(tick_marks, class_names)\n",
    "\n",
    "    # create heatmap\n",
    "    sns.heatmap(pd.DataFrame(cnf_matrix), annot=True, cmap=\"YlGnBu\" ,fmt='g')\n",
    "    ax.xaxis.set_label_position(\"top\")\n",
    "    plt.tight_layout()\n",
    "    plt.title('Potential Fraud Confusion matrix', y=1.1)\n",
    "    plt.ylabel('Actual Fraud')\n",
    "    plt.xlabel('Predicted Fraud')\n",
    "    plt.show\n",
    "    print('\\nSingle Run results:')\n",
    "    print('---------------------------------')\n",
    "    print(\"Accuracy:\",metrics.accuracy_score(y_test, y_pred))\n",
    "    print(\"Precision:\",metrics.precision_score(y_test, y_pred))\n",
    "    print(\"Recall:\",metrics.recall_score(y_test, y_pred))\n",
    "    print(\"F1:\",metrics.f1_score(y_test, y_pred))\n",
    "    \n",
    "    print(\"\\nFit time: \", fit_time)\n",
    "    print(\"CV time: \", cv_time)\n",
    "    print(\"Total time: \", timeit.default_timer() - start_time)"
   ]
  },
  {
   "cell_type": "code",
   "execution_count": 84,
   "metadata": {},
   "outputs": [
    {
     "name": "stdout",
     "output_type": "stream",
     "text": [
      "\n",
      "grid time:  30.366825274017174\n"
     ]
    },
    {
     "data": {
      "text/plain": [
       "Pipeline(memory=None,\n",
       "         steps=[('logisticregression',\n",
       "                 LogisticRegression(C=0.1, class_weight='None', dual=False,\n",
       "                                    fit_intercept=True, intercept_scaling=1,\n",
       "                                    l1_ratio=None, max_iter=1000,\n",
       "                                    multi_class='auto', n_jobs=-1, penalty='l2',\n",
       "                                    random_state=86, solver='sag', tol=0.0001,\n",
       "                                    verbose=0, warm_start=False))],\n",
       "         verbose=False)"
      ]
     },
     "execution_count": 84,
     "metadata": {},
     "output_type": "execute_result"
    }
   ],
   "source": [
    "\"\"\"Dustin's Pipe/Grid: don't run, it takes forever.  Testing params\"\"\"\n",
    "cv = ShuffleSplit(n_splits=10, test_size=.2, random_state=86)\n",
    "\n",
    "pipe = make_pipeline(LogisticRegression())\n",
    "# Define a range of hyper parameters for grid search\n",
    "parameters = { 'logisticregression__penalty':['l1','l2']\n",
    "              ,'logisticregression__C': [.01, .1]\n",
    "              ,'logisticregression__class_weight': ['balanced','None']\n",
    "              ,'logisticregression__random_state': [86]\n",
    "              ,'logisticregression__solver': ['sag','liblinear','lbfgs']\n",
    "              ,'logisticregression__max_iter':[1000]\n",
    "              ,'logisticregression__n_jobs':[-1]\n",
    "           #   ,'randomforestclassifier__n_jobs':[-1]\n",
    "             }\n",
    "#Perform the grid search using accuracy as a metric during cross validation.\n",
    "grid = GridSearchCV(pipe, parameters, cv=cv, scoring='accuracy', n_jobs=-1)\n",
    "#Use the best features from recursive feature elimination during the grid search\n",
    "start_time = timeit.default_timer()\n",
    "grid.fit(X_train, y_train)\n",
    "grid_time = timeit.default_timer() - start_time\n",
    "#display the best pipeline model identified during the grid search\n",
    "print(\"\\ngrid time: \", grid_time)\n",
    "grid.best_estimator_"
   ]
  },
  {
   "cell_type": "code",
   "execution_count": 76,
   "metadata": {},
   "outputs": [],
   "source": [
    "#ME5 = pd.DataFrame.from_dict(grid.cv_results_)\n",
    "#ME5.to_excel('ME5.xlsx')"
   ]
  },
  {
   "cell_type": "code",
   "execution_count": 79,
   "metadata": {},
   "outputs": [
    {
     "name": "stdout",
     "output_type": "stream",
     "text": [
      "10-fold Cross Validation results:\n",
      "---------------------------------\n",
      "F1 scores: [0.6985588  0.69551477 0.70301708 0.7022607  0.70770711 0.70599613\n",
      " 0.70004815 0.69959849 0.71029836 0.70629119]\n",
      "\n",
      "Precision scores [0.62329803 0.63338499 0.64224043 0.64274708 0.64075767 0.6428886\n",
      " 0.63313738 0.63917297 0.65878152 0.63362718]\n",
      "\n",
      "Recall scores [0.79449036 0.77115903 0.77649893 0.77391996 0.79027927 0.78284182\n",
      " 0.78277254 0.77264176 0.77055599 0.79778018]\n",
      "\n",
      "Average F1:  0.7029290785261024\n",
      "Min F1:  0.6955147684453628\n",
      "Max F1:  0.710298363811357\n",
      "\n",
      "Average Precision:  0.6390035849530873\n",
      "Min Precision:  0.6232980332829047\n",
      "Max Precision:  0.6587815219817005\n",
      "\n",
      "Average Recall:  0.7812939848758614\n",
      "Min Recall:  0.7705559906029757\n",
      "Max Recall:  0.7977801840822956\n",
      "\n",
      "Single Run results:\n",
      "---------------------------------\n",
      "Accuracy: 0.6219888820259419\n",
      "Precision: 0.6385182584269663\n",
      "Recall: 0.7841742130228547\n",
      "F1: 0.7038900716082833\n",
      "\n",
      "Fit time:  2.1103157220059074\n",
      "CV time:  11.769263021007646\n",
      "Total time:  13.984492135001346\n"
     ]
    },
    {
     "data": {
      "image/png": "[encoded data removed]",
      "text/plain": [
       "<Figure size 576x396 with 2 Axes>"
      ]
     },
     "metadata": {},
     "output_type": "display_data"
    }
   ],
   "source": [
    "\"\"\"Pipeline(memory=None,\n",
    "         steps=[('logisticregression',\n",
    "                 LogisticRegression(C=0.1, class_weight='None', dual=False,\n",
    "                                    fit_intercept=True, intercept_scaling=1,\n",
    "                                    l1_ratio=None, max_iter=500,\n",
    "                                    multi_class='auto', n_jobs=None,\n",
    "                                    penalty='l2', random_state=86, solver='sag',\n",
    "                                    tol=0.0001, verbose=0, warm_start=False))],\n",
    "         verbose=False)\"\"\"\n",
    "\n",
    "logreg = grid.best_estimator_[0]\n",
    "\n",
    "testPerformance(logreg)"
   ]
  },
  {
   "cell_type": "code",
   "execution_count": 22,
   "metadata": {},
   "outputs": [
    {
     "data": {
      "text/html": [
       "<div>\n",
       "<style scoped>\n",
       "    .dataframe tbody tr th:only-of-type {\n",
       "        vertical-align: middle;\n",
       "    }\n",
       "\n",
       "    .dataframe tbody tr th {\n",
       "        vertical-align: top;\n",
       "    }\n",
       "\n",
       "    .dataframe thead th {\n",
       "        text-align: right;\n",
       "    }\n",
       "</style>\n",
       "<table border=\"1\" class=\"dataframe\">\n",
       "  <thead>\n",
       "    <tr style=\"text-align: right;\">\n",
       "      <th></th>\n",
       "      <th>Feature</th>\n",
       "      <th>Weight</th>\n",
       "    </tr>\n",
       "  </thead>\n",
       "  <tbody>\n",
       "    <tr>\n",
       "      <th>6146</th>\n",
       "      <td>County_191</td>\n",
       "      <td>[-3.1403467713858007]</td>\n",
       "    </tr>\n",
       "    <tr>\n",
       "      <th>6384</th>\n",
       "      <td>County_981</td>\n",
       "      <td>[-2.9951515025534943]</td>\n",
       "    </tr>\n",
       "    <tr>\n",
       "      <th>6294</th>\n",
       "      <td>County_794</td>\n",
       "      <td>[-2.9035781149290796]</td>\n",
       "    </tr>\n",
       "    <tr>\n",
       "      <th>6285</th>\n",
       "      <td>County_771</td>\n",
       "      <td>[-2.8339299369851942]</td>\n",
       "    </tr>\n",
       "    <tr>\n",
       "      <th>6394</th>\n",
       "      <td>County_991</td>\n",
       "      <td>[-2.3804007727917624]</td>\n",
       "    </tr>\n",
       "    <tr>\n",
       "      <th>...</th>\n",
       "      <td>...</td>\n",
       "      <td>...</td>\n",
       "    </tr>\n",
       "    <tr>\n",
       "      <th>6392</th>\n",
       "      <td>County_989</td>\n",
       "      <td>[1.8696175998291356]</td>\n",
       "    </tr>\n",
       "    <tr>\n",
       "      <th>6248</th>\n",
       "      <td>County_651</td>\n",
       "      <td>[2.16679577719001]</td>\n",
       "    </tr>\n",
       "    <tr>\n",
       "      <th>6374</th>\n",
       "      <td>County_971</td>\n",
       "      <td>[2.2543145667200353]</td>\n",
       "    </tr>\n",
       "    <tr>\n",
       "      <th>2318</th>\n",
       "      <td>DiagnosisCode_30300</td>\n",
       "      <td>[2.4759925914396304]</td>\n",
       "    </tr>\n",
       "    <tr>\n",
       "      <th>164</th>\n",
       "      <td>ProcedureCode_3241.0</td>\n",
       "      <td>[2.5664772760376393]</td>\n",
       "    </tr>\n",
       "  </tbody>\n",
       "</table>\n",
       "<p>9077 rows × 2 columns</p>\n",
       "</div>"
      ],
      "text/plain": [
       "                   Feature                 Weight\n",
       "6146            County_191  [-3.1403467713858007]\n",
       "6384            County_981  [-2.9951515025534943]\n",
       "6294            County_794  [-2.9035781149290796]\n",
       "6285            County_771  [-2.8339299369851942]\n",
       "6394            County_991  [-2.3804007727917624]\n",
       "...                    ...                    ...\n",
       "6392            County_989   [1.8696175998291356]\n",
       "6248            County_651     [2.16679577719001]\n",
       "6374            County_971   [2.2543145667200353]\n",
       "2318   DiagnosisCode_30300   [2.4759925914396304]\n",
       "164   ProcedureCode_3241.0   [2.5664772760376393]\n",
       "\n",
       "[9077 rows x 2 columns]"
      ]
     },
     "execution_count": 22,
     "metadata": {},
     "output_type": "execute_result"
    }
   ],
   "source": [
    "# summarize feature importance\n",
    "zip_vars = zip(ipdata.columns,logreg.coef_.T) # combine attributes\n",
    "FeatureWeights = pd.DataFrame(list(zip_vars), columns=['Feature', 'Weight'])\n",
    "\n",
    "FeatureWeights.sort_values(by='Weight')"
   ]
  },
  {
   "cell_type": "markdown",
   "metadata": {},
   "source": [
    "# Modeling and Evaluations 4"
   ]
  },
  {
   "cell_type": "markdown",
   "metadata": {},
   "source": [
    "__TODO:__ Visualize results \n",
    "\n",
    "People don't explain 'why' which will deduct points \n",
    "\n",
    "Analyze how the model is performing \n",
    "\n",
    "Explaination is bolstered by analysis \n",
    "\n",
    "TIP: YellowBrick (it's a pkg) for visualizing estimators "
   ]
  },
  {
   "cell_type": "markdown",
   "metadata": {},
   "source": [
    "# Modeling and Evaluations 5"
   ]
  },
  {
   "cell_type": "markdown",
   "metadata": {},
   "source": [
    "__TODO:__\n",
    "Discuss advantages of models for a classification task \n",
    "\n",
    "Give table, how many models you built \n",
    "\n",
    "CV results object from grid search will give all of that information \n",
    "\n",
    "TIP Put in a dataframe in ME5 and then talk about \n",
    "\n",
    "Here's all the models we did, here is the best one (or top 3) \n",
    "\n",
    "Is there one that runs 10x as long and a slightly inferior runs fast \n",
    "\n",
    "Is the difference between models significant? \n",
    "\n",
    "Long method 1: Notebook #6 and use student's paired t test (at bottom), correct t value and folds \n",
    "\n",
    "Long method 2: generate ROC curves for each model \n",
    "\n",
    "If you use ROC as your eval metric, it is statistically sound measure, so if one has a larger area under curve, it is a better model statistically speaking. \n",
    "\n",
    "Can use micro average ROC curve with multiclass problem \n",
    "\n",
    "If you already did both, ask for exceptional points \n",
    "\n",
    "TIP: mlxtend has an 'evaluate' library for significant test \n",
    "\n",
    "Can get comprehensive with paired_ttest5x2cv \n",
    "\n",
    "Calling library and function will spit out exactly what you need "
   ]
  },
  {
   "cell_type": "markdown",
   "metadata": {},
   "source": [
    "# Modeling and Evaluations 6"
   ]
  },
  {
   "cell_type": "markdown",
   "metadata": {},
   "source": [
    "__TODO:__\n",
    "    Two options: \n",
    "\n",
    "Both tasks are on same dataset.  do two feature importance and opine difference between two \n",
    "\n",
    "Make sure you do feature importance on scaled data if you're using coefficients \n",
    "\n",
    "Use some other type of feature eval technique (mlextend library has multiple options) "
   ]
  },
  {
   "cell_type": "markdown",
   "metadata": {},
   "source": [
    "# Deployment"
   ]
  },
  {
   "cell_type": "markdown",
   "metadata": {},
   "source": [
    "__TODO:__\n",
    "    Address each question (in a subsection) \n",
    "\n",
    "2 ways to go about it \n",
    "\n",
    "Just because you can't predict something in the real world, doesn't necessarily mean you aren't interested in model's ability to predict \n",
    "\n",
    "Predict graduation rate for public schools (schools know their rates.. But they would be interested in what is correlated with grad rates) \n",
    "\n",
    "Maybe it's not useful for prediction, but could be used for EDA "
   ]
  },
  {
   "cell_type": "markdown",
   "metadata": {},
   "source": [
    "# Exceptional Work\n",
    "### Preprocessing:\n",
    "We would like credit for the large amount of preprocessing that went into our data.  We have a large variety of features in the dataset, many of which required clever feature engineering tricks to improve performance.  Conversion to the sparse matrix took a good bit of research, and continues to be an effort for implementation, since not every model or library will accept a sparse matrix.  The conversion of procedure codes and diagnosis codes from multiple columns into a one hot encoded dataframe took a significant amount of time/effort, most of the out of the box libraries we tried would not parse a list object and it took a lot of experimentation and research.  The performance improved as it reduced our total featureset footprint from > 40,000 to around 9,000.   \n",
    "\n",
    "### Pipelines and Grid Search:\n",
    "We decided to implement Pipelines and Grid Search in order to reduce the copy/paste and number of variables we need to work with.  This is a new concept barely touched on in class, and it required significant amounts of research time to implement before we could move on to model evaluation, visualization and discussion.  "
   ]
  },
  {
   "cell_type": "markdown",
   "metadata": {},
   "source": [
    "# References"
   ]
  },
  {
   "cell_type": "markdown",
   "metadata": {},
   "source": [
    "1. <a href=\"https://machinelearningmastery.com/k-fold-cross-validation/\"> https://machinelearningmastery.com/k-fold-cross-validation/ </a> K-Fold Cross Validation\n"
   ]
  },
  {
   "cell_type": "code",
   "execution_count": null,
   "metadata": {},
   "outputs": [],
   "source": []
  }
 ],
 "metadata": {
  "kernelspec": {
   "display_name": "Python 3",
   "language": "python",
   "name": "python3"
  },
  "language_info": {
   "codemirror_mode": {
    "name": "ipython",
    "version": 3
   },
   "file_extension": ".py",
   "mimetype": "text/x-python",
   "name": "python",
   "nbconvert_exporter": "python",
   "pygments_lexer": "ipython3",
   "version": "3.7.7"
  },
  "latex_envs": {
   "LaTeX_envs_menu_present": false,
   "autoclose": false,
   "autocomplete": true,
   "bibliofile": "biblio.bib",
   "cite_by": "apalike",
   "current_citInitial": 1,
   "eqLabelWithNumbers": true,
   "eqNumInitial": 1,
   "hotkeys": {
    "equation": "Ctrl-E",
    "itemize": "Ctrl-I"
   },
   "labels_anchors": true,
   "latex_user_defs": false,
   "report_style_numbering": false,
   "user_envs_cfg": false
  },
  "toc": {
   "base_numbering": 1,
   "nav_menu": {},
   "number_sections": false,
   "sideBar": true,
   "skip_h1_title": false,
   "title_cell": "Table of Contents",
   "title_sidebar": "Contents",
   "toc_cell": true,
   "toc_position": {
    "height": "calc(100% - 180px)",
    "left": "10px",
    "top": "150px",
    "width": "285px"
   },
   "toc_section_display": true,
   "toc_window_display": false
  },
  "varInspector": {
   "cols": {
    "lenName": 16,
    "lenType": 16,
    "lenVar": 40
   },
   "kernels_config": {
    "python": {
     "delete_cmd_postfix": "",
     "delete_cmd_prefix": "del ",
     "library": "var_list.py",
     "varRefreshCmd": "print(var_dic_list())"
    },
    "r": {
     "delete_cmd_postfix": ") ",
     "delete_cmd_prefix": "rm(",
     "library": "var_list.r",
     "varRefreshCmd": "cat(var_dic_list()) "
    }
   },
   "oldHeight": 365,
   "position": {
    "height": "40px",
    "left": "789px",
    "right": "20px",
    "top": "120px",
    "width": "630px"
   },
   "types_to_exclude": [
    "module",
    "function",
    "builtin_function_or_method",
    "instance",
    "_Feature"
   ],
   "varInspector_section_display": "none",
   "window_display": false
  }
 },
 "nbformat": 4,
 "nbformat_minor": 4
}
