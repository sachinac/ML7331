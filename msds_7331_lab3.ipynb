{
 "cells": [
  {
   "cell_type": "markdown",
   "metadata": {},
   "source": [
    "<font size=6> <b> SMU Lab Three - MSDS7331 - Machine Learning-1 </b> </font>\n",
    "\n",
    "<font size=5> <b> Summer 2020 Group - Sachin, Ikenna, Edgar, Dustin </b></font> \n",
    "\n",
    "\n",
    "\n",
    "\n",
    "<img src=\"https://github.com/sachinac/ML7331/blob/master/data/maxresdefault.png?raw=true\" alt=\"Recommender\" border=\"4\"> \n",
    "<div align=\"center\"> Image Source : Google Images </div>\n",
    "<p align=\"center\"><font size=5> <b> Movie Recommender System  </b></font> </p>"
   ]
  },
  {
   "cell_type": "markdown",
   "metadata": {
    "toc": true
   },
   "source": [
    "<h1>Table of Contents<span class=\"tocSkip\"></span></h1>\n",
    "<div class=\"toc\"><ul class=\"toc-item\"><li><span><a href=\"#Import-Libraries\" data-toc-modified-id=\"Import-Libraries-1\">Import Libraries</a></span></li><li><span><a href=\"#Introduction\" data-toc-modified-id=\"Introduction-2\">Introduction</a></span></li><li><span><a href=\"#Business-Understanding\" data-toc-modified-id=\"Business-Understanding-3\">Business Understanding</a></span></li><li><span><a href=\"#Data-Understanding-1\" data-toc-modified-id=\"Data-Understanding-1-4\">Data Understanding 1</a></span><ul class=\"toc-item\"><li><span><a href=\"#Data-source\" data-toc-modified-id=\"Data-source-4.1\">Data source</a></span></li><li><span><a href=\"#Data-Description-Summary\" data-toc-modified-id=\"Data-Description-Summary-4.2\">Data Description Summary</a></span></li><li><span><a href=\"#Download-from-AWS-S3:\" data-toc-modified-id=\"Download-from-AWS-S3:-4.3\">Download from AWS S3:</a></span></li><li><span><a href=\"#Load-Data\" data-toc-modified-id=\"Load-Data-4.4\">Load Data</a></span></li><li><span><a href=\"#Get-the-glimpse-of-the-data\" data-toc-modified-id=\"Get-the-glimpse-of-the-data-4.5\">Get the glimpse of the data</a></span><ul class=\"toc-item\"><li><span><a href=\"#Credits\" data-toc-modified-id=\"Credits-4.5.1\">Credits</a></span></li><li><span><a href=\"#Keywords\" data-toc-modified-id=\"Keywords-4.5.2\">Keywords</a></span></li><li><span><a href=\"#Movies-Metadata\" data-toc-modified-id=\"Movies-Metadata-4.5.3\">Movies Metadata</a></span></li><li><span><a href=\"#Movie-ratings\" data-toc-modified-id=\"Movie-ratings-4.5.4\">Movie ratings</a></span></li><li><span><a href=\"#Links\" data-toc-modified-id=\"Links-4.5.5\">Links</a></span></li></ul></li><li><span><a href=\"#Data-Preprocessing\" data-toc-modified-id=\"Data-Preprocessing-4.6\">Data Preprocessing</a></span><ul class=\"toc-item\"><li><span><a href=\"#Movie-Credits\" data-toc-modified-id=\"Movie-Credits-4.6.1\">Movie Credits</a></span></li><li><span><a href=\"#Movie-Keywords\" data-toc-modified-id=\"Movie-Keywords-4.6.2\">Movie Keywords</a></span></li><li><span><a href=\"#Movie-Metadata\" data-toc-modified-id=\"Movie-Metadata-4.6.3\">Movie Metadata</a></span></li><li><span><a href=\"#Movie-Ratings\" data-toc-modified-id=\"Movie-Ratings-4.6.4\">Movie Ratings</a></span></li></ul></li><li><span><a href=\"#Descriptive-Statistics-Summary\" data-toc-modified-id=\"Descriptive-Statistics-Summary-4.7\">Descriptive Statistics Summary</a></span><ul class=\"toc-item\"><li><span><a href=\"#Credits/Keyword-Stats-Summary\" data-toc-modified-id=\"Credits/Keyword-Stats-Summary-4.7.1\">Credits/Keyword Stats Summary</a></span></li><li><span><a href=\"#Ratings-Stats-Summary\" data-toc-modified-id=\"Ratings-Stats-Summary-4.7.2\">Ratings Stats Summary</a></span></li><li><span><a href=\"#Movies-MetaData-Stats-Summary\" data-toc-modified-id=\"Movies-MetaData-Stats-Summary-4.7.3\">Movies MetaData Stats Summary</a></span></li></ul></li></ul></li><li><span><a href=\"#Data-Understanding-2---Visualization\" data-toc-modified-id=\"Data-Understanding-2---Visualization-5\">Data Understanding 2 - Visualization</a></span><ul class=\"toc-item\"><li><ul class=\"toc-item\"><li><span><a href=\"#Distribution-of-Movie-Popularity\" data-toc-modified-id=\"Distribution-of-Movie-Popularity-5.0.1\">Distribution of Movie Popularity</a></span></li><li><span><a href=\"#Distribution-of-Movie-Ratings\" data-toc-modified-id=\"Distribution-of-Movie-Ratings-5.0.2\">Distribution of Movie Ratings</a></span></li><li><span><a href=\"#Distribution-of-Movie-Genres\" data-toc-modified-id=\"Distribution-of-Movie-Genres-5.0.3\">Distribution of Movie Genres</a></span></li><li><span><a href=\"#Distribution-of-vote-average\" data-toc-modified-id=\"Distribution-of-vote-average-5.0.4\">Distribution of vote average</a></span></li><li><span><a href=\"#Word-cloud---Common-Keywords\" data-toc-modified-id=\"Word-cloud---Common-Keywords-5.0.5\">Word cloud - Common Keywords</a></span></li><li><span><a href=\"#Top-10-Stats:\" data-toc-modified-id=\"Top-10-Stats:-5.0.6\">Top 10 Stats:</a></span></li><li><span><a href=\"#Top-10-Popular-Movies\" data-toc-modified-id=\"Top-10-Popular-Movies-5.0.7\">Top 10 Popular Movies</a></span></li><li><span><a href=\"#Top-10-High-Budget-Movies\" data-toc-modified-id=\"Top-10-High-Budget-Movies-5.0.8\">Top 10 High Budget Movies</a></span></li><li><span><a href=\"#Top-10-actors\" data-toc-modified-id=\"Top-10-actors-5.0.9\">Top 10 actors</a></span></li><li><span><a href=\"#Top-10-Genres\" data-toc-modified-id=\"Top-10-Genres-5.0.10\">Top 10 Genres</a></span></li><li><span><a href=\"#Top-10-Directors\" data-toc-modified-id=\"Top-10-Directors-5.0.11\">Top 10 Directors</a></span></li><li><span><a href=\"#Top-10-Producers\" data-toc-modified-id=\"Top-10-Producers-5.0.12\">Top 10 Producers</a></span></li><li><span><a href=\"#Top-10-Collections\" data-toc-modified-id=\"Top-10-Collections-5.0.13\">Top 10 Collections</a></span></li><li><span><a href=\"#Top-10-Original-languages\" data-toc-modified-id=\"Top-10-Original-languages-5.0.14\">Top 10 Original languages</a></span></li><li><span><a href=\"#Top-10-Spoken-Languages\" data-toc-modified-id=\"Top-10-Spoken-Languages-5.0.15\">Top 10 Spoken Languages</a></span></li><li><span><a href=\"#Top-10-Movies-by-vote_count\" data-toc-modified-id=\"Top-10-Movies-by-vote_count-5.0.16\">Top 10 Movies by vote_count</a></span></li></ul></li></ul></li><li><span><a href=\"#Modeling-and-Evaluation-1\" data-toc-modified-id=\"Modeling-and-Evaluation-1-6\">Modeling and Evaluation 1</a></span><ul class=\"toc-item\"><li><span><a href=\"#Set-GPU-for-Recommendation-System\" data-toc-modified-id=\"Set-GPU-for-Recommendation-System-6.1\">Set GPU for Recommendation System</a></span></li><li><span><a href=\"#Train-Test-Split\" data-toc-modified-id=\"Train-Test-Split-6.2\">Train Test Split</a></span></li><li><span><a href=\"#Basic-Explicit-Model-(user-item)\" data-toc-modified-id=\"Basic-Explicit-Model-(user-item)-6.3\">Basic Explicit Model (user-item)</a></span></li></ul></li><li><span><a href=\"#Modeling-and-Evaluation-2\" data-toc-modified-id=\"Modeling-and-Evaluation-2-7\">Modeling and Evaluation 2</a></span></li><li><span><a href=\"#Modeling-and-Evaluation-3\" data-toc-modified-id=\"Modeling-and-Evaluation-3-8\">Modeling and Evaluation 3</a></span></li><li><span><a href=\"#Modeling-and-Evaluation-4\" data-toc-modified-id=\"Modeling-and-Evaluation-4-9\">Modeling and Evaluation 4</a></span></li><li><span><a href=\"#Deployment\" data-toc-modified-id=\"Deployment-10\">Deployment</a></span></li><li><span><a href=\"#Exceptional-Work\" data-toc-modified-id=\"Exceptional-Work-11\">Exceptional Work</a></span></li><li><span><a href=\"#References\" data-toc-modified-id=\"References-12\">References</a></span></li></ul></div>"
   ]
  },
  {
   "cell_type": "markdown",
   "metadata": {},
   "source": [
    "# Import Libraries"
   ]
  },
  {
   "cell_type": "code",
   "execution_count": 2,
   "metadata": {
    "ExecuteTime": {
     "end_time": "2020-08-08T16:25:40.172282Z",
     "start_time": "2020-08-08T16:25:38.178058Z"
    }
   },
   "outputs": [],
   "source": [
    "import pandas as pd\n",
    "import numpy as np\n",
    "import turicreate as tc\n",
    "import ast\n",
    "import wget\n",
    "import zipfile\n",
    "import os\n",
    "import seaborn as sns\n",
    "import matplotlib.pyplot as plt\n",
    "from datetime import datetime\n",
    "\n",
    "from sklearn.preprocessing import MultiLabelBinarizer\n",
    "from wordcloud import WordCloud, STOPWORDS\n",
    "\n",
    "timebreak = '\\n\\n----------------------------------------------------\\nCell Processing Time'"
   ]
  },
  {
   "cell_type": "markdown",
   "metadata": {},
   "source": [
    "# Introduction"
   ]
  },
  {
   "cell_type": "markdown",
   "metadata": {},
   "source": [
    "<i> \"A recommender system calculates and provides relevant content to the user based on knowledge of the user, content, and interactions between the user and the item.\" </i> - Practical Recommeder Systems by Kim Falk \n",
    "\n",
    "<b> What are recommender Systems ? </b>\n",
    "\n",
    "Systems that are designed to predict user's interests and recommend product items that are likely interesting for them. These are most powerful system particularly for online retailers to boost sales. E-commerce and retail companies are leveraging power of data and boosting sales by implementing recommender systems on their websites. The use cases of these systems have been steadily increasing within the last few years.\n",
    "\n",
    "Companies like Amazon, Netflix, Linkedin, and Pandora leverage recommender systems to help users discover new and relevant items (products, videos, jobs, music), creating a delightful user experience while driving incremental revenue. The purpose of recommender systems is to tempt/persuade customer to buy a product/service by providing relevant information that interest to them right at their fingretips.\n",
    "\n",
    "Recommendations typically speed up searches and make it easier for users to access content they’re interested in, and surprise them with offers they would have never searched for.\n",
    "\n",
    "What is more, companies are able to gain and retain customers by sending out emails with links to new offers that meet the recipients’ interests, or suggestions of films and TV shows that suit their profiles.The user starts to feel known and understood and is more likely to buy additional products or consume more content. By knowing what a user wants, the company gains competitive advantage and the threat of losing a customer to a competitor decreases.\n",
    "\n",
    "Providing that added value to users by including recommendations in systems and products is appealing. Furthermore, it allows companies to position ahead of their competitors and eventually increase their earnings.\n",
    "\n",
    "Various types of recommendations systems are depcited in below diagram.<br><br>\n",
    "\n",
    "  <div class=\"image1\" align=\"center\">\n",
    "  <img src=\"https://d1m75rqqgidzqn.cloudfront.net/wp-data/2019/11/19121357/types-of-recommendation-systember.jpg\" width=\"400\" height=\"300\" alt=\"Screen 1\"/>\n",
    "    <a href=\"https://d1m75rqqgidzqn.cloudfront.net/wp-data/2019/11/19121357/types-of-recommendation-systember.jpg\"> \n",
    "        Image Source </a>\n",
    "  </div>\n",
    "  \n",
    "\n",
    "For this assignment we will focus on user based and item based system which are based on nearest neighbour.\n",
    "\n",
    "\n"
   ]
  },
  {
   "cell_type": "markdown",
   "metadata": {},
   "source": [
    "# Business Understanding\n",
    "\n",
    "\n",
    "In this notebook we aim to build movie recommendations system using Apple's <a href=\"https://apple.github.io/turicreate/docs/userguide/recommender/\"> Turicreate </a> package.The system that we are going to build will go a but deeper than traditional grouplens movie ratings dataset.In this notebook, we will be utilizing the popular movies dataset comprised of 26 million movie ratings from the GroupLens website, but with additional augmented data from TMDB which provides details including more detailed movie metadata such as: cast, crew, budget, country, revenue, languages and plot keywords on approximately 45,000 movies released prior to August 2017.\n",
    "\n",
    "We will explore various methods for recommending movies to users based on content based and collaborative filtering methods. <b> Because movie taste is highly subjective, it may prove difficult to measure the effectiveness of our algorithms, but we will capture Root Mean Square Errored (RMSE) to compare predicted vs actual ratings for items.</b> We will also look at precision and recall for per-user and per-item metrics, as well as calculating metrics in different ways such as by genre or country or origin.\n",
    "\n",
    "Here is general overview movie recommender system.\n",
    "\n",
    "In general recommendation systems consist of following components\n",
    "\n",
    "<b>1) Candidate generation </b><br><br>\n",
    "    Starts from potentially huge corpus to smaller subset of candidates. e.g Candidate generator in youtube reduces \n",
    "    billions of videos to hundred or thousands<br><br>\n",
    "    \n",
    "Following table shows two common candidate generation approaches.\n",
    "    \n",
    "<table>\n",
    "  <tr>\n",
    "    <th  style=\"text-align:center\">Type </th>\n",
    "    <th  style=\"text-align:center\" width=\"100px\">Definition</th>\n",
    "    <th  style=\"text-align:center\" width=\"100px\">Example</th>\n",
    "  </tr>\n",
    "  <tr>\n",
    "    <td style=\"text-align:left\" width=\"100px\">content-based filtering</td>\n",
    "    <td style=\"text-align:left\">Uses similarity between items to recommend items similar to what the user likes.</td>\n",
    "    <td style=\"text-align:left\">If user A watches two cute cat videos, then the system can recommend cute animal videos to that user.</td>\n",
    "  </tr>\n",
    "  <tr>\n",
    "    <td style=\"text-align:left\">collaborative filtering</td>\n",
    "    <td style=\"text-align:left\">Uses similarities between queries and items simultaneously to provide recommendations</td>\n",
    "    <td style=\"text-align:left\">If user A is similar to user B, and user B likes video 1, then the system can recommend video 1 to user A (even if user A hasn’t seen any videos similar to video 1).</td>\n",
    "  </tr>\n",
    "</table>\n",
    "\n",
    "    \n",
    "<b> 2)  Scoring </b> <br> <br>\n",
    "Next, another model scores and ranks the candidates in order to select the set of items (on the order of 10) to display to the user. <br><br>\n",
    "\n",
    "<b>3) Re-Ranking</b><br><br>\n",
    "Finally, the system must take into account additional constraints for the final ranking. For example, the system removes items that the user explicitly disliked or boosts the score of fresher content. Re-ranking can also help ensure diversity, freshness, and fairness<br><br>\n",
    "\n",
    "\n",
    "\n",
    "\n",
    "   \n",
    "<font size=4> <b> Content based filtering </b> </font>\n",
    "\n",
    "Content-based filtering uses item features (movie-metadata) to recommend other items similar to what the user likes, based on their previous actions or explicit feedback. Movie dataset that we have obtained contains only ratings as explicit feedback. There are no other user's action data available in this dataset.\n",
    "\n",
    "So this filter does not involve other users. It only recommends based on what particular user likes and recommends item with similar content. e.g If user A likes comedy and action movies and user B also likes comedy but never watched action movies,collborative filter will recommend action movies to user B based on common comedy movies and later it may turn out that User B also likes action movies and he gets more recommendations on this list. \n",
    "\n",
    "<table>\n",
    "    <tr>\n",
    "  <td style=\"background-color: transparent;\">\n",
    "    <img src=\"https://github.com/sachinac/ML7331/blob/master/data/content_based_filter.png?raw=true\" alt=\"Snow\" style=\"height:30%;width:100%;text-align:left\">\n",
    "      <div style=\"text-align:center\"> Content-Based Filter </div>\n",
    "      <div style=\"text-align:center\"> Image Source : Google Images </div>\n",
    "    </td>\n",
    "  <td style=\"background-color: none;\">\n",
    "    <img src=\"https://github.com/sachinac/ML7331/blob/master/data/collaborative_filter.png?raw=true\" alt=\"Forest\" style=\"height:25%;width:60%;text-align:left\">\n",
    "      <div style=\"text-align:center\"> Collaborative Filter </div>\n",
    "      <div style=\"text-align:center\"> Image Source : Google Images </div>\n",
    "  </td>\n",
    "</tr>\n",
    "</table>\n",
    "\n",
    "\n",
    "<font size=4> <b> Collaborative Filtering </b> </font>\n",
    "\n",
    "There are two types of collaborative filtering exist: <br>\n",
    "\n",
    "<b>User Based collaborative filtering </b><br>\n",
    "\n",
    "This type of filter is based on users’ ratings, and it will recommend movies that user hasn't watched yet, but users similar to us have, and like. To determine whether two users are similar or not, this filter considers the movies both of them watched and how they rated them. By looking at the items in common, this type of algorithm  predicts the rating of a movie for a user who hasn’t watched it yet, based on the similar users’ rating.\n",
    "\n",
    "One of the challenge for this type of filter to work accurately is that it requires user's ratings and in real sense not all users rate the movie they watched.Some of them never rate movie. That poses challege to build effective recommender.\n",
    "\n",
    "<b> Item based collaborative filtering </b><br>\n",
    "   \n",
    "This is another type of recommendation method which looks for similar items based on items users have already liked or consumed.Item-based collaborative filtering is a model-based algorithm for making recommendations. In the algorithm, the similarities between different items in the dataset are calculated by using one of a number of similarity measures, and then these similarity values are used to predict ratings for user-item pairs not present in the dataset. \n",
    "\n",
    "<b>Similarity Measures</b>\n",
    "\n",
    "There are a number of different mathematical formulations that can be used to calculate the similarity between two items. As can be seen in the formulae below, each formula includes terms summed over the set of common users U.\n",
    "\n",
    "Item-base collaborative filtering normally divided into two sub tasks:\n",
    "    \n",
    "1.Calculate similarity among the items:\n",
    "    \n",
    "* Cosine-Based Similarity\n",
    "* Correlation-Based Similarity\n",
    "* Adjusted Cosine Similarity\n",
    "* 1-Jaccard distance\n",
    "    \n",
    "2.Calculation of Prediction:\n",
    "* Weighted Sum\n",
    "* Regression\n",
    "    \n",
    "The difference between User-Based Collaborative Filtering and this method is that, in this case, we directly pre-calculate the similarity between the co-rated items, skipping K-neighborhood search\n",
    "\n",
    "<b> What is long tail ? </b>\n",
    "\n",
    "Typically, there are very popular items that users interact with a lot and others that they don’t, which comprise what is known as the <font size=4 color=\"blue\">Long Tail</font>. Recommender systems usually work pretty well on popular items, although that’s probably not very interesting to users as they most likely already know about them. The items in the Long Tail are the most interesting ones, because they may not be considered by the user at all if they aren’t recommended.\n",
    "\n",
    "<img src=\"https://github.com/sachinac/ML7331/blob/master/data/long-tail.png?raw=true\" alt=\"Snow\" style=\"width:50%\">\n",
    "<div style=\"text-align:center\"> Image Source : <a href=\"https://tryolabs.com/blog/introduction-to-recommender-systems/\"> Tryolab Article </a> </div>\n"
   ]
  },
  {
   "cell_type": "markdown",
   "metadata": {},
   "source": [
    "# Data Understanding 1\n",
    "\n",
    "## Data source \n",
    "\n",
    "We have obtained dataset from <a href=https://www.kaggle.com/rounakbanik/the-movies-dataset>kaggle </a> These files contain metadata for all 45,000 movies listed in the Full MovieLens Dataset. The dataset consists of movies released on or before July 2017. Data points include cast, crew, plot keywords, budget, revenue, posters, release dates, languages, production companies, countries, TMDB vote counts and vote averages.\n",
    "\n",
    "This dataset also has files containing 26 million ratings from 270,000 users for all 45,000 movies. Ratings are on a scale of 1-5 and have been obtained from the official GroupLens website.\n"
   ]
  },
  {
   "cell_type": "markdown",
   "metadata": {},
   "source": [
    "## Data Description Summary"
   ]
  },
  {
   "cell_type": "markdown",
   "metadata": {},
   "source": [
    "\n",
    "Here is brief Summary of movielens data: \n",
    "\n",
    "<table>\n",
    "  <tr>\n",
    "    <th  style=\"text-align:left\">Filename </th>\n",
    "    <th  style=\"text-align:left\" width=\"100px\">Number of records</th>\n",
    "    <th  style=\"text-align:center\" width=\"100px\">Description</th>\n",
    "  </tr>\n",
    "  <tr>\n",
    "    <td style=\"text-align:left\" width=\"100px\">movies_metadata.csv</td>\n",
    "    <td style=\"text-align:left\"> 45,467 </td>\n",
    "    <td style=\"text-align:left\">The main Movies Metadata file. Contains information on 45,000 movies featured in the Full MovieLens dataset. Features include posters, backdrops, budget, revenue, release dates, languages, production countries and companies.\n",
    "      </td>\n",
    "  </tr>\n",
    "  <tr>\n",
    "    <td style=\"text-align:left\" width=\"100px\">keywords.csv</td>\n",
    "        <td style=\"text-align:left\"> 46,420 </td>\n",
    "    <td style=\"text-align:left\">Contains the movie plot keywords for our MovieLens movies. Available in the form of a stringified JSON Object.\n",
    "      </td>\n",
    "  </tr>\n",
    "  <tr>\n",
    "    <td style=\"text-align:left\" width=\"100px\">credits.csv</td>\n",
    "    <td style=\"text-align:left\"> 45,504 </td>\n",
    "    <td style=\"text-align:left\">Consists of Cast and Crew Information for all our movies. Available in the form of a stringified JSON Object.\n",
    "      </td>\n",
    "  </tr>\n",
    "  <tr>\n",
    "    <td style=\"text-align:left\" width=\"100px\">links.csv</td>\n",
    "    <td style=\"text-align:left\"> 45,844 </td>\n",
    "    <td style=\"text-align:left\">The file that contains the TMDB and IMDB IDs of all the movies featured in the Full MovieLens dataset.\n",
    "      </td>\n",
    "  </tr>    \n",
    "  <tr>\n",
    "    <td style=\"text-align:left\" width=\"100px\">ratings.csv</td>\n",
    "    <td style=\"text-align:left\"> 26,024,290 </td>\n",
    "    <td style=\"text-align:left\">The file that contains the TMDB and IMDB IDs of all the movies featured in the Full MovieLens dataset.\n",
    "      </td>\n",
    "  </tr>        \n",
    "  <tr>\n",
    "    <td style=\"text-align:left\" width=\"100px\">links_small.csv</td>\n",
    "    <td style=\"text-align:left\"> 9000 </td>\n",
    "    <td style=\"text-align:left\">Contains the TMDB and IMDB IDs of a small subset of 9,000 movies of the Full Dataset\n",
    "      </td>\n",
    "  </tr>    \n",
    "  <tr>\n",
    "    <td style=\"text-align:left\" width=\"100px\">ratings_small.csv</td>\n",
    "    <td style=\"text-align:left\"> 100,000 </td>\n",
    "    <td style=\"text-align:left\"> The subset of 100,000 ratings from 700 users on 9,000 movies.</td>\n",
    "  </tr>        \n",
    "  \n",
    "</table>\n",
    "\n",
    "Due to its huge size we have uploaded this data to AWS S3 bucket as github requires paid subscription to store more than 100MB of data. This notebook downloads data from AWS S3 for processing as described in the next sections."
   ]
  },
  {
   "cell_type": "markdown",
   "metadata": {},
   "source": [
    "## Download from AWS S3:\n"
   ]
  },
  {
   "cell_type": "markdown",
   "metadata": {},
   "source": [
    "Because the unzipped data is ~ 900mb, we've saved it in an AWS S3 bucket as a zip file.  We've added the movies data directory to our *.gitignore* file so it doesn't get picked up in github.  This chunk of code does the following:\n",
    "* Check if the movie directory exists, create it if not, skip the step if so.  \n",
    "* Checks files in the directory against expected files, if not found, download the zip file from AWS, extracts and deletes the downloaded zip file, then cleans up created variables."
   ]
  },
  {
   "cell_type": "code",
   "execution_count": 3,
   "metadata": {
    "ExecuteTime": {
     "end_time": "2020-08-08T16:25:48.252840Z",
     "start_time": "2020-08-08T16:25:48.243483Z"
    }
   },
   "outputs": [
    {
     "name": "stdout",
     "output_type": "stream",
     "text": [
      "Movie files are present! \n",
      "\n",
      "----------------------------------------------------\n",
      "Cell Processing Time\n",
      "CPU times: user 956 µs, sys: 1.91 ms, total: 2.87 ms\n",
      "Wall time: 1.81 ms\n"
     ]
    }
   ],
   "source": [
    "%%time\n",
    "movie_dir = './data/movies'\n",
    "movie_zipfile = movie_dir + '/movies.zip'\n",
    "expected_files = ['keywords.csv', 'credits.csv', 'ratings.csv', 'ratings_small.csv', 'links_small.csv', 'movies_metadata.csv', 'links.csv']\n",
    "movie_data = 'https://ml7331.s3.us-east-2.amazonaws.com/3405_6663_bundle_archive.zip'\n",
    "\n",
    "# If movie directory doesn't exist, create it\n",
    "if not os.path.isdir(movie_dir):\n",
    "    print('creating directory:', movie_dir)\n",
    "    os.mkdir(movie_dir)\n",
    "\n",
    "# If all expected files are not present, download a fresh copy of movie data:    \n",
    "if not all(files in os.listdir(movie_dir) for files in expected_files):\n",
    "    print('downloading files...')\n",
    "    wget.download(movie_data, movie_zipfile)\n",
    "    print('unzipping files...')\n",
    "    with zipfile.ZipFile(movie_zipfile, 'r') as zip_ref:\n",
    "        zip_ref.extractall(movie_dir)\n",
    "    os.remove(movie_zipfile)\n",
    "    \n",
    "del movie_data, movie_zipfile, movie_dir, expected_files\n",
    "print('Movie files are present!', timebreak)"
   ]
  },
  {
   "cell_type": "markdown",
   "metadata": {},
   "source": [
    "## Load Data \n",
    "\n",
    "Let's first load data into memory"
   ]
  },
  {
   "cell_type": "code",
   "execution_count": 4,
   "metadata": {
    "ExecuteTime": {
     "end_time": "2020-08-08T16:26:03.328821Z",
     "start_time": "2020-08-08T16:25:49.346370Z"
    }
   },
   "outputs": [
    {
     "name": "stdout",
     "output_type": "stream",
     "text": [
      "CPU times: user 11.3 s, sys: 2.1 s, total: 13.4 s\n",
      "Wall time: 14 s\n"
     ]
    }
   ],
   "source": [
    "%%time\n",
    "\n",
    "credits  = pd.read_csv('./data/movies/credits.csv')\n",
    "keywords = pd.read_csv('./data/movies/keywords.csv')\n",
    "movies   = pd.read_csv('./data/movies/movies_metadata.csv', low_memory=False)\n",
    "\n",
    "\n",
    "links_small   = pd.read_csv('./data/movies/links_small.csv')\n",
    "links         = pd.read_csv('./data/movies/links.csv')\n",
    "ratings_small = pd.read_csv('./data/movies/ratings_small.csv')\n",
    "ratings_full  = pd.read_csv('./data/movies/ratings.csv')\n"
   ]
  },
  {
   "cell_type": "markdown",
   "metadata": {},
   "source": [
    "<font size=\"3\"> <b>Set up ratings dataset for model building, plots and analysis</b></font>"
   ]
  },
  {
   "cell_type": "code",
   "execution_count": 5,
   "metadata": {
    "ExecuteTime": {
     "end_time": "2020-08-08T16:26:05.988690Z",
     "start_time": "2020-08-08T16:26:05.230712Z"
    }
   },
   "outputs": [],
   "source": [
    "ratings = ratings_full.copy()"
   ]
  },
  {
   "cell_type": "markdown",
   "metadata": {},
   "source": [
    "## Get the glimpse of the data\n",
    "\n",
    "Here we will see structure of the data and first 5 records from each data file to get glimpse of the data.\n",
    "Few fields are of type json and these fields needs to be processed in order to use these fields in model building process. In pandas these fields are stored as normal object so viewing first 5 record we can see contents of each data field to take appropriate actions that may be required for preprocessing."
   ]
  },
  {
   "cell_type": "markdown",
   "metadata": {},
   "source": [
    "### Credits"
   ]
  },
  {
   "cell_type": "markdown",
   "metadata": {},
   "source": [
    "As we can see below cast and crew fields are looking like dictonary. These are json type."
   ]
  },
  {
   "cell_type": "code",
   "execution_count": 6,
   "metadata": {
    "ExecuteTime": {
     "end_time": "2020-08-08T16:26:08.083387Z",
     "start_time": "2020-08-08T16:26:08.057931Z"
    }
   },
   "outputs": [
    {
     "name": "stdout",
     "output_type": "stream",
     "text": [
      "<class 'pandas.core.frame.DataFrame'>\n",
      "RangeIndex: 45476 entries, 0 to 45475\n",
      "Data columns (total 3 columns):\n",
      " #   Column  Non-Null Count  Dtype \n",
      "---  ------  --------------  ----- \n",
      " 0   cast    45476 non-null  object\n",
      " 1   crew    45476 non-null  object\n",
      " 2   id      45476 non-null  int64 \n",
      "dtypes: int64(1), object(2)\n",
      "memory usage: 1.0+ MB\n"
     ]
    }
   ],
   "source": [
    "credits.info()"
   ]
  },
  {
   "cell_type": "code",
   "execution_count": 7,
   "metadata": {
    "ExecuteTime": {
     "end_time": "2020-08-08T16:26:08.104323Z",
     "start_time": "2020-08-08T16:26:08.086938Z"
    }
   },
   "outputs": [
    {
     "data": {
      "text/html": [
       "<div>\n",
       "<style scoped>\n",
       "    .dataframe tbody tr th:only-of-type {\n",
       "        vertical-align: middle;\n",
       "    }\n",
       "\n",
       "    .dataframe tbody tr th {\n",
       "        vertical-align: top;\n",
       "    }\n",
       "\n",
       "    .dataframe thead th {\n",
       "        text-align: right;\n",
       "    }\n",
       "</style>\n",
       "<table border=\"1\" class=\"dataframe\">\n",
       "  <thead>\n",
       "    <tr style=\"text-align: right;\">\n",
       "      <th></th>\n",
       "      <th>cast</th>\n",
       "      <th>crew</th>\n",
       "      <th>id</th>\n",
       "    </tr>\n",
       "  </thead>\n",
       "  <tbody>\n",
       "    <tr>\n",
       "      <th>0</th>\n",
       "      <td>[{'cast_id': 14, 'character': 'Woody (voice)',...</td>\n",
       "      <td>[{'credit_id': '52fe4284c3a36847f8024f49', 'de...</td>\n",
       "      <td>862</td>\n",
       "    </tr>\n",
       "    <tr>\n",
       "      <th>1</th>\n",
       "      <td>[{'cast_id': 1, 'character': 'Alan Parrish', '...</td>\n",
       "      <td>[{'credit_id': '52fe44bfc3a36847f80a7cd1', 'de...</td>\n",
       "      <td>8844</td>\n",
       "    </tr>\n",
       "    <tr>\n",
       "      <th>2</th>\n",
       "      <td>[{'cast_id': 2, 'character': 'Max Goldman', 'c...</td>\n",
       "      <td>[{'credit_id': '52fe466a9251416c75077a89', 'de...</td>\n",
       "      <td>15602</td>\n",
       "    </tr>\n",
       "    <tr>\n",
       "      <th>3</th>\n",
       "      <td>[{'cast_id': 1, 'character': \"Savannah 'Vannah...</td>\n",
       "      <td>[{'credit_id': '52fe44779251416c91011acb', 'de...</td>\n",
       "      <td>31357</td>\n",
       "    </tr>\n",
       "    <tr>\n",
       "      <th>4</th>\n",
       "      <td>[{'cast_id': 1, 'character': 'George Banks', '...</td>\n",
       "      <td>[{'credit_id': '52fe44959251416c75039ed7', 'de...</td>\n",
       "      <td>11862</td>\n",
       "    </tr>\n",
       "  </tbody>\n",
       "</table>\n",
       "</div>"
      ],
      "text/plain": [
       "                                                cast  \\\n",
       "0  [{'cast_id': 14, 'character': 'Woody (voice)',...   \n",
       "1  [{'cast_id': 1, 'character': 'Alan Parrish', '...   \n",
       "2  [{'cast_id': 2, 'character': 'Max Goldman', 'c...   \n",
       "3  [{'cast_id': 1, 'character': \"Savannah 'Vannah...   \n",
       "4  [{'cast_id': 1, 'character': 'George Banks', '...   \n",
       "\n",
       "                                                crew     id  \n",
       "0  [{'credit_id': '52fe4284c3a36847f8024f49', 'de...    862  \n",
       "1  [{'credit_id': '52fe44bfc3a36847f80a7cd1', 'de...   8844  \n",
       "2  [{'credit_id': '52fe466a9251416c75077a89', 'de...  15602  \n",
       "3  [{'credit_id': '52fe44779251416c91011acb', 'de...  31357  \n",
       "4  [{'credit_id': '52fe44959251416c75039ed7', 'de...  11862  "
      ]
     },
     "execution_count": 7,
     "metadata": {},
     "output_type": "execute_result"
    }
   ],
   "source": [
    "credits.head()"
   ]
  },
  {
   "cell_type": "markdown",
   "metadata": {},
   "source": [
    "### Keywords\n",
    "\n",
    "Keywords field is of type dict/json"
   ]
  },
  {
   "cell_type": "code",
   "execution_count": 8,
   "metadata": {
    "ExecuteTime": {
     "end_time": "2020-08-08T16:26:12.452455Z",
     "start_time": "2020-08-08T16:26:12.435952Z"
    }
   },
   "outputs": [
    {
     "name": "stdout",
     "output_type": "stream",
     "text": [
      "<class 'pandas.core.frame.DataFrame'>\n",
      "RangeIndex: 46419 entries, 0 to 46418\n",
      "Data columns (total 2 columns):\n",
      " #   Column    Non-Null Count  Dtype \n",
      "---  ------    --------------  ----- \n",
      " 0   id        46419 non-null  int64 \n",
      " 1   keywords  46419 non-null  object\n",
      "dtypes: int64(1), object(1)\n",
      "memory usage: 725.4+ KB\n"
     ]
    }
   ],
   "source": [
    "keywords.info()"
   ]
  },
  {
   "cell_type": "code",
   "execution_count": 9,
   "metadata": {
    "ExecuteTime": {
     "end_time": "2020-08-08T16:26:14.481364Z",
     "start_time": "2020-08-08T16:26:14.471110Z"
    }
   },
   "outputs": [
    {
     "data": {
      "text/html": [
       "<div>\n",
       "<style scoped>\n",
       "    .dataframe tbody tr th:only-of-type {\n",
       "        vertical-align: middle;\n",
       "    }\n",
       "\n",
       "    .dataframe tbody tr th {\n",
       "        vertical-align: top;\n",
       "    }\n",
       "\n",
       "    .dataframe thead th {\n",
       "        text-align: right;\n",
       "    }\n",
       "</style>\n",
       "<table border=\"1\" class=\"dataframe\">\n",
       "  <thead>\n",
       "    <tr style=\"text-align: right;\">\n",
       "      <th></th>\n",
       "      <th>id</th>\n",
       "      <th>keywords</th>\n",
       "    </tr>\n",
       "  </thead>\n",
       "  <tbody>\n",
       "    <tr>\n",
       "      <th>0</th>\n",
       "      <td>862</td>\n",
       "      <td>[{'id': 931, 'name': 'jealousy'}, {'id': 4290,...</td>\n",
       "    </tr>\n",
       "    <tr>\n",
       "      <th>1</th>\n",
       "      <td>8844</td>\n",
       "      <td>[{'id': 10090, 'name': 'board game'}, {'id': 1...</td>\n",
       "    </tr>\n",
       "    <tr>\n",
       "      <th>2</th>\n",
       "      <td>15602</td>\n",
       "      <td>[{'id': 1495, 'name': 'fishing'}, {'id': 12392...</td>\n",
       "    </tr>\n",
       "    <tr>\n",
       "      <th>3</th>\n",
       "      <td>31357</td>\n",
       "      <td>[{'id': 818, 'name': 'based on novel'}, {'id':...</td>\n",
       "    </tr>\n",
       "    <tr>\n",
       "      <th>4</th>\n",
       "      <td>11862</td>\n",
       "      <td>[{'id': 1009, 'name': 'baby'}, {'id': 1599, 'n...</td>\n",
       "    </tr>\n",
       "  </tbody>\n",
       "</table>\n",
       "</div>"
      ],
      "text/plain": [
       "      id                                           keywords\n",
       "0    862  [{'id': 931, 'name': 'jealousy'}, {'id': 4290,...\n",
       "1   8844  [{'id': 10090, 'name': 'board game'}, {'id': 1...\n",
       "2  15602  [{'id': 1495, 'name': 'fishing'}, {'id': 12392...\n",
       "3  31357  [{'id': 818, 'name': 'based on novel'}, {'id':...\n",
       "4  11862  [{'id': 1009, 'name': 'baby'}, {'id': 1599, 'n..."
      ]
     },
     "execution_count": 9,
     "metadata": {},
     "output_type": "execute_result"
    }
   ],
   "source": [
    "keywords.head()"
   ]
  },
  {
   "cell_type": "markdown",
   "metadata": {
    "ExecuteTime": {
     "end_time": "2020-08-07T18:34:42.531819Z",
     "start_time": "2020-08-07T18:34:42.529192Z"
    }
   },
   "source": [
    "### Movies Metadata\n",
    "\n",
    "Movies metadata following fields are dictionary/json :<br>\n",
    "* belongs_to_collection\n",
    "* genres\n",
    "* production_companies\n",
    "* production_countries\n",
    "* spoken_languages "
   ]
  },
  {
   "cell_type": "code",
   "execution_count": 10,
   "metadata": {
    "ExecuteTime": {
     "end_time": "2020-08-08T16:26:16.640804Z",
     "start_time": "2020-08-08T16:26:16.560711Z"
    }
   },
   "outputs": [
    {
     "name": "stdout",
     "output_type": "stream",
     "text": [
      "<class 'pandas.core.frame.DataFrame'>\n",
      "RangeIndex: 45466 entries, 0 to 45465\n",
      "Data columns (total 24 columns):\n",
      " #   Column                 Non-Null Count  Dtype  \n",
      "---  ------                 --------------  -----  \n",
      " 0   adult                  45466 non-null  object \n",
      " 1   belongs_to_collection  4494 non-null   object \n",
      " 2   budget                 45466 non-null  object \n",
      " 3   genres                 45466 non-null  object \n",
      " 4   homepage               7782 non-null   object \n",
      " 5   id                     45466 non-null  object \n",
      " 6   imdb_id                45449 non-null  object \n",
      " 7   original_language      45455 non-null  object \n",
      " 8   original_title         45466 non-null  object \n",
      " 9   overview               44512 non-null  object \n",
      " 10  popularity             45461 non-null  object \n",
      " 11  poster_path            45080 non-null  object \n",
      " 12  production_companies   45463 non-null  object \n",
      " 13  production_countries   45463 non-null  object \n",
      " 14  release_date           45379 non-null  object \n",
      " 15  revenue                45460 non-null  float64\n",
      " 16  runtime                45203 non-null  float64\n",
      " 17  spoken_languages       45460 non-null  object \n",
      " 18  status                 45379 non-null  object \n",
      " 19  tagline                20412 non-null  object \n",
      " 20  title                  45460 non-null  object \n",
      " 21  video                  45460 non-null  object \n",
      " 22  vote_average           45460 non-null  float64\n",
      " 23  vote_count             45460 non-null  float64\n",
      "dtypes: float64(4), object(20)\n",
      "memory usage: 8.3+ MB\n"
     ]
    }
   ],
   "source": [
    "movies.info()"
   ]
  },
  {
   "cell_type": "code",
   "execution_count": 11,
   "metadata": {
    "ExecuteTime": {
     "end_time": "2020-08-08T16:26:18.899185Z",
     "start_time": "2020-08-08T16:26:18.823785Z"
    }
   },
   "outputs": [
    {
     "data": {
      "text/html": [
       "<div>\n",
       "<style scoped>\n",
       "    .dataframe tbody tr th:only-of-type {\n",
       "        vertical-align: middle;\n",
       "    }\n",
       "\n",
       "    .dataframe tbody tr th {\n",
       "        vertical-align: top;\n",
       "    }\n",
       "\n",
       "    .dataframe thead th {\n",
       "        text-align: right;\n",
       "    }\n",
       "</style>\n",
       "<table border=\"1\" class=\"dataframe\">\n",
       "  <thead>\n",
       "    <tr style=\"text-align: right;\">\n",
       "      <th></th>\n",
       "      <th>adult</th>\n",
       "      <th>belongs_to_collection</th>\n",
       "      <th>budget</th>\n",
       "      <th>genres</th>\n",
       "      <th>homepage</th>\n",
       "      <th>id</th>\n",
       "      <th>imdb_id</th>\n",
       "      <th>original_language</th>\n",
       "      <th>original_title</th>\n",
       "      <th>overview</th>\n",
       "      <th>...</th>\n",
       "      <th>release_date</th>\n",
       "      <th>revenue</th>\n",
       "      <th>runtime</th>\n",
       "      <th>spoken_languages</th>\n",
       "      <th>status</th>\n",
       "      <th>tagline</th>\n",
       "      <th>title</th>\n",
       "      <th>video</th>\n",
       "      <th>vote_average</th>\n",
       "      <th>vote_count</th>\n",
       "    </tr>\n",
       "  </thead>\n",
       "  <tbody>\n",
       "    <tr>\n",
       "      <th>0</th>\n",
       "      <td>False</td>\n",
       "      <td>{'id': 10194, 'name': 'Toy Story Collection', ...</td>\n",
       "      <td>30000000</td>\n",
       "      <td>[{'id': 16, 'name': 'Animation'}, {'id': 35, '...</td>\n",
       "      <td>http://toystory.disney.com/toy-story</td>\n",
       "      <td>862</td>\n",
       "      <td>tt0114709</td>\n",
       "      <td>en</td>\n",
       "      <td>Toy Story</td>\n",
       "      <td>Led by Woody, Andy's toys live happily in his ...</td>\n",
       "      <td>...</td>\n",
       "      <td>1995-10-30</td>\n",
       "      <td>373554033.0</td>\n",
       "      <td>81.0</td>\n",
       "      <td>[{'iso_639_1': 'en', 'name': 'English'}]</td>\n",
       "      <td>Released</td>\n",
       "      <td>NaN</td>\n",
       "      <td>Toy Story</td>\n",
       "      <td>False</td>\n",
       "      <td>7.7</td>\n",
       "      <td>5415.0</td>\n",
       "    </tr>\n",
       "    <tr>\n",
       "      <th>1</th>\n",
       "      <td>False</td>\n",
       "      <td>NaN</td>\n",
       "      <td>65000000</td>\n",
       "      <td>[{'id': 12, 'name': 'Adventure'}, {'id': 14, '...</td>\n",
       "      <td>NaN</td>\n",
       "      <td>8844</td>\n",
       "      <td>tt0113497</td>\n",
       "      <td>en</td>\n",
       "      <td>Jumanji</td>\n",
       "      <td>When siblings Judy and Peter discover an encha...</td>\n",
       "      <td>...</td>\n",
       "      <td>1995-12-15</td>\n",
       "      <td>262797249.0</td>\n",
       "      <td>104.0</td>\n",
       "      <td>[{'iso_639_1': 'en', 'name': 'English'}, {'iso...</td>\n",
       "      <td>Released</td>\n",
       "      <td>Roll the dice and unleash the excitement!</td>\n",
       "      <td>Jumanji</td>\n",
       "      <td>False</td>\n",
       "      <td>6.9</td>\n",
       "      <td>2413.0</td>\n",
       "    </tr>\n",
       "    <tr>\n",
       "      <th>2</th>\n",
       "      <td>False</td>\n",
       "      <td>{'id': 119050, 'name': 'Grumpy Old Men Collect...</td>\n",
       "      <td>0</td>\n",
       "      <td>[{'id': 10749, 'name': 'Romance'}, {'id': 35, ...</td>\n",
       "      <td>NaN</td>\n",
       "      <td>15602</td>\n",
       "      <td>tt0113228</td>\n",
       "      <td>en</td>\n",
       "      <td>Grumpier Old Men</td>\n",
       "      <td>A family wedding reignites the ancient feud be...</td>\n",
       "      <td>...</td>\n",
       "      <td>1995-12-22</td>\n",
       "      <td>0.0</td>\n",
       "      <td>101.0</td>\n",
       "      <td>[{'iso_639_1': 'en', 'name': 'English'}]</td>\n",
       "      <td>Released</td>\n",
       "      <td>Still Yelling. Still Fighting. Still Ready for...</td>\n",
       "      <td>Grumpier Old Men</td>\n",
       "      <td>False</td>\n",
       "      <td>6.5</td>\n",
       "      <td>92.0</td>\n",
       "    </tr>\n",
       "    <tr>\n",
       "      <th>3</th>\n",
       "      <td>False</td>\n",
       "      <td>NaN</td>\n",
       "      <td>16000000</td>\n",
       "      <td>[{'id': 35, 'name': 'Comedy'}, {'id': 18, 'nam...</td>\n",
       "      <td>NaN</td>\n",
       "      <td>31357</td>\n",
       "      <td>tt0114885</td>\n",
       "      <td>en</td>\n",
       "      <td>Waiting to Exhale</td>\n",
       "      <td>Cheated on, mistreated and stepped on, the wom...</td>\n",
       "      <td>...</td>\n",
       "      <td>1995-12-22</td>\n",
       "      <td>81452156.0</td>\n",
       "      <td>127.0</td>\n",
       "      <td>[{'iso_639_1': 'en', 'name': 'English'}]</td>\n",
       "      <td>Released</td>\n",
       "      <td>Friends are the people who let you be yourself...</td>\n",
       "      <td>Waiting to Exhale</td>\n",
       "      <td>False</td>\n",
       "      <td>6.1</td>\n",
       "      <td>34.0</td>\n",
       "    </tr>\n",
       "    <tr>\n",
       "      <th>4</th>\n",
       "      <td>False</td>\n",
       "      <td>{'id': 96871, 'name': 'Father of the Bride Col...</td>\n",
       "      <td>0</td>\n",
       "      <td>[{'id': 35, 'name': 'Comedy'}]</td>\n",
       "      <td>NaN</td>\n",
       "      <td>11862</td>\n",
       "      <td>tt0113041</td>\n",
       "      <td>en</td>\n",
       "      <td>Father of the Bride Part II</td>\n",
       "      <td>Just when George Banks has recovered from his ...</td>\n",
       "      <td>...</td>\n",
       "      <td>1995-02-10</td>\n",
       "      <td>76578911.0</td>\n",
       "      <td>106.0</td>\n",
       "      <td>[{'iso_639_1': 'en', 'name': 'English'}]</td>\n",
       "      <td>Released</td>\n",
       "      <td>Just When His World Is Back To Normal... He's ...</td>\n",
       "      <td>Father of the Bride Part II</td>\n",
       "      <td>False</td>\n",
       "      <td>5.7</td>\n",
       "      <td>173.0</td>\n",
       "    </tr>\n",
       "  </tbody>\n",
       "</table>\n",
       "<p>5 rows × 24 columns</p>\n",
       "</div>"
      ],
      "text/plain": [
       "   adult                              belongs_to_collection    budget  \\\n",
       "0  False  {'id': 10194, 'name': 'Toy Story Collection', ...  30000000   \n",
       "1  False                                                NaN  65000000   \n",
       "2  False  {'id': 119050, 'name': 'Grumpy Old Men Collect...         0   \n",
       "3  False                                                NaN  16000000   \n",
       "4  False  {'id': 96871, 'name': 'Father of the Bride Col...         0   \n",
       "\n",
       "                                              genres  \\\n",
       "0  [{'id': 16, 'name': 'Animation'}, {'id': 35, '...   \n",
       "1  [{'id': 12, 'name': 'Adventure'}, {'id': 14, '...   \n",
       "2  [{'id': 10749, 'name': 'Romance'}, {'id': 35, ...   \n",
       "3  [{'id': 35, 'name': 'Comedy'}, {'id': 18, 'nam...   \n",
       "4                     [{'id': 35, 'name': 'Comedy'}]   \n",
       "\n",
       "                               homepage     id    imdb_id original_language  \\\n",
       "0  http://toystory.disney.com/toy-story    862  tt0114709                en   \n",
       "1                                   NaN   8844  tt0113497                en   \n",
       "2                                   NaN  15602  tt0113228                en   \n",
       "3                                   NaN  31357  tt0114885                en   \n",
       "4                                   NaN  11862  tt0113041                en   \n",
       "\n",
       "                original_title  \\\n",
       "0                    Toy Story   \n",
       "1                      Jumanji   \n",
       "2             Grumpier Old Men   \n",
       "3            Waiting to Exhale   \n",
       "4  Father of the Bride Part II   \n",
       "\n",
       "                                            overview  ... release_date  \\\n",
       "0  Led by Woody, Andy's toys live happily in his ...  ...   1995-10-30   \n",
       "1  When siblings Judy and Peter discover an encha...  ...   1995-12-15   \n",
       "2  A family wedding reignites the ancient feud be...  ...   1995-12-22   \n",
       "3  Cheated on, mistreated and stepped on, the wom...  ...   1995-12-22   \n",
       "4  Just when George Banks has recovered from his ...  ...   1995-02-10   \n",
       "\n",
       "       revenue runtime                                   spoken_languages  \\\n",
       "0  373554033.0    81.0           [{'iso_639_1': 'en', 'name': 'English'}]   \n",
       "1  262797249.0   104.0  [{'iso_639_1': 'en', 'name': 'English'}, {'iso...   \n",
       "2          0.0   101.0           [{'iso_639_1': 'en', 'name': 'English'}]   \n",
       "3   81452156.0   127.0           [{'iso_639_1': 'en', 'name': 'English'}]   \n",
       "4   76578911.0   106.0           [{'iso_639_1': 'en', 'name': 'English'}]   \n",
       "\n",
       "     status                                            tagline  \\\n",
       "0  Released                                                NaN   \n",
       "1  Released          Roll the dice and unleash the excitement!   \n",
       "2  Released  Still Yelling. Still Fighting. Still Ready for...   \n",
       "3  Released  Friends are the people who let you be yourself...   \n",
       "4  Released  Just When His World Is Back To Normal... He's ...   \n",
       "\n",
       "                         title  video vote_average vote_count  \n",
       "0                    Toy Story  False          7.7     5415.0  \n",
       "1                      Jumanji  False          6.9     2413.0  \n",
       "2             Grumpier Old Men  False          6.5       92.0  \n",
       "3            Waiting to Exhale  False          6.1       34.0  \n",
       "4  Father of the Bride Part II  False          5.7      173.0  \n",
       "\n",
       "[5 rows x 24 columns]"
      ]
     },
     "execution_count": 11,
     "metadata": {},
     "output_type": "execute_result"
    }
   ],
   "source": [
    "movies.head()"
   ]
  },
  {
   "cell_type": "markdown",
   "metadata": {},
   "source": [
    "### Movie ratings\n",
    "\n",
    "These are user interactions. It contains ratings given by user for the movie they watched."
   ]
  },
  {
   "cell_type": "code",
   "execution_count": 12,
   "metadata": {
    "ExecuteTime": {
     "end_time": "2020-08-08T16:26:21.327648Z",
     "start_time": "2020-08-08T16:26:21.319408Z"
    }
   },
   "outputs": [
    {
     "name": "stdout",
     "output_type": "stream",
     "text": [
      "<class 'pandas.core.frame.DataFrame'>\n",
      "RangeIndex: 26024289 entries, 0 to 26024288\n",
      "Data columns (total 4 columns):\n",
      " #   Column     Dtype  \n",
      "---  ------     -----  \n",
      " 0   userId     int64  \n",
      " 1   movieId    int64  \n",
      " 2   rating     float64\n",
      " 3   timestamp  int64  \n",
      "dtypes: float64(1), int64(3)\n",
      "memory usage: 794.2 MB\n"
     ]
    }
   ],
   "source": [
    "ratings_full.info()"
   ]
  },
  {
   "cell_type": "code",
   "execution_count": 13,
   "metadata": {
    "ExecuteTime": {
     "end_time": "2020-08-08T16:26:23.633547Z",
     "start_time": "2020-08-08T16:26:23.618050Z"
    },
    "scrolled": true
   },
   "outputs": [
    {
     "data": {
      "text/html": [
       "<div>\n",
       "<style scoped>\n",
       "    .dataframe tbody tr th:only-of-type {\n",
       "        vertical-align: middle;\n",
       "    }\n",
       "\n",
       "    .dataframe tbody tr th {\n",
       "        vertical-align: top;\n",
       "    }\n",
       "\n",
       "    .dataframe thead th {\n",
       "        text-align: right;\n",
       "    }\n",
       "</style>\n",
       "<table border=\"1\" class=\"dataframe\">\n",
       "  <thead>\n",
       "    <tr style=\"text-align: right;\">\n",
       "      <th></th>\n",
       "      <th>userId</th>\n",
       "      <th>movieId</th>\n",
       "      <th>rating</th>\n",
       "      <th>timestamp</th>\n",
       "    </tr>\n",
       "  </thead>\n",
       "  <tbody>\n",
       "    <tr>\n",
       "      <th>0</th>\n",
       "      <td>1</td>\n",
       "      <td>110</td>\n",
       "      <td>1.0</td>\n",
       "      <td>1425941529</td>\n",
       "    </tr>\n",
       "    <tr>\n",
       "      <th>1</th>\n",
       "      <td>1</td>\n",
       "      <td>147</td>\n",
       "      <td>4.5</td>\n",
       "      <td>1425942435</td>\n",
       "    </tr>\n",
       "    <tr>\n",
       "      <th>2</th>\n",
       "      <td>1</td>\n",
       "      <td>858</td>\n",
       "      <td>5.0</td>\n",
       "      <td>1425941523</td>\n",
       "    </tr>\n",
       "    <tr>\n",
       "      <th>3</th>\n",
       "      <td>1</td>\n",
       "      <td>1221</td>\n",
       "      <td>5.0</td>\n",
       "      <td>1425941546</td>\n",
       "    </tr>\n",
       "    <tr>\n",
       "      <th>4</th>\n",
       "      <td>1</td>\n",
       "      <td>1246</td>\n",
       "      <td>5.0</td>\n",
       "      <td>1425941556</td>\n",
       "    </tr>\n",
       "  </tbody>\n",
       "</table>\n",
       "</div>"
      ],
      "text/plain": [
       "   userId  movieId  rating   timestamp\n",
       "0       1      110     1.0  1425941529\n",
       "1       1      147     4.5  1425942435\n",
       "2       1      858     5.0  1425941523\n",
       "3       1     1221     5.0  1425941546\n",
       "4       1     1246     5.0  1425941556"
      ]
     },
     "execution_count": 13,
     "metadata": {},
     "output_type": "execute_result"
    }
   ],
   "source": [
    "ratings_full.head()"
   ]
  },
  {
   "cell_type": "markdown",
   "metadata": {},
   "source": [
    "### Links\n",
    "\n",
    "Contains the TMDB and IMDB IDs of a small subset of 9,000 movies of the Full Datas."
   ]
  },
  {
   "cell_type": "code",
   "execution_count": 14,
   "metadata": {
    "ExecuteTime": {
     "end_time": "2020-08-08T16:26:37.494558Z",
     "start_time": "2020-08-08T16:26:37.485049Z"
    }
   },
   "outputs": [
    {
     "name": "stdout",
     "output_type": "stream",
     "text": [
      "<class 'pandas.core.frame.DataFrame'>\n",
      "RangeIndex: 45843 entries, 0 to 45842\n",
      "Data columns (total 3 columns):\n",
      " #   Column   Non-Null Count  Dtype  \n",
      "---  ------   --------------  -----  \n",
      " 0   movieId  45843 non-null  int64  \n",
      " 1   imdbId   45843 non-null  int64  \n",
      " 2   tmdbId   45624 non-null  float64\n",
      "dtypes: float64(1), int64(2)\n",
      "memory usage: 1.0 MB\n"
     ]
    }
   ],
   "source": [
    "links.info()"
   ]
  },
  {
   "cell_type": "code",
   "execution_count": 15,
   "metadata": {
    "ExecuteTime": {
     "end_time": "2020-08-08T16:26:39.288257Z",
     "start_time": "2020-08-08T16:26:39.275429Z"
    }
   },
   "outputs": [
    {
     "data": {
      "text/html": [
       "<div>\n",
       "<style scoped>\n",
       "    .dataframe tbody tr th:only-of-type {\n",
       "        vertical-align: middle;\n",
       "    }\n",
       "\n",
       "    .dataframe tbody tr th {\n",
       "        vertical-align: top;\n",
       "    }\n",
       "\n",
       "    .dataframe thead th {\n",
       "        text-align: right;\n",
       "    }\n",
       "</style>\n",
       "<table border=\"1\" class=\"dataframe\">\n",
       "  <thead>\n",
       "    <tr style=\"text-align: right;\">\n",
       "      <th></th>\n",
       "      <th>movieId</th>\n",
       "      <th>imdbId</th>\n",
       "      <th>tmdbId</th>\n",
       "    </tr>\n",
       "  </thead>\n",
       "  <tbody>\n",
       "    <tr>\n",
       "      <th>0</th>\n",
       "      <td>1</td>\n",
       "      <td>114709</td>\n",
       "      <td>862.0</td>\n",
       "    </tr>\n",
       "    <tr>\n",
       "      <th>1</th>\n",
       "      <td>2</td>\n",
       "      <td>113497</td>\n",
       "      <td>8844.0</td>\n",
       "    </tr>\n",
       "    <tr>\n",
       "      <th>2</th>\n",
       "      <td>3</td>\n",
       "      <td>113228</td>\n",
       "      <td>15602.0</td>\n",
       "    </tr>\n",
       "    <tr>\n",
       "      <th>3</th>\n",
       "      <td>4</td>\n",
       "      <td>114885</td>\n",
       "      <td>31357.0</td>\n",
       "    </tr>\n",
       "    <tr>\n",
       "      <th>4</th>\n",
       "      <td>5</td>\n",
       "      <td>113041</td>\n",
       "      <td>11862.0</td>\n",
       "    </tr>\n",
       "  </tbody>\n",
       "</table>\n",
       "</div>"
      ],
      "text/plain": [
       "   movieId  imdbId   tmdbId\n",
       "0        1  114709    862.0\n",
       "1        2  113497   8844.0\n",
       "2        3  113228  15602.0\n",
       "3        4  114885  31357.0\n",
       "4        5  113041  11862.0"
      ]
     },
     "execution_count": 15,
     "metadata": {},
     "output_type": "execute_result"
    }
   ],
   "source": [
    "links.head()"
   ]
  },
  {
   "cell_type": "markdown",
   "metadata": {},
   "source": [
    "## Data Preprocessing\n",
    "\n",
    "Programatically Identify duplicate records and eliminate them,transform json datatypes as described in below sections."
   ]
  },
  {
   "cell_type": "markdown",
   "metadata": {},
   "source": [
    "### Movie Credits\n",
    "\n",
    "The credits dataset (found in /data/credits.csv) has a movie id column and provides two JSON objects stored as a string representing the crew and cast.  It uses single quotes for strings, except in cases where a single quote is used, these strings are wrapped in double quotes.  Well formed JSON expects strings to be wrapped in double quotes, so we'll write a little helper function using the *literal_eval* function from the Abstract Syntax Trees package.\n",
    "\n",
    "After parsing them as literal into a list object, we can pick out **directors, producers and actors**, which we think will be most important in influencing recommendations.  We'll save these as list objects which we can then merge into our movies dataset.\n",
    "\n",
    "We also discovered 44 duplicate entries in this file, which from a sample of random selections appear to be true duplicates and will be safely removed."
   ]
  },
  {
   "cell_type": "code",
   "execution_count": 16,
   "metadata": {
    "ExecuteTime": {
     "end_time": "2020-08-08T16:28:07.256979Z",
     "start_time": "2020-08-08T16:26:41.177218Z"
    }
   },
   "outputs": [
    {
     "name": "stdout",
     "output_type": "stream",
     "text": [
      "Removed 44 duplicate rows.\n",
      "\n",
      "<class 'pandas.core.frame.DataFrame'>\n",
      "Int64Index: 45011 entries, 0 to 45475\n",
      "Data columns (total 9 columns):\n",
      " #   Column          Non-Null Count  Dtype \n",
      "---  ------          --------------  ----- \n",
      " 0   cast            45011 non-null  object\n",
      " 1   crew            45011 non-null  object\n",
      " 2   id              45011 non-null  int64 \n",
      " 3   directors       45011 non-null  object\n",
      " 4   producers       45011 non-null  object\n",
      " 5   actors          45011 non-null  object\n",
      " 6   actors_dict     45011 non-null  object\n",
      " 7   producers_dict  45011 non-null  object\n",
      " 8   directors_dict  45011 non-null  object\n",
      "dtypes: int64(1), object(8)\n",
      "memory usage: 3.4+ MB\n",
      "None \n",
      "\n",
      "----------------------------------------------------\n",
      "Cell Processing Time\n",
      "CPU times: user 1min 20s, sys: 1.99 s, total: 1min 22s\n",
      "Wall time: 1min 26s\n"
     ]
    },
    {
     "data": {
      "text/html": [
       "<div>\n",
       "<style scoped>\n",
       "    .dataframe tbody tr th:only-of-type {\n",
       "        vertical-align: middle;\n",
       "    }\n",
       "\n",
       "    .dataframe tbody tr th {\n",
       "        vertical-align: top;\n",
       "    }\n",
       "\n",
       "    .dataframe thead th {\n",
       "        text-align: right;\n",
       "    }\n",
       "</style>\n",
       "<table border=\"1\" class=\"dataframe\">\n",
       "  <thead>\n",
       "    <tr style=\"text-align: right;\">\n",
       "      <th></th>\n",
       "      <th>cast</th>\n",
       "      <th>crew</th>\n",
       "      <th>id</th>\n",
       "      <th>directors</th>\n",
       "      <th>producers</th>\n",
       "      <th>actors</th>\n",
       "      <th>actors_dict</th>\n",
       "      <th>producers_dict</th>\n",
       "      <th>directors_dict</th>\n",
       "    </tr>\n",
       "  </thead>\n",
       "  <tbody>\n",
       "    <tr>\n",
       "      <th>0</th>\n",
       "      <td>[{'cast_id': 14, 'character': 'Woody (voice)',...</td>\n",
       "      <td>[{'credit_id': '52fe4284c3a36847f8024f49', 'de...</td>\n",
       "      <td>862</td>\n",
       "      <td>[John Lasseter, Ash Brannon, William Reeves, R...</td>\n",
       "      <td>[Bonnie Arnold, Ed Catmull, Ralph Guggenheim, ...</td>\n",
       "      <td>[Tom Hanks, Tim Allen, Don Rickles, Jim Varney...</td>\n",
       "      <td>{'Tom Hanks': 'name', 'Tim Allen': 'name', 'Do...</td>\n",
       "      <td>{'Bonnie Arnold': 'name', 'Ed Catmull': 'name'...</td>\n",
       "      <td>{'John Lasseter': 'name', 'Ash Brannon': 'name...</td>\n",
       "    </tr>\n",
       "    <tr>\n",
       "      <th>1</th>\n",
       "      <td>[{'cast_id': 1, 'character': 'Alan Parrish', '...</td>\n",
       "      <td>[{'credit_id': '52fe44bfc3a36847f80a7cd1', 'de...</td>\n",
       "      <td>8844</td>\n",
       "      <td>[Joe Johnston, Thomas E. Ackerman]</td>\n",
       "      <td>[Larry J. Franco, Scott Kroopf, Ted Field, Rob...</td>\n",
       "      <td>[Robin Williams, Jonathan Hyde, Kirsten Dunst,...</td>\n",
       "      <td>{'Robin Williams': 'name', 'Jonathan Hyde': 'n...</td>\n",
       "      <td>{'Larry J. Franco': 'name', 'Scott Kroopf': 'n...</td>\n",
       "      <td>{'Joe Johnston': 'name', 'Thomas E. Ackerman':...</td>\n",
       "    </tr>\n",
       "    <tr>\n",
       "      <th>2</th>\n",
       "      <td>[{'cast_id': 2, 'character': 'Max Goldman', 'c...</td>\n",
       "      <td>[{'credit_id': '52fe466a9251416c75077a89', 'de...</td>\n",
       "      <td>15602</td>\n",
       "      <td>[Howard Deutch]</td>\n",
       "      <td>[]</td>\n",
       "      <td>[Walter Matthau, Jack Lemmon, Ann-Margret, Sop...</td>\n",
       "      <td>{'Walter Matthau': 'name', 'Jack Lemmon': 'nam...</td>\n",
       "      <td>{}</td>\n",
       "      <td>{'Howard Deutch': 'name'}</td>\n",
       "    </tr>\n",
       "    <tr>\n",
       "      <th>3</th>\n",
       "      <td>[{'cast_id': 1, 'character': \"Savannah 'Vannah...</td>\n",
       "      <td>[{'credit_id': '52fe44779251416c91011acb', 'de...</td>\n",
       "      <td>31357</td>\n",
       "      <td>[Forest Whitaker]</td>\n",
       "      <td>[Ronald Bass, Ezra Swerdlow, Deborah Schindler...</td>\n",
       "      <td>[Whitney Houston, Angela Bassett, Loretta Devi...</td>\n",
       "      <td>{'Whitney Houston': 'name', 'Angela Bassett': ...</td>\n",
       "      <td>{'Ronald Bass': 'name', 'Ezra Swerdlow': 'name...</td>\n",
       "      <td>{'Forest Whitaker': 'name'}</td>\n",
       "    </tr>\n",
       "    <tr>\n",
       "      <th>4</th>\n",
       "      <td>[{'cast_id': 1, 'character': 'George Banks', '...</td>\n",
       "      <td>[{'credit_id': '52fe44959251416c75039ed7', 'de...</td>\n",
       "      <td>11862</td>\n",
       "      <td>[Elliot Davis, Charles Shyer]</td>\n",
       "      <td>[Nancy Meyers]</td>\n",
       "      <td>[Steve Martin, Diane Keaton, Martin Short, Kim...</td>\n",
       "      <td>{'Steve Martin': 'name', 'Diane Keaton': 'name...</td>\n",
       "      <td>{'Nancy Meyers': 'name'}</td>\n",
       "      <td>{'Elliot Davis': 'name', 'Charles Shyer': 'name'}</td>\n",
       "    </tr>\n",
       "  </tbody>\n",
       "</table>\n",
       "</div>"
      ],
      "text/plain": [
       "                                                cast  \\\n",
       "0  [{'cast_id': 14, 'character': 'Woody (voice)',...   \n",
       "1  [{'cast_id': 1, 'character': 'Alan Parrish', '...   \n",
       "2  [{'cast_id': 2, 'character': 'Max Goldman', 'c...   \n",
       "3  [{'cast_id': 1, 'character': \"Savannah 'Vannah...   \n",
       "4  [{'cast_id': 1, 'character': 'George Banks', '...   \n",
       "\n",
       "                                                crew     id  \\\n",
       "0  [{'credit_id': '52fe4284c3a36847f8024f49', 'de...    862   \n",
       "1  [{'credit_id': '52fe44bfc3a36847f80a7cd1', 'de...   8844   \n",
       "2  [{'credit_id': '52fe466a9251416c75077a89', 'de...  15602   \n",
       "3  [{'credit_id': '52fe44779251416c91011acb', 'de...  31357   \n",
       "4  [{'credit_id': '52fe44959251416c75039ed7', 'de...  11862   \n",
       "\n",
       "                                           directors  \\\n",
       "0  [John Lasseter, Ash Brannon, William Reeves, R...   \n",
       "1                 [Joe Johnston, Thomas E. Ackerman]   \n",
       "2                                    [Howard Deutch]   \n",
       "3                                  [Forest Whitaker]   \n",
       "4                      [Elliot Davis, Charles Shyer]   \n",
       "\n",
       "                                           producers  \\\n",
       "0  [Bonnie Arnold, Ed Catmull, Ralph Guggenheim, ...   \n",
       "1  [Larry J. Franco, Scott Kroopf, Ted Field, Rob...   \n",
       "2                                                 []   \n",
       "3  [Ronald Bass, Ezra Swerdlow, Deborah Schindler...   \n",
       "4                                     [Nancy Meyers]   \n",
       "\n",
       "                                              actors  \\\n",
       "0  [Tom Hanks, Tim Allen, Don Rickles, Jim Varney...   \n",
       "1  [Robin Williams, Jonathan Hyde, Kirsten Dunst,...   \n",
       "2  [Walter Matthau, Jack Lemmon, Ann-Margret, Sop...   \n",
       "3  [Whitney Houston, Angela Bassett, Loretta Devi...   \n",
       "4  [Steve Martin, Diane Keaton, Martin Short, Kim...   \n",
       "\n",
       "                                         actors_dict  \\\n",
       "0  {'Tom Hanks': 'name', 'Tim Allen': 'name', 'Do...   \n",
       "1  {'Robin Williams': 'name', 'Jonathan Hyde': 'n...   \n",
       "2  {'Walter Matthau': 'name', 'Jack Lemmon': 'nam...   \n",
       "3  {'Whitney Houston': 'name', 'Angela Bassett': ...   \n",
       "4  {'Steve Martin': 'name', 'Diane Keaton': 'name...   \n",
       "\n",
       "                                      producers_dict  \\\n",
       "0  {'Bonnie Arnold': 'name', 'Ed Catmull': 'name'...   \n",
       "1  {'Larry J. Franco': 'name', 'Scott Kroopf': 'n...   \n",
       "2                                                 {}   \n",
       "3  {'Ronald Bass': 'name', 'Ezra Swerdlow': 'name...   \n",
       "4                           {'Nancy Meyers': 'name'}   \n",
       "\n",
       "                                      directors_dict  \n",
       "0  {'John Lasseter': 'name', 'Ash Brannon': 'name...  \n",
       "1  {'Joe Johnston': 'name', 'Thomas E. Ackerman':...  \n",
       "2                          {'Howard Deutch': 'name'}  \n",
       "3                        {'Forest Whitaker': 'name'}  \n",
       "4  {'Elliot Davis': 'name', 'Charles Shyer': 'name'}  "
      ]
     },
     "execution_count": 16,
     "metadata": {},
     "output_type": "execute_result"
    }
   ],
   "source": [
    "%%time\n",
    "\n",
    "# Drop rows where both cast and crew are empty\n",
    "credits = credits[~((credits['cast'].str.contains('\\[\\]')) & (credits['crew'].str.contains('\\[\\]')))]\n",
    "\n",
    "def dedupe(df):\n",
    "    dupes = len(df[df.duplicated(subset=['id'])])\n",
    "    print('Removed', dupes, 'duplicate rows.\\n')\n",
    "    return df[~df.duplicated(subset=['id'])]\n",
    "\n",
    "# Remove duplicates:\n",
    "credits = dedupe(credits)\n",
    "\n",
    "def get_credits(crew_json):\n",
    "    crew = ast.literal_eval(crew_json.crew)\n",
    "    cast = ast.literal_eval(crew_json.cast)\n",
    "    directors = []\n",
    "    producers = []\n",
    "    actors = []\n",
    "    for member in crew:\n",
    "#        if member is np.nan:\n",
    "#            member = '[]'\n",
    "        if 'Director' in member['job'] and member['job'] is not np.nan:\n",
    "            directors.append(member['name'])\n",
    "        if 'Producer' in member['job'] and member['job'] is not np.nan:\n",
    "            producers.append(member['name'])\n",
    "    for actor in cast:\n",
    "#        if actor is np.nan:\n",
    "#            actor = '[]'\n",
    "        if actor['name'] is not np.nan:\n",
    "            actors.append(actor['name'])\n",
    "\n",
    "    return  pd.Series([directors, producers, actors])\n",
    "\n",
    "credits[['directors','producers','actors']] = credits.apply(get_credits, axis=1)\n",
    "\n",
    "def make_dict(lst):\n",
    "    if lst is np.nan:\n",
    "        return np.nan\n",
    "    else:\n",
    "        return { i : 'name' for i in lst }\n",
    "        #return {i:lst[i] for i in range(0, len(lst))}\n",
    "\n",
    "credits['actors_dict'] = credits.actors.apply(make_dict)\n",
    "credits['producers_dict'] = credits.producers.apply(make_dict)\n",
    "credits['directors_dict'] = credits.directors.apply(make_dict)\n",
    "\n",
    "print(credits.info(),timebreak)\n",
    "\n",
    "credits.head()\n"
   ]
  },
  {
   "cell_type": "markdown",
   "metadata": {},
   "source": [
    "### Movie Keywords\n",
    "\n",
    "The keywords dataset (found in /data/keywords.csv) has a movie id column and again provides a JSON object stored as a string representing keywords which apply to each movie.  It uses single quotes for strings, except in cases where a single quote is used, these strings are wrapped in double quotes.  Well formed JSON expects strings to be wrapped in double quotes, so we'll utilize another helper function using the *literal_eval* function from the Abstract Syntax Trees package.\n",
    "\n",
    "After parsing them as literal into a list object, and removing empty list objects, we'll save these **plot keywords** as list object which we can merge into our movies dataset.\n",
    "\n",
    "There are 532 duplicate entries in this file which from a sample of random selections, again appear to be true duplicates and will be safely removed."
   ]
  },
  {
   "cell_type": "code",
   "execution_count": 17,
   "metadata": {
    "ExecuteTime": {
     "end_time": "2020-08-08T16:28:12.181735Z",
     "start_time": "2020-08-08T16:28:09.456877Z"
    }
   },
   "outputs": [
    {
     "name": "stdout",
     "output_type": "stream",
     "text": [
      "Removed 532 duplicate rows.\n",
      "\n",
      "<class 'pandas.core.frame.DataFrame'>\n",
      "Int64Index: 31092 entries, 0 to 46415\n",
      "Data columns (total 3 columns):\n",
      " #   Column        Non-Null Count  Dtype \n",
      "---  ------        --------------  ----- \n",
      " 0   id            31092 non-null  int64 \n",
      " 1   keywords      31092 non-null  object\n",
      " 2   keyword_json  31092 non-null  object\n",
      "dtypes: int64(1), object(2)\n",
      "memory usage: 971.6+ KB\n",
      "None \n",
      "\n",
      "----------------------------------------------------\n",
      "Cell Processing Time\n",
      "CPU times: user 2.61 s, sys: 63.7 ms, total: 2.67 s\n",
      "Wall time: 2.71 s\n"
     ]
    },
    {
     "data": {
      "text/html": [
       "<div>\n",
       "<style scoped>\n",
       "    .dataframe tbody tr th:only-of-type {\n",
       "        vertical-align: middle;\n",
       "    }\n",
       "\n",
       "    .dataframe tbody tr th {\n",
       "        vertical-align: top;\n",
       "    }\n",
       "\n",
       "    .dataframe thead th {\n",
       "        text-align: right;\n",
       "    }\n",
       "</style>\n",
       "<table border=\"1\" class=\"dataframe\">\n",
       "  <thead>\n",
       "    <tr style=\"text-align: right;\">\n",
       "      <th></th>\n",
       "      <th>id</th>\n",
       "      <th>keywords</th>\n",
       "      <th>keyword_json</th>\n",
       "    </tr>\n",
       "  </thead>\n",
       "  <tbody>\n",
       "    <tr>\n",
       "      <th>0</th>\n",
       "      <td>862</td>\n",
       "      <td>[jealousy, toy, boy, friendship, friends, riva...</td>\n",
       "      <td>[{'id': 931, 'name': 'jealousy'}, {'id': 4290,...</td>\n",
       "    </tr>\n",
       "    <tr>\n",
       "      <th>1</th>\n",
       "      <td>8844</td>\n",
       "      <td>[board game, disappearance, based on children'...</td>\n",
       "      <td>[{'id': 10090, 'name': 'board game'}, {'id': 1...</td>\n",
       "    </tr>\n",
       "    <tr>\n",
       "      <th>2</th>\n",
       "      <td>15602</td>\n",
       "      <td>[fishing, best friend, duringcreditsstinger, o...</td>\n",
       "      <td>[{'id': 1495, 'name': 'fishing'}, {'id': 12392...</td>\n",
       "    </tr>\n",
       "    <tr>\n",
       "      <th>3</th>\n",
       "      <td>31357</td>\n",
       "      <td>[based on novel, interracial relationship, sin...</td>\n",
       "      <td>[{'id': 818, 'name': 'based on novel'}, {'id':...</td>\n",
       "    </tr>\n",
       "    <tr>\n",
       "      <th>4</th>\n",
       "      <td>11862</td>\n",
       "      <td>[baby, midlife crisis, confidence, aging, daug...</td>\n",
       "      <td>[{'id': 1009, 'name': 'baby'}, {'id': 1599, 'n...</td>\n",
       "    </tr>\n",
       "  </tbody>\n",
       "</table>\n",
       "</div>"
      ],
      "text/plain": [
       "      id                                           keywords  \\\n",
       "0    862  [jealousy, toy, boy, friendship, friends, riva...   \n",
       "1   8844  [board game, disappearance, based on children'...   \n",
       "2  15602  [fishing, best friend, duringcreditsstinger, o...   \n",
       "3  31357  [based on novel, interracial relationship, sin...   \n",
       "4  11862  [baby, midlife crisis, confidence, aging, daug...   \n",
       "\n",
       "                                        keyword_json  \n",
       "0  [{'id': 931, 'name': 'jealousy'}, {'id': 4290,...  \n",
       "1  [{'id': 10090, 'name': 'board game'}, {'id': 1...  \n",
       "2  [{'id': 1495, 'name': 'fishing'}, {'id': 12392...  \n",
       "3  [{'id': 818, 'name': 'based on novel'}, {'id':...  \n",
       "4  [{'id': 1009, 'name': 'baby'}, {'id': 1599, 'n...  "
      ]
     },
     "execution_count": 17,
     "metadata": {},
     "output_type": "execute_result"
    }
   ],
   "source": [
    "%%time\n",
    "\n",
    "#keywords = pd.read_csv('./data/movies/keywords.csv')\n",
    "\n",
    "# Remove empty entries:\n",
    "keywords = keywords[~keywords['keywords'].str.contains('\\[\\]')]\n",
    "\n",
    "# Remove duplicates:\n",
    "keywords = dedupe(keywords)\n",
    "\n",
    "keywords['keyword_json'] = keywords['keywords'] \n",
    "\n",
    "# Breakout json into a list of names\n",
    "def get_keywords(keyword_list):\n",
    "    if keyword_list is np.nan:\n",
    "        return np.nan\n",
    "    kw = []\n",
    "    klist = ast.literal_eval(keyword_list)\n",
    "    for word in klist:\n",
    "        kw.append(word['name'])\n",
    "    return kw\n",
    "\n",
    "keywords['keywords'] = keywords.keyword_json.apply(get_keywords)\n",
    "\n",
    "print(keywords.info(),timebreak)\n",
    "\n",
    "keywords.head()"
   ]
  },
  {
   "cell_type": "markdown",
   "metadata": {},
   "source": [
    "### Movie Metadata\n",
    "\n",
    "\n",
    "\n",
    "The movies dataset (found in /data/movies_metadata.csv) has a movie id column and provides a lot of usable and JSON objects storing various metadata about each movie.  This dataset also appears to contain approximately 30 duplicate records, and after examining a sample of random selections, they appear to be true duplicates and will be safely removed.\n",
    "\n",
    "In this section we'll accomplish the following:  \n",
    "* There are three movies with improper ID values (1997-08-20,2012-09-29,2014-01-01), these items all appear to have incorrect formatting, so we'll drop these in order to merge the keyword and credits datasets and prevent future problems.\n",
    "* Merge directors, producers and actors from credits dataset\n",
    "* Merge keywords from keywords dataset\n",
    "* Clean up the movie collection by converting it to a string, as it appears to only contain one item per movie.\n",
    "* Convert the JSON genres object into a list of genres\n",
    "* Add new field num_of_years from release (derived from release date)\n",
    "* Change Data type of field \"budget\" and \"popularity\" from object to float64\n"
   ]
  },
  {
   "cell_type": "code",
   "execution_count": 18,
   "metadata": {
    "ExecuteTime": {
     "end_time": "2020-08-08T16:28:19.487977Z",
     "start_time": "2020-08-08T16:28:14.320862Z"
    }
   },
   "outputs": [
    {
     "name": "stdout",
     "output_type": "stream",
     "text": [
      "Original Movies Shape:  (45466, 24) \n",
      "\n",
      "Removed 30 duplicate rows.\n",
      "\n",
      "Movies Shape after dropping bad data:  (45433, 24) \n",
      "\n",
      "Movies Shape after merging keywords:  (45433, 26) \n",
      "\n",
      "Movies Shape after merging credits:  (45433, 34) \n",
      "\n",
      "<class 'pandas.core.frame.DataFrame'>\n",
      "Int64Index: 45433 entries, 0 to 45432\n",
      "Data columns (total 34 columns):\n",
      " #   Column                 Non-Null Count  Dtype  \n",
      "---  ------                 --------------  -----  \n",
      " 0   adult                  45433 non-null  object \n",
      " 1   belongs_to_collection  4488 non-null   object \n",
      " 2   budget                 45433 non-null  object \n",
      " 3   genres                 45433 non-null  object \n",
      " 4   homepage               7774 non-null   object \n",
      " 5   id                     45433 non-null  int64  \n",
      " 6   imdb_id                45416 non-null  object \n",
      " 7   original_language      45422 non-null  object \n",
      " 8   original_title         45433 non-null  object \n",
      " 9   overview               44479 non-null  object \n",
      " 10  popularity             45430 non-null  object \n",
      " 11  poster_path            45047 non-null  object \n",
      " 12  production_companies   45430 non-null  object \n",
      " 13  production_countries   45430 non-null  object \n",
      " 14  release_date           45346 non-null  object \n",
      " 15  revenue                45430 non-null  float64\n",
      " 16  runtime                45173 non-null  float64\n",
      " 17  spoken_languages       45430 non-null  object \n",
      " 18  status                 45349 non-null  object \n",
      " 19  tagline                20401 non-null  object \n",
      " 20  title                  45430 non-null  object \n",
      " 21  video                  45430 non-null  object \n",
      " 22  vote_average           45430 non-null  float64\n",
      " 23  vote_count             45430 non-null  float64\n",
      " 24  keywords               31092 non-null  object \n",
      " 25  directors              45011 non-null  object \n",
      " 26  producers              45011 non-null  object \n",
      " 27  actors                 45011 non-null  object \n",
      " 28  actors_dict            45011 non-null  object \n",
      " 29  producers_dict         45011 non-null  object \n",
      " 30  directors_dict         45011 non-null  object \n",
      " 31  genre_dict             45433 non-null  object \n",
      " 32  spoken_languages_dict  45430 non-null  object \n",
      " 33  number_of_years        45433 non-null  float64\n",
      "dtypes: float64(5), int64(1), object(28)\n",
      "memory usage: 12.1+ MB\n",
      "None \n",
      "\n",
      "----------------------------------------------------\n",
      "Cell Processing Time\n",
      "CPU times: user 4.82 s, sys: 181 ms, total: 5 s\n",
      "Wall time: 5.1 s\n"
     ]
    },
    {
     "data": {
      "text/html": [
       "<div>\n",
       "<style scoped>\n",
       "    .dataframe tbody tr th:only-of-type {\n",
       "        vertical-align: middle;\n",
       "    }\n",
       "\n",
       "    .dataframe tbody tr th {\n",
       "        vertical-align: top;\n",
       "    }\n",
       "\n",
       "    .dataframe thead th {\n",
       "        text-align: right;\n",
       "    }\n",
       "</style>\n",
       "<table border=\"1\" class=\"dataframe\">\n",
       "  <thead>\n",
       "    <tr style=\"text-align: right;\">\n",
       "      <th></th>\n",
       "      <th>adult</th>\n",
       "      <th>belongs_to_collection</th>\n",
       "      <th>budget</th>\n",
       "      <th>genres</th>\n",
       "      <th>homepage</th>\n",
       "      <th>id</th>\n",
       "      <th>imdb_id</th>\n",
       "      <th>original_language</th>\n",
       "      <th>original_title</th>\n",
       "      <th>overview</th>\n",
       "      <th>...</th>\n",
       "      <th>keywords</th>\n",
       "      <th>directors</th>\n",
       "      <th>producers</th>\n",
       "      <th>actors</th>\n",
       "      <th>actors_dict</th>\n",
       "      <th>producers_dict</th>\n",
       "      <th>directors_dict</th>\n",
       "      <th>genre_dict</th>\n",
       "      <th>spoken_languages_dict</th>\n",
       "      <th>number_of_years</th>\n",
       "    </tr>\n",
       "  </thead>\n",
       "  <tbody>\n",
       "    <tr>\n",
       "      <th>0</th>\n",
       "      <td>False</td>\n",
       "      <td>Toy Story Collection</td>\n",
       "      <td>30000000.0</td>\n",
       "      <td>[Animation, Comedy, Family]</td>\n",
       "      <td>http://toystory.disney.com/toy-story</td>\n",
       "      <td>862</td>\n",
       "      <td>tt0114709</td>\n",
       "      <td>en</td>\n",
       "      <td>Toy Story</td>\n",
       "      <td>Led by Woody, Andy's toys live happily in his ...</td>\n",
       "      <td>...</td>\n",
       "      <td>[jealousy, toy, boy, friendship, friends, riva...</td>\n",
       "      <td>[John Lasseter, Ash Brannon, William Reeves, R...</td>\n",
       "      <td>[Bonnie Arnold, Ed Catmull, Ralph Guggenheim, ...</td>\n",
       "      <td>[Tom Hanks, Tim Allen, Don Rickles, Jim Varney...</td>\n",
       "      <td>{'Tom Hanks': 'name', 'Tim Allen': 'name', 'Do...</td>\n",
       "      <td>{'Bonnie Arnold': 'name', 'Ed Catmull': 'name'...</td>\n",
       "      <td>{'John Lasseter': 'name', 'Ash Brannon': 'name...</td>\n",
       "      <td>[{'id': 16, 'name': 'Animation'}, {'id': 35, '...</td>\n",
       "      <td>[{'iso_639_1': 'en', 'name': 'English'}]</td>\n",
       "      <td>24.8</td>\n",
       "    </tr>\n",
       "    <tr>\n",
       "      <th>1</th>\n",
       "      <td>False</td>\n",
       "      <td>NaN</td>\n",
       "      <td>65000000.0</td>\n",
       "      <td>[Adventure, Fantasy, Family]</td>\n",
       "      <td>NaN</td>\n",
       "      <td>8844</td>\n",
       "      <td>tt0113497</td>\n",
       "      <td>en</td>\n",
       "      <td>Jumanji</td>\n",
       "      <td>When siblings Judy and Peter discover an encha...</td>\n",
       "      <td>...</td>\n",
       "      <td>[board game, disappearance, based on children'...</td>\n",
       "      <td>[Joe Johnston, Thomas E. Ackerman]</td>\n",
       "      <td>[Larry J. Franco, Scott Kroopf, Ted Field, Rob...</td>\n",
       "      <td>[Robin Williams, Jonathan Hyde, Kirsten Dunst,...</td>\n",
       "      <td>{'Robin Williams': 'name', 'Jonathan Hyde': 'n...</td>\n",
       "      <td>{'Larry J. Franco': 'name', 'Scott Kroopf': 'n...</td>\n",
       "      <td>{'Joe Johnston': 'name', 'Thomas E. Ackerman':...</td>\n",
       "      <td>[{'id': 12, 'name': 'Adventure'}, {'id': 14, '...</td>\n",
       "      <td>[{'iso_639_1': 'en', 'name': 'English'}, {'iso...</td>\n",
       "      <td>24.7</td>\n",
       "    </tr>\n",
       "    <tr>\n",
       "      <th>2</th>\n",
       "      <td>False</td>\n",
       "      <td>Grumpy Old Men Collection</td>\n",
       "      <td>0.0</td>\n",
       "      <td>[Romance, Comedy]</td>\n",
       "      <td>NaN</td>\n",
       "      <td>15602</td>\n",
       "      <td>tt0113228</td>\n",
       "      <td>en</td>\n",
       "      <td>Grumpier Old Men</td>\n",
       "      <td>A family wedding reignites the ancient feud be...</td>\n",
       "      <td>...</td>\n",
       "      <td>[fishing, best friend, duringcreditsstinger, o...</td>\n",
       "      <td>[Howard Deutch]</td>\n",
       "      <td>[]</td>\n",
       "      <td>[Walter Matthau, Jack Lemmon, Ann-Margret, Sop...</td>\n",
       "      <td>{'Walter Matthau': 'name', 'Jack Lemmon': 'nam...</td>\n",
       "      <td>{}</td>\n",
       "      <td>{'Howard Deutch': 'name'}</td>\n",
       "      <td>[{'id': 10749, 'name': 'Romance'}, {'id': 35, ...</td>\n",
       "      <td>[{'iso_639_1': 'en', 'name': 'English'}]</td>\n",
       "      <td>24.6</td>\n",
       "    </tr>\n",
       "    <tr>\n",
       "      <th>3</th>\n",
       "      <td>False</td>\n",
       "      <td>NaN</td>\n",
       "      <td>16000000.0</td>\n",
       "      <td>[Comedy, Drama, Romance]</td>\n",
       "      <td>NaN</td>\n",
       "      <td>31357</td>\n",
       "      <td>tt0114885</td>\n",
       "      <td>en</td>\n",
       "      <td>Waiting to Exhale</td>\n",
       "      <td>Cheated on, mistreated and stepped on, the wom...</td>\n",
       "      <td>...</td>\n",
       "      <td>[based on novel, interracial relationship, sin...</td>\n",
       "      <td>[Forest Whitaker]</td>\n",
       "      <td>[Ronald Bass, Ezra Swerdlow, Deborah Schindler...</td>\n",
       "      <td>[Whitney Houston, Angela Bassett, Loretta Devi...</td>\n",
       "      <td>{'Whitney Houston': 'name', 'Angela Bassett': ...</td>\n",
       "      <td>{'Ronald Bass': 'name', 'Ezra Swerdlow': 'name...</td>\n",
       "      <td>{'Forest Whitaker': 'name'}</td>\n",
       "      <td>[{'id': 35, 'name': 'Comedy'}, {'id': 18, 'nam...</td>\n",
       "      <td>[{'iso_639_1': 'en', 'name': 'English'}]</td>\n",
       "      <td>24.6</td>\n",
       "    </tr>\n",
       "    <tr>\n",
       "      <th>4</th>\n",
       "      <td>False</td>\n",
       "      <td>Father of the Bride Collection</td>\n",
       "      <td>0.0</td>\n",
       "      <td>[Comedy]</td>\n",
       "      <td>NaN</td>\n",
       "      <td>11862</td>\n",
       "      <td>tt0113041</td>\n",
       "      <td>en</td>\n",
       "      <td>Father of the Bride Part II</td>\n",
       "      <td>Just when George Banks has recovered from his ...</td>\n",
       "      <td>...</td>\n",
       "      <td>[baby, midlife crisis, confidence, aging, daug...</td>\n",
       "      <td>[Elliot Davis, Charles Shyer]</td>\n",
       "      <td>[Nancy Meyers]</td>\n",
       "      <td>[Steve Martin, Diane Keaton, Martin Short, Kim...</td>\n",
       "      <td>{'Steve Martin': 'name', 'Diane Keaton': 'name...</td>\n",
       "      <td>{'Nancy Meyers': 'name'}</td>\n",
       "      <td>{'Elliot Davis': 'name', 'Charles Shyer': 'name'}</td>\n",
       "      <td>[{'id': 35, 'name': 'Comedy'}]</td>\n",
       "      <td>[{'iso_639_1': 'en', 'name': 'English'}]</td>\n",
       "      <td>25.5</td>\n",
       "    </tr>\n",
       "  </tbody>\n",
       "</table>\n",
       "<p>5 rows × 34 columns</p>\n",
       "</div>"
      ],
      "text/plain": [
       "   adult           belongs_to_collection      budget  \\\n",
       "0  False            Toy Story Collection  30000000.0   \n",
       "1  False                             NaN  65000000.0   \n",
       "2  False       Grumpy Old Men Collection         0.0   \n",
       "3  False                             NaN  16000000.0   \n",
       "4  False  Father of the Bride Collection         0.0   \n",
       "\n",
       "                         genres                              homepage     id  \\\n",
       "0   [Animation, Comedy, Family]  http://toystory.disney.com/toy-story    862   \n",
       "1  [Adventure, Fantasy, Family]                                   NaN   8844   \n",
       "2             [Romance, Comedy]                                   NaN  15602   \n",
       "3      [Comedy, Drama, Romance]                                   NaN  31357   \n",
       "4                      [Comedy]                                   NaN  11862   \n",
       "\n",
       "     imdb_id original_language               original_title  \\\n",
       "0  tt0114709                en                    Toy Story   \n",
       "1  tt0113497                en                      Jumanji   \n",
       "2  tt0113228                en             Grumpier Old Men   \n",
       "3  tt0114885                en            Waiting to Exhale   \n",
       "4  tt0113041                en  Father of the Bride Part II   \n",
       "\n",
       "                                            overview  ...  \\\n",
       "0  Led by Woody, Andy's toys live happily in his ...  ...   \n",
       "1  When siblings Judy and Peter discover an encha...  ...   \n",
       "2  A family wedding reignites the ancient feud be...  ...   \n",
       "3  Cheated on, mistreated and stepped on, the wom...  ...   \n",
       "4  Just when George Banks has recovered from his ...  ...   \n",
       "\n",
       "                                            keywords  \\\n",
       "0  [jealousy, toy, boy, friendship, friends, riva...   \n",
       "1  [board game, disappearance, based on children'...   \n",
       "2  [fishing, best friend, duringcreditsstinger, o...   \n",
       "3  [based on novel, interracial relationship, sin...   \n",
       "4  [baby, midlife crisis, confidence, aging, daug...   \n",
       "\n",
       "                                           directors  \\\n",
       "0  [John Lasseter, Ash Brannon, William Reeves, R...   \n",
       "1                 [Joe Johnston, Thomas E. Ackerman]   \n",
       "2                                    [Howard Deutch]   \n",
       "3                                  [Forest Whitaker]   \n",
       "4                      [Elliot Davis, Charles Shyer]   \n",
       "\n",
       "                                           producers  \\\n",
       "0  [Bonnie Arnold, Ed Catmull, Ralph Guggenheim, ...   \n",
       "1  [Larry J. Franco, Scott Kroopf, Ted Field, Rob...   \n",
       "2                                                 []   \n",
       "3  [Ronald Bass, Ezra Swerdlow, Deborah Schindler...   \n",
       "4                                     [Nancy Meyers]   \n",
       "\n",
       "                                              actors  \\\n",
       "0  [Tom Hanks, Tim Allen, Don Rickles, Jim Varney...   \n",
       "1  [Robin Williams, Jonathan Hyde, Kirsten Dunst,...   \n",
       "2  [Walter Matthau, Jack Lemmon, Ann-Margret, Sop...   \n",
       "3  [Whitney Houston, Angela Bassett, Loretta Devi...   \n",
       "4  [Steve Martin, Diane Keaton, Martin Short, Kim...   \n",
       "\n",
       "                                         actors_dict  \\\n",
       "0  {'Tom Hanks': 'name', 'Tim Allen': 'name', 'Do...   \n",
       "1  {'Robin Williams': 'name', 'Jonathan Hyde': 'n...   \n",
       "2  {'Walter Matthau': 'name', 'Jack Lemmon': 'nam...   \n",
       "3  {'Whitney Houston': 'name', 'Angela Bassett': ...   \n",
       "4  {'Steve Martin': 'name', 'Diane Keaton': 'name...   \n",
       "\n",
       "                                      producers_dict  \\\n",
       "0  {'Bonnie Arnold': 'name', 'Ed Catmull': 'name'...   \n",
       "1  {'Larry J. Franco': 'name', 'Scott Kroopf': 'n...   \n",
       "2                                                 {}   \n",
       "3  {'Ronald Bass': 'name', 'Ezra Swerdlow': 'name...   \n",
       "4                           {'Nancy Meyers': 'name'}   \n",
       "\n",
       "                                      directors_dict  \\\n",
       "0  {'John Lasseter': 'name', 'Ash Brannon': 'name...   \n",
       "1  {'Joe Johnston': 'name', 'Thomas E. Ackerman':...   \n",
       "2                          {'Howard Deutch': 'name'}   \n",
       "3                        {'Forest Whitaker': 'name'}   \n",
       "4  {'Elliot Davis': 'name', 'Charles Shyer': 'name'}   \n",
       "\n",
       "                                          genre_dict  \\\n",
       "0  [{'id': 16, 'name': 'Animation'}, {'id': 35, '...   \n",
       "1  [{'id': 12, 'name': 'Adventure'}, {'id': 14, '...   \n",
       "2  [{'id': 10749, 'name': 'Romance'}, {'id': 35, ...   \n",
       "3  [{'id': 35, 'name': 'Comedy'}, {'id': 18, 'nam...   \n",
       "4                     [{'id': 35, 'name': 'Comedy'}]   \n",
       "\n",
       "                               spoken_languages_dict number_of_years  \n",
       "0           [{'iso_639_1': 'en', 'name': 'English'}]            24.8  \n",
       "1  [{'iso_639_1': 'en', 'name': 'English'}, {'iso...            24.7  \n",
       "2           [{'iso_639_1': 'en', 'name': 'English'}]            24.6  \n",
       "3           [{'iso_639_1': 'en', 'name': 'English'}]            24.6  \n",
       "4           [{'iso_639_1': 'en', 'name': 'English'}]            25.5  \n",
       "\n",
       "[5 rows x 34 columns]"
      ]
     },
     "execution_count": 18,
     "metadata": {},
     "output_type": "execute_result"
    }
   ],
   "source": [
    "%%time\n",
    "def number_of_years(d1, d2):\n",
    "    d1 = datetime.strptime(d1, \"%Y-%m-%d\")\n",
    "    d2 = datetime.strptime(d2, \"%Y-%m-%d\")\n",
    "    return round(abs((d2 - d1).days)/365.0,1)\n",
    "\n",
    "today = datetime.today().strftime(\"%Y-%m-%d\")\n",
    "\n",
    "#movies = pd.read_csv('./data/movies/movies_metadata.csv', low_memory=False)\n",
    "print('Original Movies Shape: ', movies.shape, '\\n')\n",
    "\n",
    "# Remove the movies with erroneous data & convert ID to int:\n",
    "movies = movies[~movies['id'].str.contains('-')]\n",
    "movies['id'] = movies['id'].astype(int)\n",
    "\n",
    "# Remove duplicates:\n",
    "movies = dedupe(movies)\n",
    "\n",
    "print('Movies Shape after dropping bad data: ', movies.shape, '\\n')\n",
    "\n",
    "# Add Keywords & Credits\n",
    "movies = movies.merge(keywords, how='left', on='id')\n",
    "print('Movies Shape after merging keywords: ', movies.shape, '\\n')\n",
    "\n",
    "movies = movies.merge(credits, how='left', on='id')\n",
    "print('Movies Shape after merging credits: ', movies.shape, '\\n')\n",
    "\n",
    "movies = movies.drop(columns=['cast','crew','keyword_json'])\n",
    "\n",
    "# Function to convert collection to a string\n",
    "def get_collection(json):\n",
    "    if pd.isnull(json):\n",
    "        return np.nan\n",
    "    else:\n",
    "        return ast.literal_eval(json)['name']\n",
    "\n",
    "movies['belongs_to_collection'] = movies.belongs_to_collection.apply(get_collection)\n",
    "\n",
    "#preserve genres and spoken language dicts:\n",
    "movies['genre_dict'] = movies['genres']\n",
    "movies['spoken_languages_dict'] = movies['spoken_languages']\n",
    "#We can re-use our get_keywords function here to get genres & spoken languages\n",
    "movies['genres'] = movies.genres.apply(get_keywords)\n",
    "movies['spoken_languages'] = movies.spoken_languages.apply(get_keywords)\n",
    "\n",
    "#\n",
    "#  We can check if a string is NaN by using the property of NaN object that a NaN != NaN.\n",
    "#  y==y checks if given string is not an NaN. if NaN it will put undefined -1 \n",
    "#\n",
    "movies['number_of_years']  =  [ number_of_years(today,y) if y==y else -1 for y in movies['release_date']]\n",
    "\n",
    "print(movies.info(),timebreak)\n",
    "movies['budget']     = movies['budget'].astype('float64')\n",
    "movies['popularity'] = movies['popularity'].astype('float64')\n",
    "\n",
    "movies.head()\n"
   ]
  },
  {
   "cell_type": "markdown",
   "metadata": {},
   "source": [
    "### Movie Ratings\n",
    "\n",
    "The ratings dataset consists of approximately **270,000 annonomous userIds, 45,000 movieIds that we can link to our movies dataset, and 2.6 million user ratings** on a scale from **0.5 - 5.0** (worst to best), and a timestamp for when the rating was collected. A cursory glance through the data shows there are no duplicate ratings for user/movie combinations, saving us the work of averaging the scores! Clean data FTW!\n",
    "\n",
    "*ratings_small* is a subset of the ratings dataset available in the Full MovieLens dataset and contains about **100,000 ratings from 671 users on 9,066 movies**."
   ]
  },
  {
   "cell_type": "code",
   "execution_count": 19,
   "metadata": {
    "ExecuteTime": {
     "end_time": "2020-08-08T16:28:22.903777Z",
     "start_time": "2020-08-08T16:28:22.873571Z"
    }
   },
   "outputs": [
    {
     "name": "stdout",
     "output_type": "stream",
     "text": [
      "<class 'pandas.core.frame.DataFrame'>\n",
      "RangeIndex: 100004 entries, 0 to 100003\n",
      "Data columns (total 4 columns):\n",
      " #   Column     Non-Null Count   Dtype  \n",
      "---  ------     --------------   -----  \n",
      " 0   userId     100004 non-null  int64  \n",
      " 1   movieId    100004 non-null  int64  \n",
      " 2   rating     100004 non-null  float64\n",
      " 3   timestamp  100004 non-null  int64  \n",
      "dtypes: float64(1), int64(3)\n",
      "memory usage: 3.1 MB\n",
      "\n",
      "Count of duplicate ratings for a user/movie: 0\n",
      "\n",
      "Number of unique movies: 9066\n",
      "\n",
      "Number of unique users: 671\n"
     ]
    }
   ],
   "source": [
    "#ratings_small = pd.read_csv('./data/movies/ratings_small.csv')\n",
    "ratings_small.info()\n",
    "print('\\nCount of duplicate ratings for a user/movie:',len(ratings_small[ratings_small.duplicated(subset=['userId','movieId'])]))\n",
    "print('\\nNumber of unique movies:',len(ratings_small.movieId.unique()))\n",
    "print('\\nNumber of unique users:',len(ratings_small.userId.unique()))"
   ]
  },
  {
   "cell_type": "code",
   "execution_count": 20,
   "metadata": {
    "ExecuteTime": {
     "end_time": "2020-08-08T16:28:38.255258Z",
     "start_time": "2020-08-08T16:28:26.461030Z"
    }
   },
   "outputs": [
    {
     "name": "stdout",
     "output_type": "stream",
     "text": [
      "<class 'pandas.core.frame.DataFrame'>\n",
      "RangeIndex: 26024289 entries, 0 to 26024288\n",
      "Data columns (total 4 columns):\n",
      " #   Column     Dtype  \n",
      "---  ------     -----  \n",
      " 0   userId     int64  \n",
      " 1   movieId    int64  \n",
      " 2   rating     float64\n",
      " 3   timestamp  int64  \n",
      "dtypes: float64(1), int64(3)\n",
      "memory usage: 794.2 MB\n",
      "\n",
      "Count of duplicate ratings for a user/movie: 0\n",
      "\n",
      "Number of unique movies: 45115\n",
      "\n",
      "Number of unique users: 270896\n"
     ]
    }
   ],
   "source": [
    "#ratings = pd.read_csv('./data/movies/ratings.csv')\n",
    "ratings_full.info()\n",
    "print('\\nCount of duplicate ratings for a user/movie:',len(ratings_full[ratings_full.duplicated(subset=['userId','movieId'])]))\n",
    "print('\\nNumber of unique movies:',len(ratings_full.movieId.unique()))\n",
    "print('\\nNumber of unique users:',len(ratings_full.userId.unique()))"
   ]
  },
  {
   "cell_type": "code",
   "execution_count": null,
   "metadata": {},
   "outputs": [],
   "source": []
  },
  {
   "cell_type": "markdown",
   "metadata": {},
   "source": [
    "## Descriptive Statistics Summary\n",
    "\n",
    "Use preprocessed data to see how Mean,Median,Mode and other stats looks like using describe function."
   ]
  },
  {
   "cell_type": "markdown",
   "metadata": {},
   "source": [
    "### Credits/Keyword Stats Summary\n"
   ]
  },
  {
   "cell_type": "markdown",
   "metadata": {},
   "source": [
    "Credits and Keywords set doesn't have categorical or numerical data. All fields are lists which can be used as additional information or side information during model building process. Turicreate internally creates Vector Embeddings to use them to find similarity between users/movies.\n",
    "\n",
    "Cast Crew and keyword if absent in the data, we don't need to remove these rows, even if lists producers column is absent, other columns does contain important information for that particular record. So we are not deleting any records. Those missing will be handled by Turicreate internally."
   ]
  },
  {
   "cell_type": "code",
   "execution_count": 21,
   "metadata": {
    "ExecuteTime": {
     "end_time": "2020-08-08T16:28:41.176465Z",
     "start_time": "2020-08-08T16:28:41.163802Z"
    }
   },
   "outputs": [
    {
     "data": {
      "text/html": [
       "<div>\n",
       "<style scoped>\n",
       "    .dataframe tbody tr th:only-of-type {\n",
       "        vertical-align: middle;\n",
       "    }\n",
       "\n",
       "    .dataframe tbody tr th {\n",
       "        vertical-align: top;\n",
       "    }\n",
       "\n",
       "    .dataframe thead th {\n",
       "        text-align: right;\n",
       "    }\n",
       "</style>\n",
       "<table border=\"1\" class=\"dataframe\">\n",
       "  <thead>\n",
       "    <tr style=\"text-align: right;\">\n",
       "      <th></th>\n",
       "      <th>id</th>\n",
       "      <th>keywords</th>\n",
       "      <th>keyword_json</th>\n",
       "    </tr>\n",
       "  </thead>\n",
       "  <tbody>\n",
       "    <tr>\n",
       "      <th>0</th>\n",
       "      <td>862</td>\n",
       "      <td>[jealousy, toy, boy, friendship, friends, riva...</td>\n",
       "      <td>[{'id': 931, 'name': 'jealousy'}, {'id': 4290,...</td>\n",
       "    </tr>\n",
       "    <tr>\n",
       "      <th>1</th>\n",
       "      <td>8844</td>\n",
       "      <td>[board game, disappearance, based on children'...</td>\n",
       "      <td>[{'id': 10090, 'name': 'board game'}, {'id': 1...</td>\n",
       "    </tr>\n",
       "    <tr>\n",
       "      <th>2</th>\n",
       "      <td>15602</td>\n",
       "      <td>[fishing, best friend, duringcreditsstinger, o...</td>\n",
       "      <td>[{'id': 1495, 'name': 'fishing'}, {'id': 12392...</td>\n",
       "    </tr>\n",
       "    <tr>\n",
       "      <th>3</th>\n",
       "      <td>31357</td>\n",
       "      <td>[based on novel, interracial relationship, sin...</td>\n",
       "      <td>[{'id': 818, 'name': 'based on novel'}, {'id':...</td>\n",
       "    </tr>\n",
       "    <tr>\n",
       "      <th>4</th>\n",
       "      <td>11862</td>\n",
       "      <td>[baby, midlife crisis, confidence, aging, daug...</td>\n",
       "      <td>[{'id': 1009, 'name': 'baby'}, {'id': 1599, 'n...</td>\n",
       "    </tr>\n",
       "  </tbody>\n",
       "</table>\n",
       "</div>"
      ],
      "text/plain": [
       "      id                                           keywords  \\\n",
       "0    862  [jealousy, toy, boy, friendship, friends, riva...   \n",
       "1   8844  [board game, disappearance, based on children'...   \n",
       "2  15602  [fishing, best friend, duringcreditsstinger, o...   \n",
       "3  31357  [based on novel, interracial relationship, sin...   \n",
       "4  11862  [baby, midlife crisis, confidence, aging, daug...   \n",
       "\n",
       "                                        keyword_json  \n",
       "0  [{'id': 931, 'name': 'jealousy'}, {'id': 4290,...  \n",
       "1  [{'id': 10090, 'name': 'board game'}, {'id': 1...  \n",
       "2  [{'id': 1495, 'name': 'fishing'}, {'id': 12392...  \n",
       "3  [{'id': 818, 'name': 'based on novel'}, {'id':...  \n",
       "4  [{'id': 1009, 'name': 'baby'}, {'id': 1599, 'n...  "
      ]
     },
     "execution_count": 21,
     "metadata": {},
     "output_type": "execute_result"
    }
   ],
   "source": [
    "keywords.head()"
   ]
  },
  {
   "cell_type": "code",
   "execution_count": 22,
   "metadata": {
    "ExecuteTime": {
     "end_time": "2020-08-08T16:28:41.219591Z",
     "start_time": "2020-08-08T16:28:41.180603Z"
    }
   },
   "outputs": [
    {
     "data": {
      "text/html": [
       "<div>\n",
       "<style scoped>\n",
       "    .dataframe tbody tr th:only-of-type {\n",
       "        vertical-align: middle;\n",
       "    }\n",
       "\n",
       "    .dataframe tbody tr th {\n",
       "        vertical-align: top;\n",
       "    }\n",
       "\n",
       "    .dataframe thead th {\n",
       "        text-align: right;\n",
       "    }\n",
       "</style>\n",
       "<table border=\"1\" class=\"dataframe\">\n",
       "  <thead>\n",
       "    <tr style=\"text-align: right;\">\n",
       "      <th></th>\n",
       "      <th>cast</th>\n",
       "      <th>crew</th>\n",
       "      <th>id</th>\n",
       "      <th>directors</th>\n",
       "      <th>producers</th>\n",
       "      <th>actors</th>\n",
       "      <th>actors_dict</th>\n",
       "      <th>producers_dict</th>\n",
       "      <th>directors_dict</th>\n",
       "    </tr>\n",
       "  </thead>\n",
       "  <tbody>\n",
       "    <tr>\n",
       "      <th>0</th>\n",
       "      <td>[{'cast_id': 14, 'character': 'Woody (voice)',...</td>\n",
       "      <td>[{'credit_id': '52fe4284c3a36847f8024f49', 'de...</td>\n",
       "      <td>862</td>\n",
       "      <td>[John Lasseter, Ash Brannon, William Reeves, R...</td>\n",
       "      <td>[Bonnie Arnold, Ed Catmull, Ralph Guggenheim, ...</td>\n",
       "      <td>[Tom Hanks, Tim Allen, Don Rickles, Jim Varney...</td>\n",
       "      <td>{'Tom Hanks': 'name', 'Tim Allen': 'name', 'Do...</td>\n",
       "      <td>{'Bonnie Arnold': 'name', 'Ed Catmull': 'name'...</td>\n",
       "      <td>{'John Lasseter': 'name', 'Ash Brannon': 'name...</td>\n",
       "    </tr>\n",
       "    <tr>\n",
       "      <th>1</th>\n",
       "      <td>[{'cast_id': 1, 'character': 'Alan Parrish', '...</td>\n",
       "      <td>[{'credit_id': '52fe44bfc3a36847f80a7cd1', 'de...</td>\n",
       "      <td>8844</td>\n",
       "      <td>[Joe Johnston, Thomas E. Ackerman]</td>\n",
       "      <td>[Larry J. Franco, Scott Kroopf, Ted Field, Rob...</td>\n",
       "      <td>[Robin Williams, Jonathan Hyde, Kirsten Dunst,...</td>\n",
       "      <td>{'Robin Williams': 'name', 'Jonathan Hyde': 'n...</td>\n",
       "      <td>{'Larry J. Franco': 'name', 'Scott Kroopf': 'n...</td>\n",
       "      <td>{'Joe Johnston': 'name', 'Thomas E. Ackerman':...</td>\n",
       "    </tr>\n",
       "    <tr>\n",
       "      <th>2</th>\n",
       "      <td>[{'cast_id': 2, 'character': 'Max Goldman', 'c...</td>\n",
       "      <td>[{'credit_id': '52fe466a9251416c75077a89', 'de...</td>\n",
       "      <td>15602</td>\n",
       "      <td>[Howard Deutch]</td>\n",
       "      <td>[]</td>\n",
       "      <td>[Walter Matthau, Jack Lemmon, Ann-Margret, Sop...</td>\n",
       "      <td>{'Walter Matthau': 'name', 'Jack Lemmon': 'nam...</td>\n",
       "      <td>{}</td>\n",
       "      <td>{'Howard Deutch': 'name'}</td>\n",
       "    </tr>\n",
       "    <tr>\n",
       "      <th>3</th>\n",
       "      <td>[{'cast_id': 1, 'character': \"Savannah 'Vannah...</td>\n",
       "      <td>[{'credit_id': '52fe44779251416c91011acb', 'de...</td>\n",
       "      <td>31357</td>\n",
       "      <td>[Forest Whitaker]</td>\n",
       "      <td>[Ronald Bass, Ezra Swerdlow, Deborah Schindler...</td>\n",
       "      <td>[Whitney Houston, Angela Bassett, Loretta Devi...</td>\n",
       "      <td>{'Whitney Houston': 'name', 'Angela Bassett': ...</td>\n",
       "      <td>{'Ronald Bass': 'name', 'Ezra Swerdlow': 'name...</td>\n",
       "      <td>{'Forest Whitaker': 'name'}</td>\n",
       "    </tr>\n",
       "    <tr>\n",
       "      <th>4</th>\n",
       "      <td>[{'cast_id': 1, 'character': 'George Banks', '...</td>\n",
       "      <td>[{'credit_id': '52fe44959251416c75039ed7', 'de...</td>\n",
       "      <td>11862</td>\n",
       "      <td>[Elliot Davis, Charles Shyer]</td>\n",
       "      <td>[Nancy Meyers]</td>\n",
       "      <td>[Steve Martin, Diane Keaton, Martin Short, Kim...</td>\n",
       "      <td>{'Steve Martin': 'name', 'Diane Keaton': 'name...</td>\n",
       "      <td>{'Nancy Meyers': 'name'}</td>\n",
       "      <td>{'Elliot Davis': 'name', 'Charles Shyer': 'name'}</td>\n",
       "    </tr>\n",
       "  </tbody>\n",
       "</table>\n",
       "</div>"
      ],
      "text/plain": [
       "                                                cast  \\\n",
       "0  [{'cast_id': 14, 'character': 'Woody (voice)',...   \n",
       "1  [{'cast_id': 1, 'character': 'Alan Parrish', '...   \n",
       "2  [{'cast_id': 2, 'character': 'Max Goldman', 'c...   \n",
       "3  [{'cast_id': 1, 'character': \"Savannah 'Vannah...   \n",
       "4  [{'cast_id': 1, 'character': 'George Banks', '...   \n",
       "\n",
       "                                                crew     id  \\\n",
       "0  [{'credit_id': '52fe4284c3a36847f8024f49', 'de...    862   \n",
       "1  [{'credit_id': '52fe44bfc3a36847f80a7cd1', 'de...   8844   \n",
       "2  [{'credit_id': '52fe466a9251416c75077a89', 'de...  15602   \n",
       "3  [{'credit_id': '52fe44779251416c91011acb', 'de...  31357   \n",
       "4  [{'credit_id': '52fe44959251416c75039ed7', 'de...  11862   \n",
       "\n",
       "                                           directors  \\\n",
       "0  [John Lasseter, Ash Brannon, William Reeves, R...   \n",
       "1                 [Joe Johnston, Thomas E. Ackerman]   \n",
       "2                                    [Howard Deutch]   \n",
       "3                                  [Forest Whitaker]   \n",
       "4                      [Elliot Davis, Charles Shyer]   \n",
       "\n",
       "                                           producers  \\\n",
       "0  [Bonnie Arnold, Ed Catmull, Ralph Guggenheim, ...   \n",
       "1  [Larry J. Franco, Scott Kroopf, Ted Field, Rob...   \n",
       "2                                                 []   \n",
       "3  [Ronald Bass, Ezra Swerdlow, Deborah Schindler...   \n",
       "4                                     [Nancy Meyers]   \n",
       "\n",
       "                                              actors  \\\n",
       "0  [Tom Hanks, Tim Allen, Don Rickles, Jim Varney...   \n",
       "1  [Robin Williams, Jonathan Hyde, Kirsten Dunst,...   \n",
       "2  [Walter Matthau, Jack Lemmon, Ann-Margret, Sop...   \n",
       "3  [Whitney Houston, Angela Bassett, Loretta Devi...   \n",
       "4  [Steve Martin, Diane Keaton, Martin Short, Kim...   \n",
       "\n",
       "                                         actors_dict  \\\n",
       "0  {'Tom Hanks': 'name', 'Tim Allen': 'name', 'Do...   \n",
       "1  {'Robin Williams': 'name', 'Jonathan Hyde': 'n...   \n",
       "2  {'Walter Matthau': 'name', 'Jack Lemmon': 'nam...   \n",
       "3  {'Whitney Houston': 'name', 'Angela Bassett': ...   \n",
       "4  {'Steve Martin': 'name', 'Diane Keaton': 'name...   \n",
       "\n",
       "                                      producers_dict  \\\n",
       "0  {'Bonnie Arnold': 'name', 'Ed Catmull': 'name'...   \n",
       "1  {'Larry J. Franco': 'name', 'Scott Kroopf': 'n...   \n",
       "2                                                 {}   \n",
       "3  {'Ronald Bass': 'name', 'Ezra Swerdlow': 'name...   \n",
       "4                           {'Nancy Meyers': 'name'}   \n",
       "\n",
       "                                      directors_dict  \n",
       "0  {'John Lasseter': 'name', 'Ash Brannon': 'name...  \n",
       "1  {'Joe Johnston': 'name', 'Thomas E. Ackerman':...  \n",
       "2                          {'Howard Deutch': 'name'}  \n",
       "3                        {'Forest Whitaker': 'name'}  \n",
       "4  {'Elliot Davis': 'name', 'Charles Shyer': 'name'}  "
      ]
     },
     "execution_count": 22,
     "metadata": {},
     "output_type": "execute_result"
    }
   ],
   "source": [
    "credits.head()"
   ]
  },
  {
   "cell_type": "markdown",
   "metadata": {},
   "source": [
    "### Ratings Stats Summary\n",
    "Ratings file contains only rating column on which we can take summary. We don't need to take summary on userId and movieId as these are ID columns. \n",
    "\n",
    "<font size=4> <b> outliers </b> </font><br><br>\n",
    "As we can see from the boxplot there are few observation beyond whiskers. these are outliers and may influence the predictions on rating. This is huge dataset and percentage of outliers is very less therefore we have decided to remove these outliers."
   ]
  },
  {
   "cell_type": "code",
   "execution_count": 23,
   "metadata": {
    "ExecuteTime": {
     "end_time": "2020-08-08T16:28:47.048273Z",
     "start_time": "2020-08-08T16:28:47.037052Z"
    }
   },
   "outputs": [
    {
     "data": {
      "text/html": [
       "<div>\n",
       "<style scoped>\n",
       "    .dataframe tbody tr th:only-of-type {\n",
       "        vertical-align: middle;\n",
       "    }\n",
       "\n",
       "    .dataframe tbody tr th {\n",
       "        vertical-align: top;\n",
       "    }\n",
       "\n",
       "    .dataframe thead th {\n",
       "        text-align: right;\n",
       "    }\n",
       "</style>\n",
       "<table border=\"1\" class=\"dataframe\">\n",
       "  <thead>\n",
       "    <tr style=\"text-align: right;\">\n",
       "      <th></th>\n",
       "      <th>userId</th>\n",
       "      <th>movieId</th>\n",
       "      <th>rating</th>\n",
       "      <th>timestamp</th>\n",
       "    </tr>\n",
       "  </thead>\n",
       "  <tbody>\n",
       "    <tr>\n",
       "      <th>0</th>\n",
       "      <td>1</td>\n",
       "      <td>110</td>\n",
       "      <td>1.0</td>\n",
       "      <td>1425941529</td>\n",
       "    </tr>\n",
       "    <tr>\n",
       "      <th>1</th>\n",
       "      <td>1</td>\n",
       "      <td>147</td>\n",
       "      <td>4.5</td>\n",
       "      <td>1425942435</td>\n",
       "    </tr>\n",
       "    <tr>\n",
       "      <th>2</th>\n",
       "      <td>1</td>\n",
       "      <td>858</td>\n",
       "      <td>5.0</td>\n",
       "      <td>1425941523</td>\n",
       "    </tr>\n",
       "    <tr>\n",
       "      <th>3</th>\n",
       "      <td>1</td>\n",
       "      <td>1221</td>\n",
       "      <td>5.0</td>\n",
       "      <td>1425941546</td>\n",
       "    </tr>\n",
       "    <tr>\n",
       "      <th>4</th>\n",
       "      <td>1</td>\n",
       "      <td>1246</td>\n",
       "      <td>5.0</td>\n",
       "      <td>1425941556</td>\n",
       "    </tr>\n",
       "  </tbody>\n",
       "</table>\n",
       "</div>"
      ],
      "text/plain": [
       "   userId  movieId  rating   timestamp\n",
       "0       1      110     1.0  1425941529\n",
       "1       1      147     4.5  1425942435\n",
       "2       1      858     5.0  1425941523\n",
       "3       1     1221     5.0  1425941546\n",
       "4       1     1246     5.0  1425941556"
      ]
     },
     "execution_count": 23,
     "metadata": {},
     "output_type": "execute_result"
    }
   ],
   "source": [
    "ratings.head()"
   ]
  },
  {
   "cell_type": "code",
   "execution_count": 24,
   "metadata": {
    "ExecuteTime": {
     "end_time": "2020-08-08T16:28:56.753444Z",
     "start_time": "2020-08-08T16:28:49.979029Z"
    },
    "scrolled": true
   },
   "outputs": [
    {
     "data": {
      "image/png": "[encoded data removed]",
      "text/plain": [
       "<Figure size 432x288 with 1 Axes>"
      ]
     },
     "metadata": {
      "needs_background": "light"
     },
     "output_type": "display_data"
    }
   ],
   "source": [
    "ax = sns.boxplot(data=ratings['rating'],showmeans=True)"
   ]
  },
  {
   "cell_type": "markdown",
   "metadata": {},
   "source": [
    "<font size=4> <b> Remove outliers </b> </font><br><br>"
   ]
  },
  {
   "cell_type": "code",
   "execution_count": 25,
   "metadata": {
    "ExecuteTime": {
     "end_time": "2020-08-08T16:29:10.275310Z",
     "start_time": "2020-08-08T16:28:59.759078Z"
    }
   },
   "outputs": [
    {
     "name": "stdout",
     "output_type": "stream",
     "text": [
      "Before  (26024289, 4)\n",
      "userId          135529.0\n",
      "movieId           5430.0\n",
      "rating               1.0\n",
      "timestamp    366823318.0\n",
      "dtype: float64\n",
      "After  (20069486, 5)\n",
      "Removed count  5954803\n"
     ]
    }
   ],
   "source": [
    "print('Before ',ratings.shape)\n",
    "\n",
    "Q1 = ratings.quantile(0.25)\n",
    "Q3 = ratings.quantile(0.75)\n",
    "IQR = Q3 - Q1\n",
    "print(IQR)\n",
    "ratings_final = ratings[~((ratings < (Q1 - 1.5 * IQR)) |(ratings > (Q3 + 1.5 * IQR))).any(axis=1)].copy().reset_index()\n",
    "print('After ',ratings_final.shape)\n",
    "print('Removed count ',ratings.shape[0]-ratings_final.shape[0])"
   ]
  },
  {
   "cell_type": "code",
   "execution_count": 26,
   "metadata": {
    "ExecuteTime": {
     "end_time": "2020-08-08T16:29:14.894725Z",
     "start_time": "2020-08-08T16:29:13.375491Z"
    }
   },
   "outputs": [
    {
     "data": {
      "image/png": "[encoded data removed]",
      "text/plain": [
       "<Figure size 432x288 with 1 Axes>"
      ]
     },
     "metadata": {
      "needs_background": "light"
     },
     "output_type": "display_data"
    }
   ],
   "source": [
    "ax = sns.boxplot(data=ratings_final['rating'],showmeans=True)"
   ]
  },
  {
   "cell_type": "markdown",
   "metadata": {},
   "source": [
    "### Movies MetaData Stats Summary"
   ]
  },
  {
   "cell_type": "markdown",
   "metadata": {},
   "source": [
    "Movies dataset has following numberic fields:<br>\n",
    "\n",
    "* budget\n",
    "* popularity\n",
    "* revenue\n",
    "* runtime\n",
    "* vote_average\n",
    "* vote_count\n",
    "* number_of_years (New derived field from release date)\n",
    "\n",
    "All other fields are either ID fields or list/dictionaries, So for now we don't need to look at those to check outliers. \n",
    "\n",
    "First of all check if any of the records has NaN. We need to remove these records as model will fail due to NaN. We don't know why these numbers are missing, We don't prefer imputing here as count is small compared to 45K movies, only 260 are seems to NaN. Therefore we will remove these records.    \n",
    "\n"
   ]
  },
  {
   "cell_type": "markdown",
   "metadata": {},
   "source": [
    "<font size=\"3\"> <b> Remove NaNs </b> </font> <br>\n",
    "Here is count NaN rows that needs to be deleted. We don't see any suspcious outlier in these fields and therefore we will keep records as it is after removing NaNs"
   ]
  },
  {
   "cell_type": "code",
   "execution_count": 27,
   "metadata": {
    "ExecuteTime": {
     "end_time": "2020-08-08T16:29:18.228451Z",
     "start_time": "2020-08-08T16:29:18.115835Z"
    }
   },
   "outputs": [
    {
     "name": "stdout",
     "output_type": "stream",
     "text": [
      "Shape Before (45433, 34)\n",
      "budget               0\n",
      "title                3\n",
      "popularity           3\n",
      "revenue              3\n",
      "number_of_years      0\n",
      "runtime            260\n",
      "vote_average         3\n",
      "vote_count           3\n",
      "dtype: int64\n",
      "Shape After (45173, 34)\n",
      "\n",
      "\n",
      "Total Deleted 260\n"
     ]
    }
   ],
   "source": [
    "print('Shape Before',movies.shape)\n",
    "\n",
    "print(movies.loc[:,['budget','title','popularity','revenue',\n",
    "                    'number_of_years','runtime','vote_average','vote_count'] ].isnull().sum())\n",
    "\n",
    "#movies[movies.loc[:,['budget','title','popularity',\n",
    "#                                                                      'revenue','number_of_years','runtime',\n",
    "#                                                                      'vote_average','vote_count'] ].isna().any(axis=1)]\n",
    "\n",
    "movies_final= movies.dropna(subset=['budget','title','popularity','revenue',\n",
    "                      'number_of_years','runtime','vote_average','vote_count']).copy()\n",
    "print('Shape After',movies_final.shape)\n",
    "print('\\n')\n",
    "print('Total Deleted',movies.shape[0]-movies_final.shape[0])"
   ]
  },
  {
   "cell_type": "code",
   "execution_count": 28,
   "metadata": {
    "ExecuteTime": {
     "end_time": "2020-08-08T16:29:18.321391Z",
     "start_time": "2020-08-08T16:29:18.231778Z"
    }
   },
   "outputs": [
    {
     "data": {
      "text/html": [
       "<div>\n",
       "<style scoped>\n",
       "    .dataframe tbody tr th:only-of-type {\n",
       "        vertical-align: middle;\n",
       "    }\n",
       "\n",
       "    .dataframe tbody tr th {\n",
       "        vertical-align: top;\n",
       "    }\n",
       "\n",
       "    .dataframe thead th {\n",
       "        text-align: right;\n",
       "    }\n",
       "</style>\n",
       "<table border=\"1\" class=\"dataframe\">\n",
       "  <thead>\n",
       "    <tr style=\"text-align: right;\">\n",
       "      <th></th>\n",
       "      <th>budget</th>\n",
       "      <th>title</th>\n",
       "      <th>popularity</th>\n",
       "      <th>revenue</th>\n",
       "      <th>number_of_years</th>\n",
       "      <th>runtime</th>\n",
       "      <th>vote_average</th>\n",
       "      <th>vote_count</th>\n",
       "    </tr>\n",
       "  </thead>\n",
       "  <tbody>\n",
       "    <tr>\n",
       "      <th>30677</th>\n",
       "      <td>74000000.0</td>\n",
       "      <td>Minions</td>\n",
       "      <td>547.488298</td>\n",
       "      <td>1.156731e+09</td>\n",
       "      <td>5.1</td>\n",
       "      <td>91.0</td>\n",
       "      <td>6.4</td>\n",
       "      <td>4729.0</td>\n",
       "    </tr>\n",
       "    <tr>\n",
       "      <th>33333</th>\n",
       "      <td>149000000.0</td>\n",
       "      <td>Wonder Woman</td>\n",
       "      <td>294.337037</td>\n",
       "      <td>8.205804e+08</td>\n",
       "      <td>3.2</td>\n",
       "      <td>141.0</td>\n",
       "      <td>7.2</td>\n",
       "      <td>5025.0</td>\n",
       "    </tr>\n",
       "    <tr>\n",
       "      <th>42192</th>\n",
       "      <td>160000000.0</td>\n",
       "      <td>Beauty and the Beast</td>\n",
       "      <td>287.253654</td>\n",
       "      <td>1.262886e+09</td>\n",
       "      <td>3.4</td>\n",
       "      <td>129.0</td>\n",
       "      <td>6.8</td>\n",
       "      <td>5530.0</td>\n",
       "    </tr>\n",
       "    <tr>\n",
       "      <th>43614</th>\n",
       "      <td>34000000.0</td>\n",
       "      <td>Baby Driver</td>\n",
       "      <td>228.032744</td>\n",
       "      <td>2.245113e+08</td>\n",
       "      <td>3.1</td>\n",
       "      <td>113.0</td>\n",
       "      <td>7.2</td>\n",
       "      <td>2083.0</td>\n",
       "    </tr>\n",
       "    <tr>\n",
       "      <th>24438</th>\n",
       "      <td>165000000.0</td>\n",
       "      <td>Big Hero 6</td>\n",
       "      <td>213.849907</td>\n",
       "      <td>6.521054e+08</td>\n",
       "      <td>5.8</td>\n",
       "      <td>102.0</td>\n",
       "      <td>7.8</td>\n",
       "      <td>6289.0</td>\n",
       "    </tr>\n",
       "    <tr>\n",
       "      <th>26546</th>\n",
       "      <td>58000000.0</td>\n",
       "      <td>Deadpool</td>\n",
       "      <td>187.860492</td>\n",
       "      <td>7.831130e+08</td>\n",
       "      <td>4.5</td>\n",
       "      <td>108.0</td>\n",
       "      <td>7.4</td>\n",
       "      <td>11444.0</td>\n",
       "    </tr>\n",
       "    <tr>\n",
       "      <th>26548</th>\n",
       "      <td>200000000.0</td>\n",
       "      <td>Guardians of the Galaxy Vol. 2</td>\n",
       "      <td>185.330992</td>\n",
       "      <td>8.634161e+08</td>\n",
       "      <td>3.3</td>\n",
       "      <td>137.0</td>\n",
       "      <td>7.6</td>\n",
       "      <td>4858.0</td>\n",
       "    </tr>\n",
       "    <tr>\n",
       "      <th>14546</th>\n",
       "      <td>237000000.0</td>\n",
       "      <td>Avatar</td>\n",
       "      <td>185.070892</td>\n",
       "      <td>2.787965e+09</td>\n",
       "      <td>10.7</td>\n",
       "      <td>162.0</td>\n",
       "      <td>7.2</td>\n",
       "      <td>12114.0</td>\n",
       "    </tr>\n",
       "    <tr>\n",
       "      <th>24334</th>\n",
       "      <td>20000000.0</td>\n",
       "      <td>John Wick</td>\n",
       "      <td>183.870374</td>\n",
       "      <td>8.876166e+07</td>\n",
       "      <td>5.8</td>\n",
       "      <td>101.0</td>\n",
       "      <td>7.0</td>\n",
       "      <td>5499.0</td>\n",
       "    </tr>\n",
       "    <tr>\n",
       "      <th>23658</th>\n",
       "      <td>61000000.0</td>\n",
       "      <td>Gone Girl</td>\n",
       "      <td>154.801009</td>\n",
       "      <td>3.693304e+08</td>\n",
       "      <td>5.9</td>\n",
       "      <td>145.0</td>\n",
       "      <td>7.9</td>\n",
       "      <td>6023.0</td>\n",
       "    </tr>\n",
       "  </tbody>\n",
       "</table>\n",
       "</div>"
      ],
      "text/plain": [
       "            budget                           title  popularity       revenue  \\\n",
       "30677   74000000.0                         Minions  547.488298  1.156731e+09   \n",
       "33333  149000000.0                    Wonder Woman  294.337037  8.205804e+08   \n",
       "42192  160000000.0            Beauty and the Beast  287.253654  1.262886e+09   \n",
       "43614   34000000.0                     Baby Driver  228.032744  2.245113e+08   \n",
       "24438  165000000.0                      Big Hero 6  213.849907  6.521054e+08   \n",
       "26546   58000000.0                        Deadpool  187.860492  7.831130e+08   \n",
       "26548  200000000.0  Guardians of the Galaxy Vol. 2  185.330992  8.634161e+08   \n",
       "14546  237000000.0                          Avatar  185.070892  2.787965e+09   \n",
       "24334   20000000.0                       John Wick  183.870374  8.876166e+07   \n",
       "23658   61000000.0                       Gone Girl  154.801009  3.693304e+08   \n",
       "\n",
       "       number_of_years  runtime  vote_average  vote_count  \n",
       "30677              5.1     91.0           6.4      4729.0  \n",
       "33333              3.2    141.0           7.2      5025.0  \n",
       "42192              3.4    129.0           6.8      5530.0  \n",
       "43614              3.1    113.0           7.2      2083.0  \n",
       "24438              5.8    102.0           7.8      6289.0  \n",
       "26546              4.5    108.0           7.4     11444.0  \n",
       "26548              3.3    137.0           7.6      4858.0  \n",
       "14546             10.7    162.0           7.2     12114.0  \n",
       "24334              5.8    101.0           7.0      5499.0  \n",
       "23658              5.9    145.0           7.9      6023.0  "
      ]
     },
     "execution_count": 28,
     "metadata": {},
     "output_type": "execute_result"
    }
   ],
   "source": [
    "movies_final.sort_values(by=['popularity'],ascending=False).head(10).loc[:,['budget','title','popularity',\n",
    "                                                                     'revenue','number_of_years','runtime',\n",
    "                                                                      'vote_average','vote_count' ]]"
   ]
  },
  {
   "cell_type": "code",
   "execution_count": 29,
   "metadata": {
    "ExecuteTime": {
     "end_time": "2020-08-08T16:29:28.764475Z",
     "start_time": "2020-08-08T16:29:28.652344Z"
    }
   },
   "outputs": [
    {
     "name": "stdout",
     "output_type": "stream",
     "text": [
      "<class 'pandas.core.frame.DataFrame'>\n",
      "Int64Index: 45173 entries, 0 to 45432\n",
      "Data columns (total 34 columns):\n",
      " #   Column                 Non-Null Count  Dtype  \n",
      "---  ------                 --------------  -----  \n",
      " 0   adult                  45173 non-null  object \n",
      " 1   belongs_to_collection  4480 non-null   object \n",
      " 2   budget                 45173 non-null  float64\n",
      " 3   genres                 45173 non-null  object \n",
      " 4   homepage               7773 non-null   object \n",
      " 5   id                     45173 non-null  int64  \n",
      " 6   imdb_id                45158 non-null  object \n",
      " 7   original_language      45162 non-null  object \n",
      " 8   original_title         45173 non-null  object \n",
      " 9   overview               44476 non-null  object \n",
      " 10  popularity             45173 non-null  float64\n",
      " 11  poster_path            44814 non-null  object \n",
      " 12  production_companies   45173 non-null  object \n",
      " 13  production_countries   45173 non-null  object \n",
      " 14  release_date           45100 non-null  object \n",
      " 15  revenue                45173 non-null  float64\n",
      " 16  runtime                45173 non-null  float64\n",
      " 17  spoken_languages       45173 non-null  object \n",
      " 18  status                 45096 non-null  object \n",
      " 19  tagline                20401 non-null  object \n",
      " 20  title                  45173 non-null  object \n",
      " 21  video                  45173 non-null  object \n",
      " 22  vote_average           45173 non-null  float64\n",
      " 23  vote_count             45173 non-null  float64\n",
      " 24  keywords               31046 non-null  object \n",
      " 25  directors              44772 non-null  object \n",
      " 26  producers              44772 non-null  object \n",
      " 27  actors                 44772 non-null  object \n",
      " 28  actors_dict            44772 non-null  object \n",
      " 29  producers_dict         44772 non-null  object \n",
      " 30  directors_dict         44772 non-null  object \n",
      " 31  genre_dict             45173 non-null  object \n",
      " 32  spoken_languages_dict  45173 non-null  object \n",
      " 33  number_of_years        45173 non-null  float64\n",
      "dtypes: float64(7), int64(1), object(26)\n",
      "memory usage: 12.1+ MB\n"
     ]
    }
   ],
   "source": [
    "movies_final.info()"
   ]
  },
  {
   "cell_type": "code",
   "execution_count": 30,
   "metadata": {
    "ExecuteTime": {
     "end_time": "2020-08-08T16:29:36.083852Z",
     "start_time": "2020-08-08T16:29:33.945278Z"
    }
   },
   "outputs": [
    {
     "data": {
      "text/plain": [
       "<matplotlib.axes._subplots.AxesSubplot at 0x7faba653c810>"
      ]
     },
     "execution_count": 30,
     "metadata": {},
     "output_type": "execute_result"
    },
    {
     "data": {
      "image/png": "[encoded data removed]",
      "text/plain": [
       "<Figure size 1080x360 with 4 Axes>"
      ]
     },
     "metadata": {
      "needs_background": "light"
     },
     "output_type": "display_data"
    },
    {
     "data": {
      "image/png": "[encoded data removed]",
      "text/plain": [
       "<Figure size 1080x360 with 3 Axes>"
      ]
     },
     "metadata": {
      "needs_background": "light"
     },
     "output_type": "display_data"
    }
   ],
   "source": [
    "fig, ax =plt.subplots(1,4, constrained_layout=True,figsize=(15,5))\n",
    "\n",
    "ax[0].set(xlabel='budget')\n",
    "sns.boxplot(data = movies_final['budget']    ,ax=ax[0])\n",
    "ax[1].set(xlabel='popularity')\n",
    "sns.boxplot(data = movies_final['popularity'],ax=ax[1])\n",
    "ax[2].set(xlabel='revenue')\n",
    "sns.boxplot(data = movies_final['revenue']   ,ax=ax[2])\n",
    "ax[3].set(xlabel='runtime')\n",
    "sns.boxplot(data = movies_final['runtime']   ,ax=ax[3])\n",
    "\n",
    "\n",
    "fig, ax =plt.subplots(1,3, constrained_layout=True,figsize=(15,5))\n",
    "ax[0].set(xlabel='vote_average')\n",
    "sns.boxplot(data = movies_final['vote_average']    ,ax=ax[0])\n",
    "ax[1].set(xlabel='vote_count')\n",
    "sns.boxplot(data = movies_final['vote_count']      ,ax=ax[1])\n",
    "ax[2].set(xlabel='number_of_years')\n",
    "sns.boxplot(data = movies_final['number_of_years'] ,ax=ax[2])"
   ]
  },
  {
   "cell_type": "markdown",
   "metadata": {},
   "source": [
    "<font color=\"red\"> We do see outliers. But this is expected as few movies are very popular with very high budget compared to others therefore we won't take any actions on the remaining dataset </font>"
   ]
  },
  {
   "cell_type": "markdown",
   "metadata": {},
   "source": [
    "# Data Understanding 2 - Visualization\n",
    "\n",
    "Visualize the any important attributes appropriately. Important: Provide an interpretation for any charts or graphs."
   ]
  },
  {
   "cell_type": "markdown",
   "metadata": {},
   "source": [
    "### Distribution of Movie Popularity"
   ]
  },
  {
   "cell_type": "markdown",
   "metadata": {},
   "source": [
    "Long tail does exist as expected. Few movies are very popular and mostly watched and rated while many are rarely watched or never watched or rated by users."
   ]
  },
  {
   "cell_type": "code",
   "execution_count": 31,
   "metadata": {
    "ExecuteTime": {
     "end_time": "2020-08-08T16:29:52.347717Z",
     "start_time": "2020-08-08T16:29:42.119352Z"
    }
   },
   "outputs": [
    {
     "data": {
      "text/plain": [
       "<matplotlib.axes._subplots.AxesSubplot at 0x7faba65d8c90>"
      ]
     },
     "execution_count": 31,
     "metadata": {},
     "output_type": "execute_result"
    },
    {
     "data": {
      "image/png": "[encoded data removed]",
      "text/plain": [
       "<Figure size 1080x360 with 2 Axes>"
      ]
     },
     "metadata": {
      "needs_background": "light"
     },
     "output_type": "display_data"
    }
   ],
   "source": [
    "%matplotlib inline\n",
    "fig, ax =plt.subplots(1,2, constrained_layout=True,figsize=(15,5))\n",
    "x_range = range(movies_final['popularity'].shape[0])\n",
    "ax[0].set(xlabel='Movies')\n",
    "sns.lineplot(x = x_range, y = movies_final.popularity.sort_values(ascending=False),ax=ax[0])\n",
    "sns.distplot(movies_final['popularity'],ax=ax[1])"
   ]
  },
  {
   "cell_type": "markdown",
   "metadata": {},
   "source": [
    "### Distribution of Movie Ratings"
   ]
  },
  {
   "cell_type": "markdown",
   "metadata": {},
   "source": [
    "Plotting the rating distribution shows some bias towards higher ratings, this could be due to users feeling more passionately about a great movie than a mediocre one, or that users are more likely to seek out, view and subsequently rate high-rated movies."
   ]
  },
  {
   "cell_type": "code",
   "execution_count": 32,
   "metadata": {
    "ExecuteTime": {
     "end_time": "2020-08-08T16:30:01.079685Z",
     "start_time": "2020-08-08T16:29:57.676369Z"
    },
    "scrolled": true
   },
   "outputs": [
    {
     "data": {
      "image/png": "[encoded data removed]",
      "text/plain": [
       "<Figure size 1152x360 with 1 Axes>"
      ]
     },
     "metadata": {
      "needs_background": "light"
     },
     "output_type": "display_data"
    }
   ],
   "source": [
    "# Ratings Histogram:\n",
    "plt.figure(figsize=(16, 5))\n",
    "sns.set_style(\"dark\")\n",
    "ax = sns.countplot(x=\"rating\", data=ratings)\n",
    "total = float(len(ratings))\n",
    "for p in ax.patches:\n",
    "    height = p.get_height()\n",
    "    ax.text(p.get_x()+p.get_width()/2,\n",
    "            height + 3,\n",
    "            '{0:.1%}'.format(height/total),\n",
    "            ha=\"center\") \n",
    "ax.set_ylabel(\"Count of Movies\")\n",
    "ax.set_xlabel(\"Movie Rating\")\n",
    "ax.set_title(\"Distribution of Movie Ratings\")\n",
    "plt.show()"
   ]
  },
  {
   "cell_type": "markdown",
   "metadata": {},
   "source": [
    "### Distribution of Movie Genres"
   ]
  },
  {
   "cell_type": "markdown",
   "metadata": {},
   "source": [
    "Examining the distribution of movie genre could be useful if we decide to get more sophisticated with our recommendation engine, if we branch out of user preferences (or if we're recommending to a new user), we might try to keep the movie recommendations in line with the overall genre distribution."
   ]
  },
  {
   "cell_type": "code",
   "execution_count": 33,
   "metadata": {
    "ExecuteTime": {
     "end_time": "2020-08-08T16:30:07.121312Z",
     "start_time": "2020-08-08T16:30:06.345118Z"
    }
   },
   "outputs": [
    {
     "data": {
      "image/png": "[encoded data removed]",
      "text/plain": [
       "<Figure size 1008x504 with 1 Axes>"
      ]
     },
     "metadata": {},
     "output_type": "display_data"
    }
   ],
   "source": [
    "plt.figure(figsize=(14, 7))\n",
    "mlb = MultiLabelBinarizer()\n",
    "genre_count = pd.DataFrame(mlb.fit_transform(movies['genres']),columns=mlb.classes_).sum()\n",
    "\n",
    "ax = sns.barplot(genre_count.index,genre_count.values)\n",
    "ax.set_xlabel(\"Movie Count\")\n",
    "ax.set_title(\"Distribution of Movie Genres\")\n",
    "ax.set_xticklabels(ax.get_xticklabels(),rotation=45)\n",
    "plt.show()\n",
    "\n"
   ]
  },
  {
   "cell_type": "markdown",
   "metadata": {},
   "source": [
    "### Distribution of vote average"
   ]
  },
  {
   "cell_type": "markdown",
   "metadata": {},
   "source": [
    "The distribution of votes on each movie indicates that more users are willing to rate movies at a 0 than a 10, and the distribution is slightly left skewed, indicating users may be more likely to rate movies using the higher end of the scale."
   ]
  },
  {
   "cell_type": "code",
   "execution_count": 34,
   "metadata": {
    "ExecuteTime": {
     "end_time": "2020-08-08T16:30:13.353059Z",
     "start_time": "2020-08-08T16:30:12.805359Z"
    }
   },
   "outputs": [
    {
     "data": {
      "image/png": "[encoded data removed]",
      "text/plain": [
       "<Figure size 1008x504 with 1 Axes>"
      ]
     },
     "metadata": {},
     "output_type": "display_data"
    }
   ],
   "source": [
    "plt.figure(figsize=(14, 7))\n",
    "ax = sns.distplot(movies['vote_average'])\n",
    "ax.set_ylabel(\"\")\n",
    "ax.set_yticks([])\n",
    "plt.rcParams[\"axes.labelsize\"] = 135\n",
    "ax.set_title(\"Distribution of Movie Vote Average\")\n",
    "plt.show()\n"
   ]
  },
  {
   "cell_type": "markdown",
   "metadata": {},
   "source": [
    "### Word cloud - Common Keywords"
   ]
  },
  {
   "cell_type": "markdown",
   "metadata": {},
   "source": [
    "Below is a word cloud for the common keywords found in the movies dataset."
   ]
  },
  {
   "cell_type": "code",
   "execution_count": 35,
   "metadata": {
    "ExecuteTime": {
     "end_time": "2020-08-08T16:30:21.982236Z",
     "start_time": "2020-08-08T16:30:18.664897Z"
    }
   },
   "outputs": [
    {
     "data": {
      "image/png": "[encoded data removed]",
      "text/plain": [
       "<Figure size 1080x360 with 1 Axes>"
      ]
     },
     "metadata": {},
     "output_type": "display_data"
    }
   ],
   "source": [
    "# Code adapted from: https://github.com/amueller/word_cloud/blob/master/examples/simple.py\n",
    "l = keywords['keywords'].values.tolist()\n",
    "\n",
    "text = []\n",
    "for sublist in l:\n",
    "    for item in sublist:\n",
    "        text.append(item)\n",
    "        \n",
    "text = ' '.join(text)\n",
    "\n",
    "wordcloud = WordCloud(max_font_size=30).generate(text)\n",
    "plt.figure(figsize=(15,5))\n",
    "plt.imshow(wordcloud, interpolation=\"bilinear\")\n",
    "\n",
    "plt.axis(\"off\")\n",
    "plt.show()\n"
   ]
  },
  {
   "cell_type": "markdown",
   "metadata": {},
   "source": [
    "### Top 10 Stats:\n",
    "Below we'll list several top 10 statistics for movies.  For the most part, the stats will be the top 10 \"blank\" having the most movies.  The only exception to this is the top 10 movies by vote count.  The ordering is as follows:\n",
    "* Actors with the most movies\n",
    "* Genres with the most movies\n",
    "* Directors with the most movies\n",
    "* Producers with the most movies\n",
    "* Collections with the most movies\n",
    "* Original Languages with the most movies\n",
    "* Spoken Languages with the most movies\n",
    "* Highest rated movies by TMDB user votes (movies must have at least 1,000 votes)"
   ]
  },
  {
   "cell_type": "code",
   "execution_count": 36,
   "metadata": {
    "ExecuteTime": {
     "end_time": "2020-08-08T16:30:27.952788Z",
     "start_time": "2020-08-08T16:30:27.937843Z"
    }
   },
   "outputs": [],
   "source": [
    "def get_top10_list(column, plot=True):\n",
    "    mlb = MultiLabelBinarizer()\n",
    "    if type(movies_final[column][0]) == list:\n",
    "        top10 = pd.DataFrame(mlb.fit_transform(movies_final[movies_final[column].str.len() > 0][column]),columns=mlb.classes_).sum().nlargest(n=10)\n",
    "    else:\n",
    "        top10 = movies_final[movies_final[column].str.len() > 0][column].value_counts().nlargest(10)\n",
    "    ax = sns.barplot(top10.values, top10.index)\n",
    "    ax.set_xlabel(\"Movie Count\")\n",
    "    \n",
    "    ax.set_title(\"Top 10 {} by Movie Count\".format(column.capitalize()))\n",
    "    total = float(len(movies_final))\n",
    "    for p in ax.patches:\n",
    "            percentage = '{:.1f}%'.format(100 * p.get_width()/total)\n",
    "            x = p.get_x() + p.get_width() + 0.02\n",
    "            y = p.get_y() + p.get_height()/1.5\n",
    "            ax.annotate(percentage, (x, y))\n",
    "    if plot:\n",
    "        return plt.show()\n",
    "    plt.close()\n",
    "    return top10"
   ]
  },
  {
   "cell_type": "markdown",
   "metadata": {},
   "source": [
    "### Top 10 Popular Movies"
   ]
  },
  {
   "cell_type": "code",
   "execution_count": 37,
   "metadata": {
    "ExecuteTime": {
     "end_time": "2020-08-08T16:30:34.067037Z",
     "start_time": "2020-08-08T16:30:33.960412Z"
    }
   },
   "outputs": [
    {
     "data": {
      "text/html": [
       "<div>\n",
       "<style scoped>\n",
       "    .dataframe tbody tr th:only-of-type {\n",
       "        vertical-align: middle;\n",
       "    }\n",
       "\n",
       "    .dataframe tbody tr th {\n",
       "        vertical-align: top;\n",
       "    }\n",
       "\n",
       "    .dataframe thead th {\n",
       "        text-align: right;\n",
       "    }\n",
       "</style>\n",
       "<table border=\"1\" class=\"dataframe\">\n",
       "  <thead>\n",
       "    <tr style=\"text-align: right;\">\n",
       "      <th></th>\n",
       "      <th>budget</th>\n",
       "      <th>title</th>\n",
       "      <th>popularity</th>\n",
       "      <th>revenue</th>\n",
       "      <th>number_of_years</th>\n",
       "      <th>runtime</th>\n",
       "      <th>vote_average</th>\n",
       "      <th>vote_count</th>\n",
       "    </tr>\n",
       "  </thead>\n",
       "  <tbody>\n",
       "    <tr>\n",
       "      <th>30677</th>\n",
       "      <td>74000000.0</td>\n",
       "      <td>Minions</td>\n",
       "      <td>547.488298</td>\n",
       "      <td>1.156731e+09</td>\n",
       "      <td>5.1</td>\n",
       "      <td>91.0</td>\n",
       "      <td>6.4</td>\n",
       "      <td>4729.0</td>\n",
       "    </tr>\n",
       "    <tr>\n",
       "      <th>33333</th>\n",
       "      <td>149000000.0</td>\n",
       "      <td>Wonder Woman</td>\n",
       "      <td>294.337037</td>\n",
       "      <td>8.205804e+08</td>\n",
       "      <td>3.2</td>\n",
       "      <td>141.0</td>\n",
       "      <td>7.2</td>\n",
       "      <td>5025.0</td>\n",
       "    </tr>\n",
       "    <tr>\n",
       "      <th>42192</th>\n",
       "      <td>160000000.0</td>\n",
       "      <td>Beauty and the Beast</td>\n",
       "      <td>287.253654</td>\n",
       "      <td>1.262886e+09</td>\n",
       "      <td>3.4</td>\n",
       "      <td>129.0</td>\n",
       "      <td>6.8</td>\n",
       "      <td>5530.0</td>\n",
       "    </tr>\n",
       "    <tr>\n",
       "      <th>43614</th>\n",
       "      <td>34000000.0</td>\n",
       "      <td>Baby Driver</td>\n",
       "      <td>228.032744</td>\n",
       "      <td>2.245113e+08</td>\n",
       "      <td>3.1</td>\n",
       "      <td>113.0</td>\n",
       "      <td>7.2</td>\n",
       "      <td>2083.0</td>\n",
       "    </tr>\n",
       "    <tr>\n",
       "      <th>24438</th>\n",
       "      <td>165000000.0</td>\n",
       "      <td>Big Hero 6</td>\n",
       "      <td>213.849907</td>\n",
       "      <td>6.521054e+08</td>\n",
       "      <td>5.8</td>\n",
       "      <td>102.0</td>\n",
       "      <td>7.8</td>\n",
       "      <td>6289.0</td>\n",
       "    </tr>\n",
       "    <tr>\n",
       "      <th>26546</th>\n",
       "      <td>58000000.0</td>\n",
       "      <td>Deadpool</td>\n",
       "      <td>187.860492</td>\n",
       "      <td>7.831130e+08</td>\n",
       "      <td>4.5</td>\n",
       "      <td>108.0</td>\n",
       "      <td>7.4</td>\n",
       "      <td>11444.0</td>\n",
       "    </tr>\n",
       "    <tr>\n",
       "      <th>26548</th>\n",
       "      <td>200000000.0</td>\n",
       "      <td>Guardians of the Galaxy Vol. 2</td>\n",
       "      <td>185.330992</td>\n",
       "      <td>8.634161e+08</td>\n",
       "      <td>3.3</td>\n",
       "      <td>137.0</td>\n",
       "      <td>7.6</td>\n",
       "      <td>4858.0</td>\n",
       "    </tr>\n",
       "    <tr>\n",
       "      <th>14546</th>\n",
       "      <td>237000000.0</td>\n",
       "      <td>Avatar</td>\n",
       "      <td>185.070892</td>\n",
       "      <td>2.787965e+09</td>\n",
       "      <td>10.7</td>\n",
       "      <td>162.0</td>\n",
       "      <td>7.2</td>\n",
       "      <td>12114.0</td>\n",
       "    </tr>\n",
       "    <tr>\n",
       "      <th>24334</th>\n",
       "      <td>20000000.0</td>\n",
       "      <td>John Wick</td>\n",
       "      <td>183.870374</td>\n",
       "      <td>8.876166e+07</td>\n",
       "      <td>5.8</td>\n",
       "      <td>101.0</td>\n",
       "      <td>7.0</td>\n",
       "      <td>5499.0</td>\n",
       "    </tr>\n",
       "    <tr>\n",
       "      <th>23658</th>\n",
       "      <td>61000000.0</td>\n",
       "      <td>Gone Girl</td>\n",
       "      <td>154.801009</td>\n",
       "      <td>3.693304e+08</td>\n",
       "      <td>5.9</td>\n",
       "      <td>145.0</td>\n",
       "      <td>7.9</td>\n",
       "      <td>6023.0</td>\n",
       "    </tr>\n",
       "  </tbody>\n",
       "</table>\n",
       "</div>"
      ],
      "text/plain": [
       "            budget                           title  popularity       revenue  \\\n",
       "30677   74000000.0                         Minions  547.488298  1.156731e+09   \n",
       "33333  149000000.0                    Wonder Woman  294.337037  8.205804e+08   \n",
       "42192  160000000.0            Beauty and the Beast  287.253654  1.262886e+09   \n",
       "43614   34000000.0                     Baby Driver  228.032744  2.245113e+08   \n",
       "24438  165000000.0                      Big Hero 6  213.849907  6.521054e+08   \n",
       "26546   58000000.0                        Deadpool  187.860492  7.831130e+08   \n",
       "26548  200000000.0  Guardians of the Galaxy Vol. 2  185.330992  8.634161e+08   \n",
       "14546  237000000.0                          Avatar  185.070892  2.787965e+09   \n",
       "24334   20000000.0                       John Wick  183.870374  8.876166e+07   \n",
       "23658   61000000.0                       Gone Girl  154.801009  3.693304e+08   \n",
       "\n",
       "       number_of_years  runtime  vote_average  vote_count  \n",
       "30677              5.1     91.0           6.4      4729.0  \n",
       "33333              3.2    141.0           7.2      5025.0  \n",
       "42192              3.4    129.0           6.8      5530.0  \n",
       "43614              3.1    113.0           7.2      2083.0  \n",
       "24438              5.8    102.0           7.8      6289.0  \n",
       "26546              4.5    108.0           7.4     11444.0  \n",
       "26548              3.3    137.0           7.6      4858.0  \n",
       "14546             10.7    162.0           7.2     12114.0  \n",
       "24334              5.8    101.0           7.0      5499.0  \n",
       "23658              5.9    145.0           7.9      6023.0  "
      ]
     },
     "execution_count": 37,
     "metadata": {},
     "output_type": "execute_result"
    }
   ],
   "source": [
    "movies_final.sort_values(by=['popularity'],ascending=False).head(10).loc[:,['budget','title','popularity',\n",
    "                                                                     'revenue','number_of_years','runtime',\n",
    "                                                                      'vote_average','vote_count' ]]"
   ]
  },
  {
   "cell_type": "markdown",
   "metadata": {},
   "source": [
    "### Top 10 High Budget Movies"
   ]
  },
  {
   "cell_type": "code",
   "execution_count": 38,
   "metadata": {
    "ExecuteTime": {
     "end_time": "2020-08-08T16:30:39.721665Z",
     "start_time": "2020-08-08T16:30:39.651307Z"
    }
   },
   "outputs": [
    {
     "data": {
      "text/html": [
       "<div>\n",
       "<style scoped>\n",
       "    .dataframe tbody tr th:only-of-type {\n",
       "        vertical-align: middle;\n",
       "    }\n",
       "\n",
       "    .dataframe tbody tr th {\n",
       "        vertical-align: top;\n",
       "    }\n",
       "\n",
       "    .dataframe thead th {\n",
       "        text-align: right;\n",
       "    }\n",
       "</style>\n",
       "<table border=\"1\" class=\"dataframe\">\n",
       "  <thead>\n",
       "    <tr style=\"text-align: right;\">\n",
       "      <th></th>\n",
       "      <th>budget</th>\n",
       "      <th>title</th>\n",
       "      <th>popularity</th>\n",
       "      <th>revenue</th>\n",
       "      <th>number_of_years</th>\n",
       "      <th>runtime</th>\n",
       "      <th>vote_average</th>\n",
       "      <th>vote_count</th>\n",
       "    </tr>\n",
       "  </thead>\n",
       "  <tbody>\n",
       "    <tr>\n",
       "      <th>17116</th>\n",
       "      <td>380000000.0</td>\n",
       "      <td>Pirates of the Caribbean: On Stranger Tides</td>\n",
       "      <td>27.887720</td>\n",
       "      <td>1.045714e+09</td>\n",
       "      <td>9.2</td>\n",
       "      <td>136.0</td>\n",
       "      <td>6.4</td>\n",
       "      <td>5068.0</td>\n",
       "    </tr>\n",
       "    <tr>\n",
       "      <th>11824</th>\n",
       "      <td>300000000.0</td>\n",
       "      <td>Pirates of the Caribbean: At World's End</td>\n",
       "      <td>31.363664</td>\n",
       "      <td>9.610000e+08</td>\n",
       "      <td>13.2</td>\n",
       "      <td>169.0</td>\n",
       "      <td>6.9</td>\n",
       "      <td>4627.0</td>\n",
       "    </tr>\n",
       "    <tr>\n",
       "      <th>26540</th>\n",
       "      <td>280000000.0</td>\n",
       "      <td>Avengers: Age of Ultron</td>\n",
       "      <td>37.379420</td>\n",
       "      <td>1.405404e+09</td>\n",
       "      <td>5.3</td>\n",
       "      <td>141.0</td>\n",
       "      <td>7.3</td>\n",
       "      <td>6908.0</td>\n",
       "    </tr>\n",
       "    <tr>\n",
       "      <th>11064</th>\n",
       "      <td>270000000.0</td>\n",
       "      <td>Superman Returns</td>\n",
       "      <td>13.284712</td>\n",
       "      <td>3.910812e+08</td>\n",
       "      <td>14.1</td>\n",
       "      <td>154.0</td>\n",
       "      <td>5.4</td>\n",
       "      <td>1429.0</td>\n",
       "    </tr>\n",
       "    <tr>\n",
       "      <th>16123</th>\n",
       "      <td>260000000.0</td>\n",
       "      <td>Tangled</td>\n",
       "      <td>14.684761</td>\n",
       "      <td>5.917949e+08</td>\n",
       "      <td>9.7</td>\n",
       "      <td>100.0</td>\n",
       "      <td>7.4</td>\n",
       "      <td>3419.0</td>\n",
       "    </tr>\n",
       "    <tr>\n",
       "      <th>18677</th>\n",
       "      <td>260000000.0</td>\n",
       "      <td>John Carter</td>\n",
       "      <td>14.670353</td>\n",
       "      <td>2.841391e+08</td>\n",
       "      <td>8.4</td>\n",
       "      <td>132.0</td>\n",
       "      <td>6.1</td>\n",
       "      <td>2170.0</td>\n",
       "    </tr>\n",
       "    <tr>\n",
       "      <th>44810</th>\n",
       "      <td>260000000.0</td>\n",
       "      <td>Transformers: The Last Knight</td>\n",
       "      <td>39.186819</td>\n",
       "      <td>6.049421e+08</td>\n",
       "      <td>3.1</td>\n",
       "      <td>149.0</td>\n",
       "      <td>6.2</td>\n",
       "      <td>1440.0</td>\n",
       "    </tr>\n",
       "    <tr>\n",
       "      <th>11777</th>\n",
       "      <td>258000000.0</td>\n",
       "      <td>Spider-Man 3</td>\n",
       "      <td>27.614265</td>\n",
       "      <td>8.908716e+08</td>\n",
       "      <td>13.3</td>\n",
       "      <td>139.0</td>\n",
       "      <td>5.9</td>\n",
       "      <td>3687.0</td>\n",
       "    </tr>\n",
       "    <tr>\n",
       "      <th>21162</th>\n",
       "      <td>255000000.0</td>\n",
       "      <td>The Lone Ranger</td>\n",
       "      <td>12.729104</td>\n",
       "      <td>8.928991e+07</td>\n",
       "      <td>7.1</td>\n",
       "      <td>149.0</td>\n",
       "      <td>5.9</td>\n",
       "      <td>2361.0</td>\n",
       "    </tr>\n",
       "    <tr>\n",
       "      <th>31049</th>\n",
       "      <td>250000000.0</td>\n",
       "      <td>Batman v Superman: Dawn of Justice</td>\n",
       "      <td>31.435879</td>\n",
       "      <td>8.732602e+08</td>\n",
       "      <td>4.4</td>\n",
       "      <td>151.0</td>\n",
       "      <td>5.7</td>\n",
       "      <td>7189.0</td>\n",
       "    </tr>\n",
       "  </tbody>\n",
       "</table>\n",
       "</div>"
      ],
      "text/plain": [
       "            budget                                        title  popularity  \\\n",
       "17116  380000000.0  Pirates of the Caribbean: On Stranger Tides   27.887720   \n",
       "11824  300000000.0     Pirates of the Caribbean: At World's End   31.363664   \n",
       "26540  280000000.0                      Avengers: Age of Ultron   37.379420   \n",
       "11064  270000000.0                             Superman Returns   13.284712   \n",
       "16123  260000000.0                                      Tangled   14.684761   \n",
       "18677  260000000.0                                  John Carter   14.670353   \n",
       "44810  260000000.0                Transformers: The Last Knight   39.186819   \n",
       "11777  258000000.0                                 Spider-Man 3   27.614265   \n",
       "21162  255000000.0                              The Lone Ranger   12.729104   \n",
       "31049  250000000.0           Batman v Superman: Dawn of Justice   31.435879   \n",
       "\n",
       "            revenue  number_of_years  runtime  vote_average  vote_count  \n",
       "17116  1.045714e+09              9.2    136.0           6.4      5068.0  \n",
       "11824  9.610000e+08             13.2    169.0           6.9      4627.0  \n",
       "26540  1.405404e+09              5.3    141.0           7.3      6908.0  \n",
       "11064  3.910812e+08             14.1    154.0           5.4      1429.0  \n",
       "16123  5.917949e+08              9.7    100.0           7.4      3419.0  \n",
       "18677  2.841391e+08              8.4    132.0           6.1      2170.0  \n",
       "44810  6.049421e+08              3.1    149.0           6.2      1440.0  \n",
       "11777  8.908716e+08             13.3    139.0           5.9      3687.0  \n",
       "21162  8.928991e+07              7.1    149.0           5.9      2361.0  \n",
       "31049  8.732602e+08              4.4    151.0           5.7      7189.0  "
      ]
     },
     "execution_count": 38,
     "metadata": {},
     "output_type": "execute_result"
    }
   ],
   "source": [
    "movies_final.sort_values(by=['budget'],ascending=False).head(10).loc[:,['budget','title','popularity',\n",
    "                                                                     'revenue','number_of_years','runtime',\n",
    "                                                                      'vote_average','vote_count' ]]"
   ]
  },
  {
   "cell_type": "markdown",
   "metadata": {},
   "source": [
    "### Top 10 actors"
   ]
  },
  {
   "cell_type": "code",
   "execution_count": 39,
   "metadata": {
    "ExecuteTime": {
     "end_time": "2020-08-08T16:32:00.360470Z",
     "start_time": "2020-08-08T16:30:45.514244Z"
    }
   },
   "outputs": [
    {
     "data": {
      "image/png": "[encoded data removed]",
      "text/plain": [
       "<Figure size 432x288 with 1 Axes>"
      ]
     },
     "metadata": {},
     "output_type": "display_data"
    }
   ],
   "source": [
    "get_top10_list('actors')"
   ]
  },
  {
   "cell_type": "markdown",
   "metadata": {},
   "source": [
    "### Top 10 Genres"
   ]
  },
  {
   "cell_type": "code",
   "execution_count": 40,
   "metadata": {
    "ExecuteTime": {
     "end_time": "2020-08-08T16:32:06.846487Z",
     "start_time": "2020-08-08T16:32:06.208398Z"
    }
   },
   "outputs": [
    {
     "data": {
      "image/png": "[encoded data removed]",
      "text/plain": [
       "<Figure size 432x288 with 1 Axes>"
      ]
     },
     "metadata": {},
     "output_type": "display_data"
    }
   ],
   "source": [
    "get_top10_list('genres')"
   ]
  },
  {
   "cell_type": "markdown",
   "metadata": {},
   "source": [
    "### Top 10 Directors"
   ]
  },
  {
   "cell_type": "code",
   "execution_count": 41,
   "metadata": {
    "ExecuteTime": {
     "end_time": "2020-08-08T16:32:23.301416Z",
     "start_time": "2020-08-08T16:32:12.814103Z"
    }
   },
   "outputs": [
    {
     "data": {
      "image/png": "[encoded data removed]",
      "text/plain": [
       "<Figure size 432x288 with 1 Axes>"
      ]
     },
     "metadata": {},
     "output_type": "display_data"
    }
   ],
   "source": [
    "get_top10_list('directors')"
   ]
  },
  {
   "cell_type": "markdown",
   "metadata": {},
   "source": [
    "### Top 10 Producers"
   ]
  },
  {
   "cell_type": "code",
   "execution_count": 42,
   "metadata": {
    "ExecuteTime": {
     "end_time": "2020-08-08T16:32:34.749650Z",
     "start_time": "2020-08-08T16:32:29.661513Z"
    }
   },
   "outputs": [
    {
     "data": {
      "image/png": "[encoded data removed]",
      "text/plain": [
       "<Figure size 432x288 with 1 Axes>"
      ]
     },
     "metadata": {},
     "output_type": "display_data"
    }
   ],
   "source": [
    "get_top10_list('producers')"
   ]
  },
  {
   "cell_type": "markdown",
   "metadata": {},
   "source": [
    "### Top 10 Collections"
   ]
  },
  {
   "cell_type": "code",
   "execution_count": 43,
   "metadata": {
    "ExecuteTime": {
     "end_time": "2020-08-08T16:32:40.739299Z",
     "start_time": "2020-08-08T16:32:40.222055Z"
    }
   },
   "outputs": [
    {
     "data": {
      "image/png": "[encoded data removed]",
      "text/plain": [
       "<Figure size 432x288 with 1 Axes>"
      ]
     },
     "metadata": {},
     "output_type": "display_data"
    }
   ],
   "source": [
    "get_top10_list('belongs_to_collection')"
   ]
  },
  {
   "cell_type": "markdown",
   "metadata": {},
   "source": [
    "### Top 10 Original languages"
   ]
  },
  {
   "cell_type": "code",
   "execution_count": 44,
   "metadata": {
    "ExecuteTime": {
     "end_time": "2020-08-08T16:32:47.452592Z",
     "start_time": "2020-08-08T16:32:46.918800Z"
    }
   },
   "outputs": [
    {
     "data": {
      "image/png": "[encoded data removed]",
      "text/plain": [
       "<Figure size 432x288 with 1 Axes>"
      ]
     },
     "metadata": {},
     "output_type": "display_data"
    }
   ],
   "source": [
    "get_top10_list('original_language')"
   ]
  },
  {
   "cell_type": "markdown",
   "metadata": {},
   "source": [
    "### Top 10 Spoken Languages"
   ]
  },
  {
   "cell_type": "code",
   "execution_count": 45,
   "metadata": {
    "ExecuteTime": {
     "end_time": "2020-08-08T16:32:54.057886Z",
     "start_time": "2020-08-08T16:32:53.808364Z"
    }
   },
   "outputs": [
    {
     "name": "stdout",
     "output_type": "stream",
     "text": [
      "Top 10 Spoken Languages by Movie Count\n"
     ]
    },
    {
     "data": {
      "text/html": [
       "<div>\n",
       "<style scoped>\n",
       "    .dataframe tbody tr th:only-of-type {\n",
       "        vertical-align: middle;\n",
       "    }\n",
       "\n",
       "    .dataframe tbody tr th {\n",
       "        vertical-align: top;\n",
       "    }\n",
       "\n",
       "    .dataframe thead th {\n",
       "        text-align: right;\n",
       "    }\n",
       "</style>\n",
       "<table border=\"1\" class=\"dataframe\">\n",
       "  <thead>\n",
       "    <tr style=\"text-align: right;\">\n",
       "      <th></th>\n",
       "      <th>Movie Count</th>\n",
       "    </tr>\n",
       "  </thead>\n",
       "  <tbody>\n",
       "    <tr>\n",
       "      <th>English</th>\n",
       "      <td>28717</td>\n",
       "    </tr>\n",
       "    <tr>\n",
       "      <th>Français</th>\n",
       "      <td>4173</td>\n",
       "    </tr>\n",
       "    <tr>\n",
       "      <th>Deutsch</th>\n",
       "      <td>2590</td>\n",
       "    </tr>\n",
       "    <tr>\n",
       "      <th>Español</th>\n",
       "      <td>2393</td>\n",
       "    </tr>\n",
       "    <tr>\n",
       "      <th>Italiano</th>\n",
       "      <td>2338</td>\n",
       "    </tr>\n",
       "    <tr>\n",
       "      <th>日本語</th>\n",
       "      <td>1756</td>\n",
       "    </tr>\n",
       "    <tr>\n",
       "      <th>Pусский</th>\n",
       "      <td>1554</td>\n",
       "    </tr>\n",
       "    <tr>\n",
       "      <th>普通话</th>\n",
       "      <td>790</td>\n",
       "    </tr>\n",
       "    <tr>\n",
       "      <th>हिन्दी</th>\n",
       "      <td>706</td>\n",
       "    </tr>\n",
       "    <tr>\n",
       "      <th>Português</th>\n",
       "      <td>586</td>\n",
       "    </tr>\n",
       "  </tbody>\n",
       "</table>\n",
       "</div>"
      ],
      "text/plain": [
       "           Movie Count\n",
       "English          28717\n",
       "Français          4173\n",
       "Deutsch           2590\n",
       "Español           2393\n",
       "Italiano          2338\n",
       "日本語               1756\n",
       "Pусский           1554\n",
       "普通话                790\n",
       "हिन्दी             706\n",
       "Português          586"
      ]
     },
     "execution_count": 45,
     "metadata": {},
     "output_type": "execute_result"
    }
   ],
   "source": [
    "print('Top 10 Spoken Languages by Movie Count')\n",
    "pd.DataFrame(get_top10_list('spoken_languages', plot=False), columns=['Movie Count'])"
   ]
  },
  {
   "cell_type": "markdown",
   "metadata": {},
   "source": [
    "### Top 10 Movies by vote_count"
   ]
  },
  {
   "cell_type": "code",
   "execution_count": 46,
   "metadata": {
    "ExecuteTime": {
     "end_time": "2020-08-08T16:33:00.622985Z",
     "start_time": "2020-08-08T16:33:00.583672Z"
    }
   },
   "outputs": [
    {
     "data": {
      "text/html": [
       "<div>\n",
       "<style scoped>\n",
       "    .dataframe tbody tr th:only-of-type {\n",
       "        vertical-align: middle;\n",
       "    }\n",
       "\n",
       "    .dataframe tbody tr th {\n",
       "        vertical-align: top;\n",
       "    }\n",
       "\n",
       "    .dataframe thead th {\n",
       "        text-align: right;\n",
       "    }\n",
       "</style>\n",
       "<table border=\"1\" class=\"dataframe\">\n",
       "  <thead>\n",
       "    <tr style=\"text-align: right;\">\n",
       "      <th></th>\n",
       "      <th>title</th>\n",
       "      <th>vote_average</th>\n",
       "      <th>vote_count</th>\n",
       "    </tr>\n",
       "  </thead>\n",
       "  <tbody>\n",
       "    <tr>\n",
       "      <th>314</th>\n",
       "      <td>The Shawshank Redemption</td>\n",
       "      <td>8.5</td>\n",
       "      <td>8358.0</td>\n",
       "    </tr>\n",
       "    <tr>\n",
       "      <th>834</th>\n",
       "      <td>The Godfather</td>\n",
       "      <td>8.5</td>\n",
       "      <td>6024.0</td>\n",
       "    </tr>\n",
       "    <tr>\n",
       "      <th>40222</th>\n",
       "      <td>Your Name.</td>\n",
       "      <td>8.5</td>\n",
       "      <td>1030.0</td>\n",
       "    </tr>\n",
       "    <tr>\n",
       "      <th>292</th>\n",
       "      <td>Pulp Fiction</td>\n",
       "      <td>8.3</td>\n",
       "      <td>8670.0</td>\n",
       "    </tr>\n",
       "    <tr>\n",
       "      <th>522</th>\n",
       "      <td>Schindler's List</td>\n",
       "      <td>8.3</td>\n",
       "      <td>4436.0</td>\n",
       "    </tr>\n",
       "    <tr>\n",
       "      <th>1152</th>\n",
       "      <td>One Flew Over the Cuckoo's Nest</td>\n",
       "      <td>8.3</td>\n",
       "      <td>3001.0</td>\n",
       "    </tr>\n",
       "    <tr>\n",
       "      <th>1176</th>\n",
       "      <td>Psycho</td>\n",
       "      <td>8.3</td>\n",
       "      <td>2405.0</td>\n",
       "    </tr>\n",
       "    <tr>\n",
       "      <th>1178</th>\n",
       "      <td>The Godfather: Part II</td>\n",
       "      <td>8.3</td>\n",
       "      <td>3418.0</td>\n",
       "    </tr>\n",
       "    <tr>\n",
       "      <th>1184</th>\n",
       "      <td>Once Upon a Time in America</td>\n",
       "      <td>8.3</td>\n",
       "      <td>1104.0</td>\n",
       "    </tr>\n",
       "    <tr>\n",
       "      <th>2210</th>\n",
       "      <td>Life Is Beautiful</td>\n",
       "      <td>8.3</td>\n",
       "      <td>3643.0</td>\n",
       "    </tr>\n",
       "  </tbody>\n",
       "</table>\n",
       "</div>"
      ],
      "text/plain": [
       "                                 title  vote_average  vote_count\n",
       "314           The Shawshank Redemption           8.5      8358.0\n",
       "834                      The Godfather           8.5      6024.0\n",
       "40222                       Your Name.           8.5      1030.0\n",
       "292                       Pulp Fiction           8.3      8670.0\n",
       "522                   Schindler's List           8.3      4436.0\n",
       "1152   One Flew Over the Cuckoo's Nest           8.3      3001.0\n",
       "1176                            Psycho           8.3      2405.0\n",
       "1178            The Godfather: Part II           8.3      3418.0\n",
       "1184       Once Upon a Time in America           8.3      1104.0\n",
       "2210                 Life Is Beautiful           8.3      3643.0"
      ]
     },
     "execution_count": 46,
     "metadata": {},
     "output_type": "execute_result"
    }
   ],
   "source": [
    "movies[movies['vote_count'] > 999].nlargest(10, 'vote_average')[['title','vote_average','vote_count']]"
   ]
  },
  {
   "cell_type": "markdown",
   "metadata": {},
   "source": [
    "# Modeling and Evaluation 1\n",
    "\n",
    "Train and adjust parameters\n"
   ]
  },
  {
   "cell_type": "markdown",
   "metadata": {},
   "source": [
    "## Set GPU for Recommendation System\n",
    "Turicreate supports only one GPU. So we will set just 1 GPU."
   ]
  },
  {
   "cell_type": "code",
   "execution_count": null,
   "metadata": {
    "ExecuteTime": {
     "end_time": "2020-08-08T08:35:34.460344Z",
     "start_time": "2020-08-08T08:35:34.440604Z"
    }
   },
   "outputs": [],
   "source": [
    "tc.config.set_num_gpus(1)"
   ]
  },
  {
   "cell_type": "markdown",
   "metadata": {},
   "source": [
    "## Train Test Split"
   ]
  },
  {
   "cell_type": "markdown",
   "metadata": {},
   "source": [
    "<i>The Turi Create recommender toolkit provides several ways of working with rating data while ensuring good precision-recall. To accurately evaluate the precision-recall of a model trained on explicit rating data, it's important to only include highly rated items in your test set as these are the items a user would likely choose. Creating such a test set can be done with a handful of SFrame operations and tc.recommender.random_split_by_user:</i> <br><br>- Apple Turi Documentation"
   ]
  },
  {
   "cell_type": "code",
   "execution_count": null,
   "metadata": {
    "ExecuteTime": {
     "end_time": "2020-08-08T08:48:30.512568Z",
     "start_time": "2020-08-08T08:48:14.413442Z"
    }
   },
   "outputs": [],
   "source": [
    "%%time\n",
    "data = tc.SFrame(data=ratings)\n",
    "\n",
    "high_rated_data = data[data[\"rating\"] >= 4]\n",
    "low_rated_data = data[data[\"rating\"] < 4]\n",
    "train_data_1, test_data = tc.recommender.util.random_split_by_user(\n",
    "                                    high_rated_data, user_id='userId', item_id='movieId')\n",
    "train_data = train_data_1.append(low_rated_data)\n",
    "print('Training Set Size ',train_data.shape)\n",
    "print('Test Set Size ',test_data.shape)"
   ]
  },
  {
   "cell_type": "markdown",
   "metadata": {},
   "source": [
    "## Basic Explicit Model (user-item)\n",
    "This is the very basic 5 liner from TuriCreate (GraphLab) that uses users, movies, and ratings to make recommendations.  We'll convert our pandas dataframes to SFrames in order to build the recommender, and let Turi Create choose a model for us.  The **ranking_factorization_recommender** (user-item) was selected, so let's see how it performs. We added a couple of paramters here **none** for userId will make predictions for all users, automatically excluding movies they've rated, and **k=5** limits the recommendations to the top 5 recommended movies per user.\n",
    "\n",
    "Additional info from Apple's documentation: https://apple.github.io/turicreate/docs/userguide/recommender/choosing-a-model.html\n",
    "\n",
    "*The RankingFactorizationRecommender tries to recommend items that are both similar to the items in a user's dataset and, if rating information is provided, those that would be rated highly by the user. It tends to predict ratings with less accuracy than the non-ranking factorization_recommender, but it tends to do much better at choosing items that a user would rate highly. This is because it also penalizes the predicted rating of items that are significantly different from the items a user has interacted with. In other words, it only predicts a high rating for user-item pairs in which it predicts a high rating and is confident in that prediction.*"
   ]
  },
  {
   "cell_type": "code",
   "execution_count": null,
   "metadata": {
    "ExecuteTime": {
     "end_time": "2020-08-08T08:33:07.140761Z",
     "start_time": "2020-08-08T08:17:38.168560Z"
    }
   },
   "outputs": [],
   "source": [
    "%%time\n",
    "data = tc.SFrame(data=ratings)\n",
    "\n",
    "model = tc.recommender.create(data, user_id=\"userId\", item_id=\"movieId\", target=\"rating\")\n",
    "results = model.recommend(users=None, k=5)\n",
    "#model.save(\"my_model\")\n",
    "\n",
    "print(timebreak)"
   ]
  },
  {
   "cell_type": "code",
   "execution_count": null,
   "metadata": {
    "ExecuteTime": {
     "start_time": "2020-08-08T05:57:52.054Z"
    }
   },
   "outputs": [],
   "source": [
    "results"
   ]
  },
  {
   "cell_type": "code",
   "execution_count": null,
   "metadata": {
    "ExecuteTime": {
     "start_time": "2020-08-08T05:57:52.057Z"
    }
   },
   "outputs": [],
   "source": [
    "%%time\n",
    "df = ratings_small.merge(links_small, how='left', on='movieId')\n",
    "df = df.merge(movies, how='left', left_on='tmdbId', right_on='id')\n",
    "\n",
    "#ratings_small_plus = ratings_small.merge(links_small, how='left', on='movieId')\n",
    "#ratings_small_plus = ratings_small_plus.merge(movies, how='left', left_on='tmdbId', right_on='id')\n",
    "\n",
    "\n",
    "df = df[['userId','movieId','rating','genre_dict','belongs_to_collection']]\n",
    "df = df[~df['genre_dict'].isnull()]\n",
    "df = df[~df['belongs_to_collection'].isnull()]\n",
    "\n",
    "data = tc.SFrame(data=df)\n",
    "\n",
    "model = tc.recommender.create(data, user_id=\"userId\", item_id=\"movieId\", target=\"rating\")\n",
    "results1 = model.recommend(users=None, k=5)\n",
    "model.save(\"my_model\")\n",
    "\n",
    "print(timebreak)"
   ]
  },
  {
   "cell_type": "code",
   "execution_count": null,
   "metadata": {
    "ExecuteTime": {
     "start_time": "2020-08-08T05:57:52.060Z"
    }
   },
   "outputs": [],
   "source": [
    "%%time\n",
    "df = ratings_small.merge(links_small, how='left', on='movieId')\n",
    "df = df.merge(movies, how='left', left_on='tmdbId', right_on='id')\n",
    "\n",
    "#ratings_small_plus = ratings_small.merge(links_small, how='left', on='movieId')\n",
    "#ratings_small_plus = ratings_small_plus.merge(movies, how='left', left_on='tmdbId', right_on='id')\n",
    "\n",
    "\n",
    "df = df[['userId','movieId','rating','genre_dict','belongs_to_collection','spoken_languages']]\n",
    "df = df[~df['genre_dict'].isnull()]\n",
    "df = df[~df['belongs_to_collection'].isnull()]\n",
    "df = df[~df['spoken_languages'].isnull()]\n",
    "#df = df[~df['actors'].isnull()]\n",
    "\n",
    "data = tc.SFrame(data=df)\n",
    "\n",
    "model = tc.recommender.create(data, user_id=\"userId\", item_id=\"movieId\", target=\"rating\")\n",
    "results2 = model.recommend(users=None, k=5)\n",
    "model.save(\"my_model\")\n",
    "\n",
    "print(timebreak)"
   ]
  },
  {
   "cell_type": "code",
   "execution_count": null,
   "metadata": {
    "ExecuteTime": {
     "start_time": "2020-08-08T05:57:52.064Z"
    }
   },
   "outputs": [],
   "source": [
    "results1"
   ]
  },
  {
   "cell_type": "code",
   "execution_count": null,
   "metadata": {
    "ExecuteTime": {
     "start_time": "2020-08-08T05:57:52.067Z"
    }
   },
   "outputs": [],
   "source": [
    "results2"
   ]
  },
  {
   "cell_type": "code",
   "execution_count": null,
   "metadata": {
    "ExecuteTime": {
     "start_time": "2020-08-08T05:57:52.071Z"
    }
   },
   "outputs": [],
   "source": [
    "movies['spoken_languages']"
   ]
  },
  {
   "cell_type": "markdown",
   "metadata": {},
   "source": [
    "# Modeling and Evaluation 2\n",
    "\n",
    "Evaluate and Compare"
   ]
  },
  {
   "cell_type": "markdown",
   "metadata": {
    "heading_collapsed": true
   },
   "source": [
    "# Modeling and Evaluation 3\n",
    "\n",
    "Visualize Results"
   ]
  },
  {
   "cell_type": "markdown",
   "metadata": {
    "heading_collapsed": true
   },
   "source": [
    "# Modeling and Evaluation 4\n",
    "\n",
    "Summarize the Ramifications"
   ]
  },
  {
   "cell_type": "markdown",
   "metadata": {
    "heading_collapsed": true
   },
   "source": [
    "# Deployment\n",
    "\n",
    "Be critical of your performance and tell the reader how you current model might be usable by other parties. Did you achieve your goals? If not, can you reign in the utility of your modeling? How useful is your model for interested parties (i.e., the companies or organizations that might want to use it)? How would your deploy your model for interested parties? What other data should be collected? How often would the model need to be updated, etc.?\n",
    "\n",
    "* How accurate is our model?\n",
    "    * depends on the evaluation above\n",
    "\n",
    "* new user problem:\n",
    "    * highest rated movies by density\n",
    "    * highest rated movies this year\n",
    "    * mix of genres?\n",
    "    * ask user preferences (genre, actor/actress, favorite movie/producer/director) at registration, base initial recommendations on the preferences\n",
    "* What additional info to collect:\n",
    "    * needs to take new ratings into account (i.e. don't recommend a movie the user has rated/seen)\n",
    "        *did user complete watching movie\n",
    "    * What trailers user has watched\n",
    "    * user preferences\n",
    "    * user device\n",
    "    * user profiles\n",
    "    * time of day\n",
    "* How to deploy:\n",
    "    * we have movie database, have user preferences\n",
    "    * create initial model using data\n",
    "    * receive regular updates to database from users:\n",
    "        * update database, run new model for new predictions\n",
    "        * \n"
   ]
  },
  {
   "cell_type": "markdown",
   "metadata": {},
   "source": [
    "# Exceptional Work\n",
    "\n",
    "You have free reign to provide additional analyses or combine analyses."
   ]
  },
  {
   "cell_type": "markdown",
   "metadata": {},
   "source": [
    "# References"
   ]
  },
  {
   "cell_type": "markdown",
   "metadata": {},
   "source": [
    "1. Dataset obtained from kaggle : <a href=\"https://www.kaggle.com/rounakbanik/the-movies-dataset\"> click here </a>\n",
    "2. Apple (turicreate) <a href=\"https://apple.github.io/turicreate/docs/userguide/recommender/\"> article </a> on Recommender. \n",
    "3. Recommendor Systems instruction by Dr. Eric Larson: <a href=\"https://www.youtube.com/watch?v=I-xPNMCqW2o\"> video </a>\n",
    "4. Movie Recommendation System with Collaborative Filteringn by Code Heroku: <a href=\"https://www.youtube.com/watch?v=3ecNC-So0r4&t=903s\"> video </a>"
   ]
  },
  {
   "cell_type": "code",
   "execution_count": null,
   "metadata": {
    "ExecuteTime": {
     "end_time": "2020-08-08T08:53:40.052632Z",
     "start_time": "2020-08-08T08:53:23.653818Z"
    }
   },
   "outputs": [],
   "source": [
    "## Example of modeling and evaluation\n",
    "\n",
    "import turicreate as tc\n",
    "sf = tc.SFrame('https://static.turi.com/datasets/audioscrobbler')\n",
    "train, test = tc.recommender.util.random_split_by_user(sf)\n",
    "m = tc.recommender.create(train, target='target')\n",
    "eval = m.evaluate(test)"
   ]
  },
  {
   "cell_type": "code",
   "execution_count": null,
   "metadata": {
    "ExecuteTime": {
     "end_time": "2020-08-08T08:59:32.236201Z",
     "start_time": "2020-08-08T08:59:32.210728Z"
    }
   },
   "outputs": [],
   "source": [
    "#print(eval['precision_recall_by_user'])\n",
    "\n",
    "#eval['precision_recall_by_user'].print_rows(num_rows=100)\n",
    "eval"
   ]
  },
  {
   "cell_type": "code",
   "execution_count": null,
   "metadata": {},
   "outputs": [],
   "source": []
  }
 ],
 "metadata": {
  "kernelspec": {
   "display_name": "Python 3.7.4 64-bit ('base': conda)",
   "language": "python",
   "name": "python37464bitbasecondaea83915b4e5942dba7e70c8d283c9269"
  },
  "language_info": {
   "codemirror_mode": {
    "name": "ipython",
    "version": 3
   },
   "file_extension": ".py",
   "mimetype": "text/x-python",
   "name": "python",
   "nbconvert_exporter": "python",
   "pygments_lexer": "ipython3",
   "version": "3.7.6"
  },
  "latex_envs": {
   "LaTeX_envs_menu_present": true,
   "autoclose": false,
   "autocomplete": true,
   "bibliofile": "biblio.bib",
   "cite_by": "apalike",
   "current_citInitial": 1,
   "eqLabelWithNumbers": true,
   "eqNumInitial": 1,
   "hotkeys": {
    "equation": "Ctrl-E",
    "itemize": "Ctrl-I"
   },
   "labels_anchors": false,
   "latex_user_defs": false,
   "report_style_numbering": false,
   "user_envs_cfg": false
  },
  "toc": {
   "base_numbering": 1,
   "nav_menu": {},
   "number_sections": false,
   "sideBar": true,
   "skip_h1_title": false,
   "title_cell": "Table of Contents",
   "title_sidebar": "Contents",
   "toc_cell": true,
   "toc_position": {
    "height": "calc(100% - 180px)",
    "left": "10px",
    "top": "150px",
    "width": "288px"
   },
   "toc_section_display": true,
   "toc_window_display": false
  },
  "varInspector": {
   "cols": {
    "lenName": 16,
    "lenType": 16,
    "lenVar": 40
   },
   "kernels_config": {
    "python": {
     "delete_cmd_postfix": "",
     "delete_cmd_prefix": "del ",
     "library": "var_list.py",
     "varRefreshCmd": "print(var_dic_list())"
    },
    "r": {
     "delete_cmd_postfix": ") ",
     "delete_cmd_prefix": "rm(",
     "library": "var_list.r",
     "varRefreshCmd": "cat(var_dic_list()) "
    }
   },
   "types_to_exclude": [
    "module",
    "function",
    "builtin_function_or_method",
    "instance",
    "_Feature"
   ],
   "window_display": false
  }
 },
 "nbformat": 4,
 "nbformat_minor": 4
}
