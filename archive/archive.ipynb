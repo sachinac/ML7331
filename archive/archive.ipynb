{
 "cells": [
  {
   "cell_type": "markdown",
   "metadata": {},
   "source": [
    "<div style=\"margin-top: 22px; font-size:15px;  color:blue; text-align: left; font-weight: bold;  line-height: 100%;\"> \n",
    "    \n",
    "* [1.Business Understanding](#1.-Business-Understanding)\n",
    "* [2.Data Meaning Type](#2.-Data-Meaning-Type)\n",
    "* [2.1 Load Data](#2.1-Load-Data)\n",
    "* [3.Data Quality](#3.-Data-Quality)\n",
    "* [4.Simple Statistics](#4.-Simple-Statistics)\n",
    "* [5.Visualize Attributes](#5.-Visualize-Attributes)\n",
    "* [6.Explore Joint Attributes](#6.-Explore-Joint-Attributes)\n",
    "* [7.Explore Attributes and Class](#7.-Explore-Attributes-and-Class)\n",
    "* [8.New Features](#8.-New-Features)\n",
    "* [9.Exceptional Work](#9.-Exceptional-Work)\n",
    "* [10.References](#10-References)\n",
    "\n",
    "</div>"
   ]
  },
  {
   "cell_type": "code",
   "execution_count": null,
   "metadata": {},
   "outputs": [],
   "source": []
  }
 ],
 "metadata": {
  "kernelspec": {
   "display_name": "Python 3",
   "language": "python",
   "name": "python3"
  },
  "language_info": {
   "codemirror_mode": {
    "name": "ipython",
    "version": 3
   },
   "file_extension": ".py",
   "mimetype": "text/x-python",
   "name": "python",
   "nbconvert_exporter": "python",
   "pygments_lexer": "ipython3",
   "version": "3.7.6"
  }
 },
 "nbformat": 4,
 "nbformat_minor": 4
}
