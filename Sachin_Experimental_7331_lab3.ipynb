{
 "cells": [
  {
   "cell_type": "markdown",
   "metadata": {},
   "source": [
    "<font size=6> <b> SMU Lab Three - MSDS7331 - Machine Learning-1 </b> </font>\n",
    "\n",
    "<font size=5> <b> Summer 2020 Group - Sachin, Ikenna, Edgar, Dustin </b></font> \n",
    "\n",
    "\n",
    "\n",
    "\n",
    "<img src=\"https://github.com/sachinac/ML7331/blob/master/data/maxresdefault.png?raw=true\"> \n",
    "\n",
    "<p align=\"center\"><font size=5> <b> Movie Recommender System  </b></font> </p>"
   ]
  },
  {
   "cell_type": "markdown",
   "metadata": {
    "toc": true
   },
   "source": [
    "<h1>Table of Contents<span class=\"tocSkip\"></span></h1>\n",
    "<div class=\"toc\"><ul class=\"toc-item\"><li><span><a href=\"#Import-Libraries\" data-toc-modified-id=\"Import-Libraries-1\">Import Libraries</a></span></li><li><span><a href=\"#Business-Understanding-1\" data-toc-modified-id=\"Business-Understanding-1-2\">Business Understanding 1</a></span></li><li><span><a href=\"#Data-Understanding-1\" data-toc-modified-id=\"Data-Understanding-1-3\">Data Understanding 1</a></span></li><li><span><a href=\"#Data-Understanding-2\" data-toc-modified-id=\"Data-Understanding-2-4\">Data Understanding 2</a></span></li><li><span><a href=\"#Model-and-Evaluations-1\" data-toc-modified-id=\"Model-and-Evaluations-1-5\">Model and Evaluations 1</a></span></li><li><span><a href=\"#Model-and-Evaluations-2\" data-toc-modified-id=\"Model-and-Evaluations-2-6\">Model and Evaluations 2</a></span></li><li><span><a href=\"#Model-and-Evaluations-3\" data-toc-modified-id=\"Model-and-Evaluations-3-7\">Model and Evaluations 3</a></span></li><li><span><a href=\"#Model-and-Evaluations-4\" data-toc-modified-id=\"Model-and-Evaluations-4-8\">Model and Evaluations 4</a></span></li><li><span><a href=\"#Deployment\" data-toc-modified-id=\"Deployment-9\">Deployment</a></span></li><li><span><a href=\"#Exceptional-Work\" data-toc-modified-id=\"Exceptional-Work-10\">Exceptional Work</a></span></li><li><span><a href=\"#References\" data-toc-modified-id=\"References-11\">References</a></span></li></ul></div>"
   ]
  },
  {
   "cell_type": "markdown",
   "metadata": {},
   "source": [
    "# Import Libraries"
   ]
  },
  {
   "cell_type": "markdown",
   "metadata": {},
   "source": [
    "# Business Understanding 1"
   ]
  },
  {
   "cell_type": "markdown",
   "metadata": {},
   "source": [
    "# Data Understanding 1"
   ]
  },
  {
   "cell_type": "markdown",
   "metadata": {},
   "source": [
    "# Data Understanding 2"
   ]
  },
  {
   "cell_type": "markdown",
   "metadata": {},
   "source": [
    "# Model and Evaluations 1"
   ]
  },
  {
   "cell_type": "markdown",
   "metadata": {},
   "source": [
    "# Model and Evaluations 2"
   ]
  },
  {
   "cell_type": "markdown",
   "metadata": {},
   "source": [
    "# Model and Evaluations 3"
   ]
  },
  {
   "cell_type": "markdown",
   "metadata": {},
   "source": [
    "# Model and Evaluations 4"
   ]
  },
  {
   "cell_type": "markdown",
   "metadata": {},
   "source": [
    "# Deployment"
   ]
  },
  {
   "cell_type": "markdown",
   "metadata": {},
   "source": [
    "# Exceptional Work"
   ]
  },
  {
   "cell_type": "markdown",
   "metadata": {},
   "source": [
    "# References"
   ]
  },
  {
   "cell_type": "markdown",
   "metadata": {},
   "source": [
    "1. Dataset obtained from kaggle : <a href=\"https://www.kaggle.com/rounakbanik/the-movies-dataset\"> click here </a>\n",
    "2. Apple (turicreate) <a href=\"https://apple.github.io/turicreate/docs/userguide/recommender/\"> article </a> on Recommender. "
   ]
  },
  {
   "cell_type": "code",
   "execution_count": 26,
   "metadata": {
    "ExecuteTime": {
     "end_time": "2020-08-02T17:38:22.651525Z",
     "start_time": "2020-08-02T17:38:21.355981Z"
    }
   },
   "outputs": [
    {
     "data": {
      "text/plain": [
       "(45476, 3)"
      ]
     },
     "execution_count": 26,
     "metadata": {},
     "output_type": "execute_result"
    }
   ],
   "source": [
    "import pandas as pd\n",
    "import os\n",
    "\n",
    "data=pd.read_csv('movielens/credits.csv')\n",
    "data.shape"
   ]
  },
  {
   "cell_type": "code",
   "execution_count": 33,
   "metadata": {
    "ExecuteTime": {
     "end_time": "2020-08-02T17:41:09.619441Z",
     "start_time": "2020-08-02T17:41:01.861114Z"
    }
   },
   "outputs": [
    {
     "data": {
      "text/html": [
       "<pre>Finished parsing file /Users/sachin/Documents/sachin/Education/SMU/Term4/7331/DataMining/ML7331/movielens/ratings.csv</pre>"
      ],
      "text/plain": [
       "Finished parsing file /Users/sachin/Documents/sachin/Education/SMU/Term4/7331/DataMining/ML7331/movielens/ratings.csv"
      ]
     },
     "metadata": {},
     "output_type": "display_data"
    },
    {
     "data": {
      "text/html": [
       "<pre>Parsing completed. Parsed 100 lines in 0.531243 secs.</pre>"
      ],
      "text/plain": [
       "Parsing completed. Parsed 100 lines in 0.531243 secs."
      ]
     },
     "metadata": {},
     "output_type": "display_data"
    },
    {
     "name": "stdout",
     "output_type": "stream",
     "text": [
      "------------------------------------------------------\n",
      "Inferred types from first 100 line(s) of file as \n",
      "column_type_hints=[int,int,float,int]\n",
      "If parsing fails due to incorrect types, you can correct\n",
      "the inferred type list above and pass it to read_csv in\n",
      "the column_type_hints argument\n",
      "------------------------------------------------------\n"
     ]
    },
    {
     "data": {
      "text/html": [
       "<pre>Read 2006281 lines. Lines per second: 2.23255e+06</pre>"
      ],
      "text/plain": [
       "Read 2006281 lines. Lines per second: 2.23255e+06"
      ]
     },
     "metadata": {},
     "output_type": "display_data"
    },
    {
     "data": {
      "text/html": [
       "<pre>Read 23119169 lines. Lines per second: 3.89807e+06</pre>"
      ],
      "text/plain": [
       "Read 23119169 lines. Lines per second: 3.89807e+06"
      ]
     },
     "metadata": {},
     "output_type": "display_data"
    },
    {
     "data": {
      "text/html": [
       "<pre>Finished parsing file /Users/sachin/Documents/sachin/Education/SMU/Term4/7331/DataMining/ML7331/movielens/ratings.csv</pre>"
      ],
      "text/plain": [
       "Finished parsing file /Users/sachin/Documents/sachin/Education/SMU/Term4/7331/DataMining/ML7331/movielens/ratings.csv"
      ]
     },
     "metadata": {},
     "output_type": "display_data"
    },
    {
     "data": {
      "text/html": [
       "<pre>Parsing completed. Parsed 26024289 lines in 6.50914 secs.</pre>"
      ],
      "text/plain": [
       "Parsing completed. Parsed 26024289 lines in 6.50914 secs."
      ]
     },
     "metadata": {},
     "output_type": "display_data"
    }
   ],
   "source": [
    "import turicreate as tc\n",
    "actions = tc.SFrame.read_csv('movielens/ratings.csv')"
   ]
  },
  {
   "cell_type": "code",
   "execution_count": 36,
   "metadata": {
    "ExecuteTime": {
     "end_time": "2020-08-02T18:39:24.360138Z",
     "start_time": "2020-08-02T18:38:14.797944Z"
    }
   },
   "outputs": [
    {
     "data": {
      "text/html": [
       "<pre>Warning: Ignoring columns rating, timestamp;</pre>"
      ],
      "text/plain": [
       "Warning: Ignoring columns rating, timestamp;"
      ]
     },
     "metadata": {},
     "output_type": "display_data"
    },
    {
     "data": {
      "text/html": [
       "<pre> To use one of these as a rating column, specify the column name to be used as target</pre>"
      ],
      "text/plain": [
       " To use one of these as a rating column, specify the column name to be used as target"
      ]
     },
     "metadata": {},
     "output_type": "display_data"
    },
    {
     "data": {
      "text/html": [
       "<pre>    and use a method that allows the use of a target.</pre>"
      ],
      "text/plain": [
       "    and use a method that allows the use of a target."
      ]
     },
     "metadata": {},
     "output_type": "display_data"
    },
    {
     "data": {
      "text/html": [
       "<pre>Preparing data set.</pre>"
      ],
      "text/plain": [
       "Preparing data set."
      ]
     },
     "metadata": {},
     "output_type": "display_data"
    },
    {
     "data": {
      "text/html": [
       "<pre>    Data has 26004589 observations with 270892 users and 45108 items.</pre>"
      ],
      "text/plain": [
       "    Data has 26004589 observations with 270892 users and 45108 items."
      ]
     },
     "metadata": {},
     "output_type": "display_data"
    },
    {
     "data": {
      "text/html": [
       "<pre>    Data prepared in: 8.38858s</pre>"
      ],
      "text/plain": [
       "    Data prepared in: 8.38858s"
      ]
     },
     "metadata": {},
     "output_type": "display_data"
    },
    {
     "data": {
      "text/html": [
       "<pre>Training model from provided data.</pre>"
      ],
      "text/plain": [
       "Training model from provided data."
      ]
     },
     "metadata": {},
     "output_type": "display_data"
    },
    {
     "data": {
      "text/html": [
       "<pre>Gathering per-item and per-user statistics.</pre>"
      ],
      "text/plain": [
       "Gathering per-item and per-user statistics."
      ]
     },
     "metadata": {},
     "output_type": "display_data"
    },
    {
     "data": {
      "text/html": [
       "<pre>+--------------------------------+------------+</pre>"
      ],
      "text/plain": [
       "+--------------------------------+------------+"
      ]
     },
     "metadata": {},
     "output_type": "display_data"
    },
    {
     "data": {
      "text/html": [
       "<pre>| Elapsed Time (Item Statistics) | % Complete |</pre>"
      ],
      "text/plain": [
       "| Elapsed Time (Item Statistics) | % Complete |"
      ]
     },
     "metadata": {},
     "output_type": "display_data"
    },
    {
     "data": {
      "text/html": [
       "<pre>+--------------------------------+------------+</pre>"
      ],
      "text/plain": [
       "+--------------------------------+------------+"
      ]
     },
     "metadata": {},
     "output_type": "display_data"
    },
    {
     "data": {
      "text/html": [
       "<pre>| 3.691ms                        | 0.25       |</pre>"
      ],
      "text/plain": [
       "| 3.691ms                        | 0.25       |"
      ]
     },
     "metadata": {},
     "output_type": "display_data"
    },
    {
     "data": {
      "text/html": [
       "<pre>| 337.082ms                      | 100        |</pre>"
      ],
      "text/plain": [
       "| 337.082ms                      | 100        |"
      ]
     },
     "metadata": {},
     "output_type": "display_data"
    },
    {
     "data": {
      "text/html": [
       "<pre>+--------------------------------+------------+</pre>"
      ],
      "text/plain": [
       "+--------------------------------+------------+"
      ]
     },
     "metadata": {},
     "output_type": "display_data"
    },
    {
     "data": {
      "text/html": [
       "<pre>Setting up lookup tables.</pre>"
      ],
      "text/plain": [
       "Setting up lookup tables."
      ]
     },
     "metadata": {},
     "output_type": "display_data"
    },
    {
     "data": {
      "text/html": [
       "<pre>Processing data in one pass using dense lookup tables.</pre>"
      ],
      "text/plain": [
       "Processing data in one pass using dense lookup tables."
      ]
     },
     "metadata": {},
     "output_type": "display_data"
    },
    {
     "data": {
      "text/html": [
       "<pre>+-------------------------------------+------------------+-----------------+</pre>"
      ],
      "text/plain": [
       "+-------------------------------------+------------------+-----------------+"
      ]
     },
     "metadata": {},
     "output_type": "display_data"
    },
    {
     "data": {
      "text/html": [
       "<pre>| Elapsed Time (Constructing Lookups) | Total % Complete | Items Processed |</pre>"
      ],
      "text/plain": [
       "| Elapsed Time (Constructing Lookups) | Total % Complete | Items Processed |"
      ]
     },
     "metadata": {},
     "output_type": "display_data"
    },
    {
     "data": {
      "text/html": [
       "<pre>+-------------------------------------+------------------+-----------------+</pre>"
      ],
      "text/plain": [
       "+-------------------------------------+------------------+-----------------+"
      ]
     },
     "metadata": {},
     "output_type": "display_data"
    },
    {
     "data": {
      "text/html": [
       "<pre>| 5.05s                               | 0                | 0               |</pre>"
      ],
      "text/plain": [
       "| 5.05s                               | 0                | 0               |"
      ]
     },
     "metadata": {},
     "output_type": "display_data"
    },
    {
     "data": {
      "text/html": [
       "<pre>| 8.06s                               | 7                | 3257            |</pre>"
      ],
      "text/plain": [
       "| 8.06s                               | 7                | 3257            |"
      ]
     },
     "metadata": {},
     "output_type": "display_data"
    },
    {
     "data": {
      "text/html": [
       "<pre>| 11.07s                              | 15               | 6859            |</pre>"
      ],
      "text/plain": [
       "| 11.07s                              | 15               | 6859            |"
      ]
     },
     "metadata": {},
     "output_type": "display_data"
    },
    {
     "data": {
      "text/html": [
       "<pre>| 14.08s                              | 23               | 10385           |</pre>"
      ],
      "text/plain": [
       "| 14.08s                              | 23               | 10385           |"
      ]
     },
     "metadata": {},
     "output_type": "display_data"
    },
    {
     "data": {
      "text/html": [
       "<pre>| 17.09s                              | 30.5             | 13815           |</pre>"
      ],
      "text/plain": [
       "| 17.09s                              | 30.5             | 13815           |"
      ]
     },
     "metadata": {},
     "output_type": "display_data"
    },
    {
     "data": {
      "text/html": [
       "<pre>| 20.11s                              | 38.75            | 17508           |</pre>"
      ],
      "text/plain": [
       "| 20.11s                              | 38.75            | 17508           |"
      ]
     },
     "metadata": {},
     "output_type": "display_data"
    },
    {
     "data": {
      "text/html": [
       "<pre>| 23.12s                              | 45               | 20302           |</pre>"
      ],
      "text/plain": [
       "| 23.12s                              | 45               | 20302           |"
      ]
     },
     "metadata": {},
     "output_type": "display_data"
    },
    {
     "data": {
      "text/html": [
       "<pre>| 26.13s                              | 51.5             | 23248           |</pre>"
      ],
      "text/plain": [
       "| 26.13s                              | 51.5             | 23248           |"
      ]
     },
     "metadata": {},
     "output_type": "display_data"
    },
    {
     "data": {
      "text/html": [
       "<pre>| 29.14s                              | 58.25            | 26332           |</pre>"
      ],
      "text/plain": [
       "| 29.14s                              | 58.25            | 26332           |"
      ]
     },
     "metadata": {},
     "output_type": "display_data"
    },
    {
     "data": {
      "text/html": [
       "<pre>| 32.15s                              | 65.25            | 29516           |</pre>"
      ],
      "text/plain": [
       "| 32.15s                              | 65.25            | 29516           |"
      ]
     },
     "metadata": {},
     "output_type": "display_data"
    },
    {
     "data": {
      "text/html": [
       "<pre>| 35.16s                              | 72.5             | 32753           |</pre>"
      ],
      "text/plain": [
       "| 35.16s                              | 72.5             | 32753           |"
      ]
     },
     "metadata": {},
     "output_type": "display_data"
    },
    {
     "data": {
      "text/html": [
       "<pre>| 38.17s                              | 79.75            | 36034           |</pre>"
      ],
      "text/plain": [
       "| 38.17s                              | 79.75            | 36034           |"
      ]
     },
     "metadata": {},
     "output_type": "display_data"
    },
    {
     "data": {
      "text/html": [
       "<pre>| 41.18s                              | 87               | 39336           |</pre>"
      ],
      "text/plain": [
       "| 41.18s                              | 87               | 39336           |"
      ]
     },
     "metadata": {},
     "output_type": "display_data"
    },
    {
     "data": {
      "text/html": [
       "<pre>| 44.20s                              | 94.25            | 42598           |</pre>"
      ],
      "text/plain": [
       "| 44.20s                              | 94.25            | 42598           |"
      ]
     },
     "metadata": {},
     "output_type": "display_data"
    },
    {
     "data": {
      "text/html": [
       "<pre>| 56.41s                              | 100              | 45108           |</pre>"
      ],
      "text/plain": [
       "| 56.41s                              | 100              | 45108           |"
      ]
     },
     "metadata": {},
     "output_type": "display_data"
    },
    {
     "data": {
      "text/html": [
       "<pre>+-------------------------------------+------------------+-----------------+</pre>"
      ],
      "text/plain": [
       "+-------------------------------------+------------------+-----------------+"
      ]
     },
     "metadata": {},
     "output_type": "display_data"
    },
    {
     "data": {
      "text/html": [
       "<pre>Finalizing lookup tables.</pre>"
      ],
      "text/plain": [
       "Finalizing lookup tables."
      ]
     },
     "metadata": {},
     "output_type": "display_data"
    },
    {
     "data": {
      "text/html": [
       "<pre>Generating candidate set for working with new users.</pre>"
      ],
      "text/plain": [
       "Generating candidate set for working with new users."
      ]
     },
     "metadata": {},
     "output_type": "display_data"
    },
    {
     "data": {
      "text/html": [
       "<pre>Finished training in 58.025s</pre>"
      ],
      "text/plain": [
       "Finished training in 58.025s"
      ]
     },
     "metadata": {},
     "output_type": "display_data"
    }
   ],
   "source": [
    "training_data, validation_data = tc.recommender.util.random_split_by_user(actions, 'userId', 'movieId')\n",
    "model = tc.recommender.create(training_data, 'userId', 'movieId')"
   ]
  },
  {
   "cell_type": "code",
   "execution_count": 37,
   "metadata": {
    "ExecuteTime": {
     "end_time": "2020-08-02T18:43:43.556303Z",
     "start_time": "2020-08-02T18:43:02.787452Z"
    }
   },
   "outputs": [
    {
     "data": {
      "text/html": [
       "<pre>recommendations finished on 1000/270892 queries. users per second: 7233.8</pre>"
      ],
      "text/plain": [
       "recommendations finished on 1000/270892 queries. users per second: 7233.8"
      ]
     },
     "metadata": {},
     "output_type": "display_data"
    },
    {
     "data": {
      "text/html": [
       "<pre>recommendations finished on 2000/270892 queries. users per second: 7502.21</pre>"
      ],
      "text/plain": [
       "recommendations finished on 2000/270892 queries. users per second: 7502.21"
      ]
     },
     "metadata": {},
     "output_type": "display_data"
    },
    {
     "data": {
      "text/html": [
       "<pre>recommendations finished on 3000/270892 queries. users per second: 7227.02</pre>"
      ],
      "text/plain": [
       "recommendations finished on 3000/270892 queries. users per second: 7227.02"
      ]
     },
     "metadata": {},
     "output_type": "display_data"
    },
    {
     "data": {
      "text/html": [
       "<pre>recommendations finished on 4000/270892 queries. users per second: 7263.48</pre>"
      ],
      "text/plain": [
       "recommendations finished on 4000/270892 queries. users per second: 7263.48"
      ]
     },
     "metadata": {},
     "output_type": "display_data"
    },
    {
     "data": {
      "text/html": [
       "<pre>recommendations finished on 5000/270892 queries. users per second: 7196.2</pre>"
      ],
      "text/plain": [
       "recommendations finished on 5000/270892 queries. users per second: 7196.2"
      ]
     },
     "metadata": {},
     "output_type": "display_data"
    },
    {
     "data": {
      "text/html": [
       "<pre>recommendations finished on 6000/270892 queries. users per second: 7271.02</pre>"
      ],
      "text/plain": [
       "recommendations finished on 6000/270892 queries. users per second: 7271.02"
      ]
     },
     "metadata": {},
     "output_type": "display_data"
    },
    {
     "data": {
      "text/html": [
       "<pre>recommendations finished on 7000/270892 queries. users per second: 7326.96</pre>"
      ],
      "text/plain": [
       "recommendations finished on 7000/270892 queries. users per second: 7326.96"
      ]
     },
     "metadata": {},
     "output_type": "display_data"
    },
    {
     "data": {
      "text/html": [
       "<pre>recommendations finished on 8000/270892 queries. users per second: 7364.3</pre>"
      ],
      "text/plain": [
       "recommendations finished on 8000/270892 queries. users per second: 7364.3"
      ]
     },
     "metadata": {},
     "output_type": "display_data"
    },
    {
     "data": {
      "text/html": [
       "<pre>recommendations finished on 9000/270892 queries. users per second: 7343.66</pre>"
      ],
      "text/plain": [
       "recommendations finished on 9000/270892 queries. users per second: 7343.66"
      ]
     },
     "metadata": {},
     "output_type": "display_data"
    },
    {
     "data": {
      "text/html": [
       "<pre>recommendations finished on 10000/270892 queries. users per second: 7369.91</pre>"
      ],
      "text/plain": [
       "recommendations finished on 10000/270892 queries. users per second: 7369.91"
      ]
     },
     "metadata": {},
     "output_type": "display_data"
    },
    {
     "data": {
      "text/html": [
       "<pre>recommendations finished on 11000/270892 queries. users per second: 7399.27</pre>"
      ],
      "text/plain": [
       "recommendations finished on 11000/270892 queries. users per second: 7399.27"
      ]
     },
     "metadata": {},
     "output_type": "display_data"
    },
    {
     "data": {
      "text/html": [
       "<pre>recommendations finished on 12000/270892 queries. users per second: 7451</pre>"
      ],
      "text/plain": [
       "recommendations finished on 12000/270892 queries. users per second: 7451"
      ]
     },
     "metadata": {},
     "output_type": "display_data"
    },
    {
     "data": {
      "text/html": [
       "<pre>recommendations finished on 13000/270892 queries. users per second: 7487.79</pre>"
      ],
      "text/plain": [
       "recommendations finished on 13000/270892 queries. users per second: 7487.79"
      ]
     },
     "metadata": {},
     "output_type": "display_data"
    },
    {
     "data": {
      "text/html": [
       "<pre>recommendations finished on 14000/270892 queries. users per second: 7499.85</pre>"
      ],
      "text/plain": [
       "recommendations finished on 14000/270892 queries. users per second: 7499.85"
      ]
     },
     "metadata": {},
     "output_type": "display_data"
    },
    {
     "data": {
      "text/html": [
       "<pre>recommendations finished on 15000/270892 queries. users per second: 7523.82</pre>"
      ],
      "text/plain": [
       "recommendations finished on 15000/270892 queries. users per second: 7523.82"
      ]
     },
     "metadata": {},
     "output_type": "display_data"
    },
    {
     "data": {
      "text/html": [
       "<pre>recommendations finished on 16000/270892 queries. users per second: 7545.66</pre>"
      ],
      "text/plain": [
       "recommendations finished on 16000/270892 queries. users per second: 7545.66"
      ]
     },
     "metadata": {},
     "output_type": "display_data"
    },
    {
     "data": {
      "text/html": [
       "<pre>recommendations finished on 17000/270892 queries. users per second: 7562.92</pre>"
      ],
      "text/plain": [
       "recommendations finished on 17000/270892 queries. users per second: 7562.92"
      ]
     },
     "metadata": {},
     "output_type": "display_data"
    },
    {
     "data": {
      "text/html": [
       "<pre>recommendations finished on 18000/270892 queries. users per second: 7572.91</pre>"
      ],
      "text/plain": [
       "recommendations finished on 18000/270892 queries. users per second: 7572.91"
      ]
     },
     "metadata": {},
     "output_type": "display_data"
    },
    {
     "data": {
      "text/html": [
       "<pre>recommendations finished on 19000/270892 queries. users per second: 7534.07</pre>"
      ],
      "text/plain": [
       "recommendations finished on 19000/270892 queries. users per second: 7534.07"
      ]
     },
     "metadata": {},
     "output_type": "display_data"
    },
    {
     "data": {
      "text/html": [
       "<pre>recommendations finished on 20000/270892 queries. users per second: 7535.95</pre>"
      ],
      "text/plain": [
       "recommendations finished on 20000/270892 queries. users per second: 7535.95"
      ]
     },
     "metadata": {},
     "output_type": "display_data"
    },
    {
     "data": {
      "text/html": [
       "<pre>recommendations finished on 21000/270892 queries. users per second: 7548.97</pre>"
      ],
      "text/plain": [
       "recommendations finished on 21000/270892 queries. users per second: 7548.97"
      ]
     },
     "metadata": {},
     "output_type": "display_data"
    },
    {
     "data": {
      "text/html": [
       "<pre>recommendations finished on 22000/270892 queries. users per second: 7564.15</pre>"
      ],
      "text/plain": [
       "recommendations finished on 22000/270892 queries. users per second: 7564.15"
      ]
     },
     "metadata": {},
     "output_type": "display_data"
    },
    {
     "data": {
      "text/html": [
       "<pre>recommendations finished on 23000/270892 queries. users per second: 7582.51</pre>"
      ],
      "text/plain": [
       "recommendations finished on 23000/270892 queries. users per second: 7582.51"
      ]
     },
     "metadata": {},
     "output_type": "display_data"
    },
    {
     "data": {
      "text/html": [
       "<pre>recommendations finished on 24000/270892 queries. users per second: 7589.4</pre>"
      ],
      "text/plain": [
       "recommendations finished on 24000/270892 queries. users per second: 7589.4"
      ]
     },
     "metadata": {},
     "output_type": "display_data"
    },
    {
     "data": {
      "text/html": [
       "<pre>recommendations finished on 25000/270892 queries. users per second: 7576.06</pre>"
      ],
      "text/plain": [
       "recommendations finished on 25000/270892 queries. users per second: 7576.06"
      ]
     },
     "metadata": {},
     "output_type": "display_data"
    },
    {
     "data": {
      "text/html": [
       "<pre>recommendations finished on 26000/270892 queries. users per second: 7576.39</pre>"
      ],
      "text/plain": [
       "recommendations finished on 26000/270892 queries. users per second: 7576.39"
      ]
     },
     "metadata": {},
     "output_type": "display_data"
    },
    {
     "data": {
      "text/html": [
       "<pre>recommendations finished on 27000/270892 queries. users per second: 7567.51</pre>"
      ],
      "text/plain": [
       "recommendations finished on 27000/270892 queries. users per second: 7567.51"
      ]
     },
     "metadata": {},
     "output_type": "display_data"
    },
    {
     "data": {
      "text/html": [
       "<pre>recommendations finished on 28000/270892 queries. users per second: 7576.34</pre>"
      ],
      "text/plain": [
       "recommendations finished on 28000/270892 queries. users per second: 7576.34"
      ]
     },
     "metadata": {},
     "output_type": "display_data"
    },
    {
     "data": {
      "text/html": [
       "<pre>recommendations finished on 29000/270892 queries. users per second: 7594.53</pre>"
      ],
      "text/plain": [
       "recommendations finished on 29000/270892 queries. users per second: 7594.53"
      ]
     },
     "metadata": {},
     "output_type": "display_data"
    },
    {
     "data": {
      "text/html": [
       "<pre>recommendations finished on 30000/270892 queries. users per second: 7579.14</pre>"
      ],
      "text/plain": [
       "recommendations finished on 30000/270892 queries. users per second: 7579.14"
      ]
     },
     "metadata": {},
     "output_type": "display_data"
    },
    {
     "data": {
      "text/html": [
       "<pre>recommendations finished on 31000/270892 queries. users per second: 7536.26</pre>"
      ],
      "text/plain": [
       "recommendations finished on 31000/270892 queries. users per second: 7536.26"
      ]
     },
     "metadata": {},
     "output_type": "display_data"
    },
    {
     "data": {
      "text/html": [
       "<pre>recommendations finished on 32000/270892 queries. users per second: 7547.69</pre>"
      ],
      "text/plain": [
       "recommendations finished on 32000/270892 queries. users per second: 7547.69"
      ]
     },
     "metadata": {},
     "output_type": "display_data"
    },
    {
     "data": {
      "text/html": [
       "<pre>recommendations finished on 33000/270892 queries. users per second: 7561.27</pre>"
      ],
      "text/plain": [
       "recommendations finished on 33000/270892 queries. users per second: 7561.27"
      ]
     },
     "metadata": {},
     "output_type": "display_data"
    },
    {
     "data": {
      "text/html": [
       "<pre>recommendations finished on 34000/270892 queries. users per second: 7553.09</pre>"
      ],
      "text/plain": [
       "recommendations finished on 34000/270892 queries. users per second: 7553.09"
      ]
     },
     "metadata": {},
     "output_type": "display_data"
    },
    {
     "data": {
      "text/html": [
       "<pre>recommendations finished on 35000/270892 queries. users per second: 7550.25</pre>"
      ],
      "text/plain": [
       "recommendations finished on 35000/270892 queries. users per second: 7550.25"
      ]
     },
     "metadata": {},
     "output_type": "display_data"
    },
    {
     "data": {
      "text/html": [
       "<pre>recommendations finished on 36000/270892 queries. users per second: 7552.04</pre>"
      ],
      "text/plain": [
       "recommendations finished on 36000/270892 queries. users per second: 7552.04"
      ]
     },
     "metadata": {},
     "output_type": "display_data"
    },
    {
     "data": {
      "text/html": [
       "<pre>recommendations finished on 37000/270892 queries. users per second: 7558.34</pre>"
      ],
      "text/plain": [
       "recommendations finished on 37000/270892 queries. users per second: 7558.34"
      ]
     },
     "metadata": {},
     "output_type": "display_data"
    },
    {
     "data": {
      "text/html": [
       "<pre>recommendations finished on 38000/270892 queries. users per second: 7560.07</pre>"
      ],
      "text/plain": [
       "recommendations finished on 38000/270892 queries. users per second: 7560.07"
      ]
     },
     "metadata": {},
     "output_type": "display_data"
    },
    {
     "data": {
      "text/html": [
       "<pre>recommendations finished on 39000/270892 queries. users per second: 7536.74</pre>"
      ],
      "text/plain": [
       "recommendations finished on 39000/270892 queries. users per second: 7536.74"
      ]
     },
     "metadata": {},
     "output_type": "display_data"
    },
    {
     "data": {
      "text/html": [
       "<pre>recommendations finished on 40000/270892 queries. users per second: 7527.14</pre>"
      ],
      "text/plain": [
       "recommendations finished on 40000/270892 queries. users per second: 7527.14"
      ]
     },
     "metadata": {},
     "output_type": "display_data"
    },
    {
     "data": {
      "text/html": [
       "<pre>recommendations finished on 41000/270892 queries. users per second: 7532.69</pre>"
      ],
      "text/plain": [
       "recommendations finished on 41000/270892 queries. users per second: 7532.69"
      ]
     },
     "metadata": {},
     "output_type": "display_data"
    },
    {
     "data": {
      "text/html": [
       "<pre>recommendations finished on 42000/270892 queries. users per second: 7530.99</pre>"
      ],
      "text/plain": [
       "recommendations finished on 42000/270892 queries. users per second: 7530.99"
      ]
     },
     "metadata": {},
     "output_type": "display_data"
    },
    {
     "data": {
      "text/html": [
       "<pre>recommendations finished on 43000/270892 queries. users per second: 7520.03</pre>"
      ],
      "text/plain": [
       "recommendations finished on 43000/270892 queries. users per second: 7520.03"
      ]
     },
     "metadata": {},
     "output_type": "display_data"
    },
    {
     "data": {
      "text/html": [
       "<pre>recommendations finished on 44000/270892 queries. users per second: 7518.47</pre>"
      ],
      "text/plain": [
       "recommendations finished on 44000/270892 queries. users per second: 7518.47"
      ]
     },
     "metadata": {},
     "output_type": "display_data"
    },
    {
     "data": {
      "text/html": [
       "<pre>recommendations finished on 45000/270892 queries. users per second: 7502.6</pre>"
      ],
      "text/plain": [
       "recommendations finished on 45000/270892 queries. users per second: 7502.6"
      ]
     },
     "metadata": {},
     "output_type": "display_data"
    },
    {
     "data": {
      "text/html": [
       "<pre>recommendations finished on 46000/270892 queries. users per second: 7492.97</pre>"
      ],
      "text/plain": [
       "recommendations finished on 46000/270892 queries. users per second: 7492.97"
      ]
     },
     "metadata": {},
     "output_type": "display_data"
    },
    {
     "data": {
      "text/html": [
       "<pre>recommendations finished on 47000/270892 queries. users per second: 7489.04</pre>"
      ],
      "text/plain": [
       "recommendations finished on 47000/270892 queries. users per second: 7489.04"
      ]
     },
     "metadata": {},
     "output_type": "display_data"
    },
    {
     "data": {
      "text/html": [
       "<pre>recommendations finished on 48000/270892 queries. users per second: 7484.95</pre>"
      ],
      "text/plain": [
       "recommendations finished on 48000/270892 queries. users per second: 7484.95"
      ]
     },
     "metadata": {},
     "output_type": "display_data"
    },
    {
     "data": {
      "text/html": [
       "<pre>recommendations finished on 49000/270892 queries. users per second: 7481.86</pre>"
      ],
      "text/plain": [
       "recommendations finished on 49000/270892 queries. users per second: 7481.86"
      ]
     },
     "metadata": {},
     "output_type": "display_data"
    },
    {
     "data": {
      "text/html": [
       "<pre>recommendations finished on 50000/270892 queries. users per second: 7490.75</pre>"
      ],
      "text/plain": [
       "recommendations finished on 50000/270892 queries. users per second: 7490.75"
      ]
     },
     "metadata": {},
     "output_type": "display_data"
    },
    {
     "data": {
      "text/html": [
       "<pre>recommendations finished on 51000/270892 queries. users per second: 7488.75</pre>"
      ],
      "text/plain": [
       "recommendations finished on 51000/270892 queries. users per second: 7488.75"
      ]
     },
     "metadata": {},
     "output_type": "display_data"
    },
    {
     "data": {
      "text/html": [
       "<pre>recommendations finished on 52000/270892 queries. users per second: 7496.84</pre>"
      ],
      "text/plain": [
       "recommendations finished on 52000/270892 queries. users per second: 7496.84"
      ]
     },
     "metadata": {},
     "output_type": "display_data"
    },
    {
     "data": {
      "text/html": [
       "<pre>recommendations finished on 53000/270892 queries. users per second: 7473.72</pre>"
      ],
      "text/plain": [
       "recommendations finished on 53000/270892 queries. users per second: 7473.72"
      ]
     },
     "metadata": {},
     "output_type": "display_data"
    },
    {
     "data": {
      "text/html": [
       "<pre>recommendations finished on 54000/270892 queries. users per second: 7477.33</pre>"
      ],
      "text/plain": [
       "recommendations finished on 54000/270892 queries. users per second: 7477.33"
      ]
     },
     "metadata": {},
     "output_type": "display_data"
    },
    {
     "data": {
      "text/html": [
       "<pre>recommendations finished on 55000/270892 queries. users per second: 7475.29</pre>"
      ],
      "text/plain": [
       "recommendations finished on 55000/270892 queries. users per second: 7475.29"
      ]
     },
     "metadata": {},
     "output_type": "display_data"
    },
    {
     "data": {
      "text/html": [
       "<pre>recommendations finished on 56000/270892 queries. users per second: 7463.19</pre>"
      ],
      "text/plain": [
       "recommendations finished on 56000/270892 queries. users per second: 7463.19"
      ]
     },
     "metadata": {},
     "output_type": "display_data"
    },
    {
     "data": {
      "text/html": [
       "<pre>recommendations finished on 57000/270892 queries. users per second: 7468.75</pre>"
      ],
      "text/plain": [
       "recommendations finished on 57000/270892 queries. users per second: 7468.75"
      ]
     },
     "metadata": {},
     "output_type": "display_data"
    },
    {
     "data": {
      "text/html": [
       "<pre>recommendations finished on 58000/270892 queries. users per second: 7476.15</pre>"
      ],
      "text/plain": [
       "recommendations finished on 58000/270892 queries. users per second: 7476.15"
      ]
     },
     "metadata": {},
     "output_type": "display_data"
    },
    {
     "data": {
      "text/html": [
       "<pre>recommendations finished on 59000/270892 queries. users per second: 7477.14</pre>"
      ],
      "text/plain": [
       "recommendations finished on 59000/270892 queries. users per second: 7477.14"
      ]
     },
     "metadata": {},
     "output_type": "display_data"
    },
    {
     "data": {
      "text/html": [
       "<pre>recommendations finished on 60000/270892 queries. users per second: 7478.79</pre>"
      ],
      "text/plain": [
       "recommendations finished on 60000/270892 queries. users per second: 7478.79"
      ]
     },
     "metadata": {},
     "output_type": "display_data"
    },
    {
     "data": {
      "text/html": [
       "<pre>recommendations finished on 61000/270892 queries. users per second: 7469.39</pre>"
      ],
      "text/plain": [
       "recommendations finished on 61000/270892 queries. users per second: 7469.39"
      ]
     },
     "metadata": {},
     "output_type": "display_data"
    },
    {
     "data": {
      "text/html": [
       "<pre>recommendations finished on 62000/270892 queries. users per second: 7455.46</pre>"
      ],
      "text/plain": [
       "recommendations finished on 62000/270892 queries. users per second: 7455.46"
      ]
     },
     "metadata": {},
     "output_type": "display_data"
    },
    {
     "data": {
      "text/html": [
       "<pre>recommendations finished on 63000/270892 queries. users per second: 7434.04</pre>"
      ],
      "text/plain": [
       "recommendations finished on 63000/270892 queries. users per second: 7434.04"
      ]
     },
     "metadata": {},
     "output_type": "display_data"
    },
    {
     "data": {
      "text/html": [
       "<pre>recommendations finished on 64000/270892 queries. users per second: 7422.32</pre>"
      ],
      "text/plain": [
       "recommendations finished on 64000/270892 queries. users per second: 7422.32"
      ]
     },
     "metadata": {},
     "output_type": "display_data"
    },
    {
     "data": {
      "text/html": [
       "<pre>recommendations finished on 65000/270892 queries. users per second: 7414.56</pre>"
      ],
      "text/plain": [
       "recommendations finished on 65000/270892 queries. users per second: 7414.56"
      ]
     },
     "metadata": {},
     "output_type": "display_data"
    },
    {
     "data": {
      "text/html": [
       "<pre>recommendations finished on 66000/270892 queries. users per second: 7395.44</pre>"
      ],
      "text/plain": [
       "recommendations finished on 66000/270892 queries. users per second: 7395.44"
      ]
     },
     "metadata": {},
     "output_type": "display_data"
    },
    {
     "data": {
      "text/html": [
       "<pre>recommendations finished on 67000/270892 queries. users per second: 7389.33</pre>"
      ],
      "text/plain": [
       "recommendations finished on 67000/270892 queries. users per second: 7389.33"
      ]
     },
     "metadata": {},
     "output_type": "display_data"
    },
    {
     "data": {
      "text/html": [
       "<pre>recommendations finished on 68000/270892 queries. users per second: 7385.89</pre>"
      ],
      "text/plain": [
       "recommendations finished on 68000/270892 queries. users per second: 7385.89"
      ]
     },
     "metadata": {},
     "output_type": "display_data"
    },
    {
     "data": {
      "text/html": [
       "<pre>recommendations finished on 69000/270892 queries. users per second: 7359.26</pre>"
      ],
      "text/plain": [
       "recommendations finished on 69000/270892 queries. users per second: 7359.26"
      ]
     },
     "metadata": {},
     "output_type": "display_data"
    },
    {
     "data": {
      "text/html": [
       "<pre>recommendations finished on 70000/270892 queries. users per second: 7319.98</pre>"
      ],
      "text/plain": [
       "recommendations finished on 70000/270892 queries. users per second: 7319.98"
      ]
     },
     "metadata": {},
     "output_type": "display_data"
    },
    {
     "data": {
      "text/html": [
       "<pre>recommendations finished on 71000/270892 queries. users per second: 7272.71</pre>"
      ],
      "text/plain": [
       "recommendations finished on 71000/270892 queries. users per second: 7272.71"
      ]
     },
     "metadata": {},
     "output_type": "display_data"
    },
    {
     "data": {
      "text/html": [
       "<pre>recommendations finished on 72000/270892 queries. users per second: 7265.84</pre>"
      ],
      "text/plain": [
       "recommendations finished on 72000/270892 queries. users per second: 7265.84"
      ]
     },
     "metadata": {},
     "output_type": "display_data"
    },
    {
     "data": {
      "text/html": [
       "<pre>recommendations finished on 73000/270892 queries. users per second: 7241.22</pre>"
      ],
      "text/plain": [
       "recommendations finished on 73000/270892 queries. users per second: 7241.22"
      ]
     },
     "metadata": {},
     "output_type": "display_data"
    },
    {
     "data": {
      "text/html": [
       "<pre>recommendations finished on 74000/270892 queries. users per second: 7224.55</pre>"
      ],
      "text/plain": [
       "recommendations finished on 74000/270892 queries. users per second: 7224.55"
      ]
     },
     "metadata": {},
     "output_type": "display_data"
    },
    {
     "data": {
      "text/html": [
       "<pre>recommendations finished on 75000/270892 queries. users per second: 7220.18</pre>"
      ],
      "text/plain": [
       "recommendations finished on 75000/270892 queries. users per second: 7220.18"
      ]
     },
     "metadata": {},
     "output_type": "display_data"
    },
    {
     "data": {
      "text/html": [
       "<pre>recommendations finished on 76000/270892 queries. users per second: 7208.72</pre>"
      ],
      "text/plain": [
       "recommendations finished on 76000/270892 queries. users per second: 7208.72"
      ]
     },
     "metadata": {},
     "output_type": "display_data"
    },
    {
     "data": {
      "text/html": [
       "<pre>recommendations finished on 77000/270892 queries. users per second: 7204.39</pre>"
      ],
      "text/plain": [
       "recommendations finished on 77000/270892 queries. users per second: 7204.39"
      ]
     },
     "metadata": {},
     "output_type": "display_data"
    },
    {
     "data": {
      "text/html": [
       "<pre>recommendations finished on 78000/270892 queries. users per second: 7151.93</pre>"
      ],
      "text/plain": [
       "recommendations finished on 78000/270892 queries. users per second: 7151.93"
      ]
     },
     "metadata": {},
     "output_type": "display_data"
    },
    {
     "data": {
      "text/html": [
       "<pre>recommendations finished on 79000/270892 queries. users per second: 7148.87</pre>"
      ],
      "text/plain": [
       "recommendations finished on 79000/270892 queries. users per second: 7148.87"
      ]
     },
     "metadata": {},
     "output_type": "display_data"
    },
    {
     "data": {
      "text/html": [
       "<pre>recommendations finished on 80000/270892 queries. users per second: 7151.92</pre>"
      ],
      "text/plain": [
       "recommendations finished on 80000/270892 queries. users per second: 7151.92"
      ]
     },
     "metadata": {},
     "output_type": "display_data"
    },
    {
     "data": {
      "text/html": [
       "<pre>recommendations finished on 81000/270892 queries. users per second: 7146.81</pre>"
      ],
      "text/plain": [
       "recommendations finished on 81000/270892 queries. users per second: 7146.81"
      ]
     },
     "metadata": {},
     "output_type": "display_data"
    },
    {
     "data": {
      "text/html": [
       "<pre>recommendations finished on 82000/270892 queries. users per second: 7148.37</pre>"
      ],
      "text/plain": [
       "recommendations finished on 82000/270892 queries. users per second: 7148.37"
      ]
     },
     "metadata": {},
     "output_type": "display_data"
    },
    {
     "data": {
      "text/html": [
       "<pre>recommendations finished on 83000/270892 queries. users per second: 7141.17</pre>"
      ],
      "text/plain": [
       "recommendations finished on 83000/270892 queries. users per second: 7141.17"
      ]
     },
     "metadata": {},
     "output_type": "display_data"
    },
    {
     "data": {
      "text/html": [
       "<pre>recommendations finished on 84000/270892 queries. users per second: 7141.6</pre>"
      ],
      "text/plain": [
       "recommendations finished on 84000/270892 queries. users per second: 7141.6"
      ]
     },
     "metadata": {},
     "output_type": "display_data"
    },
    {
     "data": {
      "text/html": [
       "<pre>recommendations finished on 85000/270892 queries. users per second: 7137.41</pre>"
      ],
      "text/plain": [
       "recommendations finished on 85000/270892 queries. users per second: 7137.41"
      ]
     },
     "metadata": {},
     "output_type": "display_data"
    },
    {
     "data": {
      "text/html": [
       "<pre>recommendations finished on 86000/270892 queries. users per second: 7132.3</pre>"
      ],
      "text/plain": [
       "recommendations finished on 86000/270892 queries. users per second: 7132.3"
      ]
     },
     "metadata": {},
     "output_type": "display_data"
    },
    {
     "data": {
      "text/html": [
       "<pre>recommendations finished on 87000/270892 queries. users per second: 7136.07</pre>"
      ],
      "text/plain": [
       "recommendations finished on 87000/270892 queries. users per second: 7136.07"
      ]
     },
     "metadata": {},
     "output_type": "display_data"
    },
    {
     "data": {
      "text/html": [
       "<pre>recommendations finished on 88000/270892 queries. users per second: 7132.58</pre>"
      ],
      "text/plain": [
       "recommendations finished on 88000/270892 queries. users per second: 7132.58"
      ]
     },
     "metadata": {},
     "output_type": "display_data"
    },
    {
     "data": {
      "text/html": [
       "<pre>recommendations finished on 89000/270892 queries. users per second: 7125.27</pre>"
      ],
      "text/plain": [
       "recommendations finished on 89000/270892 queries. users per second: 7125.27"
      ]
     },
     "metadata": {},
     "output_type": "display_data"
    },
    {
     "data": {
      "text/html": [
       "<pre>recommendations finished on 90000/270892 queries. users per second: 7124.97</pre>"
      ],
      "text/plain": [
       "recommendations finished on 90000/270892 queries. users per second: 7124.97"
      ]
     },
     "metadata": {},
     "output_type": "display_data"
    },
    {
     "data": {
      "text/html": [
       "<pre>recommendations finished on 91000/270892 queries. users per second: 7129.99</pre>"
      ],
      "text/plain": [
       "recommendations finished on 91000/270892 queries. users per second: 7129.99"
      ]
     },
     "metadata": {},
     "output_type": "display_data"
    },
    {
     "data": {
      "text/html": [
       "<pre>recommendations finished on 92000/270892 queries. users per second: 7128.3</pre>"
      ],
      "text/plain": [
       "recommendations finished on 92000/270892 queries. users per second: 7128.3"
      ]
     },
     "metadata": {},
     "output_type": "display_data"
    },
    {
     "data": {
      "text/html": [
       "<pre>recommendations finished on 93000/270892 queries. users per second: 7126.42</pre>"
      ],
      "text/plain": [
       "recommendations finished on 93000/270892 queries. users per second: 7126.42"
      ]
     },
     "metadata": {},
     "output_type": "display_data"
    },
    {
     "data": {
      "text/html": [
       "<pre>recommendations finished on 94000/270892 queries. users per second: 7125.35</pre>"
      ],
      "text/plain": [
       "recommendations finished on 94000/270892 queries. users per second: 7125.35"
      ]
     },
     "metadata": {},
     "output_type": "display_data"
    },
    {
     "data": {
      "text/html": [
       "<pre>recommendations finished on 95000/270892 queries. users per second: 7116.64</pre>"
      ],
      "text/plain": [
       "recommendations finished on 95000/270892 queries. users per second: 7116.64"
      ]
     },
     "metadata": {},
     "output_type": "display_data"
    },
    {
     "data": {
      "text/html": [
       "<pre>recommendations finished on 96000/270892 queries. users per second: 7118.67</pre>"
      ],
      "text/plain": [
       "recommendations finished on 96000/270892 queries. users per second: 7118.67"
      ]
     },
     "metadata": {},
     "output_type": "display_data"
    },
    {
     "data": {
      "text/html": [
       "<pre>recommendations finished on 97000/270892 queries. users per second: 7114.3</pre>"
      ],
      "text/plain": [
       "recommendations finished on 97000/270892 queries. users per second: 7114.3"
      ]
     },
     "metadata": {},
     "output_type": "display_data"
    },
    {
     "data": {
      "text/html": [
       "<pre>recommendations finished on 98000/270892 queries. users per second: 7117.59</pre>"
      ],
      "text/plain": [
       "recommendations finished on 98000/270892 queries. users per second: 7117.59"
      ]
     },
     "metadata": {},
     "output_type": "display_data"
    },
    {
     "data": {
      "text/html": [
       "<pre>recommendations finished on 99000/270892 queries. users per second: 7102.08</pre>"
      ],
      "text/plain": [
       "recommendations finished on 99000/270892 queries. users per second: 7102.08"
      ]
     },
     "metadata": {},
     "output_type": "display_data"
    },
    {
     "data": {
      "text/html": [
       "<pre>recommendations finished on 100000/270892 queries. users per second: 7090.9</pre>"
      ],
      "text/plain": [
       "recommendations finished on 100000/270892 queries. users per second: 7090.9"
      ]
     },
     "metadata": {},
     "output_type": "display_data"
    },
    {
     "data": {
      "text/html": [
       "<pre>recommendations finished on 101000/270892 queries. users per second: 7091.07</pre>"
      ],
      "text/plain": [
       "recommendations finished on 101000/270892 queries. users per second: 7091.07"
      ]
     },
     "metadata": {},
     "output_type": "display_data"
    },
    {
     "data": {
      "text/html": [
       "<pre>recommendations finished on 102000/270892 queries. users per second: 7087.87</pre>"
      ],
      "text/plain": [
       "recommendations finished on 102000/270892 queries. users per second: 7087.87"
      ]
     },
     "metadata": {},
     "output_type": "display_data"
    },
    {
     "data": {
      "text/html": [
       "<pre>recommendations finished on 103000/270892 queries. users per second: 7089.24</pre>"
      ],
      "text/plain": [
       "recommendations finished on 103000/270892 queries. users per second: 7089.24"
      ]
     },
     "metadata": {},
     "output_type": "display_data"
    },
    {
     "data": {
      "text/html": [
       "<pre>recommendations finished on 104000/270892 queries. users per second: 7084.78</pre>"
      ],
      "text/plain": [
       "recommendations finished on 104000/270892 queries. users per second: 7084.78"
      ]
     },
     "metadata": {},
     "output_type": "display_data"
    },
    {
     "data": {
      "text/html": [
       "<pre>recommendations finished on 105000/270892 queries. users per second: 7083.59</pre>"
      ],
      "text/plain": [
       "recommendations finished on 105000/270892 queries. users per second: 7083.59"
      ]
     },
     "metadata": {},
     "output_type": "display_data"
    },
    {
     "data": {
      "text/html": [
       "<pre>recommendations finished on 106000/270892 queries. users per second: 7084.08</pre>"
      ],
      "text/plain": [
       "recommendations finished on 106000/270892 queries. users per second: 7084.08"
      ]
     },
     "metadata": {},
     "output_type": "display_data"
    },
    {
     "data": {
      "text/html": [
       "<pre>recommendations finished on 107000/270892 queries. users per second: 7083.24</pre>"
      ],
      "text/plain": [
       "recommendations finished on 107000/270892 queries. users per second: 7083.24"
      ]
     },
     "metadata": {},
     "output_type": "display_data"
    },
    {
     "data": {
      "text/html": [
       "<pre>recommendations finished on 108000/270892 queries. users per second: 7082.85</pre>"
      ],
      "text/plain": [
       "recommendations finished on 108000/270892 queries. users per second: 7082.85"
      ]
     },
     "metadata": {},
     "output_type": "display_data"
    },
    {
     "data": {
      "text/html": [
       "<pre>recommendations finished on 109000/270892 queries. users per second: 7079.45</pre>"
      ],
      "text/plain": [
       "recommendations finished on 109000/270892 queries. users per second: 7079.45"
      ]
     },
     "metadata": {},
     "output_type": "display_data"
    },
    {
     "data": {
      "text/html": [
       "<pre>recommendations finished on 110000/270892 queries. users per second: 7081.36</pre>"
      ],
      "text/plain": [
       "recommendations finished on 110000/270892 queries. users per second: 7081.36"
      ]
     },
     "metadata": {},
     "output_type": "display_data"
    },
    {
     "data": {
      "text/html": [
       "<pre>recommendations finished on 111000/270892 queries. users per second: 7056.45</pre>"
      ],
      "text/plain": [
       "recommendations finished on 111000/270892 queries. users per second: 7056.45"
      ]
     },
     "metadata": {},
     "output_type": "display_data"
    },
    {
     "data": {
      "text/html": [
       "<pre>recommendations finished on 112000/270892 queries. users per second: 7058.53</pre>"
      ],
      "text/plain": [
       "recommendations finished on 112000/270892 queries. users per second: 7058.53"
      ]
     },
     "metadata": {},
     "output_type": "display_data"
    },
    {
     "data": {
      "text/html": [
       "<pre>recommendations finished on 113000/270892 queries. users per second: 7059.42</pre>"
      ],
      "text/plain": [
       "recommendations finished on 113000/270892 queries. users per second: 7059.42"
      ]
     },
     "metadata": {},
     "output_type": "display_data"
    },
    {
     "data": {
      "text/html": [
       "<pre>recommendations finished on 114000/270892 queries. users per second: 7051.78</pre>"
      ],
      "text/plain": [
       "recommendations finished on 114000/270892 queries. users per second: 7051.78"
      ]
     },
     "metadata": {},
     "output_type": "display_data"
    },
    {
     "data": {
      "text/html": [
       "<pre>recommendations finished on 115000/270892 queries. users per second: 7050.11</pre>"
      ],
      "text/plain": [
       "recommendations finished on 115000/270892 queries. users per second: 7050.11"
      ]
     },
     "metadata": {},
     "output_type": "display_data"
    },
    {
     "data": {
      "text/html": [
       "<pre>recommendations finished on 116000/270892 queries. users per second: 7047.64</pre>"
      ],
      "text/plain": [
       "recommendations finished on 116000/270892 queries. users per second: 7047.64"
      ]
     },
     "metadata": {},
     "output_type": "display_data"
    },
    {
     "data": {
      "text/html": [
       "<pre>recommendations finished on 117000/270892 queries. users per second: 7043.26</pre>"
      ],
      "text/plain": [
       "recommendations finished on 117000/270892 queries. users per second: 7043.26"
      ]
     },
     "metadata": {},
     "output_type": "display_data"
    },
    {
     "data": {
      "text/html": [
       "<pre>recommendations finished on 118000/270892 queries. users per second: 7042.29</pre>"
      ],
      "text/plain": [
       "recommendations finished on 118000/270892 queries. users per second: 7042.29"
      ]
     },
     "metadata": {},
     "output_type": "display_data"
    },
    {
     "data": {
      "text/html": [
       "<pre>recommendations finished on 119000/270892 queries. users per second: 7042.58</pre>"
      ],
      "text/plain": [
       "recommendations finished on 119000/270892 queries. users per second: 7042.58"
      ]
     },
     "metadata": {},
     "output_type": "display_data"
    },
    {
     "data": {
      "text/html": [
       "<pre>recommendations finished on 120000/270892 queries. users per second: 7044.51</pre>"
      ],
      "text/plain": [
       "recommendations finished on 120000/270892 queries. users per second: 7044.51"
      ]
     },
     "metadata": {},
     "output_type": "display_data"
    },
    {
     "data": {
      "text/html": [
       "<pre>recommendations finished on 121000/270892 queries. users per second: 7044.16</pre>"
      ],
      "text/plain": [
       "recommendations finished on 121000/270892 queries. users per second: 7044.16"
      ]
     },
     "metadata": {},
     "output_type": "display_data"
    },
    {
     "data": {
      "text/html": [
       "<pre>recommendations finished on 122000/270892 queries. users per second: 7036.11</pre>"
      ],
      "text/plain": [
       "recommendations finished on 122000/270892 queries. users per second: 7036.11"
      ]
     },
     "metadata": {},
     "output_type": "display_data"
    },
    {
     "data": {
      "text/html": [
       "<pre>recommendations finished on 123000/270892 queries. users per second: 7035.63</pre>"
      ],
      "text/plain": [
       "recommendations finished on 123000/270892 queries. users per second: 7035.63"
      ]
     },
     "metadata": {},
     "output_type": "display_data"
    },
    {
     "data": {
      "text/html": [
       "<pre>recommendations finished on 124000/270892 queries. users per second: 7030.29</pre>"
      ],
      "text/plain": [
       "recommendations finished on 124000/270892 queries. users per second: 7030.29"
      ]
     },
     "metadata": {},
     "output_type": "display_data"
    },
    {
     "data": {
      "text/html": [
       "<pre>recommendations finished on 125000/270892 queries. users per second: 7028.69</pre>"
      ],
      "text/plain": [
       "recommendations finished on 125000/270892 queries. users per second: 7028.69"
      ]
     },
     "metadata": {},
     "output_type": "display_data"
    },
    {
     "data": {
      "text/html": [
       "<pre>recommendations finished on 126000/270892 queries. users per second: 7028.24</pre>"
      ],
      "text/plain": [
       "recommendations finished on 126000/270892 queries. users per second: 7028.24"
      ]
     },
     "metadata": {},
     "output_type": "display_data"
    },
    {
     "data": {
      "text/html": [
       "<pre>recommendations finished on 127000/270892 queries. users per second: 7026</pre>"
      ],
      "text/plain": [
       "recommendations finished on 127000/270892 queries. users per second: 7026"
      ]
     },
     "metadata": {},
     "output_type": "display_data"
    },
    {
     "data": {
      "text/html": [
       "<pre>recommendations finished on 128000/270892 queries. users per second: 7023.3</pre>"
      ],
      "text/plain": [
       "recommendations finished on 128000/270892 queries. users per second: 7023.3"
      ]
     },
     "metadata": {},
     "output_type": "display_data"
    },
    {
     "data": {
      "text/html": [
       "<pre>recommendations finished on 129000/270892 queries. users per second: 7019.85</pre>"
      ],
      "text/plain": [
       "recommendations finished on 129000/270892 queries. users per second: 7019.85"
      ]
     },
     "metadata": {},
     "output_type": "display_data"
    },
    {
     "data": {
      "text/html": [
       "<pre>recommendations finished on 130000/270892 queries. users per second: 7014.31</pre>"
      ],
      "text/plain": [
       "recommendations finished on 130000/270892 queries. users per second: 7014.31"
      ]
     },
     "metadata": {},
     "output_type": "display_data"
    },
    {
     "data": {
      "text/html": [
       "<pre>recommendations finished on 131000/270892 queries. users per second: 7012.69</pre>"
      ],
      "text/plain": [
       "recommendations finished on 131000/270892 queries. users per second: 7012.69"
      ]
     },
     "metadata": {},
     "output_type": "display_data"
    },
    {
     "data": {
      "text/html": [
       "<pre>recommendations finished on 132000/270892 queries. users per second: 7009.12</pre>"
      ],
      "text/plain": [
       "recommendations finished on 132000/270892 queries. users per second: 7009.12"
      ]
     },
     "metadata": {},
     "output_type": "display_data"
    },
    {
     "data": {
      "text/html": [
       "<pre>recommendations finished on 133000/270892 queries. users per second: 7001.91</pre>"
      ],
      "text/plain": [
       "recommendations finished on 133000/270892 queries. users per second: 7001.91"
      ]
     },
     "metadata": {},
     "output_type": "display_data"
    },
    {
     "data": {
      "text/html": [
       "<pre>recommendations finished on 134000/270892 queries. users per second: 7001.91</pre>"
      ],
      "text/plain": [
       "recommendations finished on 134000/270892 queries. users per second: 7001.91"
      ]
     },
     "metadata": {},
     "output_type": "display_data"
    },
    {
     "data": {
      "text/html": [
       "<pre>recommendations finished on 135000/270892 queries. users per second: 6998.82</pre>"
      ],
      "text/plain": [
       "recommendations finished on 135000/270892 queries. users per second: 6998.82"
      ]
     },
     "metadata": {},
     "output_type": "display_data"
    },
    {
     "data": {
      "text/html": [
       "<pre>recommendations finished on 136000/270892 queries. users per second: 6983.93</pre>"
      ],
      "text/plain": [
       "recommendations finished on 136000/270892 queries. users per second: 6983.93"
      ]
     },
     "metadata": {},
     "output_type": "display_data"
    },
    {
     "data": {
      "text/html": [
       "<pre>recommendations finished on 137000/270892 queries. users per second: 6983.49</pre>"
      ],
      "text/plain": [
       "recommendations finished on 137000/270892 queries. users per second: 6983.49"
      ]
     },
     "metadata": {},
     "output_type": "display_data"
    },
    {
     "data": {
      "text/html": [
       "<pre>recommendations finished on 138000/270892 queries. users per second: 6980.68</pre>"
      ],
      "text/plain": [
       "recommendations finished on 138000/270892 queries. users per second: 6980.68"
      ]
     },
     "metadata": {},
     "output_type": "display_data"
    },
    {
     "data": {
      "text/html": [
       "<pre>recommendations finished on 139000/270892 queries. users per second: 6968.34</pre>"
      ],
      "text/plain": [
       "recommendations finished on 139000/270892 queries. users per second: 6968.34"
      ]
     },
     "metadata": {},
     "output_type": "display_data"
    },
    {
     "data": {
      "text/html": [
       "<pre>recommendations finished on 140000/270892 queries. users per second: 6969.98</pre>"
      ],
      "text/plain": [
       "recommendations finished on 140000/270892 queries. users per second: 6969.98"
      ]
     },
     "metadata": {},
     "output_type": "display_data"
    },
    {
     "data": {
      "text/html": [
       "<pre>recommendations finished on 141000/270892 queries. users per second: 6970.2</pre>"
      ],
      "text/plain": [
       "recommendations finished on 141000/270892 queries. users per second: 6970.2"
      ]
     },
     "metadata": {},
     "output_type": "display_data"
    },
    {
     "data": {
      "text/html": [
       "<pre>recommendations finished on 142000/270892 queries. users per second: 6968.71</pre>"
      ],
      "text/plain": [
       "recommendations finished on 142000/270892 queries. users per second: 6968.71"
      ]
     },
     "metadata": {},
     "output_type": "display_data"
    },
    {
     "data": {
      "text/html": [
       "<pre>recommendations finished on 143000/270892 queries. users per second: 6964.97</pre>"
      ],
      "text/plain": [
       "recommendations finished on 143000/270892 queries. users per second: 6964.97"
      ]
     },
     "metadata": {},
     "output_type": "display_data"
    },
    {
     "data": {
      "text/html": [
       "<pre>recommendations finished on 144000/270892 queries. users per second: 6964.36</pre>"
      ],
      "text/plain": [
       "recommendations finished on 144000/270892 queries. users per second: 6964.36"
      ]
     },
     "metadata": {},
     "output_type": "display_data"
    },
    {
     "data": {
      "text/html": [
       "<pre>recommendations finished on 145000/270892 queries. users per second: 6960.16</pre>"
      ],
      "text/plain": [
       "recommendations finished on 145000/270892 queries. users per second: 6960.16"
      ]
     },
     "metadata": {},
     "output_type": "display_data"
    },
    {
     "data": {
      "text/html": [
       "<pre>recommendations finished on 146000/270892 queries. users per second: 6954.95</pre>"
      ],
      "text/plain": [
       "recommendations finished on 146000/270892 queries. users per second: 6954.95"
      ]
     },
     "metadata": {},
     "output_type": "display_data"
    },
    {
     "data": {
      "text/html": [
       "<pre>recommendations finished on 147000/270892 queries. users per second: 6957.6</pre>"
      ],
      "text/plain": [
       "recommendations finished on 147000/270892 queries. users per second: 6957.6"
      ]
     },
     "metadata": {},
     "output_type": "display_data"
    },
    {
     "data": {
      "text/html": [
       "<pre>recommendations finished on 148000/270892 queries. users per second: 6955.12</pre>"
      ],
      "text/plain": [
       "recommendations finished on 148000/270892 queries. users per second: 6955.12"
      ]
     },
     "metadata": {},
     "output_type": "display_data"
    },
    {
     "data": {
      "text/html": [
       "<pre>recommendations finished on 149000/270892 queries. users per second: 6950.5</pre>"
      ],
      "text/plain": [
       "recommendations finished on 149000/270892 queries. users per second: 6950.5"
      ]
     },
     "metadata": {},
     "output_type": "display_data"
    },
    {
     "data": {
      "text/html": [
       "<pre>recommendations finished on 150000/270892 queries. users per second: 6949.86</pre>"
      ],
      "text/plain": [
       "recommendations finished on 150000/270892 queries. users per second: 6949.86"
      ]
     },
     "metadata": {},
     "output_type": "display_data"
    },
    {
     "data": {
      "text/html": [
       "<pre>recommendations finished on 151000/270892 queries. users per second: 6948.86</pre>"
      ],
      "text/plain": [
       "recommendations finished on 151000/270892 queries. users per second: 6948.86"
      ]
     },
     "metadata": {},
     "output_type": "display_data"
    },
    {
     "data": {
      "text/html": [
       "<pre>recommendations finished on 152000/270892 queries. users per second: 6949.31</pre>"
      ],
      "text/plain": [
       "recommendations finished on 152000/270892 queries. users per second: 6949.31"
      ]
     },
     "metadata": {},
     "output_type": "display_data"
    },
    {
     "data": {
      "text/html": [
       "<pre>recommendations finished on 153000/270892 queries. users per second: 6949.12</pre>"
      ],
      "text/plain": [
       "recommendations finished on 153000/270892 queries. users per second: 6949.12"
      ]
     },
     "metadata": {},
     "output_type": "display_data"
    },
    {
     "data": {
      "text/html": [
       "<pre>recommendations finished on 154000/270892 queries. users per second: 6951.14</pre>"
      ],
      "text/plain": [
       "recommendations finished on 154000/270892 queries. users per second: 6951.14"
      ]
     },
     "metadata": {},
     "output_type": "display_data"
    },
    {
     "data": {
      "text/html": [
       "<pre>recommendations finished on 155000/270892 queries. users per second: 6949.67</pre>"
      ],
      "text/plain": [
       "recommendations finished on 155000/270892 queries. users per second: 6949.67"
      ]
     },
     "metadata": {},
     "output_type": "display_data"
    },
    {
     "data": {
      "text/html": [
       "<pre>recommendations finished on 156000/270892 queries. users per second: 6944.72</pre>"
      ],
      "text/plain": [
       "recommendations finished on 156000/270892 queries. users per second: 6944.72"
      ]
     },
     "metadata": {},
     "output_type": "display_data"
    },
    {
     "data": {
      "text/html": [
       "<pre>recommendations finished on 157000/270892 queries. users per second: 6940.11</pre>"
      ],
      "text/plain": [
       "recommendations finished on 157000/270892 queries. users per second: 6940.11"
      ]
     },
     "metadata": {},
     "output_type": "display_data"
    },
    {
     "data": {
      "text/html": [
       "<pre>recommendations finished on 158000/270892 queries. users per second: 6937.68</pre>"
      ],
      "text/plain": [
       "recommendations finished on 158000/270892 queries. users per second: 6937.68"
      ]
     },
     "metadata": {},
     "output_type": "display_data"
    },
    {
     "data": {
      "text/html": [
       "<pre>recommendations finished on 159000/270892 queries. users per second: 6938.59</pre>"
      ],
      "text/plain": [
       "recommendations finished on 159000/270892 queries. users per second: 6938.59"
      ]
     },
     "metadata": {},
     "output_type": "display_data"
    },
    {
     "data": {
      "text/html": [
       "<pre>recommendations finished on 160000/270892 queries. users per second: 6936.52</pre>"
      ],
      "text/plain": [
       "recommendations finished on 160000/270892 queries. users per second: 6936.52"
      ]
     },
     "metadata": {},
     "output_type": "display_data"
    },
    {
     "data": {
      "text/html": [
       "<pre>recommendations finished on 161000/270892 queries. users per second: 6935.5</pre>"
      ],
      "text/plain": [
       "recommendations finished on 161000/270892 queries. users per second: 6935.5"
      ]
     },
     "metadata": {},
     "output_type": "display_data"
    },
    {
     "data": {
      "text/html": [
       "<pre>recommendations finished on 162000/270892 queries. users per second: 6932.73</pre>"
      ],
      "text/plain": [
       "recommendations finished on 162000/270892 queries. users per second: 6932.73"
      ]
     },
     "metadata": {},
     "output_type": "display_data"
    },
    {
     "data": {
      "text/html": [
       "<pre>recommendations finished on 163000/270892 queries. users per second: 6930.21</pre>"
      ],
      "text/plain": [
       "recommendations finished on 163000/270892 queries. users per second: 6930.21"
      ]
     },
     "metadata": {},
     "output_type": "display_data"
    },
    {
     "data": {
      "text/html": [
       "<pre>recommendations finished on 164000/270892 queries. users per second: 6929.95</pre>"
      ],
      "text/plain": [
       "recommendations finished on 164000/270892 queries. users per second: 6929.95"
      ]
     },
     "metadata": {},
     "output_type": "display_data"
    },
    {
     "data": {
      "text/html": [
       "<pre>recommendations finished on 165000/270892 queries. users per second: 6927.26</pre>"
      ],
      "text/plain": [
       "recommendations finished on 165000/270892 queries. users per second: 6927.26"
      ]
     },
     "metadata": {},
     "output_type": "display_data"
    },
    {
     "data": {
      "text/html": [
       "<pre>recommendations finished on 166000/270892 queries. users per second: 6925.65</pre>"
      ],
      "text/plain": [
       "recommendations finished on 166000/270892 queries. users per second: 6925.65"
      ]
     },
     "metadata": {},
     "output_type": "display_data"
    },
    {
     "data": {
      "text/html": [
       "<pre>recommendations finished on 167000/270892 queries. users per second: 6924.51</pre>"
      ],
      "text/plain": [
       "recommendations finished on 167000/270892 queries. users per second: 6924.51"
      ]
     },
     "metadata": {},
     "output_type": "display_data"
    },
    {
     "data": {
      "text/html": [
       "<pre>recommendations finished on 168000/270892 queries. users per second: 6924.78</pre>"
      ],
      "text/plain": [
       "recommendations finished on 168000/270892 queries. users per second: 6924.78"
      ]
     },
     "metadata": {},
     "output_type": "display_data"
    },
    {
     "data": {
      "text/html": [
       "<pre>recommendations finished on 169000/270892 queries. users per second: 6923.74</pre>"
      ],
      "text/plain": [
       "recommendations finished on 169000/270892 queries. users per second: 6923.74"
      ]
     },
     "metadata": {},
     "output_type": "display_data"
    },
    {
     "data": {
      "text/html": [
       "<pre>recommendations finished on 170000/270892 queries. users per second: 6922.07</pre>"
      ],
      "text/plain": [
       "recommendations finished on 170000/270892 queries. users per second: 6922.07"
      ]
     },
     "metadata": {},
     "output_type": "display_data"
    },
    {
     "data": {
      "text/html": [
       "<pre>recommendations finished on 171000/270892 queries. users per second: 6916.37</pre>"
      ],
      "text/plain": [
       "recommendations finished on 171000/270892 queries. users per second: 6916.37"
      ]
     },
     "metadata": {},
     "output_type": "display_data"
    },
    {
     "data": {
      "text/html": [
       "<pre>recommendations finished on 172000/270892 queries. users per second: 6916.09</pre>"
      ],
      "text/plain": [
       "recommendations finished on 172000/270892 queries. users per second: 6916.09"
      ]
     },
     "metadata": {},
     "output_type": "display_data"
    },
    {
     "data": {
      "text/html": [
       "<pre>recommendations finished on 173000/270892 queries. users per second: 6909.98</pre>"
      ],
      "text/plain": [
       "recommendations finished on 173000/270892 queries. users per second: 6909.98"
      ]
     },
     "metadata": {},
     "output_type": "display_data"
    },
    {
     "data": {
      "text/html": [
       "<pre>recommendations finished on 174000/270892 queries. users per second: 6909</pre>"
      ],
      "text/plain": [
       "recommendations finished on 174000/270892 queries. users per second: 6909"
      ]
     },
     "metadata": {},
     "output_type": "display_data"
    },
    {
     "data": {
      "text/html": [
       "<pre>recommendations finished on 175000/270892 queries. users per second: 6904.83</pre>"
      ],
      "text/plain": [
       "recommendations finished on 175000/270892 queries. users per second: 6904.83"
      ]
     },
     "metadata": {},
     "output_type": "display_data"
    },
    {
     "data": {
      "text/html": [
       "<pre>recommendations finished on 176000/270892 queries. users per second: 6900.33</pre>"
      ],
      "text/plain": [
       "recommendations finished on 176000/270892 queries. users per second: 6900.33"
      ]
     },
     "metadata": {},
     "output_type": "display_data"
    },
    {
     "data": {
      "text/html": [
       "<pre>recommendations finished on 177000/270892 queries. users per second: 6900.47</pre>"
      ],
      "text/plain": [
       "recommendations finished on 177000/270892 queries. users per second: 6900.47"
      ]
     },
     "metadata": {},
     "output_type": "display_data"
    },
    {
     "data": {
      "text/html": [
       "<pre>recommendations finished on 178000/270892 queries. users per second: 6893.62</pre>"
      ],
      "text/plain": [
       "recommendations finished on 178000/270892 queries. users per second: 6893.62"
      ]
     },
     "metadata": {},
     "output_type": "display_data"
    },
    {
     "data": {
      "text/html": [
       "<pre>recommendations finished on 179000/270892 queries. users per second: 6889.73</pre>"
      ],
      "text/plain": [
       "recommendations finished on 179000/270892 queries. users per second: 6889.73"
      ]
     },
     "metadata": {},
     "output_type": "display_data"
    },
    {
     "data": {
      "text/html": [
       "<pre>recommendations finished on 180000/270892 queries. users per second: 6884.1</pre>"
      ],
      "text/plain": [
       "recommendations finished on 180000/270892 queries. users per second: 6884.1"
      ]
     },
     "metadata": {},
     "output_type": "display_data"
    },
    {
     "data": {
      "text/html": [
       "<pre>recommendations finished on 181000/270892 queries. users per second: 6880.27</pre>"
      ],
      "text/plain": [
       "recommendations finished on 181000/270892 queries. users per second: 6880.27"
      ]
     },
     "metadata": {},
     "output_type": "display_data"
    },
    {
     "data": {
      "text/html": [
       "<pre>recommendations finished on 182000/270892 queries. users per second: 6876.74</pre>"
      ],
      "text/plain": [
       "recommendations finished on 182000/270892 queries. users per second: 6876.74"
      ]
     },
     "metadata": {},
     "output_type": "display_data"
    },
    {
     "data": {
      "text/html": [
       "<pre>recommendations finished on 183000/270892 queries. users per second: 6875.62</pre>"
      ],
      "text/plain": [
       "recommendations finished on 183000/270892 queries. users per second: 6875.62"
      ]
     },
     "metadata": {},
     "output_type": "display_data"
    },
    {
     "data": {
      "text/html": [
       "<pre>recommendations finished on 184000/270892 queries. users per second: 6871.1</pre>"
      ],
      "text/plain": [
       "recommendations finished on 184000/270892 queries. users per second: 6871.1"
      ]
     },
     "metadata": {},
     "output_type": "display_data"
    },
    {
     "data": {
      "text/html": [
       "<pre>recommendations finished on 185000/270892 queries. users per second: 6862.81</pre>"
      ],
      "text/plain": [
       "recommendations finished on 185000/270892 queries. users per second: 6862.81"
      ]
     },
     "metadata": {},
     "output_type": "display_data"
    },
    {
     "data": {
      "text/html": [
       "<pre>recommendations finished on 186000/270892 queries. users per second: 6861.35</pre>"
      ],
      "text/plain": [
       "recommendations finished on 186000/270892 queries. users per second: 6861.35"
      ]
     },
     "metadata": {},
     "output_type": "display_data"
    },
    {
     "data": {
      "text/html": [
       "<pre>recommendations finished on 187000/270892 queries. users per second: 6860.81</pre>"
      ],
      "text/plain": [
       "recommendations finished on 187000/270892 queries. users per second: 6860.81"
      ]
     },
     "metadata": {},
     "output_type": "display_data"
    },
    {
     "data": {
      "text/html": [
       "<pre>recommendations finished on 188000/270892 queries. users per second: 6856.23</pre>"
      ],
      "text/plain": [
       "recommendations finished on 188000/270892 queries. users per second: 6856.23"
      ]
     },
     "metadata": {},
     "output_type": "display_data"
    },
    {
     "data": {
      "text/html": [
       "<pre>recommendations finished on 189000/270892 queries. users per second: 6856.85</pre>"
      ],
      "text/plain": [
       "recommendations finished on 189000/270892 queries. users per second: 6856.85"
      ]
     },
     "metadata": {},
     "output_type": "display_data"
    },
    {
     "data": {
      "text/html": [
       "<pre>recommendations finished on 190000/270892 queries. users per second: 6853.84</pre>"
      ],
      "text/plain": [
       "recommendations finished on 190000/270892 queries. users per second: 6853.84"
      ]
     },
     "metadata": {},
     "output_type": "display_data"
    },
    {
     "data": {
      "text/html": [
       "<pre>recommendations finished on 191000/270892 queries. users per second: 6850.49</pre>"
      ],
      "text/plain": [
       "recommendations finished on 191000/270892 queries. users per second: 6850.49"
      ]
     },
     "metadata": {},
     "output_type": "display_data"
    },
    {
     "data": {
      "text/html": [
       "<pre>recommendations finished on 192000/270892 queries. users per second: 6844.22</pre>"
      ],
      "text/plain": [
       "recommendations finished on 192000/270892 queries. users per second: 6844.22"
      ]
     },
     "metadata": {},
     "output_type": "display_data"
    },
    {
     "data": {
      "text/html": [
       "<pre>recommendations finished on 193000/270892 queries. users per second: 6843.79</pre>"
      ],
      "text/plain": [
       "recommendations finished on 193000/270892 queries. users per second: 6843.79"
      ]
     },
     "metadata": {},
     "output_type": "display_data"
    },
    {
     "data": {
      "text/html": [
       "<pre>recommendations finished on 194000/270892 queries. users per second: 6843.41</pre>"
      ],
      "text/plain": [
       "recommendations finished on 194000/270892 queries. users per second: 6843.41"
      ]
     },
     "metadata": {},
     "output_type": "display_data"
    },
    {
     "data": {
      "text/html": [
       "<pre>recommendations finished on 195000/270892 queries. users per second: 6838.6</pre>"
      ],
      "text/plain": [
       "recommendations finished on 195000/270892 queries. users per second: 6838.6"
      ]
     },
     "metadata": {},
     "output_type": "display_data"
    },
    {
     "data": {
      "text/html": [
       "<pre>recommendations finished on 196000/270892 queries. users per second: 6836.99</pre>"
      ],
      "text/plain": [
       "recommendations finished on 196000/270892 queries. users per second: 6836.99"
      ]
     },
     "metadata": {},
     "output_type": "display_data"
    },
    {
     "data": {
      "text/html": [
       "<pre>recommendations finished on 197000/270892 queries. users per second: 6831.92</pre>"
      ],
      "text/plain": [
       "recommendations finished on 197000/270892 queries. users per second: 6831.92"
      ]
     },
     "metadata": {},
     "output_type": "display_data"
    },
    {
     "data": {
      "text/html": [
       "<pre>recommendations finished on 198000/270892 queries. users per second: 6821.47</pre>"
      ],
      "text/plain": [
       "recommendations finished on 198000/270892 queries. users per second: 6821.47"
      ]
     },
     "metadata": {},
     "output_type": "display_data"
    },
    {
     "data": {
      "text/html": [
       "<pre>recommendations finished on 199000/270892 queries. users per second: 6819.47</pre>"
      ],
      "text/plain": [
       "recommendations finished on 199000/270892 queries. users per second: 6819.47"
      ]
     },
     "metadata": {},
     "output_type": "display_data"
    },
    {
     "data": {
      "text/html": [
       "<pre>recommendations finished on 200000/270892 queries. users per second: 6820.71</pre>"
      ],
      "text/plain": [
       "recommendations finished on 200000/270892 queries. users per second: 6820.71"
      ]
     },
     "metadata": {},
     "output_type": "display_data"
    },
    {
     "data": {
      "text/html": [
       "<pre>recommendations finished on 201000/270892 queries. users per second: 6815.82</pre>"
      ],
      "text/plain": [
       "recommendations finished on 201000/270892 queries. users per second: 6815.82"
      ]
     },
     "metadata": {},
     "output_type": "display_data"
    },
    {
     "data": {
      "text/html": [
       "<pre>recommendations finished on 202000/270892 queries. users per second: 6813.97</pre>"
      ],
      "text/plain": [
       "recommendations finished on 202000/270892 queries. users per second: 6813.97"
      ]
     },
     "metadata": {},
     "output_type": "display_data"
    },
    {
     "data": {
      "text/html": [
       "<pre>recommendations finished on 203000/270892 queries. users per second: 6809.3</pre>"
      ],
      "text/plain": [
       "recommendations finished on 203000/270892 queries. users per second: 6809.3"
      ]
     },
     "metadata": {},
     "output_type": "display_data"
    },
    {
     "data": {
      "text/html": [
       "<pre>recommendations finished on 204000/270892 queries. users per second: 6807.01</pre>"
      ],
      "text/plain": [
       "recommendations finished on 204000/270892 queries. users per second: 6807.01"
      ]
     },
     "metadata": {},
     "output_type": "display_data"
    },
    {
     "data": {
      "text/html": [
       "<pre>recommendations finished on 205000/270892 queries. users per second: 6806.23</pre>"
      ],
      "text/plain": [
       "recommendations finished on 205000/270892 queries. users per second: 6806.23"
      ]
     },
     "metadata": {},
     "output_type": "display_data"
    },
    {
     "data": {
      "text/html": [
       "<pre>recommendations finished on 206000/270892 queries. users per second: 6805.32</pre>"
      ],
      "text/plain": [
       "recommendations finished on 206000/270892 queries. users per second: 6805.32"
      ]
     },
     "metadata": {},
     "output_type": "display_data"
    },
    {
     "data": {
      "text/html": [
       "<pre>recommendations finished on 207000/270892 queries. users per second: 6799.88</pre>"
      ],
      "text/plain": [
       "recommendations finished on 207000/270892 queries. users per second: 6799.88"
      ]
     },
     "metadata": {},
     "output_type": "display_data"
    },
    {
     "data": {
      "text/html": [
       "<pre>recommendations finished on 208000/270892 queries. users per second: 6799.48</pre>"
      ],
      "text/plain": [
       "recommendations finished on 208000/270892 queries. users per second: 6799.48"
      ]
     },
     "metadata": {},
     "output_type": "display_data"
    },
    {
     "data": {
      "text/html": [
       "<pre>recommendations finished on 209000/270892 queries. users per second: 6799.55</pre>"
      ],
      "text/plain": [
       "recommendations finished on 209000/270892 queries. users per second: 6799.55"
      ]
     },
     "metadata": {},
     "output_type": "display_data"
    },
    {
     "data": {
      "text/html": [
       "<pre>recommendations finished on 210000/270892 queries. users per second: 6795.29</pre>"
      ],
      "text/plain": [
       "recommendations finished on 210000/270892 queries. users per second: 6795.29"
      ]
     },
     "metadata": {},
     "output_type": "display_data"
    },
    {
     "data": {
      "text/html": [
       "<pre>recommendations finished on 211000/270892 queries. users per second: 6793.56</pre>"
      ],
      "text/plain": [
       "recommendations finished on 211000/270892 queries. users per second: 6793.56"
      ]
     },
     "metadata": {},
     "output_type": "display_data"
    },
    {
     "data": {
      "text/html": [
       "<pre>recommendations finished on 212000/270892 queries. users per second: 6790.45</pre>"
      ],
      "text/plain": [
       "recommendations finished on 212000/270892 queries. users per second: 6790.45"
      ]
     },
     "metadata": {},
     "output_type": "display_data"
    },
    {
     "data": {
      "text/html": [
       "<pre>recommendations finished on 213000/270892 queries. users per second: 6789.07</pre>"
      ],
      "text/plain": [
       "recommendations finished on 213000/270892 queries. users per second: 6789.07"
      ]
     },
     "metadata": {},
     "output_type": "display_data"
    },
    {
     "data": {
      "text/html": [
       "<pre>recommendations finished on 214000/270892 queries. users per second: 6783.36</pre>"
      ],
      "text/plain": [
       "recommendations finished on 214000/270892 queries. users per second: 6783.36"
      ]
     },
     "metadata": {},
     "output_type": "display_data"
    },
    {
     "data": {
      "text/html": [
       "<pre>recommendations finished on 215000/270892 queries. users per second: 6782.97</pre>"
      ],
      "text/plain": [
       "recommendations finished on 215000/270892 queries. users per second: 6782.97"
      ]
     },
     "metadata": {},
     "output_type": "display_data"
    },
    {
     "data": {
      "text/html": [
       "<pre>recommendations finished on 216000/270892 queries. users per second: 6781.31</pre>"
      ],
      "text/plain": [
       "recommendations finished on 216000/270892 queries. users per second: 6781.31"
      ]
     },
     "metadata": {},
     "output_type": "display_data"
    },
    {
     "data": {
      "text/html": [
       "<pre>recommendations finished on 217000/270892 queries. users per second: 6778.86</pre>"
      ],
      "text/plain": [
       "recommendations finished on 217000/270892 queries. users per second: 6778.86"
      ]
     },
     "metadata": {},
     "output_type": "display_data"
    },
    {
     "data": {
      "text/html": [
       "<pre>recommendations finished on 218000/270892 queries. users per second: 6775.19</pre>"
      ],
      "text/plain": [
       "recommendations finished on 218000/270892 queries. users per second: 6775.19"
      ]
     },
     "metadata": {},
     "output_type": "display_data"
    },
    {
     "data": {
      "text/html": [
       "<pre>recommendations finished on 219000/270892 queries. users per second: 6773.31</pre>"
      ],
      "text/plain": [
       "recommendations finished on 219000/270892 queries. users per second: 6773.31"
      ]
     },
     "metadata": {},
     "output_type": "display_data"
    },
    {
     "data": {
      "text/html": [
       "<pre>recommendations finished on 220000/270892 queries. users per second: 6764.62</pre>"
      ],
      "text/plain": [
       "recommendations finished on 220000/270892 queries. users per second: 6764.62"
      ]
     },
     "metadata": {},
     "output_type": "display_data"
    },
    {
     "data": {
      "text/html": [
       "<pre>recommendations finished on 221000/270892 queries. users per second: 6763.65</pre>"
      ],
      "text/plain": [
       "recommendations finished on 221000/270892 queries. users per second: 6763.65"
      ]
     },
     "metadata": {},
     "output_type": "display_data"
    },
    {
     "data": {
      "text/html": [
       "<pre>recommendations finished on 222000/270892 queries. users per second: 6759.17</pre>"
      ],
      "text/plain": [
       "recommendations finished on 222000/270892 queries. users per second: 6759.17"
      ]
     },
     "metadata": {},
     "output_type": "display_data"
    },
    {
     "data": {
      "text/html": [
       "<pre>recommendations finished on 223000/270892 queries. users per second: 6757.97</pre>"
      ],
      "text/plain": [
       "recommendations finished on 223000/270892 queries. users per second: 6757.97"
      ]
     },
     "metadata": {},
     "output_type": "display_data"
    },
    {
     "data": {
      "text/html": [
       "<pre>recommendations finished on 224000/270892 queries. users per second: 6752.45</pre>"
      ],
      "text/plain": [
       "recommendations finished on 224000/270892 queries. users per second: 6752.45"
      ]
     },
     "metadata": {},
     "output_type": "display_data"
    },
    {
     "data": {
      "text/html": [
       "<pre>recommendations finished on 225000/270892 queries. users per second: 6748.3</pre>"
      ],
      "text/plain": [
       "recommendations finished on 225000/270892 queries. users per second: 6748.3"
      ]
     },
     "metadata": {},
     "output_type": "display_data"
    },
    {
     "data": {
      "text/html": [
       "<pre>recommendations finished on 226000/270892 queries. users per second: 6741.37</pre>"
      ],
      "text/plain": [
       "recommendations finished on 226000/270892 queries. users per second: 6741.37"
      ]
     },
     "metadata": {},
     "output_type": "display_data"
    },
    {
     "data": {
      "text/html": [
       "<pre>recommendations finished on 227000/270892 queries. users per second: 6740.52</pre>"
      ],
      "text/plain": [
       "recommendations finished on 227000/270892 queries. users per second: 6740.52"
      ]
     },
     "metadata": {},
     "output_type": "display_data"
    },
    {
     "data": {
      "text/html": [
       "<pre>recommendations finished on 228000/270892 queries. users per second: 6739.27</pre>"
      ],
      "text/plain": [
       "recommendations finished on 228000/270892 queries. users per second: 6739.27"
      ]
     },
     "metadata": {},
     "output_type": "display_data"
    },
    {
     "data": {
      "text/html": [
       "<pre>recommendations finished on 229000/270892 queries. users per second: 6735.28</pre>"
      ],
      "text/plain": [
       "recommendations finished on 229000/270892 queries. users per second: 6735.28"
      ]
     },
     "metadata": {},
     "output_type": "display_data"
    },
    {
     "data": {
      "text/html": [
       "<pre>recommendations finished on 230000/270892 queries. users per second: 6730.85</pre>"
      ],
      "text/plain": [
       "recommendations finished on 230000/270892 queries. users per second: 6730.85"
      ]
     },
     "metadata": {},
     "output_type": "display_data"
    },
    {
     "data": {
      "text/html": [
       "<pre>recommendations finished on 231000/270892 queries. users per second: 6730.27</pre>"
      ],
      "text/plain": [
       "recommendations finished on 231000/270892 queries. users per second: 6730.27"
      ]
     },
     "metadata": {},
     "output_type": "display_data"
    },
    {
     "data": {
      "text/html": [
       "<pre>recommendations finished on 232000/270892 queries. users per second: 6727.03</pre>"
      ],
      "text/plain": [
       "recommendations finished on 232000/270892 queries. users per second: 6727.03"
      ]
     },
     "metadata": {},
     "output_type": "display_data"
    },
    {
     "data": {
      "text/html": [
       "<pre>recommendations finished on 233000/270892 queries. users per second: 6724.35</pre>"
      ],
      "text/plain": [
       "recommendations finished on 233000/270892 queries. users per second: 6724.35"
      ]
     },
     "metadata": {},
     "output_type": "display_data"
    },
    {
     "data": {
      "text/html": [
       "<pre>recommendations finished on 234000/270892 queries. users per second: 6723.51</pre>"
      ],
      "text/plain": [
       "recommendations finished on 234000/270892 queries. users per second: 6723.51"
      ]
     },
     "metadata": {},
     "output_type": "display_data"
    },
    {
     "data": {
      "text/html": [
       "<pre>recommendations finished on 235000/270892 queries. users per second: 6722.54</pre>"
      ],
      "text/plain": [
       "recommendations finished on 235000/270892 queries. users per second: 6722.54"
      ]
     },
     "metadata": {},
     "output_type": "display_data"
    },
    {
     "data": {
      "text/html": [
       "<pre>recommendations finished on 236000/270892 queries. users per second: 6720.32</pre>"
      ],
      "text/plain": [
       "recommendations finished on 236000/270892 queries. users per second: 6720.32"
      ]
     },
     "metadata": {},
     "output_type": "display_data"
    },
    {
     "data": {
      "text/html": [
       "<pre>recommendations finished on 237000/270892 queries. users per second: 6720.07</pre>"
      ],
      "text/plain": [
       "recommendations finished on 237000/270892 queries. users per second: 6720.07"
      ]
     },
     "metadata": {},
     "output_type": "display_data"
    },
    {
     "data": {
      "text/html": [
       "<pre>recommendations finished on 238000/270892 queries. users per second: 6720.08</pre>"
      ],
      "text/plain": [
       "recommendations finished on 238000/270892 queries. users per second: 6720.08"
      ]
     },
     "metadata": {},
     "output_type": "display_data"
    },
    {
     "data": {
      "text/html": [
       "<pre>recommendations finished on 239000/270892 queries. users per second: 6713.91</pre>"
      ],
      "text/plain": [
       "recommendations finished on 239000/270892 queries. users per second: 6713.91"
      ]
     },
     "metadata": {},
     "output_type": "display_data"
    },
    {
     "data": {
      "text/html": [
       "<pre>recommendations finished on 240000/270892 queries. users per second: 6714.75</pre>"
      ],
      "text/plain": [
       "recommendations finished on 240000/270892 queries. users per second: 6714.75"
      ]
     },
     "metadata": {},
     "output_type": "display_data"
    },
    {
     "data": {
      "text/html": [
       "<pre>recommendations finished on 241000/270892 queries. users per second: 6713.6</pre>"
      ],
      "text/plain": [
       "recommendations finished on 241000/270892 queries. users per second: 6713.6"
      ]
     },
     "metadata": {},
     "output_type": "display_data"
    },
    {
     "data": {
      "text/html": [
       "<pre>recommendations finished on 242000/270892 queries. users per second: 6714.05</pre>"
      ],
      "text/plain": [
       "recommendations finished on 242000/270892 queries. users per second: 6714.05"
      ]
     },
     "metadata": {},
     "output_type": "display_data"
    },
    {
     "data": {
      "text/html": [
       "<pre>recommendations finished on 243000/270892 queries. users per second: 6707.69</pre>"
      ],
      "text/plain": [
       "recommendations finished on 243000/270892 queries. users per second: 6707.69"
      ]
     },
     "metadata": {},
     "output_type": "display_data"
    },
    {
     "data": {
      "text/html": [
       "<pre>recommendations finished on 244000/270892 queries. users per second: 6701.4</pre>"
      ],
      "text/plain": [
       "recommendations finished on 244000/270892 queries. users per second: 6701.4"
      ]
     },
     "metadata": {},
     "output_type": "display_data"
    },
    {
     "data": {
      "text/html": [
       "<pre>recommendations finished on 245000/270892 queries. users per second: 6702.6</pre>"
      ],
      "text/plain": [
       "recommendations finished on 245000/270892 queries. users per second: 6702.6"
      ]
     },
     "metadata": {},
     "output_type": "display_data"
    },
    {
     "data": {
      "text/html": [
       "<pre>recommendations finished on 246000/270892 queries. users per second: 6703.55</pre>"
      ],
      "text/plain": [
       "recommendations finished on 246000/270892 queries. users per second: 6703.55"
      ]
     },
     "metadata": {},
     "output_type": "display_data"
    },
    {
     "data": {
      "text/html": [
       "<pre>recommendations finished on 247000/270892 queries. users per second: 6705.34</pre>"
      ],
      "text/plain": [
       "recommendations finished on 247000/270892 queries. users per second: 6705.34"
      ]
     },
     "metadata": {},
     "output_type": "display_data"
    },
    {
     "data": {
      "text/html": [
       "<pre>recommendations finished on 248000/270892 queries. users per second: 6704.25</pre>"
      ],
      "text/plain": [
       "recommendations finished on 248000/270892 queries. users per second: 6704.25"
      ]
     },
     "metadata": {},
     "output_type": "display_data"
    },
    {
     "data": {
      "text/html": [
       "<pre>recommendations finished on 249000/270892 queries. users per second: 6700.35</pre>"
      ],
      "text/plain": [
       "recommendations finished on 249000/270892 queries. users per second: 6700.35"
      ]
     },
     "metadata": {},
     "output_type": "display_data"
    },
    {
     "data": {
      "text/html": [
       "<pre>recommendations finished on 250000/270892 queries. users per second: 6699.82</pre>"
      ],
      "text/plain": [
       "recommendations finished on 250000/270892 queries. users per second: 6699.82"
      ]
     },
     "metadata": {},
     "output_type": "display_data"
    },
    {
     "data": {
      "text/html": [
       "<pre>recommendations finished on 251000/270892 queries. users per second: 6691.69</pre>"
      ],
      "text/plain": [
       "recommendations finished on 251000/270892 queries. users per second: 6691.69"
      ]
     },
     "metadata": {},
     "output_type": "display_data"
    },
    {
     "data": {
      "text/html": [
       "<pre>recommendations finished on 252000/270892 queries. users per second: 6690.18</pre>"
      ],
      "text/plain": [
       "recommendations finished on 252000/270892 queries. users per second: 6690.18"
      ]
     },
     "metadata": {},
     "output_type": "display_data"
    },
    {
     "data": {
      "text/html": [
       "<pre>recommendations finished on 253000/270892 queries. users per second: 6689.85</pre>"
      ],
      "text/plain": [
       "recommendations finished on 253000/270892 queries. users per second: 6689.85"
      ]
     },
     "metadata": {},
     "output_type": "display_data"
    },
    {
     "data": {
      "text/html": [
       "<pre>recommendations finished on 254000/270892 queries. users per second: 6689.43</pre>"
      ],
      "text/plain": [
       "recommendations finished on 254000/270892 queries. users per second: 6689.43"
      ]
     },
     "metadata": {},
     "output_type": "display_data"
    },
    {
     "data": {
      "text/html": [
       "<pre>recommendations finished on 255000/270892 queries. users per second: 6688.93</pre>"
      ],
      "text/plain": [
       "recommendations finished on 255000/270892 queries. users per second: 6688.93"
      ]
     },
     "metadata": {},
     "output_type": "display_data"
    },
    {
     "data": {
      "text/html": [
       "<pre>recommendations finished on 256000/270892 queries. users per second: 6689.07</pre>"
      ],
      "text/plain": [
       "recommendations finished on 256000/270892 queries. users per second: 6689.07"
      ]
     },
     "metadata": {},
     "output_type": "display_data"
    },
    {
     "data": {
      "text/html": [
       "<pre>recommendations finished on 257000/270892 queries. users per second: 6686.78</pre>"
      ],
      "text/plain": [
       "recommendations finished on 257000/270892 queries. users per second: 6686.78"
      ]
     },
     "metadata": {},
     "output_type": "display_data"
    },
    {
     "data": {
      "text/html": [
       "<pre>recommendations finished on 258000/270892 queries. users per second: 6685.35</pre>"
      ],
      "text/plain": [
       "recommendations finished on 258000/270892 queries. users per second: 6685.35"
      ]
     },
     "metadata": {},
     "output_type": "display_data"
    },
    {
     "data": {
      "text/html": [
       "<pre>recommendations finished on 259000/270892 queries. users per second: 6685.35</pre>"
      ],
      "text/plain": [
       "recommendations finished on 259000/270892 queries. users per second: 6685.35"
      ]
     },
     "metadata": {},
     "output_type": "display_data"
    },
    {
     "data": {
      "text/html": [
       "<pre>recommendations finished on 260000/270892 queries. users per second: 6684.13</pre>"
      ],
      "text/plain": [
       "recommendations finished on 260000/270892 queries. users per second: 6684.13"
      ]
     },
     "metadata": {},
     "output_type": "display_data"
    },
    {
     "data": {
      "text/html": [
       "<pre>recommendations finished on 261000/270892 queries. users per second: 6683.5</pre>"
      ],
      "text/plain": [
       "recommendations finished on 261000/270892 queries. users per second: 6683.5"
      ]
     },
     "metadata": {},
     "output_type": "display_data"
    },
    {
     "data": {
      "text/html": [
       "<pre>recommendations finished on 262000/270892 queries. users per second: 6681.78</pre>"
      ],
      "text/plain": [
       "recommendations finished on 262000/270892 queries. users per second: 6681.78"
      ]
     },
     "metadata": {},
     "output_type": "display_data"
    },
    {
     "data": {
      "text/html": [
       "<pre>recommendations finished on 263000/270892 queries. users per second: 6681.13</pre>"
      ],
      "text/plain": [
       "recommendations finished on 263000/270892 queries. users per second: 6681.13"
      ]
     },
     "metadata": {},
     "output_type": "display_data"
    },
    {
     "data": {
      "text/html": [
       "<pre>recommendations finished on 264000/270892 queries. users per second: 6678.97</pre>"
      ],
      "text/plain": [
       "recommendations finished on 264000/270892 queries. users per second: 6678.97"
      ]
     },
     "metadata": {},
     "output_type": "display_data"
    },
    {
     "data": {
      "text/html": [
       "<pre>recommendations finished on 265000/270892 queries. users per second: 6678.33</pre>"
      ],
      "text/plain": [
       "recommendations finished on 265000/270892 queries. users per second: 6678.33"
      ]
     },
     "metadata": {},
     "output_type": "display_data"
    },
    {
     "data": {
      "text/html": [
       "<pre>recommendations finished on 266000/270892 queries. users per second: 6677.33</pre>"
      ],
      "text/plain": [
       "recommendations finished on 266000/270892 queries. users per second: 6677.33"
      ]
     },
     "metadata": {},
     "output_type": "display_data"
    },
    {
     "data": {
      "text/html": [
       "<pre>recommendations finished on 267000/270892 queries. users per second: 6674.41</pre>"
      ],
      "text/plain": [
       "recommendations finished on 267000/270892 queries. users per second: 6674.41"
      ]
     },
     "metadata": {},
     "output_type": "display_data"
    },
    {
     "data": {
      "text/html": [
       "<pre>recommendations finished on 268000/270892 queries. users per second: 6670.22</pre>"
      ],
      "text/plain": [
       "recommendations finished on 268000/270892 queries. users per second: 6670.22"
      ]
     },
     "metadata": {},
     "output_type": "display_data"
    },
    {
     "data": {
      "text/html": [
       "<pre>recommendations finished on 269000/270892 queries. users per second: 6671.63</pre>"
      ],
      "text/plain": [
       "recommendations finished on 269000/270892 queries. users per second: 6671.63"
      ]
     },
     "metadata": {},
     "output_type": "display_data"
    },
    {
     "data": {
      "text/html": [
       "<pre>recommendations finished on 270000/270892 queries. users per second: 6669.21</pre>"
      ],
      "text/plain": [
       "recommendations finished on 270000/270892 queries. users per second: 6669.21"
      ]
     },
     "metadata": {},
     "output_type": "display_data"
    }
   ],
   "source": [
    "results = model.recommend()"
   ]
  },
  {
   "cell_type": "code",
   "execution_count": 38,
   "metadata": {
    "ExecuteTime": {
     "end_time": "2020-08-02T18:44:57.308460Z",
     "start_time": "2020-08-02T18:44:57.286954Z"
    }
   },
   "outputs": [
    {
     "data": {
      "text/html": [
       "<div style=\"max-height:1000px;max-width:1500px;overflow:auto;\"><table frame=\"box\" rules=\"cols\">\n",
       "    <tr>\n",
       "        <th style=\"padding-left: 1em; padding-right: 1em; text-align: center\">userId</th>\n",
       "        <th style=\"padding-left: 1em; padding-right: 1em; text-align: center\">movieId</th>\n",
       "        <th style=\"padding-left: 1em; padding-right: 1em; text-align: center\">rating</th>\n",
       "        <th style=\"padding-left: 1em; padding-right: 1em; text-align: center\">timestamp</th>\n",
       "    </tr>\n",
       "    <tr>\n",
       "        <td style=\"padding-left: 1em; padding-right: 1em; text-align: center; vertical-align: top\">1</td>\n",
       "        <td style=\"padding-left: 1em; padding-right: 1em; text-align: center; vertical-align: top\">110</td>\n",
       "        <td style=\"padding-left: 1em; padding-right: 1em; text-align: center; vertical-align: top\">1.0</td>\n",
       "        <td style=\"padding-left: 1em; padding-right: 1em; text-align: center; vertical-align: top\">1425941529</td>\n",
       "    </tr>\n",
       "    <tr>\n",
       "        <td style=\"padding-left: 1em; padding-right: 1em; text-align: center; vertical-align: top\">1</td>\n",
       "        <td style=\"padding-left: 1em; padding-right: 1em; text-align: center; vertical-align: top\">147</td>\n",
       "        <td style=\"padding-left: 1em; padding-right: 1em; text-align: center; vertical-align: top\">4.5</td>\n",
       "        <td style=\"padding-left: 1em; padding-right: 1em; text-align: center; vertical-align: top\">1425942435</td>\n",
       "    </tr>\n",
       "    <tr>\n",
       "        <td style=\"padding-left: 1em; padding-right: 1em; text-align: center; vertical-align: top\">1</td>\n",
       "        <td style=\"padding-left: 1em; padding-right: 1em; text-align: center; vertical-align: top\">858</td>\n",
       "        <td style=\"padding-left: 1em; padding-right: 1em; text-align: center; vertical-align: top\">5.0</td>\n",
       "        <td style=\"padding-left: 1em; padding-right: 1em; text-align: center; vertical-align: top\">1425941523</td>\n",
       "    </tr>\n",
       "    <tr>\n",
       "        <td style=\"padding-left: 1em; padding-right: 1em; text-align: center; vertical-align: top\">1</td>\n",
       "        <td style=\"padding-left: 1em; padding-right: 1em; text-align: center; vertical-align: top\">1221</td>\n",
       "        <td style=\"padding-left: 1em; padding-right: 1em; text-align: center; vertical-align: top\">5.0</td>\n",
       "        <td style=\"padding-left: 1em; padding-right: 1em; text-align: center; vertical-align: top\">1425941546</td>\n",
       "    </tr>\n",
       "    <tr>\n",
       "        <td style=\"padding-left: 1em; padding-right: 1em; text-align: center; vertical-align: top\">1</td>\n",
       "        <td style=\"padding-left: 1em; padding-right: 1em; text-align: center; vertical-align: top\">1246</td>\n",
       "        <td style=\"padding-left: 1em; padding-right: 1em; text-align: center; vertical-align: top\">5.0</td>\n",
       "        <td style=\"padding-left: 1em; padding-right: 1em; text-align: center; vertical-align: top\">1425941556</td>\n",
       "    </tr>\n",
       "    <tr>\n",
       "        <td style=\"padding-left: 1em; padding-right: 1em; text-align: center; vertical-align: top\">1</td>\n",
       "        <td style=\"padding-left: 1em; padding-right: 1em; text-align: center; vertical-align: top\">1968</td>\n",
       "        <td style=\"padding-left: 1em; padding-right: 1em; text-align: center; vertical-align: top\">4.0</td>\n",
       "        <td style=\"padding-left: 1em; padding-right: 1em; text-align: center; vertical-align: top\">1425942148</td>\n",
       "    </tr>\n",
       "    <tr>\n",
       "        <td style=\"padding-left: 1em; padding-right: 1em; text-align: center; vertical-align: top\">1</td>\n",
       "        <td style=\"padding-left: 1em; padding-right: 1em; text-align: center; vertical-align: top\">2762</td>\n",
       "        <td style=\"padding-left: 1em; padding-right: 1em; text-align: center; vertical-align: top\">4.5</td>\n",
       "        <td style=\"padding-left: 1em; padding-right: 1em; text-align: center; vertical-align: top\">1425941300</td>\n",
       "    </tr>\n",
       "    <tr>\n",
       "        <td style=\"padding-left: 1em; padding-right: 1em; text-align: center; vertical-align: top\">1</td>\n",
       "        <td style=\"padding-left: 1em; padding-right: 1em; text-align: center; vertical-align: top\">2918</td>\n",
       "        <td style=\"padding-left: 1em; padding-right: 1em; text-align: center; vertical-align: top\">5.0</td>\n",
       "        <td style=\"padding-left: 1em; padding-right: 1em; text-align: center; vertical-align: top\">1425941593</td>\n",
       "    </tr>\n",
       "    <tr>\n",
       "        <td style=\"padding-left: 1em; padding-right: 1em; text-align: center; vertical-align: top\">1</td>\n",
       "        <td style=\"padding-left: 1em; padding-right: 1em; text-align: center; vertical-align: top\">2959</td>\n",
       "        <td style=\"padding-left: 1em; padding-right: 1em; text-align: center; vertical-align: top\">4.0</td>\n",
       "        <td style=\"padding-left: 1em; padding-right: 1em; text-align: center; vertical-align: top\">1425941601</td>\n",
       "    </tr>\n",
       "    <tr>\n",
       "        <td style=\"padding-left: 1em; padding-right: 1em; text-align: center; vertical-align: top\">1</td>\n",
       "        <td style=\"padding-left: 1em; padding-right: 1em; text-align: center; vertical-align: top\">4226</td>\n",
       "        <td style=\"padding-left: 1em; padding-right: 1em; text-align: center; vertical-align: top\">4.0</td>\n",
       "        <td style=\"padding-left: 1em; padding-right: 1em; text-align: center; vertical-align: top\">1425942228</td>\n",
       "    </tr>\n",
       "</table>\n",
       "[26024289 rows x 4 columns]<br/>Note: Only the head of the SFrame is printed.<br/>You can use print_rows(num_rows=m, num_columns=n) to print more rows and columns.\n",
       "</div>"
      ],
      "text/plain": [
       "Columns:\n",
       "\tuserId\tint\n",
       "\tmovieId\tint\n",
       "\trating\tfloat\n",
       "\ttimestamp\tint\n",
       "\n",
       "Rows: 26024289\n",
       "\n",
       "Data:\n",
       "+--------+---------+--------+------------+\n",
       "| userId | movieId | rating | timestamp  |\n",
       "+--------+---------+--------+------------+\n",
       "|   1    |   110   |  1.0   | 1425941529 |\n",
       "|   1    |   147   |  4.5   | 1425942435 |\n",
       "|   1    |   858   |  5.0   | 1425941523 |\n",
       "|   1    |   1221  |  5.0   | 1425941546 |\n",
       "|   1    |   1246  |  5.0   | 1425941556 |\n",
       "|   1    |   1968  |  4.0   | 1425942148 |\n",
       "|   1    |   2762  |  4.5   | 1425941300 |\n",
       "|   1    |   2918  |  5.0   | 1425941593 |\n",
       "|   1    |   2959  |  4.0   | 1425941601 |\n",
       "|   1    |   4226  |  4.0   | 1425942228 |\n",
       "+--------+---------+--------+------------+\n",
       "[26024289 rows x 4 columns]\n",
       "Note: Only the head of the SFrame is printed.\n",
       "You can use print_rows(num_rows=m, num_columns=n) to print more rows and columns."
      ]
     },
     "execution_count": 38,
     "metadata": {},
     "output_type": "execute_result"
    }
   ],
   "source": [
    "actions"
   ]
  },
  {
   "cell_type": "code",
   "execution_count": 40,
   "metadata": {
    "ExecuteTime": {
     "end_time": "2020-08-02T18:45:23.133968Z",
     "start_time": "2020-08-02T18:45:23.106327Z"
    }
   },
   "outputs": [],
   "source": [
    "recommendations = model.recommend(users=['1'])"
   ]
  },
  {
   "cell_type": "code",
   "execution_count": 41,
   "metadata": {
    "ExecuteTime": {
     "end_time": "2020-08-02T18:45:26.698480Z",
     "start_time": "2020-08-02T18:45:26.677808Z"
    }
   },
   "outputs": [
    {
     "data": {
      "text/html": [
       "<div style=\"max-height:1000px;max-width:1500px;overflow:auto;\"><table frame=\"box\" rules=\"cols\">\n",
       "    <tr>\n",
       "        <th style=\"padding-left: 1em; padding-right: 1em; text-align: center\">userId</th>\n",
       "        <th style=\"padding-left: 1em; padding-right: 1em; text-align: center\">movieId</th>\n",
       "        <th style=\"padding-left: 1em; padding-right: 1em; text-align: center\">score</th>\n",
       "        <th style=\"padding-left: 1em; padding-right: 1em; text-align: center\">rank</th>\n",
       "    </tr>\n",
       "    <tr>\n",
       "        <td style=\"padding-left: 1em; padding-right: 1em; text-align: center; vertical-align: top\">1</td>\n",
       "        <td style=\"padding-left: 1em; padding-right: 1em; text-align: center; vertical-align: top\">91529</td>\n",
       "        <td style=\"padding-left: 1em; padding-right: 1em; text-align: center; vertical-align: top\">0.12275598446528117</td>\n",
       "        <td style=\"padding-left: 1em; padding-right: 1em; text-align: center; vertical-align: top\">1</td>\n",
       "    </tr>\n",
       "    <tr>\n",
       "        <td style=\"padding-left: 1em; padding-right: 1em; text-align: center; vertical-align: top\">1</td>\n",
       "        <td style=\"padding-left: 1em; padding-right: 1em; text-align: center; vertical-align: top\">89745</td>\n",
       "        <td style=\"padding-left: 1em; padding-right: 1em; text-align: center; vertical-align: top\">0.12094965466746578</td>\n",
       "        <td style=\"padding-left: 1em; padding-right: 1em; text-align: center; vertical-align: top\">2</td>\n",
       "    </tr>\n",
       "    <tr>\n",
       "        <td style=\"padding-left: 1em; padding-right: 1em; text-align: center; vertical-align: top\">1</td>\n",
       "        <td style=\"padding-left: 1em; padding-right: 1em; text-align: center; vertical-align: top\">1196</td>\n",
       "        <td style=\"padding-left: 1em; padding-right: 1em; text-align: center; vertical-align: top\">0.11922698771512066</td>\n",
       "        <td style=\"padding-left: 1em; padding-right: 1em; text-align: center; vertical-align: top\">3</td>\n",
       "    </tr>\n",
       "    <tr>\n",
       "        <td style=\"padding-left: 1em; padding-right: 1em; text-align: center; vertical-align: top\">1</td>\n",
       "        <td style=\"padding-left: 1em; padding-right: 1em; text-align: center; vertical-align: top\">79132</td>\n",
       "        <td style=\"padding-left: 1em; padding-right: 1em; text-align: center; vertical-align: top\">0.11615575905199405</td>\n",
       "        <td style=\"padding-left: 1em; padding-right: 1em; text-align: center; vertical-align: top\">4</td>\n",
       "    </tr>\n",
       "    <tr>\n",
       "        <td style=\"padding-left: 1em; padding-right: 1em; text-align: center; vertical-align: top\">1</td>\n",
       "        <td style=\"padding-left: 1em; padding-right: 1em; text-align: center; vertical-align: top\">2571</td>\n",
       "        <td style=\"padding-left: 1em; padding-right: 1em; text-align: center; vertical-align: top\">0.11526993027439823</td>\n",
       "        <td style=\"padding-left: 1em; padding-right: 1em; text-align: center; vertical-align: top\">5</td>\n",
       "    </tr>\n",
       "    <tr>\n",
       "        <td style=\"padding-left: 1em; padding-right: 1em; text-align: center; vertical-align: top\">1</td>\n",
       "        <td style=\"padding-left: 1em; padding-right: 1em; text-align: center; vertical-align: top\">70286</td>\n",
       "        <td style=\"padding-left: 1em; padding-right: 1em; text-align: center; vertical-align: top\">0.11435214899204395</td>\n",
       "        <td style=\"padding-left: 1em; padding-right: 1em; text-align: center; vertical-align: top\">6</td>\n",
       "    </tr>\n",
       "    <tr>\n",
       "        <td style=\"padding-left: 1em; padding-right: 1em; text-align: center; vertical-align: top\">1</td>\n",
       "        <td style=\"padding-left: 1em; padding-right: 1em; text-align: center; vertical-align: top\">4993</td>\n",
       "        <td style=\"padding-left: 1em; padding-right: 1em; text-align: center; vertical-align: top\">0.11362289057837592</td>\n",
       "        <td style=\"padding-left: 1em; padding-right: 1em; text-align: center; vertical-align: top\">7</td>\n",
       "    </tr>\n",
       "    <tr>\n",
       "        <td style=\"padding-left: 1em; padding-right: 1em; text-align: center; vertical-align: top\">1</td>\n",
       "        <td style=\"padding-left: 1em; padding-right: 1em; text-align: center; vertical-align: top\">5952</td>\n",
       "        <td style=\"padding-left: 1em; padding-right: 1em; text-align: center; vertical-align: top\">0.10956451848701194</td>\n",
       "        <td style=\"padding-left: 1em; padding-right: 1em; text-align: center; vertical-align: top\">8</td>\n",
       "    </tr>\n",
       "    <tr>\n",
       "        <td style=\"padding-left: 1em; padding-right: 1em; text-align: center; vertical-align: top\">1</td>\n",
       "        <td style=\"padding-left: 1em; padding-right: 1em; text-align: center; vertical-align: top\">2858</td>\n",
       "        <td style=\"padding-left: 1em; padding-right: 1em; text-align: center; vertical-align: top\">0.10901367002063328</td>\n",
       "        <td style=\"padding-left: 1em; padding-right: 1em; text-align: center; vertical-align: top\">9</td>\n",
       "    </tr>\n",
       "    <tr>\n",
       "        <td style=\"padding-left: 1em; padding-right: 1em; text-align: center; vertical-align: top\">1</td>\n",
       "        <td style=\"padding-left: 1em; padding-right: 1em; text-align: center; vertical-align: top\">72998</td>\n",
       "        <td style=\"padding-left: 1em; padding-right: 1em; text-align: center; vertical-align: top\">0.10855480476661965</td>\n",
       "        <td style=\"padding-left: 1em; padding-right: 1em; text-align: center; vertical-align: top\">10</td>\n",
       "    </tr>\n",
       "</table>\n",
       "[10 rows x 4 columns]<br/>\n",
       "</div>"
      ],
      "text/plain": [
       "Columns:\n",
       "\tuserId\tint\n",
       "\tmovieId\tint\n",
       "\tscore\tfloat\n",
       "\trank\tint\n",
       "\n",
       "Rows: 10\n",
       "\n",
       "Data:\n",
       "+--------+---------+---------------------+------+\n",
       "| userId | movieId |        score        | rank |\n",
       "+--------+---------+---------------------+------+\n",
       "|   1    |  91529  | 0.12275598446528117 |  1   |\n",
       "|   1    |  89745  | 0.12094965466746578 |  2   |\n",
       "|   1    |   1196  | 0.11922698771512066 |  3   |\n",
       "|   1    |  79132  | 0.11615575905199405 |  4   |\n",
       "|   1    |   2571  | 0.11526993027439823 |  5   |\n",
       "|   1    |  70286  | 0.11435214899204395 |  6   |\n",
       "|   1    |   4993  | 0.11362289057837592 |  7   |\n",
       "|   1    |   5952  | 0.10956451848701194 |  8   |\n",
       "|   1    |   2858  | 0.10901367002063328 |  9   |\n",
       "|   1    |  72998  | 0.10855480476661965 |  10  |\n",
       "+--------+---------+---------------------+------+\n",
       "[10 rows x 4 columns]"
      ]
     },
     "execution_count": 41,
     "metadata": {},
     "output_type": "execute_result"
    }
   ],
   "source": [
    "recommendations"
   ]
  },
  {
   "cell_type": "code",
   "execution_count": null,
   "metadata": {},
   "outputs": [],
   "source": []
  }
 ],
 "metadata": {
  "kernelspec": {
   "display_name": "Python 3",
   "language": "python",
   "name": "python3"
  },
  "language_info": {
   "codemirror_mode": {
    "name": "ipython",
    "version": 3
   },
   "file_extension": ".py",
   "mimetype": "text/x-python",
   "name": "python",
   "nbconvert_exporter": "python",
   "pygments_lexer": "ipython3",
   "version": "3.7.6"
  },
  "latex_envs": {
   "LaTeX_envs_menu_present": true,
   "autoclose": false,
   "autocomplete": true,
   "bibliofile": "biblio.bib",
   "cite_by": "apalike",
   "current_citInitial": 1,
   "eqLabelWithNumbers": true,
   "eqNumInitial": 1,
   "hotkeys": {
    "equation": "Ctrl-E",
    "itemize": "Ctrl-I"
   },
   "labels_anchors": false,
   "latex_user_defs": false,
   "report_style_numbering": false,
   "user_envs_cfg": false
  },
  "toc": {
   "base_numbering": 1,
   "nav_menu": {},
   "number_sections": false,
   "sideBar": true,
   "skip_h1_title": false,
   "title_cell": "Table of Contents",
   "title_sidebar": "Contents",
   "toc_cell": true,
   "toc_position": {},
   "toc_section_display": true,
   "toc_window_display": false
  },
  "varInspector": {
   "cols": {
    "lenName": 16,
    "lenType": 16,
    "lenVar": 40
   },
   "kernels_config": {
    "python": {
     "delete_cmd_postfix": "",
     "delete_cmd_prefix": "del ",
     "library": "var_list.py",
     "varRefreshCmd": "print(var_dic_list())"
    },
    "r": {
     "delete_cmd_postfix": ") ",
     "delete_cmd_prefix": "rm(",
     "library": "var_list.r",
     "varRefreshCmd": "cat(var_dic_list()) "
    }
   },
   "types_to_exclude": [
    "module",
    "function",
    "builtin_function_or_method",
    "instance",
    "_Feature"
   ],
   "window_display": false
  }
 },
 "nbformat": 4,
 "nbformat_minor": 4
}
