{
 "cells": [
  {
   "cell_type": "code",
   "execution_count": 2,
   "metadata": {},
   "outputs": [],
   "source": [
    "import pandas as pd\n",
    "import matplotlib.pyplot as plt\n",
    "import seaborn as sns\n",
    "%matplotlib inline\n",
    "import numpy as np\n",
    "\n",
    "from numpy import array\n",
    "from scipy.sparse import csr_matrix\n"
   ]
  },
  {
   "cell_type": "code",
   "execution_count": 167,
   "metadata": {
    "scrolled": true
   },
   "outputs": [],
   "source": [
    "logist_df = pd.read_csv('data/final_fraud_dataset.csv')\n",
    "\n",
    "cols = logist_df.columns.tolist()\n",
    "cat_preds_fields = cols[1:2]+cols[4:9]+cols[11:22]+cols[27:28]+cols[31:32]+cols[33:36]+cols[37:38]+cols[39:55]\n",
    "num_preds_fields = cols[9:11]+cols[22:26]+cols[32:33]+cols[71:72]+cols[73:81]\n",
    "non_preds_fields = cols[1:4]+ cols[26:27]+cols[28:32]+cols[33:37]+cols[38:39]+cols[55:71]\n",
    "pred_fields =  cols[72:73]\n",
    "\n",
    "\n",
    "logist_df[cat_preds_fields]  = logist_df[cat_preds_fields].astype('category')\n",
    "\n",
    "reorder_cols = non_preds_fields+num_preds_fields + cat_preds_fields\n",
    "\n",
    "logist_preds_df = logist_df[reorder_cols]\n",
    "logist_nonpreds_df = logist_df[reorder_cols]\n",
    "logist_num_preds_df = logist_df[reorder_cols+pred_fields]\n",
    "\n",
    "#logist_num_preds_df = logist_num_preds_df+cols[72:73]\n",
    "logist_num_preds_df = logist_num_preds_df.drop(non_preds_fields + cat_preds_fields, axis=1)\n",
    "logist_nonpreds_df = logist_preds_df.drop(num_preds_fields + cat_preds_fields, axis=1)\n",
    "logist_preds_df = logist_preds_df.drop(non_preds_fields, axis=1)"
   ]
  },
  {
   "cell_type": "code",
   "execution_count": 168,
   "metadata": {},
   "outputs": [
    {
     "data": {
      "text/html": [
       "<div>\n",
       "<style scoped>\n",
       "    .dataframe tbody tr th:only-of-type {\n",
       "        vertical-align: middle;\n",
       "    }\n",
       "\n",
       "    .dataframe tbody tr th {\n",
       "        vertical-align: top;\n",
       "    }\n",
       "\n",
       "    .dataframe thead th {\n",
       "        text-align: right;\n",
       "    }\n",
       "</style>\n",
       "<table border=\"1\" class=\"dataframe\">\n",
       "  <thead>\n",
       "    <tr style=\"text-align: right;\">\n",
       "      <th></th>\n",
       "      <th>NoOfMonths_PartACov</th>\n",
       "      <th>NoOfMonths_PartBCov</th>\n",
       "      <th>IPAnnualReimbursementAmt</th>\n",
       "      <th>IPAnnualDeductibleAmt</th>\n",
       "      <th>OPAnnualReimbursementAmt</th>\n",
       "      <th>OPAnnualDeductibleAmt</th>\n",
       "      <th>InscClaimAmtReimbursed</th>\n",
       "      <th>DaysAdmitted</th>\n",
       "      <th>Age</th>\n",
       "      <th>NoPhysician</th>\n",
       "      <th>AttendingPhysicianPresent</th>\n",
       "      <th>OtherPhysicianPresent</th>\n",
       "      <th>OperatingPhysicianPresent</th>\n",
       "      <th>NoOfDiag</th>\n",
       "      <th>NoOfProc</th>\n",
       "      <th>NoOfChronicCondition</th>\n",
       "      <th>PotentialFraud</th>\n",
       "    </tr>\n",
       "  </thead>\n",
       "  <tbody>\n",
       "    <tr>\n",
       "      <th>0</th>\n",
       "      <td>12</td>\n",
       "      <td>12</td>\n",
       "      <td>36000</td>\n",
       "      <td>3204</td>\n",
       "      <td>60</td>\n",
       "      <td>70</td>\n",
       "      <td>26000</td>\n",
       "      <td>7</td>\n",
       "      <td>66</td>\n",
       "      <td>1</td>\n",
       "      <td>1</td>\n",
       "      <td>0</td>\n",
       "      <td>0</td>\n",
       "      <td>9</td>\n",
       "      <td>0</td>\n",
       "      <td>7</td>\n",
       "      <td>Yes</td>\n",
       "    </tr>\n",
       "    <tr>\n",
       "      <th>1</th>\n",
       "      <td>12</td>\n",
       "      <td>12</td>\n",
       "      <td>19000</td>\n",
       "      <td>1068</td>\n",
       "      <td>100</td>\n",
       "      <td>20</td>\n",
       "      <td>19000</td>\n",
       "      <td>13</td>\n",
       "      <td>95</td>\n",
       "      <td>3</td>\n",
       "      <td>1</td>\n",
       "      <td>1</td>\n",
       "      <td>1</td>\n",
       "      <td>9</td>\n",
       "      <td>2</td>\n",
       "      <td>5</td>\n",
       "      <td>Yes</td>\n",
       "    </tr>\n",
       "    <tr>\n",
       "      <th>2</th>\n",
       "      <td>12</td>\n",
       "      <td>12</td>\n",
       "      <td>17000</td>\n",
       "      <td>1068</td>\n",
       "      <td>1050</td>\n",
       "      <td>540</td>\n",
       "      <td>17000</td>\n",
       "      <td>19</td>\n",
       "      <td>87</td>\n",
       "      <td>2</td>\n",
       "      <td>1</td>\n",
       "      <td>0</td>\n",
       "      <td>1</td>\n",
       "      <td>9</td>\n",
       "      <td>1</td>\n",
       "      <td>2</td>\n",
       "      <td>Yes</td>\n",
       "    </tr>\n",
       "    <tr>\n",
       "      <th>3</th>\n",
       "      <td>12</td>\n",
       "      <td>12</td>\n",
       "      <td>27000</td>\n",
       "      <td>2136</td>\n",
       "      <td>450</td>\n",
       "      <td>160</td>\n",
       "      <td>13000</td>\n",
       "      <td>5</td>\n",
       "      <td>79</td>\n",
       "      <td>3</td>\n",
       "      <td>1</td>\n",
       "      <td>1</td>\n",
       "      <td>1</td>\n",
       "      <td>7</td>\n",
       "      <td>1</td>\n",
       "      <td>6</td>\n",
       "      <td>Yes</td>\n",
       "    </tr>\n",
       "    <tr>\n",
       "      <th>4</th>\n",
       "      <td>12</td>\n",
       "      <td>12</td>\n",
       "      <td>3000</td>\n",
       "      <td>1068</td>\n",
       "      <td>8900</td>\n",
       "      <td>740</td>\n",
       "      <td>3000</td>\n",
       "      <td>5</td>\n",
       "      <td>83</td>\n",
       "      <td>2</td>\n",
       "      <td>1</td>\n",
       "      <td>0</td>\n",
       "      <td>1</td>\n",
       "      <td>1</td>\n",
       "      <td>1</td>\n",
       "      <td>3</td>\n",
       "      <td>Yes</td>\n",
       "    </tr>\n",
       "    <tr>\n",
       "      <th>...</th>\n",
       "      <td>...</td>\n",
       "      <td>...</td>\n",
       "      <td>...</td>\n",
       "      <td>...</td>\n",
       "      <td>...</td>\n",
       "      <td>...</td>\n",
       "      <td>...</td>\n",
       "      <td>...</td>\n",
       "      <td>...</td>\n",
       "      <td>...</td>\n",
       "      <td>...</td>\n",
       "      <td>...</td>\n",
       "      <td>...</td>\n",
       "      <td>...</td>\n",
       "      <td>...</td>\n",
       "      <td>...</td>\n",
       "      <td>...</td>\n",
       "    </tr>\n",
       "    <tr>\n",
       "      <th>40469</th>\n",
       "      <td>12</td>\n",
       "      <td>12</td>\n",
       "      <td>20000</td>\n",
       "      <td>2136</td>\n",
       "      <td>740</td>\n",
       "      <td>320</td>\n",
       "      <td>12000</td>\n",
       "      <td>8</td>\n",
       "      <td>57</td>\n",
       "      <td>3</td>\n",
       "      <td>1</td>\n",
       "      <td>1</td>\n",
       "      <td>1</td>\n",
       "      <td>9</td>\n",
       "      <td>1</td>\n",
       "      <td>9</td>\n",
       "      <td>No</td>\n",
       "    </tr>\n",
       "    <tr>\n",
       "      <th>40470</th>\n",
       "      <td>12</td>\n",
       "      <td>12</td>\n",
       "      <td>5000</td>\n",
       "      <td>1068</td>\n",
       "      <td>2670</td>\n",
       "      <td>360</td>\n",
       "      <td>5000</td>\n",
       "      <td>8</td>\n",
       "      <td>66</td>\n",
       "      <td>3</td>\n",
       "      <td>1</td>\n",
       "      <td>1</td>\n",
       "      <td>1</td>\n",
       "      <td>9</td>\n",
       "      <td>1</td>\n",
       "      <td>7</td>\n",
       "      <td>No</td>\n",
       "    </tr>\n",
       "    <tr>\n",
       "      <th>40471</th>\n",
       "      <td>12</td>\n",
       "      <td>12</td>\n",
       "      <td>26790</td>\n",
       "      <td>2136</td>\n",
       "      <td>70</td>\n",
       "      <td>0</td>\n",
       "      <td>14000</td>\n",
       "      <td>9</td>\n",
       "      <td>70</td>\n",
       "      <td>1</td>\n",
       "      <td>1</td>\n",
       "      <td>0</td>\n",
       "      <td>0</td>\n",
       "      <td>9</td>\n",
       "      <td>0</td>\n",
       "      <td>9</td>\n",
       "      <td>No</td>\n",
       "    </tr>\n",
       "    <tr>\n",
       "      <th>40472</th>\n",
       "      <td>12</td>\n",
       "      <td>12</td>\n",
       "      <td>10300</td>\n",
       "      <td>1068</td>\n",
       "      <td>5390</td>\n",
       "      <td>1730</td>\n",
       "      <td>10000</td>\n",
       "      <td>1</td>\n",
       "      <td>51</td>\n",
       "      <td>2</td>\n",
       "      <td>1</td>\n",
       "      <td>0</td>\n",
       "      <td>1</td>\n",
       "      <td>8</td>\n",
       "      <td>1</td>\n",
       "      <td>7</td>\n",
       "      <td>No</td>\n",
       "    </tr>\n",
       "    <tr>\n",
       "      <th>40473</th>\n",
       "      <td>12</td>\n",
       "      <td>12</td>\n",
       "      <td>17140</td>\n",
       "      <td>1068</td>\n",
       "      <td>1230</td>\n",
       "      <td>1350</td>\n",
       "      <td>6000</td>\n",
       "      <td>8</td>\n",
       "      <td>57</td>\n",
       "      <td>2</td>\n",
       "      <td>1</td>\n",
       "      <td>0</td>\n",
       "      <td>1</td>\n",
       "      <td>10</td>\n",
       "      <td>1</td>\n",
       "      <td>5</td>\n",
       "      <td>No</td>\n",
       "    </tr>\n",
       "  </tbody>\n",
       "</table>\n",
       "<p>40474 rows × 17 columns</p>\n",
       "</div>"
      ],
      "text/plain": [
       "       NoOfMonths_PartACov  NoOfMonths_PartBCov  IPAnnualReimbursementAmt  \\\n",
       "0                       12                   12                     36000   \n",
       "1                       12                   12                     19000   \n",
       "2                       12                   12                     17000   \n",
       "3                       12                   12                     27000   \n",
       "4                       12                   12                      3000   \n",
       "...                    ...                  ...                       ...   \n",
       "40469                   12                   12                     20000   \n",
       "40470                   12                   12                      5000   \n",
       "40471                   12                   12                     26790   \n",
       "40472                   12                   12                     10300   \n",
       "40473                   12                   12                     17140   \n",
       "\n",
       "       IPAnnualDeductibleAmt  OPAnnualReimbursementAmt  OPAnnualDeductibleAmt  \\\n",
       "0                       3204                        60                     70   \n",
       "1                       1068                       100                     20   \n",
       "2                       1068                      1050                    540   \n",
       "3                       2136                       450                    160   \n",
       "4                       1068                      8900                    740   \n",
       "...                      ...                       ...                    ...   \n",
       "40469                   2136                       740                    320   \n",
       "40470                   1068                      2670                    360   \n",
       "40471                   2136                        70                      0   \n",
       "40472                   1068                      5390                   1730   \n",
       "40473                   1068                      1230                   1350   \n",
       "\n",
       "       InscClaimAmtReimbursed  DaysAdmitted  Age  NoPhysician  \\\n",
       "0                       26000             7   66            1   \n",
       "1                       19000            13   95            3   \n",
       "2                       17000            19   87            2   \n",
       "3                       13000             5   79            3   \n",
       "4                        3000             5   83            2   \n",
       "...                       ...           ...  ...          ...   \n",
       "40469                   12000             8   57            3   \n",
       "40470                    5000             8   66            3   \n",
       "40471                   14000             9   70            1   \n",
       "40472                   10000             1   51            2   \n",
       "40473                    6000             8   57            2   \n",
       "\n",
       "       AttendingPhysicianPresent  OtherPhysicianPresent  \\\n",
       "0                              1                      0   \n",
       "1                              1                      1   \n",
       "2                              1                      0   \n",
       "3                              1                      1   \n",
       "4                              1                      0   \n",
       "...                          ...                    ...   \n",
       "40469                          1                      1   \n",
       "40470                          1                      1   \n",
       "40471                          1                      0   \n",
       "40472                          1                      0   \n",
       "40473                          1                      0   \n",
       "\n",
       "       OperatingPhysicianPresent  NoOfDiag  NoOfProc  NoOfChronicCondition  \\\n",
       "0                              0         9         0                     7   \n",
       "1                              1         9         2                     5   \n",
       "2                              1         9         1                     2   \n",
       "3                              1         7         1                     6   \n",
       "4                              1         1         1                     3   \n",
       "...                          ...       ...       ...                   ...   \n",
       "40469                          1         9         1                     9   \n",
       "40470                          1         9         1                     7   \n",
       "40471                          0         9         0                     9   \n",
       "40472                          1         8         1                     7   \n",
       "40473                          1        10         1                     5   \n",
       "\n",
       "      PotentialFraud  \n",
       "0                Yes  \n",
       "1                Yes  \n",
       "2                Yes  \n",
       "3                Yes  \n",
       "4                Yes  \n",
       "...              ...  \n",
       "40469             No  \n",
       "40470             No  \n",
       "40471             No  \n",
       "40472             No  \n",
       "40473             No  \n",
       "\n",
       "[40474 rows x 17 columns]"
      ]
     },
     "execution_count": 168,
     "metadata": {},
     "output_type": "execute_result"
    }
   ],
   "source": [
    "logist_num_preds_df"
   ]
  },
  {
   "cell_type": "code",
   "execution_count": 123,
   "metadata": {},
   "outputs": [
    {
     "data": {
      "text/plain": [
       "0        0\n",
       "1        0\n",
       "2        0\n",
       "3        0\n",
       "4        0\n",
       "        ..\n",
       "40469    0\n",
       "40470    0\n",
       "40471    0\n",
       "40472    0\n",
       "40473    0\n",
       "Name: Alive, Length: 40474, dtype: category\n",
       "Categories (2, object): [0, Y]"
      ]
     },
     "execution_count": 123,
     "metadata": {},
     "output_type": "execute_result"
    }
   ],
   "source": [
    "logist_preds_df.Alive.replace(to_replace = \"N\", value = 0)"
   ]
  },
  {
   "cell_type": "code",
   "execution_count": 60,
   "metadata": {},
   "outputs": [
    {
     "data": {
      "text/plain": [
       "0        N\n",
       "1        N\n",
       "2        N\n",
       "3        N\n",
       "4        N\n",
       "        ..\n",
       "40469    N\n",
       "40470    N\n",
       "40471    N\n",
       "40472    N\n",
       "40473    N\n",
       "Name: Alive, Length: 40474, dtype: category\n",
       "Categories (2, object): [N, 1]"
      ]
     },
     "execution_count": 60,
     "metadata": {},
     "output_type": "execute_result"
    }
   ],
   "source": [
    "logist_preds_df.Alive.replace(to_replace = \"Y\", value = 1)"
   ]
  },
  {
   "cell_type": "code",
   "execution_count": null,
   "metadata": {},
   "outputs": [],
   "source": [
    "This is a count plot that shows the number of patients that were alive when a claim was filed"
   ]
  },
  {
   "cell_type": "code",
   "execution_count": 64,
   "metadata": {},
   "outputs": [
    {
     "data": {
      "text/plain": [
       "<matplotlib.axes._subplots.AxesSubplot at 0x1b164e03c88>"
      ]
     },
     "execution_count": 64,
     "metadata": {},
     "output_type": "execute_result"
    },
    {
     "data": {
      "image/png": "[encoded data removed]",
      "text/plain": [
       "<Figure size 432x288 with 1 Axes>"
      ]
     },
     "metadata": {
      "needs_background": "light"
     },
     "output_type": "display_data"
    }
   ],
   "source": [
    "sns.countplot(x='Alive',data=logist_preds_df) "
   ]
  },
  {
   "cell_type": "markdown",
   "metadata": {},
   "source": [
    "This is a count plot that shows the number of potential frauds which is our target prediction."
   ]
  },
  {
   "cell_type": "code",
   "execution_count": 85,
   "metadata": {},
   "outputs": [
    {
     "data": {
      "text/plain": [
       "<matplotlib.axes._subplots.AxesSubplot at 0x1b16a7f78c8>"
      ]
     },
     "execution_count": 85,
     "metadata": {},
     "output_type": "execute_result"
    },
    {
     "data": {
      "image/png": "[encoded data removed]",
      "text/plain": [
       "<Figure size 432x288 with 1 Axes>"
      ]
     },
     "metadata": {
      "needs_background": "light"
     },
     "output_type": "display_data"
    }
   ],
   "source": [
    "sns.countplot(x='PotentialFraud',data=logist_nonpreds_df)"
   ]
  },
  {
   "cell_type": "markdown",
   "metadata": {},
   "source": [
    "Creating the Test Train Split using SKlearn model selection"
   ]
  },
  {
   "cell_type": "code",
   "execution_count": 169,
   "metadata": {},
   "outputs": [],
   "source": [
    "from sklearn.model_selection import train_test_split\n",
    "X_train, X_test, y_train, y_test = train_test_split(logist_num_preds_df.drop('PotentialFraud',axis=1), \n",
    "                                                    logist_num_preds_df['PotentialFraud'], test_size=0.30, \n",
    "                                                    random_state=101)"
   ]
  },
  {
   "cell_type": "code",
   "execution_count": null,
   "metadata": {},
   "outputs": [],
   "source": [
    "Train the model and predict outcome using the LogisticRegression function from SKLearn"
   ]
  },
  {
   "cell_type": "code",
   "execution_count": 170,
   "metadata": {},
   "outputs": [],
   "source": [
    "from sklearn.linear_model import LogisticRegression\n",
    "logmodel = LogisticRegression()\n",
    "logmodel.fit(X_train,y_train)\n",
    "predictions = logmodel.predict(X_test)"
   ]
  },
  {
   "cell_type": "markdown",
   "metadata": {},
   "source": [
    "To conduct an evaluation of the model we can check precision, recall, and f1-score using clasifiation report"
   ]
  },
  {
   "cell_type": "code",
   "execution_count": 173,
   "metadata": {},
   "outputs": [
    {
     "name": "stdout",
     "output_type": "stream",
     "text": [
      "              precision    recall  f1-score   support\n",
      "\n",
      "          No       0.00      0.00      0.00      5078\n",
      "         Yes       0.58      1.00      0.74      7065\n",
      "\n",
      "    accuracy                           0.58     12143\n",
      "   macro avg       0.29      0.50      0.37     12143\n",
      "weighted avg       0.34      0.58      0.43     12143\n",
      "\n"
     ]
    }
   ],
   "source": [
    "from sklearn.metrics import classification_report\n",
    "print(classification_report(y_test,predictions))"
   ]
  }
 ],
 "metadata": {
  "kernelspec": {
   "display_name": "Python 3",
   "language": "python",
   "name": "python3"
  },
  "language_info": {
   "codemirror_mode": {
    "name": "ipython",
    "version": 3
   },
   "file_extension": ".py",
   "mimetype": "text/x-python",
   "name": "python",
   "nbconvert_exporter": "python",
   "pygments_lexer": "ipython3",
   "version": "3.7.6"
  },
  "latex_envs": {
   "LaTeX_envs_menu_present": true,
   "autoclose": false,
   "autocomplete": true,
   "bibliofile": "biblio.bib",
   "cite_by": "apalike",
   "current_citInitial": 1,
   "eqLabelWithNumbers": true,
   "eqNumInitial": 1,
   "hotkeys": {
    "equation": "Ctrl-E",
    "itemize": "Ctrl-I"
   },
   "labels_anchors": false,
   "latex_user_defs": false,
   "report_style_numbering": false,
   "user_envs_cfg": false
  },
  "toc": {
   "base_numbering": 1,
   "nav_menu": {},
   "number_sections": true,
   "sideBar": true,
   "skip_h1_title": false,
   "title_cell": "Table of Contents",
   "title_sidebar": "Contents",
   "toc_cell": false,
   "toc_position": {},
   "toc_section_display": true,
   "toc_window_display": false
  }
 },
 "nbformat": 4,
 "nbformat_minor": 4
}
