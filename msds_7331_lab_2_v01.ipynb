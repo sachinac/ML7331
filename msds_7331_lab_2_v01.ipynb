{
 "cells": [
  {
   "cell_type": "markdown",
   "metadata": {},
   "source": [
    "<font size=6> <b> SMU Lab Two - MSDS7331 - Machine Learning-1 </b> </font>\n",
    "\n",
    "<font size=5> <b> Summer 2020 Group - Sachin, Ikenna, Edgar, Dustin </b></font> \n",
    "\n",
    "\n",
    "\n",
    "\n",
    "<img src=\"https://github.com/sachinac/ML7331/blob/master/data/data_mining.jpg?raw=true\"> \n",
    "\n",
    "<p align=\"center\"><font size=5> <b> Health Care Fraud Detection  </b></font> </p>"
   ]
  },
  {
   "cell_type": "markdown",
   "metadata": {
    "toc": true
   },
   "source": [
    "<h1>Table of Contents<span class=\"tocSkip\"></span></h1>\n",
    "<div class=\"toc\"><ul class=\"toc-item\"><li><span><a href=\"#Import-Libraries\" data-toc-modified-id=\"Import-Libraries-1\">Import Libraries</a></span></li><li><span><a href=\"#Data-Preparation-Part-1\" data-toc-modified-id=\"Data-Preparation-Part-1-2\">Data Preparation Part 1</a></span><ul class=\"toc-item\"><li><span><a href=\"#Load-Data\" data-toc-modified-id=\"Load-Data-2.1\">Load Data</a></span></li><li><span><a href=\"#Categorical-Variables\" data-toc-modified-id=\"Categorical-Variables-2.2\">Categorical Variables</a></span></li><li><span><a href=\"#Float-Variables\" data-toc-modified-id=\"Float-Variables-2.3\">Float Variables</a></span></li><li><span><a href=\"#Integer-Variables\" data-toc-modified-id=\"Integer-Variables-2.4\">Integer Variables</a></span></li><li><span><a href=\"#Dates-Variables\" data-toc-modified-id=\"Dates-Variables-2.5\">Dates Variables</a></span></li><li><span><a href=\"#Recoding\" data-toc-modified-id=\"Recoding-2.6\">Recoding</a></span></li><li><span><a href=\"#Dataframe\" data-toc-modified-id=\"Dataframe-2.7\">Dataframe</a></span></li><li><span><a href=\"#All-Features\" data-toc-modified-id=\"All-Features-2.8\">All Features</a></span></li><li><span><a href=\"#Target-Variable\" data-toc-modified-id=\"Target-Variable-2.9\">Target Variable</a></span></li><li><span><a href=\"#One-Hot-Encoding-using-Pandas\" data-toc-modified-id=\"One-Hot-Encoding-using-Pandas-2.10\">One Hot Encoding using Pandas</a></span></li><li><span><a href=\"#Remove-None-columns\" data-toc-modified-id=\"Remove-None-columns-2.11\">Remove None columns</a></span></li><li><span><a href=\"#MinMaxScaler\" data-toc-modified-id=\"MinMaxScaler-2.12\">MinMaxScaler</a></span></li></ul></li><li><span><a href=\"#Data-Preparation-Part-2\" data-toc-modified-id=\"Data-Preparation-Part-2-3\">Data Preparation Part 2</a></span><ul class=\"toc-item\"><li><span><a href=\"#Final-DataSet\" data-toc-modified-id=\"Final-DataSet-3.1\">Final DataSet</a></span></li><li><span><a href=\"#Sparse-Matrix\" data-toc-modified-id=\"Sparse-Matrix-3.2\">Sparse Matrix</a></span></li><li><span><a href=\"#Train-and-Test-split\" data-toc-modified-id=\"Train-and-Test-split-3.3\">Train and Test split</a></span></li></ul></li><li><span><a href=\"#Modeling-and-Evaluations-1\" data-toc-modified-id=\"Modeling-and-Evaluations-1-4\">Modeling and Evaluations 1</a></span></li><li><span><a href=\"#Modeling-and-Evaluations-2\" data-toc-modified-id=\"Modeling-and-Evaluations-2-5\">Modeling and Evaluations 2</a></span></li><li><span><a href=\"#Modeling-and-Evaluations-3\" data-toc-modified-id=\"Modeling-and-Evaluations-3-6\">Modeling and Evaluations 3</a></span><ul class=\"toc-item\"><li><span><a href=\"#Create-Models\" data-toc-modified-id=\"Create-Models-6.1\">Create Models</a></span></li></ul></li><li><span><a href=\"#Modeling-and-Evaluations-4\" data-toc-modified-id=\"Modeling-and-Evaluations-4-7\">Modeling and Evaluations 4</a></span></li><li><span><a href=\"#Modeling-and-Evaluations-5\" data-toc-modified-id=\"Modeling-and-Evaluations-5-8\">Modeling and Evaluations 5</a></span></li><li><span><a href=\"#Modeling-and-Evaluations-6\" data-toc-modified-id=\"Modeling-and-Evaluations-6-9\">Modeling and Evaluations 6</a></span></li><li><span><a href=\"#Deployment\" data-toc-modified-id=\"Deployment-10\">Deployment</a></span></li><li><span><a href=\"#Exceptional-Work\" data-toc-modified-id=\"Exceptional-Work-11\">Exceptional Work</a></span></li><li><span><a href=\"#References\" data-toc-modified-id=\"References-12\">References</a></span></li></ul></div>"
   ]
  },
  {
   "cell_type": "markdown",
   "metadata": {},
   "source": [
    "# Import Libraries"
   ]
  },
  {
   "cell_type": "code",
   "execution_count": 1,
   "metadata": {
    "ExecuteTime": {
     "end_time": "2020-07-01T06:20:22.306706Z",
     "start_time": "2020-07-01T06:20:21.565885Z"
    }
   },
   "outputs": [],
   "source": [
    "import pandas as pd\n",
    "from sklearn.preprocessing import MinMaxScaler\n",
    "from sklearn.model_selection import train_test_split\n",
    "from scipy.sparse import csc_matrix\n",
    "import datetime as dt"
   ]
  },
  {
   "cell_type": "markdown",
   "metadata": {},
   "source": [
    "# Data Preparation Part 1"
   ]
  },
  {
   "cell_type": "markdown",
   "metadata": {},
   "source": [
    "## Load Data"
   ]
  },
  {
   "cell_type": "markdown",
   "metadata": {},
   "source": [
    "Load data into memory. EDA was already performed on this data. We had originally received Beneficiary, Encounters and target variable datasets in three different spreadsheets and EDA combined that into single spreadsheet using keys of the tables. We still need to perform some additional operations before we actually start with modeling. So in first we prepare our data for modeling as follows :\n",
    "* Prepare variables. Setup data type correctly.\n",
    "* Remove unnecessary variables\n",
    "* Transform categorical features into dummy variables \n",
    "* Feature selection.\n",
    "\n",
    "Lets first print the information of this dataframe. As we can see from below dataframe info this data has total of 79 features. We definately dont need all features. This step will process some of the features before we actually use this data for modeling."
   ]
  },
  {
   "cell_type": "code",
   "execution_count": 2,
   "metadata": {
    "ExecuteTime": {
     "end_time": "2020-07-01T06:20:22.862306Z",
     "start_time": "2020-07-01T06:20:22.308794Z"
    }
   },
   "outputs": [
    {
     "name": "stdout",
     "output_type": "stream",
     "text": [
      "<class 'pandas.core.frame.DataFrame'>\n",
      "Int64Index: 40474 entries, 0 to 40473\n",
      "Data columns (total 80 columns):\n",
      " #   Column                           Non-Null Count  Dtype \n",
      "---  ------                           --------------  ----- \n",
      " 0   BeneID                           40474 non-null  object\n",
      " 1   DOB                              40474 non-null  int64 \n",
      " 2   DOD                              40474 non-null  int64 \n",
      " 3   Gender                           40474 non-null  int64 \n",
      " 4   Race                             40474 non-null  int64 \n",
      " 5   RenalDiseaseIndicator            40474 non-null  object\n",
      " 6   State                            40474 non-null  int64 \n",
      " 7   County                           40474 non-null  int64 \n",
      " 8   NoOfMonths_PartACov              40474 non-null  int64 \n",
      " 9   NoOfMonths_PartBCov              40474 non-null  int64 \n",
      " 10  ChronicCond_Alzheimer            40474 non-null  int64 \n",
      " 11  ChronicCond_Heartfailure         40474 non-null  int64 \n",
      " 12  ChronicCond_KidneyDisease        40474 non-null  int64 \n",
      " 13  ChronicCond_Cancer               40474 non-null  int64 \n",
      " 14  ChronicCond_ObstrPulmonary       40474 non-null  int64 \n",
      " 15  ChronicCond_Depression           40474 non-null  int64 \n",
      " 16  ChronicCond_Diabetes             40474 non-null  int64 \n",
      " 17  ChronicCond_IschemicHeart        40474 non-null  int64 \n",
      " 18  ChronicCond_Osteoporasis         40474 non-null  int64 \n",
      " 19  ChronicCond_rheumatoidarthritis  40474 non-null  int64 \n",
      " 20  ChronicCond_stroke               40474 non-null  int64 \n",
      " 21  IPAnnualReimbursementAmt         40474 non-null  int64 \n",
      " 22  IPAnnualDeductibleAmt            40474 non-null  int64 \n",
      " 23  OPAnnualReimbursementAmt         40474 non-null  int64 \n",
      " 24  OPAnnualDeductibleAmt            40474 non-null  int64 \n",
      " 25  state_usps                       40474 non-null  object\n",
      " 26  Alive                            40474 non-null  object\n",
      " 27  ClaimID                          40474 non-null  object\n",
      " 28  ClaimStartDt                     40474 non-null  object\n",
      " 29  ClaimEndDt                       40474 non-null  object\n",
      " 30  Provider                         40474 non-null  object\n",
      " 31  InscClaimAmtReimbursed           40474 non-null  int64 \n",
      " 32  AttendingPhysician               40474 non-null  object\n",
      " 33  OperatingPhysician               40474 non-null  object\n",
      " 34  OtherPhysician                   40474 non-null  object\n",
      " 35  AdmissionDt                      40474 non-null  object\n",
      " 36  ClmAdmitDiagnosisCode            40474 non-null  object\n",
      " 37  DischargeDt                      40474 non-null  object\n",
      " 38  DiagnosisGroupCode               40474 non-null  object\n",
      " 39  ClmDiagnosisCode_1               40474 non-null  object\n",
      " 40  ClmDiagnosisCode_2               40474 non-null  object\n",
      " 41  ClmDiagnosisCode_3               40474 non-null  object\n",
      " 42  ClmDiagnosisCode_4               40474 non-null  object\n",
      " 43  ClmDiagnosisCode_5               40474 non-null  object\n",
      " 44  ClmDiagnosisCode_6               40474 non-null  object\n",
      " 45  ClmDiagnosisCode_7               40474 non-null  object\n",
      " 46  ClmDiagnosisCode_8               40474 non-null  object\n",
      " 47  ClmDiagnosisCode_9               40474 non-null  object\n",
      " 48  ClmDiagnosisCode_10              40474 non-null  object\n",
      " 49  ClmProcedureCode_1               40474 non-null  object\n",
      " 50  ClmProcedureCode_2               40474 non-null  object\n",
      " 51  ClmProcedureCode_3               40474 non-null  object\n",
      " 52  ClmProcedureCode_4               40474 non-null  object\n",
      " 53  ClmProcedureCode_5               40474 non-null  object\n",
      " 54  DRGDesc                          40474 non-null  object\n",
      " 55  ProcedureShortDesc_1             40474 non-null  object\n",
      " 56  ProcedureShortDesc_2             40474 non-null  object\n",
      " 57  ProcedureShortDesc_3             40474 non-null  object\n",
      " 58  ProcedureShortDesc_4             40474 non-null  object\n",
      " 59  ProcedureShortDesc_5             40474 non-null  object\n",
      " 60  DiagnosticDesc_1                 40474 non-null  object\n",
      " 61  DiagnosticDesc_2                 40474 non-null  object\n",
      " 62  DiagnosticDesc_3                 40474 non-null  object\n",
      " 63  DiagnosticDesc_4                 40474 non-null  object\n",
      " 64  DiagnosticDesc_5                 40474 non-null  object\n",
      " 65  DiagnosticDesc_6                 40474 non-null  object\n",
      " 66  DiagnosticDesc_7                 40474 non-null  object\n",
      " 67  DiagnosticDesc_8                 40474 non-null  object\n",
      " 68  DiagnosticDesc_9                 40474 non-null  object\n",
      " 69  DiagnosticDesc_10                40474 non-null  object\n",
      " 70  DaysAdmitted                     40474 non-null  int64 \n",
      " 71  PotentialFraud                   40474 non-null  object\n",
      " 72  Age                              40474 non-null  int64 \n",
      " 73  NoPhysician                      40474 non-null  int64 \n",
      " 74  AttendingPhysicianPresent        40474 non-null  int64 \n",
      " 75  OtherPhysicianPresent            40474 non-null  int64 \n",
      " 76  OperatingPhysicianPresent        40474 non-null  int64 \n",
      " 77  NoOfDiag                         40474 non-null  int64 \n",
      " 78  NoOfProc                         40474 non-null  int64 \n",
      " 79  NoOfChronicCondition             40474 non-null  int64 \n",
      "dtypes: int64(33), object(47)\n",
      "memory usage: 25.0+ MB\n"
     ]
    }
   ],
   "source": [
    "lab2_df = pd.read_csv('data/final_fraud_dataset.csv',index_col=0)\n",
    "\n",
    "lab2_df.info()"
   ]
  },
  {
   "cell_type": "markdown",
   "metadata": {},
   "source": [
    "## Categorical Variables"
   ]
  },
  {
   "cell_type": "markdown",
   "metadata": {
    "ExecuteTime": {
     "end_time": "2020-06-30T08:51:44.322459Z",
     "start_time": "2020-06-30T08:51:44.318865Z"
    }
   },
   "source": [
    "Following are nominal categorical attributes. Pandas requires these to be datatype of 'object' or 'category'. We are setting nominal categorical variables as 'object'. Here is the list of categorical variables :\n",
    "\n",
    "* Race\n",
    "* Gender\n",
    "* State\n",
    "* County\n",
    "* AttendingPhysicianPresent\n",
    "* OtherPhysicianPresent\n",
    "* OperatingPhysicianPresent\n",
    "\n"
   ]
  },
  {
   "cell_type": "code",
   "execution_count": 3,
   "metadata": {
    "ExecuteTime": {
     "end_time": "2020-07-01T06:20:22.941163Z",
     "start_time": "2020-07-01T06:20:22.864346Z"
    }
   },
   "outputs": [
    {
     "name": "stdout",
     "output_type": "stream",
     "text": [
      "<class 'pandas.core.frame.DataFrame'>\n",
      "Int64Index: 40474 entries, 0 to 40473\n",
      "Data columns (total 7 columns):\n",
      " #   Column                     Non-Null Count  Dtype \n",
      "---  ------                     --------------  ----- \n",
      " 0   Race                       40474 non-null  object\n",
      " 1   Gender                     40474 non-null  object\n",
      " 2   State                      40474 non-null  object\n",
      " 3   County                     40474 non-null  object\n",
      " 4   AttendingPhysicianPresent  40474 non-null  object\n",
      " 5   OtherPhysicianPresent      40474 non-null  object\n",
      " 6   OperatingPhysicianPresent  40474 non-null  object\n",
      "dtypes: object(7)\n",
      "memory usage: 2.5+ MB\n"
     ]
    }
   ],
   "source": [
    "cat_preds = ['Race','Gender','State','County','AttendingPhysicianPresent','OtherPhysicianPresent',\n",
    "             'OperatingPhysicianPresent']\n",
    "\n",
    "lab2_df[cat_preds]   = lab2_df[cat_preds].astype('object')\n",
    "\n",
    "lab2_df[cat_preds].info()    \n"
   ]
  },
  {
   "cell_type": "markdown",
   "metadata": {},
   "source": [
    "## Float Variables"
   ]
  },
  {
   "cell_type": "markdown",
   "metadata": {},
   "source": [
    "Following varibles are required to be datatype of floating point. These are amounts and hence it makes sense to changt it's type to float\n",
    "\n",
    "* InscClaimAmtReimbursed\n",
    "* IPAnnualReimbursementAmt\n",
    "* IPAnnualDeductibleAmt\n"
   ]
  },
  {
   "cell_type": "code",
   "execution_count": 4,
   "metadata": {
    "ExecuteTime": {
     "end_time": "2020-07-01T06:20:23.228305Z",
     "start_time": "2020-07-01T06:20:23.213497Z"
    }
   },
   "outputs": [
    {
     "name": "stdout",
     "output_type": "stream",
     "text": [
      "<class 'pandas.core.frame.DataFrame'>\n",
      "Int64Index: 40474 entries, 0 to 40473\n",
      "Data columns (total 3 columns):\n",
      " #   Column                    Non-Null Count  Dtype  \n",
      "---  ------                    --------------  -----  \n",
      " 0   InscClaimAmtReimbursed    40474 non-null  float64\n",
      " 1   IPAnnualReimbursementAmt  40474 non-null  float64\n",
      " 2   IPAnnualDeductibleAmt     40474 non-null  float64\n",
      "dtypes: float64(3)\n",
      "memory usage: 1.2 MB\n"
     ]
    }
   ],
   "source": [
    "float_preds = ['InscClaimAmtReimbursed','IPAnnualReimbursementAmt', 'IPAnnualDeductibleAmt']\n",
    "\n",
    "lab2_df[float_preds]   = lab2_df[float_preds].astype('float')\n",
    "lab2_df[float_preds].info()"
   ]
  },
  {
   "cell_type": "markdown",
   "metadata": {},
   "source": [
    "## Integer Variables"
   ]
  },
  {
   "cell_type": "markdown",
   "metadata": {},
   "source": [
    "These variables contains all numbers but they are actually nominal categorical attributes. They are all binary in nature. So we can keep them as integer as we will be converting this dataset into sparse matrix for model building exercise. \n",
    "\n",
    "Following variables will be set as integer data type :\n",
    "* 11 chronic conditions\n",
    "* NoOfMonths_PartACov - Number of months of Medicare part A coverage\n",
    "* NoOfMonths_PartBCov - Number of months of Medicare part B coverage\n"
   ]
  },
  {
   "cell_type": "code",
   "execution_count": 5,
   "metadata": {
    "ExecuteTime": {
     "end_time": "2020-07-01T06:20:23.670649Z",
     "start_time": "2020-07-01T06:20:23.653465Z"
    }
   },
   "outputs": [
    {
     "name": "stdout",
     "output_type": "stream",
     "text": [
      "<class 'pandas.core.frame.DataFrame'>\n",
      "Int64Index: 40474 entries, 0 to 40473\n",
      "Data columns (total 13 columns):\n",
      " #   Column                           Non-Null Count  Dtype\n",
      "---  ------                           --------------  -----\n",
      " 0   ChronicCond_Alzheimer            40474 non-null  int64\n",
      " 1   ChronicCond_Heartfailure         40474 non-null  int64\n",
      " 2   ChronicCond_KidneyDisease        40474 non-null  int64\n",
      " 3   ChronicCond_Cancer               40474 non-null  int64\n",
      " 4   ChronicCond_ObstrPulmonary       40474 non-null  int64\n",
      " 5   ChronicCond_Depression           40474 non-null  int64\n",
      " 6   ChronicCond_Diabetes             40474 non-null  int64\n",
      " 7   ChronicCond_IschemicHeart        40474 non-null  int64\n",
      " 8   ChronicCond_Osteoporasis         40474 non-null  int64\n",
      " 9   ChronicCond_rheumatoidarthritis  40474 non-null  int64\n",
      " 10  ChronicCond_stroke               40474 non-null  int64\n",
      " 11  NoOfMonths_PartACov              40474 non-null  int64\n",
      " 12  NoOfMonths_PartBCov              40474 non-null  int64\n",
      "dtypes: int64(13)\n",
      "memory usage: 4.3 MB\n"
     ]
    }
   ],
   "source": [
    "int_preds = ['ChronicCond_Alzheimer','ChronicCond_Heartfailure','ChronicCond_KidneyDisease',\n",
    "             'ChronicCond_Cancer','ChronicCond_ObstrPulmonary','ChronicCond_Depression',\n",
    "             'ChronicCond_Diabetes','ChronicCond_IschemicHeart','ChronicCond_Osteoporasis',\n",
    "             'ChronicCond_rheumatoidarthritis','ChronicCond_stroke', 'NoOfMonths_PartACov', \n",
    "             'NoOfMonths_PartBCov']\n",
    "\n",
    "lab2_df[int_preds] = lab2_df[int_preds].astype(int)\n",
    "lab2_df[int_preds].info()"
   ]
  },
  {
   "cell_type": "markdown",
   "metadata": {},
   "source": [
    "## Dates Variables"
   ]
  },
  {
   "cell_type": "markdown",
   "metadata": {},
   "source": [
    "Following are new attributes are derived from existing attritbutes of type dates. All date attributes are converted to the proleptic Gregorian ordinal of a date.In simple terms datetime.toordinal() returns the day count from the date 01/01/01\n",
    "\n",
    "\n",
    "* ORD_DOD - Set ORD_DOD to open end date where date is not available to indicate that Beneficiary is alive\n",
    "* ORD_DOB \n",
    "* ORD_ClaimStartDt\n",
    "* ORD_ClaimEndDt\n",
    "* ORD_AdmissionDt\n",
    "* ORD_DischargeDt\n"
   ]
  },
  {
   "cell_type": "code",
   "execution_count": 6,
   "metadata": {
    "ExecuteTime": {
     "end_time": "2020-07-01T06:20:24.921116Z",
     "start_time": "2020-07-01T06:20:24.103048Z"
    }
   },
   "outputs": [
    {
     "name": "stdout",
     "output_type": "stream",
     "text": [
      "<class 'pandas.core.frame.DataFrame'>\n",
      "Int64Index: 40474 entries, 0 to 40473\n",
      "Data columns (total 6 columns):\n",
      " #   Column            Non-Null Count  Dtype\n",
      "---  ------            --------------  -----\n",
      " 0   ORD_DOD           40474 non-null  int64\n",
      " 1   ORD_DOB           40474 non-null  int64\n",
      " 2   ORD_ClaimStartDt  40474 non-null  int64\n",
      " 3   ORD_ClaimEndDt    40474 non-null  int64\n",
      " 4   ORD_AdmissionDt   40474 non-null  int64\n",
      " 5   ORD_DischargeDt   40474 non-null  int64\n",
      "dtypes: int64(6)\n",
      "memory usage: 2.2 MB\n"
     ]
    }
   ],
   "source": [
    "dte_preds = ['ClaimStartDt', 'ClaimEndDt','AdmissionDt', 'DischargeDt', 'DOB','DOD']\n",
    "\n",
    "lab2_df['ORD_DOD'] = lab2_df['DOD']\n",
    "lab2_df['ORD_DOD'] = lab2_df['ORD_DOD'].replace(0,22991231)\n",
    "lab2_df['ORD_DOD'] = lab2_df['ORD_DOD'].astype('object')\n",
    "\n",
    "lab2_df['ORD_DOD'] = pd.to_datetime(lab2_df['ORD_DOD'],format='%Y-%m-%d').apply(dt.datetime.toordinal)\n",
    "lab2_df['ORD_DOB'] = pd.to_datetime(lab2_df['DOB'],format='%Y-%m-%d').apply(dt.datetime.toordinal)\n",
    "lab2_df['ORD_ClaimStartDt'] = pd.to_datetime(lab2_df['ClaimStartDt'],format='%Y-%m-%d').apply(dt.datetime.toordinal)\n",
    "lab2_df['ORD_ClaimEndDt']   = pd.to_datetime(lab2_df['ClaimEndDt'],format='%Y-%m-%d').apply(dt.datetime.toordinal)\n",
    "lab2_df['ORD_AdmissionDt']  = pd.to_datetime(lab2_df['AdmissionDt'],format='%Y-%m-%d').apply(dt.datetime.toordinal)\n",
    "lab2_df['ORD_DischargeDt']  = pd.to_datetime(lab2_df['DischargeDt'],format='%Y-%m-%d').apply(dt.datetime.toordinal)\n",
    "\n",
    "ord_dte_preds = ['ORD_DOD', 'ORD_DOB','ORD_ClaimStartDt', 'ORD_ClaimEndDt', 'ORD_AdmissionDt','ORD_DischargeDt']\n",
    "\n",
    "lab2_df[ord_dte_preds].info()"
   ]
  },
  {
   "cell_type": "markdown",
   "metadata": {},
   "source": [
    "## Recoding "
   ]
  },
  {
   "cell_type": "markdown",
   "metadata": {},
   "source": [
    "All chronic conditions, Gender, RenalDiseaseIndicator are binary variables i.e. they all have just two values but values are not 0 and 1. e.g. Gender has values 1 or 2, RenalDiseaseIndicator has Y or 1 and all Chronic Conditions has values 1 or. \n",
    "\n",
    "We will recode these values to 0 or 1 instead of 1 and 2 for modeling purpose.\n"
   ]
  },
  {
   "cell_type": "code",
   "execution_count": 7,
   "metadata": {
    "ExecuteTime": {
     "end_time": "2020-07-01T06:20:25.019661Z",
     "start_time": "2020-07-01T06:20:24.923231Z"
    }
   },
   "outputs": [],
   "source": [
    "# Recode below categorical variables \n",
    "\n",
    "lab2_df['Gender']  = lab2_df['Gender'].replace([1,2],[0,1])\n",
    "lab2_df['Gender']  = lab2_df['Gender'].astype('object')\n",
    "lab2_df['RenalDiseaseIndicator']  = lab2_df['RenalDiseaseIndicator'].replace('Y',1)\n",
    "\n",
    "\n",
    "lab2_df = lab2_df.replace({'ChronicCond_Alzheimer': 2,      'ChronicCond_Heartfailure': 2, \n",
    "                           'ChronicCond_KidneyDisease': 2,  'ChronicCond_Cancer': 2, \n",
    "                           'ChronicCond_ObstrPulmonary': 2, 'ChronicCond_Depression': 2, \n",
    "                           'ChronicCond_Diabetes': 2,       'ChronicCond_IschemicHeart': 2, \n",
    "                           'ChronicCond_Osteoporasis': 2,   'ChronicCond_rheumatoidarthritis': 2, \n",
    "                           'ChronicCond_stroke': 2 }, 0)\n",
    "\n"
   ]
  },
  {
   "cell_type": "markdown",
   "metadata": {},
   "source": [
    "## Dataframe "
   ]
  },
  {
   "cell_type": "code",
   "execution_count": 8,
   "metadata": {
    "ExecuteTime": {
     "end_time": "2020-07-01T06:20:25.115343Z",
     "start_time": "2020-07-01T06:20:25.021850Z"
    }
   },
   "outputs": [
    {
     "name": "stdout",
     "output_type": "stream",
     "text": [
      "<class 'pandas.core.frame.DataFrame'>\n",
      "Int64Index: 40474 entries, 0 to 40473\n",
      "Data columns (total 86 columns):\n",
      " #   Column                           Non-Null Count  Dtype  \n",
      "---  ------                           --------------  -----  \n",
      " 0   BeneID                           40474 non-null  object \n",
      " 1   DOB                              40474 non-null  int64  \n",
      " 2   DOD                              40474 non-null  int64  \n",
      " 3   Gender                           40474 non-null  object \n",
      " 4   Race                             40474 non-null  object \n",
      " 5   RenalDiseaseIndicator            40474 non-null  object \n",
      " 6   State                            40474 non-null  object \n",
      " 7   County                           40474 non-null  object \n",
      " 8   NoOfMonths_PartACov              40474 non-null  int64  \n",
      " 9   NoOfMonths_PartBCov              40474 non-null  int64  \n",
      " 10  ChronicCond_Alzheimer            40474 non-null  int64  \n",
      " 11  ChronicCond_Heartfailure         40474 non-null  int64  \n",
      " 12  ChronicCond_KidneyDisease        40474 non-null  int64  \n",
      " 13  ChronicCond_Cancer               40474 non-null  int64  \n",
      " 14  ChronicCond_ObstrPulmonary       40474 non-null  int64  \n",
      " 15  ChronicCond_Depression           40474 non-null  int64  \n",
      " 16  ChronicCond_Diabetes             40474 non-null  int64  \n",
      " 17  ChronicCond_IschemicHeart        40474 non-null  int64  \n",
      " 18  ChronicCond_Osteoporasis         40474 non-null  int64  \n",
      " 19  ChronicCond_rheumatoidarthritis  40474 non-null  int64  \n",
      " 20  ChronicCond_stroke               40474 non-null  int64  \n",
      " 21  IPAnnualReimbursementAmt         40474 non-null  float64\n",
      " 22  IPAnnualDeductibleAmt            40474 non-null  float64\n",
      " 23  OPAnnualReimbursementAmt         40474 non-null  int64  \n",
      " 24  OPAnnualDeductibleAmt            40474 non-null  int64  \n",
      " 25  state_usps                       40474 non-null  object \n",
      " 26  Alive                            40474 non-null  object \n",
      " 27  ClaimID                          40474 non-null  object \n",
      " 28  ClaimStartDt                     40474 non-null  object \n",
      " 29  ClaimEndDt                       40474 non-null  object \n",
      " 30  Provider                         40474 non-null  object \n",
      " 31  InscClaimAmtReimbursed           40474 non-null  float64\n",
      " 32  AttendingPhysician               40474 non-null  object \n",
      " 33  OperatingPhysician               40474 non-null  object \n",
      " 34  OtherPhysician                   40474 non-null  object \n",
      " 35  AdmissionDt                      40474 non-null  object \n",
      " 36  ClmAdmitDiagnosisCode            40474 non-null  object \n",
      " 37  DischargeDt                      40474 non-null  object \n",
      " 38  DiagnosisGroupCode               40474 non-null  object \n",
      " 39  ClmDiagnosisCode_1               40474 non-null  object \n",
      " 40  ClmDiagnosisCode_2               40474 non-null  object \n",
      " 41  ClmDiagnosisCode_3               40474 non-null  object \n",
      " 42  ClmDiagnosisCode_4               40474 non-null  object \n",
      " 43  ClmDiagnosisCode_5               40474 non-null  object \n",
      " 44  ClmDiagnosisCode_6               40474 non-null  object \n",
      " 45  ClmDiagnosisCode_7               40474 non-null  object \n",
      " 46  ClmDiagnosisCode_8               40474 non-null  object \n",
      " 47  ClmDiagnosisCode_9               40474 non-null  object \n",
      " 48  ClmDiagnosisCode_10              40474 non-null  object \n",
      " 49  ClmProcedureCode_1               40474 non-null  object \n",
      " 50  ClmProcedureCode_2               40474 non-null  object \n",
      " 51  ClmProcedureCode_3               40474 non-null  object \n",
      " 52  ClmProcedureCode_4               40474 non-null  object \n",
      " 53  ClmProcedureCode_5               40474 non-null  object \n",
      " 54  DRGDesc                          40474 non-null  object \n",
      " 55  ProcedureShortDesc_1             40474 non-null  object \n",
      " 56  ProcedureShortDesc_2             40474 non-null  object \n",
      " 57  ProcedureShortDesc_3             40474 non-null  object \n",
      " 58  ProcedureShortDesc_4             40474 non-null  object \n",
      " 59  ProcedureShortDesc_5             40474 non-null  object \n",
      " 60  DiagnosticDesc_1                 40474 non-null  object \n",
      " 61  DiagnosticDesc_2                 40474 non-null  object \n",
      " 62  DiagnosticDesc_3                 40474 non-null  object \n",
      " 63  DiagnosticDesc_4                 40474 non-null  object \n",
      " 64  DiagnosticDesc_5                 40474 non-null  object \n",
      " 65  DiagnosticDesc_6                 40474 non-null  object \n",
      " 66  DiagnosticDesc_7                 40474 non-null  object \n",
      " 67  DiagnosticDesc_8                 40474 non-null  object \n",
      " 68  DiagnosticDesc_9                 40474 non-null  object \n",
      " 69  DiagnosticDesc_10                40474 non-null  object \n",
      " 70  DaysAdmitted                     40474 non-null  int64  \n",
      " 71  PotentialFraud                   40474 non-null  object \n",
      " 72  Age                              40474 non-null  int64  \n",
      " 73  NoPhysician                      40474 non-null  int64  \n",
      " 74  AttendingPhysicianPresent        40474 non-null  object \n",
      " 75  OtherPhysicianPresent            40474 non-null  object \n",
      " 76  OperatingPhysicianPresent        40474 non-null  object \n",
      " 77  NoOfDiag                         40474 non-null  int64  \n",
      " 78  NoOfProc                         40474 non-null  int64  \n",
      " 79  NoOfChronicCondition             40474 non-null  int64  \n",
      " 80  ORD_DOD                          40474 non-null  int64  \n",
      " 81  ORD_DOB                          40474 non-null  int64  \n",
      " 82  ORD_ClaimStartDt                 40474 non-null  int64  \n",
      " 83  ORD_ClaimEndDt                   40474 non-null  int64  \n",
      " 84  ORD_AdmissionDt                  40474 non-null  int64  \n",
      " 85  ORD_DischargeDt                  40474 non-null  int64  \n",
      "dtypes: float64(3), int64(29), object(54)\n",
      "memory usage: 26.9+ MB\n"
     ]
    }
   ],
   "source": [
    "lab2_df.info()"
   ]
  },
  {
   "cell_type": "markdown",
   "metadata": {},
   "source": [
    "## All Features"
   ]
  },
  {
   "cell_type": "markdown",
   "metadata": {},
   "source": [
    "All features are GROUPED as follows:\n",
    "* Numeric Predictos\n",
    "* Categorical Predictors\n",
    "* Non-Predictors ( Will not be used for modeling)"
   ]
  },
  {
   "cell_type": "code",
   "execution_count": 9,
   "metadata": {
    "ExecuteTime": {
     "end_time": "2020-07-01T06:20:25.274701Z",
     "start_time": "2020-07-01T06:20:25.213964Z"
    }
   },
   "outputs": [
    {
     "name": "stdout",
     "output_type": "stream",
     "text": [
      "<class 'pandas.core.frame.DataFrame'>\n",
      "Int64Index: 40474 entries, 0 to 40473\n",
      "Data columns (total 53 columns):\n",
      " #   Column                           Non-Null Count  Dtype  \n",
      "---  ------                           --------------  -----  \n",
      " 0   Age                              40474 non-null  int64  \n",
      " 1   NoPhysician                      40474 non-null  int64  \n",
      " 2   NoOfDiag                         40474 non-null  int64  \n",
      " 3   NoOfProc                         40474 non-null  int64  \n",
      " 4   ORD_DOD                          40474 non-null  int64  \n",
      " 5   ORD_DOB                          40474 non-null  int64  \n",
      " 6   ORD_ClaimStartDt                 40474 non-null  int64  \n",
      " 7   ORD_ClaimEndDt                   40474 non-null  int64  \n",
      " 8   ORD_AdmissionDt                  40474 non-null  int64  \n",
      " 9   ORD_DischargeDt                  40474 non-null  int64  \n",
      " 10  DaysAdmitted                     40474 non-null  int64  \n",
      " 11  IPAnnualReimbursementAmt         40474 non-null  float64\n",
      " 12  IPAnnualDeductibleAmt            40474 non-null  float64\n",
      " 13  InscClaimAmtReimbursed           40474 non-null  float64\n",
      " 14  Gender                           40474 non-null  object \n",
      " 15  Race                             40474 non-null  object \n",
      " 16  RenalDiseaseIndicator            40474 non-null  object \n",
      " 17  State                            40474 non-null  object \n",
      " 18  County                           40474 non-null  object \n",
      " 19  NoOfMonths_PartACov              40474 non-null  int64  \n",
      " 20  NoOfMonths_PartBCov              40474 non-null  int64  \n",
      " 21  ChronicCond_Alzheimer            40474 non-null  int64  \n",
      " 22  ChronicCond_Heartfailure         40474 non-null  int64  \n",
      " 23  ChronicCond_KidneyDisease        40474 non-null  int64  \n",
      " 24  ChronicCond_Cancer               40474 non-null  int64  \n",
      " 25  ChronicCond_ObstrPulmonary       40474 non-null  int64  \n",
      " 26  ChronicCond_Depression           40474 non-null  int64  \n",
      " 27  ChronicCond_Diabetes             40474 non-null  int64  \n",
      " 28  ChronicCond_IschemicHeart        40474 non-null  int64  \n",
      " 29  ChronicCond_Osteoporasis         40474 non-null  int64  \n",
      " 30  ChronicCond_rheumatoidarthritis  40474 non-null  int64  \n",
      " 31  ChronicCond_stroke               40474 non-null  int64  \n",
      " 32  Alive                            40474 non-null  object \n",
      " 33  ClmAdmitDiagnosisCode            40474 non-null  object \n",
      " 34  DiagnosisGroupCode               40474 non-null  object \n",
      " 35  ClmDiagnosisCode_1               40474 non-null  object \n",
      " 36  ClmDiagnosisCode_2               40474 non-null  object \n",
      " 37  ClmDiagnosisCode_3               40474 non-null  object \n",
      " 38  ClmDiagnosisCode_4               40474 non-null  object \n",
      " 39  ClmDiagnosisCode_5               40474 non-null  object \n",
      " 40  ClmDiagnosisCode_6               40474 non-null  object \n",
      " 41  ClmDiagnosisCode_7               40474 non-null  object \n",
      " 42  ClmDiagnosisCode_8               40474 non-null  object \n",
      " 43  ClmDiagnosisCode_9               40474 non-null  object \n",
      " 44  ClmDiagnosisCode_10              40474 non-null  object \n",
      " 45  ClmProcedureCode_1               40474 non-null  object \n",
      " 46  ClmProcedureCode_2               40474 non-null  object \n",
      " 47  ClmProcedureCode_3               40474 non-null  object \n",
      " 48  ClmProcedureCode_4               40474 non-null  object \n",
      " 49  ClmProcedureCode_5               40474 non-null  object \n",
      " 50  AttendingPhysicianPresent        40474 non-null  object \n",
      " 51  OtherPhysicianPresent            40474 non-null  object \n",
      " 52  OperatingPhysicianPresent        40474 non-null  object \n",
      "dtypes: float64(3), int64(24), object(26)\n",
      "memory usage: 16.7+ MB\n"
     ]
    }
   ],
   "source": [
    "numeric_preds     = ['Age','NoPhysician','NoOfDiag','NoOfProc',\n",
    "                     'ORD_DOD','ORD_DOB','ORD_ClaimStartDt','ORD_ClaimEndDt',\n",
    "                     'ORD_AdmissionDt','ORD_DischargeDt','DaysAdmitted',\n",
    "                     'IPAnnualReimbursementAmt','IPAnnualDeductibleAmt',   \n",
    "                     'InscClaimAmtReimbursed'  \n",
    "                    ]\n",
    "\n",
    "cat_preds_nominal = ['Gender','Race','RenalDiseaseIndicator','State','County',\n",
    "                     'NoOfMonths_PartACov','NoOfMonths_PartBCov',\n",
    "                     'ChronicCond_Alzheimer','ChronicCond_Heartfailure',\n",
    "                     'ChronicCond_KidneyDisease','ChronicCond_Cancer','ChronicCond_ObstrPulmonary',\n",
    "                     'ChronicCond_Depression','ChronicCond_Diabetes','ChronicCond_IschemicHeart',\n",
    "                     'ChronicCond_Osteoporasis','ChronicCond_rheumatoidarthritis','ChronicCond_stroke',\n",
    "                     'Alive','ClmAdmitDiagnosisCode','DiagnosisGroupCode',\n",
    "                     'ClmDiagnosisCode_1','ClmDiagnosisCode_2','ClmDiagnosisCode_3',\n",
    "                     'ClmDiagnosisCode_4','ClmDiagnosisCode_5','ClmDiagnosisCode_6',\n",
    "                     'ClmDiagnosisCode_7','ClmDiagnosisCode_8','ClmDiagnosisCode_9',\n",
    "                     'ClmDiagnosisCode_10','ClmProcedureCode_1','ClmProcedureCode_2',\n",
    "                     'ClmProcedureCode_3','ClmProcedureCode_4','ClmProcedureCode_5',\n",
    "                     'AttendingPhysicianPresent','OtherPhysicianPresent','OperatingPhysicianPresent'\n",
    "                     ]\n",
    "\n",
    "non_preds = ['BeneID','DOB','DOD','state_usps','ClaimID',\n",
    "             'ClaimStartDt','ClaimEndDt','Provider',\n",
    "             'AttendingPhysician','OperatingPhysician','OtherPhysician',\n",
    "             'AdmissionDt','DischargeDt','DRGDesc',\n",
    "             'ProcedureShortDesc_1','ProcedureShortDesc_2','ProcedureShortDesc_3',\n",
    "             'ProcedureShortDesc_4','ProcedureShortDesc_5','DiagnosticDesc_1',\n",
    "             'DiagnosticDesc_2','DiagnosticDesc_3','DiagnosticDesc_4',\n",
    "             'DiagnosticDesc_5','DiagnosticDesc_6','DiagnosticDesc_7',\n",
    "             'DiagnosticDesc_8','DiagnosticDesc_9','DiagnosticDesc_10',\n",
    "             'NoOfChronicCondition'\n",
    "             ]\n",
    "\n",
    "\n",
    "\n",
    "preds_in_model = numeric_preds + cat_preds_nominal\n",
    "\n",
    "Xlab2_df = lab2_df[preds_in_model]\n",
    "\n",
    "Xlab2_df.info()"
   ]
  },
  {
   "cell_type": "markdown",
   "metadata": {},
   "source": [
    "## Target Variable"
   ]
  },
  {
   "cell_type": "code",
   "execution_count": 10,
   "metadata": {
    "ExecuteTime": {
     "end_time": "2020-07-01T06:20:25.452959Z",
     "start_time": "2020-07-01T06:20:25.438950Z"
    }
   },
   "outputs": [],
   "source": [
    "target_df   = lab2_df['PotentialFraud'].replace(['Yes','No'],[1,0]).values"
   ]
  },
  {
   "cell_type": "markdown",
   "metadata": {},
   "source": [
    "## One Hot Encoding using Pandas"
   ]
  },
  {
   "cell_type": "markdown",
   "metadata": {},
   "source": [
    "**Use pandas to one hot encode variables** "
   ]
  },
  {
   "cell_type": "code",
   "execution_count": 11,
   "metadata": {
    "ExecuteTime": {
     "end_time": "2020-07-01T06:20:32.550699Z",
     "start_time": "2020-07-01T06:20:25.870249Z"
    }
   },
   "outputs": [],
   "source": [
    "ipdata = pd.get_dummies(Xlab2_df, sparse=True)"
   ]
  },
  {
   "cell_type": "code",
   "execution_count": 12,
   "metadata": {
    "ExecuteTime": {
     "end_time": "2020-07-01T06:20:33.917009Z",
     "start_time": "2020-07-01T06:20:32.552787Z"
    }
   },
   "outputs": [
    {
     "name": "stdout",
     "output_type": "stream",
     "text": [
      "<class 'pandas.core.frame.DataFrame'>\n",
      "Int64Index: 40474 entries, 0 to 40473\n",
      "Columns: 26573 entries, Age to OperatingPhysicianPresent_1\n",
      "dtypes: Sparse[uint8, 0](26546), float64(3), int64(24)\n",
      "memory usage: 13.7 MB\n"
     ]
    }
   ],
   "source": [
    "ipdata.info()"
   ]
  },
  {
   "cell_type": "markdown",
   "metadata": {},
   "source": [
    "## Remove None columns"
   ]
  },
  {
   "cell_type": "markdown",
   "metadata": {},
   "source": [
    "Dataaset contains None for Diagnosis and Prorcedure codes features wherever information is not availble on the claim. All claims allows max 5 procedure codes and 10 diagnosis codes and at least one procedure code or diagnosis code is applied on the claim. When claim has only one procedure and one diagnosis all other procedure codes contains NAs or None and one hot encoding treats these as another category which is not correct. therefore we need to remove column Nones created by one hot encoding by pandas."
   ]
  },
  {
   "cell_type": "code",
   "execution_count": 13,
   "metadata": {
    "ExecuteTime": {
     "end_time": "2020-07-01T06:20:36.456807Z",
     "start_time": "2020-07-01T06:20:33.919257Z"
    }
   },
   "outputs": [
    {
     "name": "stdout",
     "output_type": "stream",
     "text": [
      "Removed Following Columns :\n",
      "ClmDiagnosisCode_2_None\n",
      "ClmDiagnosisCode_3_None\n",
      "ClmDiagnosisCode_4_None\n",
      "ClmDiagnosisCode_5_None\n",
      "ClmDiagnosisCode_6_None\n",
      "ClmDiagnosisCode_7_None\n",
      "ClmDiagnosisCode_8_None\n",
      "ClmDiagnosisCode_9_None\n",
      "ClmDiagnosisCode_10_None\n",
      "ClmProcedureCode_1_None\n",
      "ClmProcedureCode_2_None\n",
      "ClmProcedureCode_3_None\n",
      "ClmProcedureCode_4_None\n",
      "ClmProcedureCode_5_None\n"
     ]
    }
   ],
   "source": [
    "nones = []\n",
    "print('Removed Following Columns :')\n",
    "for col in ipdata.columns:\n",
    "    if 'None' in col:    \n",
    "        nones.append(col)\n",
    "        print(col)\n",
    "ipdata = ipdata.drop(nones, axis=1)"
   ]
  },
  {
   "cell_type": "code",
   "execution_count": 14,
   "metadata": {
    "ExecuteTime": {
     "end_time": "2020-07-01T06:20:37.867818Z",
     "start_time": "2020-07-01T06:20:36.458927Z"
    }
   },
   "outputs": [
    {
     "name": "stdout",
     "output_type": "stream",
     "text": [
      "<class 'pandas.core.frame.DataFrame'>\n",
      "Int64Index: 40474 entries, 0 to 40473\n",
      "Columns: 26559 entries, Age to OperatingPhysicianPresent_1\n",
      "dtypes: Sparse[uint8, 0](26532), float64(3), int64(24)\n",
      "memory usage: 12.5 MB\n"
     ]
    }
   ],
   "source": [
    "ipdata.info()"
   ]
  },
  {
   "cell_type": "markdown",
   "metadata": {},
   "source": [
    "## MinMaxScaler"
   ]
  },
  {
   "cell_type": "markdown",
   "metadata": {},
   "source": [
    "We decided to use the MinMaxScaler here instead of the standard scaler because we're using a sparse matrix of mostly binary features.  Because we do have some true numeric features, such as: deductible amount, age, the converted ordinal dates, claim dollar amounts etc, these may end up having values outside the bounds of 0 and 1.  A zero mean scaler doesn't make sense with this data because it would cause the numeric features to have inflated importance if observations end up being several standard deviations away from 0, while the binary features are capped at 1.  The minMax scaler allows us to force all values in the dataset to live within the bounds of 0 and 1, allowing our logistic regression algorithms to weight features appropriately using similar measures."
   ]
  },
  {
   "cell_type": "code",
   "execution_count": 15,
   "metadata": {
    "ExecuteTime": {
     "end_time": "2020-07-01T06:22:57.635492Z",
     "start_time": "2020-07-01T06:20:37.870137Z"
    }
   },
   "outputs": [
    {
     "name": "stderr",
     "output_type": "stream",
     "text": [
      "/Users/sachin/opt/anaconda3/envs/ML7331_38/lib/python3.8/site-packages/sklearn/utils/validation.py:509: UserWarning: pandas.DataFrame with sparse columns found.It will be converted to a dense numpy array.\n",
      "  warnings.warn(\n",
      "/Users/sachin/opt/anaconda3/envs/ML7331_38/lib/python3.8/site-packages/sklearn/utils/validation.py:509: UserWarning: pandas.DataFrame with sparse columns found.It will be converted to a dense numpy array.\n",
      "  warnings.warn(\n"
     ]
    }
   ],
   "source": [
    "scaler = MinMaxScaler()\n",
    "scaler.fit(ipdata)\n",
    "X1 = scaler.transform(ipdata)"
   ]
  },
  {
   "cell_type": "markdown",
   "metadata": {},
   "source": [
    "# Data Preparation Part 2"
   ]
  },
  {
   "cell_type": "markdown",
   "metadata": {},
   "source": [
    "## Final DataSet"
   ]
  },
  {
   "cell_type": "code",
   "execution_count": 16,
   "metadata": {
    "ExecuteTime": {
     "end_time": "2020-07-01T06:22:57.784631Z",
     "start_time": "2020-07-01T06:22:57.649511Z"
    }
   },
   "outputs": [
    {
     "name": "stdout",
     "output_type": "stream",
     "text": [
      "<class 'pandas.core.frame.DataFrame'>\n",
      "Int64Index: 40474 entries, 0 to 40473\n",
      "Data columns (total 53 columns):\n",
      " #   Column                           Non-Null Count  Dtype  \n",
      "---  ------                           --------------  -----  \n",
      " 0   Age                              40474 non-null  int64  \n",
      " 1   NoPhysician                      40474 non-null  int64  \n",
      " 2   NoOfDiag                         40474 non-null  int64  \n",
      " 3   NoOfProc                         40474 non-null  int64  \n",
      " 4   ORD_DOD                          40474 non-null  int64  \n",
      " 5   ORD_DOB                          40474 non-null  int64  \n",
      " 6   ORD_ClaimStartDt                 40474 non-null  int64  \n",
      " 7   ORD_ClaimEndDt                   40474 non-null  int64  \n",
      " 8   ORD_AdmissionDt                  40474 non-null  int64  \n",
      " 9   ORD_DischargeDt                  40474 non-null  int64  \n",
      " 10  DaysAdmitted                     40474 non-null  int64  \n",
      " 11  IPAnnualReimbursementAmt         40474 non-null  float64\n",
      " 12  IPAnnualDeductibleAmt            40474 non-null  float64\n",
      " 13  InscClaimAmtReimbursed           40474 non-null  float64\n",
      " 14  Gender                           40474 non-null  object \n",
      " 15  Race                             40474 non-null  object \n",
      " 16  RenalDiseaseIndicator            40474 non-null  object \n",
      " 17  State                            40474 non-null  object \n",
      " 18  County                           40474 non-null  object \n",
      " 19  NoOfMonths_PartACov              40474 non-null  int64  \n",
      " 20  NoOfMonths_PartBCov              40474 non-null  int64  \n",
      " 21  ChronicCond_Alzheimer            40474 non-null  int64  \n",
      " 22  ChronicCond_Heartfailure         40474 non-null  int64  \n",
      " 23  ChronicCond_KidneyDisease        40474 non-null  int64  \n",
      " 24  ChronicCond_Cancer               40474 non-null  int64  \n",
      " 25  ChronicCond_ObstrPulmonary       40474 non-null  int64  \n",
      " 26  ChronicCond_Depression           40474 non-null  int64  \n",
      " 27  ChronicCond_Diabetes             40474 non-null  int64  \n",
      " 28  ChronicCond_IschemicHeart        40474 non-null  int64  \n",
      " 29  ChronicCond_Osteoporasis         40474 non-null  int64  \n",
      " 30  ChronicCond_rheumatoidarthritis  40474 non-null  int64  \n",
      " 31  ChronicCond_stroke               40474 non-null  int64  \n",
      " 32  Alive                            40474 non-null  object \n",
      " 33  ClmAdmitDiagnosisCode            40474 non-null  object \n",
      " 34  DiagnosisGroupCode               40474 non-null  object \n",
      " 35  ClmDiagnosisCode_1               40474 non-null  object \n",
      " 36  ClmDiagnosisCode_2               40474 non-null  object \n",
      " 37  ClmDiagnosisCode_3               40474 non-null  object \n",
      " 38  ClmDiagnosisCode_4               40474 non-null  object \n",
      " 39  ClmDiagnosisCode_5               40474 non-null  object \n",
      " 40  ClmDiagnosisCode_6               40474 non-null  object \n",
      " 41  ClmDiagnosisCode_7               40474 non-null  object \n",
      " 42  ClmDiagnosisCode_8               40474 non-null  object \n",
      " 43  ClmDiagnosisCode_9               40474 non-null  object \n",
      " 44  ClmDiagnosisCode_10              40474 non-null  object \n",
      " 45  ClmProcedureCode_1               40474 non-null  object \n",
      " 46  ClmProcedureCode_2               40474 non-null  object \n",
      " 47  ClmProcedureCode_3               40474 non-null  object \n",
      " 48  ClmProcedureCode_4               40474 non-null  object \n",
      " 49  ClmProcedureCode_5               40474 non-null  object \n",
      " 50  AttendingPhysicianPresent        40474 non-null  object \n",
      " 51  OtherPhysicianPresent            40474 non-null  object \n",
      " 52  OperatingPhysicianPresent        40474 non-null  object \n",
      "dtypes: float64(3), int64(24), object(26)\n",
      "memory usage: 16.7+ MB\n"
     ]
    }
   ],
   "source": [
    "Xlab2_df.info()"
   ]
  },
  {
   "cell_type": "code",
   "execution_count": 17,
   "metadata": {
    "ExecuteTime": {
     "end_time": "2020-07-01T06:22:57.872722Z",
     "start_time": "2020-07-01T06:22:57.786692Z"
    }
   },
   "outputs": [
    {
     "data": {
      "text/html": [
       "<div>\n",
       "<style scoped>\n",
       "    .dataframe tbody tr th:only-of-type {\n",
       "        vertical-align: middle;\n",
       "    }\n",
       "\n",
       "    .dataframe tbody tr th {\n",
       "        vertical-align: top;\n",
       "    }\n",
       "\n",
       "    .dataframe thead th {\n",
       "        text-align: right;\n",
       "    }\n",
       "</style>\n",
       "<table border=\"1\" class=\"dataframe\">\n",
       "  <thead>\n",
       "    <tr style=\"text-align: right;\">\n",
       "      <th></th>\n",
       "      <th>Age</th>\n",
       "      <th>NoPhysician</th>\n",
       "      <th>NoOfDiag</th>\n",
       "      <th>NoOfProc</th>\n",
       "      <th>ORD_DOD</th>\n",
       "      <th>ORD_DOB</th>\n",
       "      <th>ORD_ClaimStartDt</th>\n",
       "      <th>ORD_ClaimEndDt</th>\n",
       "      <th>ORD_AdmissionDt</th>\n",
       "      <th>ORD_DischargeDt</th>\n",
       "      <th>...</th>\n",
       "      <th>ClmDiagnosisCode_9</th>\n",
       "      <th>ClmDiagnosisCode_10</th>\n",
       "      <th>ClmProcedureCode_1</th>\n",
       "      <th>ClmProcedureCode_2</th>\n",
       "      <th>ClmProcedureCode_3</th>\n",
       "      <th>ClmProcedureCode_4</th>\n",
       "      <th>ClmProcedureCode_5</th>\n",
       "      <th>AttendingPhysicianPresent</th>\n",
       "      <th>OtherPhysicianPresent</th>\n",
       "      <th>OperatingPhysicianPresent</th>\n",
       "    </tr>\n",
       "  </thead>\n",
       "  <tbody>\n",
       "    <tr>\n",
       "      <th>0</th>\n",
       "      <td>66</td>\n",
       "      <td>1</td>\n",
       "      <td>9</td>\n",
       "      <td>0</td>\n",
       "      <td>719163</td>\n",
       "      <td>719163</td>\n",
       "      <td>733509</td>\n",
       "      <td>733515</td>\n",
       "      <td>733509</td>\n",
       "      <td>733515</td>\n",
       "      <td>...</td>\n",
       "      <td>5849</td>\n",
       "      <td>None</td>\n",
       "      <td>None</td>\n",
       "      <td>None</td>\n",
       "      <td>None</td>\n",
       "      <td>None</td>\n",
       "      <td>None</td>\n",
       "      <td>1</td>\n",
       "      <td>0</td>\n",
       "      <td>0</td>\n",
       "    </tr>\n",
       "    <tr>\n",
       "      <th>1</th>\n",
       "      <td>95</td>\n",
       "      <td>3</td>\n",
       "      <td>9</td>\n",
       "      <td>2</td>\n",
       "      <td>719163</td>\n",
       "      <td>719163</td>\n",
       "      <td>733427</td>\n",
       "      <td>733439</td>\n",
       "      <td>733427</td>\n",
       "      <td>733439</td>\n",
       "      <td>...</td>\n",
       "      <td>E9305</td>\n",
       "      <td>None</td>\n",
       "      <td>7769.0</td>\n",
       "      <td>5849.0</td>\n",
       "      <td>None</td>\n",
       "      <td>None</td>\n",
       "      <td>None</td>\n",
       "      <td>1</td>\n",
       "      <td>1</td>\n",
       "      <td>1</td>\n",
       "    </tr>\n",
       "    <tr>\n",
       "      <th>2</th>\n",
       "      <td>87</td>\n",
       "      <td>2</td>\n",
       "      <td>9</td>\n",
       "      <td>1</td>\n",
       "      <td>719163</td>\n",
       "      <td>719163</td>\n",
       "      <td>733697</td>\n",
       "      <td>733715</td>\n",
       "      <td>733697</td>\n",
       "      <td>733715</td>\n",
       "      <td>...</td>\n",
       "      <td>4019</td>\n",
       "      <td>None</td>\n",
       "      <td>9338.0</td>\n",
       "      <td>None</td>\n",
       "      <td>None</td>\n",
       "      <td>None</td>\n",
       "      <td>None</td>\n",
       "      <td>1</td>\n",
       "      <td>0</td>\n",
       "      <td>1</td>\n",
       "    </tr>\n",
       "    <tr>\n",
       "      <th>3</th>\n",
       "      <td>79</td>\n",
       "      <td>3</td>\n",
       "      <td>7</td>\n",
       "      <td>1</td>\n",
       "      <td>719163</td>\n",
       "      <td>719163</td>\n",
       "      <td>733705</td>\n",
       "      <td>733709</td>\n",
       "      <td>733705</td>\n",
       "      <td>733709</td>\n",
       "      <td>...</td>\n",
       "      <td>None</td>\n",
       "      <td>None</td>\n",
       "      <td>8154.0</td>\n",
       "      <td>None</td>\n",
       "      <td>None</td>\n",
       "      <td>None</td>\n",
       "      <td>None</td>\n",
       "      <td>1</td>\n",
       "      <td>1</td>\n",
       "      <td>1</td>\n",
       "    </tr>\n",
       "    <tr>\n",
       "      <th>4</th>\n",
       "      <td>83</td>\n",
       "      <td>2</td>\n",
       "      <td>1</td>\n",
       "      <td>1</td>\n",
       "      <td>719163</td>\n",
       "      <td>719163</td>\n",
       "      <td>733415</td>\n",
       "      <td>733419</td>\n",
       "      <td>733415</td>\n",
       "      <td>733419</td>\n",
       "      <td>...</td>\n",
       "      <td>None</td>\n",
       "      <td>None</td>\n",
       "      <td>8543.0</td>\n",
       "      <td>None</td>\n",
       "      <td>None</td>\n",
       "      <td>None</td>\n",
       "      <td>None</td>\n",
       "      <td>1</td>\n",
       "      <td>0</td>\n",
       "      <td>1</td>\n",
       "    </tr>\n",
       "    <tr>\n",
       "      <th>...</th>\n",
       "      <td>...</td>\n",
       "      <td>...</td>\n",
       "      <td>...</td>\n",
       "      <td>...</td>\n",
       "      <td>...</td>\n",
       "      <td>...</td>\n",
       "      <td>...</td>\n",
       "      <td>...</td>\n",
       "      <td>...</td>\n",
       "      <td>...</td>\n",
       "      <td>...</td>\n",
       "      <td>...</td>\n",
       "      <td>...</td>\n",
       "      <td>...</td>\n",
       "      <td>...</td>\n",
       "      <td>...</td>\n",
       "      <td>...</td>\n",
       "      <td>...</td>\n",
       "      <td>...</td>\n",
       "      <td>...</td>\n",
       "      <td>...</td>\n",
       "    </tr>\n",
       "    <tr>\n",
       "      <th>40469</th>\n",
       "      <td>57</td>\n",
       "      <td>3</td>\n",
       "      <td>9</td>\n",
       "      <td>1</td>\n",
       "      <td>719163</td>\n",
       "      <td>719163</td>\n",
       "      <td>733582</td>\n",
       "      <td>733589</td>\n",
       "      <td>733582</td>\n",
       "      <td>733589</td>\n",
       "      <td>...</td>\n",
       "      <td>0414</td>\n",
       "      <td>None</td>\n",
       "      <td>9955.0</td>\n",
       "      <td>None</td>\n",
       "      <td>None</td>\n",
       "      <td>None</td>\n",
       "      <td>None</td>\n",
       "      <td>1</td>\n",
       "      <td>1</td>\n",
       "      <td>1</td>\n",
       "    </tr>\n",
       "    <tr>\n",
       "      <th>40470</th>\n",
       "      <td>66</td>\n",
       "      <td>3</td>\n",
       "      <td>9</td>\n",
       "      <td>1</td>\n",
       "      <td>719163</td>\n",
       "      <td>719163</td>\n",
       "      <td>733656</td>\n",
       "      <td>733663</td>\n",
       "      <td>733656</td>\n",
       "      <td>733663</td>\n",
       "      <td>...</td>\n",
       "      <td>2639</td>\n",
       "      <td>None</td>\n",
       "      <td>3326.0</td>\n",
       "      <td>None</td>\n",
       "      <td>None</td>\n",
       "      <td>None</td>\n",
       "      <td>None</td>\n",
       "      <td>1</td>\n",
       "      <td>1</td>\n",
       "      <td>1</td>\n",
       "    </tr>\n",
       "    <tr>\n",
       "      <th>40471</th>\n",
       "      <td>70</td>\n",
       "      <td>1</td>\n",
       "      <td>9</td>\n",
       "      <td>0</td>\n",
       "      <td>719163</td>\n",
       "      <td>719163</td>\n",
       "      <td>733726</td>\n",
       "      <td>733734</td>\n",
       "      <td>733726</td>\n",
       "      <td>733734</td>\n",
       "      <td>...</td>\n",
       "      <td>2761</td>\n",
       "      <td>None</td>\n",
       "      <td>None</td>\n",
       "      <td>None</td>\n",
       "      <td>None</td>\n",
       "      <td>None</td>\n",
       "      <td>None</td>\n",
       "      <td>1</td>\n",
       "      <td>0</td>\n",
       "      <td>0</td>\n",
       "    </tr>\n",
       "    <tr>\n",
       "      <th>40472</th>\n",
       "      <td>51</td>\n",
       "      <td>2</td>\n",
       "      <td>8</td>\n",
       "      <td>1</td>\n",
       "      <td>719163</td>\n",
       "      <td>719163</td>\n",
       "      <td>733430</td>\n",
       "      <td>733430</td>\n",
       "      <td>733430</td>\n",
       "      <td>733430</td>\n",
       "      <td>...</td>\n",
       "      <td>None</td>\n",
       "      <td>None</td>\n",
       "      <td>9390.0</td>\n",
       "      <td>None</td>\n",
       "      <td>None</td>\n",
       "      <td>None</td>\n",
       "      <td>None</td>\n",
       "      <td>1</td>\n",
       "      <td>0</td>\n",
       "      <td>1</td>\n",
       "    </tr>\n",
       "    <tr>\n",
       "      <th>40473</th>\n",
       "      <td>57</td>\n",
       "      <td>2</td>\n",
       "      <td>10</td>\n",
       "      <td>1</td>\n",
       "      <td>719163</td>\n",
       "      <td>719163</td>\n",
       "      <td>733456</td>\n",
       "      <td>733463</td>\n",
       "      <td>733456</td>\n",
       "      <td>733463</td>\n",
       "      <td>...</td>\n",
       "      <td>32723</td>\n",
       "      <td>2724</td>\n",
       "      <td>3324.0</td>\n",
       "      <td>None</td>\n",
       "      <td>None</td>\n",
       "      <td>None</td>\n",
       "      <td>None</td>\n",
       "      <td>1</td>\n",
       "      <td>0</td>\n",
       "      <td>1</td>\n",
       "    </tr>\n",
       "  </tbody>\n",
       "</table>\n",
       "<p>40474 rows × 53 columns</p>\n",
       "</div>"
      ],
      "text/plain": [
       "       Age  NoPhysician  NoOfDiag  NoOfProc  ORD_DOD  ORD_DOB  \\\n",
       "0       66            1         9         0   719163   719163   \n",
       "1       95            3         9         2   719163   719163   \n",
       "2       87            2         9         1   719163   719163   \n",
       "3       79            3         7         1   719163   719163   \n",
       "4       83            2         1         1   719163   719163   \n",
       "...    ...          ...       ...       ...      ...      ...   \n",
       "40469   57            3         9         1   719163   719163   \n",
       "40470   66            3         9         1   719163   719163   \n",
       "40471   70            1         9         0   719163   719163   \n",
       "40472   51            2         8         1   719163   719163   \n",
       "40473   57            2        10         1   719163   719163   \n",
       "\n",
       "       ORD_ClaimStartDt  ORD_ClaimEndDt  ORD_AdmissionDt  ORD_DischargeDt  \\\n",
       "0                733509          733515           733509           733515   \n",
       "1                733427          733439           733427           733439   \n",
       "2                733697          733715           733697           733715   \n",
       "3                733705          733709           733705           733709   \n",
       "4                733415          733419           733415           733419   \n",
       "...                 ...             ...              ...              ...   \n",
       "40469            733582          733589           733582           733589   \n",
       "40470            733656          733663           733656           733663   \n",
       "40471            733726          733734           733726           733734   \n",
       "40472            733430          733430           733430           733430   \n",
       "40473            733456          733463           733456           733463   \n",
       "\n",
       "       ...  ClmDiagnosisCode_9  ClmDiagnosisCode_10  ClmProcedureCode_1  \\\n",
       "0      ...                5849                 None                None   \n",
       "1      ...               E9305                 None              7769.0   \n",
       "2      ...                4019                 None              9338.0   \n",
       "3      ...                None                 None              8154.0   \n",
       "4      ...                None                 None              8543.0   \n",
       "...    ...                 ...                  ...                 ...   \n",
       "40469  ...                0414                 None              9955.0   \n",
       "40470  ...                2639                 None              3326.0   \n",
       "40471  ...                2761                 None                None   \n",
       "40472  ...                None                 None              9390.0   \n",
       "40473  ...               32723                 2724              3324.0   \n",
       "\n",
       "       ClmProcedureCode_2 ClmProcedureCode_3 ClmProcedureCode_4  \\\n",
       "0                    None               None               None   \n",
       "1                  5849.0               None               None   \n",
       "2                    None               None               None   \n",
       "3                    None               None               None   \n",
       "4                    None               None               None   \n",
       "...                   ...                ...                ...   \n",
       "40469                None               None               None   \n",
       "40470                None               None               None   \n",
       "40471                None               None               None   \n",
       "40472                None               None               None   \n",
       "40473                None               None               None   \n",
       "\n",
       "      ClmProcedureCode_5 AttendingPhysicianPresent OtherPhysicianPresent  \\\n",
       "0                   None                         1                     0   \n",
       "1                   None                         1                     1   \n",
       "2                   None                         1                     0   \n",
       "3                   None                         1                     1   \n",
       "4                   None                         1                     0   \n",
       "...                  ...                       ...                   ...   \n",
       "40469               None                         1                     1   \n",
       "40470               None                         1                     1   \n",
       "40471               None                         1                     0   \n",
       "40472               None                         1                     0   \n",
       "40473               None                         1                     0   \n",
       "\n",
       "       OperatingPhysicianPresent  \n",
       "0                              0  \n",
       "1                              1  \n",
       "2                              1  \n",
       "3                              1  \n",
       "4                              1  \n",
       "...                          ...  \n",
       "40469                          1  \n",
       "40470                          1  \n",
       "40471                          0  \n",
       "40472                          1  \n",
       "40473                          1  \n",
       "\n",
       "[40474 rows x 53 columns]"
      ]
     },
     "execution_count": 17,
     "metadata": {},
     "output_type": "execute_result"
    }
   ],
   "source": [
    "Xlab2_df"
   ]
  },
  {
   "cell_type": "code",
   "execution_count": 18,
   "metadata": {
    "ExecuteTime": {
     "end_time": "2020-07-01T06:22:58.026733Z",
     "start_time": "2020-07-01T06:22:57.879730Z"
    }
   },
   "outputs": [
    {
     "data": {
      "text/html": [
       "<div>\n",
       "<style scoped>\n",
       "    .dataframe tbody tr th:only-of-type {\n",
       "        vertical-align: middle;\n",
       "    }\n",
       "\n",
       "    .dataframe tbody tr th {\n",
       "        vertical-align: top;\n",
       "    }\n",
       "\n",
       "    .dataframe thead th {\n",
       "        text-align: right;\n",
       "    }\n",
       "</style>\n",
       "<table border=\"1\" class=\"dataframe\">\n",
       "  <thead>\n",
       "    <tr style=\"text-align: right;\">\n",
       "      <th></th>\n",
       "      <th>Age</th>\n",
       "      <th>NoPhysician</th>\n",
       "      <th>NoOfDiag</th>\n",
       "      <th>NoOfProc</th>\n",
       "      <th>ORD_DOD</th>\n",
       "      <th>ORD_DOB</th>\n",
       "      <th>ORD_ClaimStartDt</th>\n",
       "      <th>ORD_ClaimEndDt</th>\n",
       "      <th>ORD_AdmissionDt</th>\n",
       "      <th>ORD_DischargeDt</th>\n",
       "      <th>...</th>\n",
       "      <th>ChronicCond_Heartfailure</th>\n",
       "      <th>ChronicCond_KidneyDisease</th>\n",
       "      <th>ChronicCond_Cancer</th>\n",
       "      <th>ChronicCond_ObstrPulmonary</th>\n",
       "      <th>ChronicCond_Depression</th>\n",
       "      <th>ChronicCond_Diabetes</th>\n",
       "      <th>ChronicCond_IschemicHeart</th>\n",
       "      <th>ChronicCond_Osteoporasis</th>\n",
       "      <th>ChronicCond_rheumatoidarthritis</th>\n",
       "      <th>ChronicCond_stroke</th>\n",
       "    </tr>\n",
       "  </thead>\n",
       "  <tbody>\n",
       "    <tr>\n",
       "      <th>count</th>\n",
       "      <td>40474.000000</td>\n",
       "      <td>40474.000000</td>\n",
       "      <td>40474.000000</td>\n",
       "      <td>40474.000000</td>\n",
       "      <td>40474.0</td>\n",
       "      <td>40474.0</td>\n",
       "      <td>40474.000000</td>\n",
       "      <td>40474.000000</td>\n",
       "      <td>40474.000000</td>\n",
       "      <td>40474.000000</td>\n",
       "      <td>...</td>\n",
       "      <td>40474.000000</td>\n",
       "      <td>40474.000000</td>\n",
       "      <td>40474.000000</td>\n",
       "      <td>40474.000000</td>\n",
       "      <td>40474.000000</td>\n",
       "      <td>40474.000000</td>\n",
       "      <td>40474.000000</td>\n",
       "      <td>40474.000000</td>\n",
       "      <td>40474.000000</td>\n",
       "      <td>40474.000000</td>\n",
       "    </tr>\n",
       "    <tr>\n",
       "      <th>mean</th>\n",
       "      <td>73.181598</td>\n",
       "      <td>1.701883</td>\n",
       "      <td>8.087365</td>\n",
       "      <td>0.733607</td>\n",
       "      <td>719163.0</td>\n",
       "      <td>719163.0</td>\n",
       "      <td>733577.740698</td>\n",
       "      <td>733583.400949</td>\n",
       "      <td>733577.734867</td>\n",
       "      <td>733583.400035</td>\n",
       "      <td>...</td>\n",
       "      <td>0.721821</td>\n",
       "      <td>0.601769</td>\n",
       "      <td>0.190962</td>\n",
       "      <td>0.479147</td>\n",
       "      <td>0.502224</td>\n",
       "      <td>0.802046</td>\n",
       "      <td>0.856698</td>\n",
       "      <td>0.351559</td>\n",
       "      <td>0.360355</td>\n",
       "      <td>0.169837</td>\n",
       "    </tr>\n",
       "    <tr>\n",
       "      <th>std</th>\n",
       "      <td>13.187784</td>\n",
       "      <td>0.618905</td>\n",
       "      <td>1.851830</td>\n",
       "      <td>0.761113</td>\n",
       "      <td>0.0</td>\n",
       "      <td>0.0</td>\n",
       "      <td>104.884925</td>\n",
       "      <td>104.658338</td>\n",
       "      <td>104.888036</td>\n",
       "      <td>104.659525</td>\n",
       "      <td>...</td>\n",
       "      <td>0.448107</td>\n",
       "      <td>0.489540</td>\n",
       "      <td>0.393064</td>\n",
       "      <td>0.499571</td>\n",
       "      <td>0.500001</td>\n",
       "      <td>0.398462</td>\n",
       "      <td>0.350385</td>\n",
       "      <td>0.477463</td>\n",
       "      <td>0.480109</td>\n",
       "      <td>0.375495</td>\n",
       "    </tr>\n",
       "    <tr>\n",
       "      <th>min</th>\n",
       "      <td>25.000000</td>\n",
       "      <td>0.000000</td>\n",
       "      <td>1.000000</td>\n",
       "      <td>0.000000</td>\n",
       "      <td>719163.0</td>\n",
       "      <td>719163.0</td>\n",
       "      <td>733373.000000</td>\n",
       "      <td>733408.000000</td>\n",
       "      <td>733373.000000</td>\n",
       "      <td>733408.000000</td>\n",
       "      <td>...</td>\n",
       "      <td>0.000000</td>\n",
       "      <td>0.000000</td>\n",
       "      <td>0.000000</td>\n",
       "      <td>0.000000</td>\n",
       "      <td>0.000000</td>\n",
       "      <td>0.000000</td>\n",
       "      <td>0.000000</td>\n",
       "      <td>0.000000</td>\n",
       "      <td>0.000000</td>\n",
       "      <td>0.000000</td>\n",
       "    </tr>\n",
       "    <tr>\n",
       "      <th>25%</th>\n",
       "      <td>67.000000</td>\n",
       "      <td>1.000000</td>\n",
       "      <td>8.000000</td>\n",
       "      <td>0.000000</td>\n",
       "      <td>719163.0</td>\n",
       "      <td>719163.0</td>\n",
       "      <td>733486.000000</td>\n",
       "      <td>733492.000000</td>\n",
       "      <td>733486.000000</td>\n",
       "      <td>733492.000000</td>\n",
       "      <td>...</td>\n",
       "      <td>0.000000</td>\n",
       "      <td>0.000000</td>\n",
       "      <td>0.000000</td>\n",
       "      <td>0.000000</td>\n",
       "      <td>0.000000</td>\n",
       "      <td>1.000000</td>\n",
       "      <td>1.000000</td>\n",
       "      <td>0.000000</td>\n",
       "      <td>0.000000</td>\n",
       "      <td>0.000000</td>\n",
       "    </tr>\n",
       "    <tr>\n",
       "      <th>50%</th>\n",
       "      <td>74.000000</td>\n",
       "      <td>2.000000</td>\n",
       "      <td>9.000000</td>\n",
       "      <td>1.000000</td>\n",
       "      <td>719163.0</td>\n",
       "      <td>719163.0</td>\n",
       "      <td>733574.000000</td>\n",
       "      <td>733580.000000</td>\n",
       "      <td>733574.000000</td>\n",
       "      <td>733580.000000</td>\n",
       "      <td>...</td>\n",
       "      <td>1.000000</td>\n",
       "      <td>1.000000</td>\n",
       "      <td>0.000000</td>\n",
       "      <td>0.000000</td>\n",
       "      <td>1.000000</td>\n",
       "      <td>1.000000</td>\n",
       "      <td>1.000000</td>\n",
       "      <td>0.000000</td>\n",
       "      <td>0.000000</td>\n",
       "      <td>0.000000</td>\n",
       "    </tr>\n",
       "    <tr>\n",
       "      <th>75%</th>\n",
       "      <td>82.000000</td>\n",
       "      <td>2.000000</td>\n",
       "      <td>9.000000</td>\n",
       "      <td>1.000000</td>\n",
       "      <td>719163.0</td>\n",
       "      <td>719163.0</td>\n",
       "      <td>733667.000000</td>\n",
       "      <td>733673.000000</td>\n",
       "      <td>733667.000000</td>\n",
       "      <td>733673.000000</td>\n",
       "      <td>...</td>\n",
       "      <td>1.000000</td>\n",
       "      <td>1.000000</td>\n",
       "      <td>0.000000</td>\n",
       "      <td>1.000000</td>\n",
       "      <td>1.000000</td>\n",
       "      <td>1.000000</td>\n",
       "      <td>1.000000</td>\n",
       "      <td>1.000000</td>\n",
       "      <td>1.000000</td>\n",
       "      <td>0.000000</td>\n",
       "    </tr>\n",
       "    <tr>\n",
       "      <th>max</th>\n",
       "      <td>101.000000</td>\n",
       "      <td>3.000000</td>\n",
       "      <td>10.000000</td>\n",
       "      <td>5.000000</td>\n",
       "      <td>719163.0</td>\n",
       "      <td>719163.0</td>\n",
       "      <td>733772.000000</td>\n",
       "      <td>733772.000000</td>\n",
       "      <td>733772.000000</td>\n",
       "      <td>733772.000000</td>\n",
       "      <td>...</td>\n",
       "      <td>1.000000</td>\n",
       "      <td>1.000000</td>\n",
       "      <td>1.000000</td>\n",
       "      <td>1.000000</td>\n",
       "      <td>1.000000</td>\n",
       "      <td>1.000000</td>\n",
       "      <td>1.000000</td>\n",
       "      <td>1.000000</td>\n",
       "      <td>1.000000</td>\n",
       "      <td>1.000000</td>\n",
       "    </tr>\n",
       "  </tbody>\n",
       "</table>\n",
       "<p>8 rows × 27 columns</p>\n",
       "</div>"
      ],
      "text/plain": [
       "                Age   NoPhysician      NoOfDiag      NoOfProc   ORD_DOD  \\\n",
       "count  40474.000000  40474.000000  40474.000000  40474.000000   40474.0   \n",
       "mean      73.181598      1.701883      8.087365      0.733607  719163.0   \n",
       "std       13.187784      0.618905      1.851830      0.761113       0.0   \n",
       "min       25.000000      0.000000      1.000000      0.000000  719163.0   \n",
       "25%       67.000000      1.000000      8.000000      0.000000  719163.0   \n",
       "50%       74.000000      2.000000      9.000000      1.000000  719163.0   \n",
       "75%       82.000000      2.000000      9.000000      1.000000  719163.0   \n",
       "max      101.000000      3.000000     10.000000      5.000000  719163.0   \n",
       "\n",
       "        ORD_DOB  ORD_ClaimStartDt  ORD_ClaimEndDt  ORD_AdmissionDt  \\\n",
       "count   40474.0      40474.000000    40474.000000     40474.000000   \n",
       "mean   719163.0     733577.740698   733583.400949    733577.734867   \n",
       "std         0.0        104.884925      104.658338       104.888036   \n",
       "min    719163.0     733373.000000   733408.000000    733373.000000   \n",
       "25%    719163.0     733486.000000   733492.000000    733486.000000   \n",
       "50%    719163.0     733574.000000   733580.000000    733574.000000   \n",
       "75%    719163.0     733667.000000   733673.000000    733667.000000   \n",
       "max    719163.0     733772.000000   733772.000000    733772.000000   \n",
       "\n",
       "       ORD_DischargeDt  ...  ChronicCond_Heartfailure  \\\n",
       "count     40474.000000  ...              40474.000000   \n",
       "mean     733583.400035  ...                  0.721821   \n",
       "std         104.659525  ...                  0.448107   \n",
       "min      733408.000000  ...                  0.000000   \n",
       "25%      733492.000000  ...                  0.000000   \n",
       "50%      733580.000000  ...                  1.000000   \n",
       "75%      733673.000000  ...                  1.000000   \n",
       "max      733772.000000  ...                  1.000000   \n",
       "\n",
       "       ChronicCond_KidneyDisease  ChronicCond_Cancer  \\\n",
       "count               40474.000000        40474.000000   \n",
       "mean                    0.601769            0.190962   \n",
       "std                     0.489540            0.393064   \n",
       "min                     0.000000            0.000000   \n",
       "25%                     0.000000            0.000000   \n",
       "50%                     1.000000            0.000000   \n",
       "75%                     1.000000            0.000000   \n",
       "max                     1.000000            1.000000   \n",
       "\n",
       "       ChronicCond_ObstrPulmonary  ChronicCond_Depression  \\\n",
       "count                40474.000000            40474.000000   \n",
       "mean                     0.479147                0.502224   \n",
       "std                      0.499571                0.500001   \n",
       "min                      0.000000                0.000000   \n",
       "25%                      0.000000                0.000000   \n",
       "50%                      0.000000                1.000000   \n",
       "75%                      1.000000                1.000000   \n",
       "max                      1.000000                1.000000   \n",
       "\n",
       "       ChronicCond_Diabetes  ChronicCond_IschemicHeart  \\\n",
       "count          40474.000000               40474.000000   \n",
       "mean               0.802046                   0.856698   \n",
       "std                0.398462                   0.350385   \n",
       "min                0.000000                   0.000000   \n",
       "25%                1.000000                   1.000000   \n",
       "50%                1.000000                   1.000000   \n",
       "75%                1.000000                   1.000000   \n",
       "max                1.000000                   1.000000   \n",
       "\n",
       "       ChronicCond_Osteoporasis  ChronicCond_rheumatoidarthritis  \\\n",
       "count              40474.000000                     40474.000000   \n",
       "mean                   0.351559                         0.360355   \n",
       "std                    0.477463                         0.480109   \n",
       "min                    0.000000                         0.000000   \n",
       "25%                    0.000000                         0.000000   \n",
       "50%                    0.000000                         0.000000   \n",
       "75%                    1.000000                         1.000000   \n",
       "max                    1.000000                         1.000000   \n",
       "\n",
       "       ChronicCond_stroke  \n",
       "count        40474.000000  \n",
       "mean             0.169837  \n",
       "std              0.375495  \n",
       "min              0.000000  \n",
       "25%              0.000000  \n",
       "50%              0.000000  \n",
       "75%              0.000000  \n",
       "max              1.000000  \n",
       "\n",
       "[8 rows x 27 columns]"
      ]
     },
     "execution_count": 18,
     "metadata": {},
     "output_type": "execute_result"
    }
   ],
   "source": [
    "Xlab2_df.describe()"
   ]
  },
  {
   "cell_type": "markdown",
   "metadata": {},
   "source": [
    "## Sparse Matrix"
   ]
  },
  {
   "cell_type": "markdown",
   "metadata": {},
   "source": [
    "Transform data back into a sparse matrix. **CSC(Compressed Sparse Column)** is more efficient at accessing column-vectors or column operations, generally, as it is stored as arrays of columns and their value at each row.\n",
    "\n"
   ]
  },
  {
   "cell_type": "code",
   "execution_count": 19,
   "metadata": {
    "ExecuteTime": {
     "end_time": "2020-07-01T06:23:23.535426Z",
     "start_time": "2020-07-01T06:22:58.029598Z"
    }
   },
   "outputs": [],
   "source": [
    "X = csc_matrix(X1)"
   ]
  },
  {
   "cell_type": "markdown",
   "metadata": {},
   "source": [
    "## Train and Test split"
   ]
  },
  {
   "cell_type": "code",
   "execution_count": 20,
   "metadata": {
    "ExecuteTime": {
     "end_time": "2020-07-01T06:23:23.583989Z",
     "start_time": "2020-07-01T06:23:23.537526Z"
    }
   },
   "outputs": [],
   "source": [
    "# split X and y into training and testing sets\n",
    "\n",
    "X_train,X_test,y_train,y_test = train_test_split(X,target_df,test_size=0.2,random_state=86)"
   ]
  },
  {
   "cell_type": "markdown",
   "metadata": {},
   "source": [
    "# Modeling and Evaluations 1"
   ]
  },
  {
   "cell_type": "markdown",
   "metadata": {},
   "source": [
    "# Modeling and Evaluations 2"
   ]
  },
  {
   "cell_type": "markdown",
   "metadata": {},
   "source": [
    "# Modeling and Evaluations 3"
   ]
  },
  {
   "cell_type": "markdown",
   "metadata": {},
   "source": [
    "## Create Models"
   ]
  },
  {
   "cell_type": "markdown",
   "metadata": {
    "ExecuteTime": {
     "end_time": "2020-07-01T06:48:18.365325Z",
     "start_time": "2020-07-01T06:48:18.361523Z"
    }
   },
   "source": [
    "<b>Classifcation Models </b>\n",
    "* Logistic regression\n",
    "* Random Forest\n",
    "* Naive Bayes\n",
    "\n",
    "<b>Regression Models </b>\n",
    "* Multiple Linear Regression\n",
    "* Random Forest\n",
    "* kNN"
   ]
  },
  {
   "cell_type": "markdown",
   "metadata": {},
   "source": [
    "# Modeling and Evaluations 4"
   ]
  },
  {
   "cell_type": "markdown",
   "metadata": {},
   "source": [
    "# Modeling and Evaluations 5"
   ]
  },
  {
   "cell_type": "markdown",
   "metadata": {},
   "source": [
    "# Modeling and Evaluations 6"
   ]
  },
  {
   "cell_type": "markdown",
   "metadata": {},
   "source": [
    "# Deployment"
   ]
  },
  {
   "cell_type": "markdown",
   "metadata": {},
   "source": [
    "# Exceptional Work"
   ]
  },
  {
   "cell_type": "markdown",
   "metadata": {},
   "source": [
    "# References"
   ]
  },
  {
   "cell_type": "code",
   "execution_count": null,
   "metadata": {},
   "outputs": [],
   "source": []
  }
 ],
 "metadata": {
  "kernelspec": {
   "display_name": "Python 3",
   "language": "python",
   "name": "python3"
  },
  "language_info": {
   "codemirror_mode": {
    "name": "ipython",
    "version": 3
   },
   "file_extension": ".py",
   "mimetype": "text/x-python",
   "name": "python",
   "nbconvert_exporter": "python",
   "pygments_lexer": "ipython3",
   "version": "3.8.2"
  },
  "latex_envs": {
   "LaTeX_envs_menu_present": false,
   "autoclose": false,
   "autocomplete": true,
   "bibliofile": "biblio.bib",
   "cite_by": "apalike",
   "current_citInitial": 1,
   "eqLabelWithNumbers": true,
   "eqNumInitial": 1,
   "hotkeys": {
    "equation": "Ctrl-E",
    "itemize": "Ctrl-I"
   },
   "labels_anchors": true,
   "latex_user_defs": false,
   "report_style_numbering": false,
   "user_envs_cfg": false
  },
  "toc": {
   "base_numbering": 1,
   "nav_menu": {},
   "number_sections": false,
   "sideBar": true,
   "skip_h1_title": false,
   "title_cell": "Table of Contents",
   "title_sidebar": "Contents",
   "toc_cell": true,
   "toc_position": {
    "height": "calc(100% - 180px)",
    "left": "10px",
    "top": "150px",
    "width": "285px"
   },
   "toc_section_display": true,
   "toc_window_display": false
  },
  "varInspector": {
   "cols": {
    "lenName": 16,
    "lenType": 16,
    "lenVar": 40
   },
   "kernels_config": {
    "python": {
     "delete_cmd_postfix": "",
     "delete_cmd_prefix": "del ",
     "library": "var_list.py",
     "varRefreshCmd": "print(var_dic_list())"
    },
    "r": {
     "delete_cmd_postfix": ") ",
     "delete_cmd_prefix": "rm(",
     "library": "var_list.r",
     "varRefreshCmd": "cat(var_dic_list()) "
    }
   },
   "oldHeight": 365,
   "position": {
    "height": "40px",
    "left": "789px",
    "right": "20px",
    "top": "120px",
    "width": "630px"
   },
   "types_to_exclude": [
    "module",
    "function",
    "builtin_function_or_method",
    "instance",
    "_Feature"
   ],
   "varInspector_section_display": "none",
   "window_display": false
  }
 },
 "nbformat": 4,
 "nbformat_minor": 4
}
