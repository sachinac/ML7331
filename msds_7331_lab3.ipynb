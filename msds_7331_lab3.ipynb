{
 "cells": [
  {
   "cell_type": "markdown",
   "metadata": {},
   "source": [
    "<font size=6> <b> SMU Lab Three - MSDS7331 - Machine Learning-1 </b> </font>\n",
    "\n",
    "<font size=5> <b> Summer 2020 Group - Sachin, Ikenna, Edgar, Dustin </b></font> \n",
    "\n",
    "\n",
    "\n",
    "\n",
    "<img src=\"https://github.com/sachinac/ML7331/blob/master/data/maxresdefault.png?raw=true\"> \n",
    "\n",
    "<p align=\"center\"><font size=5> <b> Movie Recommender System  </b></font> </p>"
   ]
  },
  {
   "cell_type": "markdown",
   "metadata": {
    "toc": true
   },
   "source": [
    "<h1>Table of Contents<span class=\"tocSkip\"></span></h1>\n",
    "<div class=\"toc\"><ul class=\"toc-item\"><li><span><a href=\"#Import-Libraries\" data-toc-modified-id=\"Import-Libraries-1\">Import Libraries</a></span></li><li><span><a href=\"#Business-Understanding-1\" data-toc-modified-id=\"Business-Understanding-1-2\">Business Understanding 1</a></span></li><li><span><a href=\"#Data-Understanding-1\" data-toc-modified-id=\"Data-Understanding-1-3\">Data Understanding 1</a></span></li><li><span><a href=\"#Data-Understanding-2\" data-toc-modified-id=\"Data-Understanding-2-4\">Data Understanding 2</a></span></li><li><span><a href=\"#Model-and-Evaluations-1\" data-toc-modified-id=\"Model-and-Evaluations-1-5\">Model and Evaluations 1</a></span></li><li><span><a href=\"#Model-and-Evaluations-2\" data-toc-modified-id=\"Model-and-Evaluations-2-6\">Model and Evaluations 2</a></span></li><li><span><a href=\"#Model-and-Evaluations-3\" data-toc-modified-id=\"Model-and-Evaluations-3-7\">Model and Evaluations 3</a></span></li><li><span><a href=\"#Model-and-Evaluations-4\" data-toc-modified-id=\"Model-and-Evaluations-4-8\">Model and Evaluations 4</a></span></li><li><span><a href=\"#Deployment\" data-toc-modified-id=\"Deployment-9\">Deployment</a></span></li><li><span><a href=\"#Exceptional-Work\" data-toc-modified-id=\"Exceptional-Work-10\">Exceptional Work</a></span></li><li><span><a href=\"#References\" data-toc-modified-id=\"References-11\">References</a></span></li></ul></div>"
   ]
  },
  {
   "cell_type": "markdown",
   "metadata": {},
   "source": [
    "# Import Libraries"
   ]
  },
  {
   "cell_type": "code",
   "execution_count": 314,
   "metadata": {},
   "outputs": [],
   "source": [
    "import pandas as pd\n",
    "import numpy as np\n",
    "import turicreate as tc\n",
    "import ast\n",
    "import wget\n",
    "import zipfile\n",
    "import os\n",
    "import seaborn as sns\n",
    "import matplotlib.pyplot as plt\n",
    "\n",
    "from sklearn.preprocessing import MultiLabelBinarizer\n",
    "from wordcloud import WordCloud, STOPWORDS\n",
    "\n",
    "timebreak = '\\n\\n----------------------------------------------------\\nCell Processing Time'"
   ]
  },
  {
   "cell_type": "markdown",
   "metadata": {},
   "source": [
    "# Business Understanding\n",
    "\n",
    "We wanted to build a movie recommendation system that would go a bit deeper than the traditional grouplens movie ratings dataset.  In this notebook, we will be utilizing the popular movies dataset comprised of 26 million movie ratings from the GroupLens website, but with additional augmented data from TMDB which provides details including more detailed movie metadata such as: cast, crew, budget, country, revenue, languages and plot keywords on approximately 45,000 movies released prior to August 2017.\n",
    "\n",
    "We will explore various methods for recommending movies to users based on content based and collaborative filtering methods. Because movie taste is highly subjective, it may prove difficult to measure the effectiveness of our algorithms, but we will capture Root Mean Square Errored (RMSE) to compare predicted vs actual ratings for items.  We will also look at precision and recall for per-user and per-item metrics, as well as calculating metrics in different ways such as by genre or country or origin.\n",
    "\n"
   ]
  },
  {
   "cell_type": "markdown",
   "metadata": {},
   "source": [
    "# Data Understanding 1 - First Impressions\n"
   ]
  },
  {
   "cell_type": "markdown",
   "metadata": {},
   "source": [
    "## Downloading the data:\n",
    "Because the unzipped data is ~ 900mb, we've saved it in an AWS S3 bucket as a zip file.  We've added the movies data directory to our *.gitignore* file so it doesn't get picked up in github.  This chunk of code does the following:\n",
    "* Check if the movie directory exists, create it if not, skip the step if so.  \n",
    "* Checks files in the directory against expected files, if not found, download the zip file from AWS, extracts and deletes the downloaded zip file, then cleans up created variables."
   ]
  },
  {
   "cell_type": "code",
   "execution_count": 62,
   "metadata": {},
   "outputs": [
    {
     "name": "stdout",
     "output_type": "stream",
     "text": [
      "Movie files are present! \n",
      "\n",
      "----------------------------------------------------\n",
      "Cell Processing Time\n",
      "CPU times: user 1.27 ms, sys: 33 µs, total: 1.3 ms\n",
      "Wall time: 690 µs\n"
     ]
    }
   ],
   "source": [
    "%%time\n",
    "movie_dir = './data/movies'\n",
    "movie_zipfile = movie_dir + '/movies.zip'\n",
    "expected_files = ['keywords.csv', 'credits.csv', 'ratings.csv', 'ratings_small.csv', 'links_small.csv', 'movies_metadata.csv', 'links.csv']\n",
    "movie_data = 'https://ml7331.s3.us-east-2.amazonaws.com/3405_6663_bundle_archive.zip'\n",
    "\n",
    "# If movie directory doesn't exist, create it\n",
    "if not os.path.isdir(movie_dir):\n",
    "    print('creating directory:', movie_dir)\n",
    "    os.mkdir(movie_dir)\n",
    "\n",
    "# If all expected files are not present, download a fresh copy of movie data:    \n",
    "if not all(files in os.listdir(movie_dir) for files in expected_files):\n",
    "    print('downloading files...')\n",
    "    wget.download(movie_data, movie_zipfile)\n",
    "    print('unzipping files...')\n",
    "    with zipfile.ZipFile(movie_zipfile, 'r') as zip_ref:\n",
    "        zip_ref.extractall(movie_dir)\n",
    "    os.remove(movie_zipfile)\n",
    "    \n",
    "del movie_data, movie_zipfile, movie_dir, expected_files\n",
    "print('Movie files are present!', timebreak)"
   ]
  },
  {
   "cell_type": "code",
   "execution_count": 99,
   "metadata": {},
   "outputs": [
    {
     "name": "stdout",
     "output_type": "stream",
     "text": [
      "CPU times: user 10.8 ms, sys: 34 µs, total: 10.8 ms\n",
      "Wall time: 9.94 ms\n"
     ]
    },
    {
     "data": {
      "text/html": [
       "<div>\n",
       "<style scoped>\n",
       "    .dataframe tbody tr th:only-of-type {\n",
       "        vertical-align: middle;\n",
       "    }\n",
       "\n",
       "    .dataframe tbody tr th {\n",
       "        vertical-align: top;\n",
       "    }\n",
       "\n",
       "    .dataframe thead th {\n",
       "        text-align: right;\n",
       "    }\n",
       "</style>\n",
       "<table border=\"1\" class=\"dataframe\">\n",
       "  <thead>\n",
       "    <tr style=\"text-align: right;\">\n",
       "      <th></th>\n",
       "      <th>movieId</th>\n",
       "      <th>imdbId</th>\n",
       "      <th>tmdbId</th>\n",
       "    </tr>\n",
       "  </thead>\n",
       "  <tbody>\n",
       "    <tr>\n",
       "      <th>0</th>\n",
       "      <td>1</td>\n",
       "      <td>114709</td>\n",
       "      <td>862.0</td>\n",
       "    </tr>\n",
       "    <tr>\n",
       "      <th>1</th>\n",
       "      <td>2</td>\n",
       "      <td>113497</td>\n",
       "      <td>8844.0</td>\n",
       "    </tr>\n",
       "    <tr>\n",
       "      <th>2</th>\n",
       "      <td>3</td>\n",
       "      <td>113228</td>\n",
       "      <td>15602.0</td>\n",
       "    </tr>\n",
       "    <tr>\n",
       "      <th>3</th>\n",
       "      <td>4</td>\n",
       "      <td>114885</td>\n",
       "      <td>31357.0</td>\n",
       "    </tr>\n",
       "    <tr>\n",
       "      <th>4</th>\n",
       "      <td>5</td>\n",
       "      <td>113041</td>\n",
       "      <td>11862.0</td>\n",
       "    </tr>\n",
       "    <tr>\n",
       "      <th>...</th>\n",
       "      <td>...</td>\n",
       "      <td>...</td>\n",
       "      <td>...</td>\n",
       "    </tr>\n",
       "    <tr>\n",
       "      <th>9120</th>\n",
       "      <td>162672</td>\n",
       "      <td>3859980</td>\n",
       "      <td>402672.0</td>\n",
       "    </tr>\n",
       "    <tr>\n",
       "      <th>9121</th>\n",
       "      <td>163056</td>\n",
       "      <td>4262980</td>\n",
       "      <td>315011.0</td>\n",
       "    </tr>\n",
       "    <tr>\n",
       "      <th>9122</th>\n",
       "      <td>163949</td>\n",
       "      <td>2531318</td>\n",
       "      <td>391698.0</td>\n",
       "    </tr>\n",
       "    <tr>\n",
       "      <th>9123</th>\n",
       "      <td>164977</td>\n",
       "      <td>27660</td>\n",
       "      <td>137608.0</td>\n",
       "    </tr>\n",
       "    <tr>\n",
       "      <th>9124</th>\n",
       "      <td>164979</td>\n",
       "      <td>3447228</td>\n",
       "      <td>410803.0</td>\n",
       "    </tr>\n",
       "  </tbody>\n",
       "</table>\n",
       "<p>9125 rows × 3 columns</p>\n",
       "</div>"
      ],
      "text/plain": [
       "      movieId   imdbId    tmdbId\n",
       "0           1   114709     862.0\n",
       "1           2   113497    8844.0\n",
       "2           3   113228   15602.0\n",
       "3           4   114885   31357.0\n",
       "4           5   113041   11862.0\n",
       "...       ...      ...       ...\n",
       "9120   162672  3859980  402672.0\n",
       "9121   163056  4262980  315011.0\n",
       "9122   163949  2531318  391698.0\n",
       "9123   164977    27660  137608.0\n",
       "9124   164979  3447228  410803.0\n",
       "\n",
       "[9125 rows x 3 columns]"
      ]
     },
     "execution_count": 99,
     "metadata": {},
     "output_type": "execute_result"
    }
   ],
   "source": [
    "%%time\n",
    "# Read in datasets\n",
    "#TODO: these should go in their own sections eventually\n",
    "links = pd.read_csv('./data/movies/links.csv')\n",
    "links_small = pd.read_csv('./data/movies/links_small.csv')\n",
    "\n",
    "links_small"
   ]
  },
  {
   "cell_type": "markdown",
   "metadata": {},
   "source": [
    "## Movie Credits\n",
    "\n",
    "The credits dataset (found in /data/credits.csv) has a movie id column and provides two JSON objects stored as a string representing the crew and cast.  It uses single quotes for strings, except in cases where a single quote is used, these strings are wrapped in double quotes.  Well formed JSON expects strings to be wrapped in double quotes, so we'll write a little helper function using the *literal_eval* function from the Abstract Syntax Trees package.\n",
    "\n",
    "After parsing them as literal into a list object, we can pick out **directors, producers and actors**, which we think will be most important in influencing recommendations.  We'll save these as list objects which we can then merge into our movies dataset.\n",
    "\n",
    "We also discovered 44 duplicate entries in this file, which from a sample of random selections appear to be true duplicates and will be safely removed."
   ]
  },
  {
   "cell_type": "code",
   "execution_count": 69,
   "metadata": {},
   "outputs": [
    {
     "name": "stdout",
     "output_type": "stream",
     "text": [
      "Removed 44 duplicate rows.\n",
      "\n",
      "<class 'pandas.core.frame.DataFrame'>\n",
      "Int64Index: 45011 entries, 0 to 45475\n",
      "Data columns (total 6 columns):\n",
      " #   Column     Non-Null Count  Dtype \n",
      "---  ------     --------------  ----- \n",
      " 0   cast       45011 non-null  object\n",
      " 1   crew       45011 non-null  object\n",
      " 2   id         45011 non-null  int64 \n",
      " 3   directors  45011 non-null  object\n",
      " 4   producers  45011 non-null  object\n",
      " 5   actors     45011 non-null  object\n",
      "dtypes: int64(1), object(5)\n",
      "memory usage: 2.4+ MB\n",
      "None \n",
      "\n",
      "----------------------------------------------------\n",
      "Cell Processing Time\n",
      "CPU times: user 36.8 s, sys: 84.1 ms, total: 36.9 s\n",
      "Wall time: 36.9 s\n"
     ]
    },
    {
     "data": {
      "text/html": [
       "<div>\n",
       "<style scoped>\n",
       "    .dataframe tbody tr th:only-of-type {\n",
       "        vertical-align: middle;\n",
       "    }\n",
       "\n",
       "    .dataframe tbody tr th {\n",
       "        vertical-align: top;\n",
       "    }\n",
       "\n",
       "    .dataframe thead th {\n",
       "        text-align: right;\n",
       "    }\n",
       "</style>\n",
       "<table border=\"1\" class=\"dataframe\">\n",
       "  <thead>\n",
       "    <tr style=\"text-align: right;\">\n",
       "      <th></th>\n",
       "      <th>cast</th>\n",
       "      <th>crew</th>\n",
       "      <th>id</th>\n",
       "      <th>directors</th>\n",
       "      <th>producers</th>\n",
       "      <th>actors</th>\n",
       "    </tr>\n",
       "  </thead>\n",
       "  <tbody>\n",
       "    <tr>\n",
       "      <th>0</th>\n",
       "      <td>[{'cast_id': 14, 'character': 'Woody (voice)',...</td>\n",
       "      <td>[{'credit_id': '52fe4284c3a36847f8024f49', 'de...</td>\n",
       "      <td>862</td>\n",
       "      <td>[John Lasseter, Ash Brannon, William Reeves, R...</td>\n",
       "      <td>[Bonnie Arnold, Ed Catmull, Ralph Guggenheim, ...</td>\n",
       "      <td>[Tom Hanks, Tim Allen, Don Rickles, Jim Varney...</td>\n",
       "    </tr>\n",
       "    <tr>\n",
       "      <th>1</th>\n",
       "      <td>[{'cast_id': 1, 'character': 'Alan Parrish', '...</td>\n",
       "      <td>[{'credit_id': '52fe44bfc3a36847f80a7cd1', 'de...</td>\n",
       "      <td>8844</td>\n",
       "      <td>[Joe Johnston, Thomas E. Ackerman]</td>\n",
       "      <td>[Larry J. Franco, Scott Kroopf, Ted Field, Rob...</td>\n",
       "      <td>[Robin Williams, Jonathan Hyde, Kirsten Dunst,...</td>\n",
       "    </tr>\n",
       "    <tr>\n",
       "      <th>2</th>\n",
       "      <td>[{'cast_id': 2, 'character': 'Max Goldman', 'c...</td>\n",
       "      <td>[{'credit_id': '52fe466a9251416c75077a89', 'de...</td>\n",
       "      <td>15602</td>\n",
       "      <td>[Howard Deutch]</td>\n",
       "      <td>[]</td>\n",
       "      <td>[Walter Matthau, Jack Lemmon, Ann-Margret, Sop...</td>\n",
       "    </tr>\n",
       "    <tr>\n",
       "      <th>3</th>\n",
       "      <td>[{'cast_id': 1, 'character': \"Savannah 'Vannah...</td>\n",
       "      <td>[{'credit_id': '52fe44779251416c91011acb', 'de...</td>\n",
       "      <td>31357</td>\n",
       "      <td>[Forest Whitaker]</td>\n",
       "      <td>[Ronald Bass, Ezra Swerdlow, Deborah Schindler...</td>\n",
       "      <td>[Whitney Houston, Angela Bassett, Loretta Devi...</td>\n",
       "    </tr>\n",
       "    <tr>\n",
       "      <th>4</th>\n",
       "      <td>[{'cast_id': 1, 'character': 'George Banks', '...</td>\n",
       "      <td>[{'credit_id': '52fe44959251416c75039ed7', 'de...</td>\n",
       "      <td>11862</td>\n",
       "      <td>[Elliot Davis, Charles Shyer]</td>\n",
       "      <td>[Nancy Meyers]</td>\n",
       "      <td>[Steve Martin, Diane Keaton, Martin Short, Kim...</td>\n",
       "    </tr>\n",
       "    <tr>\n",
       "      <th>...</th>\n",
       "      <td>...</td>\n",
       "      <td>...</td>\n",
       "      <td>...</td>\n",
       "      <td>...</td>\n",
       "      <td>...</td>\n",
       "      <td>...</td>\n",
       "    </tr>\n",
       "    <tr>\n",
       "      <th>45471</th>\n",
       "      <td>[{'cast_id': 0, 'character': '', 'credit_id': ...</td>\n",
       "      <td>[{'credit_id': '5894a97d925141426c00818c', 'de...</td>\n",
       "      <td>439050</td>\n",
       "      <td>[Hamid Nematollah, Babak Ardalan]</td>\n",
       "      <td>[Hamid Nematollah]</td>\n",
       "      <td>[Leila Hatami, Kourosh Tahami, Elham Korda]</td>\n",
       "    </tr>\n",
       "    <tr>\n",
       "      <th>45472</th>\n",
       "      <td>[{'cast_id': 1002, 'character': 'Sister Angela...</td>\n",
       "      <td>[{'credit_id': '52fe4af1c3a36847f81e9b15', 'de...</td>\n",
       "      <td>111109</td>\n",
       "      <td>[Lav Diaz]</td>\n",
       "      <td>[]</td>\n",
       "      <td>[Angel Aquino, Perry Dizon, Hazel Orencio, Joe...</td>\n",
       "    </tr>\n",
       "    <tr>\n",
       "      <th>45473</th>\n",
       "      <td>[{'cast_id': 6, 'character': 'Emily Shaw', 'cr...</td>\n",
       "      <td>[{'credit_id': '52fe4776c3a368484e0c8387', 'de...</td>\n",
       "      <td>67758</td>\n",
       "      <td>[Mark L. Lester, João Fernandes]</td>\n",
       "      <td>[]</td>\n",
       "      <td>[Erika Eleniak, Adam Baldwin, Julie du Page, J...</td>\n",
       "    </tr>\n",
       "    <tr>\n",
       "      <th>45474</th>\n",
       "      <td>[{'cast_id': 2, 'character': '', 'credit_id': ...</td>\n",
       "      <td>[{'credit_id': '533bccebc3a36844cf0011a7', 'de...</td>\n",
       "      <td>227506</td>\n",
       "      <td>[Yakov Protazanov]</td>\n",
       "      <td>[Joseph N. Ermolieff]</td>\n",
       "      <td>[Iwan Mosschuchin, Nathalie Lissenko, Pavel Pa...</td>\n",
       "    </tr>\n",
       "    <tr>\n",
       "      <th>45475</th>\n",
       "      <td>[]</td>\n",
       "      <td>[{'credit_id': '593e676c92514105b702e68e', 'de...</td>\n",
       "      <td>461257</td>\n",
       "      <td>[Daisy Asquith]</td>\n",
       "      <td>[]</td>\n",
       "      <td>[]</td>\n",
       "    </tr>\n",
       "  </tbody>\n",
       "</table>\n",
       "<p>45011 rows × 6 columns</p>\n",
       "</div>"
      ],
      "text/plain": [
       "                                                    cast  \\\n",
       "0      [{'cast_id': 14, 'character': 'Woody (voice)',...   \n",
       "1      [{'cast_id': 1, 'character': 'Alan Parrish', '...   \n",
       "2      [{'cast_id': 2, 'character': 'Max Goldman', 'c...   \n",
       "3      [{'cast_id': 1, 'character': \"Savannah 'Vannah...   \n",
       "4      [{'cast_id': 1, 'character': 'George Banks', '...   \n",
       "...                                                  ...   \n",
       "45471  [{'cast_id': 0, 'character': '', 'credit_id': ...   \n",
       "45472  [{'cast_id': 1002, 'character': 'Sister Angela...   \n",
       "45473  [{'cast_id': 6, 'character': 'Emily Shaw', 'cr...   \n",
       "45474  [{'cast_id': 2, 'character': '', 'credit_id': ...   \n",
       "45475                                                 []   \n",
       "\n",
       "                                                    crew      id  \\\n",
       "0      [{'credit_id': '52fe4284c3a36847f8024f49', 'de...     862   \n",
       "1      [{'credit_id': '52fe44bfc3a36847f80a7cd1', 'de...    8844   \n",
       "2      [{'credit_id': '52fe466a9251416c75077a89', 'de...   15602   \n",
       "3      [{'credit_id': '52fe44779251416c91011acb', 'de...   31357   \n",
       "4      [{'credit_id': '52fe44959251416c75039ed7', 'de...   11862   \n",
       "...                                                  ...     ...   \n",
       "45471  [{'credit_id': '5894a97d925141426c00818c', 'de...  439050   \n",
       "45472  [{'credit_id': '52fe4af1c3a36847f81e9b15', 'de...  111109   \n",
       "45473  [{'credit_id': '52fe4776c3a368484e0c8387', 'de...   67758   \n",
       "45474  [{'credit_id': '533bccebc3a36844cf0011a7', 'de...  227506   \n",
       "45475  [{'credit_id': '593e676c92514105b702e68e', 'de...  461257   \n",
       "\n",
       "                                               directors  \\\n",
       "0      [John Lasseter, Ash Brannon, William Reeves, R...   \n",
       "1                     [Joe Johnston, Thomas E. Ackerman]   \n",
       "2                                        [Howard Deutch]   \n",
       "3                                      [Forest Whitaker]   \n",
       "4                          [Elliot Davis, Charles Shyer]   \n",
       "...                                                  ...   \n",
       "45471                  [Hamid Nematollah, Babak Ardalan]   \n",
       "45472                                         [Lav Diaz]   \n",
       "45473                   [Mark L. Lester, João Fernandes]   \n",
       "45474                                 [Yakov Protazanov]   \n",
       "45475                                    [Daisy Asquith]   \n",
       "\n",
       "                                               producers  \\\n",
       "0      [Bonnie Arnold, Ed Catmull, Ralph Guggenheim, ...   \n",
       "1      [Larry J. Franco, Scott Kroopf, Ted Field, Rob...   \n",
       "2                                                     []   \n",
       "3      [Ronald Bass, Ezra Swerdlow, Deborah Schindler...   \n",
       "4                                         [Nancy Meyers]   \n",
       "...                                                  ...   \n",
       "45471                                 [Hamid Nematollah]   \n",
       "45472                                                 []   \n",
       "45473                                                 []   \n",
       "45474                              [Joseph N. Ermolieff]   \n",
       "45475                                                 []   \n",
       "\n",
       "                                                  actors  \n",
       "0      [Tom Hanks, Tim Allen, Don Rickles, Jim Varney...  \n",
       "1      [Robin Williams, Jonathan Hyde, Kirsten Dunst,...  \n",
       "2      [Walter Matthau, Jack Lemmon, Ann-Margret, Sop...  \n",
       "3      [Whitney Houston, Angela Bassett, Loretta Devi...  \n",
       "4      [Steve Martin, Diane Keaton, Martin Short, Kim...  \n",
       "...                                                  ...  \n",
       "45471        [Leila Hatami, Kourosh Tahami, Elham Korda]  \n",
       "45472  [Angel Aquino, Perry Dizon, Hazel Orencio, Joe...  \n",
       "45473  [Erika Eleniak, Adam Baldwin, Julie du Page, J...  \n",
       "45474  [Iwan Mosschuchin, Nathalie Lissenko, Pavel Pa...  \n",
       "45475                                                 []  \n",
       "\n",
       "[45011 rows x 6 columns]"
      ]
     },
     "execution_count": 69,
     "metadata": {},
     "output_type": "execute_result"
    }
   ],
   "source": [
    "%%time\n",
    "\n",
    "credits = pd.read_csv('./data/movies/credits.csv')\n",
    "\n",
    "# Drop rows where both cast and crew are empty\n",
    "credits = credits[~((credits['cast'].str.contains('\\[\\]')) & (credits['crew'].str.contains('\\[\\]')))]\n",
    "\n",
    "def dedupe(df):\n",
    "    dupes = len(df[df.duplicated(subset=['id'])])\n",
    "    print('Removed', dupes, 'duplicate rows.\\n')\n",
    "    return df[~df.duplicated(subset=['id'])]\n",
    "\n",
    "# Remove duplicates:\n",
    "credits = dedupe(credits)\n",
    "\n",
    "def get_credits(crew_json):\n",
    "    crew = ast.literal_eval(crew_json.crew)\n",
    "    cast = ast.literal_eval(crew_json.cast)\n",
    "    directors = []\n",
    "    producers = []\n",
    "    actors = []\n",
    "    for member in crew:\n",
    "        if 'Director' in member['job']:\n",
    "            directors.append(member['name'])\n",
    "        if 'Producer' in member['job']:\n",
    "            producers.append(member['name'])\n",
    "    for actor in cast:\n",
    "        actors.append(actor['name'])\n",
    "\n",
    "    return  pd.Series([directors, producers, actors])\n",
    "\n",
    "credits[['directors','producers','actors']] = credits.apply(get_credits, axis=1)\n",
    "\n",
    "\n",
    "\n",
    "print(credits.info(),timebreak)\n",
    "\n",
    "credits\n"
   ]
  },
  {
   "cell_type": "markdown",
   "metadata": {},
   "source": [
    "## Movie Keywords\n",
    "\n",
    "The keywords dataset (found in /data/keywords.csv) has a movie id column and again provides a JSON object stored as a string representing keywords which apply to each movie.  It uses single quotes for strings, except in cases where a single quote is used, these strings are wrapped in double quotes.  Well formed JSON expects strings to be wrapped in double quotes, so we'll utilize another helper function using the *literal_eval* function from the Abstract Syntax Trees package.\n",
    "\n",
    "After parsing them as literal into a list object, and removing empty list objects, we'll save these **plot keywords** as list object which we can merge into our movies dataset.\n",
    "\n",
    "There are 532 duplicate entries in this file which from a sample of random selections, again appear to be true duplicates and will be safely removed."
   ]
  },
  {
   "cell_type": "code",
   "execution_count": 483,
   "metadata": {},
   "outputs": [
    {
     "name": "stdout",
     "output_type": "stream",
     "text": [
      "Removed 532 duplicate rows.\n",
      "\n",
      "<class 'pandas.core.frame.DataFrame'>\n",
      "Int64Index: 31092 entries, 0 to 46415\n",
      "Data columns (total 3 columns):\n",
      " #   Column        Non-Null Count  Dtype \n",
      "---  ------        --------------  ----- \n",
      " 0   id            31092 non-null  int64 \n",
      " 1   keywords      31092 non-null  object\n",
      " 2   keyword_json  31092 non-null  object\n",
      "dtypes: int64(1), object(2)\n",
      "memory usage: 971.6+ KB\n",
      "None \n",
      "\n",
      "----------------------------------------------------\n",
      "Cell Processing Time\n",
      "CPU times: user 1.36 s, sys: 10.2 ms, total: 1.37 s\n",
      "Wall time: 1.37 s\n"
     ]
    },
    {
     "data": {
      "text/html": [
       "<div>\n",
       "<style scoped>\n",
       "    .dataframe tbody tr th:only-of-type {\n",
       "        vertical-align: middle;\n",
       "    }\n",
       "\n",
       "    .dataframe tbody tr th {\n",
       "        vertical-align: top;\n",
       "    }\n",
       "\n",
       "    .dataframe thead th {\n",
       "        text-align: right;\n",
       "    }\n",
       "</style>\n",
       "<table border=\"1\" class=\"dataframe\">\n",
       "  <thead>\n",
       "    <tr style=\"text-align: right;\">\n",
       "      <th></th>\n",
       "      <th>id</th>\n",
       "      <th>keywords</th>\n",
       "      <th>keyword_json</th>\n",
       "    </tr>\n",
       "  </thead>\n",
       "  <tbody>\n",
       "    <tr>\n",
       "      <th>0</th>\n",
       "      <td>862</td>\n",
       "      <td>[jealousy, toy, boy, friendship, friends, riva...</td>\n",
       "      <td>[{'id': 931, 'name': 'jealousy'}, {'id': 4290,...</td>\n",
       "    </tr>\n",
       "    <tr>\n",
       "      <th>1</th>\n",
       "      <td>8844</td>\n",
       "      <td>[board game, disappearance, based on children'...</td>\n",
       "      <td>[{'id': 10090, 'name': 'board game'}, {'id': 1...</td>\n",
       "    </tr>\n",
       "    <tr>\n",
       "      <th>2</th>\n",
       "      <td>15602</td>\n",
       "      <td>[fishing, best friend, duringcreditsstinger, o...</td>\n",
       "      <td>[{'id': 1495, 'name': 'fishing'}, {'id': 12392...</td>\n",
       "    </tr>\n",
       "    <tr>\n",
       "      <th>3</th>\n",
       "      <td>31357</td>\n",
       "      <td>[based on novel, interracial relationship, sin...</td>\n",
       "      <td>[{'id': 818, 'name': 'based on novel'}, {'id':...</td>\n",
       "    </tr>\n",
       "    <tr>\n",
       "      <th>4</th>\n",
       "      <td>11862</td>\n",
       "      <td>[baby, midlife crisis, confidence, aging, daug...</td>\n",
       "      <td>[{'id': 1009, 'name': 'baby'}, {'id': 1599, 'n...</td>\n",
       "    </tr>\n",
       "    <tr>\n",
       "      <th>...</th>\n",
       "      <td>...</td>\n",
       "      <td>...</td>\n",
       "      <td>...</td>\n",
       "    </tr>\n",
       "    <tr>\n",
       "      <th>46409</th>\n",
       "      <td>84419</td>\n",
       "      <td>[revenge, murder, serial killer, new york city...</td>\n",
       "      <td>[{'id': 9748, 'name': 'revenge'}, {'id': 9826,...</td>\n",
       "    </tr>\n",
       "    <tr>\n",
       "      <th>46410</th>\n",
       "      <td>390959</td>\n",
       "      <td>[blair witch]</td>\n",
       "      <td>[{'id': 224180, 'name': 'blair witch'}]</td>\n",
       "    </tr>\n",
       "    <tr>\n",
       "      <th>46411</th>\n",
       "      <td>289923</td>\n",
       "      <td>[witch, mythology, legend, serial killer, mock...</td>\n",
       "      <td>[{'id': 616, 'name': 'witch'}, {'id': 2035, 'n...</td>\n",
       "    </tr>\n",
       "    <tr>\n",
       "      <th>46414</th>\n",
       "      <td>439050</td>\n",
       "      <td>[tragic love]</td>\n",
       "      <td>[{'id': 10703, 'name': 'tragic love'}]</td>\n",
       "    </tr>\n",
       "    <tr>\n",
       "      <th>46415</th>\n",
       "      <td>111109</td>\n",
       "      <td>[artist, play, pinoy]</td>\n",
       "      <td>[{'id': 2679, 'name': 'artist'}, {'id': 14531,...</td>\n",
       "    </tr>\n",
       "  </tbody>\n",
       "</table>\n",
       "<p>31092 rows × 3 columns</p>\n",
       "</div>"
      ],
      "text/plain": [
       "           id                                           keywords  \\\n",
       "0         862  [jealousy, toy, boy, friendship, friends, riva...   \n",
       "1        8844  [board game, disappearance, based on children'...   \n",
       "2       15602  [fishing, best friend, duringcreditsstinger, o...   \n",
       "3       31357  [based on novel, interracial relationship, sin...   \n",
       "4       11862  [baby, midlife crisis, confidence, aging, daug...   \n",
       "...       ...                                                ...   \n",
       "46409   84419  [revenge, murder, serial killer, new york city...   \n",
       "46410  390959                                      [blair witch]   \n",
       "46411  289923  [witch, mythology, legend, serial killer, mock...   \n",
       "46414  439050                                      [tragic love]   \n",
       "46415  111109                              [artist, play, pinoy]   \n",
       "\n",
       "                                            keyword_json  \n",
       "0      [{'id': 931, 'name': 'jealousy'}, {'id': 4290,...  \n",
       "1      [{'id': 10090, 'name': 'board game'}, {'id': 1...  \n",
       "2      [{'id': 1495, 'name': 'fishing'}, {'id': 12392...  \n",
       "3      [{'id': 818, 'name': 'based on novel'}, {'id':...  \n",
       "4      [{'id': 1009, 'name': 'baby'}, {'id': 1599, 'n...  \n",
       "...                                                  ...  \n",
       "46409  [{'id': 9748, 'name': 'revenge'}, {'id': 9826,...  \n",
       "46410            [{'id': 224180, 'name': 'blair witch'}]  \n",
       "46411  [{'id': 616, 'name': 'witch'}, {'id': 2035, 'n...  \n",
       "46414             [{'id': 10703, 'name': 'tragic love'}]  \n",
       "46415  [{'id': 2679, 'name': 'artist'}, {'id': 14531,...  \n",
       "\n",
       "[31092 rows x 3 columns]"
      ]
     },
     "execution_count": 483,
     "metadata": {},
     "output_type": "execute_result"
    }
   ],
   "source": [
    "%%time\n",
    "\n",
    "keywords = pd.read_csv('./data/movies/keywords.csv')\n",
    "\n",
    "# Remove empty entries:\n",
    "keywords = keywords[~keywords['keywords'].str.contains('\\[\\]')]\n",
    "\n",
    "# Remove duplicates:\n",
    "keywords = dedupe(keywords)\n",
    "\n",
    "keywords['keyword_json'] = keywords['keywords'] \n",
    "\n",
    "# Breakout json into a list of names\n",
    "def get_keywords(keyword_list):\n",
    "    if keyword_list is np.nan:\n",
    "        return np.nan\n",
    "    kw = []\n",
    "    klist = ast.literal_eval(keyword_list)\n",
    "    for word in klist:\n",
    "        kw.append(word['name'])\n",
    "    return kw\n",
    "\n",
    "keywords['keywords'] = keywords.keyword_json.apply(get_keywords)\n",
    "\n",
    "print(keywords.info(),timebreak)\n",
    "\n",
    "keywords"
   ]
  },
  {
   "cell_type": "code",
   "execution_count": 479,
   "metadata": {},
   "outputs": [
    {
     "data": {
      "text/plain": [
       "nan"
      ]
     },
     "execution_count": 479,
     "metadata": {},
     "output_type": "execute_result"
    }
   ],
   "source": [
    "#ast.literal_eval(np.nan)\n",
    "np.nan"
   ]
  },
  {
   "cell_type": "code",
   "execution_count": 482,
   "metadata": {},
   "outputs": [
    {
     "name": "stdout",
     "output_type": "stream",
     "text": [
      "nan-nan\n"
     ]
    }
   ],
   "source": [
    "if np.nan:\n",
    "    print('nan-nan')"
   ]
  },
  {
   "cell_type": "markdown",
   "metadata": {},
   "source": [
    "## Movie Metadata\n",
    "\n",
    "\n",
    "\n",
    "The movies dataset (found in /data/movies_metadata.csv) has a movie id column and provides a lot of usable and JSON objects storing various metadata about each movie.  This dataset also appears to contain approximately 30 duplicate records, and after examining a sample of random selections, they appear to be true duplicates and will be safely removed.\n",
    "\n",
    "In this section we'll accomplish the following:  \n",
    "* There are three movies with improper ID values (1997-08-20,2012-09-29,2014-01-01), these items all appear to have incorrect formatting, so we'll drop these in order to merge the keyword and credits datasets and prevent future problems.\n",
    "* Merge directors, producers and actors from credits dataset\n",
    "* Merge keywords from keywords dataset\n",
    "* Clean up the movie collection by converting it to a string, as it appears to only contain one item per movie.\n",
    "* Convert the JSON genres object into a list of genres"
   ]
  },
  {
   "cell_type": "code",
   "execution_count": 484,
   "metadata": {},
   "outputs": [
    {
     "name": "stdout",
     "output_type": "stream",
     "text": [
      "Original Movies Shape:  (45466, 24) \n",
      "\n",
      "Removed 30 duplicate rows.\n",
      "\n",
      "Movies Shape after dropping bad data:  (45433, 24) \n",
      "\n",
      "Movies Shape after merging keywords:  (45433, 26) \n",
      "\n",
      "Movies Shape after merging credits:  (45433, 31) \n",
      "\n",
      "<class 'pandas.core.frame.DataFrame'>\n",
      "Int64Index: 45433 entries, 0 to 45432\n",
      "Data columns (total 28 columns):\n",
      " #   Column                 Non-Null Count  Dtype  \n",
      "---  ------                 --------------  -----  \n",
      " 0   adult                  45433 non-null  object \n",
      " 1   belongs_to_collection  4488 non-null   object \n",
      " 2   budget                 45433 non-null  object \n",
      " 3   genres                 45433 non-null  object \n",
      " 4   homepage               7774 non-null   object \n",
      " 5   id                     45433 non-null  int64  \n",
      " 6   imdb_id                45416 non-null  object \n",
      " 7   original_language      45422 non-null  object \n",
      " 8   original_title         45433 non-null  object \n",
      " 9   overview               44479 non-null  object \n",
      " 10  popularity             45430 non-null  object \n",
      " 11  poster_path            45047 non-null  object \n",
      " 12  production_companies   45430 non-null  object \n",
      " 13  production_countries   45430 non-null  object \n",
      " 14  release_date           45346 non-null  object \n",
      " 15  revenue                45430 non-null  float64\n",
      " 16  runtime                45173 non-null  float64\n",
      " 17  spoken_languages       45430 non-null  object \n",
      " 18  status                 45349 non-null  object \n",
      " 19  tagline                20401 non-null  object \n",
      " 20  title                  45430 non-null  object \n",
      " 21  video                  45430 non-null  object \n",
      " 22  vote_average           45430 non-null  float64\n",
      " 23  vote_count             45430 non-null  float64\n",
      " 24  keywords               31092 non-null  object \n",
      " 25  directors              45011 non-null  object \n",
      " 26  producers              45011 non-null  object \n",
      " 27  actors                 45011 non-null  object \n",
      "dtypes: float64(4), int64(1), object(23)\n",
      "memory usage: 10.1+ MB\n",
      "None \n",
      "\n",
      "----------------------------------------------------\n",
      "Cell Processing Time\n",
      "CPU times: user 2.57 s, sys: 24.1 ms, total: 2.59 s\n",
      "Wall time: 2.59 s\n"
     ]
    },
    {
     "data": {
      "text/html": [
       "<div>\n",
       "<style scoped>\n",
       "    .dataframe tbody tr th:only-of-type {\n",
       "        vertical-align: middle;\n",
       "    }\n",
       "\n",
       "    .dataframe tbody tr th {\n",
       "        vertical-align: top;\n",
       "    }\n",
       "\n",
       "    .dataframe thead th {\n",
       "        text-align: right;\n",
       "    }\n",
       "</style>\n",
       "<table border=\"1\" class=\"dataframe\">\n",
       "  <thead>\n",
       "    <tr style=\"text-align: right;\">\n",
       "      <th></th>\n",
       "      <th>adult</th>\n",
       "      <th>belongs_to_collection</th>\n",
       "      <th>budget</th>\n",
       "      <th>genres</th>\n",
       "      <th>homepage</th>\n",
       "      <th>id</th>\n",
       "      <th>imdb_id</th>\n",
       "      <th>original_language</th>\n",
       "      <th>original_title</th>\n",
       "      <th>overview</th>\n",
       "      <th>...</th>\n",
       "      <th>status</th>\n",
       "      <th>tagline</th>\n",
       "      <th>title</th>\n",
       "      <th>video</th>\n",
       "      <th>vote_average</th>\n",
       "      <th>vote_count</th>\n",
       "      <th>keywords</th>\n",
       "      <th>directors</th>\n",
       "      <th>producers</th>\n",
       "      <th>actors</th>\n",
       "    </tr>\n",
       "  </thead>\n",
       "  <tbody>\n",
       "    <tr>\n",
       "      <th>0</th>\n",
       "      <td>False</td>\n",
       "      <td>Toy Story Collection</td>\n",
       "      <td>30000000</td>\n",
       "      <td>[Animation, Comedy, Family]</td>\n",
       "      <td>http://toystory.disney.com/toy-story</td>\n",
       "      <td>862</td>\n",
       "      <td>tt0114709</td>\n",
       "      <td>en</td>\n",
       "      <td>Toy Story</td>\n",
       "      <td>Led by Woody, Andy's toys live happily in his ...</td>\n",
       "      <td>...</td>\n",
       "      <td>Released</td>\n",
       "      <td>NaN</td>\n",
       "      <td>Toy Story</td>\n",
       "      <td>False</td>\n",
       "      <td>7.7</td>\n",
       "      <td>5415.0</td>\n",
       "      <td>[jealousy, toy, boy, friendship, friends, riva...</td>\n",
       "      <td>[John Lasseter, Ash Brannon, William Reeves, R...</td>\n",
       "      <td>[Bonnie Arnold, Ed Catmull, Ralph Guggenheim, ...</td>\n",
       "      <td>[Tom Hanks, Tim Allen, Don Rickles, Jim Varney...</td>\n",
       "    </tr>\n",
       "    <tr>\n",
       "      <th>1</th>\n",
       "      <td>False</td>\n",
       "      <td>NaN</td>\n",
       "      <td>65000000</td>\n",
       "      <td>[Adventure, Fantasy, Family]</td>\n",
       "      <td>NaN</td>\n",
       "      <td>8844</td>\n",
       "      <td>tt0113497</td>\n",
       "      <td>en</td>\n",
       "      <td>Jumanji</td>\n",
       "      <td>When siblings Judy and Peter discover an encha...</td>\n",
       "      <td>...</td>\n",
       "      <td>Released</td>\n",
       "      <td>Roll the dice and unleash the excitement!</td>\n",
       "      <td>Jumanji</td>\n",
       "      <td>False</td>\n",
       "      <td>6.9</td>\n",
       "      <td>2413.0</td>\n",
       "      <td>[board game, disappearance, based on children'...</td>\n",
       "      <td>[Joe Johnston, Thomas E. Ackerman]</td>\n",
       "      <td>[Larry J. Franco, Scott Kroopf, Ted Field, Rob...</td>\n",
       "      <td>[Robin Williams, Jonathan Hyde, Kirsten Dunst,...</td>\n",
       "    </tr>\n",
       "    <tr>\n",
       "      <th>2</th>\n",
       "      <td>False</td>\n",
       "      <td>Grumpy Old Men Collection</td>\n",
       "      <td>0</td>\n",
       "      <td>[Romance, Comedy]</td>\n",
       "      <td>NaN</td>\n",
       "      <td>15602</td>\n",
       "      <td>tt0113228</td>\n",
       "      <td>en</td>\n",
       "      <td>Grumpier Old Men</td>\n",
       "      <td>A family wedding reignites the ancient feud be...</td>\n",
       "      <td>...</td>\n",
       "      <td>Released</td>\n",
       "      <td>Still Yelling. Still Fighting. Still Ready for...</td>\n",
       "      <td>Grumpier Old Men</td>\n",
       "      <td>False</td>\n",
       "      <td>6.5</td>\n",
       "      <td>92.0</td>\n",
       "      <td>[fishing, best friend, duringcreditsstinger, o...</td>\n",
       "      <td>[Howard Deutch]</td>\n",
       "      <td>[]</td>\n",
       "      <td>[Walter Matthau, Jack Lemmon, Ann-Margret, Sop...</td>\n",
       "    </tr>\n",
       "    <tr>\n",
       "      <th>3</th>\n",
       "      <td>False</td>\n",
       "      <td>NaN</td>\n",
       "      <td>16000000</td>\n",
       "      <td>[Comedy, Drama, Romance]</td>\n",
       "      <td>NaN</td>\n",
       "      <td>31357</td>\n",
       "      <td>tt0114885</td>\n",
       "      <td>en</td>\n",
       "      <td>Waiting to Exhale</td>\n",
       "      <td>Cheated on, mistreated and stepped on, the wom...</td>\n",
       "      <td>...</td>\n",
       "      <td>Released</td>\n",
       "      <td>Friends are the people who let you be yourself...</td>\n",
       "      <td>Waiting to Exhale</td>\n",
       "      <td>False</td>\n",
       "      <td>6.1</td>\n",
       "      <td>34.0</td>\n",
       "      <td>[based on novel, interracial relationship, sin...</td>\n",
       "      <td>[Forest Whitaker]</td>\n",
       "      <td>[Ronald Bass, Ezra Swerdlow, Deborah Schindler...</td>\n",
       "      <td>[Whitney Houston, Angela Bassett, Loretta Devi...</td>\n",
       "    </tr>\n",
       "    <tr>\n",
       "      <th>4</th>\n",
       "      <td>False</td>\n",
       "      <td>Father of the Bride Collection</td>\n",
       "      <td>0</td>\n",
       "      <td>[Comedy]</td>\n",
       "      <td>NaN</td>\n",
       "      <td>11862</td>\n",
       "      <td>tt0113041</td>\n",
       "      <td>en</td>\n",
       "      <td>Father of the Bride Part II</td>\n",
       "      <td>Just when George Banks has recovered from his ...</td>\n",
       "      <td>...</td>\n",
       "      <td>Released</td>\n",
       "      <td>Just When His World Is Back To Normal... He's ...</td>\n",
       "      <td>Father of the Bride Part II</td>\n",
       "      <td>False</td>\n",
       "      <td>5.7</td>\n",
       "      <td>173.0</td>\n",
       "      <td>[baby, midlife crisis, confidence, aging, daug...</td>\n",
       "      <td>[Elliot Davis, Charles Shyer]</td>\n",
       "      <td>[Nancy Meyers]</td>\n",
       "      <td>[Steve Martin, Diane Keaton, Martin Short, Kim...</td>\n",
       "    </tr>\n",
       "    <tr>\n",
       "      <th>...</th>\n",
       "      <td>...</td>\n",
       "      <td>...</td>\n",
       "      <td>...</td>\n",
       "      <td>...</td>\n",
       "      <td>...</td>\n",
       "      <td>...</td>\n",
       "      <td>...</td>\n",
       "      <td>...</td>\n",
       "      <td>...</td>\n",
       "      <td>...</td>\n",
       "      <td>...</td>\n",
       "      <td>...</td>\n",
       "      <td>...</td>\n",
       "      <td>...</td>\n",
       "      <td>...</td>\n",
       "      <td>...</td>\n",
       "      <td>...</td>\n",
       "      <td>...</td>\n",
       "      <td>...</td>\n",
       "      <td>...</td>\n",
       "      <td>...</td>\n",
       "    </tr>\n",
       "    <tr>\n",
       "      <th>45428</th>\n",
       "      <td>False</td>\n",
       "      <td>NaN</td>\n",
       "      <td>0</td>\n",
       "      <td>[Drama, Family]</td>\n",
       "      <td>http://www.imdb.com/title/tt6209470/</td>\n",
       "      <td>439050</td>\n",
       "      <td>tt6209470</td>\n",
       "      <td>fa</td>\n",
       "      <td>رگ خواب</td>\n",
       "      <td>Rising and falling between a man and woman.</td>\n",
       "      <td>...</td>\n",
       "      <td>Released</td>\n",
       "      <td>Rising and falling between a man and woman</td>\n",
       "      <td>Subdue</td>\n",
       "      <td>False</td>\n",
       "      <td>4.0</td>\n",
       "      <td>1.0</td>\n",
       "      <td>[tragic love]</td>\n",
       "      <td>[Hamid Nematollah, Babak Ardalan]</td>\n",
       "      <td>[Hamid Nematollah]</td>\n",
       "      <td>[Leila Hatami, Kourosh Tahami, Elham Korda]</td>\n",
       "    </tr>\n",
       "    <tr>\n",
       "      <th>45429</th>\n",
       "      <td>False</td>\n",
       "      <td>NaN</td>\n",
       "      <td>0</td>\n",
       "      <td>[Drama]</td>\n",
       "      <td>NaN</td>\n",
       "      <td>111109</td>\n",
       "      <td>tt2028550</td>\n",
       "      <td>tl</td>\n",
       "      <td>Siglo ng Pagluluwal</td>\n",
       "      <td>An artist struggles to finish his work while a...</td>\n",
       "      <td>...</td>\n",
       "      <td>Released</td>\n",
       "      <td>NaN</td>\n",
       "      <td>Century of Birthing</td>\n",
       "      <td>False</td>\n",
       "      <td>9.0</td>\n",
       "      <td>3.0</td>\n",
       "      <td>[artist, play, pinoy]</td>\n",
       "      <td>[Lav Diaz]</td>\n",
       "      <td>[]</td>\n",
       "      <td>[Angel Aquino, Perry Dizon, Hazel Orencio, Joe...</td>\n",
       "    </tr>\n",
       "    <tr>\n",
       "      <th>45430</th>\n",
       "      <td>False</td>\n",
       "      <td>NaN</td>\n",
       "      <td>0</td>\n",
       "      <td>[Action, Drama, Thriller]</td>\n",
       "      <td>NaN</td>\n",
       "      <td>67758</td>\n",
       "      <td>tt0303758</td>\n",
       "      <td>en</td>\n",
       "      <td>Betrayal</td>\n",
       "      <td>When one of her hits goes wrong, a professiona...</td>\n",
       "      <td>...</td>\n",
       "      <td>Released</td>\n",
       "      <td>A deadly game of wits.</td>\n",
       "      <td>Betrayal</td>\n",
       "      <td>False</td>\n",
       "      <td>3.8</td>\n",
       "      <td>6.0</td>\n",
       "      <td>NaN</td>\n",
       "      <td>[Mark L. Lester, João Fernandes]</td>\n",
       "      <td>[]</td>\n",
       "      <td>[Erika Eleniak, Adam Baldwin, Julie du Page, J...</td>\n",
       "    </tr>\n",
       "    <tr>\n",
       "      <th>45431</th>\n",
       "      <td>False</td>\n",
       "      <td>NaN</td>\n",
       "      <td>0</td>\n",
       "      <td>[]</td>\n",
       "      <td>NaN</td>\n",
       "      <td>227506</td>\n",
       "      <td>tt0008536</td>\n",
       "      <td>en</td>\n",
       "      <td>Satana likuyushchiy</td>\n",
       "      <td>In a small town live two brothers, one a minis...</td>\n",
       "      <td>...</td>\n",
       "      <td>Released</td>\n",
       "      <td>NaN</td>\n",
       "      <td>Satan Triumphant</td>\n",
       "      <td>False</td>\n",
       "      <td>0.0</td>\n",
       "      <td>0.0</td>\n",
       "      <td>NaN</td>\n",
       "      <td>[Yakov Protazanov]</td>\n",
       "      <td>[Joseph N. Ermolieff]</td>\n",
       "      <td>[Iwan Mosschuchin, Nathalie Lissenko, Pavel Pa...</td>\n",
       "    </tr>\n",
       "    <tr>\n",
       "      <th>45432</th>\n",
       "      <td>False</td>\n",
       "      <td>NaN</td>\n",
       "      <td>0</td>\n",
       "      <td>[]</td>\n",
       "      <td>NaN</td>\n",
       "      <td>461257</td>\n",
       "      <td>tt6980792</td>\n",
       "      <td>en</td>\n",
       "      <td>Queerama</td>\n",
       "      <td>50 years after decriminalisation of homosexual...</td>\n",
       "      <td>...</td>\n",
       "      <td>Released</td>\n",
       "      <td>NaN</td>\n",
       "      <td>Queerama</td>\n",
       "      <td>False</td>\n",
       "      <td>0.0</td>\n",
       "      <td>0.0</td>\n",
       "      <td>NaN</td>\n",
       "      <td>[Daisy Asquith]</td>\n",
       "      <td>[]</td>\n",
       "      <td>[]</td>\n",
       "    </tr>\n",
       "  </tbody>\n",
       "</table>\n",
       "<p>45433 rows × 28 columns</p>\n",
       "</div>"
      ],
      "text/plain": [
       "       adult           belongs_to_collection    budget  \\\n",
       "0      False            Toy Story Collection  30000000   \n",
       "1      False                             NaN  65000000   \n",
       "2      False       Grumpy Old Men Collection         0   \n",
       "3      False                             NaN  16000000   \n",
       "4      False  Father of the Bride Collection         0   \n",
       "...      ...                             ...       ...   \n",
       "45428  False                             NaN         0   \n",
       "45429  False                             NaN         0   \n",
       "45430  False                             NaN         0   \n",
       "45431  False                             NaN         0   \n",
       "45432  False                             NaN         0   \n",
       "\n",
       "                             genres                              homepage  \\\n",
       "0       [Animation, Comedy, Family]  http://toystory.disney.com/toy-story   \n",
       "1      [Adventure, Fantasy, Family]                                   NaN   \n",
       "2                 [Romance, Comedy]                                   NaN   \n",
       "3          [Comedy, Drama, Romance]                                   NaN   \n",
       "4                          [Comedy]                                   NaN   \n",
       "...                             ...                                   ...   \n",
       "45428               [Drama, Family]  http://www.imdb.com/title/tt6209470/   \n",
       "45429                       [Drama]                                   NaN   \n",
       "45430     [Action, Drama, Thriller]                                   NaN   \n",
       "45431                            []                                   NaN   \n",
       "45432                            []                                   NaN   \n",
       "\n",
       "           id    imdb_id original_language               original_title  \\\n",
       "0         862  tt0114709                en                    Toy Story   \n",
       "1        8844  tt0113497                en                      Jumanji   \n",
       "2       15602  tt0113228                en             Grumpier Old Men   \n",
       "3       31357  tt0114885                en            Waiting to Exhale   \n",
       "4       11862  tt0113041                en  Father of the Bride Part II   \n",
       "...       ...        ...               ...                          ...   \n",
       "45428  439050  tt6209470                fa                      رگ خواب   \n",
       "45429  111109  tt2028550                tl          Siglo ng Pagluluwal   \n",
       "45430   67758  tt0303758                en                     Betrayal   \n",
       "45431  227506  tt0008536                en          Satana likuyushchiy   \n",
       "45432  461257  tt6980792                en                     Queerama   \n",
       "\n",
       "                                                overview  ...    status  \\\n",
       "0      Led by Woody, Andy's toys live happily in his ...  ...  Released   \n",
       "1      When siblings Judy and Peter discover an encha...  ...  Released   \n",
       "2      A family wedding reignites the ancient feud be...  ...  Released   \n",
       "3      Cheated on, mistreated and stepped on, the wom...  ...  Released   \n",
       "4      Just when George Banks has recovered from his ...  ...  Released   \n",
       "...                                                  ...  ...       ...   \n",
       "45428        Rising and falling between a man and woman.  ...  Released   \n",
       "45429  An artist struggles to finish his work while a...  ...  Released   \n",
       "45430  When one of her hits goes wrong, a professiona...  ...  Released   \n",
       "45431  In a small town live two brothers, one a minis...  ...  Released   \n",
       "45432  50 years after decriminalisation of homosexual...  ...  Released   \n",
       "\n",
       "                                                 tagline  \\\n",
       "0                                                    NaN   \n",
       "1              Roll the dice and unleash the excitement!   \n",
       "2      Still Yelling. Still Fighting. Still Ready for...   \n",
       "3      Friends are the people who let you be yourself...   \n",
       "4      Just When His World Is Back To Normal... He's ...   \n",
       "...                                                  ...   \n",
       "45428         Rising and falling between a man and woman   \n",
       "45429                                                NaN   \n",
       "45430                             A deadly game of wits.   \n",
       "45431                                                NaN   \n",
       "45432                                                NaN   \n",
       "\n",
       "                             title  video vote_average  vote_count  \\\n",
       "0                        Toy Story  False          7.7      5415.0   \n",
       "1                          Jumanji  False          6.9      2413.0   \n",
       "2                 Grumpier Old Men  False          6.5        92.0   \n",
       "3                Waiting to Exhale  False          6.1        34.0   \n",
       "4      Father of the Bride Part II  False          5.7       173.0   \n",
       "...                            ...    ...          ...         ...   \n",
       "45428                       Subdue  False          4.0         1.0   \n",
       "45429          Century of Birthing  False          9.0         3.0   \n",
       "45430                     Betrayal  False          3.8         6.0   \n",
       "45431             Satan Triumphant  False          0.0         0.0   \n",
       "45432                     Queerama  False          0.0         0.0   \n",
       "\n",
       "                                                keywords  \\\n",
       "0      [jealousy, toy, boy, friendship, friends, riva...   \n",
       "1      [board game, disappearance, based on children'...   \n",
       "2      [fishing, best friend, duringcreditsstinger, o...   \n",
       "3      [based on novel, interracial relationship, sin...   \n",
       "4      [baby, midlife crisis, confidence, aging, daug...   \n",
       "...                                                  ...   \n",
       "45428                                      [tragic love]   \n",
       "45429                              [artist, play, pinoy]   \n",
       "45430                                                NaN   \n",
       "45431                                                NaN   \n",
       "45432                                                NaN   \n",
       "\n",
       "                                               directors  \\\n",
       "0      [John Lasseter, Ash Brannon, William Reeves, R...   \n",
       "1                     [Joe Johnston, Thomas E. Ackerman]   \n",
       "2                                        [Howard Deutch]   \n",
       "3                                      [Forest Whitaker]   \n",
       "4                          [Elliot Davis, Charles Shyer]   \n",
       "...                                                  ...   \n",
       "45428                  [Hamid Nematollah, Babak Ardalan]   \n",
       "45429                                         [Lav Diaz]   \n",
       "45430                   [Mark L. Lester, João Fernandes]   \n",
       "45431                                 [Yakov Protazanov]   \n",
       "45432                                    [Daisy Asquith]   \n",
       "\n",
       "                                               producers  \\\n",
       "0      [Bonnie Arnold, Ed Catmull, Ralph Guggenheim, ...   \n",
       "1      [Larry J. Franco, Scott Kroopf, Ted Field, Rob...   \n",
       "2                                                     []   \n",
       "3      [Ronald Bass, Ezra Swerdlow, Deborah Schindler...   \n",
       "4                                         [Nancy Meyers]   \n",
       "...                                                  ...   \n",
       "45428                                 [Hamid Nematollah]   \n",
       "45429                                                 []   \n",
       "45430                                                 []   \n",
       "45431                              [Joseph N. Ermolieff]   \n",
       "45432                                                 []   \n",
       "\n",
       "                                                  actors  \n",
       "0      [Tom Hanks, Tim Allen, Don Rickles, Jim Varney...  \n",
       "1      [Robin Williams, Jonathan Hyde, Kirsten Dunst,...  \n",
       "2      [Walter Matthau, Jack Lemmon, Ann-Margret, Sop...  \n",
       "3      [Whitney Houston, Angela Bassett, Loretta Devi...  \n",
       "4      [Steve Martin, Diane Keaton, Martin Short, Kim...  \n",
       "...                                                  ...  \n",
       "45428        [Leila Hatami, Kourosh Tahami, Elham Korda]  \n",
       "45429  [Angel Aquino, Perry Dizon, Hazel Orencio, Joe...  \n",
       "45430  [Erika Eleniak, Adam Baldwin, Julie du Page, J...  \n",
       "45431  [Iwan Mosschuchin, Nathalie Lissenko, Pavel Pa...  \n",
       "45432                                                 []  \n",
       "\n",
       "[45433 rows x 28 columns]"
      ]
     },
     "execution_count": 484,
     "metadata": {},
     "output_type": "execute_result"
    }
   ],
   "source": [
    "%%time\n",
    "movies = pd.read_csv('./data/movies/movies_metadata.csv', low_memory=False)\n",
    "print('Original Movies Shape: ', movies.shape, '\\n')\n",
    "\n",
    "# Remove the movies with erroneous data & convert ID to int:\n",
    "movies = movies[~movies['id'].str.contains('-')]\n",
    "movies['id'] = movies['id'].astype(int)\n",
    "\n",
    "# Remove duplicates:\n",
    "movies = dedupe(movies)\n",
    "\n",
    "print('Movies Shape after dropping bad data: ', movies.shape, '\\n')\n",
    "\n",
    "# Add Keywords & Credits\n",
    "movies = movies.merge(keywords, how='left', on='id')\n",
    "print('Movies Shape after merging keywords: ', movies.shape, '\\n')\n",
    "\n",
    "movies = movies.merge(credits, how='left', on='id')\n",
    "print('Movies Shape after merging credits: ', movies.shape, '\\n')\n",
    "\n",
    "movies = movies.drop(columns=['cast','crew','keyword_json'])\n",
    "\n",
    "# Function to convert collection to a string\n",
    "def get_collection(json):\n",
    "    if pd.isnull(json):\n",
    "        return np.nan\n",
    "    else:\n",
    "        return ast.literal_eval(json)['name']\n",
    "\n",
    "movies['belongs_to_collection'] = movies.belongs_to_collection.apply(get_collection)\n",
    "\n",
    "#We can re-use our get_keywords function here to get genres & spoken languages\n",
    "movies['genres'] = movies.genres.apply(get_keywords)\n",
    "movies['spoken_languages'] = movies.spoken_languages.apply(get_keywords)\n",
    "\n",
    "print(movies.info(),timebreak)\n",
    "\n",
    "movies\n"
   ]
  },
  {
   "cell_type": "markdown",
   "metadata": {},
   "source": [
    "## Movie Ratings\n",
    "\n",
    "The ratings dataset consists of approximately **270,000 annonomous userIds, 45,000 movieIds that we can link to our movies dataset, and 2.6 million user ratings** on a scale from **0.5 - 5.0** (worst to best), and a timestamp for when the rating was collected. A cursory glance through the data shows there are no duplicate ratings for user/movie combinations, saving us the work of averaging the scores! Clean data FTW!\n",
    "\n",
    "*ratings_small* is a subset of the ratings dataset available in the Full MovieLens dataset and contains about **100,000 ratings from 671 users on 9,066 movies**."
   ]
  },
  {
   "cell_type": "code",
   "execution_count": 112,
   "metadata": {},
   "outputs": [
    {
     "name": "stdout",
     "output_type": "stream",
     "text": [
      "<class 'pandas.core.frame.DataFrame'>\n",
      "RangeIndex: 100004 entries, 0 to 100003\n",
      "Data columns (total 4 columns):\n",
      " #   Column     Non-Null Count   Dtype  \n",
      "---  ------     --------------   -----  \n",
      " 0   userId     100004 non-null  int64  \n",
      " 1   movieId    100004 non-null  int64  \n",
      " 2   rating     100004 non-null  float64\n",
      " 3   timestamp  100004 non-null  int64  \n",
      "dtypes: float64(1), int64(3)\n",
      "memory usage: 3.1 MB\n",
      "\n",
      "Count of duplicate ratings for a user/movie: 0\n",
      "\n",
      "Number of unique movies: 9066\n",
      "\n",
      "Number of unique users: 671\n"
     ]
    }
   ],
   "source": [
    "ratings_small = pd.read_csv('./data/movies/ratings_small.csv')\n",
    "\n",
    "ratings_small.info()\n",
    "print('\\nCount of duplicate ratings for a user/movie:',len(ratings_small[ratings_small.duplicated(subset=['userId','movieId'])]))\n",
    "print('\\nNumber of unique movies:',len(ratings_small.movieId.unique()))\n",
    "print('\\nNumber of unique users:',len(ratings_small.userId.unique()))"
   ]
  },
  {
   "cell_type": "code",
   "execution_count": 111,
   "metadata": {},
   "outputs": [
    {
     "name": "stdout",
     "output_type": "stream",
     "text": [
      "<class 'pandas.core.frame.DataFrame'>\n",
      "RangeIndex: 26024289 entries, 0 to 26024288\n",
      "Data columns (total 4 columns):\n",
      " #   Column     Dtype  \n",
      "---  ------     -----  \n",
      " 0   userId     int64  \n",
      " 1   movieId    int64  \n",
      " 2   rating     float64\n",
      " 3   timestamp  int64  \n",
      "dtypes: float64(1), int64(3)\n",
      "memory usage: 794.2 MB\n",
      "\n",
      "Count of duplicate ratings for a user/movie: 0\n",
      "\n",
      "Number of unique movies: 45115\n",
      "\n",
      "Number of unique users: 270896\n"
     ]
    }
   ],
   "source": [
    "ratings = pd.read_csv('./data/movies/ratings.csv')\n",
    "\n",
    "ratings.info()\n",
    "print('\\nCount of duplicate ratings for a user/movie:',len(ratings[ratings.duplicated(subset=['userId','movieId'])]))\n",
    "print('\\nNumber of unique movies:',len(ratings.movieId.unique()))\n",
    "print('\\nNumber of unique users:',len(ratings.userId.unique()))"
   ]
  },
  {
   "cell_type": "markdown",
   "metadata": {},
   "source": [
    "# Data Understanding 2 - Visualization\n",
    "\n",
    "Visualize the any important attributes appropriately. Important: Provide an interpretation for any charts or graphs."
   ]
  },
  {
   "cell_type": "markdown",
   "metadata": {},
   "source": [
    "Plotting the rating distribution shows some bias towards higher ratings, this could be due to users feeling more passionately about a great movie than a mediocre one, or that users are more likely to seek out, view and subsequently rate high-rated movies."
   ]
  },
  {
   "cell_type": "code",
   "execution_count": 315,
   "metadata": {
    "scrolled": true
   },
   "outputs": [
    {
     "data": {
      "image/png": "[encoded data removed]",
      "text/plain": [
       "<Figure size 432x288 with 1 Axes>"
      ]
     },
     "metadata": {},
     "output_type": "display_data"
    }
   ],
   "source": [
    "# Ratings Histogram:\n",
    "sns.set_style(\"dark\")\n",
    "ax = sns.countplot(x=\"rating\", data=ratings)\n",
    "total = float(len(ratings))\n",
    "for p in ax.patches:\n",
    "    height = p.get_height()\n",
    "    ax.text(p.get_x()+p.get_width()/2,\n",
    "            height + 3,\n",
    "            '{0:.1%}'.format(height/total),\n",
    "            ha=\"center\") \n",
    "ax.set_ylabel(\"Count of Movies\")\n",
    "ax.set_xlabel(\"Movie Rating\")\n",
    "ax.set_title(\"Distribution of Movie Ratings\")\n",
    "plt.show()"
   ]
  },
  {
   "cell_type": "markdown",
   "metadata": {},
   "source": [
    "Examining the distribution of movie genre could be useful if we decide to get more sophisticated with our recommendation engine, if we branch out of user preferences (or if we're recommending to a new user), we might try to keep the movie recommendations in line with the overall genre distribution."
   ]
  },
  {
   "cell_type": "code",
   "execution_count": 316,
   "metadata": {},
   "outputs": [
    {
     "data": {
      "image/png": "[encoded data removed]",
      "text/plain": [
       "<Figure size 432x288 with 1 Axes>"
      ]
     },
     "metadata": {},
     "output_type": "display_data"
    }
   ],
   "source": [
    "mlb = MultiLabelBinarizer()\n",
    "genre_count = pd.DataFrame(mlb.fit_transform(movies['genres']),columns=mlb.classes_).sum()\n",
    "\n",
    "ax = sns.barplot(genre_count.values, genre_count.index)\n",
    "ax.set_xlabel(\"Movie Count\")\n",
    "ax.set_title(\"Distribution of Movie Genres\")\n",
    "plt.show()"
   ]
  },
  {
   "cell_type": "markdown",
   "metadata": {},
   "source": [
    "The distribution of votes on each movie indicates that more users are willing to rate movies at a 0 than a 10, and the distribution is slightly left skewed, indicating users may be more likely to rate movies using the higher end of the scale."
   ]
  },
  {
   "cell_type": "code",
   "execution_count": 318,
   "metadata": {},
   "outputs": [
    {
     "data": {
      "image/png": "[encoded data removed]",
      "text/plain": [
       "<Figure size 432x288 with 1 Axes>"
      ]
     },
     "metadata": {},
     "output_type": "display_data"
    }
   ],
   "source": [
    "ax = sns.distplot(movies['vote_average'])\n",
    "ax.set_ylabel(\"\")\n",
    "ax.set_yticks([])\n",
    "ax.set_title(\"Distribution of Movie Vote Average\")\n",
    "plt.show()"
   ]
  },
  {
   "cell_type": "markdown",
   "metadata": {},
   "source": [
    "Below is a word cloud for the common keywords found in the movies dataset."
   ]
  },
  {
   "cell_type": "code",
   "execution_count": 584,
   "metadata": {},
   "outputs": [
    {
     "data": {
      "image/png": "[encoded data removed]",
      "text/plain": [
       "<Figure size 576x360 with 1 Axes>"
      ]
     },
     "metadata": {},
     "output_type": "display_data"
    }
   ],
   "source": [
    "# Code adapted from: https://github.com/amueller/word_cloud/blob/master/examples/simple.py\n",
    "l = keywords['keywords'].values.tolist()\n",
    "\n",
    "text = []\n",
    "for sublist in l:\n",
    "    for item in sublist:\n",
    "        text.append(item)\n",
    "        \n",
    "text = ' '.join(text)\n",
    "\n",
    "wordcloud = WordCloud(max_font_size=30).generate(text)\n",
    "plt.figure(figsize=(8,5))\n",
    "plt.imshow(wordcloud, interpolation=\"bilinear\")\n",
    "plt.axis(\"off\")\n",
    "plt.show()\n"
   ]
  },
  {
   "cell_type": "markdown",
   "metadata": {},
   "source": [
    "## Top 10 Stats:\n",
    "Below we'll list several top 10 statistics for movies.  For the most part, the stats will be the top 10 \"blank\" having the most movies.  The only exception to this is the top 10 movies by vote count.  The ordering is as follows:\n",
    "* Actors with the most movies\n",
    "* Genres with the most movies\n",
    "* Directors with the most movies\n",
    "* Producers with the most movies\n",
    "* Collections with the most movies\n",
    "* Original Languages with the most movies\n",
    "* Spoken Languages with the most movies\n",
    "* Highest rated movies by TMDB user votes (movies must have at least 1,000 votes)"
   ]
  },
  {
   "cell_type": "code",
   "execution_count": 667,
   "metadata": {},
   "outputs": [],
   "source": [
    "def get_top10_list(column, plot=True):\n",
    "    mlb = MultiLabelBinarizer()\n",
    "    if type(movies[column][0]) == list:\n",
    "        top10 = pd.DataFrame(mlb.fit_transform(movies[movies[column].str.len() > 0][column]),columns=mlb.classes_).sum().nlargest(n=10)\n",
    "    else:\n",
    "        top10 = movies[movies[column].str.len() > 0][column].value_counts().nlargest(10)\n",
    "    ax = sns.barplot(top10.values, top10.index)\n",
    "    ax.set_xlabel(\"Movie Count\")\n",
    "    ax.set_title(\"Top 10 {} by Movie Count\".format(column.capitalize()))\n",
    "    total = float(len(movies))\n",
    "    for p in ax.patches:\n",
    "            percentage = '{:.1f}%'.format(100 * p.get_width()/total)\n",
    "            x = p.get_x() + p.get_width() + 0.02\n",
    "            y = p.get_y() + p.get_height()/1.5\n",
    "            ax.annotate(percentage, (x, y))\n",
    "    if plot:\n",
    "        return plt.show()\n",
    "    plt.close()\n",
    "    return top10"
   ]
  },
  {
   "cell_type": "code",
   "execution_count": 670,
   "metadata": {},
   "outputs": [
    {
     "data": {
      "image/png": "[encoded data removed]",
      "text/plain": [
       "<Figure size 432x288 with 1 Axes>"
      ]
     },
     "metadata": {},
     "output_type": "display_data"
    }
   ],
   "source": [
    "get_top10_list('actors')"
   ]
  },
  {
   "cell_type": "code",
   "execution_count": 669,
   "metadata": {},
   "outputs": [
    {
     "data": {
      "image/png": "[encoded data removed]",
      "text/plain": [
       "<Figure size 432x288 with 1 Axes>"
      ]
     },
     "metadata": {},
     "output_type": "display_data"
    }
   ],
   "source": [
    "get_top10_list('genres')"
   ]
  },
  {
   "cell_type": "code",
   "execution_count": 644,
   "metadata": {},
   "outputs": [
    {
     "data": {
      "image/png": "[encoded data removed]",
      "text/plain": [
       "<Figure size 432x288 with 1 Axes>"
      ]
     },
     "metadata": {},
     "output_type": "display_data"
    }
   ],
   "source": [
    "get_top10_list('directors')"
   ]
  },
  {
   "cell_type": "code",
   "execution_count": 645,
   "metadata": {},
   "outputs": [
    {
     "data": {
      "image/png": "[encoded data removed]",
      "text/plain": [
       "<Figure size 432x288 with 1 Axes>"
      ]
     },
     "metadata": {},
     "output_type": "display_data"
    }
   ],
   "source": [
    "get_top10_list('producers')"
   ]
  },
  {
   "cell_type": "code",
   "execution_count": 650,
   "metadata": {},
   "outputs": [
    {
     "data": {
      "image/png": "[encoded data removed]",
      "text/plain": [
       "<Figure size 432x288 with 1 Axes>"
      ]
     },
     "metadata": {},
     "output_type": "display_data"
    }
   ],
   "source": [
    "get_top10_list('belongs_to_collection')"
   ]
  },
  {
   "cell_type": "code",
   "execution_count": 647,
   "metadata": {},
   "outputs": [
    {
     "data": {
      "image/png": "[encoded data removed]",
      "text/plain": [
       "<Figure size 432x288 with 1 Axes>"
      ]
     },
     "metadata": {},
     "output_type": "display_data"
    }
   ],
   "source": [
    "get_top10_list('original_language')"
   ]
  },
  {
   "cell_type": "code",
   "execution_count": 680,
   "metadata": {},
   "outputs": [
    {
     "name": "stdout",
     "output_type": "stream",
     "text": [
      "Top 10 Spoken Languages by Movie Count\n"
     ]
    },
    {
     "data": {
      "text/html": [
       "<div>\n",
       "<style scoped>\n",
       "    .dataframe tbody tr th:only-of-type {\n",
       "        vertical-align: middle;\n",
       "    }\n",
       "\n",
       "    .dataframe tbody tr th {\n",
       "        vertical-align: top;\n",
       "    }\n",
       "\n",
       "    .dataframe thead th {\n",
       "        text-align: right;\n",
       "    }\n",
       "</style>\n",
       "<table border=\"1\" class=\"dataframe\">\n",
       "  <thead>\n",
       "    <tr style=\"text-align: right;\">\n",
       "      <th></th>\n",
       "      <th>Movie Count</th>\n",
       "    </tr>\n",
       "  </thead>\n",
       "  <tbody>\n",
       "    <tr>\n",
       "      <th>English</th>\n",
       "      <td>28727</td>\n",
       "    </tr>\n",
       "    <tr>\n",
       "      <th>Français</th>\n",
       "      <td>4193</td>\n",
       "    </tr>\n",
       "    <tr>\n",
       "      <th>Deutsch</th>\n",
       "      <td>2624</td>\n",
       "    </tr>\n",
       "    <tr>\n",
       "      <th>Español</th>\n",
       "      <td>2413</td>\n",
       "    </tr>\n",
       "    <tr>\n",
       "      <th>Italiano</th>\n",
       "      <td>2366</td>\n",
       "    </tr>\n",
       "    <tr>\n",
       "      <th>日本語</th>\n",
       "      <td>1756</td>\n",
       "    </tr>\n",
       "    <tr>\n",
       "      <th>Pусский</th>\n",
       "      <td>1563</td>\n",
       "    </tr>\n",
       "    <tr>\n",
       "      <th>普通话</th>\n",
       "      <td>790</td>\n",
       "    </tr>\n",
       "    <tr>\n",
       "      <th>हिन्दी</th>\n",
       "      <td>706</td>\n",
       "    </tr>\n",
       "    <tr>\n",
       "      <th>Português</th>\n",
       "      <td>591</td>\n",
       "    </tr>\n",
       "  </tbody>\n",
       "</table>\n",
       "</div>"
      ],
      "text/plain": [
       "           Movie Count\n",
       "English          28727\n",
       "Français          4193\n",
       "Deutsch           2624\n",
       "Español           2413\n",
       "Italiano          2366\n",
       "日本語               1756\n",
       "Pусский           1563\n",
       "普通话                790\n",
       "हिन्दी             706\n",
       "Português          591"
      ]
     },
     "execution_count": 680,
     "metadata": {},
     "output_type": "execute_result"
    }
   ],
   "source": [
    "print('Top 10 Spoken Languages by Movie Count')\n",
    "pd.DataFrame(get_top10_list('spoken_languages', plot=False), columns=['Movie Count'])"
   ]
  },
  {
   "cell_type": "code",
   "execution_count": 609,
   "metadata": {},
   "outputs": [
    {
     "data": {
      "text/html": [
       "<div>\n",
       "<style scoped>\n",
       "    .dataframe tbody tr th:only-of-type {\n",
       "        vertical-align: middle;\n",
       "    }\n",
       "\n",
       "    .dataframe tbody tr th {\n",
       "        vertical-align: top;\n",
       "    }\n",
       "\n",
       "    .dataframe thead th {\n",
       "        text-align: right;\n",
       "    }\n",
       "</style>\n",
       "<table border=\"1\" class=\"dataframe\">\n",
       "  <thead>\n",
       "    <tr style=\"text-align: right;\">\n",
       "      <th></th>\n",
       "      <th>title</th>\n",
       "      <th>vote_average</th>\n",
       "      <th>vote_count</th>\n",
       "    </tr>\n",
       "  </thead>\n",
       "  <tbody>\n",
       "    <tr>\n",
       "      <th>314</th>\n",
       "      <td>The Shawshank Redemption</td>\n",
       "      <td>8.5</td>\n",
       "      <td>8358.0</td>\n",
       "    </tr>\n",
       "    <tr>\n",
       "      <th>834</th>\n",
       "      <td>The Godfather</td>\n",
       "      <td>8.5</td>\n",
       "      <td>6024.0</td>\n",
       "    </tr>\n",
       "    <tr>\n",
       "      <th>40222</th>\n",
       "      <td>Your Name.</td>\n",
       "      <td>8.5</td>\n",
       "      <td>1030.0</td>\n",
       "    </tr>\n",
       "    <tr>\n",
       "      <th>292</th>\n",
       "      <td>Pulp Fiction</td>\n",
       "      <td>8.3</td>\n",
       "      <td>8670.0</td>\n",
       "    </tr>\n",
       "    <tr>\n",
       "      <th>522</th>\n",
       "      <td>Schindler's List</td>\n",
       "      <td>8.3</td>\n",
       "      <td>4436.0</td>\n",
       "    </tr>\n",
       "    <tr>\n",
       "      <th>1152</th>\n",
       "      <td>One Flew Over the Cuckoo's Nest</td>\n",
       "      <td>8.3</td>\n",
       "      <td>3001.0</td>\n",
       "    </tr>\n",
       "    <tr>\n",
       "      <th>1176</th>\n",
       "      <td>Psycho</td>\n",
       "      <td>8.3</td>\n",
       "      <td>2405.0</td>\n",
       "    </tr>\n",
       "    <tr>\n",
       "      <th>1178</th>\n",
       "      <td>The Godfather: Part II</td>\n",
       "      <td>8.3</td>\n",
       "      <td>3418.0</td>\n",
       "    </tr>\n",
       "    <tr>\n",
       "      <th>1184</th>\n",
       "      <td>Once Upon a Time in America</td>\n",
       "      <td>8.3</td>\n",
       "      <td>1104.0</td>\n",
       "    </tr>\n",
       "    <tr>\n",
       "      <th>2210</th>\n",
       "      <td>Life Is Beautiful</td>\n",
       "      <td>8.3</td>\n",
       "      <td>3643.0</td>\n",
       "    </tr>\n",
       "  </tbody>\n",
       "</table>\n",
       "</div>"
      ],
      "text/plain": [
       "                                 title  vote_average  vote_count\n",
       "314           The Shawshank Redemption           8.5      8358.0\n",
       "834                      The Godfather           8.5      6024.0\n",
       "40222                       Your Name.           8.5      1030.0\n",
       "292                       Pulp Fiction           8.3      8670.0\n",
       "522                   Schindler's List           8.3      4436.0\n",
       "1152   One Flew Over the Cuckoo's Nest           8.3      3001.0\n",
       "1176                            Psycho           8.3      2405.0\n",
       "1178            The Godfather: Part II           8.3      3418.0\n",
       "1184       Once Upon a Time in America           8.3      1104.0\n",
       "2210                 Life Is Beautiful           8.3      3643.0"
      ]
     },
     "execution_count": 609,
     "metadata": {},
     "output_type": "execute_result"
    }
   ],
   "source": [
    "movies[movies['vote_count'] > 999].nlargest(10, 'vote_average')[['title','vote_average','vote_count']]"
   ]
  },
  {
   "cell_type": "markdown",
   "metadata": {},
   "source": [
    "# Modeling and Evaluation 1\n",
    "\n",
    "Train and adjust parameters\n"
   ]
  },
  {
   "cell_type": "markdown",
   "metadata": {},
   "source": [
    "This is the very, very basic 5 liner from TuriCreate (GraphLab), we'll convert our pandas dataframes to SFrames in order to build the recommender."
   ]
  },
  {
   "cell_type": "code",
   "execution_count": 516,
   "metadata": {},
   "outputs": [
    {
     "data": {
      "text/html": [
       "<pre>Preparing data set.</pre>"
      ],
      "text/plain": [
       "Preparing data set."
      ]
     },
     "metadata": {},
     "output_type": "display_data"
    },
    {
     "data": {
      "text/html": [
       "<pre>    Data has 26024289 observations with 270896 users and 45115 items.</pre>"
      ],
      "text/plain": [
       "    Data has 26024289 observations with 270896 users and 45115 items."
      ]
     },
     "metadata": {},
     "output_type": "display_data"
    },
    {
     "data": {
      "text/html": [
       "<pre>    Data prepared in: 7.34516s</pre>"
      ],
      "text/plain": [
       "    Data prepared in: 7.34516s"
      ]
     },
     "metadata": {},
     "output_type": "display_data"
    },
    {
     "data": {
      "text/html": [
       "<pre>Training ranking_factorization_recommender for recommendations.</pre>"
      ],
      "text/plain": [
       "Training ranking_factorization_recommender for recommendations."
      ]
     },
     "metadata": {},
     "output_type": "display_data"
    },
    {
     "data": {
      "text/html": [
       "<pre>+--------------------------------+--------------------------------------------------+----------+</pre>"
      ],
      "text/plain": [
       "+--------------------------------+--------------------------------------------------+----------+"
      ]
     },
     "metadata": {},
     "output_type": "display_data"
    },
    {
     "data": {
      "text/html": [
       "<pre>| Parameter                      | Description                                      | Value    |</pre>"
      ],
      "text/plain": [
       "| Parameter                      | Description                                      | Value    |"
      ]
     },
     "metadata": {},
     "output_type": "display_data"
    },
    {
     "data": {
      "text/html": [
       "<pre>+--------------------------------+--------------------------------------------------+----------+</pre>"
      ],
      "text/plain": [
       "+--------------------------------+--------------------------------------------------+----------+"
      ]
     },
     "metadata": {},
     "output_type": "display_data"
    },
    {
     "data": {
      "text/html": [
       "<pre>| num_factors                    | Factor Dimension                                 | 32       |</pre>"
      ],
      "text/plain": [
       "| num_factors                    | Factor Dimension                                 | 32       |"
      ]
     },
     "metadata": {},
     "output_type": "display_data"
    },
    {
     "data": {
      "text/html": [
       "<pre>| regularization                 | L2 Regularization on Factors                     | 1e-09    |</pre>"
      ],
      "text/plain": [
       "| regularization                 | L2 Regularization on Factors                     | 1e-09    |"
      ]
     },
     "metadata": {},
     "output_type": "display_data"
    },
    {
     "data": {
      "text/html": [
       "<pre>| solver                         | Solver used for training                         | adagrad  |</pre>"
      ],
      "text/plain": [
       "| solver                         | Solver used for training                         | adagrad  |"
      ]
     },
     "metadata": {},
     "output_type": "display_data"
    },
    {
     "data": {
      "text/html": [
       "<pre>| linear_regularization          | L2 Regularization on Linear Coefficients         | 1e-09    |</pre>"
      ],
      "text/plain": [
       "| linear_regularization          | L2 Regularization on Linear Coefficients         | 1e-09    |"
      ]
     },
     "metadata": {},
     "output_type": "display_data"
    },
    {
     "data": {
      "text/html": [
       "<pre>| ranking_regularization         | Rank-based Regularization Weight                 | 0.25     |</pre>"
      ],
      "text/plain": [
       "| ranking_regularization         | Rank-based Regularization Weight                 | 0.25     |"
      ]
     },
     "metadata": {},
     "output_type": "display_data"
    },
    {
     "data": {
      "text/html": [
       "<pre>| max_iterations                 | Maximum Number of Iterations                     | 25       |</pre>"
      ],
      "text/plain": [
       "| max_iterations                 | Maximum Number of Iterations                     | 25       |"
      ]
     },
     "metadata": {},
     "output_type": "display_data"
    },
    {
     "data": {
      "text/html": [
       "<pre>+--------------------------------+--------------------------------------------------+----------+</pre>"
      ],
      "text/plain": [
       "+--------------------------------+--------------------------------------------------+----------+"
      ]
     },
     "metadata": {},
     "output_type": "display_data"
    },
    {
     "data": {
      "text/html": [
       "<pre>  Optimizing model using SGD; tuning step size.</pre>"
      ],
      "text/plain": [
       "  Optimizing model using SGD; tuning step size."
      ]
     },
     "metadata": {},
     "output_type": "display_data"
    },
    {
     "data": {
      "text/html": [
       "<pre>  Using 3253036 / 26024289 points for tuning the step size.</pre>"
      ],
      "text/plain": [
       "  Using 3253036 / 26024289 points for tuning the step size."
      ]
     },
     "metadata": {},
     "output_type": "display_data"
    },
    {
     "data": {
      "text/html": [
       "<pre>+---------+-------------------+------------------------------------------+</pre>"
      ],
      "text/plain": [
       "+---------+-------------------+------------------------------------------+"
      ]
     },
     "metadata": {},
     "output_type": "display_data"
    },
    {
     "data": {
      "text/html": [
       "<pre>| Attempt | Initial Step Size | Estimated Objective Value                |</pre>"
      ],
      "text/plain": [
       "| Attempt | Initial Step Size | Estimated Objective Value                |"
      ]
     },
     "metadata": {},
     "output_type": "display_data"
    },
    {
     "data": {
      "text/html": [
       "<pre>+---------+-------------------+------------------------------------------+</pre>"
      ],
      "text/plain": [
       "+---------+-------------------+------------------------------------------+"
      ]
     },
     "metadata": {},
     "output_type": "display_data"
    },
    {
     "data": {
      "text/html": [
       "<pre>| 0       | 16.6667           | Not Viable                               |</pre>"
      ],
      "text/plain": [
       "| 0       | 16.6667           | Not Viable                               |"
      ]
     },
     "metadata": {},
     "output_type": "display_data"
    },
    {
     "data": {
      "text/html": [
       "<pre>| 1       | 4.16667           | Not Viable                               |</pre>"
      ],
      "text/plain": [
       "| 1       | 4.16667           | Not Viable                               |"
      ]
     },
     "metadata": {},
     "output_type": "display_data"
    },
    {
     "data": {
      "text/html": [
       "<pre>| 2       | 1.04167           | Not Viable                               |</pre>"
      ],
      "text/plain": [
       "| 2       | 1.04167           | Not Viable                               |"
      ]
     },
     "metadata": {},
     "output_type": "display_data"
    },
    {
     "data": {
      "text/html": [
       "<pre>| 3       | 0.260417          | Not Viable                               |</pre>"
      ],
      "text/plain": [
       "| 3       | 0.260417          | Not Viable                               |"
      ]
     },
     "metadata": {},
     "output_type": "display_data"
    },
    {
     "data": {
      "text/html": [
       "<pre>| 4       | 0.0651042         | 1.12662                                  |</pre>"
      ],
      "text/plain": [
       "| 4       | 0.0651042         | 1.12662                                  |"
      ]
     },
     "metadata": {},
     "output_type": "display_data"
    },
    {
     "data": {
      "text/html": [
       "<pre>| 5       | 0.0325521         | 1.17839                                  |</pre>"
      ],
      "text/plain": [
       "| 5       | 0.0325521         | 1.17839                                  |"
      ]
     },
     "metadata": {},
     "output_type": "display_data"
    },
    {
     "data": {
      "text/html": [
       "<pre>| 6       | 0.016276          | 1.34957                                  |</pre>"
      ],
      "text/plain": [
       "| 6       | 0.016276          | 1.34957                                  |"
      ]
     },
     "metadata": {},
     "output_type": "display_data"
    },
    {
     "data": {
      "text/html": [
       "<pre>| 7       | 0.00813802        | 1.47941                                  |</pre>"
      ],
      "text/plain": [
       "| 7       | 0.00813802        | 1.47941                                  |"
      ]
     },
     "metadata": {},
     "output_type": "display_data"
    },
    {
     "data": {
      "text/html": [
       "<pre>+---------+-------------------+------------------------------------------+</pre>"
      ],
      "text/plain": [
       "+---------+-------------------+------------------------------------------+"
      ]
     },
     "metadata": {},
     "output_type": "display_data"
    },
    {
     "data": {
      "text/html": [
       "<pre>| Final   | 0.0651042         | 1.12662                                  |</pre>"
      ],
      "text/plain": [
       "| Final   | 0.0651042         | 1.12662                                  |"
      ]
     },
     "metadata": {},
     "output_type": "display_data"
    },
    {
     "data": {
      "text/html": [
       "<pre>+---------+-------------------+------------------------------------------+</pre>"
      ],
      "text/plain": [
       "+---------+-------------------+------------------------------------------+"
      ]
     },
     "metadata": {},
     "output_type": "display_data"
    },
    {
     "data": {
      "text/html": [
       "<pre>Starting Optimization.</pre>"
      ],
      "text/plain": [
       "Starting Optimization."
      ]
     },
     "metadata": {},
     "output_type": "display_data"
    },
    {
     "data": {
      "text/html": [
       "<pre>+---------+--------------+-------------------+-----------------------+-------------+</pre>"
      ],
      "text/plain": [
       "+---------+--------------+-------------------+-----------------------+-------------+"
      ]
     },
     "metadata": {},
     "output_type": "display_data"
    },
    {
     "data": {
      "text/html": [
       "<pre>| Iter.   | Elapsed Time | Approx. Objective | Approx. Training RMSE | Step Size   |</pre>"
      ],
      "text/plain": [
       "| Iter.   | Elapsed Time | Approx. Objective | Approx. Training RMSE | Step Size   |"
      ]
     },
     "metadata": {},
     "output_type": "display_data"
    },
    {
     "data": {
      "text/html": [
       "<pre>+---------+--------------+-------------------+-----------------------+-------------+</pre>"
      ],
      "text/plain": [
       "+---------+--------------+-------------------+-----------------------+-------------+"
      ]
     },
     "metadata": {},
     "output_type": "display_data"
    },
    {
     "data": {
      "text/html": [
       "<pre>| Initial | 88us         | 2.22568           | 1.06544               |             |</pre>"
      ],
      "text/plain": [
       "| Initial | 88us         | 2.22568           | 1.06544               |             |"
      ]
     },
     "metadata": {},
     "output_type": "display_data"
    },
    {
     "data": {
      "text/html": [
       "<pre>+---------+--------------+-------------------+-----------------------+-------------+</pre>"
      ],
      "text/plain": [
       "+---------+--------------+-------------------+-----------------------+-------------+"
      ]
     },
     "metadata": {},
     "output_type": "display_data"
    },
    {
     "data": {
      "text/html": [
       "<pre>| 1       | 12.63s       | 1.17155           | 0.931088              | 0.0651042   |</pre>"
      ],
      "text/plain": [
       "| 1       | 12.63s       | 1.17155           | 0.931088              | 0.0651042   |"
      ]
     },
     "metadata": {},
     "output_type": "display_data"
    },
    {
     "data": {
      "text/html": [
       "<pre>| 2       | 24.40s       | 1.05108           | 0.891269              | 0.0651042   |</pre>"
      ],
      "text/plain": [
       "| 2       | 24.40s       | 1.05108           | 0.891269              | 0.0651042   |"
      ]
     },
     "metadata": {},
     "output_type": "display_data"
    },
    {
     "data": {
      "text/html": [
       "<pre>| 3       | 35.80s       | 0.968486          | 0.863456              | 0.0651042   |</pre>"
      ],
      "text/plain": [
       "| 3       | 35.80s       | 0.968486          | 0.863456              | 0.0651042   |"
      ]
     },
     "metadata": {},
     "output_type": "display_data"
    },
    {
     "data": {
      "text/html": [
       "<pre>| 4       | 47.72s       | 0.960695          | 0.857546              | 0.0651042   |</pre>"
      ],
      "text/plain": [
       "| 4       | 47.72s       | 0.960695          | 0.857546              | 0.0651042   |"
      ]
     },
     "metadata": {},
     "output_type": "display_data"
    },
    {
     "data": {
      "text/html": [
       "<pre>| 5       | 59.60s       | 0.922934          | 0.839346              | 0.0651042   |</pre>"
      ],
      "text/plain": [
       "| 5       | 59.60s       | 0.922934          | 0.839346              | 0.0651042   |"
      ]
     },
     "metadata": {},
     "output_type": "display_data"
    },
    {
     "data": {
      "text/html": [
       "<pre>| 7       | 1m 22s       | 0.871476          | 0.817814              | 0.0651042   |</pre>"
      ],
      "text/plain": [
       "| 7       | 1m 22s       | 0.871476          | 0.817814              | 0.0651042   |"
      ]
     },
     "metadata": {},
     "output_type": "display_data"
    },
    {
     "data": {
      "text/html": [
       "<pre>| 8       | 1m 34s       | 0.856778          | 0.811996              | 0.0651042   |</pre>"
      ],
      "text/plain": [
       "| 8       | 1m 34s       | 0.856778          | 0.811996              | 0.0651042   |"
      ]
     },
     "metadata": {},
     "output_type": "display_data"
    },
    {
     "data": {
      "text/html": [
       "<pre>| 9       | 1m 46s       | 0.845657          | 0.807644              | 0.0651042   |</pre>"
      ],
      "text/plain": [
       "| 9       | 1m 46s       | 0.845657          | 0.807644              | 0.0651042   |"
      ]
     },
     "metadata": {},
     "output_type": "display_data"
    },
    {
     "data": {
      "text/html": [
       "<pre>| 10      | 1m 57s       | 0.837767          | 0.804342              | 0.0651042   |</pre>"
      ],
      "text/plain": [
       "| 10      | 1m 57s       | 0.837767          | 0.804342              | 0.0651042   |"
      ]
     },
     "metadata": {},
     "output_type": "display_data"
    },
    {
     "data": {
      "text/html": [
       "<pre>| 11      | 2m 10s       | 0.830698          | 0.801343              | 0.0651042   |</pre>"
      ],
      "text/plain": [
       "| 11      | 2m 10s       | 0.830698          | 0.801343              | 0.0651042   |"
      ]
     },
     "metadata": {},
     "output_type": "display_data"
    },
    {
     "data": {
      "text/html": [
       "<pre>| 12      | 2m 22s       | 0.825768          | 0.799092              | 0.0651042   |</pre>"
      ],
      "text/plain": [
       "| 12      | 2m 22s       | 0.825768          | 0.799092              | 0.0651042   |"
      ]
     },
     "metadata": {},
     "output_type": "display_data"
    },
    {
     "data": {
      "text/html": [
       "<pre>| 13      | 2m 34s       | 0.821753          | 0.797517              | 0.0651042   |</pre>"
      ],
      "text/plain": [
       "| 13      | 2m 34s       | 0.821753          | 0.797517              | 0.0651042   |"
      ]
     },
     "metadata": {},
     "output_type": "display_data"
    },
    {
     "data": {
      "text/html": [
       "<pre>| 14      | 2m 45s       | 0.818369          | 0.796172              | 0.0651042   |</pre>"
      ],
      "text/plain": [
       "| 14      | 2m 45s       | 0.818369          | 0.796172              | 0.0651042   |"
      ]
     },
     "metadata": {},
     "output_type": "display_data"
    },
    {
     "data": {
      "text/html": [
       "<pre>| 15      | 2m 57s       | 0.815873          | 0.79529               | 0.0651042   |</pre>"
      ],
      "text/plain": [
       "| 15      | 2m 57s       | 0.815873          | 0.79529               | 0.0651042   |"
      ]
     },
     "metadata": {},
     "output_type": "display_data"
    },
    {
     "data": {
      "text/html": [
       "<pre>| 16      | 3m 8s        | 0.813842          | 0.794705              | 0.0651042   |</pre>"
      ],
      "text/plain": [
       "| 16      | 3m 8s        | 0.813842          | 0.794705              | 0.0651042   |"
      ]
     },
     "metadata": {},
     "output_type": "display_data"
    },
    {
     "data": {
      "text/html": [
       "<pre>| 17      | 3m 19s       | 0.812497          | 0.794078              | 0.0651042   |</pre>"
      ],
      "text/plain": [
       "| 17      | 3m 19s       | 0.812497          | 0.794078              | 0.0651042   |"
      ]
     },
     "metadata": {},
     "output_type": "display_data"
    },
    {
     "data": {
      "text/html": [
       "<pre>| 18      | 3m 31s       | 0.811199          | 0.79392               | 0.0651042   |</pre>"
      ],
      "text/plain": [
       "| 18      | 3m 31s       | 0.811199          | 0.79392               | 0.0651042   |"
      ]
     },
     "metadata": {},
     "output_type": "display_data"
    },
    {
     "data": {
      "text/html": [
       "<pre>| 19      | 3m 42s       | 0.810401          | 0.793873              | 0.0651042   |</pre>"
      ],
      "text/plain": [
       "| 19      | 3m 42s       | 0.810401          | 0.793873              | 0.0651042   |"
      ]
     },
     "metadata": {},
     "output_type": "display_data"
    },
    {
     "data": {
      "text/html": [
       "<pre>| 20      | 3m 53s       | 0.810556          | 0.795116              | 0.0651042   |</pre>"
      ],
      "text/plain": [
       "| 20      | 3m 53s       | 0.810556          | 0.795116              | 0.0651042   |"
      ]
     },
     "metadata": {},
     "output_type": "display_data"
    },
    {
     "data": {
      "text/html": [
       "<pre>| 21      | 4m 5s        | 0.818486          | 0.802448              | 0.0651042   |</pre>"
      ],
      "text/plain": [
       "| 21      | 4m 5s        | 0.818486          | 0.802448              | 0.0651042   |"
      ]
     },
     "metadata": {},
     "output_type": "display_data"
    },
    {
     "data": {
      "text/html": [
       "<pre>| 22      | 4m 16s       | 0.846684          | 0.824242              | 0.0651042   |</pre>"
      ],
      "text/plain": [
       "| 22      | 4m 16s       | 0.846684          | 0.824242              | 0.0651042   |"
      ]
     },
     "metadata": {},
     "output_type": "display_data"
    },
    {
     "data": {
      "text/html": [
       "<pre>| 23      | 4m 27s       | 0.867955          | 0.837835              | 0.0651042   |</pre>"
      ],
      "text/plain": [
       "| 23      | 4m 27s       | 0.867955          | 0.837835              | 0.0651042   |"
      ]
     },
     "metadata": {},
     "output_type": "display_data"
    },
    {
     "data": {
      "text/html": [
       "<pre>| 24      | 4m 38s       | 0.833884          | 0.81104               | 0.0651042   |</pre>"
      ],
      "text/plain": [
       "| 24      | 4m 38s       | 0.833884          | 0.81104               | 0.0651042   |"
      ]
     },
     "metadata": {},
     "output_type": "display_data"
    },
    {
     "data": {
      "text/html": [
       "<pre>| 25      | 4m 49s       | 0.81587           | 0.794406              | 0.0651042   |</pre>"
      ],
      "text/plain": [
       "| 25      | 4m 49s       | 0.81587           | 0.794406              | 0.0651042   |"
      ]
     },
     "metadata": {},
     "output_type": "display_data"
    },
    {
     "data": {
      "text/html": [
       "<pre>+---------+--------------+-------------------+-----------------------+-------------+</pre>"
      ],
      "text/plain": [
       "+---------+--------------+-------------------+-----------------------+-------------+"
      ]
     },
     "metadata": {},
     "output_type": "display_data"
    },
    {
     "data": {
      "text/html": [
       "<pre>Optimization Complete: Maximum number of passes through the data reached.</pre>"
      ],
      "text/plain": [
       "Optimization Complete: Maximum number of passes through the data reached."
      ]
     },
     "metadata": {},
     "output_type": "display_data"
    },
    {
     "data": {
      "text/html": [
       "<pre>Computing final objective value and training RMSE.</pre>"
      ],
      "text/plain": [
       "Computing final objective value and training RMSE."
      ]
     },
     "metadata": {},
     "output_type": "display_data"
    },
    {
     "data": {
      "text/html": [
       "<pre>       Final objective value: 0.834338</pre>"
      ],
      "text/plain": [
       "       Final objective value: 0.834338"
      ]
     },
     "metadata": {},
     "output_type": "display_data"
    },
    {
     "data": {
      "text/html": [
       "<pre>       Final training RMSE: 0.793613</pre>"
      ],
      "text/plain": [
       "       Final training RMSE: 0.793613"
      ]
     },
     "metadata": {},
     "output_type": "display_data"
    },
    {
     "data": {
      "text/html": [
       "<pre>recommendations finished on 1000/270896 queries. users per second: 3410.82</pre>"
      ],
      "text/plain": [
       "recommendations finished on 1000/270896 queries. users per second: 3410.82"
      ]
     },
     "metadata": {},
     "output_type": "display_data"
    },
    {
     "data": {
      "text/html": [
       "<pre>recommendations finished on 2000/270896 queries. users per second: 3414.43</pre>"
      ],
      "text/plain": [
       "recommendations finished on 2000/270896 queries. users per second: 3414.43"
      ]
     },
     "metadata": {},
     "output_type": "display_data"
    },
    {
     "data": {
      "text/html": [
       "<pre>recommendations finished on 3000/270896 queries. users per second: 3379.5</pre>"
      ],
      "text/plain": [
       "recommendations finished on 3000/270896 queries. users per second: 3379.5"
      ]
     },
     "metadata": {},
     "output_type": "display_data"
    },
    {
     "data": {
      "text/html": [
       "<pre>recommendations finished on 4000/270896 queries. users per second: 3366.86</pre>"
      ],
      "text/plain": [
       "recommendations finished on 4000/270896 queries. users per second: 3366.86"
      ]
     },
     "metadata": {},
     "output_type": "display_data"
    },
    {
     "data": {
      "text/html": [
       "<pre>recommendations finished on 5000/270896 queries. users per second: 3373.14</pre>"
      ],
      "text/plain": [
       "recommendations finished on 5000/270896 queries. users per second: 3373.14"
      ]
     },
     "metadata": {},
     "output_type": "display_data"
    },
    {
     "data": {
      "text/html": [
       "<pre>recommendations finished on 6000/270896 queries. users per second: 3322.8</pre>"
      ],
      "text/plain": [
       "recommendations finished on 6000/270896 queries. users per second: 3322.8"
      ]
     },
     "metadata": {},
     "output_type": "display_data"
    },
    {
     "data": {
      "text/html": [
       "<pre>recommendations finished on 7000/270896 queries. users per second: 3322.22</pre>"
      ],
      "text/plain": [
       "recommendations finished on 7000/270896 queries. users per second: 3322.22"
      ]
     },
     "metadata": {},
     "output_type": "display_data"
    },
    {
     "data": {
      "text/html": [
       "<pre>recommendations finished on 8000/270896 queries. users per second: 3329.18</pre>"
      ],
      "text/plain": [
       "recommendations finished on 8000/270896 queries. users per second: 3329.18"
      ]
     },
     "metadata": {},
     "output_type": "display_data"
    },
    {
     "data": {
      "text/html": [
       "<pre>recommendations finished on 9000/270896 queries. users per second: 3317.28</pre>"
      ],
      "text/plain": [
       "recommendations finished on 9000/270896 queries. users per second: 3317.28"
      ]
     },
     "metadata": {},
     "output_type": "display_data"
    },
    {
     "data": {
      "text/html": [
       "<pre>recommendations finished on 10000/270896 queries. users per second: 3314.05</pre>"
      ],
      "text/plain": [
       "recommendations finished on 10000/270896 queries. users per second: 3314.05"
      ]
     },
     "metadata": {},
     "output_type": "display_data"
    },
    {
     "data": {
      "text/html": [
       "<pre>recommendations finished on 11000/270896 queries. users per second: 3303.06</pre>"
      ],
      "text/plain": [
       "recommendations finished on 11000/270896 queries. users per second: 3303.06"
      ]
     },
     "metadata": {},
     "output_type": "display_data"
    },
    {
     "data": {
      "text/html": [
       "<pre>recommendations finished on 12000/270896 queries. users per second: 3309.81</pre>"
      ],
      "text/plain": [
       "recommendations finished on 12000/270896 queries. users per second: 3309.81"
      ]
     },
     "metadata": {},
     "output_type": "display_data"
    },
    {
     "data": {
      "text/html": [
       "<pre>recommendations finished on 13000/270896 queries. users per second: 3315.69</pre>"
      ],
      "text/plain": [
       "recommendations finished on 13000/270896 queries. users per second: 3315.69"
      ]
     },
     "metadata": {},
     "output_type": "display_data"
    },
    {
     "data": {
      "text/html": [
       "<pre>recommendations finished on 14000/270896 queries. users per second: 3320.61</pre>"
      ],
      "text/plain": [
       "recommendations finished on 14000/270896 queries. users per second: 3320.61"
      ]
     },
     "metadata": {},
     "output_type": "display_data"
    },
    {
     "data": {
      "text/html": [
       "<pre>recommendations finished on 15000/270896 queries. users per second: 3325.76</pre>"
      ],
      "text/plain": [
       "recommendations finished on 15000/270896 queries. users per second: 3325.76"
      ]
     },
     "metadata": {},
     "output_type": "display_data"
    },
    {
     "data": {
      "text/html": [
       "<pre>recommendations finished on 16000/270896 queries. users per second: 3328.35</pre>"
      ],
      "text/plain": [
       "recommendations finished on 16000/270896 queries. users per second: 3328.35"
      ]
     },
     "metadata": {},
     "output_type": "display_data"
    },
    {
     "data": {
      "text/html": [
       "<pre>recommendations finished on 17000/270896 queries. users per second: 3332.37</pre>"
      ],
      "text/plain": [
       "recommendations finished on 17000/270896 queries. users per second: 3332.37"
      ]
     },
     "metadata": {},
     "output_type": "display_data"
    },
    {
     "data": {
      "text/html": [
       "<pre>recommendations finished on 18000/270896 queries. users per second: 3335.95</pre>"
      ],
      "text/plain": [
       "recommendations finished on 18000/270896 queries. users per second: 3335.95"
      ]
     },
     "metadata": {},
     "output_type": "display_data"
    },
    {
     "data": {
      "text/html": [
       "<pre>recommendations finished on 19000/270896 queries. users per second: 3332.77</pre>"
      ],
      "text/plain": [
       "recommendations finished on 19000/270896 queries. users per second: 3332.77"
      ]
     },
     "metadata": {},
     "output_type": "display_data"
    },
    {
     "data": {
      "text/html": [
       "<pre>recommendations finished on 20000/270896 queries. users per second: 3322.29</pre>"
      ],
      "text/plain": [
       "recommendations finished on 20000/270896 queries. users per second: 3322.29"
      ]
     },
     "metadata": {},
     "output_type": "display_data"
    },
    {
     "data": {
      "text/html": [
       "<pre>recommendations finished on 21000/270896 queries. users per second: 3323.41</pre>"
      ],
      "text/plain": [
       "recommendations finished on 21000/270896 queries. users per second: 3323.41"
      ]
     },
     "metadata": {},
     "output_type": "display_data"
    },
    {
     "data": {
      "text/html": [
       "<pre>recommendations finished on 22000/270896 queries. users per second: 3328.17</pre>"
      ],
      "text/plain": [
       "recommendations finished on 22000/270896 queries. users per second: 3328.17"
      ]
     },
     "metadata": {},
     "output_type": "display_data"
    },
    {
     "data": {
      "text/html": [
       "<pre>recommendations finished on 23000/270896 queries. users per second: 3332.08</pre>"
      ],
      "text/plain": [
       "recommendations finished on 23000/270896 queries. users per second: 3332.08"
      ]
     },
     "metadata": {},
     "output_type": "display_data"
    },
    {
     "data": {
      "text/html": [
       "<pre>recommendations finished on 24000/270896 queries. users per second: 3334.13</pre>"
      ],
      "text/plain": [
       "recommendations finished on 24000/270896 queries. users per second: 3334.13"
      ]
     },
     "metadata": {},
     "output_type": "display_data"
    },
    {
     "data": {
      "text/html": [
       "<pre>recommendations finished on 25000/270896 queries. users per second: 3338.07</pre>"
      ],
      "text/plain": [
       "recommendations finished on 25000/270896 queries. users per second: 3338.07"
      ]
     },
     "metadata": {},
     "output_type": "display_data"
    },
    {
     "data": {
      "text/html": [
       "<pre>recommendations finished on 26000/270896 queries. users per second: 3340.93</pre>"
      ],
      "text/plain": [
       "recommendations finished on 26000/270896 queries. users per second: 3340.93"
      ]
     },
     "metadata": {},
     "output_type": "display_data"
    },
    {
     "data": {
      "text/html": [
       "<pre>recommendations finished on 27000/270896 queries. users per second: 3343.32</pre>"
      ],
      "text/plain": [
       "recommendations finished on 27000/270896 queries. users per second: 3343.32"
      ]
     },
     "metadata": {},
     "output_type": "display_data"
    },
    {
     "data": {
      "text/html": [
       "<pre>recommendations finished on 28000/270896 queries. users per second: 3339.19</pre>"
      ],
      "text/plain": [
       "recommendations finished on 28000/270896 queries. users per second: 3339.19"
      ]
     },
     "metadata": {},
     "output_type": "display_data"
    },
    {
     "data": {
      "text/html": [
       "<pre>recommendations finished on 29000/270896 queries. users per second: 3314.05</pre>"
      ],
      "text/plain": [
       "recommendations finished on 29000/270896 queries. users per second: 3314.05"
      ]
     },
     "metadata": {},
     "output_type": "display_data"
    },
    {
     "data": {
      "text/html": [
       "<pre>recommendations finished on 30000/270896 queries. users per second: 3308.65</pre>"
      ],
      "text/plain": [
       "recommendations finished on 30000/270896 queries. users per second: 3308.65"
      ]
     },
     "metadata": {},
     "output_type": "display_data"
    },
    {
     "data": {
      "text/html": [
       "<pre>recommendations finished on 31000/270896 queries. users per second: 3312.12</pre>"
      ],
      "text/plain": [
       "recommendations finished on 31000/270896 queries. users per second: 3312.12"
      ]
     },
     "metadata": {},
     "output_type": "display_data"
    },
    {
     "data": {
      "text/html": [
       "<pre>recommendations finished on 32000/270896 queries. users per second: 3315.26</pre>"
      ],
      "text/plain": [
       "recommendations finished on 32000/270896 queries. users per second: 3315.26"
      ]
     },
     "metadata": {},
     "output_type": "display_data"
    },
    {
     "data": {
      "text/html": [
       "<pre>recommendations finished on 33000/270896 queries. users per second: 3317.61</pre>"
      ],
      "text/plain": [
       "recommendations finished on 33000/270896 queries. users per second: 3317.61"
      ]
     },
     "metadata": {},
     "output_type": "display_data"
    },
    {
     "data": {
      "text/html": [
       "<pre>recommendations finished on 34000/270896 queries. users per second: 3321.07</pre>"
      ],
      "text/plain": [
       "recommendations finished on 34000/270896 queries. users per second: 3321.07"
      ]
     },
     "metadata": {},
     "output_type": "display_data"
    },
    {
     "data": {
      "text/html": [
       "<pre>recommendations finished on 35000/270896 queries. users per second: 3324.24</pre>"
      ],
      "text/plain": [
       "recommendations finished on 35000/270896 queries. users per second: 3324.24"
      ]
     },
     "metadata": {},
     "output_type": "display_data"
    },
    {
     "data": {
      "text/html": [
       "<pre>recommendations finished on 36000/270896 queries. users per second: 3327.36</pre>"
      ],
      "text/plain": [
       "recommendations finished on 36000/270896 queries. users per second: 3327.36"
      ]
     },
     "metadata": {},
     "output_type": "display_data"
    },
    {
     "data": {
      "text/html": [
       "<pre>recommendations finished on 37000/270896 queries. users per second: 3329.48</pre>"
      ],
      "text/plain": [
       "recommendations finished on 37000/270896 queries. users per second: 3329.48"
      ]
     },
     "metadata": {},
     "output_type": "display_data"
    },
    {
     "data": {
      "text/html": [
       "<pre>recommendations finished on 38000/270896 queries. users per second: 3329.64</pre>"
      ],
      "text/plain": [
       "recommendations finished on 38000/270896 queries. users per second: 3329.64"
      ]
     },
     "metadata": {},
     "output_type": "display_data"
    },
    {
     "data": {
      "text/html": [
       "<pre>recommendations finished on 39000/270896 queries. users per second: 3329.89</pre>"
      ],
      "text/plain": [
       "recommendations finished on 39000/270896 queries. users per second: 3329.89"
      ]
     },
     "metadata": {},
     "output_type": "display_data"
    },
    {
     "data": {
      "text/html": [
       "<pre>recommendations finished on 40000/270896 queries. users per second: 3329.57</pre>"
      ],
      "text/plain": [
       "recommendations finished on 40000/270896 queries. users per second: 3329.57"
      ]
     },
     "metadata": {},
     "output_type": "display_data"
    },
    {
     "data": {
      "text/html": [
       "<pre>recommendations finished on 41000/270896 queries. users per second: 3331.54</pre>"
      ],
      "text/plain": [
       "recommendations finished on 41000/270896 queries. users per second: 3331.54"
      ]
     },
     "metadata": {},
     "output_type": "display_data"
    },
    {
     "data": {
      "text/html": [
       "<pre>recommendations finished on 42000/270896 queries. users per second: 3333.94</pre>"
      ],
      "text/plain": [
       "recommendations finished on 42000/270896 queries. users per second: 3333.94"
      ]
     },
     "metadata": {},
     "output_type": "display_data"
    },
    {
     "data": {
      "text/html": [
       "<pre>recommendations finished on 43000/270896 queries. users per second: 3335.51</pre>"
      ],
      "text/plain": [
       "recommendations finished on 43000/270896 queries. users per second: 3335.51"
      ]
     },
     "metadata": {},
     "output_type": "display_data"
    },
    {
     "data": {
      "text/html": [
       "<pre>recommendations finished on 44000/270896 queries. users per second: 3337.86</pre>"
      ],
      "text/plain": [
       "recommendations finished on 44000/270896 queries. users per second: 3337.86"
      ]
     },
     "metadata": {},
     "output_type": "display_data"
    },
    {
     "data": {
      "text/html": [
       "<pre>recommendations finished on 45000/270896 queries. users per second: 3340.02</pre>"
      ],
      "text/plain": [
       "recommendations finished on 45000/270896 queries. users per second: 3340.02"
      ]
     },
     "metadata": {},
     "output_type": "display_data"
    },
    {
     "data": {
      "text/html": [
       "<pre>recommendations finished on 46000/270896 queries. users per second: 3342.1</pre>"
      ],
      "text/plain": [
       "recommendations finished on 46000/270896 queries. users per second: 3342.1"
      ]
     },
     "metadata": {},
     "output_type": "display_data"
    },
    {
     "data": {
      "text/html": [
       "<pre>recommendations finished on 47000/270896 queries. users per second: 3343.53</pre>"
      ],
      "text/plain": [
       "recommendations finished on 47000/270896 queries. users per second: 3343.53"
      ]
     },
     "metadata": {},
     "output_type": "display_data"
    },
    {
     "data": {
      "text/html": [
       "<pre>recommendations finished on 48000/270896 queries. users per second: 3345.3</pre>"
      ],
      "text/plain": [
       "recommendations finished on 48000/270896 queries. users per second: 3345.3"
      ]
     },
     "metadata": {},
     "output_type": "display_data"
    },
    {
     "data": {
      "text/html": [
       "<pre>recommendations finished on 49000/270896 queries. users per second: 3347.22</pre>"
      ],
      "text/plain": [
       "recommendations finished on 49000/270896 queries. users per second: 3347.22"
      ]
     },
     "metadata": {},
     "output_type": "display_data"
    },
    {
     "data": {
      "text/html": [
       "<pre>recommendations finished on 50000/270896 queries. users per second: 3345.7</pre>"
      ],
      "text/plain": [
       "recommendations finished on 50000/270896 queries. users per second: 3345.7"
      ]
     },
     "metadata": {},
     "output_type": "display_data"
    },
    {
     "data": {
      "text/html": [
       "<pre>recommendations finished on 51000/270896 queries. users per second: 3346.57</pre>"
      ],
      "text/plain": [
       "recommendations finished on 51000/270896 queries. users per second: 3346.57"
      ]
     },
     "metadata": {},
     "output_type": "display_data"
    },
    {
     "data": {
      "text/html": [
       "<pre>recommendations finished on 52000/270896 queries. users per second: 3348.06</pre>"
      ],
      "text/plain": [
       "recommendations finished on 52000/270896 queries. users per second: 3348.06"
      ]
     },
     "metadata": {},
     "output_type": "display_data"
    },
    {
     "data": {
      "text/html": [
       "<pre>recommendations finished on 53000/270896 queries. users per second: 3348.83</pre>"
      ],
      "text/plain": [
       "recommendations finished on 53000/270896 queries. users per second: 3348.83"
      ]
     },
     "metadata": {},
     "output_type": "display_data"
    },
    {
     "data": {
      "text/html": [
       "<pre>recommendations finished on 54000/270896 queries. users per second: 3347.74</pre>"
      ],
      "text/plain": [
       "recommendations finished on 54000/270896 queries. users per second: 3347.74"
      ]
     },
     "metadata": {},
     "output_type": "display_data"
    },
    {
     "data": {
      "text/html": [
       "<pre>recommendations finished on 55000/270896 queries. users per second: 3349.3</pre>"
      ],
      "text/plain": [
       "recommendations finished on 55000/270896 queries. users per second: 3349.3"
      ]
     },
     "metadata": {},
     "output_type": "display_data"
    },
    {
     "data": {
      "text/html": [
       "<pre>recommendations finished on 56000/270896 queries. users per second: 3350.32</pre>"
      ],
      "text/plain": [
       "recommendations finished on 56000/270896 queries. users per second: 3350.32"
      ]
     },
     "metadata": {},
     "output_type": "display_data"
    },
    {
     "data": {
      "text/html": [
       "<pre>recommendations finished on 57000/270896 queries. users per second: 3351.7</pre>"
      ],
      "text/plain": [
       "recommendations finished on 57000/270896 queries. users per second: 3351.7"
      ]
     },
     "metadata": {},
     "output_type": "display_data"
    },
    {
     "data": {
      "text/html": [
       "<pre>recommendations finished on 58000/270896 queries. users per second: 3352.57</pre>"
      ],
      "text/plain": [
       "recommendations finished on 58000/270896 queries. users per second: 3352.57"
      ]
     },
     "metadata": {},
     "output_type": "display_data"
    },
    {
     "data": {
      "text/html": [
       "<pre>recommendations finished on 59000/270896 queries. users per second: 3354.04</pre>"
      ],
      "text/plain": [
       "recommendations finished on 59000/270896 queries. users per second: 3354.04"
      ]
     },
     "metadata": {},
     "output_type": "display_data"
    },
    {
     "data": {
      "text/html": [
       "<pre>recommendations finished on 60000/270896 queries. users per second: 3353.35</pre>"
      ],
      "text/plain": [
       "recommendations finished on 60000/270896 queries. users per second: 3353.35"
      ]
     },
     "metadata": {},
     "output_type": "display_data"
    },
    {
     "data": {
      "text/html": [
       "<pre>recommendations finished on 61000/270896 queries. users per second: 3353.56</pre>"
      ],
      "text/plain": [
       "recommendations finished on 61000/270896 queries. users per second: 3353.56"
      ]
     },
     "metadata": {},
     "output_type": "display_data"
    },
    {
     "data": {
      "text/html": [
       "<pre>recommendations finished on 62000/270896 queries. users per second: 3355.04</pre>"
      ],
      "text/plain": [
       "recommendations finished on 62000/270896 queries. users per second: 3355.04"
      ]
     },
     "metadata": {},
     "output_type": "display_data"
    },
    {
     "data": {
      "text/html": [
       "<pre>recommendations finished on 63000/270896 queries. users per second: 3356.32</pre>"
      ],
      "text/plain": [
       "recommendations finished on 63000/270896 queries. users per second: 3356.32"
      ]
     },
     "metadata": {},
     "output_type": "display_data"
    },
    {
     "data": {
      "text/html": [
       "<pre>recommendations finished on 64000/270896 queries. users per second: 3357.72</pre>"
      ],
      "text/plain": [
       "recommendations finished on 64000/270896 queries. users per second: 3357.72"
      ]
     },
     "metadata": {},
     "output_type": "display_data"
    },
    {
     "data": {
      "text/html": [
       "<pre>recommendations finished on 65000/270896 queries. users per second: 3358.87</pre>"
      ],
      "text/plain": [
       "recommendations finished on 65000/270896 queries. users per second: 3358.87"
      ]
     },
     "metadata": {},
     "output_type": "display_data"
    },
    {
     "data": {
      "text/html": [
       "<pre>recommendations finished on 66000/270896 queries. users per second: 3359.92</pre>"
      ],
      "text/plain": [
       "recommendations finished on 66000/270896 queries. users per second: 3359.92"
      ]
     },
     "metadata": {},
     "output_type": "display_data"
    },
    {
     "data": {
      "text/html": [
       "<pre>recommendations finished on 67000/270896 queries. users per second: 3361.07</pre>"
      ],
      "text/plain": [
       "recommendations finished on 67000/270896 queries. users per second: 3361.07"
      ]
     },
     "metadata": {},
     "output_type": "display_data"
    },
    {
     "data": {
      "text/html": [
       "<pre>recommendations finished on 68000/270896 queries. users per second: 3361.7</pre>"
      ],
      "text/plain": [
       "recommendations finished on 68000/270896 queries. users per second: 3361.7"
      ]
     },
     "metadata": {},
     "output_type": "display_data"
    },
    {
     "data": {
      "text/html": [
       "<pre>recommendations finished on 69000/270896 queries. users per second: 3362.73</pre>"
      ],
      "text/plain": [
       "recommendations finished on 69000/270896 queries. users per second: 3362.73"
      ]
     },
     "metadata": {},
     "output_type": "display_data"
    },
    {
     "data": {
      "text/html": [
       "<pre>recommendations finished on 70000/270896 queries. users per second: 3362.47</pre>"
      ],
      "text/plain": [
       "recommendations finished on 70000/270896 queries. users per second: 3362.47"
      ]
     },
     "metadata": {},
     "output_type": "display_data"
    },
    {
     "data": {
      "text/html": [
       "<pre>recommendations finished on 71000/270896 queries. users per second: 3362.19</pre>"
      ],
      "text/plain": [
       "recommendations finished on 71000/270896 queries. users per second: 3362.19"
      ]
     },
     "metadata": {},
     "output_type": "display_data"
    },
    {
     "data": {
      "text/html": [
       "<pre>recommendations finished on 72000/270896 queries. users per second: 3363.1</pre>"
      ],
      "text/plain": [
       "recommendations finished on 72000/270896 queries. users per second: 3363.1"
      ]
     },
     "metadata": {},
     "output_type": "display_data"
    },
    {
     "data": {
      "text/html": [
       "<pre>recommendations finished on 73000/270896 queries. users per second: 3364.18</pre>"
      ],
      "text/plain": [
       "recommendations finished on 73000/270896 queries. users per second: 3364.18"
      ]
     },
     "metadata": {},
     "output_type": "display_data"
    },
    {
     "data": {
      "text/html": [
       "<pre>recommendations finished on 74000/270896 queries. users per second: 3365.13</pre>"
      ],
      "text/plain": [
       "recommendations finished on 74000/270896 queries. users per second: 3365.13"
      ]
     },
     "metadata": {},
     "output_type": "display_data"
    },
    {
     "data": {
      "text/html": [
       "<pre>recommendations finished on 75000/270896 queries. users per second: 3366.06</pre>"
      ],
      "text/plain": [
       "recommendations finished on 75000/270896 queries. users per second: 3366.06"
      ]
     },
     "metadata": {},
     "output_type": "display_data"
    },
    {
     "data": {
      "text/html": [
       "<pre>recommendations finished on 76000/270896 queries. users per second: 3366.97</pre>"
      ],
      "text/plain": [
       "recommendations finished on 76000/270896 queries. users per second: 3366.97"
      ]
     },
     "metadata": {},
     "output_type": "display_data"
    },
    {
     "data": {
      "text/html": [
       "<pre>recommendations finished on 77000/270896 queries. users per second: 3367.78</pre>"
      ],
      "text/plain": [
       "recommendations finished on 77000/270896 queries. users per second: 3367.78"
      ]
     },
     "metadata": {},
     "output_type": "display_data"
    },
    {
     "data": {
      "text/html": [
       "<pre>recommendations finished on 78000/270896 queries. users per second: 3368.61</pre>"
      ],
      "text/plain": [
       "recommendations finished on 78000/270896 queries. users per second: 3368.61"
      ]
     },
     "metadata": {},
     "output_type": "display_data"
    },
    {
     "data": {
      "text/html": [
       "<pre>recommendations finished on 79000/270896 queries. users per second: 3369.51</pre>"
      ],
      "text/plain": [
       "recommendations finished on 79000/270896 queries. users per second: 3369.51"
      ]
     },
     "metadata": {},
     "output_type": "display_data"
    },
    {
     "data": {
      "text/html": [
       "<pre>recommendations finished on 80000/270896 queries. users per second: 3370.14</pre>"
      ],
      "text/plain": [
       "recommendations finished on 80000/270896 queries. users per second: 3370.14"
      ]
     },
     "metadata": {},
     "output_type": "display_data"
    },
    {
     "data": {
      "text/html": [
       "<pre>recommendations finished on 81000/270896 queries. users per second: 3368.92</pre>"
      ],
      "text/plain": [
       "recommendations finished on 81000/270896 queries. users per second: 3368.92"
      ]
     },
     "metadata": {},
     "output_type": "display_data"
    },
    {
     "data": {
      "text/html": [
       "<pre>recommendations finished on 82000/270896 queries. users per second: 3369.2</pre>"
      ],
      "text/plain": [
       "recommendations finished on 82000/270896 queries. users per second: 3369.2"
      ]
     },
     "metadata": {},
     "output_type": "display_data"
    },
    {
     "data": {
      "text/html": [
       "<pre>recommendations finished on 83000/270896 queries. users per second: 3370.04</pre>"
      ],
      "text/plain": [
       "recommendations finished on 83000/270896 queries. users per second: 3370.04"
      ]
     },
     "metadata": {},
     "output_type": "display_data"
    },
    {
     "data": {
      "text/html": [
       "<pre>recommendations finished on 84000/270896 queries. users per second: 3370.65</pre>"
      ],
      "text/plain": [
       "recommendations finished on 84000/270896 queries. users per second: 3370.65"
      ]
     },
     "metadata": {},
     "output_type": "display_data"
    },
    {
     "data": {
      "text/html": [
       "<pre>recommendations finished on 85000/270896 queries. users per second: 3371.54</pre>"
      ],
      "text/plain": [
       "recommendations finished on 85000/270896 queries. users per second: 3371.54"
      ]
     },
     "metadata": {},
     "output_type": "display_data"
    },
    {
     "data": {
      "text/html": [
       "<pre>recommendations finished on 86000/270896 queries. users per second: 3372.26</pre>"
      ],
      "text/plain": [
       "recommendations finished on 86000/270896 queries. users per second: 3372.26"
      ]
     },
     "metadata": {},
     "output_type": "display_data"
    },
    {
     "data": {
      "text/html": [
       "<pre>recommendations finished on 87000/270896 queries. users per second: 3373.06</pre>"
      ],
      "text/plain": [
       "recommendations finished on 87000/270896 queries. users per second: 3373.06"
      ]
     },
     "metadata": {},
     "output_type": "display_data"
    },
    {
     "data": {
      "text/html": [
       "<pre>recommendations finished on 88000/270896 queries. users per second: 3373.67</pre>"
      ],
      "text/plain": [
       "recommendations finished on 88000/270896 queries. users per second: 3373.67"
      ]
     },
     "metadata": {},
     "output_type": "display_data"
    },
    {
     "data": {
      "text/html": [
       "<pre>recommendations finished on 89000/270896 queries. users per second: 3374.58</pre>"
      ],
      "text/plain": [
       "recommendations finished on 89000/270896 queries. users per second: 3374.58"
      ]
     },
     "metadata": {},
     "output_type": "display_data"
    },
    {
     "data": {
      "text/html": [
       "<pre>recommendations finished on 90000/270896 queries. users per second: 3375.28</pre>"
      ],
      "text/plain": [
       "recommendations finished on 90000/270896 queries. users per second: 3375.28"
      ]
     },
     "metadata": {},
     "output_type": "display_data"
    },
    {
     "data": {
      "text/html": [
       "<pre>recommendations finished on 91000/270896 queries. users per second: 3374.5</pre>"
      ],
      "text/plain": [
       "recommendations finished on 91000/270896 queries. users per second: 3374.5"
      ]
     },
     "metadata": {},
     "output_type": "display_data"
    },
    {
     "data": {
      "text/html": [
       "<pre>recommendations finished on 92000/270896 queries. users per second: 3374.46</pre>"
      ],
      "text/plain": [
       "recommendations finished on 92000/270896 queries. users per second: 3374.46"
      ]
     },
     "metadata": {},
     "output_type": "display_data"
    },
    {
     "data": {
      "text/html": [
       "<pre>recommendations finished on 93000/270896 queries. users per second: 3375.22</pre>"
      ],
      "text/plain": [
       "recommendations finished on 93000/270896 queries. users per second: 3375.22"
      ]
     },
     "metadata": {},
     "output_type": "display_data"
    },
    {
     "data": {
      "text/html": [
       "<pre>recommendations finished on 94000/270896 queries. users per second: 3375.96</pre>"
      ],
      "text/plain": [
       "recommendations finished on 94000/270896 queries. users per second: 3375.96"
      ]
     },
     "metadata": {},
     "output_type": "display_data"
    },
    {
     "data": {
      "text/html": [
       "<pre>recommendations finished on 95000/270896 queries. users per second: 3376.67</pre>"
      ],
      "text/plain": [
       "recommendations finished on 95000/270896 queries. users per second: 3376.67"
      ]
     },
     "metadata": {},
     "output_type": "display_data"
    },
    {
     "data": {
      "text/html": [
       "<pre>recommendations finished on 96000/270896 queries. users per second: 3377.39</pre>"
      ],
      "text/plain": [
       "recommendations finished on 96000/270896 queries. users per second: 3377.39"
      ]
     },
     "metadata": {},
     "output_type": "display_data"
    },
    {
     "data": {
      "text/html": [
       "<pre>recommendations finished on 97000/270896 queries. users per second: 3378.01</pre>"
      ],
      "text/plain": [
       "recommendations finished on 97000/270896 queries. users per second: 3378.01"
      ]
     },
     "metadata": {},
     "output_type": "display_data"
    },
    {
     "data": {
      "text/html": [
       "<pre>recommendations finished on 98000/270896 queries. users per second: 3378.59</pre>"
      ],
      "text/plain": [
       "recommendations finished on 98000/270896 queries. users per second: 3378.59"
      ]
     },
     "metadata": {},
     "output_type": "display_data"
    },
    {
     "data": {
      "text/html": [
       "<pre>recommendations finished on 99000/270896 queries. users per second: 3379.2</pre>"
      ],
      "text/plain": [
       "recommendations finished on 99000/270896 queries. users per second: 3379.2"
      ]
     },
     "metadata": {},
     "output_type": "display_data"
    },
    {
     "data": {
      "text/html": [
       "<pre>recommendations finished on 100000/270896 queries. users per second: 3379.66</pre>"
      ],
      "text/plain": [
       "recommendations finished on 100000/270896 queries. users per second: 3379.66"
      ]
     },
     "metadata": {},
     "output_type": "display_data"
    },
    {
     "data": {
      "text/html": [
       "<pre>recommendations finished on 101000/270896 queries. users per second: 3379.4</pre>"
      ],
      "text/plain": [
       "recommendations finished on 101000/270896 queries. users per second: 3379.4"
      ]
     },
     "metadata": {},
     "output_type": "display_data"
    },
    {
     "data": {
      "text/html": [
       "<pre>recommendations finished on 102000/270896 queries. users per second: 3378.6</pre>"
      ],
      "text/plain": [
       "recommendations finished on 102000/270896 queries. users per second: 3378.6"
      ]
     },
     "metadata": {},
     "output_type": "display_data"
    },
    {
     "data": {
      "text/html": [
       "<pre>recommendations finished on 103000/270896 queries. users per second: 3379.16</pre>"
      ],
      "text/plain": [
       "recommendations finished on 103000/270896 queries. users per second: 3379.16"
      ]
     },
     "metadata": {},
     "output_type": "display_data"
    },
    {
     "data": {
      "text/html": [
       "<pre>recommendations finished on 104000/270896 queries. users per second: 3379.76</pre>"
      ],
      "text/plain": [
       "recommendations finished on 104000/270896 queries. users per second: 3379.76"
      ]
     },
     "metadata": {},
     "output_type": "display_data"
    },
    {
     "data": {
      "text/html": [
       "<pre>recommendations finished on 105000/270896 queries. users per second: 3378.52</pre>"
      ],
      "text/plain": [
       "recommendations finished on 105000/270896 queries. users per second: 3378.52"
      ]
     },
     "metadata": {},
     "output_type": "display_data"
    },
    {
     "data": {
      "text/html": [
       "<pre>recommendations finished on 106000/270896 queries. users per second: 3379.07</pre>"
      ],
      "text/plain": [
       "recommendations finished on 106000/270896 queries. users per second: 3379.07"
      ]
     },
     "metadata": {},
     "output_type": "display_data"
    },
    {
     "data": {
      "text/html": [
       "<pre>recommendations finished on 107000/270896 queries. users per second: 3379.54</pre>"
      ],
      "text/plain": [
       "recommendations finished on 107000/270896 queries. users per second: 3379.54"
      ]
     },
     "metadata": {},
     "output_type": "display_data"
    },
    {
     "data": {
      "text/html": [
       "<pre>recommendations finished on 108000/270896 queries. users per second: 3379.95</pre>"
      ],
      "text/plain": [
       "recommendations finished on 108000/270896 queries. users per second: 3379.95"
      ]
     },
     "metadata": {},
     "output_type": "display_data"
    },
    {
     "data": {
      "text/html": [
       "<pre>recommendations finished on 109000/270896 queries. users per second: 3380.25</pre>"
      ],
      "text/plain": [
       "recommendations finished on 109000/270896 queries. users per second: 3380.25"
      ]
     },
     "metadata": {},
     "output_type": "display_data"
    },
    {
     "data": {
      "text/html": [
       "<pre>recommendations finished on 110000/270896 queries. users per second: 3380.63</pre>"
      ],
      "text/plain": [
       "recommendations finished on 110000/270896 queries. users per second: 3380.63"
      ]
     },
     "metadata": {},
     "output_type": "display_data"
    },
    {
     "data": {
      "text/html": [
       "<pre>recommendations finished on 111000/270896 queries. users per second: 3381.1</pre>"
      ],
      "text/plain": [
       "recommendations finished on 111000/270896 queries. users per second: 3381.1"
      ]
     },
     "metadata": {},
     "output_type": "display_data"
    },
    {
     "data": {
      "text/html": [
       "<pre>recommendations finished on 112000/270896 queries. users per second: 3380.04</pre>"
      ],
      "text/plain": [
       "recommendations finished on 112000/270896 queries. users per second: 3380.04"
      ]
     },
     "metadata": {},
     "output_type": "display_data"
    },
    {
     "data": {
      "text/html": [
       "<pre>recommendations finished on 113000/270896 queries. users per second: 3380.19</pre>"
      ],
      "text/plain": [
       "recommendations finished on 113000/270896 queries. users per second: 3380.19"
      ]
     },
     "metadata": {},
     "output_type": "display_data"
    },
    {
     "data": {
      "text/html": [
       "<pre>recommendations finished on 114000/270896 queries. users per second: 3380.74</pre>"
      ],
      "text/plain": [
       "recommendations finished on 114000/270896 queries. users per second: 3380.74"
      ]
     },
     "metadata": {},
     "output_type": "display_data"
    },
    {
     "data": {
      "text/html": [
       "<pre>recommendations finished on 115000/270896 queries. users per second: 3381.27</pre>"
      ],
      "text/plain": [
       "recommendations finished on 115000/270896 queries. users per second: 3381.27"
      ]
     },
     "metadata": {},
     "output_type": "display_data"
    },
    {
     "data": {
      "text/html": [
       "<pre>recommendations finished on 116000/270896 queries. users per second: 3381.69</pre>"
      ],
      "text/plain": [
       "recommendations finished on 116000/270896 queries. users per second: 3381.69"
      ]
     },
     "metadata": {},
     "output_type": "display_data"
    },
    {
     "data": {
      "text/html": [
       "<pre>recommendations finished on 117000/270896 queries. users per second: 3382.02</pre>"
      ],
      "text/plain": [
       "recommendations finished on 117000/270896 queries. users per second: 3382.02"
      ]
     },
     "metadata": {},
     "output_type": "display_data"
    },
    {
     "data": {
      "text/html": [
       "<pre>recommendations finished on 118000/270896 queries. users per second: 3382.43</pre>"
      ],
      "text/plain": [
       "recommendations finished on 118000/270896 queries. users per second: 3382.43"
      ]
     },
     "metadata": {},
     "output_type": "display_data"
    },
    {
     "data": {
      "text/html": [
       "<pre>recommendations finished on 119000/270896 queries. users per second: 3382.87</pre>"
      ],
      "text/plain": [
       "recommendations finished on 119000/270896 queries. users per second: 3382.87"
      ]
     },
     "metadata": {},
     "output_type": "display_data"
    },
    {
     "data": {
      "text/html": [
       "<pre>recommendations finished on 120000/270896 queries. users per second: 3383.24</pre>"
      ],
      "text/plain": [
       "recommendations finished on 120000/270896 queries. users per second: 3383.24"
      ]
     },
     "metadata": {},
     "output_type": "display_data"
    },
    {
     "data": {
      "text/html": [
       "<pre>recommendations finished on 121000/270896 queries. users per second: 3383.57</pre>"
      ],
      "text/plain": [
       "recommendations finished on 121000/270896 queries. users per second: 3383.57"
      ]
     },
     "metadata": {},
     "output_type": "display_data"
    },
    {
     "data": {
      "text/html": [
       "<pre>recommendations finished on 122000/270896 queries. users per second: 3382.44</pre>"
      ],
      "text/plain": [
       "recommendations finished on 122000/270896 queries. users per second: 3382.44"
      ]
     },
     "metadata": {},
     "output_type": "display_data"
    },
    {
     "data": {
      "text/html": [
       "<pre>recommendations finished on 123000/270896 queries. users per second: 3382.36</pre>"
      ],
      "text/plain": [
       "recommendations finished on 123000/270896 queries. users per second: 3382.36"
      ]
     },
     "metadata": {},
     "output_type": "display_data"
    },
    {
     "data": {
      "text/html": [
       "<pre>recommendations finished on 124000/270896 queries. users per second: 3382.68</pre>"
      ],
      "text/plain": [
       "recommendations finished on 124000/270896 queries. users per second: 3382.68"
      ]
     },
     "metadata": {},
     "output_type": "display_data"
    },
    {
     "data": {
      "text/html": [
       "<pre>recommendations finished on 125000/270896 queries. users per second: 3383.03</pre>"
      ],
      "text/plain": [
       "recommendations finished on 125000/270896 queries. users per second: 3383.03"
      ]
     },
     "metadata": {},
     "output_type": "display_data"
    },
    {
     "data": {
      "text/html": [
       "<pre>recommendations finished on 126000/270896 queries. users per second: 3383.35</pre>"
      ],
      "text/plain": [
       "recommendations finished on 126000/270896 queries. users per second: 3383.35"
      ]
     },
     "metadata": {},
     "output_type": "display_data"
    },
    {
     "data": {
      "text/html": [
       "<pre>recommendations finished on 127000/270896 queries. users per second: 3383.77</pre>"
      ],
      "text/plain": [
       "recommendations finished on 127000/270896 queries. users per second: 3383.77"
      ]
     },
     "metadata": {},
     "output_type": "display_data"
    },
    {
     "data": {
      "text/html": [
       "<pre>recommendations finished on 128000/270896 queries. users per second: 3384.25</pre>"
      ],
      "text/plain": [
       "recommendations finished on 128000/270896 queries. users per second: 3384.25"
      ]
     },
     "metadata": {},
     "output_type": "display_data"
    },
    {
     "data": {
      "text/html": [
       "<pre>recommendations finished on 129000/270896 queries. users per second: 3384.65</pre>"
      ],
      "text/plain": [
       "recommendations finished on 129000/270896 queries. users per second: 3384.65"
      ]
     },
     "metadata": {},
     "output_type": "display_data"
    },
    {
     "data": {
      "text/html": [
       "<pre>recommendations finished on 130000/270896 queries. users per second: 3384.89</pre>"
      ],
      "text/plain": [
       "recommendations finished on 130000/270896 queries. users per second: 3384.89"
      ]
     },
     "metadata": {},
     "output_type": "display_data"
    },
    {
     "data": {
      "text/html": [
       "<pre>recommendations finished on 131000/270896 queries. users per second: 3385.19</pre>"
      ],
      "text/plain": [
       "recommendations finished on 131000/270896 queries. users per second: 3385.19"
      ]
     },
     "metadata": {},
     "output_type": "display_data"
    },
    {
     "data": {
      "text/html": [
       "<pre>recommendations finished on 132000/270896 queries. users per second: 3384.86</pre>"
      ],
      "text/plain": [
       "recommendations finished on 132000/270896 queries. users per second: 3384.86"
      ]
     },
     "metadata": {},
     "output_type": "display_data"
    },
    {
     "data": {
      "text/html": [
       "<pre>recommendations finished on 133000/270896 queries. users per second: 3384.11</pre>"
      ],
      "text/plain": [
       "recommendations finished on 133000/270896 queries. users per second: 3384.11"
      ]
     },
     "metadata": {},
     "output_type": "display_data"
    },
    {
     "data": {
      "text/html": [
       "<pre>recommendations finished on 134000/270896 queries. users per second: 3383.73</pre>"
      ],
      "text/plain": [
       "recommendations finished on 134000/270896 queries. users per second: 3383.73"
      ]
     },
     "metadata": {},
     "output_type": "display_data"
    },
    {
     "data": {
      "text/html": [
       "<pre>recommendations finished on 135000/270896 queries. users per second: 3383.42</pre>"
      ],
      "text/plain": [
       "recommendations finished on 135000/270896 queries. users per second: 3383.42"
      ]
     },
     "metadata": {},
     "output_type": "display_data"
    },
    {
     "data": {
      "text/html": [
       "<pre>recommendations finished on 136000/270896 queries. users per second: 3383.25</pre>"
      ],
      "text/plain": [
       "recommendations finished on 136000/270896 queries. users per second: 3383.25"
      ]
     },
     "metadata": {},
     "output_type": "display_data"
    },
    {
     "data": {
      "text/html": [
       "<pre>recommendations finished on 137000/270896 queries. users per second: 3382.54</pre>"
      ],
      "text/plain": [
       "recommendations finished on 137000/270896 queries. users per second: 3382.54"
      ]
     },
     "metadata": {},
     "output_type": "display_data"
    },
    {
     "data": {
      "text/html": [
       "<pre>recommendations finished on 138000/270896 queries. users per second: 3381.81</pre>"
      ],
      "text/plain": [
       "recommendations finished on 138000/270896 queries. users per second: 3381.81"
      ]
     },
     "metadata": {},
     "output_type": "display_data"
    },
    {
     "data": {
      "text/html": [
       "<pre>recommendations finished on 139000/270896 queries. users per second: 3379.66</pre>"
      ],
      "text/plain": [
       "recommendations finished on 139000/270896 queries. users per second: 3379.66"
      ]
     },
     "metadata": {},
     "output_type": "display_data"
    },
    {
     "data": {
      "text/html": [
       "<pre>recommendations finished on 140000/270896 queries. users per second: 3378.22</pre>"
      ],
      "text/plain": [
       "recommendations finished on 140000/270896 queries. users per second: 3378.22"
      ]
     },
     "metadata": {},
     "output_type": "display_data"
    },
    {
     "data": {
      "text/html": [
       "<pre>recommendations finished on 141000/270896 queries. users per second: 3376.89</pre>"
      ],
      "text/plain": [
       "recommendations finished on 141000/270896 queries. users per second: 3376.89"
      ]
     },
     "metadata": {},
     "output_type": "display_data"
    },
    {
     "data": {
      "text/html": [
       "<pre>recommendations finished on 142000/270896 queries. users per second: 3374.7</pre>"
      ],
      "text/plain": [
       "recommendations finished on 142000/270896 queries. users per second: 3374.7"
      ]
     },
     "metadata": {},
     "output_type": "display_data"
    },
    {
     "data": {
      "text/html": [
       "<pre>recommendations finished on 143000/270896 queries. users per second: 3373.11</pre>"
      ],
      "text/plain": [
       "recommendations finished on 143000/270896 queries. users per second: 3373.11"
      ]
     },
     "metadata": {},
     "output_type": "display_data"
    },
    {
     "data": {
      "text/html": [
       "<pre>recommendations finished on 144000/270896 queries. users per second: 3372.76</pre>"
      ],
      "text/plain": [
       "recommendations finished on 144000/270896 queries. users per second: 3372.76"
      ]
     },
     "metadata": {},
     "output_type": "display_data"
    },
    {
     "data": {
      "text/html": [
       "<pre>recommendations finished on 145000/270896 queries. users per second: 3371.82</pre>"
      ],
      "text/plain": [
       "recommendations finished on 145000/270896 queries. users per second: 3371.82"
      ]
     },
     "metadata": {},
     "output_type": "display_data"
    },
    {
     "data": {
      "text/html": [
       "<pre>recommendations finished on 146000/270896 queries. users per second: 3370.17</pre>"
      ],
      "text/plain": [
       "recommendations finished on 146000/270896 queries. users per second: 3370.17"
      ]
     },
     "metadata": {},
     "output_type": "display_data"
    },
    {
     "data": {
      "text/html": [
       "<pre>recommendations finished on 147000/270896 queries. users per second: 3369.77</pre>"
      ],
      "text/plain": [
       "recommendations finished on 147000/270896 queries. users per second: 3369.77"
      ]
     },
     "metadata": {},
     "output_type": "display_data"
    },
    {
     "data": {
      "text/html": [
       "<pre>recommendations finished on 148000/270896 queries. users per second: 3369.92</pre>"
      ],
      "text/plain": [
       "recommendations finished on 148000/270896 queries. users per second: 3369.92"
      ]
     },
     "metadata": {},
     "output_type": "display_data"
    },
    {
     "data": {
      "text/html": [
       "<pre>recommendations finished on 149000/270896 queries. users per second: 3370.29</pre>"
      ],
      "text/plain": [
       "recommendations finished on 149000/270896 queries. users per second: 3370.29"
      ]
     },
     "metadata": {},
     "output_type": "display_data"
    },
    {
     "data": {
      "text/html": [
       "<pre>recommendations finished on 150000/270896 queries. users per second: 3370.36</pre>"
      ],
      "text/plain": [
       "recommendations finished on 150000/270896 queries. users per second: 3370.36"
      ]
     },
     "metadata": {},
     "output_type": "display_data"
    },
    {
     "data": {
      "text/html": [
       "<pre>recommendations finished on 151000/270896 queries. users per second: 3370.55</pre>"
      ],
      "text/plain": [
       "recommendations finished on 151000/270896 queries. users per second: 3370.55"
      ]
     },
     "metadata": {},
     "output_type": "display_data"
    },
    {
     "data": {
      "text/html": [
       "<pre>recommendations finished on 152000/270896 queries. users per second: 3370.28</pre>"
      ],
      "text/plain": [
       "recommendations finished on 152000/270896 queries. users per second: 3370.28"
      ]
     },
     "metadata": {},
     "output_type": "display_data"
    },
    {
     "data": {
      "text/html": [
       "<pre>recommendations finished on 153000/270896 queries. users per second: 3369.53</pre>"
      ],
      "text/plain": [
       "recommendations finished on 153000/270896 queries. users per second: 3369.53"
      ]
     },
     "metadata": {},
     "output_type": "display_data"
    },
    {
     "data": {
      "text/html": [
       "<pre>recommendations finished on 154000/270896 queries. users per second: 3369.45</pre>"
      ],
      "text/plain": [
       "recommendations finished on 154000/270896 queries. users per second: 3369.45"
      ]
     },
     "metadata": {},
     "output_type": "display_data"
    },
    {
     "data": {
      "text/html": [
       "<pre>recommendations finished on 155000/270896 queries. users per second: 3367.34</pre>"
      ],
      "text/plain": [
       "recommendations finished on 155000/270896 queries. users per second: 3367.34"
      ]
     },
     "metadata": {},
     "output_type": "display_data"
    },
    {
     "data": {
      "text/html": [
       "<pre>recommendations finished on 156000/270896 queries. users per second: 3367.23</pre>"
      ],
      "text/plain": [
       "recommendations finished on 156000/270896 queries. users per second: 3367.23"
      ]
     },
     "metadata": {},
     "output_type": "display_data"
    },
    {
     "data": {
      "text/html": [
       "<pre>recommendations finished on 157000/270896 queries. users per second: 3367.69</pre>"
      ],
      "text/plain": [
       "recommendations finished on 157000/270896 queries. users per second: 3367.69"
      ]
     },
     "metadata": {},
     "output_type": "display_data"
    },
    {
     "data": {
      "text/html": [
       "<pre>recommendations finished on 158000/270896 queries. users per second: 3368.17</pre>"
      ],
      "text/plain": [
       "recommendations finished on 158000/270896 queries. users per second: 3368.17"
      ]
     },
     "metadata": {},
     "output_type": "display_data"
    },
    {
     "data": {
      "text/html": [
       "<pre>recommendations finished on 159000/270896 queries. users per second: 3368.03</pre>"
      ],
      "text/plain": [
       "recommendations finished on 159000/270896 queries. users per second: 3368.03"
      ]
     },
     "metadata": {},
     "output_type": "display_data"
    },
    {
     "data": {
      "text/html": [
       "<pre>recommendations finished on 160000/270896 queries. users per second: 3366.92</pre>"
      ],
      "text/plain": [
       "recommendations finished on 160000/270896 queries. users per second: 3366.92"
      ]
     },
     "metadata": {},
     "output_type": "display_data"
    },
    {
     "data": {
      "text/html": [
       "<pre>recommendations finished on 161000/270896 queries. users per second: 3365.16</pre>"
      ],
      "text/plain": [
       "recommendations finished on 161000/270896 queries. users per second: 3365.16"
      ]
     },
     "metadata": {},
     "output_type": "display_data"
    },
    {
     "data": {
      "text/html": [
       "<pre>recommendations finished on 162000/270896 queries. users per second: 3362.68</pre>"
      ],
      "text/plain": [
       "recommendations finished on 162000/270896 queries. users per second: 3362.68"
      ]
     },
     "metadata": {},
     "output_type": "display_data"
    },
    {
     "data": {
      "text/html": [
       "<pre>recommendations finished on 163000/270896 queries. users per second: 3360.23</pre>"
      ],
      "text/plain": [
       "recommendations finished on 163000/270896 queries. users per second: 3360.23"
      ]
     },
     "metadata": {},
     "output_type": "display_data"
    },
    {
     "data": {
      "text/html": [
       "<pre>recommendations finished on 164000/270896 queries. users per second: 3358.35</pre>"
      ],
      "text/plain": [
       "recommendations finished on 164000/270896 queries. users per second: 3358.35"
      ]
     },
     "metadata": {},
     "output_type": "display_data"
    },
    {
     "data": {
      "text/html": [
       "<pre>recommendations finished on 165000/270896 queries. users per second: 3358.34</pre>"
      ],
      "text/plain": [
       "recommendations finished on 165000/270896 queries. users per second: 3358.34"
      ]
     },
     "metadata": {},
     "output_type": "display_data"
    },
    {
     "data": {
      "text/html": [
       "<pre>recommendations finished on 166000/270896 queries. users per second: 3357.77</pre>"
      ],
      "text/plain": [
       "recommendations finished on 166000/270896 queries. users per second: 3357.77"
      ]
     },
     "metadata": {},
     "output_type": "display_data"
    },
    {
     "data": {
      "text/html": [
       "<pre>recommendations finished on 167000/270896 queries. users per second: 3357.63</pre>"
      ],
      "text/plain": [
       "recommendations finished on 167000/270896 queries. users per second: 3357.63"
      ]
     },
     "metadata": {},
     "output_type": "display_data"
    },
    {
     "data": {
      "text/html": [
       "<pre>recommendations finished on 168000/270896 queries. users per second: 3358.08</pre>"
      ],
      "text/plain": [
       "recommendations finished on 168000/270896 queries. users per second: 3358.08"
      ]
     },
     "metadata": {},
     "output_type": "display_data"
    },
    {
     "data": {
      "text/html": [
       "<pre>recommendations finished on 169000/270896 queries. users per second: 3358.1</pre>"
      ],
      "text/plain": [
       "recommendations finished on 169000/270896 queries. users per second: 3358.1"
      ]
     },
     "metadata": {},
     "output_type": "display_data"
    },
    {
     "data": {
      "text/html": [
       "<pre>recommendations finished on 170000/270896 queries. users per second: 3358.04</pre>"
      ],
      "text/plain": [
       "recommendations finished on 170000/270896 queries. users per second: 3358.04"
      ]
     },
     "metadata": {},
     "output_type": "display_data"
    },
    {
     "data": {
      "text/html": [
       "<pre>recommendations finished on 171000/270896 queries. users per second: 3358.38</pre>"
      ],
      "text/plain": [
       "recommendations finished on 171000/270896 queries. users per second: 3358.38"
      ]
     },
     "metadata": {},
     "output_type": "display_data"
    },
    {
     "data": {
      "text/html": [
       "<pre>recommendations finished on 172000/270896 queries. users per second: 3358</pre>"
      ],
      "text/plain": [
       "recommendations finished on 172000/270896 queries. users per second: 3358"
      ]
     },
     "metadata": {},
     "output_type": "display_data"
    },
    {
     "data": {
      "text/html": [
       "<pre>recommendations finished on 173000/270896 queries. users per second: 3358.23</pre>"
      ],
      "text/plain": [
       "recommendations finished on 173000/270896 queries. users per second: 3358.23"
      ]
     },
     "metadata": {},
     "output_type": "display_data"
    },
    {
     "data": {
      "text/html": [
       "<pre>recommendations finished on 174000/270896 queries. users per second: 3358.53</pre>"
      ],
      "text/plain": [
       "recommendations finished on 174000/270896 queries. users per second: 3358.53"
      ]
     },
     "metadata": {},
     "output_type": "display_data"
    },
    {
     "data": {
      "text/html": [
       "<pre>recommendations finished on 175000/270896 queries. users per second: 3358.28</pre>"
      ],
      "text/plain": [
       "recommendations finished on 175000/270896 queries. users per second: 3358.28"
      ]
     },
     "metadata": {},
     "output_type": "display_data"
    },
    {
     "data": {
      "text/html": [
       "<pre>recommendations finished on 176000/270896 queries. users per second: 3356.49</pre>"
      ],
      "text/plain": [
       "recommendations finished on 176000/270896 queries. users per second: 3356.49"
      ]
     },
     "metadata": {},
     "output_type": "display_data"
    },
    {
     "data": {
      "text/html": [
       "<pre>recommendations finished on 177000/270896 queries. users per second: 3355.62</pre>"
      ],
      "text/plain": [
       "recommendations finished on 177000/270896 queries. users per second: 3355.62"
      ]
     },
     "metadata": {},
     "output_type": "display_data"
    },
    {
     "data": {
      "text/html": [
       "<pre>recommendations finished on 178000/270896 queries. users per second: 3356.15</pre>"
      ],
      "text/plain": [
       "recommendations finished on 178000/270896 queries. users per second: 3356.15"
      ]
     },
     "metadata": {},
     "output_type": "display_data"
    },
    {
     "data": {
      "text/html": [
       "<pre>recommendations finished on 179000/270896 queries. users per second: 3356.17</pre>"
      ],
      "text/plain": [
       "recommendations finished on 179000/270896 queries. users per second: 3356.17"
      ]
     },
     "metadata": {},
     "output_type": "display_data"
    },
    {
     "data": {
      "text/html": [
       "<pre>recommendations finished on 180000/270896 queries. users per second: 3355.57</pre>"
      ],
      "text/plain": [
       "recommendations finished on 180000/270896 queries. users per second: 3355.57"
      ]
     },
     "metadata": {},
     "output_type": "display_data"
    },
    {
     "data": {
      "text/html": [
       "<pre>recommendations finished on 181000/270896 queries. users per second: 3355.47</pre>"
      ],
      "text/plain": [
       "recommendations finished on 181000/270896 queries. users per second: 3355.47"
      ]
     },
     "metadata": {},
     "output_type": "display_data"
    },
    {
     "data": {
      "text/html": [
       "<pre>recommendations finished on 182000/270896 queries. users per second: 3353.5</pre>"
      ],
      "text/plain": [
       "recommendations finished on 182000/270896 queries. users per second: 3353.5"
      ]
     },
     "metadata": {},
     "output_type": "display_data"
    },
    {
     "data": {
      "text/html": [
       "<pre>recommendations finished on 183000/270896 queries. users per second: 3351.51</pre>"
      ],
      "text/plain": [
       "recommendations finished on 183000/270896 queries. users per second: 3351.51"
      ]
     },
     "metadata": {},
     "output_type": "display_data"
    },
    {
     "data": {
      "text/html": [
       "<pre>recommendations finished on 184000/270896 queries. users per second: 3350.35</pre>"
      ],
      "text/plain": [
       "recommendations finished on 184000/270896 queries. users per second: 3350.35"
      ]
     },
     "metadata": {},
     "output_type": "display_data"
    },
    {
     "data": {
      "text/html": [
       "<pre>recommendations finished on 185000/270896 queries. users per second: 3349.34</pre>"
      ],
      "text/plain": [
       "recommendations finished on 185000/270896 queries. users per second: 3349.34"
      ]
     },
     "metadata": {},
     "output_type": "display_data"
    },
    {
     "data": {
      "text/html": [
       "<pre>recommendations finished on 186000/270896 queries. users per second: 3349.1</pre>"
      ],
      "text/plain": [
       "recommendations finished on 186000/270896 queries. users per second: 3349.1"
      ]
     },
     "metadata": {},
     "output_type": "display_data"
    },
    {
     "data": {
      "text/html": [
       "<pre>recommendations finished on 187000/270896 queries. users per second: 3348.14</pre>"
      ],
      "text/plain": [
       "recommendations finished on 187000/270896 queries. users per second: 3348.14"
      ]
     },
     "metadata": {},
     "output_type": "display_data"
    },
    {
     "data": {
      "text/html": [
       "<pre>recommendations finished on 188000/270896 queries. users per second: 3348.03</pre>"
      ],
      "text/plain": [
       "recommendations finished on 188000/270896 queries. users per second: 3348.03"
      ]
     },
     "metadata": {},
     "output_type": "display_data"
    },
    {
     "data": {
      "text/html": [
       "<pre>recommendations finished on 189000/270896 queries. users per second: 3348.36</pre>"
      ],
      "text/plain": [
       "recommendations finished on 189000/270896 queries. users per second: 3348.36"
      ]
     },
     "metadata": {},
     "output_type": "display_data"
    },
    {
     "data": {
      "text/html": [
       "<pre>recommendations finished on 190000/270896 queries. users per second: 3348.56</pre>"
      ],
      "text/plain": [
       "recommendations finished on 190000/270896 queries. users per second: 3348.56"
      ]
     },
     "metadata": {},
     "output_type": "display_data"
    },
    {
     "data": {
      "text/html": [
       "<pre>recommendations finished on 191000/270896 queries. users per second: 3348.45</pre>"
      ],
      "text/plain": [
       "recommendations finished on 191000/270896 queries. users per second: 3348.45"
      ]
     },
     "metadata": {},
     "output_type": "display_data"
    },
    {
     "data": {
      "text/html": [
       "<pre>recommendations finished on 192000/270896 queries. users per second: 3347.65</pre>"
      ],
      "text/plain": [
       "recommendations finished on 192000/270896 queries. users per second: 3347.65"
      ]
     },
     "metadata": {},
     "output_type": "display_data"
    },
    {
     "data": {
      "text/html": [
       "<pre>recommendations finished on 193000/270896 queries. users per second: 3347.66</pre>"
      ],
      "text/plain": [
       "recommendations finished on 193000/270896 queries. users per second: 3347.66"
      ]
     },
     "metadata": {},
     "output_type": "display_data"
    },
    {
     "data": {
      "text/html": [
       "<pre>recommendations finished on 194000/270896 queries. users per second: 3348.11</pre>"
      ],
      "text/plain": [
       "recommendations finished on 194000/270896 queries. users per second: 3348.11"
      ]
     },
     "metadata": {},
     "output_type": "display_data"
    },
    {
     "data": {
      "text/html": [
       "<pre>recommendations finished on 195000/270896 queries. users per second: 3348.62</pre>"
      ],
      "text/plain": [
       "recommendations finished on 195000/270896 queries. users per second: 3348.62"
      ]
     },
     "metadata": {},
     "output_type": "display_data"
    },
    {
     "data": {
      "text/html": [
       "<pre>recommendations finished on 196000/270896 queries. users per second: 3349.05</pre>"
      ],
      "text/plain": [
       "recommendations finished on 196000/270896 queries. users per second: 3349.05"
      ]
     },
     "metadata": {},
     "output_type": "display_data"
    },
    {
     "data": {
      "text/html": [
       "<pre>recommendations finished on 197000/270896 queries. users per second: 3349.14</pre>"
      ],
      "text/plain": [
       "recommendations finished on 197000/270896 queries. users per second: 3349.14"
      ]
     },
     "metadata": {},
     "output_type": "display_data"
    },
    {
     "data": {
      "text/html": [
       "<pre>recommendations finished on 198000/270896 queries. users per second: 3349.57</pre>"
      ],
      "text/plain": [
       "recommendations finished on 198000/270896 queries. users per second: 3349.57"
      ]
     },
     "metadata": {},
     "output_type": "display_data"
    },
    {
     "data": {
      "text/html": [
       "<pre>recommendations finished on 199000/270896 queries. users per second: 3349.98</pre>"
      ],
      "text/plain": [
       "recommendations finished on 199000/270896 queries. users per second: 3349.98"
      ]
     },
     "metadata": {},
     "output_type": "display_data"
    },
    {
     "data": {
      "text/html": [
       "<pre>recommendations finished on 200000/270896 queries. users per second: 3350.44</pre>"
      ],
      "text/plain": [
       "recommendations finished on 200000/270896 queries. users per second: 3350.44"
      ]
     },
     "metadata": {},
     "output_type": "display_data"
    },
    {
     "data": {
      "text/html": [
       "<pre>recommendations finished on 201000/270896 queries. users per second: 3350.72</pre>"
      ],
      "text/plain": [
       "recommendations finished on 201000/270896 queries. users per second: 3350.72"
      ]
     },
     "metadata": {},
     "output_type": "display_data"
    },
    {
     "data": {
      "text/html": [
       "<pre>recommendations finished on 202000/270896 queries. users per second: 3350.52</pre>"
      ],
      "text/plain": [
       "recommendations finished on 202000/270896 queries. users per second: 3350.52"
      ]
     },
     "metadata": {},
     "output_type": "display_data"
    },
    {
     "data": {
      "text/html": [
       "<pre>recommendations finished on 203000/270896 queries. users per second: 3350.6</pre>"
      ],
      "text/plain": [
       "recommendations finished on 203000/270896 queries. users per second: 3350.6"
      ]
     },
     "metadata": {},
     "output_type": "display_data"
    },
    {
     "data": {
      "text/html": [
       "<pre>recommendations finished on 204000/270896 queries. users per second: 3350.7</pre>"
      ],
      "text/plain": [
       "recommendations finished on 204000/270896 queries. users per second: 3350.7"
      ]
     },
     "metadata": {},
     "output_type": "display_data"
    },
    {
     "data": {
      "text/html": [
       "<pre>recommendations finished on 205000/270896 queries. users per second: 3350.23</pre>"
      ],
      "text/plain": [
       "recommendations finished on 205000/270896 queries. users per second: 3350.23"
      ]
     },
     "metadata": {},
     "output_type": "display_data"
    },
    {
     "data": {
      "text/html": [
       "<pre>recommendations finished on 206000/270896 queries. users per second: 3349.69</pre>"
      ],
      "text/plain": [
       "recommendations finished on 206000/270896 queries. users per second: 3349.69"
      ]
     },
     "metadata": {},
     "output_type": "display_data"
    },
    {
     "data": {
      "text/html": [
       "<pre>recommendations finished on 207000/270896 queries. users per second: 3349.69</pre>"
      ],
      "text/plain": [
       "recommendations finished on 207000/270896 queries. users per second: 3349.69"
      ]
     },
     "metadata": {},
     "output_type": "display_data"
    },
    {
     "data": {
      "text/html": [
       "<pre>recommendations finished on 208000/270896 queries. users per second: 3349.68</pre>"
      ],
      "text/plain": [
       "recommendations finished on 208000/270896 queries. users per second: 3349.68"
      ]
     },
     "metadata": {},
     "output_type": "display_data"
    },
    {
     "data": {
      "text/html": [
       "<pre>recommendations finished on 209000/270896 queries. users per second: 3350</pre>"
      ],
      "text/plain": [
       "recommendations finished on 209000/270896 queries. users per second: 3350"
      ]
     },
     "metadata": {},
     "output_type": "display_data"
    },
    {
     "data": {
      "text/html": [
       "<pre>recommendations finished on 210000/270896 queries. users per second: 3350.26</pre>"
      ],
      "text/plain": [
       "recommendations finished on 210000/270896 queries. users per second: 3350.26"
      ]
     },
     "metadata": {},
     "output_type": "display_data"
    },
    {
     "data": {
      "text/html": [
       "<pre>recommendations finished on 211000/270896 queries. users per second: 3350.52</pre>"
      ],
      "text/plain": [
       "recommendations finished on 211000/270896 queries. users per second: 3350.52"
      ]
     },
     "metadata": {},
     "output_type": "display_data"
    },
    {
     "data": {
      "text/html": [
       "<pre>recommendations finished on 212000/270896 queries. users per second: 3350.18</pre>"
      ],
      "text/plain": [
       "recommendations finished on 212000/270896 queries. users per second: 3350.18"
      ]
     },
     "metadata": {},
     "output_type": "display_data"
    },
    {
     "data": {
      "text/html": [
       "<pre>recommendations finished on 213000/270896 queries. users per second: 3347.9</pre>"
      ],
      "text/plain": [
       "recommendations finished on 213000/270896 queries. users per second: 3347.9"
      ]
     },
     "metadata": {},
     "output_type": "display_data"
    },
    {
     "data": {
      "text/html": [
       "<pre>recommendations finished on 214000/270896 queries. users per second: 3346.85</pre>"
      ],
      "text/plain": [
       "recommendations finished on 214000/270896 queries. users per second: 3346.85"
      ]
     },
     "metadata": {},
     "output_type": "display_data"
    },
    {
     "data": {
      "text/html": [
       "<pre>recommendations finished on 215000/270896 queries. users per second: 3346.63</pre>"
      ],
      "text/plain": [
       "recommendations finished on 215000/270896 queries. users per second: 3346.63"
      ]
     },
     "metadata": {},
     "output_type": "display_data"
    },
    {
     "data": {
      "text/html": [
       "<pre>recommendations finished on 216000/270896 queries. users per second: 3346.82</pre>"
      ],
      "text/plain": [
       "recommendations finished on 216000/270896 queries. users per second: 3346.82"
      ]
     },
     "metadata": {},
     "output_type": "display_data"
    },
    {
     "data": {
      "text/html": [
       "<pre>recommendations finished on 217000/270896 queries. users per second: 3347.2</pre>"
      ],
      "text/plain": [
       "recommendations finished on 217000/270896 queries. users per second: 3347.2"
      ]
     },
     "metadata": {},
     "output_type": "display_data"
    },
    {
     "data": {
      "text/html": [
       "<pre>recommendations finished on 218000/270896 queries. users per second: 3347.57</pre>"
      ],
      "text/plain": [
       "recommendations finished on 218000/270896 queries. users per second: 3347.57"
      ]
     },
     "metadata": {},
     "output_type": "display_data"
    },
    {
     "data": {
      "text/html": [
       "<pre>recommendations finished on 219000/270896 queries. users per second: 3347.95</pre>"
      ],
      "text/plain": [
       "recommendations finished on 219000/270896 queries. users per second: 3347.95"
      ]
     },
     "metadata": {},
     "output_type": "display_data"
    },
    {
     "data": {
      "text/html": [
       "<pre>recommendations finished on 220000/270896 queries. users per second: 3348.11</pre>"
      ],
      "text/plain": [
       "recommendations finished on 220000/270896 queries. users per second: 3348.11"
      ]
     },
     "metadata": {},
     "output_type": "display_data"
    },
    {
     "data": {
      "text/html": [
       "<pre>recommendations finished on 221000/270896 queries. users per second: 3348.22</pre>"
      ],
      "text/plain": [
       "recommendations finished on 221000/270896 queries. users per second: 3348.22"
      ]
     },
     "metadata": {},
     "output_type": "display_data"
    },
    {
     "data": {
      "text/html": [
       "<pre>recommendations finished on 222000/270896 queries. users per second: 3348.16</pre>"
      ],
      "text/plain": [
       "recommendations finished on 222000/270896 queries. users per second: 3348.16"
      ]
     },
     "metadata": {},
     "output_type": "display_data"
    },
    {
     "data": {
      "text/html": [
       "<pre>recommendations finished on 223000/270896 queries. users per second: 3347.69</pre>"
      ],
      "text/plain": [
       "recommendations finished on 223000/270896 queries. users per second: 3347.69"
      ]
     },
     "metadata": {},
     "output_type": "display_data"
    },
    {
     "data": {
      "text/html": [
       "<pre>recommendations finished on 224000/270896 queries. users per second: 3348.12</pre>"
      ],
      "text/plain": [
       "recommendations finished on 224000/270896 queries. users per second: 3348.12"
      ]
     },
     "metadata": {},
     "output_type": "display_data"
    },
    {
     "data": {
      "text/html": [
       "<pre>recommendations finished on 225000/270896 queries. users per second: 3348.57</pre>"
      ],
      "text/plain": [
       "recommendations finished on 225000/270896 queries. users per second: 3348.57"
      ]
     },
     "metadata": {},
     "output_type": "display_data"
    },
    {
     "data": {
      "text/html": [
       "<pre>recommendations finished on 226000/270896 queries. users per second: 3348.96</pre>"
      ],
      "text/plain": [
       "recommendations finished on 226000/270896 queries. users per second: 3348.96"
      ]
     },
     "metadata": {},
     "output_type": "display_data"
    },
    {
     "data": {
      "text/html": [
       "<pre>recommendations finished on 227000/270896 queries. users per second: 3349.34</pre>"
      ],
      "text/plain": [
       "recommendations finished on 227000/270896 queries. users per second: 3349.34"
      ]
     },
     "metadata": {},
     "output_type": "display_data"
    },
    {
     "data": {
      "text/html": [
       "<pre>recommendations finished on 228000/270896 queries. users per second: 3349.76</pre>"
      ],
      "text/plain": [
       "recommendations finished on 228000/270896 queries. users per second: 3349.76"
      ]
     },
     "metadata": {},
     "output_type": "display_data"
    },
    {
     "data": {
      "text/html": [
       "<pre>recommendations finished on 229000/270896 queries. users per second: 3350.14</pre>"
      ],
      "text/plain": [
       "recommendations finished on 229000/270896 queries. users per second: 3350.14"
      ]
     },
     "metadata": {},
     "output_type": "display_data"
    },
    {
     "data": {
      "text/html": [
       "<pre>recommendations finished on 230000/270896 queries. users per second: 3350.51</pre>"
      ],
      "text/plain": [
       "recommendations finished on 230000/270896 queries. users per second: 3350.51"
      ]
     },
     "metadata": {},
     "output_type": "display_data"
    },
    {
     "data": {
      "text/html": [
       "<pre>recommendations finished on 231000/270896 queries. users per second: 3350.9</pre>"
      ],
      "text/plain": [
       "recommendations finished on 231000/270896 queries. users per second: 3350.9"
      ]
     },
     "metadata": {},
     "output_type": "display_data"
    },
    {
     "data": {
      "text/html": [
       "<pre>recommendations finished on 232000/270896 queries. users per second: 3351.2</pre>"
      ],
      "text/plain": [
       "recommendations finished on 232000/270896 queries. users per second: 3351.2"
      ]
     },
     "metadata": {},
     "output_type": "display_data"
    },
    {
     "data": {
      "text/html": [
       "<pre>recommendations finished on 233000/270896 queries. users per second: 3350.89</pre>"
      ],
      "text/plain": [
       "recommendations finished on 233000/270896 queries. users per second: 3350.89"
      ]
     },
     "metadata": {},
     "output_type": "display_data"
    },
    {
     "data": {
      "text/html": [
       "<pre>recommendations finished on 234000/270896 queries. users per second: 3351.08</pre>"
      ],
      "text/plain": [
       "recommendations finished on 234000/270896 queries. users per second: 3351.08"
      ]
     },
     "metadata": {},
     "output_type": "display_data"
    },
    {
     "data": {
      "text/html": [
       "<pre>recommendations finished on 235000/270896 queries. users per second: 3351.27</pre>"
      ],
      "text/plain": [
       "recommendations finished on 235000/270896 queries. users per second: 3351.27"
      ]
     },
     "metadata": {},
     "output_type": "display_data"
    },
    {
     "data": {
      "text/html": [
       "<pre>recommendations finished on 236000/270896 queries. users per second: 3351.64</pre>"
      ],
      "text/plain": [
       "recommendations finished on 236000/270896 queries. users per second: 3351.64"
      ]
     },
     "metadata": {},
     "output_type": "display_data"
    },
    {
     "data": {
      "text/html": [
       "<pre>recommendations finished on 237000/270896 queries. users per second: 3352.03</pre>"
      ],
      "text/plain": [
       "recommendations finished on 237000/270896 queries. users per second: 3352.03"
      ]
     },
     "metadata": {},
     "output_type": "display_data"
    },
    {
     "data": {
      "text/html": [
       "<pre>recommendations finished on 238000/270896 queries. users per second: 3352.43</pre>"
      ],
      "text/plain": [
       "recommendations finished on 238000/270896 queries. users per second: 3352.43"
      ]
     },
     "metadata": {},
     "output_type": "display_data"
    },
    {
     "data": {
      "text/html": [
       "<pre>recommendations finished on 239000/270896 queries. users per second: 3352.8</pre>"
      ],
      "text/plain": [
       "recommendations finished on 239000/270896 queries. users per second: 3352.8"
      ]
     },
     "metadata": {},
     "output_type": "display_data"
    },
    {
     "data": {
      "text/html": [
       "<pre>recommendations finished on 240000/270896 queries. users per second: 3353.13</pre>"
      ],
      "text/plain": [
       "recommendations finished on 240000/270896 queries. users per second: 3353.13"
      ]
     },
     "metadata": {},
     "output_type": "display_data"
    },
    {
     "data": {
      "text/html": [
       "<pre>recommendations finished on 241000/270896 queries. users per second: 3351.6</pre>"
      ],
      "text/plain": [
       "recommendations finished on 241000/270896 queries. users per second: 3351.6"
      ]
     },
     "metadata": {},
     "output_type": "display_data"
    },
    {
     "data": {
      "text/html": [
       "<pre>recommendations finished on 242000/270896 queries. users per second: 3351.97</pre>"
      ],
      "text/plain": [
       "recommendations finished on 242000/270896 queries. users per second: 3351.97"
      ]
     },
     "metadata": {},
     "output_type": "display_data"
    },
    {
     "data": {
      "text/html": [
       "<pre>recommendations finished on 243000/270896 queries. users per second: 3351.72</pre>"
      ],
      "text/plain": [
       "recommendations finished on 243000/270896 queries. users per second: 3351.72"
      ]
     },
     "metadata": {},
     "output_type": "display_data"
    },
    {
     "data": {
      "text/html": [
       "<pre>recommendations finished on 244000/270896 queries. users per second: 3351.53</pre>"
      ],
      "text/plain": [
       "recommendations finished on 244000/270896 queries. users per second: 3351.53"
      ]
     },
     "metadata": {},
     "output_type": "display_data"
    },
    {
     "data": {
      "text/html": [
       "<pre>recommendations finished on 245000/270896 queries. users per second: 3351.86</pre>"
      ],
      "text/plain": [
       "recommendations finished on 245000/270896 queries. users per second: 3351.86"
      ]
     },
     "metadata": {},
     "output_type": "display_data"
    },
    {
     "data": {
      "text/html": [
       "<pre>recommendations finished on 246000/270896 queries. users per second: 3352.11</pre>"
      ],
      "text/plain": [
       "recommendations finished on 246000/270896 queries. users per second: 3352.11"
      ]
     },
     "metadata": {},
     "output_type": "display_data"
    },
    {
     "data": {
      "text/html": [
       "<pre>recommendations finished on 247000/270896 queries. users per second: 3352.46</pre>"
      ],
      "text/plain": [
       "recommendations finished on 247000/270896 queries. users per second: 3352.46"
      ]
     },
     "metadata": {},
     "output_type": "display_data"
    },
    {
     "data": {
      "text/html": [
       "<pre>recommendations finished on 248000/270896 queries. users per second: 3352.48</pre>"
      ],
      "text/plain": [
       "recommendations finished on 248000/270896 queries. users per second: 3352.48"
      ]
     },
     "metadata": {},
     "output_type": "display_data"
    },
    {
     "data": {
      "text/html": [
       "<pre>recommendations finished on 249000/270896 queries. users per second: 3352.75</pre>"
      ],
      "text/plain": [
       "recommendations finished on 249000/270896 queries. users per second: 3352.75"
      ]
     },
     "metadata": {},
     "output_type": "display_data"
    },
    {
     "data": {
      "text/html": [
       "<pre>recommendations finished on 250000/270896 queries. users per second: 3353.11</pre>"
      ],
      "text/plain": [
       "recommendations finished on 250000/270896 queries. users per second: 3353.11"
      ]
     },
     "metadata": {},
     "output_type": "display_data"
    },
    {
     "data": {
      "text/html": [
       "<pre>recommendations finished on 251000/270896 queries. users per second: 3353.44</pre>"
      ],
      "text/plain": [
       "recommendations finished on 251000/270896 queries. users per second: 3353.44"
      ]
     },
     "metadata": {},
     "output_type": "display_data"
    },
    {
     "data": {
      "text/html": [
       "<pre>recommendations finished on 252000/270896 queries. users per second: 3353.72</pre>"
      ],
      "text/plain": [
       "recommendations finished on 252000/270896 queries. users per second: 3353.72"
      ]
     },
     "metadata": {},
     "output_type": "display_data"
    },
    {
     "data": {
      "text/html": [
       "<pre>recommendations finished on 253000/270896 queries. users per second: 3353.45</pre>"
      ],
      "text/plain": [
       "recommendations finished on 253000/270896 queries. users per second: 3353.45"
      ]
     },
     "metadata": {},
     "output_type": "display_data"
    },
    {
     "data": {
      "text/html": [
       "<pre>recommendations finished on 254000/270896 queries. users per second: 3353.22</pre>"
      ],
      "text/plain": [
       "recommendations finished on 254000/270896 queries. users per second: 3353.22"
      ]
     },
     "metadata": {},
     "output_type": "display_data"
    },
    {
     "data": {
      "text/html": [
       "<pre>recommendations finished on 255000/270896 queries. users per second: 3352.84</pre>"
      ],
      "text/plain": [
       "recommendations finished on 255000/270896 queries. users per second: 3352.84"
      ]
     },
     "metadata": {},
     "output_type": "display_data"
    },
    {
     "data": {
      "text/html": [
       "<pre>recommendations finished on 256000/270896 queries. users per second: 3353.13</pre>"
      ],
      "text/plain": [
       "recommendations finished on 256000/270896 queries. users per second: 3353.13"
      ]
     },
     "metadata": {},
     "output_type": "display_data"
    },
    {
     "data": {
      "text/html": [
       "<pre>recommendations finished on 257000/270896 queries. users per second: 3353.46</pre>"
      ],
      "text/plain": [
       "recommendations finished on 257000/270896 queries. users per second: 3353.46"
      ]
     },
     "metadata": {},
     "output_type": "display_data"
    },
    {
     "data": {
      "text/html": [
       "<pre>recommendations finished on 258000/270896 queries. users per second: 3353.74</pre>"
      ],
      "text/plain": [
       "recommendations finished on 258000/270896 queries. users per second: 3353.74"
      ]
     },
     "metadata": {},
     "output_type": "display_data"
    },
    {
     "data": {
      "text/html": [
       "<pre>recommendations finished on 259000/270896 queries. users per second: 3353.73</pre>"
      ],
      "text/plain": [
       "recommendations finished on 259000/270896 queries. users per second: 3353.73"
      ]
     },
     "metadata": {},
     "output_type": "display_data"
    },
    {
     "data": {
      "text/html": [
       "<pre>recommendations finished on 260000/270896 queries. users per second: 3354.05</pre>"
      ],
      "text/plain": [
       "recommendations finished on 260000/270896 queries. users per second: 3354.05"
      ]
     },
     "metadata": {},
     "output_type": "display_data"
    },
    {
     "data": {
      "text/html": [
       "<pre>recommendations finished on 261000/270896 queries. users per second: 3354.36</pre>"
      ],
      "text/plain": [
       "recommendations finished on 261000/270896 queries. users per second: 3354.36"
      ]
     },
     "metadata": {},
     "output_type": "display_data"
    },
    {
     "data": {
      "text/html": [
       "<pre>recommendations finished on 262000/270896 queries. users per second: 3354.69</pre>"
      ],
      "text/plain": [
       "recommendations finished on 262000/270896 queries. users per second: 3354.69"
      ]
     },
     "metadata": {},
     "output_type": "display_data"
    },
    {
     "data": {
      "text/html": [
       "<pre>recommendations finished on 263000/270896 queries. users per second: 3354.7</pre>"
      ],
      "text/plain": [
       "recommendations finished on 263000/270896 queries. users per second: 3354.7"
      ]
     },
     "metadata": {},
     "output_type": "display_data"
    },
    {
     "data": {
      "text/html": [
       "<pre>recommendations finished on 264000/270896 queries. users per second: 3354.47</pre>"
      ],
      "text/plain": [
       "recommendations finished on 264000/270896 queries. users per second: 3354.47"
      ]
     },
     "metadata": {},
     "output_type": "display_data"
    },
    {
     "data": {
      "text/html": [
       "<pre>recommendations finished on 265000/270896 queries. users per second: 3354.69</pre>"
      ],
      "text/plain": [
       "recommendations finished on 265000/270896 queries. users per second: 3354.69"
      ]
     },
     "metadata": {},
     "output_type": "display_data"
    },
    {
     "data": {
      "text/html": [
       "<pre>recommendations finished on 266000/270896 queries. users per second: 3354.99</pre>"
      ],
      "text/plain": [
       "recommendations finished on 266000/270896 queries. users per second: 3354.99"
      ]
     },
     "metadata": {},
     "output_type": "display_data"
    },
    {
     "data": {
      "text/html": [
       "<pre>recommendations finished on 267000/270896 queries. users per second: 3355.31</pre>"
      ],
      "text/plain": [
       "recommendations finished on 267000/270896 queries. users per second: 3355.31"
      ]
     },
     "metadata": {},
     "output_type": "display_data"
    },
    {
     "data": {
      "text/html": [
       "<pre>recommendations finished on 268000/270896 queries. users per second: 3355.6</pre>"
      ],
      "text/plain": [
       "recommendations finished on 268000/270896 queries. users per second: 3355.6"
      ]
     },
     "metadata": {},
     "output_type": "display_data"
    },
    {
     "data": {
      "text/html": [
       "<pre>recommendations finished on 269000/270896 queries. users per second: 3355.02</pre>"
      ],
      "text/plain": [
       "recommendations finished on 269000/270896 queries. users per second: 3355.02"
      ]
     },
     "metadata": {},
     "output_type": "display_data"
    },
    {
     "data": {
      "text/html": [
       "<pre>recommendations finished on 270000/270896 queries. users per second: 3352.98</pre>"
      ],
      "text/plain": [
       "recommendations finished on 270000/270896 queries. users per second: 3352.98"
      ]
     },
     "metadata": {},
     "output_type": "display_data"
    },
    {
     "name": "stdout",
     "output_type": "stream",
     "text": [
      "\n",
      "\n",
      "----------------------------------------------------\n",
      "Cell Processing Time\n",
      "CPU times: user 1h 47min 29s, sys: 12.4 s, total: 1h 47min 41s\n",
      "Wall time: 7min 13s\n"
     ]
    }
   ],
   "source": [
    "%%time\n",
    "data = tc.SFrame(data=ratings)\n",
    "\n",
    "model = tc.recommender.create(data, user_id=\"userId\", item_id=\"movieId\", target=\"rating\")\n",
    "results = model.recommend(users=None, k=5)\n",
    "model.save(\"my_model\")\n",
    "\n",
    "print(timebreak)"
   ]
  },
  {
   "cell_type": "code",
   "execution_count": 517,
   "metadata": {},
   "outputs": [
    {
     "data": {
      "text/html": [
       "<div style=\"max-height:1000px;max-width:1500px;overflow:auto;\"><table frame=\"box\" rules=\"cols\">\n",
       "    <tr>\n",
       "        <th style=\"padding-left: 1em; padding-right: 1em; text-align: center\">userId</th>\n",
       "        <th style=\"padding-left: 1em; padding-right: 1em; text-align: center\">movieId</th>\n",
       "        <th style=\"padding-left: 1em; padding-right: 1em; text-align: center\">score</th>\n",
       "        <th style=\"padding-left: 1em; padding-right: 1em; text-align: center\">rank</th>\n",
       "    </tr>\n",
       "    <tr>\n",
       "        <td style=\"padding-left: 1em; padding-right: 1em; text-align: center; vertical-align: top\">1</td>\n",
       "        <td style=\"padding-left: 1em; padding-right: 1em; text-align: center; vertical-align: top\">2858</td>\n",
       "        <td style=\"padding-left: 1em; padding-right: 1em; text-align: center; vertical-align: top\">5.301138546623511</td>\n",
       "        <td style=\"padding-left: 1em; padding-right: 1em; text-align: center; vertical-align: top\">1</td>\n",
       "    </tr>\n",
       "    <tr>\n",
       "        <td style=\"padding-left: 1em; padding-right: 1em; text-align: center; vertical-align: top\">1</td>\n",
       "        <td style=\"padding-left: 1em; padding-right: 1em; text-align: center; vertical-align: top\">4979</td>\n",
       "        <td style=\"padding-left: 1em; padding-right: 1em; text-align: center; vertical-align: top\">5.209695156969351</td>\n",
       "        <td style=\"padding-left: 1em; padding-right: 1em; text-align: center; vertical-align: top\">2</td>\n",
       "    </tr>\n",
       "    <tr>\n",
       "        <td style=\"padding-left: 1em; padding-right: 1em; text-align: center; vertical-align: top\">1</td>\n",
       "        <td style=\"padding-left: 1em; padding-right: 1em; text-align: center; vertical-align: top\">2997</td>\n",
       "        <td style=\"padding-left: 1em; padding-right: 1em; text-align: center; vertical-align: top\">5.195037242330832</td>\n",
       "        <td style=\"padding-left: 1em; padding-right: 1em; text-align: center; vertical-align: top\">3</td>\n",
       "    </tr>\n",
       "    <tr>\n",
       "        <td style=\"padding-left: 1em; padding-right: 1em; text-align: center; vertical-align: top\">1</td>\n",
       "        <td style=\"padding-left: 1em; padding-right: 1em; text-align: center; vertical-align: top\">4973</td>\n",
       "        <td style=\"padding-left: 1em; padding-right: 1em; text-align: center; vertical-align: top\">5.187272545255942</td>\n",
       "        <td style=\"padding-left: 1em; padding-right: 1em; text-align: center; vertical-align: top\">4</td>\n",
       "    </tr>\n",
       "    <tr>\n",
       "        <td style=\"padding-left: 1em; padding-right: 1em; text-align: center; vertical-align: top\">1</td>\n",
       "        <td style=\"padding-left: 1em; padding-right: 1em; text-align: center; vertical-align: top\">2324</td>\n",
       "        <td style=\"padding-left: 1em; padding-right: 1em; text-align: center; vertical-align: top\">5.169800099291129</td>\n",
       "        <td style=\"padding-left: 1em; padding-right: 1em; text-align: center; vertical-align: top\">5</td>\n",
       "    </tr>\n",
       "    <tr>\n",
       "        <td style=\"padding-left: 1em; padding-right: 1em; text-align: center; vertical-align: top\">2</td>\n",
       "        <td style=\"padding-left: 1em; padding-right: 1em; text-align: center; vertical-align: top\">318</td>\n",
       "        <td style=\"padding-left: 1em; padding-right: 1em; text-align: center; vertical-align: top\">5.064143311538023</td>\n",
       "        <td style=\"padding-left: 1em; padding-right: 1em; text-align: center; vertical-align: top\">1</td>\n",
       "    </tr>\n",
       "    <tr>\n",
       "        <td style=\"padding-left: 1em; padding-right: 1em; text-align: center; vertical-align: top\">2</td>\n",
       "        <td style=\"padding-left: 1em; padding-right: 1em; text-align: center; vertical-align: top\">2324</td>\n",
       "        <td style=\"padding-left: 1em; padding-right: 1em; text-align: center; vertical-align: top\">5.017301079191489</td>\n",
       "        <td style=\"padding-left: 1em; padding-right: 1em; text-align: center; vertical-align: top\">2</td>\n",
       "    </tr>\n",
       "    <tr>\n",
       "        <td style=\"padding-left: 1em; padding-right: 1em; text-align: center; vertical-align: top\">2</td>\n",
       "        <td style=\"padding-left: 1em; padding-right: 1em; text-align: center; vertical-align: top\">527</td>\n",
       "        <td style=\"padding-left: 1em; padding-right: 1em; text-align: center; vertical-align: top\">4.979348521985335</td>\n",
       "        <td style=\"padding-left: 1em; padding-right: 1em; text-align: center; vertical-align: top\">3</td>\n",
       "    </tr>\n",
       "    <tr>\n",
       "        <td style=\"padding-left: 1em; padding-right: 1em; text-align: center; vertical-align: top\">2</td>\n",
       "        <td style=\"padding-left: 1em; padding-right: 1em; text-align: center; vertical-align: top\">356</td>\n",
       "        <td style=\"padding-left: 1em; padding-right: 1em; text-align: center; vertical-align: top\">4.835299935497565</td>\n",
       "        <td style=\"padding-left: 1em; padding-right: 1em; text-align: center; vertical-align: top\">4</td>\n",
       "    </tr>\n",
       "    <tr>\n",
       "        <td style=\"padding-left: 1em; padding-right: 1em; text-align: center; vertical-align: top\">2</td>\n",
       "        <td style=\"padding-left: 1em; padding-right: 1em; text-align: center; vertical-align: top\">1203</td>\n",
       "        <td style=\"padding-left: 1em; padding-right: 1em; text-align: center; vertical-align: top\">4.744846459783835</td>\n",
       "        <td style=\"padding-left: 1em; padding-right: 1em; text-align: center; vertical-align: top\">5</td>\n",
       "    </tr>\n",
       "</table>\n",
       "[1354480 rows x 4 columns]<br/>Note: Only the head of the SFrame is printed.<br/>You can use print_rows(num_rows=m, num_columns=n) to print more rows and columns.\n",
       "</div>"
      ],
      "text/plain": [
       "Columns:\n",
       "\tuserId\tint\n",
       "\tmovieId\tint\n",
       "\tscore\tfloat\n",
       "\trank\tint\n",
       "\n",
       "Rows: 1354480\n",
       "\n",
       "Data:\n",
       "+--------+---------+-------------------+------+\n",
       "| userId | movieId |       score       | rank |\n",
       "+--------+---------+-------------------+------+\n",
       "|   1    |   2858  | 5.301138546623511 |  1   |\n",
       "|   1    |   4979  | 5.209695156969351 |  2   |\n",
       "|   1    |   2997  | 5.195037242330832 |  3   |\n",
       "|   1    |   4973  | 5.187272545255942 |  4   |\n",
       "|   1    |   2324  | 5.169800099291129 |  5   |\n",
       "|   2    |   318   | 5.064143311538023 |  1   |\n",
       "|   2    |   2324  | 5.017301079191489 |  2   |\n",
       "|   2    |   527   | 4.979348521985335 |  3   |\n",
       "|   2    |   356   | 4.835299935497565 |  4   |\n",
       "|   2    |   1203  | 4.744846459783835 |  5   |\n",
       "+--------+---------+-------------------+------+\n",
       "[1354480 rows x 4 columns]\n",
       "Note: Only the head of the SFrame is printed.\n",
       "You can use print_rows(num_rows=m, num_columns=n) to print more rows and columns."
      ]
     },
     "execution_count": 517,
     "metadata": {},
     "output_type": "execute_result"
    }
   ],
   "source": [
    "results"
   ]
  },
  {
   "cell_type": "markdown",
   "metadata": {},
   "source": [
    "# Modeling and Evaluation 2\n",
    "\n",
    "Evaluate and Compare"
   ]
  },
  {
   "cell_type": "markdown",
   "metadata": {},
   "source": [
    "# Modeling and Evaluation 3\n",
    "\n",
    "Visualize Results"
   ]
  },
  {
   "cell_type": "markdown",
   "metadata": {},
   "source": [
    "# Modeling and Evaluation 4\n",
    "\n",
    "Summarize the Ramifications"
   ]
  },
  {
   "cell_type": "markdown",
   "metadata": {},
   "source": [
    "# Deployment\n",
    "\n",
    "Be critical of your performance and tell the reader how you current model might be usable by other parties. Did you achieve your goals? If not, can you reign in the utility of your modeling? How useful is your model for interested parties (i.e., the companies or organizations that might want to use it)? How would your deploy your model for interested parties? What other data should be collected? How often would the model need to be updated, etc.?"
   ]
  },
  {
   "cell_type": "markdown",
   "metadata": {},
   "source": [
    "# Exceptional Work\n",
    "\n",
    "You have free reign to provide additional analyses or combine analyses."
   ]
  },
  {
   "cell_type": "markdown",
   "metadata": {},
   "source": [
    "# References"
   ]
  },
  {
   "cell_type": "markdown",
   "metadata": {},
   "source": [
    "1. Dataset obtained from kaggle : <a href=\"https://www.kaggle.com/rounakbanik/the-movies-dataset\"> click here </a>\n",
    "2. Apple (turicreate) <a href=\"https://apple.github.io/turicreate/docs/userguide/recommender/\"> article </a> on Recommender. \n",
    "3. Recommendor Systems instruction by Dr. Eric Larson: <a href=\"https://www.youtube.com/watch?v=I-xPNMCqW2o\"> video </a>\n",
    "4. Movie Recommendation System with Collaborative Filteringn by Code Heroku: <a href=\"https://www.youtube.com/watch?v=3ecNC-So0r4&t=903s\"> video </a>"
   ]
  },
  {
   "cell_type": "code",
   "execution_count": null,
   "metadata": {},
   "outputs": [],
   "source": []
  }
 ],
 "metadata": {
  "kernelspec": {
   "display_name": "Python 3",
   "language": "python",
   "name": "python3"
  },
  "language_info": {
   "codemirror_mode": {
    "name": "ipython",
    "version": 3
   },
   "file_extension": ".py",
   "mimetype": "text/x-python",
   "name": "python",
   "nbconvert_exporter": "python",
   "pygments_lexer": "ipython3",
   "version": "3.7.7"
  },
  "latex_envs": {
   "LaTeX_envs_menu_present": true,
   "autoclose": false,
   "autocomplete": true,
   "bibliofile": "biblio.bib",
   "cite_by": "apalike",
   "current_citInitial": 1,
   "eqLabelWithNumbers": true,
   "eqNumInitial": 1,
   "hotkeys": {
    "equation": "Ctrl-E",
    "itemize": "Ctrl-I"
   },
   "labels_anchors": false,
   "latex_user_defs": false,
   "report_style_numbering": false,
   "user_envs_cfg": false
  },
  "toc": {
   "base_numbering": 1,
   "nav_menu": {},
   "number_sections": false,
   "sideBar": true,
   "skip_h1_title": false,
   "title_cell": "Table of Contents",
   "title_sidebar": "Contents",
   "toc_cell": true,
   "toc_position": {},
   "toc_section_display": true,
   "toc_window_display": false
  },
  "varInspector": {
   "cols": {
    "lenName": 16,
    "lenType": 16,
    "lenVar": 40
   },
   "kernels_config": {
    "python": {
     "delete_cmd_postfix": "",
     "delete_cmd_prefix": "del ",
     "library": "var_list.py",
     "varRefreshCmd": "print(var_dic_list())"
    },
    "r": {
     "delete_cmd_postfix": ") ",
     "delete_cmd_prefix": "rm(",
     "library": "var_list.r",
     "varRefreshCmd": "cat(var_dic_list()) "
    }
   },
   "types_to_exclude": [
    "module",
    "function",
    "builtin_function_or_method",
    "instance",
    "_Feature"
   ],
   "window_display": false
  }
 },
 "nbformat": 4,
 "nbformat_minor": 4
}
