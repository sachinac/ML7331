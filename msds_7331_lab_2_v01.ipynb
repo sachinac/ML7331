{
 "cells": [
  {
   "cell_type": "markdown",
   "metadata": {},
   "source": [
    "<font size=6> <b> SMU Lab Two - MSDS7331 - Machine Learning-1 </b> </font>\n",
    "\n",
    "<font size=5> <b> Summer 2020 Group - Sachin, Ikenna, Edgar, Dustin </b></font> \n",
    "\n",
    "\n",
    "\n",
    "\n",
    "<img src=\"https://github.com/sachinac/ML7331/blob/master/data/data_mining.jpg?raw=true\"> \n",
    "\n",
    "<p align=\"center\"><font size=5> <b> Health Care Fraud Detection  </b></font> </p>"
   ]
  },
  {
   "cell_type": "markdown",
   "metadata": {
    "toc": true
   },
   "source": [
    "<h1>Table of Contents<span class=\"tocSkip\"></span></h1>\n",
    "<div class=\"toc\"><ul class=\"toc-item\"><li><span><a href=\"#Import-Libraries\" data-toc-modified-id=\"Import-Libraries-1\">Import Libraries</a></span></li><li><span><a href=\"#Data-Preparation-Part-1\" data-toc-modified-id=\"Data-Preparation-Part-1-2\">Data Preparation Part 1</a></span><ul class=\"toc-item\"><li><span><a href=\"#Load-Data\" data-toc-modified-id=\"Load-Data-2.1\">Load Data</a></span></li><li><span><a href=\"#Categorical-Features\" data-toc-modified-id=\"Categorical-Features-2.2\">Categorical Features</a></span></li><li><span><a href=\"#Float-Variables\" data-toc-modified-id=\"Float-Variables-2.3\">Float Variables</a></span></li><li><span><a href=\"#Recode-variables\" data-toc-modified-id=\"Recode-variables-2.4\">Recode variables</a></span></li><li><span><a href=\"#All-Features\" data-toc-modified-id=\"All-Features-2.5\">All Features</a></span></li><li><span><a href=\"#Target-Variable\" data-toc-modified-id=\"Target-Variable-2.6\">Target Variable</a></span></li><li><span><a href=\"#One-Hot-Encoding-using-Pandas\" data-toc-modified-id=\"One-Hot-Encoding-using-Pandas-2.7\">One Hot Encoding using Pandas</a></span></li><li><span><a href=\"#MinMaxScaler\" data-toc-modified-id=\"MinMaxScaler-2.8\">MinMaxScaler</a></span></li><li><span><a href=\"#Sparse-Matrix\" data-toc-modified-id=\"Sparse-Matrix-2.9\">Sparse Matrix</a></span></li><li><span><a href=\"#Train-and-Test-split\" data-toc-modified-id=\"Train-and-Test-split-2.10\">Train and Test split</a></span></li></ul></li><li><span><a href=\"#Data-Preparation-Part-2\" data-toc-modified-id=\"Data-Preparation-Part-2-3\">Data Preparation Part 2</a></span></li><li><span><a href=\"#Modeling-and-Evaluations-1\" data-toc-modified-id=\"Modeling-and-Evaluations-1-4\">Modeling and Evaluations 1</a></span></li><li><span><a href=\"#Modeling-and-Evaluations-2\" data-toc-modified-id=\"Modeling-and-Evaluations-2-5\">Modeling and Evaluations 2</a></span></li><li><span><a href=\"#Modeling-and-Evaluations-3\" data-toc-modified-id=\"Modeling-and-Evaluations-3-6\">Modeling and Evaluations 3</a></span></li><li><span><a href=\"#Modeling-and-Evaluations-4\" data-toc-modified-id=\"Modeling-and-Evaluations-4-7\">Modeling and Evaluations 4</a></span></li><li><span><a href=\"#Modeling-and-Evaluations-5\" data-toc-modified-id=\"Modeling-and-Evaluations-5-8\">Modeling and Evaluations 5</a></span></li><li><span><a href=\"#Modeling-and-Evaluations-6\" data-toc-modified-id=\"Modeling-and-Evaluations-6-9\">Modeling and Evaluations 6</a></span></li><li><span><a href=\"#Deployment\" data-toc-modified-id=\"Deployment-10\">Deployment</a></span></li><li><span><a href=\"#Exceptional-Work\" data-toc-modified-id=\"Exceptional-Work-11\">Exceptional Work</a></span></li><li><span><a href=\"#References\" data-toc-modified-id=\"References-12\">References</a></span></li></ul></div>"
   ]
  },
  {
   "cell_type": "markdown",
   "metadata": {},
   "source": [
    "# Import Libraries"
   ]
  },
  {
   "cell_type": "code",
   "execution_count": 1,
   "metadata": {
    "ExecuteTime": {
     "end_time": "2020-06-30T10:20:23.692401Z",
     "start_time": "2020-06-30T10:20:21.597859Z"
    }
   },
   "outputs": [],
   "source": [
    "import pandas as pd\n",
    "from sklearn.preprocessing import MinMaxScaler\n",
    "from sklearn.model_selection import train_test_split\n",
    "from scipy.sparse import csc_matrix"
   ]
  },
  {
   "cell_type": "markdown",
   "metadata": {},
   "source": [
    "# Data Preparation Part 1"
   ]
  },
  {
   "cell_type": "markdown",
   "metadata": {},
   "source": [
    "## Load Data"
   ]
  },
  {
   "cell_type": "markdown",
   "metadata": {},
   "source": [
    "Load data into memory. EDA was already performed on this data. We had originally received Beneficiary, Encounters and target variable datasets in three different spreadsheets and EDA combined that into single spreadsheet using keys of the tables. We still need to perform some additional operations before we actually start with modeling. So in first we prepare our data for modeling as follows :\n",
    "* Prepare variables. Setup data type correctly.\n",
    "* Remove unnecessary variables\n",
    "* Transform categorical features into dummy variables \n",
    "* Feature selection.\n",
    "\n",
    "Lets first print the information of this dataframe. As we can see from below dataframe info this data has total of 79 features. We definately dont need all features. This step will process some of the features before we actually use this data for modeling."
   ]
  },
  {
   "cell_type": "code",
   "execution_count": 2,
   "metadata": {
    "ExecuteTime": {
     "end_time": "2020-06-30T10:20:24.249483Z",
     "start_time": "2020-06-30T10:20:23.694289Z"
    }
   },
   "outputs": [
    {
     "name": "stdout",
     "output_type": "stream",
     "text": [
      "<class 'pandas.core.frame.DataFrame'>\n",
      "Int64Index: 40474 entries, 0 to 40473\n",
      "Data columns (total 80 columns):\n",
      " #   Column                           Non-Null Count  Dtype \n",
      "---  ------                           --------------  ----- \n",
      " 0   BeneID                           40474 non-null  object\n",
      " 1   DOB                              40474 non-null  int64 \n",
      " 2   DOD                              40474 non-null  int64 \n",
      " 3   Gender                           40474 non-null  int64 \n",
      " 4   Race                             40474 non-null  int64 \n",
      " 5   RenalDiseaseIndicator            40474 non-null  object\n",
      " 6   State                            40474 non-null  int64 \n",
      " 7   County                           40474 non-null  int64 \n",
      " 8   NoOfMonths_PartACov              40474 non-null  int64 \n",
      " 9   NoOfMonths_PartBCov              40474 non-null  int64 \n",
      " 10  ChronicCond_Alzheimer            40474 non-null  int64 \n",
      " 11  ChronicCond_Heartfailure         40474 non-null  int64 \n",
      " 12  ChronicCond_KidneyDisease        40474 non-null  int64 \n",
      " 13  ChronicCond_Cancer               40474 non-null  int64 \n",
      " 14  ChronicCond_ObstrPulmonary       40474 non-null  int64 \n",
      " 15  ChronicCond_Depression           40474 non-null  int64 \n",
      " 16  ChronicCond_Diabetes             40474 non-null  int64 \n",
      " 17  ChronicCond_IschemicHeart        40474 non-null  int64 \n",
      " 18  ChronicCond_Osteoporasis         40474 non-null  int64 \n",
      " 19  ChronicCond_rheumatoidarthritis  40474 non-null  int64 \n",
      " 20  ChronicCond_stroke               40474 non-null  int64 \n",
      " 21  IPAnnualReimbursementAmt         40474 non-null  int64 \n",
      " 22  IPAnnualDeductibleAmt            40474 non-null  int64 \n",
      " 23  OPAnnualReimbursementAmt         40474 non-null  int64 \n",
      " 24  OPAnnualDeductibleAmt            40474 non-null  int64 \n",
      " 25  state_usps                       40474 non-null  object\n",
      " 26  Alive                            40474 non-null  object\n",
      " 27  ClaimID                          40474 non-null  object\n",
      " 28  ClaimStartDt                     40474 non-null  object\n",
      " 29  ClaimEndDt                       40474 non-null  object\n",
      " 30  Provider                         40474 non-null  object\n",
      " 31  InscClaimAmtReimbursed           40474 non-null  int64 \n",
      " 32  AttendingPhysician               40474 non-null  object\n",
      " 33  OperatingPhysician               40474 non-null  object\n",
      " 34  OtherPhysician                   40474 non-null  object\n",
      " 35  AdmissionDt                      40474 non-null  object\n",
      " 36  ClmAdmitDiagnosisCode            40474 non-null  object\n",
      " 37  DischargeDt                      40474 non-null  object\n",
      " 38  DiagnosisGroupCode               40474 non-null  object\n",
      " 39  ClmDiagnosisCode_1               40474 non-null  object\n",
      " 40  ClmDiagnosisCode_2               40474 non-null  object\n",
      " 41  ClmDiagnosisCode_3               40474 non-null  object\n",
      " 42  ClmDiagnosisCode_4               40474 non-null  object\n",
      " 43  ClmDiagnosisCode_5               40474 non-null  object\n",
      " 44  ClmDiagnosisCode_6               40474 non-null  object\n",
      " 45  ClmDiagnosisCode_7               40474 non-null  object\n",
      " 46  ClmDiagnosisCode_8               40474 non-null  object\n",
      " 47  ClmDiagnosisCode_9               40474 non-null  object\n",
      " 48  ClmDiagnosisCode_10              40474 non-null  object\n",
      " 49  ClmProcedureCode_1               40474 non-null  object\n",
      " 50  ClmProcedureCode_2               40474 non-null  object\n",
      " 51  ClmProcedureCode_3               40474 non-null  object\n",
      " 52  ClmProcedureCode_4               40474 non-null  object\n",
      " 53  ClmProcedureCode_5               40474 non-null  object\n",
      " 54  DRGDesc                          40474 non-null  object\n",
      " 55  ProcedureShortDesc_1             40474 non-null  object\n",
      " 56  ProcedureShortDesc_2             40474 non-null  object\n",
      " 57  ProcedureShortDesc_3             40474 non-null  object\n",
      " 58  ProcedureShortDesc_4             40474 non-null  object\n",
      " 59  ProcedureShortDesc_5             40474 non-null  object\n",
      " 60  DiagnosticDesc_1                 40474 non-null  object\n",
      " 61  DiagnosticDesc_2                 40474 non-null  object\n",
      " 62  DiagnosticDesc_3                 40474 non-null  object\n",
      " 63  DiagnosticDesc_4                 40474 non-null  object\n",
      " 64  DiagnosticDesc_5                 40474 non-null  object\n",
      " 65  DiagnosticDesc_6                 40474 non-null  object\n",
      " 66  DiagnosticDesc_7                 40474 non-null  object\n",
      " 67  DiagnosticDesc_8                 40474 non-null  object\n",
      " 68  DiagnosticDesc_9                 40474 non-null  object\n",
      " 69  DiagnosticDesc_10                40474 non-null  object\n",
      " 70  DaysAdmitted                     40474 non-null  int64 \n",
      " 71  PotentialFraud                   40474 non-null  object\n",
      " 72  Age                              40474 non-null  int64 \n",
      " 73  NoPhysician                      40474 non-null  int64 \n",
      " 74  AttendingPhysicianPresent        40474 non-null  int64 \n",
      " 75  OtherPhysicianPresent            40474 non-null  int64 \n",
      " 76  OperatingPhysicianPresent        40474 non-null  int64 \n",
      " 77  NoOfDiag                         40474 non-null  int64 \n",
      " 78  NoOfProc                         40474 non-null  int64 \n",
      " 79  NoOfChronicCondition             40474 non-null  int64 \n",
      "dtypes: int64(33), object(47)\n",
      "memory usage: 25.0+ MB\n"
     ]
    }
   ],
   "source": [
    "#\n",
    "# Load Data for Lab2\n",
    "#\n",
    "lab2_df = pd.read_csv('data/final_fraud_dataset.csv',index_col=0)\n",
    "\n",
    "lab2_df.info()"
   ]
  },
  {
   "cell_type": "markdown",
   "metadata": {},
   "source": [
    "## Categorical Features"
   ]
  },
  {
   "cell_type": "markdown",
   "metadata": {
    "ExecuteTime": {
     "end_time": "2020-06-30T08:51:44.322459Z",
     "start_time": "2020-06-30T08:51:44.318865Z"
    }
   },
   "source": [
    "Change data types to object for Pandas to treat them as categorical features. It needs features of type object \n",
    "to recognize them as a actegorical features."
   ]
  },
  {
   "cell_type": "code",
   "execution_count": 3,
   "metadata": {
    "ExecuteTime": {
     "end_time": "2020-06-30T10:20:24.340543Z",
     "start_time": "2020-06-30T10:20:24.252148Z"
    }
   },
   "outputs": [],
   "source": [
    "lab2_df['Race']    = lab2_df['Race'].astype('object')\n",
    "lab2_df['State']   = lab2_df['State'].astype('object')\n",
    "lab2_df['County']  = lab2_df['County'].astype('object')\n",
    "lab2_df['AttendingPhysicianPresent']  = lab2_df['AttendingPhysicianPresent'].astype('object')\n",
    "lab2_df['OtherPhysicianPresent']  = lab2_df['OtherPhysicianPresent'].astype('object')\n",
    "lab2_df['OperatingPhysicianPresent']  = lab2_df['OperatingPhysicianPresent'].astype('object')\n",
    "\n",
    "\n",
    "chronic_conditions = [  'ChronicCond_Alzheimer','ChronicCond_Heartfailure',\n",
    "                        'ChronicCond_KidneyDisease','ChronicCond_Cancer',\n",
    "                        'ChronicCond_ObstrPulmonary','ChronicCond_Depression',\n",
    "                        'ChronicCond_Diabetes','ChronicCond_IschemicHeart',\n",
    "                        'ChronicCond_Osteoporasis','ChronicCond_rheumatoidarthritis',\n",
    "                        'ChronicCond_stroke' ]\n",
    "\n",
    "lab2_df[chronic_conditions]  = lab2_df[chronic_conditions].astype('object')\n"
   ]
  },
  {
   "cell_type": "markdown",
   "metadata": {},
   "source": [
    "## Float Variables"
   ]
  },
  {
   "cell_type": "code",
   "execution_count": 4,
   "metadata": {
    "ExecuteTime": {
     "end_time": "2020-06-30T10:20:24.394311Z",
     "start_time": "2020-06-30T10:20:24.342796Z"
    }
   },
   "outputs": [],
   "source": [
    "float_preds = ['InscClaimAmtReimbursed','IPAnnualReimbursementAmt', 'IPAnnualDeductibleAmt']\n",
    "\n",
    "lab2_df[float_preds]   = lab2_df[float_preds].astype(float)\n",
    "\n"
   ]
  },
  {
   "cell_type": "markdown",
   "metadata": {},
   "source": [
    "## Recode variables"
   ]
  },
  {
   "cell_type": "code",
   "execution_count": 5,
   "metadata": {
    "ExecuteTime": {
     "end_time": "2020-06-30T10:20:24.404384Z",
     "start_time": "2020-06-30T10:20:24.396177Z"
    }
   },
   "outputs": [],
   "source": [
    "#\n",
    "# Recode below categorical variables \n",
    "# \n",
    "#\n",
    "lab2_df['Gender']  = lab2_df['Gender'].replace([1,2],[0,1])\n",
    "lab2_df['RenalDiseaseIndicator']  = lab2_df['RenalDiseaseIndicator'].replace('Y',1)\n",
    "lab2_df['Gender']  = lab2_df['Gender'].astype('object')\n"
   ]
  },
  {
   "cell_type": "markdown",
   "metadata": {},
   "source": [
    "## All Features"
   ]
  },
  {
   "cell_type": "markdown",
   "metadata": {},
   "source": [
    "All features are categorized as follows:\n",
    "* Numeric Predictos\n",
    "* Categorical Predictors\n",
    "* Non-Predictors"
   ]
  },
  {
   "cell_type": "code",
   "execution_count": 6,
   "metadata": {
    "ExecuteTime": {
     "end_time": "2020-06-30T10:20:24.518462Z",
     "start_time": "2020-06-30T10:20:24.405986Z"
    }
   },
   "outputs": [
    {
     "name": "stdout",
     "output_type": "stream",
     "text": [
      "<class 'pandas.core.frame.DataFrame'>\n",
      "Int64Index: 40474 entries, 0 to 40473\n",
      "Data columns (total 47 columns):\n",
      " #   Column                           Non-Null Count  Dtype  \n",
      "---  ------                           --------------  -----  \n",
      " 0   NoOfMonths_PartACov              40474 non-null  int64  \n",
      " 1   NoOfMonths_PartBCov              40474 non-null  int64  \n",
      " 2   DaysAdmitted                     40474 non-null  int64  \n",
      " 3   Age                              40474 non-null  int64  \n",
      " 4   NoPhysician                      40474 non-null  int64  \n",
      " 5   NoOfDiag                         40474 non-null  int64  \n",
      " 6   NoOfProc                         40474 non-null  int64  \n",
      " 7   NoOfChronicCondition             40474 non-null  int64  \n",
      " 8   InscClaimAmtReimbursed           40474 non-null  float64\n",
      " 9   IPAnnualReimbursementAmt         40474 non-null  float64\n",
      " 10  IPAnnualDeductibleAmt            40474 non-null  float64\n",
      " 11  Race                             40474 non-null  object \n",
      " 12  Gender                           40474 non-null  object \n",
      " 13  State                            40474 non-null  object \n",
      " 14  County                           40474 non-null  object \n",
      " 15  Alive                            40474 non-null  object \n",
      " 16  ClmAdmitDiagnosisCode            40474 non-null  object \n",
      " 17  DiagnosisGroupCode               40474 non-null  object \n",
      " 18  ClmDiagnosisCode_1               40474 non-null  object \n",
      " 19  ClmDiagnosisCode_2               40474 non-null  object \n",
      " 20  ClmDiagnosisCode_3               40474 non-null  object \n",
      " 21  ClmDiagnosisCode_4               40474 non-null  object \n",
      " 22  ClmDiagnosisCode_5               40474 non-null  object \n",
      " 23  ClmDiagnosisCode_6               40474 non-null  object \n",
      " 24  ClmDiagnosisCode_7               40474 non-null  object \n",
      " 25  ClmDiagnosisCode_8               40474 non-null  object \n",
      " 26  ClmDiagnosisCode_9               40474 non-null  object \n",
      " 27  ClmDiagnosisCode_10              40474 non-null  object \n",
      " 28  ClmProcedureCode_1               40474 non-null  object \n",
      " 29  ClmProcedureCode_2               40474 non-null  object \n",
      " 30  ClmProcedureCode_3               40474 non-null  object \n",
      " 31  ClmProcedureCode_4               40474 non-null  object \n",
      " 32  ClmProcedureCode_5               40474 non-null  object \n",
      " 33  AttendingPhysician               40474 non-null  object \n",
      " 34  OperatingPhysician               40474 non-null  object \n",
      " 35  OtherPhysician                   40474 non-null  object \n",
      " 36  ChronicCond_Alzheimer            40474 non-null  object \n",
      " 37  ChronicCond_Heartfailure         40474 non-null  object \n",
      " 38  ChronicCond_KidneyDisease        40474 non-null  object \n",
      " 39  ChronicCond_Cancer               40474 non-null  object \n",
      " 40  ChronicCond_ObstrPulmonary       40474 non-null  object \n",
      " 41  ChronicCond_Depression           40474 non-null  object \n",
      " 42  ChronicCond_Diabetes             40474 non-null  object \n",
      " 43  ChronicCond_IschemicHeart        40474 non-null  object \n",
      " 44  ChronicCond_Osteoporasis         40474 non-null  object \n",
      " 45  ChronicCond_rheumatoidarthritis  40474 non-null  object \n",
      " 46  ChronicCond_stroke               40474 non-null  object \n",
      "dtypes: float64(3), int64(8), object(36)\n",
      "memory usage: 14.8+ MB\n"
     ]
    }
   ],
   "source": [
    "numeric_preds     = [   'NoOfMonths_PartACov','NoOfMonths_PartBCov',\n",
    "                        'DaysAdmitted','Age',\n",
    "                        'NoPhysician',\n",
    "                        'NoOfDiag', 'NoOfProc','NoOfChronicCondition'\n",
    "                   ]\n",
    "\n",
    "cat_preds_nominal = ['Race','Gender',\n",
    "                     'State','County',\n",
    "                     'Alive',\n",
    "                     'ClmAdmitDiagnosisCode','DiagnosisGroupCode',\n",
    "                     'ClmDiagnosisCode_1', 'ClmDiagnosisCode_2', 'ClmDiagnosisCode_3',\n",
    "                     'ClmDiagnosisCode_4', 'ClmDiagnosisCode_5', 'ClmDiagnosisCode_6',\n",
    "                     'ClmDiagnosisCode_7', 'ClmDiagnosisCode_8', 'ClmDiagnosisCode_9',\n",
    "                     'ClmDiagnosisCode_10',\n",
    "                     'ClmProcedureCode_1', 'ClmProcedureCode_2',\n",
    "                     'ClmProcedureCode_3', 'ClmProcedureCode_4', 'ClmProcedureCode_5',\n",
    "                      'AttendingPhysician','OperatingPhysician','OtherPhysician',\n",
    "                     ]\n",
    "\n",
    "non_preds = ['BeneID', 'DOB', 'DOD','OPAnnualReimbursementAmt','OPAnnualDeductibleAmt',\n",
    "             'OPAnnualReimbursementAmt', 'OPAnnualDeductibleAmt', 'state_usps',\n",
    "             'ClaimID', 'ClaimStartDt', 'ClaimEndDt', 'Provider',\n",
    "             'AttendingPhysician','OperatingPhysician','OtherPhysician',\n",
    "             'AdmissionDt','DischargeDt',\n",
    "             'DRGDesc','ProcedureShortDesc_1', 'ProcedureShortDesc_2', 'ProcedureShortDesc_3',\n",
    "             'ProcedureShortDesc_4', 'ProcedureShortDesc_5', 'DiagnosticDesc_1',\n",
    "             'DiagnosticDesc_2','DiagnosticDesc_3','DiagnosticDesc_4','DiagnosticDesc_5',\n",
    "             'DiagnosticDesc_6', 'DiagnosticDesc_7','DiagnosticDesc_8','DiagnosticDesc_9',\n",
    "             'DiagnosticDesc_10'\n",
    "             ]\n",
    "\n",
    "preds_in_model = numeric_preds + float_preds+ cat_preds_nominal + chronic_conditions\n",
    "\n",
    "Xlab2_df = lab2_df[preds_in_model]\n",
    "Xlab2_df.info()"
   ]
  },
  {
   "cell_type": "markdown",
   "metadata": {},
   "source": [
    "## Target Variable"
   ]
  },
  {
   "cell_type": "code",
   "execution_count": 7,
   "metadata": {
    "ExecuteTime": {
     "end_time": "2020-06-30T10:20:24.534638Z",
     "start_time": "2020-06-30T10:20:24.520125Z"
    }
   },
   "outputs": [],
   "source": [
    "target_df   = lab2_df['PotentialFraud'].replace(['Yes','No'],[1,0]).values"
   ]
  },
  {
   "cell_type": "markdown",
   "metadata": {},
   "source": [
    "## One Hot Encoding using Pandas"
   ]
  },
  {
   "cell_type": "markdown",
   "metadata": {},
   "source": [
    "**Use pandas to one hot encode variables** "
   ]
  },
  {
   "cell_type": "code",
   "execution_count": 8,
   "metadata": {
    "ExecuteTime": {
     "end_time": "2020-06-30T10:20:36.544542Z",
     "start_time": "2020-06-30T10:20:24.537602Z"
    }
   },
   "outputs": [],
   "source": [
    "ipdata = pd.get_dummies(Xlab2_df, sparse=True)"
   ]
  },
  {
   "cell_type": "code",
   "execution_count": 9,
   "metadata": {
    "ExecuteTime": {
     "end_time": "2020-06-30T10:20:39.201434Z",
     "start_time": "2020-06-30T10:20:36.546697Z"
    }
   },
   "outputs": [
    {
     "name": "stdout",
     "output_type": "stream",
     "text": [
      "<class 'pandas.core.frame.DataFrame'>\n",
      "Int64Index: 40474 entries, 0 to 40473\n",
      "Columns: 49342 entries, NoOfMonths_PartACov to ChronicCond_stroke_2\n",
      "dtypes: Sparse[uint8, 0](49331), float64(3), int64(8)\n",
      "memory usage: 10.7 MB\n"
     ]
    }
   ],
   "source": [
    "ipdata.info()"
   ]
  },
  {
   "cell_type": "markdown",
   "metadata": {},
   "source": [
    "## MinMaxScaler"
   ]
  },
  {
   "cell_type": "markdown",
   "metadata": {},
   "source": [
    "We decided to use the MinMaxScaler here instead of the standard scaler because we're using a sparse matrix of mostly binary features.  Because we do have some true numeric features, such as: deductible amount, age, the converted ordinal dates, claim dollar amounts etc, these may end up having values outside the bounds of 0 and 1.  A zero mean scaler doesn't make sense with this data because it would cause the numeric features to have inflated importance if observations end up being several standard deviations away from 0, while the binary features are capped at 1.  The minMax scaler allows us to force all values in the dataset to live within the bounds of 0 and 1, allowing our logistic regression algorithms to weight features appropriately using similar measures."
   ]
  },
  {
   "cell_type": "code",
   "execution_count": 10,
   "metadata": {
    "ExecuteTime": {
     "end_time": "2020-06-30T10:26:55.417504Z",
     "start_time": "2020-06-30T10:20:39.203230Z"
    }
   },
   "outputs": [
    {
     "name": "stderr",
     "output_type": "stream",
     "text": [
      "/Users/sachin/opt/anaconda3/envs/ML7331_38/lib/python3.8/site-packages/sklearn/utils/validation.py:509: UserWarning: pandas.DataFrame with sparse columns found.It will be converted to a dense numpy array.\n",
      "  warnings.warn(\n",
      "/Users/sachin/opt/anaconda3/envs/ML7331_38/lib/python3.8/site-packages/sklearn/utils/validation.py:509: UserWarning: pandas.DataFrame with sparse columns found.It will be converted to a dense numpy array.\n",
      "  warnings.warn(\n"
     ]
    }
   ],
   "source": [
    "scaler = MinMaxScaler()\n",
    "scaler.fit(ipdata)\n",
    "X1 = scaler.transform(ipdata)"
   ]
  },
  {
   "cell_type": "markdown",
   "metadata": {},
   "source": [
    "## Sparse Matrix"
   ]
  },
  {
   "cell_type": "markdown",
   "metadata": {},
   "source": [
    "Transform data back into a sparse matrix. **CSC(Compressed Sparse Column)** is more efficient at accessing column-vectors or column operations, generally, as it is stored as arrays of columns and their value at each row.\n",
    "\n"
   ]
  },
  {
   "cell_type": "code",
   "execution_count": null,
   "metadata": {
    "ExecuteTime": {
     "start_time": "2020-06-30T10:20:24.153Z"
    }
   },
   "outputs": [],
   "source": [
    "X = csc_matrix(X1)"
   ]
  },
  {
   "cell_type": "markdown",
   "metadata": {},
   "source": [
    "## Train and Test split"
   ]
  },
  {
   "cell_type": "code",
   "execution_count": null,
   "metadata": {
    "ExecuteTime": {
     "start_time": "2020-06-30T10:20:24.311Z"
    }
   },
   "outputs": [],
   "source": [
    "# split X and y into training and testing sets\n",
    "\n",
    "X_train,X_test,y_train,y_test = train_test_split(X,target_df,test_size=0.2,random_state=86)"
   ]
  },
  {
   "cell_type": "markdown",
   "metadata": {},
   "source": [
    "# Data Preparation Part 2"
   ]
  },
  {
   "cell_type": "markdown",
   "metadata": {},
   "source": [
    "**Final dataset**"
   ]
  },
  {
   "cell_type": "code",
   "execution_count": null,
   "metadata": {
    "ExecuteTime": {
     "start_time": "2020-06-30T10:20:24.630Z"
    }
   },
   "outputs": [],
   "source": [
    "Xlab2_df.info()"
   ]
  },
  {
   "cell_type": "markdown",
   "metadata": {},
   "source": [
    "# Modeling and Evaluations 1"
   ]
  },
  {
   "cell_type": "markdown",
   "metadata": {},
   "source": [
    "# Modeling and Evaluations 2"
   ]
  },
  {
   "cell_type": "markdown",
   "metadata": {},
   "source": [
    "# Modeling and Evaluations 3"
   ]
  },
  {
   "cell_type": "markdown",
   "metadata": {},
   "source": [
    "# Modeling and Evaluations 4"
   ]
  },
  {
   "cell_type": "markdown",
   "metadata": {},
   "source": [
    "# Modeling and Evaluations 5"
   ]
  },
  {
   "cell_type": "markdown",
   "metadata": {},
   "source": [
    "# Modeling and Evaluations 6"
   ]
  },
  {
   "cell_type": "markdown",
   "metadata": {},
   "source": [
    "# Deployment"
   ]
  },
  {
   "cell_type": "markdown",
   "metadata": {},
   "source": [
    "# Exceptional Work"
   ]
  },
  {
   "cell_type": "markdown",
   "metadata": {},
   "source": [
    "# References"
   ]
  },
  {
   "cell_type": "code",
   "execution_count": null,
   "metadata": {},
   "outputs": [],
   "source": []
  }
 ],
 "metadata": {
  "kernelspec": {
   "display_name": "Python 3",
   "language": "python",
   "name": "python3"
  },
  "language_info": {
   "codemirror_mode": {
    "name": "ipython",
    "version": 3
   },
   "file_extension": ".py",
   "mimetype": "text/x-python",
   "name": "python",
   "nbconvert_exporter": "python",
   "pygments_lexer": "ipython3",
   "version": "3.8.2"
  },
  "latex_envs": {
   "LaTeX_envs_menu_present": false,
   "autoclose": false,
   "autocomplete": true,
   "bibliofile": "biblio.bib",
   "cite_by": "apalike",
   "current_citInitial": 1,
   "eqLabelWithNumbers": true,
   "eqNumInitial": 1,
   "hotkeys": {
    "equation": "Ctrl-E",
    "itemize": "Ctrl-I"
   },
   "labels_anchors": true,
   "latex_user_defs": false,
   "report_style_numbering": false,
   "user_envs_cfg": false
  },
  "toc": {
   "base_numbering": 1,
   "nav_menu": {},
   "number_sections": false,
   "sideBar": true,
   "skip_h1_title": false,
   "title_cell": "Table of Contents",
   "title_sidebar": "Contents",
   "toc_cell": true,
   "toc_position": {
    "height": "calc(100% - 180px)",
    "left": "10px",
    "top": "150px",
    "width": "285px"
   },
   "toc_section_display": true,
   "toc_window_display": false
  },
  "varInspector": {
   "cols": {
    "lenName": 16,
    "lenType": 16,
    "lenVar": 40
   },
   "kernels_config": {
    "python": {
     "delete_cmd_postfix": "",
     "delete_cmd_prefix": "del ",
     "library": "var_list.py",
     "varRefreshCmd": "print(var_dic_list())"
    },
    "r": {
     "delete_cmd_postfix": ") ",
     "delete_cmd_prefix": "rm(",
     "library": "var_list.r",
     "varRefreshCmd": "cat(var_dic_list()) "
    }
   },
   "position": {
    "height": "387px",
    "left": "790px",
    "right": "20px",
    "top": "120px",
    "width": "630px"
   },
   "types_to_exclude": [
    "module",
    "function",
    "builtin_function_or_method",
    "instance",
    "_Feature"
   ],
   "window_display": false
  }
 },
 "nbformat": 4,
 "nbformat_minor": 4
}
