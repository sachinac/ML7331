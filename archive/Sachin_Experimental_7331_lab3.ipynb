{
 "cells": [
  {
   "cell_type": "markdown",
   "metadata": {},
   "source": [
    "<font size=6> <b> SMU Lab Three - MSDS7331 - Machine Learning-1 </b> </font>\n",
    "\n",
    "<font size=5> <b> Summer 2020 Group - Sachin, Ikenna, Edgar, Dustin </b></font> \n",
    "\n",
    "\n",
    "\n",
    "\n",
    "<img src=\"https://github.com/sachinac/ML7331/blob/master/data/maxresdefault.png?raw=true\"> \n",
    "\n",
    "<p align=\"center\"><font size=5> <b> Movie Recommender System  </b></font> </p>"
   ]
  },
  {
   "cell_type": "markdown",
   "metadata": {
    "toc": true
   },
   "source": [
    "<h1>Table of Contents<span class=\"tocSkip\"></span></h1>\n",
    "<div class=\"toc\"><ul class=\"toc-item\"><li><span><a href=\"#Import-Libraries\" data-toc-modified-id=\"Import-Libraries-1\">Import Libraries</a></span></li><li><span><a href=\"#Business-Understanding-1\" data-toc-modified-id=\"Business-Understanding-1-2\">Business Understanding 1</a></span></li><li><span><a href=\"#Data-Understanding-1\" data-toc-modified-id=\"Data-Understanding-1-3\">Data Understanding 1</a></span></li><li><span><a href=\"#Data-Understanding-2\" data-toc-modified-id=\"Data-Understanding-2-4\">Data Understanding 2</a></span></li><li><span><a href=\"#Model-and-Evaluations-1\" data-toc-modified-id=\"Model-and-Evaluations-1-5\">Model and Evaluations 1</a></span></li><li><span><a href=\"#Model-and-Evaluations-2\" data-toc-modified-id=\"Model-and-Evaluations-2-6\">Model and Evaluations 2</a></span></li><li><span><a href=\"#Model-and-Evaluations-3\" data-toc-modified-id=\"Model-and-Evaluations-3-7\">Model and Evaluations 3</a></span></li><li><span><a href=\"#Model-and-Evaluations-4\" data-toc-modified-id=\"Model-and-Evaluations-4-8\">Model and Evaluations 4</a></span></li><li><span><a href=\"#Deployment\" data-toc-modified-id=\"Deployment-9\">Deployment</a></span></li><li><span><a href=\"#Exceptional-Work\" data-toc-modified-id=\"Exceptional-Work-10\">Exceptional Work</a></span></li><li><span><a href=\"#References\" data-toc-modified-id=\"References-11\">References</a></span></li></ul></div>"
   ]
  },
  {
   "cell_type": "markdown",
   "metadata": {},
   "source": [
    "# Import Libraries"
   ]
  },
  {
   "cell_type": "markdown",
   "metadata": {},
   "source": [
    "# Business Understanding 1"
   ]
  },
  {
   "cell_type": "markdown",
   "metadata": {},
   "source": [
    "# Data Understanding 1"
   ]
  },
  {
   "cell_type": "markdown",
   "metadata": {},
   "source": [
    "# Data Understanding 2"
   ]
  },
  {
   "cell_type": "markdown",
   "metadata": {},
   "source": [
    "# Model and Evaluations 1"
   ]
  },
  {
   "cell_type": "markdown",
   "metadata": {},
   "source": [
    "# Model and Evaluations 2"
   ]
  },
  {
   "cell_type": "markdown",
   "metadata": {},
   "source": [
    "# Model and Evaluations 3"
   ]
  },
  {
   "cell_type": "markdown",
   "metadata": {},
   "source": [
    "# Model and Evaluations 4"
   ]
  },
  {
   "cell_type": "markdown",
   "metadata": {},
   "source": [
    "# Deployment"
   ]
  },
  {
   "cell_type": "markdown",
   "metadata": {},
   "source": [
    "# Exceptional Work"
   ]
  },
  {
   "cell_type": "markdown",
   "metadata": {},
   "source": [
    "# References"
   ]
  },
  {
   "cell_type": "markdown",
   "metadata": {},
   "source": [
    "1. Dataset obtained from kaggle : <a href=\"https://www.kaggle.com/rounakbanik/the-movies-dataset\"> click here </a>\n",
    "2. Apple (turicreate) <a href=\"https://apple.github.io/turicreate/docs/userguide/recommender/\"> article </a> on Recommender. "
   ]
  },
  {
   "cell_type": "code",
   "execution_count": null,
   "metadata": {
    "ExecuteTime": {
     "end_time": "2020-08-02T17:38:22.651525Z",
     "start_time": "2020-08-02T17:38:21.355981Z"
    }
   },
   "outputs": [],
   "source": [
    "import pandas as pd\n",
    "import os\n",
    "\n",
    "data=pd.read_csv('movielens/credits.csv')\n",
    "data.shape"
   ]
  },
  {
   "cell_type": "code",
   "execution_count": 1,
   "metadata": {
    "ExecuteTime": {
     "end_time": "2020-08-02T21:18:36.459168Z",
     "start_time": "2020-08-02T21:18:27.635668Z"
    }
   },
   "outputs": [
    {
     "data": {
      "text/html": [
       "<pre>Finished parsing file /Users/sachin/Documents/sachin/Education/SMU/Term4/7331/DataMining/ML7331/movielens/ratings.csv</pre>"
      ],
      "text/plain": [
       "Finished parsing file /Users/sachin/Documents/sachin/Education/SMU/Term4/7331/DataMining/ML7331/movielens/ratings.csv"
      ]
     },
     "metadata": {},
     "output_type": "display_data"
    },
    {
     "data": {
      "text/html": [
       "<pre>Parsing completed. Parsed 100 lines in 0.486683 secs.</pre>"
      ],
      "text/plain": [
       "Parsing completed. Parsed 100 lines in 0.486683 secs."
      ]
     },
     "metadata": {},
     "output_type": "display_data"
    },
    {
     "name": "stdout",
     "output_type": "stream",
     "text": [
      "------------------------------------------------------\n",
      "Inferred types from first 100 line(s) of file as \n",
      "column_type_hints=[int,int,float,int]\n",
      "If parsing fails due to incorrect types, you can correct\n",
      "the inferred type list above and pass it to read_csv in\n",
      "the column_type_hints argument\n",
      "------------------------------------------------------\n"
     ]
    },
    {
     "data": {
      "text/html": [
       "<pre>Read 2006281 lines. Lines per second: 2.28259e+06</pre>"
      ],
      "text/plain": [
       "Read 2006281 lines. Lines per second: 2.28259e+06"
      ]
     },
     "metadata": {},
     "output_type": "display_data"
    },
    {
     "data": {
      "text/html": [
       "<pre>Read 25014145 lines. Lines per second: 4.05301e+06</pre>"
      ],
      "text/plain": [
       "Read 25014145 lines. Lines per second: 4.05301e+06"
      ]
     },
     "metadata": {},
     "output_type": "display_data"
    },
    {
     "data": {
      "text/html": [
       "<pre>Finished parsing file /Users/sachin/Documents/sachin/Education/SMU/Term4/7331/DataMining/ML7331/movielens/ratings.csv</pre>"
      ],
      "text/plain": [
       "Finished parsing file /Users/sachin/Documents/sachin/Education/SMU/Term4/7331/DataMining/ML7331/movielens/ratings.csv"
      ]
     },
     "metadata": {},
     "output_type": "display_data"
    },
    {
     "data": {
      "text/html": [
       "<pre>Parsing completed. Parsed 26024289 lines in 6.35938 secs.</pre>"
      ],
      "text/plain": [
       "Parsing completed. Parsed 26024289 lines in 6.35938 secs."
      ]
     },
     "metadata": {},
     "output_type": "display_data"
    }
   ],
   "source": [
    "import turicreate as tc\n",
    "actions = tc.SFrame.read_csv('movielens/ratings.csv')"
   ]
  },
  {
   "cell_type": "code",
   "execution_count": 2,
   "metadata": {
    "ExecuteTime": {
     "end_time": "2020-08-02T21:19:44.227909Z",
     "start_time": "2020-08-02T21:18:36.514687Z"
    }
   },
   "outputs": [
    {
     "data": {
      "text/html": [
       "<pre>Warning: Ignoring columns rating, timestamp;</pre>"
      ],
      "text/plain": [
       "Warning: Ignoring columns rating, timestamp;"
      ]
     },
     "metadata": {},
     "output_type": "display_data"
    },
    {
     "data": {
      "text/html": [
       "<pre> To use one of these as a rating column, specify the column name to be used as target</pre>"
      ],
      "text/plain": [
       " To use one of these as a rating column, specify the column name to be used as target"
      ]
     },
     "metadata": {},
     "output_type": "display_data"
    },
    {
     "data": {
      "text/html": [
       "<pre>    and use a method that allows the use of a target.</pre>"
      ],
      "text/plain": [
       "    and use a method that allows the use of a target."
      ]
     },
     "metadata": {},
     "output_type": "display_data"
    },
    {
     "data": {
      "text/html": [
       "<pre>Preparing data set.</pre>"
      ],
      "text/plain": [
       "Preparing data set."
      ]
     },
     "metadata": {},
     "output_type": "display_data"
    },
    {
     "data": {
      "text/html": [
       "<pre>    Data has 26004589 observations with 270892 users and 45108 items.</pre>"
      ],
      "text/plain": [
       "    Data has 26004589 observations with 270892 users and 45108 items."
      ]
     },
     "metadata": {},
     "output_type": "display_data"
    },
    {
     "data": {
      "text/html": [
       "<pre>    Data prepared in: 8.5866s</pre>"
      ],
      "text/plain": [
       "    Data prepared in: 8.5866s"
      ]
     },
     "metadata": {},
     "output_type": "display_data"
    },
    {
     "data": {
      "text/html": [
       "<pre>Training model from provided data.</pre>"
      ],
      "text/plain": [
       "Training model from provided data."
      ]
     },
     "metadata": {},
     "output_type": "display_data"
    },
    {
     "data": {
      "text/html": [
       "<pre>Gathering per-item and per-user statistics.</pre>"
      ],
      "text/plain": [
       "Gathering per-item and per-user statistics."
      ]
     },
     "metadata": {},
     "output_type": "display_data"
    },
    {
     "data": {
      "text/html": [
       "<pre>+--------------------------------+------------+</pre>"
      ],
      "text/plain": [
       "+--------------------------------+------------+"
      ]
     },
     "metadata": {},
     "output_type": "display_data"
    },
    {
     "data": {
      "text/html": [
       "<pre>| Elapsed Time (Item Statistics) | % Complete |</pre>"
      ],
      "text/plain": [
       "| Elapsed Time (Item Statistics) | % Complete |"
      ]
     },
     "metadata": {},
     "output_type": "display_data"
    },
    {
     "data": {
      "text/html": [
       "<pre>+--------------------------------+------------+</pre>"
      ],
      "text/plain": [
       "+--------------------------------+------------+"
      ]
     },
     "metadata": {},
     "output_type": "display_data"
    },
    {
     "data": {
      "text/html": [
       "<pre>| 2.922ms                        | 0.25       |</pre>"
      ],
      "text/plain": [
       "| 2.922ms                        | 0.25       |"
      ]
     },
     "metadata": {},
     "output_type": "display_data"
    },
    {
     "data": {
      "text/html": [
       "<pre>| 346.282ms                      | 100        |</pre>"
      ],
      "text/plain": [
       "| 346.282ms                      | 100        |"
      ]
     },
     "metadata": {},
     "output_type": "display_data"
    },
    {
     "data": {
      "text/html": [
       "<pre>+--------------------------------+------------+</pre>"
      ],
      "text/plain": [
       "+--------------------------------+------------+"
      ]
     },
     "metadata": {},
     "output_type": "display_data"
    },
    {
     "data": {
      "text/html": [
       "<pre>Setting up lookup tables.</pre>"
      ],
      "text/plain": [
       "Setting up lookup tables."
      ]
     },
     "metadata": {},
     "output_type": "display_data"
    },
    {
     "data": {
      "text/html": [
       "<pre>Processing data in one pass using dense lookup tables.</pre>"
      ],
      "text/plain": [
       "Processing data in one pass using dense lookup tables."
      ]
     },
     "metadata": {},
     "output_type": "display_data"
    },
    {
     "data": {
      "text/html": [
       "<pre>+-------------------------------------+------------------+-----------------+</pre>"
      ],
      "text/plain": [
       "+-------------------------------------+------------------+-----------------+"
      ]
     },
     "metadata": {},
     "output_type": "display_data"
    },
    {
     "data": {
      "text/html": [
       "<pre>| Elapsed Time (Constructing Lookups) | Total % Complete | Items Processed |</pre>"
      ],
      "text/plain": [
       "| Elapsed Time (Constructing Lookups) | Total % Complete | Items Processed |"
      ]
     },
     "metadata": {},
     "output_type": "display_data"
    },
    {
     "data": {
      "text/html": [
       "<pre>+-------------------------------------+------------------+-----------------+</pre>"
      ],
      "text/plain": [
       "+-------------------------------------+------------------+-----------------+"
      ]
     },
     "metadata": {},
     "output_type": "display_data"
    },
    {
     "data": {
      "text/html": [
       "<pre>| 5.78s                               | 0                | 0               |</pre>"
      ],
      "text/plain": [
       "| 5.78s                               | 0                | 0               |"
      ]
     },
     "metadata": {},
     "output_type": "display_data"
    },
    {
     "data": {
      "text/html": [
       "<pre>| 8.79s                               | 7                | 3210            |</pre>"
      ],
      "text/plain": [
       "| 8.79s                               | 7                | 3210            |"
      ]
     },
     "metadata": {},
     "output_type": "display_data"
    },
    {
     "data": {
      "text/html": [
       "<pre>| 11.79s                              | 14.75            | 6750            |</pre>"
      ],
      "text/plain": [
       "| 11.79s                              | 14.75            | 6750            |"
      ]
     },
     "metadata": {},
     "output_type": "display_data"
    },
    {
     "data": {
      "text/html": [
       "<pre>| 14.80s                              | 23               | 10464           |</pre>"
      ],
      "text/plain": [
       "| 14.80s                              | 23               | 10464           |"
      ]
     },
     "metadata": {},
     "output_type": "display_data"
    },
    {
     "data": {
      "text/html": [
       "<pre>| 17.80s                              | 30.5             | 13777           |</pre>"
      ],
      "text/plain": [
       "| 17.80s                              | 30.5             | 13777           |"
      ]
     },
     "metadata": {},
     "output_type": "display_data"
    },
    {
     "data": {
      "text/html": [
       "<pre>| 20.80s                              | 38.25            | 17314           |</pre>"
      ],
      "text/plain": [
       "| 20.80s                              | 38.25            | 17314           |"
      ]
     },
     "metadata": {},
     "output_type": "display_data"
    },
    {
     "data": {
      "text/html": [
       "<pre>| 23.81s                              | 45.5             | 20541           |</pre>"
      ],
      "text/plain": [
       "| 23.81s                              | 45.5             | 20541           |"
      ]
     },
     "metadata": {},
     "output_type": "display_data"
    },
    {
     "data": {
      "text/html": [
       "<pre>| 26.81s                              | 52.75            | 23841           |</pre>"
      ],
      "text/plain": [
       "| 26.81s                              | 52.75            | 23841           |"
      ]
     },
     "metadata": {},
     "output_type": "display_data"
    },
    {
     "data": {
      "text/html": [
       "<pre>| 29.81s                              | 60.25            | 27231           |</pre>"
      ],
      "text/plain": [
       "| 29.81s                              | 60.25            | 27231           |"
      ]
     },
     "metadata": {},
     "output_type": "display_data"
    },
    {
     "data": {
      "text/html": [
       "<pre>| 32.82s                              | 68.25            | 30877           |</pre>"
      ],
      "text/plain": [
       "| 32.82s                              | 68.25            | 30877           |"
      ]
     },
     "metadata": {},
     "output_type": "display_data"
    },
    {
     "data": {
      "text/html": [
       "<pre>| 35.82s                              | 75.75            | 34274           |</pre>"
      ],
      "text/plain": [
       "| 35.82s                              | 75.75            | 34274           |"
      ]
     },
     "metadata": {},
     "output_type": "display_data"
    },
    {
     "data": {
      "text/html": [
       "<pre>| 38.83s                              | 83.75            | 37784           |</pre>"
      ],
      "text/plain": [
       "| 38.83s                              | 83.75            | 37784           |"
      ]
     },
     "metadata": {},
     "output_type": "display_data"
    },
    {
     "data": {
      "text/html": [
       "<pre>| 41.83s                              | 91.5             | 41306           |</pre>"
      ],
      "text/plain": [
       "| 41.83s                              | 91.5             | 41306           |"
      ]
     },
     "metadata": {},
     "output_type": "display_data"
    },
    {
     "data": {
      "text/html": [
       "<pre>| 44.83s                              | 99.5             | 44950           |</pre>"
      ],
      "text/plain": [
       "| 44.83s                              | 99.5             | 44950           |"
      ]
     },
     "metadata": {},
     "output_type": "display_data"
    },
    {
     "data": {
      "text/html": [
       "<pre>| 54.23s                              | 100              | 45108           |</pre>"
      ],
      "text/plain": [
       "| 54.23s                              | 100              | 45108           |"
      ]
     },
     "metadata": {},
     "output_type": "display_data"
    },
    {
     "data": {
      "text/html": [
       "<pre>+-------------------------------------+------------------+-----------------+</pre>"
      ],
      "text/plain": [
       "+-------------------------------------+------------------+-----------------+"
      ]
     },
     "metadata": {},
     "output_type": "display_data"
    },
    {
     "data": {
      "text/html": [
       "<pre>Finalizing lookup tables.</pre>"
      ],
      "text/plain": [
       "Finalizing lookup tables."
      ]
     },
     "metadata": {},
     "output_type": "display_data"
    },
    {
     "data": {
      "text/html": [
       "<pre>Generating candidate set for working with new users.</pre>"
      ],
      "text/plain": [
       "Generating candidate set for working with new users."
      ]
     },
     "metadata": {},
     "output_type": "display_data"
    },
    {
     "data": {
      "text/html": [
       "<pre>Finished training in 55.8347s</pre>"
      ],
      "text/plain": [
       "Finished training in 55.8347s"
      ]
     },
     "metadata": {},
     "output_type": "display_data"
    }
   ],
   "source": [
    "training_data, validation_data = tc.recommender.util.random_split_by_user(actions, 'userId', 'movieId')\n",
    "model = tc.recommender.create(training_data, 'userId', 'movieId')"
   ]
  },
  {
   "cell_type": "code",
   "execution_count": 5,
   "metadata": {
    "ExecuteTime": {
     "end_time": "2020-08-02T21:20:10.407304Z",
     "start_time": "2020-08-02T21:20:10.361962Z"
    }
   },
   "outputs": [
    {
     "data": {
      "text/html": [
       "<div style=\"max-height:1000px;max-width:1500px;overflow:auto;\"><table frame=\"box\" rules=\"cols\">\n",
       "    <tr>\n",
       "        <th style=\"padding-left: 1em; padding-right: 1em; text-align: center\">userId</th>\n",
       "        <th style=\"padding-left: 1em; padding-right: 1em; text-align: center\">movieId</th>\n",
       "        <th style=\"padding-left: 1em; padding-right: 1em; text-align: center\">score</th>\n",
       "        <th style=\"padding-left: 1em; padding-right: 1em; text-align: center\">rank</th>\n",
       "    </tr>\n",
       "    <tr>\n",
       "        <td style=\"padding-left: 1em; padding-right: 1em; text-align: center; vertical-align: top\">1</td>\n",
       "        <td style=\"padding-left: 1em; padding-right: 1em; text-align: center; vertical-align: top\">1196</td>\n",
       "        <td style=\"padding-left: 1em; padding-right: 1em; text-align: center; vertical-align: top\">0.11922698771512066</td>\n",
       "        <td style=\"padding-left: 1em; padding-right: 1em; text-align: center; vertical-align: top\">1</td>\n",
       "    </tr>\n",
       "    <tr>\n",
       "        <td style=\"padding-left: 1em; padding-right: 1em; text-align: center; vertical-align: top\">1</td>\n",
       "        <td style=\"padding-left: 1em; padding-right: 1em; text-align: center; vertical-align: top\">6874</td>\n",
       "        <td style=\"padding-left: 1em; padding-right: 1em; text-align: center; vertical-align: top\">0.11548285131101255</td>\n",
       "        <td style=\"padding-left: 1em; padding-right: 1em; text-align: center; vertical-align: top\">2</td>\n",
       "    </tr>\n",
       "    <tr>\n",
       "        <td style=\"padding-left: 1em; padding-right: 1em; text-align: center; vertical-align: top\">1</td>\n",
       "        <td style=\"padding-left: 1em; padding-right: 1em; text-align: center; vertical-align: top\">2571</td>\n",
       "        <td style=\"padding-left: 1em; padding-right: 1em; text-align: center; vertical-align: top\">0.11526993027439823</td>\n",
       "        <td style=\"padding-left: 1em; padding-right: 1em; text-align: center; vertical-align: top\">3</td>\n",
       "    </tr>\n",
       "    <tr>\n",
       "        <td style=\"padding-left: 1em; padding-right: 1em; text-align: center; vertical-align: top\">1</td>\n",
       "        <td style=\"padding-left: 1em; padding-right: 1em; text-align: center; vertical-align: top\">70286</td>\n",
       "        <td style=\"padding-left: 1em; padding-right: 1em; text-align: center; vertical-align: top\">0.1136704506697478</td>\n",
       "        <td style=\"padding-left: 1em; padding-right: 1em; text-align: center; vertical-align: top\">4</td>\n",
       "    </tr>\n",
       "    <tr>\n",
       "        <td style=\"padding-left: 1em; padding-right: 1em; text-align: center; vertical-align: top\">1</td>\n",
       "        <td style=\"padding-left: 1em; padding-right: 1em; text-align: center; vertical-align: top\">4993</td>\n",
       "        <td style=\"padding-left: 1em; padding-right: 1em; text-align: center; vertical-align: top\">0.11362289057837592</td>\n",
       "        <td style=\"padding-left: 1em; padding-right: 1em; text-align: center; vertical-align: top\">5</td>\n",
       "    </tr>\n",
       "    <tr>\n",
       "        <td style=\"padding-left: 1em; padding-right: 1em; text-align: center; vertical-align: top\">1</td>\n",
       "        <td style=\"padding-left: 1em; padding-right: 1em; text-align: center; vertical-align: top\">72998</td>\n",
       "        <td style=\"padding-left: 1em; padding-right: 1em; text-align: center; vertical-align: top\">0.11104120810826619</td>\n",
       "        <td style=\"padding-left: 1em; padding-right: 1em; text-align: center; vertical-align: top\">6</td>\n",
       "    </tr>\n",
       "    <tr>\n",
       "        <td style=\"padding-left: 1em; padding-right: 1em; text-align: center; vertical-align: top\">1</td>\n",
       "        <td style=\"padding-left: 1em; padding-right: 1em; text-align: center; vertical-align: top\">5952</td>\n",
       "        <td style=\"padding-left: 1em; padding-right: 1em; text-align: center; vertical-align: top\">0.10956451848701194</td>\n",
       "        <td style=\"padding-left: 1em; padding-right: 1em; text-align: center; vertical-align: top\">7</td>\n",
       "    </tr>\n",
       "    <tr>\n",
       "        <td style=\"padding-left: 1em; padding-right: 1em; text-align: center; vertical-align: top\">1</td>\n",
       "        <td style=\"padding-left: 1em; padding-right: 1em; text-align: center; vertical-align: top\">2858</td>\n",
       "        <td style=\"padding-left: 1em; padding-right: 1em; text-align: center; vertical-align: top\">0.10901367002063328</td>\n",
       "        <td style=\"padding-left: 1em; padding-right: 1em; text-align: center; vertical-align: top\">8</td>\n",
       "    </tr>\n",
       "    <tr>\n",
       "        <td style=\"padding-left: 1em; padding-right: 1em; text-align: center; vertical-align: top\">1</td>\n",
       "        <td style=\"padding-left: 1em; padding-right: 1em; text-align: center; vertical-align: top\">1682</td>\n",
       "        <td style=\"padding-left: 1em; padding-right: 1em; text-align: center; vertical-align: top\">0.10748441131026656</td>\n",
       "        <td style=\"padding-left: 1em; padding-right: 1em; text-align: center; vertical-align: top\">9</td>\n",
       "    </tr>\n",
       "    <tr>\n",
       "        <td style=\"padding-left: 1em; padding-right: 1em; text-align: center; vertical-align: top\">1</td>\n",
       "        <td style=\"padding-left: 1em; padding-right: 1em; text-align: center; vertical-align: top\">1270</td>\n",
       "        <td style=\"padding-left: 1em; padding-right: 1em; text-align: center; vertical-align: top\">0.10621605537555835</td>\n",
       "        <td style=\"padding-left: 1em; padding-right: 1em; text-align: center; vertical-align: top\">10</td>\n",
       "    </tr>\n",
       "</table>\n",
       "[10 rows x 4 columns]<br/>\n",
       "</div>"
      ],
      "text/plain": [
       "Columns:\n",
       "\tuserId\tint\n",
       "\tmovieId\tint\n",
       "\tscore\tfloat\n",
       "\trank\tint\n",
       "\n",
       "Rows: 10\n",
       "\n",
       "Data:\n",
       "+--------+---------+---------------------+------+\n",
       "| userId | movieId |        score        | rank |\n",
       "+--------+---------+---------------------+------+\n",
       "|   1    |   1196  | 0.11922698771512066 |  1   |\n",
       "|   1    |   6874  | 0.11548285131101255 |  2   |\n",
       "|   1    |   2571  | 0.11526993027439823 |  3   |\n",
       "|   1    |  70286  |  0.1136704506697478 |  4   |\n",
       "|   1    |   4993  | 0.11362289057837592 |  5   |\n",
       "|   1    |  72998  | 0.11104120810826619 |  6   |\n",
       "|   1    |   5952  | 0.10956451848701194 |  7   |\n",
       "|   1    |   2858  | 0.10901367002063328 |  8   |\n",
       "|   1    |   1682  | 0.10748441131026656 |  9   |\n",
       "|   1    |   1270  | 0.10621605537555835 |  10  |\n",
       "+--------+---------+---------------------+------+\n",
       "[10 rows x 4 columns]"
      ]
     },
     "execution_count": 5,
     "metadata": {},
     "output_type": "execute_result"
    }
   ],
   "source": [
    "recommendations = model.recommend(users=['1'])\n",
    "recommendations"
   ]
  },
  {
   "cell_type": "code",
   "execution_count": 35,
   "metadata": {
    "ExecuteTime": {
     "end_time": "2020-08-02T21:52:56.006599Z",
     "start_time": "2020-08-02T21:52:52.478548Z"
    }
   },
   "outputs": [],
   "source": [
    "import pandas as pd\n",
    "credits = pd.read_csv('movielens/credits.csv')\n",
    "credit_info = tc.SFrame(credits)"
   ]
  },
  {
   "cell_type": "code",
   "execution_count": 51,
   "metadata": {
    "ExecuteTime": {
     "end_time": "2020-08-03T02:07:30.739353Z",
     "start_time": "2020-08-03T02:07:30.693758Z"
    }
   },
   "outputs": [
    {
     "data": {
      "text/plain": [
       "dtype: str\n",
       "Rows: 45476\n",
       "[\"[{'cast_id': 14, 'character': 'Woody (voice)', 'credit_id': '52fe4284c3a36847f8024f95', 'gender': 2, 'id': 31, 'name': 'Tom Hanks', 'order': 0, 'profile_path': '/pQFoyx7rp09CJTAb932F2g8Nlho.jpg'}, {'cast_id': 15, 'character': 'Buzz Lightyear (voice)', 'credit_id': '52fe4284c3a36847f8024f99', 'gender': 2, 'id': 12898, 'name': 'Tim Allen', 'order': 1, 'profile_path': '/uX2xVf6pMmPepxnvFWyBtjexzgY.jpg'}, {'cast_id': 16, 'character': 'Mr. Potato Head (voice)', 'credit_id': '52fe4284c3a36847f8024f9d', 'gender': 2, 'id': 7167, 'name': 'Don Rickles', 'order': 2, 'profile_path': '/h5BcaDMPRVLHLDzbQavec4xfSdt.jpg'}, {'cast_id': 17, 'character': 'Slinky Dog (voice)', 'credit_id': '52fe4284c3a36847f8024fa1', 'gender': 2, 'id': 12899, 'name': 'Jim Varney', 'order': 3, 'profile_path': '/eIo2jVVXYgjDtaHoF19Ll9vtW7h.jpg'}, {'cast_id': 18, 'character': 'Rex (voice)', 'credit_id': '52fe4284c3a36847f8024fa5', 'gender': 2, 'id': 12900, 'name': 'Wallace Shawn', 'order': 4, 'profile_path': '/oGE6JqPP2xH4tNORKNqxbNPYi7u.jpg'}, {'cast_id': 19, 'character': 'Hamm (voice)', 'credit_id': '52fe4284c3a36847f8024fa9', 'gender': 2, 'id': 7907, 'name': 'John Ratzenberger', 'order': 5, 'profile_path': '/yGechiKWL6TJDfVE2KPSJYqdMsY.jpg'}, {'cast_id': 20, 'character': 'Bo Peep (voice)', 'credit_id': '52fe4284c3a36847f8024fad', 'gender': 1, 'id': 8873, 'name': 'Annie Potts', 'order': 6, 'profile_path': '/eryXT84RL41jHSJcMy4kS3u9y6w.jpg'}, {'cast_id': 26, 'character': 'Andy (voice)', 'credit_id': '52fe4284c3a36847f8024fc1', 'gender': 0, 'id': 1116442, 'name': 'John Morris', 'order': 7, 'profile_path': '/vYGyvK4LzeaUCoNSHtsuqJUY15M.jpg'}, {'cast_id': 22, 'character': 'Sid (voice)', 'credit_id': '52fe4284c3a36847f8024fb1', 'gender': 2, 'id': 12901, 'name': 'Erik von Detten', 'order': 8, 'profile_path': '/twnF1ZaJ1FUNUuo6xLXwcxjayBE.jpg'}, {'cast_id': 23, 'character': 'Mrs. Davis (voice)', 'credit_id': '52fe4284c3a36847f8024fb5', 'gender': 1, 'id': 12133, 'name': 'Laurie Metcalf', 'order': 9, 'profile_path': '/unMMIT60eoBM2sN2nyR7EZ2BvvD.jpg'}, {'cast_id': 24, 'character': 'Sergeant (voice)', 'credit_id': '52fe4284c3a36847f8024fb9', 'gender': 2, 'id': 8655, 'name': 'R. Lee Ermey', 'order': 10, 'profile_path': '/r8GBqFBjypLUP9VVqDqfZ7wYbSs.jpg'}, {'cast_id': 25, 'character': 'Hannah (voice)', 'credit_id': '52fe4284c3a36847f8024fbd', 'gender': 1, 'id': 12903, 'name': 'Sarah Freeman', 'order': 11, 'profile_path': None}, {'cast_id': 27, 'character': 'TV Announcer (voice)', 'credit_id': '52fe4284c3a36847f8024fc5', 'gender': 2, 'id': 37221, 'name': 'Penn Jillette', 'order': 12, 'profile_path': '/zmAaXUdx12NRsssgHbk1T31j2x9.jpg'}]\", \"[{'cast_id': 1, 'character': 'Alan Parrish', 'credit_id': '52fe44bfc3a36847f80a7c73', 'gender': 2, 'id': 2157, 'name': 'Robin Williams', 'order': 0, 'profile_path': '/sojtJyIV3lkUeThD7A2oHNm8183.jpg'}, {'cast_id': 8, 'character': 'Samuel Alan Parrish / Van Pelt', 'credit_id': '52fe44bfc3a36847f80a7c99', 'gender': 2, 'id': 8537, 'name': 'Jonathan Hyde', 'order': 1, 'profile_path': '/7il5D76vx6QVRVlpVvBPEC40MBi.jpg'}, {'cast_id': 2, 'character': 'Judy Sheperd', 'credit_id': '52fe44bfc3a36847f80a7c77', 'gender': 1, 'id': 205, 'name': 'Kirsten Dunst', 'order': 2, 'profile_path': '/wBXvh6PJd0IUVNpvatPC1kzuHtm.jpg'}, {'cast_id': 24, 'character': 'Peter Shepherd', 'credit_id': '52fe44c0c3a36847f80a7ce7', 'gender': 0, 'id': 145151, 'name': 'Bradley Pierce', 'order': 3, 'profile_path': '/j6iW0vVA23GQniAPSYI6mi4hiEW.jpg'}, {'cast_id': 10, 'character': 'Sarah Whittle', 'credit_id': '52fe44bfc3a36847f80a7c9d', 'gender': 1, 'id': 5149, 'name': 'Bonnie Hunt', 'order': 4, 'profile_path': '/7spiVQwmr8siw5QCcvvdRG3c7Lf.jpg'}, {'cast_id': 25, 'character': 'Nora Shepherd', 'credit_id': '52fe44c0c3a36847f80a7ceb', 'gender': 1, 'id': 10739, 'name': 'Bebe Neuwirth', 'order': 5, 'profile_path': '/xm58rpMRVDHS0IGttw1pTlqGwkN.jpg'}, {'cast_id': 26, 'character': 'Carl Bentley', 'credit_id': '52fe44c0c3a36847f80a7cef', 'gender': 2, 'id': 58563, 'name': 'David Alan Grier', 'order': 6, 'profile_path': '/5tkt3qRZTco4sz604aTIarQ0m8W.jpg'}, {'cast_id': 11, 'character': 'Carol Anne Parrish', 'credit_id': '52fe44bfc3a36847f80a7ca1', 'gender': 1, 'id': 1276, 'name': 'Patricia Clarkson', 'order': 7, 'profile_path': '/10ZSyaUqzUlKTd60HmeiGhlytZG.jpg'}, {'cast_id': 14, 'character': 'Alan Parrish (young)', 'credit_id': '52fe44bfc3a36847f80a7cad', 'gender': 0, 'id': 46530, 'name': 'Adam Hann-Byrd', 'order': 8, 'profile_path': '/hEoqDqtMO91hYWD5iDrDesnLDlt.jpg'}, {'cast_id': 13, 'character': 'Sarah Whittle (young)', 'credit_id': '52fe44bfc3a36847f80a7ca9', 'gender': 1, 'id': 56523, 'name': 'Laura Bell Bundy', 'order': 9, 'profile_path': '/8tAVDBRoZPjKfCbBDyh4iK9JNEp.jpg'}, {'cast_id': 31, 'character': 'Exterminator', 'credit_id': '52fe44c0c3a36847f80a7cff', 'gender': 2, 'id': 51551, 'name': 'James Handy', 'order': 10, 'profile_path': '/vm0WQmuP8jEGgFTd3VCcJe7zpUi.jpg'}, {'cast_id': 12, 'character': 'Mrs. Thomas the Realtor', 'credit_id': '52fe44bfc3a36847f80a7ca5', 'gender': 1, 'id': 56522, 'name': 'Gillian Barber', 'order': 11, 'profile_path': '/qoqPX15J5jh6Sy0A9JvvRJIuw64.jpg'}, {'cast_id': 28, 'character': 'Benjamin', 'credit_id': '52fe44c0c3a36847f80a7cf3', 'gender': 2, 'id': 1000304, 'name': 'Brandon Obray', 'order': 12, 'profile_path': None}, {'cast_id': 29, 'character': 'Caleb', 'credit_id': '52fe44c0c3a36847f80a7cf7', 'gender': 0, 'id': 188949, 'name': 'Cyrus Thiedeke', 'order': 13, 'profile_path': None}, {'cast_id': 30, 'character': 'Billy Jessup', 'credit_id': '52fe44c0c3a36847f80a7cfb', 'gender': 0, 'id': 1076551, 'name': 'Gary Joseph Thorup', 'order': 14, 'profile_path': None}, {'cast_id': 32, 'character': 'Cop', 'credit_id': '5588053fc3a36838530063f5', 'gender': 0, 'id': 1480246, 'name': 'Leonard Zola', 'order': 15, 'profile_path': None}, {'cast_id': 33, 'character': 'Bum', 'credit_id': '55935687925141645a002097', 'gender': 2, 'id': 25024, 'name': 'Lloyd Berry', 'order': 16, 'profile_path': '/s7SVCOtvcuQ9wRQPZfUdahb5x88.jpg'}, {'cast_id': 34, 'character': 'Jim Shepherd', 'credit_id': '559356d09251415df8002cb7', 'gender': 2, 'id': 27110, 'name': 'Malcolm Stewart', 'order': 17, 'profile_path': '/l2vgzkLR7GRr8ugjZCILA0OiliI.jpg'}, {'cast_id': 35, 'character': 'Martha Shepherd', 'credit_id': '55935730925141645a0020ad', 'gender': 0, 'id': 53715, 'name': 'Annabel Kershaw', 'order': 18, 'profile_path': '/1VqbvAohBwFhETZtDe76JXQcxKm.jpg'}, {'cast_id': 36, 'character': 'Gun Salesman', 'credit_id': '5593576992514167fd000610', 'gender': 2, 'id': 1379424, 'name': 'Darryl Henriques', 'order': 19, 'profile_path': '/7QMHooY9ewNQlE24WKAOdwW0evU.jpg'}, {'cast_id': 37, 'character': 'Paramedic', 'credit_id': '559357ae92514152de002f42', 'gender': 0, 'id': 1235504, 'name': 'Robyn Driscoll', 'order': 20, 'profile_path': None}, {'cast_id': 50, 'character': 'Paramedic', 'credit_id': '5657803b925141018f00a5dc', 'gender': 2, 'id': 25389, 'name': 'Peter Bryant', 'order': 21, 'profile_path': '/fkcx9Tnp25UC5HlI2eW3nGvumsZ.jpg'}, {'cast_id': 39, 'character': 'Girl', 'credit_id': '559358e292514152de002f63', 'gender': 0, 'id': 1483449, 'name': 'Sarah Gilson', 'order': 22, 'profile_path': None}, {'cast_id': 40, 'character': 'Girl', 'credit_id': '5593590d92514152db002df3', 'gender': 0, 'id': 1483450, 'name': 'Florica Vlad', 'order': 23, 'profile_path': None}, {'cast_id': 41, 'character': 'Baker', 'credit_id': '55935946c3a36869d1001b4d', 'gender': 0, 'id': 1483451, 'name': 'June Lion', 'order': 24, 'profile_path': None}, {'cast_id': 42, 'character': 'Pianist', 'credit_id': '5593597692514167fd000644', 'gender': 0, 'id': 1483452, 'name': 'Brenda Lockmuller', 'order': 25, 'profile_path': None}]\", \"[{'cast_id': 2, 'character': 'Max Goldman', 'credit_id': '52fe466a9251416c75077a8d', 'gender': 2, 'id': 6837, 'name': 'Walter Matthau', 'order': 0, 'profile_path': '/xJVkvprOnzP5Zdh5y63y8HHniDZ.jpg'}, {'cast_id': 3, 'character': 'John Gustafson', 'credit_id': '52fe466a9251416c75077a91', 'gender': 2, 'id': 3151, 'name': 'Jack Lemmon', 'order': 1, 'profile_path': '/chZmNRYMtqkiDlatprGDH4BzGqG.jpg'}, {'cast_id': 4, 'character': 'Ariel Gustafson', 'credit_id': '52fe466a9251416c75077a95', 'gender': 1, 'id': 13567, 'name': 'Ann-Margret', 'order': 2, 'profile_path': '/jx5lTaJ5VXZHYB52gaOTAZ9STZk.jpg'}, {'cast_id': 5, 'character': 'Maria Sophia Coletta Ragetti', 'credit_id': '52fe466a9251416c75077a99', 'gender': 1, 'id': 16757, 'name': 'Sophia Loren', 'order': 3, 'profile_path': '/emKLhbji1c7BjcA2DdbWf0EP9zH.jpg'}, {'cast_id': 6, 'character': 'Melanie Gustafson', 'credit_id': '52fe466a9251416c75077a9d', 'gender': 1, 'id': 589, 'name': 'Daryl Hannah', 'order': 4, 'profile_path': '/4LLmp6AQdlj6ueGCRbVRSGvvFSt.jpg'}, {'cast_id': 9, 'character': 'Grandpa Gustafson', 'credit_id': '53e5fcc2c3a3684430000d65', 'gender': 2, 'id': 16523, 'name': 'Burgess Meredith', 'order': 5, 'profile_path': '/lm98oKloU33Q7QDIIMSyc4Pr2jA.jpg'}, {'cast_id': 10, 'character': 'Jacob Goldman', 'credit_id': '53e5fcd4c3a3684433000e1a', 'gender': 2, 'id': 7166, 'name': 'Kevin Pollak', 'order': 6, 'profile_path': '/kwu2T8CDnThZTzE88uiSgJ5eHXf.jpg'}]\", '[{\\'cast_id\\': 1, \\'character\\': \"Savannah \\'Vannah\\' Jackson\", \\'credit_id\\': \\'52fe44779251416c91011aad\\', \\'gender\\': 1, \\'id\\': 8851, \\'name\\': \\'Whitney Houston\\', \\'order\\': 0, \\'profile_path\\': \\'/69ouDnXnmklYPr4sMJXWKYz81AL.jpg\\'}, {\\'cast_id\\': 2, \\'character\\': \"Bernadine \\'Bernie\\' Harris\", \\'credit_id\\': \\'52fe44779251416c91011ab1\\', \\'gender\\': 1, \\'id\\': 9780, \\'name\\': \\'Angela Bassett\\', \\'order\\': 1, \\'profile_path\\': \\'/tHkgSzhEuJKp5hqp0DZLad8HNZ9.jpg\\'}, {\\'cast_id\\': 3, \\'character\\': \"Gloria \\'Glo\\' Matthews\", \\'credit_id\\': \\'52fe44779251416c91011ab5\\', \\'gender\\': 1, \\'id\\': 18284, \\'name\\': \\'Loretta Devine\\', \\'order\\': 2, \\'profile_path\\': \\'/zLQFwQTFtHkb8sbFdkPNamFI7jv.jpg\\'}, {\\'cast_id\\': 4, \\'character\\': \\'Robin Stokes\\', \\'credit_id\\': \\'52fe44779251416c91011ab9\\', \\'gender\\': 1, \\'id\\': 51359, \\'name\\': \\'Lela Rochon\\', \\'order\\': 3, \\'profile_path\\': \\'/9DBu3r5O4fBosSS4FnSzFCVpm0O.jpg\\'}, {\\'cast_id\\': 5, \\'character\\': \\'Marvin King\\', \\'credit_id\\': \\'52fe44779251416c91011abd\\', \\'gender\\': 2, \\'id\\': 66804, \\'name\\': \\'Gregory Hines\\', \\'order\\': 4, \\'profile_path\\': \\'/rvvQWFQGeGR14WFVNe0Qg1J7uVY.jpg\\'}, {\\'cast_id\\': 6, \\'character\\': \\'Kenneth Dawkins\\', \\'credit_id\\': \\'52fe44779251416c91011ac1\\', \\'gender\\': 2, \\'id\\': 352, \\'name\\': \\'Dennis Haysbert\\', \\'order\\': 5, \\'profile_path\\': \\'/mn5Nc5Q31GslpVVWs8p41W4TBma.jpg\\'}, {\\'cast_id\\': 8, \\'character\\': \\'John Harris, Sr.\\', \\'credit_id\\': \\'52fe44779251416c91011ac5\\', \\'gender\\': 2, \\'id\\': 87118, \\'name\\': \\'Michael Beach\\', \\'order\\': 6, \\'profile_path\\': \\'/lOlWhURNKyZHn71dvq7qC7fiwN6.jpg\\'}, {\\'cast_id\\': 10, \\'character\\': \\'Troy\\', \\'credit_id\\': \\'52fe44779251416c91011acf\\', \\'gender\\': 2, \\'id\\': 34, \\'name\\': \\'Mykelti Williamson\\', \\'order\\': 7, \\'profile_path\\': \\'/8TTxzpuvvpw2tB8xZBCDslYupNU.jpg\\'}, {\\'cast_id\\': 20, \\'character\\': \\'Joseph\\', \\'credit_id\\': \\'56d1b15fc3a3681e4a008b6b\\', \\'gender\\': 2, \\'id\\': 1276777, \\'name\\': \\'Lamont Johnson\\', \\'order\\': 8, \\'profile_path\\': \\'/wfZzRPJBdsx62GbkUimc1PShxyC.jpg\\'}, {\\'cast_id\\': 21, \\'character\\': \\'James Wheeler\\', \\'credit_id\\': \\'56f8a929c3a36816e80084f3\\', \\'gender\\': 2, \\'id\\': 10814, \\'name\\': \\'Wesley Snipes\\', \\'order\\': 9, \\'profile_path\\': \\'/hQ6EBa6vgu7HoZpzms8Y10VL5Iw.jpg\\'}]', \"[{'cast_id': 1, 'character': 'George Banks', 'credit_id': '52fe44959251416c75039eb9', 'gender': 2, 'id': 67773, 'name': 'Steve Martin', 'order': 0, 'profile_path': '/rI2EMvkfKKPKa5z0nM2pFVBtUyO.jpg'}, {'cast_id': 2, 'character': 'Nina Banks', 'credit_id': '52fe44959251416c75039ebd', 'gender': 1, 'id': 3092, 'name': 'Diane Keaton', 'order': 1, 'profile_path': '/fzgUMnbOkxC6E3EFcYHWHFaiKyp.jpg'}, {'cast_id': 3, 'character': 'Franck Eggelhoffer', 'credit_id': '52fe44959251416c75039ec1', 'gender': 2, 'id': 519, 'name': 'Martin Short', 'order': 2, 'profile_path': '/oZQorXBjTxrdkTJFpoDwOcQ91ji.jpg'}, {'cast_id': 4, 'character': 'Annie Banks-MacKenzie', 'credit_id': '52fe44959251416c75039ec5', 'gender': 1, 'id': 70696, 'name': 'Kimberly Williams-Paisley', 'order': 3, 'profile_path': '/nVp4F4VFqVvjh6huOULUQoiAguY.jpg'}, {'cast_id': 13, 'character': 'Bryan MacKenzie', 'credit_id': '52fe44959251416c75039ef3', 'gender': 2, 'id': 59222, 'name': 'George Newbern', 'order': 4, 'profile_path': '/48Ouqe1g8QrZ6qjvap5NvhfKuly.jpg'}, {'cast_id': 14, 'character': 'Matty Banks', 'credit_id': '52fe44959251416c75039ef7', 'gender': 0, 'id': 18793, 'name': 'Kieran Culkin', 'order': 5, 'profile_path': '/swcqQCMREeGCk6FAxIfczGpFBys.jpg'}, {'cast_id': 15, 'character': 'Howard Weinstein', 'credit_id': '52fe44959251416c75039efb', 'gender': 2, 'id': 14592, 'name': 'BD Wong', 'order': 6, 'profile_path': '/o8JUV37KWNorHOabp3zyD756oE3.jpg'}, {'cast_id': 16, 'character': 'John MacKenzie', 'credit_id': '52fe44959251416c75039eff', 'gender': 2, 'id': 20906, 'name': 'Peter Michael Goetz', 'order': 7, 'profile_path': '/a2hLcCidETgwlVyQnYy4kXVKUcn.jpg'}, {'cast_id': 17, 'character': 'Joanna MacKenzie', 'credit_id': '52fe44959251416c75039f03', 'gender': 1, 'id': 54348, 'name': 'Kate McGregor-Stewart', 'order': 8, 'profile_path': '/vsvdAmMZgX85AvnVFd4jigOUipZ.jpg'}, {'cast_id': 18, 'character': 'Dr. Megan Eisenberg', 'credit_id': '52fe44959251416c75039f07', 'gender': 1, 'id': 209, 'name': 'Jane Adams', 'order': 9, 'profile_path': '/HbQfL01xmV1psnh0WvldIBzDg3.jpg'}, {'cast_id': 19, 'character': 'Mr. Habib', 'credit_id': '52fe44959251416c75039f0b', 'gender': 2, 'id': 26510, 'name': 'Eugene Levy', 'order': 10, 'profile_path': '/69IBiDjU1gSqtrcGOA7PA7aEYsc.jpg'}, {'cast_id': 20, 'character': 'Wife Mrs. Habib', 'credit_id': '57ffa654c3a3681552000277', 'gender': 1, 'id': 24358, 'name': 'Lori Alan', 'order': 11, 'profile_path': '/mNfJWzuaKgkIaK7CuirXOMosd2h.jpg'}]\", '[{\\'cast_id\\': 25, \\'character\\': \\'Lt. Vincent Hanna\\', \\'credit_id\\': \\'52fe4292c3a36847f80291f5\\', \\'gender\\': 2, \\'id\\': 1158, \\'name\\': \\'Al Pacino\\', \\'order\\': 0, \\'profile_path\\': \\'/ks7Ba8x9fJUlP9decBr6Dh5mThX.jpg\\'}, {\\'cast_id\\': 26, \\'character\\': \\'Neil McCauley\\', \\'credit_id\\': \\'52fe4292c3a36847f80291f9\\', \\'gender\\': 2, \\'id\\': 380, \\'name\\': \\'Robert De Niro\\', \\'order\\': 1, \\'profile_path\\': \\'/lvTSwUcvJRLAJ2FB5qFaukel516.jpg\\'}, {\\'cast_id\\': 27, \\'character\\': \\'Chris Shiherlis\\', \\'credit_id\\': \\'52fe4292c3a36847f80291fd\\', \\'gender\\': 2, \\'id\\': 5576, \\'name\\': \\'Val Kilmer\\', \\'order\\': 2, \\'profile_path\\': \\'/AlhPeiH8R4reMNGNQ9ag1FPbuW9.jpg\\'}, {\\'cast_id\\': 28, \\'character\\': \\'Nate\\', \\'credit_id\\': \\'52fe4292c3a36847f8029201\\', \\'gender\\': 2, \\'id\\': 10127, \\'name\\': \\'Jon Voight\\', \\'order\\': 3, \\'profile_path\\': \\'/c7BvyqlvqDkfkFqSBUCiR21fvTh.jpg\\'}, {\\'cast_id\\': 29, \\'character\\': \\'Michael Cheritto\\', \\'credit_id\\': \\'52fe4292c3a36847f8029205\\', \\'gender\\': 2, \\'id\\': 3197, \\'name\\': \\'Tom Sizemore\\', \\'order\\': 4, \\'profile_path\\': \\'/soINOuacuiThRb2LyPD4tTWve7C.jpg\\'}, {\\'cast_id\\': 30, \\'character\\': \\'Justine Hanna\\', \\'credit_id\\': \\'52fe4292c3a36847f8029209\\', \\'gender\\': 1, \\'id\\': 6200, \\'name\\': \\'Diane Venora\\', \\'order\\': 5, \\'profile_path\\': \\'/3k7w5Y7gTAxN1JML7jhN8F8rVrS.jpg\\'}, {\\'cast_id\\': 31, \\'character\\': \\'Eady\\', \\'credit_id\\': \\'52fe4292c3a36847f802920d\\', \\'gender\\': 1, \\'id\\': 15851, \\'name\\': \\'Amy Brenneman\\', \\'order\\': 6, \\'profile_path\\': \\'/xC408loYq7tQlkpS5YH68SoaDND.jpg\\'}, {\\'cast_id\\': 32, \\'character\\': \\'Charlene Shiherlis\\', \\'credit_id\\': \\'52fe4292c3a36847f8029211\\', \\'gender\\': 1, \\'id\\': 15852, \\'name\\': \\'Ashley Judd\\', \\'order\\': 7, \\'profile_path\\': \\'/3bgmRDt02iGFVjhqCqstVyEeiwG.jpg\\'}, {\\'cast_id\\': 33, \\'character\\': \\'Sergeant Drucker\\', \\'credit_id\\': \\'52fe4292c3a36847f8029215\\', \\'gender\\': 2, \\'id\\': 34, \\'name\\': \\'Mykelti Williamson\\', \\'order\\': 8, \\'profile_path\\': \\'/8TTxzpuvvpw2tB8xZBCDslYupNU.jpg\\'}, {\\'cast_id\\': 38, \\'character\\': \\'Lauren Gustafson\\', \\'credit_id\\': \\'52fe4292c3a36847f8029229\\', \\'gender\\': 1, \\'id\\': 524, \\'name\\': \\'Natalie Portman\\', \\'order\\': 9, \\'profile_path\\': \\'/1oEP6OyYZgyLubgJXifx2GO78c7.jpg\\'}, {\\'cast_id\\': 35, \\'character\\': \\'Bosko\\', \\'credit_id\\': \\'52fe4292c3a36847f802921d\\', \\'gender\\': 2, \\'id\\': 15854, \\'name\\': \\'Ted Levine\\', \\'order\\': 10, \\'profile_path\\': \\'/7O3vgqgicfNeGr3leC0qB074fjX.jpg\\'}, {\\'cast_id\\': 39, \\'character\\': \\'Kelso\\', \\'credit_id\\': \\'52fe4292c3a36847f802922d\\', \\'gender\\': 2, \\'id\\': 119232, \\'name\\': \\'Tom Noonan\\', \\'order\\': 11, \\'profile_path\\': \\'/cpINV4Q8IeVgSLyKz9ldzzAGr5n.jpg\\'}, {\\'cast_id\\': 41, \\'character\\': \\'Richard Torena\\', \\'credit_id\\': \\'52fe4292c3a36847f8029237\\', \\'gender\\': 2, \\'id\\': 31004, \\'name\\': \\'Tone Loc\\', \\'order\\': 12, \\'profile_path\\': \\'/o940ZhEYQYrOJdhRnmPrYoc9iOq.jpg\\'}, {\\'cast_id\\': 42, \\'character\\': \\'Alan Marciano\\', \\'credit_id\\': \\'52fe4292c3a36847f802923b\\', \\'gender\\': 2, \\'id\\': 5587, \\'name\\': \\'Hank Azaria\\', \\'order\\': 13, \\'profile_path\\': \\'/3vIdbP73nKnKpMAcgGWoALPF2JO.jpg\\'}, {\\'cast_id\\': 34, \\'character\\': \\'Detective Casals\\', \\'credit_id\\': \\'52fe4292c3a36847f8029219\\', \\'gender\\': 2, \\'id\\': 15853, \\'name\\': \\'Wes Studi\\', \\'order\\': 14, \\'profile_path\\': \\'/2b1hfAOoVjU7HoSbyHzGjl8DWs1.jpg\\'}, {\\'cast_id\\': 36, \\'character\\': \\'Donald Breedan\\', \\'credit_id\\': \\'52fe4292c3a36847f8029221\\', \\'gender\\': 2, \\'id\\': 352, \\'name\\': \\'Dennis Haysbert\\', \\'order\\': 15, \\'profile_path\\': \\'/mn5Nc5Q31GslpVVWs8p41W4TBma.jpg\\'}, {\\'cast_id\\': 46, \\'character\\': \\'Trejo\\', \\'credit_id\\': \\'52fe4292c3a36847f802924b\\', \\'gender\\': 2, \\'id\\': 11160, \\'name\\': \\'Danny Trejo\\', \\'order\\': 16, \\'profile_path\\': \\'/7b8cDfrmeheQbgryfCm7MeJOxxM.jpg\\'}, {\\'cast_id\\': 47, \\'character\\': \\'Hugh Benny\\', \\'credit_id\\': \\'52fe4292c3a36847f802924f\\', \\'gender\\': 2, \\'id\\': 9290, \\'name\\': \\'Henry Rollins\\', \\'order\\': 17, \\'profile_path\\': \\'/2E0cZdoJsdt1Lv4waG3s6fsfJeU.jpg\\'}, {\\'cast_id\\': 37, \\'character\\': \\'Roger Van Zant\\', \\'credit_id\\': \\'52fe4292c3a36847f8029225\\', \\'gender\\': 2, \\'id\\': 886, \\'name\\': \\'William Fichtner\\', \\'order\\': 18, \\'profile_path\\': \\'/apj1bgzZI2efSdJolfp6KjhG8CF.jpg\\'}, {\\'cast_id\\': 43, \\'character\\': \\'Waingro\\', \\'credit_id\\': \\'52fe4292c3a36847f802923f\\', \\'gender\\': 2, \\'id\\': 34839, \\'name\\': \\'Kevin Gage\\', \\'order\\': 19, \\'profile_path\\': \\'/egIApa0PPsHkAwrGnOAUtdqO6CQ.jpg\\'}, {\\'cast_id\\': 44, \\'character\\': \\'Elaine Cheritto\\', \\'credit_id\\': \\'52fe4292c3a36847f8029243\\', \\'gender\\': 1, \\'id\\': 4158, \\'name\\': \\'Susan Traylor\\', \\'order\\': 20, \\'profile_path\\': \\'/A3ZpoAui1ure4Nx2b83wUMI8lvv.jpg\\'}, {\\'cast_id\\': 48, \\'character\\': \\'Schwartz\\', \\'credit_id\\': \\'52fe4292c3a36847f8029253\\', \\'gender\\': 2, \\'id\\': 86602, \\'name\\': \\'Jerry Trimble\\', \\'order\\': 21, \\'profile_path\\': \\'/oDK7NCnz2z2BFV8YquEpj8PBwed.jpg\\'}, {\\'cast_id\\': 50, \\'character\\': \\'Albert Torena\\', \\'credit_id\\': \\'52fe4292c3a36847f802925b\\', \\'gender\\': 2, \\'id\\': 158452, \\'name\\': \\'Ricky Harris\\', \\'order\\': 22, \\'profile_path\\': \\'/eJEzFSHTjGdUz1JDThdTR5C1Jrd.jpg\\'}, {\\'cast_id\\': 54, \\'character\\': \\'Dr. Bob\\', \\'credit_id\\': \\'52fe4292c3a36847f802926b\\', \\'gender\\': 2, \\'id\\': 12799, \\'name\\': \\'Jeremy Piven\\', \\'order\\': 23, \\'profile_path\\': \\'/qtho4ZUcValnVvscTGgyWfUr4VP.jpg\\'}, {\\'cast_id\\': 55, \\'character\\': \\'Ralph\\', \\'credit_id\\': \\'52fe4292c3a36847f802926f\\', \\'gender\\': 2, \\'id\\': 3982, \\'name\\': \\'Xander Berkeley\\', \\'order\\': 24, \\'profile_path\\': \\'/vlZ9FDMk2Xd1WHixPKxnheZoXgR.jpg\\'}, {\\'cast_id\\': 51, \\'character\\': \\'Anna Trejo\\', \\'credit_id\\': \\'52fe4292c3a36847f802925f\\', \\'gender\\': 1, \\'id\\': 181343, \\'name\\': \\'Begonya Plaza\\', \\'order\\': 25, \\'profile_path\\': \\'/2TtFPBtz0Bd3CXAc4W5K6zF66RY.jpg\\'}, {\\'cast_id\\': 56, \\'character\\': \\'Armoured Guard\\', \\'credit_id\\': \\'52fe4292c3a36847f8029273\\', \\'gender\\': 2, \\'id\\': 81687, \\'name\\': \\'Rick Avery\\', \\'order\\': 26, \\'profile_path\\': \\'/rXar2OrwkorJyQ9dRGf18zUEByW.jpg\\'}, {\\'cast_id\\': 52, \\'character\\': \"Hooker\\'s Mother\", \\'credit_id\\': \\'52fe4292c3a36847f8029263\\', \\'gender\\': 0, \\'id\\': 91756, \\'name\\': \\'Hazelle Goodman\\', \\'order\\': 27, \\'profile_path\\': \\'/kTa2cn8cuJdxKJBqFnYHibIknI9.jpg\\'}, {\\'cast_id\\': 53, \\'character\\': \\'Timmons\\', \\'credit_id\\': \\'52fe4292c3a36847f8029267\\', \\'gender\\': 2, \\'id\\': 160970, \\'name\\': \\'Ray Buktenica\\', \\'order\\': 28, \\'profile_path\\': \\'/aMBLygqfsJv3QrBCvvZ7wMc3Ejq.jpg\\'}, {\\'cast_id\\': 59, \\'character\\': \\'Shooter at Drive-in\\', \\'credit_id\\': \\'52fe4292c3a36847f802927f\\', \\'gender\\': 0, \\'id\\': 175600, \\'name\\': \\'Max Daniels\\', \\'order\\': 29, \\'profile_path\\': \\'/5zjSVtxyDExuf1913re1lG3k0Q3.jpg\\'}, {\\'cast_id\\': 60, \\'character\\': \\'Driver at Drive-in\\', \\'credit_id\\': \\'52fe4292c3a36847f8029283\\', \\'gender\\': 0, \\'id\\': 12879, \\'name\\': \\'Vince Deadrick Jr.\\', \\'order\\': 30, \\'profile_path\\': \\'/z4HIKOQGQj8QXozFpQhj43xlmHm.jpg\\'}, {\\'cast_id\\': 96, \\'character\\': \\'Officer Bruce\\', \\'credit_id\\': \\'56be773e9251417359005063\\', \\'gender\\': 2, \\'id\\': 9258, \\'name\\': \\'Steven Ford\\', \\'order\\': 31, \\'profile_path\\': \\'/iw8CUyekmYkGwmg0bp7foY4KvrH.jpg\\'}, {\\'cast_id\\': 97, \\'character\\': \\'Claudia\\', \\'credit_id\\': \\'56be7769c3a36817f200506f\\', \\'gender\\': 1, \\'id\\': 167501, \\'name\\': \\'Farrah Forke\\', \\'order\\': 32, \\'profile_path\\': \\'/gmKm7TiZduyyaLlNgWnQEZHTc5Q.jpg\\'}, {\\'cast_id\\': 99, \\'character\\': \"Bosko\\'s Date\", \\'credit_id\\': \\'56be794dc3a36818020054bd\\', \\'gender\\': 1, \\'id\\': 95145, \\'name\\': \\'Patricia Healy\\', \\'order\\': 33, \\'profile_path\\': \\'/RsHWe8vW3Hzbp8FeeEVqOD6Kux.jpg\\'}, {\\'cast_id\\': 100, \\'character\\': \\'Sergeant Heinz\\', \\'credit_id\\': \\'56be79839251417347004f69\\', \\'gender\\': 2, \\'id\\': 58535, \\'name\\': \\'Paul Herman\\', \\'order\\': 34, \\'profile_path\\': \\'/vaK8wxkMeKJdZEdGUufyV0Ma24M.jpg\\'}, {\\'cast_id\\': 101, \\'character\\': \\'Rachel\\', \\'credit_id\\': \\'56be79cec3a36817f200511b\\', \\'gender\\': 1, \\'id\\': 161939, \\'name\\': \\'Cindy Katz\\', \\'order\\': 35, \\'profile_path\\': \\'/eENk49BVUS9grR2ffwEsYh9Wl69.jpg\\'}, {\\'cast_id\\': 102, \\'character\\': \\'Captain Jackson\\', \\'credit_id\\': \\'56be79fa9251417344004ea0\\', \\'gender\\': 0, \\'id\\': 6580, \\'name\\': \\'Brian Libby\\', \\'order\\': 36, \\'profile_path\\': \\'/lvY7hpUtU12BUD8mwQqFymnsxFI.jpg\\'}, {\\'cast_id\\': 104, \\'character\\': \\'Harry Dieter\\', \\'credit_id\\': \\'56be7a8ac3a36817f200516d\\', \\'gender\\': 2, \\'id\\': 95796, \\'name\\': \\'Dan Martin\\', \\'order\\': 37, \\'profile_path\\': \\'/u24mFuqwEE7kguXK32SS1UzIQzJ.jpg\\'}, {\\'cast_id\\': 109, \\'character\\': \\'Bank Guard\\', \\'credit_id\\': \\'56be7bafc3a36817ef005294\\', \\'gender\\': 0, \\'id\\': 166543, \\'name\\': \\'Mario Roberts\\', \\'order\\': 38, \\'profile_path\\': \\'/TVlt1SNz2zoF2hTqY4HM3MnWHz.jpg\\'}, {\\'cast_id\\': 110, \\'character\\': \\'Armoured Truck Driver\\', \\'credit_id\\': \\'56be7c61c3a36817ef0052cf\\', \\'gender\\': 0, \\'id\\': 43010, \\'name\\': \\'Thomas Rosales, Jr.\\', \\'order\\': 39, \\'profile_path\\': \\'/ffDrcpKGvjPgpcjd0t9T6EtQ2hz.jpg\\'}, {\\'cast_id\\': 112, \\'character\\': \\'Hostage Girl\\', \\'credit_id\\': \\'56be7db1925141735600517b\\', \\'gender\\': 1, \\'id\\': 37252, \\'name\\': \\'Yvonne Zima\\', \\'order\\': 40, \\'profile_path\\': \\'/dWA4Hsq8kkFXlmWERCoAh1OqK5M.jpg\\'}, {\\'cast_id\\': 116, \\'character\\': \\'1st SIS Detective in the hallway (uncredited)\\', \\'credit_id\\': \\'56be7ed4c3a36817f9005000\\', \\'gender\\': 0, \\'id\\': 1457709, \\'name\\': \\'Mick Gould\\', \\'order\\': 41, \\'profile_path\\': \\'/6BcVGV4fUITs2jaThbOq4GHlAFU.jpg\\'}, {\\'cast_id\\': 115, \\'character\\': \\'Solenko, Restaurant Manager (uncredited)\\', \\'credit_id\\': \\'56be7e6e92514173590052b3\\', \\'gender\\': 2, \\'id\\': 4971, \\'name\\': \\'Bud Cort\\', \\'order\\': 42, \\'profile_path\\': \\'/mwCVkL9BG1ZCF9icbcKjE8TCS7H.jpg\\'}, {\\'cast_id\\': 123, \\'character\\': \\'Castilian Woman (uncredited)\\', \\'credit_id\\': \\'56be80ed925141735900535e\\', \\'gender\\': 0, \\'id\\': 941147, \\'name\\': \\'Viviane Vives\\', \\'order\\': 43, \\'profile_path\\': \\'/rGHOmMfoykUQJTnryRAl2t4XXG6.jpg\\'}, {\\'cast_id\\': 45, \\'character\\': \\'Lillian\\', \\'credit_id\\': \\'52fe4292c3a36847f8029247\\', \\'gender\\': 1, \\'id\\': 17358, \\'name\\': \\'Kim Staunton\\', \\'order\\': 44, \\'profile_path\\': \\'/9CJmJ5l7DZAtZvdbltalwoV2NfH.jpg\\'}, {\\'cast_id\\': 49, \\'character\\': \\'Construction Clerk\\', \\'credit_id\\': \\'52fe4292c3a36847f8029257\\', \\'gender\\': 2, \\'id\\': 4790, \\'name\\': \\'Martin Ferrero\\', \\'order\\': 45, \\'profile_path\\': \\'/gTIclBDE9q6TFmOx7JIn32zTaVk.jpg\\'}, {\\'cast_id\\': 57, \\'character\\': \"Children\\'s Hospital Doctor\", \\'credit_id\\': \\'52fe4292c3a36847f8029277\\', \\'gender\\': 0, \\'id\\': 1090464, \\'name\\': \\'Brad Baldridge\\', \\'order\\': 46, \\'profile_path\\': None}, {\\'cast_id\\': 58, \\'character\\': \\'Dominick\\', \\'credit_id\\': \\'52fe4292c3a36847f802927b\\', \\'gender\\': 0, \\'id\\': 1090465, \\'name\\': \\'Andrew Camuccio\\', \\'order\\': 47, \\'profile_path\\': None}, {\\'cast_id\\': 94, \\'character\\': \\'Bartender\\', \\'credit_id\\': \\'56be231dc3a3681806004214\\', \\'gender\\': 0, \\'id\\': 1576419, \\'name\\': \\'Kenny Endoso\\', \\'order\\': 48, \\'profile_path\\': None}, {\\'cast_id\\': 95, \\'character\\': \"Casals\\' Date\", \\'credit_id\\': \\'56be7708c3a36817f200504f\\', \\'gender\\': 1, \\'id\\': 106714, \\'name\\': \\'Kimberly Flynn\\', \\'order\\': 49, \\'profile_path\\': None}, {\\'cast_id\\': 98, \\'character\\': \\'Marcia Drucker\\', \\'credit_id\\': \\'56be77fcc3a36817ef005164\\', \\'gender\\': 0, \\'id\\': 116153, \\'name\\': \\'Niki Harris\\', \\'order\\': 50, \\'profile_path\\': None}, {\\'cast_id\\': 103, \\'character\\': \\'Armoured Guard\\', \\'credit_id\\': \\'56be7a30c3a36817f2005154\\', \\'gender\\': 0, \\'id\\': 237923, \\'name\\': \\'Bill McIntosh\\', \\'order\\': 51, \\'profile_path\\': None}, {\\'cast_id\\': 105, \\'character\\': \\'Basketball Player\\', \\'credit_id\\': \\'56be7aabc3a36817f40053ec\\', \\'gender\\': 0, \\'id\\': 4047, \\'name\\': \\'Rick Marzan\\', \\'order\\': 52, \\'profile_path\\': None}, {\\'cast_id\\': 106, \\'character\\': \"Children\\'s Hospital Nurse\", \\'credit_id\\': \\'56be7aec9251417344004ee2\\', \\'gender\\': 0, \\'id\\': 57347, \\'name\\': \\'Terry Miller\\', \\'order\\': 53, \\'profile_path\\': None}, {\\'cast_id\\': 107, \\'character\\': \\'Detective\\', \\'credit_id\\': \\'56be7b44c3a368180200556a\\', \\'gender\\': 0, \\'id\\': 1576553, \\'name\\': \"Daniel O\\'Haco\", \\'order\\': 54, \\'profile_path\\': None}, {\\'cast_id\\': 111, \\'character\\': \\'Prostitute\\', \\'credit_id\\': \\'56be7d28c3a368180200560d\\', \\'gender\\': 1, \\'id\\': 218094, \\'name\\': \\'Kai Soremekun\\', \\'order\\': 55, \\'profile_path\\': None}, {\\'cast_id\\': 113, \\'character\\': \\'Bar Couple (uncredited)\\', \\'credit_id\\': \\'56be7e1c9251411d27000305\\', \\'gender\\': 0, \\'id\\': 1491009, \\'name\\': \\'Peter Blackwell\\', \\'order\\': 56, \\'profile_path\\': None}, {\\'cast_id\\': 114, \\'character\\': \\'Restaurant Patron (uncredited)\\', \\'credit_id\\': \\'56be7e45c3a36817ef005374\\', \\'gender\\': 0, \\'id\\': 1137847, \\'name\\': \\'Trevor Coppola\\', \\'order\\': 57, \\'profile_path\\': None}, {\\'cast_id\\': 118, \\'character\\': \\'Police Woman (uncredited)\\', \\'credit_id\\': \\'56be7f699251417344005036\\', \\'gender\\': 1, \\'id\\': 1504112, \\'name\\': \\'Mary Kircher\\', \\'order\\': 58, \\'profile_path\\': None}, {\\'cast_id\\': 119, \\'character\\': \\'Grocery Store Employee (uncredited)\\', \\'credit_id\\': \\'56be7fbd925141734d005299\\', \\'gender\\': 0, \\'id\\': 1504568, \\'name\\': \\'Darin Mangan\\', \\'order\\': 59, \\'profile_path\\': None}, {\\'cast_id\\': 120, \\'character\\': \\'Cusamano (uncredited)\\', \\'credit_id\\': \\'56be8014c3a36817ef00540a\\', \\'gender\\': 2, \\'id\\': 20625, \\'name\\': \\'Robert Miranda\\', \\'order\\': 60, \\'profile_path\\': None}, {\\'cast_id\\': 121, \\'character\\': \\'Grocery Store Cop (uncredited)\\', \\'credit_id\\': \\'56be8053c3a36817f40055b3\\', \\'gender\\': 2, \\'id\\': 1502517, \\'name\\': \\'Manny Perry\\', \\'order\\': 61, \\'profile_path\\': None}, {\\'cast_id\\': 122, \\'character\\': \\'Waitress (uncredited)\\', \\'credit_id\\': \\'56be80a8925141734400508d\\', \\'gender\\': 1, \\'id\\': 114625, \\'name\\': \\'Iva Franks Singer\\', \\'order\\': 62, \\'profile_path\\': None}, {\\'cast_id\\': 124, \\'character\\': \\'Bank Guard (uncredited)\\', \\'credit_id\\': \\'56be8132925141735900536f\\', \\'gender\\': 0, \\'id\\': 1576562, \\'name\\': \\'Tim Werner\\', \\'order\\': 63, \\'profile_path\\': None}, {\\'cast_id\\': 133, \\'character\\': \\'Ellis (uncredited)\\', \\'credit_id\\': \\'56d48f67925141799e013151\\', \\'gender\\': 2, \\'id\\': 1584544, \\'name\\': \\'Philip Ettington\\', \\'order\\': 64, \\'profile_path\\': None}]', \"[{'cast_id': 1, 'character': 'Linus Larrabee', 'credit_id': '52fe44959251416c75039d97', 'gender': 2, 'id': 3, 'name': 'Harrison Ford', 'order': 0, 'profile_path': '/7CcoVFTogQgex2kJkXKMe8qHZrC.jpg'}, {'cast_id': 2, 'character': 'Sabrina Fairchild', 'credit_id': '52fe44959251416c75039d9b', 'gender': 1, 'id': 15887, 'name': 'Julia Ormond', 'order': 1, 'profile_path': '/GYnXYOvBhzPfNmTpeIiO0XRTUu.jpg'}, {'cast_id': 3, 'character': 'David Larrabee', 'credit_id': '52fe44959251416c75039d9f', 'gender': 2, 'id': 17141, 'name': 'Greg Kinnear', 'order': 2, 'profile_path': '/agOTbOC76I6rC7TPuCTquvngXRu.jpg'}, {'cast_id': 4, 'character': 'Mrs. Ingrid Tyson', 'credit_id': '52fe44959251416c75039da3', 'gender': 1, 'id': 4301, 'name': 'Angie Dickinson', 'order': 3, 'profile_path': '/tseegCkV3HvsXKIbcFuXHdzG4o2.jpg'}, {'cast_id': 11, 'character': 'Maude Larrabee', 'credit_id': '5409c32bc3a36812cd001c94', 'gender': 1, 'id': 12957, 'name': 'Nancy Marchand', 'order': 4, 'profile_path': '/d9DASq3XmUsyfzSrATbAAOY7yn1.jpg'}, {'cast_id': 12, 'character': 'Fairchild', 'credit_id': '5409c337c3a36812c3001b79', 'gender': 2, 'id': 8937, 'name': 'John Wood', 'order': 5, 'profile_path': '/bWt4JT9eGxFtu3q0iCAKFtNv5XK.jpg'}, {'cast_id': 13, 'character': 'Patrick Tyson', 'credit_id': '5409c346c3a368730400154a', 'gender': 2, 'id': 16554, 'name': 'Richard Crenna', 'order': 6, 'profile_path': '/nWtMvMnLqGjlIGWNXjshgxsHDih.jpg'}, {'cast_id': 14, 'character': 'Elizabeth Tyson', 'credit_id': '5409c356c3a36812bf001beb', 'gender': 1, 'id': 34485, 'name': 'Lauren Holly', 'order': 7, 'profile_path': '/bWQsB6ueNNkygxCiIxyKznQAiOK.jpg'}, {'cast_id': 15, 'character': 'Mack', 'credit_id': '5409c35fc3a36812ca001ea4', 'gender': 1, 'id': 13314, 'name': 'Dana Ivey', 'order': 8, 'profile_path': '/12mxrB5iT1TAwCzIZvmcFGLBQ52.jpg'}, {'cast_id': 16, 'character': 'Irene', 'credit_id': '5409c36ec3a36812b7001a9c', 'gender': 1, 'id': 20234, 'name': 'Fanny Ardant', 'order': 9, 'profile_path': '/ealXbfCd6oCubRDA3PMgKlq6xq.jpg'}, {'cast_id': 17, 'character': 'Louis', 'credit_id': '5409c377c3a36812cd001c9b', 'gender': 0, 'id': 73827, 'name': 'Patrick Bruel', 'order': 10, 'profile_path': '/1s6eR0MEbxulZPUteVnHxpwXF4F.jpg'}, {'cast_id': 56, 'character': 'Scott', 'credit_id': '57528cde925141187e001112', 'gender': 2, 'id': 13242, 'name': 'Paul Giamatti', 'order': 11, 'profile_path': '/rX4LRmkYshMRfQ6lVbeZVAfqVKI.jpg'}, {'cast_id': 57, 'character': 'Rosa', 'credit_id': '596e0cc7c3a3687f7e00d1dc', 'gender': 1, 'id': 1163, 'name': 'Miriam Colón', 'order': 12, 'profile_path': '/vNKUyJKVIvAmXT6pv0vWrZXazlS.jpg'}, {'cast_id': 58, 'character': 'Joanna', 'credit_id': '596e0ce2925141607b003c70', 'gender': 1, 'id': 138242, 'name': 'Elizabeth Franz', 'order': 13, 'profile_path': '/7VqGTZ6wJtkUQYV2TdVxUxoEq49.jpg'}, {'cast_id': 59, 'character': 'Martine', 'credit_id': '596e0d0e9251412a73000fce', 'gender': 1, 'id': 62531, 'name': 'Valérie Lemercier', 'order': 14, 'profile_path': '/hPUIFiIfMaQvpNmPvAVDxOQuZBS.jpg'}, {'cast_id': 60, 'character': 'Linda', 'credit_id': '596e0d2f925141607b003cd2', 'gender': 1, 'id': 59206, 'name': 'Becky Ann Baker', 'order': 15, 'profile_path': '/9gvQnoCjPirtC656XmKqex3tLAn.jpg'}, {'cast_id': 61, 'character': 'Ron', 'credit_id': '596e0d51c3a3686b5a003d7d', 'gender': 2, 'id': 163775, 'name': 'John C. Vennema', 'order': 16, 'profile_path': None}, {'cast_id': 62, 'character': 'Nurse', 'credit_id': '596e0d5fc3a3687fae00d5f3', 'gender': 1, 'id': 452, 'name': 'Margo Martindale', 'order': 17, 'profile_path': '/4YmmVgOGKsDsGGLunCHmigj2TbV.jpg'}, {'cast_id': 63, 'character': 'Carol', 'credit_id': '596e0d759251412d3d00d1f7', 'gender': 1, 'id': 52475, 'name': 'J. Smith-Cameron', 'order': 18, 'profile_path': '/nlqKCF29YVHmn9w2IX9pMa5nMqe.jpg'}, {'cast_id': 64, 'character': 'Ticket Taker', 'credit_id': '596e0d9b9251412d7b00cd5e', 'gender': 1, 'id': 1853632, 'name': 'Christine Luneau-Lipton', 'order': 19, 'profile_path': None}, {'cast_id': 65, 'character': 'Singer at Larrabee Party', 'credit_id': '596e0dd6c3a3687feb00ce62', 'gender': 2, 'id': 1853633, 'name': 'Michael Dees', 'order': 20, 'profile_path': None}, {'cast_id': 66, 'character': 'Butler', 'credit_id': '596e0e2bc3a3687f7e00d2f7', 'gender': 0, 'id': 153226, 'name': 'Denis Holmes', 'order': 21, 'profile_path': None}, {'cast_id': 67, 'character': 'Red Head', 'credit_id': '596e0e589251412aa60011a1', 'gender': 1, 'id': 1853634, 'name': 'Jo-Jo Lowe', 'order': 22, 'profile_path': None}, {'cast_id': 68, 'character': 'Bartender', 'credit_id': '596e0e929251412a7300113d', 'gender': 0, 'id': 28029, 'name': 'Ira Wheeler', 'order': 23, 'profile_path': '/g48A2anrOKA1b7idTAG83yRkJYB.jpg'}, {'cast_id': 69, 'character': 'Kelly', 'credit_id': '596e0eb29251412d4c00c8e3', 'gender': 1, 'id': 1853638, 'name': 'Philippa Cooper', 'order': 24, 'profile_path': None}, {'cast_id': 70, 'character': 'India', 'credit_id': '596e0eef925141607b003e6e', 'gender': 1, 'id': 97364, 'name': 'Ayako Kawahara', 'order': 25, 'profile_path': None}, {'cast_id': 71, 'character': 'Make-Up Assistant', 'credit_id': '596e0f32c3a368015400c742', 'gender': 0, 'id': 1317065, 'name': 'François Genty', 'order': 26, 'profile_path': None}, {'cast_id': 72, 'character': 'Assistant', 'credit_id': '596e0f409251412a730011d7', 'gender': 2, 'id': 6554, 'name': 'Guillaume Gallienne', 'order': 27, 'profile_path': '/nponKvpwED1CivIY3f2NlQGLWE9.jpg'}, {'cast_id': 73, 'character': 'Model', 'credit_id': '596e0f59c3a3686b17004455', 'gender': 1, 'id': 37918, 'name': 'Inés Sastre', 'order': 28, 'profile_path': '/gaYLEBCVdOaCVT1nuEXB0M5QFa6.jpg'}, {'cast_id': 74, 'character': 'Model', 'credit_id': '596e0f92c3a3687fae00d82f', 'gender': 0, 'id': 1217813, 'name': 'Phina Oruche', 'order': 29, 'profile_path': None}, {'cast_id': 75, 'character': 'Model', 'credit_id': '596e0fb6c3a368015400c7c0', 'gender': 1, 'id': 1853644, 'name': 'Andrea Behalikova', 'order': 30, 'profile_path': None}, {'cast_id': 76, 'character': 'Model', 'credit_id': '596e0fe7c3a3687feb00d07c', 'gender': 1, 'id': 1115935, 'name': 'Jennifer Herrera', 'order': 31, 'profile_path': None}, {'cast_id': 77, 'character': 'Model', 'credit_id': '596e101fc3a3686b1700455e', 'gender': 1, 'id': 1853645, 'name': 'Kristina Kumlin', 'order': 32, 'profile_path': None}, {'cast_id': 78, 'character': 'Model', 'credit_id': '596e104e9251412d4c00caac', 'gender': 1, 'id': 1853646, 'name': 'Eva Linderholm', 'order': 33, 'profile_path': None}, {'cast_id': 79, 'character': 'Paris Friend', 'credit_id': '596e107dc3a3687fae00d956', 'gender': 1, 'id': 76093, 'name': 'Carmen Chaplin', 'order': 34, 'profile_path': '/dfVkdRgFyJEsBYeGllw11q5yUPZ.jpg'}, {'cast_id': 80, 'character': 'Paris Friend', 'credit_id': '596e10d2925141607b00407f', 'gender': 1, 'id': 1853647, 'name': 'Micheline Van de Velde', 'order': 35, 'profile_path': None}, {'cast_id': 81, 'character': 'Paris Friend', 'credit_id': '596e1127c3a3687f7e00d621', 'gender': 1, 'id': 1853651, 'name': 'Joanna Rhodes', 'order': 36, 'profile_path': None}, {'cast_id': 82, 'character': 'Paris Friend', 'credit_id': '596e11619251412d4100cfc6', 'gender': 2, 'id': 1853653, 'name': 'Alan Boone', 'order': 37, 'profile_path': None}, {'cast_id': 83, 'character': 'Paris Friend', 'credit_id': '596e11969251412d3d00d65d', 'gender': 0, 'id': 1460738, 'name': 'Patrick Forster-Delmas', 'order': 38, 'profile_path': None}, {'cast_id': 84, 'character': 'Paris Friend', 'credit_id': '596e11b2c3a3687f7e00d6d7', 'gender': 2, 'id': 1853654, 'name': 'Kentaro Matsuo', 'order': 39, 'profile_path': None}, {'cast_id': 85, 'character': 'Helicopter Pilot', 'credit_id': '596e1218c3a368015400ca59', 'gender': 0, 'id': 1632066, 'name': 'Peter McKernan', 'order': 40, 'profile_path': None}, {'cast_id': 86, 'character': 'Gulf Stream Pilot', 'credit_id': '596e12469251412d4100d0bf', 'gender': 2, 'id': 1853655, 'name': 'Ed Connelly', 'order': 41, 'profile_path': None}, {'cast_id': 87, 'character': 'Sheik', 'credit_id': '596e1287c3a3686b5a0042e5', 'gender': 2, 'id': 4184, 'name': 'Ronald L. Schwary', 'order': 42, 'profile_path': None}, {'cast_id': 88, 'character': 'Tyson Butler', 'credit_id': '596e12d9c3a3687fae00dc41', 'gender': 2, 'id': 1853657, 'name': 'Alvin Lum', 'order': 43, 'profile_path': None}, {'cast_id': 89, 'character': 'Mother in Hospital', 'credit_id': '596e1604c3a3687f7e00db3d', 'gender': 1, 'id': 1853658, 'name': 'Siching Song', 'order': 44, 'profile_path': None}, {'cast_id': 90, 'character': 'Father in Hospital', 'credit_id': '596e164dc3a3687fc700d13a', 'gender': 0, 'id': 1357100, 'name': 'Phil Nee', 'order': 45, 'profile_path': '/pZGJkVIw1RFmZuNiUzRQGupqMzW.jpg'}, {'cast_id': 91, 'character': 'Trainer', 'credit_id': '596e1672c3a3687feb00d6ff', 'gender': 2, 'id': 157428, 'name': 'Randy Becker', 'order': 46, 'profile_path': None}, {'cast_id': 92, 'character': 'Secretary', 'credit_id': '596e17699251412d4100d4fd', 'gender': 1, 'id': 1211979, 'name': 'Susan Browning', 'order': 47, 'profile_path': None}, {'cast_id': 93, 'character': 'Moroccan Waiter', 'credit_id': '596e17d89251412d8600d558', 'gender': 2, 'id': 1853660, 'name': 'Anthony Mondal', 'order': 48, 'profile_path': None}, {'cast_id': 94, 'character': 'Senator', 'credit_id': '596e1830c3a3686b17004d9d', 'gender': 2, 'id': 1853661, 'name': 'Peter Parks', 'order': 49, 'profile_path': None}, {'cast_id': 95, 'character': 'Japanese Businessman (uncredited)', 'credit_id': '596e18739251412d8600d5e6', 'gender': 0, 'id': 1548251, 'name': 'Woodrow Asai', 'order': 50, 'profile_path': None}, {'cast_id': 96, 'character': 'Airport Employee (uncredited)', 'credit_id': '596e188cc3a3687f7e00ddaf', 'gender': 0, 'id': 1221663, 'name': 'Eric Bruno Borgman', 'order': 51, 'profile_path': None}, {'cast_id': 97, 'character': 'Head Butler (uncredited)', 'credit_id': '596e18aac3a3687f7e00ddc1', 'gender': 0, 'id': 1811338, 'name': 'Michael Cline', 'order': 52, 'profile_path': None}, {'cast_id': 98, 'character': 'Businessman in Window (uncredited)', 'credit_id': '596e18d6c3a3686b5a0048b2', 'gender': 2, 'id': 1853663, 'name': 'Christopher Del Gaudio', 'order': 53, 'profile_path': None}, {'cast_id': 99, 'character': 'Wedding Guest (uncredited)', 'credit_id': '596e19289251412d7b00d84b', 'gender': 2, 'id': 1099770, 'name': 'Philippe Hartmann', 'order': 54, 'profile_path': '/wTuY9s0k7sULNdAFpWhe5U0knI0.jpg'}, {'cast_id': 100, 'character': 'Pizza Patron (uncredited)', 'credit_id': '596e1948c3a3687fae00e210', 'gender': 2, 'id': 1853664, 'name': 'Jerry Quinn', 'order': 55, 'profile_path': None}, {'cast_id': 101, 'character': 'Ballroom Dancer (uncredited)', 'credit_id': '596e19a0c3a3687f7e00de8f', 'gender': 1, 'id': 1853665, 'name': 'Dori Rosenthal', 'order': 56, 'profile_path': '/aWRmTrlVgJM7lvPGYPrxQj7w4MX.jpg'}]\", \"[{'cast_id': 2, 'character': 'Tom Sawyer', 'credit_id': '52fe46bdc3a36847f810f771', 'gender': 2, 'id': 53283, 'name': 'Jonathan Taylor Thomas', 'order': 0, 'profile_path': '/1S8DpfNv6iiQRuKFPtb5u6sCQ5G.jpg'}, {'cast_id': 3, 'character': 'Huck Finn', 'credit_id': '52fe46bdc3a36847f810f775', 'gender': 2, 'id': 51214, 'name': 'Brad Renfro', 'order': 1, 'profile_path': '/t97fjAtDrBHTv9ABwwwHDzdKtpo.jpg'}, {'cast_id': 4, 'character': 'Becky Thatcher', 'credit_id': '52fe46bdc3a36847f810f779', 'gender': 1, 'id': 38581, 'name': 'Rachael Leigh Cook', 'order': 2, 'profile_path': '/cotGJui5H2Te2ThYERndc3DOVOm.jpg'}, {'cast_id': 5, 'character': 'Muff Potter', 'credit_id': '52fe46bdc3a36847f810f77d', 'gender': 2, 'id': 8316, 'name': 'Michael McShane', 'order': 3, 'profile_path': '/aCiOde1ijVveYObBCxtWWRi9UP9.jpg'}, {'cast_id': 6, 'character': 'Aunt Polly', 'credit_id': '52fe46bdc3a36847f810f781', 'gender': 1, 'id': 87007, 'name': 'Amy Wright', 'order': 4, 'profile_path': '/mEV42JRtrTTZg92GjyjRkQSXpsn.jpg'}, {'cast_id': 7, 'character': 'Injun Joe', 'credit_id': '52fe46bdc3a36847f810f785', 'gender': 2, 'id': 57448, 'name': 'Eric Schweig', 'order': 5, 'profile_path': '/9APhQ9Iw9eC3VMRYIJTOnChboDQ.jpg'}, {'cast_id': 11, 'character': 'Townsperson', 'credit_id': '581607dac3a368755700c56f', 'gender': 1, 'id': 102313, 'name': 'Tamara Mello', 'order': 6, 'profile_path': '/xYEvziWM0OpyktDS0FzbRzviSQa.jpg'}]\", \"[{'cast_id': 1, 'character': 'Darren Francis Thomas McCord', 'credit_id': '52fe44dbc3a36847f80ae0e3', 'gender': 2, 'id': 15111, 'name': 'Jean-Claude Van Damme', 'order': 0, 'profile_path': '/aqZ9RjL5j44HMlBMvTaawhHiGOH.jpg'}, {'cast_id': 2, 'character': 'Joshua Foss', 'credit_id': '52fe44dbc3a36847f80ae0e7', 'gender': 2, 'id': 6280, 'name': 'Powers Boothe', 'order': 1, 'profile_path': '/3nNL6AvMAYq0BmHKM79RnRZVq3i.jpg'}, {'cast_id': 4, 'character': 'Matthew Hallmark', 'credit_id': '52fe44dbc3a36847f80ae0eb', 'gender': 2, 'id': 8656, 'name': 'Dorian Harewood', 'order': 2, 'profile_path': '/qSHAaRlh8yjTHtYReU0CUWgSFt5.jpg'}, {'cast_id': 15, 'character': 'Vizepräsident Daniel Bender', 'credit_id': '52fe44dbc3a36847f80ae12b', 'gender': 2, 'id': 10361, 'name': 'Raymond J. Barry', 'order': 3, 'profile_path': '/k4WDNgYHOUgRaPQIsZUPUxl1lO6.jpg'}, {'cast_id': 16, 'character': 'Tyler', 'credit_id': '52fe44dbc3a36847f80ae12f', 'gender': 2, 'id': 12928, 'name': 'Ross Malinger', 'order': 4, 'profile_path': '/oeqoxZ3WgQRUE1DusC68SACHHrC.jpg'}, {'cast_id': 17, 'character': 'Emily McCord', 'credit_id': '546114d90e0a2672bc000447', 'gender': 1, 'id': 79088, 'name': 'Whittni Wright', 'order': 5, 'profile_path': None}]\", \"[{'cast_id': 1, 'character': 'James Bond', 'credit_id': '52fe426ec3a36847f801e10d', 'gender': 2, 'id': 517, 'name': 'Pierce Brosnan', 'order': 0, 'profile_path': '/1JXL0zrA26JjdoX8sqf57fJRDVM.jpg'}, {'cast_id': 2, 'character': 'Alec Trevelyan', 'credit_id': '52fe426ec3a36847f801e111', 'gender': 2, 'id': 48, 'name': 'Sean Bean', 'order': 1, 'profile_path': '/iIxP2IzvcLgr5WaTBD4UfSqaV3q.jpg'}, {'cast_id': 3, 'character': 'Natalya Fyodorovna Simonova', 'credit_id': '52fe426ec3a36847f801e115', 'gender': 1, 'id': 10695, 'name': 'Izabella Scorupco', 'order': 2, 'profile_path': '/hMhy6vd7vyWb06aKqbbx9Nba55X.jpg'}, {'cast_id': 4, 'character': 'Xenia Onatopp', 'credit_id': '52fe426ec3a36847f801e119', 'gender': 1, 'id': 10696, 'name': 'Famke Janssen', 'order': 3, 'profile_path': '/9wHWq6Mnfpn8L1diMxjr26ReZWl.jpg'}, {'cast_id': 5, 'character': 'Jack Wade', 'credit_id': '52fe426ec3a36847f801e11d', 'gender': 2, 'id': 10671, 'name': 'Joe Don Baker', 'order': 4, 'profile_path': '/bLvWzzb9SyoyjwPpj5pgzXb9tuC.jpg'}, {'cast_id': 6, 'character': 'M', 'credit_id': '52fe426ec3a36847f801e121', 'gender': 1, 'id': 5309, 'name': 'Judi Dench', 'order': 5, 'profile_path': '/2is9RvJ3BQAku2EtCmyk5EZoxzT.jpg'}, {'cast_id': 7, 'character': 'General Arkady Grigorovich Ourumov', 'credit_id': '52fe426ec3a36847f801e125', 'gender': 2, 'id': 3757, 'name': 'Gottfried John', 'order': 6, 'profile_path': '/hOVrTlQwZX4THosi9usXISC7mNS.jpg'}, {'cast_id': 8, 'character': 'Valentin Dmitrovich Zukovsky', 'credit_id': '52fe426ec3a36847f801e129', 'gender': 2, 'id': 1923, 'name': 'Robbie Coltrane', 'order': 7, 'profile_path': '/u07QKPs7wvXxzjXi1UUBSGjjmQm.jpg'}, {'cast_id': 9, 'character': 'Boris Grishenko', 'credit_id': '52fe426ec3a36847f801e12d', 'gender': 2, 'id': 10697, 'name': 'Alan Cumming', 'order': 8, 'profile_path': '/sGlkbGy5yWAKuAOzWVWPMONxM4f.jpg'}, {'cast_id': 10, 'character': 'Defense Minister Dmitri Mishkin', 'credit_id': '52fe426ec3a36847f801e131', 'gender': 2, 'id': 10698, 'name': 'Tchéky Karyo', 'order': 9, 'profile_path': '/9rMF25F5r3Giix9jkwfuUz2utHv.jpg'}, {'cast_id': 11, 'character': 'Q', 'credit_id': '52fe426ec3a36847f801e135', 'gender': 2, 'id': 9906, 'name': 'Desmond Llewelyn', 'order': 10, 'profile_path': '/6dYMQoMSZ6iVZTbcgjpzypTZ2pr.jpg'}, {'cast_id': 12, 'character': 'Miss Moneypenny', 'credit_id': '52fe426ec3a36847f801e139', 'gender': 1, 'id': 10699, 'name': 'Samantha Bond', 'order': 11, 'profile_path': '/vBPkMGAHIoOP2ni9yYKoxCbw4Z0.jpg'}, {'cast_id': 13, 'character': 'Bill Tanner', 'credit_id': '52fe426ec3a36847f801e13d', 'gender': 2, 'id': 10648, 'name': 'Michael Kitchen', 'order': 12, 'profile_path': '/bt1UWcegfSflLONcFN6XNqgayZt.jpg'}, {'cast_id': 14, 'character': 'Caroline', 'credit_id': '52fe426ec3a36847f801e141', 'gender': 1, 'id': 10700, 'name': 'Serena Gordon', 'order': 13, 'profile_path': '/uiqwc2Y7wP7gSbT0h3db9Mm8YDh.jpg'}, {'cast_id': 15, 'character': 'Severnaya Duty Officer', 'credit_id': '52fe426ec3a36847f801e145', 'gender': 2, 'id': 10701, 'name': 'Simon Kunz', 'order': 14, 'profile_path': '/tkjaXZuR8F94q6r2RW5aeHXWJhZ.jpg'}, {'cast_id': 37, 'character': 'Admiral Chuck Farrell', 'credit_id': '5401b8650e0a2658ee004a76', 'gender': 0, 'id': 55911, 'name': 'Billy J. Mitchell', 'order': 15, 'profile_path': None}, {'cast_id': 38, 'character': 'Computer Store Manager', 'credit_id': '5401b87f0e0a2658db004acf', 'gender': 2, 'id': 27425, 'name': 'Constantine Gregory', 'order': 16, 'profile_path': '/2zJA2LCS6utcD9hvXpDkRtY55ZO.jpg'}, {'cast_id': 39, 'character': 'Irina', 'credit_id': '5401b88d0e0a2658e2004c04', 'gender': 1, 'id': 6613, 'name': 'Minnie Driver', 'order': 17, 'profile_path': '/iWqTeFmdoY8V8RLcH89K75AKeQN.jpg'}, {'cast_id': 40, 'character': 'Anna', 'credit_id': '5401b8a70e0a2658e2004c07', 'gender': 1, 'id': 29054, 'name': 'Michelle Arthur', 'order': 18, 'profile_path': '/zKQFuK3W4LMzfIz8W86RYf6jGp7.jpg'}, {'cast_id': 41, 'character': 'Mig Pilot', 'credit_id': '5401b8ba0e0a2658db004ad3', 'gender': 2, 'id': 41742, 'name': 'Ravil Isyanov', 'order': 19, 'profile_path': '/kJkFC0qq7OeXgFTpBffWaSaeuOZ.jpg'}]\", '[{\\'cast_id\\': 1, \\'character\\': \\'Andrew Shepherd\\', \\'credit_id\\': \\'52fe44dac3a36847f80adf79\\', \\'gender\\': 2, \\'id\\': 3392, \\'name\\': \\'Michael Douglas\\', \\'order\\': 0, \\'profile_path\\': \\'/nmlitv4g2jXO3sJrnA9g980j2uc.jpg\\'}, {\\'cast_id\\': 2, \\'character\\': \\'Sydney Ellen Wade\\', \\'credit_id\\': \\'52fe44dac3a36847f80adf7d\\', \\'gender\\': 1, \\'id\\': 516, \\'name\\': \\'Annette Bening\\', \\'order\\': 1, \\'profile_path\\': \\'/q8pCSQzGLrhgtVXBKzMnwfoeBlH.jpg\\'}, {\\'cast_id\\': 3, \\'character\\': \\'Lewis Rothschild\\', \\'credit_id\\': \\'52fe44dac3a36847f80adf81\\', \\'gender\\': 2, \\'id\\': 521, \\'name\\': \\'Michael J. Fox\\', \\'order\\': 2, \\'profile_path\\': \\'/aeN1cA04vVXKrVy1SuS1JOhABBs.jpg\\'}, {\\'cast_id\\': 4, \\'character\\': \\'A.J. MacInerney\\', \\'credit_id\\': \\'52fe44dac3a36847f80adf85\\', \\'gender\\': 2, \\'id\\': 8349, \\'name\\': \\'Martin Sheen\\', \\'order\\': 3, \\'profile_path\\': \\'/ve77Q75moQhoB6cxdMfigfrHeTA.jpg\\'}, {\\'cast_id\\': 11, \\'character\\': \\'Robin McCall\\', \\'credit_id\\': \\'52fe44dac3a36847f80adfad\\', \\'gender\\': 1, \\'id\\': 63279, \\'name\\': \\'Anna Deavere Smith\\', \\'order\\': 4, \\'profile_path\\': \\'/1sJnUz9umndJBGZIh9QfxAd7uxg.jpg\\'}, {\\'cast_id\\': 12, \\'character\\': \\'Lucy Shepherd\\', \\'credit_id\\': \\'52fe44dac3a36847f80adfb1\\', \\'gender\\': 1, \\'id\\': 112080, \\'name\\': \\'Shawna Waldron\\', \\'order\\': 5, \\'profile_path\\': \\'/oWfERtTQVAhhvnzM7axvRD3lQju.jpg\\'}, {\\'cast_id\\': 13, \\'character\\': \\'Janie Basdin\\', \\'credit_id\\': \\'52fe44dac3a36847f80adfb5\\', \\'gender\\': 1, \\'id\\': 20767, \\'name\\': \\'Samantha Mathis\\', \\'order\\': 6, \\'profile_path\\': \\'/dzUjIFu7AAbwwJfj6aFRPfvYgC3.jpg\\'}, {\\'cast_id\\': 14, \\'character\\': \\'Leon Kodak\\', \\'credit_id\\': \\'52fe44dac3a36847f80adfb9\\', \\'gender\\': 2, \\'id\\': 19839, \\'name\\': \\'David Paymer\\', \\'order\\': 7, \\'profile_path\\': \\'/rrI6LgFb1la4PCIYuTB7pjIGgut.jpg\\'}, {\\'cast_id\\': 15, \\'character\\': \\'Senator Bob Rumson\\', \\'credit_id\\': \\'52fe44dac3a36847f80adfbd\\', \\'gender\\': 2, \\'id\\': 3037, \\'name\\': \\'Richard Dreyfuss\\', \\'order\\': 8, \\'profile_path\\': \\'/7JPMhXnfY5jgPbtByutwkHHZS3M.jpg\\'}, {\\'cast_id\\': 16, \\'character\\': \\'Beth Wade\\', \\'credit_id\\': \\'52fe44dac3a36847f80adfc1\\', \\'gender\\': 1, \\'id\\': 42133, \\'name\\': \\'Nina Siemaszko\\', \\'order\\': 9, \\'profile_path\\': \\'/htNzOMMh4Hys3EhTDWdJOlbtKpL.jpg\\'}, {\\'cast_id\\': 17, \\'character\\': \\'Susan Sloan\\', \\'credit_id\\': \\'52fe44dac3a36847f80adfc5\\', \\'gender\\': 1, \\'id\\': 61980, \\'name\\': \\'Wendie Malick\\', \\'order\\': 10, \\'profile_path\\': \\'/1Av0jIi4Hk30kruQjaRH2Am2TIE.jpg\\'}, {\\'cast_id\\': 18, \\'character\\': \\'Agent Cooper\\', \\'credit_id\\': \\'52fe44dac3a36847f80adfc9\\', \\'gender\\': 2, \\'id\\': 78494, \\'name\\': \\'Beau Billingslea\\', \\'order\\': 11, \\'profile_path\\': \\'/3Ooz7bdkkSwwbzOs9SPXIXvGKYQ.jpg\\'}, {\\'cast_id\\': 19, \\'character\\': \\'Esther MacInerney\\', \\'credit_id\\': \\'52fe44dac3a36847f80adfcd\\', \\'gender\\': 1, \\'id\\': 42003, \\'name\\': \\'Gail Strickland\\', \\'order\\': 12, \\'profile_path\\': \\'/pT9Tb2f07joxd7KYPLucak7X8J0.jpg\\'}, {\\'cast_id\\': 20, \\'character\\': \\'David\\', \\'credit_id\\': \\'52fe44dac3a36847f80adfd1\\', \\'gender\\': 2, \\'id\\': 131642, \\'name\\': \\'Joshua Malina\\', \\'order\\': 13, \\'profile_path\\': \\'/qa9ItKTmW35iicfsYXowg6P6qm6.jpg\\'}, {\\'cast_id\\': 21, \\'character\\': \"President René Jean D\\'Astier\", \\'credit_id\\': \\'52fe44dac3a36847f80adfd5\\', \\'gender\\': 2, \\'id\\': 43115, \\'name\\': \\'Clement von Franckenstein\\', \\'order\\': 14, \\'profile_path\\': \\'/pwpD8AxmseZOmnWXRsDErKk08Ro.jpg\\'}, {\\'cast_id\\': 22, \\'character\\': \\'Leo Solomon\\', \\'credit_id\\': \\'52fe44dac3a36847f80adfd9\\', \\'gender\\': 2, \\'id\\': 4251, \\'name\\': \\'John Mahoney\\', \\'order\\': 15, \\'profile_path\\': \\'/jK2uDKxfysuYjNAgUxbwyhd4fKD.jpg\\'}, {\\'cast_id\\': 23, \\'character\\': \\'Chairman of the Joint Chiefs\\', \\'credit_id\\': \\'52fe44dac3a36847f80adfdd\\', \\'gender\\': 2, \\'id\\': 43978, \\'name\\': \\'John Mahon\\', \\'order\\': 16, \\'profile_path\\': \\'/tkBnAn8PA3gSOj3bSH8zquD7P04.jpg\\'}, {\\'cast_id\\': 24, \\'character\\': \\'Jeff\\', \\'credit_id\\': \\'56bb985592514144db0003ad\\', \\'gender\\': 0, \\'id\\': 92808, \\'name\\': \\'Gabriel Jarret\\', \\'order\\': 17, \\'profile_path\\': \\'/19LMwcgNFfQnmcIkWeb4SVjKNyR.jpg\\'}]', \"[{'cast_id': 9, 'character': 'Count Dracula', 'credit_id': '52fe44b79251416c7503e811', 'gender': 2, 'id': 7633, 'name': 'Leslie Nielsen', 'order': 0, 'profile_path': '/cZpuTfE1j63tCEXoSL2A7KZjk5d.jpg'}, {'cast_id': 10, 'character': 'Prof. Abraham Van Helsing', 'credit_id': '52fe44b79251416c7503e815', 'gender': 2, 'id': 14639, 'name': 'Mel Brooks', 'order': 1, 'profile_path': '/ndFo3LOYNCUghQTK833N1Wtuynr.jpg'}, {'cast_id': 11, 'character': 'Mina Seward', 'credit_id': '52fe44b79251416c7503e819', 'gender': 1, 'id': 1219, 'name': 'Amy Yasbeck', 'order': 2, 'profile_path': '/c7WOXDlKE9cwTBjpUtCKFPqnptr.jpg'}, {'cast_id': 12, 'character': 'Thomas Renfield', 'credit_id': '52fe44b79251416c7503e81d', 'gender': 2, 'id': 12688, 'name': 'Peter MacNicol', 'order': 3, 'profile_path': '/hw4KTj66xh2FupS5sQMeNMNL6lx.jpg'}, {'cast_id': 13, 'character': 'Lucy Westenra', 'credit_id': '52fe44b79251416c7503e821', 'gender': 1, 'id': 12812, 'name': 'Lysette Anthony', 'order': 4, 'profile_path': '/yLTijECWVviLdhB03IYkZSJJLcY.jpg'}, {'cast_id': 14, 'character': 'Dr. Jack Seward', 'credit_id': '52fe44b79251416c7503e825', 'gender': 2, 'id': 13640, 'name': 'Harvey Korman', 'order': 5, 'profile_path': '/zXLYvJP3ReKPI6lJr2VuDGupL1j.jpg'}, {'cast_id': 15, 'character': 'Jonathan Harker', 'credit_id': '52fe44b79251416c7503e829', 'gender': 2, 'id': 6106, 'name': 'Steven Weber', 'order': 6, 'profile_path': '/ujINzDjLNtELBSUkRHQgExzP4Fb.jpg'}, {'cast_id': 17, 'character': 'Martin', 'credit_id': '52fe44b79251416c7503e833', 'gender': 2, 'id': 29709, 'name': 'Mark Blankfield', 'order': 7, 'profile_path': '/oAtZrKAA1c8XJLBBfW1oXYYt8jS.jpg'}, {'cast_id': 18, 'character': 'Essie', 'credit_id': '52fe44b79251416c7503e837', 'gender': 1, 'id': 53570, 'name': 'Megan Cavanagh', 'order': 8, 'profile_path': '/xZML4JXgD7Yd0f19hXhq7bXLXfC.jpg'}, {'cast_id': 19, 'character': 'Woodbridge', 'credit_id': '52fe44b79251416c7503e83b', 'gender': 2, 'id': 170185, 'name': 'Gregg Binkley', 'order': 9, 'profile_path': '/gTmsOFfFqHDcEzeqh3ezcSuk7TB.jpg'}, {'cast_id': 20, 'character': 'Madame Ouspenskaya', 'credit_id': '56fc3c8dc3a36808a70033f6', 'gender': 1, 'id': 10774, 'name': 'Anne Bancroft', 'order': 10, 'profile_path': '/4VMhut6tvXqXBmMGFRjXbbImAZW.jpg'}]\", '[{\\'cast_id\\': 1, \\'character\\': \\'Balto (voice)\\', \\'credit_id\\': \\'52fe4409c3a368484e00bb65\\', \\'gender\\': 2, \\'id\\': 4724, \\'name\\': \\'Kevin Bacon\\', \\'order\\': 0, \\'profile_path\\': \\'/bMVujB1SaHhXD5gQdO4Xf47WXD3.jpg\\'}, {\\'cast_id\\': 2, \\'character\\': \\'Boris the Goose (voice)\\', \\'credit_id\\': \\'52fe4409c3a368484e00bb69\\', \\'gender\\': 2, \\'id\\': 382, \\'name\\': \\'Bob Hoskins\\', \\'order\\': 1, \\'profile_path\\': \\'/mIgAC6q5HcHHxZUIiCOvE6mHLGs.jpg\\'}, {\\'cast_id\\': 8, \\'character\\': \\'Jenna (voice)\\', \\'credit_id\\': \\'52fe4409c3a368484e00bb8b\\', \\'gender\\': 1, \\'id\\': 2233, \\'name\\': \\'Bridget Fonda\\', \\'order\\': 2, \\'profile_path\\': \\'/yWxhdN59eksIqyBHdjUcLRgCIaI.jpg\\'}, {\\'cast_id\\': 9, \\'character\\': \\'Steele the Sled Dog (voice)\\', \\'credit_id\\': \\'52fe4409c3a368484e00bb8f\\', \\'gender\\': 2, \\'id\\': 12077, \\'name\\': \\'Jim Cummings\\', \\'order\\': 3, \\'profile_path\\': \\'/i9frXvIJsGtoFikBEFVqE7uN8Bq.jpg\\'}, {\\'cast_id\\': 10, \\'character\\': \\'Muk and Luk (voice)\\', \\'credit_id\\': \\'52fe4409c3a368484e00bb93\\', \\'gender\\': 2, \\'id\\': 110001, \\'name\\': \\'Phil Collins\\', \\'order\\': 4, \\'profile_path\\': \\'/eKEZE5yrSnimQ8Eq75G7wSEemkh.jpg\\'}, {\\'cast_id\\': 19, \\'character\\': \\'Young Rosy (voice)\\', \\'credit_id\\': \\'56eb4c8292514143fc0003d1\\', \\'gender\\': 0, \\'id\\': 67386, \\'name\\': \\'Juliette Brewer\\', \\'order\\': 5, \\'profile_path\\': None}, {\\'cast_id\\': 20, \\'character\\': \\'Nikki (voice)\\', \\'credit_id\\': \\'56eb4ce2c3a36822650003e8\\', \\'gender\\': 2, \\'id\\': 19545, \\'name\\': \\'Jack Angel\\', \\'order\\': 6, \\'profile_path\\': \\'/qYvR57QBtXpdvj1jm2a8hjh7E4L.jpg\\'}, {\\'cast_id\\': 21, \\'character\\': \\'Kaltag (voice)\\', \\'credit_id\\': \\'56eb4d5ec3a3682260000414\\', \\'gender\\': 2, \\'id\\': 52699, \\'name\\': \\'Danny Mann\\', \\'order\\': 7, \\'profile_path\\': \\'/28JtvJrUIcHM4s8HV84ncxPD7Uv.jpg\\'}, {\\'cast_id\\': 22, \\'character\\': \\'Star (voice)\\', \\'credit_id\\': \\'56eb4dabc3a3682260000434\\', \\'gender\\': 2, \\'id\\': 77157, \\'name\\': \\'Robbie Rist\\', \\'order\\': 8, \\'profile_path\\': \\'/bFpVHAJNNKOPQ230ALYLepwm1yE.jpg\\'}, {\\'cast_id\\': 23, \\'character\\': \\'Dixie / Sylvie (voice)\\', \\'credit_id\\': \\'56eb4dd99251414401000450\\', \\'gender\\': 1, \\'id\\': 176254, \\'name\\': \\'Sandra Dickinson\\', \\'order\\': 9, \\'profile_path\\': None}, {\\'cast_id\\': 24, \\'character\\': \\'Grizzly Bear (voice)\\', \\'credit_id\\': \\'56eb4e0a9251414408000460\\', \\'gender\\': 2, \\'id\\': 15831, \\'name\\': \\'Frank Welker\\', \\'order\\': 10, \\'profile_path\\': \\'/b3gImArbw13mMKJIe9leFc9YYb7.jpg\\'}, {\\'cast_id\\': 11, \\'character\\': \\'Grandma Rosy\\', \\'credit_id\\': \\'53071321c3a3680ae8000777\\', \\'gender\\': 1, \\'id\\': 6199, \\'name\\': \\'Miriam Margolyes\\', \\'order\\': 11, \\'profile_path\\': \\'/7Fijg5sZ7gKbooq6tId3MUS5sDY.jpg\\'}, {\\'cast_id\\': 25, \\'character\\': \"Rosie\\'s granddaughter\", \\'credit_id\\': \\'56eb4e58c3a368226500044f\\', \\'gender\\': 0, \\'id\\': 1592266, \\'name\\': \\'Lola Bates-Campbell\\', \\'order\\': 12, \\'profile_path\\': None}]', '[{\\'cast_id\\': 1, \\'character\\': \\'Richard Nixon\\', \\'credit_id\\': \\'52fe43c59251416c7501d6e1\\', \\'gender\\': 2, \\'id\\': 4173, \\'name\\': \\'Anthony Hopkins\\', \\'order\\': 0, \\'profile_path\\': \\'/jdoBTIru71FbPuHGEgox5RVmIO0.jpg\\'}, {\\'cast_id\\': 2, \\'character\\': \\'Pat Nixon\\', \\'credit_id\\': \\'52fe43c59251416c7501d6e5\\', \\'gender\\': 1, \\'id\\': 11148, \\'name\\': \\'Joan Allen\\', \\'order\\': 1, \\'profile_path\\': \\'/Atg0mSjK9Dl98YBsFvBuGO8PG5m.jpg\\'}, {\\'cast_id\\': 16, \\'character\\': \\'Alexander Haig\\', \\'credit_id\\': \\'52fe43c59251416c7501d72d\\', \\'gender\\': 2, \\'id\\': 6280, \\'name\\': \\'Powers Boothe\\', \\'order\\': 2, \\'profile_path\\': \\'/3nNL6AvMAYq0BmHKM79RnRZVq3i.jpg\\'}, {\\'cast_id\\': 13, \\'character\\': \\'E. Howard Hunt\\', \\'credit_id\\': \\'52fe43c59251416c7501d721\\', \\'gender\\': 2, \\'id\\': 228, \\'name\\': \\'Ed Harris\\', \\'order\\': 3, \\'profile_path\\': \\'/atzm7ZGRFSWJHQT6qKmzjmNQ9GA.jpg\\'}, {\\'cast_id\\': 14, \\'character\\': \\'J. Edgar Hoover\\', \\'credit_id\\': \\'52fe43c59251416c7501d725\\', \\'gender\\': 2, \\'id\\': 382, \\'name\\': \\'Bob Hoskins\\', \\'order\\': 4, \\'profile_path\\': \\'/mIgAC6q5HcHHxZUIiCOvE6mHLGs.jpg\\'}, {\\'cast_id\\': 15, \\'character\\': \\'John Mitchell\\', \\'credit_id\\': \\'52fe43c59251416c7501d729\\', \\'gender\\': 2, \\'id\\': 5249, \\'name\\': \\'E.G. Marshall\\', \\'order\\': 5, \\'profile_path\\': \\'/iQnivIob2OiXuVCepECf72xS2tQ.jpg\\'}, {\\'cast_id\\': 17, \\'character\\': \\'Ron Ziegler\\', \\'credit_id\\': \\'52fe43c59251416c7501d731\\', \\'gender\\': 2, \\'id\\': 19839, \\'name\\': \\'David Paymer\\', \\'order\\': 6, \\'profile_path\\': \\'/rrI6LgFb1la4PCIYuTB7pjIGgut.jpg\\'}, {\\'cast_id\\': 18, \\'character\\': \\'John Dean\\', \\'credit_id\\': \\'52fe43c59251416c7501d735\\', \\'gender\\': 2, \\'id\\': 11076, \\'name\\': \\'David Hyde Pierce\\', \\'order\\': 7, \\'profile_path\\': \\'/96qVGJhtV6tQkXmJVmbi6BBk1Ll.jpg\\'}, {\\'cast_id\\': 4, \\'character\\': \\'Henry Kissinger\\', \\'credit_id\\': \\'52fe43c59251416c7501d6ed\\', \\'gender\\': 2, \\'id\\': 7004, \\'name\\': \\'Paul Sorvino\\', \\'order\\': 8, \\'profile_path\\': \\'/exgIZR8So9SOuivI1EjyNKPflzT.jpg\\'}, {\\'cast_id\\': 20, \\'character\\': \\'Hannah Nixon\\', \\'credit_id\\': \\'52fe43c59251416c7501d739\\', \\'gender\\': 1, \\'id\\': 2453, \\'name\\': \\'Mary Steenburgen\\', \\'order\\': 9, \\'profile_path\\': \\'/yJhfuqS3yXW7kLSyvRU6n3b35mq.jpg\\'}, {\\'cast_id\\': 3, \\'character\\': \\'John Ehrlichman\\', \\'credit_id\\': \\'52fe43c59251416c7501d6e9\\', \\'gender\\': 2, \\'id\\': 22131, \\'name\\': \\'J.T. Walsh\\', \\'order\\': 10, \\'profile_path\\': \\'/39KZjhJSyDjvBhKGj0IbGVteFAm.jpg\\'}, {\\'cast_id\\': 21, \\'character\\': \\'H.R. Haldeman\\', \\'credit_id\\': \\'52fe43c59251416c7501d73d\\', \\'gender\\': 2, \\'id\\': 4512, \\'name\\': \\'James Woods\\', \\'order\\': 11, \\'profile_path\\': \\'/fl5Jx1WFvBcg1b9VZRfXTH6LPUE.jpg\\'}, {\\'cast_id\\': 22, \\'character\\': \\'Clyde Tolson\\', \\'credit_id\\': \\'52fe43c59251416c7501d741\\', \\'gender\\': 2, \\'id\\': 70843, \\'name\\': \\'Brian Bedford\\', \\'order\\': 12, \\'profile_path\\': \\'/sihqrrqI4bQT3fjnBmrLyPe12wl.jpg\\'}, {\\'cast_id\\': 23, \\'character\\': \\'Charles Colson\\', \\'credit_id\\': \\'52fe43c59251416c7501d745\\', \\'gender\\': 0, \\'id\\': 14721, \\'name\\': \\'Kevin Dunn\\', \\'order\\': 13, \\'profile_path\\': \\'/85thH2pUn2tPP97QhnYQI7MBiCW.jpg\\'}, {\\'cast_id\\': 24, \\'character\\': \\'Murray Chotiner\\', \\'credit_id\\': \\'52fe43c59251416c7501d749\\', \\'gender\\': 2, \\'id\\': 56687, \\'name\\': \\'Fyvush Finkel\\', \\'order\\': 14, \\'profile_path\\': \\'/p4MbyDNv0PC987XYFHc7h6cBth3.jpg\\'}, {\\'cast_id\\': 25, \\'character\\': \\'Julie Nixon Eisenhower\\', \\'credit_id\\': \\'52fe43c59251416c7501d74d\\', \\'gender\\': 1, \\'id\\': 49425, \\'name\\': \\'Annabeth Gish\\', \\'order\\': 15, \\'profile_path\\': \\'/tA2iInfNHuqWvAec0wtnrji0nGw.jpg\\'}, {\\'cast_id\\': 26, \\'character\\': \\'\"Jack Jones\"\\', \\'credit_id\\': \\'52fe43c59251416c7501d751\\', \\'gender\\': 2, \\'id\\': 6840, \\'name\\': \\'Larry Hagman\\', \\'order\\': 16, \\'profile_path\\': \\'/40PVsGp5Wp5kbUhAefLHqjqbarc.jpg\\'}, {\\'cast_id\\': 27, \\'character\\': \\'Martha Mitchell\\', \\'credit_id\\': \\'52fe43c59251416c7501d755\\', \\'gender\\': 1, \\'id\\': 29803, \\'name\\': \\'Madeline Kahn\\', \\'order\\': 17, \\'profile_path\\': \\'/68NIYqyPgupQYXWCRJd8YMPzA1o.jpg\\'}, {\\'cast_id\\': 28, \\'character\\': \\'Trini Cardoza\\', \\'credit_id\\': \\'52fe43c59251416c7501d759\\', \\'gender\\': 2, \\'id\\': 6486, \\'name\\': \\'Dan Hedaya\\', \\'order\\': 18, \\'profile_path\\': \\'/5E4SUVfLMUKNCiP0dMhyOv3XHVZ.jpg\\'}, {\\'cast_id\\': 29, \\'character\\': \\'Sandy\\', \\'credit_id\\': \\'56364d32c3a3681b6101b9ef\\', \\'gender\\': 0, \\'id\\': 20751, \\'name\\': \\'Bridgette Wilson\\', \\'order\\': 19, \\'profile_path\\': \\'/l5bUegMA9PHoeRgBkio2bE9R7Vj.jpg\\'}, {\\'cast_id\\': 30, \\'character\\': \\'Frank Nixon\\', \\'credit_id\\': \\'57d2d97d9251410d1b0009fc\\', \\'gender\\': 2, \\'id\\': 19453, \\'name\\': \\'Tom Bower\\', \\'order\\': 20, \\'profile_path\\': \\'/jINoIyKUhX01jflM68nZaJZlWMW.jpg\\'}, {\\'cast_id\\': 31, \\'character\\': \\'Harold Nixon\\', \\'credit_id\\': \\'57d2d989c3a368427c000a97\\', \\'gender\\': 2, \\'id\\': 3417, \\'name\\': \\'Tony Goldwyn\\', \\'order\\': 21, \\'profile_path\\': \\'/asV7pfeMIzT8GFdA2gqBjAPGd6l.jpg\\'}, {\\'cast_id\\': 32, \\'character\\': \\'Nelson Rockefeller\\', \\'credit_id\\': \\'57d2d998c3a3684285000bc2\\', \\'gender\\': 2, \\'id\\': 52995, \\'name\\': \\'Edward Herrmann\\', \\'order\\': 22, \\'profile_path\\': \\'/3AGRAverIuT6kgSfGQPiY55QZzG.jpg\\'}, {\\'cast_id\\': 33, \\'character\\': \\'Johnny Roselli\\', \\'credit_id\\': \\'57d2d9aa9251410d1e000a9d\\', \\'gender\\': 2, \\'id\\': 15183, \\'name\\': \\'Tony Lo Bianco\\', \\'order\\': 23, \\'profile_path\\': \\'/juGwBRuoP25CN8fvVqTitbLsF3w.jpg\\'}, {\\'cast_id\\': 34, \\'character\\': \\'Herb Klein\\', \\'credit_id\\': \\'57d2d9b5c3a3684281000b4b\\', \\'gender\\': 2, \\'id\\': 3712, \\'name\\': \\'Saul Rubinek\\', \\'order\\': 24, \\'profile_path\\': \\'/1gsXmCmJIegqK0U8dwLz005UM0.jpg\\'}, {\\'cast_id\\': 35, \\'character\\': \\'Frank Sturgis\\', \\'credit_id\\': \\'57d2d9c2c3a3684291000ade\\', \\'gender\\': 2, \\'id\\': 50880, \\'name\\': \\'Robert Beltran\\', \\'order\\': 25, \\'profile_path\\': \\'/9olxlfcWiSYilDfg1MeKSWxuVyc.jpg\\'}, {\\'cast_id\\': 36, \\'character\\': \\'Bob\\', \\'credit_id\\': \\'57d2d9cb9251410d19000a45\\', \\'gender\\': 2, \\'id\\': 167561, \\'name\\': \\'John Cunningham\\', \\'order\\': 26, \\'profile_path\\': \\'/mGwPTNlYQINjvCrQn0ZoAMCAPge.jpg\\'}, {\\'cast_id\\': 37, \\'character\\': \\'Gordon Liddy\\', \\'credit_id\\': \\'57d2d9d4c3a36842970009a3\\', \\'gender\\': 2, \\'id\\': 4942, \\'name\\': \\'John Diehl\\', \\'order\\': 27, \\'profile_path\\': \\'/hDUvgqpIv753skoeRGjVw6gYp7A.jpg\\'}, {\\'cast_id\\': 38, \\'character\\': \\'Earl in Training Film\\', \\'credit_id\\': \\'57d2d9dec3a36842970009aa\\', \\'gender\\': 2, \\'id\\': 11885, \\'name\\': \\'John C. McGinley\\', \\'order\\': 28, \\'profile_path\\': \\'/6AJL0ylRtJ9vcR57yEenhWHXHFt.jpg\\'}, {\\'cast_id\\': 39, \\'character\\': \\'TV Director\\', \\'credit_id\\': \\'57d2d9e4c3a368428a000a40\\', \\'gender\\': 2, \\'id\\': 19654, \\'name\\': \\'Michael Chiklis\\', \\'order\\': 29, \\'profile_path\\': \\'/fkJnjCERaqOky0gJrSHmwjQ9oOZ.jpg\\'}, {\\'cast_id\\': 40, \\'character\\': \\'Mao Tse-Tung\\', \\'credit_id\\': \\'57d2da289251410d25000a29\\', \\'gender\\': 2, \\'id\\': 11397, \\'name\\': \\'Ric Young\\', \\'order\\': 30, \\'profile_path\\': \\'/nqhFfFdZ73cEjLjAuLW19f3d7EO.jpg\\'}, {\\'cast_id\\': 41, \\'character\\': \\'Leonid Brezhnev\\', \\'credit_id\\': \\'57d2da399251410d10000a2e\\', \\'gender\\': 0, \\'id\\': 230280, \\'name\\': \\'Boris Sichkin\\', \\'order\\': 31, \\'profile_path\\': \\'/oXaRle3bIGuvlnMWexcyS4ywwI8.jpg\\'}, {\\'cast_id\\': 42, \\'character\\': \\'Richard Helms\\', \\'credit_id\\': \\'57d2da439251410d15000b13\\', \\'gender\\': 2, \\'id\\': 8975, \\'name\\': \\'Sam Waterston\\', \\'order\\': 32, \\'profile_path\\': \\'/fKmtS6OdDWPiAdxZflbJGz1eWml.jpg\\'}, {\\'cast_id\\': 43, \\'character\\': \\'Tricia Nixon Cox\\', \\'credit_id\\': \\'5907168cc3a3684b0702a1a7\\', \\'gender\\': 1, \\'id\\': 6407, \\'name\\': \\'Marley Shelton\\', \\'order\\': 33, \\'profile_path\\': \\'/n3XgupzMwQfX7YyTjolsnbhIIyV.jpg\\'}]', '[{\\'cast_id\\': 1, \\'character\\': \\'Morgan Adams\\', \\'credit_id\\': \\'52fe42f4c3a36847f802f65f\\', \\'gender\\': 1, \\'id\\': 16935, \\'name\\': \\'Geena Davis\\', \\'order\\': 0, \\'profile_path\\': \\'/6b8cRJOItz7yNpYuLCPkl5kv4m2.jpg\\'}, {\\'cast_id\\': 2, \\'character\\': \\'William Shaw\\', \\'credit_id\\': \\'52fe42f4c3a36847f802f663\\', \\'gender\\': 2, \\'id\\': 8654, \\'name\\': \\'Matthew Modine\\', \\'order\\': 1, \\'profile_path\\': \\'/tEQG1Us5IuoKYtufZe6waWtxfeg.jpg\\'}, {\\'cast_id\\': 3, \\'character\\': \\'Dawg\\', \\'credit_id\\': \\'52fe42f4c3a36847f802f667\\', \\'gender\\': 2, \\'id\\': 8924, \\'name\\': \\'Frank Langella\\', \\'order\\': 2, \\'profile_path\\': \\'/wMlcjLBQouQjE0iceseNTxUF3BF.jpg\\'}, {\\'cast_id\\': 4, \\'character\\': \\'John Reed\\', \\'credit_id\\': \\'52fe42f4c3a36847f802f66b\\', \\'gender\\': 2, \\'id\\': 7868, \\'name\\': \\'Maury Chaykin\\', \\'order\\': 3, \\'profile_path\\': \\'/jhJgkb5P0oAW7QtULjqD2kaN0ez.jpg\\'}, {\\'cast_id\\': 5, \\'character\\': \\'Ainstee\\', \\'credit_id\\': \\'52fe42f4c3a36847f802f66f\\', \\'gender\\': 2, \\'id\\': 8979, \\'name\\': \\'Patrick Malahide\\', \\'order\\': 4, \\'profile_path\\': \\'/pv65v8oEhLo0ibCz1K23UCoKMuS.jpg\\'}, {\\'cast_id\\': 6, \\'character\\': \\'Glasspoole\\', \\'credit_id\\': \\'52fe42f4c3a36847f802f673\\', \\'gender\\': 2, \\'id\\': 16936, \\'name\\': \\'Stan Shaw\\', \\'order\\': 5, \\'profile_path\\': \\'/2KUPUQQFmc8Zyzf16uaiYmVrNvX.jpg\\'}, {\\'cast_id\\': 7, \\'character\\': \\'Mr. Blair\\', \\'credit_id\\': \\'52fe42f4c3a36847f802f677\\', \\'gender\\': 2, \\'id\\': 16937, \\'name\\': \\'Rex Linn\\', \\'order\\': 6, \\'profile_path\\': \\'/2ze2PNirf4vle9sWRkSxHgv1iH0.jpg\\'}, {\\'cast_id\\': 8, \\'character\\': \\'Snelgrave\\', \\'credit_id\\': \\'52fe42f4c3a36847f802f67b\\', \\'gender\\': 2, \\'id\\': 13925, \\'name\\': \\'Paul Dillon\\', \\'order\\': 7, \\'profile_path\\': \\'/6jouXtMcbJ7nTuDNwvaePnqCHTX.jpg\\'}, {\\'cast_id\\': 26, \\'character\\': \\'Bowen\\', \\'credit_id\\': \\'5969508c92514136c3003278\\', \\'gender\\': 2, \\'id\\': 35769, \\'name\\': \\'Christopher Masterson\\', \\'order\\': 8, \\'profile_path\\': \\'/gz0GFQmLLjo6Q9Gvf1rKdZd2XhM.jpg\\'}, {\\'cast_id\\': 27, \\'character\\': \\'Scully\\', \\'credit_id\\': \\'596950a992514136ac003306\\', \\'gender\\': 0, \\'id\\': 133771, \\'name\\': \\'Jimmie F. Skaggs\\', \\'order\\': 9, \\'profile_path\\': None}, {\\'cast_id\\': 28, \\'character\\': \\'Black Harry\\', \\'credit_id\\': \\'596950c292514136a0003471\\', \\'gender\\': 2, \\'id\\': 1166, \\'name\\': \\'Harris Yulin\\', \\'order\\': 10, \\'profile_path\\': \\'/MCW4IR3mEB6oeRbX9bfeHkZ3qm.jpg\\'}, {\\'cast_id\\': 29, \\'character\\': \\'Bishop\\', \\'credit_id\\': \\'596950e292514136a40033c2\\', \\'gender\\': 2, \\'id\\': 127166, \\'name\\': \\'Carl Chase\\', \\'order\\': 11, \\'profile_path\\': \\'/3HLdJB6ZQNi3DK4Ix9FXZ0a67K8.jpg\\'}, {\\'cast_id\\': 30, \\'character\\': \\'Fiddler Pirate\\', \\'credit_id\\': \\'596950ffc3a3683b7d0036de\\', \\'gender\\': 0, \\'id\\': 1220350, \\'name\\': \\'Peter Geeves\\', \\'order\\': 12, \\'profile_path\\': None}, {\\'cast_id\\': 31, \\'character\\': \\'Captain Trotter\\', \\'credit_id\\': \\'59695116c3a3683b6e0033e7\\', \\'gender\\': 0, \\'id\\': 1252814, \\'name\\': \\'Angus Wright\\', \\'order\\': 13, \\'profile_path\\': \\'/jcVb6Z421Z3zshe9R7dCOn2NpO9.jpg\\'}, {\\'cast_id\\': 32, \\'character\\': \\'Toussant\\', \\'credit_id\\': \\'5969512f92514136ac003394\\', \\'gender\\': 2, \\'id\\': 91662, \\'name\\': \\'Ken Bones\\', \\'order\\': 14, \\'profile_path\\': \\'/fA5B1EMFzgRzUr8K07iwYi3JwV8.jpg\\'}, {\\'cast_id\\': 33, \\'character\\': \\'Lady\\', \\'credit_id\\': \\'5969515892514136c300332f\\', \\'gender\\': 1, \\'id\\': 31294, \\'name\\': \\'Mary Peach\\', \\'order\\': 15, \\'profile_path\\': \\'/lrgPf78F1KneQzji4slgXqzhJ1t.jpg\\'}, {\\'cast_id\\': 34, \\'character\\': \\'Lieutenant\\', \\'credit_id\\': \\'5969518292514136a80034ff\\', \\'gender\\': 2, \\'id\\': 17202, \\'name\\': \\'Thomas Lockyer\\', \\'order\\': 16, \\'profile_path\\': None}, {\\'cast_id\\': 35, \\'character\\': \\'Auctioneer\\', \\'credit_id\\': \\'5969519c92514136a4003464\\', \\'gender\\': 0, \\'id\\': 1649736, \\'name\\': \\'Roger Booth\\', \\'order\\': 17, \\'profile_path\\': None}, {\\'cast_id\\': 36, \\'character\\': \\'Mordachai Fingers\\', \\'credit_id\\': \\'596951b392514136ac00340a\\', \\'gender\\': 2, \\'id\\': 90625, \\'name\\': \\'George Murcell\\', \\'order\\': 18, \\'profile_path\\': None}, {\\'cast_id\\': 37, \\'character\\': \\'Bartender\\', \\'credit_id\\': \\'596951cf92514136f800360a\\', \\'gender\\': 0, \\'id\\': 1117347, \\'name\\': \\'Simon Atherton\\', \\'order\\': 19, \\'profile_path\\': \\'/di5Gr8kLKeLuI1gyzqBDIc5xyod.jpg\\'}, {\\'cast_id\\': 38, \\'character\\': \\'Executioner\\', \\'credit_id\\': \\'596951e2c3a3683b8c00382f\\', \\'gender\\': 2, \\'id\\': 1495190, \\'name\\': \\'Dickey Beer\\', \\'order\\': 20, \\'profile_path\\': None}, {\\'cast_id\\': 39, \\'character\\': \\'Hastings\\', \\'credit_id\\': \\'596951ff92514136ac003450\\', \\'gender\\': 0, \\'id\\': 1466675, \\'name\\': \\'Christopher Halliday\\', \\'order\\': 21, \\'profile_path\\': None}, {\\'cast_id\\': 40, \\'character\\': \\'Helmsman\\', \\'credit_id\\': \\'5969521992514136d90033a2\\', \\'gender\\': 0, \\'id\\': 1420324, \\'name\\': \\'Chris Johnston\\', \\'order\\': 22, \\'profile_path\\': None}, {\\'cast_id\\': 41, \\'character\\': \\'Snake the Lookout\\', \\'credit_id\\': \\'5969523692514136ac003480\\', \\'gender\\': 2, \\'id\\': 16792, \\'name\\': \\'Richard Leaf\\', \\'order\\': 23, \\'profile_path\\': \\'/8TLhzJ9VOjZPm9myvZaWMsuOW0j.jpg\\'}, {\\'cast_id\\': 42, \\'character\\': \\'Fleming\\', \\'credit_id\\': \\'5969525392514136d90033da\\', \\'gender\\': 0, \\'id\\': 2480, \\'name\\': \\'Tam White\\', \\'order\\': 24, \\'profile_path\\': \\'/jk1UaBYHiiEm6BXLhlHtG50NDLc.jpg\\'}, {\\'cast_id\\': 43, \\'character\\': \\'Captain Perkins\\', \\'credit_id\\': \\'5969527dc3a3683b7d00383e\\', \\'gender\\': 2, \\'id\\': 2479, \\'name\\': \\'Rupert Vansittart\\', \\'order\\': 25, \\'profile_path\\': \\'/Adw0Z2bT8qU5H6S0swuUWrBKDDs.jpg\\'}, {\\'cast_id\\': 44, \\'character\\': \"Dawg\\'s Pirate\", \\'credit_id\\': \\'59695295c3a3683b920030d0\\', \\'gender\\': 2, \\'id\\': 19704, \\'name\\': \\'Nick Bartlett\\', \\'order\\': 26, \\'profile_path\\': \\'/gup3bUaA5IokhbF1511vS6T2AoR.jpg\\'}, {\\'cast_id\\': 45, \\'character\\': \"Dawg\\'s Pirate\", \\'credit_id\\': \\'596952a6c3a3683b61003503\\', \\'gender\\': 2, \\'id\\': 1715, \\'name\\': \\'David Bailie\\', \\'order\\': 27, \\'profile_path\\': \\'/iUKR4K7ftO6xj6ExewkIBlL9tYw.jpg\\'}, {\\'cast_id\\': 46, \\'character\\': \"Dawg\\'s Pirate\", \\'credit_id\\': \\'596952bdc3a3683b420033e0\\', \\'gender\\': 0, \\'id\\': 1221761, \\'name\\': \\'Kwame Kwei-Armah\\', \\'order\\': 28, \\'profile_path\\': None}, {\\'cast_id\\': 47, \\'character\\': \"Dawg\\'s Pirate\", \\'credit_id\\': \\'596952d3c3a3683af200398c\\', \\'gender\\': 2, \\'id\\': 178622, \\'name\\': \\'Ramon Tikaram\\', \\'order\\': 29, \\'profile_path\\': \\'/lsR2X7T6FJcNIkY651zQ46D0nAw.jpg\\'}, {\\'cast_id\\': 48, \\'character\\': \"Dawg\\'s Pirate\", \\'credit_id\\': \\'596952eac3a3683b42003414\\', \\'gender\\': 2, \\'id\\': 64102, \\'name\\': \\'Christopher Adamson\\', \\'order\\': 30, \\'profile_path\\': \\'/8yLz3515hR5RgjeH0kbGcjSYylO.jpg\\'}]', '[{\\'cast_id\\': 4, \\'character\\': \"Sam \\'Ace\\' Rothstein\", \\'credit_id\\': \\'52fe424dc3a36847f80139d1\\', \\'gender\\': 2, \\'id\\': 380, \\'name\\': \\'Robert De Niro\\', \\'order\\': 0, \\'profile_path\\': \\'/lvTSwUcvJRLAJ2FB5qFaukel516.jpg\\'}, {\\'cast_id\\': 5, \\'character\\': \\'Ginger McKenna\\', \\'credit_id\\': \\'52fe424dc3a36847f80139d5\\', \\'gender\\': 1, \\'id\\': 4430, \\'name\\': \\'Sharon Stone\\', \\'order\\': 1, \\'profile_path\\': \\'/m57fGJemBTpsjydGlaZJywlIWz4.jpg\\'}, {\\'cast_id\\': 6, \\'character\\': \\'Nicky Santoro\\', \\'credit_id\\': \\'52fe424dc3a36847f80139d9\\', \\'gender\\': 2, \\'id\\': 4517, \\'name\\': \\'Joe Pesci\\', \\'order\\': 2, \\'profile_path\\': \\'/2CaYAhUZgkAeqtpIzuqGcqArsOy.jpg\\'}, {\\'cast_id\\': 7, \\'character\\': \\'Lester Diamond\\', \\'credit_id\\': \\'52fe424dc3a36847f80139dd\\', \\'gender\\': 2, \\'id\\': 4512, \\'name\\': \\'James Woods\\', \\'order\\': 3, \\'profile_path\\': \\'/fl5Jx1WFvBcg1b9VZRfXTH6LPUE.jpg\\'}, {\\'cast_id\\': 11, \\'character\\': \\'Billy Sherbert\\', \\'credit_id\\': \\'52fe424dc3a36847f80139ed\\', \\'gender\\': 2, \\'id\\': 7167, \\'name\\': \\'Don Rickles\\', \\'order\\': 4, \\'profile_path\\': \\'/h5BcaDMPRVLHLDzbQavec4xfSdt.jpg\\'}, {\\'cast_id\\': 13, \\'character\\': \\'Andy Stone\\', \\'credit_id\\': \\'52fe424dc3a36847f80139f5\\', \\'gender\\': 2, \\'id\\': 7169, \\'name\\': \\'Alan King\\', \\'order\\': 5, \\'profile_path\\': \\'/gYtn6UNocRfxISIAKmUfRxl7zOr.jpg\\'}, {\\'cast_id\\': 10, \\'character\\': \\'Phillip Green\\', \\'credit_id\\': \\'52fe424dc3a36847f80139e9\\', \\'gender\\': 2, \\'id\\': 7166, \\'name\\': \\'Kevin Pollak\\', \\'order\\': 6, \\'profile_path\\': \\'/kwu2T8CDnThZTzE88uiSgJ5eHXf.jpg\\'}, {\\'cast_id\\': 9, \\'character\\': \\'Remo Gaggi\\', \\'credit_id\\': \\'52fe424dc3a36847f80139e5\\', \\'gender\\': 0, \\'id\\': 7165, \\'name\\': \\'Pasquale Cajano\\', \\'order\\': 7, \\'profile_path\\': \\'/bfRFoTvD2aVthXu912e8rkEzS6z.jpg\\'}, {\\'cast_id\\': 27, \\'character\\': \\'Pat Webb\\', \\'credit_id\\': \\'53a2d500c3a368320a0013be\\', \\'gender\\': 2, \\'id\\': 8262, \\'name\\': \\'L.Q. Jones\\', \\'order\\': 8, \\'profile_path\\': \\'/jhPsFq7qYT2QKc4FO70fqxgfpXs.jpg\\'}, {\\'cast_id\\': 28, \\'character\\': \\'Sénateur\\', \\'credit_id\\': \\'53a2d529c3a36832020012f8\\', \\'gender\\': 2, \\'id\\': 166789, \\'name\\': \\'Dick Smothers\\', \\'order\\': 9, \\'profile_path\\': \\'/lwQKlZHqUjJw4JcoxSPeGAUraRV.jpg\\'}, {\\'cast_id\\': 8, \\'character\\': \\'Frank Marino\\', \\'credit_id\\': \\'52fe424dc3a36847f80139e1\\', \\'gender\\': 2, \\'id\\': 7164, \\'name\\': \\'Frank Vincent\\', \\'order\\': 10, \\'profile_path\\': \\'/c9OXdbBROqUNtrtYBmuei1SeSkh.jpg\\'}, {\\'cast_id\\': 20, \\'character\\': \\'Oscar Goodman\\', \\'credit_id\\': \\'52fe424dc3a36847f8013a1b\\', \\'gender\\': 2, \\'id\\': 7424, \\'name\\': \\'Oscar Goodman\\', \\'order\\': 11, \\'profile_path\\': \\'/9YTT2HozwL6g01HuBezUBUdO3IA.jpg\\'}, {\\'cast_id\\': 29, \\'character\\': \\'Charlie Clark\\', \\'credit_id\\': \\'53a2d5aec3a368443e000bca\\', \\'gender\\': 2, \\'id\\': 18262, \\'name\\': \\'Richard Riehle\\', \\'order\\': 12, \\'profile_path\\': \\'/fFFjfOX7BUsfBQQP54K8QEkkEC2.jpg\\'}, {\\'cast_id\\': 31, \\'character\\': \\'Mme Piscano\\', \\'credit_id\\': \\'53a2d80cc3a368443e000c04\\', \\'gender\\': 1, \\'id\\': 11483, \\'name\\': \\'Catherine Scorsese\\', \\'order\\': 14, \\'profile_path\\': \\'/rXFjIQVimKotQUtXwVNGg7XVMeW.jpg\\'}, {\\'cast_id\\': 12, \\'character\\': \\'Artie Piscano\\', \\'credit_id\\': \\'52fe424dc3a36847f80139f1\\', \\'gender\\': 2, \\'id\\': 7168, \\'name\\': \\'Vinny Vella\\', \\'order\\': 15, \\'profile_path\\': \\'/bS0yz7PyNJ9f8Kwc4qVWm4NxDfz.jpg\\'}, {\\'cast_id\\': 21, \\'character\\': \\'Ichikawa\\', \\'credit_id\\': \\'52fe424dc3a36847f8013a1f\\', \\'gender\\': 0, \\'id\\': 7425, \\'name\\': \\'Nobu Matsuhisa\\', \\'order\\': 16, \\'profile_path\\': \\'/xSR9RmzUTU9K6qZ6Hu5HCS2IJSL.jpg\\'}, {\\'cast_id\\': 19, \\'character\\': \\'Amy\\', \\'credit_id\\': \\'52fe424dc3a36847f8013a17\\', \\'gender\\': 1, \\'id\\': 7423, \\'name\\': \\'Erika von Tagen\\', \\'order\\': 17, \\'profile_path\\': None}, {\\'cast_id\\': 22, \\'character\\': \\'Black Jack-Groupier\\', \\'credit_id\\': \\'52fe424dc3a36847f8013a23\\', \\'gender\\': 0, \\'id\\': 7444, \\'name\\': \\'Nick Mazzola\\', \\'order\\': 18, \\'profile_path\\': None}, {\\'cast_id\\': 32, \\'character\\': \\'David\\', \\'credit_id\\': \\'56aa347ac3a36872cd00724d\\', \\'gender\\': 0, \\'id\\': 107020, \\'name\\': \\'David Rose\\', \\'order\\': 19, \\'profile_path\\': None}, {\\'cast_id\\': 33, \\'character\\': \\'Don Ward\\', \\'credit_id\\': \\'5865391bc3a36852c0022729\\', \\'gender\\': 2, \\'id\\': 99906, \\'name\\': \\'John Bloom\\', \\'order\\': 20, \\'profile_path\\': None}, {\\'cast_id\\': 34, \\'character\\': \\'Vincent Borelli\\', \\'credit_id\\': \\'59c2ea0ec3a3681461001373\\', \\'gender\\': 2, \\'id\\': 13605, \\'name\\': \\'Joseph Rigano\\', \\'order\\': 21, \\'profile_path\\': \\'/vvkxGzHbgh6uj9cGE77PobeI95t.jpg\\'}, {\\'cast_id\\': 35, \\'character\\': \\'Dominick Santoro\\', \\'credit_id\\': \\'59c2ea679251415b2800165a\\', \\'gender\\': 2, \\'id\\': 14332, \\'name\\': \\'Philip Suriano\\', \\'order\\': 22, \\'profile_path\\': None}, {\\'cast_id\\': 36, \\'character\\': \\'Jennifer Santoro\\', \\'credit_id\\': \\'59c2eaa69251415b24001766\\', \\'gender\\': 0, \\'id\\': 105623, \\'name\\': \\'Melissa Prophet\\', \\'order\\': 23, \\'profile_path\\': \\'/sBHstIj9AHHF6PvQmhT2J8Vgh0k.jpg\\'}, {\\'cast_id\\': 37, \\'character\\': \\'John Nance\\', \\'credit_id\\': \\'59c2eaf39251415b32001680\\', \\'gender\\': 0, \\'id\\': 1574239, \\'name\\': \\'Bill Allison\\', \\'order\\': 24, \\'profile_path\\': None}, {\\'cast_id\\': 38, \\'character\\': \\'Signaller\\', \\'credit_id\\': \\'59c2eb32c3a3681461001475\\', \\'gender\\': 0, \\'id\\': 96901, \\'name\\': \\'Joe La Due\\', \\'order\\': 25, \\'profile_path\\': \\'/mUKJsrGyPIFrP8nVTDDVRUAU6em.jpg\\'}, {\\'cast_id\\': 39, \\'character\\': \\'Winner\\', \\'credit_id\\': \\'59c2eb7ac3a36813a90016fb\\', \\'gender\\': 2, \\'id\\': 7531, \\'name\\': \\'Joseph P. Reidy\\', \\'order\\': 26, \\'profile_path\\': \\'/3bZ4HUh4JFPKo1yw2XDYjMmwj6m.jpg\\'}, {\\'cast_id\\': 40, \\'character\\': \\'Cowboy\\', \\'credit_id\\': \\'59c2ebcfc3a36813a9001789\\', \\'gender\\': 0, \\'id\\': 1738942, \\'name\\': \\'Craig Vincent\\', \\'order\\': 27, \\'profile_path\\': None}, {\\'cast_id\\': 41, \\'character\\': \\'Tony Dogs\\', \\'credit_id\\': \\'59c2ebe7c3a36814540016f5\\', \\'gender\\': 2, \\'id\\': 42824, \\'name\\': \\'Carl Ciarfalio\\', \\'order\\': 28, \\'profile_path\\': \\'/1JyIKBSkpK1tADOXpYYrO1khcQH.jpg\\'}, {\\'cast_id\\': 42, \\'character\\': \\'Vinny Forlano\\', \\'credit_id\\': \\'59c2ec2b9251415b5d001821\\', \\'gender\\': 2, \\'id\\': 39599, \\'name\\': \\'Gene Ruffini\\', \\'order\\': 29, \\'profile_path\\': \\'/hqWxLNvz1JWVScAAO9v0IjJtG09.jpg\\'}, {\\'cast_id\\': 43, \\'character\\': \\'Americo Capelli\\', \\'credit_id\\': \\'59c2ec54c3a3681443001999\\', \\'gender\\': 0, \\'id\\': 1204013, \\'name\\': \\'Dominick Grieco\\', \\'order\\': 30, \\'profile_path\\': None}, {\\'cast_id\\': 44, \\'character\\': \\'Sal Fusco\\', \\'credit_id\\': \\'59c2ecc09251415b77001a28\\', \\'gender\\': 0, \\'id\\': 17921, \\'name\\': \\'Clem Caserta\\', \\'order\\': 31, \\'profile_path\\': \\'/sXh8zi1BVBe0q9Hza3GhNvdTJsv.jpg\\'}, {\\'cast_id\\': 45, \\'character\\': \\'Doctor Dan\\', \\'credit_id\\': \\'59c2ecd6c3a3681443001a34\\', \\'gender\\': 2, \\'id\\': 120303, \\'name\\': \\'Daniel P. Conte\\', \\'order\\': 32, \\'profile_path\\': \\'/mGvZblgXkpqFLwGZUZRby6qnLII.jpg\\'}, {\\'cast_id\\': 46, \\'character\\': \\'Stabbed Gambler\\', \\'credit_id\\': \\'59c2ed5b9251415b54001891\\', \\'gender\\': 0, \\'id\\': 583419, \\'name\\': \\'Joey DePinto\\', \\'order\\': 33, \\'profile_path\\': None}, {\\'cast_id\\': 47, \\'character\\': \\'Baker\\', \\'credit_id\\': \\'59c2ed6ac3a36813a9001965\\', \\'gender\\': 2, \\'id\\': 122124, \\'name\\': \\'Jack Orend\\', \\'order\\': 34, \\'profile_path\\': None}, {\\'cast_id\\': 48, \\'character\\': \\'Gambler in Phone Booth\\', \\'credit_id\\': \\'59c2ed9c9251415b32001967\\', \\'gender\\': 2, \\'id\\': 58535, \\'name\\': \\'Paul Herman\\', \\'order\\': 35, \\'profile_path\\': \\'/vaK8wxkMeKJdZEdGUufyV0Ma24M.jpg\\'}, {\\'cast_id\\': 49, \\'character\\': \\'Jack Hardy\\', \\'credit_id\\': \\'59c3ca099251415b280160c5\\', \\'gender\\': 0, \\'id\\': 1219275, \\'name\\': \\'Jed Mills\\', \\'order\\': 36, \\'profile_path\\': None}, {\\'cast_id\\': 50, \\'character\\': \\'Trudy\\', \\'credit_id\\': \\'59c3cada9251415b8701527d\\', \\'gender\\': 0, \\'id\\': 553774, \\'name\\': \\'Claudia Haro\\', \\'order\\': 37, \\'profile_path\\': \\'/1XPYBTNuNVl01zjd19U4vZA4zqs.jpg\\'}, {\\'cast_id\\': 51, \\'character\\': \\'Anna Scott\\', \\'credit_id\\': \\'59c3cb1dc3a368141e013f64\\', \\'gender\\': 0, \\'id\\': 1892328, \\'name\\': \\'Ffolliott Le Coque\\', \\'order\\': 38, \\'profile_path\\': None}, {\\'cast_id\\': 52, \\'character\\': \\'Wiseguy Eddie\\', \\'credit_id\\': \\'59c3cb449251415b3201570e\\', \\'gender\\': 0, \\'id\\': 1888770, \\'name\\': \\'John Manca\\', \\'order\\': 39, \\'profile_path\\': None}, {\\'cast_id\\': 53, \\'character\\': \\'Wiseguy Jerry\\', \\'credit_id\\': \\'59c3cb6d9251415b6e014ccf\\', \\'gender\\': 2, \\'id\\': 233121, \\'name\\': \\'Ronald Maccone\\', \\'order\\': 40, \\'profile_path\\': \\'/ffEKUmCHFYhYFIGknT4snW8mqRX.jpg\\'}, {\\'cast_id\\': 54, \\'character\\': \\'Moosh\\', \\'credit_id\\': \\'59c3cbe6c3a368141e01407c\\', \\'gender\\': 0, \\'id\\': 1888773, \\'name\\': \\'Joseph Bono\\', \\'order\\': 41, \\'profile_path\\': \\'/6qzUvSRwyWCix4nz8ZIi5GW3Kyk.jpg\\'}, {\\'cast_id\\': 55, \\'character\\': \\'Rocky\\', \\'credit_id\\': \\'59c3cc1f9251415b3201580b\\', \\'gender\\': 2, \\'id\\': 4692, \\'name\\': \\'Frank Adonis\\', \\'order\\': 42, \\'profile_path\\': \\'/gvFFIid37pDICRPlEFYOQdH9mWc.jpg\\'}, {\\'cast_id\\': 56, \\'character\\': \\'Bookie\\', \\'credit_id\\': \\'59c3cc4dc3a36813ed0160cc\\', \\'gender\\': 2, \\'id\\': 58474, \\'name\\': \\'Anthony Russell\\', \\'order\\': 43, \\'profile_path\\': \\'/pEDgSXNYJpqkKFxjUywDYn7pKBE.jpg\\'}, {\\'cast_id\\': 57, \\'character\\': \\'LA Banker\\', \\'credit_id\\': \\'59c3ccdcc3a36813ed016196\\', \\'gender\\': 2, \\'id\\': 1183497, \\'name\\': \\'Stuart Nisbet\\', \\'order\\': 44, \\'profile_path\\': None}, {\\'cast_id\\': 58, \\'character\\': \\'Chastised Gambler\\', \\'credit_id\\': \\'59c3cd48c3a36813a9015484\\', \\'gender\\': 2, \\'id\\': 1644894, \\'name\\': \\'Alfred Nittoli\\', \\'order\\': 45, \\'profile_path\\': \\'/qxyUcJpsXm1lqS1SSGCMeaks82q.jpg\\'}]', \"[{'cast_id': 6, 'character': 'Marianne Dashwood', 'credit_id': '52fe43cec3a36847f807103b', 'gender': 1, 'id': 204, 'name': 'Kate Winslet', 'order': 0, 'profile_path': '/w8wjPbS24vPErNeYhAvtbyAUBMd.jpg'}, {'cast_id': 7, 'character': 'Elinor Dashwood', 'credit_id': '52fe43cec3a36847f807103f', 'gender': 1, 'id': 7056, 'name': 'Emma Thompson', 'order': 1, 'profile_path': '/cWTBHN8kLf6yapxiaQD9C6N1uMw.jpg'}, {'cast_id': 8, 'character': 'Edward Ferrars', 'credit_id': '52fe43cec3a36847f8071043', 'gender': 2, 'id': 3291, 'name': 'Hugh Grant', 'order': 2, 'profile_path': '/r3rSJLJwKmsJyPA3gojzuMthJ4C.jpg'}, {'cast_id': 9, 'character': 'Mr. Dashwood', 'credit_id': '52fe43cec3a36847f8071047', 'gender': 2, 'id': 207, 'name': 'Tom Wilkinson', 'order': 3, 'profile_path': '/4mxZKgdem0sQ8hJd0Y7TREwq7TJ.jpg'}, {'cast_id': 10, 'character': 'Col. Christopher Brandon', 'credit_id': '52fe43cec3a36847f807104b', 'gender': 2, 'id': 4566, 'name': 'Alan Rickman', 'order': 4, 'profile_path': '/7tADZs4ILE93oJ5pAh6mKQFEq2m.jpg'}, {'cast_id': 11, 'character': 'Lucy Steele', 'credit_id': '52fe43cec3a36847f807104f', 'gender': 1, 'id': 20769, 'name': 'Imogen Stubbs', 'order': 5, 'profile_path': '/osr7TepyQdENiyy4iYi8zfWzIx.jpg'}, {'cast_id': 12, 'character': 'John Willoughby', 'credit_id': '52fe43cec3a36847f8071053', 'gender': 2, 'id': 16700, 'name': 'Greg Wise', 'order': 6, 'profile_path': '/A4u37pRp9MakKBhiIblXSCJEk33.jpg'}, {'cast_id': 13, 'character': 'Mr. Palmer', 'credit_id': '52fe43cec3a36847f8071057', 'gender': 2, 'id': 41419, 'name': 'Hugh Laurie', 'order': 7, 'profile_path': '/3qCmEHtq5fBW8dbzsYDSy16Zqb0.jpg'}, {'cast_id': 14, 'character': 'Charlotte Jennings Palmer', 'credit_id': '52fe43cec3a36847f807105b', 'gender': 1, 'id': 11356, 'name': 'Imelda Staunton', 'order': 8, 'profile_path': '/mKlkh0AuYPD5HjmnlrW0uPm5QvJ.jpg'}, {'cast_id': 15, 'character': 'Sir John Middleton', 'credit_id': '52fe43cec3a36847f807105f', 'gender': 2, 'id': 23076, 'name': 'Robert Hardy', 'order': 9, 'profile_path': '/y6NTr4kw3mNQnPmvhs4XMiFT8v5.jpg'}, {'cast_id': 16, 'character': 'Doctor Harris', 'credit_id': '52fe43cec3a36847f8071063', 'gender': 2, 'id': 31923, 'name': 'Oliver Ford Davies', 'order': 10, 'profile_path': '/7fpNxQYZ85oRdnKWxPzQfURFkFT.jpg'}, {'cast_id': 17, 'character': 'John Dashwood', 'credit_id': '54128d2c0e0a26730d000b28', 'gender': 2, 'id': 10726, 'name': 'James Fleet', 'order': 11, 'profile_path': '/eS2oKgYBTwgko5cYSvKLIARTZJO.jpg'}, {'cast_id': 18, 'character': 'Fanny Ferrars Dashwood', 'credit_id': '54128d3f0e0a267310000b40', 'gender': 1, 'id': 17477, 'name': 'Harriet Walter', 'order': 12, 'profile_path': '/vfpIPsC27D1ONVres7j3DgWYzdN.jpg'}, {'cast_id': 19, 'character': 'Mrs. Dashwood', 'credit_id': '54128d500e0a26731f000b31', 'gender': 1, 'id': 9138, 'name': 'Gemma Jones', 'order': 13, 'profile_path': '/doDUez5AkN0bfqmZWB0bKO9mcJe.jpg'}, {'cast_id': 20, 'character': 'Margaret Dashwood', 'credit_id': '54128d670e0a26730a000aee', 'gender': 0, 'id': 937907, 'name': 'Emilie François', 'order': 14, 'profile_path': None}, {'cast_id': 21, 'character': 'Mrs. Jennings', 'credit_id': '54128d7b0e0a267317000b10', 'gender': 1, 'id': 1220119, 'name': 'Elizabeth Spriggs', 'order': 15, 'profile_path': '/dwzoE4S0dFJRoxTcvvfjOuSp4Sx.jpg'}, {'cast_id': 22, 'character': 'Robert Ferrars', 'credit_id': '57fb00e6c3a3683ac60039bf', 'gender': 2, 'id': 141551, 'name': 'Richard Lumsden', 'order': 16, 'profile_path': '/2YwiyGY1w1W4OQbnjGUf1yBvRbk.jpg'}]\", \"[{'cast_id': 42, 'character': 'Ted the Bellhop', 'credit_id': '52fe420dc3a36847f80001b7', 'gender': 2, 'id': 3129, 'name': 'Tim Roth', 'order': 0, 'profile_path': '/r4jtlboNqWPz2dOHafrPJE4Yd94.jpg'}, {'cast_id': 31, 'character': 'Man', 'credit_id': '52fe420dc3a36847f800018b', 'gender': 2, 'id': 3131, 'name': 'Antonio Banderas', 'order': 1, 'profile_path': '/85197jARsr06xQ84NhP9YoBL3sR.jpg'}, {'cast_id': 29, 'character': 'Angela', 'credit_id': '52fe420dc3a36847f8000183', 'gender': 1, 'id': 3130, 'name': 'Jennifer Beals', 'order': 2, 'profile_path': '/uYa9mUAh3YeFlACaY0rI0Oz7pRf.jpg'}, {'cast_id': 25, 'character': 'Elspeth', 'credit_id': '52fe420dc3a36847f8000173', 'gender': 1, 'id': 3125, 'name': 'Madonna', 'order': 3, 'profile_path': '/oWBpuX3Bxcp6pyP4KNKws0JibDD.jpg'}, {'cast_id': 41, 'character': 'Margaret', 'credit_id': '52fe420dc3a36847f80001b3', 'gender': 1, 'id': 3141, 'name': 'Marisa Tomei', 'order': 4, 'profile_path': '/w8qBpRcv04D5eSnnmvRL7PXyW36.jpg'}, {'cast_id': 43, 'character': 'Leo', 'credit_id': '52fe420dc3a36847f80001bb', 'gender': 2, 'id': 62, 'name': 'Bruce Willis', 'order': 5, 'profile_path': '/2B7RySy2WMVJKKEFN2XA3IFb8w0.jpg'}, {'cast_id': 38, 'character': 'Chester Rush', 'credit_id': '52fe420dc3a36847f80001a7', 'gender': 2, 'id': 138, 'name': 'Quentin Tarantino', 'order': 6, 'profile_path': '/9ci4NBvHXJktxjALdJsrtasqgtV.jpg'}, {'cast_id': 22, 'character': 'Jezebel', 'credit_id': '52fe420dc3a36847f8000167', 'gender': 1, 'id': 3122, 'name': 'Sammi Davis', 'order': 7, 'profile_path': '/1h6J7f0AZBGtn1kmfoipQVFZBaQ.jpg'}, {'cast_id': 23, 'character': 'Diana', 'credit_id': '52fe420dc3a36847f800016b', 'gender': 1, 'id': 3123, 'name': 'Amanda de Cadenet', 'order': 8, 'profile_path': '/m6poxt6GFglku6yregZH7NxElET.jpg'}, {'cast_id': 24, 'character': 'Athena', 'credit_id': '52fe420dc3a36847f800016f', 'gender': 1, 'id': 3124, 'name': 'Valeria Golino', 'order': 9, 'profile_path': '/fD4N460T7Yw8VTDG4YgoMSdMqhU.jpg'}, {'cast_id': 27, 'character': 'Raven', 'credit_id': '52fe420dc3a36847f800017b', 'gender': 1, 'id': 3127, 'name': 'Lili Taylor', 'order': 10, 'profile_path': '/pIJ4Enx6kIC9srLkDfGpEzfNlDZ.jpg'}, {'cast_id': 39, 'character': 'Long Hair Yuppy Scum', 'credit_id': '52fe420dc3a36847f80001ab', 'gender': 2, 'id': 2545, 'name': 'Lawrence Bender', 'order': 11, 'profile_path': '/5EzlP8qdCYQrhqEYB2MTmY74KFB.jpg'}, {'cast_id': 26, 'character': 'Eva', 'credit_id': '52fe420dc3a36847f8000177', 'gender': 1, 'id': 3126, 'name': 'Ione Skye', 'order': 12, 'profile_path': '/oiVKhuD2s4kNVnnAYUICtCjdzoC.jpg'}, {'cast_id': 28, 'character': 'Kiva', 'credit_id': '52fe420dc3a36847f800017f', 'gender': 1, 'id': 3128, 'name': 'Alicia Witt', 'order': 13, 'profile_path': '/pmKMhehztGEv2i7PPY20nP68j0f.jpg'}, {'cast_id': 30, 'character': 'Siegfried', 'credit_id': '52fe420dc3a36847f8000187', 'gender': 2, 'id': 2555, 'name': 'David Proval', 'order': 14, 'profile_path': '/ujBzP61tYlwqWpB3oOxknl1XuEg.jpg'}, {'cast_id': 32, 'character': 'Sarah', 'credit_id': '52fe420dc3a36847f800018f', 'gender': 1, 'id': 3132, 'name': 'Lana McKissack', 'order': 15, 'profile_path': None}, {'cast_id': 34, 'character': 'Wife', 'credit_id': '52fe420dc3a36847f8000197', 'gender': 1, 'id': 3134, 'name': 'Tamlyn Tomita', 'order': 16, 'profile_path': '/iX6zGWXFWLdUnxaVebXGzXXwgft.jpg'}, {'cast_id': 40, 'character': 'Betty', 'credit_id': '52fe420dc3a36847f80001af', 'gender': 1, 'id': 3138, 'name': 'Kathy Griffin', 'order': 17, 'profile_path': '/psg895Ye46vGenRdX0EXvGOm92p.jpg'}, {'cast_id': 37, 'character': 'Norman', 'credit_id': '52fe420dc3a36847f80001a3', 'gender': 2, 'id': 3137, 'name': 'Paul Calderon', 'order': 18, 'profile_path': '/2v8spXfKtaMbFZ25FrVsV0SAPwW.jpg'}, {'cast_id': 36, 'character': 'TV Dancing Girl', 'credit_id': '52fe420dc3a36847f800019f', 'gender': 1, 'id': 3136, 'name': 'Salma Hayek', 'order': 19, 'profile_path': '/u5mg73xKVqm8oT93HoMmsgQHyoK.jpg'}, {'cast_id': 33, 'character': 'Corpse', 'credit_id': '52fe420dc3a36847f8000193', 'gender': 1, 'id': 3133, 'name': 'Patricia Vonne', 'order': 20, 'profile_path': '/hQ5YETklKKI8FwTZoDREDYJ0K4I.jpg'}, {'cast_id': 35, 'character': 'Juancho', 'credit_id': '52fe420dc3a36847f800019b', 'gender': 0, 'id': 3135, 'name': 'Danny Verduzco', 'order': 21, 'profile_path': None}, {'cast_id': 44, 'character': 'Hooker', 'credit_id': '52fe420dc3a36847f80001bf', 'gender': 0, 'id': 37336, 'name': 'Kimberly Blair', 'order': 22, 'profile_path': None}, {'cast_id': 45, 'character': 'Sam the Bellhop', 'credit_id': '52fe420dc3a36847f80001c3', 'gender': 2, 'id': 3140, 'name': 'Marc Lawrence', 'order': 23, 'profile_path': '/l9BsvMMq9db1eSbnTGia0ymp1mv.jpg'}]\", '[{\\'cast_id\\': 1, \\'character\\': \\'Ace Ventura\\', \\'credit_id\\': \\'52fe44dfc3a36847f80af279\\', \\'gender\\': 2, \\'id\\': 206, \\'name\\': \\'Jim Carrey\\', \\'order\\': 0, \\'profile_path\\': \\'/5tVf0ow8MX4OwjmVoSa5v7qUDka.jpg\\'}, {\\'cast_id\\': 2, \\'character\\': \\'Fulton Greenwall\\', \\'credit_id\\': \\'52fe44dfc3a36847f80af27d\\', \\'gender\\': 2, \\'id\\': 3547, \\'name\\': \\'Ian McNeice\\', \\'order\\': 1, \\'profile_path\\': \\'/v217qBNPrwNBvcu9F3BVBPE0AwM.jpg\\'}, {\\'cast_id\\': 3, \\'character\\': \\'Vincent Cadby\\', \\'credit_id\\': \\'52fe44dfc3a36847f80af281\\', \\'gender\\': 2, \\'id\\': 4001, \\'name\\': \\'Simon Callow\\', \\'order\\': 2, \\'profile_path\\': \\'/pOABmGHa7h1CQ1oG4Q6PyuCbwqL.jpg\\'}, {\\'cast_id\\': 4, \\'character\\': \\'Ouda\\', \\'credit_id\\': \\'52fe44dfc3a36847f80af285\\', \\'gender\\': 2, \\'id\\': 57096, \\'name\\': \\'Maynard Eziashi\\', \\'order\\': 3, \\'profile_path\\': \\'/zSxucY5ua1EnrVoKJD97BuqJGvw.jpg\\'}, {\\'cast_id\\': 15, \\'character\\': \\'Burton Quinn\\', \\'credit_id\\': \\'52fe44dfc3a36847f80af2c5\\', \\'gender\\': 2, \\'id\\': 4029, \\'name\\': \\'Bob Gunton\\', \\'order\\': 4, \\'profile_path\\': \\'/b3NfI0IzPYI40eIEtO9O0XQiR8j.jpg\\'}, {\\'cast_id\\': 16, \\'character\\': \\'The Wachati Princess\\', \\'credit_id\\': \\'52fe44dfc3a36847f80af2c9\\', \\'gender\\': 1, \\'id\\': 2598, \\'name\\': \\'Sophie Okonedo\\', \\'order\\': 5, \\'profile_path\\': \\'/5Yo3KGum1txRLmt6JZwQ5TYSIsg.jpg\\'}, {\\'cast_id\\': 17, \\'character\\': \\'The Tiny Warrior\\', \\'credit_id\\': \\'52fe44dfc3a36847f80af2cd\\', \\'gender\\': 2, \\'id\\': 88059, \\'name\\': \\'Tommy Davidson\\', \\'order\\': 6, \\'profile_path\\': \\'/q0f7F4jYfZ5XvcaeBxtbQlfltLX.jpg\\'}, {\\'cast_id\\': 18, \\'character\\': \\'Hitu\\', \\'credit_id\\': \\'52fe44dfc3a36847f80af2d1\\', \\'gender\\': 2, \\'id\\': 31164, \\'name\\': \\'Adewale Akinnuoye-Agbaje\\', \\'order\\': 7, \\'profile_path\\': \\'/lnFcwjgNDNRzQ8yC1HPDIBRBwBh.jpg\\'}, {\\'cast_id\\': 19, \\'character\\': \\'Wachootoo Witch Doctor\\', \\'credit_id\\': \\'52fe44dfc3a36847f80af2d5\\', \\'gender\\': 0, \\'id\\': 1080060, \\'name\\': \\'Danny D. Daniels\\', \\'order\\': 8, \\'profile_path\\': None}, {\\'cast_id\\': 20, \\'character\\': \\'Wachootoo Chief\\', \\'credit_id\\': \\'52fe44dfc3a36847f80af2d9\\', \\'gender\\': 0, \\'id\\': 1080061, \\'name\\': \\'Sam Motoana Phillips\\', \\'order\\': 9, \\'profile_path\\': \\'/rJrBTHb3LHFrFo0uydYVhRxKl8c.jpg\\'}, {\\'cast_id\\': 21, \\'character\\': \\'Wachati Chief\\', \\'credit_id\\': \\'52fe44dfc3a36847f80af2dd\\', \\'gender\\': 2, \\'id\\': 172354, \\'name\\': \\'Damon Standifer\\', \\'order\\': 10, \\'profile_path\\': None}, {\\'cast_id\\': 22, \\'character\\': \\'Mick Katie\\', \\'credit_id\\': \\'52fe44dfc3a36847f80af2e1\\', \\'gender\\': 2, \\'id\\': 158324, \\'name\\': \\'Andrew Steel\\', \\'order\\': 11, \\'profile_path\\': None}, {\\'cast_id\\': 23, \\'character\\': \\'Gahjii\\', \\'credit_id\\': \\'52fe44dfc3a36847f80af2e5\\', \\'gender\\': 2, \\'id\\': 27752, \\'name\\': \\'Bruce Spence\\', \\'order\\': 12, \\'profile_path\\': \\'/pwJJBmO9MG3OxVX9efGrB6BTFyw.jpg\\'}, {\\'cast_id\\': 24, \\'character\\': \\'Derrick McCane\\', \\'credit_id\\': \\'52fe44dfc3a36847f80af2e9\\', \\'gender\\': 0, \\'id\\': 171303, \\'name\\': \\'Tom Grunke\\', \\'order\\': 13, \\'profile_path\\': None}, {\\'cast_id\\': 25, \\'character\\': \\'Ashram Monk\\', \\'credit_id\\': \\'52fe44dfc3a36847f80af2ed\\', \\'gender\\': 0, \\'id\\': 1080062, \\'name\\': \"Arsenio \\'Sonny\\' Trinidad\", \\'order\\': 14, \\'profile_path\\': None}]', \"[{'cast_id': 1, 'character': 'John', 'credit_id': '52fe44509251416c7503059b', 'gender': 2, 'id': 10814, 'name': 'Wesley Snipes', 'order': 0, 'profile_path': '/hQ6EBa6vgu7HoZpzms8Y10VL5Iw.jpg'}, {'cast_id': 3, 'character': 'Charlie', 'credit_id': '52fe44509251416c750305a5', 'gender': 2, 'id': 57755, 'name': 'Woody Harrelson', 'order': 1, 'profile_path': '/1ecdooAHICUhCZKKEKlFtccEmTU.jpg'}, {'cast_id': 4, 'character': 'Grace Santiago', 'credit_id': '52fe44509251416c750305a9', 'gender': 1, 'id': 16866, 'name': 'Jennifer Lopez', 'order': 2, 'profile_path': '/mxBDIyt8u4q5eJcQkGipNYTtlvz.jpg'}, {'cast_id': 5, 'character': 'Donald Patterson', 'credit_id': '52fe44509251416c750305ad', 'gender': 2, 'id': 9287, 'name': 'Robert Blake', 'order': 3, 'profile_path': '/fA9Zg9OprSMxjy54KuH1WDiCMvq.jpg'}, {'cast_id': 17, 'character': 'Torch', 'credit_id': '532ad10fc3a3681fe3001a2b', 'gender': 2, 'id': 2955, 'name': 'Chris Cooper', 'order': 4, 'profile_path': '/ytZY7YofdiAZyiyr4NyiB77lwwQ.jpg'}, {'cast_id': 18, 'character': 'Riley', 'credit_id': '54d677c5c3a3683b890027be', 'gender': 2, 'id': 4887, 'name': 'Joe Grifasi', 'order': 5, 'profile_path': '/cesXbWZaKHeOhsSdfbF9mB9750w.jpg'}, {'cast_id': 19, 'character': 'Mr. Brown', 'credit_id': '54d677d79251416b93002891', 'gender': 2, 'id': 32287, 'name': 'Scott Sowers', 'order': 6, 'profile_path': None}, {'cast_id': 20, 'character': 'Kowalski', 'credit_id': '54d677e99251416b9f00290d', 'gender': 2, 'id': 33658, 'name': 'Skipp Sudduth', 'order': 7, 'profile_path': '/oUECAyIm2D0PZ22K27MArXarwWI.jpg'}, {'cast_id': 21, 'character': 'Woman on Platform', 'credit_id': '54d677ff9251415f75002694', 'gender': 0, 'id': 106791, 'name': 'Aida Turturro', 'order': 8, 'profile_path': '/hvQKy8ZdeWWVBgLbeczkm0kyAgU.jpg'}, {'cast_id': 22, 'character': 'Gambler', 'credit_id': '54d6780e9251415f75002696', 'gender': 2, 'id': 47774, 'name': 'Vincent Pastore', 'order': 9, 'profile_path': '/4SlzY9TtgQKDVu2GIYu3M73MxeP.jpg'}, {'cast_id': 23, 'character': 'Dooley', 'credit_id': '54d67824c3a368439a0027aa', 'gender': 2, 'id': 15029, 'name': 'Enrico Colantoni', 'order': 10, 'profile_path': '/wBk8AhIceVDdnH6CnBaapz8A7aa.jpg'}, {'cast_id': 24, 'character': 'Crash Train Motorman', 'credit_id': '54d678459251415f7500269b', 'gender': 2, 'id': 5502, 'name': 'Bill Nunn', 'order': 11, 'profile_path': '/dcZWC2iGjHasKwdYSwpHcWFQX5a.jpg'}, {'cast_id': 59, 'character': 'Crosswalk Child', 'credit_id': '56dade879251417a4e001cab', 'gender': 1, 'id': 203801, 'name': 'Katie Gill', 'order': 12, 'profile_path': '/e02cb7gv1N68BRe6ohr58SKPeXg.jpg'}, {'cast_id': 60, 'character': 'Guard', 'credit_id': '57265b7ac3a3681c26003f1e', 'gender': 2, 'id': 15372, 'name': 'Jeremy Roberts', 'order': 13, 'profile_path': '/pa0Svikgm2bQI3u6C0r7vg7yRSY.jpg'}, {'cast_id': 61, 'character': 'Decoy Cop', 'credit_id': '593569f0c3a3685a4503487b', 'gender': 2, 'id': 1811956, 'name': 'Joe Bacino', 'order': 14, 'profile_path': '/p1V6C3xcZ9R0U6uEfu3eDwEfKhF.jpg'}]\", '[{\\'cast_id\\': 1, \\'character\\': \\'Chili Palmer\\', \\'credit_id\\': \\'52fe448dc3a36847f809c6eb\\', \\'gender\\': 2, \\'id\\': 8891, \\'name\\': \\'John Travolta\\', \\'order\\': 0, \\'profile_path\\': \\'/ns8uZHEHzV18ifqA9secv8c2Ard.jpg\\'}, {\\'cast_id\\': 2, \\'character\\': \\'Harry Zimm\\', \\'credit_id\\': \\'52fe448dc3a36847f809c6ef\\', \\'gender\\': 2, \\'id\\': 193, \\'name\\': \\'Gene Hackman\\', \\'order\\': 1, \\'profile_path\\': \\'/qEKcmwc1XstymEniGuCs3KIsGfP.jpg\\'}, {\\'cast_id\\': 3, \\'character\\': \\'Karen Flores\\', \\'credit_id\\': \\'52fe448dc3a36847f809c6f3\\', \\'gender\\': 1, \\'id\\': 14343, \\'name\\': \\'Rene Russo\\', \\'order\\': 2, \\'profile_path\\': \\'/aaPzuXRHdyxamPMXqu70okPaqvB.jpg\\'}, {\\'cast_id\\': 4, \\'character\\': \\'Martin Weir\\', \\'credit_id\\': \\'52fe448dc3a36847f809c6f7\\', \\'gender\\': 2, \\'id\\': 518, \\'name\\': \\'Danny DeVito\\', \\'order\\': 3, \\'profile_path\\': \\'/zKuyzmKzPLG7RJo7lbbHjx6CCZc.jpg\\'}, {\\'cast_id\\': 5, \\'character\\': \"Ray \\'Bones\\' Barboni\", \\'credit_id\\': \\'52fe448dc3a36847f809c6fb\\', \\'gender\\': 2, \\'id\\': 1117, \\'name\\': \\'Dennis Farina\\', \\'order\\': 4, \\'profile_path\\': \\'/o649nAtUimSZxEV6xa5JbMSgsED.jpg\\'}, {\\'cast_id\\': 6, \\'character\\': \\'Bo Catlett\\', \\'credit_id\\': \\'52fe448dc3a36847f809c6ff\\', \\'gender\\': 2, \\'id\\': 18792, \\'name\\': \\'Delroy Lindo\\', \\'order\\': 5, \\'profile_path\\': \\'/uhjdTemc2kYbQj47bVqRb7OdVjH.jpg\\'}, {\\'cast_id\\': 7, \\'character\\': \\'Bear\\', \\'credit_id\\': \\'52fe448dc3a36847f809c703\\', \\'gender\\': 2, \\'id\\': 4691, \\'name\\': \\'James Gandolfini\\', \\'order\\': 6, \\'profile_path\\': \\'/19r3knxqTAPUgfItOPXg3ouOcpI.jpg\\'}, {\\'cast_id\\': 8, \\'character\\': \\'Ronnie Wingate\\', \\'credit_id\\': \\'52fe448dc3a36847f809c707\\', \\'gender\\': 2, \\'id\\': 9629, \\'name\\': \\'Jon Gries\\', \\'order\\': 7, \\'profile_path\\': \\'/yNhP4IZCMN10duIYKdHUFt8mJCU.jpg\\'}, {\\'cast_id\\': 9, \\'character\\': \\'Nicki\\', \\'credit_id\\': \\'52fe448dc3a36847f809c70b\\', \\'gender\\': 0, \\'id\\': 53600, \\'name\\': \\'Renee Props\\', \\'order\\': 8, \\'profile_path\\': None}, {\\'cast_id\\': 10, \\'character\\': \\'Leo Devoe\\', \\'credit_id\\': \\'52fe448dc3a36847f809c70f\\', \\'gender\\': 2, \\'id\\': 19839, \\'name\\': \\'David Paymer\\', \\'order\\': 9, \\'profile_path\\': \\'/rrI6LgFb1la4PCIYuTB7pjIGgut.jpg\\'}, {\\'cast_id\\': 11, \\'character\\': \\'Tommy Carlo\\', \\'credit_id\\': \\'52fe448dc3a36847f809c713\\', \\'gender\\': 2, \\'id\\': 4790, \\'name\\': \\'Martin Ferrero\\', \\'order\\': 10, \\'profile_path\\': \\'/gTIclBDE9q6TFmOx7JIn32zTaVk.jpg\\'}, {\\'cast_id\\': 12, \\'character\\': \\'Mr. Escobar\\', \\'credit_id\\': \\'52fe448dc3a36847f809c717\\', \\'gender\\': 2, \\'id\\': 30488, \\'name\\': \\'Miguel Sandoval\\', \\'order\\': 11, \\'profile_path\\': \\'/x0mn76606kpJtzzl0B2nfJlZXkE.jpg\\'}, {\\'cast_id\\': 13, \\'character\\': \\'Yayo Portillo\\', \\'credit_id\\': \\'52fe448dc3a36847f809c71b\\', \\'gender\\': 2, \\'id\\': 16429, \\'name\\': \\'Jacob Vargas\\', \\'order\\': 12, \\'profile_path\\': \\'/IP7LaQDCFgoM6rKp8lGG2GUXNU.jpg\\'}, {\\'cast_id\\': 14, \\'character\\': \\'Dick Allen\\', \\'credit_id\\': \\'52fe448dc3a36847f809c71f\\', \\'gender\\': 2, \\'id\\': 53601, \\'name\\': \\'Bobby Slayton\\', \\'order\\': 13, \\'profile_path\\': \\'/nFTCMgev1PrIwyn9EpZNDSgeyyN.jpg\\'}, {\\'cast_id\\': 15, \\'character\\': \\'Fay Devoe\\', \\'credit_id\\': \\'52fe448dc3a36847f809c723\\', \\'gender\\': 1, \\'id\\': 53602, \\'name\\': \\'Linda Hart\\', \\'order\\': 14, \\'profile_path\\': \\'/9gzrHfKwWcwVYikfWhqsOWitpnZ.jpg\\'}, {\\'cast_id\\': 25, \\'character\\': \"Bones\\' Buddy\", \\'credit_id\\': \\'53aa2737c3a3684cf800094d\\', \\'gender\\': 0, \\'id\\': 141582, \\'name\\': \\'Jeffrey J. Stephen\\', \\'order\\': 15, \\'profile_path\\': \\'/krBGyBelQSG7FOFS7WpKDQSA0eQ.jpg\\'}]', '[{\\'cast_id\\': 8, \\'character\\': \\'Helen Hudson\\', \\'credit_id\\': \\'52fe430ec3a36847f8037243\\', \\'gender\\': 1, \\'id\\': 10205, \\'name\\': \\'Sigourney Weaver\\', \\'order\\': 0, \\'profile_path\\': \\'/gxBIAr3CnBjkNRoPovVJCvEGqP0.jpg\\'}, {\\'cast_id\\': 9, \\'character\\': \\'M.J. Monahan\\', \\'credit_id\\': \\'52fe430ec3a36847f8037247\\', \\'gender\\': 1, \\'id\\': 18686, \\'name\\': \\'Holly Hunter\\', \\'order\\': 1, \\'profile_path\\': \\'/sfqLoSx2dmfQTafqbv8lNHnBeUW.jpg\\'}, {\\'cast_id\\': 10, \\'character\\': \\'Nico Letti\\', \\'credit_id\\': \\'52fe430ec3a36847f803724b\\', \\'gender\\': 2, \\'id\\': 883, \\'name\\': \\'Will Patton\\', \\'order\\': 2, \\'profile_path\\': \\'/qpycaaWP1oUx1Wd2lMBfQtR7qDO.jpg\\'}, {\\'cast_id\\': 11, \\'character\\': \\'Peter Foley\\', \\'credit_id\\': \\'52fe430ec3a36847f803724f\\', \\'gender\\': 2, \\'id\\': 18687, \\'name\\': \\'William McNamara\\', \\'order\\': 3, \\'profile_path\\': \\'/c19069KdW7VW4h8Q5Cq35j8sOMl.jpg\\'}, {\\'cast_id\\': 12, \\'character\\': \\'Doryll Lee Cullum\\', \\'credit_id\\': \\'52fe430ec3a36847f8037253\\', \\'gender\\': 2, \\'id\\': 18688, \\'name\\': \\'Harry Connick Jr.\\', \\'order\\': 4, \\'profile_path\\': \\'/zdIXPJyfpje8BGBjNQAe73CzSTx.jpg\\'}, {\\'cast_id\\': 13, \\'character\\': \\'Lt. Quinn\\', \\'credit_id\\': \\'52fe430ec3a36847f8037257\\', \\'gender\\': 2, \\'id\\': 5169, \\'name\\': \\'J.E. Freeman\\', \\'order\\': 5, \\'profile_path\\': \\'/lGqZh89pfgSNhIItjvn34jPO6HM.jpg\\'}, {\\'cast_id\\': 20, \\'character\\': \\'Ruben Goetz\\', \\'credit_id\\': \\'52fe430ec3a36847f803727f\\', \\'gender\\': 2, \\'id\\': 20212, \\'name\\': \\'Dermot Mulroney\\', \\'order\\': 6, \\'profile_path\\': \\'/4ZqA0SJ8KKZ1HvVdZZJlrqjxlq1.jpg\\'}, {\\'cast_id\\': 32, \\'character\\': \\'Andy\\', \\'credit_id\\': \\'52fe430ec3a36847f80372b1\\', \\'gender\\': 2, \\'id\\': 60205, \\'name\\': \\'John Rothman\\', \\'order\\': 7, \\'profile_path\\': \\'/bRSoDm75c5fKBbCrbrXwaPiAeST.jpg\\'}, {\\'cast_id\\': 25, \\'character\\': \\'Susan Schiffer\\', \\'credit_id\\': \\'52fe430ec3a36847f8037295\\', \\'gender\\': 1, \\'id\\': 154691, \\'name\\': \"Shannon O\\'Hurley\", \\'order\\': 8, \\'profile_path\\': None}, {\\'cast_id\\': 26, \\'character\\': \\'Pachulski\\', \\'credit_id\\': \\'52fe430ec3a36847f8037299\\', \\'gender\\': 2, \\'id\\': 95838, \\'name\\': \\'Bob Greene\\', \\'order\\': 9, \\'profile_path\\': None}, {\\'cast_id\\': 27, \\'character\\': \\'Kerby\\', \\'credit_id\\': \\'52fe430ec3a36847f803729d\\', \\'gender\\': 0, \\'id\\': 215904, \\'name\\': \\'Tony Haney\\', \\'order\\': 10, \\'profile_path\\': None}, {\\'cast_id\\': 28, \\'character\\': \\'Kostas\\', \\'credit_id\\': \\'52fe430ec3a36847f80372a1\\', \\'gender\\': 0, \\'id\\': 1074167, \\'name\\': \\'Danny Kovacs\\', \\'order\\': 11, \\'profile_path\\': None}, {\\'cast_id\\': 29, \\'character\\': \\'Landis\\', \\'credit_id\\': \\'52fe430ec3a36847f80372a5\\', \\'gender\\': 0, \\'id\\': 167781, \\'name\\': \\'Tahmus Rounds\\', \\'order\\': 12, \\'profile_path\\': \\'/mlD1u8LUimZzeh4kCJGr5kRFYKW.jpg\\'}, {\\'cast_id\\': 30, \\'character\\': \\'Cop #1\\', \\'credit_id\\': \\'52fe430ec3a36847f80372a9\\', \\'gender\\': 0, \\'id\\': 1074168, \\'name\\': \\'Scott Devenney\\', \\'order\\': 13, \\'profile_path\\': None}, {\\'cast_id\\': 31, \\'character\\': \\'Mike\\', \\'credit_id\\': \\'52fe430ec3a36847f80372ad\\', \\'gender\\': 0, \\'id\\': 1074169, \\'name\\': \\'David Michael Silverman\\', \\'order\\': 14, \\'profile_path\\': None}]', '[{\\'cast_id\\': 1, \\'character\\': \\'Robert Rath\\', \\'credit_id\\': \\'52fe451cc3a36847f80bd107\\', \\'gender\\': 2, \\'id\\': 16483, \\'name\\': \\'Sylvester Stallone\\', \\'order\\': 0, \\'profile_path\\': \\'/gnmwOa46C2TP35N7ARSzboTdx2u.jpg\\'}, {\\'cast_id\\': 2, \\'character\\': \\'Miguel Bain\\', \\'credit_id\\': \\'52fe451cc3a36847f80bd10b\\', \\'gender\\': 2, \\'id\\': 3131, \\'name\\': \\'Antonio Banderas\\', \\'order\\': 1, \\'profile_path\\': \\'/85197jARsr06xQ84NhP9YoBL3sR.jpg\\'}, {\\'cast_id\\': 3, \\'character\\': \\'Electra\\', \\'credit_id\\': \\'52fe451cc3a36847f80bd10f\\', \\'gender\\': 1, \\'id\\': 1231, \\'name\\': \\'Julianne Moore\\', \\'order\\': 2, \\'profile_path\\': \\'/v2FcWGiiuvl6P7NV0966jNL09uh.jpg\\'}, {\\'cast_id\\': 4, \\'character\\': \\'Nicolai Tashlinkov\\', \\'credit_id\\': \\'52fe451cc3a36847f80bd113\\', \\'gender\\': 0, \\'id\\': 58556, \\'name\\': \\'Anatoli Davydov\\', \\'order\\': 3, \\'profile_path\\': \\'/h612YfWBEymtZw13UQ6JVe0rXEs.jpg\\'}, {\\'cast_id\\': 5, \\'character\\': \\'Ketcham\\', \\'credit_id\\': \\'52fe451cc3a36847f80bd117\\', \\'gender\\': 2, \\'id\\': 17348, \\'name\\': \\'Muse Watson\\', \\'order\\': 4, \\'profile_path\\': \\'/f7SZHWqYqAndyA7BAcVBonkP3jQ.jpg\\'}, {\\'cast_id\\': 6, \\'character\\': \\'Alan Branch\\', \\'credit_id\\': \\'52fe451cc3a36847f80bd11b\\', \\'gender\\': 2, \\'id\\': 14328, \\'name\\': \\'Steve Kahan\\', \\'order\\': 5, \\'profile_path\\': \\'/ROLtxokJ0mFtPxpVQwosqDQysi.jpg\\'}, {\\'cast_id\\': 7, \\'character\\': \"Jennifer, Electra\\'s Neighbor\", \\'credit_id\\': \\'52fe451cc3a36847f80bd11f\\', \\'gender\\': 1, \\'id\\': 47757, \\'name\\': \\'Kelly Rowan\\', \\'order\\': 6, \\'profile_path\\': \\'/uxrGUfhLtqZXhy35r4RsHpZNz6Z.jpg\\'}, {\\'cast_id\\': 8, \\'character\\': \\'Bob\\', \\'credit_id\\': \\'52fe451cc3a36847f80bd123\\', \\'gender\\': 2, \\'id\\': 31508, \\'name\\': \\'Reed Diamond\\', \\'order\\': 7, \\'profile_path\\': \\'/mASm3pG5IzLMQlORD8v7vb8oEly.jpg\\'}, {\\'cast_id\\': 9, \\'character\\': \\'Remy\\', \\'credit_id\\': \\'52fe451cc3a36847f80bd127\\', \\'gender\\': 2, \\'id\\': 42146, \\'name\\': \\'Kai Wulff\\', \\'order\\': 8, \\'profile_path\\': \\'/pDcgW400PJ4qU9mw4LaY1hYKqKt.jpg\\'}, {\\'cast_id\\': 10, \\'character\\': \\'Buyer with Remy\\', \\'credit_id\\': \\'52fe451cc3a36847f80bd12b\\', \\'gender\\': 0, \\'id\\': 58557, \\'name\\': \\'Kerry Skalsky\\', \\'order\\': 9, \\'profile_path\\': None}, {\\'cast_id\\': 11, \\'character\\': \\'Buyer with Remy\\', \\'credit_id\\': \\'52fe451cc3a36847f80bd12f\\', \\'gender\\': 0, \\'id\\': 58558, \\'name\\': \\'James Douglas Haskins\\', \\'order\\': 10, \\'profile_path\\': None}, {\\'cast_id\\': 12, \\'character\\': \\'Cop\\', \\'credit_id\\': \\'52fe451cc3a36847f80bd133\\', \\'gender\\': 2, \\'id\\': 58559, \\'name\\': \\'Stephen Liska\\', \\'order\\': 11, \\'profile_path\\': \\'/aMpEuoFVA5xd3Pbqs97SkFpJjhe.jpg\\'}, {\\'cast_id\\': 13, \\'character\\': \\'Cop\\', \\'credit_id\\': \\'52fe451cc3a36847f80bd137\\', \\'gender\\': 0, \\'id\\': 58560, \\'name\\': \\'John Harms\\', \\'order\\': 12, \\'profile_path\\': None}, {\\'cast_id\\': 14, \\'character\\': \\'Cemetery Caretaker\\', \\'credit_id\\': \\'52fe451cc3a36847f80bd13b\\', \\'gender\\': 0, \\'id\\': 58561, \\'name\\': \\'Edward J. Rosen\\', \\'order\\': 13, \\'profile_path\\': None}, {\\'cast_id\\': 15, \\'character\\': \\'Dowager\\', \\'credit_id\\': \\'52fe451cc3a36847f80bd13f\\', \\'gender\\': 0, \\'id\\': 58562, \\'name\\': \\'Christina Orchid\\', \\'order\\': 14, \\'profile_path\\': None}, {\\'cast_id\\': 90, \\'character\\': \\'Cementary woman\\', \\'credit_id\\': \\'571f82f59251414df4002e80\\', \\'gender\\': 0, \\'id\\': 1611202, \\'name\\': \\'Choco Orta\\', \\'order\\': 15, \\'profile_path\\': None}, {\\'cast_id\\': 91, \\'character\\': \\'Kid in plaza\\', \\'credit_id\\': \\'5798c83ec3a3687e24000fff\\', \\'gender\\': 2, \\'id\\': 543847, \\'name\\': \\'Germán Legarreta\\', \\'order\\': 16, \\'profile_path\\': \\'/fydhgCsZadkVVx8jYBITN8WpEEl.jpg\\'}]', '[{\\'cast_id\\': 1, \\'character\\': \\'Jessie Caldwell\\', \\'credit_id\\': \\'52fe45119251416c7504ab51\\', \\'gender\\': 1, \\'id\\': 2453, \\'name\\': \\'Mary Steenburgen\\', \\'order\\': 0, \\'profile_path\\': \\'/yJhfuqS3yXW7kLSyvRU6n3b35mq.jpg\\'}, {\\'cast_id\\': 2, \\'character\\': \"Jeremy \\'Powder\\' Reed\", \\'credit_id\\': \\'52fe45119251416c7504ab55\\', \\'gender\\': 2, \\'id\\': 54789, \\'name\\': \\'Sean Patrick Flanery\\', \\'order\\': 1, \\'profile_path\\': \\'/eydhpVBF1jSSaaGeox8sMaFk2Mq.jpg\\'}, {\\'cast_id\\': 3, \\'character\\': \\'Sheriff Doug Barnum\\', \\'credit_id\\': \\'52fe45119251416c7504ab59\\', \\'gender\\': 2, \\'id\\': 2714, \\'name\\': \\'Lance Henriksen\\', \\'order\\': 2, \\'profile_path\\': \\'/wf4Pr9RxsHGd0O9fLPiB3Al8IVC.jpg\\'}, {\\'cast_id\\': 4, \\'character\\': \\'Donald Ripley\\', \\'credit_id\\': \\'52fe45129251416c7504ab5d\\', \\'gender\\': 2, \\'id\\': 4785, \\'name\\': \\'Jeff Goldblum\\', \\'order\\': 3, \\'profile_path\\': \\'/w9frUiRJUyRnWvFqihtS31q6LWc.jpg\\'}, {\\'cast_id\\': 5, \\'character\\': \\'Deputy Harley Duncan\\', \\'credit_id\\': \\'52fe45129251416c7504ab61\\', \\'gender\\': 2, \\'id\\': 36637, \\'name\\': \\'Brandon Smith\\', \\'order\\': 4, \\'profile_path\\': \\'/eM1ZbYDxOXhgPcY9Zlj12UyXxyD.jpg\\'}]', \"[{'cast_id': 1, 'character': 'Ben Sanderson', 'credit_id': '52fe4245c3a36847f801117b', 'gender': 2, 'id': 2963, 'name': 'Nicolas Cage', 'order': 0, 'profile_path': '/ti2h1OS1n1VwoJHWFaJD8dMZuEE.jpg'}, {'cast_id': 2, 'character': 'Sera', 'credit_id': '52fe4245c3a36847f801117f', 'gender': 1, 'id': 1951, 'name': 'Elisabeth Shue', 'order': 1, 'profile_path': '/44AaIXkbZFkdhSW1kRdzCbfYk6c.jpg'}, {'cast_id': 3, 'character': 'Yuri', 'credit_id': '52fe4245c3a36847f8011183', 'gender': 2, 'id': 6104, 'name': 'Julian Sands', 'order': 2, 'profile_path': '/hDb4UlbeTvvVK53Cmh7W0Ijo41h.jpg'}, {'cast_id': 4, 'character': 'Peter', 'credit_id': '52fe4245c3a36847f8011187', 'gender': 2, 'id': 6105, 'name': 'Richard Lewis', 'order': 3, 'profile_path': '/3FXeKupG6T32AXZ4mAh9XqIGfiu.jpg'}, {'cast_id': 5, 'character': 'Marc Nussbaum', 'credit_id': '52fe4245c3a36847f801118b', 'gender': 2, 'id': 6106, 'name': 'Steven Weber', 'order': 4, 'profile_path': '/ujINzDjLNtELBSUkRHQgExzP4Fb.jpg'}, {'cast_id': 6, 'character': 'Sheila', 'credit_id': '52fe4245c3a36847f801118f', 'gender': 1, 'id': 6107, 'name': 'Kim Adams', 'order': 5, 'profile_path': None}, {'cast_id': 7, 'character': 'Debbie', 'credit_id': '52fe4245c3a36847f8011193', 'gender': 1, 'id': 6108, 'name': 'Emily Procter', 'order': 6, 'profile_path': '/nZJypfLAXUg8Nn1GpBgbYVdqO4Y.jpg'}, {'cast_id': 8, 'character': 'Man At Bar', 'credit_id': '52fe4245c3a36847f8011197', 'gender': 2, 'id': 6109, 'name': 'Stuart Reynolds ', 'order': 7, 'profile_path': None}, {'cast_id': 9, 'character': 'Terri', 'credit_id': '52fe4245c3a36847f801119b', 'gender': 1, 'id': 3124, 'name': 'Valeria Golino', 'order': 8, 'profile_path': '/fD4N460T7Yw8VTDG4YgoMSdMqhU.jpg'}, {'cast_id': 10, 'character': 'L.A. Bartender', 'credit_id': '52fe4245c3a36847f801119f', 'gender': 2, 'id': 6110, 'name': 'Graham Beckel', 'order': 9, 'profile_path': '/hv1BySh6NFhR9dz1xtqdKn3gGCF.jpg'}, {'cast_id': 23, 'character': 'Hooker at bar', 'credit_id': '52fe4245c3a36847f80111eb', 'gender': 1, 'id': 6240, 'name': 'Mariska Hargitay', 'order': 10, 'profile_path': '/j4a4IatJajnayfBBpUVm1q0jWrr.jpg'}, {'cast_id': 24, 'character': 'Landlady', 'credit_id': '5402bc210e0a2658de006b1c', 'gender': 1, 'id': 12133, 'name': 'Laurie Metcalf', 'order': 11, 'profile_path': '/unMMIT60eoBM2sN2nyR7EZ2BvvD.jpg'}, {'cast_id': 25, 'character': 'Biker Girl', 'credit_id': '558da965c3a3687bfc00103b', 'gender': 1, 'id': 2138, 'name': 'Shawnee Smith', 'order': 12, 'profile_path': '/yx1HYEalFsiNVc2imDDfhIZthkn.jpg'}, {'cast_id': 27, 'character': 'Hotel Manager', 'credit_id': '59b1077fc3a3682d8702dde2', 'gender': 2, 'id': 52418, 'name': 'David Kriegel', 'order': 13, 'profile_path': '/ZaFsIbsB9Tt9ReoB7vLPNzBeaX.jpg'}]\", \"[{'cast_id': 2, 'character': 'Othello', 'credit_id': '52fe46d29251416c75084b0b', 'gender': 2, 'id': 2975, 'name': 'Laurence Fishburne', 'order': 0, 'profile_path': '/8suOhUmPbfKqDQ17jQ1Gy0mI3P4.jpg'}, {'cast_id': 3, 'character': 'Desdemona', 'credit_id': '52fe46d29251416c75084b0f', 'gender': 1, 'id': 1350, 'name': 'Irène Jacob', 'order': 1, 'profile_path': '/vjlwVgbpb22S4rriqkfOd9H4kmU.jpg'}, {'cast_id': 4, 'character': 'Iago', 'credit_id': '52fe46d29251416c75084b13', 'gender': 2, 'id': 11181, 'name': 'Kenneth Branagh', 'order': 2, 'profile_path': '/bmpGjbqvAVNOK3ggiuET2Jl96tZ.jpg'}, {'cast_id': 5, 'character': 'Cassio', 'credit_id': '52fe46d29251416c75084b17', 'gender': 2, 'id': 27631, 'name': 'Nathaniel Parker', 'order': 3, 'profile_path': '/w5SnRNxxY00lIDPB1SUh47nx46n.jpg'}, {'cast_id': 6, 'character': 'Bianca', 'credit_id': '52fe46d29251416c75084b1b', 'gender': 0, 'id': 232174, 'name': 'Indra Ové', 'order': 4, 'profile_path': '/nxJqWvoKAeke90UIJVgSTlvVtsu.jpg'}, {'cast_id': 9, 'character': 'Roderigo', 'credit_id': '546251330e0a267bef00010a', 'gender': 2, 'id': 17483, 'name': 'Michael Maloney', 'order': 5, 'profile_path': '/f0rV6ZXr8W6BkSCFeJo2KXdnD4A.jpg'}, {'cast_id': 10, 'character': 'Emilia', 'credit_id': '546251410e0a267bf500010a', 'gender': 1, 'id': 1227643, 'name': 'Anna Patrick', 'order': 6, 'profile_path': '/jdi9sSi5DF5uOmurxSwQhAsXjYf.jpg'}, {'cast_id': 11, 'character': 'Montano', 'credit_id': '546251500e0a267bef00010d', 'gender': 2, 'id': 32357, 'name': 'Nicholas Farrell', 'order': 7, 'profile_path': '/t1I4m6x2aAki1pRueK6pxbi7j9s.jpg'}, {'cast_id': 12, 'character': 'Lodovico', 'credit_id': '5462515ec3a3680813000118', 'gender': 2, 'id': 3968, 'name': 'Michael Sheen', 'order': 8, 'profile_path': '/rbDgZ38bn22MUC2mMpkrG0L6nhB.jpg'}]\", '[{\\'cast_id\\': 9, \\'character\\': \\'Young Roberta Martin\\', \\'credit_id\\': \\'52fe44dec3a36847f80aed73\\', \\'gender\\': 1, \\'id\\': 6886, \\'name\\': \\'Christina Ricci\\', \\'order\\': 0, \\'profile_path\\': \\'/dzB58d6fNrTEi7nBAU1tySJc2at.jpg\\'}, {\\'cast_id\\': 10, \\'character\\': \\'Dr. Roberta Martin\\', \\'credit_id\\': \\'52fe44dec3a36847f80aed77\\', \\'gender\\': 0, \\'id\\': 12929, \\'name\\': \"Rosie O\\'Donnell\", \\'order\\': 1, \\'profile_path\\': \\'/76ZWoNK1Fr6gmJUH1zhEBMsT9DT.jpg\\'}, {\\'cast_id\\': 11, \\'character\\': \\'Teeny\\', \\'credit_id\\': \\'52fe44dec3a36847f80aed7b\\', \\'gender\\': 1, \\'id\\': 2155, \\'name\\': \\'Thora Birch\\', \\'order\\': 2, \\'profile_path\\': \\'/jxtp9prkQgFmj0ZRvi1kcnnqaWb.jpg\\'}, {\\'cast_id\\': 12, \\'character\\': \"Tina \\'Teeny\\' Tercell\", \\'credit_id\\': \\'52fe44dec3a36847f80aed7f\\', \\'gender\\': 1, \\'id\\': 29369, \\'name\\': \\'Melanie Griffith\\', \\'order\\': 3, \\'profile_path\\': \\'/cb2IeaETE0oVV5JZc79Vi0dS6m2.jpg\\'}, {\\'cast_id\\': 13, \\'character\\': \\'Young Samantha Albertson\\', \\'credit_id\\': \\'52fe44dec3a36847f80aed83\\', \\'gender\\': 1, \\'id\\': 12930, \\'name\\': \\'Gaby Hoffmann\\', \\'order\\': 4, \\'profile_path\\': \\'/zg7FTMjtdWmyg8b4o5DXEZNC5uv.jpg\\'}, {\\'cast_id\\': 14, \\'character\\': \\'Samantha Albertson\\', \\'credit_id\\': \\'52fe44dec3a36847f80aed87\\', \\'gender\\': 1, \\'id\\': 3416, \\'name\\': \\'Demi Moore\\', \\'order\\': 5, \\'profile_path\\': \\'/eLNoOYnxvhpV0BMSkNNnyyo5In7.jpg\\'}, {\\'cast_id\\': 15, \\'character\\': \\'Young Chrissy DeWitt\\', \\'credit_id\\': \\'52fe44dec3a36847f80aed8b\\', \\'gender\\': 0, \\'id\\': 114471, \\'name\\': \\'Ashleigh Aston Moore\\', \\'order\\': 6, \\'profile_path\\': \\'/ijkawzik8lV28jVwPHEkOvDc8N.jpg\\'}, {\\'cast_id\\': 16, \\'character\\': \\'Chrissy DeWitt Williams\\', \\'credit_id\\': \\'52fe44dec3a36847f80aed8f\\', \\'gender\\': 1, \\'id\\': 12931, \\'name\\': \\'Rita Wilson\\', \\'order\\': 7, \\'profile_path\\': \\'/jsIeIIzvirqMMCua4fA0ziRsRIs.jpg\\'}, {\\'cast_id\\': 17, \\'character\\': \\'Crazy Pete\\', \\'credit_id\\': \\'52fe44dec3a36847f80aed93\\', \\'gender\\': 2, \\'id\\': 141521, \\'name\\': \\'Walter Sparrow\\', \\'order\\': 8, \\'profile_path\\': None}, {\\'cast_id\\': 18, \\'character\\': \\'Scott Wormer\\', \\'credit_id\\': \\'52fe44dec3a36847f80aed97\\', \\'gender\\': 2, \\'id\\': 50398, \\'name\\': \\'Devon Sawa\\', \\'order\\': 9, \\'profile_path\\': \\'/jur7ijuplTyNWItmXuFhCcUffd6.jpg\\'}, {\\'cast_id\\': 19, \\'character\\': \\'Grandma Albertson\\', \\'credit_id\\': \\'52fe44dec3a36847f80aed9b\\', \\'gender\\': 1, \\'id\\': 9599, \\'name\\': \\'Cloris Leachman\\', \\'order\\': 10, \\'profile_path\\': \\'/8ByYhjEHavhZiQYriHVXsWUfu8c.jpg\\'}, {\\'cast_id\\': 20, \\'character\\': \\'Wiladene\\', \\'credit_id\\': \\'52fe44dec3a36847f80aed9f\\', \\'gender\\': 1, \\'id\\': 21197, \\'name\\': \\'Janeane Garofalo\\', \\'order\\': 11, \\'profile_path\\': \\'/jwZs05qdp8kh6IwfECxDyRrteK8.jpg\\'}, {\\'cast_id\\': 21, \\'character\\': \\'Bud Kent\\', \\'credit_id\\': \\'52fe44dec3a36847f80aeda3\\', \\'gender\\': 2, \\'id\\': 5587, \\'name\\': \\'Hank Azaria\\', \\'order\\': 12, \\'profile_path\\': \\'/3vIdbP73nKnKpMAcgGWoALPF2JO.jpg\\'}, {\\'cast_id\\': 22, \\'character\\': \"Mrs. DeWitt, Chrissy\\'s Mom\", \\'credit_id\\': \\'52fe44dec3a36847f80aeda7\\', \\'gender\\': 1, \\'id\\': 5149, \\'name\\': \\'Bonnie Hunt\\', \\'order\\': 13, \\'profile_path\\': \\'/7spiVQwmr8siw5QCcvvdRG3c7Lf.jpg\\'}, {\\'cast_id\\': 23, \\'character\\': \"Mrs. Albertson, Samatha\\'s Mom\", \\'credit_id\\': \\'52fe44dec3a36847f80aedab\\', \\'gender\\': 1, \\'id\\': 12139, \\'name\\': \\'Lolita Davidovich\\', \\'order\\': 14, \\'profile_path\\': \\'/vQlk518qlef94XXJqtrkIqS3izo.jpg\\'}, {\\'cast_id\\': 24, \\'character\\': \\'Vietnam veteran\\', \\'credit_id\\': \\'552a831692514121d6001136\\', \\'gender\\': 2, \\'id\\': 18269, \\'name\\': \\'Brendan Fraser\\', \\'order\\': 15, \\'profile_path\\': \\'/n8VOWXp94nhIEo5nS9o6bOpUHiN.jpg\\'}]', \"[{'cast_id': 1, 'character': 'Anne Elliott', 'credit_id': '52fe46ff9251416c7508a8a9', 'gender': 1, 'id': 30318, 'name': 'Amanda Root', 'order': 0, 'profile_path': '/9YntDLcK36bsjxOmTgiy7uTRRVk.jpg'}, {'cast_id': 2, 'character': 'Captain Frederick Wentworth', 'credit_id': '52fe46ff9251416c7508a8ad', 'gender': 2, 'id': 8785, 'name': 'Ciarán Hinds', 'order': 1, 'profile_path': '/h5n8B12WoY1UAZjzSVEup4vsoBw.jpg'}, {'cast_id': 6, 'character': 'Lady Russell', 'credit_id': '52fe46ff9251416c7508a8c3', 'gender': 1, 'id': 87415, 'name': 'Susan Fleetwood', 'order': 2, 'profile_path': '/sOcuuRW1sr9DIxvTIpPb30JBKY5.jpg'}, {'cast_id': 8, 'character': 'Mrs. Croft', 'credit_id': '52fe46ff9251416c7508a8c7', 'gender': 1, 'id': 10981, 'name': 'Fiona Shaw', 'order': 3, 'profile_path': '/74b0OuN3xKs0dTMYBnbhDLwv8Oq.jpg'}, {'cast_id': 9, 'character': 'Admiral Croft', 'credit_id': '52fe46ff9251416c7508a8cb', 'gender': 2, 'id': 14465, 'name': 'John Woodvine', 'order': 4, 'profile_path': '/9re40l4z8VnSNtCjncUbALSBvXE.jpg'}, {'cast_id': 10, 'character': 'Elizabeth Elliot', 'credit_id': '52fe46ff9251416c7508a8cf', 'gender': 1, 'id': 3930, 'name': 'Phoebe Nicholls', 'order': 5, 'profile_path': '/7DbtgVQOefeCD4DEcUvfMYfsMM2.jpg'}, {'cast_id': 11, 'character': 'Mr. Elliot', 'credit_id': '52fe46ff9251416c7508a8d3', 'gender': 2, 'id': 54447, 'name': 'Samuel West', 'order': 6, 'profile_path': '/yIDXDpgXxPbl5qWu8KHV7fGzVNr.jpg'}, {'cast_id': 12, 'character': 'Mary Musgrave', 'credit_id': '52fe46ff9251416c7508a8d7', 'gender': 1, 'id': 32990, 'name': 'Sophie Thompson', 'order': 7, 'profile_path': '/39q6651Z7Ux8xrmRDhbXyOXGRom.jpg'}, {'cast_id': 13, 'character': 'Mrs. Musgrove', 'credit_id': '52fe46ff9251416c7508a8db', 'gender': 1, 'id': 45455, 'name': 'Judy Cornwell', 'order': 8, 'profile_path': '/yVk9V25HwSgnOpfwFam6bMgf0VW.jpg'}, {'cast_id': 14, 'character': 'Charles Musgrove', 'credit_id': '52fe46ff9251416c7508a8df', 'gender': 2, 'id': 57461, 'name': 'Simon Russell Beale', 'order': 9, 'profile_path': '/sCWLiTESdpjNahOj2jy0H4IWbp9.jpg'}, {'cast_id': 15, 'character': 'Mrs. Clay', 'credit_id': '52fe46ff9251416c7508a8e3', 'gender': 1, 'id': 42645, 'name': 'Felicity Dean', 'order': 10, 'profile_path': '/ed4GXMxcMxhcEtxgesdgN9IGg6s.jpg'}, {'cast_id': 16, 'character': 'Mr. Musgrove', 'credit_id': '52fe46ff9251416c7508a8e7', 'gender': 2, 'id': 27660, 'name': 'Roger Hammond', 'order': 11, 'profile_path': '/p81yHkWRbxDoKcwBKZoduEoSl9c.jpg'}, {'cast_id': 18, 'character': 'Henrietta Musgrove', 'credit_id': '52fe46ff9251416c7508a8ef', 'gender': 1, 'id': 55645, 'name': 'Victoria Hamilton', 'order': 13, 'profile_path': '/aA3wQdxKO8X7qSgRv2tnNYYqGNS.jpg'}, {'cast_id': 19, 'character': 'Sir Walter Elliot', 'credit_id': '52fe46ff9251416c7508a8f3', 'gender': 2, 'id': 13328, 'name': 'Corin Redgrave', 'order': 14, 'profile_path': '/wOL5eQawe8hKXtPNLSKfAygzhyS.jpg'}, {'cast_id': 20, 'character': 'Louisa Musgrove', 'credit_id': '55a5281ac3a3685e57001978', 'gender': 0, 'id': 1487246, 'name': 'Emma Roberts', 'order': 15, 'profile_path': None}, {'cast_id': 21, 'character': 'Captain Harvile', 'credit_id': '59534d099251412ac4032cca', 'gender': 2, 'id': 25665, 'name': 'Robert Glenister', 'order': 16, 'profile_path': '/3Ec4aaza99YR797NRpa87wJpEil.jpg'}, {'cast_id': 22, 'character': 'Captain Benwick', 'credit_id': '59534d889251411dbd012f46', 'gender': 2, 'id': 7025, 'name': 'Richard McCabe', 'order': 17, 'profile_path': '/66NC8mYAilfkq6QkVAmmCKp9GQd.jpg'}, {'cast_id': 23, 'character': 'Mrs. Smith', 'credit_id': '59534de2c3a3680d7302d83c', 'gender': 0, 'id': 1229181, 'name': 'Helen Schlesinger', 'order': 18, 'profile_path': '/mVM3auPV9wDPl7oRGep2cAb0kNq.jpg'}, {'cast_id': 24, 'character': 'Nurse Rooke', 'credit_id': '59534e0f9251412ac7033cbd', 'gender': 0, 'id': 1246598, 'name': 'Jane Wood', 'order': 19, 'profile_path': None}, {'cast_id': 25, 'character': 'Mr. Shepherd', 'credit_id': '59534e3c9251412ac7033ce0', 'gender': 2, 'id': 1227492, 'name': 'David Collings', 'order': 20, 'profile_path': '/jBoHqLSswAKOWoNfLbTm1K3JMDr.jpg'}, {'cast_id': 26, 'character': 'Lady Dairympie', 'credit_id': '59534ec79251416914004a16', 'gender': 0, 'id': 217100, 'name': 'Darlene Johnson', 'order': 21, 'profile_path': None}, {'cast_id': 27, 'character': 'Miss Carteret', 'credit_id': '59534fa592514168bf004af3', 'gender': 0, 'id': 1840472, 'name': 'Cinnamon Faye', 'order': 22, 'profile_path': None}, {'cast_id': 28, 'character': 'Henry Hayter', 'credit_id': '59534fe9c3a36834e501a586', 'gender': 0, 'id': 1840473, 'name': 'Isaac Maxwell-Hunt', 'order': 23, 'profile_path': None}, {'cast_id': 29, 'character': 'Sir Henry Willoughby', 'credit_id': '5953502bc3a36809c6033dcb', 'gender': 2, 'id': 1073272, 'name': 'Roger Llewellyn', 'order': 24, 'profile_path': None}, {'cast_id': 30, 'character': 'Mrs. Harville', 'credit_id': '59535076c3a36834e501a618', 'gender': 0, 'id': 1241523, 'name': 'Sally George', 'order': 25, 'profile_path': None}, {'cast_id': 31, 'character': 'Jemima', 'credit_id': '595350b2c3a36835260171f6', 'gender': 0, 'id': 1840474, 'name': 'Lonnie James', 'order': 26, 'profile_path': None}]\", '[{\\'cast_id\\': 24, \\'character\\': \\'One\\', \\'credit_id\\': \\'52fe428ac3a36847f8026cdf\\', \\'gender\\': 2, \\'id\\': 2372, \\'name\\': \\'Ron Perlman\\', \\'order\\': 0, \\'profile_path\\': \\'/xZyrXT2iEmSOokQRc1hedmxrbTi.jpg\\'}, {\\'cast_id\\': 25, \\'character\\': \\'Scaphandrier / Les Clones\\', \\'credit_id\\': \\'52fe428ac3a36847f8026ce3\\', \\'gender\\': 2, \\'id\\': 2413, \\'name\\': \\'Dominique Pinon\\', \\'order\\': 1, \\'profile_path\\': \\'/uXS9jinsWVT1ZWAz8rj9ifCy9qS.jpg\\'}, {\\'cast_id\\': 26, \\'character\\': \\'Miette\\', \\'credit_id\\': \\'52fe428ac3a36847f8026ce7\\', \\'gender\\': 0, \\'id\\': 13842, \\'name\\': \\'Judith Vittet\\', \\'order\\': 2, \\'profile_path\\': \\'/8jBxds9PU80J8aJhoNpDksbzUXU.jpg\\'}, {\\'cast_id\\': 27, \\'character\\': \\'Krank\\', \\'credit_id\\': \\'52fe428ac3a36847f8026ceb\\', \\'gender\\': 2, \\'id\\': 13843, \\'name\\': \\'Daniel Emilfork\\', \\'order\\': 3, \\'profile_path\\': \\'/sVPMtUDg3dTKpU4iBXCPwCc0k5j.jpg\\'}, {\\'cast_id\\': 28, \\'character\\': \\'Marcello\\', \\'credit_id\\': \\'52fe428ac3a36847f8026cef\\', \\'gender\\': 2, \\'id\\': 13687, \\'name\\': \\'Jean-Claude Dreyfus\\', \\'order\\': 4, \\'profile_path\\': \\'/zPCzuuP8yhI86eoBSAUgltMU5T5.jpg\\'}, {\\'cast_id\\': 29, \\'character\\': \\'la Pieuvre\\', \\'credit_id\\': \\'52fe428ac3a36847f8026cf3\\', \\'gender\\': 1, \\'id\\': 13845, \\'name\\': \\'Geneviève Brunet\\', \\'order\\': 5, \\'profile_path\\': \\'/3JER8Lahj03pjvIO4prsCBIcorq.jpg\\'}, {\\'cast_id\\': 30, \\'character\\': \\'la Pieuvre\\', \\'credit_id\\': \\'52fe428ac3a36847f8026cf7\\', \\'gender\\': 1, \\'id\\': 13846, \\'name\\': \\'Odile Mallet\\', \\'order\\': 6, \\'profile_path\\': \\'/cpYN3MV5RKnidTZ0JmN2Jf1A6q2.jpg\\'}, {\\'cast_id\\': 31, \\'character\\': \\'Mademoiselle Bismuth\\', \\'credit_id\\': \\'52fe428ac3a36847f8026cfb\\', \\'gender\\': 0, \\'id\\': 4394, \\'name\\': \\'Mireille Mossé\\', \\'order\\': 7, \\'profile_path\\': \\'/6NBOAx1hP0l423uEa2kjUsdr4UK.jpg\\'}, {\\'cast_id\\': 32, \\'character\\': \\'Gabriel Marie\\', \\'credit_id\\': \\'52fe428ac3a36847f8026cff\\', \\'gender\\': 2, \\'id\\': 2410, \\'name\\': \\'Serge Merlin\\', \\'order\\': 8, \\'profile_path\\': \\'/w07o6hg3hUxoWtgUBJ87VXilKzu.jpg\\'}, {\\'cast_id\\': 33, \\'character\\': \\'Peeler\\', \\'credit_id\\': \\'52fe428ac3a36847f8026d03\\', \\'gender\\': 2, \\'id\\': 2407, \\'name\\': \\'Rufus\\', \\'order\\': 9, \\'profile_path\\': \\'/bbMPwEFZaALc3VqBPZ8od2rmRuv.jpg\\'}, {\\'cast_id\\': 34, \\'character\\': \\'Ex-acrobat\\', \\'credit_id\\': \\'52fe428ac3a36847f8026d07\\', \\'gender\\': 2, \\'id\\': 13689, \\'name\\': \\'Ticky Holgado\\', \\'order\\': 10, \\'profile_path\\': \\'/2G0LmyNhNWlR55Zm5nlY6S79rPN.jpg\\'}, {\\'cast_id\\': 39, \\'character\\': \\'Father\\', \\'credit_id\\': \\'56c23a8cc3a36825fb0005e7\\', \\'gender\\': 0, \\'id\\': 100861, \\'name\\': \\'Cris Huerta\\', \\'order\\': 11, \\'profile_path\\': \\'/3cD3fa3WMTSodhYYT0JBBCIhzGt.jpg\\'}, {\\'cast_id\\': 40, \\'character\\': \"L\\'oncle Irvin (voice)\", \\'credit_id\\': \\'56c23aafc3a36825fb0005e9\\', \\'gender\\': 2, \\'id\\': 1352, \\'name\\': \\'Jean-Louis Trintignant\\', \\'order\\': 12, \\'profile_path\\': \\'/rvwO5Rsm2ZohPCQjwEvY30PBp68.jpg\\'}, {\\'cast_id\\': 41, \\'character\\': \\'Denree\\', \\'credit_id\\': \\'578dd309925141084800b587\\', \\'gender\\': 0, \\'id\\': 1653016, \\'name\\': \\'Joseph Lucien\\', \\'order\\': 13, \\'profile_path\\': None}, {\\'cast_id\\': 42, \\'character\\': \\'Lune\\', \\'credit_id\\': \\'578dd9f5c3a36817960017db\\', \\'gender\\': 1, \\'id\\': 103119, \\'name\\': \\'Mapi Galán\\', \\'order\\': 14, \\'profile_path\\': \\'/mEyTfjw6ihF4KlezIq5WEzKyqpf.jpg\\'}, {\\'cast_id\\': 43, \\'character\\': \\'Bottle\\', \\'credit_id\\': \\'578dda56c3a3686efa0084fe\\', \\'gender\\': 0, \\'id\\': 1653017, \\'name\\': \\'Briac Barthélémy\\', \\'order\\': 15, \\'profile_path\\': None}, {\\'cast_id\\': 44, \\'character\\': \\'Pipo\\', \\'credit_id\\': \\'578ddaee92514118b60017bb\\', \\'gender\\': 0, \\'id\\': 1653018, \\'name\\': \\'Pierre-Quentin Faesch\\', \\'order\\': 16, \\'profile_path\\': \\'/byLxbUaJbgHeXzxYlhEqFO1BH3T.jpg\\'}, {\\'cast_id\\': 45, \\'character\\': \\'Tadpole\\', \\'credit_id\\': \\'578ddc48925141086400c067\\', \\'gender\\': 0, \\'id\\': 131998, \\'name\\': \\'Alexis Pivot\\', \\'order\\': 17, \\'profile_path\\': \\'/gFZK0XgKhmWiKWtGuYqeCMILtGq.jpg\\'}, {\\'cast_id\\': 46, \\'character\\': \\'Killer\\', \\'credit_id\\': \\'578ddce4c3a368179600190b\\', \\'gender\\': 0, \\'id\\': 77904, \\'name\\': \\'François Hadji-Lazaro\\', \\'order\\': 18, \\'profile_path\\': \\'/xLAuJ8o7cH0i2ZwSYAcD5VHIPZL.jpg\\'}, {\\'cast_id\\': 47, \\'character\\': \\'Bogdan\\', \\'credit_id\\': \\'578ddd3b92514118b6001895\\', \\'gender\\': 0, \\'id\\': 28462, \\'name\\': \\'Dominique Bettenfeld\\', \\'order\\': 19, \\'profile_path\\': \\'/4LovjhsdwsUsHjFfIyOoWPYBB6T.jpg\\'}, {\\'cast_id\\': 48, \\'character\\': \\'Melchior\\', \\'credit_id\\': \\'578ddd79c3a3685acb010290\\', \\'gender\\': 0, \\'id\\': 77905, \\'name\\': \\'Lotfi Yahya Jedidi\\', \\'order\\': 20, \\'profile_path\\': \\'/pcqomuB8rwAKLuoB4tHhNjXOHn1.jpg\\'}, {\\'cast_id\\': 49, \\'character\\': \\'Brutus\\', \\'credit_id\\': \\'578ddf47925141180b001ab5\\', \\'gender\\': 0, \\'id\\': 240388, \\'name\\': \\'Thierry Gibault\\', \\'order\\': 21, \\'profile_path\\': \\'/35wUScZ44RVkMDMNsmle6YXKadx.jpg\\'}, {\\'cast_id\\': 50, \\'character\\': \\'Brother Ange-Joseph\\', \\'credit_id\\': \\'578ddfa5c3a3686efa00876f\\', \\'gender\\': 0, \\'id\\': 13680, \\'name\\': \\'Marc Caro\\', \\'order\\': 22, \\'profile_path\\': \\'/tUOvPzeZsFLjkclLks4xATX5PJC.jpg\\'}, {\\'cast_id\\': 51, \\'character\\': \\'Tattoo Artist\\', \\'credit_id\\': \\'578de02292514118b6001996\\', \\'gender\\': 0, \\'id\\': 992717, \\'name\\': \\'Ham-Chau Luong\\', \\'order\\': 23, \\'profile_path\\': None}, {\\'cast_id\\': 52, \\'character\\': \\'Barmaid\\', \\'credit_id\\': \\'578de25ac3a3686efa00889b\\', \\'gender\\': 0, \\'id\\': 17618, \\'name\\': \\'Frankie Pain\\', \\'order\\': 24, \\'profile_path\\': \\'/n6tU9XjwQer9kvhF5WHLewbEHki.jpg\\'}, {\\'cast_id\\': 53, \\'character\\': \\'Spainard\\', \\'credit_id\\': \\'578de2e192514118b6001a97\\', \\'gender\\': 0, \\'id\\': 1323011, \\'name\\': \\'Enrique Villanueva\\', \\'order\\': 25, \\'profile_path\\': None}, {\\'cast_id\\': 54, \\'character\\': \\'Tied-up Guard\\', \\'credit_id\\': \\'578de34ac3a3681745001d52\\', \\'gender\\': 0, \\'id\\': 97062, \\'name\\': \\'Dominique Chevalier\\', \\'order\\': 26, \\'profile_path\\': None}, {\\'cast_id\\': 55, \\'character\\': \\'Woman at her\\', \\'credit_id\\': \\'578de3a4925141188a001d90\\', \\'gender\\': 0, \\'id\\': 2409, \\'name\\': \\'Lorella Cravotta\\', \\'order\\': 27, \\'profile_path\\': \\'/ogcgzecaUkJrnSjhXt1GMrOfzvU.jpg\\'}, {\\'cast_id\\': 56, \\'character\\': \\'Soldier\\', \\'credit_id\\': \\'578de3ed9251415407007829\\', \\'gender\\': 0, \\'id\\': 580580, \\'name\\': \\'Éric Houzelot\\', \\'order\\': 28, \\'profile_path\\': None}, {\\'cast_id\\': 57, \\'character\\': \\'Double Clones\\', \\'credit_id\\': \\'578de480925141086400c3a3\\', \\'gender\\': 0, \\'id\\': 1176105, \\'name\\': \\'Philippe Beautier\\', \\'order\\': 29, \\'profile_path\\': \\'/eSdjTo2d6goIRvDiZfoTHOsXXjX.jpg\\'}, {\\'cast_id\\': 58, \\'character\\': \\'Double Clones\\', \\'credit_id\\': \\'578de4c8c3a3681748001e06\\', \\'gender\\': 0, \\'id\\': 1336073, \\'name\\': \\'Marc Amyot\\', \\'order\\': 30, \\'profile_path\\': \\'/v8z7LfPBHtRBhclyeKT41s3JTuR.jpg\\'}, {\\'cast_id\\': 59, \\'character\\': \\'Double Clones\\', \\'credit_id\\': \\'578de50ec3a3686ecc0073d9\\', \\'gender\\': 0, \\'id\\': 566292, \\'name\\': \\'Jean-Philippe Labadie\\', \\'order\\': 31, \\'profile_path\\': None}, {\\'cast_id\\': 60, \\'character\\': \\'Miette, age\\', \\'credit_id\\': \\'578de556925141084800bcfb\\', \\'gender\\': 0, \\'id\\': 1048762, \\'name\\': \\'Raphaèle Bouchard\\', \\'order\\': 32, \\'profile_path\\': None}, {\\'cast_id\\': 61, \\'character\\': \\'Miette, age 37\\', \\'credit_id\\': \\'578de5a9925141180b001d5b\\', \\'gender\\': 0, \\'id\\': 1330767, \\'name\\': \\'Elisabeth Etienne\\', \\'order\\': 33, \\'profile_path\\': None}, {\\'cast_id\\': 62, \\'character\\': \\'Miette, age 43\\', \\'credit_id\\': \\'578de655c3a3680d340071ac\\', \\'gender\\': 0, \\'id\\': 1529774, \\'name\\': \\'Rachel Boulenger\\', \\'order\\': 34, \\'profile_path\\': \\'/5fjz8uGkvCYG0OuFEHUCOYtaJWJ.jpg\\'}, {\\'cast_id\\': 63, \\'character\\': \\'Krank, age 45\\', \\'credit_id\\': \\'578de702925141188a001ec9\\', \\'gender\\': 0, \\'id\\': 1242620, \\'name\\': \\'Michel Motu\\', \\'order\\': 35, \\'profile_path\\': None}, {\\'cast_id\\': 64, \\'character\\': \\'Miette, age 82\\', \\'credit_id\\': \\'578de747c3a3680d340071fa\\', \\'gender\\': 1, \\'id\\': 9745, \\'name\\': \\'Nane Germon\\', \\'order\\': 36, \\'profile_path\\': \\'/yVdAAfPhKYK0ktfUgahClQa0zvl.jpg\\'}]', '[{\\'cast_id\\': 2, \\'character\\': \\'Xiao Jingbao\\', \\'credit_id\\': \\'52fe46559251416c910511c3\\', \\'gender\\': 1, \\'id\\': 643, \\'name\\': \\'Gong Li\\', \\'order\\': 0, \\'profile_path\\': \\'/dgGWKMAP5vbgACkXTazZXt3JQoT.jpg\\'}, {\\'cast_id\\': 9, \\'character\\': \\'Tang, the Gang Boss\\', \\'credit_id\\': \\'52fe46559251416c910511d9\\', \\'gender\\': 0, \\'id\\': 146097, \\'name\\': \\'Li Bao-Tian\\', \\'order\\': 3, \\'profile_path\\': \\'/iakW6UTcQG2utvTdvBlE6IsAa0p.jpg\\'}, {\\'cast_id\\': 10, \\'character\\': \\'Shuisheng, the boy\\', \\'credit_id\\': \\'52fe46559251416c910511dd\\', \\'gender\\': 0, \\'id\\': 150151, \\'name\\': \\'Wang Xiaoxiao\\', \\'order\\': 4, \\'profile_path\\': None}, {\\'cast_id\\': 11, \\'character\\': \\'Liu, 6th Uncle\\', \\'credit_id\\': \\'52fe46559251416c910511e1\\', \\'gender\\': 0, \\'id\\': 143358, \\'name\\': \\'Li Xuejian\\', \\'order\\': 5, \\'profile_path\\': \\'/ramX1jQg0oFmxkQDE790EOY2irj.jpg\\'}, {\\'cast_id\\': 12, \\'character\\': \"Song, Tang\\'s No. 2\", \\'credit_id\\': \\'52fe46559251416c910511e5\\', \\'gender\\': 0, \\'id\\': 150152, \\'name\\': \\'Chun Sung\\', \\'order\\': 6, \\'profile_path\\': None}, {\\'cast_id\\': 13, \\'character\\': \"Zheng, Tang\\'s No.3\", \\'credit_id\\': \\'52fe46559251416c910511e9\\', \\'gender\\': 0, \\'id\\': 150153, \\'name\\': \\'Fu Biao\\', \\'order\\': 7, \\'profile_path\\': \\'/cjJzkGG7mEfRquMnZlUzY35A8Uf.jpg\\'}]', \"[{'cast_id': 13, 'character': 'Louanne Johnson', 'credit_id': '52fe4546c3a36847f80c4e73', 'gender': 1, 'id': 1160, 'name': 'Michelle Pfeiffer', 'order': 0, 'profile_path': '/8kQhI2HGD1oB2wXHNqxRcElnmO3.jpg'}, {'cast_id': 14, 'character': 'Hal Griffith', 'credit_id': '52fe4546c3a36847f80c4e77', 'gender': 2, 'id': 10477, 'name': 'George Dzundza', 'order': 1, 'profile_path': '/jyjr4P3uCpfrbwk8ySXNaDpBMbc.jpg'}, {'cast_id': 15, 'character': 'George Grandey', 'credit_id': '52fe4546c3a36847f80c4e7b', 'gender': 2, 'id': 24047, 'name': 'Courtney B. Vance', 'order': 2, 'profile_path': '/fscE874yHp4aeLLhMFD66OwYQt0.jpg'}, {'cast_id': 16, 'character': 'Carla Nichols', 'credit_id': '52fe4546c3a36847f80c4e7f', 'gender': 1, 'id': 11902, 'name': 'Robin Bartlett', 'order': 3, 'profile_path': '/ogqlVNZ6R5pd7fRyqueUeN9FWbe.jpg'}, {'cast_id': 18, 'character': 'Waiter', 'credit_id': '52fe4546c3a36847f80c4e89', 'gender': 2, 'id': 12642, 'name': 'John Neville', 'order': 4, 'profile_path': '/b6s37ak6b0ikhpVk6XVG56QWVqp.jpg'}, {'cast_id': 19, 'character': 'Mary Benton', 'credit_id': '52fe4546c3a36847f80c4e8d', 'gender': 0, 'id': 168638, 'name': 'Beatrice Winde', 'order': 5, 'profile_path': '/gj8UhsDJ2xad8mRrO1VDsGPLdiA.jpg'}, {'cast_id': 20, 'character': 'Irene Roberts', 'credit_id': '52fe4546c3a36847f80c4e91', 'gender': 1, 'id': 81726, 'name': 'Lorraine Toussaint', 'order': 6, 'profile_path': '/tHvHTU5gV68sNig0kUBatXWuwt9.jpg'}, {'cast_id': 21, 'character': 'Raul Sanchero', 'credit_id': '52fe4546c3a36847f80c4e95', 'gender': 2, 'id': 28863, 'name': 'Renoly Santiago', 'order': 7, 'profile_path': '/pZb3RDVxDNJAOaBHwa078Z4FJiO.jpg'}, {'cast_id': 22, 'character': 'Emilio Ramirez', 'credit_id': '52fe4546c3a36847f80c4e99', 'gender': 2, 'id': 975133, 'name': 'Wade Dominguez', 'order': 8, 'profile_path': '/kQlAdesVyIwd2Tg7PyHSZzsND8A.jpg'}, {'cast_id': 23, 'character': 'Callie Roberts', 'credit_id': '52fe4546c3a36847f80c4e9d', 'gender': 1, 'id': 188642, 'name': 'Bruklin Harris', 'order': 9, 'profile_path': '/jbYhvYwDIMQK3tlZlY5eUN9bOAx.jpg'}, {'cast_id': 24, 'character': 'Cornelius Bates', 'credit_id': '52fe4546c3a36847f80c4ea1', 'gender': 0, 'id': 1074671, 'name': 'Mercello Thedford', 'order': 10, 'profile_path': None}, {'cast_id': 25, 'character': 'Gusmaro Rivera', 'credit_id': '52fe4546c3a36847f80c4ea5', 'gender': 0, 'id': 156637, 'name': 'Roberto Alvarez', 'order': 11, 'profile_path': None}, {'cast_id': 26, 'character': 'Durrell Benton', 'credit_id': '52fe4546c3a36847f80c4ea9', 'gender': 0, 'id': 190913, 'name': 'Richard Grant', 'order': 12, 'profile_path': None}, {'cast_id': 27, 'character': 'Angela', 'credit_id': '52fe4546c3a36847f80c4ead', 'gender': 0, 'id': 1074672, 'name': 'Marisela Gonzales', 'order': 13, 'profile_path': None}, {'cast_id': 28, 'character': 'Nikki', 'credit_id': '52fe4546c3a36847f80c4eb1', 'gender': 0, 'id': 1074673, 'name': 'Toni Nichelle Buzhardt', 'order': 14, 'profile_path': None}]\", '[{\\'cast_id\\': 41, \\'character\\': \\'James Cole\\', \\'credit_id\\': \\'52fe4212c3a36847f8001b31\\', \\'gender\\': 2, \\'id\\': 62, \\'name\\': \\'Bruce Willis\\', \\'order\\': 0, \\'profile_path\\': \\'/2B7RySy2WMVJKKEFN2XA3IFb8w0.jpg\\'}, {\\'cast_id\\': 42, \\'character\\': \\'Dr. Kathryn Railly\\', \\'credit_id\\': \\'52fe4212c3a36847f8001b35\\', \\'gender\\': 1, \\'id\\': 289, \\'name\\': \\'Madeleine Stowe\\', \\'order\\': 1, \\'profile_path\\': \\'/jqd70MNVUs3nTbxn3B3G6UNV4Oc.jpg\\'}, {\\'cast_id\\': 43, \\'character\\': \\'Jeffrey Goines\\', \\'credit_id\\': \\'52fe4212c3a36847f8001b39\\', \\'gender\\': 2, \\'id\\': 287, \\'name\\': \\'Brad Pitt\\', \\'order\\': 2, \\'profile_path\\': \\'/ejYIW1enUcGJ9GS3Bs34mtONwWS.jpg\\'}, {\\'cast_id\\': 44, \\'character\\': \\'Dr. Goines\\', \\'credit_id\\': \\'52fe4212c3a36847f8001b3d\\', \\'gender\\': 2, \\'id\\': 290, \\'name\\': \\'Christopher Plummer\\', \\'order\\': 3, \\'profile_path\\': \\'/fauMGxa6dc86nHNenQ8X6DlE6YV.jpg\\'}, {\\'cast_id\\': 45, \\'character\\': \\'Dr. Peters\\', \\'credit_id\\': \\'52fe4212c3a36847f8001b41\\', \\'gender\\': 2, \\'id\\': 52, \\'name\\': \\'David Morse\\', \\'order\\': 4, \\'profile_path\\': \\'/5PuSGfBw3Hsdo5jkhZ59NDFCZUm.jpg\\'}, {\\'cast_id\\': 46, \\'character\\': \\'Jose\\', \\'credit_id\\': \\'52fe4212c3a36847f8001b45\\', \\'gender\\': 2, \\'id\\': 288, \\'name\\': \\'Jon Seda\\', \\'order\\': 5, \\'profile_path\\': \\'/zYDXb5F4IyzuODWSuGa2mLU8HMz.jpg\\'}, {\\'cast_id\\': 47, \\'character\\': \\'Dr. Fletcher\\', \\'credit_id\\': \\'52fe4212c3a36847f8001b49\\', \\'gender\\': 2, \\'id\\': 291, \\'name\\': \\'Frank Gorshin\\', \\'order\\': 6, \\'profile_path\\': \\'/1hfi3gAMouvfXzrnrbJLHqYHHVP.jpg\\'}, {\\'cast_id\\': 48, \\'character\\': \\'junger Cole\\', \\'credit_id\\': \\'52fe4212c3a36847f8001b4d\\', \\'gender\\': 2, \\'id\\': 975569, \\'name\\': \\'Joseph Melito\\', \\'order\\': 7, \\'profile_path\\': \\'/rPgGtrcKQsV9wlDW91kgjGm39K5.jpg\\'}, {\\'cast_id\\': 49, \\'character\\': \\'WWI Sergeant\\', \\'credit_id\\': \\'52fe4212c3a36847f8001b51\\', \\'gender\\': 0, \\'id\\': 1273540, \\'name\\': \\'Aaron Michael Lacey\\', \\'order\\': 8, \\'profile_path\\': \\'/6cBXtAhaqQfT14WLIgGXqmEQ12j.jpg\\'}, {\\'cast_id\\': 50, \\'character\\': \\'Lt. Halperin\\', \\'credit_id\\': \\'52fe4212c3a36847f8001b55\\', \\'gender\\': 2, \\'id\\': 22227, \\'name\\': \\'Christopher Meloni\\', \\'order\\': 9, \\'profile_path\\': \\'/qUxRtuQxWcuaUitnKoTyKgeIitu.jpg\\'}, {\\'cast_id\\': 51, \\'character\\': \\'Det. Franki\\', \\'credit_id\\': \\'54064688c3a3682d98007531\\', \\'gender\\': 2, \\'id\\': 1318900, \\'name\\': \\'Joey Perillo\\', \\'order\\': 10, \\'profile_path\\': \\'/db1ycVZMiz0WHKiYeClkvUI9LPH.jpg\\'}, {\\'cast_id\\': 52, \\'character\\': \\'Teddy\\', \\'credit_id\\': \\'540646a2c3a3685b74004731\\', \\'gender\\': 1, \\'id\\': 534231, \\'name\\': \\'LisaGay Hamilton\\', \\'order\\': 11, \\'profile_path\\': \\'/4K8SwWpmwGX1EwJcYX2IJoMbWHZ.jpg\\'}, {\\'cast_id\\': 53, \\'character\\': \\'Bee\\', \\'credit_id\\': \\'540646b0c3a3685b74004733\\', \\'gender\\': 2, \\'id\\': 11154, \\'name\\': \\'Matt Ross\\', \\'order\\': 12, \\'profile_path\\': \\'/tl51oqEpUoa9S5JGbklg9aXd99Q.jpg\\'}, {\\'cast_id\\': 54, \\'character\\': \\'Taxifahrerin\\', \\'credit_id\\': \\'540646dcc3a36816af003fb5\\', \\'gender\\': 1, \\'id\\': 66094, \\'name\\': \\'Annie Golden\\', \\'order\\': 13, \\'profile_path\\': \\'/2onk2YDUlJIQdJKhfRRNyuNjzu7.jpg\\'}, {\\'cast_id\\': 175, \\'character\\': \\'Scarface\\', \\'credit_id\\': \\'56b13be7925141264500043c\\', \\'gender\\': 0, \\'id\\': 1077231, \\'name\\': \\'Michael Chance\\', \\'order\\': 14, \\'profile_path\\': \\'/bAXgeUCXTdftaZDJa3Skfy7kMfz.jpg\\'}, {\\'cast_id\\': 176, \\'character\\': \\'Tiny\\', \\'credit_id\\': \\'56b13c03c3a3686209000f54\\', \\'gender\\': 2, \\'id\\': 1571784, \\'name\\': \\'Vernon Campbell\\', \\'order\\': 15, \\'profile_path\\': \\'/kWzrgpzIJMRqN55hHBZrL1w3aoD.jpg\\'}, {\\'cast_id\\': 177, \\'character\\': \\'Botaniker\\', \\'credit_id\\': \\'56b13c1fc3a3687e180003b8\\', \\'gender\\': 0, \\'id\\': 1571785, \\'name\\': \\'H. Michael Walls\\', \\'order\\': 16, \\'profile_path\\': \\'/5n2SHZjlBAutGvtei4EczZRbj6T.jpg\\'}, {\\'cast_id\\': 178, \\'character\\': \\'Geologe\\', \\'credit_id\\': \\'56b13c379251411d670004ca\\', \\'gender\\': 0, \\'id\\': 1328063, \\'name\\': \\'Bob Adrian\\', \\'order\\': 17, \\'profile_path\\': \\'/cifydN0a55kbhHeCnEA90Q3zaYu.jpg\\'}, {\\'cast_id\\': 179, \\'character\\': \\'Zoologe\\', \\'credit_id\\': \\'56b13c5c925141268a0003f7\\', \\'gender\\': 2, \\'id\\': 37891, \\'name\\': \\'Simon Jones\\', \\'order\\': 18, \\'profile_path\\': \\'/8oBlL9Ao2MIeSvKXi37DMliBTD3.jpg\\'}, {\\'cast_id\\': 180, \\'character\\': \\'Wissenschaftlerin / Jones\\', \\'credit_id\\': \\'56b13c869251414074000e64\\', \\'gender\\': 0, \\'id\\': 1077235, \\'name\\': \\'Carol Florence\\', \\'order\\': 19, \\'profile_path\\': \\'/lYwrz91yKY0uCRa6Fjcvab2QG6r.jpg\\'}, {\\'cast_id\\': 181, \\'character\\': \\'Mikrobiologe\\', \\'credit_id\\': \\'56b13cb092514126aa0003ba\\', \\'gender\\': 2, \\'id\\': 7576, \\'name\\': \\'Bill Raymond\\', \\'order\\': 20, \\'profile_path\\': \\'/9qUefRsvEzitR2j8CwtXYbddayE.jpg\\'}, {\\'cast_id\\': 182, \\'character\\': \\'Engineer\\', \\'credit_id\\': \\'56b13ccbc3a3687e510003de\\', \\'gender\\': 2, \\'id\\': 59112, \\'name\\': \\'Ernest Abuba\\', \\'order\\': 21, \\'profile_path\\': \\'/w2gXQkVTNkdxctxz0cqZa2Apzvf.jpg\\'}, {\\'cast_id\\': 183, \\'character\\': \\'Poet\\', \\'credit_id\\': \\'56b13cde925141268a000400\\', \\'gender\\': 1, \\'id\\': 155573, \\'name\\': \\'Irma St. Paule\\', \\'order\\': 22, \\'profile_path\\': \\'/cNwjgzfRTVTWm5Fe4zhXoYQXu4p.jpg\\'}, {\\'cast_id\\': 186, \\'character\\': \\'Billings\\', \\'credit_id\\': \\'56b13d3fc3a368621700100b\\', \\'gender\\': 2, \\'id\\': 1571787, \\'name\\': \\'Rozwill Young\\', \\'order\\': 23, \\'profile_path\\': \\'/s4HdUTkgvFrY6LjNSjG2BxFyflD.jpg\\'}, {\\'cast_id\\': 187, \\'character\\': \\'Ward Nurse\\', \\'credit_id\\': \\'56b13d5192514126aa0003d1\\', \\'gender\\': 1, \\'id\\': 1571788, \\'name\\': \\'Nell Johnson\\', \\'order\\': 24, \\'profile_path\\': \\'/lrRtZaz1eqaSfAAYRpsF9Qmp7A8.jpg\\'}, {\\'cast_id\\': 188, \\'character\\': \\'L.J. Washington\\', \\'credit_id\\': \\'56b13d6292514126ba000410\\', \\'gender\\': 0, \\'id\\': 292, \\'name\\': \\'Frederick Strother\\', \\'order\\': 25, \\'profile_path\\': \\'/r4V8H2qg1J0tgeoxToxj19nFVM.jpg\\'}, {\\'cast_id\\': 189, \\'character\\': \\'Professor\\', \\'credit_id\\': \\'56bb65e8c3a3681ef700013b\\', \\'gender\\': 0, \\'id\\': 127069, \\'name\\': \\'Charles Techman\\', \\'order\\': 26, \\'profile_path\\': \\'/fTjQfqqYRx2LvE6CmAVNOpNPkKa.jpg\\'}, {\\'cast_id\\': 191, \\'character\\': \\'Dr. Casey\\', \\'credit_id\\': \\'5713b773c3a3686678008806\\', \\'gender\\': 2, \\'id\\': 163795, \\'name\\': \\'Rick Warner\\', \\'order\\': 27, \\'profile_path\\': \\'/43gkvtXb4x7eMlo31pDAVmHg8q8.jpg\\'}, {\\'cast_id\\': 192, \\'character\\': \\'Dr. Goodin\\', \\'credit_id\\': \\'5713b92cc3a368667800883d\\', \\'gender\\': 2, \\'id\\': 1387844, \\'name\\': \"Anthony \\'Chip\\' Brienza\", \\'order\\': 28, \\'profile_path\\': \\'/47cC6rWbfh8Vtr51N0gyjlzNBeL.jpg\\'}, {\\'cast_id\\': 184, \\'character\\': \\'Polizeimann Nr. 1\\', \\'credit_id\\': \\'56b13d129251414074000e72\\', \\'gender\\': 2, \\'id\\': 1217615, \\'name\\': \\'Bruce Kirkpatrick\\', \\'order\\': 29, \\'profile_path\\': \\'/1eMcIjb8YEKlRFuOK9Eors23RAC.jpg\\'}, {\\'cast_id\\': 185, \\'character\\': \\'Polizeimann Nr. 2\\', \\'credit_id\\': \\'56b13d2dc3a368621e001010\\', \\'gender\\': 0, \\'id\\': 1571786, \\'name\\': \\'Wilfred Williams\\', \\'order\\': 30, \\'profile_path\\': None}, {\\'cast_id\\': 193, \\'character\\': \\'Harassed Mother\\', \\'credit_id\\': \\'5713ba5b9251413174005630\\', \\'gender\\': 1, \\'id\\': 1607131, \\'name\\': \\'Joilet Harris\\', \\'order\\': 31, \\'profile_path\\': \\'/oFVQwgEKed7Hf91LXV3Y4ezKUCB.jpg\\'}, {\\'cast_id\\': 194, \\'character\\': \\'Waltzing Woman Patient\\', \\'credit_id\\': \\'5713bb3ec3a368673d007682\\', \\'gender\\': 1, \\'id\\': 32800, \\'name\\': \\'Drucie McDaniel\\', \\'order\\': 32, \\'profile_path\\': \\'/aGfH2Fz2avSA3vD7fca8Y9quwle.jpg\\'}, {\\'cast_id\\': 195, \\'character\\': \\'Old Man Patient\\', \\'credit_id\\': \\'5713bc38925141387d0026ee\\', \\'gender\\': 2, \\'id\\': 1607135, \\'name\\': \\'John Blaisse\\', \\'order\\': 33, \\'profile_path\\': \\'/50cJ8i2n3ILa2cGw0jnJ1qdUwEE.jpg\\'}, {\\'cast_id\\': 196, \\'character\\': \\'Patient at Gate\\', \\'credit_id\\': \\'5713bddc92514151cf0023c9\\', \\'gender\\': 2, \\'id\\': 1607137, \\'name\\': \\'Louis Lippa\\', \\'order\\': 34, \\'profile_path\\': \\'/z1gUbvnhxoAO4mWi1CUTol7lDy0.jpg\\'}, {\\'cast_id\\': 197, \\'character\\': \\'X-Ray Doctor\\', \\'credit_id\\': \\'5713c03d92514141a5002675\\', \\'gender\\': 2, \\'id\\': 1607142, \\'name\\': \\'Stan Kang\\', \\'order\\': 35, \\'profile_path\\': \\'/w7KozG6yzeKgNux9fwvWyRRPt4i.jpg\\'}, {\\'cast_id\\': 198, \\'character\\': \\'WWI Captain\\', \\'credit_id\\': \\'5713c0be92514152030021b3\\', \\'gender\\': 2, \\'id\\': 1607143, \\'name\\': \\'Pat Dias\\', \\'order\\': 36, \\'profile_path\\': \\'/5ReBqOX5qGkkV8V435CBt4gREvM.jpg\\'}, {\\'cast_id\\': 199, \\'character\\': \\'Fale\\', \\'credit_id\\': \\'5713c209c3a368537000eb15\\', \\'gender\\': 2, \\'id\\': 1542805, \\'name\\': \\'Felix Pire\\', \\'order\\': 37, \\'profile_path\\': \\'/5xSAisU5Y1O7jhr5uXnDI9yUFQd.jpg\\'}, {\\'cast_id\\': 200, \\'character\\': \\'Pompous Man\\', \\'credit_id\\': \\'5713c4c2925141387d0027de\\', \\'gender\\': 2, \\'id\\': 1607146, \\'name\\': \\'Karl Warren\\', \\'order\\': 38, \\'profile_path\\': \\'/mn4XzsIl6EhIcJnbQFMblJOQWy0.jpg\\'}, {\\'cast_id\\': 201, \\'character\\': \\'Wallace\\', \\'credit_id\\': \\'5713c5efc3a368537800ede4\\', \\'gender\\': 2, \\'id\\': 141458, \\'name\\': \\'Joseph McKenna\\', \\'order\\': 39, \\'profile_path\\': \\'/4jDyI8L28ldmzc6RXZuucB8b95Y.jpg\\'}, {\\'cast_id\\': 202, \\'character\\': \\'Airport Detective\\', \\'credit_id\\': \\'5713c6d8c3a36860a800c94d\\', \\'gender\\': 2, \\'id\\': 81692, \\'name\\': \\'Stephen Bridgewater\\', \\'order\\': 40, \\'profile_path\\': \\'/y8HD6TcZllYESxeUQzlSiRvGeRN.jpg\\'}, {\\'cast_id\\': 203, \\'character\\': \\'Plump Businessman\\', \\'credit_id\\': \\'5713c8869251414a710023c3\\', \\'gender\\': 2, \\'id\\': 1607153, \\'name\\': \\'Ray Huffman\\', \\'order\\': 41, \\'profile_path\\': \\'/oDoCplEfecxlops7jLZKS3mIzDE.jpg\\'}, {\\'cast_id\\': 204, \\'character\\': \\'Impatient Traveler\\', \\'credit_id\\': \\'5713cacc925141387d0028ac\\', \\'gender\\': 2, \\'id\\': 1218075, \\'name\\': \\'Charley Scalies\\', \\'order\\': 42, \\'profile_path\\': \\'/74GMoWNFK1jU7eO8Fb2lV2U85y9.jpg\\'}, {\\'cast_id\\': 205, \\'character\\': \\'Wayne\\', \\'credit_id\\': \\'5713ce3d9251414a1900243d\\', \\'gender\\': 2, \\'id\\': 1607159, \\'name\\': \"Robert O\\'Neill\", \\'order\\': 43, \\'profile_path\\': \\'/4cQYcaZbDxvBKoUcsdIHaJKwMvc.jpg\\'}, {\\'cast_id\\': 206, \\'character\\': \\'Detective Dalva\\', \\'credit_id\\': \\'5713d0bfc3a368537800ef53\\', \\'gender\\': 2, \\'id\\': 1607160, \\'name\\': \\'Paul Meshejian\\', \\'order\\': 44, \\'profile_path\\': \\'/xOpOT5LYXKFZdVf1DPsCisMJgL0.jpg\\'}, {\\'cast_id\\': 207, \\'character\\': \\'Kweskin\\', \\'credit_id\\': \\'5713d2a79251413616000633\\', \\'gender\\': 2, \\'id\\': 171294, \\'name\\': \\'Kevin Thigpen\\', \\'order\\': 45, \\'profile_path\\': \\'/vzBdarDNPiDf6e6RX7Dwjc0ySqC.jpg\\'}, {\\'cast_id\\': 208, \\'character\\': \\'Louie / Raspy Voice\\', \\'credit_id\\': \\'5713d4d7c3a36860a800cb83\\', \\'gender\\': 0, \\'id\\': 1039871, \\'name\\': \"Harry O\\'Toole\", \\'order\\': 46, \\'profile_path\\': \\'/xFyV4ba97l50tzVh2e7GudksUsb.jpg\\'}, {\\'cast_id\\': 220, \\'character\\': \\'Marilou\\', \\'credit_id\\': \\'571f73c6c3a3686c990028bd\\', \\'gender\\': 1, \\'id\\': 1611167, \\'name\\': \\'Jann Ellis\\', \\'order\\': 47, \\'profile_path\\': \\'/8rEUKSwc13SABZo4OVJXRkpyeMz.jpg\\'}, {\\'cast_id\\': 224, \\'character\\': \\'Weller\\', \\'credit_id\\': \\'571f7c89c3a3686241000c15\\', \\'gender\\': 2, \\'id\\': 131007, \\'name\\': \\'Michael Ryan Segal\\', \\'order\\': 48, \\'profile_path\\': \\'/qazfVz0GJAZpaR4uUi7gcCaVGlS.jpg\\'}, {\\'cast_id\\': 209, \\'character\\': \\'Thug No. 1\\', \\'credit_id\\': \\'5713d5fc9251413616000696\\', \\'gender\\': 2, \\'id\\': 1607168, \\'name\\': \\'Korchenko\\', \\'order\\': 49, \\'profile_path\\': \\'/kuiCzoNTNrQ2CbwXllMo0EO1K38.jpg\\'}, {\\'cast_id\\': 210, \\'character\\': \\'Thug No. 2\\', \\'credit_id\\': \\'5713d65bc3a3686636007434\\', \\'gender\\': 2, \\'id\\': 933507, \\'name\\': \\'Chuck Jeffreys\\', \\'order\\': 50, \\'profile_path\\': \\'/1bnlVHNeCtANWOLvl4r8IAspU6x.jpg\\'}, {\\'cast_id\\': 218, \\'character\\': \\'Agent No. 1\\', \\'credit_id\\': \\'571f7042c3a3686241000a0f\\', \\'gender\\': 2, \\'id\\': 1611166, \\'name\\': \\'Barry Price\\', \\'order\\': 51, \\'profile_path\\': \\'/lkpGdsfIof6XFR6HA19eZpbs2p4.jpg\\'}, {\\'cast_id\\': 219, \\'character\\': \\'Agent No. 2\\', \\'credit_id\\': \\'571f71f2c3a3686ec500290b\\', \\'gender\\': 2, \\'id\\': 60569, \\'name\\': \\'John Panzarella\\', \\'order\\': 52, \\'profile_path\\': \\'/hlQkBw7xaF7XoNoG1wWjyYUQ7fQ.jpg\\'}, {\\'cast_id\\': 221, \\'character\\': \\'Anchorwoman\\', \\'credit_id\\': \\'571f75699251412801000b8a\\', \\'gender\\': 1, \\'id\\': 1611170, \\'name\\': \\'Janet Zappala\\', \\'order\\': 53, \\'profile_path\\': \\'/mHCyTMF0qZ7UA3mDwZeZM40i4Ov.jpg\\'}, {\\'cast_id\\': 223, \\'character\\': \\'Ticket Agent\\', \\'credit_id\\': \\'571f7ba59251412801000c66\\', \\'gender\\': 1, \\'id\\': 568367, \\'name\\': \\'Lisa Talerico\\', \\'order\\': 54, \\'profile_path\\': \\'/ayEqvyjriyFPtyp8Y4MYzzCAWrZ.jpg\\'}, {\\'cast_id\\': 211, \\'character\\': \\'Student in Airport (uncredited)\\', \\'credit_id\\': \\'5713d7afc3a36860a800cbfd\\', \\'gender\\': 1, \\'id\\': 1607174, \\'name\\': \\'Tiffany Baldwin\\', \\'order\\': 55, \\'profile_path\\': \\'/rYbpxbrfzrCIscaz2DjIYZnvhjG.jpg\\'}, {\\'cast_id\\': 212, \\'character\\': \\'Psychiatric Patient (uncredited)\\', \\'credit_id\\': \\'5713d8e3925141387d002a93\\', \\'gender\\': 2, \\'id\\': 7528, \\'name\\': \\'C.J. Byrnes\\', \\'order\\': 56, \\'profile_path\\': \\'/hjXWOwA5tp1Yn9RgLIYq1GAuzTM.jpg\\'}, {\\'cast_id\\': 213, \\'character\\': \\'FBI Agent (uncredited)\\', \\'credit_id\\': \\'5713d9b292514151cf002782\\', \\'gender\\': 2, \\'id\\': 1298410, \\'name\\': \\'Tom Detrik\\', \\'order\\': 57, \\'profile_path\\': \\'/fSwEL5PsQMfxezcji0bMk0QHKeB.jpg\\'}, {\\'cast_id\\': 214, \\'character\\': \\'Sprayer (uncredited)\\', \\'credit_id\\': \\'571f5f339251414df40027a4\\', \\'gender\\': 2, \\'id\\': 1611142, \\'name\\': \\'Joe Gerety\\', \\'order\\': 58, \\'profile_path\\': \\'/hg0NflVG4GrL2HXaWxQp0Lly5JB.jpg\\'}, {\\'cast_id\\': 215, \\'character\\': \\'Demon (uncredited)\\', \\'credit_id\\': \\'571f601fc3a36862410006d1\\', \\'gender\\': 1, \\'id\\': 1611143, \\'name\\': \\'Renee Spei\\', \\'order\\': 59, \\'profile_path\\': \\'/1NfOSy4mTAiDBCsa6NQzTsJxQ5C.jpg\\'}, {\\'cast_id\\': 216, \\'character\\': \\'Time Portal Nurse (uncredited)\\', \\'credit_id\\': \\'571f6c30c3a368338c003419\\', \\'gender\\': 1, \\'id\\': 1611164, \\'name\\': \\'Bonnie Loev\\', \\'order\\': 60, \\'profile_path\\': \\'/vEDuGJT9LV7ifsJVOqjhNPljDcJ.jpg\\'}, {\\'cast_id\\': 217, \\'character\\': \\'Travler (uncredited)\\', \\'credit_id\\': \\'571f6da19251412801000a2d\\', \\'gender\\': 0, \\'id\\': 1106629, \\'name\\': \\'Raymond Mamrak\\', \\'order\\': 61, \\'profile_path\\': \\'/1Zdwf4pFzJl3uED3qPHuL02PE6i.jpg\\'}, {\\'cast_id\\': 222, \\'character\\': \\'Prisoner Joey (uncredited)\\', \\'credit_id\\': \\'571f76e89251416f230035e8\\', \\'gender\\': 2, \\'id\\': 127620, \\'name\\': \\'Sal Mazzotta\\', \\'order\\': 62, \\'profile_path\\': \\'/9fJjpfLnlrjnfyaYsJysB8IHgz2.jpg\\'}, {\\'cast_id\\': 225, \\'character\\': \\'Inpatient (uncredited)\\', \\'credit_id\\': \\'571f7f069251417e8a0028b4\\', \\'gender\\': 2, \\'id\\': 2696, \\'name\\': \\'Allelon Ruggiero\\', \\'order\\': 63, \\'profile_path\\': \\'/7pfz38FFFCBKUY1piONvsCOEXve.jpg\\'}, {\\'cast_id\\': 226, \\'character\\': \\'Monkey Member (uncredited)\\', \\'credit_id\\': \\'571f7f2992514142e2002cbc\\', \\'gender\\': 2, \\'id\\': 1611197, \\'name\\': \\'Thang\\', \\'order\\': 64, \\'profile_path\\': \\'/eu7HT1uoNiod93sd0XcY6r7Luz3.jpg\\'}]', \"[{'cast_id': 2, 'character': 'Henri Guillaumet', 'credit_id': '52fe49b4c3a368484e13a25d', 'gender': 2, 'id': 4138, 'name': 'Craig Sheffer', 'order': 0, 'profile_path': '/q2y5cm3RoCsztmuLqJie4cOrLBH.jpg'}, {'cast_id': 3, 'character': 'Noëlle Guillaumet', 'credit_id': '52fe49b4c3a368484e13a261', 'gender': 1, 'id': 4513, 'name': 'Elizabeth McGovern', 'order': 1, 'profile_path': '/egt1d836NcYDTeiokz5Im8gHU4r.jpg'}, {'cast_id': 4, 'character': 'Antoine de Saint-Exupery', 'credit_id': '52fe49b4c3a368484e13a265', 'gender': 2, 'id': 3999, 'name': 'Tom Hulce', 'order': 2, 'profile_path': '/t4m5xqxovPP1GUXZ9MivPa7XloN.jpg'}, {'cast_id': 6, 'character': 'Pierre Deley', 'credit_id': '52fe49b4c3a368484e13a269', 'gender': 2, 'id': 58406, 'name': 'Ken Pogue', 'order': 3, 'profile_path': None}, {'cast_id': 7, 'character': 'Jean-René Lefèbvre', 'credit_id': '52fe49b4c3a368484e13a26d', 'gender': 0, 'id': 554094, 'name': 'Ron Sauvé', 'order': 4, 'profile_path': None}, {'cast_id': 10, 'character': 'Jean Mermoz', 'credit_id': '52fe49b4c3a368484e13a27d', 'gender': 2, 'id': 5576, 'name': 'Val Kilmer', 'order': 5, 'profile_path': '/AlhPeiH8R4reMNGNQ9ag1FPbuW9.jpg'}, {'cast_id': 11, 'character': 'Young Pilot', 'credit_id': '595611ecc3a36814ae06ae7a', 'gender': 0, 'id': 156330, 'name': 'Freddy Andreiuci', 'order': 6, 'profile_path': None}]\", '[{\\'cast_id\\': 1, \\'character\\': \\'Babe the Gallant Pig (voice)\\', \\'credit_id\\': \\'52fe450fc3a36847f80b9fa9\\', \\'gender\\': 1, \\'id\\': 58136, \\'name\\': \\'Christine Cavanaugh\\', \\'order\\': 0, \\'profile_path\\': None}, {\\'cast_id\\': 2, \\'character\\': \\'Fly the Female Sheepdog (voice)\\', \\'credit_id\\': \\'52fe450fc3a36847f80b9fad\\', \\'gender\\': 1, \\'id\\': 6199, \\'name\\': \\'Miriam Margolyes\\', \\'order\\': 1, \\'profile_path\\': \\'/7Fijg5sZ7gKbooq6tId3MUS5sDY.jpg\\'}, {\\'cast_id\\': 3, \\'character\\': \\'Ferdinand the Duck (voice)\\', \\'credit_id\\': \\'52fe450fc3a36847f80b9fb1\\', \\'gender\\': 2, \\'id\\': 52699, \\'name\\': \\'Danny Mann\\', \\'order\\': 2, \\'profile_path\\': \\'/28JtvJrUIcHM4s8HV84ncxPD7Uv.jpg\\'}, {\\'cast_id\\': 4, \\'character\\': \\'Rex the Male Sheepdog (voice)\\', \\'credit_id\\': \\'52fe450fc3a36847f80b9fb5\\', \\'gender\\': 2, \\'id\\': 1331, \\'name\\': \\'Hugo Weaving\\', \\'order\\': 3, \\'profile_path\\': \\'/di4A3qhYBIVdlH9DKjqbWfo3FWw.jpg\\'}, {\\'cast_id\\': 5, \\'character\\': \\'Maa the Very Old Ewe (voice)\\', \\'credit_id\\': \\'52fe450fc3a36847f80b9fb9\\', \\'gender\\': 1, \\'id\\': 35109, \\'name\\': \\'Miriam Flynn\\', \\'order\\': 4, \\'profile_path\\': \\'/6VKACA883vyve6uuviO4I6QpluL.jpg\\'}, {\\'cast_id\\': 6, \\'character\\': \\'Farmer Arthur Hoggett\\', \\'credit_id\\': \\'52fe450fc3a36847f80b9fbd\\', \\'gender\\': 2, \\'id\\': 2505, \\'name\\': \\'James Cromwell\\', \\'order\\': 5, \\'profile_path\\': \\'/f9HU6zS2K2DCRt2WoJBK61ElqPJ.jpg\\'}, {\\'cast_id\\': 7, \\'character\\': \\'Dutchess the Cat (voice)\\', \\'credit_id\\': \\'52fe450fc3a36847f80b9fc1\\', \\'gender\\': 1, \\'id\\': 6035, \\'name\\': \\'Russi Taylor\\', \\'order\\': 6, \\'profile_path\\': \\'/3rfnBDgLRc7CjoIw9bGRBlDXxMf.jpg\\'}, {\\'cast_id\\': 19, \\'character\\': \\'Old Ewe (voice)\\', \\'credit_id\\': \\'52fe450fc3a36847f80ba007\\', \\'gender\\': 0, \\'id\\': 1080206, \\'name\\': \\'Evelyn Krape\\', \\'order\\': 7, \\'profile_path\\': None}, {\\'cast_id\\': 20, \\'character\\': \\'Horse (voice)\\', \\'credit_id\\': \\'52fe450fc3a36847f80ba00b\\', \\'gender\\': 0, \\'id\\': 1080207, \\'name\\': \\'Michael Edward-Stevens\\', \\'order\\': 8, \\'profile_path\\': None}, {\\'cast_id\\': 30, \\'character\\': \\'Cow (voice)\\', \\'credit_id\\': \\'54e1d4f7c3a3684551007d0f\\', \\'gender\\': 0, \\'id\\': 1229258, \\'name\\': \\'Charles Bartlett\\', \\'order\\': 9, \\'profile_path\\': None}, {\\'cast_id\\': 22, \\'character\\': \\'Rooster (voice)\\', \\'credit_id\\': \\'52fe450fc3a36847f80ba013\\', \\'gender\\': 2, \\'id\\': 61351, \\'name\\': \\'Paul Livingston\\', \\'order\\': 10, \\'profile_path\\': None}, {\\'cast_id\\': 23, \\'character\\': \\'Narrator (voice)\\', \\'credit_id\\': \\'52fe450fc3a36847f80ba017\\', \\'gender\\': 2, \\'id\\': 24368, \\'name\\': \\'Roscoe Lee Browne\\', \\'order\\': 11, \\'profile_path\\': \\'/m0Q5VCyjcXXN5w6MHulOMD1r6ZK.jpg\\'}, {\\'cast_id\\': 24, \\'character\\': \\'Esme Hoggett\\', \\'credit_id\\': \\'52fe450fc3a36847f80ba01b\\', \\'gender\\': 1, \\'id\\': 45586, \\'name\\': \\'Magda Szubanski\\', \\'order\\': 12, \\'profile_path\\': \\'/s67hNKy38DxN8l9GTKOc3oDwQpP.jpg\\'}, {\\'cast_id\\': 25, \\'character\\': \"The Hoggetts\\' daughter\", \\'credit_id\\': \\'52fe450fc3a36847f80ba01f\\', \\'gender\\': 0, \\'id\\': 1080208, \\'name\\': \\'Zoe Burton\\', \\'order\\': 13, \\'profile_path\\': None}, {\\'cast_id\\': 26, \\'character\\': \"The Hoggetts\\' son-in-Law\", \\'credit_id\\': \\'52fe450fc3a36847f80ba023\\', \\'gender\\': 2, \\'id\\': 9380, \\'name\\': \\'Paul Goddard\\', \\'order\\': 14, \\'profile_path\\': \\'/4OalonKRAdZhXreaDWig3bZkELo.jpg\\'}, {\\'cast_id\\': 27, \\'character\\': \"The Hoggets\\' grandson\", \\'credit_id\\': \\'52fe450fc3a36847f80ba027\\', \\'gender\\': 0, \\'id\\': 1080209, \\'name\\': \\'Wade Hayward\\', \\'order\\': 15, \\'profile_path\\': None}, {\\'cast_id\\': 28, \\'character\\': \"The Hoggetts\\' granddaughter\", \\'credit_id\\': \\'52fe450fc3a36847f80ba02b\\', \\'gender\\': 1, \\'id\\': 210276, \\'name\\': \\'Brittany Byrnes\\', \\'order\\': 16, \\'profile_path\\': \\'/oZAEsTXPp1Vzkkdop1dm8KvnKeU.jpg\\'}, {\\'cast_id\\': 29, \\'character\\': \\'Valda\\', \\'credit_id\\': \\'52fe450fc3a36847f80ba02f\\', \\'gender\\': 0, \\'id\\': 75934, \\'name\\': \\'Mary Acres\\', \\'order\\': 17, \\'profile_path\\': None}]', \"[{'cast_id': 1, 'character': 'Dora Carrington', 'credit_id': '52fe471bc3a36847f8123a9f', 'gender': 1, 'id': 7056, 'name': 'Emma Thompson', 'order': 0, 'profile_path': '/cWTBHN8kLf6yapxiaQD9C6N1uMw.jpg'}, {'cast_id': 2, 'character': 'Lytton Strachey', 'credit_id': '52fe471bc3a36847f8123aa3', 'gender': 2, 'id': 378, 'name': 'Jonathan Pryce', 'order': 1, 'profile_path': '/kfRf0eRfh9RRvBZEmpcXazWBgjd.jpg'}, {'cast_id': 9, 'character': 'Ralph Partridge', 'credit_id': '57f7fe7f9251411555000b5a', 'gender': 2, 'id': 27764, 'name': 'Steven Waddington', 'order': 2, 'profile_path': '/ouQIklNVVkqlW1Htujmptm2qTen.jpg'}, {'cast_id': 6, 'character': 'Gerald Brenan', 'credit_id': '52fe471bc3a36847f8123ab5', 'gender': 2, 'id': 54447, 'name': 'Samuel West', 'order': 3, 'profile_path': '/yIDXDpgXxPbl5qWu8KHV7fGzVNr.jpg'}, {'cast_id': 10, 'character': 'Mark Gertler', 'credit_id': '57f7fe95c3a36874ba000aa0', 'gender': 2, 'id': 17328, 'name': 'Rufus Sewell', 'order': 4, 'profile_path': '/f2PNMnztHluTOw8YfCJUZ2pKfbe.jpg'}, {'cast_id': 4, 'character': 'Lady Ottoline Morrell', 'credit_id': '52fe471bc3a36847f8123aad', 'gender': 1, 'id': 1249, 'name': 'Penelope Wilton', 'order': 5, 'profile_path': '/zmEAhqyNuBP6JVL9Z6xBJN6CSxN.jpg'}, {'cast_id': 5, 'character': 'Vanessa Bell', 'credit_id': '52fe471bc3a36847f8123ab1', 'gender': 1, 'id': 47627, 'name': 'Janet McTeer', 'order': 6, 'profile_path': '/fVxhoT9udQl9UFXe3qa9cbUq3h4.jpg'}, {'cast_id': 11, 'character': 'Beacus Penrose', 'credit_id': '57f7fec1c3a368753f000a7f', 'gender': 2, 'id': 18325, 'name': 'Jeremy Northam', 'order': 7, 'profile_path': '/8NkPuXeJ8nXXIhgrmS8g7kcaTOS.jpg'}, {'cast_id': 12, 'character': 'Frances Partridge', 'credit_id': '57f7fed1c3a36875b00009d2', 'gender': 1, 'id': 83701, 'name': 'Alex Kingston', 'order': 8, 'profile_path': '/xhTlKeijcYEudc70FXt2ZcBBtpU.jpg'}, {'cast_id': 13, 'character': 'Clive Bell', 'credit_id': '57f7fee2c3a368248b0035d9', 'gender': 2, 'id': 186389, 'name': 'Richard Clifford', 'order': 9, 'profile_path': None}, {'cast_id': 14, 'character': 'Mayor', 'credit_id': '57f7fef1c3a368248b0035e8', 'gender': 2, 'id': 27822, 'name': 'David Ryall', 'order': 10, 'profile_path': '/kthcBrIdXP9QwlKXkVzzRsHwJkq.jpg'}, {'cast_id': 15, 'character': 'Military Rep', 'credit_id': '57f7feffc3a36875b00009f1', 'gender': 0, 'id': 47943, 'name': 'Stephen Boxer', 'order': 11, 'profile_path': '/h4nFGD3zGD3cCAJ6dkydQOgiWi9.jpg'}]\", '[{\\'cast_id\\': 7, \\'character\\': \\'Sister Helen Prejean\\', \\'credit_id\\': \\'52fe426ac3a36847f801cf0f\\', \\'gender\\': 1, \\'id\\': 4038, \\'name\\': \\'Susan Sarandon\\', \\'order\\': 0, \\'profile_path\\': \\'/giqZPokZi2nKLtYw8hrMVf8Vita.jpg\\'}, {\\'cast_id\\': 8, \\'character\\': \\'Matthew Poncelet\\', \\'credit_id\\': \\'52fe426ac3a36847f801cf13\\', \\'gender\\': 2, \\'id\\': 2228, \\'name\\': \\'Sean Penn\\', \\'order\\': 1, \\'profile_path\\': \\'/f2uy1zq0qmtLBpsr6N9uQ8FktOr.jpg\\'}, {\\'cast_id\\': 9, \\'character\\': \\'Hilton Barber\\', \\'credit_id\\': \\'52fe426ac3a36847f801cf17\\', \\'gender\\': 2, \\'id\\': 10360, \\'name\\': \\'Robert Prosky\\', \\'order\\': 2, \\'profile_path\\': \\'/9xpt96AOur6MmLIEaYhRiCQLIOE.jpg\\'}, {\\'cast_id\\': 10, \\'character\\': \\'Earl Delacroix\\', \\'credit_id\\': \\'52fe426ac3a36847f801cf1b\\', \\'gender\\': 2, \\'id\\': 10361, \\'name\\': \\'Raymond J. Barry\\', \\'order\\': 3, \\'profile_path\\': \\'/k4WDNgYHOUgRaPQIsZUPUxl1lO6.jpg\\'}, {\\'cast_id\\': 11, \\'character\\': \\'Clyde Percy\\', \\'credit_id\\': \\'52fe426ac3a36847f801cf1f\\', \\'gender\\': 2, \\'id\\': 8655, \\'name\\': \\'R. Lee Ermey\\', \\'order\\': 4, \\'profile_path\\': \\'/r8GBqFBjypLUP9VVqDqfZ7wYbSs.jpg\\'}, {\\'cast_id\\': 12, \\'character\\': \\'Mary Beth Percy\\', \\'credit_id\\': \\'52fe426ac3a36847f801cf23\\', \\'gender\\': 1, \\'id\\': 1989, \\'name\\': \\'Celia Weston\\', \\'order\\': 5, \\'profile_path\\': \\'/s1PvoXw5lfVCeqpBpjOwKnc51LJ.jpg\\'}, {\\'cast_id\\': 13, \\'character\\': \"Helen\\'s Mother\", \\'credit_id\\': \\'52fe426ac3a36847f801cf27\\', \\'gender\\': 1, \\'id\\': 2207, \\'name\\': \\'Lois Smith\\', \\'order\\': 6, \\'profile_path\\': \\'/hYZx3vQ1KICO3Db5Cm89yT3pxZo.jpg\\'}, {\\'cast_id\\': 14, \\'character\\': \\'Kaplan Farlely\\', \\'credit_id\\': \\'52fe426ac3a36847f801cf2b\\', \\'gender\\': 2, \\'id\\': 6914, \\'name\\': \\'Scott Wilson\\', \\'order\\': 7, \\'profile_path\\': \\'/uAPQD3zXThKHXaYELx3ePSzeWwM.jpg\\'}, {\\'cast_id\\': 15, \\'character\\': \\'Lucille Poncelet\\', \\'credit_id\\': \\'52fe426ac3a36847f801cf2f\\', \\'gender\\': 1, \\'id\\': 10362, \\'name\\': \\'Roberta Maxwell\\', \\'order\\': 8, \\'profile_path\\': \\'/sq4LeTqg7q23RevHzM5bONXQ00h.jpg\\'}, {\\'cast_id\\': 17, \\'character\\': \\'Sister Colleen\\', \\'credit_id\\': \\'52fe426ac3a36847f801cf39\\', \\'gender\\': 1, \\'id\\': 452, \\'name\\': \\'Margo Martindale\\', \\'order\\': 9, \\'profile_path\\': \\'/4YmmVgOGKsDsGGLunCHmigj2TbV.jpg\\'}, {\\'cast_id\\': 21, \\'character\\': \\'Craig Poncelet\\', \\'credit_id\\': \\'52fe426ac3a36847f801cf4f\\', \\'gender\\': 2, \\'id\\': 70851, \\'name\\': \\'Jack Black\\', \\'order\\': 10, \\'profile_path\\': \\'/kAyKg3rYGgIhB5KRaIWALuf78W3.jpg\\'}, {\\'cast_id\\': 22, \\'character\\': \\'Luis Montoya\\', \\'credit_id\\': \\'52fe426ac3a36847f801cf53\\', \\'gender\\': 2, \\'id\\': 10366, \\'name\\': \\'Ray Aranha\\', \\'order\\': 11, \\'profile_path\\': None}, {\\'cast_id\\': 25, \\'character\\': \\'Walter Delacroix\\', \\'credit_id\\': \\'555a0f0392514160540008e4\\', \\'gender\\': 2, \\'id\\': 133, \\'name\\': \\'Peter Sarsgaard\\', \\'order\\': 12, \\'profile_path\\': \\'/dGoUlDEJumPY0CFlT7eM6KVdLUu.jpg\\'}, {\\'cast_id\\': 32, \\'character\\': \\'Captain Beliveau\\', \\'credit_id\\': \\'55d9f93bc3a36831fc0050a8\\', \\'gender\\': 2, \\'id\\': 79732, \\'name\\': \\'Barton Heyman\\', \\'order\\': 13, \\'profile_path\\': \\'/9AZXigh8rQP7KnTIuLrvqGztl74.jpg\\'}, {\\'cast_id\\': 33, \\'character\\': \\'Sgt. Neal Trapp\\', \\'credit_id\\': \\'55d9f95ec3a36831f40054a4\\', \\'gender\\': 0, \\'id\\': 1183429, \\'name\\': \\'Steve Boles\\', \\'order\\': 14, \\'profile_path\\': None}, {\\'cast_id\\': 34, \\'character\\': \\'Warden Hartman\\', \\'credit_id\\': \\'55d9f979c3a36831f600514c\\', \\'gender\\': 2, \\'id\\': 21152, \\'name\\': \\'Nesbitt Blaisdell\\', \\'order\\': 15, \\'profile_path\\': None}, {\\'cast_id\\': 35, \\'character\\': \\'Guy Gilardi\\', \\'credit_id\\': \\'55d9f99a92514143e00051cc\\', \\'gender\\': 2, \\'id\\': 19511, \\'name\\': \\'Larry Pine\\', \\'order\\': 16, \\'profile_path\\': \\'/cVw0dH0MKSu6ckFuqkbQK4rNcRI.jpg\\'}, {\\'cast_id\\': 36, \\'character\\': \\'Governor Benedict\\', \\'credit_id\\': \\'55d9f9cb92514143f0004ff7\\', \\'gender\\': 2, \\'id\\': 25711, \\'name\\': \\'Kevin Cooney\\', \\'order\\': 17, \\'profile_path\\': \\'/3z2Rte6xznb5Bth6mar42waHc59.jpg\\'}, {\\'cast_id\\': 37, \\'character\\': \\'State Trooper\\', \\'credit_id\\': \\'55d9f9e1c3a368166f000542\\', \\'gender\\': 2, \\'id\\': 6574, \\'name\\': \\'Clancy Brown\\', \\'order\\': 18, \\'profile_path\\': \\'/xBVifBW0riMSbedEQ27hObjPqVw.jpg\\'}, {\\'cast_id\\': 38, \\'character\\': \\'Carl Vitello\\', \\'credit_id\\': \\'55d9fa18c3a36831fa005435\\', \\'gender\\': 0, \\'id\\': 1232566, \\'name\\': \\'Michael Cullen\\', \\'order\\': 19, \\'profile_path\\': None}, {\\'cast_id\\': 39, \\'character\\': \\'Hope Percy\\', \\'credit_id\\': \\'55d9fa32c3a3683207004f51\\', \\'gender\\': 1, \\'id\\': 51384, \\'name\\': \\'Missy Yager\\', \\'order\\': 20, \\'profile_path\\': \\'/4807TEgioemmb1pudrKhnjIFB2J.jpg\\'}, {\\'cast_id\\': 40, \\'character\\': \\'Emily Percy\\', \\'credit_id\\': \\'55d9fa63c3a36831fa005440\\', \\'gender\\': 0, \\'id\\': 1237883, \\'name\\': \\'Jenny Krochmal\\', \\'order\\': 21, \\'profile_path\\': None}, {\\'cast_id\\': 41, \\'character\\': \\'Sonny Poncelet\\', \\'credit_id\\': \\'55d9fa7b925141721d003e6e\\', \\'gender\\': 2, \\'id\\': 17866, \\'name\\': \\'Jon Abrahams\\', \\'order\\': 22, \\'profile_path\\': \\'/93ASTZzX5o4tg17abZwYiCJONCd.jpg\\'}, {\\'cast_id\\': 42, \\'character\\': \\'Troy Poncelet\\', \\'credit_id\\': \\'55d9faa3c3a368166f000555\\', \\'gender\\': 0, \\'id\\': 1223451, \\'name\\': \\'Arthur Bridgers\\', \\'order\\': 23, \\'profile_path\\': \\'/hN9j12rDl270z3p7JA6tFN6jmVG.jpg\\'}, {\\'cast_id\\': 43, \\'character\\': \"Helen\\'s Brother\", \\'credit_id\\': \\'55d9fac992514143e6004ffe\\', \\'gender\\': 2, \\'id\\': 95940, \\'name\\': \\'Steve Carlisle\\', \\'order\\': 24, \\'profile_path\\': None}, {\\'cast_id\\': 44, \\'character\\': \\'9-Year-Old Helen\\', \\'credit_id\\': \\'55d9faf392514143de0055d3\\', \\'gender\\': 1, \\'id\\': 56757, \\'name\\': \\'Eva Amurri Martino\\', \\'order\\': 25, \\'profile_path\\': \\'/aQCpBb5FZ6HLy5PKvqMmvCpsrbS.jpg\\'}, {\\'cast_id\\': 45, \\'character\\': \\'Opossum Kid #1\\', \\'credit_id\\': \\'55d9fb4a92514143e6005009\\', \\'gender\\': 0, \\'id\\': 1366946, \\'name\\': \\'Jack Henry Robbins\\', \\'order\\': 26, \\'profile_path\\': None}, {\\'cast_id\\': 46, \\'character\\': \\'Henry\\', \\'credit_id\\': \\'55d9fb6d92514143de0055ef\\', \\'gender\\': 2, \\'id\\': 93679, \\'name\\': \\'Dennis Neal\\', \\'order\\': 27, \\'profile_path\\': None}, {\\'cast_id\\': 47, \\'character\\': \\'Nellie\\', \\'credit_id\\': \\'55d9fb8192514143f3004ff9\\', \\'gender\\': 0, \\'id\\': 62570, \\'name\\': \\'Molly Bryant\\', \\'order\\': 28, \\'profile_path\\': None}, {\\'cast_id\\': 63, \\'character\\': \\'Nurse\\', \\'credit_id\\': \\'56e75be79251410914000647\\', \\'gender\\': 1, \\'id\\': 1591178, \\'name\\': \\'Adele Robbins\\', \\'order\\': 29, \\'profile_path\\': \\'/eS2vUWVUr7hipVHEJUXeBKDEOy.jpg\\'}, {\\'cast_id\\': 48, \\'character\\': \\'Parent #1\\', \\'credit_id\\': \\'55d9fbf2c3a36831fa005479\\', \\'gender\\': 0, \\'id\\': 1371000, \\'name\\': \\'Pete Burris\\', \\'order\\': 30, \\'profile_path\\': None}, {\\'cast_id\\': 49, \\'character\\': \\'Parent #2\\', \\'credit_id\\': \\'55d9fc10c3a3683207004f83\\', \\'gender\\': 0, \\'id\\': 1407052, \\'name\\': \\'Joan Glover\\', \\'order\\': 31, \\'profile_path\\': None}, {\\'cast_id\\': 50, \\'character\\': \\'Parent #4\\', \\'credit_id\\': \\'55d9fc3892514143e4005435\\', \\'gender\\': 1, \\'id\\': 20765, \\'name\\': \\'Lenore Banks\\', \\'order\\': 32, \\'profile_path\\': \\'/u6wZ7cM2nZVYil3XvLkHVuFw7ON.jpg\\'}, {\\'cast_id\\': 51, \\'character\\': \\'Guard #2\\', \\'credit_id\\': \\'55d9fcb692514143e9005120\\', \\'gender\\': 2, \\'id\\': 32287, \\'name\\': \\'Scott Sowers\\', \\'order\\': 33, \\'profile_path\\': None}, {\\'cast_id\\': 52, \\'character\\': \\'Guard #3\\', \\'credit_id\\': \\'55d9fcdac3a36831f60051b7\\', \\'gender\\': 0, \\'id\\': 75611, \\'name\\': \\'Cortez Nance Jr.\\', \\'order\\': 34, \\'profile_path\\': None}, {\\'cast_id\\': 53, \\'character\\': \\'Guard #4\\', \\'credit_id\\': \\'55d9fcf2c3a3683207004f9c\\', \\'gender\\': 2, \\'id\\': 4732, \\'name\\': \\'Adam Nelson\\', \\'order\\': 35, \\'profile_path\\': \\'/wKAaHygc4o4Mr2HwBxPELm1ysqg.jpg\\'}, {\\'cast_id\\': 54, \\'character\\': \\'Guard #7\\', \\'credit_id\\': \\'55d9fd2a92514143e4005458\\', \\'gender\\': 0, \\'id\\': 108147, \\'name\\': \\'Jeremy Knaster\\', \\'order\\': 36, \\'profile_path\\': None}, {\\'cast_id\\': 55, \\'character\\': \\'Parole Board Member (uncredited)\\', \\'credit_id\\': \\'55d9fd5cc3a36831f400550d\\', \\'gender\\': 2, \\'id\\': 16460, \\'name\\': \\'Marcus Lyle Brown\\', \\'order\\': 37, \\'profile_path\\': \\'/gTD4oCMELMEXZ7wzoPqL01iNRGH.jpg\\'}, {\\'cast_id\\': 56, \\'character\\': \\'Trustee (uncredited)\\', \\'credit_id\\': \\'55d9fd7792514143f000505a\\', \\'gender\\': 2, \\'id\\': 1411679, \\'name\\': \\'Anthony Michael Frederick\\', \\'order\\': 38, \\'profile_path\\': \\'/21bOtLIVVbZAbP9slU14F3NEfs3.jpg\\'}, {\\'cast_id\\': 57, \\'character\\': \\'ER Doctor (uncredited)\\', \\'credit_id\\': \\'55d9fd94c3a36831f60051da\\', \\'gender\\': 2, \\'id\\': 1191341, \\'name\\': \\'Thomas McGowan\\', \\'order\\': 39, \\'profile_path\\': None}, {\\'cast_id\\': 58, \\'character\\': \\'Cop (uncredited)\\', \\'credit_id\\': \\'55d9fdbdc3a3680dd50043b7\\', \\'gender\\': 0, \\'id\\': 1463362, \\'name\\': \\'Codie Scott\\', \\'order\\': 40, \\'profile_path\\': None}, {\\'cast_id\\': 59, \\'character\\': \\'Woman at Vigil (uncredited)\\', \\'credit_id\\': \\'55d9fde6c3a36831f60051df\\', \\'gender\\': 1, \\'id\\': 10298, \\'name\\': \\'Helen Prejean\\', \\'order\\': 41, \\'profile_path\\': None}]', \"[{'cast_id': 12, 'character': 'Tomas Minton', 'credit_id': '5554bace9251416dd6002a69', 'gender': 0, 'id': 1467084, 'name': 'Peter Reznick', 'order': 1, 'profile_path': None}, {'cast_id': 13, 'character': 'Freighter Chief', 'credit_id': '5554bb1bc3a368208c002c84', 'gender': 0, 'id': 1467085, 'name': 'John McDonough', 'order': 2, 'profile_path': None}, {'cast_id': 14, 'character': 'Seaman', 'credit_id': '5554bb5dc3a368207d002a1c', 'gender': 0, 'id': 1467086, 'name': 'Avi Hoffman', 'order': 3, 'profile_path': None}, {'cast_id': 15, 'character': 'Wall Street Businessman', 'credit_id': '5554bbcfc3a3682080002d9d', 'gender': 2, 'id': 19208, 'name': 'Matt Malloy', 'order': 4, 'profile_path': '/ian5yLWKo8Ttz8kEZIv9GLNCz2c.jpg'}, {'cast_id': 16, 'character': 'Julia Minton', 'credit_id': '5554bbed9251413931001058', 'gender': 0, 'id': 1218074, 'name': 'Abby Lewis', 'order': 5, 'profile_path': None}]\", \"[{'cast_id': 1, 'character': 'Diane Barrows', 'credit_id': '52fe452f9251416c9102a483', 'gender': 1, 'id': 1796, 'name': 'Kirstie Alley', 'order': 0, 'profile_path': '/fQ1EOV3dazf05uhrEVqMN2S3T0U.jpg'}, {'cast_id': 2, 'character': 'Roger Callaway', 'credit_id': '52fe452f9251416c9102a487', 'gender': 2, 'id': 26472, 'name': 'Steve Guttenberg', 'order': 1, 'profile_path': '/utLqKSEN9TX3EniBlX4BpytDunB.jpg'}, {'cast_id': 3, 'character': 'Alyssa Callaway / Amanda Lemmon', 'credit_id': '52fe452f9251416c9102a48b', 'gender': 1, 'id': 67848, 'name': 'Ashley Olsen', 'order': 2, 'profile_path': '/gIZBBtO7IGV1wxgFNCzuo7ZakwO.jpg'}, {'cast_id': 4, 'character': 'Amanda Lemmon / Alyssa Callaway', 'credit_id': '52fe452f9251416c9102a48f', 'gender': 1, 'id': 67849, 'name': 'Mary-Kate Olsen', 'order': 3, 'profile_path': '/fxTJRxHrNyZVrWZWQZOTXJnGwDY.jpg'}, {'cast_id': 5, 'character': 'Clarice Kensington', 'credit_id': '52fe452f9251416c9102a493', 'gender': 1, 'id': 92255, 'name': 'Jane Sibbett', 'order': 4, 'profile_path': '/w76SJiN72NRfUKNgmJ1ZZfYzjG9.jpg'}, {'cast_id': 6, 'character': 'Vincenzo', 'credit_id': '52fe452f9251416c9102a497', 'gender': 2, 'id': 6541, 'name': 'Philip Bosco', 'order': 5, 'profile_path': '/8B8EQk868fQF8fGZ1w33XDV5Z1S.jpg'}, {'cast_id': 9, 'character': 'Carmen', 'credit_id': '53a12bda0e0a26654e002152', 'gender': 0, 'id': 1331570, 'name': 'Michelle Grisom', 'order': 6, 'profile_path': None}, {'cast_id': 10, 'character': 'Frankie', 'credit_id': '53a12be90e0a266534001f21', 'gender': 0, 'id': 1329538, 'name': 'Desmond Robertson', 'order': 7, 'profile_path': None}, {'cast_id': 11, 'character': 'Tiny', 'credit_id': '53a12bf70e0a26653a001f48', 'gender': 0, 'id': 1331571, 'name': 'Tiny Mills', 'order': 8, 'profile_path': None}, {'cast_id': 12, 'character': 'Patty', 'credit_id': '53a12c080e0a26654b001f13', 'gender': 0, 'id': 1331572, 'name': 'Shanelle Henry', 'order': 9, 'profile_path': None}, {'cast_id': 13, 'character': 'Michelle', 'credit_id': '53a12c390e0a2665370021c1', 'gender': 0, 'id': 1331573, 'name': 'Michèle Lonsdale Smith', 'order': 10, 'profile_path': None}, {'cast_id': 14, 'character': 'Jerry', 'credit_id': '53a12c490e0a266541001eee', 'gender': 0, 'id': 1331574, 'name': 'Sean Orr', 'order': 11, 'profile_path': None}, {'cast_id': 15, 'character': 'Emily', 'credit_id': '53a12c580e0a2665370021cf', 'gender': 0, 'id': 1331575, 'name': 'Elizabeth Walsh', 'order': 12, 'profile_path': None}]\", \"[{'cast_id': 8, 'character': 'Cher Horowitz', 'credit_id': '52fe4510c3a36847f80ba283', 'gender': 0, 'id': 5588, 'name': 'Alicia Silverstone', 'order': 0, 'profile_path': '/vEuWi98LSRp9L53CGzIhQLMRvbZ.jpg'}, {'cast_id': 9, 'character': 'Dionne', 'credit_id': '52fe4510c3a36847f80ba287', 'gender': 1, 'id': 58150, 'name': 'Stacey Dash', 'order': 1, 'profile_path': '/nqdCmfn1esQrhdfLygF0y0yGjcA.jpg'}, {'cast_id': 10, 'character': 'Tai', 'credit_id': '52fe4510c3a36847f80ba28b', 'gender': 1, 'id': 328, 'name': 'Brittany Murphy', 'order': 2, 'profile_path': '/jktbTmFE3TVaKUqPDWw8VZ5rXqc.jpg'}, {'cast_id': 11, 'character': 'Josh', 'credit_id': '52fe4510c3a36847f80ba28f', 'gender': 2, 'id': 22226, 'name': 'Paul Rudd', 'order': 3, 'profile_path': '/ltIBF3NimzCfhGXnFCq9LGKaoBz.jpg'}, {'cast_id': 12, 'character': 'Murray', 'credit_id': '52fe4510c3a36847f80ba293', 'gender': 2, 'id': 49002, 'name': 'Donald Faison', 'order': 4, 'profile_path': '/j3YbuYlQgqLNY0YdtgFR6Jn5imo.jpg'}, {'cast_id': 13, 'character': 'Amber', 'credit_id': '52fe4510c3a36847f80ba297', 'gender': 1, 'id': 58151, 'name': 'Elisa Donovan', 'order': 5, 'profile_path': '/aIm3lSLC7XlqGudvyPZ1WxBJ4Ud.jpg'}, {'cast_id': 15, 'character': 'Travis', 'credit_id': '52fe4510c3a36847f80ba2a1', 'gender': 2, 'id': 33654, 'name': 'Breckin Meyer', 'order': 6, 'profile_path': '/7V3hXjmSJXApsuu2aGkEgFFAy03.jpg'}, {'cast_id': 16, 'character': 'Elton', 'credit_id': '52fe4510c3a36847f80ba2a5', 'gender': 2, 'id': 23958, 'name': 'Jeremy Sisto', 'order': 7, 'profile_path': '/o2FDlQQWOxF18Bq6hDvhiQZE8i9.jpg'}, {'cast_id': 17, 'character': 'Mel Horowitz', 'credit_id': '52fe4510c3a36847f80ba2a9', 'gender': 2, 'id': 6486, 'name': 'Dan Hedaya', 'order': 8, 'profile_path': '/5E4SUVfLMUKNCiP0dMhyOv3XHVZ.jpg'}, {'cast_id': 18, 'character': 'Mr. Wendell Hall', 'credit_id': '52fe4510c3a36847f80ba2ad', 'gender': 2, 'id': 12900, 'name': 'Wallace Shawn', 'order': 9, 'profile_path': '/oGE6JqPP2xH4tNORKNqxbNPYi7u.jpg'}, {'cast_id': 19, 'character': 'Miss Toby Geist', 'credit_id': '52fe4510c3a36847f80ba2b1', 'gender': 1, 'id': 66160, 'name': 'Twink Caplan', 'order': 10, 'profile_path': '/a6iDJoy42QZP1DfL3ybHQeXT5DU.jpg'}, {'cast_id': 20, 'character': 'Christian', 'credit_id': '52fe4510c3a36847f80ba2b5', 'gender': 0, 'id': 30881, 'name': 'Justin Walker', 'order': 11, 'profile_path': None}, {'cast_id': 27, 'character': 'Miss Stoeger', 'credit_id': '56b0c16b9251412eb600000f', 'gender': 1, 'id': 40680, 'name': 'Julie Brown', 'order': 12, 'profile_path': '/8a1NwjIyjOWmYTqdj4fuxqKlzR5.jpg'}, {'cast_id': 28, 'character': 'Summer', 'credit_id': '583a4c13c3a36862ed0001a5', 'gender': 1, 'id': 17775, 'name': 'Nicole Bilderback', 'order': 13, 'profile_path': '/zX98CB1FCasfLGKhQ9pmEm9yYvZ.jpg'}]\", \"[{'cast_id': 4, 'character': 'Rev. Stephen Kumalo', 'credit_id': '52fe456f9251416c91032385', 'gender': 0, 'id': 15152, 'name': 'James Earl Jones', 'order': 0, 'profile_path': '/2ZuBf3ip2RXhkiQqGUjbUzAf4Nx.jpg'}, {'cast_id': 6, 'character': 'John Kumalo', 'credit_id': '52fe456f9251416c91032389', 'gender': 2, 'id': 17764, 'name': 'Charles S. Dutton', 'order': 1, 'profile_path': '/ajXBoMz8xGgDDcn8xpRi8LmXKKa.jpg'}, {'cast_id': 8, 'character': 'Ian Jarvis', 'credit_id': '52fe456f9251416c9103238d', 'gender': 0, 'id': 123831, 'name': 'Jack Robinson', 'order': 3, 'profile_path': None}, {'cast_id': 10, 'character': 'Child', 'credit_id': '52fe456f9251416c91032391', 'gender': 0, 'id': 123833, 'name': 'Tsholofelo Wechoemang', 'order': 5, 'profile_path': None}, {'cast_id': 11, 'character': 'Ramalao Makhene', 'credit_id': '52fe456f9251416c91032395', 'gender': 0, 'id': 123834, 'name': 'Ramalao Makhene', 'order': 6, 'profile_path': None}, {'cast_id': 12, 'character': 'James Jarvis', 'credit_id': '52fe456f9251416c91032399', 'gender': 2, 'id': 194, 'name': 'Richard Harris', 'order': 7, 'profile_path': '/51wDHVFNqrYgvUBMOcACAt4sJU9.jpg'}, {'cast_id': 13, 'character': 'Mrs. Kumalo', 'credit_id': '52fe456f9251416c9103239d', 'gender': 0, 'id': 89307, 'name': 'Dolly Rathebe', 'order': 8, 'profile_path': None}, {'cast_id': 14, 'character': 'Mary Jarvis', 'credit_id': '52fe456f9251416c910323a1', 'gender': 1, 'id': 111179, 'name': 'Jennifer Steyn', 'order': 9, 'profile_path': '/qFwxa6FTMmRayqwOv459UejbMFH.jpg'}, {'cast_id': 15, 'character': 'Evans', 'credit_id': '52fe456f9251416c910323a5', 'gender': 0, 'id': 1035098, 'name': 'Ian Roberts', 'order': 10, 'profile_path': '/HiVItNtPii0NreWhBN5F7fDNkL.jpg'}, {'cast_id': 16, 'character': 'Clerk of the court', 'credit_id': '5464d1610e0a26294a002110', 'gender': 0, 'id': 1073473, 'name': 'David Clatworthy', 'order': 11, 'profile_path': '/sYy5IKaWGDlsEm8uiABzIxRlnAr.jpg'}]\", \"[{'cast_id': 1, 'character': 'Richard III', 'credit_id': '52fe44669251416c9100f591', 'gender': 2, 'id': 1327, 'name': 'Ian McKellen', 'order': 0, 'profile_path': '/coWjgMEYJjk2OrNddlXCBm8EIr3.jpg'}, {'cast_id': 2, 'character': 'Elizabeth', 'credit_id': '52fe44669251416c9100f595', 'gender': 1, 'id': 516, 'name': 'Annette Bening', 'order': 1, 'profile_path': '/q8pCSQzGLrhgtVXBKzMnwfoeBlH.jpg'}, {'cast_id': 3, 'character': 'The Duke of Buckingham', 'credit_id': '52fe44669251416c9100f599', 'gender': 2, 'id': 388, 'name': 'Jim Broadbent', 'order': 2, 'profile_path': '/50TV6UKJKjmqdn1GQNuuCIYHLzP.jpg'}, {'cast_id': 4, 'character': 'Lady Anne', 'credit_id': '52fe44669251416c9100f59d', 'gender': 1, 'id': 5470, 'name': 'Kristin Scott Thomas', 'order': 3, 'profile_path': '/9zBXGGcUBi7DnulKcFPCAdwrKY0.jpg'}, {'cast_id': 9, 'character': 'James Tyrrell', 'credit_id': '52fe44669251416c9100f5b9', 'gender': 2, 'id': 42566, 'name': 'Adrian Dunbar', 'order': 4, 'profile_path': '/jFQXifW6puF2tAugnmPRIA8xvh3.jpg'}, {'cast_id': 10, 'character': 'Duchess of York', 'credit_id': '52fe44669251416c9100f5bd', 'gender': 1, 'id': 10978, 'name': 'Maggie Smith', 'order': 5, 'profile_path': '/8OtS7JhL12Qa8QzSuZZAzNRbFnu.jpg'}, {'cast_id': 11, 'character': 'William Catesby', 'credit_id': '52fe44669251416c9100f5c1', 'gender': 2, 'id': 41043, 'name': 'Tim McInnerny', 'order': 6, 'profile_path': '/wxO1c0e5N1WHn2wLHmEbvrfqnnX.jpg'}, {'cast_id': 12, 'character': 'Earl Rivers', 'credit_id': '52fe44669251416c9100f5c5', 'gender': 2, 'id': 3223, 'name': 'Robert Downey Jr.', 'order': 7, 'profile_path': '/1YjdSym1jTG7xjHSI0yGGWEsw5i.jpg'}, {'cast_id': 13, 'character': 'Lord Stanley', 'credit_id': '52fe44669251416c9100f5c9', 'gender': 2, 'id': 3545, 'name': 'Edward Hardwicke', 'order': 8, 'profile_path': '/21PRsSZBTaTrqq2wPwDUjRLSUjG.jpg'}, {'cast_id': 14, 'character': 'The Duke of Clarence', 'credit_id': '52fe44669251416c9100f5cd', 'gender': 0, 'id': 15788, 'name': 'Nigel Hawthorne', 'order': 9, 'profile_path': '/jKG3trCa3RGE6h5yzjMOramfoed.jpg'}, {'cast_id': 15, 'character': 'Lord Hastings', 'credit_id': '52fe44669251416c9100f5d1', 'gender': 2, 'id': 20070, 'name': 'Jim Carter', 'order': 10, 'profile_path': '/ycS14B6YHA2k4IlEPNgh0eQOv7u.jpg'}, {'cast_id': 16, 'character': 'The Earl of Richmond', 'credit_id': '52fe44669251416c9100f5d5', 'gender': 2, 'id': 17287, 'name': 'Dominic West', 'order': 11, 'profile_path': '/56zmVMiuUhqas13xn700hvXUA32.jpg'}, {'cast_id': 20, 'character': 'King Edward IV', 'credit_id': '584a35ffc3a368141401c3b5', 'gender': 2, 'id': 8937, 'name': 'John Wood', 'order': 12, 'profile_path': '/bWt4JT9eGxFtu3q0iCAKFtNv5XK.jpg'}, {'cast_id': 21, 'character': 'Archbishop Thomas', 'credit_id': '584a3623c3a368141401c3d1', 'gender': 2, 'id': 27660, 'name': 'Roger Hammond', 'order': 13, 'profile_path': '/p81yHkWRbxDoKcwBKZoduEoSl9c.jpg'}, {'cast_id': 22, 'character': 'Sir Richard Ratcliffe', 'credit_id': '584a363792514119bc01b429', 'gender': 2, 'id': 104795, 'name': 'Bill Paterson', 'order': 14, 'profile_path': '/lLIPguoZJZeZ04niI4PaG1cv3Xf.jpg'}, {'cast_id': 23, 'character': 'Brackenbury', 'credit_id': '584a365492514119bf01b23f', 'gender': 2, 'id': 20425, 'name': 'Donald Sumpter', 'order': 15, 'profile_path': '/gqNTtHmpiUs4bbGhHTNPSJUR6ZW.jpg'}, {'cast_id': 24, 'character': '1st Subaltern', 'credit_id': '584a3664c3a368141a01c8d3', 'gender': 2, 'id': 7027, 'name': 'James Dreyfus', 'order': 16, 'profile_path': '/9cuGSOrWJxKF8qScKsTHaVrUQVQ.jpg'}, {'cast_id': 25, 'character': 'Ballroom Dancer (uncredited)', 'credit_id': '584a368492514119b601adcf', 'gender': 2, 'id': 1271092, 'name': 'Derek Lyons', 'order': 17, 'profile_path': '/oO7dJlNLJhYyqdTsoUQAFXp1UQS.jpg'}]\", '[{\\'cast_id\\': 1, \\'character\\': \\'Anthony Curtis\\', \\'credit_id\\': \\'52fe44409251416c7502e19b\\', \\'gender\\': 2, \\'id\\': 18291, \\'name\\': \\'Larenz Tate\\', \\'order\\': 0, \\'profile_path\\': \\'/ApN0l0NF1fUp61PwffW09ZqEUMW.jpg\\'}, {\\'cast_id\\': 2, \\'character\\': \\'Kirby\\', \\'credit_id\\': \\'52fe44409251416c7502e19f\\', \\'gender\\': 2, \\'id\\': 65827, \\'name\\': \\'Keith David\\', \\'order\\': 1, \\'profile_path\\': \\'/nwAC9TgwRkj0Ritq93O8GeublyL.jpg\\'}, {\\'cast_id\\': 3, \\'character\\': \\'Skip\\', \\'credit_id\\': \\'52fe44409251416c7502e1a3\\', \\'gender\\': 2, \\'id\\': 66, \\'name\\': \\'Chris Tucker\\', \\'order\\': 2, \\'profile_path\\': \\'/9RQvgEi1GnPK4QzqOGHL3jP3VZr.jpg\\'}, {\\'cast_id\\': 4, \\'character\\': \\'Jose\\', \\'credit_id\\': \\'52fe44409251416c7502e1a7\\', \\'gender\\': 2, \\'id\\': 6862, \\'name\\': \\'Freddy Rodríguez\\', \\'order\\': 3, \\'profile_path\\': \\'/mlWlBZHsncujfC0Jt6H982TNDVl.jpg\\'}, {\\'cast_id\\': 5, \\'character\\': \\'Juanita Benson\\', \\'credit_id\\': \\'52fe44409251416c7502e1ab\\', \\'gender\\': 1, \\'id\\': 69447, \\'name\\': \\'Rose Jackson\\', \\'order\\': 4, \\'profile_path\\': None}, {\\'cast_id\\': 16, \\'character\\': \\'Deliah Benson\\', \\'credit_id\\': \\'52fe44409251416c7502e1eb\\', \\'gender\\': 1, \\'id\\': 10824, \\'name\\': \"N\\'Bushe Wright\", \\'order\\': 5, \\'profile_path\\': \\'/3OpD0lvYcqEAwFL3JKEpal7JemR.jpg\\'}, {\\'cast_id\\': 17, \\'character\\': \\'Cutty\\', \\'credit_id\\': \\'588e50dd925141183a00efe2\\', \\'gender\\': 2, \\'id\\': 58924, \\'name\\': \\'Clifton Powell\\', \\'order\\': 6, \\'profile_path\\': \\'/hBw76xJtCwKS2v5rZtzDBqvKLN6.jpg\\'}, {\\'cast_id\\': 18, \\'character\\': \\'Cowboy\\', \\'credit_id\\': \\'588e50f2925141183f00f166\\', \\'gender\\': 2, \\'id\\': 18288, \\'name\\': \\'Terrence Howard\\', \\'order\\': 7, \\'profile_path\\': \\'/MZeLxOH0PgL7xcvt865WVBvQDw.jpg\\'}, {\\'cast_id\\': 19, \\'character\\': \\'Cleon\\', \\'credit_id\\': \\'588e5102c3a368749a00dd44\\', \\'gender\\': 2, \\'id\\': 71913, \\'name\\': \\'Bokeem Woodbine\\', \\'order\\': 8, \\'profile_path\\': \\'/OewCN9cV4xwvMwPwBw05kqKy2v.jpg\\'}, {\\'cast_id\\': 20, \\'character\\': \\'Martin\\', \\'credit_id\\': \\'588e511dc3a36874a700c3a5\\', \\'gender\\': 2, \\'id\\': 1277051, \\'name\\': \\'Sticky Fingaz\\', \\'order\\': 9, \\'profile_path\\': \\'/YqrVoLdvcXpby1J7tt2a7VY38u.jpg\\'}, {\\'cast_id\\': 21, \\'character\\': \\'Betancourt\\', \\'credit_id\\': \\'588e5137c3a368749400dc32\\', \\'gender\\': 2, \\'id\\': 5365, \\'name\\': \\'Clifton Collins Jr\\', \\'order\\': 10, \\'profile_path\\': \\'/4gt2oqy6SjJxlbUgKIEbpQrEwas.jpg\\'}, {\\'cast_id\\': 22, \\'character\\': \\'Marisol\\', \\'credit_id\\': \\'588e515dc3a368749400dc53\\', \\'gender\\': 1, \\'id\\': 65421, \\'name\\': \\'Elizabeth Rodriguez\\', \\'order\\': 11, \\'profile_path\\': \\'/lwJXQ7DDRY9W4pdzQzJKdeKuCFl.jpg\\'}, {\\'cast_id\\': 23, \\'character\\': \"D\\'ambrosio\", \\'credit_id\\': \\'588e5191925141183d00ee0a\\', \\'gender\\': 2, \\'id\\': 11486, \\'name\\': \\'Michael Imperioli\\', \\'order\\': 12, \\'profile_path\\': \\'/3AupsGJOUaAiXXaq626wzKaLiZ8.jpg\\'}]', \"[{'cast_id': 1, 'character': 'Robert Merivel', 'credit_id': '52fe45999251416c91037fc9', 'gender': 2, 'id': 3223, 'name': 'Robert Downey Jr.', 'order': 0, 'profile_path': '/1YjdSym1jTG7xjHSI0yGGWEsw5i.jpg'}, {'cast_id': 2, 'character': 'Katharine', 'credit_id': '52fe45999251416c91037fcd', 'gender': 1, 'id': 5344, 'name': 'Meg Ryan', 'order': 1, 'profile_path': '/iv33eEcSakPCkO2MiR4bIZpjgyg.jpg'}, {'cast_id': 3, 'character': 'King Charles II', 'credit_id': '52fe45999251416c91037fd1', 'gender': 2, 'id': 4783, 'name': 'Sam Neill', 'order': 2, 'profile_path': '/bmTxJ3szZaQNCgYOaVRRQxBDQlF.jpg'}, {'cast_id': 4, 'character': 'John Pearce', 'credit_id': '52fe45999251416c91037fd5', 'gender': 2, 'id': 11207, 'name': 'David Thewlis', 'order': 3, 'profile_path': '/1YhN379UKCPt94nbLzncsDHTC9T.jpg'}, {'cast_id': 5, 'character': 'Elias Finn', 'credit_id': '52fe45999251416c91037fd9', 'gender': 2, 'id': 3291, 'name': 'Hugh Grant', 'order': 4, 'profile_path': '/r3rSJLJwKmsJyPA3gojzuMthJ4C.jpg'}, {'cast_id': 11, 'character': 'Celia Clemence', 'credit_id': '57608fd59251410d1a000134', 'gender': 1, 'id': 6416, 'name': 'Polly Walker', 'order': 5, 'profile_path': '/nUYl7W4QcO9ud2ig6qvLQ2qs0HZ.jpg'}, {'cast_id': 12, 'character': 'Will Gates', 'credit_id': '57608fe2c3a3687b9300013e', 'gender': 2, 'id': 1327, 'name': 'Ian McKellen', 'order': 6, 'profile_path': '/coWjgMEYJjk2OrNddlXCBm8EIr3.jpg'}, {'cast_id': 13, 'character': 'Ambrose', 'credit_id': '57608fefc3a3687b8500016f', 'gender': 2, 'id': 27762, 'name': 'Ian McDiarmid', 'order': 7, 'profile_path': '/8YkDYHhuWoCzP41fkqI1RXGTz2P.jpg'}, {'cast_id': 14, 'character': 'Midwife', 'credit_id': '57608ffa9251410d17000143', 'gender': 1, 'id': 97170, 'name': 'Mary MacLeod', 'order': 8, 'profile_path': '/q1ai6EaCywRV6TaegMTqwuPfOf7.jpg'}, {'cast_id': 16, 'character': 'Man with Visible Heart', 'credit_id': '59355dd69251417dd4036984', 'gender': 2, 'id': 1229022, 'name': 'Willie Ross', 'order': 9, 'profile_path': None}]\", \"[{'cast_id': 1, 'character': 'Lord Rayden', 'credit_id': '52fe44e5c3a36847f80b086f', 'gender': 2, 'id': 38559, 'name': 'Christopher Lambert', 'order': 0, 'profile_path': '/sIl2F9LDTjfnAVBxEG5CTtZGuJU.jpg'}, {'cast_id': 2, 'character': 'Liu Kang', 'credit_id': '52fe44e5c3a36847f80b0873', 'gender': 0, 'id': 57250, 'name': 'Robin Shou', 'order': 1, 'profile_path': '/g3l02KaSOv0sDVRijyEO78PXfqy.jpg'}, {'cast_id': 3, 'character': 'Johnny Cage', 'credit_id': '52fe44e5c3a36847f80b0877', 'gender': 2, 'id': 57251, 'name': 'Linden Ashby', 'order': 2, 'profile_path': '/thzvdpk4TV5hvmKxGrCKGZPrRkw.jpg'}, {'cast_id': 4, 'character': 'Shang Tsung', 'credit_id': '52fe44e5c3a36847f80b087b', 'gender': 2, 'id': 11398, 'name': 'Cary-Hiroyuki Tagawa', 'order': 3, 'profile_path': '/6KLAW9vcrI1FLLLrTAm0obL4qxc.jpg'}, {'cast_id': 5, 'character': 'Sonya Blade', 'credit_id': '52fe44e5c3a36847f80b087f', 'gender': 0, 'id': 20751, 'name': 'Bridgette Wilson', 'order': 4, 'profile_path': '/l5bUegMA9PHoeRgBkio2bE9R7Vj.jpg'}, {'cast_id': 6, 'character': 'Princess Kitana', 'credit_id': '52fe44e5c3a36847f80b0883', 'gender': 1, 'id': 10680, 'name': 'Talisa Soto', 'order': 5, 'profile_path': '/3VWf8501ubov43OfPJEGMZH8LJ5.jpg'}, {'cast_id': 7, 'character': 'Kano', 'credit_id': '52fe44e5c3a36847f80b0887', 'gender': 2, 'id': 57252, 'name': 'Trevor Goddard', 'order': 6, 'profile_path': '/5qctMNVCJeJ8RO6W03GGDeRNxJG.jpg'}, {'cast_id': 8, 'character': 'Scorpion', 'credit_id': '52fe44e5c3a36847f80b088b', 'gender': 2, 'id': 57253, 'name': 'Chris Casamassa', 'order': 7, 'profile_path': '/ey5boDHeL9qqhQvcOdcf3tOiRlI.jpg'}, {'cast_id': 9, 'character': 'Sub-Zero', 'credit_id': '52fe44e6c3a36847f80b088f', 'gender': 0, 'id': 57254, 'name': 'François Petit', 'order': 8, 'profile_path': None}, {'cast_id': 10, 'character': 'Reptile', 'credit_id': '52fe44e6c3a36847f80b0893', 'gender': 2, 'id': 57255, 'name': 'Keith Cooke', 'order': 9, 'profile_path': '/tHpVz33IXT1gOHpp6I4kvnPUkse.jpg'}, {'cast_id': 23, 'character': 'Scorpion (Voice)', 'credit_id': '54dacd8ec3a368310200065b', 'gender': 0, 'id': 57256, 'name': 'Ed Boon', 'order': 10, 'profile_path': None}]\", \"[{'cast_id': 4, 'character': 'Suzanne Stone Maretto', 'credit_id': '52fe4255c3a36847f8015f59', 'gender': 1, 'id': 2227, 'name': 'Nicole Kidman', 'order': 0, 'profile_path': '/1ammEgq5D6qw5mM4WkgUmnxQ7Uy.jpg'}, {'cast_id': 5, 'character': 'Larry Maretto', 'credit_id': '52fe4255c3a36847f8015f5d', 'gender': 2, 'id': 2876, 'name': 'Matt Dillon', 'order': 1, 'profile_path': '/svj4JJmblkNUt9pSrchJEzx4VR3.jpg'}, {'cast_id': 6, 'character': 'Jimmy Emmett', 'credit_id': '52fe4255c3a36847f8015f61', 'gender': 2, 'id': 73421, 'name': 'Joaquin Phoenix', 'order': 2, 'profile_path': '/fGXFFv7owELL4wCFn2OsFAgOiO3.jpg'}, {'cast_id': 7, 'character': 'Russel Hines', 'credit_id': '52fe4255c3a36847f8015f65', 'gender': 2, 'id': 1893, 'name': 'Casey Affleck', 'order': 3, 'profile_path': '/kPNMpiZHsAzeQar4DiNsrekwHBU.jpg'}, {'cast_id': 8, 'character': 'Janice Maretto', 'credit_id': '52fe4255c3a36847f8015f69', 'gender': 1, 'id': 7796, 'name': 'Illeana Douglas', 'order': 4, 'profile_path': '/w2O2SOXzwtJu9eytb3hGS7T8ftR.jpg'}, {'cast_id': 9, 'character': 'Lydia Mertz', 'credit_id': '52fe4255c3a36847f8015f6d', 'gender': 1, 'id': 2841, 'name': 'Alison Folland', 'order': 5, 'profile_path': '/j4LkS9pycdpKECqZ4bCTqMtZrHA.jpg'}, {'cast_id': 21, 'character': 'Joe Maretto', 'credit_id': '52fe4255c3a36847f8015fb3', 'gender': 2, 'id': 6486, 'name': 'Dan Hedaya', 'order': 6, 'profile_path': '/5E4SUVfLMUKNCiP0dMhyOv3XHVZ.jpg'}, {'cast_id': 22, 'character': 'Ed Grant', 'credit_id': '52fe4255c3a36847f8015fb7', 'gender': 2, 'id': 4201, 'name': 'Wayne Knight', 'order': 7, 'profile_path': '/oW9aeZwkz1S1IMjQGtd9mnvlEax.jpg'}, {'cast_id': 23, 'character': 'Man at Lake', 'credit_id': '52fe4255c3a36847f8015fbb', 'gender': 2, 'id': 224, 'name': 'David Cronenberg', 'order': 8, 'profile_path': '/nFHIlkIuile5RmtSqbyCB4w8SpH.jpg'}, {'cast_id': 26, 'character': 'Earl Stone', 'credit_id': '52fe4255c3a36847f8015fcb', 'gender': 2, 'id': 2115, 'name': 'Kurtwood Smith', 'order': 9, 'profile_path': '/zDPAOOjHYKqePDIVSnRhBt4px24.jpg'}, {'cast_id': 27, 'character': 'Carol Stone', 'credit_id': '52fe4255c3a36847f8015fcf', 'gender': 1, 'id': 11318, 'name': 'Holland Taylor', 'order': 10, 'profile_path': '/oPcA8Ju1rBGlDCRqbyVD7S5vakY.jpg'}, {'cast_id': 28, 'character': 'Faye Stone', 'credit_id': '52fe4255c3a36847f8015fd3', 'gender': 1, 'id': 4158, 'name': 'Susan Traylor', 'order': 11, 'profile_path': '/A3ZpoAui1ure4Nx2b83wUMI8lvv.jpg'}, {'cast_id': 29, 'character': 'Angela Maretto', 'credit_id': '52fe4255c3a36847f8015fd7', 'gender': 0, 'id': 1185405, 'name': 'Maria Tucci', 'order': 12, 'profile_path': None}, {'cast_id': 30, 'character': 'Mike Warden', 'credit_id': '52fe4255c3a36847f8015fdb', 'gender': 0, 'id': 33835, 'name': 'Tim Hopper', 'order': 13, 'profile_path': '/yYZ9mTGtIU6spQ7MTrlLqxCg1h1.jpg'}]\", '[{\\'cast_id\\': 1, \\'character\\': \\'Finn Dodd\\', \\'credit_id\\': \\'52fe44959251416c75039e0b\\', \\'gender\\': 1, \\'id\\': 1920, \\'name\\': \\'Winona Ryder\\', \\'order\\': 0, \\'profile_path\\': \\'/gUyEOZpZlGBUkUxCxyoLEc9WejR.jpg\\'}, {\\'cast_id\\': 2, \\'character\\': \\'Glady Joe Cleary\\', \\'credit_id\\': \\'52fe44959251416c75039e0f\\', \\'gender\\': 1, \\'id\\': 10774, \\'name\\': \\'Anne Bancroft\\', \\'order\\': 1, \\'profile_path\\': \\'/4VMhut6tvXqXBmMGFRjXbbImAZW.jpg\\'}, {\\'cast_id\\': 3, \\'character\\': \\'Hy Dodd\\', \\'credit_id\\': \\'52fe44959251416c75039e13\\', \\'gender\\': 1, \\'id\\': 9560, \\'name\\': \\'Ellen Burstyn\\', \\'order\\': 2, \\'profile_path\\': \\'/zWzteRuoC5nbPXITuZfu1AAeZ8Q.jpg\\'}, {\\'cast_id\\': 4, \\'character\\': \\'Constance Saunders\\', \\'credit_id\\': \\'52fe44959251416c75039e17\\', \\'gender\\': 1, \\'id\\': 18794, \\'name\\': \\'Kate Nelligan\\', \\'order\\': 3, \\'profile_path\\': \\'/4GpQvniLNMKF19qtHMb0tBBgNce.jpg\\'}, {\\'cast_id\\': 11, \\'character\\': \\'Em\\', \\'credit_id\\': \\'52fe44959251416c75039e3f\\', \\'gender\\': 1, \\'id\\': 14500, \\'name\\': \\'Jean Simmons\\', \\'order\\': 4, \\'profile_path\\': \\'/lVE40Hx4s2VI2nPxkNaF0hBjPw9.jpg\\'}, {\\'cast_id\\': 12, \\'character\\': \\'Anna\\', \\'credit_id\\': \\'52fe44959251416c75039e43\\', \\'gender\\': 1, \\'id\\': 54424, \\'name\\': \\'Maya Angelou\\', \\'order\\': 5, \\'profile_path\\': \\'/wdlFPg1qhGGzctwJ1KwrPxy3T6y.jpg\\'}, {\\'cast_id\\': 13, \\'character\\': \\'Marianna\\', \\'credit_id\\': \\'52fe44959251416c75039e47\\', \\'gender\\': 1, \\'id\\': 1981, \\'name\\': \\'Alfre Woodard\\', \\'order\\': 6, \\'profile_path\\': \\'/aCAjUOrV2WG3OaLUvQHVkyk8S2P.jpg\\'}, {\\'cast_id\\': 14, \\'character\\': \\'Sam\\', \\'credit_id\\': \\'52fe44959251416c75039e4b\\', \\'gender\\': 2, \\'id\\': 20212, \\'name\\': \\'Dermot Mulroney\\', \\'order\\': 7, \\'profile_path\\': \\'/4ZqA0SJ8KKZ1HvVdZZJlrqjxlq1.jpg\\'}, {\\'cast_id\\': 15, \\'character\\': \\'Sophia\\', \\'credit_id\\': \\'52fe44959251416c75039e4f\\', \\'gender\\': 1, \\'id\\': 2207, \\'name\\': \\'Lois Smith\\', \\'order\\': 8, \\'profile_path\\': \\'/hYZx3vQ1KICO3Db5Cm89yT3pxZo.jpg\\'}, {\\'cast_id\\': 16, \\'character\\': \\'Sally\\', \\'credit_id\\': \\'52fe44959251416c75039e53\\', \\'gender\\': 1, \\'id\\': 689, \\'name\\': \\'Kate Capshaw\\', \\'order\\': 9, \\'profile_path\\': \\'/fR9ZNjuM67noFAXtZP4Ov5FzRPV.jpg\\'}, {\\'cast_id\\': 17, \\'character\\': \\'Arthur\\', \\'credit_id\\': \\'52fe44959251416c75039e57\\', \\'gender\\': 2, \\'id\\': 9626, \\'name\\': \\'Rip Torn\\', \\'order\\': 10, \\'profile_path\\': \\'/rzGaoGikjMuLDruABKdLcQLtkZk.jpg\\'}, {\\'cast_id\\': 18, \\'character\\': \\'Leon\\', \\'credit_id\\': \\'52fe44959251416c75039e5b\\', \\'gender\\': 2, \\'id\\': 51670, \\'name\\': \\'Johnathon Schaech\\', \\'order\\': 11, \\'profile_path\\': \\'/kHB3nmTs5e4QK6f2QoIMxlGPeJ0.jpg\\'}, {\\'cast_id\\': 19, \\'character\\': \\'Young Sophia\\', \\'credit_id\\': \\'52fe44959251416c75039e5f\\', \\'gender\\': 1, \\'id\\': 20767, \\'name\\': \\'Samantha Mathis\\', \\'order\\': 12, \\'profile_path\\': \\'/dzUjIFu7AAbwwJfj6aFRPfvYgC3.jpg\\'}, {\\'cast_id\\': 20, \\'character\\': \\'Young Em\\', \\'credit_id\\': \\'52fe44959251416c75039e63\\', \\'gender\\': 1, \\'id\\': 59662, \\'name\\': \\'Joanna Going\\', \\'order\\': 13, \\'profile_path\\': \\'/8wPmJGGj4HEUfaYzYjoL1AzOSlf.jpg\\'}, {\\'cast_id\\': 21, \\'character\\': \\'Aunt Pauline\\', \\'credit_id\\': \\'52fe44959251416c75039e67\\', \\'gender\\': 1, \\'id\\': 5700, \\'name\\': \\'Esther Rolle\\', \\'order\\': 14, \\'profile_path\\': \\'/2r5hEU7GupbbTlGKl4F5IfakIzO.jpg\\'}, {\\'cast_id\\': 22, \\'character\\': \\'Beck\\', \\'credit_id\\': \\'52fe44959251416c75039e6b\\', \\'gender\\': 2, \\'id\\': 7499, \\'name\\': \\'Jared Leto\\', \\'order\\': 15, \\'profile_path\\': \\'/msugySeTCyCmlRWtyB6sMixTQYY.jpg\\'}, {\\'cast_id\\': 23, \\'character\\': \\'Young Glady Joe\\', \\'credit_id\\': \\'52fe44959251416c75039e6f\\', \\'gender\\': 1, \\'id\\': 6194, \\'name\\': \\'Claire Danes\\', \\'order\\': 16, \\'profile_path\\': \\'/6Lr3Yc53iifCPtJz1jTzjhVxa0j.jpg\\'}, {\\'cast_id\\': 24, \\'character\\': \\'Young Hy\\', \\'credit_id\\': \\'52fe44959251416c75039e73\\', \\'gender\\': 1, \\'id\\': 78788, \\'name\\': \\'Lecy Goranson\\', \\'order\\': 17, \\'profile_path\\': \\'/f1dequGgX5CV6pAywaJqns0QNki.jpg\\'}, {\\'cast_id\\': 25, \\'character\\': \\'Mrs. Rubens\\', \\'credit_id\\': \\'52fe44959251416c75039e77\\', \\'gender\\': 1, \\'id\\': 11318, \\'name\\': \\'Holland Taylor\\', \\'order\\': 18, \\'profile_path\\': \\'/oPcA8Ju1rBGlDCRqbyVD7S5vakY.jpg\\'}, {\\'cast_id\\': 26, \\'character\\': \\'Young Dean\\', \\'credit_id\\': \\'52fe44959251416c75039e7b\\', \\'gender\\': 2, \\'id\\': 40275, \\'name\\': \\'Tim Guinee\\', \\'order\\': 19, \\'profile_path\\': \\'/8UeJw5Nwfq6YUT6xGtyi184jmbd.jpg\\'}, {\\'cast_id\\': 27, \\'character\\': \\'Dean\\', \\'credit_id\\': \\'52fe44959251416c75039e7f\\', \\'gender\\': 2, \\'id\\': 14325, \\'name\\': \"Derrick O\\'Connor\", \\'order\\': 20, \\'profile_path\\': \\'/5V0v5o7vIORgUXxbMCqy5aXLf5f.jpg\\'}, {\\'cast_id\\': 28, \\'character\\': \\'Preston\\', \\'credit_id\\': \\'52fe44959251416c75039e83\\', \\'gender\\': 2, \\'id\\': 11628, \\'name\\': \\'Loren Dean\\', \\'order\\': 21, \\'profile_path\\': \\'/7qYin1jdiWuuFobjlacatyojqds.jpg\\'}, {\\'cast_id\\': 29, \\'character\\': \\'Mrs. Darling\\', \\'credit_id\\': \\'52fe44959251416c75039e87\\', \\'gender\\': 1, \\'id\\': 4778, \\'name\\': \\'Melinda Dillon\\', \\'order\\': 22, \\'profile_path\\': \\'/f4DU3lNCJqNVgwDZmHMlNV96rKV.jpg\\'}, {\\'cast_id\\': 30, \\'character\\': \\'Howell\\', \\'credit_id\\': \\'52fe44959251416c75039e8b\\', \\'gender\\': 2, \\'id\\': 28633, \\'name\\': \\'Richard Jenkins\\', \\'order\\': 23, \\'profile_path\\': \\'/iz61iPIgNUp0yk48bRNjEJ5GHO4.jpg\\'}, {\\'cast_id\\': 31, \\'character\\': \\'James\\', \\'credit_id\\': \\'52fe44959251416c75039e8f\\', \\'gender\\': 2, \\'id\\': 10480, \\'name\\': \\'Denis Arndt\\', \\'order\\': 24, \\'profile_path\\': \\'/yyEYxsqbXF69RgwbhckzxRvHehQ.jpg\\'}, {\\'cast_id\\': 44, \\'character\\': \"Finn\\'s Father\", \\'credit_id\\': \\'5964002cc3a368293b105f38\\', \\'gender\\': 2, \\'id\\': 2059, \\'name\\': \\'Adam Baldwin\\', \\'order\\': 25, \\'profile_path\\': \\'/vhZ8AD36h09mBLuyIXboglRLgIu.jpg\\'}, {\\'cast_id\\': 45, \\'character\\': \\'Baby Pres\\', \\'credit_id\\': \\'596400e6c3a368253c0e2c23\\', \\'gender\\': 0, \\'id\\': 1848887, \\'name\\': \\'Michael McElroy\\', \\'order\\': 26, \\'profile_path\\': \\'/y3FTJaalgfvC8oofDAe7t4kZnTW.jpg\\'}, {\\'cast_id\\': 46, \\'character\\': \\'Duff\\', \\'credit_id\\': \\'5964016792514179040615ee\\', \\'gender\\': 1, \\'id\\': 465117, \\'name\\': \\'Ari Meyers\\', \\'order\\': 27, \\'profile_path\\': \\'/pU5CiINTdUCFscg47WEUqdeVbMR.jpg\\'}, {\\'cast_id\\': 47, \\'character\\': \"Em\\'s Mother\", \\'credit_id\\': \\'596402c59251415a400cdb59\\', \\'gender\\': 0, \\'id\\': 33497, \\'name\\': \\'Jane Alden\\', \\'order\\': 28, \\'profile_path\\': \\'/8j9G5OuDATi1Qief6xawo5TiAES.jpg\\'}, {\\'cast_id\\': 48, \\'character\\': \"Anna\\'s Great Grandmother\", \\'credit_id\\': \\'59640400c3a36825e80eae81\\', \\'gender\\': 1, \\'id\\': 59154, \\'name\\': \\'Tamala Jones\\', \\'order\\': 29, \\'profile_path\\': \\'/gG0PHm94ArObvF8LqbuoaWP2ye5.jpg\\'}, {\\'cast_id\\': 49, \\'character\\': \\'Little Anna\\', \\'credit_id\\': \\'5964050bc3a3680dec0d6f2f\\', \\'gender\\': 1, \\'id\\': 18346, \\'name\\': \"Rae\\'Ven Larrymore Kelly\", \\'order\\': 30, \\'profile_path\\': \\'/bJGMNfhDyzAVh1cy9Yoi6dGvlES.jpg\\'}, {\\'cast_id\\': 50, \\'character\\': \\'Young Hy\\', \\'credit_id\\': \\'596405d39251410c560f3b82\\', \\'gender\\': 0, \\'id\\': 1346644, \\'name\\': \\'Alicia Goranson\\', \\'order\\': 31, \\'profile_path\\': \\'/gEyDfBSIrkN21b3846KLWNxqhWm.jpg\\'}, {\\'cast_id\\': 51, \\'character\\': \\'Boy at Party\\', \\'credit_id\\': \\'596405fcc3a36828fc0e60fb\\', \\'gender\\': 2, \\'id\\': 32363, \\'name\\': \\'Will Estes\\', \\'order\\': 32, \\'profile_path\\': \\'/aE4k0hiJN6VcBDN7ZasXZLV0a1N.jpg\\'}, {\\'cast_id\\': 52, \\'character\\': \\'Winston\\', \\'credit_id\\': \\'596406e49251410a590fb5e8\\', \\'gender\\': 2, \\'id\\': 34, \\'name\\': \\'Mykelti Williamson\\', \\'order\\': 33, \\'profile_path\\': \\'/8TTxzpuvvpw2tB8xZBCDslYupNU.jpg\\'}]', '[{\\'cast_id\\': 17, \\'character\\': \\'Detective David Mills\\', \\'credit_id\\': \\'52fe4279c3a36847f802178b\\', \\'gender\\': 2, \\'id\\': 287, \\'name\\': \\'Brad Pitt\\', \\'order\\': 0, \\'profile_path\\': \\'/ejYIW1enUcGJ9GS3Bs34mtONwWS.jpg\\'}, {\\'cast_id\\': 18, \\'character\\': \\'Detective Lt. William Somerset\\', \\'credit_id\\': \\'52fe4279c3a36847f802178f\\', \\'gender\\': 2, \\'id\\': 192, \\'name\\': \\'Morgan Freeman\\', \\'order\\': 1, \\'profile_path\\': \\'/oGJQhOpT8S1M56tvSsbEBePV5O1.jpg\\'}, {\\'cast_id\\': 19, \\'character\\': \\'Tracy Mills\\', \\'credit_id\\': \\'52fe4279c3a36847f8021793\\', \\'gender\\': 1, \\'id\\': 12052, \\'name\\': \\'Gwyneth Paltrow\\', \\'order\\': 2, \\'profile_path\\': \\'/uSidH77gLyon3Zpg6y1GxpKJMdZ.jpg\\'}, {\\'cast_id\\': 27, \\'character\\': \\'California\\', \\'credit_id\\': \\'52fe4279c3a36847f80217b3\\', \\'gender\\': 2, \\'id\\': 11885, \\'name\\': \\'John C. McGinley\\', \\'order\\': 3, \\'profile_path\\': \\'/6AJL0ylRtJ9vcR57yEenhWHXHFt.jpg\\'}, {\\'cast_id\\': 22, \\'character\\': \\'John Doe\\', \\'credit_id\\': \\'52fe4279c3a36847f802179f\\', \\'gender\\': 2, \\'id\\': 1979, \\'name\\': \\'Kevin Spacey\\', \\'order\\': 4, \\'profile_path\\': \\'/cdowETe1PgXLjo72hDb7R7tyavf.jpg\\'}, {\\'cast_id\\': 20, \\'character\\': \\'Police Captain\\', \\'credit_id\\': \\'52fe4279c3a36847f8021797\\', \\'gender\\': 2, \\'id\\': 8655, \\'name\\': \\'R. Lee Ermey\\', \\'order\\': 5, \\'profile_path\\': \\'/r8GBqFBjypLUP9VVqDqfZ7wYbSs.jpg\\'}, {\\'cast_id\\': 26, \\'character\\': \\'Dist. Atty. Martin Talbot\\', \\'credit_id\\': \\'52fe4279c3a36847f80217af\\', \\'gender\\': 2, \\'id\\': 6487, \\'name\\': \\'Richard Roundtree\\', \\'order\\': 6, \\'profile_path\\': \\'/3OyAx3Vrv1mQLOvl7YHaIaFwDuW.jpg\\'}, {\\'cast_id\\': 88, \\'character\\': \\'Mark Swarr\\', \\'credit_id\\': \\'568b1fa6c3a368607502ca91\\', \\'gender\\': 2, \\'id\\': 31028, \\'name\\': \\'Richard Schiff\\', \\'order\\': 7, \\'profile_path\\': \\'/gHFxL7MIGvmcbg5hhTNrbjIttQN.jpg\\'}, {\\'cast_id\\': 82, \\'character\\': \\'Mrs. Gould\\', \\'credit_id\\': \\'568b1e5e92514132db02a87e\\', \\'gender\\': 0, \\'id\\': 1558263, \\'name\\': \\'Julie Araskog\\', \\'order\\': 8, \\'profile_path\\': \\'/cn1npisXBe9oGdEDjkjdeDk6NwC.jpg\\'}, {\\'cast_id\\': 83, \\'character\\': \\'Greasy F.B.I. Man\\', \\'credit_id\\': \\'568b1ea0c3a368227b0217f3\\', \\'gender\\': 2, \\'id\\': 534, \\'name\\': \\'Mark Boone Junior\\', \\'order\\': 9, \\'profile_path\\': \\'/riibKDljUzdSfIZygymhKx9yNPx.jpg\\'}, {\\'cast_id\\': 24, \\'character\\': \\'Officer Davis\\', \\'credit_id\\': \\'52fe4279c3a36847f80217a7\\', \\'gender\\': 2, \\'id\\': 12055, \\'name\\': \\'John Cassini\\', \\'order\\': 10, \\'profile_path\\': \\'/x6on7gR2Q8iQknmrmEL6hMZWZPJ.jpg\\'}, {\\'cast_id\\': 84, \\'character\\': \\'Dr. Santiago\\', \\'credit_id\\': \\'568b1ee492514169d0017686\\', \\'gender\\': 2, \\'id\\': 38951, \\'name\\': \\'Reg E. Cathey\\', \\'order\\': 11, \\'profile_path\\': \\'/5hU3zmZft1ksZOgMCaTu5WaWstX.jpg\\'}, {\\'cast_id\\': 85, \\'character\\': \"Dr. O\\'Neill\", \\'credit_id\\': \\'568b1f06c3a3684bcc02e88c\\', \\'gender\\': 0, \\'id\\': 30487, \\'name\\': \\'Peter Crombie\\', \\'order\\': 12, \\'profile_path\\': \\'/yuh8SzdEm1xlEAs2Kl86dojFqAm.jpg\\'}, {\\'cast_id\\': 25, \\'character\\': \\'George, Library Night Guard\\', \\'credit_id\\': \\'52fe4279c3a36847f80217ab\\', \\'gender\\': 2, \\'id\\': 12056, \\'name\\': \\'Hawthorne James\\', \\'order\\': 13, \\'profile_path\\': \\'/i7PiUf2mN7zs3V78NPlF79nCOZ4.jpg\\'}, {\\'cast_id\\': 87, \\'character\\': \\'Man in Booth at Massage Parlor\\', \\'credit_id\\': \\'568b1f6292514169d00176a1\\', \\'gender\\': 2, \\'id\\': 9289, \\'name\\': \\'Michael Massee\\', \\'order\\': 14, \\'profile_path\\': \\'/qbM7GWc86Lw5y6E6eCnokgVaHia.jpg\\'}, {\\'cast_id\\': 86, \\'character\\': \\'Crazed Man in Massage Parlor\\', \\'credit_id\\': \\'568b1f39c3a36828f5023331\\', \\'gender\\': 2, \\'id\\': 2221, \\'name\\': \\'Leland Orser\\', \\'order\\': 15, \\'profile_path\\': \\'/2XnpH5LOE7Ln0JMhFTT73QscLQh.jpg\\'}, {\\'cast_id\\': 30, \\'character\\': \\'Dr. Beardsley\\', \\'credit_id\\': \\'52fe4279c3a36847f80217c3\\', \\'gender\\': 2, \\'id\\': 4255, \\'name\\': \\'Richard Portnow\\', \\'order\\': 16, \\'profile_path\\': \\'/bKvHyXRytdiQLZmNkV9AjdFnNvK.jpg\\'}, {\\'cast_id\\': 23, \\'character\\': \\'Detective Taylor\\', \\'credit_id\\': \\'52fe4279c3a36847f80217a3\\', \\'gender\\': 2, \\'id\\': 12054, \\'name\\': \\'Daniel Zacapa\\', \\'order\\': 17, \\'profile_path\\': \\'/9QXMMpfb1iqmG6MoevtyKbhOWhO.jpg\\'}, {\\'cast_id\\': 106, \\'character\\': \\'Fingerprint Technician\\', \\'credit_id\\': \\'56ddb8ebc3a3684cfa000039\\', \\'gender\\': 2, \\'id\\': 52603, \\'name\\': \\'Alfonso Freeman\\', \\'order\\': 18, \\'profile_path\\': \\'/xzIwjgSZA4ObAGxq69zlLJewKW9.jpg\\'}, {\\'cast_id\\': 116, \\'character\\': \\'911 Operator\\', \\'credit_id\\': \\'56ddbbaa9251411256000036\\', \\'gender\\': 2, \\'id\\': 10688, \\'name\\': \\'Harris Savides\\', \\'order\\': 19, \\'profile_path\\': \\'/7B7o49bFyrfoiUvEujqqXNW8avK.jpg\\'}, {\\'cast_id\\': 21, \\'character\\': \\'Dead Man\\', \\'credit_id\\': \\'52fe4279c3a36847f802179b\\', \\'gender\\': 2, \\'id\\': 12047, \\'name\\': \\'Andrew Kevin Walker\\', \\'order\\': 20, \\'profile_path\\': \\'/tPypY1vmiLEkoFuN0Q5pUU338ms.jpg\\'}, {\\'cast_id\\': 123, \\'character\\': \\'Delivery Man\\', \\'credit_id\\': \\'56ddbe0fc3a3685d6a00002b\\', \\'gender\\': 2, \\'id\\': 7472, \\'name\\': \\'Richmond Arquette\\', \\'order\\': 21, \\'profile_path\\': \\'/xW4bb2qsPYilO27ex4Xoy2Ik1Ai.jpg\\'}, {\\'cast_id\\': 89, \\'character\\': \\'Thin Vagrant\\', \\'credit_id\\': \\'568b1fca9251410ffb000fbc\\', \\'gender\\': 0, \\'id\\': 128203, \\'name\\': \\'Pamala Tyson\\', \\'order\\': 22, \\'profile_path\\': \\'/gCWBzMwtKZ20YY2h7h3mLkdIlI0.jpg\\'}, {\\'cast_id\\': 31, \\'character\\': \\'Detective Sara\\', \\'credit_id\\': \\'52fe4279c3a36847f80217c7\\', \\'gender\\': 1, \\'id\\': 157434, \\'name\\': \\'Emily Wagner\\', \\'order\\': 23, \\'profile_path\\': \\'/kjyX1FvobjwfksNJUaxSJ5ZasvU.jpg\\'}, {\\'cast_id\\': 96, \\'character\\': \\'Woman Cop Behind Desk\\', \\'credit_id\\': \\'56b6822cc3a36806f1009d9f\\', \\'gender\\': 1, \\'id\\': 95469, \\'name\\': \\'Shannon Wilcox\\', \\'order\\': 24, \\'profile_path\\': \\'/dQTvcWdLyB5RIWNQxk4DWn6ko59.jpg\\'}, {\\'cast_id\\': 97, \\'character\\': \"Workman at Door of Somerset\\'s Office\", \\'credit_id\\': \\'56dc71b1c3a368764d000253\\', \\'gender\\': 2, \\'id\\': 1583695, \\'name\\': \\'George Christy\\', \\'order\\': 25, \\'profile_path\\': \\'/2OZQEKP1CIjMooiGJCMa4FAdykm.jpg\\'}, {\\'cast_id\\': 98, \\'character\\': \\'Cab Driver\\', \\'credit_id\\': \\'56dc724b925141436f000271\\', \\'gender\\': 2, \\'id\\': 43461, \\'name\\': \\'Endre Hules\\', \\'order\\': 26, \\'profile_path\\': \\'/cmxqIcfikG6rr5ag45ZkhYMP51Z.jpg\\'}, {\\'cast_id\\': 99, \\'character\\': \\'First Guard at the Library\\', \\'credit_id\\': \\'56ddb73d9251410b09000011\\', \\'gender\\': 2, \\'id\\': 1025337, \\'name\\': \\'William Davidson\\', \\'order\\': 27, \\'profile_path\\': None}, {\\'cast_id\\': 101, \\'character\\': \\'Second Guard at the Library\\', \\'credit_id\\': \\'56ddb8019251410b0f000037\\', \\'gender\\': 0, \\'id\\': 1055173, \\'name\\': \\'Bob Collins\\', \\'order\\': 28, \\'profile_path\\': None}, {\\'cast_id\\': 102, \\'character\\': \\'TV News Reporter\\', \\'credit_id\\': \\'56ddb83a9251410b0d000024\\', \\'gender\\': 1, \\'id\\': 95200, \\'name\\': \\'Dominique Jennings\\', \\'order\\': 29, \\'profile_path\\': None}, {\\'cast_id\\': 103, \\'character\\': \\'First Forensic Man in the Law Office\\', \\'credit_id\\': \\'56ddb85dc3a3684d00000031\\', \\'gender\\': 2, \\'id\\': 31533, \\'name\\': \\'Allan Kolman\\', \\'order\\': 30, \\'profile_path\\': None}, {\\'cast_id\\': 104, \\'character\\': \\'Eli Gould - Greed Victim\\', \\'credit_id\\': \\'56ddb89ac3a3684cf5000055\\', \\'gender\\': 2, \\'id\\': 152638, \\'name\\': \\'Gene Borkan\\', \\'order\\': 31, \\'profile_path\\': None}, {\\'cast_id\\': 105, \\'character\\': \\'Fingerprint Forensic Man in Law Office\\', \\'credit_id\\': \\'56ddb8c6c3a3684cf100003a\\', \\'gender\\': 2, \\'id\\': 176969, \\'name\\': \\'Mario Di Donato\\', \\'order\\': 32, \\'profile_path\\': None}, {\\'cast_id\\': 107, \\'character\\': \\'Cop on SWAT Team\\', \\'credit_id\\': \\'56ddb93ec3a3684ce8000041\\', \\'gender\\': 0, \\'id\\': 1487328, \\'name\\': \\'Harrison White\\', \\'order\\': 33, \\'profile_path\\': \\'/p0ocpENvbN7TXMkDUt5NVHMeN42.jpg\\'}, {\\'cast_id\\': 108, \\'character\\': \\'Cop on SWAT Team\\', \\'credit_id\\': \\'56ddb9ebc3a36854a6000003\\', \\'gender\\': 2, \\'id\\': 17449, \\'name\\': \\'Bob Stephenson\\', \\'order\\': 34, \\'profile_path\\': \\'/BdlHJDys3K6tMKGR8zIB3QMw4o.jpg\\'}, {\\'cast_id\\': 109, \\'character\\': \\'Victor - Sloth Victim\\', \\'credit_id\\': \\'56ddba18c3a36854ac00000d\\', \\'gender\\': 0, \\'id\\': 174037, \\'name\\': \\'Michael Reid MacKay\\', \\'order\\': 35, \\'profile_path\\': \\'/3M72n8hgvVesuFNyqT4MYhJ7pIc.jpg\\'}, {\\'cast_id\\': 110, \\'character\\': \\'Policeman Who Takes Statement from Vagrant\\', \\'credit_id\\': \\'56ddba59c3a36854a800000f\\', \\'gender\\': 2, \\'id\\': 42200, \\'name\\': \\'Lennie Loftin\\', \\'order\\': 36, \\'profile_path\\': \\'/oqB0hQo98TCzNUe1m2uNQSscsJL.jpg\\'}, {\\'cast_id\\': 111, \\'character\\': \\'Wild Bill\\', \\'credit_id\\': \\'56ddbabac3a36854a6000024\\', \\'gender\\': 0, \\'id\\': 1107809, \\'name\\': \\'Martin Serene\\', \\'order\\': 37, \\'profile_path\\': None}, {\\'cast_id\\': 112, \\'character\\': \\'First Cop at Massage Parlor\\', \\'credit_id\\': \\'56ddbaf6c3a36854ae00002e\\', \\'gender\\': 2, \\'id\\': 91843, \\'name\\': \\'David Correia\\', \\'order\\': 38, \\'profile_path\\': None}, {\\'cast_id\\': 113, \\'character\\': \\'Sweating Cop at Massage Parlor\\', \\'credit_id\\': \\'56ddbb2e925141125d00002a\\', \\'gender\\': 0, \\'id\\': 9783, \\'name\\': \\'Lexie Bigham\\', \\'order\\': 39, \\'profile_path\\': None}, {\\'cast_id\\': 114, \\'character\\': \\'Paramedic at Massage Parlor\\', \\'credit_id\\': \\'56ddbb53925141124e000037\\', \\'gender\\': 2, \\'id\\': 175120, \\'name\\': \\'Evan Mirand\\', \\'order\\': 40, \\'profile_path\\': \\'/7g5eTHXJ4F10CcUoNKhPRmRncqS.jpg\\'}, {\\'cast_id\\': 115, \\'character\\': \\'Paramedic at Massage Parlor\\', \\'credit_id\\': \\'56ddbb789251411251000035\\', \\'gender\\': 0, \\'id\\': 1492029, \\'name\\': \\'Paul Eckstein\\', \\'order\\': 41, \\'profile_path\\': None}, {\\'cast_id\\': 117, \\'character\\': \\'Additional 911 Operator\\', \\'credit_id\\': \\'56ddbbd6925141125f00003e\\', \\'gender\\': 1, \\'id\\': 1114784, \\'name\\': \\'Rachel Flanagan\\', \\'order\\': 42, \\'profile_path\\': \\'/pI10KQrfCaUI87MJTgb5wlzsk4L.jpg\\'}, {\\'cast_id\\': 118, \\'character\\': \\'Pride Victim\\', \\'credit_id\\': \\'56ddbc019251411253000041\\', \\'gender\\': 1, \\'id\\': 11321, \\'name\\': \\'Heidi Schanz\\', \\'order\\': 43, \\'profile_path\\': \\'/svkz78fByMnD4K5LbQx903ao5I0.jpg\\'}, {\\'cast_id\\': 139, \\'character\\': \\'Duty Sergeant\\', \\'credit_id\\': \\'56f17b2fc3a3685e20000142\\', \\'gender\\': 2, \\'id\\': 168162, \\'name\\': \\'Brian Evers\\', \\'order\\': 44, \\'profile_path\\': None}, {\\'cast_id\\': 120, \\'character\\': \\'Helicopter Pilot\\', \\'credit_id\\': \\'56ddbcbcc3a36854b100004c\\', \\'gender\\': 0, \\'id\\': 54433, \\'name\\': \\'James Deeth\\', \\'order\\': 45, \\'profile_path\\': None}, {\\'cast_id\\': 121, \\'character\\': \\'SWAT Helicopter Pilot\\', \\'credit_id\\': \\'56ddbd5bc3a3685d6a000016\\', \\'gender\\': 0, \\'id\\': 16563, \\'name\\': \\'Charles A. Tamburro\\', \\'order\\': 46, \\'profile_path\\': \\'/h0l9hp8RWP8u8fRjN9CyC8NFN2U.jpg\\'}, {\\'cast_id\\': 124, \\'character\\': \\'Cop (uncredited)\\', \\'credit_id\\': \\'56ddbe43925141187900003a\\', \\'gender\\': 2, \\'id\\': 17764, \\'name\\': \\'Charles S. Dutton\\', \\'order\\': 47, \\'profile_path\\': \\'/ajXBoMz8xGgDDcn8xpRi8LmXKKa.jpg\\'}, {\\'cast_id\\': 125, \\'character\\': \\'Man in Library (uncredited)\\', \\'credit_id\\': \\'56ddbe89c3a3685d6d00003d\\', \\'gender\\': 2, \\'id\\': 944, \\'name\\': \\'Arthur Max\\', \\'order\\': 48, \\'profile_path\\': None}]', \"[{'cast_id': 1, 'character': 'Pocahontas (voice)', 'credit_id': '52fe43819251416c7501305b', 'gender': 1, 'id': 65529, 'name': 'Irene Bedard', 'order': 0, 'profile_path': '/eUX06X7ZpioIO7rHRsaAyNzL646.jpg'}, {'cast_id': 2, 'character': 'John Smith (voice)', 'credit_id': '52fe43819251416c7501305f', 'gender': 2, 'id': 2461, 'name': 'Mel Gibson', 'order': 1, 'profile_path': '/6VGgL0bBvPIJ9vDOyyGf5nK2zL4.jpg'}, {'cast_id': 3, 'character': 'Governor Ratcliffe (voice)', 'credit_id': '52fe43819251416c75013063', 'gender': 2, 'id': 28010, 'name': 'David Ogden Stiers', 'order': 2, 'profile_path': '/zngM0eXq6RuYZmdocsAY2AMKUja.jpg'}, {'cast_id': 4, 'character': 'Meeko (voice)', 'credit_id': '52fe43819251416c75013067', 'gender': 2, 'id': 31365, 'name': 'John Kassir', 'order': 3, 'profile_path': '/d6zZiJ7t3Ve41Ny0ow4PhCyqfMw.jpg'}, {'cast_id': 5, 'character': 'Powhatan (voice)', 'credit_id': '52fe43819251416c7501306b', 'gender': 2, 'id': 3203, 'name': 'Russell Means', 'order': 4, 'profile_path': '/7cmcwlWqZ2iJycikffenrLZnWbg.jpg'}, {'cast_id': 6, 'character': 'Thomas (voice)', 'credit_id': '52fe43819251416c7501306f', 'gender': 2, 'id': 3894, 'name': 'Christian Bale', 'order': 5, 'profile_path': '/2ocrTd8ChuUyJOzMuD4PsQw8eCB.jpg'}, {'cast_id': 16, 'character': 'Pocahontas (singing voice)', 'credit_id': '52fe43819251416c750130a9', 'gender': 1, 'id': 110316, 'name': 'Judy Kuhn', 'order': 6, 'profile_path': '/lgdq078b2NZ8f9jeikfXJUhh86A.jpg'}, {'cast_id': 17, 'character': 'Grandmother Willow (voice)', 'credit_id': '52fe43819251416c750130ad', 'gender': 1, 'id': 12516, 'name': 'Linda Hunt', 'order': 7, 'profile_path': '/10GaB9pmTH21jJi1VxiZ3WiL1an.jpg'}, {'cast_id': 18, 'character': 'Percy (voice)', 'credit_id': '52fe43819251416c750130b1', 'gender': 2, 'id': 52699, 'name': 'Danny Mann', 'order': 8, 'profile_path': '/28JtvJrUIcHM4s8HV84ncxPD7Uv.jpg'}, {'cast_id': 19, 'character': 'Ben (voice)', 'credit_id': '52fe43819251416c750130b5', 'gender': 0, 'id': 9188, 'name': 'Billy Connolly', 'order': 9, 'profile_path': '/7e1rVdJah2r0DaMpovrhbR2dHPS.jpg'}, {'cast_id': 20, 'character': 'Lon (voice)', 'credit_id': '52fe43819251416c750130b9', 'gender': 2, 'id': 181486, 'name': 'Joe Baker', 'order': 10, 'profile_path': '/9vWEEzpr2K8DR3uQqgK2QvAygty.jpg'}, {'cast_id': 21, 'character': 'Flit (voice)', 'credit_id': '52fe43819251416c750130bd', 'gender': 2, 'id': 15831, 'name': 'Frank Welker', 'order': 11, 'profile_path': '/b3gImArbw13mMKJIe9leFc9YYb7.jpg'}, {'cast_id': 22, 'character': 'Nakoma (voice)', 'credit_id': '52fe43819251416c750130c1', 'gender': 0, 'id': 163070, 'name': 'Michelle St. John', 'order': 12, 'profile_path': '/iXasoYctdAQ9geELcF25WI7b5Jw.jpg'}, {'cast_id': 23, 'character': 'Kocoum (voice)', 'credit_id': '52fe43819251416c750130c5', 'gender': 2, 'id': 950126, 'name': 'James Apaumut Fall', 'order': 13, 'profile_path': None}, {'cast_id': 24, 'character': 'Kekata (voice)', 'credit_id': '52fe43819251416c750130c9', 'gender': 2, 'id': 37430, 'name': 'Gordon Tootoosis', 'order': 14, 'profile_path': '/924xXlQnyah5S7IXy89UMdzXXsh.jpg'}, {'cast_id': 25, 'character': 'Powhatan / Kekata (singing voice)', 'credit_id': '52fe43819251416c750130cd', 'gender': 2, 'id': 12077, 'name': 'Jim Cummings', 'order': 15, 'profile_path': '/i9frXvIJsGtoFikBEFVqE7uN8Bq.jpg'}]\", \"[{'cast_id': 1, 'character': 'Camille Baker', 'credit_id': '52fe44a4c3a36847f80a1e49', 'gender': 0, 'id': 54818, 'name': 'Pascale Bussières', 'order': 0, 'profile_path': '/vbfCShcj8n0eUOoKRCAGNh1auFY.jpg'}, {'cast_id': 2, 'character': 'Petra', 'credit_id': '52fe44a4c3a36847f80a1e4d', 'gender': 1, 'id': 54819, 'name': 'Rachael Crawford', 'order': 1, 'profile_path': '/jM6bUiUh6cEaKs53Ytp2alcwlFy.jpg'}, {'cast_id': 11, 'character': 'Martin', 'credit_id': '52fe44a5c3a36847f80a1e81', 'gender': 2, 'id': 15319, 'name': 'Henry Czerny', 'order': 2, 'profile_path': '/vlUuasZW9mIrcnvp6IIEs1B43hT.jpg'}, {'cast_id': 12, 'character': 'Timothy', 'credit_id': '52fe44a5c3a36847f80a1e85', 'gender': 2, 'id': 20173, 'name': 'Don McKellar', 'order': 3, 'profile_path': '/cV1nEafG1CqIdnrce5pVw2hcaep.jpg'}]\", '[{\\'cast_id\\': 19, \\'character\\': \\'Michael McManus\\', \\'credit_id\\': \\'52fe4260c3a36847f8019ae7\\', \\'gender\\': 2, \\'id\\': 9045, \\'name\\': \\'Stephen Baldwin\\', \\'order\\': 0, \\'profile_path\\': \\'/w2nZjBsEsjboQDZJXEkysuGgue4.jpg\\'}, {\\'cast_id\\': 20, \\'character\\': \\'Dean Keaton\\', \\'credit_id\\': \\'52fe4260c3a36847f8019aeb\\', \\'gender\\': 2, \\'id\\': 5168, \\'name\\': \\'Gabriel Byrne\\', \\'order\\': 1, \\'profile_path\\': \\'/lFIH4De52Eg21m7pScPMXezZDUh.jpg\\'}, {\\'cast_id\\': 24, \\'character\\': \\'US Customs Agent Dave Kujan\\', \\'credit_id\\': \\'52fe4260c3a36847f8019afb\\', \\'gender\\': 2, \\'id\\': 9046, \\'name\\': \\'Chazz Palminteri\\', \\'order\\': 2, \\'profile_path\\': \\'/57fiwGZBohA7qytoXOUJtSNVksT.jpg\\'}, {\\'cast_id\\': 22, \\'character\\': \\'Todd Hockney\\', \\'credit_id\\': \\'52fe4260c3a36847f8019af3\\', \\'gender\\': 2, \\'id\\': 7166, \\'name\\': \\'Kevin Pollak\\', \\'order\\': 3, \\'profile_path\\': \\'/kwu2T8CDnThZTzE88uiSgJ5eHXf.jpg\\'}, {\\'cast_id\\': 25, \\'character\\': \\'Kobayashi\\', \\'credit_id\\': \\'52fe4260c3a36847f8019aff\\', \\'gender\\': 2, \\'id\\': 4935, \\'name\\': \\'Pete Postlethwaite\\', \\'order\\': 4, \\'profile_path\\': \\'/5nbSzrwyDcLhC15buncGdrQqJ8e.jpg\\'}, {\\'cast_id\\': 23, \\'character\\': \"Roger \\'Verbal\\' Kint\", \\'credit_id\\': \\'52fe4260c3a36847f8019af7\\', \\'gender\\': 2, \\'id\\': 1979, \\'name\\': \\'Kevin Spacey\\', \\'order\\': 5, \\'profile_path\\': \\'/cdowETe1PgXLjo72hDb7R7tyavf.jpg\\'}, {\\'cast_id\\': 27, \\'character\\': \\'Edie Finneran\\', \\'credit_id\\': \\'52fe4260c3a36847f8019b07\\', \\'gender\\': 1, \\'id\\': 2179, \\'name\\': \\'Suzy Amis\\', \\'order\\': 6, \\'profile_path\\': \\'/caqw60Y3qBMdlEPYr3ivZf9LAwC.jpg\\'}, {\\'cast_id\\': 26, \\'character\\': \\'FBI Agent Jack Baer\\', \\'credit_id\\': \\'52fe4260c3a36847f8019b03\\', \\'gender\\': 2, \\'id\\': 4808, \\'name\\': \\'Giancarlo Esposito\\', \\'order\\': 7, \\'profile_path\\': \\'/7oLo0CMGzBtWmePnTnGldnM4jQE.jpg\\'}, {\\'cast_id\\': 21, \\'character\\': \\'Fred Fenster\\', \\'credit_id\\': \\'52fe4260c3a36847f8019aef\\', \\'gender\\': 2, \\'id\\': 1121, \\'name\\': \\'Benicio del Toro\\', \\'order\\': 8, \\'profile_path\\': \\'/8am369y5SGiZv4l0gY9O5ENzgvE.jpg\\'}, {\\'cast_id\\': 28, \\'character\\': \\'Sgt. Jeffrey \"Jeff\" Rabin\\', \\'credit_id\\': \\'52fe4260c3a36847f8019b0b\\', \\'gender\\': 2, \\'id\\': 6486, \\'name\\': \\'Dan Hedaya\\', \\'order\\': 9, \\'profile_path\\': \\'/5E4SUVfLMUKNCiP0dMhyOv3XHVZ.jpg\\'}, {\\'cast_id\\': 32, \\'character\\': \\'Smuggler\\', \\'credit_id\\': \\'52fe4260c3a36847f8019b1b\\', \\'gender\\': 2, \\'id\\': 101377, \\'name\\': \\'Paul Bartel\\', \\'order\\': 10, \\'profile_path\\': \\'/7Kj1Y9V8lfnFXHkjf30H8d3ylQA.jpg\\'}, {\\'cast_id\\': 38, \\'character\\': \\'Saul Berg\\', \\'credit_id\\': \\'586cca41925141086b005ede\\', \\'gender\\': 0, \\'id\\': 56166, \\'name\\': \\'Carl Bressler\\', \\'order\\': 11, \\'profile_path\\': None}, {\\'cast_id\\': 29, \\'character\\': \\'Dr. Plummer\\', \\'credit_id\\': \\'52fe4260c3a36847f8019b0f\\', \\'gender\\': 1, \\'id\\': 9047, \\'name\\': \\'Christine Estabrook\\', \\'order\\': 12, \\'profile_path\\': \\'/ypAbUrQfIZWge9e2cuFmCuHHi8a.jpg\\'}, {\\'cast_id\\': 30, \\'character\\': \\'Dr. Walters\\', \\'credit_id\\': \\'52fe4260c3a36847f8019b13\\', \\'gender\\': 2, \\'id\\': 9048, \\'name\\': \\'Clark Gregg\\', \\'order\\': 13, \\'profile_path\\': \\'/t8CLS2Zcy7IjcZkE1vtxl40h9rh.jpg\\'}, {\\'cast_id\\': 39, \\'character\\': \\'Arkosh Kovash\\', \\'credit_id\\': \\'586cca52c3a3680379005dba\\', \\'gender\\': 2, \\'id\\': 156227, \\'name\\': \\'Morgan Hunter\\', \\'order\\': 14, \\'profile_path\\': None}, {\\'cast_id\\': 31, \\'character\\': \\'Agent Strausz\\', \\'credit_id\\': \\'52fe4260c3a36847f8019b17\\', \\'gender\\': 2, \\'id\\': 3218, \\'name\\': \\'Louis Lombardi\\', \\'order\\': 15, \\'profile_path\\': \\'/xQxODNK3RKu0DZvJYQKBLamSmad.jpg\\'}, {\\'cast_id\\': 40, \\'character\\': \\'Agent Rizzi\\', \\'credit_id\\': \\'586cca62c3a3680379005dbf\\', \\'gender\\': 0, \\'id\\': 1216752, \\'name\\': \\'Frank Medrano\\', \\'order\\': 16, \\'profile_path\\': \\'/rMd8vzLUCOGnp3d1mDF1GJJnjvy.jpg\\'}, {\\'cast_id\\': 41, \\'character\\': \\'Daniel \"Dan\" Metzheiser\\', \\'credit_id\\': \\'586cca9e9251410870005fda\\', \\'gender\\': 0, \\'id\\': 1235937, \\'name\\': \\'Ron Gilbert\\', \\'order\\': 17, \\'profile_path\\': \\'/bR4g197YKDOrRakiVImjdpBSkFx.jpg\\'}]', '[{\\'cast_id\\': 1, \\'character\\': \\'Cynthia Mckay\\', \\'credit_id\\': \\'52fe4babc3a36847f820ea2b\\', \\'gender\\': 1, \\'id\\': 74375, \\'name\\': \\'Cynthia Rothrock\\', \\'order\\': 0, \\'profile_path\\': \\'/cdWIhVIGlW8UAXpZ0XKbH5FYrPY.jpg\\'}, {\\'cast_id\\': 3, \\'character\\': \\'\\', \\'credit_id\\': \\'52fe4babc3a36847f820ea35\\', \\'gender\\': 2, \\'id\\': 63941, \\'name\\': \\'Marshall R. Teague\\', \\'order\\': 1, \\'profile_path\\': \\'/qRDCvSWg76O071pggoGeru30SGk.jpg\\'}, {\\'cast_id\\': 4, \\'character\\': \\'\\', \\'credit_id\\': \\'52fe4babc3a36847f820ea39\\', \\'gender\\': 0, \\'id\\': 1093379, \\'name\\': \\'Daniel McVicar\\', \\'order\\': 2, \\'profile_path\\': \\'/AoykcLK6G7oFD7oWp6ZJn1s2pZP.jpg\\'}, {\\'cast_id\\': 5, \\'character\\': \\'\\', \\'credit_id\\': \\'52fe4babc3a36847f820ea3d\\', \\'gender\\': 1, \\'id\\': 42137, \\'name\\': \\'Lydie Denier\\', \\'order\\': 3, \\'profile_path\\': \\'/foY7t05T8ZtfHD1oQ9EbcdAbxrs.jpg\\'}, {\\'cast_id\\': 6, \\'character\\': \\'\\', \\'credit_id\\': \\'52fe4babc3a36847f820ea41\\', \\'gender\\': 2, \\'id\\': 53552, \\'name\\': \"John O\\'Leary\", \\'order\\': 4, \\'profile_path\\': \\'/4DWRI16denoba5UJkwJ7jh4fH6Q.jpg\\'}, {\\'cast_id\\': 7, \\'character\\': \\'\\', \\'credit_id\\': \\'52fe4babc3a36847f820ea45\\', \\'gender\\': 2, \\'id\\': 112159, \\'name\\': \\'Art Camacho\\', \\'order\\': 5, \\'profile_path\\': \\'/bthvmWThKWzm4xaQ6hRdw4iO27g.jpg\\'}, {\\'cast_id\\': 8, \\'character\\': \\'\\', \\'credit_id\\': \\'52fe4babc3a36847f820ea49\\', \\'gender\\': 2, \\'id\\': 62715, \\'name\\': \\'Robert Miano\\', \\'order\\': 6, \\'profile_path\\': \\'/sszrBivDN2Ry0I3vWY5k8CjxYdB.jpg\\'}]', '[{\\'cast_id\\': 1, \\'character\\': \\'Lenny\\', \\'credit_id\\': \\'52fe44419251416c7502e523\\', \\'gender\\': 2, \\'id\\': 1243, \\'name\\': \\'Woody Allen\\', \\'order\\': 0, \\'profile_path\\': \\'/wpcOUlaszvJoVRf1yLbDtu7u4FI.jpg\\'}, {\\'cast_id\\': 2, \\'character\\': \\'Linda Ash\\', \\'credit_id\\': \\'52fe44419251416c7502e527\\', \\'gender\\': 1, \\'id\\': 23931, \\'name\\': \\'Mira Sorvino\\', \\'order\\': 1, \\'profile_path\\': \\'/ooyCQtEdE9wIsgC1lZRFo36VzRo.jpg\\'}, {\\'cast_id\\': 3, \\'character\\': \\'Amanda\\', \\'credit_id\\': \\'52fe44419251416c7502e52b\\', \\'gender\\': 1, \\'id\\': 1283, \\'name\\': \\'Helena Bonham Carter\\', \\'order\\': 2, \\'profile_path\\': \\'/rHZMwkumoRvhKV5ZvwBONKENAhG.jpg\\'}, {\\'cast_id\\': 4, \\'character\\': \\'Chorleiter\\', \\'credit_id\\': \\'52fe44419251416c7502e52f\\', \\'gender\\': 2, \\'id\\': 1164, \\'name\\': \\'F. Murray Abraham\\', \\'order\\': 3, \\'profile_path\\': \\'/luHava7pnJLEqGH05bqENXkOsKH.jpg\\'}, {\\'cast_id\\': 17, \\'character\\': \"Amanda\\'s Father\", \\'credit_id\\': \\'52fe44429251416c7502e56f\\', \\'gender\\': 2, \\'id\\': 10560, \\'name\\': \\'Donald Symington\\', \\'order\\': 4, \\'profile_path\\': None}, {\\'cast_id\\': 18, \\'character\\': \"Amanda\\'s Mother\", \\'credit_id\\': \\'52fe44429251416c7502e573\\', \\'gender\\': 1, \\'id\\': 29545, \\'name\\': \\'Claire Bloom\\', \\'order\\': 5, \\'profile_path\\': \\'/4x0Cfh1g8apqOPio8AJx9oUV9mK.jpg\\'}, {\\'cast_id\\': 19, \\'character\\': \\'Jocasta\\', \\'credit_id\\': \\'52fe44429251416c7502e577\\', \\'gender\\': 1, \\'id\\': 3019, \\'name\\': \\'Olympia Dukakis\\', \\'order\\': 6, \\'profile_path\\': \\'/8kYmUwC0SfnJKt39M5Xrr8Q0oIf.jpg\\'}, {\\'cast_id\\': 20, \\'character\\': \\'Kevin\\', \\'credit_id\\': \\'52fe44429251416c7502e57b\\', \\'gender\\': 2, \\'id\\': 4688, \\'name\\': \\'Michael Rapaport\\', \\'order\\': 7, \\'profile_path\\': \\'/i39bAISjAUWYlXZZA0wmjYWnZGf.jpg\\'}, {\\'cast_id\\': 21, \\'character\\': \\'Laius\\', \\'credit_id\\': \\'52fe44429251416c7502e57f\\', \\'gender\\': 2, \\'id\\': 28010, \\'name\\': \\'David Ogden Stiers\\', \\'order\\': 8, \\'profile_path\\': \\'/zngM0eXq6RuYZmdocsAY2AMKUja.jpg\\'}, {\\'cast_id\\': 22, \\'character\\': \\'Tiresias\\', \\'credit_id\\': \\'52fe44429251416c7502e583\\', \\'gender\\': 2, \\'id\\': 5251, \\'name\\': \\'Jack Warden\\', \\'order\\': 9, \\'profile_path\\': \\'/pD98exbwlD4f9QmQd0N8Sa7j6pw.jpg\\'}, {\\'cast_id\\': 23, \\'character\\': \\'Jerry Bender\\', \\'credit_id\\': \\'52fe44429251416c7502e587\\', \\'gender\\': 2, \\'id\\': 27811, \\'name\\': \\'Peter Weller\\', \\'order\\': 10, \\'profile_path\\': \\'/qTdm4vdZPsplJpnTU4fSprp0CxJ.jpg\\'}, {\\'cast_id\\': 25, \\'character\\': \\'Cassandra\\', \\'credit_id\\': \\'53c2ffeb0e0a26157600bb81\\', \\'gender\\': 0, \\'id\\': 1161048, \\'name\\': \\'Danielle Ferland\\', \\'order\\': 11, \\'profile_path\\': None}]', '[{\\'cast_id\\': 2, \\'character\\': \\'Gino\\', \\'credit_id\\': \\'52fe4787c3a36847f813acfb\\', \\'gender\\': 2, \\'id\\': 27392, \\'name\\': \\'Enrico Lo Verso\\', \\'order\\': 0, \\'profile_path\\': \\'/riYINKQIv8mxYwtfj0L899K0iPu.jpg\\'}, {\\'cast_id\\': 6, \\'character\\': \\'Fiore\\', \\'credit_id\\': \\'52fe4787c3a36847f813ad11\\', \\'gender\\': 2, \\'id\\': 25819, \\'name\\': \\'Michele Placido\\', \\'order\\': 1, \\'profile_path\\': \\'/j8krw9CE6VYP9BSiS86lQPMb8DM.jpg\\'}, {\\'cast_id\\': 7, \\'character\\': \\'Selimi\\', \\'credit_id\\': \\'52fe4787c3a36847f813ad15\\', \\'gender\\': 0, \\'id\\': 1149435, \\'name\\': \\'Piro Milkani\\', \\'order\\': 2, \\'profile_path\\': \\'/dTPj82a3Hmyh1keTsOIRAl8fNse.jpg\\'}, {\\'cast_id\\': 8, \\'character\\': \\'Spiro\\', \\'credit_id\\': \\'52fe4787c3a36847f813ad19\\', \\'gender\\': 0, \\'id\\': 1180060, \\'name\\': \\'Carmelo Di Mazzarelli\\', \\'order\\': 3, \\'profile_path\\': \\'/7wj5odXZSEGALvhovZnTfd0CKy0.jpg\\'}, {\\'cast_id\\': 9, \\'character\\': \"Factory\\'s manager\", \\'credit_id\\': \\'59df8074c3a368623e0a113d\\', \\'gender\\': 0, \\'id\\': 1904515, \\'name\\': \\'Marjeta Ljarja\\', \\'order\\': 4, \\'profile_path\\': \\'/4gj4SrG4m1uxCwfk76TqTAkWG3U.jpg\\'}]', '[{\\'cast_id\\': 1, \\'character\\': \\'Sheriff Tom Palmer\\', \\'credit_id\\': \\'52fe4503c3a368484e04374b\\', \\'gender\\': 2, \\'id\\': 26472, \\'name\\': \\'Steve Guttenberg\\', \\'order\\': 0, \\'profile_path\\': \\'/utLqKSEN9TX3EniBlX4BpytDunB.jpg\\'}, {\\'cast_id\\': 2, \\'character\\': \\'Miss Anna Mongomery\\', \\'credit_id\\': \\'52fe4503c3a368484e04374f\\', \\'gender\\': 1, \\'id\\': 46423, \\'name\\': \"Olivia d\\'Abo\", \\'order\\': 1, \\'profile_path\\': \\'/l7m7nw7wQFvc2ROXOTa4Flblh4M.jpg\\'}, {\\'cast_id\\': 3, \\'character\\': \\'Coach Jay Huffer\\', \\'credit_id\\': \\'52fe4503c3a368484e043753\\', \\'gender\\': 2, \\'id\\': 6067, \\'name\\': \\'Jay O. Sanders\\', \\'order\\': 2, \\'profile_path\\': \\'/wgCFAatAtmfN5zWgwzGgA48wwXu.jpg\\'}, {\\'cast_id\\': 4, \\'character\\': \\'Edwin V. Douglas\\', \\'credit_id\\': \\'52fe4503c3a368484e043757\\', \\'gender\\': 2, \\'id\\': 8659, \\'name\\': \\'John Terry\\', \\'order\\': 3, \\'profile_path\\': \\'/wESDSPXZXmXLp9vEfdtNKguwV3o.jpg\\'}, {\\'cast_id\\': 7, \\'character\\': \\'Newt Shaw\\', \\'credit_id\\': \\'52fe4503c3a368484e043767\\', \\'gender\\': 2, \\'id\\': 69395, \\'name\\': \\'Bug Hall\\', \\'order\\': 4, \\'profile_path\\': \\'/7B2KfTPVnldxMT7pCgxd14oo6LF.jpg\\'}, {\\'cast_id\\': 8, \\'character\\': \\'Kate Douglas\\', \\'credit_id\\': \\'52fe4503c3a368484e04376b\\', \\'gender\\': 0, \\'id\\': 148587, \\'name\\': \\'Jessica Robertson\\', \\'order\\': 5, \\'profile_path\\': None}, {\\'cast_id\\': 9, \\'character\\': \\'Larry Musgrove\\', \\'credit_id\\': \\'52fe4503c3a368484e04376f\\', \\'gender\\': 2, \\'id\\': 69740, \\'name\\': \\'Patrick Renna\\', \\'order\\': 6, \\'profile_path\\': \\'/uZNv29XVECaeAokMoz7N0hANZ3e.jpg\\'}, {\\'cast_id\\': 10, \\'character\\': \\'Jeffrey Luttrell\\', \\'credit_id\\': \\'52fe4503c3a368484e043773\\', \\'gender\\': 2, \\'id\\': 21735, \\'name\\': \\'Billy L. Sullivan\\', \\'order\\': 7, \\'profile_path\\': None}, {\\'cast_id\\': 11, \\'character\\': \\'Evan Schiff\\', \\'credit_id\\': \\'52fe4503c3a368484e043777\\', \\'gender\\': 2, \\'id\\': 88599, \\'name\\': \\'Chauncey Leopardi\\', \\'order\\': 8, \\'profile_path\\': \\'/hA6TSw8Bh9hWTNu7EEc2TydBANu.jpg\\'}, {\\'cast_id\\': 12, \\'character\\': \\'Nick Anderssen\\', \\'credit_id\\': \\'52fe4503c3a368484e04377b\\', \\'gender\\': 2, \\'id\\': 137391, \\'name\\': \\'Jordan Brower\\', \\'order\\': 9, \\'profile_path\\': \\'/p4nnRMYdWJEdwFKNNLMUPvslHcy.jpg\\'}, {\\'cast_id\\': 13, \\'character\\': \\'Sophia Convertino\\', \\'credit_id\\': \\'52fe4503c3a368484e04377f\\', \\'gender\\': 0, \\'id\\': 148591, \\'name\\': \\'Hayley Kolb\\', \\'order\\': 10, \\'profile_path\\': None}, {\\'cast_id\\': 14, \\'character\\': \\'Polly Neilson\\', \\'credit_id\\': \\'52fe4503c3a368484e043783\\', \\'gender\\': 0, \\'id\\': 148593, \\'name\\': \\'Haley Miller\\', \\'order\\': 11, \\'profile_path\\': None}, {\\'cast_id\\': 15, \\'character\\': \\'Lou Gates\\', \\'credit_id\\': \\'52fe4503c3a368484e043787\\', \\'gender\\': 1, \\'id\\': 148594, \\'name\\': \\'Ashley Welch\\', \\'order\\': 12, \\'profile_path\\': None}]', \"[{'cast_id': 2, 'character': 'Sadie Flood', 'credit_id': '52fe49de9251416c750d60cb', 'gender': 1, 'id': 10431, 'name': 'Jennifer Jason Leigh', 'order': 0, 'profile_path': '/tncFH9YfrK2ql1cNXGEkEAJ5zIz.jpg'}, {'cast_id': 3, 'character': 'Georgia Flood', 'credit_id': '52fe49de9251416c750d60cf', 'gender': 1, 'id': 51544, 'name': 'Mare Winningham', 'order': 1, 'profile_path': '/hDaZAbMo9fLranbNDei5e0t8VjL.jpg'}, {'cast_id': 4, 'character': 'Jake', 'credit_id': '52fe49de9251416c750d60d3', 'gender': 2, 'id': 15854, 'name': 'Ted Levine', 'order': 2, 'profile_path': '/7O3vgqgicfNeGr3leC0qB074fjX.jpg'}, {'cast_id': 5, 'character': 'Axel Goldman', 'credit_id': '52fe49de9251416c750d60d7', 'gender': 2, 'id': 7268, 'name': 'Max Perlich', 'order': 3, 'profile_path': '/baFBjA3vKNqZCbXrJepVweeLj3d.jpg'}, {'cast_id': 6, 'character': 'Bobby', 'credit_id': '52fe49de9251416c750d60db', 'gender': 2, 'id': 42746, 'name': 'John Doe', 'order': 4, 'profile_path': '/EuDIT3BBTqkkLKD8wgp7MwuGCx.jpg'}, {'cast_id': 7, 'character': 'Herman', 'credit_id': '52fe49de9251416c750d60df', 'gender': 2, 'id': 4764, 'name': 'John C. Reilly', 'order': 5, 'profile_path': '/kUo2TPQp4kOWWvijvkjLl0v9PQB.jpg'}, {'cast_id': 8, 'character': 'Trucker', 'credit_id': '52fe49de9251416c750d60e3', 'gender': 2, 'id': 590356, 'name': 'Jimmy Witherspoon', 'order': 6, 'profile_path': None}, {'cast_id': 9, 'character': 'Chasman', 'credit_id': '52fe49de9251416c750d60e7', 'gender': 2, 'id': 52308, 'name': 'Jason Carter', 'order': 7, 'profile_path': '/ytMY52hZiaaL21wh9dkyabZwX1k.jpg'}]\", \"[{'cast_id': 1, 'character': 'Alex Cole', 'credit_id': '52fe4aa2c3a368484e15ee3d', 'gender': 2, 'id': 198643, 'name': 'Johnny Morina', 'order': 0, 'profile_path': None}, {'cast_id': 2, 'character': 'Merlin', 'credit_id': '52fe4aa2c3a368484e15ee41', 'gender': 2, 'id': 56890, 'name': 'Malcolm McDowell', 'order': 1, 'profile_path': '/lnVJ6J8szi86ssDTfyvZSl8lnlr.jpg'}, {'cast_id': 3, 'character': 'Jenny', 'credit_id': '57b42947c3a3686f6d004bae', 'gender': 1, 'id': 41743, 'name': 'Maggie Castle', 'order': 2, 'profile_path': '/mNiLxh1UZWXrVoXow3PB094mYCL.jpg'}, {'cast_id': 4, 'character': 'Sheriff Ferguson', 'credit_id': '57b42963c3a3686f6d004bbb', 'gender': 2, 'id': 1569328, 'name': 'James Rae', 'order': 3, 'profile_path': '/rhAq7pJ1nMG68x3ZPjbeGvwGHCs.jpg'}, {'cast_id': 5, 'character': 'Butch Scarsdale', 'credit_id': '57b4297b92514126b4003ff7', 'gender': 2, 'id': 11086, 'name': 'Michael Ironside', 'order': 4, 'profile_path': '/i3HkCGEnQGJeD0U8WDumO4VH5fU.jpg'}]\", \"[{'cast_id': 10, 'character': 'Claudia Larson', 'credit_id': '52fe44dbc3a36847f80ae03f', 'gender': 1, 'id': 18686, 'name': 'Holly Hunter', 'order': 0, 'profile_path': '/sfqLoSx2dmfQTafqbv8lNHnBeUW.jpg'}, {'cast_id': 11, 'character': 'Tommy Larson', 'credit_id': '52fe44dbc3a36847f80ae043', 'gender': 2, 'id': 3223, 'name': 'Robert Downey Jr.', 'order': 1, 'profile_path': '/1YjdSym1jTG7xjHSI0yGGWEsw5i.jpg'}, {'cast_id': 12, 'character': 'Adele Larson', 'credit_id': '52fe44dbc3a36847f80ae047', 'gender': 1, 'id': 10774, 'name': 'Anne Bancroft', 'order': 2, 'profile_path': '/4VMhut6tvXqXBmMGFRjXbbImAZW.jpg'}, {'cast_id': 13, 'character': 'Henry Larson', 'credit_id': '52fe44dbc3a36847f80ae04b', 'gender': 2, 'id': 1466, 'name': 'Charles Durning', 'order': 3, 'profile_path': '/cDbNCqLStv13MW8W6DZ504xsbrz.jpg'}, {'cast_id': 14, 'character': 'Kitt Larson', 'credit_id': '52fe44dbc3a36847f80ae04f', 'gender': 1, 'id': 6194, 'name': 'Claire Danes', 'order': 4, 'profile_path': '/6Lr3Yc53iifCPtJz1jTzjhVxa0j.jpg'}, {'cast_id': 15, 'character': 'Leo Fish', 'credit_id': '52fe44dbc3a36847f80ae053', 'gender': 2, 'id': 32597, 'name': 'Dylan McDermott', 'order': 5, 'profile_path': '/4VVyvrxVVrrX9GsKlkSnUz32Ft6.jpg'}, {'cast_id': 16, 'character': 'Aunt Glady', 'credit_id': '52fe44dbc3a36847f80ae057', 'gender': 1, 'id': 400, 'name': 'Geraldine Chaplin', 'order': 6, 'profile_path': '/gr5UwM0nA76SCWDSCXjjSSxclvf.jpg'}, {'cast_id': 17, 'character': 'Walter Wedman', 'credit_id': '52fe44dbc3a36847f80ae05b', 'gender': 2, 'id': 26472, 'name': 'Steve Guttenberg', 'order': 7, 'profile_path': '/utLqKSEN9TX3EniBlX4BpytDunB.jpg'}, {'cast_id': 18, 'character': 'Russell Terziak', 'credit_id': '52fe44dbc3a36847f80ae05f', 'gender': 2, 'id': 11064, 'name': 'David Strathairn', 'order': 8, 'profile_path': '/5P9hWKVBXVD6bNdDO3O7upa1A6S.jpg'}, {'cast_id': 19, 'character': 'Joanne Larson Wedman', 'credit_id': '52fe44dbc3a36847f80ae063', 'gender': 1, 'id': 65528, 'name': 'Cynthia Stevenson', 'order': 9, 'profile_path': '/4EClZk1ZIKe3SwcfFr5FrK0xd84.jpg'}]\", \"[{'cast_id': 11, 'character': 'Pablo Neruda', 'credit_id': '52fe43e29251416c75021dd1', 'gender': 2, 'id': 24366, 'name': 'Philippe Noiret', 'order': 0, 'profile_path': '/cxqfBaHzXOOMVcxHYfAewhG2Cjc.jpg'}, {'cast_id': 12, 'character': 'Mario Ruoppolo', 'credit_id': '52fe43e29251416c75021dd5', 'gender': 0, 'id': 67792, 'name': 'Massimo Troisi', 'order': 1, 'profile_path': '/4MYP8iFkyi1txnPmR5LlPISt77X.jpg'}, {'cast_id': 13, 'character': 'Beatrice Russo', 'credit_id': '52fe43e29251416c75021dd9', 'gender': 1, 'id': 10777, 'name': 'Maria Grazia Cucinotta', 'order': 2, 'profile_path': '/bgI6qh8V7zKslCcGxRflom4H7yS.jpg'}, {'cast_id': 14, 'character': 'Telegrapher', 'credit_id': '52fe43e29251416c75021ddd', 'gender': 2, 'id': 14149, 'name': 'Renato Scarpa', 'order': 3, 'profile_path': '/4jANi4vGdTqFG7a5OjtbM9ikwOe.jpg'}, {'cast_id': 15, 'character': 'Donna Rosa', 'credit_id': '53ea63d6c3a3680eb5001318', 'gender': 0, 'id': 538696, 'name': 'Linda Moretti', 'order': 4, 'profile_path': None}, {'cast_id': 16, 'character': 'Di Cosimo', 'credit_id': '53ea6400c3a3680ebd0012a6', 'gender': 2, 'id': 24290, 'name': 'Mariano Rigillo', 'order': 5, 'profile_path': '/qyAwLvscb3FHFz0f3smaTZv5la.jpg'}, {'cast_id': 17, 'character': 'Matilde', 'credit_id': '53ea6416c3a3680ec1001376', 'gender': 0, 'id': 225301, 'name': 'Anna Bonaiuto', 'order': 6, 'profile_path': '/yp4iL38XyshPUpnqlMQ9Dlpabp2.jpg'}, {'cast_id': 18, 'character': 'Elsa Morante', 'credit_id': '53ea6429c3a3680eca001353', 'gender': 0, 'id': 1351952, 'name': 'Simona Caparrini', 'order': 7, 'profile_path': '/unfHetKyp0yJ3FnB5ORXhzhI0Jv.jpg'}, {'cast_id': 20, 'character': '', 'credit_id': '53ea647dc3a3680eca001360', 'gender': 2, 'id': 1352578, 'name': 'Carlo Di Maio', 'order': 9, 'profile_path': None}, {'cast_id': 21, 'character': '', 'credit_id': '53ea64a7c3a3680eca001369', 'gender': 0, 'id': 1352580, 'name': 'Nando Neri', 'order': 10, 'profile_path': None}, {'cast_id': 22, 'character': '', 'credit_id': '53ea64d0c3a3680ecc001360', 'gender': 0, 'id': 1352582, 'name': 'Vincenzo Di Sauro', 'order': 11, 'profile_path': None}, {'cast_id': 23, 'character': '', 'credit_id': '53ea6500c3a3680ec70013bf', 'gender': 0, 'id': 1189964, 'name': 'Orazio Stracuzzi', 'order': 12, 'profile_path': '/zttVmTiKYr9p10sd7pBWpSbjUM3.jpg'}, {'cast_id': 24, 'character': '', 'credit_id': '53ea6578c3a3680ec10013af', 'gender': 0, 'id': 1151165, 'name': 'Sergio Solli', 'order': 13, 'profile_path': '/awwiyTMCPpHv2IvnNTZ1I7zI7Wm.jpg'}, {'cast_id': 25, 'character': '', 'credit_id': '53ea65a7c3a3680eca001387', 'gender': 0, 'id': 1352583, 'name': 'Alfredo Cozzolino', 'order': 14, 'profile_path': '/1lkBHO97DOlKehwH32C4oilM5Oo.jpg'}]\", \"[{'cast_id': 3, 'character': 'Pierre Lamontagne', 'credit_id': '52fe4a259251416c750df453', 'gender': 2, 'id': 38524, 'name': 'Lothaire Bluteau', 'order': 0, 'profile_path': '/4T08wOIWv84KqMYYsd1VUSX1lFF.jpg'}, {'cast_id': 4, 'character': 'Marc Lamontagne', 'credit_id': '52fe4a259251416c750df457', 'gender': 0, 'id': 1019878, 'name': 'Patrick Goyette', 'order': 1, 'profile_path': None}, {'cast_id': 5, 'character': 'Raymond Massicotte', 'credit_id': '52fe4a259251416c750df45b', 'gender': 0, 'id': 1019879, 'name': 'Jean-Louis Millette', 'order': 2, 'profile_path': None}, {'cast_id': 6, 'character': 'Assistant to Hitchcock', 'credit_id': '52fe4a259251416c750df45f', 'gender': 1, 'id': 5470, 'name': 'Kristin Scott Thomas', 'order': 3, 'profile_path': '/9zBXGGcUBi7DnulKcFPCAdwrKY0.jpg'}, {'cast_id': 7, 'character': 'Alfred Hitchcock', 'credit_id': '52fe4a259251416c750df463', 'gender': 0, 'id': 223877, 'name': 'Ron Burrage', 'order': 4, 'profile_path': None}]\", \"[{'cast_id': 1, 'character': 'Omri', 'credit_id': '52fe44309251416c7502bdb5', 'gender': 2, 'id': 69301, 'name': 'Hal Scardino', 'order': 0, 'profile_path': '/q8TX9vJfLSzYDztSIDmz1ao002t.jpg'}, {'cast_id': 2, 'character': 'Little Bear', 'credit_id': '52fe44309251416c7502bdb9', 'gender': 2, 'id': 69302, 'name': 'Litefoot', 'order': 1, 'profile_path': '/6MmZFvtuY2Vmnt6lDsC7hw8lk4X.jpg'}, {'cast_id': 3, 'character': 'Jane', 'credit_id': '52fe44309251416c7502bdbd', 'gender': 1, 'id': 32225, 'name': 'Lindsay Crouse', 'order': 2, 'profile_path': '/mAZTWVbtfmC0R4R6TZ3rjhJSW0b.jpg'}, {'cast_id': 4, 'character': 'Victor', 'credit_id': '52fe44309251416c7502bdc1', 'gender': 2, 'id': 28633, 'name': 'Richard Jenkins', 'order': 3, 'profile_path': '/iz61iPIgNUp0yk48bRNjEJ5GHO4.jpg'}, {'cast_id': 15, 'character': 'Patrick', 'credit_id': '536fecdfc3a36839c1004ea5', 'gender': 0, 'id': 1318612, 'name': 'Rishi Bhat', 'order': 4, 'profile_path': None}, {'cast_id': 11, 'character': '', 'credit_id': '52fe44309251416c7502bde9', 'gender': 2, 'id': 4581, 'name': 'Steve Coogan', 'order': 5, 'profile_path': '/1xeEsE6pq6GTkueRfjzQiTqvyYA.jpg'}, {'cast_id': 14, 'character': 'Boone', 'credit_id': '536fec980e0a2647db012e19', 'gender': 2, 'id': 18181, 'name': 'David Keith', 'order': 6, 'profile_path': '/v1b7NQqJifk7xgt9HOGh0lvfkbP.jpg'}, {'cast_id': 16, 'character': 'Lucy', 'credit_id': '536fececc3a368124a00ee18', 'gender': 1, 'id': 34200, 'name': 'Sakina Jaffrey', 'order': 7, 'profile_path': '/cljkdHCxyQm9mpm1Dijp3eOVHJs.jpg'}, {'cast_id': 12, 'character': '', 'credit_id': '52fe44309251416c7502bded', 'gender': 2, 'id': 52646, 'name': 'Vincent Kartheiser', 'order': 8, 'profile_path': '/zgSvuYVE59Ry9Q2qIXM7XAe8R03.jpg'}, {'cast_id': 13, 'character': '', 'credit_id': '52fe44309251416c7502bdf1', 'gender': 2, 'id': 14331, 'name': 'Nestor Serrano', 'order': 9, 'profile_path': '/dZ44mFqSLqVqBmh4XqFRqqfa70N.jpg'}]\", '[{\\'cast_id\\': 1, \\'character\\': \\'Karen McCann\\', \\'credit_id\\': \\'52fe470d9251416c7508c47d\\', \\'gender\\': 1, \\'id\\': 35, \\'name\\': \\'Sally Field\\', \\'order\\': 0, \\'profile_path\\': \\'/ymhpsxujOO3a9qaGYSpkenCt9Le.jpg\\'}, {\\'cast_id\\': 5, \\'character\\': \\'Robert Doob\\', \\'credit_id\\': \\'52fe470e9251416c7508c48f\\', \\'gender\\': 2, \\'id\\': 2628, \\'name\\': \\'Kiefer Sutherland\\', \\'order\\': 1, \\'profile_path\\': \\'/4YvDfOfD4TgyzDkLGoq76g5BZNe.jpg\\'}, {\\'cast_id\\': 2, \\'character\\': \\'Mack McCann\\', \\'credit_id\\': \\'52fe470d9251416c7508c481\\', \\'gender\\': 2, \\'id\\': 228, \\'name\\': \\'Ed Harris\\', \\'order\\': 2, \\'profile_path\\': \\'/atzm7ZGRFSWJHQT6qKmzjmNQ9GA.jpg\\'}, {\\'cast_id\\': 9, \\'character\\': \\'Dolly Green\\', \\'credit_id\\': \\'5318c82a92514177bf0014bf\\', \\'gender\\': 1, \\'id\\': 821, \\'name\\': \"Beverly D\\'Angelo\", \\'order\\': 3, \\'profile_path\\': \\'/fkedkicdG9o9axNqGs5tcTFxglw.jpg\\'}, {\\'cast_id\\': 39, \\'character\\': \\'Angel Kosinsky\\', \\'credit_id\\': \\'56f5f03ec3a3686a670015d8\\', \\'gender\\': 1, \\'id\\': 33689, \\'name\\': \\'Charlayne Woodard\\', \\'order\\': 4, \\'profile_path\\': \\'/vXtT2E73JwxhT8YIBGPYpD05WbN.jpg\\'}, {\\'cast_id\\': 8, \\'character\\': \\'Detective Sergeant Denillo\\', \\'credit_id\\': \\'5318c81c92514177bc001528\\', \\'gender\\': 2, \\'id\\': 3266, \\'name\\': \\'Joe Mantegna\\', \\'order\\': 5, \\'profile_path\\': \\'/vd83KyKwcNrxd6EDcezGv16xhsL.jpg\\'}, {\\'cast_id\\': 3, \\'character\\': \\'Julie McCann\\', \\'credit_id\\': \\'52fe470d9251416c7508c485\\', \\'gender\\': 1, \\'id\\': 27261, \\'name\\': \\'Olivia Burnette\\', \\'order\\': 6, \\'profile_path\\': \\'/cn8n42CWGUSBI1NNiarVIP9Lyr6.jpg\\'}, {\\'cast_id\\': 7, \\'character\\': \\'Megan McCann\\', \\'credit_id\\': \\'5318c80b92514177b4001571\\', \\'gender\\': 1, \\'id\\': 157108, \\'name\\': \\'Alexandra Kyle\\', \\'order\\': 7, \\'profile_path\\': \\'/zQRtf4W7AUrCe10m8aJwu4IH4Gq.jpg\\'}, {\\'cast_id\\': 12, \\'character\\': \\'Martin\\', \\'credit_id\\': \\'5318c86392514177ae00156e\\', \\'gender\\': 2, \\'id\\': 65827, \\'name\\': \\'Keith David\\', \\'order\\': 8, \\'profile_path\\': \\'/nwAC9TgwRkj0Ritq93O8GeublyL.jpg\\'}, {\\'cast_id\\': 11, \\'character\\': \\'Sidney Hughes\\', \\'credit_id\\': \\'5318c85592514177b100161d\\', \\'gender\\': 2, \\'id\\': 4492, \\'name\\': \\'Philip Baker Hall\\', \\'order\\': 9, \\'profile_path\\': \\'/eH7GrivSuLEvhJL85qPkhNvg3E7.jpg\\'}, {\\'cast_id\\': 41, \\'character\\': \\'Susan Juke\\', \\'credit_id\\': \\'57cd9819c3a3686886003a06\\', \\'gender\\': 1, \\'id\\': 65017, \\'name\\': \\'Natalija Nogulich\\', \\'order\\': 10, \\'profile_path\\': \\'/4NKMj3FHdZUGWmvcCiayw9nwWVa.jpg\\'}, {\\'cast_id\\': 42, \\'character\\': \\'Judge Arthur Younger\\', \\'credit_id\\': \\'57cd98269251415159008ad5\\', \\'gender\\': 2, \\'id\\': 29446, \\'name\\': \\'Armin Shimerman\\', \\'order\\': 11, \\'profile_path\\': \\'/9THIxwTKPI5MrPPmLmwzU1CpQkl.jpg\\'}, {\\'cast_id\\': 43, \\'character\\': \\'District Attorney Howard Bolinger\\', \\'credit_id\\': \\'57cd983b925141758700086b\\', \\'gender\\': 2, \\'id\\': 8539, \\'name\\': \\'Nicholas Cascone\\', \\'order\\': 12, \\'profile_path\\': \\'/9iOE3yuoqbbXUbocFNueAjPbLnC.jpg\\'}, {\\'cast_id\\': 45, \\'character\\': \\'Peter Green\\', \\'credit_id\\': \\'57cdc3e09251413db90001ac\\', \\'gender\\': 2, \\'id\\': 51188, \\'name\\': \\'Darrell Larson\\', \\'order\\': 13, \\'profile_path\\': \\'/rgGlOQAVeeFtrdAtlyghhuFqquI.jpg\\'}, {\\'cast_id\\': 10, \\'character\\': \\'Tina\\', \\'credit_id\\': \\'5318c83d92514177bf0014c1\\', \\'gender\\': 1, \\'id\\': 74375, \\'name\\': \\'Cynthia Rothrock\\', \\'order\\': 14, \\'profile_path\\': \\'/cdWIhVIGlW8UAXpZ0XKbH5FYrPY.jpg\\'}, {\\'cast_id\\': 40, \\'character\\': \\'Redheaded Woman\\', \\'credit_id\\': \\'56f5f0afc3a3686a59001601\\', \\'gender\\': 1, \\'id\\': 173264, \\'name\\': \\'Wanda Acuna\\', \\'order\\': 15, \\'profile_path\\': None}, {\\'cast_id\\': 50, \\'character\\': \\'Teacher\\', \\'credit_id\\': \\'583605189251413195002191\\', \\'gender\\': 1, \\'id\\': 170074, \\'name\\': \\'Sierra Pecheur\\', \\'order\\': 16, \\'profile_path\\': None}]', \"[{'cast_id': 10, 'character': 'Glenn Holland', 'credit_id': '52fe4330c3a36847f8041151', 'gender': 2, 'id': 3037, 'name': 'Richard Dreyfuss', 'order': 0, 'profile_path': '/7JPMhXnfY5jgPbtByutwkHHZS3M.jpg'}, {'cast_id': 11, 'character': 'Iris Holland', 'credit_id': '52fe4330c3a36847f8041155', 'gender': 1, 'id': 21104, 'name': 'Glenne Headly', 'order': 1, 'profile_path': '/9SQLk39MM1DildLbu9A7CLBd3Xo.jpg'}, {'cast_id': 12, 'character': 'Bill Meister', 'credit_id': '52fe4330c3a36847f8041159', 'gender': 2, 'id': 21105, 'name': 'Jay Thomas', 'order': 2, 'profile_path': '/uA6okci70tAGTHeuC1JQQjrlKir.jpg'}, {'cast_id': 13, 'character': 'Principal Helen Jacobi', 'credit_id': '52fe4330c3a36847f804115d', 'gender': 1, 'id': 3019, 'name': 'Olympia Dukakis', 'order': 3, 'profile_path': '/8kYmUwC0SfnJKt39M5Xrr8Q0oIf.jpg'}, {'cast_id': 14, 'character': 'Vice Principal Gene Wolters', 'credit_id': '52fe4330c3a36847f8041161', 'gender': 2, 'id': 3905, 'name': 'William H. Macy', 'order': 4, 'profile_path': '/cYmHYCGxkOVZgu2oDyhF6lKgfaj.jpg'}, {'cast_id': 15, 'character': 'Gertrude Lang', 'credit_id': '52fe4330c3a36847f8041165', 'gender': 1, 'id': 3128, 'name': 'Alicia Witt', 'order': 5, 'profile_path': '/pmKMhehztGEv2i7PPY20nP68j0f.jpg'}, {'cast_id': 17, 'character': 'Cole Holland ( mit 6. Jahren )', 'credit_id': '52fe4330c3a36847f8041169', 'gender': 2, 'id': 21107, 'name': 'Nicholas John Renner', 'order': 6, 'profile_path': None}, {'cast_id': 18, 'character': 'Cole Holland ( mit 15 Jahren )', 'credit_id': '52fe4330c3a36847f804116d', 'gender': 2, 'id': 21108, 'name': 'Joseph Anderson', 'order': 7, 'profile_path': None}, {'cast_id': 19, 'character': 'Cole Holland ( mit 28 Jahren )', 'credit_id': '52fe4330c3a36847f8041171', 'gender': 2, 'id': 21109, 'name': 'Anthony Natale', 'order': 8, 'profile_path': '/svkz6Jx3DwJTPhpi5kIWbiJ94ZT.jpg'}, {'cast_id': 20, 'character': 'Rowena Morgan', 'credit_id': '52fe4330c3a36847f8041175', 'gender': 1, 'id': 26495, 'name': 'Jean Louisa Kelly', 'order': 9, 'profile_path': '/mJJltLZRxaoMoMVpGvJXPqZE9b4.jpg'}, {'cast_id': 21, 'character': 'Louis Russ', 'credit_id': '52fe4330c3a36847f8041179', 'gender': 2, 'id': 18288, 'name': 'Terrence Howard', 'order': 10, 'profile_path': '/MZeLxOH0PgL7xcvt865WVBvQDw.jpg'}, {'cast_id': 49, 'character': 'Bobby Todd', 'credit_id': '59ab98ad925141072f0241bc', 'gender': 2, 'id': 39597, 'name': 'Damon Whitaker', 'order': 11, 'profile_path': '/jO4QTibxW2WJLH89PfLGz8URYNZ.jpg'}, {'cast_id': 50, 'character': 'Sarah Olmstead', 'credit_id': '59ab9916c3a3682bf0020b81', 'gender': 1, 'id': 146182, 'name': 'Alexandra Boyd', 'order': 12, 'profile_path': '/jVzIH8ArvEO0R6XkALVw5NIysPw.jpg'}, {'cast_id': 51, 'character': 'Governor Gertrude Lang', 'credit_id': '59ab997dc3a3682c0a023bd5', 'gender': 1, 'id': 20747, 'name': 'Joanna Gleason', 'order': 13, 'profile_path': '/vBufIrlapxpuRlzeSIMXtuFO5XK.jpg'}, {'cast_id': 52, 'character': 'Deaf School Principal', 'credit_id': '59ab99dbc3a3682cc8023fc1', 'gender': 1, 'id': 1881495, 'name': 'Beth Maitland', 'order': 14, 'profile_path': None}, {'cast_id': 53, 'character': 'Mr. Shapiro', 'credit_id': '59ab9ac3c3a3682cc8024109', 'gender': 0, 'id': 85422, 'name': 'Joshua Minnick', 'order': 15, 'profile_path': None}]\", '[{\\'cast_id\\': 18, \\'character\\': \\'Ashtray\\', \\'credit_id\\': \\'52fe43929251416c75015a3f\\', \\'gender\\': 2, \\'id\\': 35690, \\'name\\': \\'Shawn Wayans\\', \\'order\\': 0, \\'profile_path\\': \\'/9GHZOZMCsbQyESuMYtO7T7hs0lg.jpg\\'}, {\\'cast_id\\': 2, \\'character\\': \\'Loc Dog\\', \\'credit_id\\': \\'52fe43929251416c750159e7\\', \\'gender\\': 2, \\'id\\': 9562, \\'name\\': \\'Marlon Wayans\\', \\'order\\': 1, \\'profile_path\\': \\'/yMBaTsPrthko9eYtSjfVduws5Cn.jpg\\'}, {\\'cast_id\\': 3, \\'character\\': \\'Dashiki\\', \\'credit_id\\': \\'52fe43929251416c750159eb\\', \\'gender\\': 1, \\'id\\': 66131, \\'name\\': \\'Tracey Cherelle Jones\\', \\'order\\': 2, \\'profile_path\\': \\'/2e28ZU2nQEaxOu1js0DUiAhkS3u.jpg\\'}, {\\'cast_id\\': 5, \\'character\\': \\'Preach\\', \\'credit_id\\': \\'52fe43929251416c750159f3\\', \\'gender\\': 2, \\'id\\': 27590, \\'name\\': \\'Chris Spencer\\', \\'order\\': 3, \\'profile_path\\': \\'/YKLFR5dQzNOXCXikByhTRRvqkW.jpg\\'}, {\\'cast_id\\': 19, \\'character\\': \"Ashtray\\'s Mother\", \\'credit_id\\': \\'54b836dc9251411d640029e5\\', \\'gender\\': 1, \\'id\\': 2535, \\'name\\': \\'Vivica A. Fox\\', \\'order\\': 4, \\'profile_path\\': \\'/uxTOzgRhk0VkbK1ZiOrQSTYuzAl.jpg\\'}, {\\'cast_id\\': 4, \\'character\\': \\'Sister Williams\\', \\'credit_id\\': \\'52fe43929251416c750159ef\\', \\'gender\\': 1, \\'id\\': 66132, \\'name\\': \"Rappin\\' Granny\", \\'order\\': 5, \\'profile_path\\': \\'/9HdET1af9q3VloUHh4fIIriFR9M.jpg\\'}, {\\'cast_id\\': 20, \\'character\\': \\'Crazy Legs\\', \\'credit_id\\': \\'54b836ed9251411d66002a5e\\', \\'gender\\': 2, \\'id\\': 1214127, \\'name\\': \\'Suli McCullough\\', \\'order\\': 6, \\'profile_path\\': \\'/x1WncETxSvDDTTohsrfCdekglLG.jpg\\'}, {\\'cast_id\\': 21, \\'character\\': \\'Officer Self Hatred\\', \\'credit_id\\': \\'54b837069251411d640029ed\\', \\'gender\\': 2, \\'id\\': 1897, \\'name\\': \\'Bernie Mac\\', \\'order\\': 7, \\'profile_path\\': \\'/3qIk1hVV82kcZSEffbuUHpMQBCq.jpg\\'}, {\\'cast_id\\': 22, \\'character\\': \\'Rufus\\', \\'credit_id\\': \\'54b8370f9251411d77002a1b\\', \\'gender\\': 2, \\'id\\': 62066, \\'name\\': \\'Faizon Love\\', \\'order\\': 8, \\'profile_path\\': \\'/kJ71egBJZdajLisOXWgBIRfYjvI.jpg\\'}, {\\'cast_id\\': 23, \\'character\\': \\'Mailman\\', \\'credit_id\\': \\'54b83748c3a36820b700224b\\', \\'gender\\': 2, \\'id\\': 35689, \\'name\\': \\'Keenen Ivory Wayans\\', \\'order\\': 9, \\'profile_path\\': \\'/4uCVzk6JrNflrqWyzkPhLuwZzoC.jpg\\'}, {\\'cast_id\\': 24, \\'character\\': \\'Mrs. Johnson\\', \\'credit_id\\': \\'5761d7259251413bb600025b\\', \\'gender\\': 1, \\'id\\': 95189, \\'name\\': \\'Kim Wayans\\', \\'order\\': 10, \\'profile_path\\': \\'/wWv8i5S7xNAYOLSXUcc7qseNxF8.jpg\\'}, {\\'cast_id\\': 25, \\'character\\': \"Loc Dog\\'s Grandma\", \\'credit_id\\': \\'5761d820c3a3682f2300027e\\', \\'gender\\': 0, \\'id\\': 111872, \\'name\\': \\'Helen Martin\\', \\'order\\': 11, \\'profile_path\\': \\'/qJBghBWafQS39iFubNWlH3ai4uK.jpg\\'}, {\\'cast_id\\': 26, \\'character\\': \"Loc Dog\\'s Mom\", \\'credit_id\\': \\'5761dbddc3a3682f2c0002a3\\', \\'gender\\': 1, \\'id\\': 154272, \\'name\\': \\'Virginia Watson\\', \\'order\\': 12, \\'profile_path\\': \\'/kTTsFDXPuN5WCuE2gEQCK4mu6Eb.jpg\\'}, {\\'cast_id\\': 27, \\'character\\': \\'Toothpick\\', \\'credit_id\\': \\'5761dd279251415eaf00000d\\', \\'gender\\': 0, \\'id\\': 83102, \\'name\\': \\'Darrel Heath\\', \\'order\\': 13, \\'profile_path\\': \\'/fQX3dcBY19jhCJf5j0RjI5QD34d.jpg\\'}]', '[{\\'cast_id\\': 1, \\'character\\': \\'Roz\\', \\'credit_id\\': \\'52fe47ef9251416c750aa5a7\\', \\'gender\\': 1, \\'id\\': 18277, \\'name\\': \\'Sandra Bullock\\', \\'order\\': 0, \\'profile_path\\': \\'/bsAy8f8UZKairXQzRukU5FP4XAQ.jpg\\'}, {\\'cast_id\\': 2, \\'character\\': \"Francis \\'Frank\\' O\\'Brien\", \\'credit_id\\': \\'52fe47ef9251416c750aa5ab\\', \\'gender\\': 2, \\'id\\': 5724, \\'name\\': \\'Denis Leary\\', \\'order\\': 1, \\'profile_path\\': \\'/lnk4HjUeqDlT6Kg9PaQsVIDpl56.jpg\\'}, {\\'cast_id\\': 4, \\'character\\': \"FBI Agent O\\'Malley\", \\'credit_id\\': \\'52fe47ef9251416c750aa5b5\\', \\'gender\\': 0, \\'id\\': 5050, \\'name\\': \\'Yaphet Kotto\\', \\'order\\': 2, \\'profile_path\\': \\'/qsaWzjzI41EXMldEn6sSp5fnsQ0.jpg\\'}, {\\'cast_id\\': 5, \\'character\\': \\'Evan Marsh\\', \\'credit_id\\': \\'52fe47ef9251416c750aa5b9\\', \\'gender\\': 2, \\'id\\': 8435, \\'name\\': \\'Stephen Dillane\\', \\'order\\': 3, \\'profile_path\\': \\'/4LOq4XUIsUTO1VdwqL1BWZIMRL3.jpg\\'}, {\\'cast_id\\': 8, \\'character\\': \\'Cop\\', \\'credit_id\\': \\'56d646f7c3a36870ac005139\\', \\'gender\\': 1, \\'id\\': 66131, \\'name\\': \\'Tracey Cherelle Jones\\', \\'order\\': 4, \\'profile_path\\': \\'/2e28ZU2nQEaxOu1js0DUiAhkS3u.jpg\\'}, {\\'cast_id\\': 9, \\'character\\': \\'Beautiful Woman\\', \\'credit_id\\': \\'56d64723c3a3681e4a017e55\\', \\'gender\\': 1, \\'id\\': 191140, \\'name\\': \\'Julia Montgomery Brown\\', \\'order\\': 5, \\'profile_path\\': \\'/8Oe5fqtyQTRVqSHwW3EoDBWt90w.jpg\\'}, {\\'cast_id\\': 10, \\'character\\': \\'Reporter\\', \\'credit_id\\': \\'56d6475fc3a3681e4401ab7d\\', \\'gender\\': 0, \\'id\\': 1183958, \\'name\\': \\'Claire Rankin\\', \\'order\\': 6, \\'profile_path\\': \\'/bZsI5OKqp3mBNewMRgWQ0kc173H.jpg\\'}, {\\'cast_id\\': 11, \\'character\\': \\'Marcy Kellerher\\', \\'credit_id\\': \\'56d64772c3a3681e4401ab83\\', \\'gender\\': 1, \\'id\\': 1362948, \\'name\\': \\'Jane Moffat\\', \\'order\\': 7, \\'profile_path\\': \\'/x8hRTny8olUJYGyH7K3zDUUHIqk.jpg\\'}, {\\'cast_id\\': 12, \\'character\\': \\'Fitzie\\', \\'credit_id\\': \\'56d64791c3a3681e4401ab8b\\', \\'gender\\': 2, \\'id\\': 5170, \\'name\\': \\'Mike Starr\\', \\'order\\': 8, \\'profile_path\\': \\'/qzoXxFJlhcos4kAPJmqMpdw0Tin.jpg\\'}, {\\'cast_id\\': 13, \\'character\\': \\'Todd\\', \\'credit_id\\': \\'56d647a79251413402014e4c\\', \\'gender\\': 2, \\'id\\': 17243, \\'name\\': \\'Jonathan Tucker\\', \\'order\\': 9, \\'profile_path\\': \\'/ucAE34c1IeBB0ttQ3s2BDCRBPr6.jpg\\'}, {\\'cast_id\\': 14, \\'character\\': \\'Beano Callahan\\', \\'credit_id\\': \\'56d647bd92514162b7000b95\\', \\'gender\\': 2, \\'id\\': 5897, \\'name\\': \\'Wayne Robson\\', \\'order\\': 10, \\'profile_path\\': \\'/x1nuwmSBx49UXYxrVYyr8sZi12t.jpg\\'}, {\\'cast_id\\': 15, \\'character\\': \\'Quinn\\', \\'credit_id\\': \\'56d6482b9251413402014e62\\', \\'gender\\': 2, \\'id\\': 1010, \\'name\\': \\'Michael Badalucco\\', \\'order\\': 11, \\'profile_path\\': \\'/oK2pSu2FWyrwiPEch7Tux2GSMbK.jpg\\'}]', \"[{'cast_id': 14, 'character': 'Bud Macintosh', 'credit_id': '52fe4506c3a36847f80b7d1b', 'gender': 2, 'id': 64998, 'name': 'Pauly Shore', 'order': 0, 'profile_path': '/rCoEeH3jmwpNjMHAVv9SchtnNJh.jpg'}, {'cast_id': 15, 'character': 'Doyle Johnson', 'credit_id': '52fe4506c3a36847f80b7d1f', 'gender': 2, 'id': 9045, 'name': 'Stephen Baldwin', 'order': 1, 'profile_path': '/w2nZjBsEsjboQDZJXEkysuGgue4.jpg'}, {'cast_id': 16, 'character': 'Monique (as Joey Adams)', 'credit_id': '52fe4506c3a36847f80b7d23', 'gender': 1, 'id': 16484, 'name': 'Joey Lauren Adams', 'order': 2, 'profile_path': '/hQqqcyUvLQwnqBYCdpGZIfKOpmO.jpg'}, {'cast_id': 17, 'character': 'Jen', 'credit_id': '52fe4506c3a36847f80b7d27', 'gender': 1, 'id': 43433, 'name': 'Teresa Hill', 'order': 3, 'profile_path': '/lUCwVSoh1ETkvNGEiJzgmYYLD4C.jpg'}, {'cast_id': 1, 'character': 'Dr. Noah Faulkner', 'credit_id': '52fe4506c3a36847f80b7cd5', 'gender': 2, 'id': 7676, 'name': 'William Atherton', 'order': 4, 'profile_path': '/ulUP6CRnC3F6XmD3NH0AMJpVmln.jpg'}, {'cast_id': 3, 'character': 'Mimi Simkins', 'credit_id': '52fe4506c3a36847f80b7cdd', 'gender': 1, 'id': 57868, 'name': 'Dara Tomanovich', 'order': 5, 'profile_path': '/a7o1G7HScIdv2qhVNfUtdpBZChj.jpg'}, {'cast_id': 4, 'character': 'T.C. Romulus', 'credit_id': '52fe4506c3a36847f80b7ce1', 'gender': 2, 'id': 57869, 'name': 'Kevin West', 'order': 6, 'profile_path': '/xkgRvORUYLButBebCpbd09Qg10H.jpg'}, {'cast_id': 2, 'character': 'Olivia Biggs', 'credit_id': '52fe4506c3a36847f80b7cd9', 'gender': 1, 'id': 23970, 'name': 'Denise Dowse', 'order': 7, 'profile_path': '/tZyRCcBphvpg4AjIWD33j4hVBKy.jpg'}, {'cast_id': 18, 'character': 'Dr. Petra von Kant', 'credit_id': '52fe4506c3a36847f80b7d2b', 'gender': 1, 'id': 12207, 'name': 'Kylie Minogue', 'order': 8, 'profile_path': '/8vOTxDParoNySQrUI2OM9zQkVPu.jpg'}, {'cast_id': 19, 'character': 'Tenacious D', 'credit_id': '52fe4506c3a36847f80b7d2f', 'gender': 2, 'id': 22297, 'name': 'Kyle Gass', 'order': 9, 'profile_path': '/jSo0tKozbudF78NaR6DCNSXKSP9.jpg'}, {'cast_id': 20, 'character': 'Tenacious D', 'credit_id': '52fe4506c3a36847f80b7d33', 'gender': 2, 'id': 70851, 'name': 'Jack Black', 'order': 10, 'profile_path': '/kAyKg3rYGgIhB5KRaIWALuf78W3.jpg'}, {'cast_id': 21, 'character': 'Denise', 'credit_id': '562cfdbdc3a3681b52007cfd', 'gender': 1, 'id': 16850, 'name': 'Rose McGowan', 'order': 11, 'profile_path': '/llI2Fc6G0wqZlASpIEGWnLViZxD.jpg'}]\", '[{\\'cast_id\\': 1, \\'character\\': \\'Dr. Benjamin Trace\\', \\'credit_id\\': \\'52fe44529251416c750309c1\\', \\'gender\\': 2, \\'id\\': 29459, \\'name\\': \\'Patrick Bergin\\', \\'order\\': 0, \\'profile_path\\': \\'/mxFum2Fr5YWD6kDQYb5u7EEvuva.jpg\\'}, {\\'cast_id\\': 2, \\'character\\': \\'Jobe Smith\\', \\'credit_id\\': \\'52fe44529251416c750309c5\\', \\'gender\\': 2, \\'id\\': 40009, \\'name\\': \\'Matt Frewer\\', \\'order\\': 1, \\'profile_path\\': \\'/5yQeoDfwsSOnO8H2g8UjPLg6buG.jpg\\'}, {\\'cast_id\\': 3, \\'character\\': \\'Peter Parkette\\', \\'credit_id\\': \\'52fe44529251416c750309c9\\', \\'gender\\': 2, \\'id\\': 58119, \\'name\\': \"Austin O\\'Brien\", \\'order\\': 2, \\'profile_path\\': \\'/5K63RAJq6iwnOSM8ADpj9ARzIxq.jpg\\'}, {\\'cast_id\\': 4, \\'character\\': \\'Dr. Cori Platt\\', \\'credit_id\\': \\'52fe44529251416c750309cd\\', \\'gender\\': 1, \\'id\\': 36898, \\'name\\': \\'Ely Pouget\\', \\'order\\': 3, \\'profile_path\\': \\'/fju651IWKx5GChtBIKqJgan9mI0.jpg\\'}, {\\'cast_id\\': 17, \\'character\\': \\'Jennifer\\', \\'credit_id\\': \\'5460df550e0a26353800144f\\', \\'gender\\': 1, \\'id\\': 72612, \\'name\\': \\'Camille Cooper\\', \\'order\\': 4, \\'profile_path\\': \\'/egxDNdlf7vPnmK9oDSrKBf0eVGB.jpg\\'}, {\\'cast_id\\': 18, \\'character\\': \\'Shawn\\', \\'credit_id\\': \\'5460df660e0a26617700430e\\', \\'gender\\': 0, \\'id\\': 1192629, \\'name\\': \\'Patrick LaBrecque\\', \\'order\\': 5, \\'profile_path\\': None}, {\\'cast_id\\': 19, \\'character\\': \\'Jade\\', \\'credit_id\\': \\'5460df74c3a36841d30053f7\\', \\'gender\\': 0, \\'id\\': 1384185, \\'name\\': \\'Crystal Celeste Grant\\', \\'order\\': 6, \\'profile_path\\': None}, {\\'cast_id\\': 20, \\'character\\': \\'Travis\\', \\'credit_id\\': \\'5460df7e0e0a26649e0006a2\\', \\'gender\\': 2, \\'id\\': 1384186, \\'name\\': \\'Sean P. Young\\', \\'order\\': 7, \\'profile_path\\': None}, {\\'cast_id\\': 21, \\'character\\': \\'Homeless Kid\\', \\'credit_id\\': \\'5460df8f0e0a263538001454\\', \\'gender\\': 0, \\'id\\': 1221555, \\'name\\': \\'Mathew Valencia\\', \\'order\\': 8, \\'profile_path\\': None}, {\\'cast_id\\': 22, \\'character\\': \\'Jonathan Walker\\', \\'credit_id\\': \\'5460df9fc3a368459f000132\\', \\'gender\\': 2, \\'id\\': 27116, \\'name\\': \\'Kevin Conway\\', \\'order\\': 9, \\'profile_path\\': \\'/803hyktASensafHsdvDCnlzWK8k.jpg\\'}, {\\'cast_id\\': 23, \\'character\\': \\'Young Peter\\', \\'credit_id\\': \\'5460dfad0e0a261fb900be28\\', \\'gender\\': 1, \\'id\\': 59016, \\'name\\': \"Trever O\\'Brien\", \\'order\\': 10, \\'profile_path\\': None}, {\\'cast_id\\': 24, \\'character\\': \\'Senator Greenspan\\', \\'credit_id\\': \\'5460dfba0e0a261fb900be2d\\', \\'gender\\': 2, \\'id\\': 65748, \\'name\\': \\'Richard Fancy\\', \\'order\\': 11, \\'profile_path\\': \\'/gqMB9kzTff3X42jhG8doZIftzTe.jpg\\'}, {\\'cast_id\\': 26, \\'character\\': \\'Guillermo\\', \\'credit_id\\': \\'5460dfd4c3a368371c0026b7\\', \\'gender\\': 2, \\'id\\': 3979, \\'name\\': \\'Castulo Guerra\\', \\'order\\': 13, \\'profile_path\\': \\'/njap7gZlVKHMKFb0aMQB17kMUNh.jpg\\'}, {\\'cast_id\\': 27, \\'character\\': \\'Homeless Lady\\', \\'credit_id\\': \\'5460dfe40e0a263538001461\\', \\'gender\\': 1, \\'id\\': 28640, \\'name\\': \\'Molly Shannon\\', \\'order\\': 14, \\'profile_path\\': \\'/11Ade9QKtTSwUeRNH9cVCWoaeQj.jpg\\'}, {\\'cast_id\\': 28, \\'character\\': \\'Chief of Security\\', \\'credit_id\\': \\'5870e12cc3a3684f120070c6\\', \\'gender\\': 2, \\'id\\': 1219510, \\'name\\': \\'Ellis E. Williams\\', \\'order\\': 15, \\'profile_path\\': \\'/uXcY0DN7PtELC2XgBf19PgAH1XV.jpg\\'}]', \"[{'cast_id': 2, 'character': 'Gennaro Spirito', 'credit_id': '52fe459ac3a36847f80d0759', 'gender': 0, 'id': 124150, 'name': 'Jerry Barone', 'order': 0, 'profile_path': None}, {'cast_id': 8, 'character': 'Gitano Sabatoni', 'credit_id': '52fe459ac3a36847f80d0763', 'gender': 2, 'id': 1158, 'name': 'Al Pacino', 'order': 3, 'profile_path': '/ks7Ba8x9fJUlP9decBr6Dh5mThX.jpg'}, {'cast_id': 10, 'character': 'Luisa Spirito', 'credit_id': '52fe459ac3a36847f80d076d', 'gender': 1, 'id': 1161, 'name': 'Mary Elizabeth Mastrantonio', 'order': 4, 'profile_path': '/jNIGODCEy216bbPnj28ky5E4L3Q.jpg'}, {'cast_id': 11, 'character': 'Uncle Joe', 'credit_id': '52fe459ac3a36847f80d0771', 'gender': 2, 'id': 4887, 'name': 'Joe Grifasi', 'order': 5, 'profile_path': '/cesXbWZaKHeOhsSdfbF9mB9750w.jpg'}, {'cast_id': 12, 'character': 'Dr. Wilson', 'credit_id': '52fe459ac3a36847f80d0775', 'gender': 2, 'id': 25879, 'name': 'Geoff Pierson', 'order': 6, 'profile_path': '/vhLTZ86i4fa5NbhpHoORIe0pKIl.jpg'}]\", \"[{'cast_id': 4, 'character': 'Loli', 'credit_id': '52fe43c5c3a36847f806e5bf', 'gender': 1, 'id': 25256, 'name': 'Victoria Abril', 'order': 0, 'profile_path': '/qVszystVNlXomQQrhM9u3joaw9P.jpg'}, {'cast_id': 5, 'character': 'Marijo', 'credit_id': '52fe43c5c3a36847f806e5c3', 'gender': 1, 'id': 35137, 'name': 'Josiane Balasko', 'order': 1, 'profile_path': '/ijdGcyrROO1bddXh6nNx4WcZcWb.jpg'}, {'cast_id': 6, 'character': 'Laurent Lafaye', 'credit_id': '52fe43c5c3a36847f806e5c7', 'gender': 2, 'id': 4275, 'name': 'Alain Chabat', 'order': 2, 'profile_path': '/zR39m8iQ2OWn753WLwQ3oiH1qRc.jpg'}, {'cast_id': 7, 'character': 'Antoine', 'credit_id': '52fe43c5c3a36847f806e5cb', 'gender': 2, 'id': 13689, 'name': 'Ticky Holgado', 'order': 3, 'profile_path': '/2G0LmyNhNWlR55Zm5nlY6S79rPN.jpg'}, {'cast_id': 8, 'character': 'Dany', 'credit_id': '52fe43c5c3a36847f806e5cf', 'gender': 0, 'id': 35908, 'name': 'Catherine Hiegel', 'order': 4, 'profile_path': '/y3vJ3bVR0Bnic0onWEGP89a9g0i.jpg'}, {'cast_id': 9, 'character': 'Emily Crumble', 'credit_id': '52fe43c5c3a36847f806e5d3', 'gender': 0, 'id': 38402, 'name': 'Katrine Boorman', 'order': 5, 'profile_path': '/cIxijBUAvwg0QQ7nGKGIltjnCDY.jpg'}, {'cast_id': 10, 'character': 'Dorothy Crumble', 'credit_id': '52fe43c5c3a36847f806e5d7', 'gender': 0, 'id': 38403, 'name': 'Telsche Boorman', 'order': 6, 'profile_path': None}, {'cast_id': 11, 'character': 'Vero', 'credit_id': '52fe43c5c3a36847f806e5db', 'gender': 0, 'id': 38404, 'name': 'Véronique Barrault', 'order': 7, 'profile_path': '/pTGKdtNZBjinhGa6ZyHjNArmpCs.jpg'}]\", '[{\\'cast_id\\': 1, \\'character\\': \\'Craig Jones\\', \\'credit_id\\': \\'52fe43999251416c75016ac3\\', \\'gender\\': 2, \\'id\\': 9778, \\'name\\': \\'Ice Cube\\', \\'order\\': 0, \\'profile_path\\': \\'/dzdn1tyWkC4EjlBVKvpAhg5osYA.jpg\\'}, {\\'cast_id\\': 2, \\'character\\': \\'Smokey\\', \\'credit_id\\': \\'52fe43999251416c75016ac7\\', \\'gender\\': 2, \\'id\\': 66, \\'name\\': \\'Chris Tucker\\', \\'order\\': 1, \\'profile_path\\': \\'/9RQvgEi1GnPK4QzqOGHL3jP3VZr.jpg\\'}, {\\'cast_id\\': 3, \\'character\\': \\'Debbie\\', \\'credit_id\\': \\'52fe43999251416c75016acb\\', \\'gender\\': 1, \\'id\\': 9781, \\'name\\': \\'Nia Long\\', \\'order\\': 2, \\'profile_path\\': \\'/q01J3WgNd96GR7CcSxx56N8qwSZ.jpg\\'}, {\\'cast_id\\': 4, \\'character\\': \\'Deebo\\', \\'credit_id\\': \\'52fe43999251416c75016acf\\', \\'gender\\': 2, \\'id\\': 8396, \\'name\\': \\'Tom Lister Jr.\\', \\'order\\': 3, \\'profile_path\\': \\'/UY4xouwBs8p9QmcXbnP8iy2uYp.jpg\\'}, {\\'cast_id\\': 10, \\'character\\': \\'Mr. Jones\\', \\'credit_id\\': \\'52fe43999251416c75016af1\\', \\'gender\\': 2, \\'id\\': 56902, \\'name\\': \\'John Witherspoon\\', \\'order\\': 4, \\'profile_path\\': \\'/mlrxal9uTk2h6i0suarNOyYGiTN.jpg\\'}, {\\'cast_id\\': 11, \\'character\\': \\'Mrs. Jones\\', \\'credit_id\\': \\'52fe43999251416c75016af5\\', \\'gender\\': 1, \\'id\\': 54800, \\'name\\': \\'Anna Maria Horsford\\', \\'order\\': 5, \\'profile_path\\': \\'/aHGNsdQyfYiMsclGTlEPvvmZw3a.jpg\\'}, {\\'cast_id\\': 12, \\'character\\': \\'Dana Jones\\', \\'credit_id\\': \\'52fe43999251416c75016af9\\', \\'gender\\': 1, \\'id\\': 9788, \\'name\\': \\'Regina King\\', \\'order\\': 6, \\'profile_path\\': \\'/6cQIHc2JNeNs3nkf6nQtqsSi58s.jpg\\'}, {\\'cast_id\\': 13, \\'character\\': \\'Joi\\', \\'credit_id\\': \\'52fe43999251416c75016afd\\', \\'gender\\': 1, \\'id\\': 45245, \\'name\\': \\'Paula Jai Parker\\', \\'order\\': 7, \\'profile_path\\': \\'/hCFVh90DDs7bhv6qEhepXeJvFtY.jpg\\'}, {\\'cast_id\\': 14, \\'character\\': \\'Big Worm\\', \\'credit_id\\': \\'52fe43999251416c75016b01\\', \\'gender\\': 2, \\'id\\': 62066, \\'name\\': \\'Faizon Love\\', \\'order\\': 8, \\'profile_path\\': \\'/kJ71egBJZdajLisOXWgBIRfYjvI.jpg\\'}, {\\'cast_id\\': 15, \\'character\\': \\'Red\\', \\'credit_id\\': \\'52fe43999251416c75016b05\\', \\'gender\\': 2, \\'id\\': 65134, \\'name\\': \\'DJ Pooh\\', \\'order\\': 9, \\'profile_path\\': \\'/rdhmGM82GL5er2N2YmwRPVQxD9U.jpg\\'}, {\\'cast_id\\': 16, \\'character\\': \\'Mr. Parker\\', \\'credit_id\\': \\'52fe43999251416c75016b09\\', \\'gender\\': 2, \\'id\\': 19754, \\'name\\': \\'Tony Cox\\', \\'order\\': 10, \\'profile_path\\': \\'/5b7fTm33ZblMhMhnwK8KqTJ3nry.jpg\\'}, {\\'cast_id\\': 17, \\'character\\': \\'Ezal\\', \\'credit_id\\': \\'52fe43999251416c75016b0d\\', \\'gender\\': 2, \\'id\\': 83101, \\'name\\': \\'Anthony Johnson\\', \\'order\\': 11, \\'profile_path\\': None}, {\\'cast_id\\': 18, \\'character\\': \\'Pastor Clever\\', \\'credit_id\\': \\'52fe43999251416c75016b11\\', \\'gender\\': 2, \\'id\\': 1897, \\'name\\': \\'Bernie Mac\\', \\'order\\': 12, \\'profile_path\\': \\'/3qIk1hVV82kcZSEffbuUHpMQBCq.jpg\\'}, {\\'cast_id\\': 19, \\'character\\': \\'Kid #2\\', \\'credit_id\\': \\'52fe43999251416c75016b15\\', \\'gender\\': 1, \\'id\\': 22122, \\'name\\': \\'Meagan Good\\', \\'order\\': 13, \\'profile_path\\': \\'/rijAxPPt2ecneJE5z4uDZbdNivQ.jpg\\'}, {\\'cast_id\\': 20, \\'character\\': \\'China\\', \\'credit_id\\': \\'52fe43999251416c75016b19\\', \\'gender\\': 1, \\'id\\': 74613, \\'name\\': \\'Terri J. Vaughn\\', \\'order\\': 14, \\'profile_path\\': \\'/l3KPUkz0LtwFEHV73MnYWZ0YOTG.jpg\\'}, {\\'cast_id\\': 21, \\'character\\': \\'Black Man at Store\\', \\'credit_id\\': \\'52fe43999251416c75016b1d\\', \\'gender\\': 2, \\'id\\': 37932, \\'name\\': \\'F. Gary Gray\\', \\'order\\': 15, \\'profile_path\\': \\'/hjMfkAyz5ECn0svAzrkG3YsEaEW.jpg\\'}, {\\'cast_id\\': 22, \\'character\\': \"Red\\'s Father\", \\'credit_id\\': \\'52fe43999251416c75016b21\\', \\'gender\\': 0, \\'id\\': 97781, \\'name\\': \\'Reynaldo Rey\\', \\'order\\': 16, \\'profile_path\\': \\'/t6A6xsI7A1Kk9MeXkqkC2pdhnH4.jpg\\'}, {\\'cast_id\\': 23, \\'character\\': \\'Craps Player\\', \\'credit_id\\': \\'52fe43999251416c75016b25\\', \\'gender\\': 2, \\'id\\': 61981, \\'name\\': \\'Michael Clarke Duncan\\', \\'order\\': 17, \\'profile_path\\': \\'/A0fXStrmFubDRFS8UeRW7xvcf6S.jpg\\'}]', '[{\\'cast_id\\': 1, \\'character\\': \\'Seth Gecko\\', \\'credit_id\\': \\'52fe4271c3a36847f801f1ef\\', \\'gender\\': 2, \\'id\\': 1461, \\'name\\': \\'George Clooney\\', \\'order\\': 0, \\'profile_path\\': \\'/esyiULfB7kSrhgzBkLamjsTTKEg.jpg\\'}, {\\'cast_id\\': 2, \\'character\\': \\'Richard Gecko\\', \\'credit_id\\': \\'52fe4271c3a36847f801f1f3\\', \\'gender\\': 2, \\'id\\': 138, \\'name\\': \\'Quentin Tarantino\\', \\'order\\': 1, \\'profile_path\\': \\'/9ci4NBvHXJktxjALdJsrtasqgtV.jpg\\'}, {\\'cast_id\\': 3, \\'character\\': \\'Jacob Fuller\\', \\'credit_id\\': \\'52fe4271c3a36847f801f1f7\\', \\'gender\\': 2, \\'id\\': 1037, \\'name\\': \\'Harvey Keitel\\', \\'order\\': 2, \\'profile_path\\': \\'/4IcHhp1SCKijRxb7kqnxZNJuKdn.jpg\\'}, {\\'cast_id\\': 4, \\'character\\': \\'Kate Fuller\\', \\'credit_id\\': \\'52fe4271c3a36847f801f1fb\\', \\'gender\\': 1, \\'id\\': 3196, \\'name\\': \\'Juliette Lewis\\', \\'order\\': 3, \\'profile_path\\': \\'/fiQ7fF6AiU5oyihM7hVAotNYUv.jpg\\'}, {\\'cast_id\\': 5, \\'character\\': \\'Scott Fuller\\', \\'credit_id\\': \\'52fe4271c3a36847f801f1ff\\', \\'gender\\': 0, \\'id\\': 11158, \\'name\\': \\'Ernest Liu\\', \\'order\\': 4, \\'profile_path\\': \\'/4gwacrjkxzoN3ZWI2o68UjsHDNs.jpg\\'}, {\\'cast_id\\': 6, \\'character\\': \\'Santanico Pandemonium\\', \\'credit_id\\': \\'52fe4271c3a36847f801f203\\', \\'gender\\': 1, \\'id\\': 3136, \\'name\\': \\'Salma Hayek\\', \\'order\\': 5, \\'profile_path\\': \\'/u5mg73xKVqm8oT93HoMmsgQHyoK.jpg\\'}, {\\'cast_id\\': 7, \\'character\\': \\'Border Guard/Chet Pussy/Carlos\\', \\'credit_id\\': \\'52fe4271c3a36847f801f207\\', \\'gender\\': 2, \\'id\\': 11159, \\'name\\': \\'Cheech Marin\\', \\'order\\': 6, \\'profile_path\\': \\'/efuXbXg7JpORy5hPDU7Zityq3k3.jpg\\'}, {\\'cast_id\\': 8, \\'character\\': \\'Razor Charlie\\', \\'credit_id\\': \\'52fe4271c3a36847f801f20b\\', \\'gender\\': 2, \\'id\\': 11160, \\'name\\': \\'Danny Trejo\\', \\'order\\': 7, \\'profile_path\\': \\'/7b8cDfrmeheQbgryfCm7MeJOxxM.jpg\\'}, {\\'cast_id\\': 9, \\'character\\': \\'Sex Machine\\', \\'credit_id\\': \\'52fe4271c3a36847f801f20f\\', \\'gender\\': 2, \\'id\\': 11161, \\'name\\': \\'Tom Savini\\', \\'order\\': 8, \\'profile_path\\': \\'/yOZPKC3TXlxkvx4HoDrhq1PgXrU.jpg\\'}, {\\'cast_id\\': 10, \\'character\\': \\'Frost\\', \\'credit_id\\': \\'52fe4271c3a36847f801f213\\', \\'gender\\': 0, \\'id\\': 9811, \\'name\\': \\'Fred Williamson\\', \\'order\\': 9, \\'profile_path\\': \\'/tc4K1y80KA8RrVR8tvmSNCuvWa8.jpg\\'}, {\\'cast_id\\': 11, \\'character\\': \\'Texas Ranger\\', \\'credit_id\\': \\'52fe4271c3a36847f801f217\\', \\'gender\\': 2, \\'id\\': 2536, \\'name\\': \\'Michael Parks\\', \\'order\\': 10, \\'profile_path\\': \\'/54P22YwbYCwfjJWT1jbiHN77TD.jpg\\'}, {\\'cast_id\\': 12, \\'character\\': \\'Hostage Gloria Hill\\', \\'credit_id\\': \\'52fe4271c3a36847f801f21b\\', \\'gender\\': 0, \\'id\\': 11162, \\'name\\': \\'Brenda Hillhouse\\', \\'order\\': 11, \\'profile_path\\': \\'/8een5rR4vQZaUGI9sbsrerxQfqY.jpg\\'}, {\\'cast_id\\': 13, \\'character\\': \\'FBI Agent\\', \\'credit_id\\': \\'52fe4271c3a36847f801f21f\\', \\'gender\\': 2, \\'id\\': 11163, \\'name\\': \\'John Saxon\\', \\'order\\': 12, \\'profile_path\\': \\'/140sjZuUAGQraBSNO87Y5bVC74i.jpg\\'}, {\\'cast_id\\': 14, \\'character\\': \\'Motel Owner\\', \\'credit_id\\': \\'52fe4271c3a36847f801f223\\', \\'gender\\': 2, \\'id\\': 3140, \\'name\\': \\'Marc Lawrence\\', \\'order\\': 13, \\'profile_path\\': \\'/l9BsvMMq9db1eSbnTGia0ymp1mv.jpg\\'}, {\\'cast_id\\': 15, \\'character\\': \\'Newscaster Kelly Houge\\', \\'credit_id\\': \\'52fe4271c3a36847f801f227\\', \\'gender\\': 1, \\'id\\': 11164, \\'name\\': \\'Kelly Preston\\', \\'order\\': 14, \\'profile_path\\': \\'/kxTQVsfZkI3DdzBqutw4zZapRB.jpg\\'}, {\\'cast_id\\': 33, \\'character\\': \\'Pete Bottoms / Liquor Store Clerk\\', \\'credit_id\\': \\'52fe4271c3a36847f801f291\\', \\'gender\\': 2, \\'id\\': 16861, \\'name\\': \\'John Hawkes\\', \\'order\\': 15, \\'profile_path\\': \\'/bz4usMR7NWEgVgWTxVBLEjCo3Dv.jpg\\'}, {\\'cast_id\\': 34, \\'character\\': \\'Titty Twister Guitarist & Vocalist\\', \\'credit_id\\': \\'52fe4272c3a36847f801f295\\', \\'gender\\': 2, \\'id\\': 53763, \\'name\\': \\'Tito Larriva\\', \\'order\\': 16, \\'profile_path\\': \\'/kfOZ6Z7JtslNMBtiLU3bSxhdfXe.jpg\\'}, {\\'cast_id\\': 35, \\'character\\': \\'Titty Twister Saxophonist\\', \\'credit_id\\': \\'52fe4272c3a36847f801f299\\', \\'gender\\': 0, \\'id\\': 1089505, \\'name\\': \\'Peter Atanasoff\\', \\'order\\': 17, \\'profile_path\\': \\'/pL8xNR8zvROsidIdL4CCHhcvAuv.jpg\\'}, {\\'cast_id\\': 36, \\'character\\': \\'Titty Twister Drummer\\', \\'credit_id\\': \\'52fe4272c3a36847f801f29d\\', \\'gender\\': 0, \\'id\\': 1089510, \\'name\\': \\'Johnny Vatos Hernandez\\', \\'order\\': 18, \\'profile_path\\': \\'/sa5E5M5WLTLCFdwdVb1vSHnIPYx.jpg\\'}, {\\'cast_id\\': 37, \\'character\\': \\'Blonde Hostage\\', \\'credit_id\\': \\'52fe4272c3a36847f801f2a1\\', \\'gender\\': 1, \\'id\\': 35545, \\'name\\': \\'Aimee Graham\\', \\'order\\': 19, \\'profile_path\\': \\'/gRgsEkk4JxxyluVpoUK7BF8glex.jpg\\'}, {\\'cast_id\\': 38, \\'character\\': \\'Red-headed Hostage\\', \\'credit_id\\': \\'52fe4272c3a36847f801f2a5\\', \\'gender\\': 0, \\'id\\': 982183, \\'name\\': \\'Heidi McNeal\\', \\'order\\': 20, \\'profile_path\\': \\'/hVoo1EagygjeyMclqSnZz6O6fLL.jpg\\'}, {\\'cast_id\\': 39, \\'character\\': \\'Big Emilio\\', \\'credit_id\\': \\'52fe4272c3a36847f801f2a9\\', \\'gender\\': 0, \\'id\\': 931730, \\'name\\': \\'Ernest M. Garcia\\', \\'order\\': 21, \\'profile_path\\': \\'/gl3UoodoUsaN8hAYyjWKHDYIFc0.jpg\\'}, {\\'cast_id\\': 40, \\'character\\': \"Sex Machine\\'s Buddy\", \\'credit_id\\': \\'52fe4272c3a36847f801f2ad\\', \\'gender\\': 2, \\'id\\': 59287, \\'name\\': \\'Gregory Nicotero\\', \\'order\\': 22, \\'profile_path\\': \\'/tbSRk7j0hYlBWWX7QrjdOXeiMpW.jpg\\'}, {\\'cast_id\\': 41, \\'character\\': \\'Danny\\', \\'credit_id\\': \\'52fe4272c3a36847f801f2b1\\', \\'gender\\': 0, \\'id\\': 139997, \\'name\\': \\'Cristos\\', \\'order\\': 23, \\'profile_path\\': \\'/s0rbYJTBeLQ4ecUk2gGM4mQruYP.jpg\\'}, {\\'cast_id\\': 42, \\'character\\': \\'Manny\\', \\'credit_id\\': \\'52fe4272c3a36847f801f2b5\\', \\'gender\\': 2, \\'id\\': 100260, \\'name\\': \\'Mike Moroff\\', \\'order\\': 24, \\'profile_path\\': \\'/zwq1DD5Xt76wm9OY7mou3erUt13.jpg\\'}, {\\'cast_id\\': 49, \\'character\\': \\'Bar Dancer\\', \\'credit_id\\': \\'5939cc599251411f1b0018a5\\', \\'gender\\': 1, \\'id\\': 68430, \\'name\\': \\'Tia Texada\\', \\'order\\': 25, \\'profile_path\\': \\'/2V1VybaTz8VxJoKBkXSlPL7zzZi.jpg\\'}, {\\'cast_id\\': 53, \\'character\\': \\'Bar Dancer\\', \\'credit_id\\': \\'5939d329c3a3682320001ef3\\', \\'gender\\': 0, \\'id\\': 1830654, \\'name\\': \\'Janine Jordae\\', \\'order\\': 26, \\'profile_path\\': \\'/psJBDMmuSOESZFPspDQfQR95FlB.jpg\\'}, {\\'cast_id\\': 54, \\'character\\': \\'Bar Dancer\\', \\'credit_id\\': \\'5939d3cec3a36822f8001d57\\', \\'gender\\': 0, \\'id\\': 41691, \\'name\\': \\'Ungela Brockman\\', \\'order\\': 27, \\'profile_path\\': \\'/q66RPSSUYmtgbLNvkdKdeqAbOwc.jpg\\'}, {\\'cast_id\\': 55, \\'character\\': \\'Bar Dancer\\', \\'credit_id\\': \\'5939d4cb9251411ef8001df4\\', \\'gender\\': 0, \\'id\\': 1265433, \\'name\\': \\'Michelle Berube\\', \\'order\\': 28, \\'profile_path\\': \\'/gXTMzVet4EZVOYkZcEpAvaInetf.jpg\\'}, {\\'cast_id\\': 50, \\'character\\': \\'Monster\\', \\'credit_id\\': \\'5939cc75c3a3682305001b1c\\', \\'gender\\': 0, \\'id\\': 1027008, \\'name\\': \\'Michael McKay\\', \\'order\\': 29, \\'profile_path\\': \\'/ymWazcb2DD221rRI3jPvpBORzii.jpg\\'}, {\\'cast_id\\': 51, \\'character\\': \\'Monster\\', \\'credit_id\\': \\'5939ceb49251411f04001afc\\', \\'gender\\': 0, \\'id\\': 555328, \\'name\\': \\'Jake McKinnon\\', \\'order\\': 30, \\'profile_path\\': \\'/4UWGeLQGWjhF9m1ucyrcMstG5sG.jpg\\'}, {\\'cast_id\\': 52, \\'character\\': \\'Monster\\', \\'credit_id\\': \\'5939cec7c3a36822d2001a80\\', \\'gender\\': 2, \\'id\\': 115244, \\'name\\': \\'Walter Phelan\\', \\'order\\': 31, \\'profile_path\\': \\'/gvNfE7YZCf0cs1mkL6Hhfl0999A.jpg\\'}, {\\'cast_id\\': 56, \\'character\\': \\'Monster\\', \\'credit_id\\': \\'5939d6c9c3a36822f8001f4a\\', \\'gender\\': 0, \\'id\\': 1042415, \\'name\\': \\'Wayne Toth\\', \\'order\\': 32, \\'profile_path\\': \\'/xAFAGWPDP48JsA9bmGqcf1ZEqoO.jpg\\'}]', '[{\\'cast_id\\': 1, \\'character\\': \\'Max Kirkpatrick\\', \\'credit_id\\': \\'52fe44949251416c75039d4d\\', \\'gender\\': 2, \\'id\\': 13021, \\'name\\': \\'William Baldwin\\', \\'order\\': 0, \\'profile_path\\': \\'/1G9Y076nnZaobTAtzRefZd8rFNN.jpg\\'}, {\\'cast_id\\': 2, \\'character\\': \\'Kate McQueen\\', \\'credit_id\\': \\'52fe44949251416c75039d51\\', \\'gender\\': 1, \\'id\\': 33665, \\'name\\': \\'Cindy Crawford\\', \\'order\\': 1, \\'profile_path\\': \\'/wwlVhWLQH5nWDhnbFDwbfYc4p9o.jpg\\'}, {\\'cast_id\\': 3, \\'character\\': \\'Colonel Ilya Kazak\\', \\'credit_id\\': \\'52fe44949251416c75039d55\\', \\'gender\\': 2, \\'id\\': 782, \\'name\\': \\'Steven Berkoff\\', \\'order\\': 2, \\'profile_path\\': \\'/jiYMK9prj46Qe4gmbKtBDE6YlSr.jpg\\'}, {\\'cast_id\\': 4, \\'character\\': \\'Lieutenant Meyerson\\', \\'credit_id\\': \\'52fe44949251416c75039d59\\', \\'gender\\': 2, \\'id\\': 4443, \\'name\\': \\'Christopher McDonald\\', \\'order\\': 3, \\'profile_path\\': \\'/wrmn93czsOTrX8KtQuIAEh9PZpR.jpg\\'}, {\\'cast_id\\': 12, \\'character\\': \\'Emilio Juantorena\\', \\'credit_id\\': \\'55ada9eb92514172ef007adf\\', \\'gender\\': 2, \\'id\\': 30488, \\'name\\': \\'Miguel Sandoval\\', \\'order\\': 4, \\'profile_path\\': \\'/x0mn76606kpJtzzl0B2nfJlZXkE.jpg\\'}, {\\'cast_id\\': 21, \\'character\\': \\'Jodi Kirkpatrick\\', \\'credit_id\\': \\'55f0ad20c3a3685d9f0000d0\\', \\'gender\\': 1, \\'id\\': 170954, \\'name\\': \\'Johann Carlo\\', \\'order\\': 5, \\'profile_path\\': \\'/vohKT9SGElHDC64JPrUlytYzkb1.jpg\\'}, {\\'cast_id\\': 14, \\'character\\': \\'Rita\\', \\'credit_id\\': \\'55adaa0dc3a368648e008247\\', \\'gender\\': 1, \\'id\\': 3136, \\'name\\': \\'Salma Hayek\\', \\'order\\': 6, \\'profile_path\\': \\'/u5mg73xKVqm8oT93HoMmsgQHyoK.jpg\\'}, {\\'cast_id\\': 15, \\'character\\': \\'Louis Aragon\\', \\'credit_id\\': \\'55adaa1fc3a3682ff400adc1\\', \\'gender\\': 2, \\'id\\': 60118, \\'name\\': \\'John Bedford Lloyd\\', \\'order\\': 7, \\'profile_path\\': \\'/oEBXW5cLQ1e2LrPaIug8DwHcSXV.jpg\\'}, {\\'cast_id\\': 16, \\'character\\': \\'Rosa\\', \\'credit_id\\': \\'55adaa2bc3a368246c004300\\', \\'gender\\': 1, \\'id\\': 3981, \\'name\\': \\'Jenette Goldstein\\', \\'order\\': 8, \\'profile_path\\': \\'/wCcO7cqHJVtnfRlvAJvo7jKd6Bq.jpg\\'}, {\\'cast_id\\': 17, \\'character\\': \\'Leonide \"the Hacker\" Volkov\\', \\'credit_id\\': \\'55adaa5192514172ef007aed\\', \\'gender\\': 2, \\'id\\': 13925, \\'name\\': \\'Paul Dillon\\', \\'order\\': 9, \\'profile_path\\': \\'/6jouXtMcbJ7nTuDNwvaePnqCHTX.jpg\\'}, {\\'cast_id\\': 18, \\'character\\': \\'Zhukov\\', \\'credit_id\\': \\'55adaa61c3a3682ff400adc7\\', \\'gender\\': 2, \\'id\\': 53573, \\'name\\': \\'Olek Krupa\\', \\'order\\': 10, \\'profile_path\\': \\'/nv44QkTPkymcd7MiB1K69RsG4B1.jpg\\'}, {\\'cast_id\\': 19, \\'character\\': \\'Stefan\\', \\'credit_id\\': \\'55adaa769251411e11009e37\\', \\'gender\\': 0, \\'id\\': 106066, \\'name\\': \\'Gustav Vintas\\', \\'order\\': 11, \\'profile_path\\': \\'/aaLqHCy1Rq9iFRJz3gi6t4AxQDy.jpg\\'}, {\\'cast_id\\': 20, \\'character\\': \\'Navigator\\', \\'credit_id\\': \\'55adaa8fc3a3682ff900902f\\', \\'gender\\': 2, \\'id\\': 6908, \\'name\\': \\'Marc Macaulay\\', \\'order\\': 12, \\'profile_path\\': \\'/eSNgzHn7NUX9iAbG1MLV41lqy14.jpg\\'}, {\\'cast_id\\': 11, \\'character\\': \\'Computer Store Manager\\', \\'credit_id\\': \\'54f3b11e92514179a700088b\\', \\'gender\\': 2, \\'id\\': 1434041, \\'name\\': \\'Ruben Rabasa\\', \\'order\\': 13, \\'profile_path\\': \\'/uKtvqVjW4gz3LGOcBldbmFE0Rtc.jpg\\'}, {\\'cast_id\\': 22, \\'character\\': \\'Baker\\', \\'credit_id\\': \\'581f659692514168a700126b\\', \\'gender\\': 2, \\'id\\': 63214, \\'name\\': \\'Sonny Carl Davis\\', \\'order\\': 14, \\'profile_path\\': \\'/bdpZH2zUh9WSRfxViA3oyvizNl0.jpg\\'}, {\\'cast_id\\': 23, \\'character\\': \\'\\', \\'credit_id\\': \\'59cc491d92514139bf003828\\', \\'gender\\': 2, \\'id\\': 6486, \\'name\\': \\'Dan Hedaya\\', \\'order\\': 15, \\'profile_path\\': \\'/5E4SUVfLMUKNCiP0dMhyOv3XHVZ.jpg\\'}, {\\'cast_id\\': 24, \\'character\\': \\'Codebreaker\\', \\'credit_id\\': \\'59cc494bc3a3682ac00035a1\\', \\'gender\\': 2, \\'id\\': 20562, \\'name\\': \\'Antoni Corone\\', \\'order\\': 16, \\'profile_path\\': \\'/2Zyedc6NhCmRIIgf7INEf7Gqq7i.jpg\\'}, {\\'cast_id\\': 25, \\'character\\': \\'Walter Hollenbach (uncredited)\\', \\'credit_id\\': \\'59cc4977c3a3682ab000349f\\', \\'gender\\': 2, \\'id\\': 6486, \\'name\\': \\'Dan Hedaya\\', \\'order\\': 17, \\'profile_path\\': \\'/5E4SUVfLMUKNCiP0dMhyOv3XHVZ.jpg\\'}]', '[{\\'cast_id\\': 1, \\'character\\': \\'Grover\\', \\'credit_id\\': \\'52fe4592c3a368484e062d21\\', \\'gender\\': 2, \\'id\\': 52419, \\'name\\': \\'Josh Hamilton\\', \\'order\\': 0, \\'profile_path\\': \\'/uzqTbGXDrVp6j97OkbFBphJUmKf.jpg\\'}, {\\'cast_id\\': 2, \\'character\\': \\'Jane\\', \\'credit_id\\': \\'52fe4592c3a368484e062d25\\', \\'gender\\': 1, \\'id\\': 46423, \\'name\\': \"Olivia d\\'Abo\", \\'order\\': 1, \\'profile_path\\': \\'/l7m7nw7wQFvc2ROXOTa4Flblh4M.jpg\\'}, {\\'cast_id\\': 3, \\'character\\': \\'Otis\\', \\'credit_id\\': \\'52fe4592c3a368484e062d29\\', \\'gender\\': 2, \\'id\\': 52930, \\'name\\': \\'Carlos Jacott\\', \\'order\\': 2, \\'profile_path\\': \\'/wzCNencJ1xx9EOEFRrGlJB1twtQ.jpg\\'}, {\\'cast_id\\': 5, \\'character\\': \\'Chet\\', \\'credit_id\\': \\'52fe4592c3a368484e062d31\\', \\'gender\\': 2, \\'id\\': 7036, \\'name\\': \\'Eric Stoltz\\', \\'order\\': 3, \\'profile_path\\': \\'/fXaULtqnMDKsqT1to8vnLjSXe0w.jpg\\'}, {\\'cast_id\\': 4, \\'character\\': \\'Max\\', \\'credit_id\\': \\'52fe4592c3a368484e062d2d\\', \\'gender\\': 2, \\'id\\': 78190, \\'name\\': \\'Chris Eigeman\\', \\'order\\': 4, \\'profile_path\\': \\'/4JXp2loLNrssBipfrvnhmXfhcaz.jpg\\'}, {\\'cast_id\\': 6, \\'character\\': \\'Skippy\\', \\'credit_id\\': \\'52fe4592c3a368484e062d35\\', \\'gender\\': 2, \\'id\\': 81373, \\'name\\': \\'Jason Wiles\\', \\'order\\': 5, \\'profile_path\\': \\'/7p6NAI5z9yTYSEqsJCAZJmS7SC3.jpg\\'}, {\\'cast_id\\': 7, \\'character\\': \\'Miami\\', \\'credit_id\\': \\'52fe4592c3a368484e062d39\\', \\'gender\\': 1, \\'id\\': 7489, \\'name\\': \\'Parker Posey\\', \\'order\\': 6, \\'profile_path\\': \\'/pSDZaaXxX1Ic0Fz34tjr6rexMxk.jpg\\'}, {\\'cast_id\\': 12, \\'character\\': \\'Pete\\', \\'credit_id\\': \\'52fe4592c3a368484e062d55\\', \\'gender\\': 0, \\'id\\': 21967, \\'name\\': \\'Samuel Gould\\', \\'order\\': 7, \\'profile_path\\': \\'/kzoyMk82i2tzag1KtJXVvwLR16K.jpg\\'}, {\\'cast_id\\': 13, \\'character\\': \\'Gail\\', \\'credit_id\\': \\'52fe4592c3a368484e062d59\\', \\'gender\\': 1, \\'id\\': 10130, \\'name\\': \\'Catherine Kellner\\', \\'order\\': 8, \\'profile_path\\': \\'/hmOfknife4GM8oHRqbsMUC03d4W.jpg\\'}, {\\'cast_id\\': 14, \\'character\\': \\'Professor\\', \\'credit_id\\': \\'52fe4592c3a368484e062d5d\\', \\'gender\\': 0, \\'id\\': 1052883, \\'name\\': \\'Jonathan Baumbach\\', \\'order\\': 9, \\'profile_path\\': None}, {\\'cast_id\\': 16, \\'character\\': \\'Lester\\', \\'credit_id\\': \\'52fe4592c3a368484e062d65\\', \\'gender\\': 2, \\'id\\': 54474, \\'name\\': \\'Peter Czernin\\', \\'order\\': 10, \\'profile_path\\': None}, {\\'cast_id\\': 17, \\'character\\': \\'Josselyn\\', \\'credit_id\\': \\'52fe4592c3a368484e062d69\\', \\'gender\\': 1, \\'id\\': 55207, \\'name\\': \\'Eliza Roberts\\', \\'order\\': 11, \\'profile_path\\': \\'/twTgZzVk2hT4KHHfNQ7AnkCJ371.jpg\\'}, {\\'cast_id\\': 18, \\'character\\': \\'Friedrich\\', \\'credit_id\\': \\'52fe4592c3a368484e062d6d\\', \\'gender\\': 2, \\'id\\': 76989, \\'name\\': \\'Christopher Reed\\', \\'order\\': 12, \\'profile_path\\': None}, {\\'cast_id\\': 19, \\'character\\': \\'Danny\\', \\'credit_id\\': \\'52fe4592c3a368484e062d71\\', \\'gender\\': 2, \\'id\\': 5656, \\'name\\': \\'Noah Baumbach\\', \\'order\\': 13, \\'profile_path\\': \\'/6PuCDnBLURBnLCuat7BfouH9Gus.jpg\\'}, {\\'cast_id\\': 20, \\'character\\': \\'Zach\\', \\'credit_id\\': \\'52fe4592c3a368484e062d75\\', \\'gender\\': 2, \\'id\\': 64057, \\'name\\': \\'Dean Cameron\\', \\'order\\': 14, \\'profile_path\\': \\'/hrATK7lU4dO6MQy2jkVFXlrnlrj.jpg\\'}, {\\'cast_id\\': 21, \\'character\\': \"Grover\\'s Dad\", \\'credit_id\\': \\'52fe4592c3a368484e062d79\\', \\'gender\\': 2, \\'id\\': 827, \\'name\\': \\'Elliott Gould\\', \\'order\\': 15, \\'profile_path\\': \\'/bo5jSwWyFRsKVAkELT9n7AKQqMk.jpg\\'}, {\\'cast_id\\': 22, \\'character\\': \\'Bouncer\\', \\'credit_id\\': \\'52fe4592c3a368484e062d7d\\', \\'gender\\': 2, \\'id\\': 97600, \\'name\\': \\'David DeLuise\\', \\'order\\': 16, \\'profile_path\\': \\'/uwQ3mplpY0WEU8Q719LpbLwM7ln.jpg\\'}, {\\'cast_id\\': 23, \\'character\\': \\'Kate\\', \\'credit_id\\': \\'52fe4592c3a368484e062d81\\', \\'gender\\': 1, \\'id\\': 20047, \\'name\\': \\'Cara Buono\\', \\'order\\': 17, \\'profile_path\\': \\'/8nK8PSGTfDr3GtqdgUcWwbSlyJX.jpg\\'}, {\\'cast_id\\': 24, \\'character\\': \\'Amy\\', \\'credit_id\\': \\'52fe4592c3a368484e062d85\\', \\'gender\\': 1, \\'id\\': 68495, \\'name\\': \\'Perrey Reeves\\', \\'order\\': 18, \\'profile_path\\': \\'/mQrk0rd6rU86lfkXlmOf5Sb28VW.jpg\\'}, {\\'cast_id\\': 25, \\'character\\': \\'Stephanie\\', \\'credit_id\\': \\'532b8143c3a3684bce0002b4\\', \\'gender\\': 0, \\'id\\': 162607, \\'name\\': \\'Lauren Katz\\', \\'order\\': 19, \\'profile_path\\': None}, {\\'cast_id\\': 26, \\'character\\': \\'Louis\\', \\'credit_id\\': \\'532b83a59251416e8900026e\\', \\'gender\\': 0, \\'id\\': 1219214, \\'name\\': \\'John Lehr\\', \\'order\\': 20, \\'profile_path\\': \\'/8v0cXIQtFqfgKt9ukFCDGX3GnSU.jpg\\'}]', \"[{'cast_id': 4, 'character': 'Henri Fortin / Jean Valjean', 'credit_id': '52fe4773c3a36847f81365ff', 'gender': 2, 'id': 3829, 'name': 'Jean-Paul Belmondo', 'order': 0, 'profile_path': '/iiik4HMqRzDoVyqugLLueHcAsiN.jpg'}, {'cast_id': 5, 'character': 'André Ziman', 'credit_id': '52fe4773c3a36847f8136603', 'gender': 2, 'id': 35211, 'name': 'Michel Boujenah', 'order': 1, 'profile_path': '/88AsZPJz87HIwLAJta4m0Le3IWg.jpg'}, {'cast_id': 6, 'character': 'Elise Ziman', 'credit_id': '52fe4773c3a36847f8136607', 'gender': 1, 'id': 63895, 'name': 'Alessandra Martines', 'order': 2, 'profile_path': '/xdc6jS6pYD5ZXztor5MwVemU4aN.jpg'}, {'cast_id': 7, 'character': 'La fille Ziman', 'credit_id': '52fe4773c3a36847f813660b', 'gender': 0, 'id': 141054, 'name': 'Salomé Lelouch', 'order': 3, 'profile_path': '/3Amcib934w5qiomABzNTjcXHpCS.jpg'}, {'cast_id': 8, 'character': 'Thénardière 1942', 'credit_id': '52fe4773c3a36847f813660f', 'gender': 1, 'id': 6014, 'name': 'Annie Girardot', 'order': 4, 'profile_path': '/qNioeFO3GcaIHDT5Mhb8SYMLqC.jpg'}, {'cast_id': 9, 'character': 'Thénardier 1942', 'credit_id': '52fe4773c3a36847f8136613', 'gender': 2, 'id': 3581, 'name': 'Philippe Léotard', 'order': 5, 'profile_path': '/7yC5vbfGwyOgK83FDmNJG2ZPI8X.jpg'}, {'cast_id': 11, 'character': 'Le policier / Javert', 'credit_id': '52fe4773c3a36847f8136617', 'gender': 2, 'id': 24464, 'name': 'Philippe Khorsand', 'order': 6, 'profile_path': '/eGtEV6lzChvg0tLYaBisj9lLjRC.jpg'}, {'cast_id': 12, 'character': 'Le gentil voyou / Kind Hoodlum', 'credit_id': '52fe4773c3a36847f813661b', 'gender': 2, 'id': 13689, 'name': 'Ticky Holgado', 'order': 7, 'profile_path': '/2G0LmyNhNWlR55Zm5nlY6S79rPN.jpg'}, {'cast_id': 13, 'character': 'Thénardier 1830 / 1990', 'credit_id': '52fe4773c3a36847f813661f', 'gender': 2, 'id': 2407, 'name': 'Rufus', 'order': 8, 'profile_path': '/bbMPwEFZaALc3VqBPZ8od2rmRuv.jpg'}, {'cast_id': 14, 'character': 'Thénardière 1830 / 1990', 'credit_id': '52fe4773c3a36847f8136623', 'gender': 0, 'id': 133834, 'name': 'Nicole Croisille', 'order': 9, 'profile_path': '/sBZJBwcxW5w2L5bVDF93C2YbTfA.jpg'}, {'cast_id': 15, 'character': 'Toureiffel', 'credit_id': '52fe4773c3a36847f8136627', 'gender': 0, 'id': 141055, 'name': 'William Leymergie', 'order': 10, 'profile_path': '/5i707cVdFiZtgJJvBHZcaaweUju.jpg'}, {'cast_id': 16, 'character': 'Mgr Myriel', 'credit_id': '52fe4773c3a36847f813662b', 'gender': 2, 'id': 9741, 'name': 'Jean Marais', 'order': 11, 'profile_path': '/2zxltyxOiLDU7p6zgeotMgLV9V2.jpg'}, {'cast_id': 17, 'character': 'La mère supérieure / Mother Superior', 'credit_id': '52fe4773c3a36847f813662f', 'gender': 1, 'id': 34595, 'name': 'Micheline Presle', 'order': 12, 'profile_path': '/l3JEGPsntAwicRgZaNelmVoYGmg.jpg'}, {'cast_id': 18, 'character': 'Le bouquiniste / Bookseller', 'credit_id': '52fe4773c3a36847f8136633', 'gender': 0, 'id': 24807, 'name': 'Darry Cowl', 'order': 13, 'profile_path': '/a7HRxfs6ZrKfPRwYLI8VRoeYyQr.jpg'}, {'cast_id': 19, 'character': 'Catherine / Fantine', 'credit_id': '52fe4773c3a36847f8136637', 'gender': 1, 'id': 109516, 'name': 'Clémentine Célarié', 'order': 14, 'profile_path': '/yffWfisdfIgNjMMJH4zof2aNHXs.jpg'}, {'cast_id': 20, 'character': 'Le comte de Villeneuve', 'credit_id': '5961331cc3a3680dec099943', 'gender': 2, 'id': 23508, 'name': 'Daniel Toscan du Plantier', 'order': 15, 'profile_path': '/635p8QihDt4w6GJlnV9dKoZO6o.jpg'}]\", '[{\\'cast_id\\': 1, \\'character\\': \\'Lewis Farrell\\', \\'credit_id\\': \\'52fe4402c3a368484e00a6b7\\', \\'gender\\': 2, \\'id\\': 2224, \\'name\\': \\'Christian Slater\\', \\'order\\': 0, \\'profile_path\\': \\'/3ElLWjnvchMS6Q4cIQOK8QNAoMG.jpg\\'}, {\\'cast_id\\': 2, \\'character\\': \\'Lisa Walker\\', \\'credit_id\\': \\'52fe4402c3a368484e00a6bb\\', \\'gender\\': 1, \\'id\\': 31140, \\'name\\': \\'Mary Stuart Masterson\\', \\'order\\': 1, \\'profile_path\\': \\'/jQLmmJWumj0MsxE2DjvMHbf5ysz.jpg\\'}, {\\'cast_id\\': 3, \\'character\\': \\'Kim / Pamela Segall\\', \\'credit_id\\': \\'52fe4402c3a368484e00a6bf\\', \\'gender\\': 1, \\'id\\': 21063, \\'name\\': \\'Pamela Adlon\\', \\'order\\': 2, \\'profile_path\\': \\'/DbStLMSMhW1qtmKugYjS4yWOi.jpg\\'}, {\\'cast_id\\': 4, \\'character\\': \\'Danny\\', \\'credit_id\\': \\'52fe4402c3a368484e00a6c3\\', \\'gender\\': 2, \\'id\\': 16851, \\'name\\': \\'Josh Brolin\\', \\'order\\': 3, \\'profile_path\\': \\'/jz8gDYozhRC2Ymd38ydPsW7wm49.jpg\\'}, {\\'cast_id\\': 5, \\'character\\': \\'Randy\\', \\'credit_id\\': \\'52fe4402c3a368484e00a6c7\\', \\'gender\\': 2, \\'id\\': 4890, \\'name\\': \\'Brian Tarantina\\', \\'order\\': 4, \\'profile_path\\': \\'/3wJWb5xIxkwvSWVvdgEE92YIBaS.jpg\\'}, {\\'cast_id\\': 6, \\'character\\': \"Lewis\\' Mom\", \\'credit_id\\': \\'52fe4402c3a368484e00a6cb\\', \\'gender\\': 1, \\'id\\': 10386, \\'name\\': \\'Debra Monk\\', \\'order\\': 5, \\'profile_path\\': \\'/ufZO6Uo9cy4ayM6jJfHfnqL5Elt.jpg\\'}, {\\'cast_id\\': 7, \\'character\\': \\'Alice\\', \\'credit_id\\': \\'52fe4402c3a368484e00a6cf\\', \\'gender\\': 1, \\'id\\': 9572, \\'name\\': \\'Mary Alice\\', \\'order\\': 6, \\'profile_path\\': \\'/2h20nF8gvhqhgVDV6Lru55dKB44.jpg\\'}, {\\'cast_id\\': 8, \\'character\\': \\'Simon\\', \\'credit_id\\': \\'52fe4402c3a368484e00a6d3\\', \\'gender\\': 2, \\'id\\': 26258, \\'name\\': \\'Kenneth Cranham\\', \\'order\\': 7, \\'profile_path\\': \\'/AbtqNZRiacTCjINwGNxAOKhOOKr.jpg\\'}, {\\'cast_id\\': 9, \\'character\\': \\'Wendy\\', \\'credit_id\\': \\'52fe4402c3a368484e00a6d7\\', \\'gender\\': 1, \\'id\\': 18316, \\'name\\': \\'Ally Walker\\', \\'order\\': 8, \\'profile_path\\': \\'/5ktB75N0BEc3IXYBK2xflEYMPfA.jpg\\'}, {\\'cast_id\\': 10, \\'character\\': \\'Grandma Jean\\', \\'credit_id\\': \\'52fe4402c3a368484e00a6db\\', \\'gender\\': 1, \\'id\\': 38691, \\'name\\': \\'Anne Pitoniak\\', \\'order\\': 9, \\'profile_path\\': \\'/zcQf85EI3UyqDc9SKqrVCSKIOx5.jpg\\'}, {\\'cast_id\\': 11, \\'character\\': \"Lewis\\' Dad\", \\'credit_id\\': \\'52fe4402c3a368484e00a6df\\', \\'gender\\': 0, \\'id\\': 18274, \\'name\\': \\'Michael Haley\\', \\'order\\': 10, \\'profile_path\\': None}, {\\'cast_id\\': 12, \\'character\\': \\'Aunt Meg\\', \\'credit_id\\': \\'52fe4402c3a368484e00a6e3\\', \\'gender\\': 0, \\'id\\': 91029, \\'name\\': \\'Cass Morgan\\', \\'order\\': 11, \\'profile_path\\': None}, {\\'cast_id\\': 13, \\'character\\': \\'Francine\\', \\'credit_id\\': \\'52fe4402c3a368484e00a6e7\\', \\'gender\\': 1, \\'id\\': 9576, \\'name\\': \\'Gina Torres\\', \\'order\\': 12, \\'profile_path\\': \\'/sLlS5wvXtHoOXBcTRKiB7Hk5Cn2.jpg\\'}, {\\'cast_id\\': 14, \\'character\\': \\'Bayard\\', \\'credit_id\\': \\'52fe4402c3a368484e00a6eb\\', \\'gender\\': 2, \\'id\\': 85354, \\'name\\': \\'Nick Tate\\', \\'order\\': 13, \\'profile_path\\': \\'/1cQlUPh9S59TC4EtbovA7KC68ew.jpg\\'}, {\\'cast_id\\': 15, \\'character\\': \\'Jimmy\\', \\'credit_id\\': \\'52fe4402c3a368484e00a6ef\\', \\'gender\\': 0, \\'id\\': 84520, \\'name\\': \\'Víctor Sierra\\', \\'order\\': 14, \\'profile_path\\': None}, {\\'cast_id\\': 16, \\'character\\': \\'Sam\\', \\'credit_id\\': \\'52fe4402c3a368484e00a6f3\\', \\'gender\\': 2, \\'id\\': 91030, \\'name\\': \\'Michael Mantell\\', \\'order\\': 15, \\'profile_path\\': \\'/80CLXfrPC9BoqhjsV5k5rzm5XQL.jpg\\'}, {\\'cast_id\\': 17, \\'character\\': \\'Jason\\', \\'credit_id\\': \\'52fe4402c3a368484e00a6f7\\', \\'gender\\': 0, \\'id\\': 91031, \\'name\\': \\'Zachary Chaltiel\\', \\'order\\': 16, \\'profile_path\\': None}, {\\'cast_id\\': 18, \\'character\\': \"Lisa\\'s Secretary / Claire Mari Jacobs\", \\'credit_id\\': \\'52fe4402c3a368484e00a6fb\\', \\'gender\\': 0, \\'id\\': 91032, \\'name\\': \\'Claire Jacobs\\', \\'order\\': 17, \\'profile_path\\': None}, {\\'cast_id\\': 19, \\'character\\': \\'1st Executive\\', \\'credit_id\\': \\'52fe4402c3a368484e00a6ff\\', \\'gender\\': 2, \\'id\\': 91033, \\'name\\': \\'Paul Cassell\\', \\'order\\': 18, \\'profile_path\\': \\'/tssMOKoav0pKQajvlP9oM6WVolT.jpg\\'}, {\\'cast_id\\': 20, \\'character\\': \\'Young Lisa\\', \\'credit_id\\': \\'52fe4402c3a368484e00a703\\', \\'gender\\': 1, \\'id\\': 37252, \\'name\\': \\'Yvonne Zima\\', \\'order\\': 19, \\'profile_path\\': \\'/dWA4Hsq8kkFXlmWERCoAh1OqK5M.jpg\\'}, {\\'cast_id\\': 21, \\'character\\': \\'Amelia\\', \\'credit_id\\': \\'52fe4402c3a368484e00a707\\', \\'gender\\': 0, \\'id\\': 91034, \\'name\\': \\'Desiree Casado\\', \\'order\\': 20, \\'profile_path\\': None}, {\\'cast_id\\': 22, \\'character\\': \\'Prince\\', \\'credit_id\\': \\'52fe4402c3a368484e00a70b\\', \\'gender\\': 0, \\'id\\': 83860, \\'name\\': \\'Aldis Hodge\\', \\'order\\': 21, \\'profile_path\\': \\'/bwnP5uuAsJgceLF2kJbeMJN0ONP.jpg\\'}, {\\'cast_id\\': 23, \\'character\\': \\'Queen\\', \\'credit_id\\': \\'52fe4402c3a368484e00a70f\\', \\'gender\\': 1, \\'id\\': 91035, \\'name\\': \\'Jessica Brooks Grant\\', \\'order\\': 22, \\'profile_path\\': \\'/n98f0OqqyW9XIg8kIm5y9mwUNQA.jpg\\'}, {\\'cast_id\\': 24, \\'character\\': \\'King\\', \\'credit_id\\': \\'52fe4402c3a368484e00a713\\', \\'gender\\': 0, \\'id\\': 91036, \\'name\\': \\'Jonathan Nocera\\', \\'order\\': 23, \\'profile_path\\': None}, {\\'cast_id\\': 25, \\'character\\': \\'Sara\\', \\'credit_id\\': \\'52fe4402c3a368484e00a717\\', \\'gender\\': 0, \\'id\\': 91037, \\'name\\': \\'Leah Pepper\\', \\'order\\': 24, \\'profile_path\\': None}, {\\'cast_id\\': 26, \\'character\\': \\'Student Teacher\\', \\'credit_id\\': \\'52fe4402c3a368484e00a71b\\', \\'gender\\': 0, \\'id\\': 91038, \\'name\\': \\'Donna Jean Fogel\\', \\'order\\': 25, \\'profile_path\\': None}, {\\'cast_id\\': 27, \\'character\\': \\'Stanley\\', \\'credit_id\\': \\'52fe4402c3a368484e00a71f\\', \\'gender\\': 2, \\'id\\': 91039, \\'name\\': \\'S.A. Griffin\\', \\'order\\': 26, \\'profile_path\\': None}, {\\'cast_id\\': 28, \\'character\\': \\'Mumuu Woman\\', \\'credit_id\\': \\'52fe4402c3a368484e00a723\\', \\'gender\\': 0, \\'id\\': 91040, \\'name\\': \\'Edith Blume\\', \\'order\\': 27, \\'profile_path\\': None}, {\\'cast_id\\': 29, \\'character\\': \\'Sad Woman\\', \\'credit_id\\': \\'52fe4402c3a368484e00a727\\', \\'gender\\': 0, \\'id\\': 91041, \\'name\\': \\'Liz Sinclair\\', \\'order\\': 28, \\'profile_path\\': None}, {\\'cast_id\\': 30, \\'character\\': \\'Helicopter Pilot\\', \\'credit_id\\': \\'52fe4402c3a368484e00a72b\\', \\'gender\\': 0, \\'id\\': 91042, \\'name\\': \\'Al Cerullo\\', \\'order\\': 29, \\'profile_path\\': \\'/szDkSiUOtHf9xEf0ZIIl30KoQTo.jpg\\'}, {\\'cast_id\\': 31, \\'character\\': \\'Newsstand vendor\\', \\'credit_id\\': \\'52fe4402c3a368484e00a72f\\', \\'gender\\': 0, \\'id\\': 91043, \\'name\\': \\'John D. Bair\\', \\'order\\': 30, \\'profile_path\\': None}, {\\'cast_id\\': 32, \\'character\\': \\'Marc\\', \\'credit_id\\': \\'52fe4402c3a368484e00a733\\', \\'gender\\': 2, \\'id\\': 86919, \\'name\\': \\'Jamie Harrold\\', \\'order\\': 31, \\'profile_path\\': \\'/psJL3yck7Dd0EzlKnmXmJcCG6Ee.jpg\\'}, {\\'cast_id\\': 33, \\'character\\': \\'Flight attendant\\', \\'credit_id\\': \\'52fe4402c3a368484e00a737\\', \\'gender\\': 0, \\'id\\': 66126, \\'name\\': \\'Adrian Lee\\', \\'order\\': 32, \\'profile_path\\': None}, {\\'cast_id\\': 34, \\'character\\': \\'Jan\\', \\'credit_id\\': \\'52fe4402c3a368484e00a73b\\', \\'gender\\': 0, \\'id\\': 91044, \\'name\\': \\'Andrea Leigh\\', \\'order\\': 33, \\'profile_path\\': None}, {\\'cast_id\\': 35, \\'character\\': \\'Boy in Library\\', \\'credit_id\\': \\'52fe4402c3a368484e00a73f\\', \\'gender\\': 2, \\'id\\': 91045, \\'name\\': \\'Benjamin Rutkowski\\', \\'order\\': 34, \\'profile_path\\': None}]', \"[{'cast_id': 1, 'character': 'David Leary', 'credit_id': '52fe461a9251416c910493b9', 'gender': 2, 'id': 8872, 'name': 'Rick Moranis', 'order': 0, 'profile_path': '/rVZbTJjM4g0Um6trlLHRiBzBO7t.jpg'}, {'cast_id': 2, 'character': 'Rosco Bigger - Fang', 'credit_id': '52fe461a9251416c910493bd', 'gender': 2, 'id': 74036, 'name': 'Tom Arnold', 'order': 1, 'profile_path': '/udJkmZPrQs4D8NPV8u4BEv3rNLX.jpg'}, {'cast_id': 3, 'character': 'Victoria Tucker', 'credit_id': '52fe461a9251416c910493c1', 'gender': 1, 'id': 105962, 'name': 'Julianne Phillips', 'order': 2, 'profile_path': '/iXf1Echxu1OQjJDGDTYWBsUPAb2.jpg'}, {'cast_id': 5, 'character': 'Faith Bigger', 'credit_id': '5457cfa60e0a2648c200a0b0', 'gender': 1, 'id': 10556, 'name': 'Carol Kane', 'order': 3, 'profile_path': '/tftY60jQYQBcpGjqAzKIiFNZV2J.jpg'}, {'cast_id': 6, 'character': 'Art Lundstrum', 'credit_id': '5457cfb7c3a36875d800027c', 'gender': 2, 'id': 4175, 'name': 'Jeffrey Tambor', 'order': 4, 'profile_path': '/csB350am07xyRL5Ik1BWuSY12tH.jpg'}, {'cast_id': 7, 'character': 'Clark', 'credit_id': '5457cfc20e0a26297a002536', 'gender': 2, 'id': 87003, 'name': 'Curtis Armstrong', 'order': 5, 'profile_path': '/bnkYsjehjIXPUOtPpse4GTVWAKE.jpg'}, {'cast_id': 8, 'character': 'Principal Kokelar', 'credit_id': '5457cfd40e0a2648d6009f34', 'gender': 2, 'id': 27726, 'name': 'Don Knotts', 'order': 6, 'profile_path': '/qMqpOuJj69ozHCViUZSiFvgggva.jpg'}]\", \"[{'cast_id': 1, 'character': 'Colonel Hendricksson', 'credit_id': '52fe44dcc3a36847f80ae555', 'gender': 2, 'id': 27811, 'name': 'Peter Weller', 'order': 0, 'profile_path': '/qTdm4vdZPsplJpnTU4fSprp0CxJ.jpg'}, {'cast_id': 2, 'character': 'Becker', 'credit_id': '52fe44dcc3a36847f80ae559', 'gender': 2, 'id': 56977, 'name': 'Roy Dupuis', 'order': 1, 'profile_path': '/yS7QOgqznIGFayy4ona7OWcRi55.jpg'}, {'cast_id': 3, 'character': 'Jessica', 'credit_id': '52fe44dcc3a36847f80ae55d', 'gender': 1, 'id': 56978, 'name': 'Jennifer Rubin', 'order': 2, 'profile_path': '/xK5ubDqPfiWjXffMJzTvObFlXsV.jpg'}, {'cast_id': 4, 'character': 'Ace Jefferson', 'credit_id': '52fe44dcc3a36847f80ae561', 'gender': 2, 'id': 56979, 'name': 'Andrew Lauer', 'order': 3, 'profile_path': '/hO1kHCOeh5Y3b451JjngSA5MYjM.jpg'}, {'cast_id': 5, 'character': 'Landowska', 'credit_id': '52fe44dcc3a36847f80ae565', 'gender': 1, 'id': 25689, 'name': 'Liliana Komorowska', 'order': 4, 'profile_path': '/kSgBaqw40KmT1z4aiyBXnfghtc5.jpg'}, {'cast_id': 42, 'character': 'David', 'credit_id': '5454b26d0e0a2648d2003dd3', 'gender': 0, 'id': 1229549, 'name': 'Michael Caloz', 'order': 6, 'profile_path': None}, {'cast_id': 43, 'character': 'Leone', 'credit_id': '5454b290c3a368148d003c36', 'gender': 2, 'id': 30617, 'name': 'Jason Cavalier', 'order': 7, 'profile_path': '/vziXaR1oew6TwRMqc8G1oNH2IxS.jpg'}, {'cast_id': 45, 'character': 'Chuck Elbarak', 'credit_id': '5468f583eaeb816b5500145d', 'gender': 2, 'id': 1242148, 'name': 'Ron White', 'order': 9, 'profile_path': '/wwct4MqN4iEMJQk27qeMj4qMoUR.jpg'}, {'cast_id': 47, 'character': 'Ross', 'credit_id': '57914561c3a368301400207f', 'gender': 0, 'id': 1445745, 'name': 'Charles Edwin Powell', 'order': 10, 'profile_path': '/79UVj3yEcBA4dzRvkUuCg0a3UJA.jpg'}]\", \"[{'cast_id': 14, 'character': 'Herself', 'credit_id': '59d54df4c3a36845610206b5', 'gender': 0, 'id': 938895, 'name': 'Nico', 'order': 0, 'profile_path': '/pSrb0BhWqbBmqbH69wAuuEeFP9X.jpg'}, {'cast_id': 3, 'character': 'Herself', 'credit_id': '59791479c3a3686831002638', 'gender': 1, 'id': 109142, 'name': 'Tina Aumont', 'order': 1, 'profile_path': '/s1QuuoZyCUA5fQ7xlSxfud5Fw6o.jpg'}, {'cast_id': 5, 'character': 'Himself', 'credit_id': '597914a6c3a3686831002668', 'gender': 2, 'id': 14397, 'name': 'Jackson Browne', 'order': 2, 'profile_path': '/4KFoYmDc8jwyS8hwZ8yryFBEEUB.jpg'}, {'cast_id': 6, 'character': 'Himself', 'credit_id': '597914b0925141080400268f', 'gender': 2, 'id': 7491, 'name': 'John Cale', 'order': 3, 'profile_path': '/jtzO8cnQhseN7Ww0f60D1X4hv0j.jpg'}, {'cast_id': 7, 'character': 'Himself', 'credit_id': '597914c1c3a368684b002815', 'gender': 0, 'id': 18627, 'name': 'Paul Morrissey', 'order': 4, 'profile_path': '/bv4aWgFTm8lSn5Gb0W5QorhpyxF.jpg'}, {'cast_id': 8, 'character': 'Herself', 'credit_id': '597914d192514107c8002b97', 'gender': 1, 'id': 54754, 'name': 'Viva', 'order': 5, 'profile_path': '/igiVyQgvSDPI89tAFpmivVsiZ7y.jpg'}, {'cast_id': 4, 'character': '', 'credit_id': '59791490c3a3686868002570', 'gender': 0, 'id': 1078926, 'name': 'Ari Boulogne', 'order': 6, 'profile_path': None}]\", \"[{'cast_id': 1, 'character': 'Freddy Gale', 'credit_id': '52fe4550c3a368484e05314d', 'gender': 2, 'id': 514, 'name': 'Jack Nicholson', 'order': 0, 'profile_path': '/hINAkm21g80UbaAxA6rHhOaT5Jk.jpg'}, {'cast_id': 2, 'character': 'John Booth', 'credit_id': '52fe4550c3a368484e053151', 'gender': 2, 'id': 52, 'name': 'David Morse', 'order': 1, 'profile_path': '/5PuSGfBw3Hsdo5jkhZ59NDFCZUm.jpg'}, {'cast_id': 3, 'character': 'Mary', 'credit_id': '52fe4550c3a368484e053155', 'gender': 1, 'id': 5657, 'name': 'Anjelica Huston', 'order': 2, 'profile_path': '/Aiyv68gYWcEe9OYhyCkOa09kjmy.jpg'}, {'cast_id': 4, 'character': 'Jojo', 'credit_id': '52fe4550c3a368484e053159', 'gender': 1, 'id': 32, 'name': 'Robin Wright', 'order': 3, 'profile_path': '/tXfQTgcIEPP7gtVdJ44ZxZPhacn.jpg'}, {'cast_id': 5, 'character': 'Helen Booth', 'credit_id': '52fe4550c3a368484e05315d', 'gender': 1, 'id': 6721, 'name': 'Piper Laurie', 'order': 4, 'profile_path': '/eKjVK5MQ5RK9XuVLaCC2oYACmbK.jpg'}, {'cast_id': 6, 'character': 'Stuart Booth', 'credit_id': '52fe4550c3a368484e053161', 'gender': 2, 'id': 1272, 'name': 'Richard Bradford', 'order': 5, 'profile_path': '/fGMexQI7Po1AuHO7masqwUWId1P.jpg'}, {'cast_id': 7, 'character': 'Verna', 'credit_id': '52fe4550c3a368484e053165', 'gender': 1, 'id': 23648, 'name': 'Priscilla Barnes', 'order': 6, 'profile_path': '/4umSwE9VG2fVdXA3ihpamkoezg9.jpg'}, {'cast_id': 8, 'character': 'Peter', 'credit_id': '52fe4550c3a368484e053169', 'gender': 0, 'id': 98084, 'name': 'David Baerwald', 'order': 7, 'profile_path': None}, {'cast_id': 9, 'character': 'Roger', 'credit_id': '52fe4550c3a368484e05316d', 'gender': 2, 'id': 72861, 'name': 'Robbie Robertson', 'order': 8, 'profile_path': '/wR0MkHUYG7YMY6ZDeG78R12IWdN.jpg'}, {'cast_id': 10, 'character': 'Bobby', 'credit_id': '52fe4550c3a368484e053171', 'gender': 2, 'id': 47879, 'name': 'John Savage', 'order': 9, 'profile_path': '/4cNKdr2E2gAvAjjydcwJGscoBsD.jpg'}, {'cast_id': 11, 'character': 'Mia', 'credit_id': '52fe4550c3a368484e053175', 'gender': 1, 'id': 56152, 'name': 'Kari Wuhrer', 'order': 10, 'profile_path': '/2WmKU8E0lMmdBcC7F9iLLz7S2Qc.jpg'}, {'cast_id': 12, 'character': 'Jennifer', 'credit_id': '52fe4550c3a368484e053179', 'gender': 1, 'id': 91850, 'name': 'Jennifer Leigh Warren', 'order': 11, 'profile_path': '/RA1xFVBUCT4k2WfD0n2xb16UmF.jpg'}, {'cast_id': 13, 'character': 'Tanya', 'credit_id': '52fe4550c3a368484e05317d', 'gender': 1, 'id': 98087, 'name': 'Kellita Smith', 'order': 12, 'profile_path': '/bNLvHjQNUQKeMl04QoNeyBcmKPE.jpg'}, {'cast_id': 15, 'character': 'Coop', 'credit_id': '52fe4550c3a368484e053181', 'gender': 2, 'id': 98089, 'name': 'Bobby Cooper', 'order': 14, 'profile_path': '/emS8OGw1cUU3GLVd3vPK8mlUhc1.jpg'}, {'cast_id': 16, 'character': 'Silas', 'credit_id': '52fe4550c3a368484e053185', 'gender': 0, 'id': 78084, 'name': 'Jeff Morris', 'order': 15, 'profile_path': '/nAZRsstL5d88PlqSeTdocqOm29U.jpg'}, {'cast_id': 17, 'character': 'Buddy', 'credit_id': '52fe4550c3a368484e053189', 'gender': 0, 'id': 98090, 'name': 'Buddy Anderson', 'order': 16, 'profile_path': None}, {'cast_id': 18, 'character': 'Eddie', 'credit_id': '52fe4550c3a368484e05318d', 'gender': 0, 'id': 98091, 'name': 'Edward L. Katz', 'order': 17, 'profile_path': None}, {'cast_id': 19, 'character': 'Joe', 'credit_id': '52fe4550c3a368484e053191', 'gender': 2, 'id': 60023, 'name': 'Joe Viterelli', 'order': 18, 'profile_path': '/3HhSpMcoWk4fucH6DSTU66x2D0g.jpg'}, {'cast_id': 20, 'character': 'Woman in shop', 'credit_id': '52fe4550c3a368484e053195', 'gender': 1, 'id': 12543, 'name': 'Eileen Ryan', 'order': 19, 'profile_path': '/ypA36mXS3CcyvtKCdBMhI3gn4Vs.jpg'}, {'cast_id': 21, 'character': 'Jefferey', 'credit_id': '52fe4550c3a368484e053199', 'gender': 2, 'id': 4994, 'name': 'Ryo Ishibashi', 'order': 20, 'profile_path': '/37W6AVsDizknPeHP764jpg7NPqd.jpg'}, {'cast_id': 22, 'character': 'Cop #1', 'credit_id': '52fe4550c3a368484e05319d', 'gender': 0, 'id': 98092, 'name': 'Dennis Fanning', 'order': 21, 'profile_path': None}, {'cast_id': 23, 'character': 'Cop #2', 'credit_id': '52fe4550c3a368484e0531a1', 'gender': 0, 'id': 98093, 'name': 'Lisa Crawford', 'order': 22, 'profile_path': None}, {'cast_id': 24, 'character': 'Asian Man', 'credit_id': '52fe4550c3a368484e0531a5', 'gender': 2, 'id': 98095, 'name': 'Jay Koiwai', 'order': 23, 'profile_path': None}, {'cast_id': 25, 'character': 'Little Asian Girl', 'credit_id': '52fe4550c3a368484e0531a9', 'gender': 0, 'id': 98096, 'name': 'Elizabeth Gilliam', 'order': 24, 'profile_path': None}, {'cast_id': 26, 'character': 'Twin Boy', 'credit_id': '52fe4550c3a368484e0531ad', 'gender': 2, 'id': 38948, 'name': 'Michael Ryan', 'order': 25, 'profile_path': '/prDI4lSyuEJlFWYnEIymAdFtRT8.jpg'}, {'cast_id': 27, 'character': 'Twin Boy', 'credit_id': '52fe4550c3a368484e0531b1', 'gender': 2, 'id': 98098, 'name': 'Matthew Ryan', 'order': 26, 'profile_path': None}, {'cast_id': 29, 'character': 'Hank', 'credit_id': '52fe4550c3a368484e0531b5', 'gender': 2, 'id': 89838, 'name': 'Leo Penn', 'order': 28, 'profile_path': '/l4qOzkSca0mOh53LMulXresXctt.jpg'}, {'cast_id': 33, 'character': 'Woman On Bus', 'credit_id': '52fe4550c3a368484e0531cb', 'gender': 1, 'id': 14544, 'name': 'Penelope Allen', 'order': 29, 'profile_path': '/8ar2dtYVVgf7ibQEGSqFPOuqakI.jpg'}, {'cast_id': 34, 'character': 'Sunny Ventura', 'credit_id': '52fe4550c3a368484e0531cf', 'gender': 0, 'id': 21544, 'name': 'Richard C. Sarafian', 'order': 30, 'profile_path': '/8NS8Rb57CCqIewvfX5ru9J5PC9M.jpg'}]\", \"[{'cast_id': 1, 'character': 'Annie Laird', 'credit_id': '52fe4512c3a36847f80badfd', 'gender': 1, 'id': 3416, 'name': 'Demi Moore', 'order': 0, 'profile_path': '/eLNoOYnxvhpV0BMSkNNnyyo5In7.jpg'}, {'cast_id': 2, 'character': 'Teacher', 'credit_id': '52fe4512c3a36847f80bae01', 'gender': 2, 'id': 7447, 'name': 'Alec Baldwin', 'order': 1, 'profile_path': '/zFtp13AZyPbqbj6yHujPWHO5ioh.jpg'}, {'cast_id': 3, 'character': 'Oliver Laird', 'credit_id': '52fe4512c3a36847f80bae05', 'gender': 2, 'id': 24045, 'name': 'Joseph Gordon-Levitt', 'order': 2, 'profile_path': '/zSuXCR6xCKIgo0gWLdp8moMlH3I.jpg'}, {'cast_id': 4, 'character': 'Juliet', 'credit_id': '52fe4512c3a36847f80bae09', 'gender': 1, 'id': 8256, 'name': 'Anne Heche', 'order': 3, 'profile_path': '/aXMySUgcAJ09dq0oD0qY1mcsr1c.jpg'}, {'cast_id': 5, 'character': 'Eddie', 'credit_id': '52fe4512c3a36847f80bae0d', 'gender': 2, 'id': 4691, 'name': 'James Gandolfini', 'order': 4, 'profile_path': '/19r3knxqTAPUgfItOPXg3ouOcpI.jpg'}, {'cast_id': 15, 'character': 'Tallow', 'credit_id': '52fe4513c3a36847f80bae47', 'gender': 1, 'id': 32225, 'name': 'Lindsay Crouse', 'order': 5, 'profile_path': '/mAZTWVbtfmC0R4R6TZ3rjhJSW0b.jpg'}, {'cast_id': 16, 'character': 'Louie Boffano', 'credit_id': '52fe4513c3a36847f80bae4b', 'gender': 2, 'id': 15183, 'name': 'Tony Lo Bianco', 'order': 6, 'profile_path': '/juGwBRuoP25CN8fvVqTitbLsF3w.jpg'}, {'cast_id': 17, 'character': 'Judge Weitzel', 'credit_id': '52fe4513c3a36847f80bae4f', 'gender': 2, 'id': 14884, 'name': 'Michael Constantine', 'order': 7, 'profile_path': '/fZXfSyDEeIWzGudVhgwG3f9HTl0.jpg'}, {'cast_id': 18, 'character': 'Boone', 'credit_id': '52fe4513c3a36847f80bae53', 'gender': 2, 'id': 13525, 'name': 'Matt Craven', 'order': 8, 'profile_path': '/atUkssC0DowpBbFvsnRf92cEf9y.jpg'}, {'cast_id': 19, 'character': 'Bozeman', 'credit_id': '52fe4513c3a36847f80bae57', 'gender': 2, 'id': 148635, 'name': 'Todd Susman', 'order': 9, 'profile_path': '/jG5wIJ2pERfYhOuZ12H6pASglSk.jpg'}, {'cast_id': 20, 'character': 'Joseph Boffano', 'credit_id': '52fe4513c3a36847f80bae5b', 'gender': 2, 'id': 18313, 'name': 'Michael Rispoli', 'order': 10, 'profile_path': '/mRS7DAXhuLu8Z7PAlicm6kP0EZz.jpg'}, {'cast_id': 21, 'character': 'Inez', 'credit_id': '52fe4513c3a36847f80bae5f', 'gender': 0, 'id': 57552, 'name': 'Julie Halston', 'order': 11, 'profile_path': '/uIRC2QqBCKwHVCcXl564a4FYPRe.jpg'}, {'cast_id': 22, 'character': 'DeCicco', 'credit_id': '52fe4513c3a36847f80bae63', 'gender': 2, 'id': 4692, 'name': 'Frank Adonis', 'order': 12, 'profile_path': '/gvFFIid37pDICRPlEFYOQdH9mWc.jpg'}, {'cast_id': 23, 'character': 'Rodney', 'credit_id': '52fe4513c3a36847f80bae67', 'gender': 2, 'id': 94434, 'name': 'Matthew Cowles', 'order': 13, 'profile_path': '/g1YnlLnDoR8Hy4XV51ZqgOXnQEE.jpg'}, {'cast_id': 24, 'character': 'Forewoman', 'credit_id': '52fe4513c3a36847f80bae6b', 'gender': 0, 'id': 47538, 'name': 'Polly Adams', 'order': 14, 'profile_path': '/gCOMppcfjT2o3efRNylXnUMFtLM.jpg'}]\", \"[{'cast_id': 1001, 'character': 'Razieh', 'credit_id': '52fe470cc3a36847f8120b0f', 'gender': 0, 'id': 1034640, 'name': 'Aida Mohammadkhani', 'order': 0, 'profile_path': None}, {'cast_id': 1002, 'character': 'Ali', 'credit_id': '52fe470cc3a36847f8120b13', 'gender': 0, 'id': 1034642, 'name': 'Mohsen Kafili', 'order': 1, 'profile_path': None}, {'cast_id': 1003, 'character': 'Mother', 'credit_id': '52fe470cc3a36847f8120b17', 'gender': 0, 'id': 1034643, 'name': 'Fereshteh Sadre Orafaiy', 'order': 2, 'profile_path': None}, {'cast_id': 1006, 'character': 'Old Lady', 'credit_id': '546e16b0c3a36817f7000044', 'gender': 0, 'id': 1387299, 'name': 'Anna Borkowska', 'order': 3, 'profile_path': None}, {'cast_id': 1007, 'character': 'Soldier', 'credit_id': '546e16bc9251414684000035', 'gender': 0, 'id': 1387300, 'name': 'Mohammad Shahani', 'order': 4, 'profile_path': None}]\", '[{\\'cast_id\\': 3, \\'character\\': \"Jimmy \\'The Saint\\' Tosnia\", \\'credit_id\\': \\'52fe423ec3a36847f800f323\\', \\'gender\\': 2, \\'id\\': 1271, \\'name\\': \\'Andy García\\', \\'order\\': 0, \\'profile_path\\': \\'/zE3KYH6f6cxCehJJYKDTQa8sCaK.jpg\\'}, {\\'cast_id\\': 4, \\'character\\': \\'Pieces\\', \\'credit_id\\': \\'52fe423ec3a36847f800f327\\', \\'gender\\': 2, \\'id\\': 1062, \\'name\\': \\'Christopher Lloyd\\', \\'order\\': 1, \\'profile_path\\': \\'/iQzG9apaIsHnn7iGrer3YEDp8Zo.jpg\\'}, {\\'cast_id\\': 5, \\'character\\': \\'Franchise\\', \\'credit_id\\': \\'52fe423ec3a36847f800f32b\\', \\'gender\\': 2, \\'id\\': 4520, \\'name\\': \\'William Forsythe\\', \\'order\\': 2, \\'profile_path\\': \\'/3oaz2y7hIm3r3OyDKvQ1i2D8cLR.jpg\\'}, {\\'cast_id\\': 6, \\'character\\': \\'Easy Wind\\', \\'credit_id\\': \\'52fe423ec3a36847f800f32f\\', \\'gender\\': 2, \\'id\\': 5502, \\'name\\': \\'Bill Nunn\\', \\'order\\': 3, \\'profile_path\\': \\'/dcZWC2iGjHasKwdYSwpHcWFQX5a.jpg\\'}, {\\'cast_id\\': 7, \\'character\\': \\'Critical Bill\\', \\'credit_id\\': \\'52fe423ec3a36847f800f333\\', \\'gender\\': 2, \\'id\\': 4515, \\'name\\': \\'Treat Williams\\', \\'order\\': 4, \\'profile_path\\': \\'/uKejRJTEVOy6IOsJX2mJH3SwbTl.jpg\\'}, {\\'cast_id\\': 8, \\'character\\': \\'Joe Heff\\', \\'credit_id\\': \\'52fe423ec3a36847f800f337\\', \\'gender\\': 2, \\'id\\': 5251, \\'name\\': \\'Jack Warden\\', \\'order\\': 5, \\'profile_path\\': \\'/pD98exbwlD4f9QmQd0N8Sa7j6pw.jpg\\'}, {\\'cast_id\\': 9, \\'character\\': \\'Mister Shhh\\', \\'credit_id\\': \\'52fe423ec3a36847f800f33b\\', \\'gender\\': 2, \\'id\\': 884, \\'name\\': \\'Steve Buscemi\\', \\'order\\': 6, \\'profile_path\\': \\'/e19GfOWzMNN1hi7B9Ci62hMvtXs.jpg\\'}, {\\'cast_id\\': 10, \\'character\\': \\'Lucinda\\', \\'credit_id\\': \\'52fe423ec3a36847f800f33f\\', \\'gender\\': 1, \\'id\\': 826, \\'name\\': \\'Fairuza Balk\\', \\'order\\': 7, \\'profile_path\\': \\'/cpeniV326TyPyzryxgbAWiXmLkz.jpg\\'}, {\\'cast_id\\': 11, \\'character\\': \\'Dagney\\', \\'credit_id\\': \\'52fe423ec3a36847f800f343\\', \\'gender\\': 1, \\'id\\': 5503, \\'name\\': \\'Gabrielle Anwar\\', \\'order\\': 8, \\'profile_path\\': \\'/khnEDczzSy6UcbnqZ6Sb4lWxnkE.jpg\\'}, {\\'cast_id\\': 12, \\'character\\': \\'The Man with the Plan\\', \\'credit_id\\': \\'52fe423ec3a36847f800f347\\', \\'gender\\': 2, \\'id\\': 4690, \\'name\\': \\'Christopher Walken\\', \\'order\\': 9, \\'profile_path\\': \\'/ysO1GwRzLT9OVAB9Y2SKHxomqDr.jpg\\'}, {\\'cast_id\\': 13, \\'character\\': \\'Bernard\\', \\'credit_id\\': \\'52fe423ec3a36847f800f34b\\', \\'gender\\': 2, \\'id\\': 5504, \\'name\\': \\'Michael Nicolosi\\', \\'order\\': 10, \\'profile_path\\': \\'/s3jxEzrq7RFWirtdvycXLAuNN3g.jpg\\'}, {\\'cast_id\\': 20, \\'character\\': \\'Meg\\', \\'credit_id\\': \\'52fe423ec3a36847f800f373\\', \\'gender\\': 1, \\'id\\': 5601, \\'name\\': \\'Sarah Trigger\\', \\'order\\': 11, \\'profile_path\\': \\'/eKmmWJ38vOkv3k0sNgUoRjWCwjd.jpg\\'}, {\\'cast_id\\': 21, \\'character\\': \\'Alex\\', \\'credit_id\\': \\'54ff7825c3a3685ba6000615\\', \\'gender\\': 2, \\'id\\': 199303, \\'name\\': \\'David Stratton\\', \\'order\\': 12, \\'profile_path\\': None}, {\\'cast_id\\': 22, \\'character\\': \\'Blonde Nurse\\', \\'credit_id\\': \\'582c6a4492514111b100828b\\', \\'gender\\': 1, \\'id\\': 35597, \\'name\\': \\'Jenny McCarthy\\', \\'order\\': 13, \\'profile_path\\': \\'/itsSilp7prfi3lKQMFn1p5J6hWI.jpg\\'}]', \"[{'cast_id': 11, 'character': 'Antonia', 'credit_id': '52fe4286c3a36847f8025d09', 'gender': 1, 'id': 13506, 'name': 'Willeke van Ammelrooy', 'order': 0, 'profile_path': '/l3q5vBixKV4LrJWaRdnXQ2Rc3PW.jpg'}, {'cast_id': 12, 'character': 'Danielle', 'credit_id': '52fe4286c3a36847f8025d0d', 'gender': 0, 'id': 13507, 'name': 'Els Dottermans', 'order': 1, 'profile_path': '/jl9IlMLp4jdi5SNrf4ujHF0lovq.jpg'}, {'cast_id': 13, 'character': 'Allegonde', 'credit_id': '52fe4286c3a36847f8025d11', 'gender': 0, 'id': 13508, 'name': 'Dora van der Groen', 'order': 2, 'profile_path': None}, {'cast_id': 14, 'character': 'Thérèse', 'credit_id': '52fe4286c3a36847f8025d15', 'gender': 0, 'id': 13509, 'name': 'Veerle van Overloop', 'order': 3, 'profile_path': '/ntKVWUWiLlUAUlu0o61tTjfD5l9.jpg'}, {'cast_id': 15, 'character': 'Thérèse (13)', 'credit_id': '52fe4286c3a36847f8025d19', 'gender': 0, 'id': 13510, 'name': 'Esther Vriesendorp', 'order': 4, 'profile_path': None}, {'cast_id': 16, 'character': 'Thérèse (6)', 'credit_id': '52fe4286c3a36847f8025d1d', 'gender': 0, 'id': 13511, 'name': 'Arne Bang-Hansen', 'order': 5, 'profile_path': None}, {'cast_id': 17, 'character': 'Sarah', 'credit_id': '52fe4286c3a36847f8025d21', 'gender': 0, 'id': 13512, 'name': 'Thyrza Ravesteijn', 'order': 6, 'profile_path': None}, {'cast_id': 18, 'character': 'Krummer Finger', 'credit_id': '52fe4286c3a36847f8025d25', 'gender': 0, 'id': 13513, 'name': 'Mil Seghers', 'order': 7, 'profile_path': None}, {'cast_id': 19, 'character': 'Sebastian', 'credit_id': '52fe4286c3a36847f8025d29', 'gender': 2, 'id': 13514, 'name': 'Jan Decleir', 'order': 8, 'profile_path': '/BXOa9XkagvzafGgdmq0kshR0uG.jpg'}, {'cast_id': 20, 'character': 'Lara', 'credit_id': '52fe4286c3a36847f8025d2d', 'gender': 1, 'id': 13515, 'name': 'Elsie de Brauw', 'order': 9, 'profile_path': '/bXvYcSvlVPgtjivKC1iQWyN1rbo.jpg'}, {'cast_id': 21, 'character': 'Simon', 'credit_id': '52fe4286c3a36847f8025d31', 'gender': 0, 'id': 13516, 'name': 'Reinout Bussemaker', 'order': 10, 'profile_path': None}, {'cast_id': 22, 'character': 'Deedee', 'credit_id': '52fe4286c3a36847f8025d35', 'gender': 1, 'id': 13517, 'name': 'Marina de Graaf', 'order': 11, 'profile_path': None}, {'cast_id': 23, 'character': 'Lippen Willem', 'credit_id': '52fe4286c3a36847f8025d39', 'gender': 0, 'id': 13518, 'name': 'Wimie Wilhelm', 'order': 12, 'profile_path': None}, {'cast_id': 24, 'character': 'Olga', 'credit_id': '52fe4286c3a36847f8025d3d', 'gender': 0, 'id': 13519, 'name': 'Fran Waller Zeper', 'order': 13, 'profile_path': None}]\", \"[{'cast_id': 2, 'character': 'Poppa', 'credit_id': '52fe4b889251416c7510604b', 'gender': 2, 'id': 19739, 'name': 'Al Freeman, Jr.', 'order': 0, 'profile_path': '/tAN4hyguaYPAzqvmfrdxIVZKrPr.jpg'}, {'cast_id': 3, 'character': 'Ma Ponk', 'credit_id': '52fe4b889251416c7510604f', 'gender': 1, 'id': 119598, 'name': 'Phylicia Rashād', 'order': 1, 'profile_path': '/tfoYkCiuOWQ0XBqJ2SCxzTbwd7F.jpg'}, {'cast_id': 7, 'character': 'Ma Pearl', 'credit_id': '54639f570e0a267810002940', 'gender': 1, 'id': 157439, 'name': 'Paula Kelly', 'order': 3, 'profile_path': '/5SLeOYrCPAilNpHiwCv1BfTYTQb.jpg'}, {'cast_id': 8, 'character': 'Miss Alice (as Salli Richardson)', 'credit_id': '54639f670e0a2678060029a9', 'gender': 1, 'id': 53918, 'name': 'Salli Richardson-Whitfield', 'order': 4, 'profile_path': '/huQHvzHVULR965KGFcHSw9IYXbN.jpg'}, {'cast_id': 9, 'character': 'Miss Annie', 'credit_id': '54639f750e0a26780d002924', 'gender': 1, 'id': 54800, 'name': 'Anna Maria Horsford', 'order': 5, 'profile_path': '/aHGNsdQyfYiMsclGTlEPvvmZw3a.jpg'}, {'cast_id': 10, 'character': 'Mr. Walter', 'credit_id': '54639f820e0a2678060029af', 'gender': 2, 'id': 10939, 'name': 'Bernie Casey', 'order': 6, 'profile_path': '/rvL40yyewKgTDVm7doR1ym09sUj.jpg'}, {'cast_id': 11, 'character': 'Preacher Hurn', 'credit_id': '54639f91c3a36812590027a7', 'gender': 2, 'id': 6542, 'name': 'Isaac Hayes', 'order': 7, 'profile_path': '/4igh7emwzt4xBLw1r05gCUHxwzD.jpg'}, {'cast_id': 12, 'character': 'Cliff (12 Yrs.) (as Willis Norwood Jr.)', 'credit_id': '54639fa4c3a36812590027ac', 'gender': 0, 'id': 1384901, 'name': 'Ray J', 'order': 8, 'profile_path': None}, {'cast_id': 13, 'character': 'Miss Maybry', 'credit_id': '54639fb20e0a26781000295c', 'gender': 1, 'id': 40175, 'name': 'Polly Bergen', 'order': 9, 'profile_path': '/f2AjVdpEIJ7Q0F69fEmGHVHzAEy.jpg'}, {'cast_id': 14, 'character': 'Mr. Will', 'credit_id': '54639fbdc3a368125500297c', 'gender': 2, 'id': 94511, 'name': 'Taj Mahal', 'order': 10, 'profile_path': '/tEqFRK0vJFZsTgwMSLdUqnKKrRB.jpg'}, {'cast_id': 15, 'character': 'Uncle Melvin', 'credit_id': '55dffbadc3a368269b001561', 'gender': 2, 'id': 12974, 'name': 'Leon Robinson', 'order': 11, 'profile_path': '/ctcZ94ykGlCSh0s8QwRkYPCKAsq.jpg'}]\", \"[{'cast_id': 2, 'character': 'Oona Hart', 'credit_id': '52fe4d3c9251416c75134781', 'gender': 0, 'id': 990400, 'name': 'Victoria Foyt', 'order': 0, 'profile_path': None}, {'cast_id': 3, 'character': 'Helena Mora', 'credit_id': '52fe4d3c9251416c75134785', 'gender': 1, 'id': 22137, 'name': 'Viveca Lindfors', 'order': 1, 'profile_path': '/r7F33o0rlbeQkxVGlRunhJ0gxjH.jpg'}, {'cast_id': 4, 'character': 'Jake Axelrod', 'credit_id': '52fe4d3c9251416c75134789', 'gender': 2, 'id': 69697, 'name': 'Jon Robin Baitz', 'order': 2, 'profile_path': '/qcIXODfCX0M9tpoA2TPxXVELUqS.jpg'}, {'cast_id': 5, 'character': 'Suzanne', 'credit_id': '52fe4d3c9251416c7513478d', 'gender': 1, 'id': 175081, 'name': 'Savannah Smith Boucher', 'order': 3, 'profile_path': None}, {'cast_id': 6, 'character': 'Freddy', 'credit_id': '52fe4d3c9251416c75134791', 'gender': 2, 'id': 24368, 'name': 'Roscoe Lee Browne', 'order': 4, 'profile_path': '/m0Q5VCyjcXXN5w6MHulOMD1r6ZK.jpg'}, {'cast_id': 7, 'character': 'Ivan Axelrod', 'credit_id': '52fe4d3c9251416c75134795', 'gender': 2, 'id': 109470, 'name': 'Andre Gregory', 'order': 5, 'profile_path': '/cHrPNHXH3QhNqYd3UUETcHM1OlB.jpg'}, {'cast_id': 8, 'character': 'George', 'credit_id': '52fe4d3c9251416c75134799', 'gender': 2, 'id': 59204, 'name': 'Nick Gregory', 'order': 6, 'profile_path': '/c9lkozKfUegJ5KgpbJx4CR1BJgw.jpg'}, {'cast_id': 9, 'character': 'Trish Axelrod', 'credit_id': '52fe4d3c9251416c7513479d', 'gender': 1, 'id': 6832, 'name': 'Melissa Leo', 'order': 7, 'profile_path': '/pWP5xzOtoOcqJ0lZo2xguQ5BnrB.jpg'}, {'cast_id': 10, 'character': 'Thomas', 'credit_id': '52fe4d3c9251416c751347a1', 'gender': 2, 'id': 7505, 'name': 'Roddy McDowall', 'order': 8, 'profile_path': '/e0OZn5SUXHghdmAgJbF3uLHD5gf.jpg'}, {'cast_id': 11, 'character': 'Chloe Garfield', 'credit_id': '52fe4d3c9251416c751347a5', 'gender': 1, 'id': 17495, 'name': 'Martha Plimpton', 'order': 9, 'profile_path': '/7lU1kci6OZMwZk5Kxfnz0u8B5l5.jpg'}, {'cast_id': 12, 'character': 'Eli Garfield', 'credit_id': '52fe4d3c9251416c751347a9', 'gender': 2, 'id': 12122, 'name': 'Ron Rifkin', 'order': 10, 'profile_path': '/hukx9wydqjFEu3xXToQWln1PMxN.jpg'}, {'cast_id': 13, 'character': 'Marian Mora Garfield', 'credit_id': '52fe4d3c9251416c751347ad', 'gender': 1, 'id': 5131, 'name': 'Diane Salinger', 'order': 11, 'profile_path': '/kJkPiBp9tSBxlX4h1OZ1I82Q5Vi.jpg'}, {'cast_id': 14, 'character': 'Lois Garfield', 'credit_id': '52fe4d3c9251416c751347b1', 'gender': 1, 'id': 31649, 'name': 'Brooke Smith', 'order': 12, 'profile_path': '/fiR32HbDUWCZuRjdlknQMIyIsrw.jpg'}, {'cast_id': 15, 'character': 'Nick Mora', 'credit_id': '52fe4d3c9251416c751347b5', 'gender': 2, 'id': 115178, 'name': 'Kristoffer Tabori', 'order': 13, 'profile_path': '/c6UmFiIdAC0QeJWZIJlatrrXv7m.jpg'}, {'cast_id': 16, 'character': 'Davis Mora Axelrod', 'credit_id': '52fe4d3c9251416c751347b9', 'gender': 1, 'id': 11318, 'name': 'Holland Taylor', 'order': 14, 'profile_path': '/oPcA8Ju1rBGlDCRqbyVD7S5vakY.jpg'}, {'cast_id': 17, 'character': 'Max Berger', 'credit_id': '52fe4d3c9251416c751347bd', 'gender': 2, 'id': 117075, 'name': 'Henry Jaglom', 'order': 15, 'profile_path': '/yJRN22AlH1sDNXrq8rNqvL5ZpVo.jpg'}]\", \"[{'cast_id': 1, 'character': 'William Adamson', 'credit_id': '52fe44aac3a36847f80a3261', 'gender': 2, 'id': 40900, 'name': 'Mark Rylance', 'order': 0, 'profile_path': '/5XrQYvdYqiGUepbgmRQfOltgBRJ.jpg'}, {'cast_id': 2, 'character': 'Matty Crompton', 'credit_id': '52fe44aac3a36847f80a3265', 'gender': 1, 'id': 5470, 'name': 'Kristin Scott Thomas', 'order': 1, 'profile_path': '/9zBXGGcUBi7DnulKcFPCAdwrKY0.jpg'}, {'cast_id': 3, 'character': 'Eugenia Alabaster Adamson', 'credit_id': '52fe44aac3a36847f80a3269', 'gender': 1, 'id': 14326, 'name': 'Patsy Kensit', 'order': 2, 'profile_path': '/fp8059ZLrCiZFgdhcwHTHHe6kBr.jpg'}, {'cast_id': 4, 'character': 'Sir Harald Alabaster', 'credit_id': '52fe44aac3a36847f80a326d', 'gender': 2, 'id': 55037, 'name': 'Jeremy Kemp', 'order': 3, 'profile_path': '/9IxFAtzRvSwLXeUslPvglP7AJgb.jpg'}, {'cast_id': 11, 'character': 'Edgar Alabaster', 'credit_id': '54624d68c3a3680818000084', 'gender': 0, 'id': 35862, 'name': 'Douglas Henshall', 'order': 4, 'profile_path': '/ofbU3w8hlafOJfQ1uiAwjL1QSRw.jpg'}, {'cast_id': 12, 'character': 'Lady Alabaster', 'credit_id': '54624d76c3a368083e0000ab', 'gender': 1, 'id': 30320, 'name': 'Annette Badland', 'order': 5, 'profile_path': '/b8MbawOjWEEDDTd9IcA38bV0Ywg.jpg'}, {'cast_id': 13, 'character': 'Robin', 'credit_id': '54624d84c3a368083e0000ae', 'gender': 2, 'id': 25658, 'name': 'Chris Larkin', 'order': 6, 'profile_path': '/kjVq9FK96gIwcfDxyB3ILMIjfvh.jpg'}, {'cast_id': 14, 'character': 'Miss Mead', 'credit_id': '54624d900e0a267be90000a4', 'gender': 1, 'id': 8227, 'name': 'Anna Massey', 'order': 7, 'profile_path': '/jLi0t0XyM5RpGHEh8UVNFTmYwzH.jpg'}]\", '[{\\'cast_id\\': 1, \\'character\\': \"Captain Christopher \\'Skipper\\' Sheldon\", \\'credit_id\\': \\'52fe43829251416c75013243\\', \\'gender\\': 2, \\'id\\': 1229, \\'name\\': \\'Jeff Bridges\\', \\'order\\': 0, \\'profile_path\\': \\'/xms1RAY6q7Lzp7wNeRCB0kzhucn.jpg\\'}, {\\'cast_id\\': 2, \\'character\\': \\'Dr. Alice Sheldon\\', \\'credit_id\\': \\'52fe43829251416c75013247\\', \\'gender\\': 1, \\'id\\': 6692, \\'name\\': \\'Caroline Goodall\\', \\'order\\': 1, \\'profile_path\\': \\'/f3L5WmEtGjjONTe8qvBZOy2dWTJ.jpg\\'}, {\\'cast_id\\': 3, \\'character\\': \\'McCrea, Albatross Crewman\\', \\'credit_id\\': \\'52fe43829251416c7501324b\\', \\'gender\\': 2, \\'id\\': 47879, \\'name\\': \\'John Savage\\', \\'order\\': 2, \\'profile_path\\': \\'/4cNKdr2E2gAvAjjydcwJGscoBsD.jpg\\'}, {\\'cast_id\\': 4, \\'character\\': \"Charles \\'Chuck\\' Gieg\", \\'credit_id\\': \\'52fe43829251416c7501324f\\', \\'gender\\': 2, \\'id\\': 24965, \\'name\\': \\'Scott Wolf\\', \\'order\\': 3, \\'profile_path\\': \\'/y5NBlTvKDIe2csxZeeYv6ooM8rN.jpg\\'}, {\\'cast_id\\': 5, \\'character\\': \\'Frank Beaumont\\', \\'credit_id\\': \\'52fe43829251416c75013253\\', \\'gender\\': 2, \\'id\\': 23958, \\'name\\': \\'Jeremy Sisto\\', \\'order\\': 4, \\'profile_path\\': \\'/o2FDlQQWOxF18Bq6hDvhiQZE8i9.jpg\\'}, {\\'cast_id\\': 6, \\'character\\': \\'Gil Martin\\', \\'credit_id\\': \\'52fe43829251416c75013257\\', \\'gender\\': 2, \\'id\\': 11864, \\'name\\': \\'Ryan Phillippe\\', \\'order\\': 5, \\'profile_path\\': \\'/8MlC0rqhMpDxnfFjmw2DKOhdVpB.jpg\\'}, {\\'cast_id\\': 17, \\'character\\': \\'Robert Marsh\\', \\'credit_id\\': \\'589da542c3a3685f8b006c90\\', \\'gender\\': 2, \\'id\\': 153862, \\'name\\': \\'David Lascher\\', \\'order\\': 6, \\'profile_path\\': \\'/qWVs0Px5LCtTtaG7xVi5IfGL2wm.jpg\\'}, {\\'cast_id\\': 18, \\'character\\': \\'Robert March\\', \\'credit_id\\': \\'589da5549251412cd2006eda\\', \\'gender\\': 2, \\'id\\': 153862, \\'name\\': \\'David Lascher\\', \\'order\\': 7, \\'profile_path\\': \\'/qWVs0Px5LCtTtaG7xVi5IfGL2wm.jpg\\'}, {\\'cast_id\\': 19, \\'character\\': \\'Dean Preston\\', \\'credit_id\\': \\'589da562c3a3685f83006d64\\', \\'gender\\': 2, \\'id\\': 83051, \\'name\\': \\'Eric Michael Cole\\', \\'order\\': 8, \\'profile_path\\': \\'/t66aYWyek7oGGNgD1GpEnosq56v.jpg\\'}, {\\'cast_id\\': 20, \\'character\\': \\'Shay Jennings\\', \\'credit_id\\': \\'589da575c3a3685f8e006984\\', \\'gender\\': 2, \\'id\\': 61983, \\'name\\': \\'Jason Marsden\\', \\'order\\': 9, \\'profile_path\\': \\'/qlZvyg48eUGth7pzU5UDi3CfdDR.jpg\\'}, {\\'cast_id\\': 21, \\'character\\': \\'Francis Beaumont\\', \\'credit_id\\': \\'589da587c3a3685f8e006991\\', \\'gender\\': 2, \\'id\\': 56930, \\'name\\': \\'David Selby\\', \\'order\\': 10, \\'profile_path\\': \\'/31FZf0TdcYm53S9R9q1KWNNxVaH.jpg\\'}, {\\'cast_id\\': 22, \\'character\\': \\'Girard Pascal\\', \\'credit_id\\': \\'589da59dc3a3685f93006572\\', \\'gender\\': 2, \\'id\\': 17413, \\'name\\': \\'Julio Oscar Mechoso\\', \\'order\\': 11, \\'profile_path\\': \\'/16X7EJmaOuJvKfe32a1KwxxrR6l.jpg\\'}, {\\'cast_id\\': 23, \\'character\\': \\'Sanders\\', \\'credit_id\\': \\'589da5ae9251411bee002f65\\', \\'gender\\': 2, \\'id\\': 6752, \\'name\\': \\'Zeljko Ivanek\\', \\'order\\': 12, \\'profile_path\\': \\'/bQbyb11FgEPwNSfFeb6ChTfkqEM.jpg\\'}, {\\'cast_id\\': 24, \\'character\\': \\'Tod Johnstone\\', \\'credit_id\\': \\'589da5c1c3a3685f97006d21\\', \\'gender\\': 2, \\'id\\': 9296, \\'name\\': \\'Balthazar Getty\\', \\'order\\': 13, \\'profile_path\\': \\'/F7k9JnUfbqIUvd124B0HQVT05h.jpg\\'}, {\\'cast_id\\': 25, \\'character\\': \\'Tracy Lapchick\\', \\'credit_id\\': \\'589da5dbc3a3685f97006d2b\\', \\'gender\\': 2, \\'id\\': 58019, \\'name\\': \\'Ethan Embry\\', \\'order\\': 14, \\'profile_path\\': \\'/btE5T04gKo8isQ2UekgXmZIMXmA.jpg\\'}]', \"[{'cast_id': 2, 'character': 'Robert Grant', 'credit_id': '52fe47239251416c7508f091', 'gender': 2, 'id': 1206, 'name': 'Jason Alexander', 'order': 0, 'profile_path': '/ernpSXp2RnkzeV14OEEKXRq1yND.jpg'}, {'cast_id': 3, 'character': 'Mrs. Dubrow', 'credit_id': '52fe47239251416c7508f095', 'gender': 1, 'id': 6450, 'name': 'Faye Dunaway', 'order': 1, 'profile_path': '/cfGKu00Oj5RrLW1g04nOubsGT4r.jpg'}, {'cast_id': 4, 'character': 'Kyle Grant', 'credit_id': '52fe47239251416c7508f099', 'gender': 2, 'id': 27564, 'name': 'Eric Lloyd', 'order': 2, 'profile_path': '/qemoEBG9JeAerb3RsXUOa2peZxQ.jpg'}, {'cast_id': 7, 'character': 'Lord Rutledge', 'credit_id': '52fe47239251416c7508f0a9', 'gender': 2, 'id': 4757, 'name': 'Rupert Everett', 'order': 3, 'profile_path': '/pgwbXEVq1v6vVNwcjqbMnhIvA4k.jpg'}, {'cast_id': 8, 'character': 'Brian Grant', 'credit_id': '52fe47239251416c7508f0ad', 'gender': 2, 'id': 171373, 'name': 'Graham Sack', 'order': 4, 'profile_path': None}, {'cast_id': 9, 'character': 'Buck LaFarge', 'credit_id': '52fe47239251416c7508f0b1', 'gender': 2, 'id': 5129, 'name': 'Paul Reubens', 'order': 5, 'profile_path': '/qiY2maQ1iFnoaUiGNGLTKnaj3Xu.jpg'}, {'cast_id': 10, 'character': 'Lionel Spalding', 'credit_id': '52fe47239251416c7508f0b5', 'gender': 2, 'id': 13243, 'name': 'Glenn Shadix', 'order': 6, 'profile_path': '/n8jN66HVN4vjXKvZsOMkbTrJXH6.jpg'}, {'cast_id': 11, 'character': 'Victor Dubrow', 'credit_id': '52fe47249251416c7508f0b9', 'gender': 2, 'id': 156592, 'name': 'Nathan Davis', 'order': 7, 'profile_path': '/zeNXVXgxQ0qE3jWTyzLcG5Ax7nl.jpg'}, {'cast_id': 12, 'character': 'Mrs. Dellacroce', 'credit_id': '52fe47249251416c7508f0bd', 'gender': 1, 'id': 169906, 'name': 'Jennifer Bassey', 'order': 8, 'profile_path': '/iJrrS8tnGklIBW46ZKgBOPPJbe6.jpg'}, {'cast_id': 13, 'character': 'Nancy', 'credit_id': '52fe47249251416c7508f0c1', 'gender': 1, 'id': 44185, 'name': 'Judith Scott', 'order': 9, 'profile_path': '/8PXHC5SMNyUuNNXgDc6m9yJuQcp.jpg'}, {'cast_id': 14, 'character': 'Murray', 'credit_id': '52fe47249251416c7508f0c5', 'gender': 2, 'id': 156532, 'name': 'Bruce Beatty', 'order': 10, 'profile_path': '/6lWPrqtnagVMhDOo6VARMjVko8V.jpg'}, {'cast_id': 15, 'character': 'Norm', 'credit_id': '52fe47249251416c7508f0c9', 'gender': 2, 'id': 90341, 'name': 'Danny Comden', 'order': 11, 'profile_path': '/fOJluBqkLJr1DO7s9r7FSoHjf2B.jpg'}, {'cast_id': 16, 'character': 'Artie', 'credit_id': '52fe47249251416c7508f0cd', 'gender': 2, 'id': 31032, 'name': 'Steven Gilborn', 'order': 12, 'profile_path': '/qNLTKsZHulKV1Twni0wv9By6KLj.jpg'}, {'cast_id': 17, 'character': 'Mrs. Winthrop', 'credit_id': '52fe47249251416c7508f0d1', 'gender': 0, 'id': 159747, 'name': 'Lois De Banzie', 'order': 13, 'profile_path': None}, {'cast_id': 18, 'character': 'Mrs. Feldman', 'credit_id': '52fe47249251416c7508f0d5', 'gender': 1, 'id': 119711, 'name': 'Natalie Core', 'order': 14, 'profile_path': None}, {'cast_id': 23, 'character': 'Bellman', 'credit_id': '58fec917c3a3685373002aa1', 'gender': 1, 'id': 47533, 'name': 'Paula Malcomson', 'order': 15, 'profile_path': '/mqiiy0HXExPYaIczPxWFRDGqhwA.jpg'}]\", '[{\\'cast_id\\': 1, \\'character\\': \\'Mike Donnelly\\', \\'credit_id\\': \\'52fe45c09251416c7506146f\\', \\'gender\\': 2, \\'id\\': 58198, \\'name\\': \\'Chris Farley\\', \\'order\\': 0, \\'profile_path\\': \\'/cBdeUwTCordbeFTSo7pPBNPRMph.jpg\\'}, {\\'cast_id\\': 2, \\'character\\': \\'Steve Dodds\\', \\'credit_id\\': \\'52fe45c09251416c75061473\\', \\'gender\\': 2, \\'id\\': 60950, \\'name\\': \\'David Spade\\', \\'order\\': 1, \\'profile_path\\': \\'/tamKFAKdB1Q2mllHYHXxqg3YUXr.jpg\\'}, {\\'cast_id\\': 5, \\'character\\': \\'Robbie Mieghem\\', \\'credit_id\\': \\'52fe45c09251416c75061483\\', \\'gender\\': 2, \\'id\\': 31511, \\'name\\': \\'Grant Heslov\\', \\'order\\': 2, \\'profile_path\\': \\'/7MKZWZnGmeBmK9JRUKZYDN8Cqeb.jpg\\'}, {\\'cast_id\\': 6, \\'character\\': \\'Al Donnelly\\', \\'credit_id\\': \\'52fe45c09251416c75061487\\', \\'gender\\': 2, \\'id\\': 21561, \\'name\\': \\'Tim Matheson\\', \\'order\\': 3, \\'profile_path\\': \\'/iQQCtIS9bQJlQ8OMOzeidsJptAQ.jpg\\'}, {\\'cast_id\\': 7, \\'character\\': \\'Drake Sabitch\\', \\'credit_id\\': \\'52fe45c09251416c7506148b\\', \\'gender\\': 2, \\'id\\': 2048, \\'name\\': \\'Gary Busey\\', \\'order\\': 4, \\'profile_path\\': \\'/n66ycv61ZoqusHthcQde1g3JY6T.jpg\\'}, {\\'cast_id\\': 8, \\'character\\': \\'Neuschwander\\', \\'credit_id\\': \\'52fe45c09251416c7506148f\\', \\'gender\\': 2, \\'id\\': 14888, \\'name\\': \\'Bruce McGill\\', \\'order\\': 5, \\'profile_path\\': \\'/r9UNvqwTYB9C3AcGyBpcjzkCnVD.jpg\\'}, {\\'cast_id\\': 9, \\'character\\': \\'Governor Tracy\\', \\'credit_id\\': \\'52fe45c09251416c75061493\\', \\'gender\\': 1, \\'id\\': 4003, \\'name\\': \\'Christine Ebersole\\', \\'order\\': 6, \\'profile_path\\': \\'/dl8uNpIyYeGpjA90C0W1SGSsfla.jpg\\'}, {\\'cast_id\\': 10, \\'character\\': \\'Roger Kovary\\', \\'credit_id\\': \\'52fe45c09251416c75061497\\', \\'gender\\': 2, \\'id\\': 17396, \\'name\\': \\'Timothy Carhart\\', \\'order\\': 7, \\'profile_path\\': \\'/1UEUs6UJdxjSbGakZflWuN4TS7T.jpg\\'}, {\\'cast_id\\': 11, \\'character\\': \\'Scott Colleary\\', \\'credit_id\\': \\'52fe45c09251416c7506149b\\', \\'gender\\': 2, \\'id\\': 56486, \\'name\\': \\'Michael Patrick Carter\\', \\'order\\': 8, \\'profile_path\\': None}, {\\'cast_id\\': 12, \\'character\\': \\'Clyde Spinoza\\', \\'credit_id\\': \\'52fe45c09251416c7506149f\\', \\'gender\\': 2, \\'id\\': 20196, \\'name\\': \\'Boyd Banks\\', \\'order\\': 9, \\'profile_path\\': \\'/mDsIaLKyGqyV1Nt0pV9joGkQNSP.jpg\\'}, {\\'cast_id\\': 13, \\'character\\': \\'Motorcycle Cop\\', \\'credit_id\\': \\'52fe45c09251416c750614a3\\', \\'gender\\': 2, \\'id\\': 1598, \\'name\\': \\'David St. James\\', \\'order\\': 10, \\'profile_path\\': \\'/cOJhnH9pJph2snOgpTMgWcWY5kz.jpg\\'}, {\\'cast_id\\': 14, \\'character\\': \\'State Trooper\\', \\'credit_id\\': \\'52fe45c09251416c750614a7\\', \\'gender\\': 2, \\'id\\': 162823, \\'name\\': \"Skip O\\'Brien\", \\'order\\': 11, \\'profile_path\\': None}, {\\'cast_id\\': 15, \\'character\\': \\'Fan\\', \\'credit_id\\': \\'52fe45c19251416c750614ab\\', \\'gender\\': 0, \\'id\\': 56165, \\'name\\': \\'Branden R. Morgan\\', \\'order\\': 12, \\'profile_path\\': None}, {\\'cast_id\\': 16, \\'character\\': \\'Pocket Pool Lady\\', \\'credit_id\\': \\'52fe45c19251416c750614af\\', \\'gender\\': 0, \\'id\\': 1073828, \\'name\\': \\'Gypsy Spheeris\\', \\'order\\': 13, \\'profile_path\\': None}, {\\'cast_id\\': 17, \\'character\\': \\'Jim Blaine\\', \\'credit_id\\': \\'52fe45c19251416c750614b3\\', \\'gender\\': 2, \\'id\\': 1030724, \\'name\\': \\'John Ashker\\', \\'order\\': 14, \\'profile_path\\': None}, {\\'cast_id\\': 18, \\'character\\': \\'Carl\\', \\'credit_id\\': \\'5987b1d99251413d180228c4\\', \\'gender\\': 0, \\'id\\': 1864853, \\'name\\': \\'Jonathan Everett Lewis\\', \\'order\\': 15, \\'profile_path\\': None}, {\\'cast_id\\': 19, \\'character\\': \\'Mayor\\', \\'credit_id\\': \\'59c9aa2dc3a36803a400178f\\', \\'gender\\': 0, \\'id\\': 1886271, \\'name\\': \\'James Noah\\', \\'order\\': 16, \\'profile_path\\': \\'/qcqd4BnJVMMyVNSFkztY76e1GxI.jpg\\'}]', '[{\\'cast_id\\': 11, \\'character\\': \\'Gene Watson\\', \\'credit_id\\': \\'52fe4334c3a36847f80421dd\\', \\'gender\\': 2, \\'id\\': 85, \\'name\\': \\'Johnny Depp\\', \\'order\\': 0, \\'profile_path\\': \\'/kbWValANhZI8rbWZXximXuMN4UN.jpg\\'}, {\\'cast_id\\': 12, \\'character\\': \\'Lynn Watson\\', \\'credit_id\\': \\'52fe4334c3a36847f80421e1\\', \\'gender\\': 1, \\'id\\': 21365, \\'name\\': \\'Courtney Chase\\', \\'order\\': 1, \\'profile_path\\': \\'/pFnq6LRYWjUCTZ8HjGC3uwUOBB0.jpg\\'}, {\\'cast_id\\': 13, \\'character\\': \\'Hucy\\', \\'credit_id\\': \\'52fe4334c3a36847f80421e5\\', \\'gender\\': 2, \\'id\\': 17764, \\'name\\': \\'Charles S. Dutton\\', \\'order\\': 2, \\'profile_path\\': \\'/ajXBoMz8xGgDDcn8xpRi8LmXKKa.jpg\\'}, {\\'cast_id\\': 14, \\'character\\': \\'Mr. Smith\\', \\'credit_id\\': \\'52fe4334c3a36847f80421e9\\', \\'gender\\': 2, \\'id\\': 4690, \\'name\\': \\'Christopher Walken\\', \\'order\\': 3, \\'profile_path\\': \\'/ysO1GwRzLT9OVAB9Y2SKHxomqDr.jpg\\'}, {\\'cast_id\\': 15, \\'character\\': \\'Ms. Jones\\', \\'credit_id\\': \\'52fe4334c3a36847f80421ed\\', \\'gender\\': 1, \\'id\\': 21366, \\'name\\': \\'Roma Maffia\\', \\'order\\': 4, \\'profile_path\\': \\'/tfscWeBOGA9aysLbYoOduimpTOk.jpg\\'}, {\\'cast_id\\': 17, \\'character\\': \\'Brendan Grant\\', \\'credit_id\\': \\'52fe4334c3a36847f80421f1\\', \\'gender\\': 2, \\'id\\': 21368, \\'name\\': \\'Peter Strauss\\', \\'order\\': 6, \\'profile_path\\': \\'/ufx1trct43k7UcT4DpoIMPZXi5A.jpg\\'}, {\\'cast_id\\': 18, \\'character\\': \\'Krista Brooks\\', \\'credit_id\\': \\'52fe4334c3a36847f80421f5\\', \\'gender\\': 1, \\'id\\': 21369, \\'name\\': \\'Gloria Reuben\\', \\'order\\': 7, \\'profile_path\\': \\'/z0FzEdJo8XnPGTS8pQcl10lpsNZ.jpg\\'}, {\\'cast_id\\': 19, \\'character\\': \\'Gov. Eleanor Grant\\', \\'credit_id\\': \\'52fe4334c3a36847f80421f9\\', \\'gender\\': 1, \\'id\\': 19131, \\'name\\': \\'Marsha Mason\\', \\'order\\': 8, \\'profile_path\\': \\'/1iTPM9ciKMFb5RzePlcKhfWO0Fb.jpg\\'}, {\\'cast_id\\': 21, \\'character\\': \"Franco (Governor\\'s Bodyguard)\", \\'credit_id\\': \\'56d630bcc3a3681e4401a5de\\', \\'gender\\': 2, \\'id\\': 203762, \\'name\\': \\'Miguel Nájera\\', \\'order\\': 9, \\'profile_path\\': \\'/inkolHpGkf9uVZkjdzhOLfttbvT.jpg\\'}, {\\'cast_id\\': 22, \\'character\\': \\'Officer Trust\\', \\'credit_id\\': \\'56d631e2c3a3682cef006dea\\', \\'gender\\': 2, \\'id\\': 17200, \\'name\\': \\'Bill Smitrovich\\', \\'order\\': 10, \\'profile_path\\': \\'/rO5wJpx7ZlT6RaunZw20OGF6O2Y.jpg\\'}, {\\'cast_id\\': 23, \\'character\\': \\'Mystery Man\\', \\'credit_id\\': \\'56d631fac3a3681e4401a633\\', \\'gender\\': 2, \\'id\\': 1269763, \\'name\\': \\'G.D. Spradlin\\', \\'order\\': 11, \\'profile_path\\': \\'/As8yIxmq1dXRIiZE4uFIsbNcoS6.jpg\\'}, {\\'cast_id\\': 24, \\'character\\': \\'Sanitation Engineer\\', \\'credit_id\\': \\'56d63228c3a3681e3c01a78c\\', \\'gender\\': 2, \\'id\\': 60287, \\'name\\': \\'Charles Carroll\\', \\'order\\': 12, \\'profile_path\\': \\'/5sGsNA3iVsjt3vXxNH5aK3P7toG.jpg\\'}]', \"[{'cast_id': 3, 'character': 'August King', 'credit_id': '52fe4657c3a368484e08b609', 'gender': 2, 'id': 12261, 'name': 'Jason Patric', 'order': 0, 'profile_path': '/1WxY2kcQqx9gHloTmRuY5ta3Nje.jpg'}, {'cast_id': 4, 'character': 'Annalees', 'credit_id': '52fe4657c3a368484e08b60d', 'gender': 1, 'id': 9030, 'name': 'Thandie Newton', 'order': 1, 'profile_path': '/sW6XsnM2DkX6ujOXZ38aIQAMIWi.jpg'}, {'cast_id': 5, 'character': 'Olaf Singletary', 'credit_id': '52fe4657c3a368484e08b611', 'gender': 2, 'id': 16476, 'name': 'Larry Drake', 'order': 2, 'profile_path': '/m7NbC0TyREs2kD63ByL0bSPjHHj.jpg'}, {'cast_id': 6, 'character': 'Mooney Wright', 'credit_id': '52fe4657c3a368484e08b615', 'gender': 2, 'id': 8975, 'name': 'Sam Waterston', 'order': 3, 'profile_path': '/fKmtS6OdDWPiAdxZflbJGz1eWml.jpg'}, {'cast_id': 7, 'character': 'Hal Wright', 'credit_id': '52fe4657c3a368484e08b619', 'gender': 2, 'id': 11867, 'name': 'Eric Mabius', 'order': 4, 'profile_path': '/mfYqgYHkvJRgPus0kN2V1GhsFOU.jpg'}, {'cast_id': 8, 'character': 'Ida Wright', 'credit_id': '52fe4657c3a368484e08b61d', 'gender': 0, 'id': 233294, 'name': 'Sarah-Jane Wylde', 'order': 5, 'profile_path': None}]\", '[{\\'cast_id\\': 1, \\'character\\': \\'Mary Reilly\\', \\'credit_id\\': \\'52fe44dbc3a36847f80ae251\\', \\'gender\\': 1, \\'id\\': 1204, \\'name\\': \\'Julia Roberts\\', \\'order\\': 0, \\'profile_path\\': \\'/h13yvG0tRNMTAwciQXxYmQWdYW8.jpg\\'}, {\\'cast_id\\': 2, \\'character\\': \\'Dr. Henry Jekyll / Edward Hyde\\', \\'credit_id\\': \\'52fe44dbc3a36847f80ae255\\', \\'gender\\': 2, \\'id\\': 6949, \\'name\\': \\'John Malkovich\\', \\'order\\': 1, \\'profile_path\\': \\'/tCtiWZbKKRgHhLxFCIPfveYAsdc.jpg\\'}, {\\'cast_id\\': 3, \\'character\\': \\'Der Butler Mr. Poole\\', \\'credit_id\\': \\'52fe44dbc3a36847f80ae259\\', \\'gender\\': 2, \\'id\\': 47722, \\'name\\': \\'George Cole\\', \\'order\\': 2, \\'profile_path\\': \\'/7sY6HvIAEqH8B009ttQIn90J3S0.jpg\\'}, {\\'cast_id\\': 4, \\'character\\': \\'Marys Vater\\', \\'credit_id\\': \\'52fe44dbc3a36847f80ae25d\\', \\'gender\\': 2, \\'id\\': 5658, \\'name\\': \\'Michael Gambon\\', \\'order\\': 3, \\'profile_path\\': \\'/rcjsXZ6PUKlBbrFNv8itMWLzgXx.jpg\\'}, {\\'cast_id\\': 5, \\'character\\': \\'Mrs. Farraday\\', \\'credit_id\\': \\'52fe44dbc3a36847f80ae261\\', \\'gender\\': 1, \\'id\\': 515, \\'name\\': \\'Glenn Close\\', \\'order\\': 4, \\'profile_path\\': \\'/fF6tCfuvuUhaePm5onUNnIE4FvL.jpg\\'}, {\\'cast_id\\': 12, \\'character\\': \\'Mrs. Kent\\', \\'credit_id\\': \\'5461f024c3a3686f2e001ce6\\', \\'gender\\': 0, \\'id\\': 1229735, \\'name\\': \\'Kathy Staff\\', \\'order\\': 5, \\'profile_path\\': None}, {\\'cast_id\\': 13, \\'character\\': \\'Bradshaw\\', \\'credit_id\\': \\'5461f032c3a3686f3c001e18\\', \\'gender\\': 2, \\'id\\': 3968, \\'name\\': \\'Michael Sheen\\', \\'order\\': 6, \\'profile_path\\': \\'/rbDgZ38bn22MUC2mMpkrG0L6nhB.jpg\\'}, {\\'cast_id\\': 14, \\'character\\': \\'Annie\\', \\'credit_id\\': \\'5461f03f0e0a2672b6001d4d\\', \\'gender\\': 0, \\'id\\': 33399, \\'name\\': \\'Bronagh Gallagher\\', \\'order\\': 7, \\'profile_path\\': \\'/nFeWufPvkdYOj4wyjF0zb9tL1rb.jpg\\'}, {\\'cast_id\\': 15, \\'character\\': \"Mary\\'s Mother\", \\'credit_id\\': \\'55dc7a1fc3a3680a46002a75\\', \\'gender\\': 1, \\'id\\': 8443, \\'name\\': \\'Linda Bassett\\', \\'order\\': 8, \\'profile_path\\': \\'/raya4YIZ9ArIxl1nVvj1Aoo7XQj.jpg\\'}, {\\'cast_id\\': 16, \\'character\\': \\'Sir Danvers Carew\\', \\'credit_id\\': \\'55dc7a3bc3a36865b800234e\\', \\'gender\\': 2, \\'id\\': 8785, \\'name\\': \\'Ciarán Hinds\\', \\'order\\': 9, \\'profile_path\\': \\'/h5n8B12WoY1UAZjzSVEup4vsoBw.jpg\\'}, {\\'cast_id\\': 17, \\'character\\': \\'Haffinger\\', \\'credit_id\\': \\'55dc7a51c3a3687bb80024a1\\', \\'gender\\': 2, \\'id\\': 7030, \\'name\\': \\'Henry Goodman\\', \\'order\\': 10, \\'profile_path\\': \\'/6aubyjy4zS8CCGEbWuHp8QgMhJv.jpg\\'}]', \"[{'cast_id': 12, 'character': 'Maximillian | Pauly | Guido', 'credit_id': '52fe44c19251416c7503fcdf', 'gender': 2, 'id': 776, 'name': 'Eddie Murphy', 'order': 0, 'profile_path': '/bsi706zdqs0KAPdOsqz6AkLNcFF.jpg'}, {'cast_id': 15, 'character': 'Detective Rita Veder', 'credit_id': '52fe44c19251416c7503fce3', 'gender': 1, 'id': 9780, 'name': 'Angela Bassett', 'order': 1, 'profile_path': '/tHkgSzhEuJKp5hqp0DZLad8HNZ9.jpg'}, {'cast_id': 16, 'character': 'Detective Justice', 'credit_id': '52fe44c19251416c7503fce7', 'gender': 2, 'id': 32486, 'name': 'Allen Payne', 'order': 2, 'profile_path': '/xJtew7b2oZRZjIzocnBZgkVlWWt.jpg'}, {'cast_id': 17, 'character': 'Julius Jones', 'credit_id': '52fe44c19251416c7503fceb', 'gender': 2, 'id': 66554, 'name': 'Kadeem Hardison', 'order': 3, 'profile_path': '/aCuoYn6GdVqZyy35JmqaY6TS9bO.jpg'}, {'cast_id': 18, 'character': 'Silas Green', 'credit_id': '52fe44c19251416c7503fcef', 'gender': 2, 'id': 56902, 'name': 'John Witherspoon', 'order': 4, 'profile_path': '/mlrxal9uTk2h6i0suarNOyYGiTN.jpg'}, {'cast_id': 19, 'character': 'Dr. Zeko', 'credit_id': '52fe44c19251416c7503fcf3', 'gender': 2, 'id': 47458, 'name': 'Zakes Mokae', 'order': 5, 'profile_path': '/sxzqrmSm7Kd7eSHzos7UeiT0mke.jpg'}, {'cast_id': 20, 'character': 'Capt. Dewey', 'credit_id': '55a10a00925141297d0014c3', 'gender': 1, 'id': 593, 'name': 'Joanna Cassidy', 'order': 6, 'profile_path': '/p7CQ4EmGmtAaR3YWKRJTnmnRU8i.jpg'}, {'cast_id': 21, 'character': 'Police Officer', 'credit_id': '562ff62ac3a3681b5200e109', 'gender': 2, 'id': 6951, 'name': 'W. Earl Brown', 'order': 7, 'profile_path': '/ygTJtQVn9R2NgE1YPybsgk33jBm.jpg'}, {'cast_id': 22, 'character': 'Nikki', 'credit_id': '562ff634c3a3681b5400e5e0', 'gender': 0, 'id': 172200, 'name': 'Simbi Khali', 'order': 8, 'profile_path': '/hOdj8WA4L6j4grdHti7hBTqRYDG.jpg'}]\", '[{\\'cast_id\\': 10, \\'character\\': \"Tommy \\'Birdman\\' Rowland\", \\'credit_id\\': \\'52fe44e1c3a36847f80af939\\', \\'gender\\': 2, \\'id\\': 2876, \\'name\\': \\'Matt Dillon\\', \\'order\\': 0, \\'profile_path\\': \\'/svj4JJmblkNUt9pSrchJEzx4VR3.jpg\\'}, {\\'cast_id\\': 11, \\'character\\': \"Michael \\'Mo\\' Morris\", \\'credit_id\\': \\'52fe44e1c3a36847f80af93d\\', \\'gender\\': 2, \\'id\\': 11315, \\'name\\': \\'Noah Emmerich\\', \\'order\\': 1, \\'profile_path\\': \\'/iTPoDQq2R5zU17hRwLtWkm2gCmK.jpg\\'}, {\\'cast_id\\': 12, \\'character\\': \\'Tracy Stover\\', \\'credit_id\\': \\'52fe44e1c3a36847f80af941\\', \\'gender\\': 1, \\'id\\': 49425, \\'name\\': \\'Annabeth Gish\\', \\'order\\': 2, \\'profile_path\\': \\'/tA2iInfNHuqWvAec0wtnrji0nGw.jpg\\'}, {\\'cast_id\\': 13, \\'character\\': \\'Darian Smalls\\', \\'credit_id\\': \\'52fe44e1c3a36847f80af945\\', \\'gender\\': 1, \\'id\\': 34485, \\'name\\': \\'Lauren Holly\\', \\'order\\': 3, \\'profile_path\\': \\'/bWQsB6ueNNkygxCiIxyKznQAiOK.jpg\\'}, {\\'cast_id\\': 14, \\'character\\': \\'Willie Conway\\', \\'credit_id\\': \\'52fe44e1c3a36847f80af949\\', \\'gender\\': 2, \\'id\\': 16327, \\'name\\': \\'Timothy Hutton\\', \\'order\\': 4, \\'profile_path\\': \\'/ypC4mzLExwmG0QHfi8vFe9LTeSi.jpg\\'}, {\\'cast_id\\': 15, \\'character\\': \\'Andera\\', \\'credit_id\\': \\'52fe44e1c3a36847f80af94d\\', \\'gender\\': 1, \\'id\\': 139, \\'name\\': \\'Uma Thurman\\', \\'order\\': 5, \\'profile_path\\': \\'/6SuOc2R7kXjq3Em24KTNDW9qblJ.jpg\\'}, {\\'cast_id\\': 16, \\'character\\': \\'Sharon Cassidy\\', \\'credit_id\\': \\'52fe44e1c3a36847f80af951\\', \\'gender\\': 1, \\'id\\': 23931, \\'name\\': \\'Mira Sorvino\\', \\'order\\': 6, \\'profile_path\\': \\'/ooyCQtEdE9wIsgC1lZRFo36VzRo.jpg\\'}, {\\'cast_id\\': 18, \\'character\\': \\'Paul Kirkwood\\', \\'credit_id\\': \\'52fe44e1c3a36847f80af959\\', \\'gender\\': 2, \\'id\\': 4688, \\'name\\': \\'Michael Rapaport\\', \\'order\\': 8, \\'profile_path\\': \\'/i39bAISjAUWYlXZZA0wmjYWnZGf.jpg\\'}, {\\'cast_id\\': 22, \\'character\\': \\'Gina Barrisano\\', \\'credit_id\\': \\'561f6fda92514171d4002b3d\\', \\'gender\\': 0, \\'id\\': 12929, \\'name\\': \"Rosie O\\'Donnell\", \\'order\\': 9, \\'profile_path\\': \\'/76ZWoNK1Fr6gmJUH1zhEBMsT9DT.jpg\\'}, {\\'cast_id\\': 23, \\'character\\': \"Stanley \\'Stinky\\' Womack\", \\'credit_id\\': \\'561f703f92514171d4002b58\\', \\'gender\\': 2, \\'id\\': 3201, \\'name\\': \\'Pruitt Taylor Vince\\', \\'order\\': 10, \\'profile_path\\': \\'/p3xmcGJ7IKCxw42lwQbg4WmwPTA.jpg\\'}, {\\'cast_id\\': 24, \\'character\\': \\'Kev\\', \\'credit_id\\': \\'561f705bc3a3680e14002c21\\', \\'gender\\': 2, \\'id\\': 7268, \\'name\\': \\'Max Perlich\\', \\'order\\': 11, \\'profile_path\\': \\'/baFBjA3vKNqZCbXrJepVweeLj3d.jpg\\'}, {\\'cast_id\\': 25, \\'character\\': \\'Jan\\', \\'credit_id\\': \\'561f707b92514171cd002bb1\\', \\'gender\\': 1, \\'id\\': 17495, \\'name\\': \\'Martha Plimpton\\', \\'order\\': 12, \\'profile_path\\': \\'/7lU1kci6OZMwZk5Kxfnz0u8B5l5.jpg\\'}, {\\'cast_id\\': 26, \\'character\\': \\'Marty\\', \\'credit_id\\': \\'5628a9b7c3a368488c001601\\', \\'gender\\': 1, \\'id\\': 524, \\'name\\': \\'Natalie Portman\\', \\'order\\': 13, \\'profile_path\\': \\'/1oEP6OyYZgyLubgJXifx2GO78c7.jpg\\'}, {\\'cast_id\\': 27, \\'character\\': \\'Sarah Morris\\', \\'credit_id\\': \\'5628a9f4c3a3684883001354\\', \\'gender\\': 1, \\'id\\': 140234, \\'name\\': \\'Anne Bobby\\', \\'order\\': 14, \\'profile_path\\': \\'/tEvwylg2OlrUlGhoMOVdL1lWyF4.jpg\\'}, {\\'cast_id\\': 28, \\'character\\': \\'Dick Conway\\', \\'credit_id\\': \\'5628aa13c3a368488300135b\\', \\'gender\\': 2, \\'id\\': 3174, \\'name\\': \\'Richard Bright\\', \\'order\\': 15, \\'profile_path\\': \\'/k2P17sxGhh7Dafidxn9Ub5YbF7n.jpg\\'}, {\\'cast_id\\': 52, \\'character\\': \\'Steve Rossmore\\', \\'credit_id\\': \\'57e3b3cbc3a36875890041b3\\', \\'gender\\': 2, \\'id\\': 8213, \\'name\\': \\'Sam Robards\\', \\'order\\': 16, \\'profile_path\\': \\'/xBfl2c80eQtbjKTH6dOwFBnFlE7.jpg\\'}, {\\'cast_id\\': 53, \\'character\\': \\'Bobby Conway\\', \\'credit_id\\': \\'57e3b3e19251411dc1001ecd\\', \\'gender\\': 2, \\'id\\': 15234, \\'name\\': \\'David Arquette\\', \\'order\\': 17, \\'profile_path\\': \\'/p5l4pnL9xhbHiKSipcdsCekoD52.jpg\\'}, {\\'cast_id\\': 54, \\'character\\': \\'Victor\\', \\'credit_id\\': \\'57e3b3f4925141123c0045f0\\', \\'gender\\': 2, \\'id\\': 61607, \\'name\\': \\'Adam LeFevre\\', \\'order\\': 18, \\'profile_path\\': \\'/y17YQ7F99kpqJuCUYfOoeArAkKz.jpg\\'}, {\\'cast_id\\': 55, \\'character\\': \\'Frank Womack\\', \\'credit_id\\': \\'57e3b4089251411d7d001da1\\', \\'gender\\': 2, \\'id\\': 3911, \\'name\\': \\'John Carroll Lynch\\', \\'order\\': 19, \\'profile_path\\': \\'/5eEGOANKnCCj7FLa3oV28gGYWkW.jpg\\'}, {\\'cast_id\\': 56, \\'character\\': \\'Peter the Eater\\', \\'credit_id\\': \\'57e3b65dc3a36875970046e2\\', \\'gender\\': 2, \\'id\\': 174793, \\'name\\': \\'Tom Gibis\\', \\'order\\': 20, \\'profile_path\\': \\'/A4Rpxg1fu3aH8c1cWwnwabZsPSk.jpg\\'}, {\\'cast_id\\': 57, \\'character\\': \\'Lead Singer, Afghan Whigs\\', \\'credit_id\\': \\'57e3bef79251411df10021e4\\', \\'gender\\': 2, \\'id\\': 1141848, \\'name\\': \\'Greg Dulli\\', \\'order\\': 21, \\'profile_path\\': \\'/kOpEeeWNryu4sJAfBckKrpQTJzA.jpg\\'}, {\\'cast_id\\': 58, \\'character\\': \\'Ticket Agent\\', \\'credit_id\\': \\'57e3c138c3a3687597004b12\\', \\'gender\\': 2, \\'id\\': 506, \\'name\\': \\'John Scurti\\', \\'order\\': 22, \\'profile_path\\': \\'/eX86aQIuaZORhGRpf7TiGdZ2K6g.jpg\\'}, {\\'cast_id\\': 59, \\'character\\': \\'Irv\\', \\'credit_id\\': \\'57e3c1b2c3a368759c0054d7\\', \\'gender\\': 2, \\'id\\': 1653331, \\'name\\': \\'Frank Anello\\', \\'order\\': 23, \\'profile_path\\': \\'/2R6wFpgVl49uuFelB8ct0wsrKKJ.jpg\\'}, {\\'cast_id\\': 60, \\'character\\': \"Sharon\\'s Mother\", \\'credit_id\\': \\'57e3c2acc3a36875890046bb\\', \\'gender\\': 1, \\'id\\': 1683284, \\'name\\': \"Camille D\\'Ambrose\", \\'order\\': 24, \\'profile_path\\': \\'/jdNMGg8xXKkoj7uwSAxOyehDGwI.jpg\\'}, {\\'cast_id\\': 61, \\'character\\': \\'Kristen Rossmore\\', \\'credit_id\\': \\'596f58bb925141607b018a4e\\', \\'gender\\': 1, \\'id\\': 1854384, \\'name\\': \\'Sarah Katz\\', \\'order\\': 25, \\'profile_path\\': None}, {\\'cast_id\\': 62, \\'character\\': \\'Chip\\', \\'credit_id\\': \\'596f590e9251415e86007a31\\', \\'gender\\': 2, \\'id\\': 1854385, \\'name\\': \\'Martin Ruben\\', \\'order\\': 26, \\'profile_path\\': None}, {\\'cast_id\\': 63, \\'character\\': \\'Waitress at Moonlight Mile\\', \\'credit_id\\': \\'596f59cfc3a3686f7c006a82\\', \\'gender\\': 1, \\'id\\': 1854386, \\'name\\': \\'Allison Levine\\', \\'order\\': 27, \\'profile_path\\': None}, {\\'cast_id\\': 64, \\'character\\': \\'Bartender\\', \\'credit_id\\': \\'596f5a139251412d3d0226ce\\', \\'gender\\': 2, \\'id\\': 1854388, \\'name\\': \\'Earl R. Burt\\', \\'order\\': 28, \\'profile_path\\': None}, {\\'cast_id\\': 65, \\'character\\': \\'Michael Morris, Jr.\\', \\'credit_id\\': \\'596f5a60c3a368712800d739\\', \\'gender\\': 2, \\'id\\': 1854389, \\'name\\': \\'Trent Nicholas Thompson\\', \\'order\\': 29, \\'profile_path\\': None}, {\\'cast_id\\': 66, \\'character\\': \\'Cheryl Morris\\', \\'credit_id\\': \\'596f5aa49251412d3d022759\\', \\'gender\\': 1, \\'id\\': 1854390, \\'name\\': \\'Nicole Ranallo\\', \\'order\\': 30, \\'profile_path\\': None}, {\\'cast_id\\': 67, \\'character\\': \\'Reunion Classmate #1\\', \\'credit_id\\': \\'596f5adcc3a368712800d7b9\\', \\'gender\\': 1, \\'id\\': 1854391, \\'name\\': \\'Joyce Lacey\\', \\'order\\': 31, \\'profile_path\\': None}, {\\'cast_id\\': 68, \\'character\\': \\'Coffee Shop Waitress\\', \\'credit_id\\': \\'596f5b139251412d3d0227bf\\', \\'gender\\': 1, \\'id\\': 1854392, \\'name\\': \\'Anne W. Erickson\\', \\'order\\': 32, \\'profile_path\\': None}, {\\'cast_id\\': 69, \\'character\\': \\'Drinker #1\\', \\'credit_id\\': \\'596f5b469251415e86007c2f\\', \\'gender\\': 0, \\'id\\': 1574263, \\'name\\': \\'Oliver Osterberg\\', \\'order\\': 33, \\'profile_path\\': None}, {\\'cast_id\\': 70, \\'character\\': \\'Drinker #2\\', \\'credit_id\\': \\'596f5b66c3a3686b0400cf7f\\', \\'gender\\': 2, \\'id\\': 1854393, \\'name\\': \\'Sterling Robson\\', \\'order\\': 34, \\'profile_path\\': None}, {\\'cast_id\\': 71, \\'character\\': \\'Bar Owner\\', \\'credit_id\\': \\'596f5bd1925141079900c8bd\\', \\'gender\\': 0, \\'id\\': 87134, \\'name\\': \\'Herbie Ade\\', \\'order\\': 35, \\'profile_path\\': None}, {\\'cast_id\\': 72, \\'character\\': \\'Bowler (uncredited)\\', \\'credit_id\\': \\'596f5c31c3a36871a600d795\\', \\'gender\\': 1, \\'id\\': 1854397, \\'name\\': \\'Tammara Melloy\\', \\'order\\': 36, \\'profile_path\\': None}, {\\'cast_id\\': 73, \\'character\\': \\'Woman on the Street (uncredited)\\', \\'credit_id\\': \\'596f5c769251412d4102190f\\', \\'gender\\': 1, \\'id\\': 1854398, \\'name\\': \\'Lori J. Ness\\', \\'order\\': 37, \\'profile_path\\': None}, {\\'cast_id\\': 74, \\'character\\': \\'High School Alumna (uncredited)\\', \\'credit_id\\': \\'596f5cbcc3a3686b5a0199a2\\', \\'gender\\': 1, \\'id\\': 1539045, \\'name\\': \\'Rachel Oliva\\', \\'order\\': 38, \\'profile_path\\': \\'/bmFVKnEUJDatSUcNy4QxLtwPQKF.jpg\\'}, {\\'cast_id\\': 75, \\'character\\': \\'Male Nurse (uncredited)\\', \\'credit_id\\': \\'596f5d5e9251415e86007e0e\\', \\'gender\\': 2, \\'id\\': 1854399, \\'name\\': \\'Tomas Settell\\', \\'order\\': 39, \\'profile_path\\': None}]', '[{\\'cast_id\\': 1, \\'character\\': \"Maj. Vic \\'Deak\\' Deakins\", \\'credit_id\\': \\'52fe44dcc3a36847f80ae6e7\\', \\'gender\\': 2, \\'id\\': 8891, \\'name\\': \\'John Travolta\\', \\'order\\': 0, \\'profile_path\\': \\'/ns8uZHEHzV18ifqA9secv8c2Ard.jpg\\'}, {\\'cast_id\\': 2, \\'character\\': \\'Capt. Riley Hale\\', \\'credit_id\\': \\'52fe44dcc3a36847f80ae6eb\\', \\'gender\\': 2, \\'id\\': 2224, \\'name\\': \\'Christian Slater\\', \\'order\\': 1, \\'profile_path\\': \\'/3ElLWjnvchMS6Q4cIQOK8QNAoMG.jpg\\'}, {\\'cast_id\\': 3, \\'character\\': \\'Terry Carmichael\\', \\'credit_id\\': \\'52fe44dcc3a36847f80ae6ef\\', \\'gender\\': 1, \\'id\\': 20767, \\'name\\': \\'Samantha Mathis\\', \\'order\\': 2, \\'profile_path\\': \\'/dzUjIFu7AAbwwJfj6aFRPfvYgC3.jpg\\'}, {\\'cast_id\\': 4, \\'character\\': \\'Colonel Max Wilkins\\', \\'credit_id\\': \\'52fe44dcc3a36847f80ae6f3\\', \\'gender\\': 2, \\'id\\': 18792, \\'name\\': \\'Delroy Lindo\\', \\'order\\': 3, \\'profile_path\\': \\'/uhjdTemc2kYbQj47bVqRb7OdVjH.jpg\\'}, {\\'cast_id\\': 21, \\'character\\': \\'Pritchett\\', \\'credit_id\\': \\'52fe44dcc3a36847f80ae751\\', \\'gender\\': 2, \\'id\\': 4029, \\'name\\': \\'Bob Gunton\\', \\'order\\': 4, \\'profile_path\\': \\'/b3NfI0IzPYI40eIEtO9O0XQiR8j.jpg\\'}, {\\'cast_id\\': 22, \\'character\\': \\'Giles Prentice\\', \\'credit_id\\': \\'52fe44dcc3a36847f80ae755\\', \\'gender\\': 2, \\'id\\': 11805, \\'name\\': \\'Frank Whaley\\', \\'order\\': 5, \\'profile_path\\': \\'/ma1lgPwUHUlgdt9BIcIbEPjdx0h.jpg\\'}, {\\'cast_id\\': 23, \\'character\\': \\'Kelly\\', \\'credit_id\\': \\'52fe44dcc3a36847f80ae759\\', \\'gender\\': 2, \\'id\\': 126418, \\'name\\': \\'Howie Long\\', \\'order\\': 6, \\'profile_path\\': \\'/sjwTca5rVsDywsvMlVuN0hyrATP.jpg\\'}, {\\'cast_id\\': 24, \\'character\\': \\'Chief Sam Rhodes\\', \\'credit_id\\': \\'52fe44dcc3a36847f80ae75d\\', \\'gender\\': 2, \\'id\\': 6198, \\'name\\': \\'Vondie Curtis-Hall\\', \\'order\\': 7, \\'profile_path\\': \\'/tH7QvQ9ST9zLuZZsTHzxMXkgtIy.jpg\\'}, {\\'cast_id\\': 25, \\'character\\': \\'Chairman, Joint Chief of Staff\\', \\'credit_id\\': \\'52fe44dcc3a36847f80ae761\\', \\'gender\\': 2, \\'id\\': 12536, \\'name\\': \\'Jack Thompson\\', \\'order\\': 8, \\'profile_path\\': \\'/l2NNfs9bd6qxqzIOahcz2hErrq8.jpg\\'}, {\\'cast_id\\': 26, \\'character\\': \\'Johnson\\', \\'credit_id\\': \\'52fe44dcc3a36847f80ae765\\', \\'gender\\': 2, \\'id\\': 61216, \\'name\\': \\'Vyto Ruginis\\', \\'order\\': 9, \\'profile_path\\': \\'/dDZyaISuF9FVK18nTmsuDgOpyKl.jpg\\'}, {\\'cast_id\\': 27, \\'character\\': \\'Lt. Thomas\\', \\'credit_id\\': \\'52fe44dcc3a36847f80ae769\\', \\'gender\\': 2, \\'id\\': 4607, \\'name\\': \\'Ousaun Elam\\', \\'order\\': 10, \\'profile_path\\': \\'/wYr28o3cuqZ3iLCMWBMwjhrA05o.jpg\\'}, {\\'cast_id\\': 28, \\'character\\': \\'Max\\', \\'credit_id\\': \\'52fe44dcc3a36847f80ae76d\\', \\'gender\\': 2, \\'id\\': 17857, \\'name\\': \\'Shaun Toub\\', \\'order\\': 11, \\'profile_path\\': \\'/qRHZD8EdqeUor8A6tazJ3v3gxyD.jpg\\'}, {\\'cast_id\\': 29, \\'character\\': \\'Novacek\\', \\'credit_id\\': \\'52fe44dcc3a36847f80ae771\\', \\'gender\\': 2, \\'id\\': 62548, \\'name\\': \\'Casey Biggs\\', \\'order\\': 12, \\'profile_path\\': \\'/iFi43Gv1pGeywgMCBenbPtyTxr7.jpg\\'}, {\\'cast_id\\': 30, \\'character\\': \\'Shepherd\\', \\'credit_id\\': \\'52fe44dcc3a36847f80ae775\\', \\'gender\\': 0, \\'id\\': 141582, \\'name\\': \\'Jeffrey J. Stephen\\', \\'order\\': 13, \\'profile_path\\': \\'/krBGyBelQSG7FOFS7WpKDQSA0eQ.jpg\\'}, {\\'cast_id\\': 31, \\'character\\': \\'Frakes\\', \\'credit_id\\': \\'52fe44dcc3a36847f80ae779\\', \\'gender\\': 2, \\'id\\': 9558, \\'name\\': \\'Joey Box\\', \\'order\\': 14, \\'profile_path\\': None}]', \"[{'cast_id': 3, 'character': 'Henry', 'credit_id': '52fe4583c3a36847f80cb93f', 'gender': 2, 'id': 29859, 'name': 'Richard Briers', 'order': 0, 'profile_path': '/cdOxeResI28YXe912GbQKKvbKv8.jpg'}, {'cast_id': 4, 'character': 'Margaretta', 'credit_id': '52fe4583c3a36847f80cb943', 'gender': 1, 'id': 13637, 'name': 'Joan Collins', 'order': 1, 'profile_path': '/8KKTDl6jaM6RTWuRpuuXOvMsvG.jpg'}, {'cast_id': 5, 'character': 'Joe', 'credit_id': '52fe4583c3a36847f80cb947', 'gender': 2, 'id': 17483, 'name': 'Michael Maloney', 'order': 2, 'profile_path': '/f0rV6ZXr8W6BkSCFeJo2KXdnD4A.jpg'}, {'cast_id': 11, 'character': 'Tom Newman', 'credit_id': '5695150bc3a3680e9a0022fd', 'gender': 2, 'id': 32357, 'name': 'Nicholas Farrell', 'order': 3, 'profile_path': '/t1I4m6x2aAki1pRueK6pxbi7j9s.jpg'}, {'cast_id': 6, 'character': 'Nancy', 'credit_id': '52fe4583c3a36847f80cb94b', 'gender': 1, 'id': 12094, 'name': 'Jennifer Saunders', 'order': 4, 'profile_path': '/c1qRVTYqUhWd7y2ws426zdyqhln.jpg'}, {'cast_id': 8, 'character': 'Nina', 'credit_id': '52fe4583c3a36847f80cb953', 'gender': 1, 'id': 53328, 'name': 'Julia Sawalha', 'order': 5, 'profile_path': '/oRyQclpIp5VqxJzmb8nnLmtPlLZ.jpg'}, {'cast_id': 10, 'character': 'Fadge', 'credit_id': '546377a7c3a368124a0023a5', 'gender': 1, 'id': 9139, 'name': 'Celia Imrie', 'order': 6, 'profile_path': '/tAEzs5PFVX5GsfD3KTWINnuTzMJ.jpg'}, {'cast_id': 12, 'character': 'Terry Du Bois', 'credit_id': '56951548c3a3680e9f00222c', 'gender': 2, 'id': 26860, 'name': 'John Sessions', 'order': 7, 'profile_path': '/oLBcHRhah5FxyodfZECIHCrROwG.jpg'}, {'cast_id': 13, 'character': 'Young actor', 'credit_id': '56951563c3a3680e9a002308', 'gender': 2, 'id': 40311, 'name': 'Adrian Scarborough', 'order': 8, 'profile_path': '/i4oo8zApNAbKQKI4yKc0T571dBI.jpg'}, {'cast_id': 7, 'character': 'Molly', 'credit_id': '52fe4583c3a36847f80cb94f', 'gender': 0, 'id': 237613, 'name': 'Hetta Charnley', 'order': 9, 'profile_path': None}, {'cast_id': 9, 'character': 'Carnforth', 'credit_id': '52fe4583c3a36847f80cb957', 'gender': 2, 'id': 56101, 'name': 'Gerard Horan', 'order': 10, 'profile_path': '/fsF6Ruuf9DrTllqMaDx5aJpFiaX.jpg'}, {'cast_id': 19, 'character': 'Ventriloquist', 'credit_id': '589b44eec3a3683ab800793e', 'gender': 2, 'id': 97165, 'name': 'Brian Pettifer', 'order': 11, 'profile_path': '/2j6RQQp7Q35KN5KhWhQ5HrdIYgQ.jpg'}, {'cast_id': 20, 'character': 'Scotsman', 'credit_id': '589b44fac3a3683aa6007881', 'gender': 2, 'id': 9152, 'name': 'Patrick Doyle', 'order': 12, 'profile_path': '/mo87kZiHO5gsoax80Us0S2CPmS.jpg'}, {'cast_id': 21, 'character': 'Mule Train Man', 'credit_id': '589b4508c3a3683aa3007ea5', 'gender': 0, 'id': 1211929, 'name': 'Shaun Prendergast', 'order': 13, 'profile_path': '/3IMUCBXLXb7KRvRBWqH9MVVxupo.jpg'}]\", '[{\\'cast_id\\': 2, \\'character\\': \\'Vinz\\', \\'credit_id\\': \\'52fe423fc3a36847f800f88f\\', \\'gender\\': 2, \\'id\\': 1925, \\'name\\': \\'Vincent Cassel\\', \\'order\\': 0, \\'profile_path\\': \\'/yTTyX7xziiMibm0nzcH5z6xxLLv.jpg\\'}, {\\'cast_id\\': 3, \\'character\\': \\'Hubert\\', \\'credit_id\\': \\'52fe423fc3a36847f800f893\\', \\'gender\\': 2, \\'id\\': 5418, \\'name\\': \\'Hubert Koundé\\', \\'order\\': 1, \\'profile_path\\': \\'/rVgtZ1d6bbbaMFcGVujZEznqQNo.jpg\\'}, {\\'cast_id\\': 4, \\'character\\': \\'Saïd\\', \\'credit_id\\': \\'52fe423fc3a36847f800f897\\', \\'gender\\': 0, \\'id\\': 5419, \\'name\\': \\'Saïd Taghmaoui\\', \\'order\\': 2, \\'profile_path\\': \\'/bOh3ZQ64WiGivN6GJrrO8vrw9wU.jpg\\'}, {\\'cast_id\\': 5, \\'character\\': \\'Abdel\\', \\'credit_id\\': \\'52fe423fc3a36847f800f89b\\', \\'gender\\': 2, \\'id\\': 5420, \\'name\\': \\'Abdel Ahmed Ghili\\', \\'order\\': 3, \\'profile_path\\': None}, {\\'cast_id\\': 47, \\'character\\': \\'Santo\\', \\'credit_id\\': \\'58f3ea719251413d72017ddc\\', \\'gender\\': 2, \\'id\\': 72270, \\'name\\': \\'Souleymane Dicko\\', \\'order\\': 4, \\'profile_path\\': \\'/zvXIfoX3x9B6DHb3V6hQscj5UZR.jpg\\'}, {\\'cast_id\\': 8, \\'character\\': \\'Sarah\\', \\'credit_id\\': \\'52fe423fc3a36847f800f8a7\\', \\'gender\\': 0, \\'id\\': 5424, \\'name\\': \\'Héloïse Rauth\\', \\'order\\': 6, \\'profile_path\\': \\'/wTrEFOrSiyPzViREYwU56Ch94Zw.jpg\\'}, {\\'cast_id\\': 24, \\'character\\': \\'Benoît\\', \\'credit_id\\': \\'52fe4240c3a36847f800f901\\', \\'gender\\': 2, \\'id\\': 5442, \\'name\\': \\'Benoît Magimel\\', \\'order\\': 7, \\'profile_path\\': \\'/aDNOzcFpleAbGiWie9LmwijedTT.jpg\\'}, {\\'cast_id\\': 23, \\'character\\': \\'Darty\\', \\'credit_id\\': \\'52fe4240c3a36847f800f8fd\\', \\'gender\\': 2, \\'id\\': 5441, \\'name\\': \\'Edouard Montoute\\', \\'order\\': 8, \\'profile_path\\': \\'/d2e7IBZgvTxAKZnHvb6X1wQIdFa.jpg\\'}, {\\'cast_id\\': 28, \\'character\\': \\'Inspecteur Notre Dame\\', \\'credit_id\\': \\'52fe4240c3a36847f800f911\\', \\'gender\\': 0, \\'id\\': 2170, \\'name\\': \\'Marc Duret\\', \\'order\\': 9, \\'profile_path\\': \\'/yZu9GrdnBYT0nEwPNPKvbXN9DfE.jpg\\'}, {\\'cast_id\\': 7, \\'character\\': \\'Gars ordinaire\\', \\'credit_id\\': \\'52fe423fc3a36847f800f8a3\\', \\'gender\\': 0, \\'id\\': 5423, \\'name\\': \\'Joseph Momo\\', \\'order\\': 10, \\'profile_path\\': None}, {\\'cast_id\\': 25, \\'character\\': \"L\\'homme saoul\", \\'credit_id\\': \\'52fe4240c3a36847f800f905\\', \\'gender\\': 2, \\'id\\': 5443, \\'name\\': \\'Vincent Lindon\\', \\'order\\': 11, \\'profile_path\\': \\'/ttfk7etXzELkW1gMSo5eH8aEzjY.jpg\\'}, {\\'cast_id\\': 26, \\'character\\': \\'Le chauffeur de taxi\\', \\'credit_id\\': \\'52fe4240c3a36847f800f909\\', \\'gender\\': 2, \\'id\\': 5425, \\'name\\': \\'Christophe Rossignon\\', \\'order\\': 12, \\'profile_path\\': \\'/jQ9b5lSeI63w4BLXWfg8duVnzsD.jpg\\'}, {\\'cast_id\\': 27, \\'character\\': \\'Le jeune skinhead\\', \\'credit_id\\': \\'52fe4240c3a36847f800f90d\\', \\'gender\\': 2, \\'id\\': 2406, \\'name\\': \\'Mathieu Kassovitz\\', \\'order\\': 13, \\'profile_path\\': \\'/h0LpOBDRawf5pSiVqlHOuoI2ain.jpg\\'}, {\\'cast_id\\': 29, \\'character\\': \\'Le chef de la police\\', \\'credit_id\\': \\'52fe4240c3a36847f800f915\\', \\'gender\\': 2, \\'id\\': 5444, \\'name\\': \\'Philippe Nahon\\', \\'order\\': 14, \\'profile_path\\': \\'/1ZrnApxh9qZz1EdEB1vKWwoFd5B.jpg\\'}, {\\'cast_id\\': 30, \\'character\\': \"L\\'Officier de Police\", \\'credit_id\\': \\'52fe4240c3a36847f800f919\\', \\'gender\\': 2, \\'id\\': 5445, \\'name\\': \\'Zinedine Soualem\\', \\'order\\': 15, \\'profile_path\\': \\'/fSXaPheMM4e6BUxPMaXrjIi8k4N.jpg\\'}, {\\'cast_id\\': 32, \\'character\\': \\'Grand-mère de Vinz\\', \\'credit_id\\': \\'53d7f92ec3a3683a12001afc\\', \\'gender\\': 0, \\'id\\': 1347614, \\'name\\': \\'Rywka Wajsbrot\\', \\'order\\': 16, \\'profile_path\\': None}, {\\'cast_id\\': 33, \\'character\\': \\'Tante de Vinz\\', \\'credit_id\\': \\'53d7f964c3a3683a0e001a49\\', \\'gender\\': 0, \\'id\\': 1347615, \\'name\\': \\'Olga Abrego\\', \\'order\\': 17, \\'profile_path\\': \\'/2Ler9163a2LQnfDbcc2f0iCgSrX.jpg\\'}, {\\'cast_id\\': 34, \\'character\\': \\'Cuisinier\\', \\'credit_id\\': \\'53d7f9ce0e0a26033d0025f2\\', \\'gender\\': 0, \\'id\\': 579488, \\'name\\': \\'Laurent Labasse\\', \\'order\\': 18, \\'profile_path\\': \\'/A02b91qXIUF1T1PAduRzaVcxDOp.jpg\\'}, {\\'cast_id\\': 35, \\'character\\': \\'Frère de Saïd\\', \\'credit_id\\': \\'53d7fa0f0e0a26033d0025fc\\', \\'gender\\': 0, \\'id\\': 64546, \\'name\\': \\'Choukri Gabteni\\', \\'order\\': 19, \\'profile_path\\': \\'/4xW7gtiMOmWwTrCOgwhdj82D81c.jpg\\'}, {\\'cast_id\\': 48, \\'character\\': \\'Gallery girl\\', \\'credit_id\\': \\'593699d8c3a3685a8b00de22\\', \\'gender\\': 1, \\'id\\': 13688, \\'name\\': \\'Karin Viard\\', \\'order\\': 20, \\'profile_path\\': \\'/o12F6rIgJNPAyJa1aUsFSntRmf.jpg\\'}]', '[{\\'cast_id\\': 1, \\'character\\': \\'Jo\\', \\'credit_id\\': \\'52fe46c8c3a36847f8111c0b\\', \\'gender\\': 1, \\'id\\': 41381, \\'name\\': \\'Sadie Frost\\', \\'order\\': 0, \\'profile_path\\': \\'/nORllrdt6W4GYZUcVXJoM0Cxhg1.jpg\\'}, {\\'cast_id\\': 2, \\'character\\': \\'Billy\\', \\'credit_id\\': \\'52fe46c8c3a36847f8111c0f\\', \\'gender\\': 2, \\'id\\': 9642, \\'name\\': \\'Jude Law\\', \\'order\\': 1, \\'profile_path\\': \\'/yzVboK3mSpWRr39EXBlYTo4ndcn.jpg\\'}, {\\'cast_id\\': 3, \\'character\\': \\'Tommy\\', \\'credit_id\\': \\'52fe46c8c3a36847f8111c13\\', \\'gender\\': 2, \\'id\\': 28848, \\'name\\': \\'Sean Pertwee\\', \\'order\\': 2, \\'profile_path\\': \\'/mHNlvnrlFvNddFY6isD0S40lAIu.jpg\\'}, {\\'cast_id\\': 4, \\'character\\': \\'Be Bop\\', \\'credit_id\\': \\'52fe46c8c3a36847f8111c17\\', \\'gender\\': 0, \\'id\\': 30087, \\'name\\': \\'Fraser James\\', \\'order\\': 3, \\'profile_path\\': \\'/k8EoqPU2YRyDQ77k1kYVZIR8q8x.jpg\\'}, {\\'cast_id\\': 5, \\'character\\': \\'Venning\\', \\'credit_id\\': \\'52fe46c8c3a36847f8111c1b\\', \\'gender\\': 2, \\'id\\': 48, \\'name\\': \\'Sean Bean\\', \\'order\\': 4, \\'profile_path\\': \\'/iIxP2IzvcLgr5WaTBD4UfSqaV3q.jpg\\'}, {\\'cast_id\\': 8, \\'character\\': \\'Bev\\', \\'credit_id\\': \\'57929c149251413ce1002fa3\\', \\'gender\\': 1, \\'id\\': 19995, \\'name\\': \\'Marianne Faithfull\\', \\'order\\': 5, \\'profile_path\\': \\'/sVWt2U1im7YZcCVlW6YF9RT5yZR.jpg\\'}, {\\'cast_id\\': 9, \\'character\\': \\'Conway\\', \\'credit_id\\': \\'57929c23c3a36828a6002c99\\', \\'gender\\': 2, \\'id\\': 378, \\'name\\': \\'Jonathan Pryce\\', \\'order\\': 6, \\'profile_path\\': \\'/kfRf0eRfh9RRvBZEmpcXazWBgjd.jpg\\'}, {\\'cast_id\\': 11, \\'character\\': \\'Dix\\', \\'credit_id\\': \\'57929c3f9251414b3b002473\\', \\'gender\\': 2, \\'id\\': 202032, \\'name\\': \\'Ralph Ineson\\', \\'order\\': 8, \\'profile_path\\': \\'/zqvpAuiocN9hHjg6f9Dqu2S8y9x.jpg\\'}, {\\'cast_id\\': 12, \\'character\\': \\'Peters\\', \\'credit_id\\': \\'57929c489251413dae002ff4\\', \\'gender\\': 2, \\'id\\': 19299, \\'name\\': \\'Eamonn Walker\\', \\'order\\': 9, \\'profile_path\\': \\'/mfB9S91rT1ZbqZloEn5i5jYTKoC.jpg\\'}, {\\'cast_id\\': 13, \\'character\\': \\'Pony\\', \\'credit_id\\': \\'57929c5ac3a3687cab0045d1\\', \\'gender\\': 2, \\'id\\': 1243685, \\'name\\': \\'Lee Whitlock\\', \\'order\\': 10, \\'profile_path\\': None}, {\\'cast_id\\': 14, \\'character\\': \\'Market Trader\\', \\'credit_id\\': \\'57929c62c3a368636b00164f\\', \\'gender\\': 2, \\'id\\': 11355, \\'name\\': \\'Jason Isaacs\\', \\'order\\': 11, \\'profile_path\\': \\'/1GtGhAJz1JloqHARqc2xMsq5rG4.jpg\\'}, {\\'cast_id\\': 15, \\'character\\': \\'Sarah\\', \\'credit_id\\': \\'57929c77c3a368631c0015a4\\', \\'gender\\': 1, \\'id\\': 207295, \\'name\\': \\'Melanie Hill\\', \\'order\\': 12, \\'profile_path\\': \\'/tE0vWMofdPASlzE3yminUQxhhQg.jpg\\'}, {\\'cast_id\\': 22, \\'character\\': \\'Mrs Taylor\\', \\'credit_id\\': \\'5906727ec3a3684a4e0259f5\\', \\'gender\\': 1, \\'id\\': 185464, \\'name\\': \\'Tilly Vosburgh\\', \\'order\\': 13, \\'profile_path\\': \\'/ed4ZGtFjcDPKoM0iPuud77L5KaE.jpg\\'}, {\\'cast_id\\': 16, \\'character\\': \"Billy\\'s Dad\", \\'credit_id\\': \\'57929c7f9251413ce1002fdb\\', \\'gender\\': 0, \\'id\\': 32810, \\'name\\': \\'Brian Croucher\\', \\'order\\': 14, \\'profile_path\\': \\'/tGx2FOJucKTvnBcFj3UcxD7zmGZ.jpg\\'}, {\\'cast_id\\': 21, \\'character\\': \\'Yuppie\\', \\'credit_id\\': \\'59067271c3a3684af00221db\\', \\'gender\\': 0, \\'id\\': 1800866, \\'name\\': \\'Chris Constantinou\\', \\'order\\': 15, \\'profile_path\\': None}, {\\'cast_id\\': 17, \\'character\\': \\'Car Thief\\', \\'credit_id\\': \\'57929c86c3a368636b001666\\', \\'gender\\': 2, \\'id\\': 109383, \\'name\\': \\'Clint Dyer\\', \\'order\\': 16, \\'profile_path\\': \\'/7j1oI9jluKJ5qQj6a3ueNnayLYv.jpg\\'}, {\\'cast_id\\': 23, \\'character\\': \"Tommy\\'s Gang #1\", \\'credit_id\\': \\'590672b092514169b802437e\\', \\'gender\\': 0, \\'id\\': 1509445, \\'name\\': \\'Simon Bateso\\', \\'order\\': 17, \\'profile_path\\': None}, {\\'cast_id\\': 24, \\'character\\': \"Tommy\\'s Gang #2\", \\'credit_id\\': \\'590672c4c3a3684ab4025efd\\', \\'gender\\': 0, \\'id\\': 42664, \\'name\\': \\'Polly Moore\\', \\'order\\': 18, \\'profile_path\\': None}, {\\'cast_id\\': 18, \\'character\\': \"Tommy\\'s Gang #3\", \\'credit_id\\': \\'58ee3ac5c3a3683df500a262\\', \\'gender\\': 2, \\'id\\': 1794058, \\'name\\': \\'Vinny Mann\\', \\'order\\': 19, \\'profile_path\\': None}, {\\'cast_id\\': 25, \\'character\\': \"Tommy\\'s Gang #4\", \\'credit_id\\': \\'590672e6c3a3684ab4025f0f\\', \\'gender\\': 0, \\'id\\': 1807615, \\'name\\': \\'Julian Sandell\\', \\'order\\': 20, \\'profile_path\\': None}, {\\'cast_id\\': 26, \\'character\\': \\'Monkey\\', \\'credit_id\\': \\'59309b25c3a3686a620003f4\\', \\'gender\\': 2, \\'id\\': 8323, \\'name\\': \\'Daniel Newman\\', \\'order\\': 21, \\'profile_path\\': None}]', \"[{'cast_id': 2, 'character': 'Narrator', 'credit_id': '52fe469ac3a368484e099bcf', 'gender': 2, 'id': 92561, 'name': 'Nick Broomfield', 'order': 0, 'profile_path': '/ra54j6GHbTkkv9mPrzjllH1A5UF.jpg'}, {'cast_id': 3, 'character': 'Herself', 'credit_id': '52fe469ac3a368484e099bd3', 'gender': 0, 'id': 92032, 'name': 'Heidi Fleiss', 'order': 1, 'profile_path': '/yNNVm4NTUcQL4tdRTl6fXQoXuCn.jpg'}, {'cast_id': 4, 'character': 'Herself', 'credit_id': '52fe469ac3a368484e099bd7', 'gender': 0, 'id': 1144665, 'name': 'Madam Alex', 'order': 2, 'profile_path': None}, {'cast_id': 5, 'character': 'Himself', 'credit_id': '52fe469ac3a368484e099bdb', 'gender': 0, 'id': 1144666, 'name': 'Ivan Nagy', 'order': 3, 'profile_path': None}, {'cast_id': 6, 'character': 'Actor/Herself', 'credit_id': '52fe469ac3a368484e099bdf', 'gender': 1, 'id': 74954, 'name': 'Corinne Bohrer', 'order': 4, 'profile_path': '/i4U1Xg5173eoQbyEQklVy8pyCM3.jpg'}, {'cast_id': 14, 'character': 'Himself', 'credit_id': '52fe469ac3a368484e099c05', 'gender': 2, 'id': 42545, 'name': 'Ron Jeremy', 'order': 5, 'profile_path': '/l4aDQlLafsG3N4pJ3W6YjpMXWI3.jpg'}, {'cast_id': 8, 'character': 'Himself', 'credit_id': '52fe469ac3a368484e099be3', 'gender': 0, 'id': 550826, 'name': 'Daryl Gates', 'order': 6, 'profile_path': '/jjPhHp6hr3LBK44r6mChh4cIvkG.jpg'}]\", \"[{'cast_id': 1, 'character': 'Mayor John Pappas', 'credit_id': '52fe43ee9251416c7502371d', 'gender': 2, 'id': 1158, 'name': 'Al Pacino', 'order': 0, 'profile_path': '/ks7Ba8x9fJUlP9decBr6Dh5mThX.jpg'}, {'cast_id': 2, 'character': 'Deputy Mayor Kevin Calhoun', 'credit_id': '52fe43ee9251416c75023721', 'gender': 2, 'id': 3036, 'name': 'John Cusack', 'order': 1, 'profile_path': '/uKydQYuZ9TnCzvbQLtj6j98vWAT.jpg'}, {'cast_id': 3, 'character': 'Marybeth Cogan', 'credit_id': '52fe43ee9251416c75023725', 'gender': 1, 'id': 2233, 'name': 'Bridget Fonda', 'order': 2, 'profile_path': '/yWxhdN59eksIqyBHdjUcLRgCIaI.jpg'}, {'cast_id': 10, 'character': 'Frank Anselmo', 'credit_id': '52fe43ee9251416c7502374d', 'gender': 2, 'id': 1004, 'name': 'Danny Aiello', 'order': 3, 'profile_path': '/UvPalkz4ynJJrTcrbpfD05gVoO.jpg'}, {'cast_id': 11, 'character': 'Judge Walter Stern', 'credit_id': '54e40104925141195a00a8f8', 'gender': 2, 'id': 2641, 'name': 'Martin Landau', 'order': 4, 'profile_path': '/ylT7pqkcPNsHloe2dJsePFSoIkE.jpg'}, {'cast_id': 12, 'character': 'Abe Goodman', 'credit_id': '54e40125c3a368087b0044c1', 'gender': 2, 'id': 19839, 'name': 'David Paymer', 'order': 5, 'profile_path': '/rrI6LgFb1la4PCIYuTB7pjIGgut.jpg'}, {'cast_id': 13, 'character': 'Larry Schwartz', 'credit_id': '54e40133c3a368454b0099ed', 'gender': 2, 'id': 31028, 'name': 'Richard Schiff', 'order': 6, 'profile_path': '/gHFxL7MIGvmcbg5hhTNrbjIttQN.jpg'}]\", \"[{'cast_id': 1, 'character': 'Anthony Adams', 'credit_id': '52fe458b9251416c7505a34d', 'gender': 2, 'id': 36422, 'name': 'Luke Wilson', 'order': 0, 'profile_path': '/n7CRA7h1z3FVOzBJ5EjfSrPQbvl.jpg'}, {'cast_id': 2, 'character': 'Dignan', 'credit_id': '52fe458b9251416c7505a351', 'gender': 2, 'id': 887, 'name': 'Owen Wilson', 'order': 1, 'profile_path': '/j7oYgvfDiO34VcFdSB7GhM2CSle.jpg'}, {'cast_id': 4, 'character': 'Inez', 'credit_id': '52fe458b9251416c7505a355', 'gender': 1, 'id': 74940, 'name': 'Lumi Cavazos', 'order': 2, 'profile_path': '/cvBcBBqT23YQ58fUqNTD6hQwi3A.jpg'}, {'cast_id': 12, 'character': 'Future Man', 'credit_id': '52fe458b9251416c7505a383', 'gender': 2, 'id': 71555, 'name': 'Andrew Wilson', 'order': 3, 'profile_path': '/s7VBLMZtTNeeSjaJa8PG43aJfuE.jpg'}, {'cast_id': 13, 'character': 'Bob Mapplethorpe', 'credit_id': '52fe458b9251416c7505a387', 'gender': 0, 'id': 52797, 'name': 'Robert Musgrave', 'order': 4, 'profile_path': '/wLTMpbA7wVAKwo3EIumpg36pzHu.jpg'}, {'cast_id': 14, 'character': 'Bernice', 'credit_id': '52fe458b9251416c7505a38b', 'gender': 0, 'id': 148593, 'name': 'Haley Miller', 'order': 5, 'profile_path': None}, {'cast_id': 15, 'character': 'Mr. Henry', 'credit_id': '52fe458b9251416c7505a38f', 'gender': 2, 'id': 3085, 'name': 'James Caan', 'order': 6, 'profile_path': '/g4bxNXWft1jLZX8gKk4G6ypkTUf.jpg'}, {'cast_id': 29, 'character': 'Dr. Nichols', 'credit_id': '52fe458b9251416c7505a3e1', 'gender': 2, 'id': 42006, 'name': 'Ned Dowd', 'order': 7, 'profile_path': None}, {'cast_id': 30, 'character': 'Grace', 'credit_id': '52fe458b9251416c7505a3e5', 'gender': 0, 'id': 1117323, 'name': 'Shea Fowler', 'order': 8, 'profile_path': None}, {'cast_id': 31, 'character': 'H. Clay Murchison', 'credit_id': '52fe458b9251416c7505a3e9', 'gender': 0, 'id': 1117324, 'name': 'Brian Tenenbaum', 'order': 9, 'profile_path': None}, {'cast_id': 32, 'character': 'Stacy Sinclair', 'credit_id': '52fe458b9251416c7505a3ed', 'gender': 0, 'id': 955807, 'name': 'Jenni Tooley', 'order': 10, 'profile_path': None}, {'cast_id': 33, 'character': 'Temple', 'credit_id': '52fe458b9251416c7505a3f1', 'gender': 0, 'id': 1117325, 'name': 'Temple Nash', 'order': 11, 'profile_path': None}]\", ... ]"
      ]
     },
     "execution_count": 51,
     "metadata": {},
     "output_type": "execute_result"
    }
   ],
   "source": [
    "creditinfo = credit_info.rename({'id':'movieId'})\n",
    "creditinfo['cast']"
   ]
  },
  {
   "cell_type": "code",
   "execution_count": 54,
   "metadata": {
    "ExecuteTime": {
     "end_time": "2020-08-03T02:13:12.232609Z",
     "start_time": "2020-08-03T02:13:12.224635Z"
    }
   },
   "outputs": [
    {
     "data": {
      "text/plain": [
       "'[{\"cast_id\": 14, \"character\": \"Woody (voice)\", \"credit_id\": \"52fe4284c3a36847f8024f95\", \"gender\": 2, \"id\": 31, \"name\": \"Tom Hanks\", \"order\": 0, \"profile_path\": \"/pQFoyx7rp09CJTAb932F2g8Nlho.jpg\"}, {\"cast_id\": 15, \"character\": \"Buzz Lightyear (voice)\", \"credit_id\": \"52fe4284c3a36847f8024f99\", \"gender\": 2, \"id\": 12898, \"name\": \"Tim Allen\", \"order\": 1, \"profile_path\": \"/uX2xVf6pMmPepxnvFWyBtjexzgY.jpg\"}, {\"cast_id\": 16, \"character\": \"Mr. Potato Head (voice)\", \"credit_id\": \"52fe4284c3a36847f8024f9d\", \"gender\": 2, \"id\": 7167, \"name\": \"Don Rickles\", \"order\": 2, \"profile_path\": \"/h5BcaDMPRVLHLDzbQavec4xfSdt.jpg\"}, {\"cast_id\": 17, \"character\": \"Slinky Dog (voice)\", \"credit_id\": \"52fe4284c3a36847f8024fa1\", \"gender\": 2, \"id\": 12899, \"name\": \"Jim Varney\", \"order\": 3, \"profile_path\": \"/eIo2jVVXYgjDtaHoF19Ll9vtW7h.jpg\"}, {\"cast_id\": 18, \"character\": \"Rex (voice)\", \"credit_id\": \"52fe4284c3a36847f8024fa5\", \"gender\": 2, \"id\": 12900, \"name\": \"Wallace Shawn\", \"order\": 4, \"profile_path\": \"/oGE6JqPP2xH4tNORKNqxbNPYi7u.jpg\"}, {\"cast_id\": 19, \"character\": \"Hamm (voice)\", \"credit_id\": \"52fe4284c3a36847f8024fa9\", \"gender\": 2, \"id\": 7907, \"name\": \"John Ratzenberger\", \"order\": 5, \"profile_path\": \"/yGechiKWL6TJDfVE2KPSJYqdMsY.jpg\"}, {\"cast_id\": 20, \"character\": \"Bo Peep (voice)\", \"credit_id\": \"52fe4284c3a36847f8024fad\", \"gender\": 1, \"id\": 8873, \"name\": \"Annie Potts\", \"order\": 6, \"profile_path\": \"/eryXT84RL41jHSJcMy4kS3u9y6w.jpg\"}, {\"cast_id\": 26, \"character\": \"Andy (voice)\", \"credit_id\": \"52fe4284c3a36847f8024fc1\", \"gender\": 0, \"id\": 1116442, \"name\": \"John Morris\", \"order\": 7, \"profile_path\": \"/vYGyvK4LzeaUCoNSHtsuqJUY15M.jpg\"}, {\"cast_id\": 22, \"character\": \"Sid (voice)\", \"credit_id\": \"52fe4284c3a36847f8024fb1\", \"gender\": 2, \"id\": 12901, \"name\": \"Erik von Detten\", \"order\": 8, \"profile_path\": \"/twnF1ZaJ1FUNUuo6xLXwcxjayBE.jpg\"}, {\"cast_id\": 23, \"character\": \"Mrs. Davis (voice)\", \"credit_id\": \"52fe4284c3a36847f8024fb5\", \"gender\": 1, \"id\": 12133, \"name\": \"Laurie Metcalf\", \"order\": 9, \"profile_path\": \"/unMMIT60eoBM2sN2nyR7EZ2BvvD.jpg\"}, {\"cast_id\": 24, \"character\": \"Sergeant (voice)\", \"credit_id\": \"52fe4284c3a36847f8024fb9\", \"gender\": 2, \"id\": 8655, \"name\": \"R. Lee Ermey\", \"order\": 10, \"profile_path\": \"/r8GBqFBjypLUP9VVqDqfZ7wYbSs.jpg\"}, {\"cast_id\": 25, \"character\": \"Hannah (voice)\", \"credit_id\": \"52fe4284c3a36847f8024fbd\", \"gender\": 1, \"id\": 12903, \"name\": \"Sarah Freeman\", \"order\": 11, \"profile_path\": null}, {\"cast_id\": 27, \"character\": \"TV Announcer (voice)\", \"credit_id\": \"52fe4284c3a36847f8024fc5\", \"gender\": 2, \"id\": 37221, \"name\": \"Penn Jillette\", \"order\": 12, \"profile_path\": \"/zmAaXUdx12NRsssgHbk1T31j2x9.jpg\"}]'"
      ]
     },
     "execution_count": 54,
     "metadata": {},
     "output_type": "execute_result"
    }
   ],
   "source": [
    "import ast\n",
    "dictionary = ast.literal_eval(credits.iloc[0,0])\n",
    "dump_dict = json.dumps(dictionary, sort_keys=True)\n",
    "#print(type(dictionary))\n",
    "dicts = []\n",
    "for dict  in dictionary:\n",
    "#    print(json.dumps(dict, sort_keys=True))\n",
    "     dicts.append(dict)\n",
    "    \n",
    "dicts\n",
    "json.dumps(dicts, sort_keys=True)\n",
    "\n",
    " "
   ]
  },
  {
   "cell_type": "code",
   "execution_count": 45,
   "metadata": {
    "ExecuteTime": {
     "end_time": "2020-08-03T01:42:51.388509Z",
     "start_time": "2020-08-03T01:38:18.174600Z"
    }
   },
   "outputs": [
    {
     "data": {
      "text/html": [
       "<pre>Preparing data set.</pre>"
      ],
      "text/plain": [
       "Preparing data set."
      ]
     },
     "metadata": {},
     "output_type": "display_data"
    },
    {
     "data": {
      "text/html": [
       "<pre>    Data has 26004589 observations with 270892 users and 82976 items.</pre>"
      ],
      "text/plain": [
       "    Data has 26004589 observations with 270892 users and 82976 items."
      ]
     },
     "metadata": {},
     "output_type": "display_data"
    },
    {
     "data": {
      "text/html": [
       "<pre>    Data prepared in: 14.0841s</pre>"
      ],
      "text/plain": [
       "    Data prepared in: 14.0841s"
      ]
     },
     "metadata": {},
     "output_type": "display_data"
    },
    {
     "data": {
      "text/html": [
       "<pre>Training factorization_recommender for recommendations.</pre>"
      ],
      "text/plain": [
       "Training factorization_recommender for recommendations."
      ]
     },
     "metadata": {},
     "output_type": "display_data"
    },
    {
     "data": {
      "text/html": [
       "<pre>+--------------------------------+--------------------------------------------------+----------+</pre>"
      ],
      "text/plain": [
       "+--------------------------------+--------------------------------------------------+----------+"
      ]
     },
     "metadata": {},
     "output_type": "display_data"
    },
    {
     "data": {
      "text/html": [
       "<pre>| Parameter                      | Description                                      | Value    |</pre>"
      ],
      "text/plain": [
       "| Parameter                      | Description                                      | Value    |"
      ]
     },
     "metadata": {},
     "output_type": "display_data"
    },
    {
     "data": {
      "text/html": [
       "<pre>+--------------------------------+--------------------------------------------------+----------+</pre>"
      ],
      "text/plain": [
       "+--------------------------------+--------------------------------------------------+----------+"
      ]
     },
     "metadata": {},
     "output_type": "display_data"
    },
    {
     "data": {
      "text/html": [
       "<pre>| num_factors                    | Factor Dimension                                 | 8        |</pre>"
      ],
      "text/plain": [
       "| num_factors                    | Factor Dimension                                 | 8        |"
      ]
     },
     "metadata": {},
     "output_type": "display_data"
    },
    {
     "data": {
      "text/html": [
       "<pre>| regularization                 | L2 Regularization on Factors                     | 1e-08    |</pre>"
      ],
      "text/plain": [
       "| regularization                 | L2 Regularization on Factors                     | 1e-08    |"
      ]
     },
     "metadata": {},
     "output_type": "display_data"
    },
    {
     "data": {
      "text/html": [
       "<pre>| solver                         | Solver used for training                         | adagrad  |</pre>"
      ],
      "text/plain": [
       "| solver                         | Solver used for training                         | adagrad  |"
      ]
     },
     "metadata": {},
     "output_type": "display_data"
    },
    {
     "data": {
      "text/html": [
       "<pre>| linear_regularization          | L2 Regularization on Linear Coefficients         | 1e-10    |</pre>"
      ],
      "text/plain": [
       "| linear_regularization          | L2 Regularization on Linear Coefficients         | 1e-10    |"
      ]
     },
     "metadata": {},
     "output_type": "display_data"
    },
    {
     "data": {
      "text/html": [
       "<pre>| side_data_factorization        | Assign Factors for Side Data                     | True     |</pre>"
      ],
      "text/plain": [
       "| side_data_factorization        | Assign Factors for Side Data                     | True     |"
      ]
     },
     "metadata": {},
     "output_type": "display_data"
    },
    {
     "data": {
      "text/html": [
       "<pre>| max_iterations                 | Maximum Number of Iterations                     | 50       |</pre>"
      ],
      "text/plain": [
       "| max_iterations                 | Maximum Number of Iterations                     | 50       |"
      ]
     },
     "metadata": {},
     "output_type": "display_data"
    },
    {
     "data": {
      "text/html": [
       "<pre>+--------------------------------+--------------------------------------------------+----------+</pre>"
      ],
      "text/plain": [
       "+--------------------------------+--------------------------------------------------+----------+"
      ]
     },
     "metadata": {},
     "output_type": "display_data"
    },
    {
     "data": {
      "text/html": [
       "<pre>  Optimizing model using SGD; tuning step size.</pre>"
      ],
      "text/plain": [
       "  Optimizing model using SGD; tuning step size."
      ]
     },
     "metadata": {},
     "output_type": "display_data"
    },
    {
     "data": {
      "text/html": [
       "<pre>  Using 3250573 / 26004589 points for tuning the step size.</pre>"
      ],
      "text/plain": [
       "  Using 3250573 / 26004589 points for tuning the step size."
      ]
     },
     "metadata": {},
     "output_type": "display_data"
    },
    {
     "data": {
      "text/html": [
       "<pre>+---------+-------------------+------------------------------------------+</pre>"
      ],
      "text/plain": [
       "+---------+-------------------+------------------------------------------+"
      ]
     },
     "metadata": {},
     "output_type": "display_data"
    },
    {
     "data": {
      "text/html": [
       "<pre>| Attempt | Initial Step Size | Estimated Objective Value                |</pre>"
      ],
      "text/plain": [
       "| Attempt | Initial Step Size | Estimated Objective Value                |"
      ]
     },
     "metadata": {},
     "output_type": "display_data"
    },
    {
     "data": {
      "text/html": [
       "<pre>+---------+-------------------+------------------------------------------+</pre>"
      ],
      "text/plain": [
       "+---------+-------------------+------------------------------------------+"
      ]
     },
     "metadata": {},
     "output_type": "display_data"
    },
    {
     "data": {
      "text/html": [
       "<pre>| 0       | 10                | Not Viable                               |</pre>"
      ],
      "text/plain": [
       "| 0       | 10                | Not Viable                               |"
      ]
     },
     "metadata": {},
     "output_type": "display_data"
    },
    {
     "data": {
      "text/html": [
       "<pre>| 1       | 2.5               | Not Viable                               |</pre>"
      ],
      "text/plain": [
       "| 1       | 2.5               | Not Viable                               |"
      ]
     },
     "metadata": {},
     "output_type": "display_data"
    },
    {
     "data": {
      "text/html": [
       "<pre>| 2       | 0.625             | Not Viable                               |</pre>"
      ],
      "text/plain": [
       "| 2       | 0.625             | Not Viable                               |"
      ]
     },
     "metadata": {},
     "output_type": "display_data"
    },
    {
     "data": {
      "text/html": [
       "<pre>| 3       | 0.15625           | 0.81134                                  |</pre>"
      ],
      "text/plain": [
       "| 3       | 0.15625           | 0.81134                                  |"
      ]
     },
     "metadata": {},
     "output_type": "display_data"
    },
    {
     "data": {
      "text/html": [
       "<pre>| 4       | 0.078125          | 0.89411                                  |</pre>"
      ],
      "text/plain": [
       "| 4       | 0.078125          | 0.89411                                  |"
      ]
     },
     "metadata": {},
     "output_type": "display_data"
    },
    {
     "data": {
      "text/html": [
       "<pre>| 5       | 0.0390625         | 0.665272                                 |</pre>"
      ],
      "text/plain": [
       "| 5       | 0.0390625         | 0.665272                                 |"
      ]
     },
     "metadata": {},
     "output_type": "display_data"
    },
    {
     "data": {
      "text/html": [
       "<pre>| 6       | 0.0195312         | 0.735264                                 |</pre>"
      ],
      "text/plain": [
       "| 6       | 0.0195312         | 0.735264                                 |"
      ]
     },
     "metadata": {},
     "output_type": "display_data"
    },
    {
     "data": {
      "text/html": [
       "<pre>| 7       | 0.00976562        | 0.803957                                 |</pre>"
      ],
      "text/plain": [
       "| 7       | 0.00976562        | 0.803957                                 |"
      ]
     },
     "metadata": {},
     "output_type": "display_data"
    },
    {
     "data": {
      "text/html": [
       "<pre>| 8       | 0.00488281        | 0.885858                                 |</pre>"
      ],
      "text/plain": [
       "| 8       | 0.00488281        | 0.885858                                 |"
      ]
     },
     "metadata": {},
     "output_type": "display_data"
    },
    {
     "data": {
      "text/html": [
       "<pre>+---------+-------------------+------------------------------------------+</pre>"
      ],
      "text/plain": [
       "+---------+-------------------+------------------------------------------+"
      ]
     },
     "metadata": {},
     "output_type": "display_data"
    },
    {
     "data": {
      "text/html": [
       "<pre>| Final   | 0.0390625         | 0.665272                                 |</pre>"
      ],
      "text/plain": [
       "| Final   | 0.0390625         | 0.665272                                 |"
      ]
     },
     "metadata": {},
     "output_type": "display_data"
    },
    {
     "data": {
      "text/html": [
       "<pre>+---------+-------------------+------------------------------------------+</pre>"
      ],
      "text/plain": [
       "+---------+-------------------+------------------------------------------+"
      ]
     },
     "metadata": {},
     "output_type": "display_data"
    },
    {
     "data": {
      "text/html": [
       "<pre>Starting Optimization.</pre>"
      ],
      "text/plain": [
       "Starting Optimization."
      ]
     },
     "metadata": {},
     "output_type": "display_data"
    },
    {
     "data": {
      "text/html": [
       "<pre>+---------+--------------+-------------------+-----------------------+-------------+</pre>"
      ],
      "text/plain": [
       "+---------+--------------+-------------------+-----------------------+-------------+"
      ]
     },
     "metadata": {},
     "output_type": "display_data"
    },
    {
     "data": {
      "text/html": [
       "<pre>| Iter.   | Elapsed Time | Approx. Objective | Approx. Training RMSE | Step Size   |</pre>"
      ],
      "text/plain": [
       "| Iter.   | Elapsed Time | Approx. Objective | Approx. Training RMSE | Step Size   |"
      ]
     },
     "metadata": {},
     "output_type": "display_data"
    },
    {
     "data": {
      "text/html": [
       "<pre>+---------+--------------+-------------------+-----------------------+-------------+</pre>"
      ],
      "text/plain": [
       "+---------+--------------+-------------------+-----------------------+-------------+"
      ]
     },
     "metadata": {},
     "output_type": "display_data"
    },
    {
     "data": {
      "text/html": [
       "<pre>| Initial | 124us        | 1.13522           | 1.06547               |             |</pre>"
      ],
      "text/plain": [
       "| Initial | 124us        | 1.13522           | 1.06547               |             |"
      ]
     },
     "metadata": {},
     "output_type": "display_data"
    },
    {
     "data": {
      "text/html": [
       "<pre>+---------+--------------+-------------------+-----------------------+-------------+</pre>"
      ],
      "text/plain": [
       "+---------+--------------+-------------------+-----------------------+-------------+"
      ]
     },
     "metadata": {},
     "output_type": "display_data"
    },
    {
     "data": {
      "text/html": [
       "<pre>| 1       | 4.37s        | 0.769511          | 0.877089              | 0.0390625   |</pre>"
      ],
      "text/plain": [
       "| 1       | 4.37s        | 0.769511          | 0.877089              | 0.0390625   |"
      ]
     },
     "metadata": {},
     "output_type": "display_data"
    },
    {
     "data": {
      "text/html": [
       "<pre>| 2       | 8.80s        | 0.732888          | 0.855957              | 0.0390625   |</pre>"
      ],
      "text/plain": [
       "| 2       | 8.80s        | 0.732888          | 0.855957              | 0.0390625   |"
      ]
     },
     "metadata": {},
     "output_type": "display_data"
    },
    {
     "data": {
      "text/html": [
       "<pre>| 3       | 13.19s       | 0.710891          | 0.843005              | 0.0390625   |</pre>"
      ],
      "text/plain": [
       "| 3       | 13.19s       | 0.710891          | 0.843005              | 0.0390625   |"
      ]
     },
     "metadata": {},
     "output_type": "display_data"
    },
    {
     "data": {
      "text/html": [
       "<pre>| 4       | 17.53s       | 0.696797          | 0.834595              | 0.0390625   |</pre>"
      ],
      "text/plain": [
       "| 4       | 17.53s       | 0.696797          | 0.834595              | 0.0390625   |"
      ]
     },
     "metadata": {},
     "output_type": "display_data"
    },
    {
     "data": {
      "text/html": [
       "<pre>| 5       | 21.92s       | 0.68708           | 0.828745              | 0.0390625   |</pre>"
      ],
      "text/plain": [
       "| 5       | 21.92s       | 0.68708           | 0.828745              | 0.0390625   |"
      ]
     },
     "metadata": {},
     "output_type": "display_data"
    },
    {
     "data": {
      "text/html": [
       "<pre>| 7       | 30.71s       | 0.673738          | 0.820642              | 0.0390625   |</pre>"
      ],
      "text/plain": [
       "| 7       | 30.71s       | 0.673738          | 0.820642              | 0.0390625   |"
      ]
     },
     "metadata": {},
     "output_type": "display_data"
    },
    {
     "data": {
      "text/html": [
       "<pre>| 8       | 35.58s       | 0.668802          | 0.817623              | 0.0390625   |</pre>"
      ],
      "text/plain": [
       "| 8       | 35.58s       | 0.668802          | 0.817623              | 0.0390625   |"
      ]
     },
     "metadata": {},
     "output_type": "display_data"
    },
    {
     "data": {
      "text/html": [
       "<pre>| 9       | 40.87s       | 0.664632          | 0.815064              | 0.0390625   |</pre>"
      ],
      "text/plain": [
       "| 9       | 40.87s       | 0.664632          | 0.815064              | 0.0390625   |"
      ]
     },
     "metadata": {},
     "output_type": "display_data"
    },
    {
     "data": {
      "text/html": [
       "<pre>| 10      | 46.61s       | 0.66098           | 0.812816              | 0.0390625   |</pre>"
      ],
      "text/plain": [
       "| 10      | 46.61s       | 0.66098           | 0.812816              | 0.0390625   |"
      ]
     },
     "metadata": {},
     "output_type": "display_data"
    },
    {
     "data": {
      "text/html": [
       "<pre>| 11      | 51.92s       | 0.657635          | 0.810752              | 0.0390625   |</pre>"
      ],
      "text/plain": [
       "| 11      | 51.92s       | 0.657635          | 0.810752              | 0.0390625   |"
      ]
     },
     "metadata": {},
     "output_type": "display_data"
    },
    {
     "data": {
      "text/html": [
       "<pre>| 12      | 57.19s       | 0.65472           | 0.808949              | 0.0390625   |</pre>"
      ],
      "text/plain": [
       "| 12      | 57.19s       | 0.65472           | 0.808949              | 0.0390625   |"
      ]
     },
     "metadata": {},
     "output_type": "display_data"
    },
    {
     "data": {
      "text/html": [
       "<pre>| 13      | 1m 1s        | 0.651979          | 0.807249              | 0.0390625   |</pre>"
      ],
      "text/plain": [
       "| 13      | 1m 1s        | 0.651979          | 0.807249              | 0.0390625   |"
      ]
     },
     "metadata": {},
     "output_type": "display_data"
    },
    {
     "data": {
      "text/html": [
       "<pre>| 14      | 1m 6s        | 0.649559          | 0.805745              | 0.0390625   |</pre>"
      ],
      "text/plain": [
       "| 14      | 1m 6s        | 0.649559          | 0.805745              | 0.0390625   |"
      ]
     },
     "metadata": {},
     "output_type": "display_data"
    },
    {
     "data": {
      "text/html": [
       "<pre>| 15      | 1m 10s       | 0.647391          | 0.804396              | 0.0390625   |</pre>"
      ],
      "text/plain": [
       "| 15      | 1m 10s       | 0.647391          | 0.804396              | 0.0390625   |"
      ]
     },
     "metadata": {},
     "output_type": "display_data"
    },
    {
     "data": {
      "text/html": [
       "<pre>| 16      | 1m 15s       | 0.64537           | 0.803135              | 0.0390625   |</pre>"
      ],
      "text/plain": [
       "| 16      | 1m 15s       | 0.64537           | 0.803135              | 0.0390625   |"
      ]
     },
     "metadata": {},
     "output_type": "display_data"
    },
    {
     "data": {
      "text/html": [
       "<pre>| 17      | 1m 20s       | 0.643565          | 0.802008              | 0.0390625   |</pre>"
      ],
      "text/plain": [
       "| 17      | 1m 20s       | 0.643565          | 0.802008              | 0.0390625   |"
      ]
     },
     "metadata": {},
     "output_type": "display_data"
    },
    {
     "data": {
      "text/html": [
       "<pre>| 18      | 1m 25s       | 0.641967          | 0.801009              | 0.0390625   |</pre>"
      ],
      "text/plain": [
       "| 18      | 1m 25s       | 0.641967          | 0.801009              | 0.0390625   |"
      ]
     },
     "metadata": {},
     "output_type": "display_data"
    },
    {
     "data": {
      "text/html": [
       "<pre>| 19      | 1m 29s       | 0.640575          | 0.800137              | 0.0390625   |</pre>"
      ],
      "text/plain": [
       "| 19      | 1m 29s       | 0.640575          | 0.800137              | 0.0390625   |"
      ]
     },
     "metadata": {},
     "output_type": "display_data"
    },
    {
     "data": {
      "text/html": [
       "<pre>| 20      | 1m 33s       | 0.639393          | 0.799395              | 0.0390625   |</pre>"
      ],
      "text/plain": [
       "| 20      | 1m 33s       | 0.639393          | 0.799395              | 0.0390625   |"
      ]
     },
     "metadata": {},
     "output_type": "display_data"
    },
    {
     "data": {
      "text/html": [
       "<pre>| 21      | 1m 39s       | 0.638683          | 0.798948              | 0.0390625   |</pre>"
      ],
      "text/plain": [
       "| 21      | 1m 39s       | 0.638683          | 0.798948              | 0.0390625   |"
      ]
     },
     "metadata": {},
     "output_type": "display_data"
    },
    {
     "data": {
      "text/html": [
       "<pre>| 22      | 1m 43s       | 0.638696          | 0.798954              | 0.0390625   |</pre>"
      ],
      "text/plain": [
       "| 22      | 1m 43s       | 0.638696          | 0.798954              | 0.0390625   |"
      ]
     },
     "metadata": {},
     "output_type": "display_data"
    },
    {
     "data": {
      "text/html": [
       "<pre>| 23      | 1m 49s       | 0.640096          | 0.799828              | 0.0390625   |</pre>"
      ],
      "text/plain": [
       "| 23      | 1m 49s       | 0.640096          | 0.799828              | 0.0390625   |"
      ]
     },
     "metadata": {},
     "output_type": "display_data"
    },
    {
     "data": {
      "text/html": [
       "<pre>| 24      | 1m 54s       | 0.644837          | 0.802783              | 0.0390625   |</pre>"
      ],
      "text/plain": [
       "| 24      | 1m 54s       | 0.644837          | 0.802783              | 0.0390625   |"
      ]
     },
     "metadata": {},
     "output_type": "display_data"
    },
    {
     "data": {
      "text/html": [
       "<pre>| 25      | 2m 0s        | 0.650036          | 0.806013              | 0.0390625   |</pre>"
      ],
      "text/plain": [
       "| 25      | 2m 0s        | 0.650036          | 0.806013              | 0.0390625   |"
      ]
     },
     "metadata": {},
     "output_type": "display_data"
    },
    {
     "data": {
      "text/html": [
       "<pre>| 26      | 2m 5s        | 0.653217          | 0.807982              | 0.0390625   |</pre>"
      ],
      "text/plain": [
       "| 26      | 2m 5s        | 0.653217          | 0.807982              | 0.0390625   |"
      ]
     },
     "metadata": {},
     "output_type": "display_data"
    },
    {
     "data": {
      "text/html": [
       "<pre>| 27      | 2m 9s        | 0.651823          | 0.807117              | 0.0390625   |</pre>"
      ],
      "text/plain": [
       "| 27      | 2m 9s        | 0.651823          | 0.807117              | 0.0390625   |"
      ]
     },
     "metadata": {},
     "output_type": "display_data"
    },
    {
     "data": {
      "text/html": [
       "<pre>| 28      | 2m 14s       | 0.645613          | 0.803258              | 0.0390625   |</pre>"
      ],
      "text/plain": [
       "| 28      | 2m 14s       | 0.645613          | 0.803258              | 0.0390625   |"
      ]
     },
     "metadata": {},
     "output_type": "display_data"
    },
    {
     "data": {
      "text/html": [
       "<pre>| 29      | 2m 18s       | 0.639757          | 0.799603              | 0.0390625   |</pre>"
      ],
      "text/plain": [
       "| 29      | 2m 18s       | 0.639757          | 0.799603              | 0.0390625   |"
      ]
     },
     "metadata": {},
     "output_type": "display_data"
    },
    {
     "data": {
      "text/html": [
       "<pre>| 30      | 2m 23s       | 0.636148          | 0.797341              | 0.0390625   |</pre>"
      ],
      "text/plain": [
       "| 30      | 2m 23s       | 0.636148          | 0.797341              | 0.0390625   |"
      ]
     },
     "metadata": {},
     "output_type": "display_data"
    },
    {
     "data": {
      "text/html": [
       "<pre>| 31      | 2m 27s       | 0.633898          | 0.795927              | 0.0390625   |</pre>"
      ],
      "text/plain": [
       "| 31      | 2m 27s       | 0.633898          | 0.795927              | 0.0390625   |"
      ]
     },
     "metadata": {},
     "output_type": "display_data"
    },
    {
     "data": {
      "text/html": [
       "<pre>| 32      | 2m 32s       | 0.632476          | 0.795032              | 0.0390625   |</pre>"
      ],
      "text/plain": [
       "| 32      | 2m 32s       | 0.632476          | 0.795032              | 0.0390625   |"
      ]
     },
     "metadata": {},
     "output_type": "display_data"
    },
    {
     "data": {
      "text/html": [
       "<pre>| 33      | 2m 36s       | 0.631225          | 0.794244              | 0.0390625   |</pre>"
      ],
      "text/plain": [
       "| 33      | 2m 36s       | 0.631225          | 0.794244              | 0.0390625   |"
      ]
     },
     "metadata": {},
     "output_type": "display_data"
    },
    {
     "data": {
      "text/html": [
       "<pre>| 34      | 2m 40s       | 0.629674          | 0.793266              | 0.0390625   |</pre>"
      ],
      "text/plain": [
       "| 34      | 2m 40s       | 0.629674          | 0.793266              | 0.0390625   |"
      ]
     },
     "metadata": {},
     "output_type": "display_data"
    },
    {
     "data": {
      "text/html": [
       "<pre>| 35      | 2m 45s       | 0.627845          | 0.79211               | 0.0390625   |</pre>"
      ],
      "text/plain": [
       "| 35      | 2m 45s       | 0.627845          | 0.79211               | 0.0390625   |"
      ]
     },
     "metadata": {},
     "output_type": "display_data"
    },
    {
     "data": {
      "text/html": [
       "<pre>| 36      | 2m 49s       | 0.626102          | 0.791008              | 0.0390625   |</pre>"
      ],
      "text/plain": [
       "| 36      | 2m 49s       | 0.626102          | 0.791008              | 0.0390625   |"
      ]
     },
     "metadata": {},
     "output_type": "display_data"
    },
    {
     "data": {
      "text/html": [
       "<pre>| 37      | 2m 53s       | 0.624661          | 0.790095              | 0.0390625   |</pre>"
      ],
      "text/plain": [
       "| 37      | 2m 53s       | 0.624661          | 0.790095              | 0.0390625   |"
      ]
     },
     "metadata": {},
     "output_type": "display_data"
    },
    {
     "data": {
      "text/html": [
       "<pre>| 38      | 2m 58s       | 0.623891          | 0.789605              | 0.0390625   |</pre>"
      ],
      "text/plain": [
       "| 38      | 2m 58s       | 0.623891          | 0.789605              | 0.0390625   |"
      ]
     },
     "metadata": {},
     "output_type": "display_data"
    },
    {
     "data": {
      "text/html": [
       "<pre>| 39      | 3m 2s        | 0.62394           | 0.789634              | 0.0390625   |</pre>"
      ],
      "text/plain": [
       "| 39      | 3m 2s        | 0.62394           | 0.789634              | 0.0390625   |"
      ]
     },
     "metadata": {},
     "output_type": "display_data"
    },
    {
     "data": {
      "text/html": [
       "<pre>| 40      | 3m 6s        | 0.624168          | 0.789776              | 0.0390625   |</pre>"
      ],
      "text/plain": [
       "| 40      | 3m 6s        | 0.624168          | 0.789776              | 0.0390625   |"
      ]
     },
     "metadata": {},
     "output_type": "display_data"
    },
    {
     "data": {
      "text/html": [
       "<pre>| 41      | 3m 11s       | 0.624631          | 0.790067              | 0.0390625   |</pre>"
      ],
      "text/plain": [
       "| 41      | 3m 11s       | 0.624631          | 0.790067              | 0.0390625   |"
      ]
     },
     "metadata": {},
     "output_type": "display_data"
    },
    {
     "data": {
      "text/html": [
       "<pre>| 42      | 3m 15s       | 0.624657          | 0.790082              | 0.0390625   |</pre>"
      ],
      "text/plain": [
       "| 42      | 3m 15s       | 0.624657          | 0.790082              | 0.0390625   |"
      ]
     },
     "metadata": {},
     "output_type": "display_data"
    },
    {
     "data": {
      "text/html": [
       "<pre>| 43      | 3m 20s       | 0.62388           | 0.789588              | 0.0390625   |</pre>"
      ],
      "text/plain": [
       "| 43      | 3m 20s       | 0.62388           | 0.789588              | 0.0390625   |"
      ]
     },
     "metadata": {},
     "output_type": "display_data"
    },
    {
     "data": {
      "text/html": [
       "<pre>| 44      | 3m 24s       | 0.622468          | 0.788692              | 0.0390625   |</pre>"
      ],
      "text/plain": [
       "| 44      | 3m 24s       | 0.622468          | 0.788692              | 0.0390625   |"
      ]
     },
     "metadata": {},
     "output_type": "display_data"
    },
    {
     "data": {
      "text/html": [
       "<pre>| 45      | 3m 28s       | 0.620572          | 0.787487              | 0.0390625   |</pre>"
      ],
      "text/plain": [
       "| 45      | 3m 28s       | 0.620572          | 0.787487              | 0.0390625   |"
      ]
     },
     "metadata": {},
     "output_type": "display_data"
    },
    {
     "data": {
      "text/html": [
       "<pre>| 46      | 3m 33s       | 0.619079          | 0.786538              | 0.0390625   |</pre>"
      ],
      "text/plain": [
       "| 46      | 3m 33s       | 0.619079          | 0.786538              | 0.0390625   |"
      ]
     },
     "metadata": {},
     "output_type": "display_data"
    },
    {
     "data": {
      "text/html": [
       "<pre>| 47      | 3m 37s       | 0.617558          | 0.785568              | 0.0390625   |</pre>"
      ],
      "text/plain": [
       "| 47      | 3m 37s       | 0.617558          | 0.785568              | 0.0390625   |"
      ]
     },
     "metadata": {},
     "output_type": "display_data"
    },
    {
     "data": {
      "text/html": [
       "<pre>| 48      | 3m 42s       | 0.616499          | 0.784893              | 0.0390625   |</pre>"
      ],
      "text/plain": [
       "| 48      | 3m 42s       | 0.616499          | 0.784893              | 0.0390625   |"
      ]
     },
     "metadata": {},
     "output_type": "display_data"
    },
    {
     "data": {
      "text/html": [
       "<pre>| 49      | 3m 46s       | 0.615775          | 0.784431              | 0.0390625   |</pre>"
      ],
      "text/plain": [
       "| 49      | 3m 46s       | 0.615775          | 0.784431              | 0.0390625   |"
      ]
     },
     "metadata": {},
     "output_type": "display_data"
    },
    {
     "data": {
      "text/html": [
       "<pre>| 50      | 3m 50s       | 0.61574           | 0.784407              | 0.0390625   |</pre>"
      ],
      "text/plain": [
       "| 50      | 3m 50s       | 0.61574           | 0.784407              | 0.0390625   |"
      ]
     },
     "metadata": {},
     "output_type": "display_data"
    },
    {
     "data": {
      "text/html": [
       "<pre>+---------+--------------+-------------------+-----------------------+-------------+</pre>"
      ],
      "text/plain": [
       "+---------+--------------+-------------------+-----------------------+-------------+"
      ]
     },
     "metadata": {},
     "output_type": "display_data"
    },
    {
     "data": {
      "text/html": [
       "<pre>Optimization Complete: Maximum number of passes through the data reached.</pre>"
      ],
      "text/plain": [
       "Optimization Complete: Maximum number of passes through the data reached."
      ]
     },
     "metadata": {},
     "output_type": "display_data"
    },
    {
     "data": {
      "text/html": [
       "<pre>Computing final objective value and training RMSE.</pre>"
      ],
      "text/plain": [
       "Computing final objective value and training RMSE."
      ]
     },
     "metadata": {},
     "output_type": "display_data"
    },
    {
     "data": {
      "text/html": [
       "<pre>       Final objective value: 0.614154</pre>"
      ],
      "text/plain": [
       "       Final objective value: 0.614154"
      ]
     },
     "metadata": {},
     "output_type": "display_data"
    },
    {
     "data": {
      "text/html": [
       "<pre>       Final training RMSE: 0.783396</pre>"
      ],
      "text/plain": [
       "       Final training RMSE: 0.783396"
      ]
     },
     "metadata": {},
     "output_type": "display_data"
    }
   ],
   "source": [
    "m = tc.factorization_recommender.create(training_data, target='rating',user_id='userId', item_id='movieId',item_data=creditinfo)"
   ]
  },
  {
   "cell_type": "code",
   "execution_count": 49,
   "metadata": {
    "ExecuteTime": {
     "end_time": "2020-08-03T02:05:31.434791Z",
     "start_time": "2020-08-03T02:05:31.423547Z"
    }
   },
   "outputs": [
    {
     "data": {
      "text/plain": [
       "Class                            : FactorizationRecommender\n",
       "\n",
       "Schema\n",
       "------\n",
       "User ID                          : userId\n",
       "Item ID                          : movieId\n",
       "Target                           : rating\n",
       "Additional observation features  : 1\n",
       "User side features               : []\n",
       "Item side features               : ['cast', 'crew', 'movieId']\n",
       "\n",
       "Statistics\n",
       "----------\n",
       "Number of observations           : 26004589\n",
       "Number of users                  : 270892\n",
       "Number of items                  : 82976\n",
       "\n",
       "Training summary\n",
       "----------------\n",
       "Training time                    : 256.73\n",
       "\n",
       "Model Parameters\n",
       "----------------\n",
       "Model class                      : FactorizationRecommender\n",
       "num_factors                      : 8\n",
       "binary_target                    : 0\n",
       "side_data_factorization          : 1\n",
       "solver                           : auto\n",
       "nmf                              : 0\n",
       "max_iterations                   : 50\n",
       "\n",
       "Regularization Settings\n",
       "-----------------------\n",
       "regularization                   : 0.0\n",
       "regularization_type              : normal\n",
       "linear_regularization            : 0.0\n",
       "\n",
       "Optimization Settings\n",
       "---------------------\n",
       "init_random_sigma                : 0.01\n",
       "sgd_convergence_interval         : 4\n",
       "sgd_convergence_threshold        : 0.0\n",
       "sgd_max_trial_iterations         : 5\n",
       "sgd_sampling_block_size          : 131072\n",
       "sgd_step_adjustment_interval     : 4\n",
       "sgd_step_size                    : 0.0\n",
       "sgd_trial_sample_minimum_size    : 10000\n",
       "sgd_trial_sample_proportion      : 0.125\n",
       "step_size_decrease_rate          : 0.75\n",
       "additional_iterations_if_unhealthy : 5\n",
       "adagrad_momentum_weighting       : 0.9\n",
       "num_tempering_iterations         : 4\n",
       "tempering_regularization_start_value : 0.0\n",
       "track_exact_loss                 : 0"
      ]
     },
     "execution_count": 49,
     "metadata": {},
     "output_type": "execute_result"
    }
   ],
   "source": [
    "m"
   ]
  },
  {
   "cell_type": "code",
   "execution_count": null,
   "metadata": {},
   "outputs": [],
   "source": []
  },
  {
   "cell_type": "code",
   "execution_count": 66,
   "metadata": {
    "ExecuteTime": {
     "end_time": "2020-08-03T02:23:26.022687Z",
     "start_time": "2020-08-03T02:23:25.973695Z"
    }
   },
   "outputs": [
    {
     "name": "stdout",
     "output_type": "stream",
     "text": [
      "+--------+---------+---------------------+------+\n",
      "| userId | movieId |        score        | rank |\n",
      "+--------+---------+---------------------+------+\n",
      "|   1    |   1196  | 0.11922698771512066 |  1   |\n",
      "|   1    |   6874  | 0.11548285131101255 |  2   |\n",
      "|   1    |   2571  | 0.11526993027439823 |  3   |\n",
      "|   1    |  70286  |  0.1136704506697478 |  4   |\n",
      "|   1    |   4993  | 0.11362289057837592 |  5   |\n",
      "|   1    |  72998  | 0.11104120810826619 |  6   |\n",
      "|   1    |   5952  | 0.10956451848701194 |  7   |\n",
      "|   1    |   2858  | 0.10901367002063328 |  8   |\n",
      "|   1    |   1682  | 0.10748441131026656 |  9   |\n",
      "|   1    |   1270  | 0.10621605537555835 |  10  |\n",
      "+--------+---------+---------------------+------+\n",
      "[10 rows x 4 columns]\n",
      "\n",
      "+--------+---------+--------------------+------+\n",
      "| userId | movieId |       score        | rank |\n",
      "+--------+---------+--------------------+------+\n",
      "|   2    |  142115 | 4.8796215789118165 |  1   |\n",
      "|   2    |  140174 | 4.8657430713721865 |  2   |\n",
      "|   2    |  166643 | 4.735466324324285  |  3   |\n",
      "|   2    |  96966  | 4.590014897818243  |  4   |\n",
      "|   2    |  89745  | 4.582258198941624  |  5   |\n",
      "|   2    |  53774  | 4.580766164297735  |  6   |\n",
      "|   2    |  45533  | 4.535380822206413  |  7   |\n",
      "|   2    |  92259  | 4.525607124502336  |  8   |\n",
      "|   2    |  126090 | 4.520097494656717  |  9   |\n",
      "|   2    |  106487 | 4.498101018900549  |  10  |\n",
      "+--------+---------+--------------------+------+\n",
      "[10 rows x 4 columns]\n",
      "\n"
     ]
    },
    {
     "ename": "TypeError",
     "evalue": "'FactorizationRecommender' object is not subscriptable",
     "output_type": "error",
     "traceback": [
      "\u001b[0;31m---------------------------------------------------------------------------\u001b[0m",
      "\u001b[0;31mTypeError\u001b[0m                                 Traceback (most recent call last)",
      "\u001b[0;32m<ipython-input-66-2a1fe0de9a22>\u001b[0m in \u001b[0;36m<module>\u001b[0;34m\u001b[0m\n\u001b[1;32m      2\u001b[0m \u001b[0mprint\u001b[0m\u001b[0;34m(\u001b[0m\u001b[0mm\u001b[0m\u001b[0;34m.\u001b[0m\u001b[0mrecommend\u001b[0m\u001b[0;34m(\u001b[0m\u001b[0musers\u001b[0m\u001b[0;34m=\u001b[0m\u001b[0;34m[\u001b[0m\u001b[0;34m'2'\u001b[0m\u001b[0;34m]\u001b[0m\u001b[0;34m)\u001b[0m\u001b[0;34m)\u001b[0m\u001b[0;34m\u001b[0m\u001b[0;34m\u001b[0m\u001b[0m\n\u001b[1;32m      3\u001b[0m \u001b[0;34m\u001b[0m\u001b[0m\n\u001b[0;32m----> 4\u001b[0;31m \u001b[0mm\u001b[0m\u001b[0;34m[\u001b[0m\u001b[0;34m'item_side_data_column_names'\u001b[0m\u001b[0;34m]\u001b[0m\u001b[0;34m\u001b[0m\u001b[0;34m\u001b[0m\u001b[0m\n\u001b[0m",
      "\u001b[0;31mTypeError\u001b[0m: 'FactorizationRecommender' object is not subscriptable"
     ]
    }
   ],
   "source": [
    "print(model.recommend(users=['1']))\n",
    "print(m.recommend(users=['2']))\n",
    "\n",
    "m['item_side_data_column_names']"
   ]
  },
  {
   "cell_type": "code",
   "execution_count": 43,
   "metadata": {
    "ExecuteTime": {
     "end_time": "2020-08-02T23:14:31.648377Z",
     "start_time": "2020-08-02T23:14:31.174094Z"
    }
   },
   "outputs": [
    {
     "data": {
      "text/html": [
       "<pre>Preparing data set.</pre>"
      ],
      "text/plain": [
       "Preparing data set."
      ]
     },
     "metadata": {},
     "output_type": "display_data"
    },
    {
     "data": {
      "text/html": [
       "<pre>    Data has 6 observations with 2 users and 5 items.</pre>"
      ],
      "text/plain": [
       "    Data has 6 observations with 2 users and 5 items."
      ]
     },
     "metadata": {},
     "output_type": "display_data"
    },
    {
     "data": {
      "text/html": [
       "<pre>    Data prepared in: 0.007451s</pre>"
      ],
      "text/plain": [
       "    Data prepared in: 0.007451s"
      ]
     },
     "metadata": {},
     "output_type": "display_data"
    },
    {
     "data": {
      "text/html": [
       "<pre>Training factorization_recommender for recommendations.</pre>"
      ],
      "text/plain": [
       "Training factorization_recommender for recommendations."
      ]
     },
     "metadata": {},
     "output_type": "display_data"
    },
    {
     "data": {
      "text/html": [
       "<pre>+--------------------------------+--------------------------------------------------+----------+</pre>"
      ],
      "text/plain": [
       "+--------------------------------+--------------------------------------------------+----------+"
      ]
     },
     "metadata": {},
     "output_type": "display_data"
    },
    {
     "data": {
      "text/html": [
       "<pre>| Parameter                      | Description                                      | Value    |</pre>"
      ],
      "text/plain": [
       "| Parameter                      | Description                                      | Value    |"
      ]
     },
     "metadata": {},
     "output_type": "display_data"
    },
    {
     "data": {
      "text/html": [
       "<pre>+--------------------------------+--------------------------------------------------+----------+</pre>"
      ],
      "text/plain": [
       "+--------------------------------+--------------------------------------------------+----------+"
      ]
     },
     "metadata": {},
     "output_type": "display_data"
    },
    {
     "data": {
      "text/html": [
       "<pre>| num_factors                    | Factor Dimension                                 | 8        |</pre>"
      ],
      "text/plain": [
       "| num_factors                    | Factor Dimension                                 | 8        |"
      ]
     },
     "metadata": {},
     "output_type": "display_data"
    },
    {
     "data": {
      "text/html": [
       "<pre>| regularization                 | L2 Regularization on Factors                     | 1e-08    |</pre>"
      ],
      "text/plain": [
       "| regularization                 | L2 Regularization on Factors                     | 1e-08    |"
      ]
     },
     "metadata": {},
     "output_type": "display_data"
    },
    {
     "data": {
      "text/html": [
       "<pre>| solver                         | Solver used for training                         | sgd      |</pre>"
      ],
      "text/plain": [
       "| solver                         | Solver used for training                         | sgd      |"
      ]
     },
     "metadata": {},
     "output_type": "display_data"
    },
    {
     "data": {
      "text/html": [
       "<pre>| linear_regularization          | L2 Regularization on Linear Coefficients         | 1e-10    |</pre>"
      ],
      "text/plain": [
       "| linear_regularization          | L2 Regularization on Linear Coefficients         | 1e-10    |"
      ]
     },
     "metadata": {},
     "output_type": "display_data"
    },
    {
     "data": {
      "text/html": [
       "<pre>| max_iterations                 | Maximum Number of Iterations                     | 50       |</pre>"
      ],
      "text/plain": [
       "| max_iterations                 | Maximum Number of Iterations                     | 50       |"
      ]
     },
     "metadata": {},
     "output_type": "display_data"
    },
    {
     "data": {
      "text/html": [
       "<pre>+--------------------------------+--------------------------------------------------+----------+</pre>"
      ],
      "text/plain": [
       "+--------------------------------+--------------------------------------------------+----------+"
      ]
     },
     "metadata": {},
     "output_type": "display_data"
    },
    {
     "data": {
      "text/html": [
       "<pre>  Optimizing model using SGD; tuning step size.</pre>"
      ],
      "text/plain": [
       "  Optimizing model using SGD; tuning step size."
      ]
     },
     "metadata": {},
     "output_type": "display_data"
    },
    {
     "data": {
      "text/html": [
       "<pre>  Using 6 / 6 points for tuning the step size.</pre>"
      ],
      "text/plain": [
       "  Using 6 / 6 points for tuning the step size."
      ]
     },
     "metadata": {},
     "output_type": "display_data"
    },
    {
     "data": {
      "text/html": [
       "<pre>+---------+-------------------+------------------------------------------+</pre>"
      ],
      "text/plain": [
       "+---------+-------------------+------------------------------------------+"
      ]
     },
     "metadata": {},
     "output_type": "display_data"
    },
    {
     "data": {
      "text/html": [
       "<pre>| Attempt | Initial Step Size | Estimated Objective Value                |</pre>"
      ],
      "text/plain": [
       "| Attempt | Initial Step Size | Estimated Objective Value                |"
      ]
     },
     "metadata": {},
     "output_type": "display_data"
    },
    {
     "data": {
      "text/html": [
       "<pre>+---------+-------------------+------------------------------------------+</pre>"
      ],
      "text/plain": [
       "+---------+-------------------+------------------------------------------+"
      ]
     },
     "metadata": {},
     "output_type": "display_data"
    },
    {
     "data": {
      "text/html": [
       "<pre>| 0       | 25                | Not Viable                               |</pre>"
      ],
      "text/plain": [
       "| 0       | 25                | Not Viable                               |"
      ]
     },
     "metadata": {},
     "output_type": "display_data"
    },
    {
     "data": {
      "text/html": [
       "<pre>| 1       | 6.25              | Not Viable                               |</pre>"
      ],
      "text/plain": [
       "| 1       | 6.25              | Not Viable                               |"
      ]
     },
     "metadata": {},
     "output_type": "display_data"
    },
    {
     "data": {
      "text/html": [
       "<pre>| 2       | 1.5625            | 0.189899                                 |</pre>"
      ],
      "text/plain": [
       "| 2       | 1.5625            | 0.189899                                 |"
      ]
     },
     "metadata": {},
     "output_type": "display_data"
    },
    {
     "data": {
      "text/html": [
       "<pre>| 3       | 0.78125           | 0.00383901                               |</pre>"
      ],
      "text/plain": [
       "| 3       | 0.78125           | 0.00383901                               |"
      ]
     },
     "metadata": {},
     "output_type": "display_data"
    },
    {
     "data": {
      "text/html": [
       "<pre>| 4       | 0.390625          | 0.0147896                                |</pre>"
      ],
      "text/plain": [
       "| 4       | 0.390625          | 0.0147896                                |"
      ]
     },
     "metadata": {},
     "output_type": "display_data"
    },
    {
     "data": {
      "text/html": [
       "<pre>+---------+-------------------+------------------------------------------+</pre>"
      ],
      "text/plain": [
       "+---------+-------------------+------------------------------------------+"
      ]
     },
     "metadata": {},
     "output_type": "display_data"
    },
    {
     "data": {
      "text/html": [
       "<pre>| Final   | 0.78125           | 0.00383901                               |</pre>"
      ],
      "text/plain": [
       "| Final   | 0.78125           | 0.00383901                               |"
      ]
     },
     "metadata": {},
     "output_type": "display_data"
    },
    {
     "data": {
      "text/html": [
       "<pre>+---------+-------------------+------------------------------------------+</pre>"
      ],
      "text/plain": [
       "+---------+-------------------+------------------------------------------+"
      ]
     },
     "metadata": {},
     "output_type": "display_data"
    },
    {
     "data": {
      "text/html": [
       "<pre>Starting Optimization.</pre>"
      ],
      "text/plain": [
       "Starting Optimization."
      ]
     },
     "metadata": {},
     "output_type": "display_data"
    },
    {
     "data": {
      "text/html": [
       "<pre>+---------+--------------+-------------------+-----------------------+-------------+</pre>"
      ],
      "text/plain": [
       "+---------+--------------+-------------------+-----------------------+-------------+"
      ]
     },
     "metadata": {},
     "output_type": "display_data"
    },
    {
     "data": {
      "text/html": [
       "<pre>| Iter.   | Elapsed Time | Approx. Objective | Approx. Training RMSE | Step Size   |</pre>"
      ],
      "text/plain": [
       "| Iter.   | Elapsed Time | Approx. Objective | Approx. Training RMSE | Step Size   |"
      ]
     },
     "metadata": {},
     "output_type": "display_data"
    },
    {
     "data": {
      "text/html": [
       "<pre>+---------+--------------+-------------------+-----------------------+-------------+</pre>"
      ],
      "text/plain": [
       "+---------+--------------+-------------------+-----------------------+-------------+"
      ]
     },
     "metadata": {},
     "output_type": "display_data"
    },
    {
     "data": {
      "text/html": [
       "<pre>| Initial | 130us        | 1.8057            | 1.34376               |             |</pre>"
      ],
      "text/plain": [
       "| Initial | 130us        | 1.8057            | 1.34376               |             |"
      ]
     },
     "metadata": {},
     "output_type": "display_data"
    }
   ],
   "source": [
    "data = tc.SFrame({'user_id': [\"Ann\", \"Ann\", \"Ann\", \"Brian\", \"Brian\", \"Brian\"],\n",
    "                          'item_id': [\"Item1\", \"Item2\", \"Item4\", \"Item2\", \"Item3\", \"Item5\"],\n",
    "                          'rating': [1, 3, 2, 5, 4, 2]})\n",
    "m = tc.factorization_recommender.create(data, target='rating')\n",
    "\n",
    "recommendations = m.recommend()"
   ]
  },
  {
   "cell_type": "code",
   "execution_count": 44,
   "metadata": {
    "ExecuteTime": {
     "end_time": "2020-08-02T23:14:38.667354Z",
     "start_time": "2020-08-02T23:14:38.656443Z"
    }
   },
   "outputs": [
    {
     "data": {
      "text/html": [
       "<div style=\"max-height:1000px;max-width:1500px;overflow:auto;\"><table frame=\"box\" rules=\"cols\">\n",
       "    <tr>\n",
       "        <th style=\"padding-left: 1em; padding-right: 1em; text-align: center\">user_id</th>\n",
       "        <th style=\"padding-left: 1em; padding-right: 1em; text-align: center\">item_id</th>\n",
       "        <th style=\"padding-left: 1em; padding-right: 1em; text-align: center\">score</th>\n",
       "        <th style=\"padding-left: 1em; padding-right: 1em; text-align: center\">rank</th>\n",
       "    </tr>\n",
       "    <tr>\n",
       "        <td style=\"padding-left: 1em; padding-right: 1em; text-align: center; vertical-align: top\">Ann</td>\n",
       "        <td style=\"padding-left: 1em; padding-right: 1em; text-align: center; vertical-align: top\">Item3</td>\n",
       "        <td style=\"padding-left: 1em; padding-right: 1em; text-align: center; vertical-align: top\">2.0582201977570853</td>\n",
       "        <td style=\"padding-left: 1em; padding-right: 1em; text-align: center; vertical-align: top\">1</td>\n",
       "    </tr>\n",
       "    <tr>\n",
       "        <td style=\"padding-left: 1em; padding-right: 1em; text-align: center; vertical-align: top\">Ann</td>\n",
       "        <td style=\"padding-left: 1em; padding-right: 1em; text-align: center; vertical-align: top\">Item5</td>\n",
       "        <td style=\"padding-left: 1em; padding-right: 1em; text-align: center; vertical-align: top\">0.05830140908559178</td>\n",
       "        <td style=\"padding-left: 1em; padding-right: 1em; text-align: center; vertical-align: top\">2</td>\n",
       "    </tr>\n",
       "    <tr>\n",
       "        <td style=\"padding-left: 1em; padding-right: 1em; text-align: center; vertical-align: top\">Brian</td>\n",
       "        <td style=\"padding-left: 1em; padding-right: 1em; text-align: center; vertical-align: top\">Item4</td>\n",
       "        <td style=\"padding-left: 1em; padding-right: 1em; text-align: center; vertical-align: top\">3.942319949467977</td>\n",
       "        <td style=\"padding-left: 1em; padding-right: 1em; text-align: center; vertical-align: top\">1</td>\n",
       "    </tr>\n",
       "    <tr>\n",
       "        <td style=\"padding-left: 1em; padding-right: 1em; text-align: center; vertical-align: top\">Brian</td>\n",
       "        <td style=\"padding-left: 1em; padding-right: 1em; text-align: center; vertical-align: top\">Item1</td>\n",
       "        <td style=\"padding-left: 1em; padding-right: 1em; text-align: center; vertical-align: top\">2.9422332843144736</td>\n",
       "        <td style=\"padding-left: 1em; padding-right: 1em; text-align: center; vertical-align: top\">2</td>\n",
       "    </tr>\n",
       "</table>\n",
       "[4 rows x 4 columns]<br/>\n",
       "</div>"
      ],
      "text/plain": [
       "Columns:\n",
       "\tuser_id\tstr\n",
       "\titem_id\tstr\n",
       "\tscore\tfloat\n",
       "\trank\tint\n",
       "\n",
       "Rows: 4\n",
       "\n",
       "Data:\n",
       "+---------+---------+---------------------+------+\n",
       "| user_id | item_id |        score        | rank |\n",
       "+---------+---------+---------------------+------+\n",
       "|   Ann   |  Item3  |  2.0582201977570853 |  1   |\n",
       "|   Ann   |  Item5  | 0.05830140908559178 |  2   |\n",
       "|  Brian  |  Item4  |  3.942319949467977  |  1   |\n",
       "|  Brian  |  Item1  |  2.9422332843144736 |  2   |\n",
       "+---------+---------+---------------------+------+\n",
       "[4 rows x 4 columns]"
      ]
     },
     "execution_count": 44,
     "metadata": {},
     "output_type": "execute_result"
    }
   ],
   "source": [
    "recommendations"
   ]
  },
  {
   "cell_type": "code",
   "execution_count": null,
   "metadata": {},
   "outputs": [],
   "source": []
  }
 ],
 "metadata": {
  "kernelspec": {
   "display_name": "Python 3",
   "language": "python",
   "name": "python3"
  },
  "language_info": {
   "codemirror_mode": {
    "name": "ipython",
    "version": 3
   },
   "file_extension": ".py",
   "mimetype": "text/x-python",
   "name": "python",
   "nbconvert_exporter": "python",
   "pygments_lexer": "ipython3",
   "version": "3.8.2"
  },
  "latex_envs": {
   "LaTeX_envs_menu_present": true,
   "autoclose": false,
   "autocomplete": true,
   "bibliofile": "biblio.bib",
   "cite_by": "apalike",
   "current_citInitial": 1,
   "eqLabelWithNumbers": true,
   "eqNumInitial": 1,
   "hotkeys": {
    "equation": "Ctrl-E",
    "itemize": "Ctrl-I"
   },
   "labels_anchors": false,
   "latex_user_defs": false,
   "report_style_numbering": false,
   "user_envs_cfg": false
  },
  "toc": {
   "base_numbering": 1,
   "nav_menu": {},
   "number_sections": false,
   "sideBar": true,
   "skip_h1_title": false,
   "title_cell": "Table of Contents",
   "title_sidebar": "Contents",
   "toc_cell": true,
   "toc_position": {},
   "toc_section_display": true,
   "toc_window_display": false
  },
  "varInspector": {
   "cols": {
    "lenName": 16,
    "lenType": 16,
    "lenVar": 40
   },
   "kernels_config": {
    "python": {
     "delete_cmd_postfix": "",
     "delete_cmd_prefix": "del ",
     "library": "var_list.py",
     "varRefreshCmd": "print(var_dic_list())"
    },
    "r": {
     "delete_cmd_postfix": ") ",
     "delete_cmd_prefix": "rm(",
     "library": "var_list.r",
     "varRefreshCmd": "cat(var_dic_list()) "
    }
   },
   "types_to_exclude": [
    "module",
    "function",
    "builtin_function_or_method",
    "instance",
    "_Feature"
   ],
   "window_display": false
  }
 },
 "nbformat": 4,
 "nbformat_minor": 4
}
