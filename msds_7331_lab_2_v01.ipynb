{
 "cells": [
  {
   "cell_type": "markdown",
   "metadata": {},
   "source": [
    "<font size=6> <b> SMU Lab Two - MSDS7331 - Machine Learning-1 </b> </font>\n",
    "\n",
    "<font size=5> <b> Summer 2020 Group - Sachin, Ikenna, Edgar, Dustin </b></font> \n",
    "\n",
    "\n",
    "\n",
    "\n",
    "<img src=\"https://github.com/sachinac/ML7331/blob/master/data/data_mining.jpg?raw=true\"> \n",
    "\n",
    "<p align=\"center\"><font size=5> <b> Health Care Fraud Detection  </b></font> </p>"
   ]
  },
  {
   "cell_type": "markdown",
   "metadata": {
    "toc": true
   },
   "source": [
    "<h1>Table of Contents<span class=\"tocSkip\"></span></h1>\n",
    "<div class=\"toc\"><ul class=\"toc-item\"><li><span><a href=\"#Import-Libraries\" data-toc-modified-id=\"Import-Libraries-1\">Import Libraries</a></span></li><li><span><a href=\"#Data-Preparation-Part-1\" data-toc-modified-id=\"Data-Preparation-Part-1-2\">Data Preparation Part 1</a></span><ul class=\"toc-item\"><li><span><a href=\"#Load-Data\" data-toc-modified-id=\"Load-Data-2.1\">Load Data</a></span></li><li><span><a href=\"#Set-Categorical-Variables\" data-toc-modified-id=\"Set-Categorical-Variables-2.2\">Set Categorical Variables</a></span></li><li><span><a href=\"#Set-Float-Variables\" data-toc-modified-id=\"Set-Float-Variables-2.3\">Set Float Variables</a></span></li><li><span><a href=\"#Set-Integer-Variables\" data-toc-modified-id=\"Set-Integer-Variables-2.4\">Set Integer Variables</a></span></li><li><span><a href=\"#Set-Date-Variables\" data-toc-modified-id=\"Set-Date-Variables-2.5\">Set Date Variables</a></span></li><li><span><a href=\"#Recoding-Binary-and-Categorical-Features\" data-toc-modified-id=\"Recoding-Binary-and-Categorical-Features-2.6\">Recoding Binary and Categorical Features</a></span></li><li><span><a href=\"#Final-Dataframe---All-Features\" data-toc-modified-id=\"Final-Dataframe---All-Features-2.7\">Final Dataframe - All Features</a></span></li><li><span><a href=\"#Set-Target-Variable\" data-toc-modified-id=\"Set-Target-Variable-2.8\">Set Target Variable</a></span></li><li><span><a href=\"#One-Hot-Encoding-using-SciKit-Learn-Multi-Label-Binarizer\" data-toc-modified-id=\"One-Hot-Encoding-using-SciKit-Learn-Multi-Label-Binarizer-2.9\">One Hot Encoding using SciKit Learn Multi Label Binarizer</a></span></li><li><span><a href=\"#One-Hot-Encoding-using-Pandas\" data-toc-modified-id=\"One-Hot-Encoding-using-Pandas-2.10\">One Hot Encoding using Pandas</a></span></li><li><span><a href=\"#Post-processing-Encoded-Features\" data-toc-modified-id=\"Post-processing-Encoded-Features-2.11\">Post-processing Encoded Features</a></span></li><li><span><a href=\"#Remove-'None'-columns\" data-toc-modified-id=\"Remove-'None'-columns-2.12\">Remove 'None' columns</a></span><ul class=\"toc-item\"><li><span><a href=\"#Regression-DataSet\" data-toc-modified-id=\"Regression-DataSet-2.12.1\">Regression DataSet</a></span></li></ul></li><li><span><a href=\"#MinMaxScaler\" data-toc-modified-id=\"MinMaxScaler-2.13\">MinMaxScaler</a></span><ul class=\"toc-item\"><li><span><a href=\"#Classification-Setting\" data-toc-modified-id=\"Classification-Setting-2.13.1\">Classification Setting</a></span></li><li><span><a href=\"#Regression-Setting\" data-toc-modified-id=\"Regression-Setting-2.13.2\">Regression Setting</a></span></li></ul></li></ul></li><li><span><a href=\"#Data-Preparation-Part-2\" data-toc-modified-id=\"Data-Preparation-Part-2-3\">Data Preparation Part 2</a></span><ul class=\"toc-item\"><li><span><a href=\"#Classification-Final-DataSet\" data-toc-modified-id=\"Classification-Final-DataSet-3.1\">Classification Final DataSet</a></span></li><li><span><a href=\"#Classifcation-Target-Variable\" data-toc-modified-id=\"Classifcation-Target-Variable-3.2\">Classifcation Target Variable</a></span></li><li><span><a href=\"#Regression-Final-Dataset\" data-toc-modified-id=\"Regression-Final-Dataset-3.3\">Regression Final Dataset</a></span></li><li><span><a href=\"#Regression-Target-Variable\" data-toc-modified-id=\"Regression-Target-Variable-3.4\">Regression Target Variable</a></span></li></ul></li><li><span><a href=\"#Modeling-and-Evaluation-1\" data-toc-modified-id=\"Modeling-and-Evaluation-1-4\">Modeling and Evaluation 1</a></span><ul class=\"toc-item\"><li><span><a href=\"#Task-1:-Classification---Provider-Fraud\" data-toc-modified-id=\"Task-1:-Classification---Provider-Fraud-4.1\">Task 1: Classification - Provider Fraud</a></span></li><li><span><a href=\"#Task-2:-Regression\" data-toc-modified-id=\"Task-2:-Regression-4.2\">Task 2: Regression</a></span></li></ul></li><li><span><a href=\"#Modeling-and-Evaluation-2\" data-toc-modified-id=\"Modeling-and-Evaluation-2-5\">Modeling and Evaluation 2</a></span><ul class=\"toc-item\"><li><span><a href=\"#Sparse-Matrix-Conversion-and-Test/Train-Split\" data-toc-modified-id=\"Sparse-Matrix-Conversion-and-Test/Train-Split-5.1\">Sparse Matrix Conversion and Test/Train Split</a></span></li><li><span><a href=\"#Cross-Validation-Method\" data-toc-modified-id=\"Cross-Validation-Method-5.2\">Cross Validation Method</a></span></li></ul></li><li><span><a href=\"#Modeling-and-Evaluations-3\" data-toc-modified-id=\"Modeling-and-Evaluations-3-6\">Modeling and Evaluations 3</a></span><ul class=\"toc-item\"><li><span><a href=\"#function-Defnitions\" data-toc-modified-id=\"function-Defnitions-6.1\">function Defnitions</a></span><ul class=\"toc-item\"><li><span><a href=\"#1.0-testPerformance\" data-toc-modified-id=\"1.0-testPerformance-6.1.1\">1.0 testPerformance</a></span></li><li><span><a href=\"#2.0-Display-Weights\" data-toc-modified-id=\"2.0-Display-Weights-6.1.2\">2.0 Display Weights</a></span></li><li><span><a href=\"#3.0-lab2_grid_search\" data-toc-modified-id=\"3.0-lab2_grid_search-6.1.3\">3.0 lab2_grid_search</a></span></li></ul></li><li><span><a href=\"#Classification-Models\" data-toc-modified-id=\"Classification-Models-6.2\">Classification Models</a></span><ul class=\"toc-item\"><li><span><a href=\"#Logistic-Regression\" data-toc-modified-id=\"Logistic-Regression-6.2.1\">Logistic Regression</a></span><ul class=\"toc-item\"><li><span><a href=\"#Logistic-Parameters\" data-toc-modified-id=\"Logistic-Parameters-6.2.1.1\">Logistic Parameters</a></span></li><li><span><a href=\"#Parameter-Grid\" data-toc-modified-id=\"Parameter-Grid-6.2.1.2\">Parameter Grid</a></span></li><li><span><a href=\"#GridSearch\" data-toc-modified-id=\"GridSearch-6.2.1.3\">GridSearch</a></span></li><li><span><a href=\"#Logistic-weights\" data-toc-modified-id=\"Logistic-weights-6.2.1.4\">Logistic weights</a></span></li></ul></li><li><span><a href=\"#Random-forest\" data-toc-modified-id=\"Random-forest-6.2.2\">Random forest</a></span><ul class=\"toc-item\"><li><span><a href=\"#Random-Forest-Parameters\" data-toc-modified-id=\"Random-Forest-Parameters-6.2.2.1\">Random Forest Parameters</a></span></li><li><span><a href=\"#Parameter-Grid\" data-toc-modified-id=\"Parameter-Grid-6.2.2.2\">Parameter Grid</a></span></li><li><span><a href=\"#GridSearch\" data-toc-modified-id=\"GridSearch-6.2.2.3\">GridSearch</a></span></li><li><span><a href=\"#Random-Forest-Weights\" data-toc-modified-id=\"Random-Forest-Weights-6.2.2.4\">Random Forest Weights</a></span></li></ul></li><li><span><a href=\"#Naive-Bayes\" data-toc-modified-id=\"Naive-Bayes-6.2.3\">Naive Bayes</a></span><ul class=\"toc-item\"><li><span><a href=\"#Naive-Bayes-Parameters\" data-toc-modified-id=\"Naive-Bayes-Parameters-6.2.3.1\">Naive Bayes Parameters</a></span></li><li><span><a href=\"#Parameter-Grid\" data-toc-modified-id=\"Parameter-Grid-6.2.3.2\">Parameter Grid</a></span></li><li><span><a href=\"#Grid-Search\" data-toc-modified-id=\"Grid-Search-6.2.3.3\">Grid Search</a></span></li><li><span><a href=\"#Naive-Bayes-Weights\" data-toc-modified-id=\"Naive-Bayes-Weights-6.2.3.4\">Naive Bayes Weights</a></span></li></ul></li></ul></li><li><span><a href=\"#Regression-Models\" data-toc-modified-id=\"Regression-Models-6.3\">Regression Models</a></span><ul class=\"toc-item\"><li><span><a href=\"#Split-Train/Test\" data-toc-modified-id=\"Split-Train/Test-6.3.1\">Split Train/Test</a></span></li><li><span><a href=\"#Multiple-Linear-Regression\" data-toc-modified-id=\"Multiple-Linear-Regression-6.3.2\">Multiple Linear Regression</a></span></li><li><span><a href=\"#Random-Forest\" data-toc-modified-id=\"Random-Forest-6.3.3\">Random Forest</a></span></li><li><span><a href=\"#kNN\" data-toc-modified-id=\"kNN-6.3.4\">kNN</a></span></li></ul></li></ul></li><li><span><a href=\"#Modeling-and-Evaluations-4\" data-toc-modified-id=\"Modeling-and-Evaluations-4-7\">Modeling and Evaluations 4</a></span></li><li><span><a href=\"#Modeling-and-Evaluations-5\" data-toc-modified-id=\"Modeling-and-Evaluations-5-8\">Modeling and Evaluations 5</a></span></li><li><span><a href=\"#Modeling-and-Evaluations-6\" data-toc-modified-id=\"Modeling-and-Evaluations-6-9\">Modeling and Evaluations 6</a></span></li><li><span><a href=\"#Deployment\" data-toc-modified-id=\"Deployment-10\">Deployment</a></span></li><li><span><a href=\"#Exceptional-Work\" data-toc-modified-id=\"Exceptional-Work-11\">Exceptional Work</a></span><ul class=\"toc-item\"><li><ul class=\"toc-item\"><li><span><a href=\"#Preprocessing:\" data-toc-modified-id=\"Preprocessing:-11.0.1\">Preprocessing:</a></span></li><li><span><a href=\"#Pipelines-and-Grid-Search:\" data-toc-modified-id=\"Pipelines-and-Grid-Search:-11.0.2\">Pipelines and Grid Search:</a></span></li></ul></li></ul></li><li><span><a href=\"#References\" data-toc-modified-id=\"References-12\">References</a></span></li></ul></div>"
   ]
  },
  {
   "cell_type": "markdown",
   "metadata": {},
   "source": [
    "# Import Libraries"
   ]
  },
  {
   "cell_type": "code",
   "execution_count": 231,
   "metadata": {
    "ExecuteTime": {
     "end_time": "2020-07-05T05:15:45.813003Z",
     "start_time": "2020-07-05T05:15:44.894500Z"
    }
   },
   "outputs": [],
   "source": [
    "import pandas as pd\n",
    "import numpy as np\n",
    "import plotly.graph_objects as go\n",
    "import seaborn as sns\n",
    "import matplotlib.pyplot as plt\n",
    "import datetime as dt\n",
    "import timeit\n",
    "import warnings \n",
    "\n",
    "from math import sqrt\n",
    "\n",
    "from scipy.sparse import csc_matrix\n",
    "from scipy import interp\n",
    "\n",
    "from sklearn import metrics\n",
    "from sklearn.pipeline import Pipeline, make_pipeline\n",
    "from sklearn.model_selection import cross_val_score, ShuffleSplit, train_test_split, GridSearchCV\n",
    "from sklearn.preprocessing import MinMaxScaler, MultiLabelBinarizer\n",
    "from sklearn.linear_model import LogisticRegression, LinearRegression, Lasso, Ridge\n",
    "from sklearn.ensemble import RandomForestClassifier, RandomForestRegressor\n",
    "from sklearn.naive_bayes import MultinomialNB\n",
    "from sklearn.neighbors import KNeighborsClassifier, KNeighborsRegressor \n",
    "from sklearn.metrics import roc_curve, auc, recall_score\n",
    "from sklearn.tree import DecisionTreeRegressor\n",
    "\n",
    "from yellowbrick.regressor import ResidualsPlot, CooksDistance, PredictionError\n",
    "from yellowbrick.model_selection import LearningCurve, ValidationCurve\n",
    "\n",
    "lab2_random_state  = 100"
   ]
  },
  {
   "cell_type": "markdown",
   "metadata": {},
   "source": [
    "# **Data Preparation Part 1**"
   ]
  },
  {
   "cell_type": "markdown",
   "metadata": {},
   "source": [
    "## Load Data"
   ]
  },
  {
   "cell_type": "markdown",
   "metadata": {},
   "source": [
    "Load data into memory. EDA was already performed on this data. We had originally received Beneficiary, Encounters and target variable datasets in three different spreadsheets and EDA combined that into single spreadsheet using keys of the tables. We still need to perform some additional operations before we actually start with modeling. So in first we prepare our data for modeling as follows :\n",
    "* Prepare variables. Setup data type correctly.\n",
    "* Remove unnecessary variables\n",
    "* Transform categorical features into dummy variables \n",
    "* Feature selection.\n",
    "\n",
    "Lets first print the information of this dataframe. As we can see from below dataframe info this data has total of 79 features. We definately dont need all features. This step will process some of the features before we actually use this data for modeling."
   ]
  },
  {
   "cell_type": "code",
   "execution_count": 2,
   "metadata": {
    "ExecuteTime": {
     "end_time": "2020-07-05T05:15:48.623475Z",
     "start_time": "2020-07-05T05:15:48.092861Z"
    },
    "tags": []
   },
   "outputs": [],
   "source": [
    "lab2_df = pd.read_csv('data/final_fraud_dataset.csv',index_col=0)"
   ]
  },
  {
   "cell_type": "markdown",
   "metadata": {},
   "source": [
    "## Set Categorical Variables"
   ]
  },
  {
   "cell_type": "markdown",
   "metadata": {
    "ExecuteTime": {
     "end_time": "2020-06-30T08:51:44.322459Z",
     "start_time": "2020-06-30T08:51:44.318865Z"
    }
   },
   "source": [
    "Following are nominal categorical attributes. Pandas requires these to be datatype of 'object' or 'category'. We are setting nominal categorical variables as 'object'. Here is the list of categorical variables :\n",
    "\n",
    "* Race\n",
    "* Gender\n",
    "* RenalDiseaseIndicator\n",
    "* State\n",
    "* County\n",
    "* AttendingPhysicianPresent\n",
    "* OtherPhysicianPresent\n",
    "* OperatingPhysicianPresent\n",
    "* 11 Chronic Conditions\n",
    "\n"
   ]
  },
  {
   "cell_type": "code",
   "execution_count": 3,
   "metadata": {
    "ExecuteTime": {
     "end_time": "2020-07-05T05:15:50.215296Z",
     "start_time": "2020-07-05T05:15:50.124803Z"
    },
    "tags": []
   },
   "outputs": [],
   "source": [
    "cat_preds = ['Gender','Race','RenalDiseaseIndicator','State','County',\n",
    "             'NoOfMonths_PartACov','NoOfMonths_PartBCov',\n",
    "             'ChronicCond_Alzheimer','ChronicCond_Heartfailure',\n",
    "             'ChronicCond_KidneyDisease','ChronicCond_Cancer','ChronicCond_ObstrPulmonary',\n",
    "             'ChronicCond_Depression','ChronicCond_Diabetes','ChronicCond_IschemicHeart',\n",
    "             'ChronicCond_Osteoporasis','ChronicCond_rheumatoidarthritis','ChronicCond_stroke',\n",
    "             'Alive','ClmAdmitDiagnosisCode','DiagnosisGroupCode',\n",
    "             'ClmDiagnosisCode_1','ClmDiagnosisCode_2','ClmDiagnosisCode_3',\n",
    "             'ClmDiagnosisCode_4','ClmDiagnosisCode_5','ClmDiagnosisCode_6',\n",
    "             'ClmDiagnosisCode_7','ClmDiagnosisCode_8','ClmDiagnosisCode_9',\n",
    "             'ClmDiagnosisCode_10','ClmProcedureCode_1','ClmProcedureCode_2',\n",
    "             'ClmProcedureCode_3','ClmProcedureCode_4','ClmProcedureCode_5',\n",
    "             'AttendingPhysicianPresent','OtherPhysicianPresent','OperatingPhysicianPresent']\n",
    "\n",
    "lab2_df[cat_preds]   = lab2_df[cat_preds].astype('object')\n"
   ]
  },
  {
   "cell_type": "markdown",
   "metadata": {},
   "source": [
    "## Set Float Variables"
   ]
  },
  {
   "cell_type": "markdown",
   "metadata": {},
   "source": [
    "Following varibles are required to be datatype of floating point. These are amounts and hence it makes sense to changt it's type to float\n",
    "\n",
    "* InscClaimAmtReimbursed\n",
    "* IPAnnualReimbursementAmt\n",
    "* IPAnnualDeductibleAmt\n"
   ]
  },
  {
   "cell_type": "code",
   "execution_count": 4,
   "metadata": {
    "ExecuteTime": {
     "end_time": "2020-07-05T05:15:55.547692Z",
     "start_time": "2020-07-05T05:15:55.487968Z"
    },
    "tags": []
   },
   "outputs": [],
   "source": [
    "float_preds = ['InscClaimAmtReimbursed','IPAnnualReimbursementAmt', 'IPAnnualDeductibleAmt']\n",
    "\n",
    "lab2_df[float_preds]   = lab2_df[float_preds].astype('float')"
   ]
  },
  {
   "cell_type": "markdown",
   "metadata": {},
   "source": [
    "## Set Integer Variables"
   ]
  },
  {
   "cell_type": "markdown",
   "metadata": {},
   "source": [
    "These variables contains all numbers but they are actually nominal categorical attributes. They are all binary in nature. So we can keep them as integer as we will be converting this dataset into sparse matrix for model building exercise. \n",
    "\n",
    "Following variables will be set as integer data type :\n",
    "* NoOfMonths_PartACov - Number of months of Medicare part A coverage\n",
    "* NoOfMonths_PartBCov - Number of months of Medicare part B coverage\n"
   ]
  },
  {
   "cell_type": "code",
   "execution_count": 5,
   "metadata": {
    "ExecuteTime": {
     "end_time": "2020-07-05T05:15:59.397332Z",
     "start_time": "2020-07-05T05:15:59.352100Z"
    },
    "tags": []
   },
   "outputs": [],
   "source": [
    "int_preds = ['NoOfMonths_PartACov', \n",
    "             'NoOfMonths_PartBCov']\n",
    "\n",
    "lab2_df[int_preds] = lab2_df[int_preds].astype(int)"
   ]
  },
  {
   "cell_type": "markdown",
   "metadata": {},
   "source": [
    "## Set Date Variables"
   ]
  },
  {
   "cell_type": "markdown",
   "metadata": {},
   "source": [
    "Following are new attributes are derived from existing attritbutes of type dates. All date attributes are converted to the proleptic Gregorian ordinal of a date.In simple terms datetime.toordinal() returns the day count from the date 01/01/01\n",
    "\n",
    "\n",
    "* ORD_DOD - Set ORD_DOD to open end date where date is not available to indicate that Beneficiary is alive\n",
    "* ORD_DOB \n",
    "* ORD_ClaimStartDt\n",
    "* ORD_ClaimEndDt\n",
    "* ORD_AdmissionDt\n",
    "* ORD_DischargeDt\n"
   ]
  },
  {
   "cell_type": "code",
   "execution_count": 6,
   "metadata": {
    "ExecuteTime": {
     "end_time": "2020-07-05T05:16:03.017497Z",
     "start_time": "2020-07-05T05:16:01.785657Z"
    },
    "tags": []
   },
   "outputs": [],
   "source": [
    "dte_preds = ['ClaimStartDt', 'ClaimEndDt','AdmissionDt', 'DischargeDt', 'DOB','DOD']\n",
    "\n",
    "# Regex to normalize integer DOB/DOD as ISO dates\n",
    "lab2_df['ORD_DOB'] = lab2_df['DOB'].astype(str).str.replace('(\\d{4})(\\d\\d)(\\d\\d)', '\\\\1-\\\\2-\\\\3', regex=True) \n",
    "lab2_df['ORD_DOD'] = lab2_df['DOD'].astype(str).str.replace('(\\d{4})(\\d\\d)(\\d\\d)', '\\\\1-\\\\2-\\\\3', regex=True) \n",
    "\n",
    "lab2_df['ORD_DOD'] = lab2_df['ORD_DOD'].replace('0','2199-12-31')\n",
    "\n",
    "lab2_df['ORD_DOD'] = pd.to_datetime(lab2_df['ORD_DOD'],format='%Y-%m-%d').apply(dt.datetime.toordinal)\n",
    "lab2_df['ORD_DOB'] = pd.to_datetime(lab2_df['DOB'],format='%Y-%m-%d').apply(dt.datetime.toordinal)\n",
    "lab2_df['ORD_ClaimStartDt'] = pd.to_datetime(lab2_df['ClaimStartDt'],format='%Y-%m-%d').apply(dt.datetime.toordinal)\n",
    "lab2_df['ORD_ClaimEndDt']   = pd.to_datetime(lab2_df['ClaimEndDt'],format='%Y-%m-%d').apply(dt.datetime.toordinal)\n",
    "lab2_df['ORD_AdmissionDt']  = pd.to_datetime(lab2_df['AdmissionDt'],format='%Y-%m-%d').apply(dt.datetime.toordinal)\n",
    "lab2_df['ORD_DischargeDt']  = pd.to_datetime(lab2_df['DischargeDt'],format='%Y-%m-%d').apply(dt.datetime.toordinal)\n",
    "\n",
    "ord_dte_preds = ['ORD_DOD', 'ORD_DOB','ORD_ClaimStartDt', 'ORD_ClaimEndDt', 'ORD_AdmissionDt','ORD_DischargeDt']\n"
   ]
  },
  {
   "cell_type": "markdown",
   "metadata": {},
   "source": [
    "## Recoding Binary and Categorical Features"
   ]
  },
  {
   "cell_type": "markdown",
   "metadata": {},
   "source": [
    "All chronic conditions, Gender, RenalDiseaseIndicator are binary variables i.e. they all have just two values but values are not 0 and 1. e.g. Gender has values 1 or 2, RenalDiseaseIndicator has Y or 1 and all Chronic Conditions has values 1 or 2. \n",
    "\n",
    "We will recode these values to 0 or 1 instead of 1 and 2 for modeling purpose. Leaving two columns for a binary feature can introduce bias, giving one feature artificially more weight in prediction if the model treats the single feature as two.\n"
   ]
  },
  {
   "cell_type": "code",
   "execution_count": 7,
   "metadata": {
    "ExecuteTime": {
     "end_time": "2020-07-05T05:16:05.950261Z",
     "start_time": "2020-07-05T05:16:05.111296Z"
    }
   },
   "outputs": [],
   "source": [
    "# Recode below categorical variables \n",
    "\n",
    "lab2_df['Gender']  = lab2_df['Gender'].replace([1,2],[0,1])\n",
    "lab2_df['RenalDiseaseIndicator']  = lab2_df['RenalDiseaseIndicator'].replace('Y',1)\n",
    "\n",
    "\n",
    "lab2_df = lab2_df.replace({'ChronicCond_Alzheimer': 2,      'ChronicCond_Heartfailure': 2, \n",
    "                           'ChronicCond_KidneyDisease': 2,  'ChronicCond_Cancer': 2, \n",
    "                           'ChronicCond_ObstrPulmonary': 2, 'ChronicCond_Depression': 2, \n",
    "                           'ChronicCond_Diabetes': 2,       'ChronicCond_IschemicHeart': 2, \n",
    "                           'ChronicCond_Osteoporasis': 2,   'ChronicCond_rheumatoidarthritis': 2, \n",
    "                           'ChronicCond_stroke': 2 }, '0')\n",
    "\n",
    "lab2_df['Gender'] = lab2_df['Gender'].astype('object')\n",
    "lab2_df['Race'] = lab2_df['Race'].astype('object')\n",
    "lab2_df['State'] = lab2_df['State'].astype('object')\n",
    "lab2_df['County'] = lab2_df['County'].astype('object')\n",
    "lab2_df['OtherPhysicianPresent'] = lab2_df['OtherPhysicianPresent'].astype('object')\n",
    "lab2_df['OperatingPhysicianPresent'] = lab2_df['OperatingPhysicianPresent'].astype('object')\n",
    "lab2_df['AttendingPhysicianPresent'] = lab2_df['AttendingPhysicianPresent'].astype('object')"
   ]
  },
  {
   "cell_type": "markdown",
   "metadata": {},
   "source": [
    "## Final Dataframe - All Features\n",
    "All features are GROUPED as follows:\n",
    "* Numeric Predictors\n",
    "* Categorical Predictors\n",
    "* Non-Predictors (Will not be used for modeling)\n",
    "\n",
    "We chose to remove all ID columns from the data, as they aren't useful in prediction (unique IDs = N observations).  We replaced the original date features with their ordinal conversions.  We removed all providerIDs from the dataset, because these are correlated 1:1 with the response.  Unfortunately, our data lists only the provider ID as the response variable (potentially fraudulent), so the prediction algorithm gets 'the answer' if the provider ID shows up in attending, operating, or other physician columns.  Removing these from the dataset limits the prediction ability of our algorithms, but more closely represents reality, where a provider's fraudulent behavior is unknown at the time of claim review.\n"
   ]
  },
  {
   "cell_type": "code",
   "execution_count": 8,
   "metadata": {
    "ExecuteTime": {
     "end_time": "2020-07-05T05:19:18.770852Z",
     "start_time": "2020-07-05T05:19:18.661144Z"
    },
    "tags": []
   },
   "outputs": [],
   "source": [
    "numeric_preds     = ['Age','NoPhysician','NoOfDiag','NoOfProc',\n",
    "                     'ORD_DOD','ORD_DOB','ORD_ClaimStartDt','ORD_ClaimEndDt',\n",
    "                     'ORD_AdmissionDt','ORD_DischargeDt','DaysAdmitted',\n",
    "                     'IPAnnualReimbursementAmt','IPAnnualDeductibleAmt',   \n",
    "                     'InscClaimAmtReimbursed'  \n",
    "                    ]\n",
    "\n",
    "cat_preds_nominal = ['Gender','Race','RenalDiseaseIndicator','State','County',\n",
    "                     'NoOfMonths_PartACov','NoOfMonths_PartBCov',\n",
    "                     'ChronicCond_Alzheimer','ChronicCond_Heartfailure',\n",
    "                     'ChronicCond_KidneyDisease','ChronicCond_Cancer','ChronicCond_ObstrPulmonary',\n",
    "                     'ChronicCond_Depression','ChronicCond_Diabetes','ChronicCond_IschemicHeart',\n",
    "                     'ChronicCond_Osteoporasis','ChronicCond_rheumatoidarthritis','ChronicCond_stroke',\n",
    "                     'Alive','ClmAdmitDiagnosisCode','DiagnosisGroupCode',\n",
    "                     'ClmDiagnosisCode_1','ClmDiagnosisCode_2','ClmDiagnosisCode_3',\n",
    "                     'ClmDiagnosisCode_4','ClmDiagnosisCode_5','ClmDiagnosisCode_6',\n",
    "                     'ClmDiagnosisCode_7','ClmDiagnosisCode_8','ClmDiagnosisCode_9',\n",
    "                     'ClmDiagnosisCode_10','ClmProcedureCode_1','ClmProcedureCode_2',\n",
    "                     'ClmProcedureCode_3','ClmProcedureCode_4','ClmProcedureCode_5',\n",
    "                     'AttendingPhysicianPresent','OtherPhysicianPresent','OperatingPhysicianPresent'\n",
    "                     ]\n",
    "\n",
    "non_preds = ['BeneID','DOB','DOD','state_usps','ClaimID',\n",
    "             'ClaimStartDt','ClaimEndDt','Provider',\n",
    "             'AttendingPhysician','OperatingPhysician','OtherPhysician',\n",
    "             'AdmissionDt','DischargeDt','DRGDesc',\n",
    "             'ProcedureShortDesc_1','ProcedureShortDesc_2','ProcedureShortDesc_3',\n",
    "             'ProcedureShortDesc_4','ProcedureShortDesc_5','DiagnosticDesc_1',\n",
    "             'DiagnosticDesc_2','DiagnosticDesc_3','DiagnosticDesc_4',\n",
    "             'DiagnosticDesc_5','DiagnosticDesc_6','DiagnosticDesc_7',\n",
    "             'DiagnosticDesc_8','DiagnosticDesc_9','DiagnosticDesc_10',\n",
    "             'NoOfChronicCondition'\n",
    "             ]\n",
    "\n",
    "preds_in_model = numeric_preds + cat_preds_nominal\n",
    "\n",
    "Xlab2_df = lab2_df[preds_in_model].copy()\n",
    "\n",
    "Xlab2_df[cat_preds_nominal] = Xlab2_df[cat_preds_nominal].astype('object')\n"
   ]
  },
  {
   "cell_type": "code",
   "execution_count": 9,
   "metadata": {
    "ExecuteTime": {
     "end_time": "2020-07-05T05:19:36.727966Z",
     "start_time": "2020-07-05T05:19:36.624396Z"
    }
   },
   "outputs": [
    {
     "name": "stdout",
     "output_type": "stream",
     "text": [
      "<class 'pandas.core.frame.DataFrame'>\n",
      "Int64Index: 40474 entries, 0 to 40473\n",
      "Data columns (total 53 columns):\n",
      " #   Column                           Non-Null Count  Dtype  \n",
      "---  ------                           --------------  -----  \n",
      " 0   Age                              40474 non-null  int64  \n",
      " 1   NoPhysician                      40474 non-null  int64  \n",
      " 2   NoOfDiag                         40474 non-null  int64  \n",
      " 3   NoOfProc                         40474 non-null  int64  \n",
      " 4   ORD_DOD                          40474 non-null  int64  \n",
      " 5   ORD_DOB                          40474 non-null  int64  \n",
      " 6   ORD_ClaimStartDt                 40474 non-null  int64  \n",
      " 7   ORD_ClaimEndDt                   40474 non-null  int64  \n",
      " 8   ORD_AdmissionDt                  40474 non-null  int64  \n",
      " 9   ORD_DischargeDt                  40474 non-null  int64  \n",
      " 10  DaysAdmitted                     40474 non-null  int64  \n",
      " 11  IPAnnualReimbursementAmt         40474 non-null  float64\n",
      " 12  IPAnnualDeductibleAmt            40474 non-null  float64\n",
      " 13  InscClaimAmtReimbursed           40474 non-null  float64\n",
      " 14  Gender                           40474 non-null  object \n",
      " 15  Race                             40474 non-null  object \n",
      " 16  RenalDiseaseIndicator            40474 non-null  object \n",
      " 17  State                            40474 non-null  object \n",
      " 18  County                           40474 non-null  object \n",
      " 19  NoOfMonths_PartACov              40474 non-null  object \n",
      " 20  NoOfMonths_PartBCov              40474 non-null  object \n",
      " 21  ChronicCond_Alzheimer            40474 non-null  object \n",
      " 22  ChronicCond_Heartfailure         40474 non-null  object \n",
      " 23  ChronicCond_KidneyDisease        40474 non-null  object \n",
      " 24  ChronicCond_Cancer               40474 non-null  object \n",
      " 25  ChronicCond_ObstrPulmonary       40474 non-null  object \n",
      " 26  ChronicCond_Depression           40474 non-null  object \n",
      " 27  ChronicCond_Diabetes             40474 non-null  object \n",
      " 28  ChronicCond_IschemicHeart        40474 non-null  object \n",
      " 29  ChronicCond_Osteoporasis         40474 non-null  object \n",
      " 30  ChronicCond_rheumatoidarthritis  40474 non-null  object \n",
      " 31  ChronicCond_stroke               40474 non-null  object \n",
      " 32  Alive                            40474 non-null  object \n",
      " 33  ClmAdmitDiagnosisCode            40474 non-null  object \n",
      " 34  DiagnosisGroupCode               40474 non-null  object \n",
      " 35  ClmDiagnosisCode_1               40474 non-null  object \n",
      " 36  ClmDiagnosisCode_2               40474 non-null  object \n",
      " 37  ClmDiagnosisCode_3               40474 non-null  object \n",
      " 38  ClmDiagnosisCode_4               40474 non-null  object \n",
      " 39  ClmDiagnosisCode_5               40474 non-null  object \n",
      " 40  ClmDiagnosisCode_6               40474 non-null  object \n",
      " 41  ClmDiagnosisCode_7               40474 non-null  object \n",
      " 42  ClmDiagnosisCode_8               40474 non-null  object \n",
      " 43  ClmDiagnosisCode_9               40474 non-null  object \n",
      " 44  ClmDiagnosisCode_10              40474 non-null  object \n",
      " 45  ClmProcedureCode_1               40474 non-null  object \n",
      " 46  ClmProcedureCode_2               40474 non-null  object \n",
      " 47  ClmProcedureCode_3               40474 non-null  object \n",
      " 48  ClmProcedureCode_4               40474 non-null  object \n",
      " 49  ClmProcedureCode_5               40474 non-null  object \n",
      " 50  AttendingPhysicianPresent        40474 non-null  object \n",
      " 51  OtherPhysicianPresent            40474 non-null  object \n",
      " 52  OperatingPhysicianPresent        40474 non-null  object \n",
      "dtypes: float64(3), int64(11), object(39)\n",
      "memory usage: 16.7+ MB\n"
     ]
    }
   ],
   "source": [
    "Xlab2_df.info()"
   ]
  },
  {
   "cell_type": "markdown",
   "metadata": {},
   "source": [
    "## Set Target Variable"
   ]
  },
  {
   "cell_type": "code",
   "execution_count": 10,
   "metadata": {
    "ExecuteTime": {
     "end_time": "2020-07-05T05:19:38.446271Z",
     "start_time": "2020-07-05T05:19:38.424271Z"
    }
   },
   "outputs": [],
   "source": [
    "target_df = lab2_df['PotentialFraud'].replace(['Yes','No'],[1,0]).values"
   ]
  },
  {
   "cell_type": "markdown",
   "metadata": {},
   "source": [
    "## One Hot Encoding using SciKit Learn Multi Label Binarizer\n",
    "\n",
    "Because the claim data can have up to 10 different diagnosis codes and 5 different procedure codes, we created a new array column that combines all used diagnosis codes and another like type column with procedures.  This will reduce our feature counts from >40,000 to around 9,000 and will help maximize feature importance because each code will no longer be split across up to 10 different columns (i.e. diagnosis code columns 1 - 10).  This way if code A gets used in column_1, and in column_2, the usage of code A will be consolidated to the DiagnosisCode_A column.\n",
    "\n",
    "Pandas get_dummies function will not parse lists, we'll need to utilize the multiLabelBinarizer from scikit learn to one-hot encode the list values before calling get_dummies."
   ]
  },
  {
   "cell_type": "code",
   "execution_count": 11,
   "metadata": {
    "ExecuteTime": {
     "end_time": "2020-07-05T05:23:27.965602Z",
     "start_time": "2020-07-05T05:23:13.863528Z"
    },
    "tags": []
   },
   "outputs": [],
   "source": [
    "\n",
    "\n",
    "Xlab2_df['DiagnosisCode'] = Xlab2_df[['ClmDiagnosisCode_1', 'ClmDiagnosisCode_2', 'ClmDiagnosisCode_3', 'ClmDiagnosisCode_4', 'ClmDiagnosisCode_5', 'ClmDiagnosisCode_6', 'ClmDiagnosisCode_7', 'ClmDiagnosisCode_8', 'ClmDiagnosisCode_9', 'ClmDiagnosisCode_10']].values.tolist()\n",
    "\n",
    "Xlab2_df['ProcedureCode'] = Xlab2_df[['ClmProcedureCode_1', 'ClmProcedureCode_2', 'ClmProcedureCode_3', 'ClmProcedureCode_4', 'ClmProcedureCode_5']].values.tolist()\n",
    "\n",
    "ipdata = Xlab2_df.copy()\n",
    "\n",
    "mlb = MultiLabelBinarizer()\n",
    "ipdata = ipdata.join(pd.DataFrame(mlb.fit_transform(ipdata['ProcedureCode']),columns='ProcedureCode_'+mlb.classes_))\n",
    "ipdata = ipdata.join(pd.DataFrame(mlb.fit_transform(ipdata['DiagnosisCode']),columns='DiagnosisCode_'+mlb.classes_))\n",
    "\n",
    "ipdata = ipdata.drop(columns=['ClmProcedureCode_1', 'ClmProcedureCode_2', 'ClmProcedureCode_3', 'ClmProcedureCode_4', 'ClmProcedureCode_5','ClmDiagnosisCode_1', 'ClmDiagnosisCode_2', 'ClmDiagnosisCode_3', 'ClmDiagnosisCode_4', 'ClmDiagnosisCode_5', 'ClmDiagnosisCode_6', 'ClmDiagnosisCode_7', 'ClmDiagnosisCode_8', 'ClmDiagnosisCode_9', 'ClmDiagnosisCode_10','ProcedureCode','DiagnosisCode'])\n"
   ]
  },
  {
   "cell_type": "markdown",
   "metadata": {},
   "source": [
    "## One Hot Encoding using Pandas\n",
    "\n",
    "Now that we've dropped our multi-columns and lists, we can onehot encode the rest of the features and transform into a sparse matrix using Pandas Get Dummies function."
   ]
  },
  {
   "cell_type": "code",
   "execution_count": 12,
   "metadata": {
    "ExecuteTime": {
     "end_time": "2020-07-05T05:24:27.990141Z",
     "start_time": "2020-07-05T05:24:23.016370Z"
    }
   },
   "outputs": [],
   "source": [
    "ipdata = pd.get_dummies(ipdata, sparse=True)"
   ]
  },
  {
   "cell_type": "code",
   "execution_count": 13,
   "metadata": {
    "ExecuteTime": {
     "end_time": "2020-07-05T05:24:33.226867Z",
     "start_time": "2020-07-05T05:24:29.860095Z"
    },
    "tags": []
   },
   "outputs": [
    {
     "name": "stdout",
     "output_type": "stream",
     "text": [
      "<class 'pandas.core.frame.DataFrame'>\n",
      "Int64Index: 40474 entries, 0 to 40473\n",
      "Columns: 9116 entries, Age to OperatingPhysicianPresent_1\n",
      "dtypes: Sparse[uint8, 0](3063), float64(3), int64(6050)\n",
      "memory usage: 1.8 GB\n"
     ]
    }
   ],
   "source": [
    "ipdata.info()"
   ]
  },
  {
   "cell_type": "markdown",
   "metadata": {},
   "source": [
    "## Post-processing Encoded Features\n",
    "\n",
    "Because we are using objects, Pandas converts all classes into new columns.  However, for binary features, we want to remove one of the values, in order to prevent the model from introducing bias by weighting each binary feature twice (via separate true/false columns).\n",
    "\n",
    "To correct this, we must search for and remove duplicate columns (indicated by the _0 suffix).\n"
   ]
  },
  {
   "cell_type": "code",
   "execution_count": 14,
   "metadata": {
    "ExecuteTime": {
     "end_time": "2020-07-05T05:24:38.149831Z",
     "start_time": "2020-07-05T05:24:35.680613Z"
    },
    "tags": []
   },
   "outputs": [
    {
     "name": "stdout",
     "output_type": "stream",
     "text": [
      "Removed Following Columns:\n",
      "Gender_0\n",
      "RenalDiseaseIndicator_0\n",
      "NoOfMonths_PartACov_0\n",
      "NoOfMonths_PartBCov_0\n",
      "ChronicCond_Alzheimer_0\n",
      "ChronicCond_Heartfailure_0\n",
      "ChronicCond_KidneyDisease_0\n",
      "ChronicCond_Cancer_0\n",
      "ChronicCond_ObstrPulmonary_0\n",
      "ChronicCond_Depression_0\n",
      "ChronicCond_Diabetes_0\n",
      "ChronicCond_IschemicHeart_0\n",
      "ChronicCond_Osteoporasis_0\n",
      "ChronicCond_rheumatoidarthritis_0\n",
      "ChronicCond_stroke_0\n",
      "AttendingPhysicianPresent_0\n",
      "OtherPhysicianPresent_0\n",
      "OperatingPhysicianPresent_0\n"
     ]
    }
   ],
   "source": [
    "StopWords = ['Diagnosis','Procedure','County','State']\n",
    "bins = []\n",
    "print('Removed Following Columns:')\n",
    "for col in ipdata.columns:\n",
    "    if not any(word in col for word in StopWords) and '_0' in col:    \n",
    "        print(col)\n",
    "        bins.append(col)\n",
    "ipdata = ipdata.drop(bins, axis=1)"
   ]
  },
  {
   "cell_type": "markdown",
   "metadata": {},
   "source": [
    "## Remove 'None' columns"
   ]
  },
  {
   "cell_type": "markdown",
   "metadata": {},
   "source": [
    "Our encoded dataset contains None for Diagnosis and Procedure codes features wherever information is not available on the claim. All claims allows max 5 procedure codes and 10 diagnosis codes and at least one procedure code or diagnosis code is applied on the claim. When claim has only one procedure and one diagnosis all other procedure codes contains NAs or None and one hot encoding treats these as another category which is not correct. therefore we need to remove column Nones created by one hot encoding by pandas.\n",
    "\n",
    "Essentially by creating a 'none' column it creates a column (new feature) for missing data, which would erroneously assign more weight to a value that doesn't exist.  Because it would get a '1' for missing a value, but would also have 0's for the other values.  Also it may mess up our counts because 'None' would count as a valid procedure code if we're summing unique values for each column."
   ]
  },
  {
   "cell_type": "code",
   "execution_count": 15,
   "metadata": {
    "ExecuteTime": {
     "end_time": "2020-07-05T05:24:46.913938Z",
     "start_time": "2020-07-05T05:24:44.273922Z"
    },
    "tags": []
   },
   "outputs": [
    {
     "name": "stdout",
     "output_type": "stream",
     "text": [
      "Removed Following Columns:\n",
      "ProcedureCode_None\n",
      "DiagnosisCode_None\n"
     ]
    }
   ],
   "source": [
    "nones = []\n",
    "print('Removed Following Columns:')\n",
    "for col in ipdata.columns:\n",
    "    if 'None' in col:    \n",
    "        nones.append(col)\n",
    "        print(col)\n",
    "ipdata = ipdata.drop(nones, axis=1)"
   ]
  },
  {
   "cell_type": "code",
   "execution_count": 16,
   "metadata": {
    "ExecuteTime": {
     "end_time": "2020-07-05T05:24:49.436162Z",
     "start_time": "2020-07-05T05:24:49.246066Z"
    },
    "tags": []
   },
   "outputs": [
    {
     "name": "stdout",
     "output_type": "stream",
     "text": [
      "<class 'pandas.core.frame.DataFrame'>\n",
      "Int64Index: 40474 entries, 0 to 40473\n",
      "Columns: 9096 entries, Age to OperatingPhysicianPresent_1\n",
      "dtypes: Sparse[uint8, 0](3045), float64(3), int64(6048)\n",
      "memory usage: 1.8 GB\n"
     ]
    }
   ],
   "source": [
    "ipdata.info()"
   ]
  },
  {
   "cell_type": "markdown",
   "metadata": {},
   "source": [
    "## Branch off the Regression DataSet"
   ]
  },
  {
   "cell_type": "markdown",
   "metadata": {},
   "source": [
    "Create separate dataframe for regression tasks as below : <br>\n",
    " 1. Remove new target variable from the original ipdata dataframe\n",
    " 2. create new target variable for regression setting.\n"
   ]
  },
  {
   "cell_type": "code",
   "execution_count": 17,
   "metadata": {
    "ExecuteTime": {
     "end_time": "2020-07-05T05:33:37.673673Z",
     "start_time": "2020-07-05T05:33:34.651415Z"
    }
   },
   "outputs": [
    {
     "name": "stdout",
     "output_type": "stream",
     "text": [
      "<class 'pandas.core.frame.DataFrame'>\n",
      "Int64Index: 40474 entries, 0 to 40473\n",
      "Columns: 9095 entries, Age to OperatingPhysicianPresent_1\n",
      "dtypes: Sparse[uint8, 0](3045), float64(2), int64(6048)\n",
      "memory usage: 1.8 GB\n"
     ]
    }
   ],
   "source": [
    "reg_target = ipdata['InscClaimAmtReimbursed']\n",
    "reg_df = ipdata.drop(columns=['InscClaimAmtReimbursed'])\n",
    "reg_df.info()"
   ]
  },
  {
   "cell_type": "markdown",
   "metadata": {},
   "source": [
    "## MinMaxScaler"
   ]
  },
  {
   "cell_type": "markdown",
   "metadata": {},
   "source": [
    "### Classification Setting"
   ]
  },
  {
   "cell_type": "markdown",
   "metadata": {},
   "source": [
    "We decided to use the MinMaxScaler here instead of the standard scaler because we're using a sparse matrix of mostly binary features.  Because we do have some true numeric features, such as: deductible amount, age, the converted ordinal dates, claim dollar amounts etc, these may end up having values outside the bounds of 0 and 1.  A zero mean scaler doesn't make sense with this data because it would cause the numeric features to have inflated importance if observations end up being several standard deviations away from 0, while the binary features are capped at 1.  The minMax scaler allows us to force all values in the dataset to live within the bounds of 0 and 1, allowing our logistic regression algorithms to weight features appropriately using similar measures."
   ]
  },
  {
   "cell_type": "code",
   "execution_count": 18,
   "metadata": {
    "ExecuteTime": {
     "end_time": "2020-07-05T05:26:16.596402Z",
     "start_time": "2020-07-05T05:24:54.885604Z"
    }
   },
   "outputs": [],
   "source": [
    "scaler = MinMaxScaler()\n",
    "scaler.fit(ipdata)\n",
    "X1 = scaler.transform(ipdata,)"
   ]
  },
  {
   "cell_type": "markdown",
   "metadata": {},
   "source": [
    "### Regression Setting"
   ]
  },
  {
   "cell_type": "code",
   "execution_count": 19,
   "metadata": {
    "ExecuteTime": {
     "end_time": "2020-07-05T05:35:07.073824Z",
     "start_time": "2020-07-05T05:33:49.974142Z"
    }
   },
   "outputs": [],
   "source": [
    "reg_scaler = MinMaxScaler()\n",
    "reg_scaler.fit(reg_df)\n",
    "reg_X1 = reg_scaler.transform(reg_df)"
   ]
  },
  {
   "cell_type": "markdown",
   "metadata": {},
   "source": [
    "# **Data Preparation Part 2**\n",
    "\n",
    "We ended up with two variants of our final dataset: the sparse matrix (ipdata) containing all one-hot encoded features, and the original dataframe (Xlab2_df) so that if we need to retrieve any of the original data, we can share indices to highlight our findings."
   ]
  },
  {
   "cell_type": "markdown",
   "metadata": {},
   "source": [
    "## Classification Final DataSet"
   ]
  },
  {
   "cell_type": "code",
   "execution_count": 20,
   "metadata": {
    "ExecuteTime": {
     "end_time": "2020-07-05T05:37:31.224835Z",
     "start_time": "2020-07-05T05:37:31.184790Z"
    },
    "tags": []
   },
   "outputs": [
    {
     "data": {
      "text/html": [
       "<div>\n",
       "<style scoped>\n",
       "    .dataframe tbody tr th:only-of-type {\n",
       "        vertical-align: middle;\n",
       "    }\n",
       "\n",
       "    .dataframe tbody tr th {\n",
       "        vertical-align: top;\n",
       "    }\n",
       "\n",
       "    .dataframe thead th {\n",
       "        text-align: right;\n",
       "    }\n",
       "</style>\n",
       "<table border=\"1\" class=\"dataframe\">\n",
       "  <thead>\n",
       "    <tr style=\"text-align: right;\">\n",
       "      <th></th>\n",
       "      <th>Age</th>\n",
       "      <th>NoPhysician</th>\n",
       "      <th>NoOfDiag</th>\n",
       "      <th>NoOfProc</th>\n",
       "      <th>ORD_DOD</th>\n",
       "      <th>ORD_DOB</th>\n",
       "      <th>ORD_ClaimStartDt</th>\n",
       "      <th>ORD_ClaimEndDt</th>\n",
       "      <th>ORD_AdmissionDt</th>\n",
       "      <th>ORD_DischargeDt</th>\n",
       "      <th>...</th>\n",
       "      <th>ClmProcedureCode_1</th>\n",
       "      <th>ClmProcedureCode_2</th>\n",
       "      <th>ClmProcedureCode_3</th>\n",
       "      <th>ClmProcedureCode_4</th>\n",
       "      <th>ClmProcedureCode_5</th>\n",
       "      <th>AttendingPhysicianPresent</th>\n",
       "      <th>OtherPhysicianPresent</th>\n",
       "      <th>OperatingPhysicianPresent</th>\n",
       "      <th>DiagnosisCode</th>\n",
       "      <th>ProcedureCode</th>\n",
       "    </tr>\n",
       "  </thead>\n",
       "  <tbody>\n",
       "    <tr>\n",
       "      <th>0</th>\n",
       "      <td>66</td>\n",
       "      <td>1</td>\n",
       "      <td>9</td>\n",
       "      <td>0</td>\n",
       "      <td>803168</td>\n",
       "      <td>719163</td>\n",
       "      <td>733509</td>\n",
       "      <td>733515</td>\n",
       "      <td>733509</td>\n",
       "      <td>733515</td>\n",
       "      <td>...</td>\n",
       "      <td>None</td>\n",
       "      <td>None</td>\n",
       "      <td>None</td>\n",
       "      <td>None</td>\n",
       "      <td>None</td>\n",
       "      <td>1</td>\n",
       "      <td>0</td>\n",
       "      <td>0</td>\n",
       "      <td>[1970, 4019, 5853, 7843, 2768, 71590, 2724, 19...</td>\n",
       "      <td>[None, None, None, None, None]</td>\n",
       "    </tr>\n",
       "    <tr>\n",
       "      <th>1</th>\n",
       "      <td>95</td>\n",
       "      <td>3</td>\n",
       "      <td>9</td>\n",
       "      <td>2</td>\n",
       "      <td>803168</td>\n",
       "      <td>719163</td>\n",
       "      <td>733427</td>\n",
       "      <td>733439</td>\n",
       "      <td>733427</td>\n",
       "      <td>733439</td>\n",
       "      <td>...</td>\n",
       "      <td>7769.0</td>\n",
       "      <td>5849.0</td>\n",
       "      <td>None</td>\n",
       "      <td>None</td>\n",
       "      <td>None</td>\n",
       "      <td>1</td>\n",
       "      <td>1</td>\n",
       "      <td>1</td>\n",
       "      <td>[4240, 2639, 2948, 40390, 45821, 28489, 5854, ...</td>\n",
       "      <td>[7769.0, 5849.0, None, None, None]</td>\n",
       "    </tr>\n",
       "    <tr>\n",
       "      <th>2</th>\n",
       "      <td>87</td>\n",
       "      <td>2</td>\n",
       "      <td>9</td>\n",
       "      <td>1</td>\n",
       "      <td>803168</td>\n",
       "      <td>719163</td>\n",
       "      <td>733697</td>\n",
       "      <td>733715</td>\n",
       "      <td>733697</td>\n",
       "      <td>733715</td>\n",
       "      <td>...</td>\n",
       "      <td>9338.0</td>\n",
       "      <td>None</td>\n",
       "      <td>None</td>\n",
       "      <td>None</td>\n",
       "      <td>None</td>\n",
       "      <td>1</td>\n",
       "      <td>0</td>\n",
       "      <td>1</td>\n",
       "      <td>[V5789, 4168, 73313, 7812, 7993, 78830, 72273,...</td>\n",
       "      <td>[9338.0, None, None, None, None]</td>\n",
       "    </tr>\n",
       "    <tr>\n",
       "      <th>3</th>\n",
       "      <td>79</td>\n",
       "      <td>3</td>\n",
       "      <td>7</td>\n",
       "      <td>1</td>\n",
       "      <td>803168</td>\n",
       "      <td>719163</td>\n",
       "      <td>733705</td>\n",
       "      <td>733709</td>\n",
       "      <td>733705</td>\n",
       "      <td>733709</td>\n",
       "      <td>...</td>\n",
       "      <td>8154.0</td>\n",
       "      <td>None</td>\n",
       "      <td>None</td>\n",
       "      <td>None</td>\n",
       "      <td>None</td>\n",
       "      <td>1</td>\n",
       "      <td>1</td>\n",
       "      <td>1</td>\n",
       "      <td>[71535, 71960, 4019, V1202, 4240, 2449, 2768, ...</td>\n",
       "      <td>[8154.0, None, None, None, None]</td>\n",
       "    </tr>\n",
       "    <tr>\n",
       "      <th>4</th>\n",
       "      <td>83</td>\n",
       "      <td>2</td>\n",
       "      <td>1</td>\n",
       "      <td>1</td>\n",
       "      <td>803168</td>\n",
       "      <td>719163</td>\n",
       "      <td>733415</td>\n",
       "      <td>733419</td>\n",
       "      <td>733415</td>\n",
       "      <td>733419</td>\n",
       "      <td>...</td>\n",
       "      <td>8543.0</td>\n",
       "      <td>None</td>\n",
       "      <td>None</td>\n",
       "      <td>None</td>\n",
       "      <td>None</td>\n",
       "      <td>1</td>\n",
       "      <td>0</td>\n",
       "      <td>1</td>\n",
       "      <td>[2330, None, None, None, None, None, None, Non...</td>\n",
       "      <td>[8543.0, None, None, None, None]</td>\n",
       "    </tr>\n",
       "  </tbody>\n",
       "</table>\n",
       "<p>5 rows × 55 columns</p>\n",
       "</div>"
      ],
      "text/plain": [
       "   Age  NoPhysician  NoOfDiag  NoOfProc  ORD_DOD  ORD_DOB  ORD_ClaimStartDt  \\\n",
       "0   66            1         9         0   803168   719163            733509   \n",
       "1   95            3         9         2   803168   719163            733427   \n",
       "2   87            2         9         1   803168   719163            733697   \n",
       "3   79            3         7         1   803168   719163            733705   \n",
       "4   83            2         1         1   803168   719163            733415   \n",
       "\n",
       "   ORD_ClaimEndDt  ORD_AdmissionDt  ORD_DischargeDt  ...  ClmProcedureCode_1  \\\n",
       "0          733515           733509           733515  ...                None   \n",
       "1          733439           733427           733439  ...              7769.0   \n",
       "2          733715           733697           733715  ...              9338.0   \n",
       "3          733709           733705           733709  ...              8154.0   \n",
       "4          733419           733415           733419  ...              8543.0   \n",
       "\n",
       "   ClmProcedureCode_2  ClmProcedureCode_3  ClmProcedureCode_4  \\\n",
       "0                None                None                None   \n",
       "1              5849.0                None                None   \n",
       "2                None                None                None   \n",
       "3                None                None                None   \n",
       "4                None                None                None   \n",
       "\n",
       "  ClmProcedureCode_5 AttendingPhysicianPresent OtherPhysicianPresent  \\\n",
       "0               None                         1                     0   \n",
       "1               None                         1                     1   \n",
       "2               None                         1                     0   \n",
       "3               None                         1                     1   \n",
       "4               None                         1                     0   \n",
       "\n",
       "  OperatingPhysicianPresent  \\\n",
       "0                         0   \n",
       "1                         1   \n",
       "2                         1   \n",
       "3                         1   \n",
       "4                         1   \n",
       "\n",
       "                                       DiagnosisCode  \\\n",
       "0  [1970, 4019, 5853, 7843, 2768, 71590, 2724, 19...   \n",
       "1  [4240, 2639, 2948, 40390, 45821, 28489, 5854, ...   \n",
       "2  [V5789, 4168, 73313, 7812, 7993, 78830, 72273,...   \n",
       "3  [71535, 71960, 4019, V1202, 4240, 2449, 2768, ...   \n",
       "4  [2330, None, None, None, None, None, None, Non...   \n",
       "\n",
       "                        ProcedureCode  \n",
       "0      [None, None, None, None, None]  \n",
       "1  [7769.0, 5849.0, None, None, None]  \n",
       "2    [9338.0, None, None, None, None]  \n",
       "3    [8154.0, None, None, None, None]  \n",
       "4    [8543.0, None, None, None, None]  \n",
       "\n",
       "[5 rows x 55 columns]"
      ]
     },
     "execution_count": 20,
     "metadata": {},
     "output_type": "execute_result"
    }
   ],
   "source": [
    "Xlab2_df.head(5)"
   ]
  },
  {
   "cell_type": "markdown",
   "metadata": {},
   "source": [
    "## Classifcation Target Variable"
   ]
  },
  {
   "cell_type": "code",
   "execution_count": 21,
   "metadata": {
    "ExecuteTime": {
     "end_time": "2020-07-05T05:41:17.645065Z",
     "start_time": "2020-07-05T05:41:17.637562Z"
    }
   },
   "outputs": [
    {
     "data": {
      "text/plain": [
       "0        Yes\n",
       "1        Yes\n",
       "2        Yes\n",
       "3        Yes\n",
       "4        Yes\n",
       "        ... \n",
       "40469     No\n",
       "40470     No\n",
       "40471     No\n",
       "40472     No\n",
       "40473     No\n",
       "Name: PotentialFraud, Length: 40474, dtype: object"
      ]
     },
     "execution_count": 21,
     "metadata": {},
     "output_type": "execute_result"
    }
   ],
   "source": [
    "lab2_df['PotentialFraud']"
   ]
  },
  {
   "cell_type": "markdown",
   "metadata": {},
   "source": [
    "## Regression Final Dataset"
   ]
  },
  {
   "cell_type": "code",
   "execution_count": 22,
   "metadata": {
    "ExecuteTime": {
     "end_time": "2020-07-05T05:41:28.838576Z",
     "start_time": "2020-07-05T05:41:27.787877Z"
    }
   },
   "outputs": [
    {
     "data": {
      "text/html": [
       "<div>\n",
       "<style scoped>\n",
       "    .dataframe tbody tr th:only-of-type {\n",
       "        vertical-align: middle;\n",
       "    }\n",
       "\n",
       "    .dataframe tbody tr th {\n",
       "        vertical-align: top;\n",
       "    }\n",
       "\n",
       "    .dataframe thead th {\n",
       "        text-align: right;\n",
       "    }\n",
       "</style>\n",
       "<table border=\"1\" class=\"dataframe\">\n",
       "  <thead>\n",
       "    <tr style=\"text-align: right;\">\n",
       "      <th></th>\n",
       "      <th>Age</th>\n",
       "      <th>NoPhysician</th>\n",
       "      <th>NoOfDiag</th>\n",
       "      <th>NoOfProc</th>\n",
       "      <th>ORD_DOD</th>\n",
       "      <th>ORD_DOB</th>\n",
       "      <th>ORD_ClaimStartDt</th>\n",
       "      <th>ORD_ClaimEndDt</th>\n",
       "      <th>ORD_AdmissionDt</th>\n",
       "      <th>ORD_DischargeDt</th>\n",
       "      <th>...</th>\n",
       "      <th>DiagnosisGroupCode_986</th>\n",
       "      <th>DiagnosisGroupCode_987</th>\n",
       "      <th>DiagnosisGroupCode_988</th>\n",
       "      <th>DiagnosisGroupCode_989</th>\n",
       "      <th>DiagnosisGroupCode_998</th>\n",
       "      <th>DiagnosisGroupCode_999</th>\n",
       "      <th>DiagnosisGroupCode_OTH</th>\n",
       "      <th>AttendingPhysicianPresent_1</th>\n",
       "      <th>OtherPhysicianPresent_1</th>\n",
       "      <th>OperatingPhysicianPresent_1</th>\n",
       "    </tr>\n",
       "  </thead>\n",
       "  <tbody>\n",
       "    <tr>\n",
       "      <th>0</th>\n",
       "      <td>66</td>\n",
       "      <td>1</td>\n",
       "      <td>9</td>\n",
       "      <td>0</td>\n",
       "      <td>803168</td>\n",
       "      <td>719163</td>\n",
       "      <td>733509</td>\n",
       "      <td>733515</td>\n",
       "      <td>733509</td>\n",
       "      <td>733515</td>\n",
       "      <td>...</td>\n",
       "      <td>0</td>\n",
       "      <td>0</td>\n",
       "      <td>0</td>\n",
       "      <td>0</td>\n",
       "      <td>0</td>\n",
       "      <td>0</td>\n",
       "      <td>0</td>\n",
       "      <td>1</td>\n",
       "      <td>0</td>\n",
       "      <td>0</td>\n",
       "    </tr>\n",
       "    <tr>\n",
       "      <th>1</th>\n",
       "      <td>95</td>\n",
       "      <td>3</td>\n",
       "      <td>9</td>\n",
       "      <td>2</td>\n",
       "      <td>803168</td>\n",
       "      <td>719163</td>\n",
       "      <td>733427</td>\n",
       "      <td>733439</td>\n",
       "      <td>733427</td>\n",
       "      <td>733439</td>\n",
       "      <td>...</td>\n",
       "      <td>0</td>\n",
       "      <td>1</td>\n",
       "      <td>0</td>\n",
       "      <td>0</td>\n",
       "      <td>0</td>\n",
       "      <td>0</td>\n",
       "      <td>0</td>\n",
       "      <td>1</td>\n",
       "      <td>1</td>\n",
       "      <td>1</td>\n",
       "    </tr>\n",
       "    <tr>\n",
       "      <th>2</th>\n",
       "      <td>87</td>\n",
       "      <td>2</td>\n",
       "      <td>9</td>\n",
       "      <td>1</td>\n",
       "      <td>803168</td>\n",
       "      <td>719163</td>\n",
       "      <td>733697</td>\n",
       "      <td>733715</td>\n",
       "      <td>733697</td>\n",
       "      <td>733715</td>\n",
       "      <td>...</td>\n",
       "      <td>0</td>\n",
       "      <td>0</td>\n",
       "      <td>0</td>\n",
       "      <td>0</td>\n",
       "      <td>0</td>\n",
       "      <td>0</td>\n",
       "      <td>0</td>\n",
       "      <td>1</td>\n",
       "      <td>0</td>\n",
       "      <td>1</td>\n",
       "    </tr>\n",
       "    <tr>\n",
       "      <th>3</th>\n",
       "      <td>79</td>\n",
       "      <td>3</td>\n",
       "      <td>7</td>\n",
       "      <td>1</td>\n",
       "      <td>803168</td>\n",
       "      <td>719163</td>\n",
       "      <td>733705</td>\n",
       "      <td>733709</td>\n",
       "      <td>733705</td>\n",
       "      <td>733709</td>\n",
       "      <td>...</td>\n",
       "      <td>0</td>\n",
       "      <td>0</td>\n",
       "      <td>0</td>\n",
       "      <td>0</td>\n",
       "      <td>0</td>\n",
       "      <td>0</td>\n",
       "      <td>0</td>\n",
       "      <td>1</td>\n",
       "      <td>1</td>\n",
       "      <td>1</td>\n",
       "    </tr>\n",
       "    <tr>\n",
       "      <th>4</th>\n",
       "      <td>83</td>\n",
       "      <td>2</td>\n",
       "      <td>1</td>\n",
       "      <td>1</td>\n",
       "      <td>803168</td>\n",
       "      <td>719163</td>\n",
       "      <td>733415</td>\n",
       "      <td>733419</td>\n",
       "      <td>733415</td>\n",
       "      <td>733419</td>\n",
       "      <td>...</td>\n",
       "      <td>0</td>\n",
       "      <td>0</td>\n",
       "      <td>0</td>\n",
       "      <td>0</td>\n",
       "      <td>0</td>\n",
       "      <td>0</td>\n",
       "      <td>0</td>\n",
       "      <td>1</td>\n",
       "      <td>0</td>\n",
       "      <td>1</td>\n",
       "    </tr>\n",
       "  </tbody>\n",
       "</table>\n",
       "<p>5 rows × 9095 columns</p>\n",
       "</div>"
      ],
      "text/plain": [
       "   Age  NoPhysician  NoOfDiag  NoOfProc  ORD_DOD  ORD_DOB  ORD_ClaimStartDt  \\\n",
       "0   66            1         9         0   803168   719163            733509   \n",
       "1   95            3         9         2   803168   719163            733427   \n",
       "2   87            2         9         1   803168   719163            733697   \n",
       "3   79            3         7         1   803168   719163            733705   \n",
       "4   83            2         1         1   803168   719163            733415   \n",
       "\n",
       "   ORD_ClaimEndDt  ORD_AdmissionDt  ORD_DischargeDt  ...  \\\n",
       "0          733515           733509           733515  ...   \n",
       "1          733439           733427           733439  ...   \n",
       "2          733715           733697           733715  ...   \n",
       "3          733709           733705           733709  ...   \n",
       "4          733419           733415           733419  ...   \n",
       "\n",
       "   DiagnosisGroupCode_986  DiagnosisGroupCode_987  DiagnosisGroupCode_988  \\\n",
       "0                       0                       0                       0   \n",
       "1                       0                       1                       0   \n",
       "2                       0                       0                       0   \n",
       "3                       0                       0                       0   \n",
       "4                       0                       0                       0   \n",
       "\n",
       "   DiagnosisGroupCode_989  DiagnosisGroupCode_998  DiagnosisGroupCode_999  \\\n",
       "0                       0                       0                       0   \n",
       "1                       0                       0                       0   \n",
       "2                       0                       0                       0   \n",
       "3                       0                       0                       0   \n",
       "4                       0                       0                       0   \n",
       "\n",
       "   DiagnosisGroupCode_OTH  AttendingPhysicianPresent_1  \\\n",
       "0                       0                            1   \n",
       "1                       0                            1   \n",
       "2                       0                            1   \n",
       "3                       0                            1   \n",
       "4                       0                            1   \n",
       "\n",
       "   OtherPhysicianPresent_1  OperatingPhysicianPresent_1  \n",
       "0                        0                            0  \n",
       "1                        1                            1  \n",
       "2                        0                            1  \n",
       "3                        1                            1  \n",
       "4                        0                            1  \n",
       "\n",
       "[5 rows x 9095 columns]"
      ]
     },
     "execution_count": 22,
     "metadata": {},
     "output_type": "execute_result"
    }
   ],
   "source": [
    "reg_df.head(5)"
   ]
  },
  {
   "cell_type": "markdown",
   "metadata": {},
   "source": [
    "## Regression Target Variable"
   ]
  },
  {
   "cell_type": "code",
   "execution_count": 23,
   "metadata": {
    "ExecuteTime": {
     "end_time": "2020-07-05T05:41:31.951486Z",
     "start_time": "2020-07-05T05:41:31.940970Z"
    }
   },
   "outputs": [
    {
     "data": {
      "text/plain": [
       "0        26000.0\n",
       "1        19000.0\n",
       "2        17000.0\n",
       "3        13000.0\n",
       "4         3000.0\n",
       "          ...   \n",
       "40469    12000.0\n",
       "40470     5000.0\n",
       "40471    14000.0\n",
       "40472    10000.0\n",
       "40473     6000.0\n",
       "Name: InscClaimAmtReimbursed, Length: 40474, dtype: float64"
      ]
     },
     "execution_count": 23,
     "metadata": {},
     "output_type": "execute_result"
    }
   ],
   "source": [
    "reg_target"
   ]
  },
  {
   "cell_type": "code",
   "execution_count": 24,
   "metadata": {
    "ExecuteTime": {
     "end_time": "2020-07-05T03:52:39.913640Z",
     "start_time": "2020-07-05T03:52:39.840958Z"
    }
   },
   "outputs": [
    {
     "data": {
      "text/html": [
       "<div>\n",
       "<style scoped>\n",
       "    .dataframe tbody tr th:only-of-type {\n",
       "        vertical-align: middle;\n",
       "    }\n",
       "\n",
       "    .dataframe tbody tr th {\n",
       "        vertical-align: top;\n",
       "    }\n",
       "\n",
       "    .dataframe thead th {\n",
       "        text-align: right;\n",
       "    }\n",
       "</style>\n",
       "<table border=\"1\" class=\"dataframe\">\n",
       "  <thead>\n",
       "    <tr style=\"text-align: right;\">\n",
       "      <th></th>\n",
       "      <th>Age</th>\n",
       "      <th>NoPhysician</th>\n",
       "      <th>NoOfDiag</th>\n",
       "      <th>NoOfProc</th>\n",
       "      <th>ORD_DOD</th>\n",
       "      <th>ORD_DOB</th>\n",
       "      <th>ORD_ClaimStartDt</th>\n",
       "      <th>ORD_ClaimEndDt</th>\n",
       "      <th>ORD_AdmissionDt</th>\n",
       "      <th>ORD_DischargeDt</th>\n",
       "      <th>DaysAdmitted</th>\n",
       "      <th>IPAnnualReimbursementAmt</th>\n",
       "      <th>IPAnnualDeductibleAmt</th>\n",
       "      <th>InscClaimAmtReimbursed</th>\n",
       "    </tr>\n",
       "  </thead>\n",
       "  <tbody>\n",
       "    <tr>\n",
       "      <th>count</th>\n",
       "      <td>40474.000000</td>\n",
       "      <td>40474.000000</td>\n",
       "      <td>40474.000000</td>\n",
       "      <td>40474.000000</td>\n",
       "      <td>40474.000000</td>\n",
       "      <td>40474.0</td>\n",
       "      <td>40474.000000</td>\n",
       "      <td>40474.000000</td>\n",
       "      <td>40474.000000</td>\n",
       "      <td>40474.000000</td>\n",
       "      <td>40474.000000</td>\n",
       "      <td>40474.000000</td>\n",
       "      <td>40474.000000</td>\n",
       "      <td>40474.000000</td>\n",
       "    </tr>\n",
       "    <tr>\n",
       "      <th>mean</th>\n",
       "      <td>73.181598</td>\n",
       "      <td>1.701883</td>\n",
       "      <td>8.087365</td>\n",
       "      <td>0.733607</td>\n",
       "      <td>802621.757573</td>\n",
       "      <td>719163.0</td>\n",
       "      <td>733577.740698</td>\n",
       "      <td>733583.400949</td>\n",
       "      <td>733577.734867</td>\n",
       "      <td>733583.400035</td>\n",
       "      <td>6.665168</td>\n",
       "      <td>17528.645056</td>\n",
       "      <td>1887.461234</td>\n",
       "      <td>10087.884074</td>\n",
       "    </tr>\n",
       "    <tr>\n",
       "      <th>std</th>\n",
       "      <td>13.187784</td>\n",
       "      <td>0.618905</td>\n",
       "      <td>1.851830</td>\n",
       "      <td>0.761113</td>\n",
       "      <td>6138.365984</td>\n",
       "      <td>0.0</td>\n",
       "      <td>104.884925</td>\n",
       "      <td>104.658338</td>\n",
       "      <td>104.888036</td>\n",
       "      <td>104.659525</td>\n",
       "      <td>5.638538</td>\n",
       "      <td>17562.156402</td>\n",
       "      <td>1686.848629</td>\n",
       "      <td>10303.099402</td>\n",
       "    </tr>\n",
       "    <tr>\n",
       "      <th>min</th>\n",
       "      <td>25.000000</td>\n",
       "      <td>0.000000</td>\n",
       "      <td>1.000000</td>\n",
       "      <td>0.000000</td>\n",
       "      <td>733439.000000</td>\n",
       "      <td>719163.0</td>\n",
       "      <td>733373.000000</td>\n",
       "      <td>733408.000000</td>\n",
       "      <td>733373.000000</td>\n",
       "      <td>733408.000000</td>\n",
       "      <td>1.000000</td>\n",
       "      <td>0.000000</td>\n",
       "      <td>0.000000</td>\n",
       "      <td>0.000000</td>\n",
       "    </tr>\n",
       "    <tr>\n",
       "      <th>25%</th>\n",
       "      <td>67.000000</td>\n",
       "      <td>1.000000</td>\n",
       "      <td>8.000000</td>\n",
       "      <td>0.000000</td>\n",
       "      <td>803168.000000</td>\n",
       "      <td>719163.0</td>\n",
       "      <td>733486.000000</td>\n",
       "      <td>733492.000000</td>\n",
       "      <td>733486.000000</td>\n",
       "      <td>733492.000000</td>\n",
       "      <td>3.000000</td>\n",
       "      <td>6000.000000</td>\n",
       "      <td>1068.000000</td>\n",
       "      <td>4000.000000</td>\n",
       "    </tr>\n",
       "    <tr>\n",
       "      <th>50%</th>\n",
       "      <td>74.000000</td>\n",
       "      <td>2.000000</td>\n",
       "      <td>9.000000</td>\n",
       "      <td>1.000000</td>\n",
       "      <td>803168.000000</td>\n",
       "      <td>719163.0</td>\n",
       "      <td>733574.000000</td>\n",
       "      <td>733580.000000</td>\n",
       "      <td>733574.000000</td>\n",
       "      <td>733580.000000</td>\n",
       "      <td>5.000000</td>\n",
       "      <td>12000.000000</td>\n",
       "      <td>1068.000000</td>\n",
       "      <td>7000.000000</td>\n",
       "    </tr>\n",
       "    <tr>\n",
       "      <th>75%</th>\n",
       "      <td>82.000000</td>\n",
       "      <td>2.000000</td>\n",
       "      <td>9.000000</td>\n",
       "      <td>1.000000</td>\n",
       "      <td>803168.000000</td>\n",
       "      <td>719163.0</td>\n",
       "      <td>733667.000000</td>\n",
       "      <td>733673.000000</td>\n",
       "      <td>733667.000000</td>\n",
       "      <td>733673.000000</td>\n",
       "      <td>8.000000</td>\n",
       "      <td>22000.000000</td>\n",
       "      <td>2136.000000</td>\n",
       "      <td>12000.000000</td>\n",
       "    </tr>\n",
       "    <tr>\n",
       "      <th>max</th>\n",
       "      <td>101.000000</td>\n",
       "      <td>3.000000</td>\n",
       "      <td>10.000000</td>\n",
       "      <td>5.000000</td>\n",
       "      <td>803168.000000</td>\n",
       "      <td>719163.0</td>\n",
       "      <td>733772.000000</td>\n",
       "      <td>733772.000000</td>\n",
       "      <td>733772.000000</td>\n",
       "      <td>733772.000000</td>\n",
       "      <td>36.000000</td>\n",
       "      <td>161470.000000</td>\n",
       "      <td>38272.000000</td>\n",
       "      <td>125000.000000</td>\n",
       "    </tr>\n",
       "  </tbody>\n",
       "</table>\n",
       "</div>"
      ],
      "text/plain": [
       "                Age   NoPhysician      NoOfDiag      NoOfProc        ORD_DOD  \\\n",
       "count  40474.000000  40474.000000  40474.000000  40474.000000   40474.000000   \n",
       "mean      73.181598      1.701883      8.087365      0.733607  802621.757573   \n",
       "std       13.187784      0.618905      1.851830      0.761113    6138.365984   \n",
       "min       25.000000      0.000000      1.000000      0.000000  733439.000000   \n",
       "25%       67.000000      1.000000      8.000000      0.000000  803168.000000   \n",
       "50%       74.000000      2.000000      9.000000      1.000000  803168.000000   \n",
       "75%       82.000000      2.000000      9.000000      1.000000  803168.000000   \n",
       "max      101.000000      3.000000     10.000000      5.000000  803168.000000   \n",
       "\n",
       "        ORD_DOB  ORD_ClaimStartDt  ORD_ClaimEndDt  ORD_AdmissionDt  \\\n",
       "count   40474.0      40474.000000    40474.000000     40474.000000   \n",
       "mean   719163.0     733577.740698   733583.400949    733577.734867   \n",
       "std         0.0        104.884925      104.658338       104.888036   \n",
       "min    719163.0     733373.000000   733408.000000    733373.000000   \n",
       "25%    719163.0     733486.000000   733492.000000    733486.000000   \n",
       "50%    719163.0     733574.000000   733580.000000    733574.000000   \n",
       "75%    719163.0     733667.000000   733673.000000    733667.000000   \n",
       "max    719163.0     733772.000000   733772.000000    733772.000000   \n",
       "\n",
       "       ORD_DischargeDt  DaysAdmitted  IPAnnualReimbursementAmt  \\\n",
       "count     40474.000000  40474.000000              40474.000000   \n",
       "mean     733583.400035      6.665168              17528.645056   \n",
       "std         104.659525      5.638538              17562.156402   \n",
       "min      733408.000000      1.000000                  0.000000   \n",
       "25%      733492.000000      3.000000               6000.000000   \n",
       "50%      733580.000000      5.000000              12000.000000   \n",
       "75%      733673.000000      8.000000              22000.000000   \n",
       "max      733772.000000     36.000000             161470.000000   \n",
       "\n",
       "       IPAnnualDeductibleAmt  InscClaimAmtReimbursed  \n",
       "count           40474.000000            40474.000000  \n",
       "mean             1887.461234            10087.884074  \n",
       "std              1686.848629            10303.099402  \n",
       "min                 0.000000                0.000000  \n",
       "25%              1068.000000             4000.000000  \n",
       "50%              1068.000000             7000.000000  \n",
       "75%              2136.000000            12000.000000  \n",
       "max             38272.000000           125000.000000  "
      ]
     },
     "execution_count": 24,
     "metadata": {},
     "output_type": "execute_result"
    }
   ],
   "source": [
    "Xlab2_df.describe()"
   ]
  },
  {
   "cell_type": "markdown",
   "metadata": {},
   "source": [
    "# **Modeling and Evaluation 1**"
   ]
  },
  {
   "cell_type": "markdown",
   "metadata": {},
   "source": [
    "## Task 1: Classification - Provider Fraud\n",
    "We will predict possible fraudulent claims and measure effectiveness using 10-fold cross validation and focus on attaining high metrics in F-1, recall and precision, in that order. Precision measures the percentage of fraudulent predictions which are truly fraudulent, and recall measures the total percentage of fraudulent claims correctly identified. These two metrics have been identified as most appropriate, due to our objective of correctly identifying fraudulent claims.  We want a high recall score, but not at the expense of precision (we can get 100% recall by classifying everyone as fraudulent).  F-1 should give us a good balance between the two, as they have an inverse relationship, where increasing one often decreases the other. \n",
    "\n",
    "## Task 2: Regression \n",
    "For our regression prediction task, we will attempt to predict the Insurance Claim Amount Reimbursed using the same dataset we used for fraudulent claim prediction in our classification task.  We will focus on Mean Squared Error to gauge the performance of our prediction results, and $R^2$ to help explain correlation of our selected features in our final models.  Mean squared error, given by:\n",
    "\n",
    "$MSE = \\frac{1}{n} \\sum_{i=1}^{n}(y_{i}-\\hat{f}(x_{i}))^2$ [ISLR: Springer]\n",
    "\n",
    "is used to evaluate how well our models are performing by quantifying the variance between our predictions and the true response value.  MSE will be small if predictions are close to true responses, and large if the prediction and response are significantly different.\n",
    "\n",
    "While we use MSE to evaluate the performance of one regression algorithm against another, $R^2$ can be used to measure how much correlation exists between our selected features and the response.  In layman's terms, $R^2$ is the percent of variance in response captured by our selected features. \n"
   ]
  },
  {
   "cell_type": "markdown",
   "metadata": {},
   "source": [
    "# **Modeling and Evaluation 2**"
   ]
  },
  {
   "cell_type": "markdown",
   "metadata": {},
   "source": [
    "## Sparse Matrix Conversion and Test/Train Split\n",
    "The minMax Scaler returns a dense numpy array.  Because we have so many features, we need to transform the data back into a sparse matrix for efficient . **CSC(Compressed Sparse Column)** is more efficient at accessing column-vectors or column operations, generally, as it is stored as arrays of columns and their value at each row.\n",
    "\n",
    "We chose to scale, convert to sparse and do test/train splits all before our pipeline in order to save processing time in the pipeline and grid search model execution steps.  The scaler takes a few minutes, and we don't want to introduce this lag to the repetitive pipeline.  This also gives us the advantage of using the exact same test/train splits for all models for a fair evaluation.  \n",
    "\n",
    "## Cross Validation Method\n",
    "\n",
    "We're using 10 fold cross validation because it will utilize it's own splits of the training data and help to ensures we don't overfit to the training data, in addition to witholding test data entirely from the models so we can more effectively evaluate generalization ability on a dataset that hasn't been seen by our models.  It has another benefit of using 10 different test/train splits of the training data, so if we happen by chance to get the best possible prediction outcome the first time we run it, we have 9 more chances to even out our prediction metrics using an average of the 10 runs.  This greatly increases our confidence that we are correctly reporting model performance metrics. "
   ]
  },
  {
   "cell_type": "code",
   "execution_count": 25,
   "metadata": {
    "ExecuteTime": {
     "end_time": "2020-07-05T05:42:04.049682Z",
     "start_time": "2020-07-05T05:41:46.402188Z"
    }
   },
   "outputs": [],
   "source": [
    "X = csc_matrix(X1)\n",
    "X_train,X_test,y_train,y_test = train_test_split(X,target_df,test_size=0.2,random_state=lab2_random_state)"
   ]
  },
  {
   "cell_type": "markdown",
   "metadata": {},
   "source": [
    "# **Modeling and Evaluations 3**"
   ]
  },
  {
   "cell_type": "markdown",
   "metadata": {},
   "source": [
    "## function Defnitions"
   ]
  },
  {
   "cell_type": "markdown",
   "metadata": {},
   "source": [
    "### 1.0 testPerformance"
   ]
  },
  {
   "cell_type": "markdown",
   "metadata": {},
   "source": [
    "Below is a helper function designed to help test our models after hypertuning.  It takes a pipeline object and a parameter array and executes the grid search, as well as running a new cross validation and confusion matrix on the test data that we withheld from the training set.\n",
    "\n",
    "First it creates a cross validation object, with 10-fold cross validation and an 80/20 test split.  Next it fits our training data to the model(s) listed in the grid, then it executes each model once for each combination of parameters given in the parameter array.  After obtaining the results, it displays the metrics data we defined (ROC, Accuracy, Precision, Recall and F1), with the best model being chosen with the highest F1 score.  After displaying these results, it performs 10 fold cross validation on the test data (witheld from the training data) to see how well the model performs on new data outside of the training set.  We then create a confusion matrix which can highlight models that look good on paper (high scores), but are actually poor performers.  We see this in cases where recall gets really great scores, but the vast majority of claims get classified as fraudulent, which is not realistic.  \n",
    "\n",
    "We can control the recall bias by increasing the prediction threshold (i.e. by using predict_proba() instead of predict())."
   ]
  },
  {
   "cell_type": "code",
   "execution_count": 26,
   "metadata": {
    "ExecuteTime": {
     "end_time": "2020-07-05T05:46:31.276260Z",
     "start_time": "2020-07-05T05:46:31.245710Z"
    }
   },
   "outputs": [],
   "source": [
    "def testPerformance(pipeline, params,n1_jobs=-1):\n",
    "    \n",
    "    cv = ShuffleSplit(n_splits=10, test_size=.2, random_state=lab2_random_state)\n",
    "    \n",
    "    #Perform the grid search using accuracy as a metric during cross validation.\n",
    "    grid = GridSearchCV(pipeline, params, cv=cv, \n",
    "                        scoring=['roc_auc','accuracy','f1','recall','precision'], \n",
    "                        n_jobs=n1_jobs, refit='f1')\n",
    "    \n",
    "    #Use the best features from recursive feature elimination during the grid search\n",
    "    start_time = timeit.default_timer()\n",
    "    grid.fit(X_train, y_train)\n",
    "    grid_time = timeit.default_timer() - start_time\n",
    "    #display the best pipeline model identified during the grid search\n",
    "    print(\"\\ngrid time: \", grid_time)\n",
    "\n",
    "    gridResults = pd.DataFrame.from_dict(grid.cv_results_)\n",
    "    \n",
    "    \n",
    "    fileName = str(grid.best_estimator_[0]).split('(')[0]+'_CV_Results.xlsx'\n",
    "    gridResults.to_excel(fileName)\n",
    "    \n",
    "    \n",
    "    fewResults = pd.DataFrame(grid.cv_results_)[['params','mean_fit_time','mean_test_roc_auc',\"mean_test_accuracy\",\"mean_test_precision\",\"mean_test_recall\",\"mean_test_f1\"]].dropna()\n",
    "    display(fewResults.sort_values(by='mean_test_f1'))\n",
    "    \n",
    "    print('Best Estimator   : ',grid.best_estimator_[0])\n",
    "    print('Best Parameters  : ',grid.best_params_)\n",
    "    print('Best Scores      : ',grid.best_score_)    \n",
    "\n",
    "    \n",
    "    start_time = timeit.default_timer()\n",
    "\n",
    "    clf = grid.best_estimator_[0]\n",
    "    # fit the model\n",
    "    clf.fit(X_train,y_train)\n",
    "\n",
    "    fit_time = timeit.default_timer() - start_time\n",
    "\n",
    "    # do 10-fold cross validation:\n",
    "    f1scores  = cross_val_score(clf, X_test, y_test, cv=cv, scoring='f1'       , n_jobs=n1_jobs)\n",
    "    PreScores = cross_val_score(clf, X_test, y_test, cv=cv, scoring='precision', n_jobs=n1_jobs)\n",
    "    RecScores = cross_val_score(clf, X_test, y_test, cv=cv, scoring='recall'   , n_jobs=n1_jobs)\n",
    "    \n",
    "    print('\\n10-fold Cross Validation results:')\n",
    "    print('---------------------------------')\n",
    "    print('F1 scores:', f1scores)\n",
    "    print('\\nPrecision scores', PreScores)\n",
    "    print('\\nRecall scores', RecScores)\n",
    "\n",
    "    print('\\nAverage F1: ',np.average(f1scores))\n",
    "    print('Min F1: ',np.min(f1scores))\n",
    "    print('Max F1: ',np.max(f1scores))\n",
    "    print('\\nAverage Precision: ',np.average(PreScores))\n",
    "    print('Min Precision: ',np.min(PreScores))\n",
    "    print('Max Precision: ',np.max(PreScores))\n",
    "    print('\\nAverage Recall: ',np.average(RecScores))\n",
    "    print('Min Recall: ',np.min(RecScores))\n",
    "    print('Max Recall: ',np.max(RecScores))\n",
    "\n",
    "    cv_time = timeit.default_timer() - start_time - fit_time\n",
    "\n",
    "    # Build Confusion Matrix to test generality:\n",
    "    y_pred=clf.predict(X_test)\n",
    "    cnf_matrix = metrics.confusion_matrix(y_test, y_pred)\n",
    "\n",
    "    class_names=[0,1] # name  of classes\n",
    "    fig, ax = plt.subplots()\n",
    "    tick_marks = np.arange(len(class_names))\n",
    "    plt.xticks(tick_marks, class_names)\n",
    "    plt.yticks(tick_marks, class_names)\n",
    "\n",
    "    # create heatmap\n",
    "    sns.heatmap(pd.DataFrame(cnf_matrix), annot=True, cmap=\"YlGnBu\" ,fmt='g')\n",
    "    ax.xaxis.set_label_position(\"top\")\n",
    "    plt.tight_layout()\n",
    "    plt.title('Potential Fraud Confusion matrix', y=1.1)\n",
    "    plt.ylabel('Actual Fraud')\n",
    "    plt.xlabel('Predicted Fraud')\n",
    "    plt.show\n",
    "    print('\\nSingle Run results:')\n",
    "    print('---------------------------------')\n",
    "    print(\"Accuracy:\",metrics.accuracy_score(y_test, y_pred))\n",
    "    print(\"Precision:\",metrics.precision_score(y_test, y_pred))\n",
    "    print(\"Recall:\",metrics.recall_score(y_test, y_pred))\n",
    "    print(\"F1:\",metrics.f1_score(y_test, y_pred))\n",
    "    \n",
    "    print(\"\\nFit time: \", fit_time)\n",
    "    print(\"CV time: \", cv_time)\n",
    "    print(\"Total time: \", timeit.default_timer() - start_time)\n",
    "    return(grid)"
   ]
  },
  {
   "cell_type": "code",
   "execution_count": 200,
   "metadata": {},
   "outputs": [],
   "source": [
    "%matplotlib notebook\n",
    "def viz_hyperparameter(results,X_axis,xlabel,scoring,xlim,ylim,plot_title):\n",
    "    plt.figure(figsize=(13, 13))\n",
    "    plt.title('GridSearchCV evaluating using multiple scorers simultaneously'+plot_title, fontsize=12)\n",
    "    plt.xlabel(xlabel)    \n",
    "    plt.ylabel('Score')\n",
    "    ax = plt.gca()\n",
    "    ax.set_xlim(xlim[0], xlim[1])\n",
    "    ax.set_ylim(ylim[0], ylim[1])\n",
    "    for scorer, color in zip(sorted(scoring), ['g', 'k','b','r','c']):\n",
    "        sample = 'test'\n",
    "        style  = '-'\n",
    "        sample_score_mean = results['mean_%s_%s' % (sample, scorer)]\n",
    "        sample_score_std  = results['std_%s_%s'  % (sample, scorer)]\n",
    "        ax.fill_between(X_axis, sample_score_mean - sample_score_std,\n",
    "                                sample_score_mean + sample_score_std,\n",
    "                                alpha=0.1, color=color)\n",
    "        ax.plot(X_axis, sample_score_mean, style, color=color,\n",
    "                        alpha=0.5,label='%s (%s)' % (scorer, sample))\n",
    "    best_index = np.nonzero(results['rank_test_%s' % scorer] == 1)[0][0]\n",
    "    best_score = results['mean_test_%s' % scorer][best_index]\n",
    "    #Plot a dotted vertical line at the best score for that scorer marked by x\n",
    "    ax.plot([X_axis[best_index], ] * 2, [0, best_score],\n",
    "            linestyle='-.', color=color, marker='x', markeredgewidth=3, ms=8)\n",
    "    # Annotate the best score for that scorer\n",
    "    ax.annotate('%0.2f' % best_score, (X_axis[best_index], best_score + 0.005))\n",
    "    plt.legend(loc='best')\n",
    "    plt.grid(False)\n",
    "    plt.show()"
   ]
  },
  {
   "cell_type": "markdown",
   "metadata": {},
   "source": [
    "### 2.0 Display Weights"
   ]
  },
  {
   "cell_type": "code",
   "execution_count": 27,
   "metadata": {
    "ExecuteTime": {
     "end_time": "2020-07-05T05:46:34.483043Z",
     "start_time": "2020-07-05T05:46:34.474857Z"
    }
   },
   "outputs": [],
   "source": [
    "def display_weights(grid_object,class_model=\"logistic\"):\n",
    "    # summarize feature importance\n",
    "    \n",
    "    if ( class_model == \"rf\" ):\n",
    "      zip_vars = zip(ipdata.columns,grid_object.best_estimator_[0].feature_importances_) # combine attributes    \n",
    "    else:\n",
    "      zip_vars = zip(ipdata.columns,grid_object.best_estimator_[0].coef_.T) # combine attributes\n",
    "    \n",
    "    FeatureWeights = pd.DataFrame(list(zip_vars), columns=['Feature', 'Weight'])\n",
    "    display(FeatureWeights.sort_values(by='Weight',ascending=False))\n"
   ]
  },
  {
   "cell_type": "markdown",
   "metadata": {},
   "source": [
    "### 3.0 lab2_grid_search"
   ]
  },
  {
   "cell_type": "code",
   "execution_count": 28,
   "metadata": {
    "ExecuteTime": {
     "end_time": "2020-07-05T05:46:38.509526Z",
     "start_time": "2020-07-05T05:46:38.497719Z"
    }
   },
   "outputs": [],
   "source": [
    "def lab2_grid_search(estimator,results_filename,\n",
    "                     parm_grid,splits,X,y):\n",
    "\n",
    "    cr_v = ShuffleSplit(n_splits=splits, test_size=.2, random_state=86)\n",
    "    \n",
    "    lab2_scoring = {'AUC'      : 'roc_auc', \n",
    "                    'Accuracy'  : make_scorer(accuracy_score),\n",
    "                    'Recall'    : make_scorer(recall_score),\n",
    "                    'Precision' : make_scorer(precision_score),\n",
    "                    'F1'        : make_scorer(f1_score)\n",
    "                  }\n",
    "\n",
    "    clf = GridSearchCV(estimator,\n",
    "                       param_grid = parm_grid, cv = cr_v, \n",
    "                       verbose=True, n_jobs=1,\n",
    "                       scoring=lab2_scoring,\n",
    "                       refit='AUC', return_train_score=True )\n",
    "        \n",
    "    clf_fit = clf.fit(X, y)\n",
    "    \n",
    "    results= pd.DataFrame.from_dict(clf_fit.cv_results_)\n",
    "    results.to_csv('data/'+results_filename)\n",
    "    \n",
    "    return clf_fit"
   ]
  },
  {
   "cell_type": "markdown",
   "metadata": {},
   "source": [
    "## **Task 1: Classification Models**"
   ]
  },
  {
   "cell_type": "markdown",
   "metadata": {},
   "source": [
    "We have choosen to use following parametric (logistic) and non-parametric estimators (random forest and Naive Bayes) to build model to predict fraudulent claims. These estimators are being built on the sparse dataset and will optimized using grid search optimziation. Grid search is one of the several optimization technique to tune hyperparameters. <br>\n",
    "1. Logistic Regression\n",
    "2. Random Forest\n",
    "3. Naive Bayes"
   ]
  },
  {
   "cell_type": "markdown",
   "metadata": {},
   "source": [
    "### **HyperParameter Tuning and Grid Search**"
   ]
  },
  {
   "cell_type": "markdown",
   "metadata": {},
   "source": [
    "Each machine learning models composed on two different types of parameters: <br>\n",
    "* HyperParameters - Parameters which can be arbitrarily set by users before training starts. e.g. number of\n",
    "  estimators in random forest)\n",
    "* Model Parameters - Learned during model learning process e.g. Linear/Logistic regression.\n",
    "\n",
    "Model parameters define how to use input data to get expected results typical learned during training time.\n",
    "Hyperparameters determine how models are structured in first place. Hyperparameters are arbitrarily set and estimators may have one ore more hyperparameters, if they do so then we need to find their combination of their values which can help to find either minimum (e.g loss) or maximum (e.g accuracy/recall) of the function.\n",
    "\n",
    "We have used following process to find optimal values of hyperparameters for three chosen models for this assignments\n",
    "   1. All estimators have common function get_params which returns parameters that can be set before training starts. So first step is to look for parameters.\n",
    "   2. Create parameter grid that can be passed to sklearn’s gridsearch method. Model tunining will be performed based on these parameters\n",
    "   3. Call Grid Search to find all possible models based on parameter grid. Sklearn’s Gridsearch is wrapped inside testperformance function that we wrote to do more than gridsearch. Details of that function is available in Function definition section\n",
    "   4. Grid search runs and builds models based on parameter grid , ranks them based on performance and selects best of all model and sets best model in best_estimator and inside best_parameter.\n",
    "   5. Model evaluation will be done based on best models returned by gridsearch for different estimators that we are going to use for hyperparameter tuning.\n",
    "\n",
    "We could have used pipeline to gridsearch all estimators in one shot but runtimes are very high for size of our data so we decided to run them individually to get results and start analyzing instead of waiting longer to get all models at once."
   ]
  },
  {
   "cell_type": "markdown",
   "metadata": {},
   "source": [
    "### **Logistic Regression Classifier**"
   ]
  },
  {
   "cell_type": "markdown",
   "metadata": {},
   "source": [
    "#### Logistic Parameters\n",
    "Sklearn provides get_params function that returns set of parameters that can be set arbitrarily before starting machine learning process. <br>\n",
    "\n",
    "Logistic regression returns following parameters which can be tuned to find best model:\n",
    "\n",
    "As shown below get_params() returns parameters which can be configured before training starts. As documentened in Scikit Sklearn. LogisticRegression class implements regularized logistic regression by default using ‘liblinear’ library, ‘newton-cg’, ‘sag’, ‘saga’ and ‘lbfgs’ solvers. These are differen solver algorithms are used in opptimization problems. This class can handle both dense and sparse data and we will using sparse data to run logistic regression.\n",
    "\n",
    "The ‘newton-cg’, ‘sag’, and ‘lbfgs’ solvers support only L2 regularization with primal formulation, or no regularization. The ‘liblinear’ solver supports both L1 and L2 regularization, with a dual formulation only for the L2 penalty. The Elastic-Net regularization is only supported by the ‘saga’ solver.\n",
    "\n",
    "Based on information that is available on the scikit documentation we are using liblinear solver with l1 penalty and sag solver with l2 penaly which will be tuned using hyperparameter C.\n",
    "\n",
    "C is  Inverse regularization parameter - A control variable that retains strength modification of Regularization by being inversely positioned to the Lambda regulator.\n",
    "Given how Scikit cites it as being:\n",
    "\n",
    "                                          C = 1/λ\n",
    "                                           \n",
    "The relationship, would be that lowering C - would strengthen the Lambda regulator.\n",
    "\n",
    "It's a form of Controlled variable decay - Derives from conventional use in Support Vector Machine models, where it denotes Soft Margin parameter denotation."
   ]
  },
  {
   "cell_type": "code",
   "execution_count": 29,
   "metadata": {
    "ExecuteTime": {
     "end_time": "2020-07-05T04:05:12.479081Z",
     "start_time": "2020-07-05T04:05:12.471475Z"
    }
   },
   "outputs": [
    {
     "data": {
      "text/plain": [
       "{'C': 1.0,\n",
       " 'class_weight': None,\n",
       " 'dual': False,\n",
       " 'fit_intercept': True,\n",
       " 'intercept_scaling': 1,\n",
       " 'l1_ratio': None,\n",
       " 'max_iter': 100,\n",
       " 'multi_class': 'auto',\n",
       " 'n_jobs': None,\n",
       " 'penalty': 'l2',\n",
       " 'random_state': 100,\n",
       " 'solver': 'lbfgs',\n",
       " 'tol': 0.0001,\n",
       " 'verbose': 0,\n",
       " 'warm_start': False}"
      ]
     },
     "execution_count": 29,
     "metadata": {},
     "output_type": "execute_result"
    }
   ],
   "source": [
    "log_reg  = LogisticRegression(random_state=lab2_random_state)\n",
    "log_pipe = make_pipeline(log_reg)\n",
    "log_reg.get_params()"
   ]
  },
  {
   "cell_type": "markdown",
   "metadata": {},
   "source": [
    "#### Parameter Grid"
   ]
  },
  {
   "cell_type": "code",
   "execution_count": 30,
   "metadata": {
    "ExecuteTime": {
     "end_time": "2020-07-05T04:05:51.112258Z",
     "start_time": "2020-07-05T04:05:51.106802Z"
    }
   },
   "outputs": [],
   "source": [
    "log_param_grid = [\n",
    "      {'logisticregression__penalty'      : ['l1'],\n",
    "       'logisticregression__C'            : np.logspace(-4, 4, 20),\n",
    "       'logisticregression__solver'       : ['liblinear'],\n",
    "       'logisticregression__random_state' : [lab2_random_state]},\n",
    "      {'logisticregression__penalty'      : ['l2'],\n",
    "       'logisticregression__C'            : np.logspace(-4, 4, 20),\n",
    "       'logisticregression__solver'       : ['sag'],\n",
    "       'logisticregression__max_iter'     : [800],\n",
    "       'logisticregression__random_state' : [lab2_random_state]}\n",
    "  ]"
   ]
  },
  {
   "cell_type": "markdown",
   "metadata": {},
   "source": [
    "#### **Logistic Regression GridSearch Results:**"
   ]
  },
  {
   "cell_type": "code",
   "execution_count": 31,
   "metadata": {
    "ExecuteTime": {
     "end_time": "2020-07-05T04:10:09.294868Z",
     "start_time": "2020-07-05T04:05:52.800466Z"
    }
   },
   "outputs": [
    {
     "name": "stdout",
     "output_type": "stream",
     "text": [
      "\n",
      "grid time:  262.74444518302334\n"
     ]
    },
    {
     "data": {
      "text/html": [
       "<div>\n",
       "<style scoped>\n",
       "    .dataframe tbody tr th:only-of-type {\n",
       "        vertical-align: middle;\n",
       "    }\n",
       "\n",
       "    .dataframe tbody tr th {\n",
       "        vertical-align: top;\n",
       "    }\n",
       "\n",
       "    .dataframe thead th {\n",
       "        text-align: right;\n",
       "    }\n",
       "</style>\n",
       "<table border=\"1\" class=\"dataframe\">\n",
       "  <thead>\n",
       "    <tr style=\"text-align: right;\">\n",
       "      <th></th>\n",
       "      <th>params</th>\n",
       "      <th>mean_fit_time</th>\n",
       "      <th>mean_test_roc_auc</th>\n",
       "      <th>mean_test_accuracy</th>\n",
       "      <th>mean_test_precision</th>\n",
       "      <th>mean_test_recall</th>\n",
       "      <th>mean_test_f1</th>\n",
       "    </tr>\n",
       "  </thead>\n",
       "  <tbody>\n",
       "    <tr>\n",
       "      <th>0</th>\n",
       "      <td>{'logisticregression__C': 0.0001, 'logisticreg...</td>\n",
       "      <td>0.099025</td>\n",
       "      <td>0.500000</td>\n",
       "      <td>0.421649</td>\n",
       "      <td>0.000000</td>\n",
       "      <td>0.000000</td>\n",
       "      <td>0.000000</td>\n",
       "    </tr>\n",
       "    <tr>\n",
       "      <th>1</th>\n",
       "      <td>{'logisticregression__C': 0.000263665089873035...</td>\n",
       "      <td>0.121682</td>\n",
       "      <td>0.500000</td>\n",
       "      <td>0.421649</td>\n",
       "      <td>0.000000</td>\n",
       "      <td>0.000000</td>\n",
       "      <td>0.000000</td>\n",
       "    </tr>\n",
       "    <tr>\n",
       "      <th>19</th>\n",
       "      <td>{'logisticregression__C': 10000.0, 'logisticre...</td>\n",
       "      <td>12.371187</td>\n",
       "      <td>0.572839</td>\n",
       "      <td>0.574506</td>\n",
       "      <td>0.626488</td>\n",
       "      <td>0.654579</td>\n",
       "      <td>0.640195</td>\n",
       "    </tr>\n",
       "    <tr>\n",
       "      <th>18</th>\n",
       "      <td>{'logisticregression__C': 3792.690190732246, '...</td>\n",
       "      <td>14.144071</td>\n",
       "      <td>0.573006</td>\n",
       "      <td>0.574552</td>\n",
       "      <td>0.626483</td>\n",
       "      <td>0.654794</td>\n",
       "      <td>0.640295</td>\n",
       "    </tr>\n",
       "    <tr>\n",
       "      <th>17</th>\n",
       "      <td>{'logisticregression__C': 1438.44988828766, 'l...</td>\n",
       "      <td>13.016100</td>\n",
       "      <td>0.573499</td>\n",
       "      <td>0.574768</td>\n",
       "      <td>0.626648</td>\n",
       "      <td>0.655033</td>\n",
       "      <td>0.640496</td>\n",
       "    </tr>\n",
       "    <tr>\n",
       "      <th>16</th>\n",
       "      <td>{'logisticregression__C': 545.5594781168514, '...</td>\n",
       "      <td>16.764305</td>\n",
       "      <td>0.574389</td>\n",
       "      <td>0.575216</td>\n",
       "      <td>0.626988</td>\n",
       "      <td>0.655543</td>\n",
       "      <td>0.640916</td>\n",
       "    </tr>\n",
       "    <tr>\n",
       "      <th>15</th>\n",
       "      <td>{'logisticregression__C': 206.913808111479, 'l...</td>\n",
       "      <td>19.962300</td>\n",
       "      <td>0.575775</td>\n",
       "      <td>0.575463</td>\n",
       "      <td>0.627124</td>\n",
       "      <td>0.656022</td>\n",
       "      <td>0.641218</td>\n",
       "    </tr>\n",
       "    <tr>\n",
       "      <th>14</th>\n",
       "      <td>{'logisticregression__C': 78.47599703514607, '...</td>\n",
       "      <td>21.700908</td>\n",
       "      <td>0.578384</td>\n",
       "      <td>0.576760</td>\n",
       "      <td>0.628013</td>\n",
       "      <td>0.657894</td>\n",
       "      <td>0.642576</td>\n",
       "    </tr>\n",
       "    <tr>\n",
       "      <th>37</th>\n",
       "      <td>{'logisticregression__C': 1438.44988828766, 'l...</td>\n",
       "      <td>28.308225</td>\n",
       "      <td>0.580117</td>\n",
       "      <td>0.577409</td>\n",
       "      <td>0.627948</td>\n",
       "      <td>0.660849</td>\n",
       "      <td>0.643952</td>\n",
       "    </tr>\n",
       "    <tr>\n",
       "      <th>38</th>\n",
       "      <td>{'logisticregression__C': 3792.690190732246, '...</td>\n",
       "      <td>28.232879</td>\n",
       "      <td>0.579938</td>\n",
       "      <td>0.577486</td>\n",
       "      <td>0.628014</td>\n",
       "      <td>0.660903</td>\n",
       "      <td>0.644013</td>\n",
       "    </tr>\n",
       "    <tr>\n",
       "      <th>39</th>\n",
       "      <td>{'logisticregression__C': 10000.0, 'logisticre...</td>\n",
       "      <td>22.638652</td>\n",
       "      <td>0.579870</td>\n",
       "      <td>0.577532</td>\n",
       "      <td>0.628061</td>\n",
       "      <td>0.660904</td>\n",
       "      <td>0.644038</td>\n",
       "    </tr>\n",
       "    <tr>\n",
       "      <th>36</th>\n",
       "      <td>{'logisticregression__C': 545.5594781168514, '...</td>\n",
       "      <td>28.302372</td>\n",
       "      <td>0.580584</td>\n",
       "      <td>0.577795</td>\n",
       "      <td>0.628250</td>\n",
       "      <td>0.661251</td>\n",
       "      <td>0.644302</td>\n",
       "    </tr>\n",
       "    <tr>\n",
       "      <th>35</th>\n",
       "      <td>{'logisticregression__C': 206.913808111479, 'l...</td>\n",
       "      <td>28.265629</td>\n",
       "      <td>0.581754</td>\n",
       "      <td>0.578567</td>\n",
       "      <td>0.628812</td>\n",
       "      <td>0.662244</td>\n",
       "      <td>0.645068</td>\n",
       "    </tr>\n",
       "    <tr>\n",
       "      <th>13</th>\n",
       "      <td>{'logisticregression__C': 29.763514416313132, ...</td>\n",
       "      <td>20.088450</td>\n",
       "      <td>0.582862</td>\n",
       "      <td>0.579555</td>\n",
       "      <td>0.629884</td>\n",
       "      <td>0.662085</td>\n",
       "      <td>0.645552</td>\n",
       "    </tr>\n",
       "    <tr>\n",
       "      <th>34</th>\n",
       "      <td>{'logisticregression__C': 78.47599703514607, '...</td>\n",
       "      <td>28.343902</td>\n",
       "      <td>0.584413</td>\n",
       "      <td>0.580111</td>\n",
       "      <td>0.629744</td>\n",
       "      <td>0.664972</td>\n",
       "      <td>0.646849</td>\n",
       "    </tr>\n",
       "    <tr>\n",
       "      <th>33</th>\n",
       "      <td>{'logisticregression__C': 29.763514416313132, ...</td>\n",
       "      <td>23.829468</td>\n",
       "      <td>0.589229</td>\n",
       "      <td>0.582674</td>\n",
       "      <td>0.631030</td>\n",
       "      <td>0.670440</td>\n",
       "      <td>0.650109</td>\n",
       "    </tr>\n",
       "    <tr>\n",
       "      <th>12</th>\n",
       "      <td>{'logisticregression__C': 11.288378916846883, ...</td>\n",
       "      <td>17.611577</td>\n",
       "      <td>0.590167</td>\n",
       "      <td>0.583925</td>\n",
       "      <td>0.632117</td>\n",
       "      <td>0.671267</td>\n",
       "      <td>0.651073</td>\n",
       "    </tr>\n",
       "    <tr>\n",
       "      <th>32</th>\n",
       "      <td>{'logisticregression__C': 11.288378916846883, ...</td>\n",
       "      <td>13.232832</td>\n",
       "      <td>0.595951</td>\n",
       "      <td>0.587431</td>\n",
       "      <td>0.633805</td>\n",
       "      <td>0.678974</td>\n",
       "      <td>0.655570</td>\n",
       "    </tr>\n",
       "    <tr>\n",
       "      <th>11</th>\n",
       "      <td>{'logisticregression__C': 4.281332398719396, '...</td>\n",
       "      <td>14.167302</td>\n",
       "      <td>0.602240</td>\n",
       "      <td>0.592449</td>\n",
       "      <td>0.636590</td>\n",
       "      <td>0.688304</td>\n",
       "      <td>0.661396</td>\n",
       "    </tr>\n",
       "    <tr>\n",
       "      <th>31</th>\n",
       "      <td>{'logisticregression__C': 4.281332398719396, '...</td>\n",
       "      <td>6.608211</td>\n",
       "      <td>0.604420</td>\n",
       "      <td>0.593267</td>\n",
       "      <td>0.636820</td>\n",
       "      <td>0.690715</td>\n",
       "      <td>0.662626</td>\n",
       "    </tr>\n",
       "    <tr>\n",
       "      <th>30</th>\n",
       "      <td>{'logisticregression__C': 1.623776739188721, '...</td>\n",
       "      <td>3.187096</td>\n",
       "      <td>0.614477</td>\n",
       "      <td>0.600463</td>\n",
       "      <td>0.639832</td>\n",
       "      <td>0.707453</td>\n",
       "      <td>0.671899</td>\n",
       "    </tr>\n",
       "    <tr>\n",
       "      <th>10</th>\n",
       "      <td>{'logisticregression__C': 1.623776739188721, '...</td>\n",
       "      <td>7.781393</td>\n",
       "      <td>0.619992</td>\n",
       "      <td>0.604957</td>\n",
       "      <td>0.641979</td>\n",
       "      <td>0.716686</td>\n",
       "      <td>0.677236</td>\n",
       "    </tr>\n",
       "    <tr>\n",
       "      <th>29</th>\n",
       "      <td>{'logisticregression__C': 0.615848211066026, '...</td>\n",
       "      <td>2.232658</td>\n",
       "      <td>0.625413</td>\n",
       "      <td>0.608200</td>\n",
       "      <td>0.642564</td>\n",
       "      <td>0.727047</td>\n",
       "      <td>0.682152</td>\n",
       "    </tr>\n",
       "    <tr>\n",
       "      <th>28</th>\n",
       "      <td>{'logisticregression__C': 0.23357214690901212,...</td>\n",
       "      <td>6.088042</td>\n",
       "      <td>0.635706</td>\n",
       "      <td>0.616198</td>\n",
       "      <td>0.644835</td>\n",
       "      <td>0.748929</td>\n",
       "      <td>0.692951</td>\n",
       "    </tr>\n",
       "    <tr>\n",
       "      <th>9</th>\n",
       "      <td>{'logisticregression__C': 0.615848211066026, '...</td>\n",
       "      <td>4.613144</td>\n",
       "      <td>0.641422</td>\n",
       "      <td>0.621279</td>\n",
       "      <td>0.647428</td>\n",
       "      <td>0.758059</td>\n",
       "      <td>0.698351</td>\n",
       "    </tr>\n",
       "    <tr>\n",
       "      <th>27</th>\n",
       "      <td>{'logisticregression__C': 0.08858667904100823,...</td>\n",
       "      <td>2.988222</td>\n",
       "      <td>0.643511</td>\n",
       "      <td>0.623178</td>\n",
       "      <td>0.644310</td>\n",
       "      <td>0.777961</td>\n",
       "      <td>0.704819</td>\n",
       "    </tr>\n",
       "    <tr>\n",
       "      <th>8</th>\n",
       "      <td>{'logisticregression__C': 0.23357214690901212,...</td>\n",
       "      <td>1.811559</td>\n",
       "      <td>0.655456</td>\n",
       "      <td>0.630528</td>\n",
       "      <td>0.646704</td>\n",
       "      <td>0.796157</td>\n",
       "      <td>0.713655</td>\n",
       "    </tr>\n",
       "    <tr>\n",
       "      <th>26</th>\n",
       "      <td>{'logisticregression__C': 0.03359818286283781,...</td>\n",
       "      <td>1.881979</td>\n",
       "      <td>0.646553</td>\n",
       "      <td>0.624413</td>\n",
       "      <td>0.637732</td>\n",
       "      <td>0.811812</td>\n",
       "      <td>0.714278</td>\n",
       "    </tr>\n",
       "    <tr>\n",
       "      <th>25</th>\n",
       "      <td>{'logisticregression__C': 0.012742749857031334...</td>\n",
       "      <td>4.214845</td>\n",
       "      <td>0.643473</td>\n",
       "      <td>0.615581</td>\n",
       "      <td>0.620791</td>\n",
       "      <td>0.861925</td>\n",
       "      <td>0.721706</td>\n",
       "    </tr>\n",
       "    <tr>\n",
       "      <th>7</th>\n",
       "      <td>{'logisticregression__C': 0.08858667904100823,...</td>\n",
       "      <td>0.945595</td>\n",
       "      <td>0.655155</td>\n",
       "      <td>0.626174</td>\n",
       "      <td>0.633548</td>\n",
       "      <td>0.838996</td>\n",
       "      <td>0.721896</td>\n",
       "    </tr>\n",
       "    <tr>\n",
       "      <th>6</th>\n",
       "      <td>{'logisticregression__C': 0.03359818286283781,...</td>\n",
       "      <td>0.943996</td>\n",
       "      <td>0.637820</td>\n",
       "      <td>0.605806</td>\n",
       "      <td>0.607342</td>\n",
       "      <td>0.900779</td>\n",
       "      <td>0.725490</td>\n",
       "    </tr>\n",
       "    <tr>\n",
       "      <th>5</th>\n",
       "      <td>{'logisticregression__C': 0.012742749857031334...</td>\n",
       "      <td>0.864071</td>\n",
       "      <td>0.570866</td>\n",
       "      <td>0.580358</td>\n",
       "      <td>0.582730</td>\n",
       "      <td>0.967353</td>\n",
       "      <td>0.727223</td>\n",
       "    </tr>\n",
       "    <tr>\n",
       "      <th>24</th>\n",
       "      <td>{'logisticregression__C': 0.004832930238571752...</td>\n",
       "      <td>3.763043</td>\n",
       "      <td>0.634803</td>\n",
       "      <td>0.600324</td>\n",
       "      <td>0.599839</td>\n",
       "      <td>0.928291</td>\n",
       "      <td>0.728733</td>\n",
       "    </tr>\n",
       "    <tr>\n",
       "      <th>23</th>\n",
       "      <td>{'logisticregression__C': 0.001832980710832435...</td>\n",
       "      <td>2.613930</td>\n",
       "      <td>0.623376</td>\n",
       "      <td>0.585191</td>\n",
       "      <td>0.584363</td>\n",
       "      <td>0.979508</td>\n",
       "      <td>0.731988</td>\n",
       "    </tr>\n",
       "    <tr>\n",
       "      <th>4</th>\n",
       "      <td>{'logisticregression__C': 0.004832930238571752...</td>\n",
       "      <td>0.790402</td>\n",
       "      <td>0.523617</td>\n",
       "      <td>0.578258</td>\n",
       "      <td>0.578318</td>\n",
       "      <td>0.999790</td>\n",
       "      <td>0.732754</td>\n",
       "    </tr>\n",
       "    <tr>\n",
       "      <th>3</th>\n",
       "      <td>{'logisticregression__C': 0.001832980710832435...</td>\n",
       "      <td>0.624130</td>\n",
       "      <td>0.500242</td>\n",
       "      <td>0.578351</td>\n",
       "      <td>0.578351</td>\n",
       "      <td>1.000000</td>\n",
       "      <td>0.732838</td>\n",
       "    </tr>\n",
       "    <tr>\n",
       "      <th>2</th>\n",
       "      <td>{'logisticregression__C': 0.000695192796177560...</td>\n",
       "      <td>0.408530</td>\n",
       "      <td>0.499888</td>\n",
       "      <td>0.578351</td>\n",
       "      <td>0.578351</td>\n",
       "      <td>1.000000</td>\n",
       "      <td>0.732838</td>\n",
       "    </tr>\n",
       "    <tr>\n",
       "      <th>20</th>\n",
       "      <td>{'logisticregression__C': 0.0001, 'logisticreg...</td>\n",
       "      <td>0.865077</td>\n",
       "      <td>0.598562</td>\n",
       "      <td>0.578351</td>\n",
       "      <td>0.578351</td>\n",
       "      <td>1.000000</td>\n",
       "      <td>0.732838</td>\n",
       "    </tr>\n",
       "    <tr>\n",
       "      <th>21</th>\n",
       "      <td>{'logisticregression__C': 0.000263665089873035...</td>\n",
       "      <td>1.146514</td>\n",
       "      <td>0.604169</td>\n",
       "      <td>0.578351</td>\n",
       "      <td>0.578351</td>\n",
       "      <td>1.000000</td>\n",
       "      <td>0.732838</td>\n",
       "    </tr>\n",
       "    <tr>\n",
       "      <th>22</th>\n",
       "      <td>{'logisticregression__C': 0.000695192796177560...</td>\n",
       "      <td>1.842660</td>\n",
       "      <td>0.612657</td>\n",
       "      <td>0.578474</td>\n",
       "      <td>0.578422</td>\n",
       "      <td>1.000000</td>\n",
       "      <td>0.732895</td>\n",
       "    </tr>\n",
       "  </tbody>\n",
       "</table>\n",
       "</div>"
      ],
      "text/plain": [
       "                                               params  mean_fit_time  \\\n",
       "0   {'logisticregression__C': 0.0001, 'logisticreg...       0.099025   \n",
       "1   {'logisticregression__C': 0.000263665089873035...       0.121682   \n",
       "19  {'logisticregression__C': 10000.0, 'logisticre...      12.371187   \n",
       "18  {'logisticregression__C': 3792.690190732246, '...      14.144071   \n",
       "17  {'logisticregression__C': 1438.44988828766, 'l...      13.016100   \n",
       "16  {'logisticregression__C': 545.5594781168514, '...      16.764305   \n",
       "15  {'logisticregression__C': 206.913808111479, 'l...      19.962300   \n",
       "14  {'logisticregression__C': 78.47599703514607, '...      21.700908   \n",
       "37  {'logisticregression__C': 1438.44988828766, 'l...      28.308225   \n",
       "38  {'logisticregression__C': 3792.690190732246, '...      28.232879   \n",
       "39  {'logisticregression__C': 10000.0, 'logisticre...      22.638652   \n",
       "36  {'logisticregression__C': 545.5594781168514, '...      28.302372   \n",
       "35  {'logisticregression__C': 206.913808111479, 'l...      28.265629   \n",
       "13  {'logisticregression__C': 29.763514416313132, ...      20.088450   \n",
       "34  {'logisticregression__C': 78.47599703514607, '...      28.343902   \n",
       "33  {'logisticregression__C': 29.763514416313132, ...      23.829468   \n",
       "12  {'logisticregression__C': 11.288378916846883, ...      17.611577   \n",
       "32  {'logisticregression__C': 11.288378916846883, ...      13.232832   \n",
       "11  {'logisticregression__C': 4.281332398719396, '...      14.167302   \n",
       "31  {'logisticregression__C': 4.281332398719396, '...       6.608211   \n",
       "30  {'logisticregression__C': 1.623776739188721, '...       3.187096   \n",
       "10  {'logisticregression__C': 1.623776739188721, '...       7.781393   \n",
       "29  {'logisticregression__C': 0.615848211066026, '...       2.232658   \n",
       "28  {'logisticregression__C': 0.23357214690901212,...       6.088042   \n",
       "9   {'logisticregression__C': 0.615848211066026, '...       4.613144   \n",
       "27  {'logisticregression__C': 0.08858667904100823,...       2.988222   \n",
       "8   {'logisticregression__C': 0.23357214690901212,...       1.811559   \n",
       "26  {'logisticregression__C': 0.03359818286283781,...       1.881979   \n",
       "25  {'logisticregression__C': 0.012742749857031334...       4.214845   \n",
       "7   {'logisticregression__C': 0.08858667904100823,...       0.945595   \n",
       "6   {'logisticregression__C': 0.03359818286283781,...       0.943996   \n",
       "5   {'logisticregression__C': 0.012742749857031334...       0.864071   \n",
       "24  {'logisticregression__C': 0.004832930238571752...       3.763043   \n",
       "23  {'logisticregression__C': 0.001832980710832435...       2.613930   \n",
       "4   {'logisticregression__C': 0.004832930238571752...       0.790402   \n",
       "3   {'logisticregression__C': 0.001832980710832435...       0.624130   \n",
       "2   {'logisticregression__C': 0.000695192796177560...       0.408530   \n",
       "20  {'logisticregression__C': 0.0001, 'logisticreg...       0.865077   \n",
       "21  {'logisticregression__C': 0.000263665089873035...       1.146514   \n",
       "22  {'logisticregression__C': 0.000695192796177560...       1.842660   \n",
       "\n",
       "    mean_test_roc_auc  mean_test_accuracy  mean_test_precision  \\\n",
       "0            0.500000            0.421649             0.000000   \n",
       "1            0.500000            0.421649             0.000000   \n",
       "19           0.572839            0.574506             0.626488   \n",
       "18           0.573006            0.574552             0.626483   \n",
       "17           0.573499            0.574768             0.626648   \n",
       "16           0.574389            0.575216             0.626988   \n",
       "15           0.575775            0.575463             0.627124   \n",
       "14           0.578384            0.576760             0.628013   \n",
       "37           0.580117            0.577409             0.627948   \n",
       "38           0.579938            0.577486             0.628014   \n",
       "39           0.579870            0.577532             0.628061   \n",
       "36           0.580584            0.577795             0.628250   \n",
       "35           0.581754            0.578567             0.628812   \n",
       "13           0.582862            0.579555             0.629884   \n",
       "34           0.584413            0.580111             0.629744   \n",
       "33           0.589229            0.582674             0.631030   \n",
       "12           0.590167            0.583925             0.632117   \n",
       "32           0.595951            0.587431             0.633805   \n",
       "11           0.602240            0.592449             0.636590   \n",
       "31           0.604420            0.593267             0.636820   \n",
       "30           0.614477            0.600463             0.639832   \n",
       "10           0.619992            0.604957             0.641979   \n",
       "29           0.625413            0.608200             0.642564   \n",
       "28           0.635706            0.616198             0.644835   \n",
       "9            0.641422            0.621279             0.647428   \n",
       "27           0.643511            0.623178             0.644310   \n",
       "8            0.655456            0.630528             0.646704   \n",
       "26           0.646553            0.624413             0.637732   \n",
       "25           0.643473            0.615581             0.620791   \n",
       "7            0.655155            0.626174             0.633548   \n",
       "6            0.637820            0.605806             0.607342   \n",
       "5            0.570866            0.580358             0.582730   \n",
       "24           0.634803            0.600324             0.599839   \n",
       "23           0.623376            0.585191             0.584363   \n",
       "4            0.523617            0.578258             0.578318   \n",
       "3            0.500242            0.578351             0.578351   \n",
       "2            0.499888            0.578351             0.578351   \n",
       "20           0.598562            0.578351             0.578351   \n",
       "21           0.604169            0.578351             0.578351   \n",
       "22           0.612657            0.578474             0.578422   \n",
       "\n",
       "    mean_test_recall  mean_test_f1  \n",
       "0           0.000000      0.000000  \n",
       "1           0.000000      0.000000  \n",
       "19          0.654579      0.640195  \n",
       "18          0.654794      0.640295  \n",
       "17          0.655033      0.640496  \n",
       "16          0.655543      0.640916  \n",
       "15          0.656022      0.641218  \n",
       "14          0.657894      0.642576  \n",
       "37          0.660849      0.643952  \n",
       "38          0.660903      0.644013  \n",
       "39          0.660904      0.644038  \n",
       "36          0.661251      0.644302  \n",
       "35          0.662244      0.645068  \n",
       "13          0.662085      0.645552  \n",
       "34          0.664972      0.646849  \n",
       "33          0.670440      0.650109  \n",
       "12          0.671267      0.651073  \n",
       "32          0.678974      0.655570  \n",
       "11          0.688304      0.661396  \n",
       "31          0.690715      0.662626  \n",
       "30          0.707453      0.671899  \n",
       "10          0.716686      0.677236  \n",
       "29          0.727047      0.682152  \n",
       "28          0.748929      0.692951  \n",
       "9           0.758059      0.698351  \n",
       "27          0.777961      0.704819  \n",
       "8           0.796157      0.713655  \n",
       "26          0.811812      0.714278  \n",
       "25          0.861925      0.721706  \n",
       "7           0.838996      0.721896  \n",
       "6           0.900779      0.725490  \n",
       "5           0.967353      0.727223  \n",
       "24          0.928291      0.728733  \n",
       "23          0.979508      0.731988  \n",
       "4           0.999790      0.732754  \n",
       "3           1.000000      0.732838  \n",
       "2           1.000000      0.732838  \n",
       "20          1.000000      0.732838  \n",
       "21          1.000000      0.732838  \n",
       "22          1.000000      0.732895  "
      ]
     },
     "metadata": {},
     "output_type": "display_data"
    },
    {
     "name": "stdout",
     "output_type": "stream",
     "text": [
      "Best Estimator   :  LogisticRegression(C=0.0006951927961775605, class_weight=None, dual=False,\n",
      "                   fit_intercept=True, intercept_scaling=1, l1_ratio=None,\n",
      "                   max_iter=800, multi_class='auto', n_jobs=None, penalty='l2',\n",
      "                   random_state=100, solver='sag', tol=0.0001, verbose=0,\n",
      "                   warm_start=False)\n",
      "Best Parameters  :  {'logisticregression__C': 0.0006951927961775605, 'logisticregression__max_iter': 800, 'logisticregression__penalty': 'l2', 'logisticregression__random_state': 100, 'logisticregression__solver': 'sag'}\n",
      "Best Scores      :  0.7328952206467197\n",
      "\n",
      "10-fold Cross Validation results:\n",
      "---------------------------------\n",
      "F1 scores: [0.74007782 0.73416732 0.75509419 0.7282011  0.74738878 0.7381138\n",
      " 0.74007782 0.7236894  0.71762376 0.72519685]\n",
      "\n",
      "Precision scores [0.58739963 0.57998765 0.60654725 0.57257566 0.59666461 0.58492897\n",
      " 0.58739963 0.56701668 0.55960469 0.56886967]\n",
      "\n",
      "Recall scores [1. 1. 1. 1. 1. 1. 1. 1. 1. 1.]\n",
      "\n",
      "Average F1:  0.7349630841463491\n",
      "Min F1:  0.7176237623762376\n",
      "Max F1:  0.7550941945405613\n",
      "\n",
      "Average Precision:  0.5810994441012971\n",
      "Min Precision:  0.5596046942557134\n",
      "Max Precision:  0.6065472513897467\n",
      "\n",
      "Average Recall:  1.0\n",
      "Min Recall:  1.0\n",
      "Max Recall:  1.0\n",
      "\n",
      "Single Run results:\n",
      "---------------------------------\n",
      "Accuracy: 0.5820877084620136\n",
      "Precision: 0.5819104182133136\n",
      "Recall: 0.999150201827066\n",
      "F1: 0.7354757995152085\n",
      "\n",
      "Fit time:  0.6868977620033547\n",
      "CV time:  1.0218927320092916\n",
      "Total time:  1.8363781159860082\n"
     ]
    },
    {
     "data": {
      "image/png": "[encoded data removed]",
      "text/plain": [
       "<Figure size 432x288 with 2 Axes>"
      ]
     },
     "metadata": {
      "needs_background": "light"
     },
     "output_type": "display_data"
    }
   ],
   "source": [
    "best_log_clf = testPerformance(log_pipe,log_param_grid)"
   ]
  },
  {
   "cell_type": "markdown",
   "metadata": {},
   "source": [
    "#### **Logistic Regression Feature Importance**"
   ]
  },
  {
   "cell_type": "markdown",
   "metadata": {},
   "source": [
    "We created a dataframe of features sorted by coefficient weight. It shows the top 5 negative an top 5 positive features for importance by how correlated they are with the response variable.  We calculated these weights by transposing the coefficient output from the logistic regression model, and using the Python Zip method to combine the coefficients with their corresponding feature (column) name. This gives us the feature names with their coefficient weight and preserves the index position as the label in a pandas dataframe, which we can then sort as needed."
   ]
  },
  {
   "cell_type": "code",
   "execution_count": 32,
   "metadata": {
    "ExecuteTime": {
     "end_time": "2020-07-04T21:15:13.947959Z",
     "start_time": "2020-07-04T21:15:13.702993Z"
    }
   },
   "outputs": [
    {
     "data": {
      "text/html": [
       "<div>\n",
       "<style scoped>\n",
       "    .dataframe tbody tr th:only-of-type {\n",
       "        vertical-align: middle;\n",
       "    }\n",
       "\n",
       "    .dataframe tbody tr th {\n",
       "        vertical-align: top;\n",
       "    }\n",
       "\n",
       "    .dataframe thead th {\n",
       "        text-align: right;\n",
       "    }\n",
       "</style>\n",
       "<table border=\"1\" class=\"dataframe\">\n",
       "  <thead>\n",
       "    <tr style=\"text-align: right;\">\n",
       "      <th></th>\n",
       "      <th>Feature</th>\n",
       "      <th>Weight</th>\n",
       "    </tr>\n",
       "  </thead>\n",
       "  <tbody>\n",
       "    <tr>\n",
       "      <th>6092</th>\n",
       "      <td>State_36</td>\n",
       "      <td>[0.10961150924561747]</td>\n",
       "    </tr>\n",
       "    <tr>\n",
       "      <th>6089</th>\n",
       "      <td>State_33</td>\n",
       "      <td>[0.0823917970612495]</td>\n",
       "    </tr>\n",
       "    <tr>\n",
       "      <th>6136</th>\n",
       "      <td>County_160</td>\n",
       "      <td>[0.07824457599120582]</td>\n",
       "    </tr>\n",
       "    <tr>\n",
       "      <th>6066</th>\n",
       "      <td>State_10</td>\n",
       "      <td>[0.06418713698370881]</td>\n",
       "    </tr>\n",
       "    <tr>\n",
       "      <th>6063</th>\n",
       "      <td>State_7</td>\n",
       "      <td>[0.06101368747196894]</td>\n",
       "    </tr>\n",
       "    <tr>\n",
       "      <th>...</th>\n",
       "      <td>...</td>\n",
       "      <td>...</td>\n",
       "    </tr>\n",
       "    <tr>\n",
       "      <th>6067</th>\n",
       "      <td>State_11</td>\n",
       "      <td>[-0.06199798589704838]</td>\n",
       "    </tr>\n",
       "    <tr>\n",
       "      <th>6084</th>\n",
       "      <td>State_28</td>\n",
       "      <td>[-0.06240685328314206]</td>\n",
       "    </tr>\n",
       "    <tr>\n",
       "      <th>6100</th>\n",
       "      <td>State_45</td>\n",
       "      <td>[-0.06722752975646304]</td>\n",
       "    </tr>\n",
       "    <tr>\n",
       "      <th>6095</th>\n",
       "      <td>State_39</td>\n",
       "      <td>[-0.10039220283821143]</td>\n",
       "    </tr>\n",
       "    <tr>\n",
       "      <th>9094</th>\n",
       "      <td>OtherPhysicianPresent_1</td>\n",
       "      <td>[-0.15440059565646735]</td>\n",
       "    </tr>\n",
       "  </tbody>\n",
       "</table>\n",
       "<p>9096 rows × 2 columns</p>\n",
       "</div>"
      ],
      "text/plain": [
       "                      Feature                  Weight\n",
       "6092                 State_36   [0.10961150924561747]\n",
       "6089                 State_33    [0.0823917970612495]\n",
       "6136               County_160   [0.07824457599120582]\n",
       "6066                 State_10   [0.06418713698370881]\n",
       "6063                  State_7   [0.06101368747196894]\n",
       "...                       ...                     ...\n",
       "6067                 State_11  [-0.06199798589704838]\n",
       "6084                 State_28  [-0.06240685328314206]\n",
       "6100                 State_45  [-0.06722752975646304]\n",
       "6095                 State_39  [-0.10039220283821143]\n",
       "9094  OtherPhysicianPresent_1  [-0.15440059565646735]\n",
       "\n",
       "[9096 rows x 2 columns]"
      ]
     },
     "metadata": {},
     "output_type": "display_data"
    }
   ],
   "source": [
    "display_weights(best_log_clf)    "
   ]
  },
  {
   "cell_type": "markdown",
   "metadata": {},
   "source": [
    "### **Random Forest Classifier**\n",
    "A random forest classifier.\n",
    "\"A random forest is a meta estimator that fits a number of decision tree classifiers on various sub-samples of the dataset and uses averaging to improve the predictive accuracy and control over-fitting. The sub-sample size is controlled with the max_samples parameter if bootstrap=True (default), otherwise the whole dataset is used to build each tree.\" [scikitlearn-doc]\n",
    "\n",
    "#### Random Forest Parameters\n",
    "\n",
    "Random forest, which is non-parametric classfier also has many parameters that can be set prior training starts.\n",
    "For our data we will be using following two parameters\n",
    "1. max_features\n",
    "2. n_estimators\n",
    "\n",
    "max features is number of features to consider when looking for the best split:<br>\n",
    "\n",
    "If int, then consider max_features features at each split.<br>\n",
    "If float, then max_features is a fraction and int(max_features * n_features) features are considered at each split.<br>\n",
    "If “auto”, then max_features=sqrt(n_features).<br>\n",
    "If “sqrt”, then max_features=sqrt(n_features) (same as “auto”).<br>\n",
    "If “log2”, then max_features=log2(n_features).<br>\n",
    "If None, then max_features=n_features. [scikitlearn-doc]<br><br>\n",
    "n_estimators is number of trees in classifier. We are going to try with 20 different size of the trees incrementaly from 10 to 200 with step size of 10."
   ]
  },
  {
   "cell_type": "code",
   "execution_count": 33,
   "metadata": {
    "ExecuteTime": {
     "end_time": "2020-07-05T02:52:34.212488Z",
     "start_time": "2020-07-05T02:52:34.207176Z"
    }
   },
   "outputs": [
    {
     "data": {
      "text/plain": [
       "{'bootstrap': True,\n",
       " 'ccp_alpha': 0.0,\n",
       " 'class_weight': None,\n",
       " 'criterion': 'gini',\n",
       " 'max_depth': None,\n",
       " 'max_features': 'auto',\n",
       " 'max_leaf_nodes': None,\n",
       " 'max_samples': None,\n",
       " 'min_impurity_decrease': 0.0,\n",
       " 'min_impurity_split': None,\n",
       " 'min_samples_leaf': 1,\n",
       " 'min_samples_split': 2,\n",
       " 'min_weight_fraction_leaf': 0.0,\n",
       " 'n_estimators': 100,\n",
       " 'n_jobs': None,\n",
       " 'oob_score': False,\n",
       " 'random_state': 100,\n",
       " 'verbose': 0,\n",
       " 'warm_start': False}"
      ]
     },
     "execution_count": 33,
     "metadata": {},
     "output_type": "execute_result"
    }
   ],
   "source": [
    "rf = RandomForestClassifier(random_state=lab2_random_state)\n",
    "rf_pipe = make_pipeline(rf)\n",
    "rf.get_params()\n",
    "\n"
   ]
  },
  {
   "cell_type": "markdown",
   "metadata": {},
   "source": [
    "#### Parameter Grid"
   ]
  },
  {
   "cell_type": "code",
   "execution_count": 34,
   "metadata": {
    "ExecuteTime": {
     "end_time": "2020-07-05T02:52:37.529661Z",
     "start_time": "2020-07-05T02:52:37.525625Z"
    }
   },
   "outputs": [],
   "source": [
    "rf_param_grid = [\n",
    "      {'randomforestclassifier__max_features' :  np.arange(1,6,1),\n",
    "       'randomforestclassifier__n_estimators' :  np.arange(10,210,10),\n",
    "       'randomforestclassifier__random_state' :  [lab2_random_state],\n",
    "       'randomforestclassifier__n_jobs'       :  [-1]\n",
    "      }\n",
    "  ]"
   ]
  },
  {
   "cell_type": "markdown",
   "metadata": {},
   "source": [
    "#### **Random Forest GridSearch Results** "
   ]
  },
  {
   "cell_type": "code",
   "execution_count": 35,
   "metadata": {
    "ExecuteTime": {
     "end_time": "2020-07-04T21:24:41.894347Z",
     "start_time": "2020-07-04T21:23:46.791237Z"
    }
   },
   "outputs": [
    {
     "name": "stderr",
     "output_type": "stream",
     "text": [
      "/home/dustin/anaconda3/envs/DS7331/lib/python3.7/site-packages/joblib/externals/loky/process_executor.py:706: UserWarning: A worker stopped while some jobs were given to the executor. This can be caused by a too short worker timeout or by a memory leak.\n",
      "  \"timeout or by a memory leak.\", UserWarning\n"
     ]
    },
    {
     "name": "stdout",
     "output_type": "stream",
     "text": [
      "\n",
      "grid time:  3195.4517433720175\n"
     ]
    },
    {
     "data": {
      "text/html": [
       "<div>\n",
       "<style scoped>\n",
       "    .dataframe tbody tr th:only-of-type {\n",
       "        vertical-align: middle;\n",
       "    }\n",
       "\n",
       "    .dataframe tbody tr th {\n",
       "        vertical-align: top;\n",
       "    }\n",
       "\n",
       "    .dataframe thead th {\n",
       "        text-align: right;\n",
       "    }\n",
       "</style>\n",
       "<table border=\"1\" class=\"dataframe\">\n",
       "  <thead>\n",
       "    <tr style=\"text-align: right;\">\n",
       "      <th></th>\n",
       "      <th>params</th>\n",
       "      <th>mean_fit_time</th>\n",
       "      <th>mean_test_roc_auc</th>\n",
       "      <th>mean_test_accuracy</th>\n",
       "      <th>mean_test_precision</th>\n",
       "      <th>mean_test_recall</th>\n",
       "      <th>mean_test_f1</th>\n",
       "    </tr>\n",
       "  </thead>\n",
       "  <tbody>\n",
       "    <tr>\n",
       "      <th>0</th>\n",
       "      <td>{'randomforestclassifier__max_features': 1, 'r...</td>\n",
       "      <td>5.303545</td>\n",
       "      <td>0.526075</td>\n",
       "      <td>0.530420</td>\n",
       "      <td>0.594929</td>\n",
       "      <td>0.589504</td>\n",
       "      <td>0.592142</td>\n",
       "    </tr>\n",
       "    <tr>\n",
       "      <th>20</th>\n",
       "      <td>{'randomforestclassifier__max_features': 2, 'r...</td>\n",
       "      <td>7.918934</td>\n",
       "      <td>0.529114</td>\n",
       "      <td>0.533138</td>\n",
       "      <td>0.597288</td>\n",
       "      <td>0.591787</td>\n",
       "      <td>0.594467</td>\n",
       "    </tr>\n",
       "    <tr>\n",
       "      <th>40</th>\n",
       "      <td>{'randomforestclassifier__max_features': 3, 'r...</td>\n",
       "      <td>8.346876</td>\n",
       "      <td>0.534939</td>\n",
       "      <td>0.536133</td>\n",
       "      <td>0.599265</td>\n",
       "      <td>0.597477</td>\n",
       "      <td>0.598322</td>\n",
       "    </tr>\n",
       "    <tr>\n",
       "      <th>60</th>\n",
       "      <td>{'randomforestclassifier__max_features': 4, 'r...</td>\n",
       "      <td>8.492380</td>\n",
       "      <td>0.542159</td>\n",
       "      <td>0.540982</td>\n",
       "      <td>0.604337</td>\n",
       "      <td>0.597631</td>\n",
       "      <td>0.600902</td>\n",
       "    </tr>\n",
       "    <tr>\n",
       "      <th>80</th>\n",
       "      <td>{'randomforestclassifier__max_features': 5, 'r...</td>\n",
       "      <td>8.967054</td>\n",
       "      <td>0.543439</td>\n",
       "      <td>0.542881</td>\n",
       "      <td>0.605413</td>\n",
       "      <td>0.602550</td>\n",
       "      <td>0.603869</td>\n",
       "    </tr>\n",
       "    <tr>\n",
       "      <th>...</th>\n",
       "      <td>...</td>\n",
       "      <td>...</td>\n",
       "      <td>...</td>\n",
       "      <td>...</td>\n",
       "      <td>...</td>\n",
       "      <td>...</td>\n",
       "      <td>...</td>\n",
       "    </tr>\n",
       "    <tr>\n",
       "      <th>95</th>\n",
       "      <td>{'randomforestclassifier__max_features': 5, 'r...</td>\n",
       "      <td>76.984839</td>\n",
       "      <td>0.621077</td>\n",
       "      <td>0.602857</td>\n",
       "      <td>0.600538</td>\n",
       "      <td>0.936112</td>\n",
       "      <td>0.731639</td>\n",
       "    </tr>\n",
       "    <tr>\n",
       "      <th>97</th>\n",
       "      <td>{'randomforestclassifier__max_features': 5, 'r...</td>\n",
       "      <td>86.889605</td>\n",
       "      <td>0.623570</td>\n",
       "      <td>0.601374</td>\n",
       "      <td>0.598999</td>\n",
       "      <td>0.940421</td>\n",
       "      <td>0.731806</td>\n",
       "    </tr>\n",
       "    <tr>\n",
       "      <th>96</th>\n",
       "      <td>{'randomforestclassifier__max_features': 5, 'r...</td>\n",
       "      <td>82.308565</td>\n",
       "      <td>0.622929</td>\n",
       "      <td>0.602687</td>\n",
       "      <td>0.600138</td>\n",
       "      <td>0.938282</td>\n",
       "      <td>0.732007</td>\n",
       "    </tr>\n",
       "    <tr>\n",
       "      <th>98</th>\n",
       "      <td>{'randomforestclassifier__max_features': 5, 'r...</td>\n",
       "      <td>90.377248</td>\n",
       "      <td>0.624983</td>\n",
       "      <td>0.601405</td>\n",
       "      <td>0.598728</td>\n",
       "      <td>0.942715</td>\n",
       "      <td>0.732300</td>\n",
       "    </tr>\n",
       "    <tr>\n",
       "      <th>99</th>\n",
       "      <td>{'randomforestclassifier__max_features': 5, 'r...</td>\n",
       "      <td>71.202222</td>\n",
       "      <td>0.626082</td>\n",
       "      <td>0.601004</td>\n",
       "      <td>0.598276</td>\n",
       "      <td>0.944262</td>\n",
       "      <td>0.732425</td>\n",
       "    </tr>\n",
       "  </tbody>\n",
       "</table>\n",
       "<p>100 rows × 7 columns</p>\n",
       "</div>"
      ],
      "text/plain": [
       "                                               params  mean_fit_time  \\\n",
       "0   {'randomforestclassifier__max_features': 1, 'r...       5.303545   \n",
       "20  {'randomforestclassifier__max_features': 2, 'r...       7.918934   \n",
       "40  {'randomforestclassifier__max_features': 3, 'r...       8.346876   \n",
       "60  {'randomforestclassifier__max_features': 4, 'r...       8.492380   \n",
       "80  {'randomforestclassifier__max_features': 5, 'r...       8.967054   \n",
       "..                                                ...            ...   \n",
       "95  {'randomforestclassifier__max_features': 5, 'r...      76.984839   \n",
       "97  {'randomforestclassifier__max_features': 5, 'r...      86.889605   \n",
       "96  {'randomforestclassifier__max_features': 5, 'r...      82.308565   \n",
       "98  {'randomforestclassifier__max_features': 5, 'r...      90.377248   \n",
       "99  {'randomforestclassifier__max_features': 5, 'r...      71.202222   \n",
       "\n",
       "    mean_test_roc_auc  mean_test_accuracy  mean_test_precision  \\\n",
       "0            0.526075            0.530420             0.594929   \n",
       "20           0.529114            0.533138             0.597288   \n",
       "40           0.534939            0.536133             0.599265   \n",
       "60           0.542159            0.540982             0.604337   \n",
       "80           0.543439            0.542881             0.605413   \n",
       "..                ...                 ...                  ...   \n",
       "95           0.621077            0.602857             0.600538   \n",
       "97           0.623570            0.601374             0.598999   \n",
       "96           0.622929            0.602687             0.600138   \n",
       "98           0.624983            0.601405             0.598728   \n",
       "99           0.626082            0.601004             0.598276   \n",
       "\n",
       "    mean_test_recall  mean_test_f1  \n",
       "0           0.589504      0.592142  \n",
       "20          0.591787      0.594467  \n",
       "40          0.597477      0.598322  \n",
       "60          0.597631      0.600902  \n",
       "80          0.602550      0.603869  \n",
       "..               ...           ...  \n",
       "95          0.936112      0.731639  \n",
       "97          0.940421      0.731806  \n",
       "96          0.938282      0.732007  \n",
       "98          0.942715      0.732300  \n",
       "99          0.944262      0.732425  \n",
       "\n",
       "[100 rows x 7 columns]"
      ]
     },
     "metadata": {},
     "output_type": "display_data"
    },
    {
     "name": "stdout",
     "output_type": "stream",
     "text": [
      "Best Estimator   :  RandomForestClassifier(bootstrap=True, ccp_alpha=0.0, class_weight=None,\n",
      "                       criterion='gini', max_depth=None, max_features=5,\n",
      "                       max_leaf_nodes=None, max_samples=None,\n",
      "                       min_impurity_decrease=0.0, min_impurity_split=None,\n",
      "                       min_samples_leaf=1, min_samples_split=2,\n",
      "                       min_weight_fraction_leaf=0.0, n_estimators=200,\n",
      "                       n_jobs=-1, oob_score=False, random_state=100, verbose=0,\n",
      "                       warm_start=False)\n",
      "Best Parameters  :  {'randomforestclassifier__max_features': 5, 'randomforestclassifier__n_estimators': 200, 'randomforestclassifier__n_jobs': -1, 'randomforestclassifier__random_state': 100}\n",
      "Best Scores      :  0.7324248050115264\n",
      "\n",
      "10-fold Cross Validation results:\n",
      "---------------------------------\n",
      "F1 scores: [0.73399015 0.72321429 0.74241812 0.72443532 0.73184584 0.73384803\n",
      " 0.72697503 0.7169193  0.71609996 0.71510204]\n",
      "\n",
      "Precision scores [0.6020202  0.5842623  0.61569416 0.58488064 0.60173449 0.59643329\n",
      " 0.59517426 0.57452397 0.56938111 0.57292348]\n",
      "\n",
      "Recall scores [0.94006309 0.94888179 0.93482688 0.95145631 0.93374741 0.95353749\n",
      " 0.93375394 0.95315904 0.96467991 0.95114007]\n",
      "\n",
      "Average F1:  0.7264848064383308\n",
      "Min F1:  0.7151020408163266\n",
      "Max F1:  0.7424181156490092\n",
      "\n",
      "Average Precision:  0.5897027893138127\n",
      "Min Precision:  0.5693811074918567\n",
      "Max Precision:  0.6156941649899397\n",
      "\n",
      "Average Recall:  0.9465245935477092\n",
      "Min Recall:  0.9337474120082816\n",
      "Max Recall:  0.9646799116997793\n",
      "\n",
      "Single Run results:\n",
      "---------------------------------\n",
      "Accuracy: 0.5995058678196418\n",
      "Precision: 0.5989998648466008\n",
      "Recall: 0.9415763756107924\n",
      "F1: 0.7321989096315876\n",
      "\n",
      "Fit time:  6.694946264964528\n",
      "CV time:  31.295652821019758\n",
      "Total time:  38.28958940500161\n"
     ]
    },
    {
     "data": {
      "image/png": "[encoded data removed]",
      "text/plain": [
       "<Figure size 432x288 with 2 Axes>"
      ]
     },
     "metadata": {
      "needs_background": "light"
     },
     "output_type": "display_data"
    }
   ],
   "source": [
    "best_rf_clf = testPerformance(rf_pipe,rf_param_grid)"
   ]
  },
  {
   "cell_type": "markdown",
   "metadata": {},
   "source": [
    "#### **Random Forest Feature Importance**"
   ]
  },
  {
   "cell_type": "code",
   "execution_count": 36,
   "metadata": {
    "ExecuteTime": {
     "end_time": "2020-07-04T21:25:05.318896Z",
     "start_time": "2020-07-04T21:25:05.283577Z"
    }
   },
   "outputs": [
    {
     "data": {
      "text/html": [
       "<div>\n",
       "<style scoped>\n",
       "    .dataframe tbody tr th:only-of-type {\n",
       "        vertical-align: middle;\n",
       "    }\n",
       "\n",
       "    .dataframe tbody tr th {\n",
       "        vertical-align: top;\n",
       "    }\n",
       "\n",
       "    .dataframe thead th {\n",
       "        text-align: right;\n",
       "    }\n",
       "</style>\n",
       "<table border=\"1\" class=\"dataframe\">\n",
       "  <thead>\n",
       "    <tr style=\"text-align: right;\">\n",
       "      <th></th>\n",
       "      <th>Feature</th>\n",
       "      <th>Weight</th>\n",
       "    </tr>\n",
       "  </thead>\n",
       "  <tbody>\n",
       "    <tr>\n",
       "      <th>8</th>\n",
       "      <td>ORD_AdmissionDt</td>\n",
       "      <td>0.017621</td>\n",
       "    </tr>\n",
       "    <tr>\n",
       "      <th>7</th>\n",
       "      <td>ORD_ClaimEndDt</td>\n",
       "      <td>0.017372</td>\n",
       "    </tr>\n",
       "    <tr>\n",
       "      <th>9</th>\n",
       "      <td>ORD_DischargeDt</td>\n",
       "      <td>0.017323</td>\n",
       "    </tr>\n",
       "    <tr>\n",
       "      <th>6</th>\n",
       "      <td>ORD_ClaimStartDt</td>\n",
       "      <td>0.017316</td>\n",
       "    </tr>\n",
       "    <tr>\n",
       "      <th>11</th>\n",
       "      <td>IPAnnualReimbursementAmt</td>\n",
       "      <td>0.017093</td>\n",
       "    </tr>\n",
       "    <tr>\n",
       "      <th>...</th>\n",
       "      <td>...</td>\n",
       "      <td>...</td>\n",
       "    </tr>\n",
       "    <tr>\n",
       "      <th>6981</th>\n",
       "      <td>ClmAdmitDiagnosisCode_3589</td>\n",
       "      <td>0.000000</td>\n",
       "    </tr>\n",
       "    <tr>\n",
       "      <th>819</th>\n",
       "      <td>ProcedureCode_7719.0</td>\n",
       "      <td>0.000000</td>\n",
       "    </tr>\n",
       "    <tr>\n",
       "      <th>818</th>\n",
       "      <td>ProcedureCode_7707.0</td>\n",
       "      <td>0.000000</td>\n",
       "    </tr>\n",
       "    <tr>\n",
       "      <th>7568</th>\n",
       "      <td>ClmAdmitDiagnosisCode_62212</td>\n",
       "      <td>0.000000</td>\n",
       "    </tr>\n",
       "    <tr>\n",
       "      <th>7377</th>\n",
       "      <td>ClmAdmitDiagnosisCode_5552</td>\n",
       "      <td>0.000000</td>\n",
       "    </tr>\n",
       "  </tbody>\n",
       "</table>\n",
       "<p>9096 rows × 2 columns</p>\n",
       "</div>"
      ],
      "text/plain": [
       "                          Feature    Weight\n",
       "8                 ORD_AdmissionDt  0.017621\n",
       "7                  ORD_ClaimEndDt  0.017372\n",
       "9                 ORD_DischargeDt  0.017323\n",
       "6                ORD_ClaimStartDt  0.017316\n",
       "11       IPAnnualReimbursementAmt  0.017093\n",
       "...                           ...       ...\n",
       "6981   ClmAdmitDiagnosisCode_3589  0.000000\n",
       "819          ProcedureCode_7719.0  0.000000\n",
       "818          ProcedureCode_7707.0  0.000000\n",
       "7568  ClmAdmitDiagnosisCode_62212  0.000000\n",
       "7377   ClmAdmitDiagnosisCode_5552  0.000000\n",
       "\n",
       "[9096 rows x 2 columns]"
      ]
     },
     "metadata": {},
     "output_type": "display_data"
    }
   ],
   "source": [
    "display_weights(best_rf_clf,\"rf\")"
   ]
  },
  {
   "cell_type": "markdown",
   "metadata": {},
   "source": [
    "### **Naive Bayes Classifier**"
   ]
  },
  {
   "cell_type": "markdown",
   "metadata": {},
   "source": [
    "Naive Bayes methods are based on Baye’s theorem with Naive assumption of conditional independence between every pair of features given the value of the class variable. As per Scikit Documenation Naive Bayes learners and classifiers can be extremely fast compared to more sophisticated methods. The decoupling of the class conditional feature distributions means that each distribution can be independently estimated as a one dimensional distribution. This in turn helps to alleviate problems stemming from the curse of dimensionality.\n",
    "\n",
    "Naive Bayes is fast because all it needs are the prior probability values that do not change and can be stored ahead of time. The same probability values are reused in while calculating the posterior.\n",
    "\n",
    "Scikit Learner provides four different types of implementations on naive Bayes algorithm:\n",
    "\n",
    "<b>1. Gaussian Naive Bayes</b>\n",
    "\n",
    "   GaussianNB implements the Gaussian Naive Bayes algorithm for classification. The likelihood of the features\n",
    "   is assumed to be Gaussian and it can perform online updates to model parameters via partial_fit.But this\n",
    "   implementation does not support sparse data and is not suitable for our data.\n",
    "   \n",
    "<b>2. Multinomial Naive Bayes</b>\n",
    "\n",
    "   MultinomialNB implements the naive Bayes algorithm for multinomially distributed data, and is one of the two\n",
    "   classic naive Bayes variants typically used in text classification. The distribution is parameterized by vector ${\\theta_{y}} = ({\\theta_{y1}},......,{\\theta_{yn}}) $  for each class y where n is number of features.\n",
    "   \n",
    "$ \\hat{\\theta}_{yi} = \\frac{N_{yi}+{\\alpha} }{N_{y}+{\\alpha}n} $\n",
    "\n",
    "The smoothing priors α ≥ 0 accounts for features not present in the learning samples and prevents zero probabilities in further computations. Setting α = 1 is called Laplace smoothing, while α < 1 is called Lidstone smoothing.\n",
    "\n",
    "This alpha is hyperparameter for NB and that will be used to tune NB estimator\n",
    "\n",
    "   <b>3. Bernoulli Naive Bayes</b>\n",
    "   \n",
    "BernoulliNB implements the naive Bayes training and classification algorithms for data that is distributed according to multivariate Bernoulli distributions; i.e., there may be multiple features but each one is assumed to be a binary-valued (Bernoulli, boolean) variable. Our dataset has all types of variables. This imeplementaiton is useful when features are binary, also this implemenation too does not support sparse data. In either case this implementation is not suitable for our dataset.\n",
    "\n",
    "Therefore MultinomialNB is the only suiitable implementation fron Naive Bayes classfiers in our case. Grid search will be performed with different values of alpha to tune NB model to get optimized model."
   ]
  },
  {
   "cell_type": "code",
   "execution_count": 37,
   "metadata": {
    "ExecuteTime": {
     "end_time": "2020-07-05T04:12:31.655363Z",
     "start_time": "2020-07-05T04:12:31.649536Z"
    }
   },
   "outputs": [
    {
     "name": "stdout",
     "output_type": "stream",
     "text": [
      "Pipeline : \n",
      "Pipeline(memory=None,\n",
      "         steps=[('multinomialnb',\n",
      "                 MultinomialNB(alpha=1.0, class_prior=None, fit_prior=True))],\n",
      "         verbose=False)\n",
      "\n",
      "Hyperparameters : \n",
      "{'alpha': 1.0, 'class_prior': None, 'fit_prior': True}\n"
     ]
    },
    {
     "data": {
      "text/plain": [
       "dict_keys(['alpha', 'class_prior', 'fit_prior'])"
      ]
     },
     "execution_count": 37,
     "metadata": {},
     "output_type": "execute_result"
    }
   ],
   "source": [
    "mult_nb = MultinomialNB()\n",
    "mult_pipe = make_pipeline(mult_nb)\n",
    "print(\"Pipeline : \")\n",
    "print(mult_pipe)\n",
    "print(\"\\nHyperparameters : \")\n",
    "print(mult_nb.get_params())\n",
    "mult_nb.get_params().keys()"
   ]
  },
  {
   "cell_type": "markdown",
   "metadata": {
    "ExecuteTime": {
     "end_time": "2020-07-04T16:41:27.251017Z",
     "start_time": "2020-07-04T16:41:27.248793Z"
    }
   },
   "source": [
    "\n",
    "#### Parameter Grid"
   ]
  },
  {
   "cell_type": "code",
   "execution_count": 38,
   "metadata": {
    "ExecuteTime": {
     "end_time": "2020-07-05T04:20:11.365148Z",
     "start_time": "2020-07-05T04:20:11.361926Z"
    }
   },
   "outputs": [],
   "source": [
    "nb_param_grid = [\n",
    "      {'multinomialnb__alpha'       :  np.logspace(-4, 4, 20),#[np.arange(1,3,10)],\n",
    "       'multinomialnb__fit_prior'   :  [True]\n",
    "      }\n",
    "  ]"
   ]
  },
  {
   "cell_type": "markdown",
   "metadata": {},
   "source": [
    "#### **Naive Bayes GridSearch Results**"
   ]
  },
  {
   "cell_type": "code",
   "execution_count": 39,
   "metadata": {
    "ExecuteTime": {
     "end_time": "2020-07-05T04:20:20.226911Z",
     "start_time": "2020-07-05T04:20:13.652968Z"
    }
   },
   "outputs": [
    {
     "name": "stdout",
     "output_type": "stream",
     "text": [
      "\n",
      "grid time:  4.527057753002737\n"
     ]
    },
    {
     "data": {
      "text/html": [
       "<div>\n",
       "<style scoped>\n",
       "    .dataframe tbody tr th:only-of-type {\n",
       "        vertical-align: middle;\n",
       "    }\n",
       "\n",
       "    .dataframe tbody tr th {\n",
       "        vertical-align: top;\n",
       "    }\n",
       "\n",
       "    .dataframe thead th {\n",
       "        text-align: right;\n",
       "    }\n",
       "</style>\n",
       "<table border=\"1\" class=\"dataframe\">\n",
       "  <thead>\n",
       "    <tr style=\"text-align: right;\">\n",
       "      <th></th>\n",
       "      <th>params</th>\n",
       "      <th>mean_fit_time</th>\n",
       "      <th>mean_test_roc_auc</th>\n",
       "      <th>mean_test_accuracy</th>\n",
       "      <th>mean_test_precision</th>\n",
       "      <th>mean_test_recall</th>\n",
       "      <th>mean_test_f1</th>\n",
       "    </tr>\n",
       "  </thead>\n",
       "  <tbody>\n",
       "    <tr>\n",
       "      <th>0</th>\n",
       "      <td>{'multinomialnb__alpha': 0.0001, 'multinomialn...</td>\n",
       "      <td>0.012231</td>\n",
       "      <td>0.585309</td>\n",
       "      <td>0.585053</td>\n",
       "      <td>0.630567</td>\n",
       "      <td>0.682411</td>\n",
       "      <td>0.655419</td>\n",
       "    </tr>\n",
       "    <tr>\n",
       "      <th>1</th>\n",
       "      <td>{'multinomialnb__alpha': 0.0002636650898730358...</td>\n",
       "      <td>0.011672</td>\n",
       "      <td>0.585312</td>\n",
       "      <td>0.585053</td>\n",
       "      <td>0.630567</td>\n",
       "      <td>0.682411</td>\n",
       "      <td>0.655419</td>\n",
       "    </tr>\n",
       "    <tr>\n",
       "      <th>2</th>\n",
       "      <td>{'multinomialnb__alpha': 0.0006951927961775605...</td>\n",
       "      <td>0.011626</td>\n",
       "      <td>0.585321</td>\n",
       "      <td>0.585083</td>\n",
       "      <td>0.630585</td>\n",
       "      <td>0.682464</td>\n",
       "      <td>0.655453</td>\n",
       "    </tr>\n",
       "    <tr>\n",
       "      <th>3</th>\n",
       "      <td>{'multinomialnb__alpha': 0.0018329807108324356...</td>\n",
       "      <td>0.011582</td>\n",
       "      <td>0.585358</td>\n",
       "      <td>0.585161</td>\n",
       "      <td>0.630618</td>\n",
       "      <td>0.682651</td>\n",
       "      <td>0.655557</td>\n",
       "    </tr>\n",
       "    <tr>\n",
       "      <th>4</th>\n",
       "      <td>{'multinomialnb__alpha': 0.004832930238571752,...</td>\n",
       "      <td>0.012034</td>\n",
       "      <td>0.585500</td>\n",
       "      <td>0.585176</td>\n",
       "      <td>0.630614</td>\n",
       "      <td>0.682731</td>\n",
       "      <td>0.655592</td>\n",
       "    </tr>\n",
       "    <tr>\n",
       "      <th>5</th>\n",
       "      <td>{'multinomialnb__alpha': 0.012742749857031334,...</td>\n",
       "      <td>0.011564</td>\n",
       "      <td>0.585977</td>\n",
       "      <td>0.585222</td>\n",
       "      <td>0.630613</td>\n",
       "      <td>0.682918</td>\n",
       "      <td>0.655678</td>\n",
       "    </tr>\n",
       "    <tr>\n",
       "      <th>6</th>\n",
       "      <td>{'multinomialnb__alpha': 0.03359818286283781, ...</td>\n",
       "      <td>0.012241</td>\n",
       "      <td>0.587359</td>\n",
       "      <td>0.585377</td>\n",
       "      <td>0.630608</td>\n",
       "      <td>0.683553</td>\n",
       "      <td>0.655970</td>\n",
       "    </tr>\n",
       "    <tr>\n",
       "      <th>7</th>\n",
       "      <td>{'multinomialnb__alpha': 0.08858667904100823, ...</td>\n",
       "      <td>0.011775</td>\n",
       "      <td>0.590629</td>\n",
       "      <td>0.586535</td>\n",
       "      <td>0.630997</td>\n",
       "      <td>0.686785</td>\n",
       "      <td>0.657663</td>\n",
       "    </tr>\n",
       "    <tr>\n",
       "      <th>8</th>\n",
       "      <td>{'multinomialnb__alpha': 0.23357214690901212, ...</td>\n",
       "      <td>0.012201</td>\n",
       "      <td>0.596518</td>\n",
       "      <td>0.588867</td>\n",
       "      <td>0.631539</td>\n",
       "      <td>0.694203</td>\n",
       "      <td>0.661348</td>\n",
       "    </tr>\n",
       "    <tr>\n",
       "      <th>9</th>\n",
       "      <td>{'multinomialnb__alpha': 0.615848211066026, 'm...</td>\n",
       "      <td>0.012071</td>\n",
       "      <td>0.604550</td>\n",
       "      <td>0.595213</td>\n",
       "      <td>0.633007</td>\n",
       "      <td>0.714257</td>\n",
       "      <td>0.671141</td>\n",
       "    </tr>\n",
       "    <tr>\n",
       "      <th>10</th>\n",
       "      <td>{'multinomialnb__alpha': 1.623776739188721, 'm...</td>\n",
       "      <td>0.011973</td>\n",
       "      <td>0.612866</td>\n",
       "      <td>0.601729</td>\n",
       "      <td>0.628539</td>\n",
       "      <td>0.761511</td>\n",
       "      <td>0.688612</td>\n",
       "    </tr>\n",
       "    <tr>\n",
       "      <th>11</th>\n",
       "      <td>{'multinomialnb__alpha': 4.281332398719396, 'm...</td>\n",
       "      <td>0.011825</td>\n",
       "      <td>0.619418</td>\n",
       "      <td>0.605250</td>\n",
       "      <td>0.612072</td>\n",
       "      <td>0.867085</td>\n",
       "      <td>0.717556</td>\n",
       "    </tr>\n",
       "    <tr>\n",
       "      <th>14</th>\n",
       "      <td>{'multinomialnb__alpha': 78.47599703514607, 'm...</td>\n",
       "      <td>0.012024</td>\n",
       "      <td>0.579324</td>\n",
       "      <td>0.578351</td>\n",
       "      <td>0.578351</td>\n",
       "      <td>1.000000</td>\n",
       "      <td>0.732838</td>\n",
       "    </tr>\n",
       "    <tr>\n",
       "      <th>15</th>\n",
       "      <td>{'multinomialnb__alpha': 206.913808111479, 'mu...</td>\n",
       "      <td>0.012462</td>\n",
       "      <td>0.553114</td>\n",
       "      <td>0.578351</td>\n",
       "      <td>0.578351</td>\n",
       "      <td>1.000000</td>\n",
       "      <td>0.732838</td>\n",
       "    </tr>\n",
       "    <tr>\n",
       "      <th>16</th>\n",
       "      <td>{'multinomialnb__alpha': 545.5594781168514, 'm...</td>\n",
       "      <td>0.012545</td>\n",
       "      <td>0.533400</td>\n",
       "      <td>0.578351</td>\n",
       "      <td>0.578351</td>\n",
       "      <td>1.000000</td>\n",
       "      <td>0.732838</td>\n",
       "    </tr>\n",
       "    <tr>\n",
       "      <th>17</th>\n",
       "      <td>{'multinomialnb__alpha': 1438.44988828766, 'mu...</td>\n",
       "      <td>0.012395</td>\n",
       "      <td>0.520464</td>\n",
       "      <td>0.578351</td>\n",
       "      <td>0.578351</td>\n",
       "      <td>1.000000</td>\n",
       "      <td>0.732838</td>\n",
       "    </tr>\n",
       "    <tr>\n",
       "      <th>18</th>\n",
       "      <td>{'multinomialnb__alpha': 3792.690190732246, 'm...</td>\n",
       "      <td>0.012427</td>\n",
       "      <td>0.513249</td>\n",
       "      <td>0.578351</td>\n",
       "      <td>0.578351</td>\n",
       "      <td>1.000000</td>\n",
       "      <td>0.732838</td>\n",
       "    </tr>\n",
       "    <tr>\n",
       "      <th>19</th>\n",
       "      <td>{'multinomialnb__alpha': 10000.0, 'multinomial...</td>\n",
       "      <td>0.012565</td>\n",
       "      <td>0.509837</td>\n",
       "      <td>0.578351</td>\n",
       "      <td>0.578351</td>\n",
       "      <td>1.000000</td>\n",
       "      <td>0.732838</td>\n",
       "    </tr>\n",
       "    <tr>\n",
       "      <th>13</th>\n",
       "      <td>{'multinomialnb__alpha': 29.763514416313132, '...</td>\n",
       "      <td>0.012141</td>\n",
       "      <td>0.606296</td>\n",
       "      <td>0.578413</td>\n",
       "      <td>0.578394</td>\n",
       "      <td>0.999920</td>\n",
       "      <td>0.732851</td>\n",
       "    </tr>\n",
       "    <tr>\n",
       "      <th>12</th>\n",
       "      <td>{'multinomialnb__alpha': 11.288378916846883, '...</td>\n",
       "      <td>0.011923</td>\n",
       "      <td>0.619977</td>\n",
       "      <td>0.587832</td>\n",
       "      <td>0.585599</td>\n",
       "      <td>0.982952</td>\n",
       "      <td>0.733924</td>\n",
       "    </tr>\n",
       "  </tbody>\n",
       "</table>\n",
       "</div>"
      ],
      "text/plain": [
       "                                               params  mean_fit_time  \\\n",
       "0   {'multinomialnb__alpha': 0.0001, 'multinomialn...       0.012231   \n",
       "1   {'multinomialnb__alpha': 0.0002636650898730358...       0.011672   \n",
       "2   {'multinomialnb__alpha': 0.0006951927961775605...       0.011626   \n",
       "3   {'multinomialnb__alpha': 0.0018329807108324356...       0.011582   \n",
       "4   {'multinomialnb__alpha': 0.004832930238571752,...       0.012034   \n",
       "5   {'multinomialnb__alpha': 0.012742749857031334,...       0.011564   \n",
       "6   {'multinomialnb__alpha': 0.03359818286283781, ...       0.012241   \n",
       "7   {'multinomialnb__alpha': 0.08858667904100823, ...       0.011775   \n",
       "8   {'multinomialnb__alpha': 0.23357214690901212, ...       0.012201   \n",
       "9   {'multinomialnb__alpha': 0.615848211066026, 'm...       0.012071   \n",
       "10  {'multinomialnb__alpha': 1.623776739188721, 'm...       0.011973   \n",
       "11  {'multinomialnb__alpha': 4.281332398719396, 'm...       0.011825   \n",
       "14  {'multinomialnb__alpha': 78.47599703514607, 'm...       0.012024   \n",
       "15  {'multinomialnb__alpha': 206.913808111479, 'mu...       0.012462   \n",
       "16  {'multinomialnb__alpha': 545.5594781168514, 'm...       0.012545   \n",
       "17  {'multinomialnb__alpha': 1438.44988828766, 'mu...       0.012395   \n",
       "18  {'multinomialnb__alpha': 3792.690190732246, 'm...       0.012427   \n",
       "19  {'multinomialnb__alpha': 10000.0, 'multinomial...       0.012565   \n",
       "13  {'multinomialnb__alpha': 29.763514416313132, '...       0.012141   \n",
       "12  {'multinomialnb__alpha': 11.288378916846883, '...       0.011923   \n",
       "\n",
       "    mean_test_roc_auc  mean_test_accuracy  mean_test_precision  \\\n",
       "0            0.585309            0.585053             0.630567   \n",
       "1            0.585312            0.585053             0.630567   \n",
       "2            0.585321            0.585083             0.630585   \n",
       "3            0.585358            0.585161             0.630618   \n",
       "4            0.585500            0.585176             0.630614   \n",
       "5            0.585977            0.585222             0.630613   \n",
       "6            0.587359            0.585377             0.630608   \n",
       "7            0.590629            0.586535             0.630997   \n",
       "8            0.596518            0.588867             0.631539   \n",
       "9            0.604550            0.595213             0.633007   \n",
       "10           0.612866            0.601729             0.628539   \n",
       "11           0.619418            0.605250             0.612072   \n",
       "14           0.579324            0.578351             0.578351   \n",
       "15           0.553114            0.578351             0.578351   \n",
       "16           0.533400            0.578351             0.578351   \n",
       "17           0.520464            0.578351             0.578351   \n",
       "18           0.513249            0.578351             0.578351   \n",
       "19           0.509837            0.578351             0.578351   \n",
       "13           0.606296            0.578413             0.578394   \n",
       "12           0.619977            0.587832             0.585599   \n",
       "\n",
       "    mean_test_recall  mean_test_f1  \n",
       "0           0.682411      0.655419  \n",
       "1           0.682411      0.655419  \n",
       "2           0.682464      0.655453  \n",
       "3           0.682651      0.655557  \n",
       "4           0.682731      0.655592  \n",
       "5           0.682918      0.655678  \n",
       "6           0.683553      0.655970  \n",
       "7           0.686785      0.657663  \n",
       "8           0.694203      0.661348  \n",
       "9           0.714257      0.671141  \n",
       "10          0.761511      0.688612  \n",
       "11          0.867085      0.717556  \n",
       "14          1.000000      0.732838  \n",
       "15          1.000000      0.732838  \n",
       "16          1.000000      0.732838  \n",
       "17          1.000000      0.732838  \n",
       "18          1.000000      0.732838  \n",
       "19          1.000000      0.732838  \n",
       "13          0.999920      0.732851  \n",
       "12          0.982952      0.733924  "
      ]
     },
     "metadata": {},
     "output_type": "display_data"
    },
    {
     "name": "stdout",
     "output_type": "stream",
     "text": [
      "Best Estimator   :  MultinomialNB(alpha=11.288378916846883, class_prior=None, fit_prior=True)\n",
      "Best Parameters  :  {'multinomialnb__alpha': 11.288378916846883, 'multinomialnb__fit_prior': True}\n",
      "Best Scores      :  0.7339238845056288\n",
      "\n",
      "10-fold Cross Validation results:\n",
      "---------------------------------\n",
      "F1 scores: [0.74007782 0.73416732 0.75509419 0.7282011  0.74738878 0.7381138\n",
      " 0.74007782 0.7236894  0.71762376 0.72548247]\n",
      "\n",
      "Precision scores [0.58739963 0.57998765 0.60654725 0.57257566 0.59666461 0.58492897\n",
      " 0.58739963 0.56701668 0.55960469 0.56922126]\n",
      "\n",
      "Recall scores [1. 1. 1. 1. 1. 1. 1. 1. 1. 1.]\n",
      "\n",
      "Average F1:  0.734991646448452\n",
      "Min F1:  0.7176237623762376\n",
      "Max F1:  0.7550941945405613\n",
      "\n",
      "Average Precision:  0.5811346029191362\n",
      "Min Precision:  0.5596046942557134\n",
      "Max Precision:  0.6065472513897467\n",
      "\n",
      "Average Recall:  1.0\n",
      "Min Recall:  1.0\n",
      "Max Recall:  1.0\n",
      "\n",
      "Single Run results:\n",
      "---------------------------------\n",
      "Accuracy: 0.591846819024089\n",
      "Precision: 0.5909032007256706\n",
      "Recall: 0.9687699171446782\n",
      "F1: 0.7340631036703156\n",
      "\n",
      "Fit time:  0.008868990000337362\n",
      "CV time:  0.15493889298522845\n",
      "Total time:  0.24309683195315301\n"
     ]
    },
    {
     "data": {
      "image/png": "[encoded data removed]",
      "text/plain": [
       "<Figure size 432x288 with 2 Axes>"
      ]
     },
     "metadata": {
      "needs_background": "light"
     },
     "output_type": "display_data"
    }
   ],
   "source": [
    "best_nb_clf = testPerformance(mult_pipe,nb_param_grid,n1_jobs=None)"
   ]
  },
  {
   "cell_type": "markdown",
   "metadata": {},
   "source": [
    "#### **Naive Bayes Feature Importance**"
   ]
  },
  {
   "cell_type": "code",
   "execution_count": 40,
   "metadata": {
    "ExecuteTime": {
     "end_time": "2020-07-04T23:01:31.076513Z",
     "start_time": "2020-07-04T23:01:30.891726Z"
    }
   },
   "outputs": [
    {
     "data": {
      "text/html": [
       "<div>\n",
       "<style scoped>\n",
       "    .dataframe tbody tr th:only-of-type {\n",
       "        vertical-align: middle;\n",
       "    }\n",
       "\n",
       "    .dataframe tbody tr th {\n",
       "        vertical-align: top;\n",
       "    }\n",
       "\n",
       "    .dataframe thead th {\n",
       "        text-align: right;\n",
       "    }\n",
       "</style>\n",
       "<table border=\"1\" class=\"dataframe\">\n",
       "  <thead>\n",
       "    <tr style=\"text-align: right;\">\n",
       "      <th></th>\n",
       "      <th>Feature</th>\n",
       "      <th>Weight</th>\n",
       "    </tr>\n",
       "  </thead>\n",
       "  <tbody>\n",
       "    <tr>\n",
       "      <th>9093</th>\n",
       "      <td>AttendingPhysicianPresent_1</td>\n",
       "      <td>[-3.5823621148168243]</td>\n",
       "    </tr>\n",
       "    <tr>\n",
       "      <th>6403</th>\n",
       "      <td>NoOfMonths_PartACov_12</td>\n",
       "      <td>[-3.587036077828108]</td>\n",
       "    </tr>\n",
       "    <tr>\n",
       "      <th>4</th>\n",
       "      <td>ORD_DOD</td>\n",
       "      <td>[-3.5876059096564443]</td>\n",
       "    </tr>\n",
       "    <tr>\n",
       "      <th>6427</th>\n",
       "      <td>Alive_N</td>\n",
       "      <td>[-3.5876285973924205]</td>\n",
       "    </tr>\n",
       "    <tr>\n",
       "      <th>6415</th>\n",
       "      <td>NoOfMonths_PartBCov_12</td>\n",
       "      <td>[-3.5886528679271024]</td>\n",
       "    </tr>\n",
       "    <tr>\n",
       "      <th>...</th>\n",
       "      <td>...</td>\n",
       "      <td>...</td>\n",
       "    </tr>\n",
       "    <tr>\n",
       "      <th>5689</th>\n",
       "      <td>DiagnosisCode_V1012</td>\n",
       "      <td>[-10.99258047924537]</td>\n",
       "    </tr>\n",
       "    <tr>\n",
       "      <th>7526</th>\n",
       "      <td>ClmAdmitDiagnosisCode_6073</td>\n",
       "      <td>[-10.99258047924537]</td>\n",
       "    </tr>\n",
       "    <tr>\n",
       "      <th>7525</th>\n",
       "      <td>ClmAdmitDiagnosisCode_605</td>\n",
       "      <td>[-10.99258047924537]</td>\n",
       "    </tr>\n",
       "    <tr>\n",
       "      <th>5693</th>\n",
       "      <td>DiagnosisCode_V1040</td>\n",
       "      <td>[-10.99258047924537]</td>\n",
       "    </tr>\n",
       "    <tr>\n",
       "      <th>3346</th>\n",
       "      <td>DiagnosisCode_52469</td>\n",
       "      <td>[-10.99258047924537]</td>\n",
       "    </tr>\n",
       "  </tbody>\n",
       "</table>\n",
       "<p>9096 rows × 2 columns</p>\n",
       "</div>"
      ],
      "text/plain": [
       "                          Feature                 Weight\n",
       "9093  AttendingPhysicianPresent_1  [-3.5823621148168243]\n",
       "6403       NoOfMonths_PartACov_12   [-3.587036077828108]\n",
       "4                         ORD_DOD  [-3.5876059096564443]\n",
       "6427                      Alive_N  [-3.5876285973924205]\n",
       "6415       NoOfMonths_PartBCov_12  [-3.5886528679271024]\n",
       "...                           ...                    ...\n",
       "5689          DiagnosisCode_V1012   [-10.99258047924537]\n",
       "7526   ClmAdmitDiagnosisCode_6073   [-10.99258047924537]\n",
       "7525    ClmAdmitDiagnosisCode_605   [-10.99258047924537]\n",
       "5693          DiagnosisCode_V1040   [-10.99258047924537]\n",
       "3346          DiagnosisCode_52469   [-10.99258047924537]\n",
       "\n",
       "[9096 rows x 2 columns]"
      ]
     },
     "metadata": {},
     "output_type": "display_data"
    }
   ],
   "source": [
    "display_weights(best_nb_clf)\n"
   ]
  },
  {
   "cell_type": "markdown",
   "metadata": {},
   "source": [
    "## **Task 2: Regression Models**\n",
    "In this section we will first print out the available parameters we can utilize for hypertuning, this will aid us in creating the hypertuning parameters in the grid search."
   ]
  },
  {
   "cell_type": "markdown",
   "metadata": {},
   "source": [
    "For the regression models, we wrote a simple helper function that prints out the best model, with params and best scores for a given grid object. This is helpful if we need to work with these models later, we don't have to re-run the whole grid search, which depending on the model, can take upwards of an hour to run."
   ]
  },
  {
   "cell_type": "code",
   "execution_count": 83,
   "metadata": {},
   "outputs": [],
   "source": [
    "def RegResults(grid):\n",
    "    print('Best Estimator   : ',grid.best_estimator_[0])\n",
    "    print('Best Parameters  : ',grid.best_params_)\n",
    "    print('Best Scores      : ',grid.best_score_)    "
   ]
  },
  {
   "cell_type": "markdown",
   "metadata": {},
   "source": [
    "### **Split Train/Test**\n",
    "\n",
    "The test/train splits we use mimic the splits we used for classification, we will follow the exact same steps, just on a re-arranged dataset to predict Claim Amount Reimbursed instead of Potential Fraud."
   ]
  },
  {
   "cell_type": "code",
   "execution_count": 41,
   "metadata": {
    "ExecuteTime": {
     "end_time": "2020-07-05T05:49:57.586307Z",
     "start_time": "2020-07-05T05:49:45.874334Z"
    }
   },
   "outputs": [],
   "source": [
    "reg_X = csc_matrix(reg_X1)\n",
    "reg_X_train,reg_X_test,reg_y_train,reg_y_test = train_test_split(reg_X,reg_target,test_size=0.2,random_state=86)"
   ]
  },
  {
   "cell_type": "markdown",
   "metadata": {},
   "source": [
    "### **Linear Regression Assumption Checking**"
   ]
  },
  {
   "cell_type": "markdown",
   "metadata": {},
   "source": [
    "Multiple Linear Regression has a few assumptions that must be met in order to accurately make predictions:\n",
    "1. Normality – Residuals of the linear model is assumed to be normally distributed\n",
    "2. Equal Variance – The variance of the residuals is constant for every combination of independent variables and thus constant across all of the predicted values (we can validate this with residual plots)\n",
    "3. Independence – Observations are identically and independently distributed.\n",
    "\n",
    "Below we will display a residual plot and the Cook's D plot.  The Residual plot will show us normality and equal variance, and Cook's D will show if there are a large number of high levera outliers.  Ideally, we want to see a random cloud of residuals, with no identifiable pattern, as well as a normal distribution.  We will assume the observations to be independent, we have removed all known correlated features in our pre-processing section.\n"
   ]
  },
  {
   "cell_type": "code",
   "execution_count": 96,
   "metadata": {},
   "outputs": [
    {
     "data": {
      "image/png": "[encoded data removed]",
      "text/plain": [
       "<Figure size 432x288 with 2 Axes>"
      ]
     },
     "metadata": {
      "needs_background": "light"
     },
     "output_type": "display_data"
    },
    {
     "data": {
      "text/plain": [
       "<matplotlib.axes._subplots.AxesSubplot at 0x7f1831fbce90>"
      ]
     },
     "execution_count": 96,
     "metadata": {},
     "output_type": "execute_result"
    }
   ],
   "source": [
    "model = Ridge()\n",
    "visualizer = ResidualsPlot(model)\n",
    "visualizer.fit(reg_X_train, reg_y_train)  # Fit the training data to the visualizer\n",
    "visualizer.score(reg_X_test, reg_y_test)  # Evaluate the model on the test data\n",
    "visualizer.show()"
   ]
  },
  {
   "cell_type": "code",
   "execution_count": 102,
   "metadata": {},
   "outputs": [
    {
     "name": "stderr",
     "output_type": "stream",
     "text": [
      "/home/dustin/anaconda3/envs/DS7331/lib/python3.7/site-packages/sklearn/base.py:197: FutureWarning: From version 0.24, get_params will raise an AttributeError if a parameter cannot be retrieved as an instance attribute. Previously it would return None.\n",
      "  FutureWarning)\n",
      "/home/dustin/anaconda3/envs/DS7331/lib/python3.7/site-packages/yellowbrick/regressor/influence.py:183: UserWarning: In Matplotlib 3.3 individual lines on a stem plot will be added as a LineCollection instead of individual lines. This significantly improves the performance of a stem plot. To remove this warning and switch to the new behaviour, set the \"use_line_collection\" keyword argument to True.\n",
      "  self.distance_, linefmt=self.linefmt, markerfmt=self.markerfmt\n"
     ]
    },
    {
     "data": {
      "image/png": "[encoded data removed]",
      "text/plain": [
       "<Figure size 432x288 with 1 Axes>"
      ]
     },
     "metadata": {
      "needs_background": "light"
     },
     "output_type": "display_data"
    },
    {
     "data": {
      "text/plain": [
       "6.25339724267431"
      ]
     },
     "execution_count": 102,
     "metadata": {},
     "output_type": "execute_result"
    }
   ],
   "source": [
    "# Instantiate and fit the visualizer\n",
    "visualizer = CooksDistance()\n",
    "visualizer.fit(Xlab2_df.iloc[:,0:13], Xlab2_df.loc[:,'InscClaimAmtReimbursed'])\n",
    "visualizer.show()\n",
    "visualizer.outlier_percentage_"
   ]
  },
  {
   "cell_type": "code",
   "execution_count": 51,
   "metadata": {},
   "outputs": [
    {
     "data": {
      "text/plain": [
       "['alpha',\n",
       " 'copy_X',\n",
       " 'fit_intercept',\n",
       " 'max_iter',\n",
       " 'normalize',\n",
       " 'positive',\n",
       " 'precompute',\n",
       " 'random_state',\n",
       " 'selection',\n",
       " 'tol',\n",
       " 'warm_start']"
      ]
     },
     "execution_count": 51,
     "metadata": {},
     "output_type": "execute_result"
    }
   ],
   "source": [
    "list(Lasso().get_params())"
   ]
  },
  {
   "cell_type": "markdown",
   "metadata": {},
   "source": [
    "### **Multiple Linear Regression (Lasso)**"
   ]
  },
  {
   "cell_type": "code",
   "execution_count": 85,
   "metadata": {},
   "outputs": [
    {
     "name": "stdout",
     "output_type": "stream",
     "text": [
      "\n",
      "grid time:  242.50591220299248\n"
     ]
    },
    {
     "name": "stderr",
     "output_type": "stream",
     "text": [
      "/home/dustin/anaconda3/envs/DS7331/lib/python3.7/site-packages/sklearn/linear_model/_coordinate_descent.py:460: ConvergenceWarning: Objective did not converge. You might want to increase the number of iterations. Duality gap: 224141735173.9709, tolerance: 348487657.98130476\n",
      "  max_iter, tol, rng, random, positive)\n"
     ]
    },
    {
     "data": {
      "text/html": [
       "<div>\n",
       "<style scoped>\n",
       "    .dataframe tbody tr th:only-of-type {\n",
       "        vertical-align: middle;\n",
       "    }\n",
       "\n",
       "    .dataframe tbody tr th {\n",
       "        vertical-align: top;\n",
       "    }\n",
       "\n",
       "    .dataframe thead th {\n",
       "        text-align: right;\n",
       "    }\n",
       "</style>\n",
       "<table border=\"1\" class=\"dataframe\">\n",
       "  <thead>\n",
       "    <tr style=\"text-align: right;\">\n",
       "      <th></th>\n",
       "      <th>mean_fit_time</th>\n",
       "      <th>std_fit_time</th>\n",
       "      <th>mean_score_time</th>\n",
       "      <th>std_score_time</th>\n",
       "      <th>param_lasso__alpha</th>\n",
       "      <th>param_lasso__max_iter</th>\n",
       "      <th>param_lasso__selection</th>\n",
       "      <th>params</th>\n",
       "      <th>split0_test_neg_mean_squared_error</th>\n",
       "      <th>split1_test_neg_mean_squared_error</th>\n",
       "      <th>...</th>\n",
       "      <th>split3_test_r2</th>\n",
       "      <th>split4_test_r2</th>\n",
       "      <th>split5_test_r2</th>\n",
       "      <th>split6_test_r2</th>\n",
       "      <th>split7_test_r2</th>\n",
       "      <th>split8_test_r2</th>\n",
       "      <th>split9_test_r2</th>\n",
       "      <th>mean_test_r2</th>\n",
       "      <th>std_test_r2</th>\n",
       "      <th>rank_test_r2</th>\n",
       "    </tr>\n",
       "  </thead>\n",
       "  <tbody>\n",
       "    <tr>\n",
       "      <th>0</th>\n",
       "      <td>23.758848</td>\n",
       "      <td>0.230649</td>\n",
       "      <td>0.001514</td>\n",
       "      <td>0.000193</td>\n",
       "      <td>1</td>\n",
       "      <td>100</td>\n",
       "      <td>cyclic</td>\n",
       "      <td>{'lasso__alpha': 1, 'lasso__max_iter': 100, 'l...</td>\n",
       "      <td>-4.239498e+07</td>\n",
       "      <td>-3.849005e+07</td>\n",
       "      <td>...</td>\n",
       "      <td>0.614846</td>\n",
       "      <td>0.624079</td>\n",
       "      <td>0.624343</td>\n",
       "      <td>0.629439</td>\n",
       "      <td>0.632260</td>\n",
       "      <td>0.609078</td>\n",
       "      <td>0.616680</td>\n",
       "      <td>0.619115</td>\n",
       "      <td>0.008261</td>\n",
       "      <td>2</td>\n",
       "    </tr>\n",
       "    <tr>\n",
       "      <th>1</th>\n",
       "      <td>24.001731</td>\n",
       "      <td>0.256023</td>\n",
       "      <td>0.001350</td>\n",
       "      <td>0.000133</td>\n",
       "      <td>1</td>\n",
       "      <td>100</td>\n",
       "      <td>random</td>\n",
       "      <td>{'lasso__alpha': 1, 'lasso__max_iter': 100, 'l...</td>\n",
       "      <td>-4.239259e+07</td>\n",
       "      <td>-3.848775e+07</td>\n",
       "      <td>...</td>\n",
       "      <td>0.614911</td>\n",
       "      <td>0.624092</td>\n",
       "      <td>0.624260</td>\n",
       "      <td>0.629385</td>\n",
       "      <td>0.632265</td>\n",
       "      <td>0.610924</td>\n",
       "      <td>0.616747</td>\n",
       "      <td>0.619307</td>\n",
       "      <td>0.008034</td>\n",
       "      <td>1</td>\n",
       "    </tr>\n",
       "    <tr>\n",
       "      <th>2</th>\n",
       "      <td>60.455637</td>\n",
       "      <td>0.449316</td>\n",
       "      <td>0.001199</td>\n",
       "      <td>0.000029</td>\n",
       "      <td>1</td>\n",
       "      <td>250</td>\n",
       "      <td>cyclic</td>\n",
       "      <td>{'lasso__alpha': 1, 'lasso__max_iter': 250, 'l...</td>\n",
       "      <td>-4.239682e+07</td>\n",
       "      <td>-3.849040e+07</td>\n",
       "      <td>...</td>\n",
       "      <td>0.614837</td>\n",
       "      <td>0.624079</td>\n",
       "      <td>0.624330</td>\n",
       "      <td>0.629451</td>\n",
       "      <td>0.632251</td>\n",
       "      <td>0.609071</td>\n",
       "      <td>0.616677</td>\n",
       "      <td>0.619110</td>\n",
       "      <td>0.008262</td>\n",
       "      <td>3</td>\n",
       "    </tr>\n",
       "    <tr>\n",
       "      <th>3</th>\n",
       "      <td>47.859698</td>\n",
       "      <td>11.396224</td>\n",
       "      <td>0.001223</td>\n",
       "      <td>0.000063</td>\n",
       "      <td>1</td>\n",
       "      <td>250</td>\n",
       "      <td>random</td>\n",
       "      <td>{'lasso__alpha': 1, 'lasso__max_iter': 250, 'l...</td>\n",
       "      <td>-4.254986e+07</td>\n",
       "      <td>-3.848988e+07</td>\n",
       "      <td>...</td>\n",
       "      <td>0.614871</td>\n",
       "      <td>0.624083</td>\n",
       "      <td>0.624552</td>\n",
       "      <td>0.629405</td>\n",
       "      <td>0.632283</td>\n",
       "      <td>0.609779</td>\n",
       "      <td>0.616740</td>\n",
       "      <td>0.619077</td>\n",
       "      <td>0.008149</td>\n",
       "      <td>4</td>\n",
       "    </tr>\n",
       "    <tr>\n",
       "      <th>4</th>\n",
       "      <td>19.620330</td>\n",
       "      <td>0.186284</td>\n",
       "      <td>0.001189</td>\n",
       "      <td>0.000039</td>\n",
       "      <td>3</td>\n",
       "      <td>100</td>\n",
       "      <td>cyclic</td>\n",
       "      <td>{'lasso__alpha': 3, 'lasso__max_iter': 100, 'l...</td>\n",
       "      <td>-4.282724e+07</td>\n",
       "      <td>-3.850482e+07</td>\n",
       "      <td>...</td>\n",
       "      <td>0.604664</td>\n",
       "      <td>0.613499</td>\n",
       "      <td>0.618395</td>\n",
       "      <td>0.622126</td>\n",
       "      <td>0.621213</td>\n",
       "      <td>0.595883</td>\n",
       "      <td>0.616777</td>\n",
       "      <td>0.611895</td>\n",
       "      <td>0.009278</td>\n",
       "      <td>8</td>\n",
       "    </tr>\n",
       "    <tr>\n",
       "      <th>5</th>\n",
       "      <td>17.902373</td>\n",
       "      <td>3.708311</td>\n",
       "      <td>0.001206</td>\n",
       "      <td>0.000043</td>\n",
       "      <td>3</td>\n",
       "      <td>100</td>\n",
       "      <td>random</td>\n",
       "      <td>{'lasso__alpha': 3, 'lasso__max_iter': 100, 'l...</td>\n",
       "      <td>-4.283158e+07</td>\n",
       "      <td>-3.850080e+07</td>\n",
       "      <td>...</td>\n",
       "      <td>0.604753</td>\n",
       "      <td>0.613521</td>\n",
       "      <td>0.618420</td>\n",
       "      <td>0.622111</td>\n",
       "      <td>0.621190</td>\n",
       "      <td>0.595905</td>\n",
       "      <td>0.616745</td>\n",
       "      <td>0.611901</td>\n",
       "      <td>0.009268</td>\n",
       "      <td>5</td>\n",
       "    </tr>\n",
       "    <tr>\n",
       "      <th>6</th>\n",
       "      <td>24.535237</td>\n",
       "      <td>0.576547</td>\n",
       "      <td>0.001209</td>\n",
       "      <td>0.000065</td>\n",
       "      <td>3</td>\n",
       "      <td>250</td>\n",
       "      <td>cyclic</td>\n",
       "      <td>{'lasso__alpha': 3, 'lasso__max_iter': 250, 'l...</td>\n",
       "      <td>-4.283173e+07</td>\n",
       "      <td>-3.849974e+07</td>\n",
       "      <td>...</td>\n",
       "      <td>0.604754</td>\n",
       "      <td>0.613521</td>\n",
       "      <td>0.618419</td>\n",
       "      <td>0.622053</td>\n",
       "      <td>0.621192</td>\n",
       "      <td>0.595904</td>\n",
       "      <td>0.616747</td>\n",
       "      <td>0.611896</td>\n",
       "      <td>0.009262</td>\n",
       "      <td>7</td>\n",
       "    </tr>\n",
       "    <tr>\n",
       "      <th>7</th>\n",
       "      <td>19.444625</td>\n",
       "      <td>4.401521</td>\n",
       "      <td>0.001190</td>\n",
       "      <td>0.000028</td>\n",
       "      <td>3</td>\n",
       "      <td>250</td>\n",
       "      <td>random</td>\n",
       "      <td>{'lasso__alpha': 3, 'lasso__max_iter': 250, 'l...</td>\n",
       "      <td>-4.283107e+07</td>\n",
       "      <td>-3.849962e+07</td>\n",
       "      <td>...</td>\n",
       "      <td>0.604758</td>\n",
       "      <td>0.613521</td>\n",
       "      <td>0.618420</td>\n",
       "      <td>0.622047</td>\n",
       "      <td>0.621193</td>\n",
       "      <td>0.595904</td>\n",
       "      <td>0.616747</td>\n",
       "      <td>0.611897</td>\n",
       "      <td>0.009262</td>\n",
       "      <td>6</td>\n",
       "    </tr>\n",
       "    <tr>\n",
       "      <th>8</th>\n",
       "      <td>15.191688</td>\n",
       "      <td>0.322128</td>\n",
       "      <td>0.001202</td>\n",
       "      <td>0.000030</td>\n",
       "      <td>5</td>\n",
       "      <td>100</td>\n",
       "      <td>cyclic</td>\n",
       "      <td>{'lasso__alpha': 5, 'lasso__max_iter': 100, 'l...</td>\n",
       "      <td>-4.421125e+07</td>\n",
       "      <td>-3.982569e+07</td>\n",
       "      <td>...</td>\n",
       "      <td>0.590724</td>\n",
       "      <td>0.596825</td>\n",
       "      <td>0.603576</td>\n",
       "      <td>0.610614</td>\n",
       "      <td>0.604539</td>\n",
       "      <td>0.582268</td>\n",
       "      <td>0.606639</td>\n",
       "      <td>0.598472</td>\n",
       "      <td>0.009188</td>\n",
       "      <td>10</td>\n",
       "    </tr>\n",
       "    <tr>\n",
       "      <th>9</th>\n",
       "      <td>13.121018</td>\n",
       "      <td>2.209811</td>\n",
       "      <td>0.001186</td>\n",
       "      <td>0.000020</td>\n",
       "      <td>5</td>\n",
       "      <td>100</td>\n",
       "      <td>random</td>\n",
       "      <td>{'lasso__alpha': 5, 'lasso__max_iter': 100, 'l...</td>\n",
       "      <td>-4.421142e+07</td>\n",
       "      <td>-3.982544e+07</td>\n",
       "      <td>...</td>\n",
       "      <td>0.590725</td>\n",
       "      <td>0.596825</td>\n",
       "      <td>0.603575</td>\n",
       "      <td>0.610618</td>\n",
       "      <td>0.604538</td>\n",
       "      <td>0.582223</td>\n",
       "      <td>0.606643</td>\n",
       "      <td>0.598469</td>\n",
       "      <td>0.009196</td>\n",
       "      <td>12</td>\n",
       "    </tr>\n",
       "    <tr>\n",
       "      <th>10</th>\n",
       "      <td>15.583995</td>\n",
       "      <td>0.521702</td>\n",
       "      <td>0.001211</td>\n",
       "      <td>0.000090</td>\n",
       "      <td>5</td>\n",
       "      <td>250</td>\n",
       "      <td>cyclic</td>\n",
       "      <td>{'lasso__alpha': 5, 'lasso__max_iter': 250, 'l...</td>\n",
       "      <td>-4.421125e+07</td>\n",
       "      <td>-3.982569e+07</td>\n",
       "      <td>...</td>\n",
       "      <td>0.590724</td>\n",
       "      <td>0.596825</td>\n",
       "      <td>0.603576</td>\n",
       "      <td>0.610614</td>\n",
       "      <td>0.604539</td>\n",
       "      <td>0.582268</td>\n",
       "      <td>0.606639</td>\n",
       "      <td>0.598472</td>\n",
       "      <td>0.009188</td>\n",
       "      <td>10</td>\n",
       "    </tr>\n",
       "    <tr>\n",
       "      <th>11</th>\n",
       "      <td>15.999799</td>\n",
       "      <td>3.873957</td>\n",
       "      <td>0.001235</td>\n",
       "      <td>0.000060</td>\n",
       "      <td>5</td>\n",
       "      <td>250</td>\n",
       "      <td>random</td>\n",
       "      <td>{'lasso__alpha': 5, 'lasso__max_iter': 250, 'l...</td>\n",
       "      <td>-4.421131e+07</td>\n",
       "      <td>-3.982526e+07</td>\n",
       "      <td>...</td>\n",
       "      <td>0.590723</td>\n",
       "      <td>0.596825</td>\n",
       "      <td>0.603577</td>\n",
       "      <td>0.610610</td>\n",
       "      <td>0.604540</td>\n",
       "      <td>0.582269</td>\n",
       "      <td>0.606636</td>\n",
       "      <td>0.598473</td>\n",
       "      <td>0.009186</td>\n",
       "      <td>9</td>\n",
       "    </tr>\n",
       "    <tr>\n",
       "      <th>12</th>\n",
       "      <td>9.483585</td>\n",
       "      <td>0.304837</td>\n",
       "      <td>0.001211</td>\n",
       "      <td>0.000065</td>\n",
       "      <td>10</td>\n",
       "      <td>100</td>\n",
       "      <td>cyclic</td>\n",
       "      <td>{'lasso__alpha': 10, 'lasso__max_iter': 100, '...</td>\n",
       "      <td>-4.604276e+07</td>\n",
       "      <td>-4.199476e+07</td>\n",
       "      <td>...</td>\n",
       "      <td>0.568125</td>\n",
       "      <td>0.578535</td>\n",
       "      <td>0.581956</td>\n",
       "      <td>0.590731</td>\n",
       "      <td>0.585918</td>\n",
       "      <td>0.561567</td>\n",
       "      <td>0.586840</td>\n",
       "      <td>0.578571</td>\n",
       "      <td>0.009873</td>\n",
       "      <td>13</td>\n",
       "    </tr>\n",
       "    <tr>\n",
       "      <th>13</th>\n",
       "      <td>9.773085</td>\n",
       "      <td>1.320396</td>\n",
       "      <td>0.001224</td>\n",
       "      <td>0.000080</td>\n",
       "      <td>10</td>\n",
       "      <td>100</td>\n",
       "      <td>random</td>\n",
       "      <td>{'lasso__alpha': 10, 'lasso__max_iter': 100, '...</td>\n",
       "      <td>-4.604317e+07</td>\n",
       "      <td>-4.199491e+07</td>\n",
       "      <td>...</td>\n",
       "      <td>0.568131</td>\n",
       "      <td>0.578533</td>\n",
       "      <td>0.581956</td>\n",
       "      <td>0.590729</td>\n",
       "      <td>0.585921</td>\n",
       "      <td>0.561566</td>\n",
       "      <td>0.586839</td>\n",
       "      <td>0.578571</td>\n",
       "      <td>0.009873</td>\n",
       "      <td>15</td>\n",
       "    </tr>\n",
       "    <tr>\n",
       "      <th>14</th>\n",
       "      <td>9.278937</td>\n",
       "      <td>0.315966</td>\n",
       "      <td>0.001190</td>\n",
       "      <td>0.000025</td>\n",
       "      <td>10</td>\n",
       "      <td>250</td>\n",
       "      <td>cyclic</td>\n",
       "      <td>{'lasso__alpha': 10, 'lasso__max_iter': 250, '...</td>\n",
       "      <td>-4.604276e+07</td>\n",
       "      <td>-4.199476e+07</td>\n",
       "      <td>...</td>\n",
       "      <td>0.568125</td>\n",
       "      <td>0.578535</td>\n",
       "      <td>0.581956</td>\n",
       "      <td>0.590731</td>\n",
       "      <td>0.585918</td>\n",
       "      <td>0.561567</td>\n",
       "      <td>0.586840</td>\n",
       "      <td>0.578571</td>\n",
       "      <td>0.009873</td>\n",
       "      <td>13</td>\n",
       "    </tr>\n",
       "    <tr>\n",
       "      <th>15</th>\n",
       "      <td>10.215548</td>\n",
       "      <td>1.761993</td>\n",
       "      <td>0.000986</td>\n",
       "      <td>0.000107</td>\n",
       "      <td>10</td>\n",
       "      <td>250</td>\n",
       "      <td>random</td>\n",
       "      <td>{'lasso__alpha': 10, 'lasso__max_iter': 250, '...</td>\n",
       "      <td>-4.604285e+07</td>\n",
       "      <td>-4.199477e+07</td>\n",
       "      <td>...</td>\n",
       "      <td>0.568119</td>\n",
       "      <td>0.578536</td>\n",
       "      <td>0.581949</td>\n",
       "      <td>0.590729</td>\n",
       "      <td>0.585918</td>\n",
       "      <td>0.561567</td>\n",
       "      <td>0.586843</td>\n",
       "      <td>0.578570</td>\n",
       "      <td>0.009874</td>\n",
       "      <td>16</td>\n",
       "    </tr>\n",
       "  </tbody>\n",
       "</table>\n",
       "<p>16 rows × 34 columns</p>\n",
       "</div>"
      ],
      "text/plain": [
       "    mean_fit_time  std_fit_time  mean_score_time  std_score_time  \\\n",
       "0       23.758848      0.230649         0.001514        0.000193   \n",
       "1       24.001731      0.256023         0.001350        0.000133   \n",
       "2       60.455637      0.449316         0.001199        0.000029   \n",
       "3       47.859698     11.396224         0.001223        0.000063   \n",
       "4       19.620330      0.186284         0.001189        0.000039   \n",
       "5       17.902373      3.708311         0.001206        0.000043   \n",
       "6       24.535237      0.576547         0.001209        0.000065   \n",
       "7       19.444625      4.401521         0.001190        0.000028   \n",
       "8       15.191688      0.322128         0.001202        0.000030   \n",
       "9       13.121018      2.209811         0.001186        0.000020   \n",
       "10      15.583995      0.521702         0.001211        0.000090   \n",
       "11      15.999799      3.873957         0.001235        0.000060   \n",
       "12       9.483585      0.304837         0.001211        0.000065   \n",
       "13       9.773085      1.320396         0.001224        0.000080   \n",
       "14       9.278937      0.315966         0.001190        0.000025   \n",
       "15      10.215548      1.761993         0.000986        0.000107   \n",
       "\n",
       "   param_lasso__alpha param_lasso__max_iter param_lasso__selection  \\\n",
       "0                   1                   100                 cyclic   \n",
       "1                   1                   100                 random   \n",
       "2                   1                   250                 cyclic   \n",
       "3                   1                   250                 random   \n",
       "4                   3                   100                 cyclic   \n",
       "5                   3                   100                 random   \n",
       "6                   3                   250                 cyclic   \n",
       "7                   3                   250                 random   \n",
       "8                   5                   100                 cyclic   \n",
       "9                   5                   100                 random   \n",
       "10                  5                   250                 cyclic   \n",
       "11                  5                   250                 random   \n",
       "12                 10                   100                 cyclic   \n",
       "13                 10                   100                 random   \n",
       "14                 10                   250                 cyclic   \n",
       "15                 10                   250                 random   \n",
       "\n",
       "                                               params  \\\n",
       "0   {'lasso__alpha': 1, 'lasso__max_iter': 100, 'l...   \n",
       "1   {'lasso__alpha': 1, 'lasso__max_iter': 100, 'l...   \n",
       "2   {'lasso__alpha': 1, 'lasso__max_iter': 250, 'l...   \n",
       "3   {'lasso__alpha': 1, 'lasso__max_iter': 250, 'l...   \n",
       "4   {'lasso__alpha': 3, 'lasso__max_iter': 100, 'l...   \n",
       "5   {'lasso__alpha': 3, 'lasso__max_iter': 100, 'l...   \n",
       "6   {'lasso__alpha': 3, 'lasso__max_iter': 250, 'l...   \n",
       "7   {'lasso__alpha': 3, 'lasso__max_iter': 250, 'l...   \n",
       "8   {'lasso__alpha': 5, 'lasso__max_iter': 100, 'l...   \n",
       "9   {'lasso__alpha': 5, 'lasso__max_iter': 100, 'l...   \n",
       "10  {'lasso__alpha': 5, 'lasso__max_iter': 250, 'l...   \n",
       "11  {'lasso__alpha': 5, 'lasso__max_iter': 250, 'l...   \n",
       "12  {'lasso__alpha': 10, 'lasso__max_iter': 100, '...   \n",
       "13  {'lasso__alpha': 10, 'lasso__max_iter': 100, '...   \n",
       "14  {'lasso__alpha': 10, 'lasso__max_iter': 250, '...   \n",
       "15  {'lasso__alpha': 10, 'lasso__max_iter': 250, '...   \n",
       "\n",
       "    split0_test_neg_mean_squared_error  split1_test_neg_mean_squared_error  \\\n",
       "0                        -4.239498e+07                       -3.849005e+07   \n",
       "1                        -4.239259e+07                       -3.848775e+07   \n",
       "2                        -4.239682e+07                       -3.849040e+07   \n",
       "3                        -4.254986e+07                       -3.848988e+07   \n",
       "4                        -4.282724e+07                       -3.850482e+07   \n",
       "5                        -4.283158e+07                       -3.850080e+07   \n",
       "6                        -4.283173e+07                       -3.849974e+07   \n",
       "7                        -4.283107e+07                       -3.849962e+07   \n",
       "8                        -4.421125e+07                       -3.982569e+07   \n",
       "9                        -4.421142e+07                       -3.982544e+07   \n",
       "10                       -4.421125e+07                       -3.982569e+07   \n",
       "11                       -4.421131e+07                       -3.982526e+07   \n",
       "12                       -4.604276e+07                       -4.199476e+07   \n",
       "13                       -4.604317e+07                       -4.199491e+07   \n",
       "14                       -4.604276e+07                       -4.199476e+07   \n",
       "15                       -4.604285e+07                       -4.199477e+07   \n",
       "\n",
       "    ...  split3_test_r2  split4_test_r2  split5_test_r2  split6_test_r2  \\\n",
       "0   ...        0.614846        0.624079        0.624343        0.629439   \n",
       "1   ...        0.614911        0.624092        0.624260        0.629385   \n",
       "2   ...        0.614837        0.624079        0.624330        0.629451   \n",
       "3   ...        0.614871        0.624083        0.624552        0.629405   \n",
       "4   ...        0.604664        0.613499        0.618395        0.622126   \n",
       "5   ...        0.604753        0.613521        0.618420        0.622111   \n",
       "6   ...        0.604754        0.613521        0.618419        0.622053   \n",
       "7   ...        0.604758        0.613521        0.618420        0.622047   \n",
       "8   ...        0.590724        0.596825        0.603576        0.610614   \n",
       "9   ...        0.590725        0.596825        0.603575        0.610618   \n",
       "10  ...        0.590724        0.596825        0.603576        0.610614   \n",
       "11  ...        0.590723        0.596825        0.603577        0.610610   \n",
       "12  ...        0.568125        0.578535        0.581956        0.590731   \n",
       "13  ...        0.568131        0.578533        0.581956        0.590729   \n",
       "14  ...        0.568125        0.578535        0.581956        0.590731   \n",
       "15  ...        0.568119        0.578536        0.581949        0.590729   \n",
       "\n",
       "    split7_test_r2  split8_test_r2  split9_test_r2  mean_test_r2  std_test_r2  \\\n",
       "0         0.632260        0.609078        0.616680      0.619115     0.008261   \n",
       "1         0.632265        0.610924        0.616747      0.619307     0.008034   \n",
       "2         0.632251        0.609071        0.616677      0.619110     0.008262   \n",
       "3         0.632283        0.609779        0.616740      0.619077     0.008149   \n",
       "4         0.621213        0.595883        0.616777      0.611895     0.009278   \n",
       "5         0.621190        0.595905        0.616745      0.611901     0.009268   \n",
       "6         0.621192        0.595904        0.616747      0.611896     0.009262   \n",
       "7         0.621193        0.595904        0.616747      0.611897     0.009262   \n",
       "8         0.604539        0.582268        0.606639      0.598472     0.009188   \n",
       "9         0.604538        0.582223        0.606643      0.598469     0.009196   \n",
       "10        0.604539        0.582268        0.606639      0.598472     0.009188   \n",
       "11        0.604540        0.582269        0.606636      0.598473     0.009186   \n",
       "12        0.585918        0.561567        0.586840      0.578571     0.009873   \n",
       "13        0.585921        0.561566        0.586839      0.578571     0.009873   \n",
       "14        0.585918        0.561567        0.586840      0.578571     0.009873   \n",
       "15        0.585918        0.561567        0.586843      0.578570     0.009874   \n",
       "\n",
       "    rank_test_r2  \n",
       "0              2  \n",
       "1              1  \n",
       "2              3  \n",
       "3              4  \n",
       "4              8  \n",
       "5              5  \n",
       "6              7  \n",
       "7              6  \n",
       "8             10  \n",
       "9             12  \n",
       "10            10  \n",
       "11             9  \n",
       "12            13  \n",
       "13            15  \n",
       "14            13  \n",
       "15            16  \n",
       "\n",
       "[16 rows x 34 columns]"
      ]
     },
     "execution_count": 85,
     "metadata": {},
     "output_type": "execute_result"
    }
   ],
   "source": [
    "\"\"\"Lasso Regression code\"\"\"\n",
    "LassoPipe= make_pipeline(Lasso())\n",
    "LassoParams = [\n",
    "    {\n",
    "         'lasso__alpha':[1,3,5,10],\n",
    "         'lasso__selection':['cyclic','random'],\n",
    "         'lasso__max_iter':[100,250]\n",
    "    }\n",
    "]\n",
    "cv = ShuffleSplit(n_splits=10, test_size=.2, random_state=86)\n",
    "#Perform the grid search using accuracy as a metric during cross validation.\n",
    "LassoGrid = GridSearchCV(LassoPipe, LassoParams, cv=cv, scoring=['neg_mean_squared_error','r2'], n_jobs=-1, refit='neg_mean_squared_error')\n",
    "#Use the best features from recursive feature elimination during the grid search\n",
    "start_time = timeit.default_timer()\n",
    "LassoGrid.fit(reg_X_train, reg_y_train)\n",
    "grid_time = timeit.default_timer() - start_time\n",
    "#display the best pipeline model identified during the grid search\n",
    "print(\"\\ngrid time: \", grid_time)\n",
    "LassoGridResults = pd.DataFrame.from_dict(LassoGrid.cv_results_)\n",
    "LassoGridResults"
   ]
  },
  {
   "cell_type": "code",
   "execution_count": 87,
   "metadata": {},
   "outputs": [
    {
     "name": "stdout",
     "output_type": "stream",
     "text": [
      "Best Estimator   :  Lasso(alpha=1, copy_X=True, fit_intercept=True, max_iter=100, normalize=False,\n",
      "      positive=False, precompute=False, random_state=None, selection='random',\n",
      "      tol=0.0001, warm_start=False)\n",
      "Best Parameters  :  {'lasso__alpha': 1, 'lasso__max_iter': 100, 'lasso__selection': 'random'}\n",
      "Best Scores      :  -40885999.70215637\n"
     ]
    }
   ],
   "source": [
    "#Print out the best model, so if we need to reference it, we don't have to re-run the whole grid search:\n",
    "RegResults(LassoGrid)"
   ]
  },
  {
   "cell_type": "markdown",
   "metadata": {},
   "source": [
    "### **Random Forest Regressor**\n",
    "\n",
    "The random forest regressor uses bootstrapping to randomly sample with replacement from the dataset to approximate a normal distribution."
   ]
  },
  {
   "cell_type": "code",
   "execution_count": 90,
   "metadata": {},
   "outputs": [
    {
     "data": {
      "text/plain": [
       "['bootstrap',\n",
       " 'ccp_alpha',\n",
       " 'criterion',\n",
       " 'max_depth',\n",
       " 'max_features',\n",
       " 'max_leaf_nodes',\n",
       " 'max_samples',\n",
       " 'min_impurity_decrease',\n",
       " 'min_impurity_split',\n",
       " 'min_samples_leaf',\n",
       " 'min_samples_split',\n",
       " 'min_weight_fraction_leaf',\n",
       " 'n_estimators',\n",
       " 'n_jobs',\n",
       " 'oob_score',\n",
       " 'random_state',\n",
       " 'verbose',\n",
       " 'warm_start']"
      ]
     },
     "execution_count": 90,
     "metadata": {},
     "output_type": "execute_result"
    }
   ],
   "source": [
    "list(RandomForestRegressor().get_params())"
   ]
  },
  {
   "cell_type": "code",
   "execution_count": 88,
   "metadata": {},
   "outputs": [
    {
     "name": "stderr",
     "output_type": "stream",
     "text": [
      "/home/dustin/anaconda3/envs/DS7331/lib/python3.7/site-packages/joblib/externals/loky/process_executor.py:706: UserWarning: A worker stopped while some jobs were given to the executor. This can be caused by a too short worker timeout or by a memory leak.\n",
      "  \"timeout or by a memory leak.\", UserWarning\n"
     ]
    },
    {
     "name": "stdout",
     "output_type": "stream",
     "text": [
      "\n",
      "grid time:  1442.529493258975\n"
     ]
    },
    {
     "data": {
      "text/html": [
       "<div>\n",
       "<style scoped>\n",
       "    .dataframe tbody tr th:only-of-type {\n",
       "        vertical-align: middle;\n",
       "    }\n",
       "\n",
       "    .dataframe tbody tr th {\n",
       "        vertical-align: top;\n",
       "    }\n",
       "\n",
       "    .dataframe thead th {\n",
       "        text-align: right;\n",
       "    }\n",
       "</style>\n",
       "<table border=\"1\" class=\"dataframe\">\n",
       "  <thead>\n",
       "    <tr style=\"text-align: right;\">\n",
       "      <th></th>\n",
       "      <th>mean_fit_time</th>\n",
       "      <th>std_fit_time</th>\n",
       "      <th>mean_score_time</th>\n",
       "      <th>std_score_time</th>\n",
       "      <th>param_randomforestregressor__max_features</th>\n",
       "      <th>param_randomforestregressor__min_samples_leaf</th>\n",
       "      <th>param_randomforestregressor__n_jobs</th>\n",
       "      <th>params</th>\n",
       "      <th>split0_test_neg_mean_squared_error</th>\n",
       "      <th>split1_test_neg_mean_squared_error</th>\n",
       "      <th>...</th>\n",
       "      <th>split3_test_r2</th>\n",
       "      <th>split4_test_r2</th>\n",
       "      <th>split5_test_r2</th>\n",
       "      <th>split6_test_r2</th>\n",
       "      <th>split7_test_r2</th>\n",
       "      <th>split8_test_r2</th>\n",
       "      <th>split9_test_r2</th>\n",
       "      <th>mean_test_r2</th>\n",
       "      <th>std_test_r2</th>\n",
       "      <th>rank_test_r2</th>\n",
       "    </tr>\n",
       "  </thead>\n",
       "  <tbody>\n",
       "    <tr>\n",
       "      <th>0</th>\n",
       "      <td>866.855449</td>\n",
       "      <td>3.728433</td>\n",
       "      <td>0.584259</td>\n",
       "      <td>0.078922</td>\n",
       "      <td>auto</td>\n",
       "      <td>1</td>\n",
       "      <td>-1</td>\n",
       "      <td>{'randomforestregressor__max_features': 'auto'...</td>\n",
       "      <td>-3.191933e+07</td>\n",
       "      <td>-2.527241e+07</td>\n",
       "      <td>...</td>\n",
       "      <td>0.721703</td>\n",
       "      <td>0.754945</td>\n",
       "      <td>0.746792</td>\n",
       "      <td>0.745342</td>\n",
       "      <td>0.754410</td>\n",
       "      <td>0.730014</td>\n",
       "      <td>0.744965</td>\n",
       "      <td>0.740218</td>\n",
       "      <td>0.012667</td>\n",
       "      <td>1</td>\n",
       "    </tr>\n",
       "    <tr>\n",
       "      <th>1</th>\n",
       "      <td>501.857162</td>\n",
       "      <td>33.395682</td>\n",
       "      <td>0.766935</td>\n",
       "      <td>0.247536</td>\n",
       "      <td>auto</td>\n",
       "      <td>3</td>\n",
       "      <td>-1</td>\n",
       "      <td>{'randomforestregressor__max_features': 'auto'...</td>\n",
       "      <td>-3.198165e+07</td>\n",
       "      <td>-2.518940e+07</td>\n",
       "      <td>...</td>\n",
       "      <td>0.714116</td>\n",
       "      <td>0.749221</td>\n",
       "      <td>0.746712</td>\n",
       "      <td>0.750169</td>\n",
       "      <td>0.760319</td>\n",
       "      <td>0.731132</td>\n",
       "      <td>0.749539</td>\n",
       "      <td>0.740132</td>\n",
       "      <td>0.014679</td>\n",
       "      <td>2</td>\n",
       "    </tr>\n",
       "    <tr>\n",
       "      <th>2</th>\n",
       "      <td>359.975192</td>\n",
       "      <td>9.648553</td>\n",
       "      <td>0.566355</td>\n",
       "      <td>0.144581</td>\n",
       "      <td>auto</td>\n",
       "      <td>5</td>\n",
       "      <td>-1</td>\n",
       "      <td>{'randomforestregressor__max_features': 'auto'...</td>\n",
       "      <td>-3.159672e+07</td>\n",
       "      <td>-2.626285e+07</td>\n",
       "      <td>...</td>\n",
       "      <td>0.713830</td>\n",
       "      <td>0.747755</td>\n",
       "      <td>0.747346</td>\n",
       "      <td>0.749312</td>\n",
       "      <td>0.755121</td>\n",
       "      <td>0.724267</td>\n",
       "      <td>0.747623</td>\n",
       "      <td>0.738237</td>\n",
       "      <td>0.013745</td>\n",
       "      <td>3</td>\n",
       "    </tr>\n",
       "    <tr>\n",
       "      <th>3</th>\n",
       "      <td>259.614918</td>\n",
       "      <td>24.728163</td>\n",
       "      <td>0.642905</td>\n",
       "      <td>0.251085</td>\n",
       "      <td>auto</td>\n",
       "      <td>10</td>\n",
       "      <td>-1</td>\n",
       "      <td>{'randomforestregressor__max_features': 'auto'...</td>\n",
       "      <td>-3.222171e+07</td>\n",
       "      <td>-2.621020e+07</td>\n",
       "      <td>...</td>\n",
       "      <td>0.710747</td>\n",
       "      <td>0.740856</td>\n",
       "      <td>0.744047</td>\n",
       "      <td>0.745943</td>\n",
       "      <td>0.751192</td>\n",
       "      <td>0.722405</td>\n",
       "      <td>0.745737</td>\n",
       "      <td>0.734847</td>\n",
       "      <td>0.013671</td>\n",
       "      <td>4</td>\n",
       "    </tr>\n",
       "    <tr>\n",
       "      <th>4</th>\n",
       "      <td>67.557383</td>\n",
       "      <td>4.427440</td>\n",
       "      <td>0.808688</td>\n",
       "      <td>0.083334</td>\n",
       "      <td>sqrt</td>\n",
       "      <td>1</td>\n",
       "      <td>-1</td>\n",
       "      <td>{'randomforestregressor__max_features': 'sqrt'...</td>\n",
       "      <td>-5.521786e+07</td>\n",
       "      <td>-4.484246e+07</td>\n",
       "      <td>...</td>\n",
       "      <td>0.534250</td>\n",
       "      <td>0.523818</td>\n",
       "      <td>0.511552</td>\n",
       "      <td>0.505937</td>\n",
       "      <td>0.531380</td>\n",
       "      <td>0.498846</td>\n",
       "      <td>0.531629</td>\n",
       "      <td>0.519921</td>\n",
       "      <td>0.015331</td>\n",
       "      <td>5</td>\n",
       "    </tr>\n",
       "    <tr>\n",
       "      <th>5</th>\n",
       "      <td>21.768990</td>\n",
       "      <td>2.863726</td>\n",
       "      <td>1.070575</td>\n",
       "      <td>0.122251</td>\n",
       "      <td>sqrt</td>\n",
       "      <td>3</td>\n",
       "      <td>-1</td>\n",
       "      <td>{'randomforestregressor__max_features': 'sqrt'...</td>\n",
       "      <td>-6.348398e+07</td>\n",
       "      <td>-5.261470e+07</td>\n",
       "      <td>...</td>\n",
       "      <td>0.454599</td>\n",
       "      <td>0.449839</td>\n",
       "      <td>0.463796</td>\n",
       "      <td>0.460231</td>\n",
       "      <td>0.467757</td>\n",
       "      <td>0.454363</td>\n",
       "      <td>0.463392</td>\n",
       "      <td>0.456075</td>\n",
       "      <td>0.010796</td>\n",
       "      <td>6</td>\n",
       "    </tr>\n",
       "    <tr>\n",
       "      <th>6</th>\n",
       "      <td>14.058832</td>\n",
       "      <td>3.184964</td>\n",
       "      <td>0.786595</td>\n",
       "      <td>0.207939</td>\n",
       "      <td>sqrt</td>\n",
       "      <td>5</td>\n",
       "      <td>-1</td>\n",
       "      <td>{'randomforestregressor__max_features': 'sqrt'...</td>\n",
       "      <td>-6.665132e+07</td>\n",
       "      <td>-5.711552e+07</td>\n",
       "      <td>...</td>\n",
       "      <td>0.430063</td>\n",
       "      <td>0.427941</td>\n",
       "      <td>0.423420</td>\n",
       "      <td>0.409796</td>\n",
       "      <td>0.422622</td>\n",
       "      <td>0.400433</td>\n",
       "      <td>0.425591</td>\n",
       "      <td>0.418664</td>\n",
       "      <td>0.009581</td>\n",
       "      <td>7</td>\n",
       "    </tr>\n",
       "    <tr>\n",
       "      <th>7</th>\n",
       "      <td>7.279075</td>\n",
       "      <td>0.953118</td>\n",
       "      <td>0.633086</td>\n",
       "      <td>0.117521</td>\n",
       "      <td>sqrt</td>\n",
       "      <td>10</td>\n",
       "      <td>-1</td>\n",
       "      <td>{'randomforestregressor__max_features': 'sqrt'...</td>\n",
       "      <td>-7.077757e+07</td>\n",
       "      <td>-6.123971e+07</td>\n",
       "      <td>...</td>\n",
       "      <td>0.356537</td>\n",
       "      <td>0.350588</td>\n",
       "      <td>0.367441</td>\n",
       "      <td>0.359788</td>\n",
       "      <td>0.379854</td>\n",
       "      <td>0.358473</td>\n",
       "      <td>0.383810</td>\n",
       "      <td>0.366715</td>\n",
       "      <td>0.011343</td>\n",
       "      <td>9</td>\n",
       "    </tr>\n",
       "    <tr>\n",
       "      <th>8</th>\n",
       "      <td>56.417087</td>\n",
       "      <td>2.611141</td>\n",
       "      <td>0.703325</td>\n",
       "      <td>0.232717</td>\n",
       "      <td>log2</td>\n",
       "      <td>1</td>\n",
       "      <td>-1</td>\n",
       "      <td>{'randomforestregressor__max_features': 'log2'...</td>\n",
       "      <td>-6.853213e+07</td>\n",
       "      <td>-6.042591e+07</td>\n",
       "      <td>...</td>\n",
       "      <td>0.392073</td>\n",
       "      <td>0.372934</td>\n",
       "      <td>0.388330</td>\n",
       "      <td>0.378730</td>\n",
       "      <td>0.378901</td>\n",
       "      <td>0.374808</td>\n",
       "      <td>0.391926</td>\n",
       "      <td>0.382348</td>\n",
       "      <td>0.008980</td>\n",
       "      <td>8</td>\n",
       "    </tr>\n",
       "    <tr>\n",
       "      <th>9</th>\n",
       "      <td>10.048386</td>\n",
       "      <td>1.349505</td>\n",
       "      <td>0.864136</td>\n",
       "      <td>0.151285</td>\n",
       "      <td>log2</td>\n",
       "      <td>3</td>\n",
       "      <td>-1</td>\n",
       "      <td>{'randomforestregressor__max_features': 'log2'...</td>\n",
       "      <td>-8.705362e+07</td>\n",
       "      <td>-7.726451e+07</td>\n",
       "      <td>...</td>\n",
       "      <td>0.239734</td>\n",
       "      <td>0.235550</td>\n",
       "      <td>0.214459</td>\n",
       "      <td>0.214469</td>\n",
       "      <td>0.238944</td>\n",
       "      <td>0.227935</td>\n",
       "      <td>0.223921</td>\n",
       "      <td>0.225337</td>\n",
       "      <td>0.009580</td>\n",
       "      <td>10</td>\n",
       "    </tr>\n",
       "    <tr>\n",
       "      <th>10</th>\n",
       "      <td>6.782009</td>\n",
       "      <td>1.308216</td>\n",
       "      <td>0.768391</td>\n",
       "      <td>0.238914</td>\n",
       "      <td>log2</td>\n",
       "      <td>5</td>\n",
       "      <td>-1</td>\n",
       "      <td>{'randomforestregressor__max_features': 'log2'...</td>\n",
       "      <td>-9.348626e+07</td>\n",
       "      <td>-8.349326e+07</td>\n",
       "      <td>...</td>\n",
       "      <td>0.162945</td>\n",
       "      <td>0.166215</td>\n",
       "      <td>0.160863</td>\n",
       "      <td>0.178615</td>\n",
       "      <td>0.192262</td>\n",
       "      <td>0.166486</td>\n",
       "      <td>0.173097</td>\n",
       "      <td>0.168702</td>\n",
       "      <td>0.009688</td>\n",
       "      <td>11</td>\n",
       "    </tr>\n",
       "    <tr>\n",
       "      <th>11</th>\n",
       "      <td>1.818362</td>\n",
       "      <td>0.743944</td>\n",
       "      <td>0.195491</td>\n",
       "      <td>0.128872</td>\n",
       "      <td>log2</td>\n",
       "      <td>10</td>\n",
       "      <td>-1</td>\n",
       "      <td>{'randomforestregressor__max_features': 'log2'...</td>\n",
       "      <td>-1.028089e+08</td>\n",
       "      <td>-8.836799e+07</td>\n",
       "      <td>...</td>\n",
       "      <td>0.098150</td>\n",
       "      <td>0.080505</td>\n",
       "      <td>0.088610</td>\n",
       "      <td>0.099001</td>\n",
       "      <td>0.094595</td>\n",
       "      <td>0.100408</td>\n",
       "      <td>0.090326</td>\n",
       "      <td>0.091558</td>\n",
       "      <td>0.010745</td>\n",
       "      <td>12</td>\n",
       "    </tr>\n",
       "  </tbody>\n",
       "</table>\n",
       "<p>12 rows × 34 columns</p>\n",
       "</div>"
      ],
      "text/plain": [
       "    mean_fit_time  std_fit_time  mean_score_time  std_score_time  \\\n",
       "0      866.855449      3.728433         0.584259        0.078922   \n",
       "1      501.857162     33.395682         0.766935        0.247536   \n",
       "2      359.975192      9.648553         0.566355        0.144581   \n",
       "3      259.614918     24.728163         0.642905        0.251085   \n",
       "4       67.557383      4.427440         0.808688        0.083334   \n",
       "5       21.768990      2.863726         1.070575        0.122251   \n",
       "6       14.058832      3.184964         0.786595        0.207939   \n",
       "7        7.279075      0.953118         0.633086        0.117521   \n",
       "8       56.417087      2.611141         0.703325        0.232717   \n",
       "9       10.048386      1.349505         0.864136        0.151285   \n",
       "10       6.782009      1.308216         0.768391        0.238914   \n",
       "11       1.818362      0.743944         0.195491        0.128872   \n",
       "\n",
       "   param_randomforestregressor__max_features  \\\n",
       "0                                       auto   \n",
       "1                                       auto   \n",
       "2                                       auto   \n",
       "3                                       auto   \n",
       "4                                       sqrt   \n",
       "5                                       sqrt   \n",
       "6                                       sqrt   \n",
       "7                                       sqrt   \n",
       "8                                       log2   \n",
       "9                                       log2   \n",
       "10                                      log2   \n",
       "11                                      log2   \n",
       "\n",
       "   param_randomforestregressor__min_samples_leaf  \\\n",
       "0                                              1   \n",
       "1                                              3   \n",
       "2                                              5   \n",
       "3                                             10   \n",
       "4                                              1   \n",
       "5                                              3   \n",
       "6                                              5   \n",
       "7                                             10   \n",
       "8                                              1   \n",
       "9                                              3   \n",
       "10                                             5   \n",
       "11                                            10   \n",
       "\n",
       "   param_randomforestregressor__n_jobs  \\\n",
       "0                                   -1   \n",
       "1                                   -1   \n",
       "2                                   -1   \n",
       "3                                   -1   \n",
       "4                                   -1   \n",
       "5                                   -1   \n",
       "6                                   -1   \n",
       "7                                   -1   \n",
       "8                                   -1   \n",
       "9                                   -1   \n",
       "10                                  -1   \n",
       "11                                  -1   \n",
       "\n",
       "                                               params  \\\n",
       "0   {'randomforestregressor__max_features': 'auto'...   \n",
       "1   {'randomforestregressor__max_features': 'auto'...   \n",
       "2   {'randomforestregressor__max_features': 'auto'...   \n",
       "3   {'randomforestregressor__max_features': 'auto'...   \n",
       "4   {'randomforestregressor__max_features': 'sqrt'...   \n",
       "5   {'randomforestregressor__max_features': 'sqrt'...   \n",
       "6   {'randomforestregressor__max_features': 'sqrt'...   \n",
       "7   {'randomforestregressor__max_features': 'sqrt'...   \n",
       "8   {'randomforestregressor__max_features': 'log2'...   \n",
       "9   {'randomforestregressor__max_features': 'log2'...   \n",
       "10  {'randomforestregressor__max_features': 'log2'...   \n",
       "11  {'randomforestregressor__max_features': 'log2'...   \n",
       "\n",
       "    split0_test_neg_mean_squared_error  split1_test_neg_mean_squared_error  \\\n",
       "0                        -3.191933e+07                       -2.527241e+07   \n",
       "1                        -3.198165e+07                       -2.518940e+07   \n",
       "2                        -3.159672e+07                       -2.626285e+07   \n",
       "3                        -3.222171e+07                       -2.621020e+07   \n",
       "4                        -5.521786e+07                       -4.484246e+07   \n",
       "5                        -6.348398e+07                       -5.261470e+07   \n",
       "6                        -6.665132e+07                       -5.711552e+07   \n",
       "7                        -7.077757e+07                       -6.123971e+07   \n",
       "8                        -6.853213e+07                       -6.042591e+07   \n",
       "9                        -8.705362e+07                       -7.726451e+07   \n",
       "10                       -9.348626e+07                       -8.349326e+07   \n",
       "11                       -1.028089e+08                       -8.836799e+07   \n",
       "\n",
       "    ...  split3_test_r2  split4_test_r2  split5_test_r2  split6_test_r2  \\\n",
       "0   ...        0.721703        0.754945        0.746792        0.745342   \n",
       "1   ...        0.714116        0.749221        0.746712        0.750169   \n",
       "2   ...        0.713830        0.747755        0.747346        0.749312   \n",
       "3   ...        0.710747        0.740856        0.744047        0.745943   \n",
       "4   ...        0.534250        0.523818        0.511552        0.505937   \n",
       "5   ...        0.454599        0.449839        0.463796        0.460231   \n",
       "6   ...        0.430063        0.427941        0.423420        0.409796   \n",
       "7   ...        0.356537        0.350588        0.367441        0.359788   \n",
       "8   ...        0.392073        0.372934        0.388330        0.378730   \n",
       "9   ...        0.239734        0.235550        0.214459        0.214469   \n",
       "10  ...        0.162945        0.166215        0.160863        0.178615   \n",
       "11  ...        0.098150        0.080505        0.088610        0.099001   \n",
       "\n",
       "    split7_test_r2  split8_test_r2  split9_test_r2  mean_test_r2  std_test_r2  \\\n",
       "0         0.754410        0.730014        0.744965      0.740218     0.012667   \n",
       "1         0.760319        0.731132        0.749539      0.740132     0.014679   \n",
       "2         0.755121        0.724267        0.747623      0.738237     0.013745   \n",
       "3         0.751192        0.722405        0.745737      0.734847     0.013671   \n",
       "4         0.531380        0.498846        0.531629      0.519921     0.015331   \n",
       "5         0.467757        0.454363        0.463392      0.456075     0.010796   \n",
       "6         0.422622        0.400433        0.425591      0.418664     0.009581   \n",
       "7         0.379854        0.358473        0.383810      0.366715     0.011343   \n",
       "8         0.378901        0.374808        0.391926      0.382348     0.008980   \n",
       "9         0.238944        0.227935        0.223921      0.225337     0.009580   \n",
       "10        0.192262        0.166486        0.173097      0.168702     0.009688   \n",
       "11        0.094595        0.100408        0.090326      0.091558     0.010745   \n",
       "\n",
       "    rank_test_r2  \n",
       "0              1  \n",
       "1              2  \n",
       "2              3  \n",
       "3              4  \n",
       "4              5  \n",
       "5              6  \n",
       "6              7  \n",
       "7              9  \n",
       "8              8  \n",
       "9             10  \n",
       "10            11  \n",
       "11            12  \n",
       "\n",
       "[12 rows x 34 columns]"
      ]
     },
     "execution_count": 88,
     "metadata": {},
     "output_type": "execute_result"
    }
   ],
   "source": [
    "\"\"\"Random Forest Regression code\"\"\"\n",
    "\n",
    "rfrPipe = make_pipeline(RandomForestRegressor())\n",
    "rfrParams = [\n",
    "    {\n",
    "         'randomforestregressor__n_jobs':[-1],\n",
    "         'randomforestregressor__max_features':['auto','sqrt','log2'],\n",
    "         'randomforestregressor__min_samples_leaf':[1,3,5,10]\n",
    "\n",
    "\n",
    "    }\n",
    "]\n",
    "cv = ShuffleSplit(n_splits=10, test_size=.2, random_state=86)\n",
    "#Perform the grid search using accuracy as a metric during cross validation.\n",
    "RFgrid = GridSearchCV(rfrPipe, rfrParams, cv=cv, scoring=['neg_mean_squared_error','r2'], n_jobs=-1, refit='neg_mean_squared_error')\n",
    "#Use the best features from recursive feature elimination during the grid search\n",
    "start_time = timeit.default_timer()\n",
    "RFgrid.fit(reg_X_train, reg_y_train)\n",
    "grid_time = timeit.default_timer() - start_time\n",
    "#display the best pipeline model identified during the grid search\n",
    "print(\"\\ngrid time: \", grid_time)\n",
    "RFgridResults = pd.DataFrame.from_dict(RFgrid.cv_results_)\n",
    "RFgridResults"
   ]
  },
  {
   "cell_type": "code",
   "execution_count": 89,
   "metadata": {},
   "outputs": [
    {
     "name": "stdout",
     "output_type": "stream",
     "text": [
      "Best Estimator   :  RandomForestRegressor(bootstrap=True, ccp_alpha=0.0, criterion='mse',\n",
      "                      max_depth=None, max_features='auto', max_leaf_nodes=None,\n",
      "                      max_samples=None, min_impurity_decrease=0.0,\n",
      "                      min_impurity_split=None, min_samples_leaf=1,\n",
      "                      min_samples_split=2, min_weight_fraction_leaf=0.0,\n",
      "                      n_estimators=100, n_jobs=-1, oob_score=False,\n",
      "                      random_state=None, verbose=0, warm_start=False)\n",
      "Best Parameters  :  {'randomforestregressor__max_features': 'auto', 'randomforestregressor__min_samples_leaf': 1, 'randomforestregressor__n_jobs': -1}\n",
      "Best Scores      :  -27915890.15361797\n"
     ]
    }
   ],
   "source": [
    "#Print out the best model, so if we need to reference it, we don't have to re-run the whole grid search:\n",
    "RegResults(RFgrid)"
   ]
  },
  {
   "cell_type": "markdown",
   "metadata": {},
   "source": [
    "### **KNN Regressor**"
   ]
  },
  {
   "cell_type": "code",
   "execution_count": 91,
   "metadata": {},
   "outputs": [
    {
     "data": {
      "text/plain": [
       "['algorithm',\n",
       " 'leaf_size',\n",
       " 'metric',\n",
       " 'metric_params',\n",
       " 'n_jobs',\n",
       " 'n_neighbors',\n",
       " 'p',\n",
       " 'weights']"
      ]
     },
     "execution_count": 91,
     "metadata": {},
     "output_type": "execute_result"
    }
   ],
   "source": [
    "list(KNeighborsRegressor().get_params())"
   ]
  },
  {
   "cell_type": "code",
   "execution_count": 55,
   "metadata": {
    "ExecuteTime": {
     "end_time": "2020-07-05T05:57:36.790894Z",
     "start_time": "2020-07-05T05:50:09.659939Z"
    }
   },
   "outputs": [
    {
     "name": "stderr",
     "output_type": "stream",
     "text": [
      "/home/dustin/anaconda3/envs/DS7331/lib/python3.7/site-packages/joblib/externals/loky/process_executor.py:706: UserWarning: A worker stopped while some jobs were given to the executor. This can be caused by a too short worker timeout or by a memory leak.\n",
      "  \"timeout or by a memory leak.\", UserWarning\n"
     ]
    },
    {
     "name": "stdout",
     "output_type": "stream",
     "text": [
      "\n",
      "grid time:  3929.7580388349597\n"
     ]
    },
    {
     "name": "stderr",
     "output_type": "stream",
     "text": [
      "/home/dustin/anaconda3/envs/DS7331/lib/python3.7/site-packages/sklearn/neighbors/_base.py:413: UserWarning: cannot use tree with sparse input: using brute force\n",
      "  warnings.warn(\"cannot use tree with sparse input: \"\n"
     ]
    },
    {
     "data": {
      "text/html": [
       "<div>\n",
       "<style scoped>\n",
       "    .dataframe tbody tr th:only-of-type {\n",
       "        vertical-align: middle;\n",
       "    }\n",
       "\n",
       "    .dataframe tbody tr th {\n",
       "        vertical-align: top;\n",
       "    }\n",
       "\n",
       "    .dataframe thead th {\n",
       "        text-align: right;\n",
       "    }\n",
       "</style>\n",
       "<table border=\"1\" class=\"dataframe\">\n",
       "  <thead>\n",
       "    <tr style=\"text-align: right;\">\n",
       "      <th></th>\n",
       "      <th>mean_fit_time</th>\n",
       "      <th>std_fit_time</th>\n",
       "      <th>mean_score_time</th>\n",
       "      <th>std_score_time</th>\n",
       "      <th>param_kneighborsregressor__algorithm</th>\n",
       "      <th>param_kneighborsregressor__leaf_size</th>\n",
       "      <th>param_kneighborsregressor__n_jobs</th>\n",
       "      <th>param_kneighborsregressor__n_neighbors</th>\n",
       "      <th>param_kneighborsregressor__p</th>\n",
       "      <th>param_kneighborsregressor__weights</th>\n",
       "      <th>...</th>\n",
       "      <th>split3_test_r2</th>\n",
       "      <th>split4_test_r2</th>\n",
       "      <th>split5_test_r2</th>\n",
       "      <th>split6_test_r2</th>\n",
       "      <th>split7_test_r2</th>\n",
       "      <th>split8_test_r2</th>\n",
       "      <th>split9_test_r2</th>\n",
       "      <th>mean_test_r2</th>\n",
       "      <th>std_test_r2</th>\n",
       "      <th>rank_test_r2</th>\n",
       "    </tr>\n",
       "  </thead>\n",
       "  <tbody>\n",
       "    <tr>\n",
       "      <th>0</th>\n",
       "      <td>0.025432</td>\n",
       "      <td>0.003887</td>\n",
       "      <td>0.000000</td>\n",
       "      <td>0.000000</td>\n",
       "      <td>atuo</td>\n",
       "      <td>30</td>\n",
       "      <td>-1</td>\n",
       "      <td>3</td>\n",
       "      <td>1</td>\n",
       "      <td>uniform</td>\n",
       "      <td>...</td>\n",
       "      <td>NaN</td>\n",
       "      <td>NaN</td>\n",
       "      <td>NaN</td>\n",
       "      <td>NaN</td>\n",
       "      <td>NaN</td>\n",
       "      <td>NaN</td>\n",
       "      <td>NaN</td>\n",
       "      <td>NaN</td>\n",
       "      <td>NaN</td>\n",
       "      <td>169</td>\n",
       "    </tr>\n",
       "    <tr>\n",
       "      <th>1</th>\n",
       "      <td>0.019551</td>\n",
       "      <td>0.004040</td>\n",
       "      <td>0.000000</td>\n",
       "      <td>0.000000</td>\n",
       "      <td>atuo</td>\n",
       "      <td>30</td>\n",
       "      <td>-1</td>\n",
       "      <td>3</td>\n",
       "      <td>1</td>\n",
       "      <td>distance</td>\n",
       "      <td>...</td>\n",
       "      <td>NaN</td>\n",
       "      <td>NaN</td>\n",
       "      <td>NaN</td>\n",
       "      <td>NaN</td>\n",
       "      <td>NaN</td>\n",
       "      <td>NaN</td>\n",
       "      <td>NaN</td>\n",
       "      <td>NaN</td>\n",
       "      <td>NaN</td>\n",
       "      <td>229</td>\n",
       "    </tr>\n",
       "    <tr>\n",
       "      <th>2</th>\n",
       "      <td>0.017745</td>\n",
       "      <td>0.000825</td>\n",
       "      <td>0.000000</td>\n",
       "      <td>0.000000</td>\n",
       "      <td>atuo</td>\n",
       "      <td>30</td>\n",
       "      <td>-1</td>\n",
       "      <td>3</td>\n",
       "      <td>2</td>\n",
       "      <td>uniform</td>\n",
       "      <td>...</td>\n",
       "      <td>NaN</td>\n",
       "      <td>NaN</td>\n",
       "      <td>NaN</td>\n",
       "      <td>NaN</td>\n",
       "      <td>NaN</td>\n",
       "      <td>NaN</td>\n",
       "      <td>NaN</td>\n",
       "      <td>NaN</td>\n",
       "      <td>NaN</td>\n",
       "      <td>228</td>\n",
       "    </tr>\n",
       "    <tr>\n",
       "      <th>3</th>\n",
       "      <td>0.021972</td>\n",
       "      <td>0.003555</td>\n",
       "      <td>0.000000</td>\n",
       "      <td>0.000000</td>\n",
       "      <td>atuo</td>\n",
       "      <td>30</td>\n",
       "      <td>-1</td>\n",
       "      <td>3</td>\n",
       "      <td>2</td>\n",
       "      <td>distance</td>\n",
       "      <td>...</td>\n",
       "      <td>NaN</td>\n",
       "      <td>NaN</td>\n",
       "      <td>NaN</td>\n",
       "      <td>NaN</td>\n",
       "      <td>NaN</td>\n",
       "      <td>NaN</td>\n",
       "      <td>NaN</td>\n",
       "      <td>NaN</td>\n",
       "      <td>NaN</td>\n",
       "      <td>227</td>\n",
       "    </tr>\n",
       "    <tr>\n",
       "      <th>4</th>\n",
       "      <td>0.026195</td>\n",
       "      <td>0.003746</td>\n",
       "      <td>0.000000</td>\n",
       "      <td>0.000000</td>\n",
       "      <td>atuo</td>\n",
       "      <td>30</td>\n",
       "      <td>-1</td>\n",
       "      <td>5</td>\n",
       "      <td>1</td>\n",
       "      <td>uniform</td>\n",
       "      <td>...</td>\n",
       "      <td>NaN</td>\n",
       "      <td>NaN</td>\n",
       "      <td>NaN</td>\n",
       "      <td>NaN</td>\n",
       "      <td>NaN</td>\n",
       "      <td>NaN</td>\n",
       "      <td>NaN</td>\n",
       "      <td>NaN</td>\n",
       "      <td>NaN</td>\n",
       "      <td>226</td>\n",
       "    </tr>\n",
       "    <tr>\n",
       "      <th>...</th>\n",
       "      <td>...</td>\n",
       "      <td>...</td>\n",
       "      <td>...</td>\n",
       "      <td>...</td>\n",
       "      <td>...</td>\n",
       "      <td>...</td>\n",
       "      <td>...</td>\n",
       "      <td>...</td>\n",
       "      <td>...</td>\n",
       "      <td>...</td>\n",
       "      <td>...</td>\n",
       "      <td>...</td>\n",
       "      <td>...</td>\n",
       "      <td>...</td>\n",
       "      <td>...</td>\n",
       "      <td>...</td>\n",
       "      <td>...</td>\n",
       "      <td>...</td>\n",
       "      <td>...</td>\n",
       "      <td>...</td>\n",
       "      <td>...</td>\n",
       "    </tr>\n",
       "    <tr>\n",
       "      <th>331</th>\n",
       "      <td>0.135098</td>\n",
       "      <td>0.094558</td>\n",
       "      <td>29.819597</td>\n",
       "      <td>2.918157</td>\n",
       "      <td>brute</td>\n",
       "      <td>100</td>\n",
       "      <td>-1</td>\n",
       "      <td>13</td>\n",
       "      <td>2</td>\n",
       "      <td>distance</td>\n",
       "      <td>...</td>\n",
       "      <td>0.015259</td>\n",
       "      <td>0.022317</td>\n",
       "      <td>0.019598</td>\n",
       "      <td>0.011585</td>\n",
       "      <td>0.008191</td>\n",
       "      <td>-0.000454</td>\n",
       "      <td>0.024392</td>\n",
       "      <td>0.011812</td>\n",
       "      <td>0.008840</td>\n",
       "      <td>79</td>\n",
       "    </tr>\n",
       "    <tr>\n",
       "      <th>332</th>\n",
       "      <td>0.126344</td>\n",
       "      <td>0.074117</td>\n",
       "      <td>44.688378</td>\n",
       "      <td>2.251304</td>\n",
       "      <td>brute</td>\n",
       "      <td>100</td>\n",
       "      <td>-1</td>\n",
       "      <td>15</td>\n",
       "      <td>1</td>\n",
       "      <td>uniform</td>\n",
       "      <td>...</td>\n",
       "      <td>0.046885</td>\n",
       "      <td>0.056157</td>\n",
       "      <td>0.052098</td>\n",
       "      <td>0.041020</td>\n",
       "      <td>0.040550</td>\n",
       "      <td>0.036488</td>\n",
       "      <td>0.057855</td>\n",
       "      <td>0.045925</td>\n",
       "      <td>0.007903</td>\n",
       "      <td>19</td>\n",
       "    </tr>\n",
       "    <tr>\n",
       "      <th>333</th>\n",
       "      <td>0.109485</td>\n",
       "      <td>0.040684</td>\n",
       "      <td>42.365395</td>\n",
       "      <td>3.416318</td>\n",
       "      <td>brute</td>\n",
       "      <td>100</td>\n",
       "      <td>-1</td>\n",
       "      <td>15</td>\n",
       "      <td>1</td>\n",
       "      <td>distance</td>\n",
       "      <td>...</td>\n",
       "      <td>0.049879</td>\n",
       "      <td>0.059049</td>\n",
       "      <td>0.055499</td>\n",
       "      <td>0.044650</td>\n",
       "      <td>0.043247</td>\n",
       "      <td>0.038419</td>\n",
       "      <td>0.062437</td>\n",
       "      <td>0.048937</td>\n",
       "      <td>0.008322</td>\n",
       "      <td>1</td>\n",
       "    </tr>\n",
       "    <tr>\n",
       "      <th>334</th>\n",
       "      <td>0.115591</td>\n",
       "      <td>0.043879</td>\n",
       "      <td>28.195452</td>\n",
       "      <td>1.954103</td>\n",
       "      <td>brute</td>\n",
       "      <td>100</td>\n",
       "      <td>-1</td>\n",
       "      <td>15</td>\n",
       "      <td>2</td>\n",
       "      <td>uniform</td>\n",
       "      <td>...</td>\n",
       "      <td>0.017380</td>\n",
       "      <td>0.019991</td>\n",
       "      <td>0.018611</td>\n",
       "      <td>0.009157</td>\n",
       "      <td>0.005490</td>\n",
       "      <td>-0.001886</td>\n",
       "      <td>0.024453</td>\n",
       "      <td>0.011016</td>\n",
       "      <td>0.008668</td>\n",
       "      <td>91</td>\n",
       "    </tr>\n",
       "    <tr>\n",
       "      <th>335</th>\n",
       "      <td>0.090225</td>\n",
       "      <td>0.073313</td>\n",
       "      <td>16.899887</td>\n",
       "      <td>4.407882</td>\n",
       "      <td>brute</td>\n",
       "      <td>100</td>\n",
       "      <td>-1</td>\n",
       "      <td>15</td>\n",
       "      <td>2</td>\n",
       "      <td>distance</td>\n",
       "      <td>...</td>\n",
       "      <td>0.018976</td>\n",
       "      <td>0.021652</td>\n",
       "      <td>0.020646</td>\n",
       "      <td>0.011230</td>\n",
       "      <td>0.006987</td>\n",
       "      <td>-0.000839</td>\n",
       "      <td>0.027206</td>\n",
       "      <td>0.012703</td>\n",
       "      <td>0.009019</td>\n",
       "      <td>73</td>\n",
       "    </tr>\n",
       "  </tbody>\n",
       "</table>\n",
       "<p>336 rows × 37 columns</p>\n",
       "</div>"
      ],
      "text/plain": [
       "     mean_fit_time  std_fit_time  mean_score_time  std_score_time  \\\n",
       "0         0.025432      0.003887         0.000000        0.000000   \n",
       "1         0.019551      0.004040         0.000000        0.000000   \n",
       "2         0.017745      0.000825         0.000000        0.000000   \n",
       "3         0.021972      0.003555         0.000000        0.000000   \n",
       "4         0.026195      0.003746         0.000000        0.000000   \n",
       "..             ...           ...              ...             ...   \n",
       "331       0.135098      0.094558        29.819597        2.918157   \n",
       "332       0.126344      0.074117        44.688378        2.251304   \n",
       "333       0.109485      0.040684        42.365395        3.416318   \n",
       "334       0.115591      0.043879        28.195452        1.954103   \n",
       "335       0.090225      0.073313        16.899887        4.407882   \n",
       "\n",
       "    param_kneighborsregressor__algorithm param_kneighborsregressor__leaf_size  \\\n",
       "0                                   atuo                                   30   \n",
       "1                                   atuo                                   30   \n",
       "2                                   atuo                                   30   \n",
       "3                                   atuo                                   30   \n",
       "4                                   atuo                                   30   \n",
       "..                                   ...                                  ...   \n",
       "331                                brute                                  100   \n",
       "332                                brute                                  100   \n",
       "333                                brute                                  100   \n",
       "334                                brute                                  100   \n",
       "335                                brute                                  100   \n",
       "\n",
       "    param_kneighborsregressor__n_jobs param_kneighborsregressor__n_neighbors  \\\n",
       "0                                  -1                                      3   \n",
       "1                                  -1                                      3   \n",
       "2                                  -1                                      3   \n",
       "3                                  -1                                      3   \n",
       "4                                  -1                                      5   \n",
       "..                                ...                                    ...   \n",
       "331                                -1                                     13   \n",
       "332                                -1                                     15   \n",
       "333                                -1                                     15   \n",
       "334                                -1                                     15   \n",
       "335                                -1                                     15   \n",
       "\n",
       "    param_kneighborsregressor__p param_kneighborsregressor__weights  ...  \\\n",
       "0                              1                            uniform  ...   \n",
       "1                              1                           distance  ...   \n",
       "2                              2                            uniform  ...   \n",
       "3                              2                           distance  ...   \n",
       "4                              1                            uniform  ...   \n",
       "..                           ...                                ...  ...   \n",
       "331                            2                           distance  ...   \n",
       "332                            1                            uniform  ...   \n",
       "333                            1                           distance  ...   \n",
       "334                            2                            uniform  ...   \n",
       "335                            2                           distance  ...   \n",
       "\n",
       "    split3_test_r2  split4_test_r2  split5_test_r2  split6_test_r2  \\\n",
       "0              NaN             NaN             NaN             NaN   \n",
       "1              NaN             NaN             NaN             NaN   \n",
       "2              NaN             NaN             NaN             NaN   \n",
       "3              NaN             NaN             NaN             NaN   \n",
       "4              NaN             NaN             NaN             NaN   \n",
       "..             ...             ...             ...             ...   \n",
       "331       0.015259        0.022317        0.019598        0.011585   \n",
       "332       0.046885        0.056157        0.052098        0.041020   \n",
       "333       0.049879        0.059049        0.055499        0.044650   \n",
       "334       0.017380        0.019991        0.018611        0.009157   \n",
       "335       0.018976        0.021652        0.020646        0.011230   \n",
       "\n",
       "     split7_test_r2  split8_test_r2  split9_test_r2  mean_test_r2  \\\n",
       "0               NaN             NaN             NaN           NaN   \n",
       "1               NaN             NaN             NaN           NaN   \n",
       "2               NaN             NaN             NaN           NaN   \n",
       "3               NaN             NaN             NaN           NaN   \n",
       "4               NaN             NaN             NaN           NaN   \n",
       "..              ...             ...             ...           ...   \n",
       "331        0.008191       -0.000454        0.024392      0.011812   \n",
       "332        0.040550        0.036488        0.057855      0.045925   \n",
       "333        0.043247        0.038419        0.062437      0.048937   \n",
       "334        0.005490       -0.001886        0.024453      0.011016   \n",
       "335        0.006987       -0.000839        0.027206      0.012703   \n",
       "\n",
       "     std_test_r2  rank_test_r2  \n",
       "0            NaN           169  \n",
       "1            NaN           229  \n",
       "2            NaN           228  \n",
       "3            NaN           227  \n",
       "4            NaN           226  \n",
       "..           ...           ...  \n",
       "331     0.008840            79  \n",
       "332     0.007903            19  \n",
       "333     0.008322             1  \n",
       "334     0.008668            91  \n",
       "335     0.009019            73  \n",
       "\n",
       "[336 rows x 37 columns]"
      ]
     },
     "execution_count": 55,
     "metadata": {},
     "output_type": "execute_result"
    }
   ],
   "source": [
    "\n",
    "RegKnnPipe = make_pipeline(KNeighborsRegressor())\n",
    "RegKnnParams = [\n",
    "    {\n",
    "         'kneighborsregressor__weights': ['uniform','distance'],\n",
    "         'kneighborsregressor__leaf_size': [30,50,100],\n",
    "         'kneighborsregressor__p': [1,2],\n",
    "         'kneighborsregressor__algorithm':['atuo','ball_tre','kd_tree','brute'],\n",
    "         'kneighborsregressor__n_neighbors':[3,5,7,9,11,13,15],\n",
    "         'kneighborsregressor__n_jobs':[-1]\n",
    "    }\n",
    "]\n",
    "cv = ShuffleSplit(n_splits=10, test_size=.2, random_state=86)\n",
    "#Perform the grid search using accuracy as a metric during cross validation.\n",
    "KNNgrid = GridSearchCV(RegKnnPipe, RegKnnParams, cv=cv, scoring=['neg_mean_squared_error','r2'], n_jobs=-1, refit='neg_mean_squared_error')\n",
    "#Use the best features from recursive feature elimination during the grid search\n",
    "start_time = timeit.default_timer()\n",
    "KNNgrid.fit(reg_X_train, reg_y_train)\n",
    "grid_time = timeit.default_timer() - start_time\n",
    "#display the best pipeline model identified during the grid search\n",
    "print(\"\\ngrid time: \", grid_time)\n",
    "KNNgridResults = pd.DataFrame.from_dict(KNNgrid.cv_results_)\n",
    "KNNgridResults\n",
    "#grid.best_estimator_"
   ]
  },
  {
   "cell_type": "code",
   "execution_count": 84,
   "metadata": {},
   "outputs": [
    {
     "name": "stdout",
     "output_type": "stream",
     "text": [
      "Best Estimator   :  KNeighborsRegressor(algorithm='kd_tree', leaf_size=30, metric='minkowski',\n",
      "                    metric_params=None, n_jobs=-1, n_neighbors=15, p=1,\n",
      "                    weights='distance')\n",
      "Best Parameters  :  {'kneighborsregressor__algorithm': 'kd_tree', 'kneighborsregressor__leaf_size': 30, 'kneighborsregressor__n_jobs': -1, 'kneighborsregressor__n_neighbors': 15, 'kneighborsregressor__p': 1, 'kneighborsregressor__weights': 'distance'}\n",
      "Best Scores      :  -102172020.80649403\n"
     ]
    }
   ],
   "source": [
    "#Print out the best model, so if we need to reference it, we don't have to re-run the whole grid search:\n",
    "RegResults(KNNgrid)"
   ]
  },
  {
   "cell_type": "markdown",
   "metadata": {},
   "source": [
    "# **Modeling and Evaluations 4**"
   ]
  },
  {
   "cell_type": "markdown",
   "metadata": {},
   "source": [
    "__TODO:__ Visualize results \n",
    "\n",
    "People don't explain 'why' which will deduct points \n",
    "\n",
    "Analyze how the model is performing \n",
    "\n",
    "Explaination is bolstered by analysis \n",
    "\n",
    "TIP: YellowBrick (it's a pkg) for visualizing estimators "
   ]
  },
  {
   "cell_type": "markdown",
   "metadata": {},
   "source": [
    "### Function Definitions:"
   ]
  },
  {
   "cell_type": "code",
   "execution_count": 167,
   "metadata": {},
   "outputs": [],
   "source": [
    "def LCplot(model):\n",
    "    # Create the learning curve visualizer\n",
    "    sizes = np.linspace(0.3, 1.0, 10)\n",
    "\n",
    "    # Instantiate the classification model and visualizer\n",
    "    visualizer = LearningCurve(\n",
    "        model, cv=cv, scoring='roc_auc', train_sizes=sizes, n_jobs=-1\n",
    "    )\n",
    "\n",
    "    visualizer.fit(X_train, y_train)        # Fit the data to the visualizer\n",
    "    visualizer.show()           # Finalize and render the figure"
   ]
  },
  {
   "cell_type": "code",
   "execution_count": 223,
   "metadata": {},
   "outputs": [],
   "source": [
    "def cvTest(model, n1_jobs=-1): # Test only, no Grid:\n",
    "    print('---------------------------------')\n",
    "    modelName = str(model).split('(')[0]\n",
    "    print('\\n'+ modelName +' Results:')\n",
    "\n",
    "    model.fit(X_train,y_train)\n",
    "\n",
    "    fit_time = timeit.default_timer() - start_time\n",
    "\n",
    "    # do 10-fold cross validation:\n",
    "    AUCscores  = cross_val_score(model, X_test, y_test, cv=cv, scoring='roc_auc' , n_jobs=n1_jobs)\n",
    "    f1scores  = cross_val_score(model, X_test, y_test, cv=cv, scoring='f1'       , n_jobs=n1_jobs)\n",
    "    PreScores = cross_val_score(model, X_test, y_test, cv=cv, scoring='precision', n_jobs=n1_jobs)\n",
    "    RecScores = cross_val_score(model, X_test, y_test, cv=cv, scoring='recall'   , n_jobs=n1_jobs)\n",
    "    \n",
    "    print('\\n10-fold Cross Validation results:')\n",
    "    print('---------------------------------')\n",
    "    print('F1 scores:', f1scores)\n",
    "    print('\\nPrecision scores', PreScores)\n",
    "    print('\\nRecall scores', RecScores)\n",
    "\n",
    "    print('\\nAverage F1: ',np.average(f1scores))\n",
    "    print('Min F1: ',np.min(f1scores))\n",
    "    print('Max F1: ',np.max(f1scores))\n",
    "    \n",
    "    print('\\nAverage Precision: ',np.average(PreScores))\n",
    "    print('Min Precision: ',np.min(PreScores))\n",
    "    print('Max Precision: ',np.max(PreScores))\n",
    "    \n",
    "    print('\\nAverage Recall: ',np.average(RecScores))\n",
    "    print('Min Recall: ',np.min(RecScores))\n",
    "    print('Max Recall: ',np.max(RecScores))\n",
    "    \n",
    "    print('\\nAverage AUC: ',np.average(AUCscores))\n",
    "    print('Min AUC: ',np.min(AUCscores))\n",
    "    print('Max AUC: ',np.max(AUCscores))\n",
    "\n",
    "    cv_time = timeit.default_timer() - start_time - fit_time\n",
    "\n",
    "    # Build Confusion Matrix to test generality:\n",
    "    y_pred=model.predict(X_test)\n",
    "    #y_pred=model.predict_proba(X_test)\n",
    "    cnf_matrix = metrics.confusion_matrix(y_test, y_pred)\n",
    "\n",
    "    class_names=[0,1] # name  of classes\n",
    "    fig, ax = plt.subplots()\n",
    "    tick_marks = np.arange(len(class_names))\n",
    "    plt.xticks(tick_marks, class_names)\n",
    "    plt.yticks(tick_marks, class_names)\n",
    "\n",
    "    # create heatmap\n",
    "    sns.heatmap(pd.DataFrame(cnf_matrix), annot=True, cmap=\"YlGnBu\" ,fmt='g')\n",
    "    ax.xaxis.set_label_position(\"top\")\n",
    "    plt.tight_layout()\n",
    "    plt.title(modelName+' Confusion matrix', y=1.1)\n",
    "    plt.ylabel('Actual Fraud')\n",
    "    plt.xlabel('Predicted Fraud')\n",
    "    plt.show\n",
    "    print('\\nSingle Run results:')\n",
    "    print('---------------------------------')\n",
    "    print(\"Accuracy:\",metrics.accuracy_score(y_test, y_pred))\n",
    "    print(\"Precision:\",metrics.precision_score(y_test, y_pred))\n",
    "    print(\"Recall:\",metrics.recall_score(y_test, y_pred))\n",
    "    print(\"F1:\",metrics.f1_score(y_test, y_pred))\n",
    "    \n",
    "    print(\"\\nFit time: \", fit_time)\n",
    "    print(\"CV time: \", cv_time)\n",
    "    print(\"Total time: \", timeit.default_timer() - start_time)"
   ]
  },
  {
   "cell_type": "code",
   "execution_count": 224,
   "metadata": {},
   "outputs": [],
   "source": [
    "#define 3 functions to plot the ROC curve\n",
    "def calculate_probability(classifier, A, B, D):\n",
    "    probas_ = classifier.fit(A, B).predict_proba(D)\n",
    "    return probas_\n",
    "\n",
    "#def calculate_probability_based_on_confidence(classifier, A, B, D):\n",
    "#    probas_ = classifier.fit(A, B).decision_function(D)\n",
    "#    return probas_\n",
    "    \n",
    "def plotROCcurve(classifier, X, y, cv, calculate_probability, model):\n",
    "    # Run classifier with cross-validation and plot ROC curves\n",
    "    tprs = []\n",
    "    aucs = []\n",
    "\n",
    "    mean_fpr = np.linspace(0, 1, 100)\n",
    "    \n",
    "    i = 0\n",
    "    for train, test in cv.split(X, y):\n",
    "        probas_ = calculate_probability(classifier, X[train], y[train], X[test])\n",
    "        # Compute ROC curve and area the curve\n",
    "        fpr, tpr, thresholds = roc_curve(y[test], probas_[:, 1])\n",
    "        tprs.append(interp(mean_fpr, fpr, tpr))\n",
    "        tprs[-1][0] = 0.0\n",
    "        roc_auc = auc(fpr, tpr)\n",
    "        aucs.append(roc_auc)\n",
    "        plt.plot(fpr, tpr, lw=1, alpha=0.3,\n",
    "             label='ROC fold %d (AUC = %0.2f)' % (i, roc_auc))\n",
    "        i += 1\n",
    "        \n",
    "    plt.plot([0, 1], [0, 1], linestyle='--', lw=2, color='r',\n",
    "         label='Chance', alpha=.8)\n",
    "        \n",
    "    mean_tpr = np.mean(tprs, axis=0)\n",
    "    mean_tpr[-1] = 1.0\n",
    "    mean_auc = auc(mean_fpr, mean_tpr)\n",
    "    std_auc = np.std(aucs)\n",
    "    plt.plot(mean_fpr, mean_tpr, color='b',\n",
    "         label=r'Mean ROC (AUC = %0.2f $\\pm$ %0.2f)' % (mean_auc, std_auc),\n",
    "         lw=2, alpha=.8)\n",
    "        \n",
    "    std_tpr = np.std(tprs, axis=0)\n",
    "    tprs_upper = np.minimum(mean_tpr + std_tpr, 1)\n",
    "    tprs_lower = np.maximum(mean_tpr - std_tpr, 0)\n",
    "    plt.fill_between(mean_fpr, tprs_lower, tprs_upper, color='grey', alpha=.2,\n",
    "                 label=r'$\\pm$ 1 std. dev.')\n",
    "    \n",
    "    plt.xlim([-0.05, 1.05])\n",
    "    plt.ylim([-0.05, 1.05])\n",
    "    plt.xlabel('False Positive Rate')\n",
    "    plt.ylabel('True Positive Rate')\n",
    "    plt.title(f'Receiver operating characteristic--{model}')\n",
    "    plt.legend(loc=\"lower right\")\n",
    "    plt.show()\n",
    "    return mean_fpr, mean_tpr, mean_auc, std_auc\n",
    "\n",
    "\n",
    "\n"
   ]
  },
  {
   "cell_type": "code",
   "execution_count": 80,
   "metadata": {},
   "outputs": [
    {
     "data": {
      "image/png": "[encoded data removed]",
      "text/plain": [
       "<Figure size 432x288 with 1 Axes>"
      ]
     },
     "metadata": {
      "needs_background": "light"
     },
     "output_type": "display_data"
    }
   ],
   "source": [
    "warnings.simplefilter(action='ignore', category=Warning)\n",
    "\n",
    "%matplotlib inline\n",
    "\n",
    "#plot random forest ROC curves and AUC\n",
    "classifier = best_rf_clf.best_estimator_\n",
    "\n",
    "mean_fpr_rf, mean_tpr_rf, mean_auc_rf, std_auc_rf = plotROCcurve(classifier, X,target_df, cv, calculate_probability, model='Random Forest')\n"
   ]
  },
  {
   "cell_type": "code",
   "execution_count": 81,
   "metadata": {},
   "outputs": [
    {
     "data": {
      "image/png": "[encoded data removed]",
      "text/plain": [
       "<Figure size 432x288 with 1 Axes>"
      ]
     },
     "metadata": {
      "needs_background": "light"
     },
     "output_type": "display_data"
    }
   ],
   "source": [
    "%matplotlib inline\n",
    "#plot Logicstic Regression ROC curves and AUC\n",
    "classifier = best_log_clf.best_estimator_\n",
    "\n",
    "mean_fpr_lg, mean_tpr_lg, mean_auc_lg, std_auc_lg = plotROCcurve(classifier, X,target_df, cv, calculate_probability, model='Logistic Regression')\n"
   ]
  },
  {
   "cell_type": "code",
   "execution_count": 82,
   "metadata": {},
   "outputs": [
    {
     "data": {
      "image/png": "[encoded data removed]",
      "text/plain": [
       "<Figure size 432x288 with 1 Axes>"
      ]
     },
     "metadata": {
      "needs_background": "light"
     },
     "output_type": "display_data"
    }
   ],
   "source": [
    "%matplotlib inline\n",
    "#plot Naive Bayes ROC curves and AUC\n",
    "classifier = best_nb_clf.best_estimator_\n",
    "\n",
    "mean_fpr_nb, mean_tpr_nb, mean_auc_nb, std_auc_nb = plotROCcurve(classifier, X,target_df, cv, calculate_probability, model='Naive Bayes')\n",
    "\n",
    "warnings.simplefilter(action='default', category=Warning)"
   ]
  },
  {
   "cell_type": "code",
   "execution_count": null,
   "metadata": {},
   "outputs": [],
   "source": [
    "#plot all average ROC curves in one graph\n",
    "%matplotlib inline\n",
    "\n",
    "plt.figure(figsize=(16,9))\n",
    "plt.plot([0, 1], [0, 1], linestyle='--', lw=2, color='r',\n",
    "         label='Chance', alpha=.8)\n",
    "\n",
    "plt.plot(mean_fpr_rf, mean_tpr_rf, color='tab:blue',\n",
    "         label=r'Mean Random Forest ROC (AUC = %0.2f $\\pm$ %0.2f)' % (mean_auc_rf, std_auc_rf),\n",
    "         lw=2, alpha=.8)\n",
    "\n",
    "plt.plot(mean_fpr_nb, mean_tpr_rf, color='tab:green',\n",
    "         label=r'Mean Naive Bayes ROC (AUC = %0.2f $\\pm$ %0.2f)' % (mean_auc_nb, std_auc_nb),\n",
    "         lw=2, alpha=.8)\n",
    "\n",
    "plt.plot(mean_fpr_lg, mean_tpr_lg, color='tab:olive',\n",
    "         label=r'Mean Logistic Regression ROC (AUC = %0.2f $\\pm$ %0.2f)' % (mean_auc_lg, std_auc_lg),\n",
    "         lw=2, alpha=.8)\n",
    "\n",
    "plt.xlim([-0.05, 1.05])\n",
    "plt.ylim([-0.05, 1.05])\n",
    "plt.xlabel('False Positive Rate')\n",
    "plt.ylabel('True Positive Rate')\n",
    "plt.title('Receiver operating characteristic')\n",
    "plt.legend(loc=\"lower right\")\n",
    "plt.show()"
   ]
  },
  {
   "cell_type": "code",
   "execution_count": null,
   "metadata": {
    "ExecuteTime": {
     "end_time": "2020-07-05T06:14:13.613305Z",
     "start_time": "2020-07-05T06:14:12.389006Z"
    }
   },
   "outputs": [],
   "source": [
    "#reg_y_pred = grid.predict(reg_X_test)\n",
    "warnings.simplefilter(action='ignore', category=Warning)\n",
    "\n",
    "model = KNNgrid.best_estimator_[0]\n",
    "visualizer = PredictionError(model)\n",
    "\n",
    "visualizer.fit(reg_X_train, reg_y_train)  # Fit the training data to the visualizer\n",
    "visualizer.score(reg_X_test, reg_y_test)  # Evaluate the model on the test data\n",
    "visualizer.show() \n",
    "\n",
    "warnings.simplefilter(action='default', category=Warning)\n",
    "\n"
   ]
  },
  {
   "cell_type": "markdown",
   "metadata": {},
   "source": [
    "### Classifier Learning Curves"
   ]
  },
  {
   "cell_type": "code",
   "execution_count": 173,
   "metadata": {},
   "outputs": [
    {
     "data": {
      "image/png": "[encoded data removed]",
      "text/plain": [
       "<Figure size 432x288 with 1 Axes>"
      ]
     },
     "metadata": {
      "needs_background": "light"
     },
     "output_type": "display_data"
    },
    {
     "data": {
      "image/png": "[encoded data removed]",
      "text/plain": [
       "<Figure size 432x288 with 1 Axes>"
      ]
     },
     "metadata": {
      "needs_background": "light"
     },
     "output_type": "display_data"
    },
    {
     "data": {
      "image/png": "[encoded data removed]",
      "text/plain": [
       "<Figure size 432x288 with 1 Axes>"
      ]
     },
     "metadata": {
      "needs_background": "light"
     },
     "output_type": "display_data"
    }
   ],
   "source": [
    "warnings.simplefilter(action='ignore', category=Warning)\n",
    "LCplot(best_log_clf.best_estimator_)\n",
    "LCplot(best_rf_clf.best_estimator_)\n",
    "LCplot(best_nb_clf.best_estimator_)\n",
    "warnings.simplefilter(action='default', category=Warning)\n"
   ]
  },
  {
   "cell_type": "markdown",
   "metadata": {},
   "source": [
    "### Classifier Generalization Performance"
   ]
  },
  {
   "cell_type": "code",
   "execution_count": 237,
   "metadata": {},
   "outputs": [
    {
     "name": "stdout",
     "output_type": "stream",
     "text": [
      "---------------------------------\n",
      "\n",
      "LogisticRegression Results:\n",
      "\n",
      "10-fold Cross Validation results:\n",
      "---------------------------------\n",
      "F1 scores: [0.72870043 0.74056787 0.71711569 0.71711569 0.74641889 0.71303657\n",
      " 0.73367227 0.7282011  0.73317684 0.71354787]\n",
      "\n",
      "Precision scores [0.57319333 0.58801729 0.55898703 0.55898703 0.59542928 0.55404571\n",
      " 0.57936998 0.57257566 0.57875232 0.55466337]\n",
      "\n",
      "Recall scores [1. 1. 1. 1. 1. 1. 1. 1. 1. 1.]\n",
      "\n",
      "Average F1:  0.7271553227028462\n",
      "Min F1:  0.7130365659777425\n",
      "Max F1:  0.7464188927603562\n",
      "\n",
      "Average Precision:  0.5714021000617666\n",
      "Min Precision:  0.5540457072266831\n",
      "Max Precision:  0.5954292773316863\n",
      "\n",
      "Average Recall:  1.0\n",
      "Min Recall:  1.0\n",
      "Max Recall:  1.0\n",
      "\n",
      "Average AUC:  0.5680828335061181\n",
      "Min AUC:  0.5472843580018962\n",
      "Max AUC:  0.5980670721327206\n",
      "\n",
      "Single Run results:\n",
      "---------------------------------\n",
      "Accuracy: 0.5820877084620136\n",
      "Precision: 0.5819104182133136\n",
      "Recall: 0.999150201827066\n",
      "F1: 0.7354757995152085\n",
      "\n",
      "Fit time:  26797.735600818996\n",
      "CV time:  3.6953284660121426\n",
      "Total time:  26801.505588994012\n",
      "---------------------------------\n",
      "\n",
      "RandomForestClassifier Results:\n",
      "\n",
      "10-fold Cross Validation results:\n",
      "---------------------------------\n",
      "F1 scores: [0.72077922 0.73249696 0.71644227 0.71410942 0.73276214 0.7010395\n",
      " 0.72374798 0.71796971 0.72363042 0.70496512]\n",
      "\n",
      "Precision scores [0.578125   0.5957867  0.56791721 0.56880734 0.60390047 0.55901857\n",
      " 0.58257477 0.57849604 0.58648111 0.55815465]\n",
      "\n",
      "Recall scores [0.95689655 0.95063025 0.97016575 0.95911602 0.93153527 0.93979933\n",
      " 0.95522388 0.94606257 0.94450374 0.95657016]\n",
      "\n",
      "Average F1:  0.7187942741012272\n",
      "Min F1:  0.701039501039501\n",
      "Max F1:  0.7327621379028968\n",
      "\n",
      "Average Precision:  0.5779261859146974\n",
      "Min Precision:  0.5581546458739441\n",
      "Max Precision:  0.6039004707464694\n",
      "\n",
      "Average Recall:  0.9510503511840319\n",
      "Min Recall:  0.9315352697095436\n",
      "Max Recall:  0.9701657458563536\n",
      "\n",
      "Average AUC:  0.5644532336733609\n",
      "Min AUC:  0.5363160365268037\n",
      "Max AUC:  0.5787919587724593\n",
      "\n",
      "Single Run results:\n",
      "---------------------------------\n",
      "Accuracy: 0.5995058678196418\n",
      "Precision: 0.5989998648466008\n",
      "Recall: 0.9415763756107924\n",
      "F1: 0.7321989096315876\n",
      "\n",
      "Fit time:  26809.044526827987\n",
      "CV time:  45.62289135501487\n",
      "Total time:  26854.95511405397\n",
      "---------------------------------\n",
      "\n",
      "MultinomialNB Results:\n",
      "\n",
      "10-fold Cross Validation results:\n",
      "---------------------------------\n",
      "F1 scores: [0.72870043 0.74056787 0.71711569 0.71711569 0.74641889 0.71303657\n",
      " 0.73367227 0.7282011  0.73317684 0.71354787]\n",
      "\n",
      "Precision scores [0.57319333 0.58801729 0.55898703 0.55898703 0.59542928 0.55404571\n",
      " 0.57936998 0.57257566 0.57875232 0.55466337]\n",
      "\n",
      "Recall scores [1. 1. 1. 1. 1. 1. 1. 1. 1. 1.]\n",
      "\n",
      "Average F1:  0.7271553227028462\n",
      "Min F1:  0.7130365659777425\n",
      "Max F1:  0.7464188927603562\n",
      "\n",
      "Average Precision:  0.5714021000617666\n",
      "Min Precision:  0.5540457072266831\n",
      "Max Precision:  0.5954292773316863\n",
      "\n",
      "Average Recall:  1.0\n",
      "Min Recall:  1.0\n",
      "Max Recall:  1.0\n",
      "\n",
      "Average AUC:  0.574286569424454\n",
      "Min AUC:  0.5536693043006529\n",
      "Max AUC:  0.5903832972893461\n",
      "\n",
      "Single Run results:\n",
      "---------------------------------\n",
      "Accuracy: 0.591846819024089\n",
      "Precision: 0.5909032007256706\n",
      "Recall: 0.9687699171446782\n",
      "F1: 0.7340631036703156\n",
      "\n",
      "Fit time:  26854.964840892004\n",
      "CV time:  0.21400788996834308\n",
      "Total time:  26855.26549089898\n"
     ]
    },
    {
     "data": {
      "image/png": "[encoded data removed]",
      "text/plain": [
       "<Figure size 432x288 with 2 Axes>"
      ]
     },
     "metadata": {
      "needs_background": "light"
     },
     "output_type": "display_data"
    },
    {
     "data": {
      "image/png": "[encoded data removed]",
      "text/plain": [
       "<Figure size 432x288 with 2 Axes>"
      ]
     },
     "metadata": {
      "needs_background": "light"
     },
     "output_type": "display_data"
    },
    {
     "data": {
      "image/png": "[encoded data removed]",
      "text/plain": [
       "<Figure size 432x288 with 2 Axes>"
      ]
     },
     "metadata": {
      "needs_background": "light"
     },
     "output_type": "display_data"
    }
   ],
   "source": [
    "%matplotlib inline\n",
    "cvTest(best_log_clf.best_estimator_[0])\n",
    "cvTest(best_rf_clf.best_estimator_[0])\n",
    "cvTest(best_nb_clf.best_estimator_[0], None)"
   ]
  },
  {
   "cell_type": "code",
   "execution_count": 233,
   "metadata": {},
   "outputs": [],
   "source": [
    "from sklearn.metrics import make_scorer\n",
    "from sklearn.metrics import accuracy_score\n",
    "logistic_grid_results = pd.read_excel(\"LogisticRegression_CV_Results.xlsx\",index_col=0)\n",
    "log_liblinear_df = logistic_grid_results[logistic_grid_results['param_logisticregression__solver']=='liblinear']\n",
    "log_liblinear = {}\n",
    "for column in log_liblinear_df.columns:\n",
    "    log_liblinear[column] = log_liblinear_df[column].to_numpy()\n",
    "log_sag_df = logistic_grid_results[logistic_grid_results['param_logisticregression__solver']=='sag']\n",
    "log_sag = {}\n",
    "for column in log_sag_df.columns:\n",
    "    log_sag[column] = log_sag_df[column].to_numpy()\n",
    "scoring = {'accuracy': make_scorer(metrics.accuracy_score),'recall': make_scorer(metrics.recall_score),\n",
    "           'precision': make_scorer(metrics.precision_score),'f1': make_scorer(metrics.f1_score),           \n",
    "           'roc_auc' : 'roc_auc'\n",
    "          }\n",
    "X_liblinear = np.array(log_liblinear['param_logisticregression__C'], dtype=float)\n",
    "X_sag = np.array(log_sag['param_logisticregression__C'], dtype=float)"
   ]
  },
  {
   "cell_type": "code",
   "execution_count": 246,
   "metadata": {},
   "outputs": [
    {
     "data": {
      "image/png": "[encoded data removed]",
      "text/plain": [
       "<Figure size 936x936 with 1 Axes>"
      ]
     },
     "metadata": {
      "needs_background": "light"
     },
     "output_type": "display_data"
    }
   ],
   "source": [
    "%matplotlib inline\n",
    "\n",
    "#liblinear\n",
    "viz_hyperparameter(log_liblinear,X_liblinear,xlabel=\"Parameter C\",scoring=scoring,\n",
    "                   xlim=[-10,100],ylim=[0.55,.75],plot_title=\" : Logistic liblinear solver\")\n"
   ]
  },
  {
   "cell_type": "code",
   "execution_count": 241,
   "metadata": {},
   "outputs": [
    {
     "data": {
      "image/png": "[encoded data removed]",
      "text/plain": [
       "<Figure size 936x936 with 1 Axes>"
      ]
     },
     "metadata": {
      "needs_background": "light"
     },
     "output_type": "display_data"
    }
   ],
   "source": [
    "%matplotlib inline\n",
    "\n",
    "scoring = {'accuracy': make_scorer(metrics.accuracy_score),'recall': make_scorer(metrics.recall_score),\n",
    "           'precision': make_scorer(metrics.precision_score),'f1': make_scorer(metrics.f1_score)\n",
    "          }\n",
    "\n",
    "viz_hyperparameter(log_sag,X_sag,xlabel=\"Parameter C\",scoring=scoring,\n",
    "                   xlim=[-10,100],ylim=[0.55,.75],plot_title=\" : Logistic sag solver\")"
   ]
  },
  {
   "cell_type": "code",
   "execution_count": 218,
   "metadata": {},
   "outputs": [],
   "source": [
    "rf_grid_results = pd.read_excel(\"RandomForestClassifier_CV_Results.xlsx\",index_col=0)\n",
    "rf_grid_results = rf_grid_results.rename(columns={'param_randomforestclassifier__max_features': 'max_features', \n",
    "                                                  'param_randomforestclassifier__n_estimators': 'n_estimators'})\n",
    "grid_results = rf_grid_results.loc[:,['max_features','n_estimators','mean_test_f1']]\n",
    "grid_contour = grid_results.groupby(['max_features','n_estimators']).mean()\n",
    "grid_contour\n",
    "grid_reset = grid_contour.reset_index()\n",
    "grid_reset.columns = ['max_features', 'n_estimators', 'mean_test_f1']\n",
    "grid_pivot = grid_reset.pivot('max_features', 'n_estimators')\n",
    "grid_pivot\n",
    "x = grid_pivot.columns.levels[1].values\n",
    "y = grid_pivot.index.values\n",
    "z = grid_pivot.values"
   ]
  },
  {
   "cell_type": "code",
   "execution_count": 242,
   "metadata": {},
   "outputs": [
    {
     "data": {
      "application/vnd.plotly.v1+json": {
       "config": {
        "plotlyServerURL": "https://plot.ly"
       },
       "data": [
        {
         "type": "contour",
         "x": [
          10,
          20,
          30,
          40,
          50,
          60,
          70,
          80,
          90,
          100,
          110,
          120,
          130,
          140,
          150,
          160,
          170,
          180,
          190,
          200
         ],
         "y": [
          1,
          2,
          3,
          4,
          5
         ],
         "z": [
          [
           0.5921424350231879,
           0.644564322269051,
           0.6702870869041175,
           0.6859929672998988,
           0.6949261382921876,
           0.7034525302282666,
           0.7085696950233193,
           0.7127063892153268,
           0.7160342051008036,
           0.7188472848442486,
           0.7203645334015938,
           0.7210721876290858,
           0.7238101598735874,
           0.7242202516757358,
           0.7254089463749672,
           0.7263315539020854,
           0.727150693007978,
           0.7277752798556516,
           0.72805149601677,
           0.7286856992831717
          ],
          [
           0.5944670984755177,
           0.6436476496734166,
           0.6669055161255415,
           0.6833621904198914,
           0.6954100160823596,
           0.704213349028542,
           0.7088246437028491,
           0.713140912703487,
           0.7162845986368828,
           0.7187662316127231,
           0.7214967289566533,
           0.7230927025508767,
           0.723322826984349,
           0.7249725682882003,
           0.7259544759590136,
           0.7268443355230898,
           0.7277750246457843,
           0.7281561432914981,
           0.7288172835349949,
           0.7290004357082065
          ],
          [
           0.5983221432740154,
           0.6502953952490447,
           0.6744616560958046,
           0.6893587116626644,
           0.6995815599922769,
           0.704860000888618,
           0.7104920839779479,
           0.7154964054180595,
           0.718983084022909,
           0.7214364817223464,
           0.7230383785429217,
           0.7248573912724898,
           0.7257664281699013,
           0.7272280770455808,
           0.7282312220658478,
           0.7283256690046283,
           0.7288425551857951,
           0.7298890239050595,
           0.730127479098237,
           0.7301552322185625
          ],
          [
           0.6009018767266697,
           0.6512982584668117,
           0.6753132001760986,
           0.691149780991477,
           0.6999952096977361,
           0.705998429951056,
           0.710819754120465,
           0.7145494054139473,
           0.7178504684173628,
           0.7209614491218319,
           0.7223352602099063,
           0.7245921223764952,
           0.7255387972794984,
           0.7259671043826058,
           0.7265574458100235,
           0.7282199327350147,
           0.7285894502651855,
           0.7289977209983155,
           0.7305189906632151,
           0.730940001063028
          ],
          [
           0.6038685230316825,
           0.6540582434525192,
           0.6783431274824834,
           0.6939544358796822,
           0.7036006321717345,
           0.7089009132588139,
           0.7143518194931915,
           0.7167412464539876,
           0.7200457522647948,
           0.7233909782985246,
           0.7250986077557016,
           0.727047760984401,
           0.7290885036287822,
           0.7295852207965388,
           0.7303246390788402,
           0.7316389818882199,
           0.7320069499269523,
           0.7318062884119623,
           0.732299707115062,
           0.7324248050115264
          ]
         ]
        }
       ],
       "layout": {
        "autosize": false,
        "height": 500,
        "margin": {
         "b": 65,
         "l": 65,
         "r": 50,
         "t": 90
        },
        "template": {
         "data": {
          "bar": [
           {
            "error_x": {
             "color": "#2a3f5f"
            },
            "error_y": {
             "color": "#2a3f5f"
            },
            "marker": {
             "line": {
              "color": "#E5ECF6",
              "width": 0.5
             }
            },
            "type": "bar"
           }
          ],
          "barpolar": [
           {
            "marker": {
             "line": {
              "color": "#E5ECF6",
              "width": 0.5
             }
            },
            "type": "barpolar"
           }
          ],
          "carpet": [
           {
            "aaxis": {
             "endlinecolor": "#2a3f5f",
             "gridcolor": "white",
             "linecolor": "white",
             "minorgridcolor": "white",
             "startlinecolor": "#2a3f5f"
            },
            "baxis": {
             "endlinecolor": "#2a3f5f",
             "gridcolor": "white",
             "linecolor": "white",
             "minorgridcolor": "white",
             "startlinecolor": "#2a3f5f"
            },
            "type": "carpet"
           }
          ],
          "choropleth": [
           {
            "colorbar": {
             "outlinewidth": 0,
             "ticks": ""
            },
            "type": "choropleth"
           }
          ],
          "contour": [
           {
            "colorbar": {
             "outlinewidth": 0,
             "ticks": ""
            },
            "colorscale": [
             [
              0,
              "#0d0887"
             ],
             [
              0.1111111111111111,
              "#46039f"
             ],
             [
              0.2222222222222222,
              "#7201a8"
             ],
             [
              0.3333333333333333,
              "#9c179e"
             ],
             [
              0.4444444444444444,
              "#bd3786"
             ],
             [
              0.5555555555555556,
              "#d8576b"
             ],
             [
              0.6666666666666666,
              "#ed7953"
             ],
             [
              0.7777777777777778,
              "#fb9f3a"
             ],
             [
              0.8888888888888888,
              "#fdca26"
             ],
             [
              1,
              "#f0f921"
             ]
            ],
            "type": "contour"
           }
          ],
          "contourcarpet": [
           {
            "colorbar": {
             "outlinewidth": 0,
             "ticks": ""
            },
            "type": "contourcarpet"
           }
          ],
          "heatmap": [
           {
            "colorbar": {
             "outlinewidth": 0,
             "ticks": ""
            },
            "colorscale": [
             [
              0,
              "#0d0887"
             ],
             [
              0.1111111111111111,
              "#46039f"
             ],
             [
              0.2222222222222222,
              "#7201a8"
             ],
             [
              0.3333333333333333,
              "#9c179e"
             ],
             [
              0.4444444444444444,
              "#bd3786"
             ],
             [
              0.5555555555555556,
              "#d8576b"
             ],
             [
              0.6666666666666666,
              "#ed7953"
             ],
             [
              0.7777777777777778,
              "#fb9f3a"
             ],
             [
              0.8888888888888888,
              "#fdca26"
             ],
             [
              1,
              "#f0f921"
             ]
            ],
            "type": "heatmap"
           }
          ],
          "heatmapgl": [
           {
            "colorbar": {
             "outlinewidth": 0,
             "ticks": ""
            },
            "colorscale": [
             [
              0,
              "#0d0887"
             ],
             [
              0.1111111111111111,
              "#46039f"
             ],
             [
              0.2222222222222222,
              "#7201a8"
             ],
             [
              0.3333333333333333,
              "#9c179e"
             ],
             [
              0.4444444444444444,
              "#bd3786"
             ],
             [
              0.5555555555555556,
              "#d8576b"
             ],
             [
              0.6666666666666666,
              "#ed7953"
             ],
             [
              0.7777777777777778,
              "#fb9f3a"
             ],
             [
              0.8888888888888888,
              "#fdca26"
             ],
             [
              1,
              "#f0f921"
             ]
            ],
            "type": "heatmapgl"
           }
          ],
          "histogram": [
           {
            "marker": {
             "colorbar": {
              "outlinewidth": 0,
              "ticks": ""
             }
            },
            "type": "histogram"
           }
          ],
          "histogram2d": [
           {
            "colorbar": {
             "outlinewidth": 0,
             "ticks": ""
            },
            "colorscale": [
             [
              0,
              "#0d0887"
             ],
             [
              0.1111111111111111,
              "#46039f"
             ],
             [
              0.2222222222222222,
              "#7201a8"
             ],
             [
              0.3333333333333333,
              "#9c179e"
             ],
             [
              0.4444444444444444,
              "#bd3786"
             ],
             [
              0.5555555555555556,
              "#d8576b"
             ],
             [
              0.6666666666666666,
              "#ed7953"
             ],
             [
              0.7777777777777778,
              "#fb9f3a"
             ],
             [
              0.8888888888888888,
              "#fdca26"
             ],
             [
              1,
              "#f0f921"
             ]
            ],
            "type": "histogram2d"
           }
          ],
          "histogram2dcontour": [
           {
            "colorbar": {
             "outlinewidth": 0,
             "ticks": ""
            },
            "colorscale": [
             [
              0,
              "#0d0887"
             ],
             [
              0.1111111111111111,
              "#46039f"
             ],
             [
              0.2222222222222222,
              "#7201a8"
             ],
             [
              0.3333333333333333,
              "#9c179e"
             ],
             [
              0.4444444444444444,
              "#bd3786"
             ],
             [
              0.5555555555555556,
              "#d8576b"
             ],
             [
              0.6666666666666666,
              "#ed7953"
             ],
             [
              0.7777777777777778,
              "#fb9f3a"
             ],
             [
              0.8888888888888888,
              "#fdca26"
             ],
             [
              1,
              "#f0f921"
             ]
            ],
            "type": "histogram2dcontour"
           }
          ],
          "mesh3d": [
           {
            "colorbar": {
             "outlinewidth": 0,
             "ticks": ""
            },
            "type": "mesh3d"
           }
          ],
          "parcoords": [
           {
            "line": {
             "colorbar": {
              "outlinewidth": 0,
              "ticks": ""
             }
            },
            "type": "parcoords"
           }
          ],
          "pie": [
           {
            "automargin": true,
            "type": "pie"
           }
          ],
          "scatter": [
           {
            "marker": {
             "colorbar": {
              "outlinewidth": 0,
              "ticks": ""
             }
            },
            "type": "scatter"
           }
          ],
          "scatter3d": [
           {
            "line": {
             "colorbar": {
              "outlinewidth": 0,
              "ticks": ""
             }
            },
            "marker": {
             "colorbar": {
              "outlinewidth": 0,
              "ticks": ""
             }
            },
            "type": "scatter3d"
           }
          ],
          "scattercarpet": [
           {
            "marker": {
             "colorbar": {
              "outlinewidth": 0,
              "ticks": ""
             }
            },
            "type": "scattercarpet"
           }
          ],
          "scattergeo": [
           {
            "marker": {
             "colorbar": {
              "outlinewidth": 0,
              "ticks": ""
             }
            },
            "type": "scattergeo"
           }
          ],
          "scattergl": [
           {
            "marker": {
             "colorbar": {
              "outlinewidth": 0,
              "ticks": ""
             }
            },
            "type": "scattergl"
           }
          ],
          "scattermapbox": [
           {
            "marker": {
             "colorbar": {
              "outlinewidth": 0,
              "ticks": ""
             }
            },
            "type": "scattermapbox"
           }
          ],
          "scatterpolar": [
           {
            "marker": {
             "colorbar": {
              "outlinewidth": 0,
              "ticks": ""
             }
            },
            "type": "scatterpolar"
           }
          ],
          "scatterpolargl": [
           {
            "marker": {
             "colorbar": {
              "outlinewidth": 0,
              "ticks": ""
             }
            },
            "type": "scatterpolargl"
           }
          ],
          "scatterternary": [
           {
            "marker": {
             "colorbar": {
              "outlinewidth": 0,
              "ticks": ""
             }
            },
            "type": "scatterternary"
           }
          ],
          "surface": [
           {
            "colorbar": {
             "outlinewidth": 0,
             "ticks": ""
            },
            "colorscale": [
             [
              0,
              "#0d0887"
             ],
             [
              0.1111111111111111,
              "#46039f"
             ],
             [
              0.2222222222222222,
              "#7201a8"
             ],
             [
              0.3333333333333333,
              "#9c179e"
             ],
             [
              0.4444444444444444,
              "#bd3786"
             ],
             [
              0.5555555555555556,
              "#d8576b"
             ],
             [
              0.6666666666666666,
              "#ed7953"
             ],
             [
              0.7777777777777778,
              "#fb9f3a"
             ],
             [
              0.8888888888888888,
              "#fdca26"
             ],
             [
              1,
              "#f0f921"
             ]
            ],
            "type": "surface"
           }
          ],
          "table": [
           {
            "cells": {
             "fill": {
              "color": "#EBF0F8"
             },
             "line": {
              "color": "white"
             }
            },
            "header": {
             "fill": {
              "color": "#C8D4E3"
             },
             "line": {
              "color": "white"
             }
            },
            "type": "table"
           }
          ]
         },
         "layout": {
          "annotationdefaults": {
           "arrowcolor": "#2a3f5f",
           "arrowhead": 0,
           "arrowwidth": 1
          },
          "coloraxis": {
           "colorbar": {
            "outlinewidth": 0,
            "ticks": ""
           }
          },
          "colorscale": {
           "diverging": [
            [
             0,
             "#8e0152"
            ],
            [
             0.1,
             "#c51b7d"
            ],
            [
             0.2,
             "#de77ae"
            ],
            [
             0.3,
             "#f1b6da"
            ],
            [
             0.4,
             "#fde0ef"
            ],
            [
             0.5,
             "#f7f7f7"
            ],
            [
             0.6,
             "#e6f5d0"
            ],
            [
             0.7,
             "#b8e186"
            ],
            [
             0.8,
             "#7fbc41"
            ],
            [
             0.9,
             "#4d9221"
            ],
            [
             1,
             "#276419"
            ]
           ],
           "sequential": [
            [
             0,
             "#0d0887"
            ],
            [
             0.1111111111111111,
             "#46039f"
            ],
            [
             0.2222222222222222,
             "#7201a8"
            ],
            [
             0.3333333333333333,
             "#9c179e"
            ],
            [
             0.4444444444444444,
             "#bd3786"
            ],
            [
             0.5555555555555556,
             "#d8576b"
            ],
            [
             0.6666666666666666,
             "#ed7953"
            ],
            [
             0.7777777777777778,
             "#fb9f3a"
            ],
            [
             0.8888888888888888,
             "#fdca26"
            ],
            [
             1,
             "#f0f921"
            ]
           ],
           "sequentialminus": [
            [
             0,
             "#0d0887"
            ],
            [
             0.1111111111111111,
             "#46039f"
            ],
            [
             0.2222222222222222,
             "#7201a8"
            ],
            [
             0.3333333333333333,
             "#9c179e"
            ],
            [
             0.4444444444444444,
             "#bd3786"
            ],
            [
             0.5555555555555556,
             "#d8576b"
            ],
            [
             0.6666666666666666,
             "#ed7953"
            ],
            [
             0.7777777777777778,
             "#fb9f3a"
            ],
            [
             0.8888888888888888,
             "#fdca26"
            ],
            [
             1,
             "#f0f921"
            ]
           ]
          },
          "colorway": [
           "#636efa",
           "#EF553B",
           "#00cc96",
           "#ab63fa",
           "#FFA15A",
           "#19d3f3",
           "#FF6692",
           "#B6E880",
           "#FF97FF",
           "#FECB52"
          ],
          "font": {
           "color": "#2a3f5f"
          },
          "geo": {
           "bgcolor": "white",
           "lakecolor": "white",
           "landcolor": "#E5ECF6",
           "showlakes": true,
           "showland": true,
           "subunitcolor": "white"
          },
          "hoverlabel": {
           "align": "left"
          },
          "hovermode": "closest",
          "mapbox": {
           "style": "light"
          },
          "paper_bgcolor": "white",
          "plot_bgcolor": "#E5ECF6",
          "polar": {
           "angularaxis": {
            "gridcolor": "white",
            "linecolor": "white",
            "ticks": ""
           },
           "bgcolor": "#E5ECF6",
           "radialaxis": {
            "gridcolor": "white",
            "linecolor": "white",
            "ticks": ""
           }
          },
          "scene": {
           "xaxis": {
            "backgroundcolor": "#E5ECF6",
            "gridcolor": "white",
            "gridwidth": 2,
            "linecolor": "white",
            "showbackground": true,
            "ticks": "",
            "zerolinecolor": "white"
           },
           "yaxis": {
            "backgroundcolor": "#E5ECF6",
            "gridcolor": "white",
            "gridwidth": 2,
            "linecolor": "white",
            "showbackground": true,
            "ticks": "",
            "zerolinecolor": "white"
           },
           "zaxis": {
            "backgroundcolor": "#E5ECF6",
            "gridcolor": "white",
            "gridwidth": 2,
            "linecolor": "white",
            "showbackground": true,
            "ticks": "",
            "zerolinecolor": "white"
           }
          },
          "shapedefaults": {
           "line": {
            "color": "#2a3f5f"
           }
          },
          "ternary": {
           "aaxis": {
            "gridcolor": "white",
            "linecolor": "white",
            "ticks": ""
           },
           "baxis": {
            "gridcolor": "white",
            "linecolor": "white",
            "ticks": ""
           },
           "bgcolor": "#E5ECF6",
           "caxis": {
            "gridcolor": "white",
            "linecolor": "white",
            "ticks": ""
           }
          },
          "title": {
           "x": 0.05
          },
          "xaxis": {
           "automargin": true,
           "gridcolor": "white",
           "linecolor": "white",
           "ticks": "",
           "title": {
            "standoff": 15
           },
           "zerolinecolor": "white",
           "zerolinewidth": 2
          },
          "yaxis": {
           "automargin": true,
           "gridcolor": "white",
           "linecolor": "white",
           "ticks": "",
           "title": {
            "standoff": 15
           },
           "zerolinecolor": "white",
           "zerolinewidth": 2
          }
         }
        },
        "title": {
         "text": "Hyperparameter tuning"
        },
        "width": 500,
        "xaxis": {
         "title": {
          "text": "n_estimators"
         }
        },
        "yaxis": {
         "title": {
          "text": "max_features"
         }
        }
       }
      },
      "text/html": [
       "<div>\n",
       "        \n",
       "        \n",
       "            <div id=\"67a6e2c6-3812-4e6b-b8b3-2c6064eb052d\" class=\"plotly-graph-div\" style=\"height:500px; width:500px;\"></div>\n",
       "            <script type=\"text/javascript\">\n",
       "                require([\"plotly\"], function(Plotly) {\n",
       "                    window.PLOTLYENV=window.PLOTLYENV || {};\n",
       "                    \n",
       "                if (document.getElementById(\"67a6e2c6-3812-4e6b-b8b3-2c6064eb052d\")) {\n",
       "                    Plotly.newPlot(\n",
       "                        '67a6e2c6-3812-4e6b-b8b3-2c6064eb052d',\n",
       "                        [{\"type\": \"contour\", \"x\": [10, 20, 30, 40, 50, 60, 70, 80, 90, 100, 110, 120, 130, 140, 150, 160, 170, 180, 190, 200], \"y\": [1, 2, 3, 4, 5], \"z\": [[0.5921424350231879, 0.644564322269051, 0.6702870869041175, 0.6859929672998988, 0.6949261382921876, 0.7034525302282666, 0.7085696950233193, 0.7127063892153268, 0.7160342051008036, 0.7188472848442486, 0.7203645334015938, 0.7210721876290858, 0.7238101598735874, 0.7242202516757358, 0.7254089463749672, 0.7263315539020854, 0.727150693007978, 0.7277752798556516, 0.72805149601677, 0.7286856992831717], [0.5944670984755177, 0.6436476496734166, 0.6669055161255415, 0.6833621904198914, 0.6954100160823596, 0.704213349028542, 0.7088246437028491, 0.713140912703487, 0.7162845986368828, 0.7187662316127231, 0.7214967289566533, 0.7230927025508767, 0.723322826984349, 0.7249725682882003, 0.7259544759590136, 0.7268443355230898, 0.7277750246457843, 0.7281561432914981, 0.7288172835349949, 0.7290004357082065], [0.5983221432740154, 0.6502953952490447, 0.6744616560958046, 0.6893587116626644, 0.6995815599922769, 0.704860000888618, 0.7104920839779479, 0.7154964054180595, 0.718983084022909, 0.7214364817223464, 0.7230383785429217, 0.7248573912724898, 0.7257664281699013, 0.7272280770455808, 0.7282312220658478, 0.7283256690046283, 0.7288425551857951, 0.7298890239050595, 0.730127479098237, 0.7301552322185625], [0.6009018767266697, 0.6512982584668117, 0.6753132001760986, 0.691149780991477, 0.6999952096977361, 0.705998429951056, 0.710819754120465, 0.7145494054139473, 0.7178504684173628, 0.7209614491218319, 0.7223352602099063, 0.7245921223764952, 0.7255387972794984, 0.7259671043826058, 0.7265574458100235, 0.7282199327350147, 0.7285894502651855, 0.7289977209983155, 0.7305189906632151, 0.730940001063028], [0.6038685230316825, 0.6540582434525192, 0.6783431274824834, 0.6939544358796822, 0.7036006321717345, 0.7089009132588139, 0.7143518194931915, 0.7167412464539876, 0.7200457522647948, 0.7233909782985246, 0.7250986077557016, 0.727047760984401, 0.7290885036287822, 0.7295852207965388, 0.7303246390788402, 0.7316389818882199, 0.7320069499269523, 0.7318062884119623, 0.732299707115062, 0.7324248050115264]]}],\n",
       "                        {\"autosize\": false, \"height\": 500, \"margin\": {\"b\": 65, \"l\": 65, \"r\": 50, \"t\": 90}, \"template\": {\"data\": {\"bar\": [{\"error_x\": {\"color\": \"#2a3f5f\"}, \"error_y\": {\"color\": \"#2a3f5f\"}, \"marker\": {\"line\": {\"color\": \"#E5ECF6\", \"width\": 0.5}}, \"type\": \"bar\"}], \"barpolar\": [{\"marker\": {\"line\": {\"color\": \"#E5ECF6\", \"width\": 0.5}}, \"type\": \"barpolar\"}], \"carpet\": [{\"aaxis\": {\"endlinecolor\": \"#2a3f5f\", \"gridcolor\": \"white\", \"linecolor\": \"white\", \"minorgridcolor\": \"white\", \"startlinecolor\": \"#2a3f5f\"}, \"baxis\": {\"endlinecolor\": \"#2a3f5f\", \"gridcolor\": \"white\", \"linecolor\": \"white\", \"minorgridcolor\": \"white\", \"startlinecolor\": \"#2a3f5f\"}, \"type\": \"carpet\"}], \"choropleth\": [{\"colorbar\": {\"outlinewidth\": 0, \"ticks\": \"\"}, \"type\": \"choropleth\"}], \"contour\": [{\"colorbar\": {\"outlinewidth\": 0, \"ticks\": \"\"}, \"colorscale\": [[0.0, \"#0d0887\"], [0.1111111111111111, \"#46039f\"], [0.2222222222222222, \"#7201a8\"], [0.3333333333333333, \"#9c179e\"], [0.4444444444444444, \"#bd3786\"], [0.5555555555555556, \"#d8576b\"], [0.6666666666666666, \"#ed7953\"], [0.7777777777777778, \"#fb9f3a\"], [0.8888888888888888, \"#fdca26\"], [1.0, \"#f0f921\"]], \"type\": \"contour\"}], \"contourcarpet\": [{\"colorbar\": {\"outlinewidth\": 0, \"ticks\": \"\"}, \"type\": \"contourcarpet\"}], \"heatmap\": [{\"colorbar\": {\"outlinewidth\": 0, \"ticks\": \"\"}, \"colorscale\": [[0.0, \"#0d0887\"], [0.1111111111111111, \"#46039f\"], [0.2222222222222222, \"#7201a8\"], [0.3333333333333333, \"#9c179e\"], [0.4444444444444444, \"#bd3786\"], [0.5555555555555556, \"#d8576b\"], [0.6666666666666666, \"#ed7953\"], [0.7777777777777778, \"#fb9f3a\"], [0.8888888888888888, \"#fdca26\"], [1.0, \"#f0f921\"]], \"type\": \"heatmap\"}], \"heatmapgl\": [{\"colorbar\": {\"outlinewidth\": 0, \"ticks\": \"\"}, \"colorscale\": [[0.0, \"#0d0887\"], [0.1111111111111111, \"#46039f\"], [0.2222222222222222, \"#7201a8\"], [0.3333333333333333, \"#9c179e\"], [0.4444444444444444, \"#bd3786\"], [0.5555555555555556, \"#d8576b\"], [0.6666666666666666, \"#ed7953\"], [0.7777777777777778, \"#fb9f3a\"], [0.8888888888888888, \"#fdca26\"], [1.0, \"#f0f921\"]], \"type\": \"heatmapgl\"}], \"histogram\": [{\"marker\": {\"colorbar\": {\"outlinewidth\": 0, \"ticks\": \"\"}}, \"type\": \"histogram\"}], \"histogram2d\": [{\"colorbar\": {\"outlinewidth\": 0, \"ticks\": \"\"}, \"colorscale\": [[0.0, \"#0d0887\"], [0.1111111111111111, \"#46039f\"], [0.2222222222222222, \"#7201a8\"], [0.3333333333333333, \"#9c179e\"], [0.4444444444444444, \"#bd3786\"], [0.5555555555555556, \"#d8576b\"], [0.6666666666666666, \"#ed7953\"], [0.7777777777777778, \"#fb9f3a\"], [0.8888888888888888, \"#fdca26\"], [1.0, \"#f0f921\"]], \"type\": \"histogram2d\"}], \"histogram2dcontour\": [{\"colorbar\": {\"outlinewidth\": 0, \"ticks\": \"\"}, \"colorscale\": [[0.0, \"#0d0887\"], [0.1111111111111111, \"#46039f\"], [0.2222222222222222, \"#7201a8\"], [0.3333333333333333, \"#9c179e\"], [0.4444444444444444, \"#bd3786\"], [0.5555555555555556, \"#d8576b\"], [0.6666666666666666, \"#ed7953\"], [0.7777777777777778, \"#fb9f3a\"], [0.8888888888888888, \"#fdca26\"], [1.0, \"#f0f921\"]], \"type\": \"histogram2dcontour\"}], \"mesh3d\": [{\"colorbar\": {\"outlinewidth\": 0, \"ticks\": \"\"}, \"type\": \"mesh3d\"}], \"parcoords\": [{\"line\": {\"colorbar\": {\"outlinewidth\": 0, \"ticks\": \"\"}}, \"type\": \"parcoords\"}], \"pie\": [{\"automargin\": true, \"type\": \"pie\"}], \"scatter\": [{\"marker\": {\"colorbar\": {\"outlinewidth\": 0, \"ticks\": \"\"}}, \"type\": \"scatter\"}], \"scatter3d\": [{\"line\": {\"colorbar\": {\"outlinewidth\": 0, \"ticks\": \"\"}}, \"marker\": {\"colorbar\": {\"outlinewidth\": 0, \"ticks\": \"\"}}, \"type\": \"scatter3d\"}], \"scattercarpet\": [{\"marker\": {\"colorbar\": {\"outlinewidth\": 0, \"ticks\": \"\"}}, \"type\": \"scattercarpet\"}], \"scattergeo\": [{\"marker\": {\"colorbar\": {\"outlinewidth\": 0, \"ticks\": \"\"}}, \"type\": \"scattergeo\"}], \"scattergl\": [{\"marker\": {\"colorbar\": {\"outlinewidth\": 0, \"ticks\": \"\"}}, \"type\": \"scattergl\"}], \"scattermapbox\": [{\"marker\": {\"colorbar\": {\"outlinewidth\": 0, \"ticks\": \"\"}}, \"type\": \"scattermapbox\"}], \"scatterpolar\": [{\"marker\": {\"colorbar\": {\"outlinewidth\": 0, \"ticks\": \"\"}}, \"type\": \"scatterpolar\"}], \"scatterpolargl\": [{\"marker\": {\"colorbar\": {\"outlinewidth\": 0, \"ticks\": \"\"}}, \"type\": \"scatterpolargl\"}], \"scatterternary\": [{\"marker\": {\"colorbar\": {\"outlinewidth\": 0, \"ticks\": \"\"}}, \"type\": \"scatterternary\"}], \"surface\": [{\"colorbar\": {\"outlinewidth\": 0, \"ticks\": \"\"}, \"colorscale\": [[0.0, \"#0d0887\"], [0.1111111111111111, \"#46039f\"], [0.2222222222222222, \"#7201a8\"], [0.3333333333333333, \"#9c179e\"], [0.4444444444444444, \"#bd3786\"], [0.5555555555555556, \"#d8576b\"], [0.6666666666666666, \"#ed7953\"], [0.7777777777777778, \"#fb9f3a\"], [0.8888888888888888, \"#fdca26\"], [1.0, \"#f0f921\"]], \"type\": \"surface\"}], \"table\": [{\"cells\": {\"fill\": {\"color\": \"#EBF0F8\"}, \"line\": {\"color\": \"white\"}}, \"header\": {\"fill\": {\"color\": \"#C8D4E3\"}, \"line\": {\"color\": \"white\"}}, \"type\": \"table\"}]}, \"layout\": {\"annotationdefaults\": {\"arrowcolor\": \"#2a3f5f\", \"arrowhead\": 0, \"arrowwidth\": 1}, \"coloraxis\": {\"colorbar\": {\"outlinewidth\": 0, \"ticks\": \"\"}}, \"colorscale\": {\"diverging\": [[0, \"#8e0152\"], [0.1, \"#c51b7d\"], [0.2, \"#de77ae\"], [0.3, \"#f1b6da\"], [0.4, \"#fde0ef\"], [0.5, \"#f7f7f7\"], [0.6, \"#e6f5d0\"], [0.7, \"#b8e186\"], [0.8, \"#7fbc41\"], [0.9, \"#4d9221\"], [1, \"#276419\"]], \"sequential\": [[0.0, \"#0d0887\"], [0.1111111111111111, \"#46039f\"], [0.2222222222222222, \"#7201a8\"], [0.3333333333333333, \"#9c179e\"], [0.4444444444444444, \"#bd3786\"], [0.5555555555555556, \"#d8576b\"], [0.6666666666666666, \"#ed7953\"], [0.7777777777777778, \"#fb9f3a\"], [0.8888888888888888, \"#fdca26\"], [1.0, \"#f0f921\"]], \"sequentialminus\": [[0.0, \"#0d0887\"], [0.1111111111111111, \"#46039f\"], [0.2222222222222222, \"#7201a8\"], [0.3333333333333333, \"#9c179e\"], [0.4444444444444444, \"#bd3786\"], [0.5555555555555556, \"#d8576b\"], [0.6666666666666666, \"#ed7953\"], [0.7777777777777778, \"#fb9f3a\"], [0.8888888888888888, \"#fdca26\"], [1.0, \"#f0f921\"]]}, \"colorway\": [\"#636efa\", \"#EF553B\", \"#00cc96\", \"#ab63fa\", \"#FFA15A\", \"#19d3f3\", \"#FF6692\", \"#B6E880\", \"#FF97FF\", \"#FECB52\"], \"font\": {\"color\": \"#2a3f5f\"}, \"geo\": {\"bgcolor\": \"white\", \"lakecolor\": \"white\", \"landcolor\": \"#E5ECF6\", \"showlakes\": true, \"showland\": true, \"subunitcolor\": \"white\"}, \"hoverlabel\": {\"align\": \"left\"}, \"hovermode\": \"closest\", \"mapbox\": {\"style\": \"light\"}, \"paper_bgcolor\": \"white\", \"plot_bgcolor\": \"#E5ECF6\", \"polar\": {\"angularaxis\": {\"gridcolor\": \"white\", \"linecolor\": \"white\", \"ticks\": \"\"}, \"bgcolor\": \"#E5ECF6\", \"radialaxis\": {\"gridcolor\": \"white\", \"linecolor\": \"white\", \"ticks\": \"\"}}, \"scene\": {\"xaxis\": {\"backgroundcolor\": \"#E5ECF6\", \"gridcolor\": \"white\", \"gridwidth\": 2, \"linecolor\": \"white\", \"showbackground\": true, \"ticks\": \"\", \"zerolinecolor\": \"white\"}, \"yaxis\": {\"backgroundcolor\": \"#E5ECF6\", \"gridcolor\": \"white\", \"gridwidth\": 2, \"linecolor\": \"white\", \"showbackground\": true, \"ticks\": \"\", \"zerolinecolor\": \"white\"}, \"zaxis\": {\"backgroundcolor\": \"#E5ECF6\", \"gridcolor\": \"white\", \"gridwidth\": 2, \"linecolor\": \"white\", \"showbackground\": true, \"ticks\": \"\", \"zerolinecolor\": \"white\"}}, \"shapedefaults\": {\"line\": {\"color\": \"#2a3f5f\"}}, \"ternary\": {\"aaxis\": {\"gridcolor\": \"white\", \"linecolor\": \"white\", \"ticks\": \"\"}, \"baxis\": {\"gridcolor\": \"white\", \"linecolor\": \"white\", \"ticks\": \"\"}, \"bgcolor\": \"#E5ECF6\", \"caxis\": {\"gridcolor\": \"white\", \"linecolor\": \"white\", \"ticks\": \"\"}}, \"title\": {\"x\": 0.05}, \"xaxis\": {\"automargin\": true, \"gridcolor\": \"white\", \"linecolor\": \"white\", \"ticks\": \"\", \"title\": {\"standoff\": 15}, \"zerolinecolor\": \"white\", \"zerolinewidth\": 2}, \"yaxis\": {\"automargin\": true, \"gridcolor\": \"white\", \"linecolor\": \"white\", \"ticks\": \"\", \"title\": {\"standoff\": 15}, \"zerolinecolor\": \"white\", \"zerolinewidth\": 2}}}, \"title\": {\"text\": \"Hyperparameter tuning\"}, \"width\": 500, \"xaxis\": {\"title\": {\"text\": \"n_estimators\"}}, \"yaxis\": {\"title\": {\"text\": \"max_features\"}}},\n",
       "                        {\"responsive\": true}\n",
       "                    ).then(function(){\n",
       "                            \n",
       "var gd = document.getElementById('67a6e2c6-3812-4e6b-b8b3-2c6064eb052d');\n",
       "var x = new MutationObserver(function (mutations, observer) {{\n",
       "        var display = window.getComputedStyle(gd).display;\n",
       "        if (!display || display === 'none') {{\n",
       "            console.log([gd, 'removed!']);\n",
       "            Plotly.purge(gd);\n",
       "            observer.disconnect();\n",
       "        }}\n",
       "}});\n",
       "\n",
       "// Listen for the removal of the full notebook cells\n",
       "var notebookContainer = gd.closest('#notebook-container');\n",
       "if (notebookContainer) {{\n",
       "    x.observe(notebookContainer, {childList: true});\n",
       "}}\n",
       "\n",
       "// Listen for the clearing of the current output cell\n",
       "var outputEl = gd.closest('.output');\n",
       "if (outputEl) {{\n",
       "    x.observe(outputEl, {childList: true});\n",
       "}}\n",
       "\n",
       "                        })\n",
       "                };\n",
       "                });\n",
       "            </script>\n",
       "        </div>"
      ]
     },
     "metadata": {},
     "output_type": "display_data"
    }
   ],
   "source": [
    "%matplotlib inline\n",
    "\n",
    "# X and Y axes labels\n",
    "layout = go.Layout(\n",
    "            xaxis=go.layout.XAxis(\n",
    "              title=go.layout.xaxis.Title(\n",
    "              text='n_estimators')\n",
    "             ),\n",
    "             yaxis=go.layout.YAxis(\n",
    "              title=go.layout.yaxis.Title(\n",
    "              text='max_features') \n",
    "            ) )\n",
    "fig = go.Figure(data = [go.Contour(z=z, x=x, y=y)], layout=layout )\n",
    "fig.update_layout(title='Hyperparameter tuning', autosize=False,\n",
    "                  width=500, height=500,\n",
    "                  margin=dict(l=65, r=50, b=65, t=90))\n",
    "fig.show()"
   ]
  },
  {
   "cell_type": "code",
   "execution_count": 244,
   "metadata": {},
   "outputs": [
    {
     "data": {
      "application/vnd.plotly.v1+json": {
       "config": {
        "plotlyServerURL": "https://plot.ly"
       },
       "data": [
        {
         "type": "surface",
         "x": [
          10,
          20,
          30,
          40,
          50,
          60,
          70,
          80,
          90,
          100,
          110,
          120,
          130,
          140,
          150,
          160,
          170,
          180,
          190,
          200
         ],
         "y": [
          1,
          2,
          3,
          4,
          5
         ],
         "z": [
          [
           0.5921424350231879,
           0.644564322269051,
           0.6702870869041175,
           0.6859929672998988,
           0.6949261382921876,
           0.7034525302282666,
           0.7085696950233193,
           0.7127063892153268,
           0.7160342051008036,
           0.7188472848442486,
           0.7203645334015938,
           0.7210721876290858,
           0.7238101598735874,
           0.7242202516757358,
           0.7254089463749672,
           0.7263315539020854,
           0.727150693007978,
           0.7277752798556516,
           0.72805149601677,
           0.7286856992831717
          ],
          [
           0.5944670984755177,
           0.6436476496734166,
           0.6669055161255415,
           0.6833621904198914,
           0.6954100160823596,
           0.704213349028542,
           0.7088246437028491,
           0.713140912703487,
           0.7162845986368828,
           0.7187662316127231,
           0.7214967289566533,
           0.7230927025508767,
           0.723322826984349,
           0.7249725682882003,
           0.7259544759590136,
           0.7268443355230898,
           0.7277750246457843,
           0.7281561432914981,
           0.7288172835349949,
           0.7290004357082065
          ],
          [
           0.5983221432740154,
           0.6502953952490447,
           0.6744616560958046,
           0.6893587116626644,
           0.6995815599922769,
           0.704860000888618,
           0.7104920839779479,
           0.7154964054180595,
           0.718983084022909,
           0.7214364817223464,
           0.7230383785429217,
           0.7248573912724898,
           0.7257664281699013,
           0.7272280770455808,
           0.7282312220658478,
           0.7283256690046283,
           0.7288425551857951,
           0.7298890239050595,
           0.730127479098237,
           0.7301552322185625
          ],
          [
           0.6009018767266697,
           0.6512982584668117,
           0.6753132001760986,
           0.691149780991477,
           0.6999952096977361,
           0.705998429951056,
           0.710819754120465,
           0.7145494054139473,
           0.7178504684173628,
           0.7209614491218319,
           0.7223352602099063,
           0.7245921223764952,
           0.7255387972794984,
           0.7259671043826058,
           0.7265574458100235,
           0.7282199327350147,
           0.7285894502651855,
           0.7289977209983155,
           0.7305189906632151,
           0.730940001063028
          ],
          [
           0.6038685230316825,
           0.6540582434525192,
           0.6783431274824834,
           0.6939544358796822,
           0.7036006321717345,
           0.7089009132588139,
           0.7143518194931915,
           0.7167412464539876,
           0.7200457522647948,
           0.7233909782985246,
           0.7250986077557016,
           0.727047760984401,
           0.7290885036287822,
           0.7295852207965388,
           0.7303246390788402,
           0.7316389818882199,
           0.7320069499269523,
           0.7318062884119623,
           0.732299707115062,
           0.7324248050115264
          ]
         ]
        }
       ],
       "layout": {
        "autosize": false,
        "height": 800,
        "margin": {
         "b": 65,
         "l": 65,
         "r": 50,
         "t": 90
        },
        "scene": {
         "xaxis": {
          "title": {
           "text": "n_estimators"
          }
         },
         "yaxis": {
          "title": {
           "text": "max_features"
          }
         },
         "zaxis": {
          "title": {
           "text": "mean_test_f1"
          }
         }
        },
        "template": {
         "data": {
          "bar": [
           {
            "error_x": {
             "color": "#2a3f5f"
            },
            "error_y": {
             "color": "#2a3f5f"
            },
            "marker": {
             "line": {
              "color": "#E5ECF6",
              "width": 0.5
             }
            },
            "type": "bar"
           }
          ],
          "barpolar": [
           {
            "marker": {
             "line": {
              "color": "#E5ECF6",
              "width": 0.5
             }
            },
            "type": "barpolar"
           }
          ],
          "carpet": [
           {
            "aaxis": {
             "endlinecolor": "#2a3f5f",
             "gridcolor": "white",
             "linecolor": "white",
             "minorgridcolor": "white",
             "startlinecolor": "#2a3f5f"
            },
            "baxis": {
             "endlinecolor": "#2a3f5f",
             "gridcolor": "white",
             "linecolor": "white",
             "minorgridcolor": "white",
             "startlinecolor": "#2a3f5f"
            },
            "type": "carpet"
           }
          ],
          "choropleth": [
           {
            "colorbar": {
             "outlinewidth": 0,
             "ticks": ""
            },
            "type": "choropleth"
           }
          ],
          "contour": [
           {
            "colorbar": {
             "outlinewidth": 0,
             "ticks": ""
            },
            "colorscale": [
             [
              0,
              "#0d0887"
             ],
             [
              0.1111111111111111,
              "#46039f"
             ],
             [
              0.2222222222222222,
              "#7201a8"
             ],
             [
              0.3333333333333333,
              "#9c179e"
             ],
             [
              0.4444444444444444,
              "#bd3786"
             ],
             [
              0.5555555555555556,
              "#d8576b"
             ],
             [
              0.6666666666666666,
              "#ed7953"
             ],
             [
              0.7777777777777778,
              "#fb9f3a"
             ],
             [
              0.8888888888888888,
              "#fdca26"
             ],
             [
              1,
              "#f0f921"
             ]
            ],
            "type": "contour"
           }
          ],
          "contourcarpet": [
           {
            "colorbar": {
             "outlinewidth": 0,
             "ticks": ""
            },
            "type": "contourcarpet"
           }
          ],
          "heatmap": [
           {
            "colorbar": {
             "outlinewidth": 0,
             "ticks": ""
            },
            "colorscale": [
             [
              0,
              "#0d0887"
             ],
             [
              0.1111111111111111,
              "#46039f"
             ],
             [
              0.2222222222222222,
              "#7201a8"
             ],
             [
              0.3333333333333333,
              "#9c179e"
             ],
             [
              0.4444444444444444,
              "#bd3786"
             ],
             [
              0.5555555555555556,
              "#d8576b"
             ],
             [
              0.6666666666666666,
              "#ed7953"
             ],
             [
              0.7777777777777778,
              "#fb9f3a"
             ],
             [
              0.8888888888888888,
              "#fdca26"
             ],
             [
              1,
              "#f0f921"
             ]
            ],
            "type": "heatmap"
           }
          ],
          "heatmapgl": [
           {
            "colorbar": {
             "outlinewidth": 0,
             "ticks": ""
            },
            "colorscale": [
             [
              0,
              "#0d0887"
             ],
             [
              0.1111111111111111,
              "#46039f"
             ],
             [
              0.2222222222222222,
              "#7201a8"
             ],
             [
              0.3333333333333333,
              "#9c179e"
             ],
             [
              0.4444444444444444,
              "#bd3786"
             ],
             [
              0.5555555555555556,
              "#d8576b"
             ],
             [
              0.6666666666666666,
              "#ed7953"
             ],
             [
              0.7777777777777778,
              "#fb9f3a"
             ],
             [
              0.8888888888888888,
              "#fdca26"
             ],
             [
              1,
              "#f0f921"
             ]
            ],
            "type": "heatmapgl"
           }
          ],
          "histogram": [
           {
            "marker": {
             "colorbar": {
              "outlinewidth": 0,
              "ticks": ""
             }
            },
            "type": "histogram"
           }
          ],
          "histogram2d": [
           {
            "colorbar": {
             "outlinewidth": 0,
             "ticks": ""
            },
            "colorscale": [
             [
              0,
              "#0d0887"
             ],
             [
              0.1111111111111111,
              "#46039f"
             ],
             [
              0.2222222222222222,
              "#7201a8"
             ],
             [
              0.3333333333333333,
              "#9c179e"
             ],
             [
              0.4444444444444444,
              "#bd3786"
             ],
             [
              0.5555555555555556,
              "#d8576b"
             ],
             [
              0.6666666666666666,
              "#ed7953"
             ],
             [
              0.7777777777777778,
              "#fb9f3a"
             ],
             [
              0.8888888888888888,
              "#fdca26"
             ],
             [
              1,
              "#f0f921"
             ]
            ],
            "type": "histogram2d"
           }
          ],
          "histogram2dcontour": [
           {
            "colorbar": {
             "outlinewidth": 0,
             "ticks": ""
            },
            "colorscale": [
             [
              0,
              "#0d0887"
             ],
             [
              0.1111111111111111,
              "#46039f"
             ],
             [
              0.2222222222222222,
              "#7201a8"
             ],
             [
              0.3333333333333333,
              "#9c179e"
             ],
             [
              0.4444444444444444,
              "#bd3786"
             ],
             [
              0.5555555555555556,
              "#d8576b"
             ],
             [
              0.6666666666666666,
              "#ed7953"
             ],
             [
              0.7777777777777778,
              "#fb9f3a"
             ],
             [
              0.8888888888888888,
              "#fdca26"
             ],
             [
              1,
              "#f0f921"
             ]
            ],
            "type": "histogram2dcontour"
           }
          ],
          "mesh3d": [
           {
            "colorbar": {
             "outlinewidth": 0,
             "ticks": ""
            },
            "type": "mesh3d"
           }
          ],
          "parcoords": [
           {
            "line": {
             "colorbar": {
              "outlinewidth": 0,
              "ticks": ""
             }
            },
            "type": "parcoords"
           }
          ],
          "pie": [
           {
            "automargin": true,
            "type": "pie"
           }
          ],
          "scatter": [
           {
            "marker": {
             "colorbar": {
              "outlinewidth": 0,
              "ticks": ""
             }
            },
            "type": "scatter"
           }
          ],
          "scatter3d": [
           {
            "line": {
             "colorbar": {
              "outlinewidth": 0,
              "ticks": ""
             }
            },
            "marker": {
             "colorbar": {
              "outlinewidth": 0,
              "ticks": ""
             }
            },
            "type": "scatter3d"
           }
          ],
          "scattercarpet": [
           {
            "marker": {
             "colorbar": {
              "outlinewidth": 0,
              "ticks": ""
             }
            },
            "type": "scattercarpet"
           }
          ],
          "scattergeo": [
           {
            "marker": {
             "colorbar": {
              "outlinewidth": 0,
              "ticks": ""
             }
            },
            "type": "scattergeo"
           }
          ],
          "scattergl": [
           {
            "marker": {
             "colorbar": {
              "outlinewidth": 0,
              "ticks": ""
             }
            },
            "type": "scattergl"
           }
          ],
          "scattermapbox": [
           {
            "marker": {
             "colorbar": {
              "outlinewidth": 0,
              "ticks": ""
             }
            },
            "type": "scattermapbox"
           }
          ],
          "scatterpolar": [
           {
            "marker": {
             "colorbar": {
              "outlinewidth": 0,
              "ticks": ""
             }
            },
            "type": "scatterpolar"
           }
          ],
          "scatterpolargl": [
           {
            "marker": {
             "colorbar": {
              "outlinewidth": 0,
              "ticks": ""
             }
            },
            "type": "scatterpolargl"
           }
          ],
          "scatterternary": [
           {
            "marker": {
             "colorbar": {
              "outlinewidth": 0,
              "ticks": ""
             }
            },
            "type": "scatterternary"
           }
          ],
          "surface": [
           {
            "colorbar": {
             "outlinewidth": 0,
             "ticks": ""
            },
            "colorscale": [
             [
              0,
              "#0d0887"
             ],
             [
              0.1111111111111111,
              "#46039f"
             ],
             [
              0.2222222222222222,
              "#7201a8"
             ],
             [
              0.3333333333333333,
              "#9c179e"
             ],
             [
              0.4444444444444444,
              "#bd3786"
             ],
             [
              0.5555555555555556,
              "#d8576b"
             ],
             [
              0.6666666666666666,
              "#ed7953"
             ],
             [
              0.7777777777777778,
              "#fb9f3a"
             ],
             [
              0.8888888888888888,
              "#fdca26"
             ],
             [
              1,
              "#f0f921"
             ]
            ],
            "type": "surface"
           }
          ],
          "table": [
           {
            "cells": {
             "fill": {
              "color": "#EBF0F8"
             },
             "line": {
              "color": "white"
             }
            },
            "header": {
             "fill": {
              "color": "#C8D4E3"
             },
             "line": {
              "color": "white"
             }
            },
            "type": "table"
           }
          ]
         },
         "layout": {
          "annotationdefaults": {
           "arrowcolor": "#2a3f5f",
           "arrowhead": 0,
           "arrowwidth": 1
          },
          "coloraxis": {
           "colorbar": {
            "outlinewidth": 0,
            "ticks": ""
           }
          },
          "colorscale": {
           "diverging": [
            [
             0,
             "#8e0152"
            ],
            [
             0.1,
             "#c51b7d"
            ],
            [
             0.2,
             "#de77ae"
            ],
            [
             0.3,
             "#f1b6da"
            ],
            [
             0.4,
             "#fde0ef"
            ],
            [
             0.5,
             "#f7f7f7"
            ],
            [
             0.6,
             "#e6f5d0"
            ],
            [
             0.7,
             "#b8e186"
            ],
            [
             0.8,
             "#7fbc41"
            ],
            [
             0.9,
             "#4d9221"
            ],
            [
             1,
             "#276419"
            ]
           ],
           "sequential": [
            [
             0,
             "#0d0887"
            ],
            [
             0.1111111111111111,
             "#46039f"
            ],
            [
             0.2222222222222222,
             "#7201a8"
            ],
            [
             0.3333333333333333,
             "#9c179e"
            ],
            [
             0.4444444444444444,
             "#bd3786"
            ],
            [
             0.5555555555555556,
             "#d8576b"
            ],
            [
             0.6666666666666666,
             "#ed7953"
            ],
            [
             0.7777777777777778,
             "#fb9f3a"
            ],
            [
             0.8888888888888888,
             "#fdca26"
            ],
            [
             1,
             "#f0f921"
            ]
           ],
           "sequentialminus": [
            [
             0,
             "#0d0887"
            ],
            [
             0.1111111111111111,
             "#46039f"
            ],
            [
             0.2222222222222222,
             "#7201a8"
            ],
            [
             0.3333333333333333,
             "#9c179e"
            ],
            [
             0.4444444444444444,
             "#bd3786"
            ],
            [
             0.5555555555555556,
             "#d8576b"
            ],
            [
             0.6666666666666666,
             "#ed7953"
            ],
            [
             0.7777777777777778,
             "#fb9f3a"
            ],
            [
             0.8888888888888888,
             "#fdca26"
            ],
            [
             1,
             "#f0f921"
            ]
           ]
          },
          "colorway": [
           "#636efa",
           "#EF553B",
           "#00cc96",
           "#ab63fa",
           "#FFA15A",
           "#19d3f3",
           "#FF6692",
           "#B6E880",
           "#FF97FF",
           "#FECB52"
          ],
          "font": {
           "color": "#2a3f5f"
          },
          "geo": {
           "bgcolor": "white",
           "lakecolor": "white",
           "landcolor": "#E5ECF6",
           "showlakes": true,
           "showland": true,
           "subunitcolor": "white"
          },
          "hoverlabel": {
           "align": "left"
          },
          "hovermode": "closest",
          "mapbox": {
           "style": "light"
          },
          "paper_bgcolor": "white",
          "plot_bgcolor": "#E5ECF6",
          "polar": {
           "angularaxis": {
            "gridcolor": "white",
            "linecolor": "white",
            "ticks": ""
           },
           "bgcolor": "#E5ECF6",
           "radialaxis": {
            "gridcolor": "white",
            "linecolor": "white",
            "ticks": ""
           }
          },
          "scene": {
           "xaxis": {
            "backgroundcolor": "#E5ECF6",
            "gridcolor": "white",
            "gridwidth": 2,
            "linecolor": "white",
            "showbackground": true,
            "ticks": "",
            "zerolinecolor": "white"
           },
           "yaxis": {
            "backgroundcolor": "#E5ECF6",
            "gridcolor": "white",
            "gridwidth": 2,
            "linecolor": "white",
            "showbackground": true,
            "ticks": "",
            "zerolinecolor": "white"
           },
           "zaxis": {
            "backgroundcolor": "#E5ECF6",
            "gridcolor": "white",
            "gridwidth": 2,
            "linecolor": "white",
            "showbackground": true,
            "ticks": "",
            "zerolinecolor": "white"
           }
          },
          "shapedefaults": {
           "line": {
            "color": "#2a3f5f"
           }
          },
          "ternary": {
           "aaxis": {
            "gridcolor": "white",
            "linecolor": "white",
            "ticks": ""
           },
           "baxis": {
            "gridcolor": "white",
            "linecolor": "white",
            "ticks": ""
           },
           "bgcolor": "#E5ECF6",
           "caxis": {
            "gridcolor": "white",
            "linecolor": "white",
            "ticks": ""
           }
          },
          "title": {
           "x": 0.05
          },
          "xaxis": {
           "automargin": true,
           "gridcolor": "white",
           "linecolor": "white",
           "ticks": "",
           "title": {
            "standoff": 15
           },
           "zerolinecolor": "white",
           "zerolinewidth": 2
          },
          "yaxis": {
           "automargin": true,
           "gridcolor": "white",
           "linecolor": "white",
           "ticks": "",
           "title": {
            "standoff": 15
           },
           "zerolinecolor": "white",
           "zerolinewidth": 2
          }
         }
        },
        "title": {
         "text": "Hyperparameter tuning"
        },
        "width": 800,
        "xaxis": {
         "title": {
          "text": "n_estimators"
         }
        },
        "yaxis": {
         "title": {
          "text": "max_features"
         }
        }
       }
      },
      "text/html": [
       "<div>\n",
       "        \n",
       "        \n",
       "            <div id=\"526619e6-0c79-4059-8a04-a0aebf968c7b\" class=\"plotly-graph-div\" style=\"height:800px; width:800px;\"></div>\n",
       "            <script type=\"text/javascript\">\n",
       "                require([\"plotly\"], function(Plotly) {\n",
       "                    window.PLOTLYENV=window.PLOTLYENV || {};\n",
       "                    \n",
       "                if (document.getElementById(\"526619e6-0c79-4059-8a04-a0aebf968c7b\")) {\n",
       "                    Plotly.newPlot(\n",
       "                        '526619e6-0c79-4059-8a04-a0aebf968c7b',\n",
       "                        [{\"type\": \"surface\", \"x\": [10, 20, 30, 40, 50, 60, 70, 80, 90, 100, 110, 120, 130, 140, 150, 160, 170, 180, 190, 200], \"y\": [1, 2, 3, 4, 5], \"z\": [[0.5921424350231879, 0.644564322269051, 0.6702870869041175, 0.6859929672998988, 0.6949261382921876, 0.7034525302282666, 0.7085696950233193, 0.7127063892153268, 0.7160342051008036, 0.7188472848442486, 0.7203645334015938, 0.7210721876290858, 0.7238101598735874, 0.7242202516757358, 0.7254089463749672, 0.7263315539020854, 0.727150693007978, 0.7277752798556516, 0.72805149601677, 0.7286856992831717], [0.5944670984755177, 0.6436476496734166, 0.6669055161255415, 0.6833621904198914, 0.6954100160823596, 0.704213349028542, 0.7088246437028491, 0.713140912703487, 0.7162845986368828, 0.7187662316127231, 0.7214967289566533, 0.7230927025508767, 0.723322826984349, 0.7249725682882003, 0.7259544759590136, 0.7268443355230898, 0.7277750246457843, 0.7281561432914981, 0.7288172835349949, 0.7290004357082065], [0.5983221432740154, 0.6502953952490447, 0.6744616560958046, 0.6893587116626644, 0.6995815599922769, 0.704860000888618, 0.7104920839779479, 0.7154964054180595, 0.718983084022909, 0.7214364817223464, 0.7230383785429217, 0.7248573912724898, 0.7257664281699013, 0.7272280770455808, 0.7282312220658478, 0.7283256690046283, 0.7288425551857951, 0.7298890239050595, 0.730127479098237, 0.7301552322185625], [0.6009018767266697, 0.6512982584668117, 0.6753132001760986, 0.691149780991477, 0.6999952096977361, 0.705998429951056, 0.710819754120465, 0.7145494054139473, 0.7178504684173628, 0.7209614491218319, 0.7223352602099063, 0.7245921223764952, 0.7255387972794984, 0.7259671043826058, 0.7265574458100235, 0.7282199327350147, 0.7285894502651855, 0.7289977209983155, 0.7305189906632151, 0.730940001063028], [0.6038685230316825, 0.6540582434525192, 0.6783431274824834, 0.6939544358796822, 0.7036006321717345, 0.7089009132588139, 0.7143518194931915, 0.7167412464539876, 0.7200457522647948, 0.7233909782985246, 0.7250986077557016, 0.727047760984401, 0.7290885036287822, 0.7295852207965388, 0.7303246390788402, 0.7316389818882199, 0.7320069499269523, 0.7318062884119623, 0.732299707115062, 0.7324248050115264]]}],\n",
       "                        {\"autosize\": false, \"height\": 800, \"margin\": {\"b\": 65, \"l\": 65, \"r\": 50, \"t\": 90}, \"scene\": {\"xaxis\": {\"title\": {\"text\": \"n_estimators\"}}, \"yaxis\": {\"title\": {\"text\": \"max_features\"}}, \"zaxis\": {\"title\": {\"text\": \"mean_test_f1\"}}}, \"template\": {\"data\": {\"bar\": [{\"error_x\": {\"color\": \"#2a3f5f\"}, \"error_y\": {\"color\": \"#2a3f5f\"}, \"marker\": {\"line\": {\"color\": \"#E5ECF6\", \"width\": 0.5}}, \"type\": \"bar\"}], \"barpolar\": [{\"marker\": {\"line\": {\"color\": \"#E5ECF6\", \"width\": 0.5}}, \"type\": \"barpolar\"}], \"carpet\": [{\"aaxis\": {\"endlinecolor\": \"#2a3f5f\", \"gridcolor\": \"white\", \"linecolor\": \"white\", \"minorgridcolor\": \"white\", \"startlinecolor\": \"#2a3f5f\"}, \"baxis\": {\"endlinecolor\": \"#2a3f5f\", \"gridcolor\": \"white\", \"linecolor\": \"white\", \"minorgridcolor\": \"white\", \"startlinecolor\": \"#2a3f5f\"}, \"type\": \"carpet\"}], \"choropleth\": [{\"colorbar\": {\"outlinewidth\": 0, \"ticks\": \"\"}, \"type\": \"choropleth\"}], \"contour\": [{\"colorbar\": {\"outlinewidth\": 0, \"ticks\": \"\"}, \"colorscale\": [[0.0, \"#0d0887\"], [0.1111111111111111, \"#46039f\"], [0.2222222222222222, \"#7201a8\"], [0.3333333333333333, \"#9c179e\"], [0.4444444444444444, \"#bd3786\"], [0.5555555555555556, \"#d8576b\"], [0.6666666666666666, \"#ed7953\"], [0.7777777777777778, \"#fb9f3a\"], [0.8888888888888888, \"#fdca26\"], [1.0, \"#f0f921\"]], \"type\": \"contour\"}], \"contourcarpet\": [{\"colorbar\": {\"outlinewidth\": 0, \"ticks\": \"\"}, \"type\": \"contourcarpet\"}], \"heatmap\": [{\"colorbar\": {\"outlinewidth\": 0, \"ticks\": \"\"}, \"colorscale\": [[0.0, \"#0d0887\"], [0.1111111111111111, \"#46039f\"], [0.2222222222222222, \"#7201a8\"], [0.3333333333333333, \"#9c179e\"], [0.4444444444444444, \"#bd3786\"], [0.5555555555555556, \"#d8576b\"], [0.6666666666666666, \"#ed7953\"], [0.7777777777777778, \"#fb9f3a\"], [0.8888888888888888, \"#fdca26\"], [1.0, \"#f0f921\"]], \"type\": \"heatmap\"}], \"heatmapgl\": [{\"colorbar\": {\"outlinewidth\": 0, \"ticks\": \"\"}, \"colorscale\": [[0.0, \"#0d0887\"], [0.1111111111111111, \"#46039f\"], [0.2222222222222222, \"#7201a8\"], [0.3333333333333333, \"#9c179e\"], [0.4444444444444444, \"#bd3786\"], [0.5555555555555556, \"#d8576b\"], [0.6666666666666666, \"#ed7953\"], [0.7777777777777778, \"#fb9f3a\"], [0.8888888888888888, \"#fdca26\"], [1.0, \"#f0f921\"]], \"type\": \"heatmapgl\"}], \"histogram\": [{\"marker\": {\"colorbar\": {\"outlinewidth\": 0, \"ticks\": \"\"}}, \"type\": \"histogram\"}], \"histogram2d\": [{\"colorbar\": {\"outlinewidth\": 0, \"ticks\": \"\"}, \"colorscale\": [[0.0, \"#0d0887\"], [0.1111111111111111, \"#46039f\"], [0.2222222222222222, \"#7201a8\"], [0.3333333333333333, \"#9c179e\"], [0.4444444444444444, \"#bd3786\"], [0.5555555555555556, \"#d8576b\"], [0.6666666666666666, \"#ed7953\"], [0.7777777777777778, \"#fb9f3a\"], [0.8888888888888888, \"#fdca26\"], [1.0, \"#f0f921\"]], \"type\": \"histogram2d\"}], \"histogram2dcontour\": [{\"colorbar\": {\"outlinewidth\": 0, \"ticks\": \"\"}, \"colorscale\": [[0.0, \"#0d0887\"], [0.1111111111111111, \"#46039f\"], [0.2222222222222222, \"#7201a8\"], [0.3333333333333333, \"#9c179e\"], [0.4444444444444444, \"#bd3786\"], [0.5555555555555556, \"#d8576b\"], [0.6666666666666666, \"#ed7953\"], [0.7777777777777778, \"#fb9f3a\"], [0.8888888888888888, \"#fdca26\"], [1.0, \"#f0f921\"]], \"type\": \"histogram2dcontour\"}], \"mesh3d\": [{\"colorbar\": {\"outlinewidth\": 0, \"ticks\": \"\"}, \"type\": \"mesh3d\"}], \"parcoords\": [{\"line\": {\"colorbar\": {\"outlinewidth\": 0, \"ticks\": \"\"}}, \"type\": \"parcoords\"}], \"pie\": [{\"automargin\": true, \"type\": \"pie\"}], \"scatter\": [{\"marker\": {\"colorbar\": {\"outlinewidth\": 0, \"ticks\": \"\"}}, \"type\": \"scatter\"}], \"scatter3d\": [{\"line\": {\"colorbar\": {\"outlinewidth\": 0, \"ticks\": \"\"}}, \"marker\": {\"colorbar\": {\"outlinewidth\": 0, \"ticks\": \"\"}}, \"type\": \"scatter3d\"}], \"scattercarpet\": [{\"marker\": {\"colorbar\": {\"outlinewidth\": 0, \"ticks\": \"\"}}, \"type\": \"scattercarpet\"}], \"scattergeo\": [{\"marker\": {\"colorbar\": {\"outlinewidth\": 0, \"ticks\": \"\"}}, \"type\": \"scattergeo\"}], \"scattergl\": [{\"marker\": {\"colorbar\": {\"outlinewidth\": 0, \"ticks\": \"\"}}, \"type\": \"scattergl\"}], \"scattermapbox\": [{\"marker\": {\"colorbar\": {\"outlinewidth\": 0, \"ticks\": \"\"}}, \"type\": \"scattermapbox\"}], \"scatterpolar\": [{\"marker\": {\"colorbar\": {\"outlinewidth\": 0, \"ticks\": \"\"}}, \"type\": \"scatterpolar\"}], \"scatterpolargl\": [{\"marker\": {\"colorbar\": {\"outlinewidth\": 0, \"ticks\": \"\"}}, \"type\": \"scatterpolargl\"}], \"scatterternary\": [{\"marker\": {\"colorbar\": {\"outlinewidth\": 0, \"ticks\": \"\"}}, \"type\": \"scatterternary\"}], \"surface\": [{\"colorbar\": {\"outlinewidth\": 0, \"ticks\": \"\"}, \"colorscale\": [[0.0, \"#0d0887\"], [0.1111111111111111, \"#46039f\"], [0.2222222222222222, \"#7201a8\"], [0.3333333333333333, \"#9c179e\"], [0.4444444444444444, \"#bd3786\"], [0.5555555555555556, \"#d8576b\"], [0.6666666666666666, \"#ed7953\"], [0.7777777777777778, \"#fb9f3a\"], [0.8888888888888888, \"#fdca26\"], [1.0, \"#f0f921\"]], \"type\": \"surface\"}], \"table\": [{\"cells\": {\"fill\": {\"color\": \"#EBF0F8\"}, \"line\": {\"color\": \"white\"}}, \"header\": {\"fill\": {\"color\": \"#C8D4E3\"}, \"line\": {\"color\": \"white\"}}, \"type\": \"table\"}]}, \"layout\": {\"annotationdefaults\": {\"arrowcolor\": \"#2a3f5f\", \"arrowhead\": 0, \"arrowwidth\": 1}, \"coloraxis\": {\"colorbar\": {\"outlinewidth\": 0, \"ticks\": \"\"}}, \"colorscale\": {\"diverging\": [[0, \"#8e0152\"], [0.1, \"#c51b7d\"], [0.2, \"#de77ae\"], [0.3, \"#f1b6da\"], [0.4, \"#fde0ef\"], [0.5, \"#f7f7f7\"], [0.6, \"#e6f5d0\"], [0.7, \"#b8e186\"], [0.8, \"#7fbc41\"], [0.9, \"#4d9221\"], [1, \"#276419\"]], \"sequential\": [[0.0, \"#0d0887\"], [0.1111111111111111, \"#46039f\"], [0.2222222222222222, \"#7201a8\"], [0.3333333333333333, \"#9c179e\"], [0.4444444444444444, \"#bd3786\"], [0.5555555555555556, \"#d8576b\"], [0.6666666666666666, \"#ed7953\"], [0.7777777777777778, \"#fb9f3a\"], [0.8888888888888888, \"#fdca26\"], [1.0, \"#f0f921\"]], \"sequentialminus\": [[0.0, \"#0d0887\"], [0.1111111111111111, \"#46039f\"], [0.2222222222222222, \"#7201a8\"], [0.3333333333333333, \"#9c179e\"], [0.4444444444444444, \"#bd3786\"], [0.5555555555555556, \"#d8576b\"], [0.6666666666666666, \"#ed7953\"], [0.7777777777777778, \"#fb9f3a\"], [0.8888888888888888, \"#fdca26\"], [1.0, \"#f0f921\"]]}, \"colorway\": [\"#636efa\", \"#EF553B\", \"#00cc96\", \"#ab63fa\", \"#FFA15A\", \"#19d3f3\", \"#FF6692\", \"#B6E880\", \"#FF97FF\", \"#FECB52\"], \"font\": {\"color\": \"#2a3f5f\"}, \"geo\": {\"bgcolor\": \"white\", \"lakecolor\": \"white\", \"landcolor\": \"#E5ECF6\", \"showlakes\": true, \"showland\": true, \"subunitcolor\": \"white\"}, \"hoverlabel\": {\"align\": \"left\"}, \"hovermode\": \"closest\", \"mapbox\": {\"style\": \"light\"}, \"paper_bgcolor\": \"white\", \"plot_bgcolor\": \"#E5ECF6\", \"polar\": {\"angularaxis\": {\"gridcolor\": \"white\", \"linecolor\": \"white\", \"ticks\": \"\"}, \"bgcolor\": \"#E5ECF6\", \"radialaxis\": {\"gridcolor\": \"white\", \"linecolor\": \"white\", \"ticks\": \"\"}}, \"scene\": {\"xaxis\": {\"backgroundcolor\": \"#E5ECF6\", \"gridcolor\": \"white\", \"gridwidth\": 2, \"linecolor\": \"white\", \"showbackground\": true, \"ticks\": \"\", \"zerolinecolor\": \"white\"}, \"yaxis\": {\"backgroundcolor\": \"#E5ECF6\", \"gridcolor\": \"white\", \"gridwidth\": 2, \"linecolor\": \"white\", \"showbackground\": true, \"ticks\": \"\", \"zerolinecolor\": \"white\"}, \"zaxis\": {\"backgroundcolor\": \"#E5ECF6\", \"gridcolor\": \"white\", \"gridwidth\": 2, \"linecolor\": \"white\", \"showbackground\": true, \"ticks\": \"\", \"zerolinecolor\": \"white\"}}, \"shapedefaults\": {\"line\": {\"color\": \"#2a3f5f\"}}, \"ternary\": {\"aaxis\": {\"gridcolor\": \"white\", \"linecolor\": \"white\", \"ticks\": \"\"}, \"baxis\": {\"gridcolor\": \"white\", \"linecolor\": \"white\", \"ticks\": \"\"}, \"bgcolor\": \"#E5ECF6\", \"caxis\": {\"gridcolor\": \"white\", \"linecolor\": \"white\", \"ticks\": \"\"}}, \"title\": {\"x\": 0.05}, \"xaxis\": {\"automargin\": true, \"gridcolor\": \"white\", \"linecolor\": \"white\", \"ticks\": \"\", \"title\": {\"standoff\": 15}, \"zerolinecolor\": \"white\", \"zerolinewidth\": 2}, \"yaxis\": {\"automargin\": true, \"gridcolor\": \"white\", \"linecolor\": \"white\", \"ticks\": \"\", \"title\": {\"standoff\": 15}, \"zerolinecolor\": \"white\", \"zerolinewidth\": 2}}}, \"title\": {\"text\": \"Hyperparameter tuning\"}, \"width\": 800, \"xaxis\": {\"title\": {\"text\": \"n_estimators\"}}, \"yaxis\": {\"title\": {\"text\": \"max_features\"}}},\n",
       "                        {\"responsive\": true}\n",
       "                    ).then(function(){\n",
       "                            \n",
       "var gd = document.getElementById('526619e6-0c79-4059-8a04-a0aebf968c7b');\n",
       "var x = new MutationObserver(function (mutations, observer) {{\n",
       "        var display = window.getComputedStyle(gd).display;\n",
       "        if (!display || display === 'none') {{\n",
       "            console.log([gd, 'removed!']);\n",
       "            Plotly.purge(gd);\n",
       "            observer.disconnect();\n",
       "        }}\n",
       "}});\n",
       "\n",
       "// Listen for the removal of the full notebook cells\n",
       "var notebookContainer = gd.closest('#notebook-container');\n",
       "if (notebookContainer) {{\n",
       "    x.observe(notebookContainer, {childList: true});\n",
       "}}\n",
       "\n",
       "// Listen for the clearing of the current output cell\n",
       "var outputEl = gd.closest('.output');\n",
       "if (outputEl) {{\n",
       "    x.observe(outputEl, {childList: true});\n",
       "}}\n",
       "\n",
       "                        })\n",
       "                };\n",
       "                });\n",
       "            </script>\n",
       "        </div>"
      ]
     },
     "metadata": {},
     "output_type": "display_data"
    }
   ],
   "source": [
    "%matplotlib inline\n",
    "\n",
    "import plotly.graph_objects as go\n",
    "fig = go.Figure(data= go.Surface(z=z, y=y, x=x), layout=layout )\n",
    "fig.update_layout(title='Hyperparameter tuning',\n",
    "                  scene = dict(\n",
    "                    xaxis_title='n_estimators',\n",
    "                    yaxis_title='max_features',\n",
    "                    zaxis_title='mean_test_f1'),\n",
    "                  autosize=False,\n",
    "                  width=800, height=800,\n",
    "                  margin=dict(l=65, r=50, b=65, t=90))\n",
    "fig.show()"
   ]
  },
  {
   "cell_type": "code",
   "execution_count": 211,
   "metadata": {},
   "outputs": [],
   "source": [
    "warnings.simplefilter(action='default', category=Warning)\n"
   ]
  },
  {
   "cell_type": "markdown",
   "metadata": {},
   "source": [
    "# **Modeling and Evaluations 5**"
   ]
  },
  {
   "cell_type": "markdown",
   "metadata": {},
   "source": [
    "__TODO:__\n",
    "Discuss the advantages of each model for each classification task, if any. If there are not advantages, explain why. Is any model better than another? Is the difference significant with 95% confidence? Use proper statistical comparison methods. You must use statistical comparison techniques—be sure they are appropriate for your chosen method of validation as discussed in unit 7 of the course.\n",
    "\n",
    "Give table, how many models you built \n",
    "\n",
    "CV results object from grid search will give all of that information \n",
    "\n",
    "TIP Put in a dataframe in ME5 and then talk about \n",
    "\n",
    "Here's all the models we did, here is the best one (or top 3) \n",
    "\n",
    "Is there one that runs 10x as long and a slightly inferior runs fast \n",
    "\n",
    "Is the difference between models significant? \n",
    "\n",
    "Long method 1: Notebook #6 and use student's paired t test (at bottom), correct t value and folds \n",
    "\n",
    "Long method 2: generate ROC curves for each model \n",
    "\n",
    "If you use ROC as your eval metric, it is statistically sound measure, so if one has a larger area under curve, it is a better model statistically speaking. \n",
    "\n",
    "Can use micro average ROC curve with multiclass problem \n",
    "\n",
    "If you already did both, ask for exceptional points \n",
    "\n",
    "TIP: mlxtend has an 'evaluate' library for significant test \n",
    "\n",
    "Can get comprehensive with paired_ttest5x2cv \n",
    "\n",
    "Calling library and function will spit out exactly what you need "
   ]
  },
  {
   "cell_type": "markdown",
   "metadata": {},
   "source": [
    "# **Modeling and Evaluations 6**"
   ]
  },
  {
   "cell_type": "markdown",
   "metadata": {},
   "source": [
    "__TODO:__ Which attributes from your analysis are most important? Use proper methods discussed in class to evaluate the importance of different attributes. Discuss the results and hypothesize about why certain attributes are more important than others for a given classification task.\n",
    "\n",
    "    Two options: \n",
    "Both tasks are on same dataset.  do two feature importance and opine difference between two \n",
    "\n",
    "Make sure you do feature importance on scaled data if you're using coefficients \n",
    "\n",
    "Use some other type of feature eval technique (mlextend library has multiple options) "
   ]
  },
  {
   "cell_type": "markdown",
   "metadata": {},
   "source": [
    "# **Deployment**"
   ]
  },
  {
   "cell_type": "markdown",
   "metadata": {},
   "source": [
    "### Practicality / Usefulness\n",
    "__TODO:__ How useful is your model for interested parties (i.e., the companies or organizations that might want to use it for prediction)? \n",
    "\n",
    "### Delivering Value\n",
    "__TODO:__ How would you measure the model's value if it was used by these parties? \n",
    "\n",
    "### Implementing in Production\n",
    "__TODO:__ How would your deploy your model for interested parties? \n",
    "\n",
    "### Additional or 'nice to have' Data\n",
    "__TODO:__ What other data should be collected? \n",
    "\n",
    "### Expected Update Cycle\n",
    "__TODO:__ How often would the model need to be updated, etc.? \n",
    "\n",
    "\n",
    "    Address each question (in a subsection) \n",
    "\n",
    "2 ways to go about it \n",
    "\n",
    "Just because you can't predict something in the real world, doesn't necessarily mean you aren't interested in model's ability to predict \n",
    "\n",
    "Predict graduation rate for public schools (schools know their rates.. But they would be interested in what is correlated with grad rates) \n",
    "\n",
    "Maybe it's not useful for prediction, but could be used for EDA "
   ]
  },
  {
   "cell_type": "markdown",
   "metadata": {},
   "source": [
    "# **Exceptional Work**\n",
    "### **Preprocessing**:\n",
    "We would like credit for the large amount of preprocessing that went into our data.  We have a large variety of features in the dataset, many of which required clever feature engineering tricks to improve performance.  \n",
    "* Conversion to sparse matrix took a good bit of research, and continues to be an effort for implementation, since not every model or library will accept a sparse matrix.  This also complicated our pipeline/gridsearch, as we were unable to find an out of the box solution for scaling our data, and then converting to sparse matrix before test/train splits.  We could have incorporated this into a custom transformer feature for use in the pipeline if we had more time.  We ultimately decided against it, since the scaling and transformation to sparse are fairly computationally expensive, we thought it would be more efficient to keep this out of the pipeline (process once globally, instead of once per model). \n",
    "\n",
    "* Conversion of procedure codes and diagnosis codes from multiple columns into a one hot encoded dataframe took a significant amount of time/effort, most of the out of the box libraries we tried would not parse a list object and it took a lot of experimentation and research.  Capturing several columns into a list wasn't complicated, and we contemplated using the Binarizer for all one-hot encoding, but settled on using it first, and then passing to Pandas, since the get_dummies function killed two birds with one stone (one-hot encoding and conversion to sparse). \n",
    "\n",
    "These transformations were necessary to allow modeling on a consumer grade PC, as the dense dataset consumes over 60gb of RAM and takes several hours per training evolution.  Our preprocessing also improved prediction performance and improved manageability, reducing our total featureset footprint from > 40,000 to around 9,000.   \n",
    "\n",
    "### **Pipelines and Grid Search**:\n",
    "We decided to implement Pipelines and Grid Search in order to reduce the copy/paste and number of variables we need to work with.  This is a new concept barely touched on in class, and it required significant amounts of research time to implement before we could move on to model evaluation, visualization and discussion. \n",
    "* We didn't fully utilize the pipeline approach, since we scaled and split our data prior to the pipelines (to save time).  We also didn't try vectorization or any other transformers on the data.  The pipeline did enable us to use the gridsearch function which was extremely useful in hypertuning our parameters.  Passing in several parameters and letting the PC do all of the work testing each parameter variation was incredibly useful, especially being able to output the returned object from the search.\n",
    "* We created several helper functions that incorporated the gridsearch and the output of the gridsearch to help speed up our analysis.  The grid search runs quite long, depending on how much hypertuning we are trying to squeeze in.  Storing the output of the gridsearch as an object, exporting the CV results to .xlsx files and printing the models allowed teammates to pick up a notebook and use the best model parameters without re-running the grid search."
   ]
  },
  {
   "cell_type": "markdown",
   "metadata": {},
   "source": [
    "# References"
   ]
  },
  {
   "cell_type": "markdown",
   "metadata": {},
   "source": [
    "1. <a href=\"https://machinelearningmastery.com/k-fold-cross-validation/\"> https://machinelearningmastery.com/k-fold-cross-validation/ </a> K-Fold Cross Validation\n",
    "2. An Introduction to Statistical Learning with Applications in R. Gareth James, Daniela Witten, Trevor Hastie, Robert Tibshirani. Springer Seventh Printing. p29\n"
   ]
  },
  {
   "cell_type": "code",
   "execution_count": null,
   "metadata": {},
   "outputs": [],
   "source": []
  }
 ],
 "metadata": {
  "kernelspec": {
   "display_name": "Python 3",
   "language": "python",
   "name": "python3"
  },
  "language_info": {
   "codemirror_mode": {
    "name": "ipython",
    "version": 3
   },
   "file_extension": ".py",
   "mimetype": "text/x-python",
   "name": "python",
   "nbconvert_exporter": "python",
   "pygments_lexer": "ipython3",
   "version": "3.7.7"
  },
  "latex_envs": {
   "LaTeX_envs_menu_present": false,
   "autoclose": false,
   "autocomplete": true,
   "bibliofile": "biblio.bib",
   "cite_by": "apalike",
   "current_citInitial": 1,
   "eqLabelWithNumbers": true,
   "eqNumInitial": 1,
   "hotkeys": {
    "equation": "Ctrl-E",
    "itemize": "Ctrl-I"
   },
   "labels_anchors": true,
   "latex_user_defs": false,
   "report_style_numbering": false,
   "user_envs_cfg": false
  },
  "toc": {
   "base_numbering": 1,
   "nav_menu": {},
   "number_sections": false,
   "sideBar": true,
   "skip_h1_title": false,
   "title_cell": "Table of Contents",
   "title_sidebar": "Contents",
   "toc_cell": true,
   "toc_position": {
    "height": "calc(100% - 180px)",
    "left": "10px",
    "top": "150px",
    "width": "285px"
   },
   "toc_section_display": true,
   "toc_window_display": false
  },
  "varInspector": {
   "cols": {
    "lenName": 16,
    "lenType": 16,
    "lenVar": 40
   },
   "kernels_config": {
    "python": {
     "delete_cmd_postfix": "",
     "delete_cmd_prefix": "del ",
     "library": "var_list.py",
     "varRefreshCmd": "print(var_dic_list())"
    },
    "r": {
     "delete_cmd_postfix": ") ",
     "delete_cmd_prefix": "rm(",
     "library": "var_list.r",
     "varRefreshCmd": "cat(var_dic_list()) "
    }
   },
   "oldHeight": 365,
   "position": {
    "height": "40px",
    "left": "789px",
    "right": "20px",
    "top": "119px",
    "width": "630px"
   },
   "types_to_exclude": [
    "module",
    "function",
    "builtin_function_or_method",
    "instance",
    "_Feature"
   ],
   "varInspector_section_display": "none",
   "window_display": false
  }
 },
 "nbformat": 4,
 "nbformat_minor": 4
}
