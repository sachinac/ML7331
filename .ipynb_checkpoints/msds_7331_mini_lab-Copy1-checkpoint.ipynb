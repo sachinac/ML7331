{
 "cells": [
  {
   "cell_type": "markdown",
   "metadata": {},
   "source": [
    "<font size=6> <b> SMU Mini Lab - MSDS7331 - Machine Learning-1 </b> </font>\n",
    "\n",
    "<font size=5> <b> Summer 2020 Group - Sachin, Ikenna, Edgar, Dustin </b></font> \n",
    "\n",
    "\n",
    "\n",
    "\n",
    "<img src=\"https://github.com/sachinac/ML7331/blob/master/data/evaluation-metrics.jpg?raw=true\"> \n",
    "\n",
    "<p align=\"center\"><font size=5> <b> Health Care Fraud Detection  </b></font> </p>"
   ]
  },
  {
   "cell_type": "markdown",
   "metadata": {
    "toc": true
   },
   "source": [
    "<h1>Table of Contents<span class=\"tocSkip\"></span></h1>\n",
    "<div class=\"toc\"><ul class=\"toc-item\"><li><span><a href=\"#Introduction\" data-toc-modified-id=\"Introduction-1\">Introduction</a></span></li><li><span><a href=\"#Import-Libraries\" data-toc-modified-id=\"Import-Libraries-2\">Import Libraries</a></span></li><li><span><a href=\"#Code-Reuse\" data-toc-modified-id=\"Code-Reuse-3\">Code Reuse</a></span></li><li><span><a href=\"#Create-Models\" data-toc-modified-id=\"Create-Models-4\">Create Models</a></span><ul class=\"toc-item\"><li><span><a href=\"#Data-Setup\" data-toc-modified-id=\"Data-Setup-4.1\">Data Setup</a></span><ul class=\"toc-item\"><li><span><a href=\"#Prepare-Data-frame\" data-toc-modified-id=\"Prepare-Data-frame-4.1.1\">Prepare Data frame</a></span></li><li><span><a href=\"#Train-and-Test-Sets\" data-toc-modified-id=\"Train-and-Test-Sets-4.1.2\">Train and Test Sets</a></span></li><li><span><a href=\"#One-Hot-Encoding\" data-toc-modified-id=\"One-Hot-Encoding-4.1.3\">One Hot Encoding</a></span></li><li><span><a href=\"#L2-based-feature-selection\" data-toc-modified-id=\"L2-based-feature-selection-4.1.4\">L2-based feature selection</a></span></li></ul></li><li><span><a href=\"#Logistic-Regression-using-Sparse-Dataset\" data-toc-modified-id=\"Logistic-Regression-using-Sparse-Dataset-4.2\">Logistic Regression using Sparse Dataset</a></span><ul class=\"toc-item\"><li><span><a href=\"#Build-a-Model\" data-toc-modified-id=\"Build-a-Model-4.2.1\">Build a Model</a></span></li><li><span><a href=\"#Confusion-Matrix\" data-toc-modified-id=\"Confusion-Matrix-4.2.2\">Confusion Matrix</a></span><ul class=\"toc-item\"><li><span><a href=\"#ROC-and-PrecisonRecall-Curves\" data-toc-modified-id=\"ROC-and-PrecisonRecall-Curves-4.2.2.1\">ROC and PrecisonRecall Curves</a></span></li></ul></li><li><span><a href=\"#Performance\" data-toc-modified-id=\"Performance-4.2.3\">Performance</a></span><ul class=\"toc-item\"><li><span><a href=\"#Weights\" data-toc-modified-id=\"Weights-4.2.3.1\">Weights</a></span></li><li><span><a href=\"#Performance\" data-toc-modified-id=\"Performance-4.2.3.2\">Performance</a></span></li><li><span><a href=\"#Validation\" data-toc-modified-id=\"Validation-4.2.3.3\">Validation</a></span></li><li><span><a href=\"#Lift-Chart\" data-toc-modified-id=\"Lift-Chart-4.2.3.4\">Lift Chart</a></span></li><li><span><a href=\"#Predictions\" data-toc-modified-id=\"Predictions-4.2.3.5\">Predictions</a></span></li></ul></li><li><span><a href=\"#With-Sparse-Matrix\" data-toc-modified-id=\"With-Sparse-Matrix-4.2.4\">With Sparse Matrix</a></span></li></ul></li><li><span><a href=\"#Support-Vector-Machine\" data-toc-modified-id=\"Support-Vector-Machine-4.3\">Support Vector Machine</a></span></li></ul></li><li><span><a href=\"#Model-Advantages\" data-toc-modified-id=\"Model-Advantages-5\">Model Advantages</a></span><ul class=\"toc-item\"><li><span><a href=\"#Logistic-Regression\" data-toc-modified-id=\"Logistic-Regression-5.1\">Logistic Regression</a></span></li><li><span><a href=\"#Support-Vector-Machine\" data-toc-modified-id=\"Support-Vector-Machine-5.2\">Support Vector Machine</a></span></li></ul></li><li><span><a href=\"#Interpretation\" data-toc-modified-id=\"Interpretation-6\">Interpretation</a></span><ul class=\"toc-item\"><li><span><a href=\"#Interprete-Feature-Importance\" data-toc-modified-id=\"Interprete-Feature-Importance-6.1\">Interprete Feature Importance</a></span></li><li><span><a href=\"#Interprete-Support-Vectors\" data-toc-modified-id=\"Interprete-Support-Vectors-6.2\">Interprete Support Vectors</a></span></li></ul></li><li><span><a href=\"#References\" data-toc-modified-id=\"References-7\">References</a></span></li></ul></div>"
   ]
  },
  {
   "cell_type": "markdown",
   "metadata": {},
   "source": [
    "# Introduction"
   ]
  },
  {
   "cell_type": "markdown",
   "metadata": {},
   "source": [
    "For mini lab assignment we are proceeding with model building and evaluation using medicare inpatient claims dataset that we have already analyzed and performed EDA on it in previous lab assignment. Here In order to build different models we need to process this data further before actually using it in the models. As a part of this exercise we are going to build models using logistic regression and support vector machine. These are supervised machine learning algorithms.They are both used to solve classification problems. We will study and evaluate these models in terms of its predictive ability.\n",
    "\n",
    "\n",
    "Brief introduction to classfication algorithms\n",
    "\n",
    "<b> 1. Logistic Regression </b>\n",
    "\n",
    "Logistic regression and support vector machines Logistic regression is an algorithm that is used in solving classification problems. It is a predictive analysis that describes data and explains the relationship between variables. Logistic regression is applied to an input variable(s) (X) where the output variable (y) is a discrete value which ranges between 1 (yes) and 0 (no).\n",
    "\n",
    "\n",
    "<b> 2. Support Vector Machine. </b>\n",
    "\n",
    "The support vector machine is a model used for both classification and regression problems though it is mostly used to solve classification problems. The algorithm creates a hyperplane or line(decision boundary) which separates data into classes. It uses the kernel trick to find the best line separator (decision boundary that has same distance from the boundary point of both classes). It is a clear and more powerful way of learning complex non linear functions.\n",
    "\n",
    "\n",
    "<b> Medicare Inpatient Claims Dataset </b>\n",
    "\n",
    "Original dataset (without EDA) has got <b> 40,474 </b> records and total <b> 79 features </b>. Our EDA concluded that out of 79 only <b>47</b> can be used as predictors. All remaining features either provides additional meaning of the predictors or they are just an ID. For more information visit previous lab <a href=\"https://nbviewer.jupyter.org/github/sachinac/ML7331/blob/master/labs_final/msds_7331_lab1.ipynb\">Notebook </a>\n",
    "\n",
    "\n",
    "After performing EDA Inpatient Medicare Inpatient claims dataset includes predictors as follows:\n",
    "\n",
    "\n",
    "\n",
    "| Type of Predictors | Number of Predictors |\n",
    "| :- | :-\n",
    "|    Nominal categorical |    32   |\n",
    "|     Numerical       |        15            |\n",
    "|   Ordinal Categorical |    0\n",
    "\n",
    "\n",
    "<b> Nominal Categorical Features: </b><br><br>\n",
    "\n",
    "| Feature | Description  |\n",
    "---------|-------------\n",
    "Gender   | Gender of the patient | \n",
    "Race     | Race of the patient | \n",
    "State  | Resident State of the patient |\n",
    "County | County where Patient lives |\n",
    "Alive  | Patient is alive or not |\n",
    "ClmAdmitDiagnosisCode | Admitting Diagnosis Codes |\n",
    "DiagnosisGroupCode | Diagnosis Related groups |\n",
    "Diagnosis codes | ClmDiagnosisCode_1 to ClmDiagnosisCode_10 Diagnosis codes on the claim|\n",
    "Procedure Codes | ClmProcedureCode_1 to ClmProcedureCode_5 Procedue codes |\n",
    "Chronic Conditions | Alzheimer,Heartfailure,KidneyDisease,Cancer,ObstrPulmonary,Depression,Diabetes, <br>IschemicHeart,Osteoporasis, rheumatoidarthritis,stroke (Total 11)|\n",
    "Physician Indicators | AttendingPhysicianPresent,OtherPhysicianPresent,OperatingPhysicianPresent\n",
    "\n",
    " <br><br>\n",
    "\n",
    "\n",
    "\n",
    "\n",
    "<b> Numerical Features: </b><br><br>\n",
    "\n",
    "| Feature | Description  |\n",
    "---------|-------------\n",
    "NoOfMonths_PartACov| Number of months Medicare PartA Coverage |\n",
    "NoOfMonths_PartBCov| Number of months Medicare PartB Coverage |\n",
    "DaysAdmitted | Number of days in hospital |\n",
    "NoPhysician  | Number of physicians on the claim |\n",
    "Age | Age of the patient |\n",
    "NoOfDiag | Number of Diagnosis codes on the claim|\n",
    "NoOfProc | Number of procedure codes on the claim |\n",
    "NoOfChronicCondition | Number of Chronic Conditions of the patient|\n",
    "InscClaimAmtReimbursed | Claim Reimbursement amount |\n",
    "IPAnnualReimbursementAmt | Inpatient Annual Reimbursement |\n",
    "IPAnnualDeductibleAmt | Annual Deductible amount |\n",
    "\n",
    "<b> Ordinal Categorical Features: </b><br>\n",
    "None\n",
    "\n",
    "\n",
    "\n",
    "\n",
    "\n",
    "\n",
    "\n"
   ]
  },
  {
   "cell_type": "markdown",
   "metadata": {},
   "source": [
    "# Import Libraries"
   ]
  },
  {
   "cell_type": "code",
   "execution_count": 1,
   "metadata": {},
   "outputs": [],
   "source": [
    "import pandas  as pd\n",
    "import numpy   as np\n",
    "import seaborn as sns\n",
    "import timeit  as t1\n",
    "import matplotlib.pyplot as plt\n",
    "\n",
    "from sklearn.preprocessing import OneHotEncoder\n",
    "from sklearn.model_selection import train_test_split\n",
    "from sklearn.preprocessing import MaxAbsScaler\n",
    "from scipy.sparse import hstack\n",
    "from sklearn.linear_model import LogisticRegression\n",
    "from sklearn.utils.validation import column_or_1d\n",
    "from sklearn.feature_selection import SelectFromModel\n",
    "from sklearn.metrics import roc_curve\n",
    "from sklearn.metrics import RocCurveDisplay\n",
    "from sklearn.metrics import precision_recall_curve\n",
    "from sklearn.metrics import PrecisionRecallDisplay\n",
    "from sklearn import metrics\n",
    "from sklearn.svm import LinearSVC\n",
    "from sklearn.model_selection import ShuffleSplit\n",
    "\n",
    "from scipy.sparse import csr_matrix\n",
    "from numpy import array\n",
    "\n"
   ]
  },
  {
   "cell_type": "markdown",
   "metadata": {},
   "source": [
    "# Code Reuse"
   ]
  },
  {
   "cell_type": "markdown",
   "metadata": {},
   "source": [
    "This code was obtained from <a href=\"https://github.com/DTrimarchi10/confusion_matrix/blob/master/cf_matrix.py\"> github URL</a>. Found useful to visualize confusion matrix with Accuracy,Precision,Recall and F1 Score. Resuing t"
   ]
  },
  {
   "cell_type": "code",
   "execution_count": 2,
   "metadata": {},
   "outputs": [],
   "source": [
    "def make_confusion_matrix(cf,\n",
    "                          group_names=None,\n",
    "                          categories='auto',\n",
    "                          count=True,\n",
    "                          percent=True,\n",
    "                          cbar=True,\n",
    "                          xyticks=True,\n",
    "                          xyplotlabels=True,\n",
    "                          sum_stats=True,\n",
    "                          figsize=None,\n",
    "                          cmap='Blues',\n",
    "                          title=None):\n",
    "    '''\n",
    "    This function will make a pretty plot of an sklearn Confusion Matrix cm using a Seaborn heatmap visualization.\n",
    "    Arguments\n",
    "    ---------\n",
    "    cf:            confusion matrix to be passed in\n",
    "    group_names:   List of strings that represent the labels row by row to be shown in each square.\n",
    "    categories:    List of strings containing the categories to be displayed on the x,y axis. Default is 'auto'\n",
    "    count:         If True, show the raw number in the confusion matrix. Default is True.\n",
    "    normalize:     If True, show the proportions for each category. Default is True.\n",
    "    cbar:          If True, show the color bar. The cbar values are based off the values in the confusion matrix.\n",
    "                   Default is True.\n",
    "    xyticks:       If True, show x and y ticks. Default is True.\n",
    "    xyplotlabels:  If True, show 'True Label' and 'Predicted Label' on the figure. Default is True.\n",
    "    sum_stats:     If True, display summary statistics below the figure. Default is True.\n",
    "    figsize:       Tuple representing the figure size. Default will be the matplotlib rcParams value.\n",
    "    cmap:          Colormap of the values displayed from matplotlib.pyplot.cm. Default is 'Blues'\n",
    "                   See http://matplotlib.org/examples/color/colormaps_reference.html\n",
    "                   \n",
    "    title:         Title for the heatmap. Default is None.\n",
    "    '''\n",
    "\n",
    "\n",
    "    # CODE TO GENERATE TEXT INSIDE EACH SQUARE\n",
    "    blanks = ['' for i in range(cf.size)]\n",
    "\n",
    "    if group_names and len(group_names)==cf.size:\n",
    "        group_labels = [\"{}\\n\".format(value) for value in group_names]\n",
    "    else:\n",
    "        group_labels = blanks\n",
    "\n",
    "    if count:\n",
    "        group_counts = [\"{0:0.0f}\\n\".format(value) for value in cf.flatten()]\n",
    "    else:\n",
    "        group_counts = blanks\n",
    "\n",
    "    if percent:\n",
    "        group_percentages = [\"{0:.2%}\".format(value) for value in cf.flatten()/np.sum(cf)]\n",
    "    else:\n",
    "        group_percentages = blanks\n",
    "\n",
    "    box_labels = [f\"{v1}{v2}{v3}\".strip() for v1, v2, v3 in zip(group_labels,group_counts,group_percentages)]\n",
    "    box_labels = np.asarray(box_labels).reshape(cf.shape[0],cf.shape[1])\n",
    "\n",
    "\n",
    "    # CODE TO GENERATE SUMMARY STATISTICS & TEXT FOR SUMMARY STATS\n",
    "    if sum_stats:\n",
    "        #Accuracy is sum of diagonal divided by total observations\n",
    "        accuracy  = np.trace(cf) / float(np.sum(cf))\n",
    "\n",
    "        #if it is a binary confusion matrix, show some more stats\n",
    "        if len(cf)==2:\n",
    "            #Metrics for Binary Confusion Matrices\n",
    "            precision = cf[1,1] / sum(cf[:,1])\n",
    "            recall    = cf[1,1] / sum(cf[1,:])\n",
    "            f1_score  = 2*precision*recall / (precision + recall)\n",
    "            stats_text = \"\\n\\nAccuracy={:0.3f}\\nPrecision={:0.3f}\\nRecall={:0.3f}\\nF1 Score={:0.3f}\".format(\n",
    "                accuracy,precision,recall,f1_score)\n",
    "        else:\n",
    "            stats_text = \"\\n\\nAccuracy={:0.3f}\".format(accuracy)\n",
    "    else:\n",
    "        stats_text = \"\"\n",
    "\n",
    "\n",
    "    # SET FIGURE PARAMETERS ACCORDING TO OTHER ARGUMENTS\n",
    "    if figsize==None:\n",
    "        #Get default figure size if not set\n",
    "        figsize = plt.rcParams.get('figure.figsize')\n",
    "\n",
    "    if xyticks==False:\n",
    "        #Do not show categories if xyticks is False\n",
    "        categories=False\n",
    "\n",
    "\n",
    "    # MAKE THE HEATMAP VISUALIZATION\n",
    "    plt.figure(figsize=figsize)\n",
    "    sns.heatmap(cf,annot=box_labels,fmt=\"\",cmap=cmap,cbar=cbar,xticklabels=categories,yticklabels=categories)\n",
    "\n",
    "    if xyplotlabels:\n",
    "        plt.ylabel('True label')\n",
    "        plt.xlabel('Predicted label' + stats_text)\n",
    "    else:\n",
    "        plt.xlabel(stats_text)\n",
    "    \n",
    "    if title:\n",
    "        plt.title(title)"
   ]
  },
  {
   "cell_type": "markdown",
   "metadata": {},
   "source": [
    "# Create Models"
   ]
  },
  {
   "cell_type": "markdown",
   "metadata": {},
   "source": [
    "## Data Setup "
   ]
  },
  {
   "cell_type": "markdown",
   "metadata": {},
   "source": [
    "### Prepare Data frame"
   ]
  },
  {
   "cell_type": "code",
   "execution_count": 3,
   "metadata": {},
   "outputs": [
    {
     "name": "stdout",
     "output_type": "stream",
     "text": [
      "<class 'pandas.core.frame.DataFrame'>\n",
      "Int64Index: 40474 entries, 0 to 40473\n",
      "Data columns (total 47 columns):\n",
      " #   Column                           Non-Null Count  Dtype  \n",
      "---  ------                           --------------  -----  \n",
      " 0   NoOfMonths_PartACov              40474 non-null  int64  \n",
      " 1   NoOfMonths_PartBCov              40474 non-null  int64  \n",
      " 2   DaysAdmitted                     40474 non-null  int64  \n",
      " 3   Age                              40474 non-null  int64  \n",
      " 4   NoPhysician                      40474 non-null  int64  \n",
      " 5   NoOfDiag                         40474 non-null  int64  \n",
      " 6   NoOfProc                         40474 non-null  int64  \n",
      " 7   NoOfChronicCondition             40474 non-null  int64  \n",
      " 8   InscClaimAmtReimbursed           40474 non-null  float64\n",
      " 9   IPAnnualReimbursementAmt         40474 non-null  float64\n",
      " 10  IPAnnualDeductibleAmt            40474 non-null  float64\n",
      " 11  Race                             40474 non-null  object \n",
      " 12  Gender                           40474 non-null  object \n",
      " 13  State                            40474 non-null  object \n",
      " 14  County                           40474 non-null  object \n",
      " 15  Alive                            40474 non-null  object \n",
      " 16  ClmAdmitDiagnosisCode            40474 non-null  object \n",
      " 17  DiagnosisGroupCode               40474 non-null  object \n",
      " 18  ClmDiagnosisCode_1               40474 non-null  object \n",
      " 19  ClmDiagnosisCode_2               40474 non-null  object \n",
      " 20  ClmDiagnosisCode_3               40474 non-null  object \n",
      " 21  ClmDiagnosisCode_4               40474 non-null  object \n",
      " 22  ClmDiagnosisCode_5               40474 non-null  object \n",
      " 23  ClmDiagnosisCode_6               40474 non-null  object \n",
      " 24  ClmDiagnosisCode_7               40474 non-null  object \n",
      " 25  ClmDiagnosisCode_8               40474 non-null  object \n",
      " 26  ClmDiagnosisCode_9               40474 non-null  object \n",
      " 27  ClmDiagnosisCode_10              40474 non-null  object \n",
      " 28  ClmProcedureCode_1               40474 non-null  object \n",
      " 29  ClmProcedureCode_2               40474 non-null  object \n",
      " 30  ClmProcedureCode_3               40474 non-null  object \n",
      " 31  ClmProcedureCode_4               40474 non-null  object \n",
      " 32  ClmProcedureCode_5               40474 non-null  object \n",
      " 33  AttendingPhysician               40474 non-null  object \n",
      " 34  OperatingPhysician               40474 non-null  object \n",
      " 35  OtherPhysician                   40474 non-null  object \n",
      " 36  ChronicCond_Alzheimer            40474 non-null  object \n",
      " 37  ChronicCond_Heartfailure         40474 non-null  object \n",
      " 38  ChronicCond_KidneyDisease        40474 non-null  object \n",
      " 39  ChronicCond_Cancer               40474 non-null  object \n",
      " 40  ChronicCond_ObstrPulmonary       40474 non-null  object \n",
      " 41  ChronicCond_Depression           40474 non-null  object \n",
      " 42  ChronicCond_Diabetes             40474 non-null  object \n",
      " 43  ChronicCond_IschemicHeart        40474 non-null  object \n",
      " 44  ChronicCond_Osteoporasis         40474 non-null  object \n",
      " 45  ChronicCond_rheumatoidarthritis  40474 non-null  object \n",
      " 46  ChronicCond_stroke               40474 non-null  object \n",
      "dtypes: float64(3), int64(8), object(36)\n",
      "memory usage: 14.8+ MB\n",
      "<class 'pandas.core.frame.DataFrame'>\n",
      "Int64Index: 40474 entries, 0 to 40473\n",
      "Data columns (total 47 columns):\n",
      " #   Column                           Non-Null Count  Dtype  \n",
      "---  ------                           --------------  -----  \n",
      " 0   NoOfMonths_PartACov              40474 non-null  int64  \n",
      " 1   NoOfMonths_PartBCov              40474 non-null  int64  \n",
      " 2   DaysAdmitted                     40474 non-null  int64  \n",
      " 3   Age                              40474 non-null  int64  \n",
      " 4   NoPhysician                      40474 non-null  int64  \n",
      " 5   NoOfDiag                         40474 non-null  int64  \n",
      " 6   NoOfProc                         40474 non-null  int64  \n",
      " 7   NoOfChronicCondition             40474 non-null  int64  \n",
      " 8   InscClaimAmtReimbursed           40474 non-null  float64\n",
      " 9   IPAnnualReimbursementAmt         40474 non-null  float64\n",
      " 10  IPAnnualDeductibleAmt            40474 non-null  float64\n",
      " 11  Race                             40474 non-null  object \n",
      " 12  Gender                           40474 non-null  object \n",
      " 13  State                            40474 non-null  object \n",
      " 14  County                           40474 non-null  object \n",
      " 15  Alive                            40474 non-null  object \n",
      " 16  ClmAdmitDiagnosisCode            40474 non-null  object \n",
      " 17  DiagnosisGroupCode               40474 non-null  object \n",
      " 18  ClmDiagnosisCode_1               40474 non-null  object \n",
      " 19  ClmDiagnosisCode_2               40474 non-null  object \n",
      " 20  ClmDiagnosisCode_3               40474 non-null  object \n",
      " 21  ClmDiagnosisCode_4               40474 non-null  object \n",
      " 22  ClmDiagnosisCode_5               40474 non-null  object \n",
      " 23  ClmDiagnosisCode_6               40474 non-null  object \n",
      " 24  ClmDiagnosisCode_7               40474 non-null  object \n",
      " 25  ClmDiagnosisCode_8               40474 non-null  object \n",
      " 26  ClmDiagnosisCode_9               40474 non-null  object \n",
      " 27  ClmDiagnosisCode_10              40474 non-null  object \n",
      " 28  ClmProcedureCode_1               40474 non-null  object \n",
      " 29  ClmProcedureCode_2               40474 non-null  object \n",
      " 30  ClmProcedureCode_3               40474 non-null  object \n",
      " 31  ClmProcedureCode_4               40474 non-null  object \n",
      " 32  ClmProcedureCode_5               40474 non-null  object \n",
      " 33  AttendingPhysician               40474 non-null  object \n",
      " 34  OperatingPhysician               40474 non-null  object \n",
      " 35  OtherPhysician                   40474 non-null  object \n",
      " 36  ChronicCond_Alzheimer            40474 non-null  object \n",
      " 37  ChronicCond_Heartfailure         40474 non-null  object \n",
      " 38  ChronicCond_KidneyDisease        40474 non-null  object \n",
      " 39  ChronicCond_Cancer               40474 non-null  object \n",
      " 40  ChronicCond_ObstrPulmonary       40474 non-null  object \n",
      " 41  ChronicCond_Depression           40474 non-null  object \n",
      " 42  ChronicCond_Diabetes             40474 non-null  object \n",
      " 43  ChronicCond_IschemicHeart        40474 non-null  object \n",
      " 44  ChronicCond_Osteoporasis         40474 non-null  object \n",
      " 45  ChronicCond_rheumatoidarthritis  40474 non-null  object \n",
      " 46  ChronicCond_stroke               40474 non-null  object \n",
      "dtypes: float64(3), int64(8), object(36)\n",
      "memory usage: 14.8+ MB\n"
     ]
    }
   ],
   "source": [
    "datapath = \"/Users/sachin/Documents/sachin/Education/SMU/Term4/7331/ML7331/\"\n",
    "\n",
    "#\n",
    "# Load Dataframe from prepared from Lab-1\n",
    "#\n",
    "lab2_df = pd.read_csv(datapath+'data/final_fraud_dataset.csv',index_col=0)\n",
    "\n",
    "#\n",
    "# Recode below categorical variables \n",
    "#\n",
    "#\n",
    "lab2_df['Gender']  = lab2_df['Gender'].replace([1,2],[0,1])\n",
    "lab2_df['RenalDiseaseIndicator']  = lab2_df['RenalDiseaseIndicator'].replace('Y',1)\n",
    "\n",
    "#\n",
    "# Change data types to object for OneHotEncoder. It needs features of type object to \n",
    "# recognize them as a actegorical features.\n",
    "#\n",
    "\n",
    "lab2_df['Race']    = lab2_df['Race'].astype('object')\n",
    "lab2_df['State']   = lab2_df['State'].astype('object')\n",
    "lab2_df['County']  = lab2_df['County'].astype('object')\n",
    "lab2_df['AttendingPhysicianPresent']  = lab2_df['AttendingPhysicianPresent'].astype('object')\n",
    "lab2_df['OtherPhysicianPresent']  = lab2_df['OtherPhysicianPresent'].astype('object')\n",
    "lab2_df['OperatingPhysicianPresent']  = lab2_df['OperatingPhysicianPresent'].astype('object')\n",
    "lab2_df['Gender']  = lab2_df['Gender'].astype('object')\n",
    "\n",
    "\n",
    "float_preds = ['InscClaimAmtReimbursed','IPAnnualReimbursementAmt', 'IPAnnualDeductibleAmt']\n",
    "\n",
    "lab2_df[float_preds]   = lab2_df[float_preds].astype(float)\n",
    "\n",
    "\n",
    "chronic_conditions = [  'ChronicCond_Alzheimer','ChronicCond_Heartfailure',\n",
    "                        'ChronicCond_KidneyDisease','ChronicCond_Cancer',\n",
    "                        'ChronicCond_ObstrPulmonary','ChronicCond_Depression',\n",
    "                        'ChronicCond_Diabetes','ChronicCond_IschemicHeart',\n",
    "                        'ChronicCond_Osteoporasis','ChronicCond_rheumatoidarthritis',\n",
    "                        'ChronicCond_stroke' ]\n",
    "\n",
    "lab2_df[chronic_conditions]  = lab2_df[chronic_conditions].astype('object')\n",
    "\n",
    "numeric_preds     = [   'NoOfMonths_PartACov','NoOfMonths_PartBCov',\n",
    "                        'DaysAdmitted','Age',\n",
    "                        'NoPhysician',\n",
    "                        'NoOfDiag', 'NoOfProc','NoOfChronicCondition'\n",
    "                   ]\n",
    "\n",
    "cat_preds_nominal = ['Race','Gender',\n",
    "                     'State','County',\n",
    "                     'Alive',\n",
    "                     'ClmAdmitDiagnosisCode','DiagnosisGroupCode',\n",
    "                     'ClmDiagnosisCode_1', 'ClmDiagnosisCode_2', 'ClmDiagnosisCode_3',\n",
    "                     'ClmDiagnosisCode_4', 'ClmDiagnosisCode_5', 'ClmDiagnosisCode_6',\n",
    "                     'ClmDiagnosisCode_7', 'ClmDiagnosisCode_8', 'ClmDiagnosisCode_9',\n",
    "                     'ClmDiagnosisCode_10',\n",
    "                     'ClmProcedureCode_1', 'ClmProcedureCode_2',\n",
    "                     'ClmProcedureCode_3', 'ClmProcedureCode_4', 'ClmProcedureCode_5',\n",
    "                      'AttendingPhysician','OperatingPhysician','OtherPhysician',\n",
    "                     ]\n",
    "\n",
    "non_preds = ['BeneID', 'DOB', 'DOD','OPAnnualReimbursementAmt','OPAnnualDeductibleAmt',\n",
    "             'OPAnnualReimbursementAmt', 'OPAnnualDeductibleAmt', 'state_usps',\n",
    "             'ClaimID', 'ClaimStartDt', 'ClaimEndDt', 'Provider',\n",
    "             'AttendingPhysician','OperatingPhysician','OtherPhysician',\n",
    "             'AdmissionDt','DischargeDt',\n",
    "             'DRGDesc','ProcedureShortDesc_1', 'ProcedureShortDesc_2', 'ProcedureShortDesc_3',\n",
    "             'ProcedureShortDesc_4', 'ProcedureShortDesc_5', 'DiagnosticDesc_1',\n",
    "             'DiagnosticDesc_2','DiagnosticDesc_3','DiagnosticDesc_4','DiagnosticDesc_5',\n",
    "             'DiagnosticDesc_6', 'DiagnosticDesc_7','DiagnosticDesc_8','DiagnosticDesc_9',\n",
    "             'DiagnosticDesc_10'\n",
    "             ]\n",
    "\n",
    "preds_in_model = numeric_preds + float_preds+ cat_preds_nominal + chronic_conditions\n",
    "\n",
    "Xlab2_df = lab2_df[preds_in_model]\n",
    "Xlab2_df.info()\n",
    "target_df   = lab2_df['PotentialFraud'].replace(['Yes','No'],[1,0]).values\n",
    "\n",
    "#\n",
    "# After assigning proper datatypes here we get cleaned data structure. \n",
    "# However, this is the final structure. We will pass this to  feature selection process to reduce dimension\n",
    "# of this dataset.\n",
    "#\n",
    "\n",
    "Xlab2_df.info()\n",
    "\n"
   ]
  },
  {
   "cell_type": "markdown",
   "metadata": {},
   "source": [
    "### Train and Test Sets"
   ]
  },
  {
   "cell_type": "code",
   "execution_count": 4,
   "metadata": {},
   "outputs": [],
   "source": [
    "X_train, X_test, y_train, y_test = train_test_split(\n",
    "    Xlab2_df,  # predictors\n",
    "    target_df,  # target\n",
    "    test_size=0.2,  # percentage of obs in test set\n",
    "    random_state=86)  # seed to ensure reproducibility"
   ]
  },
  {
   "cell_type": "markdown",
   "metadata": {},
   "source": [
    "### One Hot Encoding"
   ]
  },
  {
   "cell_type": "code",
   "execution_count": 5,
   "metadata": {},
   "outputs": [
    {
     "name": "stdout",
     "output_type": "stream",
     "text": [
      "Training Set - Xtrain_Sparse  (32379, 44241)\n",
      "Testing Set  - Xtest_Sparse   (8095, 44241)\n"
     ]
    }
   ],
   "source": [
    "#################################################################################\n",
    "# One hot encoding into k dummy variables using OneHotEncoder\n",
    "#################################################################################\n",
    "encoder = OneHotEncoder(categories='auto',\n",
    "                        drop=None, # to return k-1, use drop=false to return k dummies\n",
    "                        sparse=True,\n",
    "                        handle_unknown='ignore') # helps deal with rare labels\n",
    "scaler = MaxAbsScaler()\n",
    "\n",
    "#################################################################################\n",
    "#\n",
    "# Apply OneHotEncoding to Training Set and Test Set\n",
    "#\n",
    "# Training Set - Apply Scaling, Fit and Transform \n",
    "# Test Set - Apply Scaling and only transform using same encoder to\n",
    "#            prevent leakage of information\n",
    "# \n",
    "#\n",
    "#################################################################################\n",
    "\n",
    "scaled_cols = scaler.fit_transform(X_train[numeric_preds+float_preds])\n",
    "enc_cols    = encoder.fit_transform(X_train[cat_preds_nominal])\n",
    "\n",
    "Xtrain_Sparse   = hstack([csr_matrix(scaled_cols), enc_cols])\n",
    "\n",
    "scaled_test_cols = scaler.transform(X_test[numeric_preds+float_preds])\n",
    "enc_test_cols    = encoder.transform(X_test[cat_preds_nominal])\n",
    "\n",
    "Xtest_Sparse     = hstack([csr_matrix(scaled_test_cols), enc_test_cols])\n",
    "\n",
    "#################################################################################\n",
    "# Print Shape of Training and Test Sets Sparse Matrices \n",
    "#################################################################################\n",
    "\n",
    "\n",
    "print('Training Set - Xtrain_Sparse ',Xtrain_Sparse.shape)\n",
    "print('Testing Set  - Xtest_Sparse  ',Xtest_Sparse.shape)"
   ]
  },
  {
   "cell_type": "markdown",
   "metadata": {},
   "source": [
    "###  L2-based feature selection"
   ]
  },
  {
   "cell_type": "markdown",
   "metadata": {},
   "source": [
    "\"Linear Models penalized with the L1(Lasso)/L2(Ridge) norm have sparse solutions: many of their estimated coefficients are zero. When the goal is to reduce the dimensionality of the data to use with another classifier, they can be used along with feature_selection.SelectFromModel to select the non-zero coefficients. In particular, sparse estimators useful for this purpose are the linear_model.Lasso for regression, and of linear_model.LogisticRegression and svm.LinearSVC for classification.\" <a href=\"# References\"> [6]</a>\n",
    "\n",
    "With SVMs and logistic-regression, the parameter C controls the sparsity: the smaller C the fewer features selected. With Lasso, the higher the alpha parameter, the fewer features selected."
   ]
  },
  {
   "cell_type": "code",
   "execution_count": 6,
   "metadata": {},
   "outputs": [
    {
     "name": "stdout",
     "output_type": "stream",
     "text": [
      "Training Set - X1train_Sparse  (32379, 16547)\n",
      "Testing Set  - X1test_Sparse   (8095, 16547)\n"
     ]
    }
   ],
   "source": [
    "lsvc = LinearSVC(C=0.1, penalty=\"l2\", dual=False).fit(Xtrain_Sparse, y_train)\n",
    "model = SelectFromModel(lsvc, prefit=True)\n",
    "X1train_Sparse = model.transform(Xtrain_Sparse)\n",
    "X1test_Sparse  = model.transform(Xtest_Sparse)\n",
    "\n",
    "print('Training Set - X1train_Sparse ',X1train_Sparse.shape)\n",
    "print('Testing Set  - X1test_Sparse  ',X1test_Sparse.shape)"
   ]
  },
  {
   "cell_type": "markdown",
   "metadata": {},
   "source": [
    "## Logistic Regression using Sparse Dataset"
   ]
  },
  {
   "cell_type": "markdown",
   "metadata": {},
   "source": [
    "### Build a Model"
   ]
  },
  {
   "cell_type": "code",
   "execution_count": 7,
   "metadata": {},
   "outputs": [],
   "source": [
    "lr = LogisticRegression(penalty='l2', random_state=86,class_weight=None,solver='sag',n_jobs=-1)\n",
    "fit = lr.fit(Xtrain_Sparse,y_train)\n",
    "y_score = fit.decision_function(Xtest_Sparse)"
   ]
  },
  {
   "cell_type": "code",
   "execution_count": 8,
   "metadata": {},
   "outputs": [
    {
     "name": "stdout",
     "output_type": "stream",
     "text": [
      "[[ 0.13364223 -0.21546742  0.13646132 ... -0.05153417 -0.0390512\n",
      "  -0.34079869]]\n"
     ]
    }
   ],
   "source": [
    " print(fit.coef_)\n",
    "    \n",
    "    "
   ]
  },
  {
   "cell_type": "markdown",
   "metadata": {},
   "source": [
    "### Confusion Matrix"
   ]
  },
  {
   "cell_type": "code",
   "execution_count": 9,
   "metadata": {},
   "outputs": [
    {
     "data": {
      "image/png": "[encoded data removed]",
      "text/plain": [
       "<Figure size 432x288 with 2 Axes>"
      ]
     },
     "metadata": {
      "needs_background": "light"
     },
     "output_type": "display_data"
    }
   ],
   "source": [
    "y_pred = fit.predict(Xtest_Sparse)\n",
    "\n",
    "cnf_matrix = metrics.confusion_matrix(y_test,y_pred)\n",
    "\n",
    "labels = ['True Neg','False Pos','False Neg','True Pos']\n",
    "categories = ['Zero', 'One']\n",
    "make_confusion_matrix(cnf_matrix, \n",
    "                      group_names=labels,\n",
    "                      categories=categories, \n",
    "                      cmap='binary')"
   ]
  },
  {
   "cell_type": "markdown",
   "metadata": {},
   "source": [
    "#### ROC and PrecisonRecall Curves"
   ]
  },
  {
   "cell_type": "code",
   "execution_count": 10,
   "metadata": {},
   "outputs": [
    {
     "data": {
      "image/png": "[encoded data removed]",
      "text/plain": [
       "<Figure size 864x576 with 2 Axes>"
      ]
     },
     "metadata": {
      "needs_background": "light"
     },
     "output_type": "display_data"
    }
   ],
   "source": [
    "fpr, tpr, _ = roc_curve(y_test, y_score, pos_label=fit.classes_[1])\n",
    "roc_display = RocCurveDisplay(fpr=fpr, tpr=tpr)\n",
    "\n",
    "prec, recall, _ = precision_recall_curve(y_test, y_score,\n",
    "                                        pos_label=fit.classes_[1])\n",
    "pr_display = PrecisionRecallDisplay(precision=prec, recall=recall)\n",
    "\n",
    "fig, (ax1, ax2) = plt.subplots(1, 2, figsize=(12, 8))\n",
    "\n",
    "roc_display.plot(ax=ax1)\n",
    "pr_display.plot(ax=ax2)\n",
    "plt.show()"
   ]
  },
  {
   "cell_type": "markdown",
   "metadata": {},
   "source": [
    "### Performance"
   ]
  },
  {
   "cell_type": "code",
   "execution_count": 11,
   "metadata": {},
   "outputs": [
    {
     "ename": "IndexError",
     "evalue": "index 28532 is out of bounds for axis 0 with size 25903",
     "output_type": "error",
     "traceback": [
      "\u001b[0;31m---------------------------------------------------------------------------\u001b[0m",
      "\u001b[0;31mIndexError\u001b[0m                                Traceback (most recent call last)",
      "\u001b[0;32m<ipython-input-11-20c17bafab89>\u001b[0m in \u001b[0;36m<module>\u001b[0;34m\u001b[0m\n\u001b[1;32m     15\u001b[0m \u001b[0;34m\u001b[0m\u001b[0m\n\u001b[1;32m     16\u001b[0m     \u001b[0mX_test\u001b[0m \u001b[0;34m=\u001b[0m \u001b[0mcsr_matrix\u001b[0m\u001b[0;34m(\u001b[0m\u001b[0mX1train_cv\u001b[0m\u001b[0;34m[\u001b[0m\u001b[0mtest_indices\u001b[0m\u001b[0;34m]\u001b[0m\u001b[0;34m)\u001b[0m\u001b[0;34m\u001b[0m\u001b[0;34m\u001b[0m\u001b[0m\n\u001b[0;32m---> 17\u001b[0;31m     \u001b[0my_test\u001b[0m \u001b[0;34m=\u001b[0m \u001b[0my_train\u001b[0m\u001b[0;34m[\u001b[0m\u001b[0mtest_indices\u001b[0m\u001b[0;34m]\u001b[0m\u001b[0;34m\u001b[0m\u001b[0;34m\u001b[0m\u001b[0m\n\u001b[0m\u001b[1;32m     18\u001b[0m \u001b[0;34m\u001b[0m\u001b[0m\n\u001b[1;32m     19\u001b[0m     \u001b[0;31m# train the reusable logisitc regression model on the training data\u001b[0m\u001b[0;34m\u001b[0m\u001b[0;34m\u001b[0m\u001b[0;34m\u001b[0m\u001b[0m\n",
      "\u001b[0;31mIndexError\u001b[0m: index 28532 is out of bounds for axis 0 with size 25903"
     ]
    }
   ],
   "source": [
    "\n",
    "lr_clf = LogisticRegression(penalty='l2', random_state=86,class_weight=None,solver='sag',n_jobs=-1)\n",
    "\n",
    "cv_object = ShuffleSplit( n_splits  = 3,\n",
    "                          test_size = 0.2 )\n",
    "\n",
    "iter_num=0\n",
    "X1train_cv  = X1train_Sparse.todense()\n",
    "# the indices are the rows used for training and testing in each iteration\n",
    "for train_indices, test_indices in cv_object.split(X1train_cv,y_train): \n",
    "    # I will create new variables here so that it is more obvious what \n",
    "    # the code is doing (you can compact this syntax and avoid duplicating memory,\n",
    "    # but it makes this code less readable)\n",
    "    X_train = csr_matrix(X1train_cv[train_indices])\n",
    "    y_train = y_train[train_indices]\n",
    "    \n",
    "    X_test = csr_matrix(X1train_cv[test_indices])\n",
    "    y_test = y_train[test_indices]\n",
    "    \n",
    "    # train the reusable logisitc regression model on the training data\n",
    "    lr_clf.fit(X_train,y_train)  # train object\n",
    "    y_hat = lr_clf.predict(X_test) # get test set precitions\n",
    "\n",
    "    # now let's get the accuracy and confusion matrix for this iterations of training/testing\n",
    "    acc = mt.accuracy_score(y_test,y_hat)\n",
    "    conf = mt.confusion_matrix(y_test,y_hat)\n",
    "    print(\"====Iteration\",iter_num,\" ====\")\n",
    "    print(\"accuracy\", acc )\n",
    "    print(\"confusion matrix\\n\",conf)\n",
    "    iter_num+=1"
   ]
  },
  {
   "cell_type": "code",
   "execution_count": 14,
   "metadata": {},
   "outputs": [
    {
     "data": {
      "text/plain": [
       "25903"
      ]
     },
     "execution_count": 14,
     "metadata": {},
     "output_type": "execute_result"
    }
   ],
   "source": [
    "#train_indices, test_indices = cv_object.split(X1train_cv,y_train)\n",
    "#type(X1train_cv)\n",
    "\n",
    "len(y_train)"
   ]
  },
  {
   "cell_type": "markdown",
   "metadata": {},
   "source": [
    "#### Weights "
   ]
  },
  {
   "cell_type": "markdown",
   "metadata": {},
   "source": [
    "#### Performance"
   ]
  },
  {
   "cell_type": "markdown",
   "metadata": {},
   "source": [
    "#### Validation"
   ]
  },
  {
   "cell_type": "markdown",
   "metadata": {},
   "source": [
    "#### Lift Chart"
   ]
  },
  {
   "cell_type": "markdown",
   "metadata": {},
   "source": [
    "#### Predictions"
   ]
  },
  {
   "cell_type": "markdown",
   "metadata": {},
   "source": [
    "### With Sparse Matrix"
   ]
  },
  {
   "cell_type": "code",
   "execution_count": null,
   "metadata": {},
   "outputs": [],
   "source": []
  },
  {
   "cell_type": "markdown",
   "metadata": {},
   "source": [
    "## Support Vector Machine"
   ]
  },
  {
   "cell_type": "markdown",
   "metadata": {},
   "source": [
    "# Model Advantages"
   ]
  },
  {
   "cell_type": "markdown",
   "metadata": {},
   "source": [
    "## Logistic Regression"
   ]
  },
  {
   "cell_type": "markdown",
   "metadata": {},
   "source": [
    "## Support Vector Machine"
   ]
  },
  {
   "cell_type": "markdown",
   "metadata": {},
   "source": [
    "# Interpretation"
   ]
  },
  {
   "cell_type": "markdown",
   "metadata": {},
   "source": [
    "## Interprete Feature Importance"
   ]
  },
  {
   "cell_type": "markdown",
   "metadata": {},
   "source": [
    "## Interprete Support Vectors"
   ]
  },
  {
   "cell_type": "markdown",
   "metadata": {},
   "source": [
    "# References "
   ]
  },
  {
   "cell_type": "markdown",
   "metadata": {},
   "source": [
    "1. <a href=\"https://www.sv-europe.com/crisp-dm-methodology/#modeling\"> CRISP-DM </a> Methodology\n",
    "2. Understanding <a href=\"https://www.pyimagesearch.com/2016/09/19/understanding-regularization-for-image-classification-and-machine-learning/\"> regularization </a> for classification problems\n",
    "3. Step by step data mining guide using <a href=\"https://www.the-modeling-agency.com/crisp-dm.pdf\"> CRISP-DM </a>\n",
    "4. <a href=\"https://scikit-learn.org/stable/\"> Scikit</a> learn documentation \n",
    "5. Hands on Machine learning with Scikit-learn,Keras by Aurélien Géron (O'reilly Publications) \n",
    "6. Scikit documentation for <a href=\"https://scikit-learn.org/stable/modules/feature_selection.html\"> feature selection </a>\n",
    "7. make_confusion_matrix function <a href=\"https://github.com/DTrimarchi10/confusion_matrix/blob/master/cf_matrix.py\"> github URL</a>\n",
    "8. Scikit <a href=\"https://scikit-learn.org/stable/auto_examples/miscellaneous/plot_display_object_visualization.html#sphx-glr-auto-examples-miscellaneous-plot-display-object-visualization-py\"> Documentation </a>Learn ROC and PrecisionRecall Curves "
   ]
  },
  {
   "cell_type": "code",
   "execution_count": null,
   "metadata": {},
   "outputs": [],
   "source": []
  }
 ],
 "metadata": {
  "kernelspec": {
   "display_name": "Python 3",
   "language": "python",
   "name": "python3"
  },
  "language_info": {
   "codemirror_mode": {
    "name": "ipython",
    "version": 3
   },
   "file_extension": ".py",
   "mimetype": "text/x-python",
   "name": "python",
   "nbconvert_exporter": "python",
   "pygments_lexer": "ipython3",
   "version": "3.7.6"
  },
  "latex_envs": {
   "LaTeX_envs_menu_present": true,
   "autoclose": false,
   "autocomplete": true,
   "bibliofile": "biblio.bib",
   "cite_by": "apalike",
   "current_citInitial": 1,
   "eqLabelWithNumbers": true,
   "eqNumInitial": 1,
   "hotkeys": {
    "equation": "Ctrl-E",
    "itemize": "Ctrl-I"
   },
   "labels_anchors": false,
   "latex_user_defs": false,
   "report_style_numbering": false,
   "user_envs_cfg": false
  },
  "toc": {
   "base_numbering": 1,
   "nav_menu": {},
   "number_sections": false,
   "sideBar": true,
   "skip_h1_title": false,
   "title_cell": "Table of Contents",
   "title_sidebar": "Contents",
   "toc_cell": true,
   "toc_position": {
    "height": "calc(100% - 180px)",
    "left": "10px",
    "top": "150px",
    "width": "270.796875px"
   },
   "toc_section_display": true,
   "toc_window_display": false
  }
 },
 "nbformat": 4,
 "nbformat_minor": 4
}
